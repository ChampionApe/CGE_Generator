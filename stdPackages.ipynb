{
 "cells": [
  {
   "cell_type": "code",
   "execution_count": 1,
   "id": "96d56955-98de-4d81-86c9-f7ee904e1ae5",
   "metadata": {},
   "outputs": [],
   "source": [
    "import os, gams, pandas as pd, numpy as np, pickle, pyDatabases, gmsPython\n",
    "from pyDatabases import gpy, GpyDB, gpyDB, OrdSet, adjMultiIndexDB, adjMultiIndex\n",
    "from pyDatabases.gpyDB_wheels import read, robust, adj, aggregateDB\n",
    "from gmsPython import gmsPy, gmsPyModels, gmsWrite, nestingTree\n",
    "from gmsPython.gmsPyModels import gmsPyGlobals\n",
    "repo = 'CGE_Generator'\n",
    "d = {'main': f\"{os.getcwd().split(repo)[0]}{repo}\"}\n",
    "d.update({'project': os.path.join(d['main'], 'projects'),\n",
    "          'py'  : os.path.join(d['main'],'py'),\n",
    "          'work': os.path.join(d['main'], 'work_folder')})\n",
    "try:\n",
    "    d['curr'] = os.path.join(d['project'],currProject)\n",
    "except NameError:\n",
    "    d['curr'] = os.getcwd()\n",
    "d.update({'data': os.path.join(d['curr'], 'data'),\n",
    "          'gams': os.path.join(d['curr'], 'gams')})\n",
    "# # Load local packages:\n",
    "os.chdir(d['py'])\n",
    "import valueShares, IOfunctions, RAS\n",
    "os.chdir(d['curr'])"
   ]
  },
  {
   "cell_type": "markdown",
   "id": "f49cd2b7-7958-4092-8662-bbf74cc58abe",
   "metadata": {},
   "source": [
    "*Clean up working folder:*"
   ]
  },
  {
   "cell_type": "code",
   "execution_count": 2,
   "id": "7fe8fcd4-5d02-4da0-8f0c-c4fee86542bd",
   "metadata": {},
   "outputs": [
    {
     "name": "stdout",
     "output_type": "stream",
     "text": [
      "No clean-up of work-folder\n"
     ]
    }
   ],
   "source": [
    "try:\n",
    "    if clean_up is True:\n",
    "        temp_gamsdb = [filename for filename in os.listdir(d['work']) if filename.endswith((\".gdx\",\".gms\",\".lst\",\".g00\",\".pf\",\".opt\",\".gmy\"))]\n",
    "        for temp in temp_gamsdb:\n",
    "            try:\n",
    "                os.remove(d['work']+'\\\\'+temp)\n",
    "            except OSError as err:\n",
    "                print('The file ' + temp + ' is still active and was not deleted.')\n",
    "except NameError:\n",
    "    print('No clean-up of work-folder')"
   ]
  },
  {
   "cell_type": "markdown",
   "id": "3aab1d14-c11a-4d3d-8186-6d0fd11d8487",
   "metadata": {},
   "source": [
    "*Plotting:*"
   ]
  },
  {
   "cell_type": "code",
   "execution_count": 3,
   "id": "6ec31a67-c6b8-4f57-90a6-abdb37c77c89",
   "metadata": {},
   "outputs": [],
   "source": [
    "import matplotlib as mpl, matplotlib.pyplot as plt, seaborn\n",
    "from matplotlib import cm\n",
    "from matplotlib.ticker import LinearLocator\n",
    "pd.options.plotting.backend = 'matplotlib'\n",
    "%matplotlib inline\n",
    "plt.style.use('seaborn-whitegrid')\n",
    "mpl.style.use('seaborn')\n",
    "plt.rcParams['font.family'] = 'Palatino Linotype'\n",
    "prop_cycle = plt.rcParams[\"axes.prop_cycle\"]\n",
    "colors = prop_cycle.by_key()[\"color\"]\n",
    "long_colors = ['#1f78b4','#a6cee3','#b2df8a','#33a02c','#fb9a99','#e31a1c','#fdbf6f','#ff7f00','#cab2d6','#6a3d9a','#ffff99','#b15928']"
   ]
  },
  {
   "cell_type": "code",
   "execution_count": 4,
   "id": "211714f5-71a2-4424-825a-1387a8a44a90",
   "metadata": {},
   "outputs": [],
   "source": [
    "def largeFont():\n",
    "    SMALL_SIZE = 24\n",
    "    MEDIUM_SIZE = 28\n",
    "    BIGGER_SIZE = 32\n",
    "    plt.rc('font', size=SMALL_SIZE)          # controls default text sizes\n",
    "    plt.rc('axes', titlesize=BIGGER_SIZE)     # fontsize of the axes title\n",
    "    plt.rc('axes', labelsize=MEDIUM_SIZE)    # fontsize of the x and y labels\n",
    "    plt.rc('xtick', labelsize=SMALL_SIZE)    # fontsize of the tick labels\n",
    "    plt.rc('ytick', labelsize=SMALL_SIZE)    # fontsize of the tick labels\n",
    "    plt.rc('legend', fontsize=SMALL_SIZE)    # legend fontsize\n",
    "    plt.rc('figure', titlesize=BIGGER_SIZE)  # fontsize of the figure title\n",
    "def one_graph():\n",
    "    SMALL_SIZE = 19\n",
    "    MEDIUM_SIZE = 22\n",
    "    BIGGER_SIZE = 25\n",
    "    plt.rc('font', size=SMALL_SIZE)          # controls default text sizes\n",
    "    plt.rc('axes', titlesize=BIGGER_SIZE)     # fontsize of the axes title\n",
    "    plt.rc('axes', labelsize=MEDIUM_SIZE)    # fontsize of the x and y labels\n",
    "    plt.rc('xtick', labelsize=SMALL_SIZE)    # fontsize of the tick labels\n",
    "    plt.rc('ytick', labelsize=SMALL_SIZE)    # fontsize of the tick labels\n",
    "    plt.rc('legend', fontsize=SMALL_SIZE)    # legend fontsize\n",
    "    plt.rc('figure', titlesize=BIGGER_SIZE)  # fontsize of the figure title\n",
    "def mult_graphs():\n",
    "    SMALL_SIZE = 16\n",
    "    MEDIUM_SIZE = 19\n",
    "    BIGGER_SIZE = 22\n",
    "    plt.rc('font', size=SMALL_SIZE)          # controls default text sizes\n",
    "    plt.rc('axes', titlesize=BIGGER_SIZE)     # fontsize of the axes title\n",
    "    plt.rc('axes', labelsize=MEDIUM_SIZE)    # fontsize of the x and y labels\n",
    "    plt.rc('xtick', labelsize=SMALL_SIZE)    # fontsize of the tick labels\n",
    "    plt.rc('ytick', labelsize=SMALL_SIZE)    # fontsize of the tick labels\n",
    "    plt.rc('legend', fontsize=SMALL_SIZE)    # legend fontsize\n",
    "    plt.rc('figure', titlesize=BIGGER_SIZE)  # fontsize of the figure title    "
   ]
  }
 ],
 "metadata": {
  "kernelspec": {
   "display_name": "Python 3 (ipykernel)",
   "language": "python",
   "name": "python3"
  },
  "language_info": {
   "codemirror_mode": {
    "name": "ipython",
    "version": 3
   },
   "file_extension": ".py",
   "mimetype": "text/x-python",
   "name": "python",
   "nbconvert_exporter": "python",
   "pygments_lexer": "ipython3",
   "version": "3.9.7"
  }
 },
 "nbformat": 4,
 "nbformat_minor": 5
}
