{
 "cells": [
  {
   "cell_type": "code",
   "execution_count": 4,
   "id": "902fc87f-29e8-4ea8-81f2-654f634cbabc",
   "metadata": {},
   "outputs": [],
   "source": [
    "from gmsPython.gmsPyModels.gmsPyModels import *"
   ]
  }
 ],
 "metadata": {
  "kernelspec": {
   "display_name": "Python 3 (ipykernel)",
   "language": "python",
   "name": "python3"
  },
  "language_info": {
   "codemirror_mode": {
    "name": "ipython",
    "version": 3
   },
   "file_extension": ".py",
   "mimetype": "text/x-python",
   "name": "python",
   "nbconvert_exporter": "python",
   "pygments_lexer": "ipython3",
   "version": "3.9.7"
  }
 },
 "nbformat": 4,
 "nbformat_minor": 5
}
