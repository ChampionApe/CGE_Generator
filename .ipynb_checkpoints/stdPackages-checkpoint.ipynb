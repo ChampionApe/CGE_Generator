{
 "cells": [
  {
   "cell_type": "markdown",
   "id": "01f53979-b67f-4907-b5f3-36bfff380e33",
   "metadata": {},
   "source": [
    "*Packages:*"
   ]
  },
  {
   "cell_type": "code",
   "execution_count": 1,
   "id": "aa48a105-4f2e-4ffc-a500-40a0644d1bc2",
   "metadata": {},
   "outputs": [],
   "source": [
    "import os, numpy as np, gams, pickle, gmsPython, math\n",
    "from pyDatabases.gpyDB import gpy, GpyDB, DbFromExcel, AggDB, MergeDbs\n",
    "from gmsPython.gamY import Precompiler\n",
    "from functools import reduce"
   ]
  },
  {
   "cell_type": "markdown",
   "id": "96172d4e-349e-4d2c-ad19-79960556ea6c",
   "metadata": {},
   "source": [
    "*Shortcut for directories to use:*"
   ]
  },
  {
   "cell_type": "code",
   "execution_count": 2,
   "id": "96d56955-98de-4d81-86c9-f7ee904e1ae5",
   "metadata": {},
   "outputs": [],
   "source": [
    "repo = 'CGE_Generator'\n",
    "d = {'main': f\"{os.getcwd().split(repo)[0]}{repo}\"}\n",
    "d.update({'project': os.path.join(d['main'], 'projects'),\n",
    "          'py'  : os.path.join(d['main'],'py'),\n",
    "          'work': os.path.join(d['main'], 'work_folder')})\n",
    "try:\n",
    "    d['curr'] = os.path.join(d['project'],currProject)\n",
    "except NameError:\n",
    "    d['curr'] = os.getcwd()\n",
    "d.update({'data': os.path.join(d['curr'], 'data'),\n",
    "          'gams': os.path.join(d['curr'], 'gams')})\n",
    "# # Load local packages:\n",
    "os.chdir(d['py'])\n",
    "from auxfuncs import *\n",
    "# import IOfunctions, IOfunctions_withoutDurables\n",
    "os.chdir(d['curr'])"
   ]
  },
  {
   "cell_type": "markdown",
   "id": "f49cd2b7-7958-4092-8662-bbf74cc58abe",
   "metadata": {},
   "source": [
    "*Clean up working folder:*"
   ]
  },
  {
   "cell_type": "code",
   "execution_count": 2,
   "id": "7fe8fcd4-5d02-4da0-8f0c-c4fee86542bd",
   "metadata": {},
   "outputs": [
    {
     "name": "stdout",
     "output_type": "stream",
     "text": [
      "No clean-up of work-folder\n"
     ]
    }
   ],
   "source": [
    "try:\n",
    "    if clean_up is True:\n",
    "        temp_gamsdb = [filename for filename in os.listdir(d['work']) if filename.endswith((\".gdx\",\".gms\",\".lst\",\".g00\",\".pf\",\".opt\",\".gmy\"))]\n",
    "        for temp in temp_gamsdb:\n",
    "            try:\n",
    "                os.remove(d['work']+'\\\\'+temp)\n",
    "            except OSError as err:\n",
    "                print('The file ' + temp + ' is still active and was not deleted.')\n",
    "except NameError:\n",
    "    print('No clean-up of work-folder')"
   ]
  }
 ],
 "metadata": {
  "kernelspec": {
   "display_name": "Python 3 (ipykernel)",
   "language": "python",
   "name": "python3"
  },
  "language_info": {
   "codemirror_mode": {
    "name": "ipython",
    "version": 3
   },
   "file_extension": ".py",
   "mimetype": "text/x-python",
   "name": "python",
   "nbconvert_exporter": "python",
   "pygments_lexer": "ipython3",
   "version": "3.11.8"
  }
 },
 "nbformat": 4,
 "nbformat_minor": 5
}
