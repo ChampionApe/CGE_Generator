{
 "cells": [
  {
   "cell_type": "code",
   "execution_count": 1,
   "id": "f0e6dbdb-a75b-45e1-a178-366b0b128873",
   "metadata": {},
   "outputs": [],
   "source": [
    "clean_up = True\n",
    "%run StdPackages.ipynb"
   ]
  },
  {
   "cell_type": "code",
   "execution_count": 4,
   "id": "94a451ab-172b-4693-8adc-ae604bbb5d34",
   "metadata": {},
   "outputs": [],
   "source": [
    "from pyDatabases import GpyDB"
   ]
  },
  {
   "cell_type": "markdown",
   "id": "33bcaaa0-9f07-4933-bee6-69ae6bf88bee",
   "metadata": {
    "tags": []
   },
   "source": [
    "# SmallGR: Data"
   ]
  },
  {
   "cell_type": "markdown",
   "id": "fd879793-06f3-401a-ad1a-36637a60c2a4",
   "metadata": {},
   "source": [
    "The ```SmallGR``` model uses processed IO data from another project (```GreenReformKU```). To allow for experiments to go on with the other project, we can choose whether or not to use the latest update of data here:"
   ]
  },
  {
   "cell_type": "code",
   "execution_count": 2,
   "id": "630a211c-57d2-47ba-bf66-50a9d06fe275",
   "metadata": {},
   "outputs": [],
   "source": [
    "import shutil\n",
    "updateFromIoProject = True\n",
    "if updateFromIoProject:\n",
    "    shutil.copy(os.path.join(d['project'], 'GreenReformKU', 'data', 'IO_GR18'), os.path.join(d['data'], 'IO_GR18'))"
   ]
  },
  {
   "cell_type": "markdown",
   "id": "ed45949d-0ef7-4148-9854-76c8af15332c",
   "metadata": {},
   "source": [
    "The ```SmallGR``` model reduces the number of sectors from the ```GR18``` model to four sectors: Waste, energy, and two \"other\" sectors."
   ]
  },
  {
   "cell_type": "markdown",
   "id": "70df021e-5d13-420e-80c0-fba8451b03a4",
   "metadata": {},
   "source": [
    "### 1. Load data"
   ]
  },
  {
   "cell_type": "code",
   "execution_count": 3,
   "id": "bd352001-df67-4f5a-81d7-44c0d6ed31bc",
   "metadata": {},
   "outputs": [],
   "source": [
    "name = 'smallGR'\n",
    "error = 1e-7 # tolerance when testing IO balance\n",
    "db = GpyDB(pickle_path = os.path.join(d['data'], f'IO_GR18')) # GR18 IO data\n",
    "db.name = f\"IO_{name}\"\n",
    "glob = gmsPyGlobals.SmallOpen(kwargs_vals = {'t': range(2018,2051)}) # global settings used throughout; interest rates, long run growth rates, time index etc."
   ]
  },
  {
   "cell_type": "markdown",
   "id": "1842d57c-09b2-48b5-a074-d139983e4284",
   "metadata": {},
   "source": [
    "### 2. Aggregation"
   ]
  },
  {
   "cell_type": "markdown",
   "id": "312c1972-9d42-4aa3-bc0d-c8318fdda348",
   "metadata": {},
   "source": [
    "### 2.1 Sector aggregation"
   ]
  },
  {
   "cell_type": "markdown",
   "id": "26b05177-2c10-4fbd-96b7-3e39194d5183",
   "metadata": {},
   "source": [
    "Aggregate sectors further: Waste, energy, two \"other\" sectors."
   ]
  },
  {
   "cell_type": "code",
   "execution_count": 4,
   "id": "ca3dac7c-5f96-4790-b624-e1728ca947b3",
   "metadata": {},
   "outputs": [],
   "source": [
    "w = pd.MultiIndex.from_tuples([(k, 'waste') for k in ('38391','38392','38394','38395')], names = ['s','ss'])\n",
    "e = pd.MultiIndex.from_tuples([(k, 'energy') for k in ('19000','35011','350020')], names = ['s','ss'])\n",
    "non_we = adj.rc_pd(db.get('s_p'), ('not',('or',[w.levels[0], e.levels[0]])))\n",
    "o = pd.MultiIndex.from_tuples([(k, 'other1') for k in non_we[0:round(len(non_we)/2)]]+\n",
    "                              [(k, 'other2') for k in non_we[round(len(non_we)/2):]], names = ['s','ss'])\n",
    "m = pd.MultiIndex.from_tuples(np.hstack([x.values for x in (w,e,o)]), names = ['s','ss']) # full mapping"
   ]
  },
  {
   "cell_type": "markdown",
   "id": "2fb93204-0066-4f4c-9a40-4d3782501fe0",
   "metadata": {},
   "source": [
    "Aggregate durable sectors into one:"
   ]
  },
  {
   "cell_type": "code",
   "execution_count": 5,
   "id": "ff483146-264e-48ba-b095-cc0cc486d6ab",
   "metadata": {},
   "outputs": [],
   "source": [
    "mDur = pd.MultiIndex.from_product([db.get('s_i'), ['I_iK']], names = ['s','ss'])"
   ]
  },
  {
   "cell_type": "markdown",
   "id": "b9b3665f-9f3e-4428-9410-54812c3ac62b",
   "metadata": {},
   "source": [
    "For sectors not included here do nothing: This is done by including (x,x) syntax."
   ]
  },
  {
   "cell_type": "code",
   "execution_count": 6,
   "id": "bff6d7c3-6194-4f6e-8e60-296731e04cd7",
   "metadata": {},
   "outputs": [
    {
     "data": {
      "text/plain": [
       "<pyDatabases.gpyDB.gpyDB.GpyDB at 0x222acacf0a0>"
      ]
     },
     "execution_count": 6,
     "metadata": {},
     "output_type": "execute_result"
    }
   ],
   "source": [
    "m_s = m.union(mDur)\n",
    "m_sector = m_s.union(pd.MultiIndex.from_arrays([adj.rc_pd(db.get('s'), ('not', m_s.levels[0])), adj.rc_pd(db.get('s'), ('not', m_s.levels[0])).rename('ss')]))\n",
    "aggregateDB.aggDB(db, m_sector, aggBy='s',replaceWith='ss')"
   ]
  },
  {
   "cell_type": "markdown",
   "id": "689235a2-d786-449b-bab0-bc117c0d366d",
   "metadata": {},
   "source": [
    "We do the same to the type of goods:"
   ]
  },
  {
   "cell_type": "code",
   "execution_count": 7,
   "id": "85abdb07-4945-4fba-9943-9543d2928254",
   "metadata": {},
   "outputs": [
    {
     "data": {
      "text/plain": [
       "<pyDatabases.gpyDB.gpyDB.GpyDB at 0x222acacf0a0>"
      ]
     },
     "execution_count": 7,
     "metadata": {},
     "output_type": "execute_result"
    }
   ],
   "source": [
    "mDur_n = mDur.set_levels([l.str.strip('I_') for l in mDur.levels]).rename(['n','ntemp'])\n",
    "m_goods = m.rename(['n','ntemp']).union(m.set_levels([level+'_F' for level in m.levels]).rename(['n','ntemp'])).union(mDur_n).union(mDur.rename(['n','ntemp']))\n",
    "m_goods = m_goods.union(pd.MultiIndex.from_arrays([adj.rc_pd(db.get('n'), ('not', m_goods.levels[0])),\n",
    "                                                   adj.rc_pd(db.get('n'), ('not', m_goods.levels[0])).rename('ntemp')]))\n",
    "aggregateDB.aggDB(db, m_goods)"
   ]
  },
  {
   "cell_type": "markdown",
   "id": "5afffd94-970d-44b9-bde5-04aa8ed876fd",
   "metadata": {},
   "source": [
    "### 3. Redefine sparse dummies"
   ]
  },
  {
   "cell_type": "markdown",
   "id": "9eb38b42-7cb3-4bd1-8435-75b90577068c",
   "metadata": {},
   "source": [
    "The dummies ```dImport,dImport_dom,dImport_for``` should indicate whether or not a specific sector draws on foreign+domestic goods, only domestic, or only foreign goods (for each goods category). The simple aggregation procedure does not keep these sparsity patterns. So, here we redo them:"
   ]
  },
  {
   "cell_type": "markdown",
   "id": "8461bb96-0a08-42cc-a81d-5873923dbe7e",
   "metadata": {},
   "source": [
    "Define the subset ```dImport``` as  the sector, domestic good, foreign good (s,n,nn) combinations in data - i.e. where the sector demands both the domestic and foreign product:"
   ]
  },
  {
   "cell_type": "code",
   "execution_count": 8,
   "id": "3a6832dc-fcec-4f4b-a70a-f102a459591a",
   "metadata": {},
   "outputs": [],
   "source": [
    "vD_dom = adjMultiIndex.applyMult(adj.rc_pd(db.get('vD'), db.get('n_p')), db.get('dom2for')) # demand for domestic goods mapped to foreign goods types\n",
    "vD_for = adj.rc_pd(db.get('vD'), db.get('n_F')).rename_axis(index={'n':'nn'}) # demand for foreign goods\n",
    "db['dImport'] = adj.rc_pd(vD_dom, vD_for).reorder_levels(['s','n','nn']).index"
   ]
  },
  {
   "cell_type": "markdown",
   "id": "31d1ef6b-d1c2-40e5-bc9b-c81f6db7a0cc",
   "metadata": {},
   "source": [
    "Define the subset ```dImport_dom``` as the sector, domestic good combination (s,n) where the sector only demands the domestic and not the corresponding foreign good:"
   ]
  },
  {
   "cell_type": "code",
   "execution_count": 9,
   "id": "d399da82-142a-4182-9c66-eb706bb5b137",
   "metadata": {},
   "outputs": [],
   "source": [
    "db['dImport_dom'] = adj.rc_pd(vD_dom, ('not', vD_for)).droplevel('nn').reorder_levels(['s','n']).index"
   ]
  },
  {
   "cell_type": "markdown",
   "id": "ac2f85bf-df0f-44ab-a086-2dd224ea3fd9",
   "metadata": {},
   "source": [
    "Define the subset ```dImport_for``` as the sector, foreign good combinations (s,n) where the sector only demand the foreign and not the corresponding domestic good:"
   ]
  },
  {
   "cell_type": "code",
   "execution_count": 10,
   "id": "d3beb133-1e61-4a29-903f-a4521084e559",
   "metadata": {},
   "outputs": [],
   "source": [
    "db['dImport_for'] = adj.rc_pd(vD_for, ('not', db['dImport'])).index.rename(['s','n']).reorder_levels(['s','n'])"
   ]
  },
  {
   "cell_type": "markdown",
   "id": "34abb3cd-27d2-4474-8276-e06ef1b92020",
   "metadata": {},
   "source": [
    "### 4. Redefining prices and rates:"
   ]
  },
  {
   "cell_type": "markdown",
   "id": "1b84ec36-d769-4672-a171-ef696ee6358d",
   "metadata": {},
   "source": [
    "The symbols in the database are per default summed up when aggregating. This makes sense when we are talking about quantitiy/value symbols, but not when we are using rates (incl. prices). Instead of finding suitable aggregation weights for each symbol, here we simply reset them to standard levels. **NB: This means that any non-standard price definitions are overwritten here**."
   ]
  },
  {
   "cell_type": "code",
   "execution_count": 11,
   "id": "a472b01c-fe26-453d-8400-e0902986d5e8",
   "metadata": {},
   "outputs": [],
   "source": [
    "db['rDepr'] = db.get('vD_depr') / db.get('vD_dur')\n",
    "db['p'] = pd.Series(1, index = db.get('vS').index.levels[-1].union(db.get('n_F')))\n",
    "db['pD_dur'] = adjMultiIndex.applyMult(db.get('p').rename_axis(index = {'n':'nn'}), db.get('dur2inv')).dropna().droplevel('nn') * (glob.db['R_LR'].vals/(1+glob.db['infl_LR'].vals)+db.get('rDepr')-1)\n",
    "db['pD'] = adjMultiIndex.bc(db.get('p'), adj.rc_pd(db.get('qD'), ('not', db.get('dur_p')))).reorder_levels(db['qD'].domains).rename('pD') # span the pure prices 'p' to fit entire qD domain\n",
    "db['pS'] = adjMultiIndex.bc(adj.rc_pd(db.get('p'), ('not', db.get('n_F'))), db.get('qS')).reorder_levels(db['qS'].domains).rename('qS') # span 'p' to fit domain of qS. Drop prices on foreign goods."
   ]
  },
  {
   "cell_type": "markdown",
   "id": "75fed038-f0a5-4d1d-99c5-23ee41c04561",
   "metadata": {},
   "source": [
    "### Export"
   ]
  },
  {
   "cell_type": "code",
   "execution_count": 12,
   "id": "2f74cfa7-fbf8-4049-b38a-f8ee9b67a214",
   "metadata": {},
   "outputs": [],
   "source": [
    "aggregateDB.readSets(db) # read sets from the symbols in data\n",
    "db.export(repo = d['data'])\n",
    "with open(f\"{d['data']}\\\\glob_{name}\", \"wb\") as file:\n",
    "    pickle.dump(glob,file)"
   ]
  }
 ],
 "metadata": {
  "kernelspec": {
   "display_name": "Python 3 (ipykernel)",
   "language": "python",
   "name": "python3"
  },
  "language_info": {
   "codemirror_mode": {
    "name": "ipython",
    "version": 3
   },
   "file_extension": ".py",
   "mimetype": "text/x-python",
   "name": "python",
   "nbconvert_exporter": "python",
   "pygments_lexer": "ipython3",
   "version": "3.9.7"
  }
 },
 "nbformat": 4,
 "nbformat_minor": 5
}
