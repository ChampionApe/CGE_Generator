{
 "cells": [
  {
   "cell_type": "code",
   "execution_count": 1,
   "id": "6100ee07-e0ed-431b-96c0-f5b4303a53e9",
   "metadata": {},
   "outputs": [
    {
     "name": "stdout",
     "output_type": "stream",
     "text": [
      "The file _gams_py_gdb0.gdx is still active and was not deleted.\n",
      "The file _gams_py_gdb3.gdx is still active and was not deleted.\n",
      "The file _gams_py_gdb4.gdx is still active and was not deleted.\n"
     ]
    }
   ],
   "source": [
    "clean_up = True # if True, remove all gams related files from working folder before starting\n",
    "%run stdPackages.ipynb\n",
    "os.chdir(main)\n",
    "%run stdPlotting.ipynb\n",
    "os.chdir(d['py'])\n",
    "from mCGE import CGE_OPT as CGE"
   ]
  },
  {
   "cell_type": "markdown",
   "id": "03ea64ee-5815-4f76-b455-1f660e8de04a",
   "metadata": {},
   "source": [
    "# Identify optimal regulation:"
   ]
  },
  {
   "cell_type": "markdown",
   "id": "72dac691-5593-48d9-b231-991aeb86de7b",
   "metadata": {},
   "source": [
    "*Load model:*"
   ]
  },
  {
   "cell_type": "code",
   "execution_count": 2,
   "id": "a448e018-1294-4969-81aa-2a00a7518461",
   "metadata": {},
   "outputs": [],
   "source": [
    "vName, t0 = 'vDPCG', 2019\n",
    "name = '_'.join([vName, str(t0), 'CGE','calibration'])\n",
    "M = CGE.load(os.path.join(d['data'], name))"
   ]
  },
  {
   "cell_type": "markdown",
   "id": "4c240904-aefe-42b4-b5c7-14db64e64551",
   "metadata": {},
   "source": [
    "*Test some:*"
   ]
  },
  {
   "cell_type": "markdown",
   "id": "a824663f-ad23-4e26-bbaf-33ee176cfca5",
   "metadata": {},
   "source": [
    "Allow the model to manipulate all output taxes (here specified as the rate on outputs from either production or household module):"
   ]
  },
  {
   "cell_type": "code",
   "execution_count": 3,
   "id": "ce6c04f2-0eae-43e4-883a-b2762924fffb",
   "metadata": {},
   "outputs": [
    {
     "name": "stderr",
     "output_type": "stream",
     "text": [
      "C:\\Users\\sxj477\\Anaconda3\\envs\\GAMS46\\Lib\\site-packages\\pyDatabases\\gpyDB\\database.py:525: FutureWarning: The behavior of array concatenation with empty entries is deprecated. In a future version, this will no longer exclude empty items when determining the result dtype. To retain the old behavior, exclude the empty entries before the concat operation.\n",
      "  return ss.combine_first(s)\n"
     ]
    }
   ],
   "source": [
    "# M.m['W'].endogenousPol = [('tauS', ('and', [('or', [M.g('output', m = 'P'), M.g('L', m = 'HH')]),\n",
    "#                                             M.g('tx2E')]\n",
    "#                                    )\n",
    "#                           )] # everything all at once\n",
    "M.m['W'].endogenousPol = [('tauS', ('and', [M.g('L', m = 'HH'), M.g('txE')]))] # labor taxes only\n",
    "M.m['W'].initStuff() # re-initialize groups\n",
    "M.opt = True\n",
    "M.m['W'].active = True"
   ]
  },
  {
   "cell_type": "markdown",
   "id": "f0f32507-9502-4e71-a982-cb631179c12b",
   "metadata": {},
   "source": [
    "Solve:"
   ]
  },
  {
   "cell_type": "code",
   "execution_count": 4,
   "id": "816b2a46-677a-4ee9-83d3-0ed6166bb429",
   "metadata": {},
   "outputs": [],
   "source": [
    "soldb = M.solve(state='B')"
   ]
  },
  {
   "cell_type": "markdown",
   "id": "d645120f-f38e-4717-b570-4645f69a7915",
   "metadata": {},
   "source": [
    "Check optimal solution:"
   ]
  },
  {
   "cell_type": "markdown",
   "id": "092103a0-5b1e-4252-954f-9558410780de",
   "metadata": {},
   "source": [
    "## Optimal regulation with permanent interventions only:"
   ]
  },
  {
   "cell_type": "markdown",
   "id": "cd0808ff-be25-4da1-ac82-1a9ba6d89770",
   "metadata": {},
   "source": [
    "Adjust model to include policy rule - e.g. that production subsidies remain constant over time."
   ]
  },
  {
   "cell_type": "code",
   "execution_count": 5,
   "id": "9eab0884-8556-45fa-a91a-2cf983af61d5",
   "metadata": {},
   "outputs": [],
   "source": [
    "from gmsPython.gmsWrite import Syms \n",
    "m = M.m['W'] # get welfare module\n",
    "instruments = ('or', [M.g('output', m = 'P'), M.g('L', m = 'HH')]) \n",
    "fullCondition = ('and', [instruments, M.g('txE')])\n",
    "# write block of equations\n",
    "policyRule = f\"\"\"\n",
    "$BLOCK B_{m.name}_polRule\n",
    "    E_{m.name}_tauS[t,s,n]{Syms.gpyCondition(fullCondition)}.. tauS[t,s,n]  =E= tauSconst[s,n];\n",
    "$ENDBLOCK\n",
    "\"\"\"\n",
    "# add initial level of new variable to database:\n",
    "M.db.aom(pd.Series(0, index = adj.rc_pd(pd.MultiIndex.from_product([M.db('s'), M.db('n')]), instruments)), name = 'tauSconst')"
   ]
  },
  {
   "cell_type": "markdown",
   "id": "39759889-1a1f-41f1-9930-187d7e1c2614",
   "metadata": {},
   "source": [
    "Definition of groups and text blocks are defined as properties that, by default, are not mutable. However, we can make them mutable by simply calling ```makePropertyDynamic``` method (NOTE: calling this method adjusts the class method, so other instances of the same class are affected as well)."
   ]
  },
  {
   "cell_type": "markdown",
   "id": "11c0daa5-e787-47a7-b15f-fdb62919a987",
   "metadata": {},
   "source": [
    "*Adjust equation text:*"
   ]
  },
  {
   "cell_type": "code",
   "execution_count": 6,
   "id": "c32fb8b5-9a02-4932-825a-0493a4bc9808",
   "metadata": {},
   "outputs": [],
   "source": [
    "k = 'equationText'\n",
    "value = m.equationText+policyRule\n",
    "m.makePropertyDynamic(k, value)"
   ]
  },
  {
   "cell_type": "markdown",
   "id": "1391f396-d548-4aea-ad9b-12c09e59c7a4",
   "metadata": {},
   "source": [
    "*adjust what model blocks are included in the final model:*"
   ]
  },
  {
   "cell_type": "code",
   "execution_count": 7,
   "id": "6ae582a7-9f9e-49dd-bc26-8ef2fcabe51a",
   "metadata": {},
   "outputs": [],
   "source": [
    "k = 'model_B'\n",
    "value = m.model_B+OrdSet([f\"B_{m.name}_polRule\"]) # add new block of equations to be solved\n",
    "m.makePropertyDynamic(k,value)"
   ]
  },
  {
   "cell_type": "markdown",
   "id": "986a4388-ac3b-4385-994e-9c71decc00a9",
   "metadata": {},
   "source": [
    "*Adjust the policy instruments that are endogenous in the optimization stage:*"
   ]
  },
  {
   "cell_type": "code",
   "execution_count": 8,
   "id": "995cbe4b-c87d-4a2e-9121-05e24a6bfe67",
   "metadata": {},
   "outputs": [],
   "source": [
    "M.m['W'].endogenousPol = [('tauS', ('and', [('or', [M.g('output', m = 'P'), M.g('L', m = 'HH')]),\n",
    "                                            M.g('tx2E')])),\n",
    "                          ('tauSconst', instruments)] # everything all at once\n",
    "M.m['W'].initStuff() # re-initialize groups"
   ]
  },
  {
   "cell_type": "markdown",
   "id": "16e375c0-7edb-4dcc-a463-270372212a43",
   "metadata": {},
   "source": [
    "Solve again:"
   ]
  },
  {
   "cell_type": "code",
   "execution_count": 9,
   "id": "953f8bee-905b-4db0-b41c-5f3d49a9bc4c",
   "metadata": {},
   "outputs": [],
   "source": [
    "soldbPermanent = M.solve(state='B')"
   ]
  },
  {
   "cell_type": "markdown",
   "id": "c5eec875-9a20-4916-bfd9-2fdc20b002b5",
   "metadata": {},
   "source": [
    "This time, the optimal taxes are zero:"
   ]
  },
  {
   "cell_type": "code",
   "execution_count": 10,
   "id": "d0e838ed-0fd1-461d-8014-4aad18a258ba",
   "metadata": {},
   "outputs": [
    {
     "data": {
      "text/plain": [
       "s           n         \n",
       "DomProdSec  DomProdSec    0.0\n",
       "HH          L             0.0\n",
       "Name: tauSconst, dtype: float64"
      ]
     },
     "execution_count": 10,
     "metadata": {},
     "output_type": "execute_result"
    }
   ],
   "source": [
    "soldbPermanent('tauSconst')"
   ]
  }
 ],
 "metadata": {
  "kernelspec": {
   "display_name": "Python 3 (ipykernel)",
   "language": "python",
   "name": "python3"
  },
  "language_info": {
   "codemirror_mode": {
    "name": "ipython",
    "version": 3
   },
   "file_extension": ".py",
   "mimetype": "text/x-python",
   "name": "python",
   "nbconvert_exporter": "python",
   "pygments_lexer": "ipython3",
   "version": "3.11.8"
  }
 },
 "nbformat": 4,
 "nbformat_minor": 5
}
