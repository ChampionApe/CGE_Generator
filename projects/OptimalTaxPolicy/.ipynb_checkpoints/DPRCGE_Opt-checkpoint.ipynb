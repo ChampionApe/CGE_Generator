{
 "cells": [
  {
   "cell_type": "code",
   "execution_count": 1,
   "id": "6100ee07-e0ed-431b-96c0-f5b4303a53e9",
   "metadata": {},
   "outputs": [
    {
     "name": "stdout",
     "output_type": "stream",
     "text": [
      "The file _gams_py_gdb0.gdx is still active and was not deleted.\n",
      "The file _gams_py_gdb1.gdx is still active and was not deleted.\n",
      "The file _gams_py_gdb2.gdx is still active and was not deleted.\n",
      "The file _gams_py_gdb3.gdx is still active and was not deleted.\n",
      "The file _gams_py_gdb4.gdx is still active and was not deleted.\n",
      "The file _gams_py_gdb5.gdx is still active and was not deleted.\n"
     ]
    }
   ],
   "source": [
    "clean_up = True # if True, remove all gams related files from working folder before starting\n",
    "%run stdPackages.ipynb\n",
    "os.chdir(main)\n",
    "%run stdPlotting.ipynb\n",
    "os.chdir(d['py'])\n",
    "from mCGE import NCP_CGE as CGE"
   ]
  },
  {
   "cell_type": "markdown",
   "id": "03ea64ee-5815-4f76-b455-1f660e8de04a",
   "metadata": {},
   "source": [
    "# Identify optimal regulation:"
   ]
  },
  {
   "cell_type": "markdown",
   "id": "72dac691-5593-48d9-b231-991aeb86de7b",
   "metadata": {},
   "source": [
    "*Load model:*"
   ]
  },
  {
   "cell_type": "code",
   "execution_count": 2,
   "id": "a448e018-1294-4969-81aa-2a00a7518461",
   "metadata": {},
   "outputs": [],
   "source": [
    "vName, t0 = 'vDPRCGE', 2019\n",
    "name = '_'.join([vName, str(t0), 'CGE','calibration'])\n",
    "M = CGE.load(os.path.join(d['data'], name))\n",
    "dbs  = {}\n",
    "dbs['Baseline'] = dbBaseline = M.db.copy() # store baseline model for later"
   ]
  },
  {
   "cell_type": "markdown",
   "id": "1f21e065-7086-4fda-8636-c2ad2fd51f51",
   "metadata": {},
   "source": [
    "## 1. Add emission regulation"
   ]
  },
  {
   "cell_type": "markdown",
   "id": "1c43c768-6722-4a8c-8743-5b77fe13c0b2",
   "metadata": {},
   "source": [
    "This solves the model with various emission regulation and stores the solutions."
   ]
  },
  {
   "cell_type": "markdown",
   "id": "78ee7657-873c-412d-a92b-1141e7069b97",
   "metadata": {},
   "source": [
    "*Single year targets (SYT) with zero taxes in non-binding years:*"
   ]
  },
  {
   "cell_type": "code",
   "execution_count": 3,
   "id": "e4fcfb53-61d2-49d6-84d2-47d3aebfeed4",
   "metadata": {},
   "outputs": [
    {
     "name": "stderr",
     "output_type": "stream",
     "text": [
      "C:\\Users\\sxj477\\Anaconda3\\envs\\GAMS46\\Lib\\site-packages\\pyDatabases\\gpyDB\\database.py:525: FutureWarning: The behavior of array concatenation with empty entries is deprecated. In a future version, this will no longer exclude empty items when determining the result dtype. To retain the old behavior, exclude the empty entries before the concat operation.\n",
      "  return ss.combine_first(s)\n",
      "C:\\Users\\sxj477\\Anaconda3\\envs\\GAMS46\\Lib\\site-packages\\pyDatabases\\gpyDB\\database.py:525: FutureWarning: The behavior of array concatenation with empty entries is deprecated. In a future version, this will no longer exclude empty items when determining the result dtype. To retain the old behavior, exclude the empty entries before the concat operation.\n",
      "  return ss.combine_first(s)\n"
     ]
    },
    {
     "data": {
      "text/plain": [
       "<pyDatabases.gpyDB.gpyDB.GpyDB at 0x27c53cf3610>"
      ]
     },
     "execution_count": 3,
     "metadata": {},
     "output_type": "execute_result"
    }
   ],
   "source": [
    "M.updateRegulation('SYT') # add SYT-type regulation\n",
    "M.m['M'].initStuff() # re-initialize group definitions etc.\n",
    "dbs[M.regulation] = M.solve(state = 'B')\n",
    "MergeDbs.merge(M.db, dbs['SYT']) # use this as the new starting point in the next policy experiments "
   ]
  },
  {
   "cell_type": "markdown",
   "id": "3d81f644-dcae-4465-9ad3-37b25c7ea481",
   "metadata": {},
   "source": [
    "*Single year targets with a hotelling-like rule for non-binding years:*"
   ]
  },
  {
   "cell_type": "code",
   "execution_count": 4,
   "id": "19fc3946-2f12-44ce-ab48-617097926d57",
   "metadata": {},
   "outputs": [],
   "source": [
    "M.updateRegulation('SYT_HR')\n",
    "M.m['M'].initStuff() # re-initialize group definitions etc.\n",
    "dbs[M.regulation] = M.solve(state = 'B')"
   ]
  },
  {
   "cell_type": "markdown",
   "id": "5bb4a576-92e7-46f7-a9d7-42feb5054f68",
   "metadata": {},
   "source": [
    "*Single year targets with policy that maximizes consumer welfare:*"
   ]
  },
  {
   "cell_type": "code",
   "execution_count": 5,
   "id": "7a455e22-4eff-43c6-8f55-ff8b114adaa1",
   "metadata": {},
   "outputs": [],
   "source": [
    "M.updateRegulation('SYT_OPT')\n",
    "M.m['M'].initStuff() # re-initialize group definition etc.\n",
    "dbs[M.regulation] = M.solve(state = 'B')"
   ]
  },
  {
   "cell_type": "markdown",
   "id": "a12cbc12-faed-47a6-a22a-e4221beb0301",
   "metadata": {},
   "source": [
    "*Linear reduction path:*"
   ]
  },
  {
   "cell_type": "code",
   "execution_count": 6,
   "id": "53b4e9f1-a560-405b-8dce-76e1318bfad4",
   "metadata": {},
   "outputs": [],
   "source": [
    "M.updateRegulation('LRP')\n",
    "M.opt, M.m['W'].active = False, False \n",
    "M.m['M'].initStuff() # re-initialize group definition etc.\n",
    "dbs[M.regulation] = M.solve(state = 'B')"
   ]
  },
  {
   "cell_type": "markdown",
   "id": "2b4c2b26-7c1e-4b15-9b1c-c148f7153ae5",
   "metadata": {},
   "source": [
    "*Cumulative emission budget:*"
   ]
  },
  {
   "cell_type": "code",
   "execution_count": 7,
   "id": "cb2b0a3e-9529-4792-b318-87122454f836",
   "metadata": {},
   "outputs": [],
   "source": [
    "M.updateRegulation('EB_HR')\n",
    "M.opt, M.m['W'].active = False, False \n",
    "M.m['M'].initStuff() # re-initialize group definitions etc.\n",
    "dbs[M.regulation] = M.solve(state = 'B')"
   ]
  },
  {
   "cell_type": "markdown",
   "id": "d774e475-bd87-46ff-8817-b887d08900eb",
   "metadata": {},
   "source": [
    "*Cumulative emission budget policy that maximizes consumer welfare:*"
   ]
  },
  {
   "cell_type": "code",
   "execution_count": 8,
   "id": "c8a5dba1-9cd5-42fc-acf8-36f370df5ddc",
   "metadata": {},
   "outputs": [
    {
     "name": "stderr",
     "output_type": "stream",
     "text": [
      "C:\\Users\\sxj477\\Anaconda3\\envs\\GAMS46\\Lib\\site-packages\\pyDatabases\\gpyDB\\database.py:525: FutureWarning: The behavior of array concatenation with empty entries is deprecated. In a future version, this will no longer exclude empty items when determining the result dtype. To retain the old behavior, exclude the empty entries before the concat operation.\n",
      "  return ss.combine_first(s)\n"
     ]
    }
   ],
   "source": [
    "MergeDbs.merge(M.db, dbs['SYT_OPT']) # use EB_HR as the new initial point \n",
    "M.updateRegulation('EB_OPT')\n",
    "M.m['M'].initStuff() # re-initialize group definitions etc.\n",
    "dbs[M.regulation] = M.solve(state = 'B')"
   ]
  }
 ],
 "metadata": {
  "kernelspec": {
   "display_name": "Python 3 (ipykernel)",
   "language": "python",
   "name": "python3"
  },
  "language_info": {
   "codemirror_mode": {
    "name": "ipython",
    "version": 3
   },
   "file_extension": ".py",
   "mimetype": "text/x-python",
   "name": "python",
   "nbconvert_exporter": "python",
   "pygments_lexer": "ipython3",
   "version": "3.11.8"
  }
 },
 "nbformat": 4,
 "nbformat_minor": 5
}
