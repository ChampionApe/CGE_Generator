{
 "cells": [
  {
   "cell_type": "code",
   "execution_count": 1,
   "id": "6100ee07-e0ed-431b-96c0-f5b4303a53e9",
   "metadata": {},
   "outputs": [
    {
     "name": "stdout",
     "output_type": "stream",
     "text": [
      "The file _gams_py_gdb2.gdx is still active and was not deleted.\n",
      "The file _gams_py_gdb3.gdx is still active and was not deleted.\n"
     ]
    }
   ],
   "source": [
    "clean_up = True # if True, remove all gams related files from working folder before starting\n",
    "%run stdPackages.ipynb\n",
    "os.chdir(main)\n",
    "%run stdPlotting.ipynb\n",
    "os.chdir(d['py'])\n",
    "from mCGE import CGE_OPT as CGE"
   ]
  },
  {
   "cell_type": "markdown",
   "id": "03ea64ee-5815-4f76-b455-1f660e8de04a",
   "metadata": {},
   "source": [
    "# Identify optimal regulation:"
   ]
  },
  {
   "cell_type": "markdown",
   "id": "72dac691-5593-48d9-b231-991aeb86de7b",
   "metadata": {},
   "source": [
    "*Load model:*"
   ]
  },
  {
   "cell_type": "code",
   "execution_count": 2,
   "id": "a448e018-1294-4969-81aa-2a00a7518461",
   "metadata": {},
   "outputs": [],
   "source": [
    "vName, t0 = 'vSPCG', 2019\n",
    "name = '_'.join([vName, str(t0), 'CGE','calibration'])\n",
    "M = CGE.load(os.path.join(d['data'], name))"
   ]
  },
  {
   "cell_type": "markdown",
   "id": "5d097af8-ba35-4a14-872f-94718a5bf3e7",
   "metadata": {},
   "source": [
    "Solve baseline and then solve with slightly higher/lower taxes:"
   ]
  },
  {
   "cell_type": "code",
   "execution_count": 3,
   "id": "ec9e6ee8-240b-4327-8995-afa67ede1f62",
   "metadata": {},
   "outputs": [],
   "source": [
    "M.db.mergeInternal()\n",
    "test = M.solve(state = 'B')"
   ]
  },
  {
   "cell_type": "markdown",
   "id": "dd6088e5-9abf-4a61-a8bf-06cc1ba71e20",
   "metadata": {},
   "source": [
    "Solve again:"
   ]
  },
  {
   "cell_type": "code",
   "execution_count": 4,
   "id": "78b9bccb-40e6-4134-a7a6-dc850222d003",
   "metadata": {},
   "outputs": [],
   "source": [
    "M.db.aom(adj.rc_pd(M.db('tauS'), M.g('L',m ='HH'))+0.01, name = 'tauS')\n",
    "M.db.mergeInternal()\n",
    "test2 = M.solve(state = 'B')"
   ]
  },
  {
   "cell_type": "markdown",
   "id": "4ab7578c-c38f-4026-8d86-dcbfeb7ad302",
   "metadata": {},
   "source": [
    "Solve again:"
   ]
  },
  {
   "cell_type": "code",
   "execution_count": 5,
   "id": "1c82b0d6-8044-42a3-87b1-9b42fd27cabf",
   "metadata": {},
   "outputs": [],
   "source": [
    "M.db.aom(adj.rc_pd(M.db('tauS'), M.g('L',m ='HH'))-.02, name = 'tauS')\n",
    "M.db.mergeInternal()\n",
    "test3 = M.solve(state = 'B')"
   ]
  },
  {
   "cell_type": "code",
   "execution_count": 6,
   "id": "a011eb67-f65b-4929-9fca-4916d9dded08",
   "metadata": {},
   "outputs": [
    {
     "data": {
      "text/plain": [
       "s\n",
       "HH   -69.392682\n",
       "Name: vU, dtype: float64"
      ]
     },
     "execution_count": 6,
     "metadata": {},
     "output_type": "execute_result"
    }
   ],
   "source": [
    "k = 'vU'\n",
    "test(k).xs(2019)"
   ]
  },
  {
   "cell_type": "code",
   "execution_count": 7,
   "id": "70caf689-c4cd-4df6-bce0-2c2d93d85569",
   "metadata": {},
   "outputs": [
    {
     "data": {
      "text/plain": [
       "s\n",
       "HH   -69.395057\n",
       "Name: vU, dtype: float64"
      ]
     },
     "execution_count": 7,
     "metadata": {},
     "output_type": "execute_result"
    }
   ],
   "source": [
    "test2(k).xs(2019)"
   ]
  },
  {
   "cell_type": "code",
   "execution_count": 8,
   "id": "759b8e34-7629-45c9-b395-f201227fc173",
   "metadata": {},
   "outputs": [
    {
     "data": {
      "text/plain": [
       "s\n",
       "HH   -69.395033\n",
       "Name: vU, dtype: float64"
      ]
     },
     "execution_count": 8,
     "metadata": {},
     "output_type": "execute_result"
    }
   ],
   "source": [
    "test3(k).xs(2019)"
   ]
  },
  {
   "cell_type": "markdown",
   "id": "a824663f-ad23-4e26-bbaf-33ee176cfca5",
   "metadata": {},
   "source": [
    "Allow the model to manipulate all output taxes (here specified as the rate on outputs from either production or household module):"
   ]
  },
  {
   "cell_type": "code",
   "execution_count": 9,
   "id": "ce6c04f2-0eae-43e4-883a-b2762924fffb",
   "metadata": {},
   "outputs": [
    {
     "name": "stderr",
     "output_type": "stream",
     "text": [
      "C:\\Users\\sxj477\\Anaconda3\\envs\\GAMS46\\Lib\\site-packages\\pyDatabases\\gpyDB\\database.py:525: FutureWarning: The behavior of array concatenation with empty entries is deprecated. In a future version, this will no longer exclude empty items when determining the result dtype. To retain the old behavior, exclude the empty entries before the concat operation.\n",
      "  return ss.combine_first(s)\n"
     ]
    }
   ],
   "source": [
    "M.m['W'].endogenousPol = [('tauS', ('or', [M.g('output', m = 'P'), M.g('L', m = 'HH')]))]\n",
    "# M.m['W'].endogenousPol = [('tauS', M.g('L', m = 'HH'))]\n",
    "M.m['W'].initStuff() # re-initialize groups"
   ]
  },
  {
   "cell_type": "markdown",
   "id": "994c1c62-ad50-4b9e-8604-d11f2994f84a",
   "metadata": {},
   "source": [
    "*Store baseline solution (with name based on regulation type):*"
   ]
  },
  {
   "cell_type": "code",
   "execution_count": 10,
   "id": "9986601d-43dd-4268-8b29-f199925d8ee2",
   "metadata": {},
   "outputs": [],
   "source": [
    "M.db.mergeInternal()\n",
    "M.opt = True\n",
    "M.m['W'].active = True"
   ]
  },
  {
   "cell_type": "markdown",
   "id": "f0f32507-9502-4e71-a982-cb631179c12b",
   "metadata": {},
   "source": [
    "Solve:"
   ]
  },
  {
   "cell_type": "code",
   "execution_count": 11,
   "id": "816b2a46-677a-4ee9-83d3-0ed6166bb429",
   "metadata": {},
   "outputs": [],
   "source": [
    "soldb = M.solve(state='B')"
   ]
  },
  {
   "cell_type": "markdown",
   "id": "406c4e90-c227-4285-824e-d54f082ea916",
   "metadata": {},
   "source": [
    "Taxes:"
   ]
  }
 ],
 "metadata": {
  "kernelspec": {
   "display_name": "Python 3 (ipykernel)",
   "language": "python",
   "name": "python3"
  },
  "language_info": {
   "codemirror_mode": {
    "name": "ipython",
    "version": 3
   },
   "file_extension": ".py",
   "mimetype": "text/x-python",
   "name": "python",
   "nbconvert_exporter": "python",
   "pygments_lexer": "ipython3",
   "version": "3.11.8"
  }
 },
 "nbformat": 4,
 "nbformat_minor": 5
}
