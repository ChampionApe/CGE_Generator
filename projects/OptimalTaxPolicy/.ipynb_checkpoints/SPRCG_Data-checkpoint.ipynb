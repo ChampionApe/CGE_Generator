{
 "cells": [
  {
   "cell_type": "code",
   "execution_count": 1,
   "id": "34b00043-9fa9-4dcf-a7e0-3f5cef9f20b3",
   "metadata": {},
   "outputs": [
    {
     "name": "stdout",
     "output_type": "stream",
     "text": [
      "No clean-up of work-folder\n"
     ]
    }
   ],
   "source": [
    "%run stdPackages.ipynb\n",
    "os.chdir(d['py'])\n",
    "from modelData import *\n",
    "from gmsPython import nestingTree"
   ]
  },
  {
   "cell_type": "markdown",
   "id": "bc090ae6-327e-472e-ab57-44bd351ca9e4",
   "metadata": {},
   "source": [
    "# Model data for SPRCG"
   ]
  },
  {
   "cell_type": "markdown",
   "id": "5ef61091-9673-46dd-bc18-bbfeed5764cf",
   "metadata": {},
   "source": [
    "Static Producers, Ramsey Consumers, Government."
   ]
  },
  {
   "cell_type": "markdown",
   "id": "fc41581f-2db0-4931-80ea-e7b5c53d3a95",
   "metadata": {},
   "source": [
    "#### Load data"
   ]
  },
  {
   "cell_type": "code",
   "execution_count": 2,
   "id": "3ea70026-2b13-425e-93fe-c1fed8d04bf5",
   "metadata": {},
   "outputs": [],
   "source": [
    "t0 = 2019"
   ]
  },
  {
   "cell_type": "markdown",
   "id": "9645d26c-b839-473b-a27a-65540b336c4f",
   "metadata": {},
   "source": [
    "*This creates a copy of the IO data from the ```IOdata``` project into the local data folder*"
   ]
  },
  {
   "cell_type": "code",
   "execution_count": 3,
   "id": "bd2681bc-fdba-4ebd-aa59-014ca76cd091",
   "metadata": {},
   "outputs": [
    {
     "data": {
      "text/plain": [
       "'C:\\\\Users\\\\sxj477\\\\Documents\\\\GitHub\\\\CGE_Generator\\\\projects\\\\OptimalTaxPolicy\\\\data\\\\IO2019_OTP_Simple'"
      ]
     },
     "execution_count": 3,
     "metadata": {},
     "output_type": "execute_result"
    }
   ],
   "source": [
    "ioName = f'IO{t0}_OTP_Simple'\n",
    "f_IOdata = os.path.join(d['project'], 'IOdata','data','processedData', ioName)\n",
    "shutil.copy(f_IOdata, os.path.join(d['data'], ioName))"
   ]
  },
  {
   "cell_type": "markdown",
   "id": "3e123276-c1c6-40be-9dd1-4a9f0bed7c46",
   "metadata": {},
   "source": [
    "*Define main settings:*"
   ]
  },
  {
   "cell_type": "code",
   "execution_count": 4,
   "id": "8746c554-ea7d-4d1d-b59d-afa2884f8ce4",
   "metadata": {},
   "outputs": [],
   "source": [
    "T  = t0 + 10 # set finite time horizon\n",
    "name = 'vSPRCG' # Some global name that carries through all models/data to identify this version"
   ]
  },
  {
   "cell_type": "markdown",
   "id": "b6f3ce63-9709-49ea-9026-e3a3d42f3983",
   "metadata": {},
   "source": [
    "*Load data:*"
   ]
  },
  {
   "cell_type": "code",
   "execution_count": 5,
   "id": "fd1ea570-1afb-4055-930d-e36b74049a3f",
   "metadata": {},
   "outputs": [],
   "source": [
    "db = GpyDB(os.path.join(d['data'], ioName), name = f'{name}_{t0}', ws = d['work'])"
   ]
  },
  {
   "cell_type": "markdown",
   "id": "f5ae2983-d830-4c8f-ba48-596b7f3592a4",
   "metadata": {},
   "source": [
    "*For relevant variables, add yearly index to data (this is currently all of them)*"
   ]
  },
  {
   "cell_type": "code",
   "execution_count": 6,
   "id": "8f40aa40-5037-4531-8654-4262bd97fd00",
   "metadata": {},
   "outputs": [],
   "source": [
    "def add_t0(k):\n",
    "    k.index = stdSort(pd.MultiIndex.from_frame(k.index.to_frame(index=False).assign(t = t0)))\n",
    "[add_t0(db(k)) for k in db.getTypes(['var','par'])];"
   ]
  },
  {
   "cell_type": "markdown",
   "id": "3fd3e946-fa0d-46e6-8633-9dd69d7b604b",
   "metadata": {},
   "source": [
    "*Add various time subsets that we'll rely on:*"
   ]
  },
  {
   "cell_type": "code",
   "execution_count": 7,
   "id": "88df04b9-13a7-45fa-a910-9b151cecf2c7",
   "metadata": {},
   "outputs": [],
   "source": [
    "addTimeToDB(t0, T, db)"
   ]
  },
  {
   "cell_type": "markdown",
   "id": "e4b37f46-3d24-472b-adaa-a5af17dba184",
   "metadata": {},
   "source": [
    "#### Remove sectors and taxes:"
   ]
  },
  {
   "cell_type": "markdown",
   "id": "9f64d8a1-b606-48a8-ad7b-bfb8833caf63",
   "metadata": {},
   "source": [
    "Remove trade and inventory:"
   ]
  },
  {
   "cell_type": "code",
   "execution_count": 8,
   "id": "2bd121f4-5687-468f-b8aa-365fb0b19dcf",
   "metadata": {},
   "outputs": [],
   "source": [
    "c = ('not', ('or', [db('s_f'), pd.Index(['itory'], name = 's'), db('n_F')]))\n",
    "db['qD'] = adj.rc_pd(db('qD'), c)\n",
    "db['d_qD'] = adj.rc_pd(db('d_qD'), c)"
   ]
  },
  {
   "cell_type": "markdown",
   "id": "38154603-49e1-4512-a82a-05acac084bdb",
   "metadata": {},
   "source": [
    "Set zero taxes:"
   ]
  },
  {
   "cell_type": "code",
   "execution_count": 9,
   "id": "ed1bf76a-ce8e-4f2b-b4eb-0ca1b500201c",
   "metadata": {},
   "outputs": [],
   "source": [
    "db['TotalTax'] = adj.rc_pd(pd.Series(0, index = db('TotalTax').index), c, pm = False)\n",
    "db['vTax']     = adj.rc_pd(pd.Series(0, index = db('vTax').index), c, pm = False)"
   ]
  },
  {
   "cell_type": "markdown",
   "id": "e08bd5c9-2bb2-4145-a9a2-84a15001d0f3",
   "metadata": {},
   "source": [
    "#### Remove durables:"
   ]
  },
  {
   "cell_type": "markdown",
   "id": "e0a7be0a-7fc3-4ef5-8c1c-00430c550b18",
   "metadata": {},
   "source": [
    "*We empty the relevant subsets related to durables, because we want to rely on the code that may feature durables. The empty subsets will mean that relevant equations are simply inactive.*"
   ]
  },
  {
   "cell_type": "code",
   "execution_count": 10,
   "id": "65d21228-18a2-4790-9f17-9e7d292d5071",
   "metadata": {},
   "outputs": [],
   "source": [
    "db['qD'] = adj.rc_pd(db('qD'), ('not', db('dur_p')))\n",
    "[db.series.__delitem__(k) for k in ('pD_dur', 'vD_inv','vD_dur','vD_depr') if k in db.symbols];\n",
    "db['dur2inv'] = adj.rc_pd(db('dur2inv'), ('not', db('dur_p')))\n",
    "db['dur_p'] = adj.rc_pd(db('dur_p'), ('not', db('dur_p')))"
   ]
  },
  {
   "cell_type": "markdown",
   "id": "e5816355-f91f-45a2-9dde-4255fccf1e7d",
   "metadata": {},
   "source": [
    "#### Balance IO:"
   ]
  },
  {
   "cell_type": "markdown",
   "id": "5d5ca8e0-adaa-4bd6-a739-e7d826ad5174",
   "metadata": {},
   "source": [
    "*Adjust house supply of labor to match demand + government spending (implicit assumption: government spending financed by lump-sum transfers from households)*"
   ]
  },
  {
   "cell_type": "code",
   "execution_count": 11,
   "id": "23febdef-f276-45f7-bf29-b4ee2b5c7fa1",
   "metadata": {},
   "outputs": [],
   "source": [
    "db.aom(pd.Series((db('qD').xs((t0, 'HH'), level = ['t','s']).sum()\n",
    "                 +db('qD').xs((t0, 'G'), level = ['t','s']).sum()),\n",
    "                 index = adj.rc_pd(db('qS'), db('s_HH')).index),\n",
    "       name = 'qS')"
   ]
  },
  {
   "cell_type": "markdown",
   "id": "b0b7beeb-8918-4b71-8dfe-0770a03f48b9",
   "metadata": {},
   "source": [
    "*Adjust intermediate goods supply to match demand:*"
   ]
  },
  {
   "cell_type": "code",
   "execution_count": 12,
   "id": "96bcae38-e82b-4a67-9d79-9a4e83611ddd",
   "metadata": {},
   "outputs": [],
   "source": [
    "db.aom(pd.Series(adj.rc_pd(db('qD'), db('s_i')).sum(),\n",
    "                 index = adj.rc_pd(db('qS'), db('s_i')).index),\n",
    "       name = 'qS')"
   ]
  },
  {
   "cell_type": "markdown",
   "id": "398261d2-835d-46e5-a5ce-fd0e476e5178",
   "metadata": {},
   "source": [
    "*Adjust production sector's demand for labor and intermediate goods:*"
   ]
  },
  {
   "cell_type": "code",
   "execution_count": 13,
   "id": "103db5fd-b864-49b2-9b01-7a06ed741de4",
   "metadata": {},
   "outputs": [],
   "source": [
    "db.aom(stdSort(pd.Series(0, index = adj.rc_pd(db('qD'), ('and', [db('s_p'), ('not', db('n_p'))])).index)\n",
    "        +adj.rc_pd(db('qS').droplevel('s'), ('not', db('n_p')))\n",
    "        ), name  = 'qD')"
   ]
  },
  {
   "cell_type": "markdown",
   "id": "73ff7879-4593-418b-a02c-f1a7f5ae07db",
   "metadata": {},
   "source": [
    "*Adjust production sector's own consumption to match its total supply:*"
   ]
  },
  {
   "cell_type": "code",
   "execution_count": 14,
   "id": "822e8810-afa4-4202-9dec-e5c0e4736bac",
   "metadata": {},
   "outputs": [],
   "source": [
    "db.aom(adj.rc_pd(db('qS'), db('s_p'))-adj.rc_pd(db('qD'), ('and', [db('n_p'), ('not', db('s_p'))])).sum(),\n",
    "       name = 'qD')"
   ]
  },
  {
   "cell_type": "markdown",
   "id": "572cb176-6e0f-47ce-858e-087e34b68772",
   "metadata": {},
   "source": [
    "## 1. Production module"
   ]
  },
  {
   "cell_type": "markdown",
   "id": "d94efa6e-6f3f-44bf-ba95-f681d58cd656",
   "metadata": {},
   "source": [
    "Add simple nesting:"
   ]
  },
  {
   "cell_type": "code",
   "execution_count": 15,
   "id": "2a2a3de4-8f7c-41d6-8888-de439834fdf3",
   "metadata": {},
   "outputs": [],
   "source": [
    "m_ = pd.MultiIndex.from_tuples([('DomProdSec', 'I_K'),\n",
    "                                ('DomProdSec', 'L'),\n",
    "                                ('DomProdSec', 'DomProdSec_input')], names = ['n','nn'])\n",
    "m = pyDatabases.cartesianProductIndex([db('s_p'), m_])\n",
    "db['nestProduction'] = m"
   ]
  },
  {
   "cell_type": "markdown",
   "id": "dbbf409b-2738-4858-9ea3-a9919a2324b0",
   "metadata": {},
   "source": [
    "Elasticities at the same all around:"
   ]
  },
  {
   "cell_type": "code",
   "execution_count": 16,
   "id": "1680976d-c757-4345-b15b-317884d380fd",
   "metadata": {},
   "outputs": [],
   "source": [
    "db.aom(pd.Series(0.5, index = m.droplevel('nn').unique()), name = 'sigma')"
   ]
  },
  {
   "cell_type": "markdown",
   "id": "bfe1fff7-ca14-44c8-9f1c-7b962f683d4f",
   "metadata": {},
   "source": [
    "Set up simple empty structures for the emission/regulation module:"
   ]
  },
  {
   "cell_type": "code",
   "execution_count": 17,
   "id": "af2cced4-ac18-44c9-87f8-495280d0490e",
   "metadata": {},
   "outputs": [],
   "source": [
    "output = adj.rc_pd(db['qS'], db['s_p']) # output\n",
    "inputs = adj.rc_pd(db['qD'], ('and', [db['s_p'], ('not', db['dur_p'])])) # inputs\n",
    "outShares = output/pyDatabases.pdSum(output, 'n') # output shares\n",
    "db['qCO2'] = (db('qCO2') * outShares).dropna() # overwrite qCO2 to be split into potentially multiple outputs from each sector"
   ]
  },
  {
   "cell_type": "markdown",
   "id": "aa069020-3ebd-47c3-8905-89e26f94a5d3",
   "metadata": {},
   "source": [
    "Tax rates:"
   ]
  },
  {
   "cell_type": "code",
   "execution_count": 18,
   "id": "00cd1120-4235-4dda-a359-12260954a438",
   "metadata": {},
   "outputs": [],
   "source": [
    "db['tauCO2'] = adjMultiIndex.applyMult((db('vTax').xs('Emissions',level='taxTypes') / db('qCO2').replace(0,1)).fillna(0), output.index)\n",
    "db['dtauCO2']= db('tauCO2').index.droplevel('t').unique()\n",
    "db['dqCO2']  = db('qCO2').index.droplevel('t').unique()\n",
    "db.aom(adj.rc_pd(db('TotalTax'), db['s_p'])-db('vTax').xs('Emissions',level='taxTypes'), name = 'tauLump')\n",
    "db.aom(pd.Series(0, index = output.index), name = 'tauS')\n",
    "db.aom(pd.Series(0, index = inputs.index), name = 'tauD')"
   ]
  },
  {
   "cell_type": "markdown",
   "id": "58b34c85-3518-43b3-8fe2-df0981512b34",
   "metadata": {},
   "source": [
    "Define sector-specific prices given regulation:"
   ]
  },
  {
   "cell_type": "code",
   "execution_count": 19,
   "id": "2d6c2e78-6ca7-47e8-8a28-2d3154484369",
   "metadata": {},
   "outputs": [],
   "source": [
    "db.aom(stdSort(adj.rc_pd(((1+db('tauD'))*db('p')).dropna(), inputs)), name = 'pD')"
   ]
  },
  {
   "cell_type": "markdown",
   "id": "0e710a62-b338-4dda-84a8-98840560a805",
   "metadata": {},
   "source": [
    "## 2. Investment module"
   ]
  },
  {
   "cell_type": "markdown",
   "id": "a2af09ef-9713-447e-a0e7-a94e9015663d",
   "metadata": {},
   "source": [
    "*Nesting*"
   ]
  },
  {
   "cell_type": "code",
   "execution_count": 20,
   "id": "72564419-4169-4534-9a54-0373a32bef23",
   "metadata": {},
   "outputs": [],
   "source": [
    "m_ = pd.MultiIndex.from_tuples([('I_K', 'DomProdSec')], names = ['n','nn'])\n",
    "m = pyDatabases.cartesianProductIndex([db('s_i'), m_])\n",
    "db['nestInvestment'] = m"
   ]
  },
  {
   "cell_type": "markdown",
   "id": "6ea36232-7329-4e28-b3bd-43bdbca41473",
   "metadata": {},
   "source": [
    "*Elasticity:*"
   ]
  },
  {
   "cell_type": "code",
   "execution_count": 21,
   "id": "45a5a330-bfc2-4dd6-b0dc-1ddd89887f21",
   "metadata": {},
   "outputs": [],
   "source": [
    "db.aom(pd.Series(.5, index = m.droplevel('nn').unique()), name = 'sigma')"
   ]
  },
  {
   "cell_type": "markdown",
   "id": "1dc510e1-c756-450d-be2d-dda2eb998703",
   "metadata": {},
   "source": [
    "*Tax rates:*"
   ]
  },
  {
   "cell_type": "code",
   "execution_count": 22,
   "id": "27d2e0d3-721e-498b-b036-79e00f11b94e",
   "metadata": {},
   "outputs": [],
   "source": [
    "output = adj.rc_pd(db['qS'], db['s_i']) # output\n",
    "inputs = adj.rc_pd(db['qD'], db['s_i']) # inputs\n",
    "db.aom(adj.rc_pd(db('TotalTax'), db['s_i']), name = 'tauLump')\n",
    "db.aom(pd.Series(0, index = output.index), name = 'tauS')\n",
    "db.aom(pd.Series(0, index = inputs.index), name = 'tauD')\n",
    "db.aom(stdSort(adj.rc_pd(db('tauD')+db('p'), inputs)), name = 'pD')"
   ]
  },
  {
   "cell_type": "markdown",
   "id": "15c218ed-b71a-4205-9527-8a432ebea95e",
   "metadata": {},
   "source": [
    "## 3. Households"
   ]
  },
  {
   "cell_type": "code",
   "execution_count": 23,
   "id": "c11e3c65-cdbb-46c7-a721-ddc8b2484652",
   "metadata": {},
   "outputs": [],
   "source": [
    "m_ = pd.MultiIndex.from_tuples([('C_HH', 'DomProdSec')], names = ['n','nn'])\n",
    "m = pyDatabases.cartesianProductIndex([db('s_HH'), m_])\n",
    "db['nestHH'] = m"
   ]
  },
  {
   "cell_type": "markdown",
   "id": "48132a68-81ec-4e07-ac8d-389c3ebf0dbf",
   "metadata": {},
   "source": [
    "Add mapping from consumption aggregate to labor:"
   ]
  },
  {
   "cell_type": "code",
   "execution_count": 24,
   "id": "772b0bd9-273f-4b44-b191-3266e43af31c",
   "metadata": {},
   "outputs": [],
   "source": [
    "db['L2C'] = pd.MultiIndex.from_arrays([db('s_HH'), pd.Index(['L']*len(db('s_HH')), name = 'n'), ('C_'+db('s_HH')).rename('nn')])"
   ]
  },
  {
   "cell_type": "markdown",
   "id": "ebe60944-b722-44c8-8fa3-531ae2c4fdd0",
   "metadata": {},
   "source": [
    "Elasticities:"
   ]
  },
  {
   "cell_type": "code",
   "execution_count": 25,
   "id": "a8648f08-a931-490f-8631-706c1b0e33b9",
   "metadata": {},
   "outputs": [],
   "source": [
    "db.aom(pd.Series(.5, index = m.droplevel('nn').unique()), name = 'sigma')\n",
    "db.aom(pd.Series(0.25, index = db('s_HH')), name = 'frisch')"
   ]
  },
  {
   "cell_type": "markdown",
   "id": "7a6c095a-fe3e-4820-aacc-b8d28a92b2ba",
   "metadata": {},
   "source": [
    "*Add lump-sum tax used to finance government consumption:*"
   ]
  },
  {
   "cell_type": "code",
   "execution_count": 26,
   "id": "84762c12-7dba-4215-851c-5bf9f0797daa",
   "metadata": {},
   "outputs": [],
   "source": [
    "output = adj.rc_pd(db('qS'), db['s_HH'])\n",
    "inputs = adj.rc_pd(db('qD'), db['s_HH'])\n",
    "db.aom(pd.Series(0, index = inputs.index), name = 'tauD')\n",
    "db.aom(pd.Series(0, index = output.index), name = 'tauS')\n",
    "db.aom(adj.rc_pd(db('qS'), db('s_HH')).groupby(['t','s']).sum()-adj.rc_pd(db('qD'), db('s_HH')).groupby(['t','s']).sum(), name = 'tauLump')\n",
    "db.aom(adj.rc_pd(db('tauLump'), db('s_HH')).copy(), name = 'TotalTax')"
   ]
  },
  {
   "cell_type": "markdown",
   "id": "2a499d68-038a-4c19-8e0d-965746ce40f6",
   "metadata": {},
   "source": [
    "Define sector-specific prices given regulation:"
   ]
  },
  {
   "cell_type": "code",
   "execution_count": 27,
   "id": "05274bcc-5c84-4b46-bee2-2926a35379eb",
   "metadata": {},
   "outputs": [],
   "source": [
    "db.aom(stdSort(adj.rc_pd((1+db('tauD'))*db('p'), inputs)), name = 'pD')\n",
    "db.aom(stdSort(adj.rc_pd(db('p')*(1-db('tauS')), output)), name = 'pS') # in this case pS is the after-tax wage rate"
   ]
  },
  {
   "cell_type": "markdown",
   "id": "9e563939-9934-407b-aa5f-3b666b8b1eba",
   "metadata": {},
   "source": [
    "Specify that the household starts with zero wealth:"
   ]
  },
  {
   "cell_type": "code",
   "execution_count": 28,
   "id": "0166dc89-e59b-4a18-9a02-4b40cee84235",
   "metadata": {},
   "outputs": [],
   "source": [
    "# db.aom(pd.Series(0, index = adj.rc_pd(db('tauLump'), db('s_HH')).index), name = 'vA')\n",
    "db.aom(pd.Series(1, index = adj.rc_pd(db('tauLump'), db('s_HH')).index), name = 'vA') # start with a small level of assets"
   ]
  },
  {
   "cell_type": "markdown",
   "id": "7df96c35-1726-4f4e-adf4-d82c0439d283",
   "metadata": {},
   "source": [
    "## 4. Government"
   ]
  },
  {
   "cell_type": "markdown",
   "id": "42c4c048-28eb-4069-847b-d5a2d235c137",
   "metadata": {},
   "source": [
    "*Nesting:*"
   ]
  },
  {
   "cell_type": "code",
   "execution_count": 29,
   "id": "05f804c0-111f-4202-92c9-838da0e80d4a",
   "metadata": {},
   "outputs": [],
   "source": [
    "m_ = pd.MultiIndex.from_tuples([('GC_G', 'DomProdSec')], names = ['n','nn'])\n",
    "# m_ = pd.MultiIndex.from_tuples([], names = ['n','nn'])\n",
    "m = pyDatabases.cartesianProductIndex([db('s_G'), m_])\n",
    "db['nestG'] = m"
   ]
  },
  {
   "cell_type": "markdown",
   "id": "72962722-27fe-4221-9320-bb49dc65609b",
   "metadata": {},
   "source": [
    "*Elasticity:*"
   ]
  },
  {
   "cell_type": "code",
   "execution_count": 30,
   "id": "c085f05f-8fe9-4c57-8461-3fa57f57a68b",
   "metadata": {},
   "outputs": [],
   "source": [
    "db.aom(pd.Series(.5, index = m.droplevel('nn').unique()), name = 'sigma')"
   ]
  },
  {
   "cell_type": "markdown",
   "id": "ebac98a0-b927-48eb-874e-7b93d9fc3b77",
   "metadata": {},
   "source": [
    "*Adhoc regulation:*"
   ]
  },
  {
   "cell_type": "code",
   "execution_count": 31,
   "id": "8c11fddb-7095-4a5e-bfef-1f5fa6e6399b",
   "metadata": {},
   "outputs": [],
   "source": [
    "inputs = adj.rc_pd(db('qD'), db('s_G'))\n",
    "db['TotalTax'] = adj.rc_pd(db('TotalTax'), ('not', pd.Index(['itory'],name='s'))) # remove inventory taxes\n",
    "db['d_TotalTax'] = db['TotalTax'].index.droplevel('t').unique() # what sectors pay taxes\n",
    "db.aom(pd.Series(0, index = inputs.index), name = 'tauD')\n",
    "db.aom(stdSort(adj.rc_pd(db('tauD')+db('p'), inputs)), name = 'pD')"
   ]
  },
  {
   "cell_type": "markdown",
   "id": "a4591f70-8316-4518-bfc7-337e79f1ec69",
   "metadata": {},
   "source": [
    "## 5. Emissions"
   ]
  },
  {
   "cell_type": "markdown",
   "id": "bb271d86-3140-461a-a902-069f25aa6543",
   "metadata": {},
   "source": [
    "We apply the EOP abatement module, but with no abatement potential. The following creates a lot of empty indices/variables required to initialize the module:"
   ]
  },
  {
   "cell_type": "markdown",
   "id": "14de5a89-92c2-454b-b006-a6fed81dff6d",
   "metadata": {},
   "source": [
    "Create abatement technology toy data. This creates a number of CCS-like technologies with costs decreasing over time at a rate $g$ to some year (here 2050):"
   ]
  },
  {
   "cell_type": "code",
   "execution_count": 32,
   "id": "10e6666c-bdb8-454a-b85e-0df221da39b6",
   "metadata": {},
   "outputs": [],
   "source": [
    "techIdx = pd.Index([], name = 'tech')\n",
    "techMIdx = pd.MultiIndex.from_tuples([], names = ['tech','t'])\n",
    "db['techCost'] = pd.Series([], index = techMIdx)\n",
    "db['techPot'] = pd.Series([], index = techMIdx)\n",
    "db['DACCost'] = pd.Series(0, index = db('t'))\n",
    "db['tech'] = techIdx\n",
    "db['qCO2Base'] = 0\n",
    "\n",
    "db['uCO2'] = adj.rc_pd(db('qCO2'), db('s_p')) / adj.rc_pd(db('qS'), db('s_p')) # co2 share\n",
    "db['tauCO2agg'] = (db('tauCO2') * db('qCO2')).groupby('t').sum() / (db('qCO2').groupby('t').sum()) # average CO2 tax\n",
    "db['tauDist'] = pd.Series(1, index = db('tauCO2').index)\n",
    "db['qCO2agg'] = db('qCO2').groupby('t').sum()\n",
    "db['tauEffCO2'] = db('tauCO2').copy()"
   ]
  },
  {
   "cell_type": "markdown",
   "id": "5df42494-21cc-457f-9e84-72ee8def4c54",
   "metadata": {},
   "source": [
    "Add technology smoothing parameters (adhoc levels for now):"
   ]
  },
  {
   "cell_type": "code",
   "execution_count": 33,
   "id": "408b1501-4ecd-4a25-97fd-08bd5fffea47",
   "metadata": {},
   "outputs": [],
   "source": [
    "db.aom(pd.Series(1, index = db('t')), name = 'DACSmooth')\n",
    "db.aom(pd.Series([], index = db('techPot').index), name = 'techSmooth')"
   ]
  },
  {
   "cell_type": "markdown",
   "id": "1999ba39-e8fb-4ae1-a9bb-7f6938558d8e",
   "metadata": {},
   "source": [
    "## 6. Globals"
   ]
  },
  {
   "cell_type": "markdown",
   "id": "5d334ef9-62fa-453c-b483-6a76d75b3c26",
   "metadata": {},
   "source": [
    "Other parameters/variables used throughout:"
   ]
  },
  {
   "cell_type": "code",
   "execution_count": 34,
   "id": "fc3e0812-11d7-4c2d-972f-e1e51717aa6d",
   "metadata": {},
   "outputs": [],
   "source": [
    "db.aom(pd.Series(db('R_LR'), index = db('t')), name = 'Rrate', priority = 'first') # fix interest rate path at long run level\n",
    "db.aom(pd.Series(db('R_LR')*(1+db('infl_LR')), index = db('t')), name = 'iRate', priority = 'first')"
   ]
  },
  {
   "cell_type": "markdown",
   "id": "ba2bd6a9-7ada-4889-ada9-38bee41aa46a",
   "metadata": {},
   "source": [
    "## Export"
   ]
  },
  {
   "cell_type": "code",
   "execution_count": 35,
   "id": "ca44f295-2501-4d8f-bb2e-3e47657bad1d",
   "metadata": {},
   "outputs": [],
   "source": [
    "db.export(repo=d['data'])"
   ]
  }
 ],
 "metadata": {
  "kernelspec": {
   "display_name": "Python 3 (ipykernel)",
   "language": "python",
   "name": "python3"
  },
  "language_info": {
   "codemirror_mode": {
    "name": "ipython",
    "version": 3
   },
   "file_extension": ".py",
   "mimetype": "text/x-python",
   "name": "python",
   "nbconvert_exporter": "python",
   "pygments_lexer": "ipython3",
   "version": "3.11.8"
  }
 },
 "nbformat": 4,
 "nbformat_minor": 5
}
