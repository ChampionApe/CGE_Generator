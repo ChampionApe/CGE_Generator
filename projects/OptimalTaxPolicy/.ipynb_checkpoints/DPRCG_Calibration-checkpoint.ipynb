{
 "cells": [
  {
   "cell_type": "code",
   "execution_count": 1,
   "id": "e9656b57-bf7d-49b6-9855-2c43e26b4d6e",
   "metadata": {},
   "outputs": [
    {
     "name": "stdout",
     "output_type": "stream",
     "text": [
      "The file _gams_py_gdb0.gdx is still active and was not deleted.\n",
      "The file _gams_py_gdb1.gdx is still active and was not deleted.\n",
      "The file _gams_py_gdb2.gdx is still active and was not deleted.\n",
      "The file _gams_py_gdb3.gdx is still active and was not deleted.\n",
      "The file _gams_py_gdb4.gdx is still active and was not deleted.\n"
     ]
    }
   ],
   "source": [
    "clean_up = True # if True, remove all gams related files from working folder before starting\n",
    "%run stdPackages.ipynb\n",
    "os.chdir(main)\n",
    "%run stdPlotting.ipynb\n",
    "os.chdir(d['py'])\n",
    "from gmsPython import nestingTree\n",
    "from valueShares import nestedShares_noOutputs, nestedShares\n",
    "from mCGE import CGE_OPT as CGE"
   ]
  },
  {
   "cell_type": "markdown",
   "id": "61b362c7-bbe1-40ab-bb99-b4a3014192c5",
   "metadata": {},
   "source": [
    "# CGE model"
   ]
  },
  {
   "cell_type": "markdown",
   "id": "6eb3ba94-f5a0-48d1-b307-186b978f2b9d",
   "metadata": {},
   "source": [
    "*Load data:*"
   ]
  },
  {
   "cell_type": "code",
   "execution_count": 2,
   "id": "fcf91636-38c8-4540-aa5c-f52d28da9350",
   "metadata": {},
   "outputs": [],
   "source": [
    "t0 = 2019 # set baseline year\n",
    "name = 'vDPRCG' # specify name of the CGE version we are currently working on\n",
    "db = GpyDB(os.path.join(d['data'], f'{name}_{t0}'), name = '_'.join([name, str(t0), 'calibration']), ws = d['work']) # load and rename database \n",
    "dbIO = db.copy() # create copy without adjustments made along the way\n",
    "ws = db.ws # run everything from the same ws"
   ]
  },
  {
   "cell_type": "markdown",
   "id": "0203684d-aba4-4f51-9c39-125c821048c7",
   "metadata": {},
   "source": [
    "Initialize model:"
   ]
  },
  {
   "cell_type": "code",
   "execution_count": 3,
   "id": "4e9ed515-116f-4630-b7c1-b70dee9d37c9",
   "metadata": {},
   "outputs": [],
   "source": [
    "M = CGE('_'.join([name, str(t0), 'CGE','calibration']), database = db, \n",
    "        opt = False, solveWithNLP = False) # don't use optimization in the calibration stage, use NLP solver though"
   ]
  },
  {
   "cell_type": "markdown",
   "id": "973cfd37-f118-457d-8bad-10a6ca14fb83",
   "metadata": {},
   "source": [
    "## 1. Add modules"
   ]
  },
  {
   "cell_type": "markdown",
   "id": "ff526c49-7a7d-40cf-beb3-75e5192255e6",
   "metadata": {},
   "source": [
    "### 1.1. Production"
   ]
  },
  {
   "cell_type": "markdown",
   "id": "43526fc0-e86a-436e-be6e-28d9d47b67a8",
   "metadata": {},
   "source": [
    "The production module is initialized with a nesting tree and value shares to identify the $\\mu$-share parameters of the nesting structure."
   ]
  },
  {
   "cell_type": "code",
   "execution_count": 4,
   "id": "27dbe68d-30ba-45af-9852-0c009143e58a",
   "metadata": {},
   "outputs": [
    {
     "data": {
      "text/plain": [
       "<gmsPython.nestingTree.nestingTree.AggTree at 0x1b688fe8dd0>"
      ]
     },
     "execution_count": 4,
     "metadata": {},
     "output_type": "execute_result"
    }
   ],
   "source": [
    "nest = nestingTree.Tree('P', tree = db('nestProduction').to_list(), f = 'CES')\n",
    "nestAgg = nestingTree.AggTree(name = 'P', trees = {t.name: t for t in [nest]}, ws = ws)\n",
    "nestAgg(namespace = {str(n)+'_input':n for n in db('n')})"
   ]
  },
  {
   "cell_type": "code",
   "execution_count": 5,
   "id": "f48d8bdf-c703-467a-a3bd-58e8cc87cdfc",
   "metadata": {},
   "outputs": [],
   "source": [
    "v = nestedShares(nestAgg, ws = ws)\n",
    "db_p = v(dbIO)"
   ]
  },
  {
   "cell_type": "markdown",
   "id": "dcde7c00-dbb9-457c-a477-8b79dbd33080",
   "metadata": {},
   "source": [
    "Use share parameters and values to get initial values for intermediates:"
   ]
  },
  {
   "cell_type": "code",
   "execution_count": 6,
   "id": "c8d34cb3-9783-419b-b735-72ceb405d00e",
   "metadata": {},
   "outputs": [],
   "source": [
    "db.aom(db_p('mu').xs(t0), name = 'mu')\n",
    "db.aom(adj.rc_pd(db_p('vD'), nest.get('int')).rename('qD'), name = 'qD', priority = 'first') # specify intermediate goods levels"
   ]
  },
  {
   "cell_type": "markdown",
   "id": "a9eb3da6-9067-443b-8d60-788bb7ab1440",
   "metadata": {},
   "source": [
    "Use static user cost as initial guess for price on durables (if no other has been provided):"
   ]
  },
  {
   "cell_type": "code",
   "execution_count": 7,
   "id": "0b9bd5b4-34c6-4fa5-bc4b-52d8e460bda5",
   "metadata": {},
   "outputs": [],
   "source": [
    "db.aom(db('pD_dur'), name = 'pD', priority = 'first') # pD_dur includes an estimate of the long-run user-cost of capital"
   ]
  },
  {
   "cell_type": "markdown",
   "id": "6efc7113-b46e-432a-b89a-75d81db76594",
   "metadata": {},
   "source": [
    "Next, we initialize the production module:"
   ]
  },
  {
   "cell_type": "code",
   "execution_count": 8,
   "id": "4ad35f8e-453c-412e-a20d-3161d9131f87",
   "metadata": {
    "scrolled": true
   },
   "outputs": [
    {
     "data": {
      "text/plain": [
       "<mProduction.DynamicNCES at 0x1b688fe9b10>"
      ]
     },
     "execution_count": 8,
     "metadata": {},
     "output_type": "execute_result"
    }
   ],
   "source": [
    "M.addDynamicProdModule(nestAgg, partial = True, mtype = 'DynamicNCES',initFromGms = 'initFirmValue', taxInstr = 'tauLump',\n",
    "                       addAdjCosts = True)"
   ]
  },
  {
   "cell_type": "markdown",
   "id": "8335ad4c-86c6-446d-ba55-a930fb1592a3",
   "metadata": {},
   "source": [
    "Now, add investment sector:"
   ]
  },
  {
   "cell_type": "code",
   "execution_count": 9,
   "id": "09f6cc2e-6d62-41eb-a862-d7a226d0a415",
   "metadata": {},
   "outputs": [
    {
     "data": {
      "text/plain": [
       "<gmsPython.nestingTree.nestingTree.AggTree at 0x1b68909b710>"
      ]
     },
     "execution_count": 9,
     "metadata": {},
     "output_type": "execute_result"
    }
   ],
   "source": [
    "nest = nestingTree.AggTree(name = 'I', trees = {'I': nestingTree.Tree('I', tree = db('nestInvestment').to_list(), f = 'CES')}, ws = ws)\n",
    "nest(namespace = {str(n)+'_input':n for n in db('n')})"
   ]
  },
  {
   "cell_type": "markdown",
   "id": "b164a3cc-999b-4c5d-a3a2-b43861a1f9aa",
   "metadata": {},
   "source": [
    "*Define share parameters:*"
   ]
  },
  {
   "cell_type": "code",
   "execution_count": 10,
   "id": "07066933-1be0-4754-b453-0a89f772dca5",
   "metadata": {},
   "outputs": [],
   "source": [
    "v = nestedShares(nest, ws = ws)\n",
    "db_vs = v(dbIO) "
   ]
  },
  {
   "cell_type": "markdown",
   "id": "5df58f21-3f46-45b8-b659-bcf27b8f030f",
   "metadata": {},
   "source": [
    "*Use share parameters and values to get initial values for intermediates:*"
   ]
  },
  {
   "cell_type": "code",
   "execution_count": 11,
   "id": "5acaa243-f027-41d1-8635-dd458fd7fa10",
   "metadata": {},
   "outputs": [],
   "source": [
    "db.aom(db_vs('mu').xs(t0), name = 'mu') \n",
    "db.aom(adj.rc_pd(db_vs('vD'), nest.get('int')).rename('qD'), name = 'qD', priority = 'first') # specify intermediate goods levels"
   ]
  },
  {
   "cell_type": "markdown",
   "id": "949da253-30e6-4329-a797-e468a0d4916e",
   "metadata": {},
   "source": [
    "*Add module as production type to CGE:*"
   ]
  },
  {
   "cell_type": "code",
   "execution_count": 12,
   "id": "9f9a8106-53ce-4f2f-8493-97da95e8c0c1",
   "metadata": {},
   "outputs": [
    {
     "data": {
      "text/plain": [
       "<mInvestment.NestedCES at 0x1b6870591d0>"
      ]
     },
     "execution_count": 12,
     "metadata": {},
     "output_type": "execute_result"
    }
   ],
   "source": [
    "M.addInvestmentModule(nest, partial = True, mtype = 'NestedCES')"
   ]
  },
  {
   "cell_type": "markdown",
   "id": "4b27c97c-85ef-4077-a8ed-935322d4c78e",
   "metadata": {},
   "source": [
    "### 1.2. Households"
   ]
  },
  {
   "cell_type": "markdown",
   "id": "4c1f39c2-4b1d-4aaa-a324-b392b47de19f",
   "metadata": {},
   "source": [
    "*Nesting tree:*"
   ]
  },
  {
   "cell_type": "code",
   "execution_count": 13,
   "id": "5e87a20c-b314-4139-9076-d9f3ff9133bc",
   "metadata": {},
   "outputs": [
    {
     "data": {
      "text/plain": [
       "<gmsPython.nestingTree.nestingTree.AggTree at 0x1b689042290>"
      ]
     },
     "execution_count": 13,
     "metadata": {},
     "output_type": "execute_result"
    }
   ],
   "source": [
    "cesNest = nestingTree.Tree('HH', tree = db('nestHH').to_list(), f = 'CES')\n",
    "nest = nestingTree.AggTree(name = 'HH', trees = {t.name: t for t in [cesNest]}, ws = ws)\n",
    "nest(namespace = {str(n)+'_input': n for n in db('n')})"
   ]
  },
  {
   "cell_type": "markdown",
   "id": "382b1c5f-f996-4c2a-89b3-d176f55673d2",
   "metadata": {},
   "source": [
    "Value shares:"
   ]
  },
  {
   "cell_type": "code",
   "execution_count": 14,
   "id": "53a72ad0-f504-47ce-b5c8-16e49123bffd",
   "metadata": {},
   "outputs": [],
   "source": [
    "v = nestedShares_noOutputs(nest, ws = ws)\n",
    "db_vs = v(dbIO) # one-liner that returns solution database"
   ]
  },
  {
   "cell_type": "markdown",
   "id": "d9af0c58-0799-4df4-982d-0f249fc0a721",
   "metadata": {},
   "source": [
    "Add to main database:"
   ]
  },
  {
   "cell_type": "code",
   "execution_count": 15,
   "id": "c19cbf14-0273-4206-ac28-9a75c829fa44",
   "metadata": {},
   "outputs": [],
   "source": [
    "db.aom(db_vs('mu').xs(t0), name = 'mu') \n",
    "db.aom(adj.rc_pd(db_vs('vD'), nest.get('int').union(nest.get('output'))).rename('qD'), name = 'qD', priority = 'first') # specify intermediate goods levels"
   ]
  },
  {
   "cell_type": "markdown",
   "id": "dd71d62a-427a-4e16-b310-0cd244ec4620",
   "metadata": {},
   "source": [
    "Add as consumer module:"
   ]
  },
  {
   "cell_type": "code",
   "execution_count": 16,
   "id": "e25af736-c8a3-44f3-b6c1-9f081ace42b4",
   "metadata": {},
   "outputs": [
    {
     "name": "stderr",
     "output_type": "stream",
     "text": [
      "C:\\Users\\sxj477\\Anaconda3\\envs\\GAMS46\\Lib\\site-packages\\pyDatabases\\gpyDB\\database.py:525: FutureWarning: The behavior of array concatenation with empty entries is deprecated. In a future version, this will no longer exclude empty items when determining the result dtype. To retain the old behavior, exclude the empty entries before the concat operation.\n",
      "  return ss.combine_first(s)\n"
     ]
    },
    {
     "data": {
      "text/plain": [
       "<mHousehold.RamseyIdxFund at 0x1b68906ba10>"
      ]
     },
     "execution_count": 16,
     "metadata": {},
     "output_type": "execute_result"
    }
   ],
   "source": [
    "M.addConsumerModule(nest, L2C = db('L2C'), partial = True, mtype = 'RamseyIdxFund', targetvA0 = False,\n",
    "                    initFromGms = 'init_CRRA_GHH_Static') # use steady state methods to get initial values"
   ]
  },
  {
   "cell_type": "markdown",
   "id": "b9af445b-6c81-484b-81e3-c0d1c91ac0ca",
   "metadata": {},
   "source": [
    "### 1.3. Government"
   ]
  },
  {
   "cell_type": "markdown",
   "id": "881df3d7-f483-4481-96a8-25dcf2e27f17",
   "metadata": {},
   "source": [
    "Nesting tree:"
   ]
  },
  {
   "cell_type": "code",
   "execution_count": 17,
   "id": "45f2c9ba-340e-49ea-9f00-f19614f64d79",
   "metadata": {},
   "outputs": [
    {
     "data": {
      "text/plain": [
       "<gmsPython.nestingTree.nestingTree.AggTree at 0x1b6890d9d90>"
      ]
     },
     "execution_count": 17,
     "metadata": {},
     "output_type": "execute_result"
    }
   ],
   "source": [
    "cesNest = nestingTree.Tree('G', tree = db('nestG').to_list(), f = 'CES')\n",
    "nest = nestingTree.AggTree(name = 'G', trees = {t.name: t for t in [cesNest]}, ws = ws)\n",
    "nest(namespace = {str(n)+'_input': n for n in db('n')})"
   ]
  },
  {
   "cell_type": "markdown",
   "id": "a77084db-b5f6-4bc0-8904-5809a643d045",
   "metadata": {},
   "source": [
    "Value shares:"
   ]
  },
  {
   "cell_type": "code",
   "execution_count": 18,
   "id": "ffc372a8-5ad9-4852-8632-1f74123d2983",
   "metadata": {},
   "outputs": [],
   "source": [
    "v = nestedShares_noOutputs(nest, ws = ws)\n",
    "db_vs = v(dbIO)"
   ]
  },
  {
   "cell_type": "markdown",
   "id": "83de8f97-a614-4fc2-84d7-03df1242140f",
   "metadata": {},
   "source": [
    "Add to main database:"
   ]
  },
  {
   "cell_type": "code",
   "execution_count": 19,
   "id": "2aa7db25-0cfc-43d2-961e-ed9dd656a582",
   "metadata": {},
   "outputs": [],
   "source": [
    "db.aom(db_vs('mu').xs(t0), name = 'mu') \n",
    "db.aom(adj.rc_pd(db_vs('vD'), nest.get('int').union(nest.get('output'))).rename('qD'), name = 'qD', priority = 'first') # specify intermediate goods levels"
   ]
  },
  {
   "cell_type": "markdown",
   "id": "4d520158-1c60-48f7-8abc-164ec3fc76d1",
   "metadata": {},
   "source": [
    "Add module:"
   ]
  },
  {
   "cell_type": "code",
   "execution_count": 20,
   "id": "b388c36d-531e-4b55-8df5-526972d17c81",
   "metadata": {
    "scrolled": true
   },
   "outputs": [
    {
     "data": {
      "text/plain": [
       "<mGovernment.BalancedBudget at 0x1b687031cd0>"
      ]
     },
     "execution_count": 20,
     "metadata": {},
     "output_type": "execute_result"
    }
   ],
   "source": [
    "M.addGovernmentModule(nest, L = db('L2C').droplevel('nn').unique())"
   ]
  },
  {
   "cell_type": "markdown",
   "id": "87ddaef2-66c3-4eb1-be3d-a50105dc4dbd",
   "metadata": {},
   "source": [
    "### 1.4. Emissions and equilibrium modules"
   ]
  },
  {
   "cell_type": "code",
   "execution_count": 21,
   "id": "fa1da326-e9e2-4e40-8a56-53e76e726ddc",
   "metadata": {},
   "outputs": [
    {
     "name": "stderr",
     "output_type": "stream",
     "text": [
      "C:\\Users\\sxj477\\Anaconda3\\envs\\GAMS46\\Lib\\site-packages\\pyDatabases\\gpyDB\\database.py:525: FutureWarning: The behavior of array concatenation with empty entries is deprecated. In a future version, this will no longer exclude empty items when determining the result dtype. To retain the old behavior, exclude the empty entries before the concat operation.\n",
      "  return ss.combine_first(s)\n"
     ]
    },
    {
     "data": {
      "text/plain": [
       "<mEquilibrium.Equilibrium at 0x1b68909a310>"
      ]
     },
     "execution_count": 21,
     "metadata": {},
     "output_type": "execute_result"
    }
   ],
   "source": [
    "M.addIndexFundModule('IdxFund', s_idxFund = 's_p', initFromGms = True)\n",
    "M.addEmissionsModule('M', partial = True, mtype = 'EOP_Simple')\n",
    "M.compiler.locals['techType'] = \"'normal'\"\n",
    "M.addEquilibriumModule('Equi')"
   ]
  },
  {
   "cell_type": "markdown",
   "id": "6ad51a56-5d41-411e-ad4e-7d92cdd4b6f7",
   "metadata": {},
   "source": [
    "### 1.5. Add WelfareOptimization module"
   ]
  },
  {
   "cell_type": "code",
   "execution_count": 22,
   "id": "9604e804-1934-4d7d-9545-25f1db6a79bf",
   "metadata": {},
   "outputs": [
    {
     "data": {
      "text/plain": [
       "<mCGE.OptWelfare at 0x1b6894616d0>"
      ]
     },
     "execution_count": 22,
     "metadata": {},
     "output_type": "execute_result"
    }
   ],
   "source": [
    "M.addOptWelfareModule('W')"
   ]
  },
  {
   "cell_type": "markdown",
   "id": "736495f6-4b73-45ec-ac8b-67f9ad49cddc",
   "metadata": {},
   "source": [
    "## 2. Small stuff"
   ]
  },
  {
   "cell_type": "markdown",
   "id": "4d1948eb-0aef-4131-819b-68e42e4e2390",
   "metadata": {},
   "source": [
    "*Clean up database a bit (this is not necessary, but it removes some variables that are not ultimately used in the model):*"
   ]
  },
  {
   "cell_type": "code",
   "execution_count": 23,
   "id": "406bafbb-0648-44c4-9126-e5743232d230",
   "metadata": {},
   "outputs": [],
   "source": [
    "[db.series.__delitem__(k) for k in ('vD','vTax', 'vD_dur','vD_depr','vD_inv', 'vS', 'pD_dur') if k in db.symbols];"
   ]
  },
  {
   "cell_type": "markdown",
   "id": "203f1919-71b0-4cd1-bdcb-da499c974101",
   "metadata": {},
   "source": [
    "For variables that are defined over $t$, but where we do not yet have an initial value for all $t$, extrapolate from data:\n",
    "\n",
    "*Note: This forces extrapolation of all variables defined over $t$ - if it is important that some variables are not extrapolated, they should be removed from this statement.*"
   ]
  },
  {
   "cell_type": "code",
   "execution_count": 24,
   "id": "78dba422-fb9f-4ef7-b349-e6717bbab632",
   "metadata": {},
   "outputs": [],
   "source": [
    "[symbol.__setattr__('vals', extrapolateUpper(symbol.vals, db('tE')[0])) for symbol in [db[k] for k in db.varDom('t')['t']]];"
   ]
  },
  {
   "cell_type": "markdown",
   "id": "42211947-d251-483e-8caa-509a07979bb8",
   "metadata": {},
   "source": [
    "Merge internally, i.e. write a gdx file from the Python database:"
   ]
  },
  {
   "cell_type": "code",
   "execution_count": 25,
   "id": "fd1b3ec5-c1b8-4ae1-a9d3-a44fda7a34de",
   "metadata": {},
   "outputs": [],
   "source": [
    "db.mergeInternal()"
   ]
  },
  {
   "cell_type": "markdown",
   "id": "c9d42ce2-e882-49f4-903f-c3d804f2ece9",
   "metadata": {},
   "source": [
    "## 3. Solve and store"
   ]
  },
  {
   "cell_type": "code",
   "execution_count": 26,
   "id": "8169a187-45a6-4265-9d09-1fa6662a48bd",
   "metadata": {},
   "outputs": [],
   "source": [
    "fullSol = M.solve(state = 'C')"
   ]
  },
  {
   "cell_type": "markdown",
   "id": "6b4ac859-af0c-4549-a90f-b2ec6968b27a",
   "metadata": {},
   "source": [
    "Remove local init methods:"
   ]
  },
  {
   "cell_type": "code",
   "execution_count": 27,
   "id": "423f7a46-6b8a-4486-96fc-c7e38ad19f8c",
   "metadata": {},
   "outputs": [],
   "source": [
    "[setattr(m, 'initFromGms', None) for m in M.m.values() if hasattr(m, 'initFromGms')];"
   ]
  },
  {
   "cell_type": "markdown",
   "id": "14441ef7-de89-4348-8439-14fed38ba7d9",
   "metadata": {},
   "source": [
    "Add full solution to baseline model database:"
   ]
  },
  {
   "cell_type": "code",
   "execution_count": 28,
   "id": "66797a46-8eff-42f9-9556-ce65fe5bb695",
   "metadata": {},
   "outputs": [],
   "source": [
    "[M.db.__setitem__(k, fullSol[k]) for k in M.db.getTypes(['var']) if k in fullSol.symbols]; # use solution database\n",
    "M.db.mergeInternal()"
   ]
  },
  {
   "cell_type": "markdown",
   "id": "a2f8d0bf-32ab-481d-b083-f3f0a9195ec1",
   "metadata": {},
   "source": [
    "## 4. Save/export"
   ]
  },
  {
   "cell_type": "code",
   "execution_count": 29,
   "id": "0029389b-be8d-4f2b-b116-9c29d0470e93",
   "metadata": {},
   "outputs": [],
   "source": [
    "M.db.data_folder = d['data']"
   ]
  },
  {
   "cell_type": "markdown",
   "id": "38b12b99-c1f5-4830-8bc1-29fea9137642",
   "metadata": {},
   "source": [
    "We can save/export the model in a few different ways:\n",
    "1. Save model instance: The model class ```Model``` (parent class of the CGE class) is pickleable, meaning that we can save/load the class with Python's ```pickle``` class.\n",
    "2. Store solution: It takes no time to re-initialize the ```Model``` class, so we can also simply store the solution database and - when needed - initialize the model class again.\n",
    "3. Store GAMS code and solution: This option allows us to remove the model from the python class ```Model``` and instead treat it as a conventional GAMS program."
   ]
  },
  {
   "cell_type": "markdown",
   "id": "b563f5f4-a3f9-47d4-bdd4-489dced07f5b",
   "metadata": {},
   "source": [
    "*Store model instance or database with pickle:*"
   ]
  },
  {
   "cell_type": "code",
   "execution_count": 30,
   "id": "e9cb7593-5b82-41a8-9e25-4aa536354b10",
   "metadata": {},
   "outputs": [],
   "source": [
    "M.export(repo = M.data_folder, name = M.name) # store the entire class - these are the default options by the way \n",
    "M.db.export(repo = M.db.data_folder, name = M.db.name) # store the solution database"
   ]
  }
 ],
 "metadata": {
  "kernelspec": {
   "display_name": "Python 3 (ipykernel)",
   "language": "python",
   "name": "python3"
  },
  "language_info": {
   "codemirror_mode": {
    "name": "ipython",
    "version": 3
   },
   "file_extension": ".py",
   "mimetype": "text/x-python",
   "name": "python",
   "nbconvert_exporter": "python",
   "pygments_lexer": "ipython3",
   "version": "3.11.8"
  }
 },
 "nbformat": 4,
 "nbformat_minor": 5
}
