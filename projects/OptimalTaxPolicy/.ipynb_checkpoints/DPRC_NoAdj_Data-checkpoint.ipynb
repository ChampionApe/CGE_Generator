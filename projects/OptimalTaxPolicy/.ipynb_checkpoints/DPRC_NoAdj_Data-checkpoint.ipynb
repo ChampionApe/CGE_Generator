{
 "cells": [
  {
   "cell_type": "code",
   "execution_count": 1,
   "id": "34b00043-9fa9-4dcf-a7e0-3f5cef9f20b3",
   "metadata": {},
   "outputs": [
    {
     "name": "stdout",
     "output_type": "stream",
     "text": [
      "No clean-up of work-folder\n"
     ]
    }
   ],
   "source": [
    "%run stdPackages.ipynb\n",
    "os.chdir(d['py'])\n",
    "from modelData import *\n",
    "from gmsPython import nestingTree"
   ]
  },
  {
   "cell_type": "markdown",
   "id": "bc090ae6-327e-472e-ab57-44bd351ca9e4",
   "metadata": {},
   "source": [
    "# Model data for DPRC"
   ]
  },
  {
   "cell_type": "markdown",
   "id": "ea12be52-db16-4d5d-8ff3-96fd72f56111",
   "metadata": {},
   "source": [
    "This model removes all sectors but domestic production and consumption sectors. Firms accumulate durables, households are Ramsey."
   ]
  },
  {
   "cell_type": "markdown",
   "id": "fc41581f-2db0-4931-80ea-e7b5c53d3a95",
   "metadata": {},
   "source": [
    "#### Load data"
   ]
  },
  {
   "cell_type": "code",
   "execution_count": 2,
   "id": "3ea70026-2b13-425e-93fe-c1fed8d04bf5",
   "metadata": {},
   "outputs": [],
   "source": [
    "t0 = 2019"
   ]
  },
  {
   "cell_type": "markdown",
   "id": "9645d26c-b839-473b-a27a-65540b336c4f",
   "metadata": {},
   "source": [
    "*This creates a copy of the IO data from the ```IOdata``` project into the local data folder*"
   ]
  },
  {
   "cell_type": "code",
   "execution_count": 3,
   "id": "bd2681bc-fdba-4ebd-aa59-014ca76cd091",
   "metadata": {},
   "outputs": [
    {
     "data": {
      "text/plain": [
       "'C:\\\\Users\\\\sxj477\\\\Documents\\\\GitHub\\\\CGE_Generator\\\\projects\\\\OptimalTaxPolicy\\\\data\\\\IO2019_OTP_Simple'"
      ]
     },
     "execution_count": 3,
     "metadata": {},
     "output_type": "execute_result"
    }
   ],
   "source": [
    "ioName = f'IO{t0}_OTP_Simple'\n",
    "f_IOdata = os.path.join(d['project'], 'IOdata','data','processedData', ioName)\n",
    "shutil.copy(f_IOdata, os.path.join(d['data'], ioName))"
   ]
  },
  {
   "cell_type": "markdown",
   "id": "3e123276-c1c6-40be-9dd1-4a9f0bed7c46",
   "metadata": {},
   "source": [
    "*Define main settings:*"
   ]
  },
  {
   "cell_type": "code",
   "execution_count": 4,
   "id": "8746c554-ea7d-4d1d-b59d-afa2884f8ce4",
   "metadata": {},
   "outputs": [],
   "source": [
    "T  = t0 + 250 # set finite time horizon\n",
    "name = 'vDPRC_noAdj' # Some global name that carries through all models/data to identify this version"
   ]
  },
  {
   "cell_type": "markdown",
   "id": "b6f3ce63-9709-49ea-9026-e3a3d42f3983",
   "metadata": {},
   "source": [
    "*Load data:*"
   ]
  },
  {
   "cell_type": "code",
   "execution_count": 5,
   "id": "fd1ea570-1afb-4055-930d-e36b74049a3f",
   "metadata": {},
   "outputs": [],
   "source": [
    "db = GpyDB(os.path.join(d['data'], ioName), name = f'{name}_{t0}', ws = d['work'])"
   ]
  },
  {
   "cell_type": "markdown",
   "id": "f5ae2983-d830-4c8f-ba48-596b7f3592a4",
   "metadata": {},
   "source": [
    "*For relevant variables, add yearly index to data (this is currently all of them)*"
   ]
  },
  {
   "cell_type": "code",
   "execution_count": 6,
   "id": "8f40aa40-5037-4531-8654-4262bd97fd00",
   "metadata": {},
   "outputs": [],
   "source": [
    "def add_t0(k):\n",
    "    k.index = stdSort(pd.MultiIndex.from_frame(k.index.to_frame(index=False).assign(t = t0)))\n",
    "[add_t0(db(k)) for k in db.getTypes(['var','par'])];"
   ]
  },
  {
   "cell_type": "markdown",
   "id": "3fd3e946-fa0d-46e6-8633-9dd69d7b604b",
   "metadata": {},
   "source": [
    "*Add various time subsets that we'll rely on:*"
   ]
  },
  {
   "cell_type": "code",
   "execution_count": 7,
   "id": "88df04b9-13a7-45fa-a910-9b151cecf2c7",
   "metadata": {},
   "outputs": [],
   "source": [
    "addTimeToDB(t0, T, db)"
   ]
  },
  {
   "cell_type": "markdown",
   "id": "e4b37f46-3d24-472b-adaa-a5af17dba184",
   "metadata": {},
   "source": [
    "#### Remove sectors and taxes:"
   ]
  },
  {
   "cell_type": "markdown",
   "id": "9f64d8a1-b606-48a8-ad7b-bfb8833caf63",
   "metadata": {},
   "source": [
    "Remove inventory and trade:"
   ]
  },
  {
   "cell_type": "code",
   "execution_count": 8,
   "id": "2bd121f4-5687-468f-b8aa-365fb0b19dcf",
   "metadata": {},
   "outputs": [],
   "source": [
    "c = ('not', ('or', [db('s_f'), db('s_G'), pd.Index(['itory'], name = 's'), db('n_F')]))\n",
    "db['qD'] = adj.rc_pd(db('qD'), c)\n",
    "db['d_qD'] = adj.rc_pd(db('d_qD'), c)"
   ]
  },
  {
   "cell_type": "markdown",
   "id": "38154603-49e1-4512-a82a-05acac084bdb",
   "metadata": {},
   "source": [
    "Set zero taxes:"
   ]
  },
  {
   "cell_type": "code",
   "execution_count": 9,
   "id": "ed1bf76a-ce8e-4f2b-b4eb-0ca1b500201c",
   "metadata": {},
   "outputs": [],
   "source": [
    "db['TotalTax'] = adj.rc_pd(pd.Series(0, index = db('TotalTax').index), c, pm = False)\n",
    "db['vTax']     = adj.rc_pd(pd.Series(0, index = db('vTax').index), c, pm = False)"
   ]
  },
  {
   "cell_type": "markdown",
   "id": "e5816355-f91f-45a2-9dde-4255fccf1e7d",
   "metadata": {},
   "source": [
    "#### Balance IO:"
   ]
  },
  {
   "cell_type": "markdown",
   "id": "3064fa3c-76a2-40b7-bd1b-2eef87b65240",
   "metadata": {},
   "source": [
    "This time, to balance the IO data, we start by identifying the value of the firm - as this determines an additional source of income for the households. In a steady state setup, this is simply equal to the size of the capital stock:"
   ]
  },
  {
   "cell_type": "code",
   "execution_count": 10,
   "id": "9e38c9d3-b675-4d97-84d0-db5f0cb92bc4",
   "metadata": {},
   "outputs": [],
   "source": [
    "returnOnAssets = (db('R_LR')-1)*adj.rc_pd(db('qD'), db('dur_p')).sum()"
   ]
  },
  {
   "cell_type": "markdown",
   "id": "e4c16e08-c8a8-4934-a4f9-e7500794eb3a",
   "metadata": {},
   "source": [
    "Then, the supply of labor is adjusted such that labor income and return on assets equals consumption + government consumption (as this will eventually be financed by taxes on the household):"
   ]
  },
  {
   "cell_type": "code",
   "execution_count": 11,
   "id": "23febdef-f276-45f7-bf29-b4ee2b5c7fa1",
   "metadata": {},
   "outputs": [],
   "source": [
    "db.aom(pd.Series((db('qD').xs((t0, 'HH'), level = ['t','s']).sum()\n",
    "                 -returnOnAssets),\n",
    "                 index = adj.rc_pd(db('qS'), db('s_HH')).index),\n",
    "       name = 'qS')"
   ]
  },
  {
   "cell_type": "markdown",
   "id": "b0b7beeb-8918-4b71-8dfe-0770a03f48b9",
   "metadata": {},
   "source": [
    "*Adjust intermediate goods supply to match demand:*"
   ]
  },
  {
   "cell_type": "code",
   "execution_count": 12,
   "id": "96bcae38-e82b-4a67-9d79-9a4e83611ddd",
   "metadata": {},
   "outputs": [],
   "source": [
    "db.aom(pd.Series(adj.rc_pd(db('qD'), db('s_i')).sum(),\n",
    "                 index = adj.rc_pd(db('qS'), db('s_i')).index),\n",
    "       name = 'qS')"
   ]
  },
  {
   "cell_type": "markdown",
   "id": "398261d2-835d-46e5-a5ce-fd0e476e5178",
   "metadata": {},
   "source": [
    "*Adjust production sector's demand for labor and intermediate goods:*"
   ]
  },
  {
   "cell_type": "code",
   "execution_count": 13,
   "id": "103db5fd-b864-49b2-9b01-7a06ed741de4",
   "metadata": {},
   "outputs": [],
   "source": [
    "db.aom(stdSort(pd.Series(0, index = adj.rc_pd(db('qD'), ('and', [db('s_p'), ('not', db('n_p'))])).index)\n",
    "        +adj.rc_pd(db('qS').droplevel('s'), ('not', db('n_p')))\n",
    "        ), name  = 'qD')"
   ]
  },
  {
   "cell_type": "markdown",
   "id": "6be2972d-0aae-411a-819e-b487a28c557a",
   "metadata": {},
   "source": [
    "*Define depreciation rate as the steady state rate:*"
   ]
  },
  {
   "cell_type": "code",
   "execution_count": 14,
   "id": "37ae3223-cfa6-421a-8a6d-24ea24937ea0",
   "metadata": {},
   "outputs": [],
   "source": [
    "I0 = adjMultiIndex.applyMult(adj.rc_pd(adj.rc_pd(db('qD'), db('inv_p')), alias = {'n':'nn'}),\n",
    "                             db('dur2inv'))\n",
    "db.aom((I0/adj.rc_pd(db('qD'), db('dur_p'))).droplevel('nn'), name = 'rDepr')"
   ]
  },
  {
   "cell_type": "markdown",
   "id": "30dc4de8-0ed2-4f3a-9115-9d4146833f76",
   "metadata": {},
   "source": [
    "*Update the durable price as well*"
   ]
  },
  {
   "cell_type": "code",
   "execution_count": 15,
   "id": "35bfe014-df03-4c9d-8625-db874302d4a3",
   "metadata": {},
   "outputs": [],
   "source": [
    "db.aom(db('rDepr')+db('R_LR')-1, name = 'pD_dur')"
   ]
  },
  {
   "cell_type": "markdown",
   "id": "1b097eb9-e287-4664-b26b-12c84419a52d",
   "metadata": {},
   "source": [
    "*Adjust domestic production sector's demand for its own product to match total demand with supply:*"
   ]
  },
  {
   "cell_type": "code",
   "execution_count": 16,
   "id": "d460fc91-76f4-4bea-b041-c1f4f50a0c01",
   "metadata": {},
   "outputs": [],
   "source": [
    "otherSectorsDemand = adj.rc_pd(db('qD'), ('and', [db('n_p'), ('not', db('s_p'))])).sum()\n",
    "db.aom(adj.rc_pd(db('qS'), db('s_p'))-otherSectorsDemand, name = 'qD')"
   ]
  },
  {
   "cell_type": "markdown",
   "id": "572cb176-6e0f-47ce-858e-087e34b68772",
   "metadata": {},
   "source": [
    "## 1. Production module"
   ]
  },
  {
   "cell_type": "markdown",
   "id": "d94efa6e-6f3f-44bf-ba95-f681d58cd656",
   "metadata": {},
   "source": [
    "Add simple nesting:"
   ]
  },
  {
   "cell_type": "code",
   "execution_count": 17,
   "id": "2a2a3de4-8f7c-41d6-8888-de439834fdf3",
   "metadata": {},
   "outputs": [],
   "source": [
    "m_ = pd.MultiIndex.from_tuples([('DomProdSec', 'K'),\n",
    "                                ('DomProdSec', 'L'),\n",
    "                                ('DomProdSec', 'DomProdSec_input')], names = ['n','nn'])\n",
    "m = pyDatabases.cartesianProductIndex([db('s_p'), m_])\n",
    "db['nestProduction'] = m"
   ]
  },
  {
   "cell_type": "markdown",
   "id": "dbbf409b-2738-4858-9ea3-a9919a2324b0",
   "metadata": {},
   "source": [
    "Elasticities at the same all around:"
   ]
  },
  {
   "cell_type": "code",
   "execution_count": 18,
   "id": "1680976d-c757-4345-b15b-317884d380fd",
   "metadata": {},
   "outputs": [],
   "source": [
    "db.aom(pd.Series(.5, index = m.droplevel('nn').unique()), name = 'sigma')"
   ]
  },
  {
   "cell_type": "markdown",
   "id": "bfe1fff7-ca14-44c8-9f1c-7b962f683d4f",
   "metadata": {},
   "source": [
    "Set up simple empty structures for the emission/regulation module:"
   ]
  },
  {
   "cell_type": "code",
   "execution_count": 19,
   "id": "af2cced4-ac18-44c9-87f8-495280d0490e",
   "metadata": {},
   "outputs": [],
   "source": [
    "output = adj.rc_pd(db['qS'], db['s_p']) # output\n",
    "inputs = adj.rc_pd(db['qD'], ('and', [db['s_p'], ('not', db['dur_p'])])) # inputs\n",
    "outShares = output/pyDatabases.pdSum(output, 'n') # output shares\n",
    "db['qCO2'] = (db('qCO2') * outShares).dropna() # overwrite qCO2 to be split into potentially multiple outputs from each sector"
   ]
  },
  {
   "cell_type": "markdown",
   "id": "aa069020-3ebd-47c3-8905-89e26f94a5d3",
   "metadata": {},
   "source": [
    "Tax rates:"
   ]
  },
  {
   "cell_type": "code",
   "execution_count": 20,
   "id": "00cd1120-4235-4dda-a359-12260954a438",
   "metadata": {},
   "outputs": [],
   "source": [
    "db['tauCO2'] = adjMultiIndex.applyMult((db('vTax').xs('Emissions',level='taxTypes') / db('qCO2').replace(0,1)).fillna(0), output.index)\n",
    "db['dtauCO2']= db('tauCO2').index.droplevel('t').unique()\n",
    "db['dqCO2']  = db('qCO2').index.droplevel('t').unique()\n",
    "db.aom(adj.rc_pd(db('TotalTax'), db['s_p'])-db('vTax').xs('Emissions',level='taxTypes'), name = 'tauLump')\n",
    "db.aom(pd.Series(0, index = output.index), name = 'tauS')\n",
    "db.aom(pd.Series(0, index = inputs.index), name = 'tauD')"
   ]
  },
  {
   "cell_type": "markdown",
   "id": "58b34c85-3518-43b3-8fe2-df0981512b34",
   "metadata": {},
   "source": [
    "Define sector-specific prices given regulation:"
   ]
  },
  {
   "cell_type": "code",
   "execution_count": 21,
   "id": "2d6c2e78-6ca7-47e8-8a28-2d3154484369",
   "metadata": {},
   "outputs": [],
   "source": [
    "db.aom(stdSort(adj.rc_pd(((1+db('tauD'))*db('p')).dropna(), inputs)), name = 'pD')"
   ]
  },
  {
   "cell_type": "markdown",
   "id": "ca2aeaf6-a84d-4dd0-a77c-859805cefe11",
   "metadata": {},
   "source": [
    "Add the value of the \"index fund\" to be equal to the capital stock:"
   ]
  },
  {
   "cell_type": "code",
   "execution_count": 22,
   "id": "492c9a44-13b1-426a-a33c-d5329a957ffa",
   "metadata": {},
   "outputs": [],
   "source": [
    "db['vIdxFund'] = adj.rc_pd(db('qD'), db('dur_p')).groupby('t').sum()"
   ]
  },
  {
   "cell_type": "markdown",
   "id": "0e710a62-b338-4dda-84a8-98840560a805",
   "metadata": {},
   "source": [
    "## 2. Investment module"
   ]
  },
  {
   "cell_type": "markdown",
   "id": "a2af09ef-9713-447e-a0e7-a94e9015663d",
   "metadata": {},
   "source": [
    "*Nesting*"
   ]
  },
  {
   "cell_type": "code",
   "execution_count": 23,
   "id": "72564419-4169-4534-9a54-0373a32bef23",
   "metadata": {},
   "outputs": [],
   "source": [
    "m_ = pd.MultiIndex.from_tuples([('I_K', 'DomProdSec')], names = ['n','nn'])\n",
    "m = pyDatabases.cartesianProductIndex([db('s_i'), m_])\n",
    "db['nestInvestment'] = m"
   ]
  },
  {
   "cell_type": "markdown",
   "id": "6ea36232-7329-4e28-b3bd-43bdbca41473",
   "metadata": {},
   "source": [
    "*Elasticity:*"
   ]
  },
  {
   "cell_type": "code",
   "execution_count": 24,
   "id": "45a5a330-bfc2-4dd6-b0dc-1ddd89887f21",
   "metadata": {},
   "outputs": [],
   "source": [
    "db.aom(pd.Series(.5, index = m.droplevel('nn').unique()), name = 'sigma')"
   ]
  },
  {
   "cell_type": "markdown",
   "id": "1dc510e1-c756-450d-be2d-dda2eb998703",
   "metadata": {},
   "source": [
    "*Tax rates:*"
   ]
  },
  {
   "cell_type": "code",
   "execution_count": 25,
   "id": "27d2e0d3-721e-498b-b036-79e00f11b94e",
   "metadata": {},
   "outputs": [],
   "source": [
    "output = adj.rc_pd(db['qS'], db['s_i']) # output\n",
    "inputs = adj.rc_pd(db['qD'], db['s_i']) # inputs\n",
    "db.aom(adj.rc_pd(db('TotalTax'), db['s_i']), name = 'tauLump')\n",
    "db.aom(pd.Series(0, index = output.index), name = 'tauS')\n",
    "db.aom(pd.Series(0, index = inputs.index), name = 'tauD')\n",
    "db.aom(stdSort(adj.rc_pd((1+db('tauD'))*db('p'), inputs)), name = 'pD')"
   ]
  },
  {
   "cell_type": "markdown",
   "id": "15c218ed-b71a-4205-9527-8a432ebea95e",
   "metadata": {},
   "source": [
    "## 3. Households"
   ]
  },
  {
   "cell_type": "code",
   "execution_count": 26,
   "id": "c11e3c65-cdbb-46c7-a721-ddc8b2484652",
   "metadata": {},
   "outputs": [],
   "source": [
    "m_ = pd.MultiIndex.from_tuples([('C_HH', 'DomProdSec')], names = ['n','nn'])\n",
    "m = pyDatabases.cartesianProductIndex([db('s_HH'), m_])\n",
    "db['nestHH'] = m"
   ]
  },
  {
   "cell_type": "markdown",
   "id": "48132a68-81ec-4e07-ac8d-389c3ebf0dbf",
   "metadata": {},
   "source": [
    "Add mapping from consumption aggregate to labor:"
   ]
  },
  {
   "cell_type": "code",
   "execution_count": 27,
   "id": "772b0bd9-273f-4b44-b191-3266e43af31c",
   "metadata": {},
   "outputs": [],
   "source": [
    "db['L2C'] = pd.MultiIndex.from_arrays([db('s_HH'), pd.Index(['L']*len(db('s_HH')), name = 'n'), ('C_'+db('s_HH')).rename('nn')])"
   ]
  },
  {
   "cell_type": "markdown",
   "id": "ebe60944-b722-44c8-8fa3-531ae2c4fdd0",
   "metadata": {},
   "source": [
    "Elasticities:"
   ]
  },
  {
   "cell_type": "code",
   "execution_count": 28,
   "id": "a8648f08-a931-490f-8631-706c1b0e33b9",
   "metadata": {},
   "outputs": [],
   "source": [
    "db.aom(pd.Series(.5, index = m.droplevel('nn').unique()), name = 'sigma')\n",
    "db.aom(pd.Series(0.25, index = db('s_HH')), name = 'frisch')"
   ]
  },
  {
   "cell_type": "markdown",
   "id": "5d3e460f-0611-4305-b861-ea7d44e39561",
   "metadata": {},
   "source": [
    "*zero taxes:*"
   ]
  },
  {
   "cell_type": "code",
   "execution_count": 29,
   "id": "cbed140e-c5c2-44d1-84bb-f722981e1338",
   "metadata": {},
   "outputs": [],
   "source": [
    "output = adj.rc_pd(db('qS'), db['s_HH'])\n",
    "inputs = adj.rc_pd(db('qD'), db['s_HH'])\n",
    "db.aom(pd.Series(0, index = inputs.index), name = 'tauD')\n",
    "db.aom(pd.Series(0, index = output.index), name = 'tauS')\n",
    "# db.aom(adj.rc_pd(db('TotalTax'), db('s_HH'))+db('qD').xs('G',level='s').sum(), name = 'TotalTax')\n",
    "db.aom(adj.rc_pd(db('TotalTax'), db('s_HH')), name = 'tauLump')"
   ]
  },
  {
   "cell_type": "markdown",
   "id": "e6f9efa0-af11-43fe-8f26-94c8fa45d48b",
   "metadata": {},
   "source": [
    "*Define sector-specific prices given regulation:*"
   ]
  },
  {
   "cell_type": "code",
   "execution_count": 30,
   "id": "8ac8c05b-9ab3-4d3e-a3f0-4e1db77dd58e",
   "metadata": {},
   "outputs": [],
   "source": [
    "db.aom(stdSort(adj.rc_pd((1+db('tauD'))*db('p'), inputs)), name = 'pD')\n",
    "db.aom(stdSort(adj.rc_pd(db('p')*(1-db('tauS')), output)), name = 'pS') # in this case pS is the after-tax wage rate"
   ]
  },
  {
   "cell_type": "markdown",
   "id": "a8ddf469-ac65-4446-ac46-0a1b49705527",
   "metadata": {},
   "source": [
    "*Add asset value:*"
   ]
  },
  {
   "cell_type": "code",
   "execution_count": 31,
   "id": "c3adf1e9-c3bd-44bd-81dd-c0af3dcaefc7",
   "metadata": {},
   "outputs": [],
   "source": [
    "db.aom(pd.Series(1, index = db('s_HH')), name = 'uIdxFund') # share of assets in domestic shares\n",
    "db.aom(pd.Series(0, index = db('s_HH')), name = 'vA_F') # value of foreign assets\n",
    "db.aom(pd.Series(db('vIdxFund').xs(t0), index = pd.MultiIndex.from_product([db('t'), db('s_HH')])), name = 'vA')"
   ]
  },
  {
   "cell_type": "markdown",
   "id": "7df96c35-1726-4f4e-adf4-d82c0439d283",
   "metadata": {},
   "source": [
    "## 4. Government"
   ]
  },
  {
   "cell_type": "markdown",
   "id": "59bff495-7d3a-4d91-9e41-ca29c52d9e46",
   "metadata": {},
   "source": [
    "*Nesting:*"
   ]
  },
  {
   "cell_type": "code",
   "execution_count": 32,
   "id": "a1c891ae-2191-4d73-984a-20ff4365eb3d",
   "metadata": {},
   "outputs": [],
   "source": [
    "# m_ = pd.MultiIndex.from_tuples([('GC_G', 'DomProdSec')], names = ['n','nn'])\n",
    "m_ = pd.MultiIndex.from_tuples([], names = ['n','nn'])\n",
    "m = pyDatabases.cartesianProductIndex([db('s_G'), m_])\n",
    "db['nestG'] = m"
   ]
  },
  {
   "cell_type": "markdown",
   "id": "6ce1ef7e-0625-4daa-a69d-1addf3a28536",
   "metadata": {},
   "source": [
    "*Elasticity:*"
   ]
  },
  {
   "cell_type": "code",
   "execution_count": 33,
   "id": "e630998b-a977-4d9f-a887-ebe3e978e565",
   "metadata": {},
   "outputs": [],
   "source": [
    "db.aom(pd.Series(.5, index = m.droplevel('nn').unique()), name = 'sigma')"
   ]
  },
  {
   "cell_type": "markdown",
   "id": "caa2aca5-d1d9-4bae-a48d-483122c66774",
   "metadata": {},
   "source": [
    "*Adhoc regulation:*"
   ]
  },
  {
   "cell_type": "code",
   "execution_count": 34,
   "id": "1533ef57-29d0-4d81-84f7-a319632a7a70",
   "metadata": {},
   "outputs": [],
   "source": [
    "inputs = adj.rc_pd(db('qD'), db('s_G'))\n",
    "db['TotalTax'] = adj.rc_pd(db('TotalTax'), ('not', pd.Index(['itory'],name='s'))) # remove inventory taxes\n",
    "db['d_TotalTax'] = db['TotalTax'].index.droplevel('t').unique() # what sectors pay taxes\n",
    "db.aom(pd.Series(0, index = inputs.index), name = 'tauD')\n",
    "db.aom(stdSort(adj.rc_pd(db('tauD')+db('p'), inputs)), name = 'pD')"
   ]
  },
  {
   "cell_type": "markdown",
   "id": "a4591f70-8316-4518-bfc7-337e79f1ec69",
   "metadata": {},
   "source": [
    "## 5. Emissions"
   ]
  },
  {
   "cell_type": "markdown",
   "id": "bb271d86-3140-461a-a902-069f25aa6543",
   "metadata": {},
   "source": [
    "We apply the EOP abatement module, but with no abatement potential. The following creates a lot of empty indices/variables required to initialize the module:"
   ]
  },
  {
   "cell_type": "markdown",
   "id": "14de5a89-92c2-454b-b006-a6fed81dff6d",
   "metadata": {},
   "source": [
    "Create abatement technology toy data. This creates a number of CCS-like technologies with costs decreasing over time at a rate $g$ to some year (here 2050):"
   ]
  },
  {
   "cell_type": "code",
   "execution_count": 35,
   "id": "10e6666c-bdb8-454a-b85e-0df221da39b6",
   "metadata": {},
   "outputs": [],
   "source": [
    "techIdx = pd.Index([], name = 'tech')\n",
    "techMIdx = pd.MultiIndex.from_tuples([], names = ['tech','t'])\n",
    "db['techCost'] = pd.Series([], index = techMIdx)\n",
    "db['techPot'] = pd.Series([], index = techMIdx)\n",
    "db['DACCost'] = pd.Series(0, index = db('t'))\n",
    "db['tech'] = techIdx\n",
    "db['qCO2Base'] = 0\n",
    "\n",
    "db['uCO2'] = adj.rc_pd(db('qCO2'), db('s_p')) / adj.rc_pd(db('qS'), db('s_p')) # co2 share\n",
    "db['tauCO2agg'] = (db('tauCO2') * db('qCO2')).groupby('t').sum() / (db('qCO2').groupby('t').sum()) # average CO2 tax\n",
    "db['tauDist'] = pd.Series(1, index = db('tauCO2').index)\n",
    "db['qCO2agg'] = db('qCO2').groupby('t').sum()\n",
    "db['tauEffCO2'] = db('tauCO2').copy()"
   ]
  },
  {
   "cell_type": "markdown",
   "id": "5df42494-21cc-457f-9e84-72ee8def4c54",
   "metadata": {},
   "source": [
    "Add technology smoothing parameters (adhoc levels for now):"
   ]
  },
  {
   "cell_type": "code",
   "execution_count": 36,
   "id": "408b1501-4ecd-4a25-97fd-08bd5fffea47",
   "metadata": {},
   "outputs": [],
   "source": [
    "db.aom(pd.Series(1, index = db('t')), name = 'DACSmooth')\n",
    "db.aom(pd.Series([], index = db('techPot').index), name = 'techSmooth')"
   ]
  },
  {
   "cell_type": "markdown",
   "id": "1999ba39-e8fb-4ae1-a9bb-7f6938558d8e",
   "metadata": {},
   "source": [
    "## 6. Globals"
   ]
  },
  {
   "cell_type": "markdown",
   "id": "5d334ef9-62fa-453c-b483-6a76d75b3c26",
   "metadata": {},
   "source": [
    "Other parameters/variables used throughout:"
   ]
  },
  {
   "cell_type": "code",
   "execution_count": 37,
   "id": "fc3e0812-11d7-4c2d-972f-e1e51717aa6d",
   "metadata": {},
   "outputs": [],
   "source": [
    "db.aom(pd.Series(db('R_LR'), index = db('t')), name = 'Rrate', priority = 'first') # fix interest rate path at long run level\n",
    "db.aom(pd.Series(db('R_LR')*(1+db('infl_LR')), index = db('t')), name = 'iRate', priority = 'first')"
   ]
  },
  {
   "cell_type": "markdown",
   "id": "ba2bd6a9-7ada-4889-ada9-38bee41aa46a",
   "metadata": {},
   "source": [
    "## Export"
   ]
  },
  {
   "cell_type": "code",
   "execution_count": 38,
   "id": "ca44f295-2501-4d8f-bb2e-3e47657bad1d",
   "metadata": {},
   "outputs": [],
   "source": [
    "db.export(repo=d['data'])"
   ]
  }
 ],
 "metadata": {
  "kernelspec": {
   "display_name": "Python 3 (ipykernel)",
   "language": "python",
   "name": "python3"
  },
  "language_info": {
   "codemirror_mode": {
    "name": "ipython",
    "version": 3
   },
   "file_extension": ".py",
   "mimetype": "text/x-python",
   "name": "python",
   "nbconvert_exporter": "python",
   "pygments_lexer": "ipython3",
   "version": "3.11.8"
  }
 },
 "nbformat": 4,
 "nbformat_minor": 5
}
