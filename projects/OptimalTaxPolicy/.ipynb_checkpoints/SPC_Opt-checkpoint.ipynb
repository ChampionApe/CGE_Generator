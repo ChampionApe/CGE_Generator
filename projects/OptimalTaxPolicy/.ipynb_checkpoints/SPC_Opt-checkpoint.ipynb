{
 "cells": [
  {
   "cell_type": "code",
   "execution_count": 1,
   "id": "6100ee07-e0ed-431b-96c0-f5b4303a53e9",
   "metadata": {},
   "outputs": [],
   "source": [
    "clean_up = True # if True, remove all gams related files from working folder before starting\n",
    "%run stdPackages.ipynb\n",
    "os.chdir(main)\n",
    "%run stdPlotting.ipynb\n",
    "os.chdir(d['py'])\n",
    "from mCGE import CGE_OPT as CGE"
   ]
  },
  {
   "cell_type": "markdown",
   "id": "03ea64ee-5815-4f76-b455-1f660e8de04a",
   "metadata": {},
   "source": [
    "# Identify optimal regulation:"
   ]
  },
  {
   "cell_type": "markdown",
   "id": "72dac691-5593-48d9-b231-991aeb86de7b",
   "metadata": {},
   "source": [
    "*Load model:*"
   ]
  },
  {
   "cell_type": "code",
   "execution_count": 2,
   "id": "a448e018-1294-4969-81aa-2a00a7518461",
   "metadata": {},
   "outputs": [],
   "source": [
    "vName, t0 = 'vSPC', 2019\n",
    "name = '_'.join([vName, str(t0), 'CGE','calibration'])\n",
    "M = CGE.load(os.path.join(d['data'], name))"
   ]
  },
  {
   "cell_type": "markdown",
   "id": "a824663f-ad23-4e26-bbaf-33ee176cfca5",
   "metadata": {},
   "source": [
    "Allow the model to manipulate all output taxes (here specified as the rate on outputs from either production or household module):"
   ]
  },
  {
   "cell_type": "code",
   "execution_count": 3,
   "id": "ce6c04f2-0eae-43e4-883a-b2762924fffb",
   "metadata": {},
   "outputs": [
    {
     "name": "stderr",
     "output_type": "stream",
     "text": [
      "C:\\Users\\sxj477\\Anaconda3\\envs\\GAMS46\\Lib\\site-packages\\pyDatabases\\gpyDB\\database.py:525: FutureWarning: The behavior of array concatenation with empty entries is deprecated. In a future version, this will no longer exclude empty items when determining the result dtype. To retain the old behavior, exclude the empty entries before the concat operation.\n",
      "  return ss.combine_first(s)\n"
     ]
    }
   ],
   "source": [
    "M.m['W'].endogenousPol = [('tauS', ('or', [M.g('output', m = 'P'), M.g('L', m = 'HH')]))]\n",
    "# M.m['W'].endogenousPol = [('tauS', M.g('L', m = 'HH'))]\n",
    "M.m['W'].initStuff() # re-initialize groups"
   ]
  },
  {
   "cell_type": "markdown",
   "id": "994c1c62-ad50-4b9e-8604-d11f2994f84a",
   "metadata": {},
   "source": [
    "*Store baseline solution (with name based on regulation type):*"
   ]
  },
  {
   "cell_type": "code",
   "execution_count": 4,
   "id": "9986601d-43dd-4268-8b29-f199925d8ee2",
   "metadata": {},
   "outputs": [],
   "source": [
    "M.db.mergeInternal()\n",
    "M.opt = True\n",
    "M.m['W'].active = True"
   ]
  },
  {
   "cell_type": "markdown",
   "id": "f0f32507-9502-4e71-a982-cb631179c12b",
   "metadata": {},
   "source": [
    "Solve:"
   ]
  },
  {
   "cell_type": "code",
   "execution_count": 6,
   "id": "816b2a46-677a-4ee9-83d3-0ed6166bb429",
   "metadata": {},
   "outputs": [],
   "source": [
    "soldb = M.solve(state='B')"
   ]
  },
  {
   "cell_type": "markdown",
   "id": "d645120f-f38e-4717-b570-4645f69a7915",
   "metadata": {},
   "source": [
    "Check optimal solution:"
   ]
  },
  {
   "cell_type": "code",
   "execution_count": 11,
   "id": "03a4c93f-3e77-440f-ad64-be6671457d06",
   "metadata": {},
   "outputs": [
    {
     "data": {
      "text/plain": [
       "t     s           n         \n",
       "2019  DomProdSec  DomProdSec    0.0\n",
       "      HH          L             0.0\n",
       "      I_K         I_K           0.0\n",
       "2020  I_K         I_K           0.0\n",
       "Name: tauS, dtype: float64"
      ]
     },
     "execution_count": 11,
     "metadata": {},
     "output_type": "execute_result"
    }
   ],
   "source": [
    "soldb('tauS')"
   ]
  }
 ],
 "metadata": {
  "kernelspec": {
   "display_name": "Python 3 (ipykernel)",
   "language": "python",
   "name": "python3"
  },
  "language_info": {
   "codemirror_mode": {
    "name": "ipython",
    "version": 3
   },
   "file_extension": ".py",
   "mimetype": "text/x-python",
   "name": "python",
   "nbconvert_exporter": "python",
   "pygments_lexer": "ipython3",
   "version": "3.11.8"
  }
 },
 "nbformat": 4,
 "nbformat_minor": 5
}
