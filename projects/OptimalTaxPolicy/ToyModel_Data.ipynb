{
 "cells": [
  {
   "cell_type": "code",
   "execution_count": 1,
   "id": "7d6f0563-dcf9-48fd-8118-5096cc9af617",
   "metadata": {},
   "outputs": [
    {
     "name": "stdout",
     "output_type": "stream",
     "text": [
      "No clean-up of work-folder\n"
     ]
    }
   ],
   "source": [
    "%run stdPackages.ipynb\n",
    "os.chdir(d['py'])\n",
    "from modelData import *\n",
    "from gmsPython import nestingTree"
   ]
  },
  {
   "cell_type": "markdown",
   "id": "85f2f511-c65d-4c3b-b83d-a4e9fd58f961",
   "metadata": {},
   "source": [
    "## Simple Ramsey Model"
   ]
  },
  {
   "cell_type": "markdown",
   "id": "726f17e6-16df-4216-aa22-b4fc94af2db4",
   "metadata": {},
   "source": [
    "Set up simple Ramsey model with one sector:"
   ]
  },
  {
   "cell_type": "code",
   "execution_count": 2,
   "id": "5a00b447-604b-4856-851f-9766fdc86998",
   "metadata": {},
   "outputs": [],
   "source": [
    "db = GpyDB(name = 'toymodeldb', alias = [('n','nn'), ('s','ss')])"
   ]
  },
  {
   "cell_type": "markdown",
   "id": "f3a59ddc-1538-4e23-be37-7a18383ccbf6",
   "metadata": {},
   "source": [
    "Production and household sectors:"
   ]
  },
  {
   "cell_type": "code",
   "execution_count": 3,
   "id": "6458a1e0-2b5e-4ea7-bcd4-eaca750c01ca",
   "metadata": {},
   "outputs": [],
   "source": [
    "sp = pd.Index(['p'], name = 's')\n",
    "sh = pd.Index(['h'], name = 's')\n",
    "n  = pd.Index(['y','L','K', 'I_K'], name = 'n')\n",
    "db['dur_p'] = pd.Index(['K'], name = 'n')\n",
    "db['inv_p'] = pd.Index(['I_K'], name = 'n')\n",
    "db['dur2inv'] = pd.MultiIndex.from_tuples([('K','I_K')], names = ['n','nn'])\n",
    "t = pd.Index(range(10), name = 't')\n",
    "t0 = t[0:1]"
   ]
  },
  {
   "cell_type": "markdown",
   "id": "d70c845a-fdd2-4352-899f-98df8af86d43",
   "metadata": {},
   "source": [
    "Demand vector:"
   ]
  },
  {
   "cell_type": "code",
   "execution_count": 11,
   "id": "e0ab2669-50e5-4b94-8c86-140a390abe58",
   "metadata": {},
   "outputs": [],
   "source": [
    "db['qD'] = pd.Series([1, 1, .05], index = pd.MultiIndex.from_product([t0, sp, pd.Index(['L','K', 'I_K'], name = 'n')]))\n",
    "db['rDepr'] = pd.Series(.05, index = pd.MultiIndex.from_product([t0, sp, db('dur_p')]))\n",
    "db['Rrate'] = pd.Series(1.03, index = t)\n",
    "db['R_LR'] = gpy(1.03, name = 'R_LR', type = 'par')"
   ]
  }
 ],
 "metadata": {
  "kernelspec": {
   "display_name": "Python 3 (ipykernel)",
   "language": "python",
   "name": "python3"
  },
  "language_info": {
   "codemirror_mode": {
    "name": "ipython",
    "version": 3
   },
   "file_extension": ".py",
   "mimetype": "text/x-python",
   "name": "python",
   "nbconvert_exporter": "python",
   "pygments_lexer": "ipython3",
   "version": "3.11.8"
  }
 },
 "nbformat": 4,
 "nbformat_minor": 5
}
