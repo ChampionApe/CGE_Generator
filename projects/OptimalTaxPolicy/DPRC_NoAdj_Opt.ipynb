{
 "cells": [
  {
   "cell_type": "code",
   "execution_count": 1,
   "id": "6100ee07-e0ed-431b-96c0-f5b4303a53e9",
   "metadata": {},
   "outputs": [
    {
     "name": "stdout",
     "output_type": "stream",
     "text": [
      "The file _gams_py_gdb0.gdx is still active and was not deleted.\n",
      "The file _gams_py_gdb1.gdx is still active and was not deleted.\n",
      "The file _gams_py_gdb2.gdx is still active and was not deleted.\n",
      "The file _gams_py_gdb3.gdx is still active and was not deleted.\n",
      "The file _gams_py_gdb4.gdx is still active and was not deleted.\n"
     ]
    }
   ],
   "source": [
    "clean_up = True # if True, remove all gams related files from working folder before starting\n",
    "%run stdPackages.ipynb\n",
    "os.chdir(main)\n",
    "%run stdPlotting.ipynb\n",
    "os.chdir(d['py'])\n",
    "from mCGE import CGE_OPT as CGE"
   ]
  },
  {
   "cell_type": "markdown",
   "id": "03ea64ee-5815-4f76-b455-1f660e8de04a",
   "metadata": {},
   "source": [
    "# Shocks"
   ]
  },
  {
   "cell_type": "markdown",
   "id": "72dac691-5593-48d9-b231-991aeb86de7b",
   "metadata": {},
   "source": [
    "*Load model:*"
   ]
  },
  {
   "cell_type": "code",
   "execution_count": 2,
   "id": "a448e018-1294-4969-81aa-2a00a7518461",
   "metadata": {},
   "outputs": [],
   "source": [
    "vName, t0 = 'vDPRC_noAdj', 2019\n",
    "name = '_'.join([vName, str(t0), 'CGE','calibration'])\n",
    "M = CGE.load(os.path.join(d['data'], name))\n",
    "db = M.db.copy() # store baseline model for later"
   ]
  },
  {
   "cell_type": "markdown",
   "id": "b742e535-06a2-4ea3-93ea-3dd3a4face5e",
   "metadata": {},
   "source": [
    "### 1. Identify optimal regulation:"
   ]
  },
  {
   "cell_type": "markdown",
   "id": "d4885734-69c1-4585-947b-e587f7a71a38",
   "metadata": {},
   "source": [
    "*How does optimal regulation look like with labor atxes only:*"
   ]
  },
  {
   "cell_type": "code",
   "execution_count": 3,
   "id": "bb7832ab-0b4d-4774-aa16-8d5420d3ad59",
   "metadata": {},
   "outputs": [
    {
     "name": "stderr",
     "output_type": "stream",
     "text": [
      "C:\\Users\\sxj477\\Anaconda3\\envs\\GAMS46\\Lib\\site-packages\\pyDatabases\\gpyDB\\database.py:525: FutureWarning: The behavior of array concatenation with empty entries is deprecated. In a future version, this will no longer exclude empty items when determining the result dtype. To retain the old behavior, exclude the empty entries before the concat operation.\n",
      "  return ss.combine_first(s)\n"
     ]
    }
   ],
   "source": [
    "M.m['W'].endogenousPol = [('tauS', M.g('L', m = 'HH'))]\n",
    "M.m['W'].initStuff() # re-initialize groups"
   ]
  },
  {
   "cell_type": "markdown",
   "id": "74d94a73-4ca2-473b-adc5-5f94cbe14f4a",
   "metadata": {},
   "source": [
    "Update database and module structure:"
   ]
  },
  {
   "cell_type": "code",
   "execution_count": 4,
   "id": "6fe20e98-b604-4453-852e-87ef8a7b208b",
   "metadata": {},
   "outputs": [],
   "source": [
    "M.db.mergeInternal()\n",
    "M.opt = True\n",
    "M.m['W'].active = True"
   ]
  },
  {
   "cell_type": "markdown",
   "id": "88aa3b5d-50ca-4ebe-9495-2a49a2930554",
   "metadata": {},
   "source": [
    "Solve:"
   ]
  },
  {
   "cell_type": "code",
   "execution_count": 5,
   "id": "f9b3ca65-b2bf-4e20-b62e-44c01474b62f",
   "metadata": {},
   "outputs": [],
   "source": [
    "opt1 = M.solve(state='B')"
   ]
  },
  {
   "cell_type": "markdown",
   "id": "e2497b18-8465-4ef1-8e48-c11a858a83c2",
   "metadata": {},
   "source": [
    "Check it out:"
   ]
  },
  {
   "cell_type": "code",
   "execution_count": 6,
   "id": "2610653b-0160-471e-9fa5-023666e727a4",
   "metadata": {},
   "outputs": [
    {
     "data": {
      "image/png": "[encoded data removed]",
      "text/plain": [
       "<Figure size 400x300 with 1 Axes>"
      ]
     },
     "metadata": {},
     "output_type": "display_data"
    }
   ],
   "source": [
    "opt1('tauS').xs(('HH','L'),level=['s','n']).plot(figsize=(4,3));"
   ]
  },
  {
   "cell_type": "markdown",
   "id": "d657437f-7afc-407a-b0d3-a806bdfa635f",
   "metadata": {},
   "source": [
    "Adjust and allow for production taxes as well:"
   ]
  },
  {
   "cell_type": "code",
   "execution_count": 7,
   "id": "5f870ac7-88cb-4eb0-ab00-737a7ba7ed86",
   "metadata": {},
   "outputs": [],
   "source": [
    "instruments = ('or', [M.g('output', m = 'P'), M.g('L', m = 'HH')]) \n",
    "fullCondition = ('and', [instruments, M.g('txE')])\n",
    "M.m['W'].endogenousPol = [('tauS', fullCondition)] # everything all at once\n",
    "M.m['W'].initStuff() # re-initialize groups\n",
    "M.db.mergeInternal();"
   ]
  },
  {
   "cell_type": "markdown",
   "id": "b6a31edd-0432-41ae-a0b9-f4b21bb701ac",
   "metadata": {},
   "source": [
    "New test:"
   ]
  },
  {
   "cell_type": "code",
   "execution_count": 8,
   "id": "f99dc4ea-c506-4286-92b6-004ef560bdd1",
   "metadata": {},
   "outputs": [],
   "source": [
    "opt2 = M.solve(state = 'B')"
   ]
  },
  {
   "cell_type": "markdown",
   "id": "1080dafb-fef3-4e8d-af89-ad069fa45a78",
   "metadata": {},
   "source": [
    "Check it out:"
   ]
  },
  {
   "cell_type": "code",
   "execution_count": 9,
   "id": "bc7abb75-2e7a-4fd8-98c8-38591577b9b4",
   "metadata": {},
   "outputs": [
    {
     "data": {
      "image/png": "[encoded data removed]",
      "text/plain": [
       "<Figure size 400x300 with 1 Axes>"
      ]
     },
     "metadata": {},
     "output_type": "display_data"
    }
   ],
   "source": [
    "opt2('tauS').xs(('HH','L'),level=['s','n']).plot(figsize=(4,3));"
   ]
  },
  {
   "cell_type": "code",
   "execution_count": 10,
   "id": "d9f39e2f-b46d-420d-9db3-9ac84741d988",
   "metadata": {},
   "outputs": [
    {
     "data": {
      "image/png": "[encoded data removed]",
      "text/plain": [
       "<Figure size 400x300 with 1 Axes>"
      ]
     },
     "metadata": {},
     "output_type": "display_data"
    }
   ],
   "source": [
    "opt2('tauS').xs(('DomProdSec','DomProdSec'),level=['s','n']).plot(figsize=(4,3));"
   ]
  },
  {
   "cell_type": "markdown",
   "id": "d5a73a72-02e2-4805-b592-772948767cac",
   "metadata": {},
   "source": [
    "*Try to adjust the initial level of capital and then optimize using taxes:*"
   ]
  },
  {
   "cell_type": "code",
   "execution_count": 11,
   "id": "5db33e2f-b937-4a17-a6d7-cab0ad9ef189",
   "metadata": {},
   "outputs": [],
   "source": [
    "M.db.aom(adj.rc_pd(M.db('qD'), ('and', [M.g('t0'), M.g('dur_p')])) * 0.9, name = 'qD')\n",
    "M.m['W'].endogenousPol = [('tauS', M.g('L', m = 'HH'))]\n",
    "M.m['W'].initStuff() # re-initialize groups\n",
    "M.db.mergeInternal()"
   ]
  },
  {
   "cell_type": "markdown",
   "id": "dc075349-1d08-4fe4-a089-568142cd45ca",
   "metadata": {},
   "source": [
    "Test:"
   ]
  },
  {
   "cell_type": "code",
   "execution_count": 12,
   "id": "cc67428d-60b1-481a-b64e-0cb13fc3959d",
   "metadata": {},
   "outputs": [],
   "source": [
    "opt3 = M.solve(state='B')"
   ]
  },
  {
   "cell_type": "markdown",
   "id": "f1dc352d-93f3-4cc6-a33e-890c6e6488d7",
   "metadata": {},
   "source": [
    "Check taxes:"
   ]
  },
  {
   "cell_type": "code",
   "execution_count": 13,
   "id": "b32695ce-6228-4d3a-9010-c8bb0391ca31",
   "metadata": {},
   "outputs": [
    {
     "data": {
      "image/png": "[encoded data removed]",
      "text/plain": [
       "<Figure size 400x300 with 1 Axes>"
      ]
     },
     "metadata": {},
     "output_type": "display_data"
    }
   ],
   "source": [
    "opt3('tauS').xs(('HH','L'),level=['s','n']).plot(figsize=(4,3));"
   ]
  },
  {
   "cell_type": "markdown",
   "id": "fa320879-5984-4e72-8788-871ae9f5ec85",
   "metadata": {},
   "source": [
    "Same again, but with more tax instruments:"
   ]
  },
  {
   "cell_type": "code",
   "execution_count": 14,
   "id": "4c1b45f3-5faf-43c9-a6cd-63f9526675e0",
   "metadata": {},
   "outputs": [],
   "source": [
    "M.m['W'].endogenousPol = [('tauS', fullCondition)] \n",
    "M.m['W'].initStuff() # re-initialize groups\n",
    "M.db.mergeInternal()"
   ]
  },
  {
   "cell_type": "markdown",
   "id": "0f7b4e96-7e5a-4f82-a1d4-94de533ea911",
   "metadata": {},
   "source": [
    "Solve:"
   ]
  },
  {
   "cell_type": "code",
   "execution_count": 15,
   "id": "30a60bd2-b693-417c-bf48-0e2080f7548e",
   "metadata": {},
   "outputs": [],
   "source": [
    "opt4 = M.solve(state = 'B')"
   ]
  },
  {
   "cell_type": "markdown",
   "id": "002c2173-5242-4838-9cfd-ed1a814fdea8",
   "metadata": {},
   "source": [
    "Check it out (almost no taxes):"
   ]
  },
  {
   "cell_type": "code",
   "execution_count": 16,
   "id": "3136c7e4-5a9f-4a12-a41e-62cb57891c9e",
   "metadata": {},
   "outputs": [
    {
     "data": {
      "text/plain": [
       "1.765228040762907e-06"
      ]
     },
     "execution_count": 16,
     "metadata": {},
     "output_type": "execute_result"
    }
   ],
   "source": [
    "abs(opt4('tauS')).max()"
   ]
  },
  {
   "cell_type": "code",
   "execution_count": 17,
   "id": "702fa105-a339-49cd-9b8e-424c677852c8",
   "metadata": {},
   "outputs": [
    {
     "data": {
      "image/png": "[encoded data removed]",
      "text/plain": [
       "<Figure size 400x300 with 1 Axes>"
      ]
     },
     "metadata": {},
     "output_type": "display_data"
    }
   ],
   "source": [
    "opt4('tauS').xs(('HH','L'),level=['s','n']).plot(figsize=(4,3));"
   ]
  },
  {
   "cell_type": "code",
   "execution_count": 18,
   "id": "dd28c146-84cc-41de-bb2c-e3e9784af02b",
   "metadata": {},
   "outputs": [
    {
     "data": {
      "image/png": "[encoded data removed]",
      "text/plain": [
       "<Figure size 400x300 with 1 Axes>"
      ]
     },
     "metadata": {},
     "output_type": "display_data"
    }
   ],
   "source": [
    "opt4('tauS').xs(('DomProdSec','DomProdSec'),level=['s','n']).plot(figsize=(4,3));"
   ]
  }
 ],
 "metadata": {
  "kernelspec": {
   "display_name": "Python 3 (ipykernel)",
   "language": "python",
   "name": "python3"
  },
  "language_info": {
   "codemirror_mode": {
    "name": "ipython",
    "version": 3
   },
   "file_extension": ".py",
   "mimetype": "text/x-python",
   "name": "python",
   "nbconvert_exporter": "python",
   "pygments_lexer": "ipython3",
   "version": "3.11.8"
  }
 },
 "nbformat": 4,
 "nbformat_minor": 5
}
