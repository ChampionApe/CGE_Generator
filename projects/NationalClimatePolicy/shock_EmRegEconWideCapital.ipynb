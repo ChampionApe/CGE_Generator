{
 "cells": [
  {
   "cell_type": "code",
   "execution_count": 1,
   "id": "43dd80b1-f8db-4330-9f23-e6c4be52c0ef",
   "metadata": {},
   "outputs": [],
   "source": [
    "clean_up = True # if True, remove all gams related files from working folder before starting\n",
    "%run stdPackages.ipynb\n",
    "os.chdir(main)\n",
    "%run stdPlotting.ipynb\n",
    "os.chdir(d['py'])\n",
    "from mCGE import NCP_CGE as CGE"
   ]
  },
  {
   "cell_type": "markdown",
   "id": "054173a1-f92f-4076-8606-7bdbfac4c244",
   "metadata": {},
   "source": [
    "# Comparing Emission Regulation Types"
   ]
  },
  {
   "cell_type": "markdown",
   "id": "90d89cc5-c00e-464e-8f88-669cfdcfd491",
   "metadata": {},
   "source": [
    "*Load model:*"
   ]
  },
  {
   "cell_type": "code",
   "execution_count": 2,
   "id": "5600f316-501b-4fbf-a9b0-835d9df08239",
   "metadata": {},
   "outputs": [],
   "source": [
    "vName, t0 = 'vLarge', 2019\n",
    "name = '_'.join([vName, str(t0), 'CGE','EmRegEconWideCapital'])\n",
    "M = CGE.load(os.path.join(d['data'], name))"
   ]
  },
  {
   "cell_type": "markdown",
   "id": "3b006862-ed9b-4358-834c-31f84b6d1543",
   "metadata": {},
   "source": [
    "*Store baseline solution (with name based on regulation type):*"
   ]
  },
  {
   "cell_type": "code",
   "execution_count": 3,
   "id": "eebfd047-ce58-442f-8869-a7af5b6d2128",
   "metadata": {},
   "outputs": [],
   "source": [
    "M.db.mergeInternal()\n",
    "baseRegulation = M.regulation\n",
    "dbs = {}\n",
    "dbs[M.regulation] = M.solve(state = 'B')"
   ]
  },
  {
   "cell_type": "markdown",
   "id": "b92fbc92-6772-4ee2-b7d7-56f99f3d8573",
   "metadata": {},
   "source": [
    "## 2. Regulation shocks"
   ]
  },
  {
   "cell_type": "markdown",
   "id": "a80487dd-64b9-4ac6-98f0-5125793cebe9",
   "metadata": {},
   "source": [
    "### 2.1. Remove emission targets, check for effect of uniform increase in taxes"
   ]
  },
  {
   "cell_type": "code",
   "execution_count": 4,
   "id": "bf899b7c-c763-4e61-a7bf-c2fc1fb37ef5",
   "metadata": {},
   "outputs": [],
   "source": [
    "M.regulation = None\n",
    "M.m['M'].regulation = None\n",
    "M.db.aom(adj.rc_pd(M.db('tauCO2agg'), M.db('t0')) * 1.5)"
   ]
  },
  {
   "cell_type": "code",
   "execution_count": 5,
   "id": "19d4638a-bc3d-4d21-a513-3ee8580486cb",
   "metadata": {},
   "outputs": [
    {
     "ename": "GamsExceptionExecution",
     "evalue": "GAMS return code not 0 (3), check C:\\Users\\sxj477\\Documents\\GitHub\\CGE_Generator\\work_folder\\_gams_py_gjo1.lst for more details",
     "output_type": "error",
     "traceback": [
      "\u001b[1;31m---------------------------------------------------------------------------\u001b[0m",
      "\u001b[1;31mGamsExceptionExecution\u001b[0m                    Traceback (most recent call last)",
      "Cell \u001b[1;32mIn[5], line 1\u001b[0m\n\u001b[1;32m----> 1\u001b[0m sol_CO2t0 \u001b[38;5;241m=\u001b[39m M\u001b[38;5;241m.\u001b[39msolve(state \u001b[38;5;241m=\u001b[39m \u001b[38;5;124m'\u001b[39m\u001b[38;5;124mB\u001b[39m\u001b[38;5;124m'\u001b[39m)\n",
      "File \u001b[1;32m~\\Documents\\GitHub\\CGE_Generator\\py\\mCGE.py:97\u001b[0m, in \u001b[0;36mCGE.solve\u001b[1;34m(self, text, state)\u001b[0m\n\u001b[0;32m     95\u001b[0m \u001b[38;5;28;01mdef\u001b[39;00m \u001b[38;5;21msolve\u001b[39m(\u001b[38;5;28mself\u001b[39m, text \u001b[38;5;241m=\u001b[39m \u001b[38;5;28;01mNone\u001b[39;00m, state \u001b[38;5;241m=\u001b[39m \u001b[38;5;124m'\u001b[39m\u001b[38;5;124mB\u001b[39m\u001b[38;5;124m'\u001b[39m):\n\u001b[0;32m     96\u001b[0m \t\u001b[38;5;28mself\u001b[39m\u001b[38;5;241m.\u001b[39mjob \u001b[38;5;241m=\u001b[39m \u001b[38;5;28mself\u001b[39m\u001b[38;5;241m.\u001b[39mws\u001b[38;5;241m.\u001b[39madd_job_from_string(noneInit(text, \u001b[38;5;28mself\u001b[39m\u001b[38;5;241m.\u001b[39mwrite(state \u001b[38;5;241m=\u001b[39m state)))\n\u001b[1;32m---> 97\u001b[0m \t\u001b[38;5;28mself\u001b[39m\u001b[38;5;241m.\u001b[39mjob\u001b[38;5;241m.\u001b[39mrun(databases \u001b[38;5;241m=\u001b[39m \u001b[38;5;28mself\u001b[39m\u001b[38;5;241m.\u001b[39mdb\u001b[38;5;241m.\u001b[39mdatabase)\n\u001b[0;32m     98\u001b[0m \t\u001b[38;5;28mself\u001b[39m\u001b[38;5;241m.\u001b[39mout_db \u001b[38;5;241m=\u001b[39m GpyDB(\u001b[38;5;28mself\u001b[39m\u001b[38;5;241m.\u001b[39mjob\u001b[38;5;241m.\u001b[39mout_db, ws \u001b[38;5;241m=\u001b[39m \u001b[38;5;28mself\u001b[39m\u001b[38;5;241m.\u001b[39mws)\n\u001b[0;32m     99\u001b[0m \t\u001b[38;5;28;01mreturn\u001b[39;00m \u001b[38;5;28mself\u001b[39m\u001b[38;5;241m.\u001b[39mout_db\n",
      "File \u001b[1;32m~\\Anaconda3\\envs\\GAMS46\\Lib\\site-packages\\gams\\control\\execution.py:1057\u001b[0m, in \u001b[0;36mGamsJob.run\u001b[1;34m(self, gams_options, checkpoint, output, create_out_db, databases)\u001b[0m\n\u001b[0;32m   1055\u001b[0m         \u001b[38;5;28;01mraise\u001b[39;00m gams\u001b[38;5;241m.\u001b[39mcontrol\u001b[38;5;241m.\u001b[39mworkspace\u001b[38;5;241m.\u001b[39mGamsExceptionExecution(\u001b[38;5;124m\"\u001b[39m\u001b[38;5;124mGAMS return code not 0 (\u001b[39m\u001b[38;5;124m\"\u001b[39m \u001b[38;5;241m+\u001b[39m \u001b[38;5;28mstr\u001b[39m(exitcode) \u001b[38;5;241m+\u001b[39m \u001b[38;5;124m\"\u001b[39m\u001b[38;5;124m), set the debug flag of the GamsWorkspace constructor to DebugLevel.KeepFilesOnError or higher or define a working_directory to receive a listing file with more details\u001b[39m\u001b[38;5;124m\"\u001b[39m, exitcode, \u001b[38;5;28mself\u001b[39m\u001b[38;5;241m.\u001b[39m_workspace)\n\u001b[0;32m   1056\u001b[0m     \u001b[38;5;28;01melse\u001b[39;00m:\n\u001b[1;32m-> 1057\u001b[0m         \u001b[38;5;28;01mraise\u001b[39;00m gams\u001b[38;5;241m.\u001b[39mcontrol\u001b[38;5;241m.\u001b[39mworkspace\u001b[38;5;241m.\u001b[39mGamsExceptionExecution(\u001b[38;5;124m\"\u001b[39m\u001b[38;5;124mGAMS return code not 0 (\u001b[39m\u001b[38;5;124m\"\u001b[39m \u001b[38;5;241m+\u001b[39m \u001b[38;5;28mstr\u001b[39m(exitcode) \u001b[38;5;241m+\u001b[39m \u001b[38;5;124m\"\u001b[39m\u001b[38;5;124m), check \u001b[39m\u001b[38;5;124m\"\u001b[39m \u001b[38;5;241m+\u001b[39m \u001b[38;5;28mself\u001b[39m\u001b[38;5;241m.\u001b[39m_workspace\u001b[38;5;241m.\u001b[39m_working_directory \u001b[38;5;241m+\u001b[39m os\u001b[38;5;241m.\u001b[39mpath\u001b[38;5;241m.\u001b[39msep \u001b[38;5;241m+\u001b[39m tmp_opt\u001b[38;5;241m.\u001b[39moutput \u001b[38;5;241m+\u001b[39m \u001b[38;5;124m\"\u001b[39m\u001b[38;5;124m for more details\u001b[39m\u001b[38;5;124m\"\u001b[39m, exitcode, \u001b[38;5;28mself\u001b[39m\u001b[38;5;241m.\u001b[39m_workspace)\n\u001b[0;32m   1058\u001b[0m \u001b[38;5;28mself\u001b[39m\u001b[38;5;241m.\u001b[39m_p \u001b[38;5;241m=\u001b[39m \u001b[38;5;28;01mNone\u001b[39;00m\n\u001b[0;32m   1060\u001b[0m \u001b[38;5;28mself\u001b[39m\u001b[38;5;241m.\u001b[39m_remove_tmp_cp(tmp_cp, checkpoint)\n",
      "\u001b[1;31mGamsExceptionExecution\u001b[0m: GAMS return code not 0 (3), check C:\\Users\\sxj477\\Documents\\GitHub\\CGE_Generator\\work_folder\\_gams_py_gjo1.lst for more details"
     ]
    }
   ],
   "source": [
    "sol_CO2t0 = M.solve(state = 'B')"
   ]
  },
  {
   "cell_type": "markdown",
   "id": "b0d0a143-c56a-4464-9ee6-0ed3b249d56a",
   "metadata": {},
   "source": [
    "### 2.2. Optimization with Single-year targets"
   ]
  },
  {
   "cell_type": "markdown",
   "id": "74a715b0-0c7d-48b7-b46c-ecfed941c3ff",
   "metadata": {},
   "source": [
    "Adjust type of regulation and re-solve:"
   ]
  },
  {
   "cell_type": "code",
   "execution_count": 4,
   "id": "31ba3596-a061-478a-82d6-3a72df3e5ac3",
   "metadata": {},
   "outputs": [],
   "source": [
    "M.regulation = 'SYT_OPT'\n",
    "M.m['M'].regulation = 'SYT_OPT'\n",
    "dbs[M.regulation] = M.solve(state = 'B')"
   ]
  },
  {
   "cell_type": "code",
   "execution_count": 6,
   "id": "484170fb-ecc1-4ac5-9610-181cef98e462",
   "metadata": {},
   "outputs": [],
   "source": [
    "db = dbs['SYT_OPT']"
   ]
  },
  {
   "cell_type": "code",
   "execution_count": 7,
   "id": "26a4c039-162c-46de-9f9b-46adb2140016",
   "metadata": {},
   "outputs": [
    {
     "data": {
      "text/plain": [
       "t\n",
       "2019    0.987591\n",
       "2020    0.959880\n",
       "2021    1.018337\n",
       "2022    0.963115\n",
       "2023    0.999153\n",
       "          ...   \n",
       "2090    0.992688\n",
       "2091    0.992687\n",
       "2092    0.992686\n",
       "2093    0.992684\n",
       "2094    1.000000\n",
       "Name: p, Length: 76, dtype: float64"
      ]
     },
     "execution_count": 7,
     "metadata": {},
     "output_type": "execute_result"
    }
   ],
   "source": [
    "db('p').xs('L',level='n')"
   ]
  },
  {
   "cell_type": "code",
   "execution_count": 8,
   "id": "a4e01abf-6b3b-42ee-ab30-e914c1ebe3fd",
   "metadata": {},
   "outputs": [
    {
     "data": {
      "text/plain": [
       "t     n      \n",
       "2019  agg24      1.008454\n",
       "      agg4       0.997055\n",
       "      agg3       0.999659\n",
       "      agg12      1.008038\n",
       "      agg2       0.995935\n",
       "                   ...   \n",
       "2094  agg13_F    1.000000\n",
       "      agg5_F     1.000000\n",
       "      agg10_F    1.000000\n",
       "      K          0.000000\n",
       "      L          1.000000\n",
       "Name: p, Length: 4180, dtype: float64"
      ]
     },
     "execution_count": 8,
     "metadata": {},
     "output_type": "execute_result"
    }
   ],
   "source": [
    "db('p')"
   ]
  },
  {
   "cell_type": "markdown",
   "id": "9b26e833-47d4-4551-970e-48a46fee5435",
   "metadata": {
    "jp-MarkdownHeadingCollapsed": true
   },
   "source": [
    "### 2.2. Linear reduction path"
   ]
  },
  {
   "cell_type": "markdown",
   "id": "53dbf9e8-6527-4b17-b055-81d673013a1b",
   "metadata": {},
   "source": [
    "Start from the single-year target approach with Hotelling Rule:"
   ]
  },
  {
   "cell_type": "code",
   "execution_count": 12,
   "id": "ae565ede-512b-46e3-81df-f1aeedefdda5",
   "metadata": {},
   "outputs": [],
   "source": [
    "M.regulation = 'LRP'\n",
    "M.m['M'].regulation = 'LRP'\n",
    "dbs[M.regulation] = M.solve(state = 'B')"
   ]
  },
  {
   "cell_type": "markdown",
   "id": "eeb53a5d-461b-4b7e-8dbe-2fd829d134b3",
   "metadata": {
    "jp-MarkdownHeadingCollapsed": true
   },
   "source": [
    "### 2.3. Emission budget"
   ]
  },
  {
   "cell_type": "markdown",
   "id": "f0113fbb-aa85-45c0-8045-7580e1c3ccfb",
   "metadata": {},
   "source": [
    "Start from the single-year target approach with Hotelling Rule:"
   ]
  },
  {
   "cell_type": "code",
   "execution_count": 13,
   "id": "7eb420d0-5fbb-42fb-97c2-f765594fd99b",
   "metadata": {},
   "outputs": [],
   "source": [
    "M.regulation = 'EB_HR'\n",
    "M.m['M'].regulation = 'EB_HR'\n",
    "dbs[M.regulation] = M.solve(state = 'B')"
   ]
  },
  {
   "cell_type": "markdown",
   "id": "454915b1-dceb-4695-b523-d87e2491e8cb",
   "metadata": {
    "jp-MarkdownHeadingCollapsed": true
   },
   "source": [
    "### 2.4. Emission budget, optimal"
   ]
  },
  {
   "cell_type": "markdown",
   "id": "3a526c79-2cd6-43ed-948f-49f3923c341f",
   "metadata": {},
   "source": [
    "Adjust type of regulation and re-solve:"
   ]
  },
  {
   "cell_type": "code",
   "execution_count": 14,
   "id": "89ff74a1-3ed2-4a20-93c2-f6b892480c78",
   "metadata": {},
   "outputs": [],
   "source": [
    "M.regulation = 'EB_OPT'\n",
    "M.m['M'].regulation = 'EB_OPT'\n",
    "dbs[M.regulation] = M.solve(state = 'B')"
   ]
  },
  {
   "cell_type": "markdown",
   "id": "c19ad90d-a19f-4190-8f16-63ac6ae708c8",
   "metadata": {},
   "source": [
    "Compute abatement capital from this formulation:"
   ]
  }
 ],
 "metadata": {
  "kernelspec": {
   "display_name": "Python 3 (ipykernel)",
   "language": "python",
   "name": "python3"
  },
  "language_info": {
   "codemirror_mode": {
    "name": "ipython",
    "version": 3
   },
   "file_extension": ".py",
   "mimetype": "text/x-python",
   "name": "python",
   "nbconvert_exporter": "python",
   "pygments_lexer": "ipython3",
   "version": "3.11.8"
  }
 },
 "nbformat": 4,
 "nbformat_minor": 5
}
