{
 "cells": [
  {
   "cell_type": "markdown",
   "id": "9266345e-7c7c-4254-807f-7ade0d4cec37",
   "metadata": {},
   "source": [
    "# Production Module in Partial Equilibrium"
   ]
  },
  {
   "cell_type": "code",
   "execution_count": 1,
   "id": "7d52cfc1-64cf-47d9-8342-ef576cf80f77",
   "metadata": {},
   "outputs": [
    {
     "name": "stdout",
     "output_type": "stream",
     "text": [
      "The file _gams_py_gdb0.gdx is still active and was not deleted.\n"
     ]
    }
   ],
   "source": [
    "clean_up = True # if True, remove all gams related files from working folder before starting\n",
    "%run stdPackages.ipynb\n",
    "os.chdir(main)\n",
    "%run stdPlotting.ipynb\n",
    "os.chdir(d['py'])\n",
    "from gmsPython import nestingTree\n",
    "from valueShares import nestedShares\n",
    "from mProduction import NestedCES, NestedCES_PC"
   ]
  },
  {
   "cell_type": "markdown",
   "id": "dd5cef85-c207-4f4f-916f-6cf7e5b369f7",
   "metadata": {},
   "source": [
    "## 1. Data and nesting structure"
   ]
  },
  {
   "cell_type": "markdown",
   "id": "e4f3dbc7-cb3a-40e2-b18a-9c577c2e122b",
   "metadata": {},
   "source": [
    "Load data:"
   ]
  },
  {
   "cell_type": "code",
   "execution_count": 2,
   "id": "1429e007-79d0-4de0-996f-a987716478ee",
   "metadata": {},
   "outputs": [],
   "source": [
    "t0 = 2019 # set baseline year\n",
    "name = 'vLarge' # specify name of the CGE version we are currently working on\n",
    "db = GpyDB(os.path.join(d['data'], f'{name}_{t0}'), name = '_'.join([name, str(t0), 'SimpleEOP']), ws = d['work']) # load and rename database \n",
    "dbIO = db.copy() # create copy without adjustments made along the way\n",
    "ws = db.ws # run everything from the same ws"
   ]
  },
  {
   "cell_type": "markdown",
   "id": "49c73100-04c1-4b1a-8c72-25d33e6b8d18",
   "metadata": {},
   "source": [
    "Subset database to only include production sector variables:"
   ]
  },
  {
   "cell_type": "code",
   "execution_count": 3,
   "id": "51fb6586-28ed-4276-9430-493b8667218c",
   "metadata": {},
   "outputs": [],
   "source": [
    "# AggDB.subsetDB(db, db('s_p'))"
   ]
  },
  {
   "cell_type": "markdown",
   "id": "1a65f383-cf99-4175-900d-28bf89e08bfa",
   "metadata": {},
   "source": [
    "The production module is initialized with a nesting tree and value shares to identify the $\\mu$-share parameters of the nesting structure."
   ]
  },
  {
   "cell_type": "code",
   "execution_count": 4,
   "id": "ce5c1324-53ba-4d88-abf9-b7b35f8aaead",
   "metadata": {},
   "outputs": [
    {
     "data": {
      "text/plain": [
       "<gmsPython.nestingTree.nestingTree.AggTree at 0x22dd6a53090>"
      ]
     },
     "execution_count": 4,
     "metadata": {},
     "output_type": "execute_result"
    }
   ],
   "source": [
    "nest = nestingTree.Tree('P', tree = db('nestProduction').to_list(), f = 'CES')\n",
    "nestAgg = nestingTree.AggTree(name = 'P', trees = {t.name: t for t in [nest]}, ws = ws)\n",
    "nestAgg(namespace = {str(n)+'_input':n for n in db('n')})"
   ]
  },
  {
   "cell_type": "markdown",
   "id": "05f51491-b5b6-4174-9318-625c269ff762",
   "metadata": {},
   "source": [
    "Create value shares:"
   ]
  },
  {
   "cell_type": "code",
   "execution_count": 5,
   "id": "f5397fff-dd83-4cf6-ae0c-c704f7f85698",
   "metadata": {},
   "outputs": [],
   "source": [
    "v = nestedShares(nestAgg, ws = ws)\n",
    "db_p = v(dbIO)"
   ]
  },
  {
   "cell_type": "markdown",
   "id": "ce43fbc4-8dcc-49c8-9b6c-a8423c062897",
   "metadata": {},
   "source": [
    "Use share parameters and values to get initial values for intermediates:"
   ]
  },
  {
   "cell_type": "code",
   "execution_count": 6,
   "id": "89d96da5-f44c-4443-bbb4-591f6695b06c",
   "metadata": {},
   "outputs": [],
   "source": [
    "db.aom(db_p('mu').xs(t0), name = 'mu')\n",
    "db.aom(adj.rc_pd(db_p('vD'), nest.get('int')).rename('qD'), name = 'qD', priority = 'first') # specify intermediate goods levels"
   ]
  },
  {
   "cell_type": "markdown",
   "id": "f600b617-8fbc-4a78-bb2e-e2715e24c7eb",
   "metadata": {},
   "source": [
    "Use static user cost as initial guess for price on durables (if no other has been provided):"
   ]
  },
  {
   "cell_type": "code",
   "execution_count": 7,
   "id": "218a4244-1e7f-4162-8fb1-bd726a452a48",
   "metadata": {},
   "outputs": [],
   "source": [
    "db.aom(db('pD_dur'), name = 'pD', priority = 'first') # pD_dur includes an estimate of the long-run user-cost of capital"
   ]
  },
  {
   "cell_type": "markdown",
   "id": "dbd57bfe-19a3-4c7d-86f7-fa6dead6ff04",
   "metadata": {},
   "source": [
    "## 2. Small stuff"
   ]
  },
  {
   "cell_type": "markdown",
   "id": "19f5d5fe-734c-4b18-9246-d33bf8c9d728",
   "metadata": {},
   "source": [
    "*Clean up database a bit (this is not necessary, but it removes some variables that are not ultimately used in the model):*"
   ]
  },
  {
   "cell_type": "code",
   "execution_count": 8,
   "id": "97b95443-ca7e-453a-9530-f606c3a644b0",
   "metadata": {},
   "outputs": [],
   "source": [
    "[db.series.__delitem__(k) for k in ('vD','vTax', 'vD_dur','vD_depr','vD_inv', 'vS', 'pD_dur') if k in db.symbols];"
   ]
  },
  {
   "cell_type": "markdown",
   "id": "97a60217-557e-47ae-8f85-49d5643d0f90",
   "metadata": {},
   "source": [
    "For variables that are defined over $t$, but where we do not yet have an initial value for all $t$, extrapolate from data:\n",
    "\n",
    "*Note: This forces extrapolation of all variables defined over $t$ - if it is important that some variables are not extrapolated, they should be removed from this statement.*"
   ]
  },
  {
   "cell_type": "code",
   "execution_count": 9,
   "id": "1a8c01cd-68e8-4d59-809c-c5dfb35da478",
   "metadata": {},
   "outputs": [],
   "source": [
    "[symbol.__setattr__('vals', extrapolateUpper(symbol.vals, db('tE')[0])) for symbol in [db[k] for k in db.varDom('t')['t']]];"
   ]
  },
  {
   "cell_type": "markdown",
   "id": "1fedad38-ba9e-43e3-8bb8-893b271e3ef8",
   "metadata": {},
   "source": [
    "## 3. Initialize and calibrate model"
   ]
  },
  {
   "cell_type": "markdown",
   "id": "32911e22-fe79-42b9-8b56-f045ab54bb71",
   "metadata": {},
   "source": [
    "Initialize production module from the nesting tree. Specify that we are solving in partial equilibrium, that we want to draw on the method ```initFirmValue``` (from ```gamsProduction.py```) to get some of the initial values, and that we want to use the lump sum tax to calibrate total transfers to the government (choose between tauLump, tauS, tauD):"
   ]
  },
  {
   "cell_type": "code",
   "execution_count": 10,
   "id": "12aa93cd-c731-4c3a-9b64-d5f57e9e74f4",
   "metadata": {},
   "outputs": [],
   "source": [
    "m = NestedCES(nestAgg, partial = True, initFromGms = 'initFirmValue', taxInstr = 'tauLump')\n",
    "m.initStuff(db = db)"
   ]
  },
  {
   "cell_type": "markdown",
   "id": "87adfa81-04bf-415b-81e0-ae82a3bd9e32",
   "metadata": {},
   "source": [
    "Use $j$-terms solution approach for calibration:"
   ]
  },
  {
   "cell_type": "code",
   "execution_count": 11,
   "id": "889a0990-f810-42b8-9f0c-abcbaea1b128",
   "metadata": {},
   "outputs": [],
   "source": [
    "soldb = m.jSolve(25, state = 'C', ϕ = .75)"
   ]
  },
  {
   "cell_type": "markdown",
   "id": "8ce009f6-e930-4c27-bace-2673ac8f281c",
   "metadata": {},
   "source": [
    "## 4. Use calibration solution as initial data, test baseline solution"
   ]
  },
  {
   "cell_type": "markdown",
   "id": "9c06d687-5adc-4fbc-90ae-4c3d5865b973",
   "metadata": {},
   "source": [
    "Write solution to the main database again:"
   ]
  },
  {
   "cell_type": "code",
   "execution_count": 12,
   "id": "038febc7-9e73-41cb-a829-f56f1cc81ea5",
   "metadata": {},
   "outputs": [],
   "source": [
    "[m.db.__setitem__(k, soldb[k]) for k in m.db.getTypes(['var']) if k in soldb.symbols]; # use solution database\n",
    "m.db.mergeInternal()"
   ]
  },
  {
   "cell_type": "markdown",
   "id": "f02ec782-c000-4d7e-9ab8-21648ae6932c",
   "metadata": {},
   "source": [
    "Remove init methods (now we want to use values directly from database):"
   ]
  },
  {
   "cell_type": "code",
   "execution_count": 13,
   "id": "4b61c329-8537-47a0-b743-8bb5e103c7ca",
   "metadata": {},
   "outputs": [],
   "source": [
    "m.initFromGms = None"
   ]
  },
  {
   "cell_type": "markdown",
   "id": "e6b5da46-08bb-4508-b7d0-008dd65e10d4",
   "metadata": {},
   "source": [
    "Test baseline solution:"
   ]
  },
  {
   "cell_type": "code",
   "execution_count": 14,
   "id": "bde16c67-94f6-44e1-bae7-ebc59666b2df",
   "metadata": {},
   "outputs": [],
   "source": [
    "baseSol = m.solve(state = 'B')"
   ]
  },
  {
   "cell_type": "markdown",
   "id": "c86dd0ac-4a4d-4d4e-a5b9-46e650433468",
   "metadata": {},
   "source": [
    "## 5. Test version of \"perfect competition\""
   ]
  },
  {
   "cell_type": "code",
   "execution_count": 15,
   "id": "2e44d92c-7719-438a-9ab6-299cd37e8feb",
   "metadata": {
    "scrolled": true
   },
   "outputs": [
    {
     "name": "stderr",
     "output_type": "stream",
     "text": [
      "C:\\Users\\sxj477\\Anaconda3\\envs\\GAMS46\\Lib\\site-packages\\pyDatabases\\gpyDB\\database.py:525: FutureWarning: The behavior of array concatenation with empty entries is deprecated. In a future version, this will no longer exclude empty items when determining the result dtype. To retain the old behavior, exclude the empty entries before the concat operation.\n",
      "  return ss.combine_first(s)\n",
      "C:\\Users\\sxj477\\Anaconda3\\envs\\GAMS46\\Lib\\site-packages\\pyDatabases\\gpyDB\\database.py:525: FutureWarning: The behavior of array concatenation with empty entries is deprecated. In a future version, this will no longer exclude empty items when determining the result dtype. To retain the old behavior, exclude the empty entries before the concat operation.\n",
      "  return ss.combine_first(s)\n",
      "C:\\Users\\sxj477\\Anaconda3\\envs\\GAMS46\\Lib\\site-packages\\pyDatabases\\gpyDB\\database.py:525: FutureWarning: The behavior of array concatenation with empty entries is deprecated. In a future version, this will no longer exclude empty items when determining the result dtype. To retain the old behavior, exclude the empty entries before the concat operation.\n",
      "  return ss.combine_first(s)\n",
      "C:\\Users\\sxj477\\Anaconda3\\envs\\GAMS46\\Lib\\site-packages\\pyDatabases\\gpyDB\\database.py:525: FutureWarning: The behavior of array concatenation with empty entries is deprecated. In a future version, this will no longer exclude empty items when determining the result dtype. To retain the old behavior, exclude the empty entries before the concat operation.\n",
      "  return ss.combine_first(s)\n",
      "C:\\Users\\sxj477\\Anaconda3\\envs\\GAMS46\\Lib\\site-packages\\pyDatabases\\gpyDB\\database.py:525: FutureWarning: The behavior of array concatenation with empty entries is deprecated. In a future version, this will no longer exclude empty items when determining the result dtype. To retain the old behavior, exclude the empty entries before the concat operation.\n",
      "  return ss.combine_first(s)\n"
     ]
    }
   ],
   "source": [
    "mpc = NestedCES_PC(nestAgg, partial = True, taxInstr = 'tauLump')\n",
    "mpc.initStuff(db = db)\n",
    "soldb = mpc.jSolve(10, state = 'C')"
   ]
  }
 ],
 "metadata": {
  "kernelspec": {
   "display_name": "Python 3 (ipykernel)",
   "language": "python",
   "name": "python3"
  },
  "language_info": {
   "codemirror_mode": {
    "name": "ipython",
    "version": 3
   },
   "file_extension": ".py",
   "mimetype": "text/x-python",
   "name": "python",
   "nbconvert_exporter": "python",
   "pygments_lexer": "ipython3",
   "version": "3.11.8"
  }
 },
 "nbformat": 4,
 "nbformat_minor": 5
}
