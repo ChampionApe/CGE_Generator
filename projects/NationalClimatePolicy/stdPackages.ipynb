{
 "cells": [
  {
   "cell_type": "code",
   "execution_count": 1,
   "id": "ef5dbbb8-8d20-4748-96a3-327dc391bc6d",
   "metadata": {},
   "outputs": [
    {
     "name": "stdout",
     "output_type": "stream",
     "text": [
      "No clean-up of work-folder\n"
     ]
    }
   ],
   "source": [
    "import os, shutil\n",
    "repo = 'CGE_Generator'\n",
    "currProject = os.getcwd().rsplit(os.sep,1)[-1]\n",
    "main = f\"{os.getcwd().split(repo)[0]}{repo}\"\n",
    "os.chdir(main)\n",
    "%run stdPackages.ipynb\n",
    "os.chdir(main)\n",
    "%run stdPlotting.ipynb\n",
    "os.chdir(d['curr'])\n",
    "d['figs'] = os.path.join(d['curr'], 'figs')\n",
    "d['data'] = os.path.join(d['curr'], 'data')\n",
    "d['gams'] = os.path.join(d['curr'], 'gams')\n",
    "os.chdir(d['py'])\n",
    "import mEmissions, mProduction\n",
    "from gmsPython import nestingTree\n",
    "from valueShares import nestedShares"
   ]
  }
 ],
 "metadata": {
  "kernelspec": {
   "display_name": "Python 3 (ipykernel)",
   "language": "python",
   "name": "python3"
  },
  "language_info": {
   "codemirror_mode": {
    "name": "ipython",
    "version": 3
   },
   "file_extension": ".py",
   "mimetype": "text/x-python",
   "name": "python",
   "nbconvert_exporter": "python",
   "pygments_lexer": "ipython3",
   "version": "3.11.8"
  }
 },
 "nbformat": 4,
 "nbformat_minor": 5
}
