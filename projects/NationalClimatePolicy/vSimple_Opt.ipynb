{
 "cells": [
  {
   "cell_type": "code",
   "execution_count": 1,
   "id": "f97767c9-28fe-4fe6-a720-fea65dfc440f",
   "metadata": {},
   "outputs": [
    {
     "name": "stdout",
     "output_type": "stream",
     "text": [
      "The file _gams_py_gdb0.gdx is still active and was not deleted.\n",
      "The file _gams_py_gdb3.gdx is still active and was not deleted.\n",
      "The file _gams_py_gdb4.gdx is still active and was not deleted.\n",
      "The file _gams_py_gdb5.gdx is still active and was not deleted.\n"
     ]
    }
   ],
   "source": [
    "clean_up = True # if True, remove all gams related files from working folder before starting\n",
    "%run stdPackages.ipynb\n",
    "os.chdir(main)\n",
    "%run stdPlotting.ipynb\n",
    "os.chdir(d['py'])\n",
    "from mCGE import NCP_CGE as CGE\n",
    "from mEmissions import EmRegTargetsFromSYT, EmRegTargetsFromSYT_xt0"
   ]
  },
  {
   "cell_type": "markdown",
   "id": "9814b3d6-ce44-469b-a9ad-7dc02f0ef8ab",
   "metadata": {},
   "source": [
    "# Emission regulation"
   ]
  },
  {
   "cell_type": "code",
   "execution_count": 2,
   "id": "5b515a84-442d-4ae4-8402-125ad641579a",
   "metadata": {},
   "outputs": [],
   "source": [
    "vName, t0 = 'vSimple', 2019\n",
    "name = '_'.join([vName, str(t0), 'CGE','calibration'])\n",
    "M = CGE.load(os.path.join(d['data'], name))\n",
    "db = M.db.copy() # baseline\n",
    "dbs  = {}"
   ]
  },
  {
   "cell_type": "markdown",
   "id": "4f0f9855-b167-4faa-82bc-673f90fc286e",
   "metadata": {},
   "source": [
    "## 1. Define optimal regulation absent emission targets"
   ]
  },
  {
   "cell_type": "markdown",
   "id": "84a3c6eb-af17-4d85-991e-0f7e396e7beb",
   "metadata": {},
   "source": [
    "Allow the model to define optimal output taxes:"
   ]
  },
  {
   "cell_type": "code",
   "execution_count": 3,
   "id": "d9e8a1df-79b7-4f42-aa2f-424c822e3e5f",
   "metadata": {
    "scrolled": true
   },
   "outputs": [],
   "source": [
    "# instruments = ('or', [M.g('output', m = 'P'), M.g('L', m = 'HH')]) \n",
    "instruments = M.g('output', m = 'P')\n",
    "fullCondition = ('and', [instruments, M.g('tx2E')])\n",
    "M.m['W'].endogenousPol = [('tauS', fullCondition)] \n",
    "M.m['W'].initStuff() # re-initialize groups\n",
    "M.opt = True\n",
    "M.m['W'].active = True"
   ]
  },
  {
   "cell_type": "markdown",
   "id": "c71f121d-b36e-4e4a-b6d3-43fcb310fd4c",
   "metadata": {},
   "source": [
    "Solve for optimal taxes:"
   ]
  },
  {
   "cell_type": "code",
   "execution_count": 4,
   "id": "4b2f2f52-586f-4fe6-9ce9-a5a994e9069f",
   "metadata": {},
   "outputs": [],
   "source": [
    "dbs['opt'] = M.solve(state = 'B')"
   ]
  },
  {
   "cell_type": "markdown",
   "id": "c0004c71-21ab-4c82-99c5-74757599d0ae",
   "metadata": {},
   "source": [
    "Update database:"
   ]
  },
  {
   "cell_type": "code",
   "execution_count": 5,
   "id": "114c628f-501c-47db-9eef-c6871e88d5a7",
   "metadata": {
    "scrolled": true
   },
   "outputs": [
    {
     "data": {
      "text/plain": [
       "<pyDatabases.gpyDB.gpyDB.GpyDB at 0x223e709f350>"
      ]
     },
     "execution_count": 5,
     "metadata": {},
     "output_type": "execute_result"
    }
   ],
   "source": [
    "MergeDbs.merge(M.db, dbs['opt'])"
   ]
  },
  {
   "cell_type": "markdown",
   "id": "c3712398-3b28-4696-8f88-6585073d984e",
   "metadata": {},
   "source": [
    "Recalculate linear reduction paths based on this new baseline:"
   ]
  },
  {
   "cell_type": "code",
   "execution_count": 6,
   "id": "29dbd8e3-2fe4-4443-b9e8-74dfcddbbd3b",
   "metadata": {},
   "outputs": [],
   "source": [
    "targets = pd.Series([0], index = pd.Index([2050], name = 't'))\n",
    "[M.db.aom(v, name = k) for k,v in EmRegTargetsFromSYT_xt0(targets, db('t'), M.db('qCO2agg').xs(t0+1)).items()];"
   ]
  },
  {
   "cell_type": "markdown",
   "id": "5ac587a6-fa6e-4887-bc84-e1b1fd8729b8",
   "metadata": {},
   "source": [
    "## 2. Implement regulation"
   ]
  },
  {
   "cell_type": "code",
   "execution_count": 7,
   "id": "2115b73c-e984-4f5d-8c00-8b16a8f5da00",
   "metadata": {},
   "outputs": [],
   "source": [
    "tPlot = pd.Index(range(t0+1, 2060), name = 't')"
   ]
  },
  {
   "cell_type": "markdown",
   "id": "b4fa2671-31de-411a-b32e-8c675ef04a26",
   "metadata": {},
   "source": [
    "### 2.1. SYT"
   ]
  },
  {
   "cell_type": "code",
   "execution_count": 8,
   "id": "7118504b-3ef1-456a-a27b-d4988ad35698",
   "metadata": {},
   "outputs": [],
   "source": [
    "M.updateRegulation('SYT')\n",
    "M.m['M'].initStuff() # re-initialize group definitions etc.\n",
    "M.opt, M.m['W'].active = False, False # no longer use optimization approach\n",
    "M.m['W'].initStuff() # re-define groups\n",
    "M.db.mergeInternal()\n",
    "dbs[M.regulation] = M.jSolve(25, state = 'B')"
   ]
  },
  {
   "cell_type": "markdown",
   "id": "869c01ab-3caf-4dd6-a0c3-4645b899045e",
   "metadata": {},
   "source": [
    "*Check out emissions:*"
   ]
  },
  {
   "cell_type": "code",
   "execution_count": 9,
   "id": "ed84c3a3-8525-4d6e-94bd-7bd54c6d044c",
   "metadata": {},
   "outputs": [
    {
     "data": {
      "image/png": "[encoded data removed]",
      "text/plain": [
       "<Figure size 600x300 with 1 Axes>"
      ]
     },
     "metadata": {},
     "output_type": "display_data"
    }
   ],
   "source": [
    "adj.rc_pd(dbs['SYT']('qCO2agg'), tPlot).plot(figsize = (6,3));"
   ]
  },
  {
   "cell_type": "markdown",
   "id": "6b4739bb-1389-40f8-95d7-c99237917f63",
   "metadata": {},
   "source": [
    "### 2.2. SYT_HR regulation"
   ]
  },
  {
   "cell_type": "code",
   "execution_count": 10,
   "id": "7702e538-a135-4bbd-8ee7-372327d5a3da",
   "metadata": {},
   "outputs": [],
   "source": [
    "M.updateRegulation('SYT_HR')\n",
    "M.m['M'].initStuff() # re-initialize group definitions etc.\n",
    "dbs[M.regulation] = M.jSolve(25, state='B')"
   ]
  },
  {
   "cell_type": "markdown",
   "id": "70fcdc6b-8f38-44f8-a57d-685c57988b8a",
   "metadata": {},
   "source": [
    "Add this solution as the new initial levels in the main database:"
   ]
  },
  {
   "cell_type": "code",
   "execution_count": 11,
   "id": "0514e334-e441-4558-b154-eabae2a8ba30",
   "metadata": {},
   "outputs": [],
   "source": [
    "[M.db.__setitem__(k, dbs[M.regulation][k]) for k in M.db.getTypes(['var']) if k in dbs[M.regulation].symbols]; # use solution database"
   ]
  },
  {
   "cell_type": "markdown",
   "id": "6efe0eb8-4b22-4b24-a852-4e00389cad59",
   "metadata": {},
   "source": [
    "### 2.3. SYT_OPT regulation"
   ]
  },
  {
   "cell_type": "markdown",
   "id": "bc64c351-3178-4f10-9480-ad5d416e70bc",
   "metadata": {},
   "source": [
    "*Try to start the database from the 'SYT' regulation:*"
   ]
  },
  {
   "cell_type": "code",
   "execution_count": 12,
   "id": "7aca0c79-e073-4788-a7ef-80ec7dcab0e9",
   "metadata": {},
   "outputs": [],
   "source": [
    "[M.db.__setitem__(k, dbs['SYT'][k]) for k in M.db.getTypes(['var']) if k in dbs['SYT'].symbols]; # use solution database"
   ]
  },
  {
   "cell_type": "markdown",
   "id": "e401fa94-10da-4b8d-9d15-802606686caa",
   "metadata": {},
   "source": [
    "*Single year targets with policy that maximizes consumer welfare:*"
   ]
  },
  {
   "cell_type": "code",
   "execution_count": 13,
   "id": "def987f2-c70a-47ef-b69c-20994a0b47cf",
   "metadata": {},
   "outputs": [],
   "source": [
    "M.updateRegulation('SYT_OPT')\n",
    "M.m['M'].initStuff() # re-initialize group definition etc.\n",
    "dbs[M.regulation] = M.solve(state = 'B')"
   ]
  },
  {
   "cell_type": "markdown",
   "id": "828161f6-5550-494d-b9c0-9332da4545c1",
   "metadata": {},
   "source": [
    "Check it out:"
   ]
  },
  {
   "cell_type": "code",
   "execution_count": 14,
   "id": "a4351a45-f401-4eaf-975c-1fa329efce41",
   "metadata": {},
   "outputs": [
    {
     "data": {
      "image/png": "[encoded data removed]",
      "text/plain": [
       "<Figure size 600x300 with 1 Axes>"
      ]
     },
     "metadata": {},
     "output_type": "display_data"
    }
   ],
   "source": [
    "adj.rc_pd(dbs[M.regulation]('tauCO2agg'), tPlot).plot(figsize=(6,3));"
   ]
  },
  {
   "cell_type": "markdown",
   "id": "4d842ddf-1699-461b-bbb2-bbd80740a069",
   "metadata": {},
   "source": [
    "### 2.4. LRP"
   ]
  },
  {
   "cell_type": "markdown",
   "id": "cccaa3c9-32bc-4ddc-85df-566448763b6d",
   "metadata": {},
   "source": [
    "*Start this from hotelling-like rule:*"
   ]
  },
  {
   "cell_type": "code",
   "execution_count": 15,
   "id": "fdce19da-40bd-42ec-acfb-4bdbfe58e040",
   "metadata": {},
   "outputs": [],
   "source": [
    "[M.db.__setitem__(k, dbs['SYT_HR'][k]) for k in M.db.getTypes(['var']) if k in dbs['SYT_HR'].symbols]; # use solution database"
   ]
  },
  {
   "cell_type": "markdown",
   "id": "ac370d76-dcb9-4899-8a89-45e2ccec5b50",
   "metadata": {},
   "source": [
    "*Solve:*"
   ]
  },
  {
   "cell_type": "code",
   "execution_count": 16,
   "id": "17751b9a-786b-4c8e-b964-234ee334d8a5",
   "metadata": {},
   "outputs": [],
   "source": [
    "M.updateRegulation('LRP')\n",
    "M.opt, M.m['W'].active = False, False \n",
    "M.m['M'].initStuff() # re-initialize group definition etc.\n",
    "dbs[M.regulation] = M.solve(state = 'B')"
   ]
  },
  {
   "cell_type": "markdown",
   "id": "2a1b3049-307d-434a-8403-d51c6c91d735",
   "metadata": {},
   "source": [
    "Check it out:"
   ]
  },
  {
   "cell_type": "code",
   "execution_count": 17,
   "id": "2ca73639-6fe1-440d-b27e-8985e6b8918d",
   "metadata": {},
   "outputs": [
    {
     "data": {
      "image/png": "[encoded data removed]",
      "text/plain": [
       "<Figure size 600x300 with 1 Axes>"
      ]
     },
     "metadata": {},
     "output_type": "display_data"
    }
   ],
   "source": [
    "adj.rc_pd(dbs['LRP']('tauCO2agg'), tPlot).plot(figsize=(6,3));"
   ]
  },
  {
   "cell_type": "markdown",
   "id": "ffa6d56b-2143-45d9-91b7-a1d1861d844d",
   "metadata": {},
   "source": [
    "### 2.5. Cumulative emission budget "
   ]
  },
  {
   "cell_type": "code",
   "execution_count": 18,
   "id": "27f0ddf7-f926-4a72-bbf9-950c4b606ad7",
   "metadata": {},
   "outputs": [],
   "source": [
    "M.updateRegulation('EB_HR')\n",
    "M.opt, M.m['W'].active = False, False \n",
    "M.m['M'].initStuff() # re-initialize group definitions etc.\n",
    "dbs[M.regulation] = M.solve(state = 'B')"
   ]
  },
  {
   "cell_type": "markdown",
   "id": "935d3f4e-bf38-41eb-89c5-57ecc8d480eb",
   "metadata": {},
   "source": [
    "*Cumulative emission budget policy that maximizes consumer welfare:*"
   ]
  },
  {
   "cell_type": "code",
   "execution_count": 19,
   "id": "3f1afb36-4d8b-4ba9-84f8-67143dc6a43d",
   "metadata": {
    "scrolled": true
   },
   "outputs": [],
   "source": [
    "MergeDbs.merge(M.db, dbs['EB_HR']) # use EB_HR as the new initial point \n",
    "M.updateRegulation('EB_OPT')\n",
    "M.m['M'].initStuff() # re-initialize group definitions etc.\n",
    "dbs[M.regulation] = M.solve(state = 'B')"
   ]
  },
  {
   "cell_type": "markdown",
   "id": "0bf4648b-962f-422f-aa22-b3c148a6a99a",
   "metadata": {},
   "source": [
    "Check it out:"
   ]
  },
  {
   "cell_type": "code",
   "execution_count": 20,
   "id": "1b3cdb9b-29dd-41d7-a175-23f4f17d7097",
   "metadata": {},
   "outputs": [
    {
     "data": {
      "image/png": "[encoded data removed]",
      "text/plain": [
       "<Figure size 600x300 with 1 Axes>"
      ]
     },
     "metadata": {},
     "output_type": "display_data"
    }
   ],
   "source": [
    "adj.rc_pd(dbs['EB_OPT']('tauCO2agg'), tPlot).plot(figsize=(6,3));"
   ]
  },
  {
   "cell_type": "code",
   "execution_count": 21,
   "id": "ff6ac960-bb71-4f78-b0c0-c077df5ad770",
   "metadata": {},
   "outputs": [
    {
     "data": {
      "text/plain": [
       "12.821334700942371"
      ]
     },
     "execution_count": 21,
     "metadata": {},
     "output_type": "execute_result"
    }
   ],
   "source": [
    "db._scale/(db('M1990') * 1e6)"
   ]
  },
  {
   "cell_type": "code",
   "execution_count": 22,
   "id": "d267a0f2-505d-4525-ab32-5382acddbcfb",
   "metadata": {},
   "outputs": [
    {
     "data": {
      "image/png": "[encoded data removed]",
      "text/plain": [
       "<Figure size 600x300 with 1 Axes>"
      ]
     },
     "metadata": {},
     "output_type": "display_data"
    }
   ],
   "source": [
    "adj.rc_pd(dbs['EB_HR']('tauCO2agg'), tPlot).plot(figsize=(6,3));"
   ]
  },
  {
   "cell_type": "markdown",
   "id": "64770b0a-bf22-4acf-a8e7-bf968bf40f77",
   "metadata": {},
   "source": [
    "### 2.6. Redo the LRP, EB_HR, and EB_OPT with emission budget from SYT regulation"
   ]
  },
  {
   "cell_type": "code",
   "execution_count": 23,
   "id": "40fe405c-6249-4d2a-a51e-912abf5e5371",
   "metadata": {},
   "outputs": [],
   "source": [
    "dbsWithSYT = dict.fromkeys(['LRP','EB_HR','EB_OPT'])"
   ]
  },
  {
   "cell_type": "markdown",
   "id": "cda43a46-fa30-407c-abe6-c9c0c5eda5a7",
   "metadata": {},
   "source": [
    "Revert database back to baseline:"
   ]
  },
  {
   "cell_type": "code",
   "execution_count": 24,
   "id": "a70c7ff9-9d15-4aa9-9f07-f378203df182",
   "metadata": {},
   "outputs": [
    {
     "data": {
      "text/plain": [
       "<pyDatabases.gpyDB.gpyDB.GpyDB at 0x223e709f350>"
      ]
     },
     "execution_count": 24,
     "metadata": {},
     "output_type": "execute_result"
    }
   ],
   "source": [
    "MergeDbs.merge(M.db, dbs['opt']) # revert database to this "
   ]
  },
  {
   "cell_type": "markdown",
   "id": "dc5e8eaa-2de3-426c-a605-3e5687ddee26",
   "metadata": {},
   "source": [
    "Update target for cumulative emission budget:"
   ]
  },
  {
   "cell_type": "code",
   "execution_count": 25,
   "id": "1285d00f-0014-49a3-a3a4-2215f8e7146f",
   "metadata": {},
   "outputs": [],
   "source": [
    "Q̄ = dbs['SYT_OPT']('qCO2agg').loc[t0+1:2050].sum()\n",
    "M.db['qCO2_EB'] = pd.Series(Q̄, index = db('qCO2_EB').index)"
   ]
  },
  {
   "cell_type": "markdown",
   "id": "c17ea723-a8cb-4cd6-a1a2-0c4a97401e53",
   "metadata": {},
   "source": [
    "Update linear reduction path by computing $\\Delta$ in the following:\n",
    "$$\n",
    "\\begin{align}\n",
    "    \\sum_{s=1}^T \\left(Q_t-s\\Delta\\right) = \\overline{Q},\n",
    "\\end{align}\n",
    "$$\n",
    "where $\\overline{Q}$ is the sum of emissions with SYT_OPT regulation. This comes down to\n",
    "$$\n",
    "\\begin{align}\n",
    "    \\Delta = \\dfrac{T Q_t-\\overline{Q}}{\\sum_{s=1}^T s} = \\dfrac{T Q_t-\\overline{Q}}{(T+1)T/2}\n",
    "\\end{align}\n",
    "$$"
   ]
  },
  {
   "cell_type": "code",
   "execution_count": 26,
   "id": "83c38a81-88f9-47f8-87d1-1c0862e05501",
   "metadata": {},
   "outputs": [],
   "source": [
    "Δ = ((2050-t0)*dbs['opt']('qCO2agg').xs(t0+1)-Q̄)/((2050-t0+1)*(2050-t0)/2)\n",
    "M.db.aom(pd.Series(dbs['opt']('qCO2agg').xs(t0+1)-Δ * range(1, 2050-t0+1), index = pd.Index(range(t0+1,2050+1), name = 't')), \n",
    "         name = 'qCO2_LRP')"
   ]
  },
  {
   "cell_type": "markdown",
   "id": "2bd09ba1-14d0-49c6-8d37-7059c0f458f7",
   "metadata": {},
   "source": [
    "Solve again (start from scratch):"
   ]
  },
  {
   "cell_type": "code",
   "execution_count": 27,
   "id": "a181dec5-e551-416b-ac28-d8b4c2387d79",
   "metadata": {},
   "outputs": [],
   "source": [
    "M.updateRegulation('LRP')\n",
    "M.opt, M.m['W'].active = False, False \n",
    "M.m['M'].initStuff() # re-initialize group definition etc.\n",
    "dbsWithSYT[M.regulation] = M.jSolve(50, state = 'B')"
   ]
  },
  {
   "cell_type": "markdown",
   "id": "d1e5d2c6-d9a2-477f-9b14-f8804793d2ed",
   "metadata": {},
   "source": [
    "Use LRP as starting point and redo with EB_HR:"
   ]
  },
  {
   "cell_type": "code",
   "execution_count": 28,
   "id": "93fd3905-435d-41ca-85ac-9ba576a34d58",
   "metadata": {},
   "outputs": [],
   "source": [
    "[M.db.__setitem__(k, dbsWithSYT['LRP'][k]) for k in M.db.getTypes(['var']) if k in dbsWithSYT['LRP'].symbols]; # use solution database\n",
    "M.updateRegulation('EB_HR')\n",
    "M.opt, M.m['W'].active = False, False \n",
    "M.m['M'].initStuff() # re-initialize group definitions etc.\n",
    "dbsWithSYT[M.regulation] = M.solve(state = 'B')"
   ]
  },
  {
   "cell_type": "markdown",
   "id": "682a5ba1-59f0-4b68-9cf9-bf2fcad3e062",
   "metadata": {},
   "source": [
    "*Cumulative emission budget policy that maximizes consumer welfare:*"
   ]
  },
  {
   "cell_type": "code",
   "execution_count": 29,
   "id": "f27350ef-6b3a-4cf8-bea5-f888b251c8d5",
   "metadata": {
    "scrolled": true
   },
   "outputs": [],
   "source": [
    "MergeDbs.merge(M.db, dbsWithSYT['EB_HR']) # use EB_HR as the new initial point \n",
    "M.updateRegulation('EB_OPT')\n",
    "M.m['M'].initStuff() # re-initialize group definitions etc.\n",
    "dbsWithSYT[M.regulation] = M.solve(state = 'B')"
   ]
  },
  {
   "cell_type": "markdown",
   "id": "47163d7a-f086-4011-bf4d-de1827534cd5",
   "metadata": {},
   "source": [
    "### 2.7. Calculate EV measures for each case:"
   ]
  },
  {
   "cell_type": "markdown",
   "id": "1ab5b50d-38ac-4ab0-b3c2-d4e75d40a73e",
   "metadata": {},
   "source": [
    "Reset to baseline database and settings. Active EV module, set DeltaWelfare = 0 and solve EV for each regulation type:"
   ]
  },
  {
   "cell_type": "code",
   "execution_count": 30,
   "id": "dc0fb941-7ee5-40f2-b510-0be7a5076909",
   "metadata": {},
   "outputs": [],
   "source": [
    "MergeDbs.merge(M.db, dbs['opt'])\n",
    "evs = dict.fromkeys(['SYT','SYT_HR','SYT_OPT','LRP','EB_HR','EB_OPT'])\n",
    "evs_syt_target = dict.fromkeys(['LRP','EB_HR','EB_OPT'])\n",
    "M.updateRegulation(None)\n",
    "M.m['M'].initStuff()\n",
    "M.opt, M.m['W'].active = False, False \n",
    "M.m['EV'].active = True\n",
    "M.db['DeltaWelfare'] = 0\n",
    "for reg in evs:\n",
    "    M.db['OptWelObj0'] = dbs[reg]('OptWelObj')\n",
    "    M.db.mergeInternal()\n",
    "    evs[reg] = M.solve(state='B')\n",
    "for reg in evs_syt_target:\n",
    "    M.db['OptWelObj0'] = dbsWithSYT[reg]('OptWelObj')\n",
    "    M.db.mergeInternal()\n",
    "    evs_syt_target[reg] = M.solve(state='B')    "
   ]
  },
  {
   "cell_type": "markdown",
   "id": "c57238bd-af49-42d4-a56f-7cc909d295fe",
   "metadata": {},
   "source": [
    "## 3. Plots"
   ]
  },
  {
   "cell_type": "code",
   "execution_count": 31,
   "id": "362806cc-9573-4b9b-a6d8-b70c5f18fbae",
   "metadata": {},
   "outputs": [],
   "source": [
    "tau2DKK = db._scale/(db('M1990') * 1e6)"
   ]
  },
  {
   "cell_type": "markdown",
   "id": "ac0fb303-0c82-4658-8686-cc97f04315a5",
   "metadata": {},
   "source": [
    "Plot tax rates over time for SYT (optimal) and SYT with hotelling rule:"
   ]
  },
  {
   "cell_type": "code",
   "execution_count": 32,
   "id": "f84f6714-5f8e-493f-bdb7-bf1f3a4f0c99",
   "metadata": {},
   "outputs": [],
   "source": [
    "df_tau_SYT = pd.concat([dbs['SYT_HR']('tauCO2agg').rename('Hotelling Rule (SYT)'), dbs['SYT_OPT']('tauCO2agg').rename('Optimal (SYT)')], axis = 1) * tau2DKK\n",
    "df_tau_EB = pd.concat([dbs['EB_HR']('tauCO2agg').rename('Hotelling Rule (EB)'), dbs['EB_OPT']('tauCO2agg').rename('Optimal (EB)'), dbs['LRP']('tauCO2agg').rename('LRP')], axis = 1) * tau2DKK"
   ]
  },
  {
   "cell_type": "markdown",
   "id": "3df31a8a-1577-44d4-9eb5-c7417c606d35",
   "metadata": {},
   "source": [
    "Compare taxes:"
   ]
  },
  {
   "cell_type": "code",
   "execution_count": 33,
   "id": "dfda5ad7-d950-43ee-bc25-1c0167b341c7",
   "metadata": {},
   "outputs": [],
   "source": [
    "%%capture\n",
    "one_graph()\n",
    "fig, ax = plt.subplots(1,1, figsize = (14,8));\n",
    "seaborn.lineplot(data = adj.rc_pd(df_tau_SYT, tPlot), ax = ax, linewidth = 3, legend = True);\n",
    "ax.set_ylabel('DKK/ton CO2');\n",
    "ax.set_xlabel('');\n",
    "fig.tight_layout();\n",
    "fig.savefig(os.path.join(d['figs'],f\"{vName}_SYT_tau.pdf\"),edgecolor='k')"
   ]
  },
  {
   "cell_type": "code",
   "execution_count": 34,
   "id": "585a6723-6cee-4180-9103-c6b91f238577",
   "metadata": {},
   "outputs": [],
   "source": [
    "%%capture\n",
    "one_graph()\n",
    "fig, ax = plt.subplots(1,1, figsize = (14,8));\n",
    "seaborn.lineplot(data = adj.rc_pd(df_tau_EB, tPlot), ax = ax, linewidth = 3, legend = True);\n",
    "ax.set_ylabel('DKK/ton CO2');\n",
    "ax.set_xlabel('');\n",
    "fig.tight_layout();\n",
    "fig.savefig(os.path.join(d['figs'],f\"{vName}_EB_tau.pdf\"),edgecolor='k')"
   ]
  },
  {
   "cell_type": "markdown",
   "id": "14f7bbc0-aa4c-4d33-91fe-40cf9963a396",
   "metadata": {},
   "source": [
    "Plot emissions over time:"
   ]
  },
  {
   "cell_type": "code",
   "execution_count": 35,
   "id": "9be72cb2-b209-4200-8754-a6452a2b2696",
   "metadata": {},
   "outputs": [],
   "source": [
    "df_qCO2_SYT = pd.concat([dbs['SYT_HR']('qCO2agg').rename('Hotelling Rule (SYT)'), \n",
    "                         dbs['SYT_OPT']('qCO2agg').rename('Optimal (SYT)')], axis = 1)\n",
    "df_qCO2_EB = pd.concat([dbs['EB_HR']('qCO2agg').rename('Hotelling Rule (EB)'),\n",
    "                        dbs['EB_OPT']('qCO2agg').rename('Optimal (EB)'), \n",
    "                        dbs['LRP']('qCO2agg').rename('LRP')], axis = 1)"
   ]
  },
  {
   "cell_type": "markdown",
   "id": "797b483b-c7ae-431b-8095-728da5b64924",
   "metadata": {},
   "source": [
    "Compare CO2 emissions:"
   ]
  },
  {
   "cell_type": "code",
   "execution_count": 36,
   "id": "7186296c-965c-4722-ad56-d223cfa5306e",
   "metadata": {},
   "outputs": [],
   "source": [
    "%%capture\n",
    "one_graph()\n",
    "fig, ax = plt.subplots(1,1, figsize = (14,8));\n",
    "seaborn.lineplot(data = adj.rc_pd(df_qCO2_SYT, tPlot), ax = ax, linewidth = 3, legend = True);\n",
    "ax.set_ylabel('CO2 relative to 1990 level');\n",
    "ax.set_xlabel('');\n",
    "fig.tight_layout();\n",
    "fig.savefig(os.path.join(d['figs'],f\"{vName}_SYT_qCO2.pdf\"),edgecolor='k')"
   ]
  },
  {
   "cell_type": "code",
   "execution_count": 37,
   "id": "ea6568ca-d999-41dd-88c7-436395a95eb9",
   "metadata": {},
   "outputs": [],
   "source": [
    "%%capture\n",
    "one_graph()\n",
    "fig, ax = plt.subplots(1,1, figsize = (14,8));\n",
    "seaborn.lineplot(data = adj.rc_pd(df_qCO2_EB, tPlot), ax = ax, linewidth = 3, legend = True);\n",
    "ax.set_ylabel('CO2 relative to 1990 level');\n",
    "ax.set_xlabel('');\n",
    "fig.tight_layout();\n",
    "fig.savefig(os.path.join(d['figs'],f\"{vName}_EB_qCO2.pdf\"),edgecolor='k')"
   ]
  },
  {
   "cell_type": "markdown",
   "id": "8089796b-bbb3-4572-b8dd-b197f87ce006",
   "metadata": {},
   "source": [
    "Plot household consumption over time:"
   ]
  },
  {
   "cell_type": "code",
   "execution_count": 39,
   "id": "527b8250-2037-4af4-bbb1-684327936e28",
   "metadata": {},
   "outputs": [],
   "source": [
    "df_Cons_SYT = pd.concat([dbs['SYT_HR']('qD').xs(('HH','C_HH'), level = ['s','n']).rename('Hotelling Rule (SYT)'), \n",
    "                         dbs['SYT_OPT']('qD').xs(('HH','C_HH'), level = ['s','n']).rename('Optimal (SYT)'),\n",
    "                         dbs['opt']('qD').xs(('HH','C_HH'), level = ['s','n']).rename('Baseline (no climate policy)')], axis = 1)"
   ]
  },
  {
   "cell_type": "code",
   "execution_count": 40,
   "id": "429b1635-f5fc-4091-8df1-a0fec2b8c587",
   "metadata": {},
   "outputs": [],
   "source": [
    "df_Cons_EB = pd.concat([dbs['EB_HR']('qD').xs(('HH','C_HH'), level = ['s','n']).rename('Hotelling Rule (EB)'), \n",
    "                         dbs['EB_OPT']('qD').xs(('HH','C_HH'), level = ['s','n']).rename('Optimal (EB)'),\n",
    "                         dbs['LRP']('qD').xs(('HH','C_HH'), level = ['s','n']).rename('LRP')], axis = 1)"
   ]
  },
  {
   "cell_type": "markdown",
   "id": "c478d6c5-7099-4601-8251-c509e119208d",
   "metadata": {},
   "source": [
    "Compare:"
   ]
  },
  {
   "cell_type": "code",
   "execution_count": 41,
   "id": "5cb35a7c-ddc8-42d9-888f-f3c9ac964b17",
   "metadata": {},
   "outputs": [],
   "source": [
    "%%capture\n",
    "one_graph()\n",
    "fig, ax = plt.subplots(1,1, figsize = (14,8));\n",
    "seaborn.lineplot(data = adj.rc_pd(df_Cons_SYT, tPlot), ax = ax, linewidth = 3, legend = True);\n",
    "ax.set_ylabel('Consumption (bio. DKK)', labelpad = 5);\n",
    "ax.set_xlabel('');\n",
    "fig.tight_layout();\n",
    "fig.savefig(os.path.join(d['figs'],f\"{vName}_SYT_Cons.pdf\"),edgecolor='k')"
   ]
  },
  {
   "cell_type": "code",
   "execution_count": 42,
   "id": "84767c24-4233-4f21-b4d2-f6a160754e8f",
   "metadata": {},
   "outputs": [],
   "source": [
    "%%capture\n",
    "one_graph()\n",
    "fig, ax = plt.subplots(1,1, figsize = (14,8));\n",
    "seaborn.lineplot(data = adj.rc_pd(df_Cons_EB, tPlot), ax = ax, linewidth = 3, legend = True);\n",
    "ax.set_ylabel('Consumption (bio. DKK)', labelpad = 5);\n",
    "ax.set_xlabel('');\n",
    "fig.tight_layout();\n",
    "fig.savefig(os.path.join(d['figs'],f\"{vName}_EB_Cons.pdf\"),edgecolor='k')"
   ]
  },
  {
   "cell_type": "markdown",
   "id": "8600a1d0-8011-4e46-ad39-08affab1df11",
   "metadata": {},
   "source": [
    "## 3.2. Compare EV measures:"
   ]
  },
  {
   "cell_type": "markdown",
   "id": "619c592c-945b-40ba-8bc1-2a8c5a3766c2",
   "metadata": {},
   "source": [
    "Compare EVs across all regulation types:"
   ]
  },
  {
   "cell_type": "code",
   "execution_count": 43,
   "id": "6ca6d743-34f4-47db-bac4-e9adad48ec3c",
   "metadata": {},
   "outputs": [],
   "source": [
    "regNames = {'SYT_OPT': 'Optimal (SYT)',\n",
    "         'SYT_HR': 'Hotelling Rule (SYT)',\n",
    "         'EB_OPT': 'Optimal (EB)',\n",
    "         'EB_HR': 'Hotelling Rule (EB)',\n",
    "         'LRP': 'Linear Reduction Path'}"
   ]
  },
  {
   "cell_type": "markdown",
   "id": "b33d3fd1-282f-436e-8396-bf595233e224",
   "metadata": {},
   "source": [
    "Collect EVs:"
   ]
  },
  {
   "cell_type": "code",
   "execution_count": 44,
   "id": "51909b4a-1fe1-4e11-8d25-97f853cbd04a",
   "metadata": {},
   "outputs": [],
   "source": [
    "EV = pd.Series([evs[reg]('vA_F').xs('HH')/evs[reg]('pD').xs((t0, 'HH','C_HH')) for reg in regNames],\n",
    "               index = [regName for regName in regNames.values()])"
   ]
  },
  {
   "cell_type": "code",
   "execution_count": 45,
   "id": "8b23ed2d-028c-49cb-8348-15e28f7f035f",
   "metadata": {},
   "outputs": [],
   "source": [
    "%%capture\n",
    "one_graph()\n",
    "fig, ax = plt.subplots(1,1, figsize = (14,8));\n",
    "EV.plot.bar(ax = ax);\n",
    "ax.set_ylabel('EV (bio. DKK)', labelpad = 5);\n",
    "fig.tight_layout();\n",
    "fig.savefig(os.path.join(d['figs'],f\"{vName}_EVs.pdf\"),edgecolor='k')"
   ]
  },
  {
   "cell_type": "markdown",
   "id": "fe321385-8a0d-49bb-bdad-ab5e4b6f1657",
   "metadata": {},
   "source": [
    "Compare EVs where emission reductions are the same:"
   ]
  },
  {
   "cell_type": "code",
   "execution_count": 46,
   "id": "58f9a840-4cd6-438a-ba7a-ef27d742a2fe",
   "metadata": {},
   "outputs": [],
   "source": [
    "EVsameReduction = pd.Series(([evs[reg]('vA_F').xs('HH')/evs[reg]('pD').xs((t0, 'HH','C_HH')) for reg in ('SYT_OPT','SYT_HR')]+\n",
    "                             [evs_syt_target[reg]('vA_F').xs('HH')/evs_syt_target[reg]('pD').xs((t0,'HH','C_HH')) for reg in ('EB_OPT','EB_HR','LRP')]),\n",
    "                            index = [regName for regName in regNames.values()])"
   ]
  },
  {
   "cell_type": "code",
   "execution_count": 47,
   "id": "6fbc7c8e-a7df-4e18-88e4-e3dad4466f76",
   "metadata": {},
   "outputs": [],
   "source": [
    "%%capture\n",
    "one_graph()\n",
    "fig, ax = plt.subplots(1,1, figsize = (14,8));\n",
    "EVsameReduction.plot.bar(ax = ax);\n",
    "ax.set_ylabel('EV (bio. DKK)', labelpad = 5);\n",
    "fig.tight_layout();\n",
    "fig.savefig(os.path.join(d['figs'],f\"{vName}_EVs_SameReduction.pdf\"),edgecolor='k')"
   ]
  },
  {
   "cell_type": "markdown",
   "id": "ee413200-88da-4800-8cd2-a44816d27069",
   "metadata": {},
   "source": [
    "## Export all solutions"
   ]
  },
  {
   "cell_type": "code",
   "execution_count": 48,
   "id": "0b3743ba-3f03-4bf6-8b51-060966108971",
   "metadata": {},
   "outputs": [],
   "source": [
    "[dbi.export(name = f'{vName}_{reg}db', repo = d['data']) for reg, dbi in dbs.items()];\n",
    "[dbi.export(name = f'{vName}_sameReduction_{reg}db', repo = d['data']) for reg, dbi in dbsWithSYT.items()];\n",
    "[dbi.export(name = f'{vName}_EV_{reg}db', repo = d['data']) for reg, dbi in evs.items()];\n",
    "[dbi.export(name = f'{vName}_EV_sameReduction_{reg}db', repo = d['data']) for reg, dbi in evs_syt_target.items()];"
   ]
  }
 ],
 "metadata": {
  "kernelspec": {
   "display_name": "Python 3 (ipykernel)",
   "language": "python",
   "name": "python3"
  },
  "language_info": {
   "codemirror_mode": {
    "name": "ipython",
    "version": 3
   },
   "file_extension": ".py",
   "mimetype": "text/x-python",
   "name": "python",
   "nbconvert_exporter": "python",
   "pygments_lexer": "ipython3",
   "version": "3.12.4"
  }
 },
 "nbformat": 4,
 "nbformat_minor": 5
}
