{
 "cells": [
  {
   "cell_type": "code",
   "execution_count": 1,
   "id": "43dd80b1-f8db-4330-9f23-e6c4be52c0ef",
   "metadata": {},
   "outputs": [
    {
     "name": "stdout",
     "output_type": "stream",
     "text": [
      "The file _gams_py_gdb0.gdx is still active and was not deleted.\n",
      "The file _gams_py_gdb3.gdx is still active and was not deleted.\n",
      "The file _gams_py_gdb4.gdx is still active and was not deleted.\n",
      "The file _gams_py_gdb5.gdx is still active and was not deleted.\n"
     ]
    }
   ],
   "source": [
    "clean_up = True # if True, remove all gams related files from working folder before starting\n",
    "%run stdPackages.ipynb\n",
    "os.chdir(main)\n",
    "%run stdPlotting.ipynb\n",
    "os.chdir(d['py'])\n",
    "from mCGE import NCP_CGE as CGE"
   ]
  },
  {
   "cell_type": "markdown",
   "id": "054173a1-f92f-4076-8606-7bdbfac4c244",
   "metadata": {},
   "source": [
    "# Emission Regulation"
   ]
  },
  {
   "cell_type": "markdown",
   "id": "90d89cc5-c00e-464e-8f88-669cfdcfd491",
   "metadata": {},
   "source": [
    "*Load model:*"
   ]
  },
  {
   "cell_type": "code",
   "execution_count": 2,
   "id": "5600f316-501b-4fbf-a9b0-835d9df08239",
   "metadata": {},
   "outputs": [],
   "source": [
    "vName, t0 = 'vLarge', 2019\n",
    "name = '_'.join([vName, str(t0), 'CGE','EmRegSimpleEOP'])\n",
    "M = CGE.load(os.path.join(d['data'], name))"
   ]
  },
  {
   "cell_type": "markdown",
   "id": "3b006862-ed9b-4358-834c-31f84b6d1543",
   "metadata": {},
   "source": [
    "*Store baseline solution (with name based on regulation type):*"
   ]
  },
  {
   "cell_type": "code",
   "execution_count": 3,
   "id": "e74a16c9-da07-4a1f-92cf-832e4d664fcc",
   "metadata": {},
   "outputs": [],
   "source": [
    "M.db.mergeInternal()\n",
    "baseRegulation = M.regulation\n",
    "dbs = {}\n",
    "dbs[M.regulation] = M.solve(state='B')"
   ]
  },
  {
   "cell_type": "markdown",
   "id": "b92fbc92-6772-4ee2-b7d7-56f99f3d8573",
   "metadata": {},
   "source": [
    "## 2. Regulation shocks"
   ]
  },
  {
   "cell_type": "markdown",
   "id": "b0d0a143-c56a-4464-9ee6-0ed3b249d56a",
   "metadata": {},
   "source": [
    "### 2.1. Optimization with Single-year targets"
   ]
  },
  {
   "cell_type": "markdown",
   "id": "74a715b0-0c7d-48b7-b46c-ecfed941c3ff",
   "metadata": {},
   "source": [
    "Adjust type of regulation and re-solve:"
   ]
  },
  {
   "cell_type": "code",
   "execution_count": 4,
   "id": "31ba3596-a061-478a-82d6-3a72df3e5ac3",
   "metadata": {},
   "outputs": [],
   "source": [
    "M.regulation = 'SYT_OPT'\n",
    "dbs[M.regulation] = M.solve(state = 'B')"
   ]
  },
  {
   "cell_type": "markdown",
   "id": "9b26e833-47d4-4551-970e-48a46fee5435",
   "metadata": {},
   "source": [
    "### 2.2. Linear reduction path"
   ]
  },
  {
   "cell_type": "markdown",
   "id": "53dbf9e8-6527-4b17-b055-81d673013a1b",
   "metadata": {},
   "source": [
    "Start from the single-year target approach with Hotelling Rule:"
   ]
  },
  {
   "cell_type": "code",
   "execution_count": 11,
   "id": "ae565ede-512b-46e3-81df-f1aeedefdda5",
   "metadata": {},
   "outputs": [],
   "source": [
    "M.regulation = 'LRP'\n",
    "M.m['M'].regulation = 'LRP'\n",
    "dbs[M.regulation] = M.solve(state = 'B')"
   ]
  },
  {
   "cell_type": "markdown",
   "id": "eeb53a5d-461b-4b7e-8dbe-2fd829d134b3",
   "metadata": {},
   "source": [
    "### 2.3. Emission budget"
   ]
  },
  {
   "cell_type": "markdown",
   "id": "f0113fbb-aa85-45c0-8045-7580e1c3ccfb",
   "metadata": {},
   "source": [
    "Start from the single-year target approach with Hotelling Rule:"
   ]
  },
  {
   "cell_type": "code",
   "execution_count": 12,
   "id": "7eb420d0-5fbb-42fb-97c2-f765594fd99b",
   "metadata": {},
   "outputs": [],
   "source": [
    "M.regulation = 'EB_HR'\n",
    "M.m['M'].regulation = 'EB_HR'\n",
    "dbs[M.regulation] = M.solve(state = 'B')"
   ]
  },
  {
   "cell_type": "markdown",
   "id": "454915b1-dceb-4695-b523-d87e2491e8cb",
   "metadata": {},
   "source": [
    "### 2.4. Emission budget, optimal"
   ]
  },
  {
   "cell_type": "markdown",
   "id": "3a526c79-2cd6-43ed-948f-49f3923c341f",
   "metadata": {},
   "source": [
    "Adjust type of regulation and re-solve:"
   ]
  },
  {
   "cell_type": "code",
   "execution_count": 13,
   "id": "89ff74a1-3ed2-4a20-93c2-f6b892480c78",
   "metadata": {},
   "outputs": [],
   "source": [
    "M.regulation = 'EB_OPT'\n",
    "M.m['M'].regulation = 'EB_OPT'\n",
    "dbs[M.regulation] = M.solve(state = 'B')"
   ]
  },
  {
   "cell_type": "markdown",
   "id": "c19ad90d-a19f-4190-8f16-63ac6ae708c8",
   "metadata": {},
   "source": [
    "Compute abatement capital from this formulation:"
   ]
  }
 ],
 "metadata": {
  "kernelspec": {
   "display_name": "Python 3 (ipykernel)",
   "language": "python",
   "name": "python3"
  },
  "language_info": {
   "codemirror_mode": {
    "name": "ipython",
    "version": 3
   },
   "file_extension": ".py",
   "mimetype": "text/x-python",
   "name": "python",
   "nbconvert_exporter": "python",
   "pygments_lexer": "ipython3",
   "version": "3.11.8"
  }
 },
 "nbformat": 4,
 "nbformat_minor": 5
}
