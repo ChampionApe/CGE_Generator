{
 "cells": [
  {
   "cell_type": "code",
   "execution_count": 1,
   "id": "024a49b3-c12f-4aa9-bd7a-f89018581dfc",
   "metadata": {},
   "outputs": [],
   "source": [
    "clean_up = True # if True, remove all gams related files from working folder before starting\n",
    "%run stdPackages.ipynb\n",
    "os.chdir(main)\n",
    "%run stdPlotting.ipynb\n",
    "os.chdir(d['py'])\n",
    "from gmsPython import nestingTree\n",
    "from valueShares import nestedShares_noOutputs, nestedShares\n",
    "from mCGE import NCP_CGE as CGE"
   ]
  },
  {
   "cell_type": "markdown",
   "id": "fa7322ca-5162-4c38-9a73-44285ad9ac25",
   "metadata": {},
   "source": [
    "# CGE model"
   ]
  },
  {
   "cell_type": "markdown",
   "id": "cd151212-41c2-4412-a66f-7bab973b864c",
   "metadata": {},
   "source": [
    "*Load data:*"
   ]
  },
  {
   "cell_type": "code",
   "execution_count": 2,
   "id": "13d5f629-4d41-4fb2-be99-1b027aa2d9fc",
   "metadata": {},
   "outputs": [],
   "source": [
    "t0 = 2019 # set baseline year\n",
    "name = 'vSimpleEOP' # specify name of the CGE version we are currently working on\n",
    "db = GpyDB(os.path.join(d['data'], f'{name}_{t0}'), name = '_'.join([name, str(t0), 'calibration']), ws = d['work']) # load and rename database \n",
    "dbIO = db.copy() # create copy without adjustments made along the way\n",
    "ws = db.ws # run everything from the same ws"
   ]
  },
  {
   "cell_type": "markdown",
   "id": "fb48162c-5a6d-4f16-b180-a8f0fb2ead28",
   "metadata": {},
   "source": [
    "Initialize model:"
   ]
  },
  {
   "cell_type": "code",
   "execution_count": 3,
   "id": "809e22de-cde8-4c12-9bc5-b08255034abf",
   "metadata": {},
   "outputs": [],
   "source": [
    "M = CGE('_'.join([name, str(t0), 'CGE','calibration']), database = db, \n",
    "        opt = False, solveWithNLP = False) # don't use optimization in the calibration stage, use NLP solver though"
   ]
  },
  {
   "cell_type": "markdown",
   "id": "0b0cb74d-24f9-4b53-accc-743569b0872d",
   "metadata": {},
   "source": [
    "## 1. Add modules"
   ]
  },
  {
   "cell_type": "markdown",
   "id": "c755b827-0c1e-4b0c-a10c-2f0988d60113",
   "metadata": {},
   "source": [
    "### 1.1. Production"
   ]
  },
  {
   "cell_type": "markdown",
   "id": "7a76f86a-91da-4efd-97d2-3a1d8f219195",
   "metadata": {},
   "source": [
    "The production module is initialized with a nesting tree and value shares to identify the $\\mu$-share parameters of the nesting structure."
   ]
  },
  {
   "cell_type": "code",
   "execution_count": 4,
   "id": "8118cdea-2721-4d3b-9af2-da908598d4b9",
   "metadata": {},
   "outputs": [
    {
     "data": {
      "text/plain": [
       "<gmsPython.nestingTree.nestingTree.AggTree at 0x1db6f93c910>"
      ]
     },
     "execution_count": 4,
     "metadata": {},
     "output_type": "execute_result"
    }
   ],
   "source": [
    "nest = nestingTree.Tree('P', tree = db('nestProduction').to_list(), f = 'CES')\n",
    "nestAgg = nestingTree.AggTree(name = 'P', trees = {t.name: t for t in [nest]}, ws = ws)\n",
    "nestAgg(namespace = {str(n)+'_input':n for n in db('n')})"
   ]
  },
  {
   "cell_type": "code",
   "execution_count": 5,
   "id": "447d1f1c-1312-4d5f-8523-ac8fa96db7e1",
   "metadata": {},
   "outputs": [],
   "source": [
    "v = nestedShares(nestAgg, ws = ws)\n",
    "db_p = v(dbIO)"
   ]
  },
  {
   "cell_type": "markdown",
   "id": "a6403550-e722-496d-a6fa-f3c991f3c4ce",
   "metadata": {},
   "source": [
    "Use share parameters and values to get initial values for intermediates:"
   ]
  },
  {
   "cell_type": "code",
   "execution_count": 6,
   "id": "6d5ab29a-1bdc-407a-a856-20d8f3829b83",
   "metadata": {},
   "outputs": [],
   "source": [
    "db.aom(db_p('mu').xs(t0), name = 'mu')\n",
    "db.aom(adj.rc_pd(db_p('vD'), nest.get('int')).rename('qD'), name = 'qD', priority = 'first') # specify intermediate goods levels"
   ]
  },
  {
   "cell_type": "markdown",
   "id": "e8e1717b-a624-4c68-9f12-8b9f52d97d62",
   "metadata": {},
   "source": [
    "Use static user cost as initial guess for price on durables (if no other has been provided):"
   ]
  },
  {
   "cell_type": "code",
   "execution_count": 7,
   "id": "b409345e-9ca6-4f3a-9590-4f7f058085b6",
   "metadata": {},
   "outputs": [],
   "source": [
    "db.aom(db('pD_dur'), name = 'pD', priority = 'first') # pD_dur includes an estimate of the long-run user-cost of capital"
   ]
  },
  {
   "cell_type": "markdown",
   "id": "0afd63af-53b3-45ff-a0ad-4d53d3c9d2a1",
   "metadata": {},
   "source": [
    "Next, we initialize the production module:"
   ]
  },
  {
   "cell_type": "code",
   "execution_count": 8,
   "id": "eaa31dc4-8071-4206-8022-3b8b47ddb353",
   "metadata": {
    "scrolled": true
   },
   "outputs": [
    {
     "data": {
      "text/plain": [
       "<mProduction.DynamicNCES at 0x1db6fa1e850>"
      ]
     },
     "execution_count": 8,
     "metadata": {},
     "output_type": "execute_result"
    }
   ],
   "source": [
    "M.addDynamicProdModule(nestAgg, partial = True, mtype = 'DynamicNCES',initFromGms = 'initFirmValue', taxInstr = 'tauLump', \n",
    "                       addEmissions = True, abateCosts =True, addAdjCosts = True)"
   ]
  },
  {
   "cell_type": "markdown",
   "id": "2f274284-8cbf-4f82-9f65-05984dd770db",
   "metadata": {},
   "source": [
    "Now, add investment sector:"
   ]
  },
  {
   "cell_type": "code",
   "execution_count": 9,
   "id": "73b22d1c-b398-4335-ba48-8b6fde2d9125",
   "metadata": {},
   "outputs": [
    {
     "data": {
      "text/plain": [
       "<gmsPython.nestingTree.nestingTree.AggTree at 0x1db6fa34710>"
      ]
     },
     "execution_count": 9,
     "metadata": {},
     "output_type": "execute_result"
    }
   ],
   "source": [
    "nest = nestingTree.AggTree(name = 'I', trees = {'I': nestingTree.Tree('I', tree = db('nestInvestment').to_list(), f = 'CES')}, ws = ws)\n",
    "nest(namespace = {str(n)+'_input':n for n in db('n')})"
   ]
  },
  {
   "cell_type": "markdown",
   "id": "80e59a4b-2e6d-4bbc-8d80-253c6631f5ee",
   "metadata": {},
   "source": [
    "*Define share parameters:*"
   ]
  },
  {
   "cell_type": "code",
   "execution_count": 10,
   "id": "a96d054b-8caa-452e-876f-8ddc58dd429b",
   "metadata": {},
   "outputs": [],
   "source": [
    "v = nestedShares(nest, ws = ws)\n",
    "db_vs = v(dbIO) "
   ]
  },
  {
   "cell_type": "markdown",
   "id": "be2cee6c-0ea3-4ae9-9d9c-c479b645b1a4",
   "metadata": {},
   "source": [
    "*Use share parameters and values to get initial values for intermediates:*"
   ]
  },
  {
   "cell_type": "code",
   "execution_count": 11,
   "id": "ed68e7a1-a479-4ef2-a598-d6d64d954950",
   "metadata": {},
   "outputs": [],
   "source": [
    "db.aom(db_vs('mu').xs(t0), name = 'mu') \n",
    "db.aom(adj.rc_pd(db_vs('vD'), nest.get('int')).rename('qD'), name = 'qD', priority = 'first') # specify intermediate goods levels"
   ]
  },
  {
   "cell_type": "markdown",
   "id": "026c9f96-a357-49fe-9f1d-ca80f93e089f",
   "metadata": {},
   "source": [
    "*Add module as production type to CGE:*"
   ]
  },
  {
   "cell_type": "code",
   "execution_count": 12,
   "id": "f420761b-32af-4a15-aae9-06e3dab4d86a",
   "metadata": {},
   "outputs": [
    {
     "data": {
      "text/plain": [
       "<mInvestment.NestedCES at 0x1db6f9f4fd0>"
      ]
     },
     "execution_count": 12,
     "metadata": {},
     "output_type": "execute_result"
    }
   ],
   "source": [
    "M.addInvestmentModule(nest, partial = True, mtype = 'NestedCES')"
   ]
  },
  {
   "cell_type": "markdown",
   "id": "075270b9-570c-4759-9be2-469ffaed8041",
   "metadata": {},
   "source": [
    "### 1.2. Households"
   ]
  },
  {
   "cell_type": "markdown",
   "id": "bc778eda-9d4d-42ec-a125-3116a58ff470",
   "metadata": {},
   "source": [
    "*Nesting tree:*"
   ]
  },
  {
   "cell_type": "code",
   "execution_count": 13,
   "id": "69527cf8-7e19-48d8-872c-d94db0d207e2",
   "metadata": {},
   "outputs": [
    {
     "data": {
      "text/plain": [
       "<gmsPython.nestingTree.nestingTree.AggTree at 0x1db6fa5c910>"
      ]
     },
     "execution_count": 13,
     "metadata": {},
     "output_type": "execute_result"
    }
   ],
   "source": [
    "cesNest = nestingTree.Tree('HH', tree = db('nestHH').to_list(), f = 'CES')\n",
    "nest = nestingTree.AggTree(name = 'HH', trees = {t.name: t for t in [cesNest]}, ws = ws)\n",
    "nest(namespace = {str(n)+'_input': n for n in db('n')})"
   ]
  },
  {
   "cell_type": "markdown",
   "id": "fee5e3ad-2082-4028-8f73-434ca4ef998a",
   "metadata": {},
   "source": [
    "Value shares:"
   ]
  },
  {
   "cell_type": "code",
   "execution_count": 14,
   "id": "34287d2a-316d-42b8-b7fb-343c904e3e4c",
   "metadata": {},
   "outputs": [],
   "source": [
    "v = nestedShares_noOutputs(nest, ws = ws)\n",
    "db_vs = v(dbIO) # one-liner that returns solution database"
   ]
  },
  {
   "cell_type": "markdown",
   "id": "896da1cb-10d8-47d7-9260-c3cccd8e5af3",
   "metadata": {},
   "source": [
    "Add to main database:"
   ]
  },
  {
   "cell_type": "code",
   "execution_count": 15,
   "id": "8cc83242-9a87-4a49-a23f-5fb69e5ab717",
   "metadata": {},
   "outputs": [],
   "source": [
    "db.aom(db_vs('mu').xs(t0), name = 'mu') \n",
    "db.aom(adj.rc_pd(db_vs('vD'), nest.get('int').union(nest.get('output'))).rename('qD'), name = 'qD', priority = 'first') # specify intermediate goods levels"
   ]
  },
  {
   "cell_type": "markdown",
   "id": "8ebff67c-0cdf-4f5f-8e86-8c17a4ab72e2",
   "metadata": {},
   "source": [
    "Add as consumer module:"
   ]
  },
  {
   "cell_type": "code",
   "execution_count": 16,
   "id": "d4bd0690-4053-4fbe-a349-114f0215bf09",
   "metadata": {},
   "outputs": [
    {
     "data": {
      "text/plain": [
       "<mHousehold.RamseyIdxFund at 0x1db6fa7b1d0>"
      ]
     },
     "execution_count": 16,
     "metadata": {},
     "output_type": "execute_result"
    }
   ],
   "source": [
    "M.addConsumerModule(nest, L2C = db('L2C'), partial = True, mtype = 'RamseyIdxFund', targetvA0 = False,\n",
    "                    initFromGms = 'init_CRRA_GHH_Static') # use steady state methods to get initial values"
   ]
  },
  {
   "cell_type": "markdown",
   "id": "1505a80c-2c68-47ad-a0bf-1c3cf53d5b2a",
   "metadata": {},
   "source": [
    "### 1.3. Government"
   ]
  },
  {
   "cell_type": "markdown",
   "id": "a4deed8f-0e5f-4f19-af74-0abfcd39bdc6",
   "metadata": {},
   "source": [
    "Nesting tree:"
   ]
  },
  {
   "cell_type": "code",
   "execution_count": 17,
   "id": "ca45585a-0bf8-4d3e-bc79-051155c1a101",
   "metadata": {},
   "outputs": [
    {
     "data": {
      "text/plain": [
       "<gmsPython.nestingTree.nestingTree.AggTree at 0x1db6fe2ef90>"
      ]
     },
     "execution_count": 17,
     "metadata": {},
     "output_type": "execute_result"
    }
   ],
   "source": [
    "cesNest = nestingTree.Tree('G', tree = db('nestG').to_list(), f = 'CES')\n",
    "nest = nestingTree.AggTree(name = 'G', trees = {t.name: t for t in [cesNest]}, ws = ws)\n",
    "nest(namespace = {str(n)+'_input': n for n in db('n')})"
   ]
  },
  {
   "cell_type": "markdown",
   "id": "16a6e1c4-d5ce-48c2-bfb5-9631c652dd79",
   "metadata": {},
   "source": [
    "Value shares:"
   ]
  },
  {
   "cell_type": "code",
   "execution_count": 18,
   "id": "2d4b8c97-50fe-4a84-b851-ffd9729d8967",
   "metadata": {},
   "outputs": [],
   "source": [
    "v = nestedShares_noOutputs(nest, ws = ws)\n",
    "db_vs = v(dbIO)"
   ]
  },
  {
   "cell_type": "markdown",
   "id": "49ff3ed6-c9b6-40ce-a46b-91a4d3f64151",
   "metadata": {},
   "source": [
    "Add to main database:"
   ]
  },
  {
   "cell_type": "code",
   "execution_count": 19,
   "id": "774889e3-08c0-4864-88b7-b028c38434bb",
   "metadata": {},
   "outputs": [],
   "source": [
    "db.aom(db_vs('mu').xs(t0), name = 'mu') \n",
    "db.aom(adj.rc_pd(db_vs('vD'), nest.get('int').union(nest.get('output'))).rename('qD'), name = 'qD', priority = 'first') # specify intermediate goods levels"
   ]
  },
  {
   "cell_type": "markdown",
   "id": "2bb357f7-8b86-401c-93f5-4f6ce51bbe2d",
   "metadata": {},
   "source": [
    "Add module:"
   ]
  },
  {
   "cell_type": "code",
   "execution_count": 20,
   "id": "5e1dabd8-dcb9-4648-b316-13186aaaf06d",
   "metadata": {
    "scrolled": true
   },
   "outputs": [
    {
     "data": {
      "text/plain": [
       "<mGovernment.BalancedBudget at 0x1db6f9f7390>"
      ]
     },
     "execution_count": 20,
     "metadata": {},
     "output_type": "execute_result"
    }
   ],
   "source": [
    "M.addGovernmentModule(nest, L = db('L2C').droplevel('nn').unique())"
   ]
  },
  {
   "cell_type": "markdown",
   "id": "58a1304e-082a-4cb7-b893-9e53b22c8284",
   "metadata": {},
   "source": [
    "### 1.4. Simple modules:"
   ]
  },
  {
   "cell_type": "code",
   "execution_count": 21,
   "id": "537288be-9a26-458c-b5b3-b04b1ac708de",
   "metadata": {},
   "outputs": [
    {
     "data": {
      "text/plain": [
       "<mCGE.SimulateEV at 0x1db6fe23390>"
      ]
     },
     "execution_count": 21,
     "metadata": {},
     "output_type": "execute_result"
    }
   ],
   "source": [
    "M.addTradeModule('T', partial = True)\n",
    "# M.addEmissionsModule('M', partial = True, mtype = 'EmRegSimpleEOP');\n",
    "M.addOptWelfareModule('W')\n",
    "M.addSimulateEVModule('EV')"
   ]
  },
  {
   "cell_type": "markdown",
   "id": "7dc3ab47-046e-49fc-a1ae-21c385f242a3",
   "metadata": {},
   "source": [
    "## 2. Small stuff"
   ]
  },
  {
   "cell_type": "markdown",
   "id": "f594b214-2440-452d-9ef7-3730028095d1",
   "metadata": {},
   "source": [
    "*Clean up database a bit (this is not necessary, but it removes some variables that are not ultimately used in the model):*"
   ]
  },
  {
   "cell_type": "code",
   "execution_count": 22,
   "id": "5147f6e9-b31c-4bdd-b255-88a3bb95cbfd",
   "metadata": {},
   "outputs": [],
   "source": [
    "[db.series.__delitem__(k) for k in ('vD','vTax', 'vD_dur','vD_depr','vD_inv', 'vS', 'pD_dur') if k in db.symbols];"
   ]
  },
  {
   "cell_type": "markdown",
   "id": "bd906172-34ed-4bd0-a97c-68e7ab9bc0c8",
   "metadata": {},
   "source": [
    "For variables that are defined over $t$, but where we do not yet have an initial value for all $t$, extrapolate from data:\n",
    "\n",
    "*Note: This forces extrapolation of all variables defined over $t$ - if it is important that some variables are not extrapolated, they should be removed from this statement.*"
   ]
  },
  {
   "cell_type": "code",
   "execution_count": 23,
   "id": "5ac673a9-370a-4839-8a00-0f57425543ee",
   "metadata": {},
   "outputs": [],
   "source": [
    "[symbol.__setattr__('vals', extrapolateUpper(symbol.vals, db('tE')[0])) for symbol in [db[k] for k in db.varDom('t')['t']]];"
   ]
  },
  {
   "cell_type": "markdown",
   "id": "9b23d0f7-d444-4d0b-b5d7-0275a2e3acb3",
   "metadata": {},
   "source": [
    "Merge internally, i.e. write a gdx file from the Python database:"
   ]
  },
  {
   "cell_type": "code",
   "execution_count": 24,
   "id": "8e76dbc3-2ff7-4a70-bfcd-b460c28d7a03",
   "metadata": {},
   "outputs": [],
   "source": [
    "db.mergeInternal()"
   ]
  },
  {
   "cell_type": "markdown",
   "id": "c7404f41-adf4-44a9-a0f1-4cb40e7df04e",
   "metadata": {},
   "source": [
    "## 3. Solve and store"
   ]
  },
  {
   "cell_type": "markdown",
   "id": "d08e628d-f689-4fc7-9944-cef3dea148fe",
   "metadata": {},
   "source": [
    "Solve model without equilibrium condition:"
   ]
  },
  {
   "cell_type": "code",
   "execution_count": 25,
   "id": "5622fe48-7e1a-4d9d-9ec8-e7340e1975db",
   "metadata": {},
   "outputs": [],
   "source": [
    "solvePartial = M.jSolve(10, state = 'C')"
   ]
  },
  {
   "cell_type": "markdown",
   "id": "a57be407-7198-4524-9a56-d128a9321513",
   "metadata": {},
   "source": [
    "*Note: GAMS automatically makes objects sparse (and does not store zeros). In this case, the tax rates are removed (as they are zero in this baseline):*"
   ]
  },
  {
   "cell_type": "code",
   "execution_count": 26,
   "id": "a38e9e95-3db4-4005-b4d2-ea38d06cdc95",
   "metadata": {},
   "outputs": [],
   "source": [
    "solvePartial['tauCO2agg'] = solvePartial('tauCO2agg').combine_first(M.db('tauCO2agg'))"
   ]
  },
  {
   "cell_type": "markdown",
   "id": "a5e72973-7427-450c-a1ff-4a52342c8357",
   "metadata": {},
   "source": [
    "Add solution to main database, remove init methods (we want to use this solution as initial value):"
   ]
  },
  {
   "cell_type": "code",
   "execution_count": 27,
   "id": "648c52e2-f508-45a1-84cc-9847af17bd6d",
   "metadata": {},
   "outputs": [],
   "source": [
    "[M.db.__setitem__(k, solvePartial[k]) for k in M.db.getTypes(['var']) if k in solvePartial.symbols]; # use solution database\n",
    "M.db.mergeInternal()\n",
    "[setattr(m, 'initFromGms', None) for m in M.m.values()];"
   ]
  },
  {
   "cell_type": "markdown",
   "id": "4558b661-104f-4f3a-beaa-92e84c899a5a",
   "metadata": {},
   "source": [
    "Add emissions module (with no binding regulation for now):"
   ]
  },
  {
   "cell_type": "code",
   "execution_count": 28,
   "id": "7fed2d99-11ed-43eb-a5f8-0a7e3679cbfe",
   "metadata": {},
   "outputs": [],
   "source": [
    "M.addEmissionsModule('M', partial = True, mtype = 'EmRegEOP_EconWideCapital', initFromGms = True, ctype = 'AdHocCosts')\n",
    "M.compiler.locals['techType'] = \"'normalMult'\""
   ]
  },
  {
   "cell_type": "markdown",
   "id": "56143b2a-453e-41b7-bc7e-f3360dde41f4",
   "metadata": {},
   "source": [
    "With the multiplicative structure, we need to rescale the smoothing parameters used in the technology module. The initData method sets these to some initial values that are a fraction of the CO2 taxes (to get the scale right). However, these are customized for the case of the techtype \"normal\". Here, we simply rescale them to get an identical level of smoothing for the multiplicative case:"
   ]
  },
  {
   "cell_type": "code",
   "execution_count": 29,
   "id": "c31ffc81-c3ed-492a-a81d-d5eca8cd42a6",
   "metadata": {},
   "outputs": [],
   "source": [
    "# Only run this cell once - otherwise we change scale multiple times:\n",
    "M.db['techSmooth'] = 2* M.db('techSmooth') / M.db('techCost')\n",
    "M.db['DACSmooth']  = 2* M.db('DACSmooth') / M.db('DACCost')"
   ]
  },
  {
   "cell_type": "markdown",
   "id": "96e452bf-8360-4ed8-9da9-470b5b5bde28",
   "metadata": {},
   "source": [
    "*Add new modules and resolve*"
   ]
  },
  {
   "cell_type": "code",
   "execution_count": 30,
   "id": "ca0788b4-1795-4eae-881d-ac633b38e3de",
   "metadata": {},
   "outputs": [],
   "source": [
    "M.addIndexFundModule('IdxFund', s_idxFund = 's_p', initFromGms = True)\n",
    "M.addEquilibriumModule('Equi')\n",
    "M.db.mergeInternal() # add new potential variables to the gdx database\n",
    "fullSol = M.jSolve(25, state = 'C')"
   ]
  },
  {
   "cell_type": "markdown",
   "id": "4894081c-3ba2-49b1-818b-ff1e8b4ca13a",
   "metadata": {},
   "source": [
    "Remove local init methods (we want it to rely on this solution going forward):"
   ]
  },
  {
   "cell_type": "code",
   "execution_count": 31,
   "id": "b44a3b7c-ca86-4bec-8aaf-c873262a9df9",
   "metadata": {},
   "outputs": [],
   "source": [
    "[setattr(m, 'initFromGms', None) for m in M.m.values()];"
   ]
  },
  {
   "cell_type": "markdown",
   "id": "59136e7d-1507-44da-aadd-384982643143",
   "metadata": {},
   "source": [
    "Add full solution to baseline model database:"
   ]
  },
  {
   "cell_type": "code",
   "execution_count": 32,
   "id": "7e5f3314-9ef6-4b85-be14-9c233de2d8be",
   "metadata": {},
   "outputs": [],
   "source": [
    "[M.db.__setitem__(k, fullSol[k]) for k in M.db.getTypes(['var']) if k in fullSol.symbols]; # use solution database\n",
    "M.db.mergeInternal()"
   ]
  },
  {
   "cell_type": "markdown",
   "id": "c4276427-806c-4ffc-80dd-eb2114e3c88e",
   "metadata": {},
   "source": [
    "## 4. Save/export"
   ]
  },
  {
   "cell_type": "code",
   "execution_count": 33,
   "id": "40ecd21b-80c7-4ece-a762-6f339e2a1e44",
   "metadata": {},
   "outputs": [],
   "source": [
    "M.db.data_folder = d['data']"
   ]
  },
  {
   "cell_type": "markdown",
   "id": "cd41d9ea-3350-4f9f-b70b-ef4bdd0022c3",
   "metadata": {},
   "source": [
    "We can save/export the model in a few different ways:\n",
    "1. Save model instance: The model class ```Model``` (parent class of the CGE class) is pickleable, meaning that we can save/load the class with Python's ```pickle``` class.\n",
    "2. Store solution: It takes no time to re-initialize the ```Model``` class, so we can also simply store the solution database and - when needed - initialize the model class again.\n",
    "3. Store GAMS code and solution: This option allows us to remove the model from the python class ```Model``` and instead treat it as a conventional GAMS program."
   ]
  },
  {
   "cell_type": "markdown",
   "id": "6394ff6b-f094-4fc7-8f8e-ec603efc89bf",
   "metadata": {},
   "source": [
    "*Store model instance or database with pickle:*"
   ]
  },
  {
   "cell_type": "code",
   "execution_count": 34,
   "id": "4ae094c8-3b31-4021-a6f4-5827c5c69056",
   "metadata": {},
   "outputs": [],
   "source": [
    "M.export(repo = M.data_folder, name = M.name) # store the entire class - these are the default options by the way \n",
    "M.db.export(repo = M.db.data_folder, name = M.db.name) # store the solution database"
   ]
  }
 ],
 "metadata": {
  "kernelspec": {
   "display_name": "Python 3 (ipykernel)",
   "language": "python",
   "name": "python3"
  },
  "language_info": {
   "codemirror_mode": {
    "name": "ipython",
    "version": 3
   },
   "file_extension": ".py",
   "mimetype": "text/x-python",
   "name": "python",
   "nbconvert_exporter": "python",
   "pygments_lexer": "ipython3",
   "version": "3.11.8"
  }
 },
 "nbformat": 4,
 "nbformat_minor": 5
}
