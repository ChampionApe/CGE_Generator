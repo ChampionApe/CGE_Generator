{
 "cells": [
  {
   "cell_type": "code",
   "execution_count": 1,
   "id": "b75f3e13-7d80-4eae-b503-eae3c5834fde",
   "metadata": {},
   "outputs": [
    {
     "name": "stdout",
     "output_type": "stream",
     "text": [
      "No clean-up of work-folder\n"
     ]
    }
   ],
   "source": [
    "%run stdPackages.ipynb\n",
    "# os.chdir(d['py'])\n",
    "# from modelData import *\n",
    "# from gmsPython import nestingTree\n",
    "# from mEmissions import EmissionTargetEOP"
   ]
  },
  {
   "cell_type": "markdown",
   "id": "f18d0164-7d0c-42f9-8ca0-779953a2d37f",
   "metadata": {},
   "source": [
    "# Create EOP Abatement Data"
   ]
  },
  {
   "cell_type": "markdown",
   "id": "7685d026-e7b8-4710-85a5-0827f6f86b9a",
   "metadata": {},
   "source": [
    "Give start year and final year (of technological progress):"
   ]
  },
  {
   "cell_type": "code",
   "execution_count": 2,
   "id": "a9555418-bb75-4fb3-8eec-562b5f4a1805",
   "metadata": {},
   "outputs": [],
   "source": [
    "t0, T = 2019, 2050"
   ]
  },
  {
   "cell_type": "markdown",
   "id": "3320866d-d5ec-47cc-b4c1-22cfe0178068",
   "metadata": {},
   "source": [
    "Create toy abatement data with costs in baseline year and an exponential rate it should drop by:"
   ]
  },
  {
   "cell_type": "code",
   "execution_count": 81,
   "id": "cfc8ef01-6ff2-42b1-8dda-d22c1b305330",
   "metadata": {},
   "outputs": [],
   "source": [
    "n = 6\n",
    "c0 = np.hstack([6000, np.linspace(4000, 2000, n-1)])\n",
    "pot = np.hstack([.5, np.full(n-1, .25)])\n",
    "g = .02\n",
    "costs = pd.DataFrame((np.power(1-g, range(T-t0+1)).reshape(T-t0+1,1) * c0 ), \n",
    "                     index = pd.Index(range(t0, T+1), name = 't'), \n",
    "                     columns = 'CCS'+pd.Index(range(n), name = 'tech').astype(str)).stack()"
   ]
  }
 ],
 "metadata": {
  "kernelspec": {
   "display_name": "Python 3 (ipykernel)",
   "language": "python",
   "name": "python3"
  },
  "language_info": {
   "codemirror_mode": {
    "name": "ipython",
    "version": 3
   },
   "file_extension": ".py",
   "mimetype": "text/x-python",
   "name": "python",
   "nbconvert_exporter": "python",
   "pygments_lexer": "ipython3",
   "version": "3.11.8"
  }
 },
 "nbformat": 4,
 "nbformat_minor": 5
}
