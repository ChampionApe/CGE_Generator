{
 "cells": [
  {
   "cell_type": "code",
   "execution_count": 1,
   "id": "c1576940-42f8-4510-8abb-91c5334e236f",
   "metadata": {},
   "outputs": [
    {
     "name": "stdout",
     "output_type": "stream",
     "text": [
      "No clean-up of work-folder\n"
     ]
    }
   ],
   "source": [
    "%run stdPackages.ipynb\n",
    "os.chdir(d['py'])\n",
    "from modelData import *\n",
    "from gmsPython import nestingTree\n",
    "from mEmissions import EmRegTargetsFromSYT, EmRegTargetsFromSYT_xt0"
   ]
  },
  {
   "cell_type": "markdown",
   "id": "b385c9f7-72ee-441a-afd6-a590649c8167",
   "metadata": {},
   "source": [
    "# Create Model Data"
   ]
  },
  {
   "cell_type": "markdown",
   "id": "882073c3-2903-4f4c-b02e-b91cc29778ac",
   "metadata": {},
   "source": [
    "With square adjustment costs."
   ]
  },
  {
   "cell_type": "markdown",
   "id": "c758079c-7627-4a04-a05b-f786aa7003f0",
   "metadata": {},
   "source": [
    "## 0. Preliminaries"
   ]
  },
  {
   "cell_type": "code",
   "execution_count": 2,
   "id": "3da38ef7-e4e4-478e-b607-d9beafa5f381",
   "metadata": {},
   "outputs": [],
   "source": [
    "t0 = 2019"
   ]
  },
  {
   "cell_type": "markdown",
   "id": "a6ad2790-a5b3-4530-a03e-eff0ce9fa13b",
   "metadata": {},
   "source": [
    "*This creates a copy of the IO data from the ```IOdata``` project into the local data folder*"
   ]
  },
  {
   "cell_type": "code",
   "execution_count": 3,
   "id": "febca1f3-7de7-492b-94c1-f9b460a96708",
   "metadata": {},
   "outputs": [
    {
     "data": {
      "text/plain": [
       "'C:\\\\Users\\\\sxj477\\\\Documents\\\\GitHub\\\\CGE_Generator\\\\projects\\\\NationalClimatePolicy\\\\data\\\\IO2019_NCP'"
      ]
     },
     "execution_count": 3,
     "metadata": {},
     "output_type": "execute_result"
    }
   ],
   "source": [
    "ioName = f'IO{t0}_NCP'\n",
    "f_IOdata = os.path.join(d['project'], 'IOdata','data','processedData', ioName)\n",
    "shutil.copy(f_IOdata, os.path.join(d['data'], ioName))"
   ]
  },
  {
   "cell_type": "markdown",
   "id": "12f93b7b-bd8b-442b-afee-17a68687c1c2",
   "metadata": {},
   "source": [
    "*Define main settings:*"
   ]
  },
  {
   "cell_type": "code",
   "execution_count": 4,
   "id": "5eacaa2a-513a-4524-bd03-c5e5efb87ade",
   "metadata": {},
   "outputs": [],
   "source": [
    "T  = t0 + 150 # set finite time horizon\n",
    "name = 'vSimpleEOP_SAC' # Some global name that carries through all models/data to identify this version"
   ]
  },
  {
   "cell_type": "markdown",
   "id": "d4e5a14e-dec4-42f0-916a-235331f092e9",
   "metadata": {},
   "source": [
    "*Load data:*"
   ]
  },
  {
   "cell_type": "code",
   "execution_count": 5,
   "id": "9f27089e-e9c4-4b89-a3cc-e0f75ec713dd",
   "metadata": {},
   "outputs": [],
   "source": [
    "db = GpyDB(os.path.join(d['data'], ioName), name = f'{name}_{t0}', ws = d['work'])"
   ]
  },
  {
   "cell_type": "markdown",
   "id": "d32b56f0-b8f7-4f3d-ac00-fd49509b50bf",
   "metadata": {},
   "source": [
    "*For relevant variables, add yearly index to data (this is currently all of them)*"
   ]
  },
  {
   "cell_type": "code",
   "execution_count": 6,
   "id": "8491b941-801d-4a76-870d-d17baabd7547",
   "metadata": {},
   "outputs": [],
   "source": [
    "def add_t0(k):\n",
    "    k.index = stdSort(pd.MultiIndex.from_frame(k.index.to_frame(index=False).assign(t = t0)))\n",
    "[add_t0(db(k)) for k in db.getTypes(['var','par'])];"
   ]
  },
  {
   "cell_type": "markdown",
   "id": "564aa89c-dfc1-4f66-bb41-11bec9af1f9e",
   "metadata": {},
   "source": [
    "*Add various time subsets that we'll rely on:*"
   ]
  },
  {
   "cell_type": "code",
   "execution_count": 7,
   "id": "9a95e9b5-da1a-4745-975a-bfd5bb2c6fb1",
   "metadata": {},
   "outputs": [],
   "source": [
    "addTimeToDB(t0, T, db)"
   ]
  },
  {
   "cell_type": "markdown",
   "id": "a83f093f-815a-4ed1-a9c0-71b9ef884296",
   "metadata": {},
   "source": [
    "## 0. Adhoc adjustments:"
   ]
  },
  {
   "cell_type": "markdown",
   "id": "c02ec344-f1d0-45d0-924d-54e62e81f247",
   "metadata": {},
   "source": [
    "Create some adhoc adjustments to force a steady state without markups and (almost) no taxes.\n",
    "1. Remove inventory investments entirely.\n",
    "2. Set all taxes to zero except lump-sum taxes on households (this should finance government consumption)\n",
    "3. Adjust depreciation rates to ensure steady state level of investments in baseline year.\n",
    "4. Adjust household labor supply to ensure the household starts in steady state. Assume the household owns zero foreign assets, but all of the domestic shares."
   ]
  },
  {
   "cell_type": "markdown",
   "id": "84295d95-5968-4500-a34b-2200125a1777",
   "metadata": {},
   "source": [
    "#### Remove inventory and taxes:"
   ]
  },
  {
   "cell_type": "markdown",
   "id": "83859765-554b-49d6-b471-54300e3b2ec6",
   "metadata": {},
   "source": [
    "Remove inventory and trade:"
   ]
  },
  {
   "cell_type": "code",
   "execution_count": 8,
   "id": "02d95237-57de-4150-98fa-15698c92e5dc",
   "metadata": {},
   "outputs": [],
   "source": [
    "c = ('not', pd.Index(['itory'], name = 's'))\n",
    "db['qD'] = adj.rc_pd(db('qD'), c)\n",
    "db['d_qD'] = adj.rc_pd(db('d_qD'), c)"
   ]
  },
  {
   "cell_type": "markdown",
   "id": "080ab25b-6d49-4e63-a7f7-bf3eebc51c2b",
   "metadata": {},
   "source": [
    "Set zero taxes:"
   ]
  },
  {
   "cell_type": "code",
   "execution_count": 9,
   "id": "a0658d4e-39c5-446c-8fb0-5a9af2ca8b93",
   "metadata": {},
   "outputs": [],
   "source": [
    "db['TotalTax'] = adj.rc_pd(pd.Series(0, index = db('TotalTax').index), c, pm = False)\n",
    "db['vTax']     = adj.rc_pd(pd.Series(0, index = db('vTax').index), c, pm = False)"
   ]
  },
  {
   "cell_type": "markdown",
   "id": "883b7649-b21e-4cd8-a437-47a63a1af6df",
   "metadata": {},
   "source": [
    "#### Balance IO:"
   ]
  },
  {
   "cell_type": "markdown",
   "id": "42ba4710-1b80-4dee-ae47-c5c615fcf5cb",
   "metadata": {},
   "source": [
    "Return on household assets (given that it owns all domestic shares, no foreign ones):"
   ]
  },
  {
   "cell_type": "code",
   "execution_count": 10,
   "id": "f4e35612-a01e-4e23-9e2b-3c246a1e11d6",
   "metadata": {},
   "outputs": [],
   "source": [
    "returnOnAssets = (db('R_LR')-1)*adj.rc_pd(db('qD'), db('dur_p')).sum()"
   ]
  },
  {
   "cell_type": "markdown",
   "id": "d64b5e85-1e63-4578-ac47-9a3bfdb14d65",
   "metadata": {},
   "source": [
    "Then, the supply of labor is adjusted such that labor income and return on assets equals consumption + government consumption (as this will eventually be financed by taxes on the household). Note: This only works if there is a single government sector and a single household sector:"
   ]
  },
  {
   "cell_type": "code",
   "execution_count": 11,
   "id": "62cb8a84-de48-4236-bd24-5d0b7c2ec9fc",
   "metadata": {},
   "outputs": [],
   "source": [
    "db.aom(pd.Series((db('qD').xs((t0, 'HH'), level = ['t','s']).sum()\n",
    "                 +db('qD').xs((t0, 'G'), level = ['t','s']).sum()\n",
    "                 -returnOnAssets),\n",
    "                 index = adj.rc_pd(db('qS'), db('s_HH')).index),\n",
    "       name = 'qS')"
   ]
  },
  {
   "cell_type": "markdown",
   "id": "173a93b9-54fd-455e-a767-da7dc3437224",
   "metadata": {},
   "source": [
    "Adjust intermediate goods supply  to match demand:"
   ]
  },
  {
   "cell_type": "code",
   "execution_count": 12,
   "id": "cfe2ce7b-8c1b-4c6c-8f2d-94edd08baf74",
   "metadata": {},
   "outputs": [],
   "source": [
    "db.aom(pd.Series(0, index = adj.rc_pd(db('qS'), db('s_i')).index)+adj.rc_pd(db('qD'), db('s_i')).groupby(['t','s']).sum(), name = 'qS')"
   ]
  },
  {
   "cell_type": "markdown",
   "id": "90cb8486-237d-4d00-9c12-dc4ad71d8c0d",
   "metadata": {},
   "source": [
    "*Adjust production sectors' demand for labor and intermediate goods. Do it by scaling up/down levels proportionally:*"
   ]
  },
  {
   "cell_type": "code",
   "execution_count": 13,
   "id": "f99301d0-9571-4589-ac89-ac51ee71ff18",
   "metadata": {},
   "outputs": [],
   "source": [
    "TotalDemandForI = adj.rc_pd(db('qD'), db('inv_p')).groupby(['t','n']).sum()\n",
    "TotalSupplyForI = adj.rc_pd(db('qS').droplevel('s'), db('inv_p'))\n",
    "db.aom(stdSort(adj.rc_pd(db('qD'), db('inv_p')) * (TotalSupplyForI/TotalDemandForI)), name = 'qD')"
   ]
  },
  {
   "cell_type": "markdown",
   "id": "7a413696-f4f0-476a-926b-89ddb3169fb8",
   "metadata": {},
   "source": [
    "Check demand for I_K versus I_K's own demand + its supply:"
   ]
  },
  {
   "cell_type": "code",
   "execution_count": 14,
   "id": "59a90da8-de9f-4992-a61e-7c8c5c17df1d",
   "metadata": {},
   "outputs": [
    {
     "data": {
      "text/plain": [
       "True"
      ]
     },
     "execution_count": 14,
     "metadata": {},
     "output_type": "execute_result"
    }
   ],
   "source": [
    "adj.rc_pd(db('qD'), db('s_i')).sum() == adj.rc_pd(db('qD'), db('inv_p')).sum() == adj.rc_pd(db('qS'), db('s_i')).sum()"
   ]
  },
  {
   "cell_type": "markdown",
   "id": "5ee91e86-8444-423d-aff4-4f9ca0243b85",
   "metadata": {},
   "source": [
    "*This assumes a single labor good:*"
   ]
  },
  {
   "cell_type": "code",
   "execution_count": 15,
   "id": "5ae2ca72-a1fb-44b6-ac6f-6b2f12a5841e",
   "metadata": {},
   "outputs": [],
   "source": [
    "LIdx = pd.Index(['L'], name = 'n')\n",
    "TotalDemandForL = adj.rc_pd(db('qD'), LIdx).groupby(['t','n']).sum()\n",
    "TotalSupplyForL = adj.rc_pd(db('qS').droplevel('s'), LIdx)\n",
    "db.aom(stdSort(adj.rc_pd(db('qD'), LIdx) * (TotalSupplyForL/TotalDemandForL)), name = 'qD')"
   ]
  },
  {
   "cell_type": "markdown",
   "id": "4c2fd052-3432-4062-a3be-e7a18e579f70",
   "metadata": {},
   "source": [
    "Check that demand for labor = supply of labor:"
   ]
  },
  {
   "cell_type": "code",
   "execution_count": 16,
   "id": "9b05cc26-e7c3-465c-8220-0e64868b6e4a",
   "metadata": {},
   "outputs": [
    {
     "data": {
      "text/plain": [
       "True"
      ]
     },
     "execution_count": 16,
     "metadata": {},
     "output_type": "execute_result"
    }
   ],
   "source": [
    "db('qS').xs('L',level='n').sum() == db('qD').xs('L',level='n').sum()"
   ]
  },
  {
   "cell_type": "markdown",
   "id": "d2f23a7a-5dfe-4072-8da1-d68f2074d6c4",
   "metadata": {},
   "source": [
    "*Define depreciation rate as the steady state rate:*"
   ]
  },
  {
   "cell_type": "code",
   "execution_count": 17,
   "id": "141da8da-96d5-40a5-b2ab-634c8300288c",
   "metadata": {},
   "outputs": [],
   "source": [
    "I0 = adjMultiIndex.applyMult(adj.rc_pd(adj.rc_pd(db('qD'), db('inv_p')), alias = {'n':'nn'}),\n",
    "                             db('dur2inv'))\n",
    "db.aom((I0/adj.rc_pd(db('qD'), db('dur_p'))).droplevel('nn'), name = 'rDepr')"
   ]
  },
  {
   "cell_type": "markdown",
   "id": "80db1959-9d66-4c74-81a5-cb17655263c8",
   "metadata": {},
   "source": [
    "*Update the durable price as well*"
   ]
  },
  {
   "cell_type": "code",
   "execution_count": 18,
   "id": "437aaa3b-96c8-44bb-afa5-e99e427259b5",
   "metadata": {},
   "outputs": [],
   "source": [
    "db.aom(db('rDepr')+db('R_LR')-1, name = 'pD_dur')"
   ]
  },
  {
   "cell_type": "markdown",
   "id": "75932d44-0d5c-4a2d-94dd-357651bd2eaa",
   "metadata": {},
   "source": [
    "*Adjust supply to ensure zero profits with steady state level of investments:*"
   ]
  },
  {
   "cell_type": "code",
   "execution_count": 19,
   "id": "92699513-f5c4-421a-a3d2-e1f3adf1e226",
   "metadata": {},
   "outputs": [],
   "source": [
    "costs_nonDurables = adj.rc_pd(db('qD'), ('and', [db('s_p'), ('not', db('dur_p')), ('not', db('inv_p'))])).groupby(['t','s']).sum()\n",
    "costs_Durables = (adj.rc_pd(db('qD'), db('dur_p')) * db('pD_dur')).groupby(['t','s']).sum()\n",
    "db.aom(pd.Series(0, index = adj.rc_pd(db('qS'), db('s_p')).index)+costs_Durables+costs_nonDurables, name = 'qS')"
   ]
  },
  {
   "cell_type": "markdown",
   "id": "9ba2ad34-341b-45ca-8c8c-1c574120294b",
   "metadata": {},
   "source": [
    "*Adjust foreign sector's demand for domestic products to ensure equilibrium (check that this does not create negative values):*"
   ]
  },
  {
   "cell_type": "code",
   "execution_count": 20,
   "id": "5cb3e364-6170-485b-baf3-22eb2295d716",
   "metadata": {},
   "outputs": [],
   "source": [
    "SupplyDom = adj.rc_pd(db('qS'), db('s_p')).groupby(['t','n']).sum()\n",
    "DemandDom_MinusTradeAndDurs = adj.rc_pd(db('qD'), ('and', [('not', db('s_f')), ('not', db('dur_p')), db('n_p')])).groupby(['t','n']).sum()\n",
    "db.aom(stdSort(pd.Series(0, index = adj.rc_pd(db('qD'), db('s_f')).index) + SupplyDom-DemandDom_MinusTradeAndDurs), name = 'qD')"
   ]
  },
  {
   "cell_type": "markdown",
   "id": "2e7c364a-9d9a-4fe4-8689-a14c479e6378",
   "metadata": {},
   "source": [
    "## 1. Production module"
   ]
  },
  {
   "cell_type": "markdown",
   "id": "f4342bec-8cca-4b80-9e73-96bc590c1049",
   "metadata": {},
   "source": [
    "### 1.1. Nesting structure"
   ]
  },
  {
   "cell_type": "markdown",
   "id": "5e6ac65d-3813-434a-8135-dbe16e5696bd",
   "metadata": {},
   "source": [
    "Generally, we consider the following nesting structure:"
   ]
  },
  {
   "cell_type": "code",
   "execution_count": 21,
   "id": "9d69d909-f784-4d40-9625-a2d7b7629a92",
   "metadata": {},
   "outputs": [],
   "source": [
    "mFull = pd.MultiIndex.from_tuples([('KELM', 'RxE'), ('KELM','KEL'), \n",
    "                                                    ('KEL','L'), ('KEL','KE'), \n",
    "                                                    ('KE','K'), ('KE','E'),\n",
    "                                                    ('E','Energy_input'),('E','Energy_F')], names = ['n','nn'])"
   ]
  },
  {
   "cell_type": "markdown",
   "id": "4454308b-8191-4a2a-9ebd-26ca4561ce3f",
   "metadata": {},
   "source": [
    "The materials nest excluding energy (```RxE```) is a CES nest of different final goods that compete with similar foreign ones. We use the syntax ```RxEym_x``` to denote the intermediate good that consists of ```x``` and the relevant foreign good:"
   ]
  },
  {
   "cell_type": "code",
   "execution_count": 22,
   "id": "75566c64-37b9-437b-822d-3cf9ff24617d",
   "metadata": {},
   "outputs": [],
   "source": [
    "nF_full = db('n_p')+'_F' # some of the set elements in the database may have been removed, because they are not used in a single sector\n",
    "n_noEnergy = db('n_p').difference(['Energy']) \n",
    "nF_noEnergy= nF_full.difference(['Energy_F'])\n",
    "RxE1 = pd.MultiIndex.from_product([['RxE'], 'RxEym_'+n_noEnergy], names = ['n','nn']) # mapping from RxE to intermediate goods\n",
    "RxE2 = pd.MultiIndex.from_arrays([RxE1.get_level_values('nn'), n_noEnergy+'_input'], names = ['n','nn']) # mapping from intermediate good to domestic one \n",
    "RxE3 = pd.MultiIndex.from_arrays([RxE1.get_level_values('nn'), nF_noEnergy], names = ['n','nn']) # mapping from intermediate good to foreign one\n",
    "mFull = reduce(pd.Index.union, [mFull, RxE1, RxE2, RxE3]) # Combine the four indices"
   ]
  },
  {
   "cell_type": "markdown",
   "id": "bf102aae-b671-42e6-98d7-4c48a4762a32",
   "metadata": {},
   "source": [
    "If a sector uses inputs from all other sectors and foreign sectors, this is the mapping that describes its production structure. We allow for each sector to have a unique nesting structure by adding the sector index:"
   ]
  },
  {
   "cell_type": "code",
   "execution_count": 23,
   "id": "a162c0a6-41f9-4296-b02f-1ca608c21a65",
   "metadata": {},
   "outputs": [],
   "source": [
    "m = pyDatabases.cartesianProductIndex([db('s_p'), mFull])"
   ]
  },
  {
   "cell_type": "markdown",
   "id": "be07f82d-02f9-44f6-a3b0-ced9eebda3e0",
   "metadata": {},
   "source": [
    "Next, it may not be the case that all sectors rely on all types of inputs. In this case, we \"trim\" the nesting tree by eliminating the knots that are unused:"
   ]
  },
  {
   "cell_type": "code",
   "execution_count": 24,
   "id": "c76a6fcf-6f2b-4cbc-8571-70d95d0b5654",
   "metadata": {},
   "outputs": [],
   "source": [
    "sparsity = adj.rc_pd(db('vD')[db('vD')!=0], db('s_p')).droplevel('t').index # what types of inputs do the sectors actually use in the data\n",
    "# recall that inputs are called '_input' for products from the domestic sectors. Map the sparsity index to these:\n",
    "mapNames = pd.Series(db('n_p')+'_input', index = db('n_p')).combine_first(\n",
    "            pd.Series(sparsity.levels[-1], index = sparsity.levels[-1]))\n",
    "sparsity = sparsity.set_levels(sparsity.levels[-1].map(mapNames), level = -1)\n",
    "\n",
    "m = nestingTree.trimNestingStructure(m, sparsity)"
   ]
  },
  {
   "cell_type": "markdown",
   "id": "a12a96d6-f59b-461e-b49a-b5081a2020ae",
   "metadata": {},
   "source": [
    "Finally, we replace the upper-most level ```KELM``` with the name of the sector instead:"
   ]
  },
  {
   "cell_type": "code",
   "execution_count": 25,
   "id": "9aff6278-d0d0-4047-825b-ff6e7c3a53ae",
   "metadata": {},
   "outputs": [],
   "source": [
    "df = m.to_frame(index=False)\n",
    "df.loc[df.n == 'KELM','n'] = df.loc[df.n == 'KELM', 's']\n",
    "m = pd.MultiIndex.from_frame(df)\n",
    "db['nestProduction'] = m"
   ]
  },
  {
   "cell_type": "markdown",
   "id": "ac70b3c5-7aca-458a-bde3-1d3e4b21e51f",
   "metadata": {},
   "source": [
    "### 1.2. Elasticities"
   ]
  },
  {
   "cell_type": "markdown",
   "id": "9a20d4a9-0b63-48e5-a84d-49c82828f33d",
   "metadata": {},
   "source": [
    "Elasticity of substitution between materials and ```qKEL```"
   ]
  },
  {
   "cell_type": "code",
   "execution_count": 26,
   "id": "677ef39e-2bfc-4df0-9808-3fa7869b1873",
   "metadata": {},
   "outputs": [],
   "source": [
    "sigmaOut = pd.Series(0.5, index = m[m.get_level_values('s')==m.get_level_values('n')].droplevel('nn').unique(), name = 'sigma')"
   ]
  },
  {
   "cell_type": "markdown",
   "id": "47077721-c78e-45d2-92fc-b4401154f88d",
   "metadata": {},
   "source": [
    "Elasticity of substitution ```qKEL``` nest:"
   ]
  },
  {
   "cell_type": "code",
   "execution_count": 27,
   "id": "bf0fe14c-6a9a-47b1-acaa-8b101cf9c4ff",
   "metadata": {},
   "outputs": [],
   "source": [
    "sigmaKEL = pd.Series(0.5, index  = m[m.get_level_values('n')=='KEL'].droplevel('nn').unique(), name = 'sigma')"
   ]
  },
  {
   "cell_type": "markdown",
   "id": "36937cc9-9354-4ae1-93e3-1e031e66d24f",
   "metadata": {},
   "source": [
    "Elasticity of substitution ```KE``` nest:"
   ]
  },
  {
   "cell_type": "code",
   "execution_count": 28,
   "id": "6be0497f-4042-429a-a1fb-42d71e2050db",
   "metadata": {},
   "outputs": [],
   "source": [
    "sigmaKE = pd.Series(0.6, index  = m[m.get_level_values('n')=='KE'].droplevel('nn').unique(), name = 'sigma')"
   ]
  },
  {
   "cell_type": "markdown",
   "id": "561be058-f81d-4823-86c6-e27702c50709",
   "metadata": {},
   "source": [
    "Elasticity of substitution ```E``` nest:"
   ]
  },
  {
   "cell_type": "code",
   "execution_count": 29,
   "id": "00e62c14-7825-4e53-8017-ce27ddfb94b9",
   "metadata": {},
   "outputs": [],
   "source": [
    "sigmaE = pd.Series(0.5, index  = m[m.get_level_values('n')=='E'].droplevel('nn').unique(), name = 'sigma')"
   ]
  },
  {
   "cell_type": "markdown",
   "id": "5b60f4b3-4383-4b00-9daa-d6de85fa9a46",
   "metadata": {},
   "source": [
    "Elasticity of substitution between materials:"
   ]
  },
  {
   "cell_type": "code",
   "execution_count": 30,
   "id": "840b77c6-6f0f-4cc2-b001-7fee77c3c2c7",
   "metadata": {},
   "outputs": [],
   "source": [
    "sigmaRxE = pd.Series(0.1, index = m[m.get_level_values('n')=='RxE'].droplevel('nn').unique(), name = 'sigma')"
   ]
  },
  {
   "cell_type": "markdown",
   "id": "7d2fc68c-f637-4259-a153-62fb1bc4166f",
   "metadata": {},
   "source": [
    "Elasticity of substitution import/domestic types:"
   ]
  },
  {
   "cell_type": "code",
   "execution_count": 31,
   "id": "c7c1cd1c-ecb6-4429-8f6c-96fefb0a18ea",
   "metadata": {},
   "outputs": [],
   "source": [
    "sigmaRxEym = pd.Series(5, index = m[m.get_level_values('n').str.contains('RxEy')].droplevel('nn').unique(), name = 'sigma')"
   ]
  },
  {
   "cell_type": "markdown",
   "id": "6513d873-1205-444f-9a4f-69fb6313bd8b",
   "metadata": {},
   "source": [
    "Add to database:"
   ]
  },
  {
   "cell_type": "code",
   "execution_count": 32,
   "id": "d165785a-d20f-4c08-99cd-bd806de13d0d",
   "metadata": {
    "tags": []
   },
   "outputs": [],
   "source": [
    "sigma = pd.concat([sigmaOut, sigmaKEL, sigmaKE, sigmaE, sigmaRxE, sigmaRxEym], axis = 0 )\n",
    "db.aom(sigma, name = 'sigma')"
   ]
  },
  {
   "cell_type": "markdown",
   "id": "c49af208-bba5-448c-9962-38be920f8710",
   "metadata": {},
   "source": [
    "### 1.3. Regulation and emissions"
   ]
  },
  {
   "cell_type": "markdown",
   "id": "c1f7e144-3c23-4d45-a8a6-e12f32e2fbd4",
   "metadata": {},
   "source": [
    "Define relevant sector outputs and output shares (relevant if sectors have multiple outputs):"
   ]
  },
  {
   "cell_type": "code",
   "execution_count": 33,
   "id": "fc0086ff-359e-4f82-9ce8-0befe955b692",
   "metadata": {},
   "outputs": [],
   "source": [
    "output = adj.rc_pd(db['qS'], db['s_p']) # output\n",
    "inputs = adj.rc_pd(db['qD'], ('and', [db['s_p'], ('not', db['dur_p'])])) # inputs\n",
    "outShares = output/pyDatabases.pdSum(output, 'n') # output shares\n",
    "db['qCO2'] = (db('qCO2') * outShares).dropna() # overwrite qCO2 to be split into potentially multiple outputs from each sector"
   ]
  },
  {
   "cell_type": "markdown",
   "id": "6d91374d-8170-45bb-86bb-84fef1855189",
   "metadata": {},
   "source": [
    "Define implicit tax rate (this is a rough estimate of emission taxes, and its only available for $t\\geq 1995$):"
   ]
  },
  {
   "cell_type": "code",
   "execution_count": 34,
   "id": "d45a7322-401e-496d-b55a-3cbe95531daf",
   "metadata": {},
   "outputs": [],
   "source": [
    "db['tauCO2'] = adjMultiIndex.applyMult((db('vTax').xs('Emissions',level='taxTypes') / db('qCO2').replace(0,1)).fillna(0), output.index)\n",
    "db['dtauCO2']= db('tauCO2').index.droplevel('t').unique()\n",
    "db['dqCO2']  = db('qCO2').index.droplevel('t').unique()"
   ]
  },
  {
   "cell_type": "markdown",
   "id": "74fa0dc5-f084-47f3-b957-ddffc312da14",
   "metadata": {},
   "source": [
    "**Apply uniform CO2 taxes instead:**"
   ]
  },
  {
   "cell_type": "markdown",
   "id": "7039f1cb-60a2-403a-945c-6cd441b3dff9",
   "metadata": {},
   "source": [
    "Compute average tax and replace sector-specific ones:"
   ]
  },
  {
   "cell_type": "code",
   "execution_count": 35,
   "id": "f6ed253e-c68e-42de-86d6-daeadc8f38ae",
   "metadata": {},
   "outputs": [],
   "source": [
    "db['tauCO2agg'] = (db('tauCO2') * db('qCO2')).groupby('t').sum() / (db('qCO2').groupby('t').sum()) # average CO2 tax\n",
    "db['tauCO2'] = pd.Series(0, index = db('tauCO2').index)+db('tauCO2agg')"
   ]
  },
  {
   "cell_type": "markdown",
   "id": "358c914b-c6c4-4a31-a626-ed7d4ab82d42",
   "metadata": {},
   "source": [
    "Compute totals for emission taxes and replace in ```vTax```:"
   ]
  },
  {
   "cell_type": "code",
   "execution_count": 36,
   "id": "d8bc9bd7-801c-4ee6-8676-2c57c801399b",
   "metadata": {},
   "outputs": [],
   "source": [
    "vTax_Emissions = pyDatabases.pdSum((db('tauCO2') * db('qCO2').replace(0,1)), 'n')\n",
    "vTax_Emissions_= vTax_Emissions.rename('vTax').reset_index().assign(taxTypes = 'Emissions').set_index(db['vTax'].domains)['vTax']\n",
    "db.aom(vTax_Emissions_, name = 'vTax', priority = 'second')"
   ]
  },
  {
   "cell_type": "markdown",
   "id": "48155d66-608b-49d2-a352-68dc87f53a41",
   "metadata": {},
   "source": [
    "For the residual part add as a lump-sum transfer:"
   ]
  },
  {
   "cell_type": "code",
   "execution_count": 37,
   "id": "12c21ef5-f1c9-4819-961c-b76d6a2217e3",
   "metadata": {},
   "outputs": [],
   "source": [
    "db.aom(adj.rc_pd(db('TotalTax'), db['s_p'])-db('vTax').xs('Emissions',level='taxTypes'), name = 'tauLump')\n",
    "db.aom(pd.Series(0, index = output.index), name = 'tauS')\n",
    "db.aom(pd.Series(0, index = inputs.index), name = 'tauD')"
   ]
  },
  {
   "cell_type": "markdown",
   "id": "dfa7be4e-0877-47c9-89f4-9c67be3a1ee7",
   "metadata": {},
   "source": [
    "Define sector-specific prices given regulation:"
   ]
  },
  {
   "cell_type": "code",
   "execution_count": 38,
   "id": "438d48ed-35c4-465d-8aea-0b848627b0d9",
   "metadata": {},
   "outputs": [],
   "source": [
    "db.aom(stdSort(adj.rc_pd((db('tauD')+db('p')).dropna(), inputs)), name = 'pD')"
   ]
  },
  {
   "cell_type": "markdown",
   "id": "c57d01e5-e0d2-4a62-b2cd-ba4dfca44363",
   "metadata": {},
   "source": [
    "Add the value of the \"index fund\" to be equal to the capital stock:"
   ]
  },
  {
   "cell_type": "code",
   "execution_count": 39,
   "id": "5397c667-e18b-4ddb-915d-9de47431b79d",
   "metadata": {},
   "outputs": [],
   "source": [
    "db['vIdxFund'] = adj.rc_pd(db('qD'), db('dur_p')).groupby('t').sum()"
   ]
  },
  {
   "cell_type": "markdown",
   "id": "0e948e1b-4c7e-419c-a7ea-e5c3335b9352",
   "metadata": {},
   "source": [
    "## 2. Investment module"
   ]
  },
  {
   "cell_type": "markdown",
   "id": "4fae42c9-6b80-424c-8ba2-b833f95bca8f",
   "metadata": {},
   "source": [
    "### 2.1. Nesting structure"
   ]
  },
  {
   "cell_type": "markdown",
   "id": "8464f29f-b01e-4423-9982-163c7d49005b",
   "metadata": {},
   "source": [
    "The investment module consists only of the materials nest, but includes energy:"
   ]
  },
  {
   "cell_type": "code",
   "execution_count": 40,
   "id": "aa630f7f-a5d4-44e9-b117-3eae3dacc97a",
   "metadata": {},
   "outputs": [],
   "source": [
    "dImport = adj.rc_pd(db('dImport'), db('s_i'))\n",
    "dImport_dom = adj.rc_pd(db('dImport_dom'), db('s_i'))\n",
    "dImport_for = adj.rc_pd(db('dImport_for'), db('s_i'))"
   ]
  },
  {
   "cell_type": "markdown",
   "id": "fe0923e1-f4d4-4a48-9262-fb52b0e6cb1b",
   "metadata": {},
   "source": [
    "*Add mappings:*"
   ]
  },
  {
   "cell_type": "code",
   "execution_count": 41,
   "id": "f50a4a24-129a-4289-979d-3061f81e4365",
   "metadata": {},
   "outputs": [],
   "source": [
    "df = dImport.to_frame(index=False).assign(m = lambda x: 'Materials_'+x['n'].astype(str), u = 'Materials')\n",
    "m = pd.MultiIndex.from_frame(df[['s','u','m']]).rename(['s','n','nn']) # mapping from materials to materials_x\n",
    "m = m.union(pd.MultiIndex.from_frame(df[['s','m','n']]).rename(['s','n','nn'])) # mapping from materials_x to x\n",
    "m = m.union(pd.MultiIndex.from_frame(df[['s','m','nn']]).rename(['s','n','nn'])) # mapping from materials_x to x_F"
   ]
  },
  {
   "cell_type": "markdown",
   "id": "35c561c8-ba62-4bb5-b662-416cb65845f1",
   "metadata": {},
   "source": [
    "*Domestic only*"
   ]
  },
  {
   "cell_type": "code",
   "execution_count": 42,
   "id": "34f34b44-7b3e-4f2e-8b40-12001a17142e",
   "metadata": {},
   "outputs": [],
   "source": [
    "df = dImport_dom.to_frame(index=False).assign(u = 'Materials')\n",
    "m = m.union(pd.MultiIndex.from_frame(df[['s','u','n']]).rename(['s','n','nn'])) # mapping from materials to input"
   ]
  },
  {
   "cell_type": "markdown",
   "id": "2472c1ef-c268-4c1f-ae80-a14aa1c556c1",
   "metadata": {},
   "source": [
    "Foreign only:"
   ]
  },
  {
   "cell_type": "code",
   "execution_count": 43,
   "id": "e3eff5d3-88c9-4dd6-9820-f6002639df9c",
   "metadata": {},
   "outputs": [],
   "source": [
    "df = dImport_for.to_frame(index=False).assign(u = 'Materials')\n",
    "m = m.union(pd.MultiIndex.from_frame(df[['s','u','n']]).rename(['s','n','nn'])) # mapping from materials to input"
   ]
  },
  {
   "cell_type": "markdown",
   "id": "1ecb696d-e8cc-497a-b83f-b9f6348363fa",
   "metadata": {},
   "source": [
    "Replace the upper-most level (Materials) with the name of the sector:"
   ]
  },
  {
   "cell_type": "code",
   "execution_count": 44,
   "id": "69d01fea-c5b5-4088-9092-f342764f25e3",
   "metadata": {},
   "outputs": [],
   "source": [
    "df = m.to_frame(index=False)\n",
    "df.loc[df.n == 'Materials','n'] = df.loc[df.n == 'Materials', 's']\n",
    "m = pd.MultiIndex.from_frame(df)"
   ]
  },
  {
   "cell_type": "markdown",
   "id": "ed59fca0-7127-49ca-8ab5-23846f2af8b2",
   "metadata": {},
   "source": [
    "*Add nesting structure:*"
   ]
  },
  {
   "cell_type": "code",
   "execution_count": 45,
   "id": "e7f98a94-150a-48a9-bf0f-24c5d83817f2",
   "metadata": {},
   "outputs": [],
   "source": [
    "db['nestInvestment'] = m"
   ]
  },
  {
   "cell_type": "markdown",
   "id": "c05d49b9-812d-4499-bf1a-e11f9da26175",
   "metadata": {},
   "source": [
    "### 2.2: Elasticities:"
   ]
  },
  {
   "cell_type": "code",
   "execution_count": 46,
   "id": "f5561d70-f470-4600-b72a-ddac97476224",
   "metadata": {},
   "outputs": [],
   "source": [
    "sigmaI = pd.Series(.5, index = m.droplevel('nn').unique(), name = 'sigma')\n",
    "db.aom(sigmaI, name = 'sigma')"
   ]
  },
  {
   "cell_type": "markdown",
   "id": "55c12ed5-8df4-471a-b754-699dee2957fa",
   "metadata": {},
   "source": [
    "### 2.3. Regulation:"
   ]
  },
  {
   "cell_type": "markdown",
   "id": "066f77cd-368c-4d3e-a7b0-3777dee40b65",
   "metadata": {},
   "source": [
    "The investment sector does not itself emit emissions; however, investments are still tied to emissions through this sectors' reliance on inputs from other sectors (that are emission intensive)."
   ]
  },
  {
   "cell_type": "code",
   "execution_count": 47,
   "id": "afa2e103-aaf8-45de-b86f-b5c9073eaf61",
   "metadata": {},
   "outputs": [],
   "source": [
    "output = adj.rc_pd(db['qS'], db['s_i']) # output\n",
    "inputs = adj.rc_pd(db['qD'], db['s_i']) # inputs\n",
    "outShares = output/pyDatabases.pdSum(output, 'n') # output shares"
   ]
  },
  {
   "cell_type": "markdown",
   "id": "e24215c5-ac7b-42b0-8260-5f9f5f035567",
   "metadata": {},
   "source": [
    "There rest is added as a lump sum tax:"
   ]
  },
  {
   "cell_type": "code",
   "execution_count": 48,
   "id": "7c7b7b64-f6a0-4f20-a873-2c87ff904a18",
   "metadata": {},
   "outputs": [],
   "source": [
    "db.aom(adj.rc_pd(db('TotalTax'), db['s_i']), name = 'tauLump')\n",
    "db.aom(pd.Series(0, index = output.index), name = 'tauS')\n",
    "db.aom(pd.Series(0, index = inputs.index), name = 'tauD')"
   ]
  },
  {
   "cell_type": "markdown",
   "id": "ddd30bb8-eae6-483b-ae33-36dfcb93a8f5",
   "metadata": {},
   "source": [
    "Define sector-specific prices given regulation:"
   ]
  },
  {
   "cell_type": "code",
   "execution_count": 49,
   "id": "40946f84-88b2-4b46-b0fd-f14af774cd5f",
   "metadata": {},
   "outputs": [],
   "source": [
    "db.aom(stdSort(adj.rc_pd(db('tauD')+db('p'), inputs)), name = 'pD')"
   ]
  },
  {
   "cell_type": "markdown",
   "id": "d367f610-23cd-4b68-ae8c-bff35a417f17",
   "metadata": {},
   "source": [
    "## 3. Households"
   ]
  },
  {
   "cell_type": "markdown",
   "id": "8e7263b3-8ced-4d24-8cf2-de11cdc77549",
   "metadata": {},
   "source": [
    "### 3.1. Nesting structure"
   ]
  },
  {
   "cell_type": "markdown",
   "id": "a9fba4bc-44fa-4954-abab-dab0bca728ac",
   "metadata": {},
   "source": [
    "The household consumption nesting structure is somewhat similar to the investment sectors, with the exception that the top nest is a consumption aggregate that captures intertemporal preferences for consumption smoothing."
   ]
  },
  {
   "cell_type": "code",
   "execution_count": 50,
   "id": "b2f3f1ee-a710-449b-a36a-3397996e054c",
   "metadata": {},
   "outputs": [],
   "source": [
    "dImport = adj.rc_pd(db('dImport'), db('s_HH'))\n",
    "dImport_dom = adj.rc_pd(db('dImport_dom'), db('s_HH'))\n",
    "dImport_for = adj.rc_pd(db('dImport_for'), db('s_HH'))"
   ]
  },
  {
   "cell_type": "markdown",
   "id": "f539cc2e-80f8-4a2e-b8b2-9c5ff6f8ac84",
   "metadata": {},
   "source": [
    "*Add mappings:*"
   ]
  },
  {
   "cell_type": "code",
   "execution_count": 51,
   "id": "345ba81d-9c4a-4eb0-9d74-3b25726efb5c",
   "metadata": {},
   "outputs": [],
   "source": [
    "df = dImport.to_frame(index=False).assign(m = lambda x: 'C_'+x['n'].astype(str), u = 'C')\n",
    "m = pd.MultiIndex.from_frame(df[['s','u','m']]).rename(['s','n','nn']) # mapping from materials to materials_x\n",
    "m = m.union(pd.MultiIndex.from_frame(df[['s','m','n']]).rename(['s','n','nn'])) # mapping from materials_x to x\n",
    "m = m.union(pd.MultiIndex.from_frame(df[['s','m','nn']]).rename(['s','n','nn'])) # mapping from materials_x to x_F"
   ]
  },
  {
   "cell_type": "markdown",
   "id": "f89ceb42-06d5-4aa5-8566-9625729c34ed",
   "metadata": {},
   "source": [
    "*Domestic only*"
   ]
  },
  {
   "cell_type": "code",
   "execution_count": 52,
   "id": "821cc4a8-719f-45ec-838e-ee3a7e075032",
   "metadata": {},
   "outputs": [],
   "source": [
    "df = dImport_dom.to_frame(index=False).assign(u = 'C')\n",
    "m = m.union(pd.MultiIndex.from_frame(df[['s','u','n']]).rename(['s','n','nn'])) # mapping from materials to input"
   ]
  },
  {
   "cell_type": "markdown",
   "id": "43be5c37-4232-4e9f-bda3-6a4853c8a42d",
   "metadata": {},
   "source": [
    "Foreign only:"
   ]
  },
  {
   "cell_type": "code",
   "execution_count": 53,
   "id": "f9e2f459-bbf6-4a1d-8542-27ef68634cd8",
   "metadata": {},
   "outputs": [],
   "source": [
    "df = dImport_for.to_frame(index=False).assign(u = 'C')\n",
    "m = m.union(pd.MultiIndex.from_frame(df[['s','u','n']]).rename(['s','n','nn'])) # mapping from materials to input"
   ]
  },
  {
   "cell_type": "markdown",
   "id": "ab372f80-ed83-47d2-9fee-4024da16db41",
   "metadata": {},
   "source": [
    "Replace the upper-most level with the name of the household consumption aggregate:"
   ]
  },
  {
   "cell_type": "code",
   "execution_count": 54,
   "id": "0525f7be-4874-460e-b9e3-1a64ff94acca",
   "metadata": {},
   "outputs": [],
   "source": [
    "df = m.to_frame(index=False)\n",
    "df.loc[df.n == 'C','n'] = 'C_'+df.loc[df.n == 'C', 's']\n",
    "m = pd.MultiIndex.from_frame(df)"
   ]
  },
  {
   "cell_type": "markdown",
   "id": "4ae170e8-0644-4950-9f21-bb06498cbfe0",
   "metadata": {},
   "source": [
    "*Add nesting structure:*"
   ]
  },
  {
   "cell_type": "code",
   "execution_count": 55,
   "id": "109c73bc-74d5-4a5b-ad4d-66c32bb825c9",
   "metadata": {},
   "outputs": [],
   "source": [
    "db['nestHH'] = m"
   ]
  },
  {
   "cell_type": "markdown",
   "id": "04b243ec-85f1-4b9e-a4e1-47dc71bc591f",
   "metadata": {},
   "source": [
    "Add mapping from consumption aggregate to labor:"
   ]
  },
  {
   "cell_type": "code",
   "execution_count": 56,
   "id": "ec5b71a7-fd89-490e-91dc-495566be216a",
   "metadata": {},
   "outputs": [],
   "source": [
    "db['L2C'] = pd.MultiIndex.from_arrays([db('s_HH'), pd.Index(['L']*len(db('s_HH')), name = 'n'), ('C_'+db('s_HH')).rename('nn')])"
   ]
  },
  {
   "cell_type": "markdown",
   "id": "07f40503-431a-4145-980a-9719b4542bc0",
   "metadata": {},
   "source": [
    "### 3.2. Elasticities/preferences:"
   ]
  },
  {
   "cell_type": "markdown",
   "id": "0dac309b-a54c-4b80-a8c1-45d3a82adbec",
   "metadata": {},
   "source": [
    "Upper level nest:"
   ]
  },
  {
   "cell_type": "code",
   "execution_count": 57,
   "id": "eb6f7653-f657-421b-bef4-2f4507685354",
   "metadata": {},
   "outputs": [],
   "source": [
    "sigma_HH_upper = pd.Series(0.5, index = m[m.get_level_values('n') == 'C_HH'].droplevel('nn').unique(), name = 'sigma')"
   ]
  },
  {
   "cell_type": "markdown",
   "id": "c5d11d09-b740-4869-8010-b150144cb03d",
   "metadata": {},
   "source": [
    "Lower-level (import/domestic competition):"
   ]
  },
  {
   "cell_type": "code",
   "execution_count": 58,
   "id": "c013bceb-4bde-4409-92fa-603187f2e928",
   "metadata": {},
   "outputs": [],
   "source": [
    "sigma_HH_Import = pd.Series(2, index = m[m.get_level_values('n') != 'C_HH'].droplevel('nn').unique(), name = 'sigma')"
   ]
  },
  {
   "cell_type": "markdown",
   "id": "a6a9dcc3-e9a2-4f15-8e59-34260c53b27d",
   "metadata": {},
   "source": [
    "Add to database:"
   ]
  },
  {
   "cell_type": "code",
   "execution_count": 59,
   "id": "274596cf-5a13-45ff-b0fc-bdc312e2c586",
   "metadata": {},
   "outputs": [],
   "source": [
    "sigma_HH = pd.concat([sigma_HH_upper, sigma_HH_Import], axis = 0) \n",
    "db.aom(sigma_HH, name = 'sigma')"
   ]
  },
  {
   "cell_type": "markdown",
   "id": "15ce250e-7af0-4193-a072-bb35ba80c956",
   "metadata": {},
   "source": [
    "Frisch elasticity, CRRA, time preferences:"
   ]
  },
  {
   "cell_type": "code",
   "execution_count": 60,
   "id": "853828eb-c890-4dd7-9a1b-d1f4bde3e346",
   "metadata": {},
   "outputs": [],
   "source": [
    "db.aom(pd.Series(0.1, index = db('s_HH')), name = 'frisch')\n",
    "db.aom(pd.Series(2, index = db('s_HH')), name = 'crra')\n",
    "db.aom(pd.Series(1/db('R_LR'), index = db('s_HH')), name = 'discF')"
   ]
  },
  {
   "cell_type": "markdown",
   "id": "d1cd4fcd-6bd2-4bd6-bac5-94434892f87c",
   "metadata": {},
   "source": [
    "### 3.3. Regulation and assets"
   ]
  },
  {
   "cell_type": "markdown",
   "id": "bd5d9b8b-82c5-41b2-88f1-adb30a4b98b8",
   "metadata": {},
   "source": [
    "*Adhoc regulation: Fix lump sum taxation to make sure that it finances government consumption* "
   ]
  },
  {
   "cell_type": "code",
   "execution_count": 61,
   "id": "fe9b0374-0c6e-4b4c-b5a6-8a72ed692ee3",
   "metadata": {},
   "outputs": [],
   "source": [
    "output = adj.rc_pd(db('qS'), db['s_HH'])\n",
    "inputs = adj.rc_pd(db('qD'), db['s_HH'])\n",
    "db.aom(pd.Series(0, index = inputs.index), name = 'tauD')\n",
    "db.aom(pd.Series(0, index = output.index), name = 'tauS')\n",
    "db.aom(adj.rc_pd(db('TotalTax'), db('s_HH'))+db('qD').xs('G',level='s').sum(), name = 'TotalTax')\n",
    "db.aom(adj.rc_pd(db('TotalTax'), db('s_HH')), name = 'tauLump')"
   ]
  },
  {
   "cell_type": "markdown",
   "id": "7a70d370-5761-49f7-b045-6f819e02c079",
   "metadata": {},
   "source": [
    "*Define sector-specific prices given regulation:*"
   ]
  },
  {
   "cell_type": "code",
   "execution_count": 62,
   "id": "7daa943a-cf38-4ea3-bafb-63a636ae7b47",
   "metadata": {},
   "outputs": [],
   "source": [
    "db.aom(stdSort(adj.rc_pd((1+db('tauD'))*db('p'), inputs)), name = 'pD')\n",
    "db.aom(stdSort(adj.rc_pd(db('p')*(1-db('tauS')), output)), name = 'pS') # in this case pS is the after-tax wage rate"
   ]
  },
  {
   "cell_type": "markdown",
   "id": "05222e25-3991-431b-aa73-1f87834d52d0",
   "metadata": {},
   "source": [
    "*Add asset value:*"
   ]
  },
  {
   "cell_type": "code",
   "execution_count": 63,
   "id": "5517d02a-55a9-48e8-adf8-32fee421383f",
   "metadata": {},
   "outputs": [],
   "source": [
    "db.aom(pd.Series(1, index = db('s_HH')), name = 'uIdxFund') # share of assets in domestic shares\n",
    "db.aom(pd.Series(0, index = db('s_HH')), name = 'vA_F') # value of foreign assets\n",
    "db.aom(pd.Series(db('vIdxFund').xs(t0), index = pd.MultiIndex.from_product([db('t'), db('s_HH')])), name = 'vA')"
   ]
  },
  {
   "cell_type": "markdown",
   "id": "b149c667-4a65-47a2-bc9a-4c39fcc01e42",
   "metadata": {},
   "source": [
    "## 4. Government"
   ]
  },
  {
   "cell_type": "markdown",
   "id": "0c6e6f5b-3e58-4a09-817f-3629707a095a",
   "metadata": {},
   "source": [
    "### 4.1. Nesting structure"
   ]
  },
  {
   "cell_type": "markdown",
   "id": "687f4ccb-f27b-4b9d-9f2b-c6cfad841897",
   "metadata": {},
   "source": [
    "Government consumption is nested in a similar way as household consumption - and uses the same elasticities:"
   ]
  },
  {
   "cell_type": "code",
   "execution_count": 64,
   "id": "8e45811d-624e-409e-8adb-d3605283ae2d",
   "metadata": {},
   "outputs": [],
   "source": [
    "dImport = adj.rc_pd(db('dImport'), db('s_G'))\n",
    "dImport_dom = adj.rc_pd(db('dImport_dom'), db('s_G'))\n",
    "dImport_for = adj.rc_pd(db('dImport_for'), db('s_G'))"
   ]
  },
  {
   "cell_type": "markdown",
   "id": "0b83b089-ab4f-441b-87a1-977becfd3ca6",
   "metadata": {},
   "source": [
    "*Add mappings:*"
   ]
  },
  {
   "cell_type": "code",
   "execution_count": 65,
   "id": "35c11e72-9016-4ae7-9f88-3d3ba44355a6",
   "metadata": {},
   "outputs": [],
   "source": [
    "df = dImport.to_frame(index=False).assign(m = lambda x: 'GC_'+x['n'].astype(str), u = 'GC')\n",
    "m = pd.MultiIndex.from_frame(df[['s','u','m']]).rename(['s','n','nn']) # mapping from materials to materials_x\n",
    "m = m.union(pd.MultiIndex.from_frame(df[['s','m','n']]).rename(['s','n','nn'])) # mapping from materials_x to x\n",
    "m = m.union(pd.MultiIndex.from_frame(df[['s','m','nn']]).rename(['s','n','nn'])) # mapping from materials_x to x_F"
   ]
  },
  {
   "cell_type": "markdown",
   "id": "f0b542de-d675-45ac-a32f-5c7da82dcd08",
   "metadata": {},
   "source": [
    "*Domestic only*"
   ]
  },
  {
   "cell_type": "code",
   "execution_count": 66,
   "id": "1315eb88-a39f-43ea-a935-58280088928c",
   "metadata": {},
   "outputs": [],
   "source": [
    "df = dImport_dom.to_frame(index=False).assign(u = 'GC')\n",
    "m = m.union(pd.MultiIndex.from_frame(df[['s','u','n']]).rename(['s','n','nn'])) # mapping from materials to input"
   ]
  },
  {
   "cell_type": "markdown",
   "id": "c6cf344a-d781-442e-a39a-d30e01314f3e",
   "metadata": {},
   "source": [
    "Foreign only:"
   ]
  },
  {
   "cell_type": "code",
   "execution_count": 67,
   "id": "04403be1-3a25-4f49-bfbb-f125c52ecf1b",
   "metadata": {},
   "outputs": [],
   "source": [
    "df = dImport_for.to_frame(index=False).assign(u = 'GC')\n",
    "m = m.union(pd.MultiIndex.from_frame(df[['s','u','n']]).rename(['s','n','nn'])) # mapping from materials to input"
   ]
  },
  {
   "cell_type": "markdown",
   "id": "e0dc310f-52e7-4c93-a2cc-c50cafb58dbe",
   "metadata": {},
   "source": [
    "Replace the upper-most level with the name of the household consumption aggregate:"
   ]
  },
  {
   "cell_type": "code",
   "execution_count": 68,
   "id": "648eb185-d045-4b75-8846-bd73a845a6e5",
   "metadata": {},
   "outputs": [],
   "source": [
    "df = m.to_frame(index=False)\n",
    "df.loc[df.n == 'GC','n'] = 'GC_'+df.loc[df.n == 'GC', 's']\n",
    "m = pd.MultiIndex.from_frame(df)"
   ]
  },
  {
   "cell_type": "markdown",
   "id": "2215a561-825a-4dae-a10e-2e3fb36317b7",
   "metadata": {},
   "source": [
    "*Add nesting structure:*"
   ]
  },
  {
   "cell_type": "code",
   "execution_count": 69,
   "id": "95cfe2d4-99fb-4114-9396-2487ee93ce07",
   "metadata": {},
   "outputs": [],
   "source": [
    "db['nestG'] = m"
   ]
  },
  {
   "cell_type": "markdown",
   "id": "dcd09b88-d524-423e-8640-ba4d1d500f22",
   "metadata": {},
   "source": [
    "### 4.2. Elasticities"
   ]
  },
  {
   "cell_type": "markdown",
   "id": "0e60d2f6-914e-471f-a251-4d8e31ce9fea",
   "metadata": {},
   "source": [
    "Upper level nest:"
   ]
  },
  {
   "cell_type": "code",
   "execution_count": 70,
   "id": "b62d3746-fac1-4e1b-95b5-06870bf71926",
   "metadata": {},
   "outputs": [],
   "source": [
    "sigma_G_upper = pd.Series(.9, index = m[m.get_level_values('n') == 'GC_G'].droplevel('nn').unique(), name = 'sigma')"
   ]
  },
  {
   "cell_type": "markdown",
   "id": "97e2dded-f115-4ebe-bc56-2646b9f3d5c1",
   "metadata": {},
   "source": [
    "Lower-level (import/domestic competition):"
   ]
  },
  {
   "cell_type": "code",
   "execution_count": 71,
   "id": "88df90e7-9cd0-4364-9f32-83f54242dc90",
   "metadata": {},
   "outputs": [],
   "source": [
    "sigma_G_Import = pd.Series(2, index = m[m.get_level_values('n') != 'GC_G'].droplevel('nn').unique(), name = 'sigma')"
   ]
  },
  {
   "cell_type": "markdown",
   "id": "df40f6ed-2d9d-4800-8494-ec674d9c0d51",
   "metadata": {},
   "source": [
    "Add to database:"
   ]
  },
  {
   "cell_type": "code",
   "execution_count": 72,
   "id": "b5061c06-5a0d-489f-aafc-00811223ee7b",
   "metadata": {},
   "outputs": [],
   "source": [
    "sigma_G = pd.concat([sigma_G_upper, sigma_G_Import], axis = 0) \n",
    "db.aom(sigma_G, name = 'sigma')"
   ]
  },
  {
   "cell_type": "markdown",
   "id": "18bdfceb-f69d-4851-9af0-bd020d19f881",
   "metadata": {},
   "source": [
    "### 4.3. Regulation"
   ]
  },
  {
   "cell_type": "markdown",
   "id": "babc6e56-7291-40b3-88ad-f4f13e530e7e",
   "metadata": {},
   "source": [
    "The government regulates/taxes itself (because data says so). Because we use incomplete data on taxes (especially on household taxes/transfers), we make some adhoc adjustments here:\n",
    "* Remove taxes on inventory (because the \"inventory sector\" is only used for completeness of the IO system).\n",
    "* Set flat VAT tax rate on government consumption to target taxes from government sector."
   ]
  },
  {
   "cell_type": "code",
   "execution_count": 73,
   "id": "2a08e32b-9b53-4254-ba39-64671a32d979",
   "metadata": {},
   "outputs": [],
   "source": [
    "inputs = adj.rc_pd(db('qD'), db('s_G'))\n",
    "db['TotalTax'] = adj.rc_pd(db('TotalTax'), ('not', pd.Index(['itory'],name='s'))) # remove inventory taxes\n",
    "db['d_TotalTax'] = db['TotalTax'].index.droplevel('t').unique() # what sectors pay taxes\n",
    "rVAT = adj.rc_pd(db('TotalTax'), db('s_G')) / pyDatabases.pdSum(inputs,'n') # define VAT rate of taxes\n",
    "db.aom(adjMultiIndex.applyMult(rVAT,inputs.index), name = 'tauD') # add flat rate VAT on all demand\n",
    "db.aom(stdSort(adj.rc_pd(db('tauD')+db('p'), inputs)), name = 'pD')"
   ]
  },
  {
   "cell_type": "markdown",
   "id": "82049655-d5d2-47f1-aadc-09c178e08cb0",
   "metadata": {},
   "source": [
    "## 5. Trade"
   ]
  },
  {
   "cell_type": "markdown",
   "id": "0f6d1e59-ee54-4036-8d97-fbbb78463745",
   "metadata": {},
   "source": [
    "Set export elasticity to 7.5:"
   ]
  },
  {
   "cell_type": "code",
   "execution_count": 74,
   "id": "7d6fff01-3601-4e8e-bd08-935d86d57652",
   "metadata": {},
   "outputs": [],
   "source": [
    "db.aom(pd.Series(7.5, index = db('dExport')), name='sigma')"
   ]
  },
  {
   "cell_type": "markdown",
   "id": "5e6b53f4-b7c6-439d-b8ad-2b2756d1ae0d",
   "metadata": {},
   "source": [
    "*Note: We should add some information on regulation on trade at some point. Here, just add flat tariff/subsidy on all exports:* "
   ]
  },
  {
   "cell_type": "code",
   "execution_count": 75,
   "id": "cd19e4a0-236b-4878-b346-edb8694eecd6",
   "metadata": {},
   "outputs": [],
   "source": [
    "avgTariffRate = adj.rc_pd(db('TotalTax'), db('s_f'))/pyDatabases.pdSum(adj.rc_pd(db('qD'), db('s_f')), 'n')\n",
    "TariffRate = stdSort(adjMultiIndex.applyMult(avgTariffRate, db('dExport')))\n",
    "db.aom(TariffRate, name = 'tauD')\n",
    "db.aom(pd.Series(0, index = adj.rc_pd(db('TotalTax'), db('s_f')).index), name = 'tauLump')\n",
    "db.aom(stdSort(adj.rc_pd(db('tauD')+db('p'), db('s_f'))), name = 'pD')"
   ]
  },
  {
   "cell_type": "markdown",
   "id": "7e4061dd-438f-47dc-afba-08d907b914d9",
   "metadata": {},
   "source": [
    "## 6. Emissions"
   ]
  },
  {
   "cell_type": "markdown",
   "id": "9b0912c3-b00d-4cb5-82da-07ea84609b1a",
   "metadata": {},
   "source": [
    "### 6.1. EOP abatement"
   ]
  },
  {
   "cell_type": "markdown",
   "id": "84b7073a-cbe3-46d9-9c49-3698027ec8ad",
   "metadata": {},
   "source": [
    "Create abatement technology toy data. This creates a number of CCS-like technologies with costs decreasing over time at a rate $g$ to some year (here 2050):"
   ]
  },
  {
   "cell_type": "code",
   "execution_count": 76,
   "id": "af6597ce-af9e-43b5-a1ca-8c38c30c32fb",
   "metadata": {},
   "outputs": [],
   "source": [
    "n, Ttech = 6, 2050 # number of techs, what year do we \"stop\" technical progress \n",
    "c0 = np.hstack([6000, np.linspace(4000, 2000, n-1)]) # costs in baseline year\n",
    "pot0 = np.hstack([.5, np.full(n-1, .25)]) # potential for reduction\n",
    "g = .02 # growth rate in costs (declines exponentially)\n",
    "db['gAbateTech'] = pd.Series(g, index = db('t'))\n",
    "costs = pd.DataFrame((np.power(1-g, range(Ttech-t0+1)).reshape(Ttech-t0+1,1) * c0 ), \n",
    "                     index = pd.Index(range(t0, Ttech+1), name = 't'), \n",
    "                     columns = 'CCS'+pd.Index(range(n), name = 'tech').astype(str)).stack().swaplevel('t','tech')\n",
    "pots = pd.DataFrame(np.tile(pot0, (len(db('t')), 1)), index = db('t'), columns = costs.index.levels[0]).stack().swaplevel('t','tech')\n",
    "DACCosts= pd.Series(10000, index = db('t')) # keep costs high for DAC in this run"
   ]
  },
  {
   "cell_type": "markdown",
   "id": "5d02779c-3c91-4f06-a490-914d50983fb4",
   "metadata": {},
   "source": [
    "Extrapolate costs for CCS types to cover the entire time horizon (constant costs after 2050), adjust scale of variables (adjust unit from DKK/ton to billion DKK / M1990 level):"
   ]
  },
  {
   "cell_type": "code",
   "execution_count": 77,
   "id": "dab3b86e-f3fe-4125-bf05-a31c96fed57a",
   "metadata": {},
   "outputs": [],
   "source": [
    "db['techCost'] = extrapolateUpper(costs, T) * (db('M1990') * 1e6)/db._scale\n",
    "db['techPot'] = extrapolateUpper(pots, T)\n",
    "db['DACCost'] = DACCosts * (db('M1990') * 1e6)/db._scale\n",
    "db['tech'] = costs.index.levels[0]\n",
    "db['qCO2Base'] = 0 # remove DAC potential"
   ]
  },
  {
   "cell_type": "markdown",
   "id": "fa7851c5-eb1d-4b4a-a3b0-a108ed74956b",
   "metadata": {},
   "source": [
    "Next, define average CO2 tax, create ```tauDist``` that measures relative weight of CO2 in a specific sector:"
   ]
  },
  {
   "cell_type": "code",
   "execution_count": 78,
   "id": "b07646e2-fe8d-46a7-8ffc-0de514acb53e",
   "metadata": {},
   "outputs": [],
   "source": [
    "db['uCO2'] = adj.rc_pd(db('qCO2'), db('s_p')) / adj.rc_pd(db('qS'), db('s_p')) # co2 share\n",
    "db['tauCO2agg'] = (db('tauCO2') * db('qCO2')).groupby('t').sum() / (db('qCO2').groupby('t').sum()) # average CO2 tax\n",
    "db['tauDist'] = pd.Series(1, index = db('tauCO2').index)\n",
    "# db['tauDist']   = db('tauCO2')/db('tauCO2agg')\n",
    "db['qCO2agg'] = db('qCO2').groupby('t').sum()"
   ]
  },
  {
   "cell_type": "markdown",
   "id": "c16aebba-6b2f-4012-9a7f-900d73831d84",
   "metadata": {},
   "source": [
    "For now, define the effective tax rate used in production modules as the copy of true tax:"
   ]
  },
  {
   "cell_type": "code",
   "execution_count": 79,
   "id": "65d6ce39-4c48-465c-8362-d60d83482659",
   "metadata": {},
   "outputs": [],
   "source": [
    "db['tauEffCO2'] = db('tauCO2').copy()"
   ]
  },
  {
   "cell_type": "markdown",
   "id": "8878c8d6-f71f-46b2-a5ff-632e6cb3ade0",
   "metadata": {},
   "source": [
    "Add technology smoothing parameters (adhoc levels for now):"
   ]
  },
  {
   "cell_type": "code",
   "execution_count": 80,
   "id": "0f9ba2cd-4227-478f-9b9d-e63ca79b652d",
   "metadata": {},
   "outputs": [],
   "source": [
    "db.aom(pd.Series(db('techCost').min()/5, index = db('t')), name = 'DACSmooth')\n",
    "db.aom(pd.Series(db('techCost').min()/5, index = db('techPot').index), name = 'techSmooth')"
   ]
  },
  {
   "cell_type": "markdown",
   "id": "f165ed01-16d0-43f8-a9b2-40267d213843",
   "metadata": {},
   "source": [
    "### 6.2. Emission regulation"
   ]
  },
  {
   "cell_type": "markdown",
   "id": "b9cc47bb-5c47-4dd1-8e86-3b77d30361d5",
   "metadata": {},
   "source": [
    "*Add some emission targets (this relies on ```_xt0``` method, which removes the baseline year from regulation scheme. This is because abatement capital is fixed in the baseline year and thus there is no scope for additional abatement in this year)*"
   ]
  },
  {
   "cell_type": "code",
   "execution_count": 81,
   "id": "51980356-ad8f-4fcd-ade5-2b3da799afe7",
   "metadata": {},
   "outputs": [],
   "source": [
    "targets = pd.Series([0], index = pd.Index([2050], name = 't'))\n",
    "[db.aom(v, name = k) for k,v in EmRegTargetsFromSYT_xt0(targets, db('t'), db('qCO2agg').xs(t0)).items()];"
   ]
  },
  {
   "cell_type": "markdown",
   "id": "f0c62ba5-e8c0-43eb-b19a-797d3c758a6b",
   "metadata": {},
   "source": [
    "**NOTE:** It is important for the subsequent code that the emission budget target (```qCO2_EB[t]```) defines the cumulative target in the *last* year of the relevant time horizon."
   ]
  },
  {
   "cell_type": "markdown",
   "id": "3c465a66-e9cb-4ba9-8b2f-aa590c03a2b8",
   "metadata": {},
   "source": [
    "## 7. Globals"
   ]
  },
  {
   "cell_type": "markdown",
   "id": "79bcebce-0ae6-4e98-bfcb-46a181617f10",
   "metadata": {},
   "source": [
    "Other parameters/variables used throughout:"
   ]
  },
  {
   "cell_type": "code",
   "execution_count": 82,
   "id": "89428d18-0aea-4883-85eb-be8245deb712",
   "metadata": {},
   "outputs": [],
   "source": [
    "db.aom(pd.Series(db('R_LR'), index = db('t')), name = 'Rrate', priority = 'first') # fix interest rate path at long run level\n",
    "db.aom(pd.Series(db('R_LR')*(1+db('infl_LR')), index = db('t')), name = 'iRate', priority = 'first')"
   ]
  },
  {
   "cell_type": "markdown",
   "id": "c174dd11-d1ae-4cd5-8f18-7b0effada507",
   "metadata": {},
   "source": [
    "## Export"
   ]
  },
  {
   "cell_type": "code",
   "execution_count": 83,
   "id": "e173a1ee-4993-4a32-875d-00006e80e06c",
   "metadata": {},
   "outputs": [],
   "source": [
    "db.export(repo=d['data'])"
   ]
  }
 ],
 "metadata": {
  "kernelspec": {
   "display_name": "Python 3 (ipykernel)",
   "language": "python",
   "name": "python3"
  },
  "language_info": {
   "codemirror_mode": {
    "name": "ipython",
    "version": 3
   },
   "file_extension": ".py",
   "mimetype": "text/x-python",
   "name": "python",
   "nbconvert_exporter": "python",
   "pygments_lexer": "ipython3",
   "version": "3.11.8"
  }
 },
 "nbformat": 4,
 "nbformat_minor": 5
}
