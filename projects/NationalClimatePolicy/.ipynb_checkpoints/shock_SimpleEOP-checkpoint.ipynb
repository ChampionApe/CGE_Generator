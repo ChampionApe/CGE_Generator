{
 "cells": [
  {
   "cell_type": "code",
   "execution_count": 1,
   "id": "43dd80b1-f8db-4330-9f23-e6c4be52c0ef",
   "metadata": {},
   "outputs": [
    {
     "name": "stdout",
     "output_type": "stream",
     "text": [
      "The file _gams_py_gdb0.gdx is still active and was not deleted.\n",
      "The file _gams_py_gdb1.gdx is still active and was not deleted.\n"
     ]
    }
   ],
   "source": [
    "clean_up = True # if True, remove all gams related files from working folder before starting\n",
    "%run stdPackages.ipynb\n",
    "os.chdir(main)\n",
    "%run stdPlotting.ipynb\n",
    "os.chdir(d['py'])\n",
    "from mCGE import NCP_CGE as CGE"
   ]
  },
  {
   "cell_type": "markdown",
   "id": "036aeb05-173d-4365-8ece-5cbd0799daa7",
   "metadata": {},
   "source": [
    "# Check model behavior with exogenous changes "
   ]
  },
  {
   "cell_type": "markdown",
   "id": "90d89cc5-c00e-464e-8f88-669cfdcfd491",
   "metadata": {},
   "source": [
    "*Load model:*"
   ]
  },
  {
   "cell_type": "code",
   "execution_count": 2,
   "id": "5600f316-501b-4fbf-a9b0-835d9df08239",
   "metadata": {},
   "outputs": [],
   "source": [
    "vName, t0 = 'vLarge', 2019\n",
    "name = '_'.join([vName, str(t0), 'CGE','SimpleEOP'])\n",
    "M = CGE.load(os.path.join(d['data'], name))"
   ]
  },
  {
   "cell_type": "markdown",
   "id": "b7c43137-b018-4dfe-a11a-0f34ac4fd92d",
   "metadata": {},
   "source": [
    "Check increase in CO2 taxes (permanent):"
   ]
  },
  {
   "cell_type": "code",
   "execution_count": 3,
   "id": "d5275867-e561-46b1-967d-8e368e9a3c04",
   "metadata": {},
   "outputs": [],
   "source": [
    "M.db['tauCO2agg'] = M.db('tauCO2agg')*2"
   ]
  },
  {
   "cell_type": "markdown",
   "id": "85fc568b-4c95-4f18-92ab-1f5034823e90",
   "metadata": {},
   "source": [
    "Solve:"
   ]
  },
  {
   "cell_type": "code",
   "execution_count": 14,
   "id": "bfbfad54-93ad-4765-b551-1f0fd562d470",
   "metadata": {},
   "outputs": [],
   "source": [
    "M.db.mergeInternal()\n",
    "sol = M.solve(state = 'B')"
   ]
  },
  {
   "cell_type": "markdown",
   "id": "793f3405-6003-4bbe-acd1-d70288c75112",
   "metadata": {},
   "source": [
    "Check out effect of increasing overall production taxes:"
   ]
  },
  {
   "cell_type": "code",
   "execution_count": 5,
   "id": "53a4ff0c-9876-4d53-8fe8-83300e686066",
   "metadata": {},
   "outputs": [],
   "source": [
    "M.db.aom(adj.rc_pd(M.db('tauS'), M.db('s_p')) + 0.1, name = 'tauS')"
   ]
  },
  {
   "cell_type": "code",
   "execution_count": 6,
   "id": "f84bd53a-1204-4f81-b26d-f1e5ee391c27",
   "metadata": {},
   "outputs": [],
   "source": [
    "M.db.mergeInternal()\n",
    "sol2 = M.solve(state = 'B')"
   ]
  },
  {
   "cell_type": "code",
   "execution_count": 5,
   "id": "787234cd-bbb5-4fdb-a768-d94bb2f87fed",
   "metadata": {},
   "outputs": [
    {
     "ename": "NameError",
     "evalue": "name 'sol2' is not defined",
     "output_type": "error",
     "traceback": [
      "\u001b[1;31m---------------------------------------------------------------------------\u001b[0m",
      "\u001b[1;31mNameError\u001b[0m                                 Traceback (most recent call last)",
      "Cell \u001b[1;32mIn[5], line 1\u001b[0m\n\u001b[1;32m----> 1\u001b[0m sol2(\u001b[38;5;124m'\u001b[39m\u001b[38;5;124mtauLump\u001b[39m\u001b[38;5;124m'\u001b[39m)\u001b[38;5;241m.\u001b[39mxs(\u001b[38;5;124m'\u001b[39m\u001b[38;5;124mHH\u001b[39m\u001b[38;5;124m'\u001b[39m,level\u001b[38;5;241m=\u001b[39m\u001b[38;5;124m'\u001b[39m\u001b[38;5;124ms\u001b[39m\u001b[38;5;124m'\u001b[39m)\n",
      "\u001b[1;31mNameError\u001b[0m: name 'sol2' is not defined"
     ]
    }
   ],
   "source": [
    "sol2('tauLump').xs('HH',level='s')"
   ]
  },
  {
   "cell_type": "code",
   "execution_count": 8,
   "id": "e3bae8a6-d182-4e14-8b34-81f0c9bfb272",
   "metadata": {},
   "outputs": [
    {
     "data": {
      "text/plain": [
       "t     s \n",
       "2019  HH    0.000523\n",
       "2020  HH    0.000539\n",
       "2021  HH    0.000554\n",
       "2022  HH    0.000566\n",
       "2023  HH    0.000577\n",
       "              ...   \n",
       "2115  HH    0.000636\n",
       "2116  HH    0.000636\n",
       "2117  HH    0.000636\n",
       "2118  HH    0.000636\n",
       "2119  HH    0.000636\n",
       "Name: discUtil, Length: 101, dtype: float64"
      ]
     },
     "execution_count": 8,
     "metadata": {},
     "output_type": "execute_result"
    }
   ],
   "source": [
    "M.db('discUtil')-sol2('discUtil')"
   ]
  }
 ],
 "metadata": {
  "kernelspec": {
   "display_name": "Python 3 (ipykernel)",
   "language": "python",
   "name": "python3"
  },
  "language_info": {
   "codemirror_mode": {
    "name": "ipython",
    "version": 3
   },
   "file_extension": ".py",
   "mimetype": "text/x-python",
   "name": "python",
   "nbconvert_exporter": "python",
   "pygments_lexer": "ipython3",
   "version": "3.11.8"
  }
 },
 "nbformat": 4,
 "nbformat_minor": 5
}
