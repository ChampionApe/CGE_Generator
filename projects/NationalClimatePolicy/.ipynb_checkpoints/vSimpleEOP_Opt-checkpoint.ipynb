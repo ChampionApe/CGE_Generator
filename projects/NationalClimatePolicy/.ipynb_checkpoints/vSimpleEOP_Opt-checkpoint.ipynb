{
 "cells": [
  {
   "cell_type": "code",
   "execution_count": 1,
   "id": "f97767c9-28fe-4fe6-a720-fea65dfc440f",
   "metadata": {},
   "outputs": [
    {
     "name": "stdout",
     "output_type": "stream",
     "text": [
      "The file _gams_py_gdb0.gdx is still active and was not deleted.\n",
      "The file _gams_py_gdb3.gdx is still active and was not deleted.\n",
      "The file _gams_py_gdb4.gdx is still active and was not deleted.\n",
      "The file _gams_py_gdb5.gdx is still active and was not deleted.\n"
     ]
    }
   ],
   "source": [
    "clean_up = True # if True, remove all gams related files from working folder before starting\n",
    "%run stdPackages.ipynb\n",
    "os.chdir(main)\n",
    "%run stdPlotting.ipynb\n",
    "os.chdir(d['py'])\n",
    "from mCGE import NCP_CGE as CGE\n",
    "from mEmissions import EmRegTargetsFromSYT, EmRegTargetsFromSYT_xt0"
   ]
  },
  {
   "cell_type": "markdown",
   "id": "9814b3d6-ce44-469b-a9ad-7dc02f0ef8ab",
   "metadata": {},
   "source": [
    "# Emission regulation"
   ]
  },
  {
   "cell_type": "code",
   "execution_count": 2,
   "id": "5b515a84-442d-4ae4-8402-125ad641579a",
   "metadata": {},
   "outputs": [],
   "source": [
    "vName, t0 = 'vSimpleEOP', 2019\n",
    "name = '_'.join([vName, str(t0), 'CGE','calibration'])\n",
    "M = CGE.load(os.path.join(d['data'], name))\n",
    "db = M.db.copy() # baseline\n",
    "dbs  = {}"
   ]
  },
  {
   "cell_type": "markdown",
   "id": "4f0f9855-b167-4faa-82bc-673f90fc286e",
   "metadata": {},
   "source": [
    "## 1. Define optimal regulation absent emission targets"
   ]
  },
  {
   "cell_type": "markdown",
   "id": "84a3c6eb-af17-4d85-991e-0f7e396e7beb",
   "metadata": {},
   "source": [
    "Allow the model to define optimal output taxes:"
   ]
  },
  {
   "cell_type": "code",
   "execution_count": 3,
   "id": "d9e8a1df-79b7-4f42-aa2f-424c822e3e5f",
   "metadata": {
    "scrolled": true
   },
   "outputs": [],
   "source": [
    "# instruments = ('or', [M.g('output', m = 'P'), M.g('L', m = 'HH')]) \n",
    "instruments = M.g('output', m = 'P')\n",
    "fullCondition = ('and', [instruments, M.g('tx2E')])\n",
    "M.m['W'].endogenousPol = [('tauS', fullCondition)] \n",
    "M.m['W'].initStuff() # re-initialize groups\n",
    "M.opt, M.m['W'].active = True, True"
   ]
  },
  {
   "cell_type": "markdown",
   "id": "c71f121d-b36e-4e4a-b6d3-43fcb310fd4c",
   "metadata": {},
   "source": [
    "Solve for optimal taxes:"
   ]
  },
  {
   "cell_type": "code",
   "execution_count": 4,
   "id": "4b2f2f52-586f-4fe6-9ce9-a5a994e9069f",
   "metadata": {},
   "outputs": [],
   "source": [
    "dbs['opt'] = M.solve(state = 'B')"
   ]
  },
  {
   "cell_type": "markdown",
   "id": "c0004c71-21ab-4c82-99c5-74757599d0ae",
   "metadata": {},
   "source": [
    "Update database:"
   ]
  },
  {
   "cell_type": "code",
   "execution_count": 5,
   "id": "114c628f-501c-47db-9eef-c6871e88d5a7",
   "metadata": {},
   "outputs": [
    {
     "data": {
      "text/plain": [
       "<pyDatabases.gpyDB.gpyDB.GpyDB at 0x29523a43790>"
      ]
     },
     "execution_count": 5,
     "metadata": {},
     "output_type": "execute_result"
    }
   ],
   "source": [
    "MergeDbs.merge(M.db, dbs['opt'])"
   ]
  },
  {
   "cell_type": "markdown",
   "id": "6e844f06-79e5-4e42-a10f-8e68117d58b7",
   "metadata": {},
   "source": [
    "Recalculate linear reduction paths based on this new baseline:"
   ]
  },
  {
   "cell_type": "code",
   "execution_count": 6,
   "id": "22eb856b-e309-4d1b-8ba6-9218d35303b4",
   "metadata": {},
   "outputs": [],
   "source": [
    "targets = pd.Series([0], index = pd.Index([2050], name = 't'))\n",
    "[M.db.aom(v, name = k) for k,v in EmRegTargetsFromSYT_xt0(targets, db('t'), M.db('qCO2agg').xs(t0+1)).items()];"
   ]
  },
  {
   "cell_type": "markdown",
   "id": "5ac587a6-fa6e-4887-bc84-e1b1fd8729b8",
   "metadata": {},
   "source": [
    "## 2. Implement regulation"
   ]
  },
  {
   "cell_type": "code",
   "execution_count": 7,
   "id": "316de008-5395-4e79-807b-688374014893",
   "metadata": {},
   "outputs": [],
   "source": [
    "tPlot = pd.Index(range(t0+1, 2060), name = 't')"
   ]
  },
  {
   "cell_type": "markdown",
   "id": "d4fac100-38b8-451c-a8d0-36cd88f46a4a",
   "metadata": {},
   "source": [
    "### 2.1. SYT"
   ]
  },
  {
   "cell_type": "code",
   "execution_count": 8,
   "id": "56caebfc-0f61-47e7-a701-77efab4a3565",
   "metadata": {},
   "outputs": [],
   "source": [
    "M.updateRegulation('SYT')\n",
    "M.m['M'].initStuff() # re-initialize group definitions etc.\n",
    "M.opt, M.m['W'].active = False, False # no longer use optimization approach\n",
    "M.m['W'].initStuff() # re-define groups\n",
    "M.db.mergeInternal()\n",
    "dbs[M.regulation] = M.jSolve(50, state = 'B', ϕ = .5)"
   ]
  },
  {
   "cell_type": "markdown",
   "id": "92538dfe-fb46-43a6-8ef5-794caad5565f",
   "metadata": {},
   "source": [
    "Check out capital formation:"
   ]
  },
  {
   "cell_type": "code",
   "execution_count": 9,
   "id": "6a2981d5-fe24-4858-b627-8f5100d9aaa6",
   "metadata": {},
   "outputs": [
    {
     "data": {
      "image/png": "[encoded data removed]",
      "text/plain": [
       "<Figure size 400x300 with 1 Axes>"
      ]
     },
     "metadata": {},
     "output_type": "display_data"
    }
   ],
   "source": [
    "adj.rc_pd(dbs['SYT']('qK_EOP'), tPlot).plot(figsize=(4,3));"
   ]
  },
  {
   "cell_type": "markdown",
   "id": "df7381c7-a02c-4241-8452-0aba12cf1f46",
   "metadata": {},
   "source": [
    "### 2.2. SYT with HR"
   ]
  },
  {
   "cell_type": "code",
   "execution_count": 10,
   "id": "276b5213-c4cb-42c3-95b9-df59071d71d0",
   "metadata": {},
   "outputs": [],
   "source": [
    "M.updateRegulation('SYT_HR')\n",
    "M.m['M'].initStuff() # re-initialize group definitions etc.\n",
    "M.db.mergeInternal()\n",
    "dbs[M.regulation] = M.jSolve(25, state = 'B', ϕ = 1)"
   ]
  },
  {
   "cell_type": "markdown",
   "id": "cbd571ec-843c-4e74-9c15-92786a4eebaa",
   "metadata": {},
   "source": [
    "Add this solution as the new initial levels in the main database:"
   ]
  },
  {
   "cell_type": "code",
   "execution_count": 11,
   "id": "1feaf09a-4ea7-4ab8-8f4d-baf593389af6",
   "metadata": {},
   "outputs": [],
   "source": [
    "[M.db.__setitem__(k, dbs[M.regulation][k]) for k in M.db.getTypes(['var']) if k in dbs[M.regulation].symbols]; # use solution database"
   ]
  },
  {
   "cell_type": "markdown",
   "id": "73191f39-37eb-4b29-9c79-b83acba42fd4",
   "metadata": {},
   "source": [
    "Check path out:"
   ]
  },
  {
   "cell_type": "code",
   "execution_count": 12,
   "id": "881832d9-bf26-47f5-ba6d-3175f3400342",
   "metadata": {},
   "outputs": [
    {
     "data": {
      "image/png": "[encoded data removed]",
      "text/plain": [
       "<Figure size 600x300 with 1 Axes>"
      ]
     },
     "metadata": {},
     "output_type": "display_data"
    }
   ],
   "source": [
    "adj.rc_pd(dbs[M.regulation]('qK_EOP'), tPlot).plot(figsize=(6,3));"
   ]
  },
  {
   "cell_type": "code",
   "execution_count": 13,
   "id": "56a20433-62cf-4c86-b4d7-3a0e0168dc5b",
   "metadata": {},
   "outputs": [
    {
     "data": {
      "image/png": "[encoded data removed]",
      "text/plain": [
       "<Figure size 600x300 with 1 Axes>"
      ]
     },
     "metadata": {},
     "output_type": "display_data"
    }
   ],
   "source": [
    "adj.rc_pd(dbs[M.regulation]('pK_EOP'), tPlot).plot(figsize=(6,3));"
   ]
  },
  {
   "cell_type": "code",
   "execution_count": 14,
   "id": "fa9b47f6-2155-4b00-80d0-76a22beb27f8",
   "metadata": {},
   "outputs": [
    {
     "data": {
      "image/png": "[encoded data removed]",
      "text/plain": [
       "<Figure size 600x300 with 1 Axes>"
      ]
     },
     "metadata": {},
     "output_type": "display_data"
    }
   ],
   "source": [
    "adj.rc_pd(dbs[M.regulation]('tauCO2agg'), tPlot).plot(figsize=(6,3));"
   ]
  },
  {
   "cell_type": "markdown",
   "id": "6efe0eb8-4b22-4b24-a852-4e00389cad59",
   "metadata": {},
   "source": [
    "### 2.3. SYT_OPT regulation"
   ]
  },
  {
   "cell_type": "markdown",
   "id": "2476f00e-db0b-46b9-9a4b-aa0a318656e5",
   "metadata": {},
   "source": [
    "*Try to start the database from the 'SYT' regulation:*"
   ]
  },
  {
   "cell_type": "code",
   "execution_count": 15,
   "id": "591889ea-c074-470f-adcf-2ada253f1c8e",
   "metadata": {},
   "outputs": [],
   "source": [
    "[M.db.__setitem__(k, dbs['SYT'][k]) for k in M.db.getTypes(['var']) if k in dbs['SYT'].symbols]; # use solution database"
   ]
  },
  {
   "cell_type": "markdown",
   "id": "e401fa94-10da-4b8d-9d15-802606686caa",
   "metadata": {},
   "source": [
    "*Single year targets with policy that maximizes consumer welfare:*"
   ]
  },
  {
   "cell_type": "code",
   "execution_count": 16,
   "id": "def987f2-c70a-47ef-b69c-20994a0b47cf",
   "metadata": {},
   "outputs": [],
   "source": [
    "M.updateRegulation('SYT_OPT')\n",
    "M.m['M'].initStuff() # re-initialize group definition etc.\n",
    "dbs[M.regulation] = M.solve(state = 'B')"
   ]
  },
  {
   "cell_type": "markdown",
   "id": "828161f6-5550-494d-b9c0-9332da4545c1",
   "metadata": {},
   "source": [
    "Check it out:"
   ]
  },
  {
   "cell_type": "code",
   "execution_count": 17,
   "id": "a4351a45-f401-4eaf-975c-1fa329efce41",
   "metadata": {},
   "outputs": [
    {
     "data": {
      "image/png": "[encoded data removed]",
      "text/plain": [
       "<Figure size 600x300 with 1 Axes>"
      ]
     },
     "metadata": {},
     "output_type": "display_data"
    }
   ],
   "source": [
    "adj.rc_pd(dbs[M.regulation]('tauCO2agg'), tPlot).plot(figsize=(6,3));"
   ]
  },
  {
   "cell_type": "code",
   "execution_count": 18,
   "id": "7b6aed4f-a350-4081-8edc-12043e11b422",
   "metadata": {},
   "outputs": [
    {
     "data": {
      "image/png": "[encoded data removed]",
      "text/plain": [
       "<Figure size 600x300 with 1 Axes>"
      ]
     },
     "metadata": {},
     "output_type": "display_data"
    }
   ],
   "source": [
    "adj.rc_pd(dbs[M.regulation]('pK_EOP'), tPlot).iloc[1:].plot(figsize=(6,3));"
   ]
  },
  {
   "cell_type": "markdown",
   "id": "4d842ddf-1699-461b-bbb2-bbd80740a069",
   "metadata": {},
   "source": [
    "### 2.4. LRP"
   ]
  },
  {
   "cell_type": "markdown",
   "id": "00c4c112-b9b5-4b11-9cb5-57f11c546aeb",
   "metadata": {},
   "source": [
    "*Start this from hotelling-like rule:*"
   ]
  },
  {
   "cell_type": "code",
   "execution_count": 19,
   "id": "9c0a3251-1b8d-4e65-8ab6-81dcb7025b42",
   "metadata": {},
   "outputs": [],
   "source": [
    "[M.db.__setitem__(k, dbs['SYT_HR'][k]) for k in M.db.getTypes(['var']) if k in dbs['SYT_HR'].symbols]; # use solution database"
   ]
  },
  {
   "cell_type": "markdown",
   "id": "068af7b9-160f-42c5-abbf-ddf529fe03c3",
   "metadata": {},
   "source": [
    "*Solve:*"
   ]
  },
  {
   "cell_type": "code",
   "execution_count": 20,
   "id": "c95ca323-7b34-47e1-8506-fd9324af6eed",
   "metadata": {},
   "outputs": [],
   "source": [
    "M.updateRegulation('LRP')\n",
    "M.opt, M.m['W'].active = False, False \n",
    "M.m['M'].initStuff() # re-initialize group definition etc.\n",
    "dbs[M.regulation] = M.solve(state = 'B')"
   ]
  },
  {
   "cell_type": "markdown",
   "id": "b879b418-b761-4bae-8aa6-ba84dde7317f",
   "metadata": {},
   "source": [
    "Check it out:"
   ]
  },
  {
   "cell_type": "code",
   "execution_count": 21,
   "id": "1db381a8-dec3-45f8-9c6d-8fda63c3840f",
   "metadata": {},
   "outputs": [
    {
     "data": {
      "image/png": "[encoded data removed]",
      "text/plain": [
       "<Figure size 600x300 with 1 Axes>"
      ]
     },
     "metadata": {},
     "output_type": "display_data"
    }
   ],
   "source": [
    "adj.rc_pd(dbs['LRP']('tauCO2agg'), tPlot).plot(figsize=(6,3));"
   ]
  },
  {
   "cell_type": "code",
   "execution_count": 22,
   "id": "e0b26d6a-9983-4658-a3be-9e9ab7ac0278",
   "metadata": {},
   "outputs": [
    {
     "data": {
      "image/png": "[encoded data removed]",
      "text/plain": [
       "<Figure size 600x300 with 1 Axes>"
      ]
     },
     "metadata": {},
     "output_type": "display_data"
    }
   ],
   "source": [
    "adj.rc_pd(dbs['LRP']('pK_EOP'), tPlot).plot(figsize=(6,3));"
   ]
  },
  {
   "cell_type": "markdown",
   "id": "ffa6d56b-2143-45d9-91b7-a1d1861d844d",
   "metadata": {},
   "source": [
    "### 2.5. Cumulative emission budget "
   ]
  },
  {
   "cell_type": "code",
   "execution_count": 23,
   "id": "27f0ddf7-f926-4a72-bbf9-950c4b606ad7",
   "metadata": {},
   "outputs": [],
   "source": [
    "M.updateRegulation('EB_HR')\n",
    "M.opt, M.m['W'].active = False, False \n",
    "M.m['M'].initStuff() # re-initialize group definitions etc.\n",
    "dbs[M.regulation] = M.solve(state = 'B')"
   ]
  },
  {
   "cell_type": "markdown",
   "id": "935d3f4e-bf38-41eb-89c5-57ecc8d480eb",
   "metadata": {},
   "source": [
    "*Cumulative emission budget policy that maximizes consumer welfare:*"
   ]
  },
  {
   "cell_type": "code",
   "execution_count": 24,
   "id": "3f1afb36-4d8b-4ba9-84f8-67143dc6a43d",
   "metadata": {
    "scrolled": true
   },
   "outputs": [],
   "source": [
    "MergeDbs.merge(M.db, dbs['EB_HR']) # use EB_HR as the new initial point \n",
    "M.updateRegulation('EB_OPT')\n",
    "M.m['M'].initStuff() # re-initialize group definitions etc.\n",
    "dbs[M.regulation] = M.solve(state = 'B')"
   ]
  },
  {
   "cell_type": "markdown",
   "id": "0bf4648b-962f-422f-aa22-b3c148a6a99a",
   "metadata": {},
   "source": [
    "Check it out:"
   ]
  },
  {
   "cell_type": "code",
   "execution_count": 25,
   "id": "f00bc041-a38e-4881-9923-3ac3c53fd429",
   "metadata": {},
   "outputs": [
    {
     "data": {
      "image/png": "[encoded data removed]",
      "text/plain": [
       "<Figure size 600x300 with 1 Axes>"
      ]
     },
     "metadata": {},
     "output_type": "display_data"
    }
   ],
   "source": [
    "adj.rc_pd(dbs['EB_HR']('tauCO2agg'), tPlot).plot(figsize=(6,3));"
   ]
  },
  {
   "cell_type": "code",
   "execution_count": 26,
   "id": "1b3cdb9b-29dd-41d7-a175-23f4f17d7097",
   "metadata": {},
   "outputs": [
    {
     "data": {
      "image/png": "[encoded data removed]",
      "text/plain": [
       "<Figure size 600x300 with 1 Axes>"
      ]
     },
     "metadata": {},
     "output_type": "display_data"
    }
   ],
   "source": [
    "adj.rc_pd(dbs['EB_OPT']('tauCO2agg'), tPlot).plot(figsize=(6,3));"
   ]
  },
  {
   "cell_type": "markdown",
   "id": "53e2699c-df19-4923-b03e-f2b67cad249e",
   "metadata": {},
   "source": [
    "### 2.6. Redo the LRP, EB_HR, and EB_OPT with emission budget from SYT regulation"
   ]
  },
  {
   "cell_type": "code",
   "execution_count": 27,
   "id": "2b90f976-c4e1-4720-b9c9-401b72010c2c",
   "metadata": {},
   "outputs": [],
   "source": [
    "dbsWithSYT = dict.fromkeys(['LRP','EB_HR','EB_OPT'])"
   ]
  },
  {
   "cell_type": "markdown",
   "id": "69408125-7032-4d36-8979-6fc604db8e65",
   "metadata": {},
   "source": [
    "Revert database back to baseline:"
   ]
  },
  {
   "cell_type": "code",
   "execution_count": 28,
   "id": "d0c3c7df-1eae-4fb3-a1cc-67a0cc7ff38b",
   "metadata": {},
   "outputs": [
    {
     "data": {
      "text/plain": [
       "<pyDatabases.gpyDB.gpyDB.GpyDB at 0x29523a43790>"
      ]
     },
     "execution_count": 28,
     "metadata": {},
     "output_type": "execute_result"
    }
   ],
   "source": [
    "MergeDbs.merge(M.db, dbs['opt']) # revert database to this "
   ]
  },
  {
   "cell_type": "markdown",
   "id": "0ea3c91c-35ac-411a-b5ab-55d25384665d",
   "metadata": {},
   "source": [
    "Update target for cumulative emission budget:"
   ]
  },
  {
   "cell_type": "code",
   "execution_count": 29,
   "id": "a8b2bdca-68c1-4202-8df4-9701b85ac4a4",
   "metadata": {},
   "outputs": [],
   "source": [
    "Q̄ = dbs['SYT_OPT']('qCO2agg').loc[t0+1:2050].sum()\n",
    "M.db['qCO2_EB'] = pd.Series(Q̄, index = db('qCO2_EB').index)"
   ]
  },
  {
   "cell_type": "markdown",
   "id": "c5878d2b-db0d-4b89-9028-ba3b2a89e701",
   "metadata": {},
   "source": [
    "Update linear reduction path by computing $\\Delta$ in the following:\n",
    "$$\n",
    "\\begin{align}\n",
    "    \\sum_{s=1}^T \\left(Q_t-s\\Delta\\right) = \\overline{Q},\n",
    "\\end{align}\n",
    "$$\n",
    "where $\\overline{Q}$ is the sum of emissions with SYT_OPT regulation. This comes down to\n",
    "$$\n",
    "\\begin{align}\n",
    "    \\Delta = \\dfrac{T Q_t-\\overline{Q}}{\\sum_{s=1}^T s} = \\dfrac{T Q_t-\\overline{Q}}{(T+1)T/2}\n",
    "\\end{align}\n",
    "$$"
   ]
  },
  {
   "cell_type": "code",
   "execution_count": 30,
   "id": "ed8a5591-e220-496a-b6b0-c20919efda00",
   "metadata": {},
   "outputs": [],
   "source": [
    "Δ = ((2050-t0)*dbs['opt']('qCO2agg').xs(t0+1)-Q̄)/((2050-t0+1)*(2050-t0)/2)\n",
    "M.db.aom(pd.Series(dbs['opt']('qCO2agg').xs(t0+1)-Δ * range(1, 2050-t0+1), index = pd.Index(range(t0+1,2050+1), name = 't')), \n",
    "         name = 'qCO2_LRP')"
   ]
  },
  {
   "cell_type": "markdown",
   "id": "a646bbcf-0dd6-448b-a0fa-8ffe56e1cc30",
   "metadata": {},
   "source": [
    "Solve again (start from scratch):"
   ]
  },
  {
   "cell_type": "code",
   "execution_count": 31,
   "id": "d13bb32f-2062-4d6b-a23b-0f130f837666",
   "metadata": {},
   "outputs": [],
   "source": [
    "M.updateRegulation('LRP')\n",
    "M.opt, M.m['W'].active = False, False \n",
    "M.m['M'].initStuff() # re-initialize group definition etc.\n",
    "dbsWithSYT[M.regulation] = M.jSolve(50, state = 'B')"
   ]
  },
  {
   "cell_type": "markdown",
   "id": "557511b0-c20b-4abe-8cc8-411c6a26e7c4",
   "metadata": {},
   "source": [
    "Use LRP as starting point and redo with EB_HR:"
   ]
  },
  {
   "cell_type": "code",
   "execution_count": 32,
   "id": "9989b171-f284-4e47-9098-6f0f970a0722",
   "metadata": {},
   "outputs": [],
   "source": [
    "[M.db.__setitem__(k, dbsWithSYT['LRP'][k]) for k in M.db.getTypes(['var']) if k in dbsWithSYT['LRP'].symbols]; # use solution database\n",
    "M.updateRegulation('EB_HR')\n",
    "M.opt, M.m['W'].active = False, False \n",
    "M.m['M'].initStuff() # re-initialize group definitions etc.\n",
    "dbsWithSYT[M.regulation] = M.solve(state = 'B')"
   ]
  },
  {
   "cell_type": "markdown",
   "id": "16977c1a-462a-4a4a-94fa-7e71e0305c82",
   "metadata": {},
   "source": [
    "*Cumulative emission budget policy that maximizes consumer welfare:*"
   ]
  },
  {
   "cell_type": "code",
   "execution_count": 33,
   "id": "66b975d2-1825-47a1-802b-a4adedfa78ba",
   "metadata": {
    "scrolled": true
   },
   "outputs": [],
   "source": [
    "MergeDbs.merge(M.db, dbsWithSYT['EB_HR']) # use EB_HR as the new initial point \n",
    "M.updateRegulation('EB_OPT')\n",
    "M.m['M'].initStuff() # re-initialize group definitions etc.\n",
    "dbsWithSYT[M.regulation] = M.solve(state = 'B')"
   ]
  },
  {
   "cell_type": "markdown",
   "id": "5239f6ce-c393-4220-aa53-869131a95b0b",
   "metadata": {},
   "source": [
    "### 2.7. Calculate EV measures for each case:"
   ]
  },
  {
   "cell_type": "markdown",
   "id": "3a054d6c-f084-46bd-ade3-69aa110d3893",
   "metadata": {},
   "source": [
    "Reset to baseline database and settings. Active EV module, set DeltaWelfare = 0 and solve EV for each regulation type:"
   ]
  },
  {
   "cell_type": "code",
   "execution_count": 34,
   "id": "30c1b4b5-5019-4a42-9121-77f282091a08",
   "metadata": {},
   "outputs": [],
   "source": [
    "MergeDbs.merge(M.db, dbs['opt'])\n",
    "evs = dict.fromkeys(['SYT','SYT_HR','SYT_OPT','LRP','EB_HR','EB_OPT'])\n",
    "evs_syt_target = dict.fromkeys(['LRP','EB_HR','EB_OPT'])\n",
    "M.updateRegulation(None)\n",
    "M.m['M'].initStuff()\n",
    "M.opt, M.m['W'].active = False, False \n",
    "M.m['EV'].active = True\n",
    "M.db['DeltaWelfare'] = 0\n",
    "for reg in evs:\n",
    "    M.db['OptWelObj0'] = dbs[reg]('OptWelObj')\n",
    "    M.db.mergeInternal()\n",
    "    evs[reg] = M.solve(state='B')\n",
    "for reg in evs_syt_target:\n",
    "    M.db['OptWelObj0'] = dbsWithSYT[reg]('OptWelObj')\n",
    "    M.db.mergeInternal()\n",
    "    evs_syt_target[reg] = M.solve(state='B')    "
   ]
  },
  {
   "cell_type": "markdown",
   "id": "cd089e95-4e53-4a3d-9e74-0250d502b947",
   "metadata": {},
   "source": [
    "## 3. Plots"
   ]
  },
  {
   "cell_type": "markdown",
   "id": "61294727-f30e-4a8b-9bbf-b867c4db33cd",
   "metadata": {},
   "source": [
    "Plot CO2 taxes for the different types (keep the same scale for all subplots):"
   ]
  },
  {
   "cell_type": "code",
   "execution_count": 35,
   "id": "ba089901-a9bd-4513-b1c8-9297e871874b",
   "metadata": {},
   "outputs": [],
   "source": [
    "tau2DKK = db._scale/(db('M1990') * 1e6)"
   ]
  },
  {
   "cell_type": "markdown",
   "id": "9d510178-ee9d-43e9-a275-a2e46a9e060a",
   "metadata": {},
   "source": [
    "Plot tax rates over time for SYT (optimal) and SYT with hotelling rule:"
   ]
  },
  {
   "cell_type": "code",
   "execution_count": 36,
   "id": "7606ef44-ea5e-46b8-b5bc-1b0eb7e2804a",
   "metadata": {},
   "outputs": [],
   "source": [
    "df_tau_SYT = pd.concat([dbs['SYT_HR']('tauCO2agg').rename('Hotelling Rule (SYT)'), dbs['SYT_OPT']('tauCO2agg').rename('Optimal (SYT)')], axis = 1) * tau2DKK\n",
    "df_tau_EB = pd.concat([dbs['EB_HR']('tauCO2agg').rename('Hotelling Rule (EB)'), dbs['EB_OPT']('tauCO2agg').rename('Optimal (EB)'), dbs['LRP']('tauCO2agg').rename('LRP')], axis = 1) * tau2DKK"
   ]
  },
  {
   "cell_type": "markdown",
   "id": "36b7d606-c1cc-4de3-baab-7ca2f20d93d7",
   "metadata": {},
   "source": [
    "Compare taxes:"
   ]
  },
  {
   "cell_type": "code",
   "execution_count": 37,
   "id": "e8930d35-3726-4f8d-bf9e-eabb7e05d056",
   "metadata": {},
   "outputs": [],
   "source": [
    "%%capture\n",
    "one_graph()\n",
    "fig, ax = plt.subplots(1,1, figsize = (14,8));\n",
    "seaborn.lineplot(data = adj.rc_pd(df_tau_SYT, tPlot), ax = ax, linewidth = 3, legend = True);\n",
    "ax.set_ylabel('DKK/ton CO2');\n",
    "ax.set_xlabel('');\n",
    "fig.tight_layout();\n",
    "fig.savefig(os.path.join(d['figs'],f\"{vName}_SYT_tau.pdf\"),edgecolor='k')"
   ]
  },
  {
   "cell_type": "code",
   "execution_count": 38,
   "id": "c76ad0f5-7f6b-4bd7-92ce-71e644ce0e58",
   "metadata": {},
   "outputs": [],
   "source": [
    "%%capture\n",
    "one_graph()\n",
    "fig, ax = plt.subplots(1,1, figsize = (14,8));\n",
    "seaborn.lineplot(data = adj.rc_pd(df_tau_EB, tPlot), ax = ax, linewidth = 3, legend = True);\n",
    "ax.set_ylabel('DKK/ton CO2');\n",
    "ax.set_xlabel('');\n",
    "fig.tight_layout();\n",
    "fig.savefig(os.path.join(d['figs'],f\"{vName}_EB_tau.pdf\"),edgecolor='k')"
   ]
  },
  {
   "cell_type": "markdown",
   "id": "3685b6ce-f369-4e1e-a769-9691e513ea63",
   "metadata": {},
   "source": [
    "Plot emissions over time:"
   ]
  },
  {
   "cell_type": "code",
   "execution_count": 39,
   "id": "d1836f8d-a7c9-4394-b575-4a87fc85a6b2",
   "metadata": {},
   "outputs": [],
   "source": [
    "df_qCO2_SYT = pd.concat([dbs['SYT_HR']('qCO2agg').rename('Hotelling Rule (SYT)'), \n",
    "                         dbs['SYT_OPT']('qCO2agg').rename('Optimal (SYT)')], axis = 1)\n",
    "df_qCO2_EB = pd.concat([dbs['EB_HR']('qCO2agg').rename('Hotelling Rule (EB)'),\n",
    "                        dbs['EB_OPT']('qCO2agg').rename('Optimal (EB)'), \n",
    "                        dbs['LRP']('qCO2agg').rename('LRP')], axis = 1)"
   ]
  },
  {
   "cell_type": "markdown",
   "id": "55cc89dd-44ff-442a-90b6-1ebfe2dcd23d",
   "metadata": {},
   "source": [
    "Compare CO2 emissions:"
   ]
  },
  {
   "cell_type": "code",
   "execution_count": 40,
   "id": "a74a7af8-2ced-460b-b8d9-1578e09cbef0",
   "metadata": {},
   "outputs": [],
   "source": [
    "%%capture\n",
    "one_graph()\n",
    "fig, ax = plt.subplots(1,1, figsize = (14,8));\n",
    "seaborn.lineplot(data = adj.rc_pd(df_qCO2_SYT, tPlot), ax = ax, linewidth = 3, legend = True);\n",
    "ax.set_ylabel('CO2 relative to 1990 level');\n",
    "ax.set_xlabel('');\n",
    "fig.tight_layout();\n",
    "fig.savefig(os.path.join(d['figs'],f\"{vName}_SYT_qCO2.pdf\"),edgecolor='k')"
   ]
  },
  {
   "cell_type": "code",
   "execution_count": 41,
   "id": "6c13e28e-e60f-4115-adc2-0b65fe01e968",
   "metadata": {},
   "outputs": [],
   "source": [
    "%%capture\n",
    "one_graph()\n",
    "fig, ax = plt.subplots(1,1, figsize = (14,8));\n",
    "seaborn.lineplot(data = adj.rc_pd(df_qCO2_EB, tPlot), ax = ax, linewidth = 3, legend = True);\n",
    "ax.set_ylabel('CO2 relative to 1990 level');\n",
    "ax.set_xlabel('');\n",
    "fig.tight_layout();\n",
    "fig.savefig(os.path.join(d['figs'],f\"{vName}_EB_qCO2.pdf\"),edgecolor='k')"
   ]
  },
  {
   "cell_type": "markdown",
   "id": "4cc4c2d6-c18a-4de9-af50-be1631b95bd1",
   "metadata": {},
   "source": [
    "Plot household consumption over time:"
   ]
  },
  {
   "cell_type": "code",
   "execution_count": 42,
   "id": "b8dcfdf5-c3e2-4d3f-90c1-eb65b576e82b",
   "metadata": {},
   "outputs": [],
   "source": [
    "df_Cons_SYT = pd.concat([dbs['SYT_HR']('qD').xs(('HH','C_HH'), level = ['s','n']).rename('Hotelling Rule (SYT)'), \n",
    "                         dbs['SYT_OPT']('qD').xs(('HH','C_HH'), level = ['s','n']).rename('Optimal (SYT)'),\n",
    "                         dbs['opt']('qD').xs(('HH','C_HH'), level = ['s','n']).rename('Baseline (no climate policy)')], axis = 1)"
   ]
  },
  {
   "cell_type": "code",
   "execution_count": 43,
   "id": "93d444d0-5f4b-4f16-9c36-715d72c1bf6e",
   "metadata": {},
   "outputs": [],
   "source": [
    "df_Cons_EB = pd.concat([dbs['EB_HR']('qD').xs(('HH','C_HH'), level = ['s','n']).rename('Hotelling Rule (EB)'), \n",
    "                         dbs['EB_OPT']('qD').xs(('HH','C_HH'), level = ['s','n']).rename('Optimal (EB)'),\n",
    "                         dbs['LRP']('qD').xs(('HH','C_HH'), level = ['s','n']).rename('LRP')], axis = 1)"
   ]
  },
  {
   "cell_type": "markdown",
   "id": "5e590c5f-791e-4b1e-99ef-ae432e78b86c",
   "metadata": {},
   "source": [
    "Compare:"
   ]
  },
  {
   "cell_type": "code",
   "execution_count": 44,
   "id": "340615e6-a936-4e8f-ab3c-72b95ae70779",
   "metadata": {},
   "outputs": [],
   "source": [
    "%%capture\n",
    "one_graph()\n",
    "fig, ax = plt.subplots(1,1, figsize = (14,8));\n",
    "seaborn.lineplot(data = adj.rc_pd(df_Cons_SYT, tPlot), ax = ax, linewidth = 3, legend = True);\n",
    "ax.set_ylabel('Consumption (bio. DKK)', labelpad = 5);\n",
    "ax.set_xlabel('');\n",
    "fig.tight_layout();\n",
    "fig.savefig(os.path.join(d['figs'],f\"{vName}_SYT_Cons.pdf\"),edgecolor='k')"
   ]
  },
  {
   "cell_type": "code",
   "execution_count": 45,
   "id": "5bedc413-7a55-47b2-bb2c-1dda1cba3686",
   "metadata": {},
   "outputs": [],
   "source": [
    "%%capture\n",
    "one_graph()\n",
    "fig, ax = plt.subplots(1,1, figsize = (14,8));\n",
    "seaborn.lineplot(data = adj.rc_pd(df_Cons_EB, tPlot), ax = ax, linewidth = 3, legend = True);\n",
    "ax.set_ylabel('Consumption (bio. DKK)', labelpad = 5);\n",
    "ax.set_xlabel('');\n",
    "fig.tight_layout();\n",
    "fig.savefig(os.path.join(d['figs'],f\"{vName}_EB_Cons.pdf\"),edgecolor='k')"
   ]
  },
  {
   "cell_type": "markdown",
   "id": "9f048c4c-1129-42f4-9308-b87c3d97b5d9",
   "metadata": {},
   "source": [
    "## 3.2. Compare EV measures:"
   ]
  },
  {
   "cell_type": "markdown",
   "id": "f5a73235-860e-4269-97a3-3558800fad56",
   "metadata": {},
   "source": [
    "Compare EVs across all regulation types:"
   ]
  },
  {
   "cell_type": "code",
   "execution_count": 85,
   "id": "6997a87d-c5b9-4ed2-a811-6d6e621e7e1e",
   "metadata": {},
   "outputs": [],
   "source": [
    "regNames = {'SYT_OPT': 'Optimal (SYT)',\n",
    "         'SYT_HR': 'Hotelling Rule (SYT)',\n",
    "         'EB_OPT': 'Optimal (EB)',\n",
    "         'EB_HR': 'Hotelling Rule (EB)',\n",
    "         'LRP': 'Linear Reduction Path'}"
   ]
  },
  {
   "cell_type": "markdown",
   "id": "f9f27cbe-f906-4d84-8a69-e6a96b931af8",
   "metadata": {},
   "source": [
    "Collect EVs:"
   ]
  },
  {
   "cell_type": "code",
   "execution_count": 91,
   "id": "de3b110c-c770-4e30-8e60-4d029b45449c",
   "metadata": {},
   "outputs": [],
   "source": [
    "EV = pd.Series([evs[reg]('vA_F').xs('HH')/evs[reg]('pD').xs((t0, 'HH','C_HH')) for reg in regNames],\n",
    "               index = [regName for regName in regNames.values()])"
   ]
  },
  {
   "cell_type": "code",
   "execution_count": 93,
   "id": "b57a9b98-e106-463d-86d0-18b1e75fbd8f",
   "metadata": {},
   "outputs": [],
   "source": [
    "%%capture\n",
    "one_graph()\n",
    "fig, ax = plt.subplots(1,1, figsize = (14,8));\n",
    "EV.plot.bar(ax = ax);\n",
    "ax.set_ylabel('EV (bio. DKK)', labelpad = 5);\n",
    "fig.tight_layout();\n",
    "fig.savefig(os.path.join(d['figs'],f\"{vName}_EVs.pdf\"),edgecolor='k')"
   ]
  },
  {
   "cell_type": "markdown",
   "id": "d432f05d-1f3a-4b60-9f98-593490e2106c",
   "metadata": {},
   "source": [
    "Compare EVs where emission reductions are the same:"
   ]
  },
  {
   "cell_type": "code",
   "execution_count": 102,
   "id": "c74d4fed-04bb-4019-8d3e-9a33324595cc",
   "metadata": {},
   "outputs": [],
   "source": [
    "EVsameReduction = pd.Series(([evs[reg]('vA_F').xs('HH')/evs[reg]('pD').xs((t0, 'HH','C_HH')) for reg in ('SYT_OPT','SYT_HR')]+\n",
    "                             [evs_syt_target[reg]('vA_F').xs('HH')/evs_syt_target[reg]('pD').xs((t0,'HH','C_HH')) for reg in ('EB_OPT','EB_HR','LRP')]),\n",
    "                            index = [regName for regName in regNames.values()])"
   ]
  },
  {
   "cell_type": "code",
   "execution_count": 104,
   "id": "d5044130-3b7e-49de-a34d-72656a8ce9b6",
   "metadata": {},
   "outputs": [],
   "source": [
    "%%capture\n",
    "one_graph()\n",
    "fig, ax = plt.subplots(1,1, figsize = (14,8));\n",
    "EVsameReduction.plot.bar(ax = ax);\n",
    "ax.set_ylabel('EV (bio. DKK)', labelpad = 5);\n",
    "fig.tight_layout();\n",
    "fig.savefig(os.path.join(d['figs'],f\"{vName}_EVs_SameReduction.pdf\"),edgecolor='k')"
   ]
  },
  {
   "cell_type": "markdown",
   "id": "fdc70dfc-e83b-4f78-96c5-e0bb468f9125",
   "metadata": {},
   "source": [
    "## Export all solutions"
   ]
  },
  {
   "cell_type": "code",
   "execution_count": 128,
   "id": "c4d3c724-0d14-43f6-81e0-ee4337b2547e",
   "metadata": {},
   "outputs": [],
   "source": [
    "[dbi.export(name = f'{vName}_{reg}db', repo = d['data']) for reg, dbi in dbs.items()];\n",
    "[dbi.export(name = f'{vName}_sameReduction_{reg}db', repo = d['data']) for reg, dbi in dbsWithSYT.items()];\n",
    "[dbi.export(name = f'{vName}_EV_{reg}db', repo = d['data']) for reg, dbi in evs.items()];\n",
    "[dbi.export(name = f'{vName}_EV_sameReduction_{reg}db', repo = d['data']) for reg, dbi in evs_syt_target.items()];"
   ]
  }
 ],
 "metadata": {
  "kernelspec": {
   "display_name": "Python 3 (ipykernel)",
   "language": "python",
   "name": "python3"
  },
  "language_info": {
   "codemirror_mode": {
    "name": "ipython",
    "version": 3
   },
   "file_extension": ".py",
   "mimetype": "text/x-python",
   "name": "python",
   "nbconvert_exporter": "python",
   "pygments_lexer": "ipython3",
   "version": "3.11.8"
  }
 },
 "nbformat": 4,
 "nbformat_minor": 5
}
