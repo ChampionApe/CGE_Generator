{
 "cells": [
  {
   "cell_type": "code",
   "execution_count": 1,
   "id": "64ad9446-d958-4ec6-8220-03ac4cda99ad",
   "metadata": {},
   "outputs": [
    {
     "name": "stdout",
     "output_type": "stream",
     "text": [
      "No clean-up of work-folder\n"
     ]
    }
   ],
   "source": [
    "%run stdPackages.ipynb\n",
    "os.chdir(d['py'])\n",
    "from modelData import *\n",
    "from gmsPython import nestingTree\n",
    "from mEmissions import targetsFromSYT"
   ]
  },
  {
   "cell_type": "markdown",
   "id": "8369f877-0a3a-4c13-b98e-8cce52a88ec2",
   "metadata": {},
   "source": [
    "# Create Model Data"
   ]
  },
  {
   "cell_type": "markdown",
   "id": "331f5264-a205-4783-8387-2316c1b5e920",
   "metadata": {},
   "source": [
    "This goes through the same steps as ```ModelData```, but splits up households into two blocks: Ramsey and H2M consumers. In this notebook, we split sectors by assuming that everything else is identical: Same preferences, initial assets, etc. etc.. They supply identical labor."
   ]
  },
  {
   "cell_type": "markdown",
   "id": "3e1232bf-3be9-4da3-8fd9-d3b3827da4da",
   "metadata": {},
   "source": [
    "## 0. Preliminaries"
   ]
  },
  {
   "cell_type": "markdown",
   "id": "bc725fc6-ec82-40bf-bc7d-f7e47c578c4d",
   "metadata": {},
   "source": [
    "To start with, load a raw IO database from the ```IOdata``` project. We use one that is used in the National Climate Policy (NCP) project with baseline year 2019. Set other global attributes used throughout (e.g. years for time horizon, name of database) and load database:"
   ]
  },
  {
   "cell_type": "code",
   "execution_count": 2,
   "id": "64934007-4e14-4df0-ace3-3d07d41e7ec9",
   "metadata": {},
   "outputs": [],
   "source": [
    "t0 = 2019 # baseline year\n",
    "ioName = f'IO{t0}_NCPGR' # name of database\n",
    "f_IOdata = os.path.join(d['project'], 'IOdata','data','processedData', ioName) # points to relevant raw database\n",
    "T = t0+100 # time horizon\n",
    "name = 'NCPGR_H2M0_db'\n",
    "db = GpyDB(f_IOdata, name = name, ws = d['work'])\n",
    "ws = db.ws # use this as the main workspace throughout"
   ]
  },
  {
   "cell_type": "markdown",
   "id": "bc38a402-2906-43bd-9c18-0a397954a75d",
   "metadata": {},
   "source": [
    "For relevant variables, add yearly index to data (this is currently all of them). Next, add some basic subsets related to the time index to the database:"
   ]
  },
  {
   "cell_type": "code",
   "execution_count": 3,
   "id": "3f781d2e-7996-4478-87d6-859a511cbe64",
   "metadata": {},
   "outputs": [],
   "source": [
    "def add_t0(k):\n",
    "    k.index = stdSort(pd.MultiIndex.from_frame(k.index.to_frame(index=False).assign(t = t0))) \n",
    "[add_t0(db(k)) for k in db.getTypes(['var','par'])]; # for all variables and parameters in the database, add the 't' dimension:\n",
    "addTimeToDB(t0, T, db) # add a number of relevant time subsets "
   ]
  },
  {
   "cell_type": "markdown",
   "id": "954b19e2-422b-4153-ac3b-95acf4841a08",
   "metadata": {},
   "source": [
    "## 1. Production module"
   ]
  },
  {
   "cell_type": "markdown",
   "id": "cc3f33cd-4778-4694-8c10-3e92ca5fc3e2",
   "metadata": {},
   "source": [
    "Arrange data for the production modules. Currently, these are all nested production functions of some sort, that are initialized from a nesting tree. Here, we provide the structure of such a nesting tree. Next, we provide some basic parameter values like elasticities."
   ]
  },
  {
   "cell_type": "markdown",
   "id": "824ed571-5277-469d-812a-33b97c3c94fd",
   "metadata": {},
   "source": [
    "### 1.1. Nesting structure"
   ]
  },
  {
   "cell_type": "markdown",
   "id": "1ef1b732-c8d6-4a93-a85e-8d99e795323a",
   "metadata": {},
   "source": [
    "Generally, we consider the following nesting structure:"
   ]
  },
  {
   "cell_type": "code",
   "execution_count": 4,
   "id": "baa2f46f-e0de-4651-b7f4-b54ea594d44a",
   "metadata": {},
   "outputs": [],
   "source": [
    "mFull = pd.MultiIndex.from_tuples([('KELM', 'RxE'), ('KELM','KEL'), \n",
    "                                                    ('KEL','L'), ('KEL','KE'), \n",
    "                                                    ('KE','K'), ('KE','E'),\n",
    "                                                    ('E','Energy_input'),('E','Energy_F')], names = ['n','nn'])"
   ]
  },
  {
   "cell_type": "markdown",
   "id": "cdb1f584-6cdb-41a6-9741-90b1011d6c8e",
   "metadata": {},
   "source": [
    "The materials nest excluding energy (```RxE```) is a CES nest of different final goods that compete with similar foreign ones. We use the syntax ```RxEym_x``` to denote the intermediate good that consists of ```x``` and the relevant foreign good:"
   ]
  },
  {
   "cell_type": "code",
   "execution_count": 5,
   "id": "94c0f1aa-fc09-400b-8963-f0cbe76cb5e6",
   "metadata": {},
   "outputs": [],
   "source": [
    "nF_full = db('n_p')+'_F' # some of the set elements in the database may have been removed, because they are not used in a single sector\n",
    "n_noEnergy = db('n_p').difference(['Energy']) \n",
    "nF_noEnergy= nF_full.difference(['Energy_F'])\n",
    "RxE1 = pd.MultiIndex.from_product([['RxE'], 'RxEym_'+n_noEnergy], names = ['n','nn']) # mapping from RxE to intermediate goods\n",
    "RxE2 = pd.MultiIndex.from_arrays([RxE1.get_level_values('nn'), n_noEnergy+'_input'], names = ['n','nn']) # mapping from intermediate good to domestic one \n",
    "RxE3 = pd.MultiIndex.from_arrays([RxE1.get_level_values('nn'), nF_noEnergy], names = ['n','nn']) # mapping from intermediate good to foreign one\n",
    "mFull = reduce(pd.Index.union, [mFull, RxE1, RxE2, RxE3]) # Combine the four indices"
   ]
  },
  {
   "cell_type": "markdown",
   "id": "e2cdffb6-95e1-409a-b4a9-bca5e2ce1b5b",
   "metadata": {},
   "source": [
    "If a sector uses inputs from all other sectors and foreign sectors, this is the mapping that describes its production structure. We allow for each sector to have a unique nesting structure by adding the sector index:"
   ]
  },
  {
   "cell_type": "code",
   "execution_count": 6,
   "id": "a280d2ee-081e-4f6a-8496-878ae054cd68",
   "metadata": {},
   "outputs": [],
   "source": [
    "m = pyDatabases.cartesianProductIndex([db('s_p'), mFull])"
   ]
  },
  {
   "cell_type": "markdown",
   "id": "7cfabb22-3173-4f13-bee4-2c563246cc06",
   "metadata": {},
   "source": [
    "Next, it may not be the case that all sectors rely on all types of inputs. In this case, we \"trim\" the nesting tree by eliminating the knots that are unused:"
   ]
  },
  {
   "cell_type": "code",
   "execution_count": 7,
   "id": "dc8c1358-0712-49f6-b062-a088c8a17130",
   "metadata": {},
   "outputs": [],
   "source": [
    "sparsity = adj.rc_pd(db('vD')[db('vD')!=0], db('s_p')).droplevel('t').index # what types of inputs do the sectors actually use in the data\n",
    "# recall that inputs are called '_input' for products from the domestic sectors. Map the sparsity index to these:\n",
    "mapNames = pd.Series(db('n_p')+'_input', index = db('n_p')).combine_first(\n",
    "            pd.Series(sparsity.levels[-1], index = sparsity.levels[-1]))\n",
    "sparsity = sparsity.set_levels(sparsity.levels[-1].map(mapNames), level = -1)\n",
    "\n",
    "m = nestingTree.trimNestingStructure(m, sparsity)"
   ]
  },
  {
   "cell_type": "markdown",
   "id": "9c6ca373-b412-4e8a-b445-29ba5af9448b",
   "metadata": {},
   "source": [
    "Finally, we replace the upper-most level ```KELM``` with the name of the sector instead:"
   ]
  },
  {
   "cell_type": "code",
   "execution_count": 8,
   "id": "3f2253b8-9814-4213-884f-220f6940de11",
   "metadata": {},
   "outputs": [],
   "source": [
    "df = m.to_frame(index=False)\n",
    "df.loc[df.n == 'KELM','n'] = df.loc[df.n == 'KELM', 's']\n",
    "m = pd.MultiIndex.from_frame(df)\n",
    "db['nestProduction'] = m"
   ]
  },
  {
   "cell_type": "markdown",
   "id": "9f53e605-856f-4223-8e5b-4284f8d0898b",
   "metadata": {},
   "source": [
    "### 1.2. Elasticities"
   ]
  },
  {
   "cell_type": "markdown",
   "id": "806d904c-8803-4bfe-a21c-b648031a41da",
   "metadata": {},
   "source": [
    "Define some basic elasticities for the nesting tree structure:"
   ]
  },
  {
   "cell_type": "code",
   "execution_count": 9,
   "id": "8516b939-b493-42b6-ad1e-deab9b6e7e3b",
   "metadata": {},
   "outputs": [],
   "source": [
    "sigmaOut = pd.Series(0.5, index = m[m.get_level_values('s')==m.get_level_values('n')].droplevel('nn').unique(), name = 'sigma') \n",
    "sigmaKEL = pd.Series(0.5, index  = m[m.get_level_values('n')=='KEL'].droplevel('nn').unique(), name = 'sigma')\n",
    "sigmaKE = pd.Series(0.6, index  = m[m.get_level_values('n')=='KE'].droplevel('nn').unique(), name = 'sigma')\n",
    "sigmaE = pd.Series(0.5, index  = m[m.get_level_values('n')=='E'].droplevel('nn').unique(), name = 'sigma')\n",
    "sigmaRxE = pd.Series(0.1, index = m[m.get_level_values('n')=='RxE'].droplevel('nn').unique(), name = 'sigma')\n",
    "sigmaRxEym = pd.Series(5, index = m[m.get_level_values('n').str.contains('RxEy')].droplevel('nn').unique(), name = 'sigma')\n",
    "sigma = pd.concat([sigmaOut, sigmaKEL, sigmaKE, sigmaE, sigmaRxE, sigmaRxEym], axis = 0 )\n",
    "db.aom(sigma, name = 'sigma') # add or merge (aom) to the database"
   ]
  },
  {
   "cell_type": "markdown",
   "id": "0fd33a32-b4fa-40ac-828a-b24e8108cb06",
   "metadata": {},
   "source": [
    "### 1.3. Emissions "
   ]
  },
  {
   "cell_type": "markdown",
   "id": "b600faeb-bffe-4e4c-9481-e04c32a56ccf",
   "metadata": {},
   "source": [
    "In this data, we only have CO2 emissions on aggregate sectoral levels. This splits up the emissions onto specific outputs based on the share of the value of the output (if a sector produces more than one output):"
   ]
  },
  {
   "cell_type": "code",
   "execution_count": 10,
   "id": "16497ed8-6238-4cdb-b5e2-92960cddfc97",
   "metadata": {},
   "outputs": [],
   "source": [
    "output = adj.rc_pd(db['qS'], db['s_p']) # outputs from the production sectors\n",
    "inputs = adj.rc_pd(db['qD'], ('and', [db['s_p'], ('not', db['dur_p'])])) # inputs\n",
    "outShares = output/pyDatabases.pdSum(output, 'n') # output shares\n",
    "db['qCO2'] = (db('qCO2') * outShares).dropna() # overwrite qCO2 to be split into potentially multiple outputs from each sector"
   ]
  },
  {
   "cell_type": "markdown",
   "id": "033bd919-a365-42ae-b3ec-bb5fe9c0a183",
   "metadata": {},
   "source": [
    "The symbol ```vTax``` includes a category of emission taxes (based on sum of all energy taxes, a very rough measure to be honest). Here, use this to compute tax rate on emissions (not available for $t\\leq 1995$ for DK data):"
   ]
  },
  {
   "cell_type": "code",
   "execution_count": 11,
   "id": "76bcfb63-f73d-4c19-929a-b56652ae5138",
   "metadata": {},
   "outputs": [],
   "source": [
    "# db['tauCO2'] = adjMultiIndex.applyMult((db('vTax').xs('Emissions',level='taxTypes') / db('qCO2').replace(0,1)).fillna(0), output.index)\n",
    "# db['dtauCO2']= db('tauCO2').index.droplevel('t').unique()\n",
    "# db['dqCO2']  = db('qCO2').index.droplevel('t').unique()\n",
    "# db['tauCO2agg'] = (db('tauCO2') * db('qCO2')).groupby('t').sum() / db('qCO2').groupby('t').sum()"
   ]
  },
  {
   "cell_type": "markdown",
   "id": "13ae8551-04a1-4b5d-bea2-6f47045621e0",
   "metadata": {},
   "source": [
    "Set taxes to zero instead:"
   ]
  },
  {
   "cell_type": "code",
   "execution_count": 12,
   "id": "b9bf6040-cadc-414d-993c-65cbff011443",
   "metadata": {},
   "outputs": [],
   "source": [
    "# db['tauCO2'] = pd.Series(0, index = db('qCO2').index)\n",
    "# db['dtauCO2']= db('tauCO2').index.droplevel('t').unique()\n",
    "# db['dqCO2']  = db('qCO2').index.droplevel('t').unique()\n",
    "# db['tauCO2agg'] = (db('tauCO2') * db('qCO2')).groupby('t').sum() / db('qCO2').groupby('t').sum()"
   ]
  },
  {
   "cell_type": "markdown",
   "id": "15f82a3d-c278-4e48-8e21-5edb56cc98c6",
   "metadata": {},
   "source": [
    "Set uniform taxes instead:"
   ]
  },
  {
   "cell_type": "code",
   "execution_count": 13,
   "id": "883c989b-b94f-4c61-b20d-48aaa8f37778",
   "metadata": {},
   "outputs": [
    {
     "name": "stderr",
     "output_type": "stream",
     "text": [
      "C:\\Users\\sxj477\\AppData\\Local\\Temp\\ipykernel_7004\\3862341926.py:1: FutureWarning: Downcasting object dtype arrays on .fillna, .ffill, .bfill is deprecated and will change in a future version. Call result.infer_objects(copy=False) instead. To opt-in to the future behavior, set `pd.set_option('future.no_silent_downcasting', True)`\n",
      "  db['tauCO2'] = adjMultiIndex.applyMult((db('vTax').xs('Emissions',level='taxTypes') / db('qCO2').replace(0,1)).fillna(0), output.index)\n"
     ]
    }
   ],
   "source": [
    "db['tauCO2'] = adjMultiIndex.applyMult((db('vTax').xs('Emissions',level='taxTypes') / db('qCO2').replace(0,1)).fillna(0), output.index)\n",
    "db['dqCO2']  = db('qCO2').index.droplevel('t').unique()\n",
    "db['tauCO2agg'] = (db('tauCO2') * db('qCO2')).groupby('t').sum() / db('qCO2').groupby('t').sum()\n",
    "db['tauCO2'] = pd.Series(0, index = db('qCO2').index)+db('tauCO2agg') # add average rate onto all emissions\n",
    "db['dtauCO2']= db('tauCO2').index.droplevel('t').unique() # update dummy"
   ]
  },
  {
   "cell_type": "markdown",
   "id": "11fa5e55-336e-4433-8b3c-0e08bda20930",
   "metadata": {},
   "source": [
    "### 1.4. Regulation "
   ]
  },
  {
   "cell_type": "markdown",
   "id": "e3f5a7bf-eac5-442d-a02e-507a29c3ac7d",
   "metadata": {},
   "source": [
    "Specify other tax rates (on inputs, on outputs, lump sum). Here, we let the lump sum tax adjust to reflect the total tax in the baseline year. Other taxes are set to zero."
   ]
  },
  {
   "cell_type": "code",
   "execution_count": 14,
   "id": "d1ad7959-39f3-4bca-b110-441d6d3e0f6c",
   "metadata": {},
   "outputs": [],
   "source": [
    "db.aom(adj.rc_pd(db('TotalTax'), db['s_p'])-db('vTax').xs('Emissions',level='taxTypes'), name = 'tauLump')\n",
    "db.aom(pd.Series(0, index = output.index), name = 'tauS')\n",
    "db.aom(pd.Series(0, index = inputs.index), name = 'tauD')"
   ]
  },
  {
   "cell_type": "markdown",
   "id": "e79ec797-496e-48a8-8c65-09686a009e7f",
   "metadata": {},
   "source": [
    "Define sector-specific prices given regulation:"
   ]
  },
  {
   "cell_type": "code",
   "execution_count": 15,
   "id": "1d493c0b-5556-410a-a9b3-49b8c323eb15",
   "metadata": {},
   "outputs": [],
   "source": [
    "db.aom(stdSort(adj.rc_pd(((1+db('tauD'))*db('p')).dropna(), inputs)), name = 'pD')"
   ]
  },
  {
   "cell_type": "markdown",
   "id": "9e1a5dc9-d346-4ca7-9c6b-5d2de484c54b",
   "metadata": {},
   "source": [
    "Add the value of the \"index fund\" to be equal to the capital stock:"
   ]
  },
  {
   "cell_type": "code",
   "execution_count": 16,
   "id": "9b7e7834-7715-4ffe-b82e-c64e38269d1e",
   "metadata": {},
   "outputs": [],
   "source": [
    "db['vIdxFund'] = adj.rc_pd(db('qD'), db('dur_p')).groupby('t').sum()"
   ]
  },
  {
   "cell_type": "markdown",
   "id": "99c8c9bf-1e68-47af-84fc-3e746ebe22b6",
   "metadata": {},
   "source": [
    "## 2. Investment module"
   ]
  },
  {
   "cell_type": "markdown",
   "id": "ca71c64c-5267-450b-a7d6-f254bf8f6603",
   "metadata": {},
   "source": [
    "The investment module is a simple production sector without durables, profits, or any such things."
   ]
  },
  {
   "cell_type": "markdown",
   "id": "c081ea08-0233-4215-aff0-9171e4f14363",
   "metadata": {},
   "source": [
    "### 2.1. Nesting structure"
   ]
  },
  {
   "cell_type": "markdown",
   "id": "e5c15ac4-c564-4c1a-a3ae-e0ab0266534e",
   "metadata": {},
   "source": [
    "The investment module consists only of the materials nest, but includes energy:"
   ]
  },
  {
   "cell_type": "code",
   "execution_count": 17,
   "id": "8f1da6f1-66df-45e7-a3f4-8cf06bbe413f",
   "metadata": {},
   "outputs": [],
   "source": [
    "dImport = adj.rc_pd(db('dImport'), db('s_i'))\n",
    "dImport_dom = adj.rc_pd(db('dImport_dom'), db('s_i'))\n",
    "dImport_for = adj.rc_pd(db('dImport_for'), db('s_i'))"
   ]
  },
  {
   "cell_type": "markdown",
   "id": "9042cfea-1f9e-4232-bf00-f2b8c0c8f5ff",
   "metadata": {},
   "source": [
    "*Add mappings:*"
   ]
  },
  {
   "cell_type": "code",
   "execution_count": 18,
   "id": "75511739-2a24-4e71-bc0f-4473473887a5",
   "metadata": {},
   "outputs": [],
   "source": [
    "df = dImport.to_frame(index=False).assign(m = lambda x: 'Materials_'+x['n'].astype(str), u = 'Materials')\n",
    "m = pd.MultiIndex.from_frame(df[['s','u','m']]).rename(['s','n','nn']) # mapping from materials to materials_x\n",
    "m = m.union(pd.MultiIndex.from_frame(df[['s','m','n']]).rename(['s','n','nn'])) # mapping from materials_x to x\n",
    "m = m.union(pd.MultiIndex.from_frame(df[['s','m','nn']]).rename(['s','n','nn'])) # mapping from materials_x to x_F"
   ]
  },
  {
   "cell_type": "markdown",
   "id": "9542ec9a-b838-4ac5-9609-e199ac89186a",
   "metadata": {},
   "source": [
    "*Domestic only*"
   ]
  },
  {
   "cell_type": "code",
   "execution_count": 19,
   "id": "9fd69ea0-c70c-4f50-9e40-63d3497ebec4",
   "metadata": {},
   "outputs": [],
   "source": [
    "df = dImport_dom.to_frame(index=False).assign(u = 'Materials')\n",
    "m = m.union(pd.MultiIndex.from_frame(df[['s','u','n']]).rename(['s','n','nn'])) # mapping from materials to input"
   ]
  },
  {
   "cell_type": "markdown",
   "id": "d2ec8bac-c593-4242-9e27-0571dbf826a6",
   "metadata": {},
   "source": [
    "Foreign only:"
   ]
  },
  {
   "cell_type": "code",
   "execution_count": 20,
   "id": "f9072786-57ce-4563-b93f-32107693b522",
   "metadata": {},
   "outputs": [],
   "source": [
    "df = dImport_for.to_frame(index=False).assign(u = 'Materials')\n",
    "m = m.union(pd.MultiIndex.from_frame(df[['s','u','n']]).rename(['s','n','nn'])) # mapping from materials to input"
   ]
  },
  {
   "cell_type": "markdown",
   "id": "aea1df35-8823-4c0e-b089-84010146c1d2",
   "metadata": {},
   "source": [
    "Replace the upper-most level (Materials) with the name of the sector:"
   ]
  },
  {
   "cell_type": "code",
   "execution_count": 21,
   "id": "0e02f153-b637-420c-83d1-fa30aedc11ca",
   "metadata": {},
   "outputs": [],
   "source": [
    "df = m.to_frame(index=False)\n",
    "df.loc[df.n == 'Materials','n'] = df.loc[df.n == 'Materials', 's']\n",
    "m = pd.MultiIndex.from_frame(df)"
   ]
  },
  {
   "cell_type": "markdown",
   "id": "b430d421-6f7b-4ea3-b4ea-934dc6f6ebfc",
   "metadata": {},
   "source": [
    "*Add nesting structure:*"
   ]
  },
  {
   "cell_type": "code",
   "execution_count": 22,
   "id": "f49837af-8698-407f-af60-bf4abcbdebec",
   "metadata": {},
   "outputs": [],
   "source": [
    "db['nestInvestment'] = m"
   ]
  },
  {
   "cell_type": "markdown",
   "id": "398d1502-65c5-4f09-8bf1-598f7d4c3113",
   "metadata": {},
   "source": [
    "### 2.2: Elasticities:"
   ]
  },
  {
   "cell_type": "code",
   "execution_count": 23,
   "id": "a9a90557-b413-4aca-b5c1-c8333139f348",
   "metadata": {},
   "outputs": [],
   "source": [
    "sigmaI = pd.Series(.5, index = m.droplevel('nn').unique(), name = 'sigma')\n",
    "db.aom(sigmaI, name = 'sigma')"
   ]
  },
  {
   "cell_type": "markdown",
   "id": "2f6aef7c-0e17-44e8-a1a7-fd2f7fc7bea1",
   "metadata": {},
   "source": [
    "### 2.3. Regulation:"
   ]
  },
  {
   "cell_type": "markdown",
   "id": "23907ade-0011-49cd-b8f7-0038dda157d6",
   "metadata": {},
   "source": [
    "The investment sector does not itself emit emissions; however, investments are still tied to emissions through this sectors' reliance on inputs from other sectors (that are emission intensive)."
   ]
  },
  {
   "cell_type": "code",
   "execution_count": 24,
   "id": "3eadea4c-38b1-404e-a92f-06d949f11d9f",
   "metadata": {},
   "outputs": [],
   "source": [
    "output = adj.rc_pd(db['qS'], db['s_i']) # output\n",
    "inputs = adj.rc_pd(db['qD'], db['s_i']) # inputs\n",
    "outShares = output/pyDatabases.pdSum(output, 'n') # output shares"
   ]
  },
  {
   "cell_type": "markdown",
   "id": "28264c96-e0c3-4c9e-a563-0db9859eba05",
   "metadata": {},
   "source": [
    "There rest is added as a lump sum tax:"
   ]
  },
  {
   "cell_type": "code",
   "execution_count": 25,
   "id": "8b317bf4-e4e3-4cdb-a056-42ecbbfbdd51",
   "metadata": {},
   "outputs": [],
   "source": [
    "db.aom(adj.rc_pd(db('TotalTax'), db['s_i']), name = 'tauLump')\n",
    "db.aom(pd.Series(0, index = output.index), name = 'tauS')\n",
    "db.aom(pd.Series(0, index = inputs.index), name = 'tauD')"
   ]
  },
  {
   "cell_type": "markdown",
   "id": "53eb94fa-16b2-4c20-8418-3c5e6107cec9",
   "metadata": {},
   "source": [
    "Define sector-specific prices given regulation:"
   ]
  },
  {
   "cell_type": "code",
   "execution_count": 26,
   "id": "c5fe9091-2afd-4e28-9810-cc417573e76b",
   "metadata": {},
   "outputs": [],
   "source": [
    "db.aom(stdSort(adj.rc_pd((1+db('tauD'))*db('p'), inputs)), name = 'pD')"
   ]
  },
  {
   "cell_type": "markdown",
   "id": "cabd9965-ee6e-4080-9e49-4f6bb263e0f6",
   "metadata": {},
   "source": [
    "## 3. Households"
   ]
  },
  {
   "cell_type": "markdown",
   "id": "5fa2bb98-142b-4e3a-9d1a-32ce9d1d1cc8",
   "metadata": {},
   "source": [
    "Create mapping from old to new sector definitions:"
   ]
  },
  {
   "cell_type": "code",
   "execution_count": 27,
   "id": "5c62003b-9cc7-4e5e-a2aa-350cd2ddc121",
   "metadata": {},
   "outputs": [],
   "source": [
    "sh2new = pd.MultiIndex.from_tuples([('HH', 'Ramsey'),('HH', 'H2M')], names = ['s','sAlias'])\n",
    "sNotH = adj.rc_pd(db('s'), ('not', db('s_HH')))\n",
    "sh2newFull = pd.MultiIndex.from_arrays([sNotH, sNotH.rename('sAlias')]).union(sh2new)\n",
    "weights_hh = pd.Series([0.6, 0.4], index = pd.Index(['Ramsey','H2M'], name = 's'))\n",
    "weights = pd.Series([0.6, 0.4], index = sh2new).combine_first(pd.Series(1, index = sh2newFull))"
   ]
  },
  {
   "cell_type": "markdown",
   "id": "224f703d-fba0-4d1d-8622-be6aa9849f0a",
   "metadata": {},
   "source": [
    "For all variables that measure quantities of values, use these weights to split up variables (for other ones, such as prices, simply repeat them):"
   ]
  },
  {
   "cell_type": "code",
   "execution_count": 28,
   "id": "40ca1ce6-a2f0-4530-94ff-efbb567d679b",
   "metadata": {},
   "outputs": [
    {
     "data": {
      "text/plain": [
       "<pyDatabases.gpyDB.gpyDB.GpyDB at 0x256b5da9c90>"
      ]
     },
     "execution_count": 28,
     "metadata": {},
     "output_type": "execute_result"
    }
   ],
   "source": [
    "aggLike = {k: {'func': 'SplitDistr', 'kwargs': {'weights': weights}} for k in ('vTax','TotalTax','vD','vS','qD','qS','tauLump')}\n",
    "AggDB.aggDB(db, sh2newFull, aggLike = aggLike)"
   ]
  },
  {
   "cell_type": "markdown",
   "id": "2433873d-09c4-4dfd-b962-408406acdd39",
   "metadata": {},
   "source": [
    "The ```aggDB``` method messes a bit with the sorting of the indices, so we'll fix it here:"
   ]
  },
  {
   "cell_type": "code",
   "execution_count": 29,
   "id": "bec10566-3c0f-4e20-a6e1-05ec5f1844af",
   "metadata": {},
   "outputs": [],
   "source": [
    "[db[k].__setattr__('vals', stdSort(db(k))) for k in db.symbols];"
   ]
  },
  {
   "cell_type": "markdown",
   "id": "8cbba03a-f838-49b6-a2b8-7ff022304841",
   "metadata": {},
   "source": [
    "Add shares again:"
   ]
  },
  {
   "cell_type": "code",
   "execution_count": 30,
   "id": "63268834-2e8f-4850-b20a-e59211325475",
   "metadata": {},
   "outputs": [],
   "source": [
    "db['uHH'] = weights_hh"
   ]
  },
  {
   "cell_type": "markdown",
   "id": "25e9a510-3826-46f3-a318-809be766cf7c",
   "metadata": {},
   "source": [
    "### 3.1. Nesting structure"
   ]
  },
  {
   "cell_type": "markdown",
   "id": "1b16208a-48f1-481a-ad2a-700188af86c5",
   "metadata": {},
   "source": [
    "The household consumption nesting structure is somewhat similar to the investment sectors, with the exception that the top nest is a consumption aggregate that captures intertemporal preferences for consumption smoothing."
   ]
  },
  {
   "cell_type": "code",
   "execution_count": 31,
   "id": "7eb16626-d602-4790-846a-90f74e52962c",
   "metadata": {},
   "outputs": [],
   "source": [
    "dImport = adj.rc_pd(db('dImport'), db('s_HH'))\n",
    "dImport_dom = adj.rc_pd(db('dImport_dom'), db('s_HH'))\n",
    "dImport_for = adj.rc_pd(db('dImport_for'), db('s_HH'))"
   ]
  },
  {
   "cell_type": "markdown",
   "id": "29cf263e-6d76-4da6-b2fd-b62f66e4085e",
   "metadata": {},
   "source": [
    "*Add mappings:*"
   ]
  },
  {
   "cell_type": "code",
   "execution_count": 32,
   "id": "c5c7659f-7584-4985-b370-0f088bd42752",
   "metadata": {},
   "outputs": [],
   "source": [
    "df = dImport.to_frame(index=False).assign(m = lambda x: 'C_'+x['n'].astype(str), u = 'C')\n",
    "m = pd.MultiIndex.from_frame(df[['s','u','m']]).rename(['s','n','nn']) # mapping from materials to materials_x\n",
    "m = m.union(pd.MultiIndex.from_frame(df[['s','m','n']]).rename(['s','n','nn'])) # mapping from materials_x to x\n",
    "m = m.union(pd.MultiIndex.from_frame(df[['s','m','nn']]).rename(['s','n','nn'])) # mapping from materials_x to x_F"
   ]
  },
  {
   "cell_type": "markdown",
   "id": "3b6b0ec7-a730-4ac0-9d76-e190bc74a9b7",
   "metadata": {},
   "source": [
    "*Domestic only*"
   ]
  },
  {
   "cell_type": "code",
   "execution_count": 33,
   "id": "bc62771a-ed6d-47a9-80a0-27778796a2ff",
   "metadata": {},
   "outputs": [],
   "source": [
    "df = dImport_dom.to_frame(index=False).assign(u = 'C')\n",
    "m = m.union(pd.MultiIndex.from_frame(df[['s','u','n']]).rename(['s','n','nn'])) # mapping from materials to input"
   ]
  },
  {
   "cell_type": "markdown",
   "id": "d788aa7c-32ad-443c-a25d-9d1afff64b9a",
   "metadata": {},
   "source": [
    "Foreign only:"
   ]
  },
  {
   "cell_type": "code",
   "execution_count": 34,
   "id": "bbab13d0-a242-4a2c-ab61-23f64ad0f07f",
   "metadata": {},
   "outputs": [],
   "source": [
    "df = dImport_for.to_frame(index=False).assign(u = 'C')\n",
    "m = m.union(pd.MultiIndex.from_frame(df[['s','u','n']]).rename(['s','n','nn'])) # mapping from materials to input"
   ]
  },
  {
   "cell_type": "markdown",
   "id": "d70bc043-e7e6-41f8-9815-e5d2c7e1c8cd",
   "metadata": {},
   "source": [
    "Replace the upper-most level with the name of the household consumption aggregate:"
   ]
  },
  {
   "cell_type": "code",
   "execution_count": 35,
   "id": "c3eaafae-b4d4-41a2-9d2a-6aa377f5d5b3",
   "metadata": {},
   "outputs": [],
   "source": [
    "df = m.to_frame(index=False)\n",
    "df.loc[df.n == 'C','n'] = 'C_'+df.loc[df.n == 'C', 's']\n",
    "m = pd.MultiIndex.from_frame(df)"
   ]
  },
  {
   "cell_type": "markdown",
   "id": "8217509b-6afd-4112-9072-c296a71e5ba4",
   "metadata": {},
   "source": [
    "*Add nesting structure:*"
   ]
  },
  {
   "cell_type": "code",
   "execution_count": 36,
   "id": "ecede144-a082-40f5-93f4-d42e9ca2a8e9",
   "metadata": {},
   "outputs": [],
   "source": [
    "db['nestHH'] = m"
   ]
  },
  {
   "cell_type": "markdown",
   "id": "40910e7d-d1b8-45a9-840d-b6549b8792b3",
   "metadata": {},
   "source": [
    "Add mapping from consumption aggregate to labor:"
   ]
  },
  {
   "cell_type": "code",
   "execution_count": 37,
   "id": "1fee606f-6440-401c-8b74-eb917fc80ab8",
   "metadata": {},
   "outputs": [],
   "source": [
    "db['L2C'] = pd.MultiIndex.from_arrays([db('s_HH'), pd.Index(['L']*len(db('s_HH')), name = 'n'), ('C_'+db('s_HH')).rename('nn')])"
   ]
  },
  {
   "cell_type": "markdown",
   "id": "7c8e6840-6d0d-4ea7-9604-d94a1e3da283",
   "metadata": {},
   "source": [
    "### 3.2. Elasticities/preferences:"
   ]
  },
  {
   "cell_type": "markdown",
   "id": "3f432a8d-d081-428c-9970-b9c3cf5d1fb5",
   "metadata": {},
   "source": [
    "Upper level nest:"
   ]
  },
  {
   "cell_type": "code",
   "execution_count": 38,
   "id": "60f44bec-9f78-46df-aad0-1da95f520ccd",
   "metadata": {},
   "outputs": [],
   "source": [
    "sigma_HH_upper = pd.Series(0.5, index = m[m.get_level_values('n') == 'C_HH'].droplevel('nn').unique(), name = 'sigma')"
   ]
  },
  {
   "cell_type": "markdown",
   "id": "f52d6dfe-3046-4ce8-a50f-3384b0b25d54",
   "metadata": {},
   "source": [
    "Lower-level (import/domestic competition):"
   ]
  },
  {
   "cell_type": "code",
   "execution_count": 39,
   "id": "d9aa0bd7-4bcd-46c5-b000-3f04f04852d6",
   "metadata": {},
   "outputs": [],
   "source": [
    "sigma_HH_Import = pd.Series(2, index = m[m.get_level_values('n') != 'C_HH'].droplevel('nn').unique(), name = 'sigma')"
   ]
  },
  {
   "cell_type": "markdown",
   "id": "2cd3f9a1-ec59-4780-884b-494cf0950678",
   "metadata": {},
   "source": [
    "Add to database:"
   ]
  },
  {
   "cell_type": "code",
   "execution_count": 40,
   "id": "22caff0c-2891-492a-a108-c76e5f94627c",
   "metadata": {},
   "outputs": [],
   "source": [
    "sigma_HH = pd.concat([sigma_HH_upper, sigma_HH_Import], axis = 0) \n",
    "db.aom(sigma_HH, name = 'sigma')"
   ]
  },
  {
   "cell_type": "markdown",
   "id": "7f4857b2-8610-4e81-992b-777d60735b32",
   "metadata": {},
   "source": [
    "Frisch elasticity, CRRA, time preferences:"
   ]
  },
  {
   "cell_type": "code",
   "execution_count": 41,
   "id": "23ed74ec-74f2-4404-8df0-0053e40ce5e4",
   "metadata": {},
   "outputs": [],
   "source": [
    "db.aom(pd.Series(0.1, index = db('s_HH')), name = 'frisch')\n",
    "db.aom(pd.Series(2, index = db('s_HH')), name = 'crra')\n",
    "db.aom(pd.Series((1+db('g_LR'))**(db('crra'))/db('R_LR'), index = db('s_HH')), name = 'discF')"
   ]
  },
  {
   "cell_type": "markdown",
   "id": "23302f67-046f-48a8-ad5f-2ca2b526cafc",
   "metadata": {},
   "source": [
    "### 3.3. Regulation:"
   ]
  },
  {
   "cell_type": "markdown",
   "id": "60b7fccd-57c4-422a-ac62-301796ae4fa5",
   "metadata": {},
   "source": [
    "Add taxes as lump-sum:"
   ]
  },
  {
   "cell_type": "code",
   "execution_count": 42,
   "id": "59341f84-55e1-4689-a3ad-bb3c020d9a4a",
   "metadata": {},
   "outputs": [],
   "source": [
    "output = adj.rc_pd(db('qS'), db['s_HH'])\n",
    "inputs = adj.rc_pd(db('qD'), db['s_HH'])\n",
    "db.aom(pd.Series(0, index = inputs.index), name = 'tauD')\n",
    "db.aom(pd.Series(0, index = output.index), name = 'tauS')\n",
    "db.aom(adj.rc_pd(db('TotalTax'), db('s_HH')), name = 'tauLump')"
   ]
  },
  {
   "cell_type": "markdown",
   "id": "0ea860c2-c198-413d-bcb0-2a5fc35a4ae9",
   "metadata": {},
   "source": [
    "*Define sector-specific prices given regulation:*"
   ]
  },
  {
   "cell_type": "code",
   "execution_count": 43,
   "id": "d5c0b871-8b1f-4240-9c7f-3872f0828474",
   "metadata": {},
   "outputs": [],
   "source": [
    "db.aom(stdSort(adj.rc_pd((1+db('tauD'))*db('p'), inputs)), name = 'pD')\n",
    "db.aom(stdSort(adj.rc_pd(db('p')*(1-db('tauS')), output)), name = 'pS') # in this case pS is the after-tax wage rate"
   ]
  },
  {
   "cell_type": "markdown",
   "id": "a8494f57-5fd1-424b-a557-cab90a9fb80d",
   "metadata": {},
   "source": [
    "*Add asset value. Give all assets to Ramsey households.*"
   ]
  },
  {
   "cell_type": "code",
   "execution_count": 44,
   "id": "f5054648-6cd8-4664-8cb1-dc00eff3c526",
   "metadata": {},
   "outputs": [],
   "source": [
    "db.aom(pd.Series([1,0], index = pd.Index(['Ramsey','H2M'], name = 's')), name = 'uIdxFund') # share of assets in domestic shares\n",
    "db.aom(pd.Series(0, index = db('s_HH')), name = 'vA_F') # value of foreign assets\n",
    "db.aom(db('uIdxFund')*pd.Series(db('vIdxFund').xs(t0), index = pd.MultiIndex.from_product([db('t'), db('s_HH')])), name = 'vA')"
   ]
  },
  {
   "cell_type": "markdown",
   "id": "e63145be-17fe-47f1-8626-f6f106fbf88d",
   "metadata": {},
   "source": [
    "## 4. Government"
   ]
  },
  {
   "cell_type": "markdown",
   "id": "b6568d1a-5031-4cad-826a-3f443f4fd032",
   "metadata": {},
   "source": [
    "### 4.1. Nesting structure"
   ]
  },
  {
   "cell_type": "markdown",
   "id": "72b257b5-f461-4fbb-89fc-ef5ea3fb413b",
   "metadata": {},
   "source": [
    "Government consumption is nested in a similar way as household consumption - and uses the same elasticities:"
   ]
  },
  {
   "cell_type": "code",
   "execution_count": 45,
   "id": "86e4fb83-b938-44ef-b5a7-b1b1f1ef6c84",
   "metadata": {},
   "outputs": [],
   "source": [
    "dImport = adj.rc_pd(db('dImport'), db('s_G'))\n",
    "dImport_dom = adj.rc_pd(db('dImport_dom'), db('s_G'))\n",
    "dImport_for = adj.rc_pd(db('dImport_for'), db('s_G'))"
   ]
  },
  {
   "cell_type": "markdown",
   "id": "e4e776d7-5c2a-45a7-9eff-c5f2609200a9",
   "metadata": {},
   "source": [
    "*Add mappings:*"
   ]
  },
  {
   "cell_type": "code",
   "execution_count": 46,
   "id": "448fb9c4-4273-438c-944a-db8ddf265db9",
   "metadata": {},
   "outputs": [],
   "source": [
    "df = dImport.to_frame(index=False).assign(m = lambda x: 'GC_'+x['n'].astype(str), u = 'GC')\n",
    "m = pd.MultiIndex.from_frame(df[['s','u','m']]).rename(['s','n','nn']) # mapping from materials to materials_x\n",
    "m = m.union(pd.MultiIndex.from_frame(df[['s','m','n']]).rename(['s','n','nn'])) # mapping from materials_x to x\n",
    "m = m.union(pd.MultiIndex.from_frame(df[['s','m','nn']]).rename(['s','n','nn'])) # mapping from materials_x to x_F"
   ]
  },
  {
   "cell_type": "markdown",
   "id": "83ebb858-ff96-4f8d-9dd0-0a82714ed388",
   "metadata": {},
   "source": [
    "*Domestic only*"
   ]
  },
  {
   "cell_type": "code",
   "execution_count": 47,
   "id": "369b4130-2950-450d-938d-a13af3d95f80",
   "metadata": {},
   "outputs": [],
   "source": [
    "df = dImport_dom.to_frame(index=False).assign(u = 'GC')\n",
    "m = m.union(pd.MultiIndex.from_frame(df[['s','u','n']]).rename(['s','n','nn'])) # mapping from materials to input"
   ]
  },
  {
   "cell_type": "markdown",
   "id": "01fac6a2-9b80-449e-88ee-244930c434f9",
   "metadata": {},
   "source": [
    "Foreign only:"
   ]
  },
  {
   "cell_type": "code",
   "execution_count": 48,
   "id": "18afa704-272c-4b89-b029-73a2847ee58f",
   "metadata": {},
   "outputs": [],
   "source": [
    "df = dImport_for.to_frame(index=False).assign(u = 'GC')\n",
    "m = m.union(pd.MultiIndex.from_frame(df[['s','u','n']]).rename(['s','n','nn'])) # mapping from materials to input"
   ]
  },
  {
   "cell_type": "markdown",
   "id": "c281fc96-5e9c-4f02-97ba-d17ab63d92fc",
   "metadata": {},
   "source": [
    "Replace the upper-most level with the name of the household consumption aggregate:"
   ]
  },
  {
   "cell_type": "code",
   "execution_count": 49,
   "id": "f0e2520d-cc74-4dde-9ded-573d617c97e2",
   "metadata": {},
   "outputs": [],
   "source": [
    "df = m.to_frame(index=False)\n",
    "df.loc[df.n == 'GC','n'] = 'GC_'+df.loc[df.n == 'GC', 's']\n",
    "m = pd.MultiIndex.from_frame(df)"
   ]
  },
  {
   "cell_type": "markdown",
   "id": "a780625c-8d05-438a-aa4c-af49cd9a4dc7",
   "metadata": {},
   "source": [
    "*Add nesting structure:*"
   ]
  },
  {
   "cell_type": "code",
   "execution_count": 50,
   "id": "133b6c5f-b737-468c-a6fb-9a34d6d6fece",
   "metadata": {},
   "outputs": [],
   "source": [
    "db['nestG'] = m"
   ]
  },
  {
   "cell_type": "markdown",
   "id": "4597fc95-6f91-4802-b0b1-91a94e304abb",
   "metadata": {},
   "source": [
    "### 4.2. Elasticities"
   ]
  },
  {
   "cell_type": "markdown",
   "id": "e6dda90e-7045-4276-a957-9f7a5aec49f5",
   "metadata": {},
   "source": [
    "Upper level nest:"
   ]
  },
  {
   "cell_type": "code",
   "execution_count": 51,
   "id": "7917d6a2-45ac-471d-86e5-5d953ef40e27",
   "metadata": {},
   "outputs": [],
   "source": [
    "sigma_G_upper = pd.Series(.9, index = m[m.get_level_values('n') == 'GC_G'].droplevel('nn').unique(), name = 'sigma')"
   ]
  },
  {
   "cell_type": "markdown",
   "id": "3790a628-357f-40be-b9ed-45c2cbb5a38e",
   "metadata": {},
   "source": [
    "Lower-level (import/domestic competition):"
   ]
  },
  {
   "cell_type": "code",
   "execution_count": 52,
   "id": "6faa08f4-cd0e-47c3-b590-9358ca56a5d9",
   "metadata": {},
   "outputs": [],
   "source": [
    "sigma_G_Import = pd.Series(2, index = m[m.get_level_values('n') != 'GC_G'].droplevel('nn').unique(), name = 'sigma')"
   ]
  },
  {
   "cell_type": "markdown",
   "id": "5d6a2477-422b-439e-9376-47ba7c941c03",
   "metadata": {},
   "source": [
    "Add to database:"
   ]
  },
  {
   "cell_type": "code",
   "execution_count": 53,
   "id": "293a6ad4-b455-4bbd-a307-da65a5ee4e86",
   "metadata": {},
   "outputs": [],
   "source": [
    "sigma_G = pd.concat([sigma_G_upper, sigma_G_Import], axis = 0) \n",
    "db.aom(sigma_G, name = 'sigma')"
   ]
  },
  {
   "cell_type": "markdown",
   "id": "9fd6f80c-8102-4ffe-aea2-97f2616aee74",
   "metadata": {},
   "source": [
    "### 4.3. Regulation"
   ]
  },
  {
   "cell_type": "markdown",
   "id": "69301775-1af5-4cb3-a817-75f25e644f9e",
   "metadata": {},
   "source": [
    "The government regulates/taxes itself (because data says so). Because we use incomplete data on taxes (especially on household taxes/transfers), we make some adhoc adjustments here:\n",
    "* Remove taxes on inventory (because the \"inventory sector\" is only used for completeness of the IO system).\n",
    "* Set flat VAT tax rate on government consumption to target taxes from government sector."
   ]
  },
  {
   "cell_type": "code",
   "execution_count": 54,
   "id": "d52eadd0-fafc-477a-9cfd-07b66a6718a2",
   "metadata": {},
   "outputs": [],
   "source": [
    "inputs = adj.rc_pd(db('qD'), db('s_G'))\n",
    "db['TotalTax'] = adj.rc_pd(db('TotalTax'), ('not', pd.Index(['itory'],name='s'))) # remove inventory taxes\n",
    "db['d_TotalTax'] = db['TotalTax'].index.droplevel('t').unique() # what sectors pay taxes\n",
    "db.aom(adj.rc_pd(db('TotalTax'), db('s_G')), name = 'tauLump', priority='first')\n",
    "db.aom(pd.Series(0, index = inputs.index), name = 'tauD')\n",
    "db.aom(stdSort(adj.rc_pd((1+db('tauD'))*db('p'), inputs)), name = 'pD')"
   ]
  },
  {
   "cell_type": "markdown",
   "id": "47667116-66a4-4446-84b9-fc6c773d1ebd",
   "metadata": {},
   "source": [
    "## 5. Trade"
   ]
  },
  {
   "cell_type": "markdown",
   "id": "4e4719a5-0ead-4cf2-9638-4c61ae3c0d6d",
   "metadata": {},
   "source": [
    "Set export elasticity to 10:"
   ]
  },
  {
   "cell_type": "code",
   "execution_count": 55,
   "id": "10255c08-543e-4d6d-a3fd-924c0e1e94f9",
   "metadata": {},
   "outputs": [],
   "source": [
    "db.aom(pd.Series(10, index = db('dExport')), name='sigma')"
   ]
  },
  {
   "cell_type": "markdown",
   "id": "51ef1763-a772-46da-b6d4-0dfc6875fb76",
   "metadata": {},
   "source": [
    "*Note: We should add some information on regulation on trade at some point. Here, just add flat tariff/subsidy on all exports:* "
   ]
  },
  {
   "cell_type": "code",
   "execution_count": 56,
   "id": "b37d6f8d-cf14-4a9a-8af2-5a842d369593",
   "metadata": {},
   "outputs": [],
   "source": [
    "avgTariffRate = adj.rc_pd(db('TotalTax'), db('s_f'))/pyDatabases.pdSum(adj.rc_pd(db('qD'), db('s_f')), 'n')\n",
    "TariffRate = stdSort(adjMultiIndex.applyMult(avgTariffRate, db('dExport')))\n",
    "db.aom(TariffRate, name = 'tauD')\n",
    "db.aom(pd.Series(0, index = adj.rc_pd(db('TotalTax'), db('s_f')).index), name = 'tauLump')\n",
    "db.aom(stdSort(adj.rc_pd(db('tauD')+db('p'), db('s_f'))), name = 'pD')"
   ]
  },
  {
   "cell_type": "markdown",
   "id": "4e12b6cb-eac1-438a-b1f6-c229ebd82717",
   "metadata": {},
   "source": [
    "## 6. Emissions"
   ]
  },
  {
   "cell_type": "markdown",
   "id": "30643390-4f75-499f-896a-54ec857d2653",
   "metadata": {},
   "source": [
    "### 6.1. Data for ```EmissionAccounts``` class"
   ]
  },
  {
   "cell_type": "markdown",
   "id": "30a6d974-9350-4de2-a03d-2b5fefd6146f",
   "metadata": {},
   "source": [
    "*Note: Emission intensity trends are not added here.* "
   ]
  },
  {
   "cell_type": "markdown",
   "id": "cf442c7e-2f67-477f-a1d2-fbe39b97fd92",
   "metadata": {},
   "source": [
    "In this class, we have no abatement of emissions and no quantity targets. Regulation of CO2 is only carried out through exogenous tax rates. The required inputs for this module are computed here (the rest is already added in the production module or by the ```EmissionAccounts``` class itself):"
   ]
  },
  {
   "cell_type": "code",
   "execution_count": 57,
   "id": "00fd7cea-5eb9-4007-b9d2-742d5ff3e8d3",
   "metadata": {},
   "outputs": [],
   "source": [
    "db['tauDist'] = db('tauCO2')/db('tauCO2agg') # parameter used to guide CO2 regulation\n",
    "# db['tauDist'] = pd.Series(1, index = db('tauCO2').index) # uniform taxes\n",
    "db['tauEffCO2'] = db('tauCO2').copy() # without abatement --> identical rates.\n",
    "db['uCO2'] = db('qCO2') / adj.rc_pd(db('qS'), db('dqCO2')) # emission intensity\n",
    "db['qCO2agg'] = db('qCO2').groupby('t').sum() # aggregate emissions"
   ]
  },
  {
   "cell_type": "markdown",
   "id": "6208ca6f-d44b-497b-ab56-24f868401b38",
   "metadata": {},
   "source": [
    "### 6.2. Data for ```EmissionTargets``` class"
   ]
  },
  {
   "cell_type": "markdown",
   "id": "b17a9504-0b0c-4072-b549-ccfbfa49136e",
   "metadata": {},
   "source": [
    "The class starts from \"single year targets\" (SYT) formulated as specific years $t$ with targets for aggregate emissions. Based on this, the short data method ```targetsFromSYT``` returns a dictionary with various relevant subsets, but also other types of regulation (emission budgets (EB) and linear reduction paths (LRP)) that are equivalent with the SYT regulation in some way. In this example, the target is to reach net zero by 2050."
   ]
  },
  {
   "cell_type": "markdown",
   "id": "bf319631-47b2-409c-81db-aa1dcafdf0d7",
   "metadata": {},
   "source": [
    "**Single year targets** (SYT):\n",
    "* Define a subset of target years ```t_SYT```. Per construction, we assume that the final target is permanent (in this case the target for 2050 will be in place for 2051,..., T).\n",
    "* Define a variable with target levels ```qCO2_SYT```.\n",
    "\n",
    "A couple of additional subsets are added to allow for emission targets to be achieved with different policy rules (see the documentation notes online for more)."
   ]
  },
  {
   "cell_type": "markdown",
   "id": "fb12b8d0-3002-4d80-b8bf-6a9fc2604d74",
   "metadata": {},
   "source": [
    "**Linear reduction paths** (LRP): We compute linear reduction paths between targets ```qCO2_LRP``` and set target index ```t_LRP``` to the entire time index."
   ]
  },
  {
   "cell_type": "markdown",
   "id": "c70531c7-1c1d-46f6-9e11-0f067b23703d",
   "metadata": {},
   "source": [
    "**Emission Budgets** (EB):\n",
    "* Based on the linear reduction paths, compute cumulative budgets for each regime (one for each original single year target).\n",
    "* Let ```t_EB``` denote the end-years for each emission budget regime (coincides with original SYT). Let ```qCO2_EB``` denote the cumulative budget for the time horizon.\n",
    "* Let ```t2tt_EB[t,tt]``` denote the mapping from each target year (t) and the years (tt) to sum over when reaching this target.\n",
    "* If there are years after the final target, we adopt a simple SYT approach for the final years. This is done by defining a separate subset ```t_EB_SYT``` with ```qCO2_EB_SYT``` denoting the targets (they coincide with simple SYT)."
   ]
  },
  {
   "cell_type": "code",
   "execution_count": 58,
   "id": "c9aaa229-8c4d-4fba-be36-d72b92a68a57",
   "metadata": {},
   "outputs": [],
   "source": [
    "targets1 = pd.Series([0], index = pd.Index([2050], name = 't'))\n",
    "targets2 = pd.Series([0,0], index = pd.Index([2050,2060], name = 't')) # this adds an emission budget for 2050-2060 \n",
    "targetSymbols1 = targetsFromSYT(targets1, db('t'), db('qCO2agg').xs(t0))\n",
    "targetSymbols2 = targetsFromSYT(targets2, db('t'), db('qCO2agg').xs(t0))\n",
    "[db.aom(v, name = k) for k,v in targetSymbols1.items() if k in ('qCO2_SYT','t_SYT','t_SYT_NB')];\n",
    "[db.aom(v, name = k) for k,v in targetSymbols2.items() if k not in ('qCO2_SYT','t_SYT','t_SYT_NB')];"
   ]
  },
  {
   "cell_type": "markdown",
   "id": "ccc584f7-a8ed-48b3-98fc-0f3cb925a6c2",
   "metadata": {},
   "source": [
    "*Note:* It is important for the subsequent code that the emission budget target (```qCO2_EB[t]```) defines the cumulative target in the *last* year of the relevant time horizon."
   ]
  },
  {
   "cell_type": "markdown",
   "id": "8962eb72-e72b-46b1-a41f-e3999c23fd2c",
   "metadata": {},
   "source": [
    "### 6.3. Growth adjusted variables"
   ]
  },
  {
   "cell_type": "markdown",
   "id": "a6622230-2245-4f3d-9850-8ef6e06ef41a",
   "metadata": {},
   "source": [
    "Assuming that targets were defined as non-growth adjusted variables, we redefine them here as growth adjusted ones (what the code ultimately assumes):"
   ]
  },
  {
   "cell_type": "code",
   "execution_count": 59,
   "id": "f6f4824f-c38f-45f1-9ed5-4af11dd74e9a",
   "metadata": {},
   "outputs": [],
   "source": [
    "[db.__setitem__(k, (db(k) * (1+db('g_LR'))**(t0-db(k).index.to_series()))) for k in ('qCO2_SYT','qCO2_LRP','qCO2_EB')];"
   ]
  },
  {
   "cell_type": "markdown",
   "id": "cc75fbf1-a3d9-4857-9c39-4e333b0e1971",
   "metadata": {},
   "source": [
    "Next, we introduce trends in the emission intensity. Emission intensites $\\mu$ measures preabatement CO2 emissions per unit of output. If emission and output quantities are growth-adjusted, the intensity should not be changed. Instead, we look at emissions trends from 1990 to today (this naturally overestimates the growth rate, as emission taxes has been increasing over this period. Here, we simply attribute roughly half of this to \"natural\" progress in technology):"
   ]
  },
  {
   "cell_type": "markdown",
   "id": "6cf3bc6c-6b87-4d99-828a-85e961f6d6f6",
   "metadata": {},
   "source": [
    "Add growth rates to emission intensities:"
   ]
  },
  {
   "cell_type": "code",
   "execution_count": 60,
   "id": "8eee5047-2892-4038-8200-2cc966a03de6",
   "metadata": {},
   "outputs": [],
   "source": [
    "exogenousShare_gCO2 = 0.5\n",
    "growthFactor = stdSort(adjMultiIndex.bc((1+db('gCO2')*exogenousShare_gCO2).droplevel('t'), db('t')))\n",
    "db['uCO2'] = growthFactor.pow(pd.Series(db('t')-t0, index = db('t'))) * db('uCO2').droplevel('t')"
   ]
  },
  {
   "cell_type": "markdown",
   "id": "3c8a7333-8309-461d-b831-4106e0789acd",
   "metadata": {},
   "source": [
    "## 7. Abatement"
   ]
  },
  {
   "cell_type": "markdown",
   "id": "649ccbad-2653-4abe-aa70-b11e957619f8",
   "metadata": {},
   "source": [
    "### 7.1. Data for ```AbateSimple``` class"
   ]
  },
  {
   "cell_type": "markdown",
   "id": "8b8c7c85-e18e-420e-aab8-995faaecdf85",
   "metadata": {},
   "source": [
    "To add abatement, we need to include abatement technologies. Ideally, we would have data on specific abatement technologies and their (1) abatement potential, (2) average abatement costs, and (3) some measure of variance for abatement costs. For all three, we would ideally have projections over time as well. In lieu of this, the following creates a sample with dimensions that are consistent with model formulation:"
   ]
  },
  {
   "cell_type": "markdown",
   "id": "4c702804-988e-41b4-896c-dce04d18d67d",
   "metadata": {},
   "source": [
    "Create abatement technology toy data. This creates a number of CCS-like technologies with costs decreasing over time at a rate $g$ to some year (here 2050):"
   ]
  },
  {
   "cell_type": "code",
   "execution_count": 61,
   "id": "452dfca1-a30e-44d8-98a2-0629464dab81",
   "metadata": {},
   "outputs": [],
   "source": [
    "n, Ttech = 3, T # number of technologies; the year that technical progress in costs stop.\n",
    "c0 = np.hstack([4000, np.linspace(2000, 1000, n-1)]) # costs in baseline year\n",
    "pot0 = np.hstack([.6, np.full(n-1, .3)]) # reduction potentials\n",
    "g = 0.01 # growth rate in costs\n",
    "costs = pd.DataFrame((np.power(1-g, range(Ttech-t0+1)).reshape(Ttech-t0+1,1) * c0 ), \n",
    "                     index = pd.Index(range(t0, Ttech+1), name = 't'), \n",
    "                     columns = 'CCS'+pd.Index(range(n), name = 'tech').astype(str)).stack()\n",
    "pots = pd.DataFrame(np.tile(pot0, (len(db('t')), 1)), index = db('t'), columns = costs.index.levels[1]).stack()\n",
    "DACCosts= pd.Series(6000, index = db('t')) # keep costs high for DAC in this run"
   ]
  },
  {
   "cell_type": "markdown",
   "id": "a7adecd4-4603-4b5e-8464-b2ad4e760eb6",
   "metadata": {},
   "source": [
    "Assume technology applies in all production sectors with emissions and provide dummies:"
   ]
  },
  {
   "cell_type": "code",
   "execution_count": 62,
   "id": "73f6b2c3-ab47-4ffb-aa63-b161526652eb",
   "metadata": {},
   "outputs": [],
   "source": [
    "db['tech'] = costs.index.levels[1] # 'tech' set\n",
    "db['dTechTau'] = pyDatabases.cartesianProductIndex([db('dtauCO2'), db('tech')]) # combination of [s,n,tech] relevant for abatement costs\n",
    "db['dtech'] = db('dTechTau').droplevel('n').unique() # combination of [s,tech].\n",
    "costsFull = stdSort(adjMultiIndex.applyMult(costs, db('dtech')))\n",
    "potsFull  = stdSort(adjMultiIndex.applyMult(pots,  db('dtech')))\n",
    "db['techCost'] = extrapolateUpper(costsFull, T) * (db('M1990') * 1e6)/db._scale\n",
    "db['techPot'] = extrapolateUpper(potsFull, T)\n",
    "db['DACCost'] = DACCosts * (db('M1990') * 1e6)/db._scale\n",
    "db['DACSmooth'] = pd.Series(1, index = db('DACCost').index)\n",
    "db['qCO2Base'] = 0 # remove DAC potential"
   ]
  },
  {
   "cell_type": "markdown",
   "id": "5fc4c704-4bf9-430f-83b6-a6a5244e7102",
   "metadata": {},
   "source": [
    "### 7.2. Data for ```AbateCapital``` class"
   ]
  },
  {
   "cell_type": "markdown",
   "id": "7e5f2c09-4d9b-4554-900b-7116fc5dbdea",
   "metadata": {},
   "source": [
    "Relevant data for the ```AbateCapital``` class is already added above or is simply initialized with some GAMS code later."
   ]
  },
  {
   "cell_type": "markdown",
   "id": "a182fb72-a874-4f24-b869-b4f3b9f551d1",
   "metadata": {},
   "source": [
    "## X. Globals"
   ]
  },
  {
   "cell_type": "markdown",
   "id": "12e499a2-1130-4c1d-8faf-215d93560bdd",
   "metadata": {},
   "source": [
    "Other parameters/variables used throughout:"
   ]
  },
  {
   "cell_type": "code",
   "execution_count": 63,
   "id": "5a287aea-90ad-4f55-9b00-2b7aa1b20594",
   "metadata": {},
   "outputs": [],
   "source": [
    "db.aom(pd.Series(db('R_LR'), index = db('t')), name = 'Rrate', priority = 'first') # fix interest rate path at long run level\n",
    "db.aom(pd.Series(db('R_LR')*(1+db('infl_LR')), index = db('t')), name = 'iRate', priority = 'first')"
   ]
  },
  {
   "cell_type": "markdown",
   "id": "dcf7c9b9-4f1b-4707-afbf-c5bdd9e7cc44",
   "metadata": {},
   "source": [
    "## Export"
   ]
  },
  {
   "cell_type": "code",
   "execution_count": 64,
   "id": "7e85bed6-dbd6-423b-b651-5356e821db7c",
   "metadata": {},
   "outputs": [],
   "source": [
    "db.export(repo=d['data'])"
   ]
  }
 ],
 "metadata": {
  "kernelspec": {
   "display_name": "Python 3 (ipykernel)",
   "language": "python",
   "name": "python3"
  },
  "language_info": {
   "codemirror_mode": {
    "name": "ipython",
    "version": 3
   },
   "file_extension": ".py",
   "mimetype": "text/x-python",
   "name": "python",
   "nbconvert_exporter": "python",
   "pygments_lexer": "ipython3",
   "version": "3.11.8"
  }
 },
 "nbformat": 4,
 "nbformat_minor": 5
}
