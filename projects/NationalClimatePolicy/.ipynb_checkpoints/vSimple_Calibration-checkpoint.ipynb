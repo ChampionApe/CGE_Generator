{
 "cells": [
  {
   "cell_type": "code",
   "execution_count": 1,
   "id": "057fb38a-afc0-400c-b411-0ace0465dfa3",
   "metadata": {},
   "outputs": [],
   "source": [
    "clean_up = True # if True, remove all gams related files from working folder before starting\n",
    "%run stdPackages.ipynb\n",
    "os.chdir(main)\n",
    "%run stdPlotting.ipynb\n",
    "os.chdir(d['py'])\n",
    "from gmsPython import nestingTree\n",
    "from valueShares import nestedShares_noOutputs, nestedShares\n",
    "from mCGE import NCP_CGE as CGE"
   ]
  },
  {
   "cell_type": "markdown",
   "id": "c4ec6e0c-7db0-4137-a536-d9f54b14ebed",
   "metadata": {},
   "source": [
    "# CGE model"
   ]
  },
  {
   "cell_type": "markdown",
   "id": "87f71803-c302-4568-8efa-e4d54f75ec91",
   "metadata": {},
   "source": [
    "*Load data:*"
   ]
  },
  {
   "cell_type": "code",
   "execution_count": 2,
   "id": "c011740b-b4d4-4ce0-917c-d0a25737e1af",
   "metadata": {},
   "outputs": [],
   "source": [
    "t0 = 2019 # set baseline year\n",
    "name = 'vSimple' # specify name of the CGE version we are currently working on\n",
    "db = GpyDB(os.path.join(d['data'], f'{name}_{t0}'), name = '_'.join([name, str(t0), 'calibration']), ws = d['work']) # load and rename database \n",
    "dbIO = db.copy() # create copy without adjustments made along the way\n",
    "ws = db.ws # run everything from the same ws"
   ]
  },
  {
   "cell_type": "markdown",
   "id": "31a29b7b-0f52-40a9-afe0-bf5356460162",
   "metadata": {},
   "source": [
    "Initialize model:"
   ]
  },
  {
   "cell_type": "code",
   "execution_count": 3,
   "id": "7ac6eac7-aa4e-4e1f-b13a-b3b5d3c22367",
   "metadata": {},
   "outputs": [],
   "source": [
    "M = CGE('_'.join([name, str(t0), 'CGE','calibration']), database = db, \n",
    "        opt = False, solveWithNLP = False) # don't use optimization in the calibration stage, use NLP solver though"
   ]
  },
  {
   "cell_type": "markdown",
   "id": "d17d7317-df07-49b2-9e69-b50fd09928d1",
   "metadata": {},
   "source": [
    "## 1. Add modules"
   ]
  },
  {
   "cell_type": "markdown",
   "id": "3b7b10c9-1e91-4e5b-9bc9-7419947bf82b",
   "metadata": {},
   "source": [
    "### 1.1. Production"
   ]
  },
  {
   "cell_type": "markdown",
   "id": "aafa3878-55ed-434e-add5-c9d048ec5ec3",
   "metadata": {},
   "source": [
    "The production module is initialized with a nesting tree and value shares to identify the $\\mu$-share parameters of the nesting structure."
   ]
  },
  {
   "cell_type": "code",
   "execution_count": 4,
   "id": "61b9fab2-aed9-4ffc-9e47-38b34338417b",
   "metadata": {},
   "outputs": [
    {
     "data": {
      "text/plain": [
       "<gmsPython.nestingTree.nestingTree.AggTree at 0x23e4fc23490>"
      ]
     },
     "execution_count": 4,
     "metadata": {},
     "output_type": "execute_result"
    }
   ],
   "source": [
    "nest = nestingTree.Tree('P', tree = db('nestProduction').to_list(), f = 'CES')\n",
    "nestAgg = nestingTree.AggTree(name = 'P', trees = {t.name: t for t in [nest]}, ws = ws)\n",
    "nestAgg(namespace = {str(n)+'_input':n for n in db('n')})"
   ]
  },
  {
   "cell_type": "code",
   "execution_count": 5,
   "id": "040cc85c-c41a-437b-b23f-48b23257845e",
   "metadata": {},
   "outputs": [],
   "source": [
    "v = nestedShares(nestAgg, ws = ws)\n",
    "db_p = v(dbIO)"
   ]
  },
  {
   "cell_type": "markdown",
   "id": "93bffb20-24ef-47ec-a07a-c67f1e3fe027",
   "metadata": {},
   "source": [
    "Use share parameters and values to get initial values for intermediates:"
   ]
  },
  {
   "cell_type": "code",
   "execution_count": 6,
   "id": "3f3d90a4-d416-4041-86d7-020883b08914",
   "metadata": {},
   "outputs": [],
   "source": [
    "db.aom(db_p('mu').xs(t0), name = 'mu')\n",
    "db.aom(adj.rc_pd(db_p('vD'), nest.get('int')).rename('qD'), name = 'qD', priority = 'first') # specify intermediate goods levels"
   ]
  },
  {
   "cell_type": "markdown",
   "id": "f37b95bc-6687-4bab-af81-b31366ea9fbc",
   "metadata": {},
   "source": [
    "Use static user cost as initial guess for price on durables (if no other has been provided):"
   ]
  },
  {
   "cell_type": "code",
   "execution_count": 7,
   "id": "432868f0-160b-437f-be3c-52ffa899bc96",
   "metadata": {},
   "outputs": [],
   "source": [
    "db.aom(db('pD_dur'), name = 'pD', priority = 'first') # pD_dur includes an estimate of the long-run user-cost of capital"
   ]
  },
  {
   "cell_type": "markdown",
   "id": "0efe4351-cd52-4fa7-9074-052efa79e700",
   "metadata": {},
   "source": [
    "Next, we initialize the production module:"
   ]
  },
  {
   "cell_type": "code",
   "execution_count": 8,
   "id": "fcf91111-967d-4499-9943-53ba2e202a88",
   "metadata": {
    "scrolled": true
   },
   "outputs": [
    {
     "data": {
      "text/plain": [
       "<mProduction.DynamicNCES at 0x23e4fcb1150>"
      ]
     },
     "execution_count": 8,
     "metadata": {},
     "output_type": "execute_result"
    }
   ],
   "source": [
    "M.addDynamicProdModule(nestAgg, partial = True, mtype = 'DynamicNCES',initFromGms = 'initFirmValue', taxInstr = 'tauLump', \n",
    "                       addEmissions = True, abateCosts =True, addAdjCosts = True)"
   ]
  },
  {
   "cell_type": "markdown",
   "id": "2d38acef-a19b-4d61-a45f-63d0e24c7f9c",
   "metadata": {},
   "source": [
    "Now, add investment sector:"
   ]
  },
  {
   "cell_type": "code",
   "execution_count": 9,
   "id": "cb5afa4f-bb3e-4b6d-bff4-93781d7085eb",
   "metadata": {},
   "outputs": [
    {
     "data": {
      "text/plain": [
       "<gmsPython.nestingTree.nestingTree.AggTree at 0x23e4fca4910>"
      ]
     },
     "execution_count": 9,
     "metadata": {},
     "output_type": "execute_result"
    }
   ],
   "source": [
    "nest = nestingTree.AggTree(name = 'I', trees = {'I': nestingTree.Tree('I', tree = db('nestInvestment').to_list(), f = 'CES')}, ws = ws)\n",
    "nest(namespace = {str(n)+'_input':n for n in db('n')})"
   ]
  },
  {
   "cell_type": "markdown",
   "id": "85262ee7-9e5d-4b06-9065-73fdc307b594",
   "metadata": {},
   "source": [
    "*Define share parameters:*"
   ]
  },
  {
   "cell_type": "code",
   "execution_count": 10,
   "id": "62235313-ee61-476d-b97b-360e347359de",
   "metadata": {},
   "outputs": [],
   "source": [
    "v = nestedShares(nest, ws = ws)\n",
    "db_vs = v(dbIO) "
   ]
  },
  {
   "cell_type": "markdown",
   "id": "aae387c5-7035-433e-9890-e4f0693041da",
   "metadata": {},
   "source": [
    "*Use share parameters and values to get initial values for intermediates:*"
   ]
  },
  {
   "cell_type": "code",
   "execution_count": 11,
   "id": "303efae3-dde9-4546-b058-8c97d9b8a4bc",
   "metadata": {},
   "outputs": [],
   "source": [
    "db.aom(db_vs('mu').xs(t0), name = 'mu') \n",
    "db.aom(adj.rc_pd(db_vs('vD'), nest.get('int')).rename('qD'), name = 'qD', priority = 'first') # specify intermediate goods levels"
   ]
  },
  {
   "cell_type": "markdown",
   "id": "1b87998d-2ea3-4197-a58f-5fedd10a2be5",
   "metadata": {},
   "source": [
    "*Add module as production type to CGE:*"
   ]
  },
  {
   "cell_type": "code",
   "execution_count": 12,
   "id": "e9e0d760-61ba-4b6a-970a-0fbb2835e8a9",
   "metadata": {},
   "outputs": [
    {
     "data": {
      "text/plain": [
       "<mInvestment.NestedCES at 0x23e4fc7d290>"
      ]
     },
     "execution_count": 12,
     "metadata": {},
     "output_type": "execute_result"
    }
   ],
   "source": [
    "M.addInvestmentModule(nest, partial = True, mtype = 'NestedCES')"
   ]
  },
  {
   "cell_type": "markdown",
   "id": "0284f800-71ea-480a-b8a2-698975885394",
   "metadata": {},
   "source": [
    "### 1.2. Households"
   ]
  },
  {
   "cell_type": "markdown",
   "id": "37ebc22c-185e-4638-ba50-4567cc47b765",
   "metadata": {},
   "source": [
    "*Nesting tree:*"
   ]
  },
  {
   "cell_type": "code",
   "execution_count": 13,
   "id": "115deb7f-c110-43a5-9e89-ffd2a9276733",
   "metadata": {},
   "outputs": [
    {
     "data": {
      "text/plain": [
       "<gmsPython.nestingTree.nestingTree.AggTree at 0x23e4fcb11d0>"
      ]
     },
     "execution_count": 13,
     "metadata": {},
     "output_type": "execute_result"
    }
   ],
   "source": [
    "cesNest = nestingTree.Tree('HH', tree = db('nestHH').to_list(), f = 'CES')\n",
    "nest = nestingTree.AggTree(name = 'HH', trees = {t.name: t for t in [cesNest]}, ws = ws)\n",
    "nest(namespace = {str(n)+'_input': n for n in db('n')})"
   ]
  },
  {
   "cell_type": "markdown",
   "id": "6fbd188b-20a0-4e0f-b42c-8a69b391231e",
   "metadata": {},
   "source": [
    "Value shares:"
   ]
  },
  {
   "cell_type": "code",
   "execution_count": 14,
   "id": "3fcb1769-af83-440f-94ee-e61735c0ea0d",
   "metadata": {},
   "outputs": [],
   "source": [
    "v = nestedShares_noOutputs(nest, ws = ws)\n",
    "db_vs = v(dbIO) # one-liner that returns solution database"
   ]
  },
  {
   "cell_type": "markdown",
   "id": "2210b0cb-28c2-4f93-985f-16c320b098ff",
   "metadata": {},
   "source": [
    "Add to main database:"
   ]
  },
  {
   "cell_type": "code",
   "execution_count": 15,
   "id": "12b77d90-9501-429d-9857-db4367a11c98",
   "metadata": {},
   "outputs": [],
   "source": [
    "db.aom(db_vs('mu').xs(t0), name = 'mu') \n",
    "db.aom(adj.rc_pd(db_vs('vD'), nest.get('int').union(nest.get('output'))).rename('qD'), name = 'qD', priority = 'first') # specify intermediate goods levels"
   ]
  },
  {
   "cell_type": "markdown",
   "id": "848f3fa8-3ada-4ce5-9a21-883c7e9d4b9a",
   "metadata": {},
   "source": [
    "Add as consumer module:"
   ]
  },
  {
   "cell_type": "code",
   "execution_count": 16,
   "id": "25dcec27-0476-4b0d-ac85-e6ad5519b4bc",
   "metadata": {},
   "outputs": [
    {
     "data": {
      "text/plain": [
       "<mHousehold.RamseyIdxFund at 0x23e4fcf3890>"
      ]
     },
     "execution_count": 16,
     "metadata": {},
     "output_type": "execute_result"
    }
   ],
   "source": [
    "M.addConsumerModule(nest, L2C = db('L2C'), partial = True, mtype = 'RamseyIdxFund', targetvA0 = False,\n",
    "                    initFromGms = 'init_CRRA_GHH_Static') # use steady state methods to get initial values"
   ]
  },
  {
   "cell_type": "markdown",
   "id": "164f50c2-4cec-4bc7-bb61-2aee6bcac189",
   "metadata": {},
   "source": [
    "### 1.3. Government"
   ]
  },
  {
   "cell_type": "markdown",
   "id": "99e3b693-2075-4f0a-aa66-a18dc4b45c54",
   "metadata": {},
   "source": [
    "Nesting tree:"
   ]
  },
  {
   "cell_type": "code",
   "execution_count": 17,
   "id": "05c138d7-1d4d-4a5b-9371-55f970244dfe",
   "metadata": {},
   "outputs": [
    {
     "data": {
      "text/plain": [
       "<gmsPython.nestingTree.nestingTree.AggTree at 0x23e49c291d0>"
      ]
     },
     "execution_count": 17,
     "metadata": {},
     "output_type": "execute_result"
    }
   ],
   "source": [
    "cesNest = nestingTree.Tree('G', tree = db('nestG').to_list(), f = 'CES')\n",
    "nest = nestingTree.AggTree(name = 'G', trees = {t.name: t for t in [cesNest]}, ws = ws)\n",
    "nest(namespace = {str(n)+'_input': n for n in db('n')})"
   ]
  },
  {
   "cell_type": "markdown",
   "id": "1f2e6cb7-9378-4cfb-a77d-809ebb9d7c3a",
   "metadata": {},
   "source": [
    "Value shares:"
   ]
  },
  {
   "cell_type": "code",
   "execution_count": 18,
   "id": "7272dddf-dff3-4ed1-b87d-2cd62afe113e",
   "metadata": {},
   "outputs": [],
   "source": [
    "v = nestedShares_noOutputs(nest, ws = ws)\n",
    "db_vs = v(dbIO)"
   ]
  },
  {
   "cell_type": "markdown",
   "id": "771818aa-eae8-43e7-ab39-78ba785deb08",
   "metadata": {},
   "source": [
    "Add to main database:"
   ]
  },
  {
   "cell_type": "code",
   "execution_count": 19,
   "id": "801c86f5-bca8-468c-a6a1-a635132a37f9",
   "metadata": {},
   "outputs": [],
   "source": [
    "db.aom(db_vs('mu').xs(t0), name = 'mu') \n",
    "db.aom(adj.rc_pd(db_vs('vD'), nest.get('int').union(nest.get('output'))).rename('qD'), name = 'qD', priority = 'first') # specify intermediate goods levels"
   ]
  },
  {
   "cell_type": "markdown",
   "id": "d976bcb0-362b-40d0-b876-cb905e2aae43",
   "metadata": {},
   "source": [
    "Add module:"
   ]
  },
  {
   "cell_type": "code",
   "execution_count": 20,
   "id": "fd407717-ece8-4b01-8ce8-83774f2d1873",
   "metadata": {
    "scrolled": true
   },
   "outputs": [
    {
     "data": {
      "text/plain": [
       "<mGovernment.BalancedBudget at 0x23e50074990>"
      ]
     },
     "execution_count": 20,
     "metadata": {},
     "output_type": "execute_result"
    }
   ],
   "source": [
    "M.addGovernmentModule(nest, L = db('L2C').droplevel('nn').unique())"
   ]
  },
  {
   "cell_type": "markdown",
   "id": "7f384b78-5472-4bbc-8797-cdbb7e665b02",
   "metadata": {},
   "source": [
    "### 1.4. Simple modules:"
   ]
  },
  {
   "cell_type": "code",
   "execution_count": 21,
   "id": "7e471d57-e689-4f37-bbdb-9cb58b410ba0",
   "metadata": {},
   "outputs": [
    {
     "data": {
      "text/plain": [
       "<mCGE.SimulateEV at 0x23e5011c090>"
      ]
     },
     "execution_count": 21,
     "metadata": {},
     "output_type": "execute_result"
    }
   ],
   "source": [
    "# M.addInventoryModule('Itory')\n",
    "M.addTradeModule('T', partial = True)\n",
    "M.addEmissionsModule('M', partial = True, mtype = 'EmRegSimpleEOP');\n",
    "M.compiler.locals['techType'] = \"'normal'\"\n",
    "M.addOptWelfareModule('W')\n",
    "M.addSimulateEVModule('EV')"
   ]
  },
  {
   "cell_type": "markdown",
   "id": "067dad54-4298-4228-9a70-d443713f7407",
   "metadata": {},
   "source": [
    "## 2. Small stuff"
   ]
  },
  {
   "cell_type": "markdown",
   "id": "952586b0-8a20-406e-8b10-f292d842f31a",
   "metadata": {},
   "source": [
    "*Clean up database a bit (this is not necessary, but it removes some variables that are not ultimately used in the model):*"
   ]
  },
  {
   "cell_type": "code",
   "execution_count": 22,
   "id": "460aa9fb-5e67-43c1-b3de-4fb5005f0419",
   "metadata": {},
   "outputs": [],
   "source": [
    "[db.series.__delitem__(k) for k in ('vD','vTax', 'vD_dur','vD_depr','vD_inv', 'vS', 'pD_dur') if k in db.symbols];"
   ]
  },
  {
   "cell_type": "markdown",
   "id": "9aefd49e-449c-489a-9047-3dbf3c987d5d",
   "metadata": {},
   "source": [
    "For variables that are defined over $t$, but where we do not yet have an initial value for all $t$, extrapolate from data:\n",
    "\n",
    "*Note: This forces extrapolation of all variables defined over $t$ - if it is important that some variables are not extrapolated, they should be removed from this statement.*"
   ]
  },
  {
   "cell_type": "code",
   "execution_count": 23,
   "id": "33680932-1b11-4ca5-9b3e-8aaedf4585f5",
   "metadata": {},
   "outputs": [],
   "source": [
    "[symbol.__setattr__('vals', extrapolateUpper(symbol.vals, db('tE')[0])) for symbol in [db[k] for k in db.varDom('t')['t']]];"
   ]
  },
  {
   "cell_type": "markdown",
   "id": "aa190a75-7a5f-4432-9838-7ad7d27068a7",
   "metadata": {},
   "source": [
    "Merge internally, i.e. write a gdx file from the Python database:"
   ]
  },
  {
   "cell_type": "code",
   "execution_count": 24,
   "id": "aba28ad8-4b11-4719-b668-eb354737a9d2",
   "metadata": {},
   "outputs": [],
   "source": [
    "db.mergeInternal()"
   ]
  },
  {
   "cell_type": "markdown",
   "id": "fb9df9c3-0790-450f-8028-59311287768c",
   "metadata": {},
   "source": [
    "## 3. Solve and store"
   ]
  },
  {
   "cell_type": "markdown",
   "id": "a5622d9d-81a9-43fa-a5ba-408606ea196c",
   "metadata": {},
   "source": [
    "Solve model without equilibrium condition:"
   ]
  },
  {
   "cell_type": "code",
   "execution_count": 25,
   "id": "1c3c7194-ab55-4798-954e-d33443ae4958",
   "metadata": {},
   "outputs": [],
   "source": [
    "solvePartial = M.jSolve(10, state = 'C')"
   ]
  },
  {
   "cell_type": "markdown",
   "id": "2584bbc9-1bdb-4f36-b50c-79c4d36f7555",
   "metadata": {},
   "source": [
    "Add solution to main database, remove init methods (we want to use this solution as initial value):"
   ]
  },
  {
   "cell_type": "code",
   "execution_count": 26,
   "id": "8cb37da5-d4ca-45d2-a513-58411e3a7344",
   "metadata": {},
   "outputs": [],
   "source": [
    "[M.db.__setitem__(k, solvePartial[k]) for k in M.db.getTypes(['var']) if k in solvePartial.symbols]; # use solution database\n",
    "M.db.mergeInternal()\n",
    "[setattr(m, 'initFromGms', None) for m in M.m.values()];"
   ]
  },
  {
   "cell_type": "markdown",
   "id": "dcb1a89f-0ea1-458f-8ec3-25becafb769c",
   "metadata": {},
   "source": [
    "*Add new modules and resolve*"
   ]
  },
  {
   "cell_type": "code",
   "execution_count": 27,
   "id": "d8bfd9f3-e125-4a91-b4f2-4b521a042dfd",
   "metadata": {},
   "outputs": [],
   "source": [
    "M.addIndexFundModule('IdxFund', s_idxFund = 's_p', initFromGms = True)\n",
    "M.addEquilibriumModule('Equi')\n",
    "fullSol = M.jSolve(10, state = 'C')"
   ]
  },
  {
   "cell_type": "markdown",
   "id": "0f995dfa-2c79-4a25-8a0f-bec085e02e77",
   "metadata": {},
   "source": [
    "Remove final local init methods and add solution to main database:"
   ]
  },
  {
   "cell_type": "code",
   "execution_count": 28,
   "id": "9903b9e4-e15c-472c-9ccc-5f6bd9105611",
   "metadata": {},
   "outputs": [],
   "source": [
    "[M.db.__setitem__(k, fullSol[k]) for k in M.db.getTypes(['var']) if k in fullSol.symbols]; # use solution database\n",
    "M.db.mergeInternal()\n",
    "[setattr(m, 'initFromGms', None) for m in M.m.values()];"
   ]
  },
  {
   "cell_type": "markdown",
   "id": "4dca86ea-82e1-457b-9075-001715c03d49",
   "metadata": {},
   "source": [
    "## 4. Save/export"
   ]
  },
  {
   "cell_type": "code",
   "execution_count": 29,
   "id": "51b0bf0d-5cce-43fa-a17a-cf593942ee3b",
   "metadata": {},
   "outputs": [],
   "source": [
    "M.db.data_folder = d['data']"
   ]
  },
  {
   "cell_type": "markdown",
   "id": "5350b943-3473-49fe-a869-49c274a04b5f",
   "metadata": {},
   "source": [
    "We can save/export the model in a few different ways:\n",
    "1. Save model instance: The model class ```Model``` (parent class of the CGE class) is pickleable, meaning that we can save/load the class with Python's ```pickle``` class.\n",
    "2. Store solution: It takes no time to re-initialize the ```Model``` class, so we can also simply store the solution database and - when needed - initialize the model class again.\n",
    "3. Store GAMS code and solution: This option allows us to remove the model from the python class ```Model``` and instead treat it as a conventional GAMS program."
   ]
  },
  {
   "cell_type": "markdown",
   "id": "d6d8baad-1a39-4131-988a-c692110be41a",
   "metadata": {},
   "source": [
    "*Store model instance or database with pickle:*"
   ]
  },
  {
   "cell_type": "code",
   "execution_count": 30,
   "id": "21d79b21-7aac-4137-8f52-beabcee158c9",
   "metadata": {},
   "outputs": [],
   "source": [
    "M.export(repo = M.data_folder, name = M.name) # store the entire class - these are the default options by the way \n",
    "M.db.export(repo = M.db.data_folder, name = M.db.name) # store the solution database"
   ]
  }
 ],
 "metadata": {
  "kernelspec": {
   "display_name": "Python 3 (ipykernel)",
   "language": "python",
   "name": "python3"
  },
  "language_info": {
   "codemirror_mode": {
    "name": "ipython",
    "version": 3
   },
   "file_extension": ".py",
   "mimetype": "text/x-python",
   "name": "python",
   "nbconvert_exporter": "python",
   "pygments_lexer": "ipython3",
   "version": "3.11.8"
  }
 },
 "nbformat": 4,
 "nbformat_minor": 5
}
