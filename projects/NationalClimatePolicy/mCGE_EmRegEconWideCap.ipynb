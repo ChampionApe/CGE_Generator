{
 "cells": [
  {
   "cell_type": "code",
   "execution_count": 1,
   "id": "87518c5c-0e9e-4b19-81bf-c021fa2a9dfa",
   "metadata": {},
   "outputs": [
    {
     "name": "stdout",
     "output_type": "stream",
     "text": [
      "The file _gams_py_gdb0.gdx is still active and was not deleted.\n",
      "The file _gams_py_gdb3.gdx is still active and was not deleted.\n",
      "The file _gams_py_gdb4.gdx is still active and was not deleted.\n",
      "The file _gams_py_gdb5.gdx is still active and was not deleted.\n"
     ]
    }
   ],
   "source": [
    "clean_up = True # if True, remove all gams related files from working folder before starting\n",
    "%run stdPackages.ipynb\n",
    "os.chdir(main)\n",
    "%run stdPlotting.ipynb\n",
    "os.chdir(d['py'])\n",
    "from gmsPython import nestingTree\n",
    "from valueShares import nestedShares_noOutputs, nestedShares\n",
    "from mCGE import NCP_CGE as CGE"
   ]
  },
  {
   "cell_type": "markdown",
   "id": "df093412-a548-43c7-b84d-d6afb8d67bda",
   "metadata": {},
   "source": [
    "# CGE model"
   ]
  },
  {
   "cell_type": "markdown",
   "id": "cd8d2c9a-c2bb-41d9-960c-a2a321221ee9",
   "metadata": {},
   "source": [
    "**The model version with simple EOP abatement module without emission regulation.**"
   ]
  },
  {
   "cell_type": "markdown",
   "id": "f9172121-a286-48bc-ac7a-c867deff4596",
   "metadata": {},
   "source": [
    "*Load data:*"
   ]
  },
  {
   "cell_type": "code",
   "execution_count": 2,
   "id": "9ac959f4-5ecb-483b-9c82-ba8c05e2c27f",
   "metadata": {},
   "outputs": [],
   "source": [
    "t0 = 2019 # set baseline year\n",
    "name = 'vLarge' # specify name of the CGE version we are currently working on\n",
    "db = GpyDB(os.path.join(d['data'], f'{name}_{t0}'), name = '_'.join([name, str(t0), 'EmRegEconWideCapital']), ws = d['work']) # load and rename database \n",
    "dbIO = db.copy() # create copy without adjustments made along the way\n",
    "ws = db.ws # run everything from the same ws"
   ]
  },
  {
   "cell_type": "markdown",
   "id": "fcb42d34-87aa-48c0-b9b6-5f5aa73c325f",
   "metadata": {},
   "source": [
    "Initialize model:"
   ]
  },
  {
   "cell_type": "code",
   "execution_count": 3,
   "id": "7a6e0318-0818-4696-92c1-48640fcf99e7",
   "metadata": {},
   "outputs": [],
   "source": [
    "M = CGE('_'.join([name, str(t0), 'CGE','EmRegEconWideCapital']), database = db)\n",
    "# M.db['rDepr'] = M.steadyStateDepr() # use this to adjust depreciation rates to get steady state investments in baseline year"
   ]
  },
  {
   "cell_type": "markdown",
   "id": "4597b3e8-7e9a-46a5-9f6d-6f3da19af473",
   "metadata": {},
   "source": [
    "Add approximate value of index fund for now:"
   ]
  },
  {
   "cell_type": "code",
   "execution_count": 4,
   "id": "c4e7d4de-3bca-4784-9624-8d90e91fc364",
   "metadata": {},
   "outputs": [],
   "source": [
    "db['vIdxFund'] = pd.Series(11000, index = db('t0'))"
   ]
  },
  {
   "cell_type": "markdown",
   "id": "5574742f-3dd6-480b-b767-5ab85c35da67",
   "metadata": {},
   "source": [
    "## 1. Adding modules:"
   ]
  },
  {
   "cell_type": "markdown",
   "id": "e57022f7-9308-4651-ad67-251fae6dc510",
   "metadata": {},
   "source": [
    "### 1.1. Production"
   ]
  },
  {
   "cell_type": "markdown",
   "id": "f23d001b-c2cf-402e-8ec4-d61d623b5c25",
   "metadata": {},
   "source": [
    "The production module is initialized with a nesting tree and value shares to identify the $\\mu$-share parameters of the nesting structure."
   ]
  },
  {
   "cell_type": "code",
   "execution_count": 5,
   "id": "c359d37b-0da1-481a-af68-df256fa28167",
   "metadata": {},
   "outputs": [
    {
     "data": {
      "text/plain": [
       "<gmsPython.nestingTree.nestingTree.AggTree at 0x2b325f6dc90>"
      ]
     },
     "execution_count": 5,
     "metadata": {},
     "output_type": "execute_result"
    }
   ],
   "source": [
    "nest = nestingTree.Tree('P', tree = db('nestProduction').to_list(), f = 'CES')\n",
    "nestAgg = nestingTree.AggTree(name = 'P', trees = {t.name: t for t in [nest]}, ws = ws)\n",
    "nestAgg(namespace = {str(n)+'_input':n for n in db('n')})"
   ]
  },
  {
   "cell_type": "code",
   "execution_count": 6,
   "id": "2e372df6-6424-4616-8b82-a554cbc6dc34",
   "metadata": {},
   "outputs": [],
   "source": [
    "v = nestedShares(nestAgg, ws = ws)\n",
    "db_p = v(dbIO)"
   ]
  },
  {
   "cell_type": "markdown",
   "id": "115968e9-d212-45bc-923c-4e3a878d4c25",
   "metadata": {},
   "source": [
    "Use share parameters and values to get initial values for intermediates:"
   ]
  },
  {
   "cell_type": "code",
   "execution_count": 7,
   "id": "1913b0cf-1270-4104-96e0-293ae51b770e",
   "metadata": {},
   "outputs": [],
   "source": [
    "db.aom(db_p('mu').xs(t0), name = 'mu')\n",
    "db.aom(adj.rc_pd(db_p('vD'), nest.get('int')).rename('qD'), name = 'qD', priority = 'first') # specify intermediate goods levels"
   ]
  },
  {
   "cell_type": "markdown",
   "id": "ba3f4d2e-d183-42f2-bb09-60f3608afc59",
   "metadata": {},
   "source": [
    "Use static user cost as initial guess for price on durables (if no other has been provided):"
   ]
  },
  {
   "cell_type": "code",
   "execution_count": 8,
   "id": "615fddbf-7df9-4ccb-a21c-0def2139d53c",
   "metadata": {},
   "outputs": [],
   "source": [
    "db.aom(db('pD_dur'), name = 'pD', priority = 'first') # pD_dur includes an estimate of the long-run user-cost of capital"
   ]
  },
  {
   "cell_type": "markdown",
   "id": "f523b6f2-b84e-47a5-921b-1a174d1d5e4c",
   "metadata": {},
   "source": [
    "Next, we initialize the production module:"
   ]
  },
  {
   "cell_type": "code",
   "execution_count": 9,
   "id": "f32dcc76-1c4f-4dfd-a64b-0ca5b20e82e3",
   "metadata": {
    "scrolled": true
   },
   "outputs": [
    {
     "data": {
      "text/plain": [
       "<mProduction.NestedCES_PC at 0x2b3260891d0>"
      ]
     },
     "execution_count": 9,
     "metadata": {},
     "output_type": "execute_result"
    }
   ],
   "source": [
    "M.addProductionModule(nestAgg, partial = True, mtype = 'NestedCES_PC',initFromGms = 'initFirmValue', taxInstr = 'tauLump')"
   ]
  },
  {
   "cell_type": "markdown",
   "id": "66ea2276-5473-4fd1-b1a4-d26dde2a885b",
   "metadata": {},
   "source": [
    "### 1.2. Investment module"
   ]
  },
  {
   "cell_type": "markdown",
   "id": "7cbf2fbb-4107-44cb-bf50-0d10e3eac7ef",
   "metadata": {},
   "source": [
    "Similar to production module, but without accumulation of durables:"
   ]
  },
  {
   "cell_type": "code",
   "execution_count": 10,
   "id": "aa0214d2-8b36-4a03-86e8-7d6245b3fe61",
   "metadata": {},
   "outputs": [
    {
     "data": {
      "text/plain": [
       "<gmsPython.nestingTree.nestingTree.AggTree at 0x2b325f6db50>"
      ]
     },
     "execution_count": 10,
     "metadata": {},
     "output_type": "execute_result"
    }
   ],
   "source": [
    "nest = nestingTree.AggTree(name = 'I', trees = {'I': nestingTree.Tree('I', tree = db('nestInvestment').to_list(), f = 'CES')}, ws = ws)\n",
    "nest(namespace = {str(n)+'_input':n for n in db('n')})"
   ]
  },
  {
   "cell_type": "markdown",
   "id": "e84c6014-e7b4-4f4b-8f79-cbdca78a3605",
   "metadata": {},
   "source": [
    "*Define share parameters:*"
   ]
  },
  {
   "cell_type": "code",
   "execution_count": 11,
   "id": "d071d8ab-7bfe-4a50-af88-168b1e13a4e9",
   "metadata": {},
   "outputs": [],
   "source": [
    "v = nestedShares(nest, ws = ws)\n",
    "db_vs = v(dbIO) "
   ]
  },
  {
   "cell_type": "markdown",
   "id": "8c4beaf1-a6b0-462f-b263-959fbf954e55",
   "metadata": {},
   "source": [
    "*Use share parameters and values to get initial values for intermediates:*"
   ]
  },
  {
   "cell_type": "code",
   "execution_count": 12,
   "id": "2a519d1e-2776-45e9-bec8-204e66a704da",
   "metadata": {},
   "outputs": [],
   "source": [
    "db.aom(db_vs('mu').xs(t0), name = 'mu') \n",
    "db.aom(adj.rc_pd(db_vs('vD'), nest.get('int')).rename('qD'), name = 'qD', priority = 'first') # specify intermediate goods levels"
   ]
  },
  {
   "cell_type": "markdown",
   "id": "1f3f47b4-49d7-405c-8a03-a0f002e735cf",
   "metadata": {},
   "source": [
    "*Add module as production type to CGE:*"
   ]
  },
  {
   "cell_type": "code",
   "execution_count": 13,
   "id": "71645bd9-9caf-4979-9b5e-e4e9b96324a7",
   "metadata": {},
   "outputs": [
    {
     "data": {
      "text/plain": [
       "<mInvestment.NestedCES_PC at 0x2b32611bc10>"
      ]
     },
     "execution_count": 13,
     "metadata": {},
     "output_type": "execute_result"
    }
   ],
   "source": [
    "M.addInvestmentModule(nest, partial = True, mtype = 'NestedCES_PC')"
   ]
  },
  {
   "cell_type": "markdown",
   "id": "6a5a221a-9dc1-4280-be57-537a65dd47a6",
   "metadata": {},
   "source": [
    "### 1.3. Consumer module"
   ]
  },
  {
   "cell_type": "markdown",
   "id": "f663473b-252e-4297-8c5d-06d748abcf44",
   "metadata": {},
   "source": [
    "*Nesting tree:*"
   ]
  },
  {
   "cell_type": "code",
   "execution_count": 14,
   "id": "bc0af7e7-074c-4c27-b498-41db26bc189a",
   "metadata": {},
   "outputs": [
    {
     "data": {
      "text/plain": [
       "<gmsPython.nestingTree.nestingTree.AggTree at 0x2b326008e10>"
      ]
     },
     "execution_count": 14,
     "metadata": {},
     "output_type": "execute_result"
    }
   ],
   "source": [
    "cesNest = nestingTree.Tree('HH', tree = db('nestHH').to_list(), f = 'CES')\n",
    "nest = nestingTree.AggTree(name = 'HH', trees = {t.name: t for t in [cesNest]}, ws = ws)\n",
    "nest(namespace = {str(n)+'_input': n for n in db('n')})"
   ]
  },
  {
   "cell_type": "markdown",
   "id": "de520c2e-59e9-4ebd-ab9d-3840081a7877",
   "metadata": {},
   "source": [
    "Value shares:"
   ]
  },
  {
   "cell_type": "code",
   "execution_count": 15,
   "id": "42c77393-29a9-41f9-96fa-eb058f1d9f43",
   "metadata": {},
   "outputs": [],
   "source": [
    "v = nestedShares_noOutputs(nest, ws = ws)\n",
    "db_vs = v(dbIO) # one-liner that returns solution database"
   ]
  },
  {
   "cell_type": "markdown",
   "id": "8cbcca78-69e0-4a54-8ae2-7d7528713fc5",
   "metadata": {},
   "source": [
    "Add to main database:"
   ]
  },
  {
   "cell_type": "code",
   "execution_count": 16,
   "id": "e58f94fd-7df3-455b-8be3-3bab8a988702",
   "metadata": {},
   "outputs": [],
   "source": [
    "db.aom(db_vs('mu').xs(t0), name = 'mu') \n",
    "db.aom(adj.rc_pd(db_vs('vD'), nest.get('int').union(nest.get('output'))).rename('qD'), name = 'qD', priority = 'first') # specify intermediate goods levels"
   ]
  },
  {
   "cell_type": "markdown",
   "id": "40576b90-8399-49ac-b93d-e20473bd7dd5",
   "metadata": {},
   "source": [
    "Add as consumer module:"
   ]
  },
  {
   "cell_type": "code",
   "execution_count": 17,
   "id": "78675dea-12b4-493b-8689-f6b8a7b79d69",
   "metadata": {},
   "outputs": [
    {
     "data": {
      "text/plain": [
       "<mHousehold.Ramsey at 0x2b325d62a10>"
      ]
     },
     "execution_count": 17,
     "metadata": {},
     "output_type": "execute_result"
    }
   ],
   "source": [
    "M.addConsumerModule(nest, L2C = db('L2C'), partial = True, mtype = 'Ramsey', initFromGms = 'init_CRRA_GHH_ss') # use steady state methods to get initial values"
   ]
  },
  {
   "cell_type": "markdown",
   "id": "3cb2dd77-5855-494a-bb04-88f3b3720e98",
   "metadata": {},
   "source": [
    "### 1.4. Government sector"
   ]
  },
  {
   "cell_type": "markdown",
   "id": "26dd65fd-3d18-4ad1-ab2a-f8d67fc3365c",
   "metadata": {},
   "source": [
    "Nesting tree:"
   ]
  },
  {
   "cell_type": "code",
   "execution_count": 18,
   "id": "a48db2ee-2fa1-4a78-a1f6-608e8690e319",
   "metadata": {},
   "outputs": [
    {
     "data": {
      "text/plain": [
       "<gmsPython.nestingTree.nestingTree.AggTree at 0x2b326126b90>"
      ]
     },
     "execution_count": 18,
     "metadata": {},
     "output_type": "execute_result"
    }
   ],
   "source": [
    "cesNest = nestingTree.Tree('G', tree = db('nestG').to_list(), f = 'CES')\n",
    "nest = nestingTree.AggTree(name = 'G', trees = {t.name: t for t in [cesNest]}, ws = ws)\n",
    "nest(namespace = {str(n)+'_input': n for n in db('n')})"
   ]
  },
  {
   "cell_type": "markdown",
   "id": "035deaed-0777-40f3-b713-32aa9d120998",
   "metadata": {},
   "source": [
    "Value shares:"
   ]
  },
  {
   "cell_type": "code",
   "execution_count": 19,
   "id": "e10c1be6-f9ac-4a40-816e-451ffffb30cd",
   "metadata": {},
   "outputs": [],
   "source": [
    "v = nestedShares_noOutputs(nest, ws = ws)\n",
    "db_vs = v(dbIO)"
   ]
  },
  {
   "cell_type": "markdown",
   "id": "f3335dc5-87f2-45e9-8cf5-d5f4f96fbf3d",
   "metadata": {},
   "source": [
    "Add to main database:"
   ]
  },
  {
   "cell_type": "code",
   "execution_count": 20,
   "id": "1bd03e1b-ee54-4c8c-ad4e-bb2ddbdcddbb",
   "metadata": {},
   "outputs": [],
   "source": [
    "db.aom(db_vs('mu').xs(t0), name = 'mu') \n",
    "db.aom(adj.rc_pd(db_vs('vD'), nest.get('int').union(nest.get('output'))).rename('qD'), name = 'qD', priority = 'first') # specify intermediate goods levels"
   ]
  },
  {
   "cell_type": "markdown",
   "id": "d354fe1a-686b-4dca-b022-955adae866dd",
   "metadata": {},
   "source": [
    "Add module:"
   ]
  },
  {
   "cell_type": "code",
   "execution_count": 21,
   "id": "3b5351f9-51bb-4f74-ad4c-33cc542e6451",
   "metadata": {
    "scrolled": true
   },
   "outputs": [
    {
     "data": {
      "text/plain": [
       "<mGovernment.BalancedBudget at 0x2b3241aac10>"
      ]
     },
     "execution_count": 21,
     "metadata": {},
     "output_type": "execute_result"
    }
   ],
   "source": [
    "M.addGovernmentModule(nest, L = db('L2C').droplevel('nn').unique())"
   ]
  },
  {
   "cell_type": "markdown",
   "id": "505975f8-5e8d-4477-bd43-926d372ef66e",
   "metadata": {},
   "source": [
    "### 1.5. Simple modules"
   ]
  },
  {
   "cell_type": "markdown",
   "id": "174afcb1-73b9-45db-b6ef-25f696f28ac7",
   "metadata": {},
   "source": [
    "**Inventory investments** are added. Here, we use a simple AR(1) process (default parameter = 1) as we mostly include this for completeness:"
   ]
  },
  {
   "cell_type": "code",
   "execution_count": 22,
   "id": "8ff5f47f-3a65-4491-9a31-fb6d1809f200",
   "metadata": {},
   "outputs": [
    {
     "data": {
      "text/plain": [
       "<mInventory.AR at 0x2b3260c9250>"
      ]
     },
     "execution_count": 22,
     "metadata": {},
     "output_type": "execute_result"
    }
   ],
   "source": [
    "M.addInventoryModule('Itory')"
   ]
  },
  {
   "cell_type": "markdown",
   "id": "48b9f83c-4f6a-4cdd-876f-c5ff8694959d",
   "metadata": {},
   "source": [
    "The **trade module** is a simple Armington module that only requires information already established in the IO database. Specifically, the module draws on the subset ```dExport[s,n]``` to establish what sector, goods combinations are covered by the trade module. If we want to only use this module to cover a subset of this (maybe trade should be modelled in a different way than Armington), we simply pass a new subset to the init method:"
   ]
  },
  {
   "cell_type": "code",
   "execution_count": 23,
   "id": "dae749c4-2caf-4e8c-acd6-4449116adc21",
   "metadata": {},
   "outputs": [
    {
     "data": {
      "text/plain": [
       "<mTrade.Armington at 0x2b325f85150>"
      ]
     },
     "execution_count": 23,
     "metadata": {},
     "output_type": "execute_result"
    }
   ],
   "source": [
    "M.addTradeModule('T', partial = True)\n",
    "# M.addTradeModule('T', dExport = db('dExport')[0:2]) # syntax used if we want to specify that the module should only cover part of the full trade IO"
   ]
  },
  {
   "cell_type": "markdown",
   "id": "c1af7e82-c7c7-4bc3-a5a1-22afc620e29f",
   "metadata": {},
   "source": [
    "## 2. Small stuff"
   ]
  },
  {
   "cell_type": "markdown",
   "id": "707d7e5b-04fa-41d9-ab5a-a8cac8950568",
   "metadata": {},
   "source": [
    "*Clean up database a bit (this is not necessary, but it removes some variables that are not ultimately used in the model):*"
   ]
  },
  {
   "cell_type": "code",
   "execution_count": 24,
   "id": "eb17dddb-b5ef-416a-9118-4be8d0932323",
   "metadata": {},
   "outputs": [],
   "source": [
    "[db.series.__delitem__(k) for k in ('vD','vTax', 'vD_dur','vD_depr','vD_inv', 'vS', 'pD_dur') if k in db.symbols];"
   ]
  },
  {
   "cell_type": "markdown",
   "id": "9b3af5ef-723e-47a1-b327-d1d1df043956",
   "metadata": {},
   "source": [
    "For variables that are defined over $t$, but where we do not yet have an initial value for all $t$, extrapolate from data:\n",
    "\n",
    "*Note: This forces extrapolation of all variables defined over $t$ - if it is important that some variables are not extrapolated, they should be removed from this statement.*"
   ]
  },
  {
   "cell_type": "code",
   "execution_count": 25,
   "id": "f1368b98-e147-4b4b-a05c-e242118b5e99",
   "metadata": {},
   "outputs": [],
   "source": [
    "[symbol.__setattr__('vals', extrapolateUpper(symbol.vals, db('tE')[0])) for symbol in [db[k] for k in db.varDom('t')['t']]];"
   ]
  },
  {
   "cell_type": "markdown",
   "id": "63fc6314-8804-43e5-bc6e-f267a1ffe99d",
   "metadata": {},
   "source": [
    "Merge internally, i.e. write a gdx file from the Python database:"
   ]
  },
  {
   "cell_type": "code",
   "execution_count": 26,
   "id": "bd50d764-3ceb-4d96-bf2b-0489acc89fc4",
   "metadata": {},
   "outputs": [],
   "source": [
    "db.mergeInternal()"
   ]
  },
  {
   "cell_type": "markdown",
   "id": "8b0e4db5-9330-434f-8f74-6ed22ca2c71a",
   "metadata": {},
   "source": [
    "## 3. Solve"
   ]
  },
  {
   "cell_type": "markdown",
   "id": "4dd97c37-5c32-41eb-9987-ef6ddf480ec6",
   "metadata": {},
   "source": [
    "Calibrate the model without abatement module or equilibrium constraints (jSolve method automatically uses all modules that are added so far):"
   ]
  },
  {
   "cell_type": "code",
   "execution_count": 27,
   "id": "2ea96064-f9a2-4640-a745-6478448b2f27",
   "metadata": {},
   "outputs": [],
   "source": [
    "soldb = M.jSolve(10, state = 'C', ϕ = 1) # solve calibration model with 10 steps and nonlinear grid (ϕ<1 means that adjustments to jTerms start large and then decrease)"
   ]
  },
  {
   "cell_type": "markdown",
   "id": "1c225013-acad-49ed-b520-a801c0214eaf",
   "metadata": {},
   "source": [
    "Write solution to the main database again:"
   ]
  },
  {
   "cell_type": "code",
   "execution_count": 28,
   "id": "3c3f8de5-f0f9-4825-84a4-80cd72b318a8",
   "metadata": {},
   "outputs": [],
   "source": [
    "[M.db.__setitem__(k, soldb[k]) for k in M.db.getTypes(['var']) if k in soldb.symbols]; # use solution database\n",
    "M.db.mergeInternal()"
   ]
  },
  {
   "cell_type": "markdown",
   "id": "ac53b04c-2318-413a-808e-8ba42f63268a",
   "metadata": {},
   "source": [
    "Remove local init methods (if they have any; so far, only household + emisisons module uses this):"
   ]
  },
  {
   "cell_type": "code",
   "execution_count": 29,
   "id": "c86cab65-2111-4d3d-967e-6f4f7e41b1d4",
   "metadata": {},
   "outputs": [],
   "source": [
    "[setattr(m, 'initFromGms', None) for m in M.m.values()];"
   ]
  },
  {
   "cell_type": "markdown",
   "id": "d31f8385-e8c5-4c36-8585-c9c56fe12cf2",
   "metadata": {},
   "source": [
    "Add emissions/abatement and equilibrium modules:"
   ]
  },
  {
   "cell_type": "code",
   "execution_count": 30,
   "id": "4afb34b2-a24d-4c6b-b0d9-656020461ff0",
   "metadata": {},
   "outputs": [
    {
     "data": {
      "text/plain": [
       "<mEmissions.EmRegEOP_EconWideCapital at 0x2b325f6c5d0>"
      ]
     },
     "execution_count": 30,
     "metadata": {},
     "output_type": "execute_result"
    }
   ],
   "source": [
    "M.regulation = 'SYT_HR'\n",
    "M.addEmissionsModule('M', partial = True, mtype = 'EmRegEOP_EconWideCapital', initFromGms = True)"
   ]
  },
  {
   "cell_type": "markdown",
   "id": "680bb3c4-ee47-4cfc-9842-6e1af3bb02d9",
   "metadata": {},
   "source": [
    "We set the technology type to normalMult and add this to the compiler:"
   ]
  },
  {
   "cell_type": "code",
   "execution_count": 31,
   "id": "2748968a-8abc-4019-8492-52b79e157ef0",
   "metadata": {},
   "outputs": [],
   "source": [
    "M.compiler.locals['techType'] = \"'normalMult'\""
   ]
  },
  {
   "cell_type": "markdown",
   "id": "1c4cd1bd-f74b-426c-bc3e-3a9035e3c3c9",
   "metadata": {},
   "source": [
    "With the multiplicative structure, we need to rescale the smoothing parameters used in the technology module. The initData method sets these to some initial values that are a fraction of the CO2 taxes (to get the scale right). However, these are customized for the case of the techtype \"normal\". Here, we simply rescale them to get an identical level of smoothing for the multiplicative case:"
   ]
  },
  {
   "cell_type": "code",
   "execution_count": 32,
   "id": "6c6ea110-c241-41c3-85de-65ee7782392d",
   "metadata": {},
   "outputs": [],
   "source": [
    "# Only run this cell once - otherwise we change scale multiple times:\n",
    "M.db['techSmooth'] = 2* M.db('techSmooth') / M.db('techCost')\n",
    "M.db['DACSmooth']  = 2* M.db('DACSmooth') / M.db('DACCost')"
   ]
  },
  {
   "cell_type": "markdown",
   "id": "ee70f38b-21fc-4e48-8f38-a3f956c9e25a",
   "metadata": {},
   "source": [
    "Add changes to the underlying GDX file:"
   ]
  },
  {
   "cell_type": "code",
   "execution_count": 33,
   "id": "2a81a2b5-2a25-4f45-a83d-3dc5a0aa93e0",
   "metadata": {},
   "outputs": [],
   "source": [
    "M.db.mergeInternal()"
   ]
  },
  {
   "cell_type": "markdown",
   "id": "d90d01fa-b04c-4ba1-9ba8-d2ac04414793",
   "metadata": {},
   "source": [
    "Add equilibrium module and solve:"
   ]
  },
  {
   "cell_type": "code",
   "execution_count": 34,
   "id": "fa3de67c-08af-4aae-87f7-6cf8aa5b5b54",
   "metadata": {},
   "outputs": [
    {
     "name": "stderr",
     "output_type": "stream",
     "text": [
      "C:\\Users\\sxj477\\Anaconda3\\envs\\GAMS46\\Lib\\site-packages\\pyDatabases\\gpyDB\\database.py:525: FutureWarning: The behavior of array concatenation with empty entries is deprecated. In a future version, this will no longer exclude empty items when determining the result dtype. To retain the old behavior, exclude the empty entries before the concat operation.\n",
      "  return ss.combine_first(s)\n"
     ]
    }
   ],
   "source": [
    "M.addEquilibriumModule('Equi')\n",
    "fullSol = M.jSolve(25, state = 'C')"
   ]
  },
  {
   "cell_type": "markdown",
   "id": "2e4e605d-42c4-4e8d-a927-d4f7ad2a8d3e",
   "metadata": {},
   "source": [
    "Add full solution to baseline model database:"
   ]
  },
  {
   "cell_type": "code",
   "execution_count": 35,
   "id": "ca0318de-0163-49fb-9674-139630530ee1",
   "metadata": {},
   "outputs": [],
   "source": [
    "[M.db.__setitem__(k, fullSol[k]) for k in M.db.getTypes(['var']) if k in fullSol.symbols]; # use solution database\n",
    "M.db.mergeInternal()"
   ]
  },
  {
   "cell_type": "markdown",
   "id": "0c33c009-e358-4688-9622-fd2c5118c5f5",
   "metadata": {},
   "source": [
    "## 4. Save/export"
   ]
  },
  {
   "cell_type": "code",
   "execution_count": 36,
   "id": "59cf9eec-5b7a-4a79-9a45-4a6692ee5a3b",
   "metadata": {},
   "outputs": [],
   "source": [
    "M.db.data_folder = d['data']"
   ]
  },
  {
   "cell_type": "markdown",
   "id": "709bf098-9cd6-4757-9468-893894f8cf00",
   "metadata": {},
   "source": [
    "We can save/export the model in a few different ways:\n",
    "1. Save model instance: The model class ```Model``` (parent class of the CGE class) is pickleable, meaning that we can save/load the class with Python's ```pickle``` class.\n",
    "2. Store solution: It takes no time to re-initialize the ```Model``` class, so we can also simply store the solution database and - when needed - initialize the model class again.\n",
    "3. Store GAMS code and solution: This option allows us to remove the model from the python class ```Model``` and instead treat it as a conventional GAMS program."
   ]
  },
  {
   "cell_type": "markdown",
   "id": "0c1980ce-d1cf-4118-bea1-2134714652db",
   "metadata": {},
   "source": [
    "*Store model instance or database with pickle:*"
   ]
  },
  {
   "cell_type": "code",
   "execution_count": 37,
   "id": "9e0c1b2f-1de3-48e9-89e4-ad2bf0d3723a",
   "metadata": {},
   "outputs": [],
   "source": [
    "M.export(repo = M.data_folder, name = M.name) # store the entire class - these are the default options by the way \n",
    "M.db.export(repo = M.db.data_folder, name = M.db.name) # store the solution database"
   ]
  },
  {
   "cell_type": "markdown",
   "id": "208b9c55-3df3-449d-bbac-a73e113cae05",
   "metadata": {},
   "source": [
    "*Export gams code and accompanying gdx file:*"
   ]
  },
  {
   "cell_type": "code",
   "execution_count": 38,
   "id": "1ac40d2b-868c-44d6-8dea-be7cee9d1a62",
   "metadata": {},
   "outputs": [],
   "source": [
    "# for state in ('B','C'):\n",
    "#     with open(os.path.join(d['gams'], f'{M.name}_{state}.gms'), \"w\") as file:\n",
    "#         file.write(M.write(state=state))\n",
    "#     with open(os.path.join(d['gams'], f'{M.name}_{state}.gmy'), \"w\") as file:\n",
    "#         file.write(M.write_gamY(state=state))\n",
    "# M.db.database.export(os.path.join(M.db.data_folder, M.db.name))"
   ]
  }
 ],
 "metadata": {
  "kernelspec": {
   "display_name": "Python 3 (ipykernel)",
   "language": "python",
   "name": "python3"
  },
  "language_info": {
   "codemirror_mode": {
    "name": "ipython",
    "version": 3
   },
   "file_extension": ".py",
   "mimetype": "text/x-python",
   "name": "python",
   "nbconvert_exporter": "python",
   "pygments_lexer": "ipython3",
   "version": "3.11.8"
  }
 },
 "nbformat": 4,
 "nbformat_minor": 5
}
