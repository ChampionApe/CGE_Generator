{
 "cells": [
  {
   "cell_type": "code",
   "execution_count": 1,
   "id": "1ce398a9-c25e-4dca-b50f-6421747fa465",
   "metadata": {},
   "outputs": [
    {
     "name": "stdout",
     "output_type": "stream",
     "text": [
      "The file _gams_py_gdb0.gdx is still active and was not deleted.\n",
      "The file _gams_py_gdb1.gdx is still active and was not deleted.\n"
     ]
    }
   ],
   "source": [
    "clean_up = True\n",
    "%run StdPackages.ipynb"
   ]
  },
  {
   "cell_type": "markdown",
   "id": "7d62a2a3-3c30-49c2-887d-6323737f4fcf",
   "metadata": {
    "tags": []
   },
   "source": [
    "# GR18: Model Data"
   ]
  },
  {
   "cell_type": "markdown",
   "id": "593e89e8-e3d9-4b1c-bbd7-44670dfd232c",
   "metadata": {},
   "source": [
    "*in progress...*"
   ]
  },
  {
   "cell_type": "markdown",
   "id": "80a55832-8d4b-451a-b816-27a059aed3c3",
   "metadata": {},
   "source": [
    "### 1. Load data"
   ]
  },
  {
   "cell_type": "code",
   "execution_count": 3,
   "id": "f733419f-a7ba-42b2-874d-a17566514187",
   "metadata": {},
   "outputs": [],
   "source": [
    "name = 'GR18'\n",
    "error = 1e-7 # tolerance when testing IO balance\n",
    "db = GpyDB(pickle_path = os.path.join(d['data'], f'IO_{name}'))\n",
    "db.name = name+'_ModelData'\n",
    "with open(os.path.join(d['data'], f'glob_{name}'), \"rb\") as file:\n",
    "    glob = pickle.load(file)"
   ]
  },
  {
   "cell_type": "markdown",
   "id": "13014860-988b-49ab-b638-7918cd56752a",
   "metadata": {},
   "source": [
    "### 2. Production module"
   ]
  },
  {
   "cell_type": "markdown",
   "id": "c6b1b6ae-080b-42b7-8133-0fdfd03f5694",
   "metadata": {},
   "source": [
    "Specify a general mapping that we'll apply to (most) production sectors:"
   ]
  },
  {
   "cell_type": "code",
   "execution_count": 4,
   "id": "00ff46b9-46d9-4a93-8c09-ccef6ca36e35",
   "metadata": {},
   "outputs": [],
   "source": [
    "mFull = pd.MultiIndex.from_tuples([('KELBM', 'RxE'), ('KELBM', 'KELB'), ('KELB', 'iB'), ('KELB','KEL'), ('KEL','L'), ('KEL','KE'), ('KE','iM'), ('KE','35011_input')], names = ['n','nn'])"
   ]
  },
  {
   "cell_type": "markdown",
   "id": "3124bd3c-b6bb-4921-9c26-dcae05d54eeb",
   "metadata": {},
   "source": [
    "For the sectors that do not demand energy good (```35011```), remove the KE nest: "
   ]
  },
  {
   "cell_type": "code",
   "execution_count": 5,
   "id": "e4704f30-1860-4b42-a059-864550bf0117",
   "metadata": {},
   "outputs": [],
   "source": [
    "m_noE = pd.MultiIndex.from_tuples([('KELBM', 'RxE'), ('KELBM', 'KELB'), ('KELB', 'iB'), ('KELB','KEL'), ('KEL','L'), ('KEL','iM')], names = ['n','nn'])\n",
    "s_noE = adj.rc_pd(db.get('s_p'), ('not', db.get('vD').xs('35011')))\n",
    "m = pyDatabases.cartesianProductIndex([s_noE, m_noE])"
   ]
  },
  {
   "cell_type": "markdown",
   "id": "ee1482bd-ef01-446a-8fd9-d5e3ba6ac984",
   "metadata": {},
   "source": [
    "All sectors use both ```iB``` and ```iM``` - so, we finally check for whether all sectors deamnd labor:"
   ]
  },
  {
   "cell_type": "code",
   "execution_count": 10,
   "id": "87f9b54b-475e-4be2-87b1-5a7fd4b0a79a",
   "metadata": {},
   "outputs": [],
   "source": [
    "m_noL = pd.MultiIndex.from_tuples([('KELBM', 'RxE'), ('KELBM', 'KELB'), ('KELB', 'iB'), ('KELB','KE'), ('KE','iM'), ('KE','35011_input')], names = ['n','nn'])\n",
    "s_noL = adj.rc_pd(db.get('s_p'), ('not', db.get('vD').xs('L',level='n')))\n",
    "m = m.union(pyDatabases.cartesianProductIndex([s_noL, m_noL]))"
   ]
  },
  {
   "cell_type": "markdown",
   "id": "f0b485ad-cac0-4abe-987b-05ebad5eeb76",
   "metadata": {},
   "source": [
    "For all other sectors, use the full nesting structure:"
   ]
  },
  {
   "cell_type": "code",
   "execution_count": 11,
   "id": "cd5987e3-10a7-4d8b-90b9-63f4a70f86d9",
   "metadata": {},
   "outputs": [],
   "source": [
    "mFull = pd.MultiIndex.from_tuples([('KELBM', 'RxE'), ('KELBM', 'KELB'), ('KELB', 'iB'), ('KELB','KEL'), ('KEL','L'), ('KEL','KE'), ('KE','iM'), ('KE','35011_input')], names = ['n','nn'])\n",
    "sFull = adj.rc_pd(db.get('s_p'), ('not', ('or', [s_noE, s_noL])))\n",
    "m = m.union(pyDatabases.cartesianProductIndex([sFull, mFull]))"
   ]
  },
  {
   "cell_type": "markdown",
   "id": "3eb4126a-0bf4-4d01-ae3f-40e9e47dbeea",
   "metadata": {},
   "source": [
    "Replace the upper-most level (KELBM) with the name of the sector:"
   ]
  },
  {
   "cell_type": "code",
   "execution_count": 12,
   "id": "a2abfb37-dec4-4937-935f-5ea430f82503",
   "metadata": {},
   "outputs": [],
   "source": [
    "df = m.to_frame(index=False)\n",
    "df.loc[df.n == 'KELBM','n'] = df.loc[df.n == 'KELBM', 's']\n",
    "m = pd.MultiIndex.from_frame(df)"
   ]
  },
  {
   "cell_type": "markdown",
   "id": "c0d04c53-047e-499c-a7f4-52d689ae64ff",
   "metadata": {},
   "source": [
    "For [s,n] in ```dImport[s,n,nn]```, we define a mapping from ```RxE```to an intermediate good ```RxEym_x``` that is again an aggregate of the domestic/foreign goods ```x,x_F```."
   ]
  },
  {
   "cell_type": "code",
   "execution_count": 13,
   "id": "d410d893-b0b7-4c9b-9e92-43dc00ed8d69",
   "metadata": {},
   "outputs": [],
   "source": [
    "df = adj.rc_pd(db.get('dImport'), db.get('s_p')).to_frame(index=False).assign(m= lambda x: 'RxEym_'+x['n'], u = 'RxE', n = lambda x: x['n']+'_input')\n",
    "m = m.union(pd.MultiIndex.from_frame(df[['s','u','m']]).rename(['s','n','nn']))\n",
    "m = m.union(pd.MultiIndex.from_frame(df[['s','m','n']]).rename(['s','n','nn']))\n",
    "m = m.union(pd.MultiIndex.from_frame(df[['s','m','nn']]).rename(['s','n','nn']))"
   ]
  },
  {
   "cell_type": "markdown",
   "id": "a3038e23-fb3e-4af8-9467-1b331fd06290",
   "metadata": {},
   "source": [
    "For [s,n] in ```dImport_dom[s,n]```, we define a mapping from ```RxE```to the domestic goods:"
   ]
  },
  {
   "cell_type": "code",
   "execution_count": 14,
   "id": "c4096341-b4d3-466e-9c34-130d8af17918",
   "metadata": {},
   "outputs": [],
   "source": [
    "df = adj.rc_pd(db.get('dImport_dom'), db.get('s_p')).to_frame(index=False).assign(u = 'RxE', n = lambda x: x['n']+'_input')\n",
    "m = m.union(pd.MultiIndex.from_frame(df[['s','u','n']]).rename(['s','n','nn']))"
   ]
  },
  {
   "cell_type": "markdown",
   "id": "15fadc11-3617-473e-b755-42b8ccf8813c",
   "metadata": {},
   "source": [
    "For [s,n] in ```dImport_for[s,n]```, we define a mapping from ```RxE```to the forein goods:"
   ]
  },
  {
   "cell_type": "code",
   "execution_count": 15,
   "id": "d0a2a589-c0a8-4046-b151-264e95c8ab04",
   "metadata": {},
   "outputs": [],
   "source": [
    "df = adj.rc_pd(db.get('dImport_for'), db.get('s_p')).to_frame(index=False).assign(u = 'RxE')\n",
    "m = m.union(pd.MultiIndex.from_frame(df[['s','u','n']]).rename(['s','n','nn']))"
   ]
  },
  {
   "cell_type": "code",
   "execution_count": 16,
   "id": "c4df3fcc-24f8-41a4-976a-29cfd8e9fbc6",
   "metadata": {},
   "outputs": [],
   "source": [
    "db['nestProduction'] = m"
   ]
  }
 ],
 "metadata": {
  "kernelspec": {
   "display_name": "Python 3 (ipykernel)",
   "language": "python",
   "name": "python3"
  },
  "language_info": {
   "codemirror_mode": {
    "name": "ipython",
    "version": 3
   },
   "file_extension": ".py",
   "mimetype": "text/x-python",
   "name": "python",
   "nbconvert_exporter": "python",
   "pygments_lexer": "ipython3",
   "version": "3.9.7"
  }
 },
 "nbformat": 4,
 "nbformat_minor": 5
}
