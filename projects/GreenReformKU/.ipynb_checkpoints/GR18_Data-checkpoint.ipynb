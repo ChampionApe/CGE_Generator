{
 "cells": [
  {
   "cell_type": "code",
   "execution_count": 1,
   "id": "0d8760cd-8485-4ca9-b7a3-85432ce20e10",
   "metadata": {},
   "outputs": [],
   "source": [
    "clean_up = True\n",
    "%run StdPackages.ipynb"
   ]
  },
  {
   "cell_type": "markdown",
   "id": "64cf54e9-eba0-4a87-91be-12677fd82f3d",
   "metadata": {
    "tags": []
   },
   "source": [
    "# GR18: Data"
   ]
  },
  {
   "cell_type": "markdown",
   "id": "3f10ec59-12fa-49b7-854b-1fc510ebb0a6",
   "metadata": {},
   "source": [
    "The GreenReform model uses processed IO data from another project. To allow for experiments to go on with the data project, we can choose whether or not to use the latest update of data here:"
   ]
  },
  {
   "cell_type": "code",
   "execution_count": 2,
   "id": "abaf4f14-02a3-4832-977b-45d038ab6761",
   "metadata": {},
   "outputs": [],
   "source": [
    "import shutil\n",
    "updateFromIoProject = False\n",
    "if updateFromIoProject:\n",
    "    shutil.copy(os.path.join(d['project'], 'IOdata', 'data', 'IO2018'), os.path.join(d['data'], 'IO2018'))"
   ]
  },
  {
   "cell_type": "markdown",
   "id": "74759f18-6007-452f-b7af-55ca10bfd879",
   "metadata": {},
   "source": [
    "### 1. Load data"
   ]
  },
  {
   "cell_type": "markdown",
   "id": "4646af99-244f-44c9-bbbc-94b016c99793",
   "metadata": {},
   "source": [
    "*Load full 2018 data and relevant mappings used to aggregate the model:*"
   ]
  },
  {
   "cell_type": "code",
   "execution_count": 3,
   "id": "22b117d8-02ef-4847-b70e-b4cd31b58cf7",
   "metadata": {},
   "outputs": [],
   "source": [
    "name = 'GR18'\n",
    "error = 1e-7 # tolerance when testing IO balance\n",
    "db = GpyDB(pickle_path = os.path.join(d['data'], 'IO2018'))\n",
    "db.name = f\"IO_{name}\"\n",
    "file_mappings = os.path.join(d['data'], 'GR2018_mappings.xlsx')\n",
    "glob = gmsPyGlobals.SmallOpen(kwargs_vals = {'t': range(2018,2051)}) # global settings used throughout; interest rates, long run growth rates, time index etc."
   ]
  },
  {
   "cell_type": "markdown",
   "id": "06048bb0-c57d-41de-866e-82d3992907ef",
   "metadata": {},
   "source": [
    "Total value:"
   ]
  },
  {
   "cell_type": "markdown",
   "id": "6b8242d6-a6f9-4cc9-a4a6-dfd23917a7a0",
   "metadata": {},
   "source": [
    "### 2. Aggregation"
   ]
  },
  {
   "cell_type": "code",
   "execution_count": 5,
   "id": "a794fbed-9c43-4557-9cd9-e36e6e0bfb54",
   "metadata": {},
   "outputs": [],
   "source": [
    "wb_mappings = read.simpleLoad(file_mappings)\n",
    "auxMaps = read.maps(wb_mappings['AuxMaps'])"
   ]
  },
  {
   "cell_type": "markdown",
   "id": "80951863-fae0-4454-9aae-e6d5b5c87d29",
   "metadata": {},
   "source": [
    "#### 2.1. Aggregate sectors"
   ]
  },
  {
   "cell_type": "markdown",
   "id": "c97d15a2-b874-4d37-904c-ab9627d3eb0e",
   "metadata": {},
   "source": [
    "Sectors are aggregated based on two mappings:\n",
    "1. ```s146tosGR```: Identifies how 146 domestic sectors are aggregated to roughly 60.\n",
    "2. ```inv7toinvGR```: Maps the 7 types of durables into two - building and machines."
   ]
  },
  {
   "cell_type": "code",
   "execution_count": 6,
   "id": "436c3758-2a96-4f58-b1c7-e07c13e43800",
   "metadata": {},
   "outputs": [],
   "source": [
    "m = auxMaps['s146tosGR'].vals\n",
    "m = m.set_levels([level.astype(str) for level in m.levels]) # force to string format\n",
    "mDur = auxMaps['inv7toinvGR'].vals\n",
    "mDur = mDur.set_levels([level.astype(str) for level in mDur.levels])\n",
    "m_s = m.union(pd.MultiIndex.from_frame(mDur.to_frame(index=False).assign(temp = lambda x: 'I_'+x['nn'])[['n','temp']]).rename(['s','ss']))"
   ]
  },
  {
   "cell_type": "markdown",
   "id": "2f3f1909-bb89-42ad-b00e-21a3288a479f",
   "metadata": {},
   "source": [
    "For sectors not included in these mappings do nothing (implied by (x,x) tuples). These sectors include aggregate sectors defined by us (foreign sector, government sector, household, inventory):"
   ]
  },
  {
   "cell_type": "code",
   "execution_count": 7,
   "id": "2be63341-2ce5-4c09-9807-10be065f0566",
   "metadata": {},
   "outputs": [
    {
     "data": {
      "text/plain": [
       "<pyDatabases.gpyDB.gpyDB.GpyDB at 0x22252615ca0>"
      ]
     },
     "execution_count": 7,
     "metadata": {},
     "output_type": "execute_result"
    }
   ],
   "source": [
    "m_sector = m_s.union(pd.MultiIndex.from_arrays([adj.rc_pd(db.get('s'), ('not', m_s.levels[0])), adj.rc_pd(db.get('s'), ('not', m_s.levels[0])).rename('ss')]))\n",
    "aggregateDB.aggDB(db, m_sector)"
   ]
  },
  {
   "cell_type": "markdown",
   "id": "b732a934-763d-4f77-9eab-a26535dccee9",
   "metadata": {},
   "source": [
    "#### 2.2. Aggregate sector outputs "
   ]
  },
  {
   "cell_type": "markdown",
   "id": "a612974c-b1f4-4137-ba61-9ba381660cff",
   "metadata": {},
   "source": [
    "Next, we apply the same (type) of mapping to aggregate goods types. At this stage, the goods index ```n``` includes:\n",
    "* Domestically produced goods ```n_p```,\n",
    "* foreign produced goods ```n_F``` (with syntax ```x_F``` where 'x' is an element from ```n_p```)\n",
    "* investment sector goods (corresponding to ```s_i```)\n",
    "* residual income (```resIncome```) and wages (```L```)"
   ]
  },
  {
   "cell_type": "markdown",
   "id": "8314c699-0843-4639-ab21-cab1742d4caa",
   "metadata": {},
   "source": [
    "We map ```n_p, n_F``` types as well as durables/investments using the same approach as for sectors: "
   ]
  },
  {
   "cell_type": "code",
   "execution_count": 8,
   "id": "a1dbe700-6e95-47b7-a806-e70aef9eab5f",
   "metadata": {},
   "outputs": [
    {
     "data": {
      "text/plain": [
       "<pyDatabases.gpyDB.gpyDB.GpyDB at 0x22252615ca0>"
      ]
     },
     "execution_count": 8,
     "metadata": {},
     "output_type": "execute_result"
    }
   ],
   "source": [
    "m_goods = m.rename(['n','nn']).union(m.set_levels([level+'_F' for level in m.levels]).rename(['n','nn'])).union(mDur)\n",
    "m_goods = m_goods.union(pd.MultiIndex.from_arrays([adj.rc_pd(db.get('n'), ('not', m_goods.levels[0])),\n",
    "                                                   adj.rc_pd(db.get('n'), ('not', m_goods.levels[0])).rename('nn')]))\n",
    "aggregateDB.aggDB(db, m_goods)"
   ]
  },
  {
   "cell_type": "markdown",
   "id": "b8b688b3-d71c-4de6-bade-66bb2d652473",
   "metadata": {},
   "source": [
    "### 3. Clean up taxes, government consumption, etc."
   ]
  },
  {
   "cell_type": "markdown",
   "id": "0edc6d54-871b-4135-b585-2fd9aa45f2ef",
   "metadata": {},
   "source": [
    "A final bit of clean-up of the relevant data here:  We only use the total government consumption, and not the consumption split onto the many types ```gc```. This is already recorded in the ```vD``` variable. Thus, we remove the more detailed accounts (```vC```, ```vC_tax```, ```gc```)"
   ]
  },
  {
   "cell_type": "code",
   "execution_count": 9,
   "id": "54ec266e-c75d-43c1-a92f-43d70086e206",
   "metadata": {},
   "outputs": [],
   "source": [
    "for k in ('gc','vC','vC_tax'):\n",
    "    del(db.series[k])"
   ]
  },
  {
   "cell_type": "markdown",
   "id": "1dc70307-45b9-4847-9e29-12cf3ad36b7e",
   "metadata": {},
   "source": [
    "Remove zeros:"
   ]
  },
  {
   "cell_type": "code",
   "execution_count": 10,
   "id": "3288313e-866a-4772-9ef0-535e87105c6b",
   "metadata": {},
   "outputs": [],
   "source": [
    "[db.__setitem__(k, db.get(k)[db.get(k)!=0]) for k in ('vD','vD_inv','vD_dur','vD_depr','vAssets','vTax')];"
   ]
  },
  {
   "cell_type": "markdown",
   "id": "a4fea781-1a0e-41c8-8e89-2fc04f535193",
   "metadata": {},
   "source": [
    "### 4. Process data on durables, investments, and depreciation rates"
   ]
  },
  {
   "cell_type": "markdown",
   "id": "b42c4e79-8311-4818-872d-1938118f94d0",
   "metadata": {},
   "source": [
    "* Depreciation of durables are translated to rates. \n",
    "* Distinguish between investment goods and durables: Define investment goods with syntax ```I_x``` for durable x.\n",
    "* Define the mapping dur2inv and relevant subsets (```dur_p``` and ```inv_p```)."
   ]
  },
  {
   "cell_type": "markdown",
   "id": "e3da32fc-fb08-452c-88bf-decb2a78ca5b",
   "metadata": {},
   "source": [
    "*NB: Only run this cell once.*"
   ]
  },
  {
   "cell_type": "code",
   "execution_count": 11,
   "id": "f180339d-c4f5-4323-acae-c37bf8ab7433",
   "metadata": {},
   "outputs": [],
   "source": [
    "db['rDepr'] = db.get('vD_depr') / (db.get('vD_dur').replace(0,1))\n",
    "db['dur2inv'] = pd.MultiIndex.from_frame(db.get('vD_dur').index.to_frame(index = False).assign(nn = lambda x: 'I_'+x['n'])).reorder_levels(['s','n','nn'])\n",
    "db['dur_p'] = db.get('dur2inv').droplevel('nn').unique() # what variables are durables (K)\n",
    "db['inv_p'] = db.get('dur2inv').droplevel('n').unique().rename({'nn':'n'}) # what variables are investment goods (I)\n",
    "db.get('vD_inv').index = db.get('vD_inv').index.set_levels('I_'+db.get('vD_inv').index.levels[1], level=1)\n",
    "db['vD'] = db.get('vD_inv').combine_first(db.get('vD')).combine_first(db.get('vD_dur'))"
   ]
  },
  {
   "cell_type": "markdown",
   "id": "fd3aeec5-5559-49a6-b9b7-bf08699b9587",
   "metadata": {},
   "source": [
    "*Clean up data:*"
   ]
  },
  {
   "cell_type": "code",
   "execution_count": 10,
   "id": "ed91fa67-79da-4a25-a149-1fc79af770ea",
   "metadata": {},
   "outputs": [],
   "source": [
    "# for k in ('vD_inv','vD_dur','vD_depr'):\n",
    "#     del(db.series[k])"
   ]
  },
  {
   "cell_type": "markdown",
   "id": "e89316af-74c7-450a-a01e-fe0fb911ea8b",
   "metadata": {},
   "source": [
    "### 5. Eliminate small and negative values"
   ]
  },
  {
   "cell_type": "markdown",
   "id": "3efad61f-8db4-4495-8aba-a5b5fbfce74b",
   "metadata": {},
   "source": [
    "We create RAS-like adjustments *within* a number of blocks. We keep the sub-totals fixed in the following blocks:\n",
    "* Block A and I: Input-output from/to domestic production sectors (```n_p,s_p```) and the domestic investment sectors.\n",
    "* Block B and J: Domestic production and investment sectors' demand for imported goods (```n_F, s_p, s_i```). For this block, we do not require row-sums to be the same before and after. The implication is that imports of a specific type $n^F_i$ may not be the same after the adjustment.\n",
    "\n",
    "We do not make any adjustments to consumption components (in particular because there are not sufficient with consumption categories to balance the blocks). This approach ensures that most totals are the same - e.g. total imports per sector - is the same."
   ]
  },
  {
   "cell_type": "code",
   "execution_count": 12,
   "id": "b6610c12-ca8c-442e-bb53-a6caa4a8ee27",
   "metadata": {},
   "outputs": [],
   "source": [
    "ws = gams.GamsWorkspace(working_directory=d['work']) # specify where you want to run the GAMS models from (here the repository referred to in d['work'])\n",
    "threshold = 1 # anything below 1 million is removed from the data\n",
    "ras_settings = IOfunctions.standardCleanSettings(db, threshold)\n",
    "# Run RAS adjustment:\n",
    "vs, ms = {}, {}\n",
    "for k,v in ras_settings.items():\n",
    "    vs[k] = RAS.shareRAS(v['v0'], v['vBar'], **v['kwargs']) # Initialize small gams model\n",
    "    vs[k].compile() # set up model\n",
    "    vs[k].write(); # write gams code\n",
    "    ms[k] = vs[k].run(exportTo = d['work'], ws = ws) # solve\n",
    "gpyDB.add_or_merge_vals(db, pd.concat([ms[k].out_db.get('vD') for k in ms]+[ras_settings[k]['vBar'] for k in ras_settings],axis=0), name = 'vD') # add data to database"
   ]
  },
  {
   "cell_type": "markdown",
   "id": "125a9561-9178-4707-a967-a606125d4ef8",
   "metadata": {},
   "source": [
    "*Remove zero values and residual income category:*"
   ]
  },
  {
   "cell_type": "code",
   "execution_count": 13,
   "id": "6de9c94f-9f27-4f5b-9e1d-e4800ac40c25",
   "metadata": {},
   "outputs": [],
   "source": [
    "db['vD'] = adj.rc_pd(db.get('vD')[db.get('vD')!=0], ('not', pd.Index(['resIncome'], name = 'n')))"
   ]
  },
  {
   "cell_type": "markdown",
   "id": "3ee5f9ff-5739-4de8-b16f-14aaef774040",
   "metadata": {},
   "source": [
    "*Rescale values, divide by 10000 (measure in 10's of billions DKK):*"
   ]
  },
  {
   "cell_type": "code",
   "execution_count": 14,
   "id": "3fcfafcb-8af9-43c8-b9f0-85863dd29c9e",
   "metadata": {},
   "outputs": [],
   "source": [
    "[db.__setitem__(k, db.get(k)/10000) for k in [i for i in db.getTypes(['variable','parameter']) if i.startswith(('q','v'))]+['TotalTax']];"
   ]
  },
  {
   "cell_type": "markdown",
   "id": "27d69793-a8f5-42c6-b66e-b9a5cd224395",
   "metadata": {
    "tags": []
   },
   "source": [
    "### 6. Create variables"
   ]
  },
  {
   "cell_type": "markdown",
   "id": "fab8ab42-108b-4b7f-a45b-9230a3807e1f",
   "metadata": {},
   "source": [
    "#### 6.1. Value of supply"
   ]
  },
  {
   "cell_type": "markdown",
   "id": "7a5c5f89-6ffd-41eb-a25b-57499411c5fc",
   "metadata": {},
   "source": [
    "At this stage, supply comes from (1) households supplying labor, (2) domestic production and investment sectors."
   ]
  },
  {
   "cell_type": "code",
   "execution_count": 15,
   "id": "69a75121-252e-4b6c-802c-66d3d0ce877e",
   "metadata": {},
   "outputs": [],
   "source": [
    "def repeatIndex(s, i1 = 'n', i2 = 's'):\n",
    "    return s.reset_index().assign(**{i2: s.index}).set_index([i2,i1]).iloc[:,0]"
   ]
  },
  {
   "cell_type": "code",
   "execution_count": 16,
   "id": "86b3d445-0dad-4d98-aaac-6e0b8243c4d0",
   "metadata": {},
   "outputs": [],
   "source": [
    "vS = repeatIndex(adj.rc_pd(db.get('vD'), ('or', [db.get('n_p'), db.get('inv_p')])).groupby('n').sum()) # domestic production/investment supply\n",
    "vS.loc[('HH','L')] = db.get('vD').xs('L',level='n').sum() # add value of household supply of labor\n",
    "gpyDB.add_or_merge_vals(db, vS, name = 'vS') # add to database"
   ]
  },
  {
   "cell_type": "markdown",
   "id": "28dcedd3-3895-43f5-b0cf-b6f5d7a2bbd5",
   "metadata": {},
   "source": [
    "#### 6.2. Prices"
   ]
  },
  {
   "cell_type": "markdown",
   "id": "c330e0c7-6f34-428d-87dd-4d8822eec1eb",
   "metadata": {},
   "source": [
    "If no prices have been loaded, set them all to 1:"
   ]
  },
  {
   "cell_type": "code",
   "execution_count": 17,
   "id": "1a45d1f2-e2a2-4d8e-ac60-3ccd1f0f4b88",
   "metadata": {},
   "outputs": [],
   "source": [
    "if 'p' not in db.symbols:\n",
    "    db['p'] = pd.Series(1, index = db.get('vS').index.levels[-1].union(db.get('n_F')))"
   ]
  },
  {
   "cell_type": "markdown",
   "id": "3ddda166-a48e-4fbb-85c1-b770887abcaa",
   "metadata": {},
   "source": [
    "#### 6.3 Durables"
   ]
  },
  {
   "cell_type": "markdown",
   "id": "0ababc8b-0902-4058-9622-88b360760d13",
   "metadata": {},
   "source": [
    "Set the quantity of durables at the value - and define the price ```pD_dur``` as the static user cost term:"
   ]
  },
  {
   "cell_type": "code",
   "execution_count": 18,
   "id": "997acf6c-39a5-415b-8649-948e0f7aa385",
   "metadata": {},
   "outputs": [],
   "source": [
    "db['qD'] = adj.rc_pd(db.get('vD'), db.get('dur_p')).rename('qD')\n",
    "db['pD_dur'] = adjMultiIndex.applyMult(db.get('p').rename_axis(index = {'n':'nn'}), db.get('dur2inv')).dropna().droplevel('nn') * (glob.db['R_LR'].vals/(1+glob.db['infl_LR'].vals)+db.get('rDepr')-1)"
   ]
  },
  {
   "cell_type": "markdown",
   "id": "a653ab35-4a06-4e2b-8f4d-c183cadfd01f",
   "metadata": {
    "tags": []
   },
   "source": [
    "#### 6.4. Quantities"
   ]
  },
  {
   "cell_type": "markdown",
   "id": "2c446cf7-de94-4f26-817d-add71e548bc7",
   "metadata": {},
   "source": [
    "Back out quantities from values and prices: Don't keep residual income."
   ]
  },
  {
   "cell_type": "code",
   "execution_count": 19,
   "id": "53ea9273-ec33-45ad-a967-738e22cbff50",
   "metadata": {},
   "outputs": [],
   "source": [
    "db['qD'] = db.get('qD').combine_first( adj.rc_pd(db.get('vD'), ('not', db.get('dur_p'))) / db.get('p'))\n",
    "db['qS'] = db['vS'].vals / db.get('p')"
   ]
  },
  {
   "cell_type": "markdown",
   "id": "9163091b-43f4-48b4-8977-4b103b52b10f",
   "metadata": {
    "tags": []
   },
   "source": [
    "#### 6.5. Effective prices"
   ]
  },
  {
   "cell_type": "markdown",
   "id": "b6027fb6-f60d-485f-893e-730a0cbc3e72",
   "metadata": {},
   "source": [
    "Initialize the prices ```pD``` and ```pS``` at the equilibrium prices:"
   ]
  },
  {
   "cell_type": "code",
   "execution_count": 20,
   "id": "8c254df1-804f-4add-8407-ca7942c32dde",
   "metadata": {},
   "outputs": [],
   "source": [
    "if 'pD' not in db.symbols:\n",
    "    db['pD'] = adjMultiIndex.bc(db.get('p'), adj.rc_pd(db.get('qD'), ('not', db.get('dur_p')))).reorder_levels(db['qD'].domains).rename('pD') # span the pure prices 'p' to fit entire qD domain\n",
    "if 'pS' not in db.symbols:\n",
    "    db['pS'] = adjMultiIndex.bc(adj.rc_pd(db.get('p'), ('not', db.get('n_F'))), db.get('qS')).reorder_levels(db['qS'].domains).rename('qS') # span 'p' to fit domain of qS. Drop prices on foreign goods."
   ]
  },
  {
   "cell_type": "markdown",
   "id": "1de02176-9052-4faf-8993-82dde292a24b",
   "metadata": {},
   "source": [
    "### 7. Create relevant subsets and mappings"
   ]
  },
  {
   "cell_type": "markdown",
   "id": "7ba92608-970f-484c-9de5-0e9b42d19a68",
   "metadata": {
    "tags": []
   },
   "source": [
    "#### 7.1. Domains for general equilibrium"
   ]
  },
  {
   "cell_type": "code",
   "execution_count": 21,
   "id": "a01b73c3-5cf8-4a4a-b2c6-4f5240a6dbfb",
   "metadata": {},
   "outputs": [],
   "source": [
    "db['nEqui'] = db['vS'].index.levels[-1] # what levels do the model need to identify an equilibrium for.\n",
    "db['d_qS']  = db['vS'].index # what (s,n) combinations does supply come from\n",
    "db['d_qD'] = adj.rc_pd(db['vD'], db['nEqui']).index # what (s,n) combinations does demand come from\n",
    "db['d_qSEqui'] = adj.rc_pd(db['d_qS'].vals, ('not', db['s_HH'])) # Going from partial to general equilibrium, what 'qS' values should be endogenized\n",
    "db['d_pEqui']  = pd.Index(['L'], name = 'n') # Going from partial to general equilibrium, what 'p' values should be endogenized"
   ]
  },
  {
   "cell_type": "markdown",
   "id": "9797eb8d-192d-4e7b-8054-40b45421d77c",
   "metadata": {},
   "source": [
    "#### 7.2. Trade mappings"
   ]
  },
  {
   "cell_type": "markdown",
   "id": "13cebb4a-47bc-416a-9026-21d91634e8ad",
   "metadata": {},
   "source": [
    "Define the mapping from domestic to the equivalent foreign goods (with syntax ```x,x_F```):"
   ]
  },
  {
   "cell_type": "code",
   "execution_count": 22,
   "id": "14f95a08-7515-4aa6-bcc0-5e865011337c",
   "metadata": {},
   "outputs": [],
   "source": [
    "db['dom2for'] = pd.MultiIndex.from_arrays([db.get('n_p').sort_values(), db.get('n_F').sort_values().rename('nn')])"
   ]
  },
  {
   "cell_type": "markdown",
   "id": "2716539c-2b31-4e1e-9bb6-90a8007a1b36",
   "metadata": {},
   "source": [
    "Define the subset ```dExport[s,n]``` as the foreign sectors' demand for domestic goods:"
   ]
  },
  {
   "cell_type": "code",
   "execution_count": 23,
   "id": "22453fb0-78b1-47eb-8b89-9fdc8243766a",
   "metadata": {},
   "outputs": [],
   "source": [
    "db['dExport'] = adj.rc_pd(db.get('vD'), db.get('s_f')).index # foreign sectors' demand for domestic goods"
   ]
  },
  {
   "cell_type": "markdown",
   "id": "2c4280e0-ba8b-4a64-9c85-1431a8937443",
   "metadata": {},
   "source": [
    "Define the subset ```dImport``` as  the sector, domestic good, foreign good (s,n,nn) combinations in data - i.e. where the sector demands both the domestic and foreign product:"
   ]
  },
  {
   "cell_type": "code",
   "execution_count": 24,
   "id": "ff5e4212-11b8-462b-a9d8-c55cb202f9c8",
   "metadata": {},
   "outputs": [],
   "source": [
    "vD_dom = adjMultiIndex.applyMult(adj.rc_pd(db.get('vD'), db.get('n_p')), db.get('dom2for')) # demand for domestic goods mapped to foreign goods types\n",
    "vD_for = adj.rc_pd(db.get('vD'), db.get('n_F')).rename_axis(index={'n':'nn'}) # demand for foreign goods\n",
    "db['dImport'] = adj.rc_pd(vD_dom, vD_for).reorder_levels(['s','n','nn']).index"
   ]
  },
  {
   "cell_type": "markdown",
   "id": "93e59311-520c-4bd4-92d9-6e77fd4cfb5d",
   "metadata": {},
   "source": [
    "Define the subset ```dImport_dom``` as the sector, domestic good combination (s,n) where the sector only demands the domestic and not the corresponding foreign good:"
   ]
  },
  {
   "cell_type": "code",
   "execution_count": 25,
   "id": "8e4e3f53-2fa5-43f0-9c3a-5bee4f697a90",
   "metadata": {},
   "outputs": [],
   "source": [
    "db['dImport_dom'] = adj.rc_pd(vD_dom, ('not', vD_for)).droplevel('nn').reorder_levels(['s','n']).index"
   ]
  },
  {
   "cell_type": "markdown",
   "id": "12df874b-c270-41f4-add4-15e4aeb8bab4",
   "metadata": {},
   "source": [
    "Define the subset ```dImport_for``` as the sector, foreign good combinations (s,n) where the sector only demand the foreign and not the corresponding domestic good:"
   ]
  },
  {
   "cell_type": "code",
   "execution_count": 26,
   "id": "645a463b-1a41-4449-88d3-5eae6bc623a2",
   "metadata": {},
   "outputs": [],
   "source": [
    "db['dImport_for'] = adj.rc_pd(vD_for, ('not', db['dImport'])).index.rename(['s','n']).reorder_levels(['s','n'])"
   ]
  },
  {
   "cell_type": "markdown",
   "id": "b2dca1d9-d2b9-48d9-9d7a-0017f977b358",
   "metadata": {
    "tags": []
   },
   "source": [
    "## Export:"
   ]
  },
  {
   "cell_type": "code",
   "execution_count": 27,
   "id": "6cdf785f-843b-45f0-80a3-903dc9f73ad6",
   "metadata": {},
   "outputs": [],
   "source": [
    "aggregateDB.readSets(db) # read sets from the symbols in data\n",
    "db.export(repo = d['data'])\n",
    "with open(f\"{d['data']}\\\\glob_{name}\", \"wb\") as file:\n",
    "    pickle.dump(glob,file)"
   ]
  }
 ],
 "metadata": {
  "kernelspec": {
   "display_name": "Python 3 (ipykernel)",
   "language": "python",
   "name": "python3"
  },
  "language_info": {
   "codemirror_mode": {
    "name": "ipython",
    "version": 3
   },
   "file_extension": ".py",
   "mimetype": "text/x-python",
   "name": "python",
   "nbconvert_exporter": "python",
   "pygments_lexer": "ipython3",
   "version": "3.9.7"
  }
 },
 "nbformat": 4,
 "nbformat_minor": 5
}
