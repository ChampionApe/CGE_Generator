{
 "cells": [
  {
   "cell_type": "markdown",
   "id": "9be6c37e-f771-49c2-b9b3-f31d4bc4f2d5",
   "metadata": {},
   "source": [
    "# Household"
   ]
  },
  {
   "cell_type": "markdown",
   "id": "a236a6e1-11bf-49dc-978d-0b88fb4ef056",
   "metadata": {},
   "source": [
    "## 1. Data/settings"
   ]
  },
  {
   "cell_type": "markdown",
   "id": "5dfabc47-3927-4e7e-a811-742c2eefd097",
   "metadata": {},
   "source": [
    "If the local variable $t$ has been defined already, the notebook is running from another notebook. If this is not the case, a number of \"local\" methods have to be carried out before solving the model (e.g. setting up the relevant IO data set):"
   ]
  },
  {
   "cell_type": "code",
   "execution_count": 1,
   "id": "3154be58-76c4-4bdf-899d-dd174426d905",
   "metadata": {},
   "outputs": [
    {
     "name": "stdout",
     "output_type": "stream",
     "text": [
      "The file _gams_py_gdb0.gdx is still active and was not deleted.\n",
      "The file _gams_py_gdb2.gdx is still active and was not deleted.\n",
      "The file _gams_py_gdb3.gdx is still active and was not deleted.\n"
     ]
    }
   ],
   "source": [
    "try:\n",
    "    t = t\n",
    "except NameError:\n",
    "    clean_up = True\n",
    "    %run StdPackages.ipynb\n",
    "    name, t = 'full', 2019\n",
    "    ws = gams.GamsWorkspace(working_directory=d['work']) # specify where you want to run the GAMS models from (here the repository referred to in d['work'])\n",
    "    with open(f\"{d['processedData']}\\\\glob_{t}\",\"rb\") as file: # load global settings anmed glob_name\n",
    "        glob=pickle.load(file)\n",
    "    db_IO = GpyDB(pickle_path = os.path.join(d['processedData'], f'{name}_{t}')) # load IO database named IO_name\n",
    "    addTimeToDb(db_IO, glob.db['t'].vals, exceptions = ['sigma'])\n",
    "module = '_'.join([name,str(t),'HH'])\n",
    "db_IO0 = db_IO.copy() # create copy"
   ]
  },
  {
   "cell_type": "markdown",
   "id": "d848ded3-7129-4dc7-85c6-edafce085ac5",
   "metadata": {},
   "source": [
    "## 2. Initial values"
   ]
  },
  {
   "cell_type": "markdown",
   "id": "ddb24b13-863a-44a7-9894-9fbc81ead550",
   "metadata": {},
   "source": [
    "Set up nesting tree using the nesting structure:"
   ]
  },
  {
   "cell_type": "code",
   "execution_count": 2,
   "id": "b3964480-7c2a-4068-af69-e27d2cbc6c5b",
   "metadata": {},
   "outputs": [],
   "source": [
    "tree = nestingTree.tree(name = f'{module}_ces', tree = db_IO.get('nestHH').to_list()) # individual tree\n",
    "Tree = nestingTree.aggTree(name = module, trees = {tree.name: tree})(namespace = {str(n)+'_input': n for n in db_IO.get('n')})"
   ]
  },
  {
   "cell_type": "markdown",
   "id": "ea42a773-394d-4962-9231-203c9123793c",
   "metadata": {},
   "source": [
    "## 3. Run module"
   ]
  },
  {
   "cell_type": "markdown",
   "id": "f52d31bd-0d6a-41e5-b6ea-afe9d5a08876",
   "metadata": {},
   "source": [
    "*1. Initialize production module, without any durables at first:*"
   ]
  },
  {
   "cell_type": "code",
   "execution_count": 3,
   "id": "4982e5c5-cbb2-476a-bb52-9cb328f2757c",
   "metadata": {},
   "outputs": [],
   "source": [
    "H = mHouseholds.staticConsumer(tree = Tree, glob = glob, kwargs = {'L2C': db_IO.get('L2C')})\n",
    "aggregateDB.subset_db(db_IO0, H.get('s')) # goes through all symbols in db_IO and only keep the elements that are in the set 's' from Tree.db\n",
    "aggregateDB.subset_db(db_IO0, H.get('n')) # goes through all symbols in db_IO and only keep the elements that are in the set 'n' from Tree.db\n",
    "# robust.robust_merge_dbs(H.s.db, db_IO, priority = 'second')"
   ]
  },
  {
   "cell_type": "markdown",
   "id": "2e496987-8f82-40aa-b059-e77d0266a9aa",
   "metadata": {},
   "source": [
    "*2. Add value shares:*"
   ]
  },
  {
   "cell_type": "markdown",
   "id": "b3fed66c-ec33-442a-b229-b90503b82aed",
   "metadata": {},
   "source": [
    "Value shares for nesting part:"
   ]
  },
  {
   "cell_type": "code",
   "execution_count": 4,
   "id": "1da21a18-75f6-4b47-810a-115fb62980ea",
   "metadata": {},
   "outputs": [],
   "source": [
    "v = valueShares.SimpleRamsey(Tree, db_IO0)\n",
    "v.compile() # set up model structure, and make sure to initialize symbols if they are not yet defined in the database \n",
    "v.write(); # write GAMS code used for the model\n",
    "m = v.run(exportTo = d['work'],ws=ws) # solve the \"model\"."
   ]
  },
  {
   "cell_type": "markdown",
   "id": "fdeadd8c-2888-4a6d-a348-7da8c95c9105",
   "metadata": {},
   "source": [
    "Use value shares to initialize variables:\n",
    "* Outputs and inputs are provided by IO data.\n",
    "* For intermediate goods, assume a price of 1 (default option in the class, so we don't have to do anything) and set value share = quantity.\n",
    "* Set share parameters to the ones identified by value share system."
   ]
  },
  {
   "cell_type": "code",
   "execution_count": 5,
   "id": "cf2dc71e-1688-48bb-be7c-222d270daf84",
   "metadata": {},
   "outputs": [],
   "source": [
    "gpyDB.GpyDBs_AOM_Second(H.s.db, gpy(adj.rc_pd(m.out_db.get('vD'), H.get('int')).rename('qD'))) # set intermediate goods levels\n",
    "gpyDB.GpyDBs_AOM_Second(H.s.db, gpy(m.out_db.get('mu').xs(H.get('t0')[0]).rename('mu'))) # set share parameters"
   ]
  },
  {
   "cell_type": "markdown",
   "id": "b0d469ee-f905-4c54-99cb-4028fc29a7e8",
   "metadata": {},
   "source": [
    "Add the frisch parameter as a target in the IO database if we want to have an intensive margin labor elasticity in there:"
   ]
  },
  {
   "cell_type": "code",
   "execution_count": 6,
   "id": "eaeb559c-1bf0-4026-b509-638dda6fb2ae",
   "metadata": {},
   "outputs": [],
   "source": [
    "# db_IO['frisch'] = pd.Series(0.25, index = H.get('labor'), name = 'frisch')"
   ]
  },
  {
   "cell_type": "markdown",
   "id": "f3c317ba-3299-490a-a781-3dbb4c5fcfc8",
   "metadata": {},
   "source": [
    "Use sneaky calibration method to solve and calibrate:"
   ]
  },
  {
   "cell_type": "code",
   "execution_count": 7,
   "id": "afdc8946-09d4-4817-8de9-2447c1395771",
   "metadata": {},
   "outputs": [
    {
     "ename": "GamsExceptionExecution",
     "evalue": "GAMS return code not 0 (3), check C:\\Users\\sxj477\\Documents\\GitHub\\CGE_Generator\\work_folder\\_gams_py_gjo3.lst for more details",
     "output_type": "error",
     "traceback": [
      "\u001b[1;31m---------------------------------------------------------------------------\u001b[0m",
      "\u001b[1;31mGamsExceptionExecution\u001b[0m                    Traceback (most recent call last)",
      "\u001b[1;32m~\\AppData\\Local\\Temp/ipykernel_8964/3123726738.py\u001b[0m in \u001b[0;36m<module>\u001b[1;34m\u001b[0m\n\u001b[0;32m      1\u001b[0m \u001b[0mH\u001b[0m\u001b[1;33m.\u001b[0m\u001b[0mcompile\u001b[0m\u001b[1;33m(\u001b[0m\u001b[0minitDB\u001b[0m\u001b[1;33m=\u001b[0m\u001b[1;32mTrue\u001b[0m\u001b[1;33m)\u001b[0m\u001b[1;33m\u001b[0m\u001b[1;33m\u001b[0m\u001b[0m\n\u001b[0;32m      2\u001b[0m \u001b[0mH\u001b[0m\u001b[1;33m.\u001b[0m\u001b[0mwrite\u001b[0m\u001b[1;33m(\u001b[0m\u001b[1;33m)\u001b[0m\u001b[1;33m;\u001b[0m\u001b[1;33m\u001b[0m\u001b[1;33m\u001b[0m\u001b[0m\n\u001b[1;32m----> 3\u001b[1;33m \u001b[0mmCalib\u001b[0m\u001b[1;33m,\u001b[0m \u001b[0mcp\u001b[0m \u001b[1;33m=\u001b[0m \u001b[0mH\u001b[0m\u001b[1;33m.\u001b[0m\u001b[0msneakyCalib\u001b[0m\u001b[1;33m(\u001b[0m\u001b[0mdb_IO\u001b[0m\u001b[1;33m.\u001b[0m\u001b[0mcopy\u001b[0m\u001b[1;33m(\u001b[0m\u001b[1;33m)\u001b[0m\u001b[1;33m,\u001b[0m \u001b[0mws\u001b[0m \u001b[1;33m=\u001b[0m \u001b[0mws\u001b[0m\u001b[1;33m,\u001b[0m \u001b[0mloop_kwargs\u001b[0m \u001b[1;33m=\u001b[0m \u001b[1;33m{\u001b[0m\u001b[1;34m'n'\u001b[0m\u001b[1;33m:\u001b[0m \u001b[1;36m10\u001b[0m\u001b[1;33m}\u001b[0m\u001b[1;33m,\u001b[0m \u001b[1;33m**\u001b[0m\u001b[1;33m{\u001b[0m\u001b[1;34m'cns'\u001b[0m\u001b[1;33m:\u001b[0m \u001b[1;34m'CONOPT4'\u001b[0m\u001b[1;33m}\u001b[0m\u001b[1;33m)\u001b[0m\u001b[1;33m\u001b[0m\u001b[1;33m\u001b[0m\u001b[0m\n\u001b[0m",
      "\u001b[1;32m~\\Anaconda3\\lib\\site-packages\\gmsPython\\gmsPyModels\\gmsPyModels.py\u001b[0m in \u001b[0;36msneakyCalib\u001b[1;34m(self, dbTarget, cState, model, db_str, exportdb, exportTo, ws, options, options_add, options_run, loop_kwargs, **kwargs)\u001b[0m\n\u001b[0;32m    125\u001b[0m                 \u001b[0mcp2\u001b[0m \u001b[1;33m=\u001b[0m \u001b[0mmodel\u001b[0m\u001b[1;33m.\u001b[0m\u001b[0mws\u001b[0m\u001b[1;33m.\u001b[0m\u001b[0madd_checkpoint\u001b[0m\u001b[1;33m(\u001b[0m\u001b[1;33m)\u001b[0m\u001b[1;33m\u001b[0m\u001b[1;33m\u001b[0m\u001b[0m\n\u001b[0;32m    126\u001b[0m                 \u001b[0mmodel\u001b[0m\u001b[1;33m.\u001b[0m\u001b[0maddDB\u001b[0m\u001b[1;33m(\u001b[0m\u001b[0mdb\u001b[0m\u001b[1;33m)\u001b[0m\u001b[1;33m\u001b[0m\u001b[1;33m\u001b[0m\u001b[0m\n\u001b[1;32m--> 127\u001b[1;33m                 \u001b[0mmodel\u001b[0m\u001b[1;33m.\u001b[0m\u001b[0mrun\u001b[0m\u001b[1;33m(\u001b[0m\u001b[0mrun\u001b[0m\u001b[1;33m=\u001b[0m\u001b[0mtext\u001b[0m\u001b[1;33m,\u001b[0m \u001b[0moptions_add\u001b[0m \u001b[1;33m=\u001b[0m \u001b[1;33m{\u001b[0m\u001b[1;34m'checkpoint'\u001b[0m\u001b[1;33m:\u001b[0m \u001b[0mcp\u001b[0m\u001b[1;33m}\u001b[0m\u001b[1;33m,\u001b[0m \u001b[0moptions_run\u001b[0m \u001b[1;33m=\u001b[0m \u001b[1;33m{\u001b[0m\u001b[1;34m'checkpoint'\u001b[0m\u001b[1;33m:\u001b[0m \u001b[0mcp2\u001b[0m\u001b[1;33m}\u001b[0m\u001b[1;33m)\u001b[0m\u001b[1;33m\u001b[0m\u001b[1;33m\u001b[0m\u001b[0m\n\u001b[0m\u001b[0;32m    128\u001b[0m                 \u001b[1;32mreturn\u001b[0m \u001b[0mmodel\u001b[0m\u001b[1;33m,\u001b[0m \u001b[0mcp2\u001b[0m\u001b[1;33m\u001b[0m\u001b[1;33m\u001b[0m\u001b[0m\n\u001b[0;32m    129\u001b[0m \u001b[1;33m\u001b[0m\u001b[0m\n",
      "\u001b[1;32m~\\Anaconda3\\lib\\site-packages\\gmsPython\\gmsPy\\gmsPy.py\u001b[0m in \u001b[0;36mrun\u001b[1;34m(self, run, runfile, options_add, options_run, db_as_gpy)\u001b[0m\n\u001b[0;32m    202\u001b[0m         \u001b[1;32mdef\u001b[0m \u001b[0mrun\u001b[0m\u001b[1;33m(\u001b[0m\u001b[0mself\u001b[0m\u001b[1;33m,\u001b[0m\u001b[0mrun\u001b[0m\u001b[1;33m=\u001b[0m\u001b[1;32mNone\u001b[0m\u001b[1;33m,\u001b[0m\u001b[0mrunfile\u001b[0m\u001b[1;33m=\u001b[0m\u001b[1;32mNone\u001b[0m\u001b[1;33m,\u001b[0m\u001b[0moptions_add\u001b[0m\u001b[1;33m=\u001b[0m\u001b[1;32mNone\u001b[0m\u001b[1;33m,\u001b[0m\u001b[0moptions_run\u001b[0m\u001b[1;33m=\u001b[0m\u001b[1;32mNone\u001b[0m\u001b[1;33m,\u001b[0m\u001b[0mdb_as_gpy\u001b[0m\u001b[1;33m=\u001b[0m\u001b[1;32mTrue\u001b[0m\u001b[1;33m)\u001b[0m\u001b[1;33m:\u001b[0m\u001b[1;33m\u001b[0m\u001b[1;33m\u001b[0m\u001b[0m\n\u001b[0;32m    203\u001b[0m                 \u001b[0mself\u001b[0m\u001b[1;33m.\u001b[0m\u001b[0madd_job\u001b[0m\u001b[1;33m(\u001b[0m\u001b[0mrun\u001b[0m\u001b[1;33m=\u001b[0m\u001b[0mrun\u001b[0m\u001b[1;33m,\u001b[0m\u001b[0mrunfile\u001b[0m\u001b[1;33m=\u001b[0m\u001b[0mrunfile\u001b[0m\u001b[1;33m,\u001b[0m\u001b[0moptions\u001b[0m\u001b[1;33m=\u001b[0m\u001b[0moptions_add\u001b[0m\u001b[1;33m)\u001b[0m\u001b[1;33m\u001b[0m\u001b[1;33m\u001b[0m\u001b[0m\n\u001b[1;32m--> 204\u001b[1;33m                 \u001b[0mself\u001b[0m\u001b[1;33m.\u001b[0m\u001b[0mrun_job\u001b[0m\u001b[1;33m(\u001b[0m\u001b[0moptions\u001b[0m\u001b[1;33m=\u001b[0m\u001b[0moptions_run\u001b[0m\u001b[1;33m)\u001b[0m\u001b[1;33m\u001b[0m\u001b[1;33m\u001b[0m\u001b[0m\n\u001b[0m\u001b[0;32m    205\u001b[0m                 \u001b[0mself\u001b[0m\u001b[1;33m.\u001b[0m\u001b[0mout_db\u001b[0m \u001b[1;33m=\u001b[0m \u001b[0mgpyDB\u001b[0m\u001b[1;33m.\u001b[0m\u001b[0mGpyDB\u001b[0m\u001b[1;33m(\u001b[0m\u001b[0mdb\u001b[0m\u001b[1;33m=\u001b[0m\u001b[0mself\u001b[0m\u001b[1;33m.\u001b[0m\u001b[0mjob\u001b[0m\u001b[1;33m.\u001b[0m\u001b[0mout_db\u001b[0m\u001b[1;33m,\u001b[0m\u001b[0mws\u001b[0m\u001b[1;33m=\u001b[0m\u001b[0mself\u001b[0m\u001b[1;33m.\u001b[0m\u001b[0mws\u001b[0m\u001b[1;33m)\u001b[0m \u001b[1;32mif\u001b[0m \u001b[0mdb_as_gpy\u001b[0m \u001b[1;32melse\u001b[0m \u001b[1;32mNone\u001b[0m\u001b[1;33m\u001b[0m\u001b[1;33m\u001b[0m\u001b[0m\n\u001b[0;32m    206\u001b[0m \u001b[1;33m\u001b[0m\u001b[0m\n",
      "\u001b[1;32m~\\Anaconda3\\lib\\site-packages\\gmsPython\\gmsPy\\gmsPy.py\u001b[0m in \u001b[0;36mrun_job\u001b[1;34m(self, options)\u001b[0m\n\u001b[0;32m    213\u001b[0m \u001b[1;33m\u001b[0m\u001b[0m\n\u001b[0;32m    214\u001b[0m         \u001b[1;32mdef\u001b[0m \u001b[0mrun_job\u001b[0m\u001b[1;33m(\u001b[0m\u001b[0mself\u001b[0m\u001b[1;33m,\u001b[0m\u001b[0moptions\u001b[0m\u001b[1;33m=\u001b[0m\u001b[1;32mNone\u001b[0m\u001b[1;33m)\u001b[0m\u001b[1;33m:\u001b[0m\u001b[1;33m\u001b[0m\u001b[1;33m\u001b[0m\u001b[0m\n\u001b[1;32m--> 215\u001b[1;33m                 \u001b[0mself\u001b[0m\u001b[1;33m.\u001b[0m\u001b[0mjob\u001b[0m\u001b[1;33m.\u001b[0m\u001b[0mrun\u001b[0m\u001b[1;33m(\u001b[0m\u001b[0mgams_options\u001b[0m\u001b[1;33m=\u001b[0m\u001b[0mself\u001b[0m\u001b[1;33m.\u001b[0m\u001b[0mopt\u001b[0m\u001b[1;33m,\u001b[0m\u001b[1;33m**\u001b[0m\u001b[0mpyDatabases\u001b[0m\u001b[1;33m.\u001b[0m\u001b[0mnoneInit\u001b[0m\u001b[1;33m(\u001b[0m\u001b[0moptions\u001b[0m\u001b[1;33m,\u001b[0m\u001b[1;33m{\u001b[0m\u001b[1;33m}\u001b[0m\u001b[1;33m)\u001b[0m\u001b[1;33m)\u001b[0m\u001b[1;33m\u001b[0m\u001b[1;33m\u001b[0m\u001b[0m\n\u001b[0m\u001b[0;32m    216\u001b[0m \u001b[1;33m\u001b[0m\u001b[0m\n\u001b[0;32m    217\u001b[0m         \u001b[1;32mdef\u001b[0m \u001b[0maddlocal\u001b[0m\u001b[1;33m(\u001b[0m\u001b[0mself\u001b[0m\u001b[1;33m,\u001b[0m\u001b[0mplaceholder\u001b[0m\u001b[1;33m,\u001b[0m\u001b[0mlocal\u001b[0m\u001b[1;33m)\u001b[0m\u001b[1;33m:\u001b[0m\u001b[1;33m\u001b[0m\u001b[1;33m\u001b[0m\u001b[0m\n",
      "\u001b[1;32m~\\Anaconda3\\lib\\site-packages\\gams\\execution.py\u001b[0m in \u001b[0;36mrun\u001b[1;34m(self, gams_options, checkpoint, output, create_out_db, databases)\u001b[0m\n\u001b[0;32m    905\u001b[0m                 \u001b[1;32mraise\u001b[0m \u001b[0mgams\u001b[0m\u001b[1;33m.\u001b[0m\u001b[0mworkspace\u001b[0m\u001b[1;33m.\u001b[0m\u001b[0mGamsExceptionExecution\u001b[0m\u001b[1;33m(\u001b[0m\u001b[1;34m\"GAMS return code not 0 (\"\u001b[0m \u001b[1;33m+\u001b[0m \u001b[0mstr\u001b[0m\u001b[1;33m(\u001b[0m\u001b[0mexitcode\u001b[0m\u001b[1;33m)\u001b[0m \u001b[1;33m+\u001b[0m \u001b[1;34m\"), set the debug flag of the GamsWorkspace constructor to DebugLevel.KeepFiles or higher or define a working_directory to receive a listing file with more details\"\u001b[0m\u001b[1;33m,\u001b[0m \u001b[0mexitcode\u001b[0m\u001b[1;33m)\u001b[0m\u001b[1;33m\u001b[0m\u001b[1;33m\u001b[0m\u001b[0m\n\u001b[0;32m    906\u001b[0m             \u001b[1;32melse\u001b[0m\u001b[1;33m:\u001b[0m\u001b[1;33m\u001b[0m\u001b[1;33m\u001b[0m\u001b[0m\n\u001b[1;32m--> 907\u001b[1;33m                 \u001b[1;32mraise\u001b[0m \u001b[0mgams\u001b[0m\u001b[1;33m.\u001b[0m\u001b[0mworkspace\u001b[0m\u001b[1;33m.\u001b[0m\u001b[0mGamsExceptionExecution\u001b[0m\u001b[1;33m(\u001b[0m\u001b[1;34m\"GAMS return code not 0 (\"\u001b[0m \u001b[1;33m+\u001b[0m \u001b[0mstr\u001b[0m\u001b[1;33m(\u001b[0m\u001b[0mexitcode\u001b[0m\u001b[1;33m)\u001b[0m \u001b[1;33m+\u001b[0m \u001b[1;34m\"), check \"\u001b[0m \u001b[1;33m+\u001b[0m \u001b[0mself\u001b[0m\u001b[1;33m.\u001b[0m\u001b[0m_workspace\u001b[0m\u001b[1;33m.\u001b[0m\u001b[0m_working_directory\u001b[0m \u001b[1;33m+\u001b[0m \u001b[0mos\u001b[0m\u001b[1;33m.\u001b[0m\u001b[0mpath\u001b[0m\u001b[1;33m.\u001b[0m\u001b[0msep\u001b[0m \u001b[1;33m+\u001b[0m \u001b[0mtmp_opt\u001b[0m\u001b[1;33m.\u001b[0m\u001b[0moutput\u001b[0m \u001b[1;33m+\u001b[0m \u001b[1;34m\" for more details\"\u001b[0m\u001b[1;33m,\u001b[0m \u001b[0mexitcode\u001b[0m\u001b[1;33m)\u001b[0m\u001b[1;33m\u001b[0m\u001b[1;33m\u001b[0m\u001b[0m\n\u001b[0m\u001b[0;32m    908\u001b[0m         \u001b[0mself\u001b[0m\u001b[1;33m.\u001b[0m\u001b[0m_p\u001b[0m \u001b[1;33m=\u001b[0m \u001b[1;32mNone\u001b[0m\u001b[1;33m\u001b[0m\u001b[1;33m\u001b[0m\u001b[0m\n\u001b[0;32m    909\u001b[0m \u001b[1;33m\u001b[0m\u001b[0m\n",
      "\u001b[1;31mGamsExceptionExecution\u001b[0m: GAMS return code not 0 (3), check C:\\Users\\sxj477\\Documents\\GitHub\\CGE_Generator\\work_folder\\_gams_py_gjo3.lst for more details"
     ]
    }
   ],
   "source": [
    "H.compile(initDB=True)\n",
    "H.write();\n",
    "mCalib, cp = H.sneakyCalib(db_IO.copy(), ws = ws, loop_kwargs = {'n': 25}, **{'cns': 'CONOPT4'})"
   ]
  },
  {
   "cell_type": "markdown",
   "id": "660d1103-07e5-4314-aa3d-6e190398a80e",
   "metadata": {},
   "source": [
    "### 4. Export "
   ]
  },
  {
   "cell_type": "markdown",
   "id": "f5da80e9-46c2-4306-86c2-e4a22403ab16",
   "metadata": {},
   "source": [
    "*Use data from the calibration step in the main database. The ```sneakyCalib``` method defines some new, auxiliary symbols - these are not used.*"
   ]
  },
  {
   "cell_type": "code",
   "execution_count": null,
   "id": "85208245-b2e5-48c7-a903-0afcc06c4c2e",
   "metadata": {},
   "outputs": [],
   "source": [
    "[gpyDB.GpyDBs_AOM_Second(H.s.db, mCalib.out_db[k]) for k in H.s.db.symbols];\n",
    "H.s.setstate('B')"
   ]
  },
  {
   "cell_type": "markdown",
   "id": "5e0e1c76-f6ed-4648-b609-c6ccd88a0a7b",
   "metadata": {},
   "source": [
    "Export:"
   ]
  },
  {
   "cell_type": "code",
   "execution_count": null,
   "id": "1aba6fe2-5b33-4514-9ff6-5a0df23f7058",
   "metadata": {},
   "outputs": [],
   "source": [
    "with open(os.path.join(d['modules'], H.name), \"wb\") as file:\n",
    "    pickle.dump(H,file)"
   ]
  }
 ],
 "metadata": {
  "kernelspec": {
   "display_name": "Python 3 (ipykernel)",
   "language": "python",
   "name": "python3"
  },
  "language_info": {
   "codemirror_mode": {
    "name": "ipython",
    "version": 3
   },
   "file_extension": ".py",
   "mimetype": "text/x-python",
   "name": "python",
   "nbconvert_exporter": "python",
   "pygments_lexer": "ipython3",
   "version": "3.9.7"
  }
 },
 "nbformat": 4,
 "nbformat_minor": 5
}
