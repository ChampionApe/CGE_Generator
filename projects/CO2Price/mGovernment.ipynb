{
 "cells": [
  {
   "cell_type": "code",
   "execution_count": 1,
   "id": "0698d31e-e8d2-4eef-9ff1-f358a96b185d",
   "metadata": {},
   "outputs": [
    {
     "name": "stdout",
     "output_type": "stream",
     "text": [
      "The file _gams_py_gdb0.gdx is still active and was not deleted.\n",
      "The file _gams_py_gdb1.gdx is still active and was not deleted.\n",
      "The file _gams_py_gdb2.gdx is still active and was not deleted.\n",
      "The file _gams_py_gdb3.gdx is still active and was not deleted.\n",
      "The file _gams_py_gdb4.gdx is still active and was not deleted.\n"
     ]
    }
   ],
   "source": [
    "clean_up = True\n",
    "%run stdPackages.ipynb\n",
    "ws = gams.GamsWorkspace(working_directory=d['work']) # specify where you want to run the GAMS models from (here the repository referred to in d['work'])"
   ]
  },
  {
   "cell_type": "markdown",
   "id": "03def846-1c5c-4613-a6ba-175b81e72a44",
   "metadata": {},
   "source": [
    "# Government, balanced budget"
   ]
  },
  {
   "cell_type": "markdown",
   "id": "ca63216e-16eb-4743-a11d-4509a59e8586",
   "metadata": {},
   "source": [
    "The goverment sector finances public consumption by levying taxes on households, domestic, and foreign firms (even itself). Thus, the government sector behaves in some ways as the simple households, with the exceptions that (1) it does not supply labor and (2) it does not have any intertemporal prefernences. Instead, it balances its budget in each period. "
   ]
  },
  {
   "cell_type": "markdown",
   "id": "2be2440c-a2ae-4fcd-9674-0f0cbe8a7626",
   "metadata": {},
   "source": [
    "In the small model here, we do not account for all taxes and subsidies. For simplicity, we add an adhoc adjustment term to the government budget that balances it in the initial period. This \"j\"-term is included permanently in the model. For all other time periods than this, a single tax instrument is devoted to balance the budget endogenously. The default instrument is the tax on labor income."
   ]
  },
  {
   "cell_type": "markdown",
   "id": "dec603c8-7496-4650-99cc-d46af03ed463",
   "metadata": {},
   "source": [
    "## 1. Data/settings"
   ]
  },
  {
   "cell_type": "markdown",
   "id": "094e5423-2d59-4639-83fa-d726037f6a09",
   "metadata": {},
   "source": [
    "Load data, settings:"
   ]
  },
  {
   "cell_type": "code",
   "execution_count": 2,
   "id": "d7f6f6f9-8533-476e-94d0-3e12b5475102",
   "metadata": {},
   "outputs": [],
   "source": [
    "t = 2018\n",
    "name = 'm'\n",
    "module = name+'_G' # name of module\n",
    "db_IO = GpyDB(pickle_path = os.path.join(d['data'], f'{name}_{t}')) # load IO database named IO_name\n",
    "with open(f\"{d['data']}\\\\glob_{t}\",\"rb\") as file: # load global settings anmed glob_name\n",
    "    glob=pickle.load(file)"
   ]
  },
  {
   "cell_type": "markdown",
   "id": "1326834f-f516-4a89-bc55-f5985cf56911",
   "metadata": {},
   "source": [
    "Beyond the standard IO data, we load relevant data for nesting structure on public consumption goods:"
   ]
  },
  {
   "cell_type": "code",
   "execution_count": 3,
   "id": "4540b832-7ea4-4ae8-9ab1-351854eaaa44",
   "metadata": {},
   "outputs": [],
   "source": [
    "tree = nestingTree.tree(name = f'{module}_ces', tree = db_IO.get('nestG').to_list()) # individual tree\n",
    "Tree = nestingTree.aggTree(name = module, trees = {tree.name: tree})()"
   ]
  },
  {
   "cell_type": "markdown",
   "id": "7a3fadb9-47f2-47ed-9c3d-2de8e167b861",
   "metadata": {},
   "source": [
    "Remove inventory taxes:"
   ]
  },
  {
   "cell_type": "code",
   "execution_count": 4,
   "id": "fbdeb5fc-fada-40e7-ad8a-f53359a510df",
   "metadata": {},
   "outputs": [],
   "source": [
    "db_IO['TotalTax'] = adj.rc_pd(db_IO.get('TotalTax'), ('not', pd.Index(['itory'],name='s')))"
   ]
  },
  {
   "cell_type": "markdown",
   "id": "613dfff3-f8b1-4418-97f5-4131191393a7",
   "metadata": {},
   "source": [
    "Define the subset of sectors that pay taxes:"
   ]
  },
  {
   "cell_type": "code",
   "execution_count": 5,
   "id": "b4e3407d-6795-4f91-bd67-88e584ded9bd",
   "metadata": {},
   "outputs": [],
   "source": [
    "db_IO['d_TotalTax'] = db_IO['TotalTax'].index"
   ]
  },
  {
   "cell_type": "markdown",
   "id": "db35ef40-bb87-48ce-be98-e6df05f88b55",
   "metadata": {},
   "source": [
    "Define $\\tau_D$ to match taxes from IO data:"
   ]
  },
  {
   "cell_type": "code",
   "execution_count": 6,
   "id": "07609d68-5a45-40ba-a642-b07286d68d0a",
   "metadata": {},
   "outputs": [],
   "source": [
    "tVAT = pd.Series(db_IO.get('TotalTax').xs('G') / db_IO.get('qD').xs('G').sum(), index = adj.rc_pd(db_IO.get('qD'), Tree.get('s')).index, name = 'tauD')\n",
    "gpyDB.add_or_merge_vals(db_IO, tVAT, 'tauD')"
   ]
  },
  {
   "cell_type": "markdown",
   "id": "84ffc26a-6f41-498d-9ce4-10af1f62de8b",
   "metadata": {},
   "source": [
    "Export adjusted IO data again:"
   ]
  },
  {
   "cell_type": "code",
   "execution_count": 7,
   "id": "27053297-fe1c-4643-aeb0-26e193c6a6c0",
   "metadata": {},
   "outputs": [],
   "source": [
    "db_IO.export(repo=d['data'])"
   ]
  },
  {
   "cell_type": "markdown",
   "id": "6218c8a2-a474-4391-b422-3bbe4c61672f",
   "metadata": {},
   "source": [
    "Add time index to the IO data:"
   ]
  },
  {
   "cell_type": "code",
   "execution_count": 8,
   "id": "97779546-9de0-4ade-80fe-2aae16903849",
   "metadata": {},
   "outputs": [],
   "source": [
    "def addT(symbol, t):\n",
    "    return adjMultiIndex.bc(symbol, t).reorder_levels(['t']+symbol.index.names if 't' not in symbol.index.names else symbol.index.names)\n",
    "[db_IO.__setitem__(k, addT(db_IO.get(k), glob.db['t'].vals)) for k in db_IO.getTypes(['variable','scalar_variable'])];"
   ]
  },
  {
   "cell_type": "markdown",
   "id": "bee04847-a056-4f0e-956e-85e7893c8088",
   "metadata": {},
   "source": [
    "### Initialize module"
   ]
  },
  {
   "cell_type": "markdown",
   "id": "8275a796-bfbc-4c97-96ce-4c60a8c64889",
   "metadata": {},
   "source": [
    "*Initialize module without any savings first (static method):*"
   ]
  },
  {
   "cell_type": "code",
   "execution_count": 9,
   "id": "2412b24f-ccdc-4612-948b-0d9e1912237a",
   "metadata": {},
   "outputs": [],
   "source": [
    "G = mGovernment.balancedBudget(tree = Tree, glob = glob) # init module\n",
    "G.s.db['labor'] = pd.MultiIndex.from_tuples([('HH','L')], names = ['s','n'])\n",
    "G.s.db['d_TotalTax'] = db_IO.get('d_TotalTax')\n",
    "G.s.db.update_alias(db_IO.get('alias_'))\n",
    "G.s.db['tauD0'] = db_IO.get('tauD').rename('tauD0')\n",
    "G.s.db['tauD'] = db_IO.get('tauD').copy()\n",
    "G.s.db['TotalTax'] = db_IO.get('TotalTax').copy()"
   ]
  },
  {
   "cell_type": "markdown",
   "id": "daa53060-5926-4625-8ba0-cf6cd2d5ac65",
   "metadata": {},
   "source": [
    "*Value shares for nesting part:*"
   ]
  },
  {
   "cell_type": "code",
   "execution_count": 10,
   "id": "19632669-9a50-469b-a7b6-1650cfb8e806",
   "metadata": {},
   "outputs": [],
   "source": [
    "v = valueShares.SimpleRamsey(Tree, db_IO.copy())\n",
    "v.compile() # set up model structure, and make sure to initialize symbols if they are not yet defined in the database \n",
    "v.write(); # write GAMS code used for the model\n",
    "m = v.run(exportTo = d['work'],ws=ws) # solve the \"model\"."
   ]
  },
  {
   "cell_type": "markdown",
   "id": "feeed3f2-2cc4-41c4-8932-707f34aa7827",
   "metadata": {},
   "source": [
    "Use value shares to initialize variables:\n",
    "* Outputs and inputs are provided by IO data.\n",
    "* For intermediate goods, assume a price of 1 (default option in the class, so we don't have to do anything) and set value share = quantity.\n",
    "* Set share parameters to the ones identified by value share system."
   ]
  },
  {
   "cell_type": "code",
   "execution_count": 11,
   "id": "866bddf2-497c-47da-900c-6aeb5df1a3f1",
   "metadata": {
    "tags": []
   },
   "outputs": [],
   "source": [
    "gpyDB.GpyDBs_AOM_Second(G.s.db, gpy(adj.rc_pd(m.out_db.get('vD'), G.get('int').union(G.get('output'))).rename('qD'))) # set intermediate and output levels\n",
    "gpyDB.GpyDBs_AOM_Second(G.s.db, gpy(m.out_db.get('mu').xs(G.get('t0')[0]).rename('mu'))) # set share parameters"
   ]
  },
  {
   "cell_type": "markdown",
   "id": "ae26a502-eb46-46db-b293-a20c98e15af7",
   "metadata": {},
   "source": [
    "### Calibrate"
   ]
  },
  {
   "cell_type": "markdown",
   "id": "9b6b7451-dc3a-4ad0-a928-ea83135105a6",
   "metadata": {},
   "source": [
    "Use sneaky calibration method to solve and calibrate. Note that the government module is quite different, depending on the whether or not the module runs separately from the rest of the model or not (the government budget is balanced by changing taxation of other sectors). "
   ]
  },
  {
   "cell_type": "code",
   "execution_count": 12,
   "id": "1561e328-35ba-4b81-a583-8a0a7676c862",
   "metadata": {},
   "outputs": [],
   "source": [
    "G.compile(initDB=True)\n",
    "G.s.setstate('B_standAlone')\n",
    "G.write();\n",
    "# m_base = G.run(exportTo = d['work'],ws=ws) # solve the \"model\".\n",
    "# G.s['solve'] = f\"\"\"@SolveEmptyNLP({G.s['name']})\"\"\" # test run as NLP model\n",
    "# G.write();\n",
    "mCalib, cp = G.sneakyCalib(db_IO, cState = 'C_standAlone', ws = ws, loop_kwargs = {'n': 25}, **{'cns': 'CONOPT4'})"
   ]
  },
  {
   "cell_type": "markdown",
   "id": "02f225a5-ad52-419b-864f-0fccb2253852",
   "metadata": {
    "tags": []
   },
   "source": [
    "### Export "
   ]
  },
  {
   "cell_type": "markdown",
   "id": "ad56f219-21bd-43e8-ac62-49f3150b92ee",
   "metadata": {},
   "source": [
    "*Use data from the calibration step in the main database. The ```sneakyCalib``` method defines some new, auxiliary symbols - these are not used.*"
   ]
  },
  {
   "cell_type": "code",
   "execution_count": 13,
   "id": "85855696-b7c9-442c-852e-67a3eb98a325",
   "metadata": {},
   "outputs": [],
   "source": [
    "[gpyDB.GpyDBs_AOM_Second(G.s.db, mCalib.out_db[k]) for k in G.s.db.symbols];\n",
    "G.s.setstate('B')"
   ]
  },
  {
   "cell_type": "markdown",
   "id": "3831cb55-9bf8-4726-b8bc-616b168f4a63",
   "metadata": {},
   "source": [
    "Export:"
   ]
  },
  {
   "cell_type": "code",
   "execution_count": 14,
   "id": "3cbe28a5-0d54-412d-9d43-659648db659b",
   "metadata": {},
   "outputs": [],
   "source": [
    "with open(os.path.join(d['data'], G.name), \"wb\") as file:\n",
    "    pickle.dump(G,file)"
   ]
  }
 ],
 "metadata": {
  "kernelspec": {
   "display_name": "Python 3 (ipykernel)",
   "language": "python",
   "name": "python3"
  },
  "language_info": {
   "codemirror_mode": {
    "name": "ipython",
    "version": 3
   },
   "file_extension": ".py",
   "mimetype": "text/x-python",
   "name": "python",
   "nbconvert_exporter": "python",
   "pygments_lexer": "ipython3",
   "version": "3.9.7"
  }
 },
 "nbformat": 4,
 "nbformat_minor": 5
}
