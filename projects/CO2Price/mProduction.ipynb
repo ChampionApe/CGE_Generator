{
 "cells": [
  {
   "cell_type": "markdown",
   "id": "c3d4f9d3-7bef-4752-8384-fad7a295f285",
   "metadata": {
    "tags": []
   },
   "source": [
    "# Production"
   ]
  },
  {
   "cell_type": "markdown",
   "id": "831aa0d1-8d5b-4945-8919-6f5fd777c165",
   "metadata": {},
   "source": [
    "## 1. Data/settings"
   ]
  },
  {
   "cell_type": "markdown",
   "id": "0376f3f5-5872-44a0-8d02-9a7167231e52",
   "metadata": {},
   "source": [
    "If the local variable $t$ has been defined already, the notebook is running from another notebook. If this is not the case, a number of \"local\" methods have to be carried out before solving the model (e.g. setting up the relevant IO data set):"
   ]
  },
  {
   "cell_type": "code",
   "execution_count": 1,
   "id": "b9f1706f-546c-4531-8f45-b3b6323cf4a1",
   "metadata": {},
   "outputs": [
    {
     "name": "stdout",
     "output_type": "stream",
     "text": [
      "The file _gams_py_gdb0.gdx is still active and was not deleted.\n",
      "The file _gams_py_gdb1.gdx is still active and was not deleted.\n",
      "The file _gams_py_gdb13.gdx is still active and was not deleted.\n",
      "The file _gams_py_gdb16.gdx is still active and was not deleted.\n",
      "The file _gams_py_gdb17.gdx is still active and was not deleted.\n",
      "The file _gams_py_gdb18.gdx is still active and was not deleted.\n",
      "The file _gams_py_gdb3.gdx is still active and was not deleted.\n"
     ]
    }
   ],
   "source": [
    "try:\n",
    "    t = t\n",
    "except NameError:\n",
    "    clean_up = True\n",
    "    %run StdPackages.ipynb\n",
    "    name, t = 'm', 1990\n",
    "    ws = gams.GamsWorkspace(working_directory=d['work']) # specify where you want to run the GAMS models from (here the repository referred to in d['work'])\n",
    "    with open(f\"{d['processedData']}\\\\glob_{t}\",\"rb\") as file: # load global settings anmed glob_name\n",
    "        glob=pickle.load(file)\n",
    "    db_IO = GpyDB(pickle_path = os.path.join(d['processedData'], f'{name}_{t}')) # load IO database named IO_name\n",
    "    addTimeToDb(db_IO, glob.db['t'].vals, exceptions = ['sigma'])\n",
    "module = '_'.join([name,str(t),'P'])\n",
    "db_IO0 = db_IO.copy() # create copy\n",
    "db_IO1 = db_IO.copy() # we need an extra one here"
   ]
  },
  {
   "cell_type": "markdown",
   "id": "6a8fc3bf-44c8-48fb-9f44-dec8f52a1274",
   "metadata": {},
   "source": [
    "Add durable prices (for now, to solve static calibration):"
   ]
  },
  {
   "cell_type": "code",
   "execution_count": 2,
   "id": "8c43420c-5858-4e80-a1f7-aaec90d30a36",
   "metadata": {},
   "outputs": [],
   "source": [
    "db_IO0['pD'] = db_IO0.get('pD_dur').combine_first(db_IO0.get('pD'))\n",
    "db_IO0['p'] = db_IO0.get('pD_dur').groupby(['t','n']).mean().combine_first(db_IO0.get('p'))"
   ]
  },
  {
   "cell_type": "markdown",
   "id": "a59cb1c1-bb3e-41c6-bf80-c9214214c85f",
   "metadata": {},
   "source": [
    "## 2. Initial values"
   ]
  },
  {
   "cell_type": "markdown",
   "id": "b21b7818-cfda-41de-befd-3e07f961f53d",
   "metadata": {},
   "source": [
    "Set up nesting tree using the nesting structure:"
   ]
  },
  {
   "cell_type": "code",
   "execution_count": 3,
   "id": "5b9c107c-5d99-4c17-901b-2ac3b0c67f21",
   "metadata": {},
   "outputs": [],
   "source": [
    "# nest = adj.rc_pd(db_IO.get('nestProduction'), pd.Index(['1_'], name = 's')) # test model with only one of the sectors\n",
    "# tree = nestingTree.tree(name = f'{module}_ces', tree = nest.to_list()) # individual tree\n",
    "\n",
    "tree = nestingTree.tree(name = f'{module}_ces', tree = db_IO.get('nestProduction').to_list()) # individual tree\n",
    "Tree = nestingTree.aggTree(name = module, trees = {tree.name: tree})(namespace = {str(n)+'_input': n for n in db_IO.get('n')})"
   ]
  },
  {
   "cell_type": "markdown",
   "id": "dbd29297-f281-4fb9-8b1f-386446783152",
   "metadata": {},
   "source": [
    "Initialize production module, without any durables at first:"
   ]
  },
  {
   "cell_type": "code",
   "execution_count": 4,
   "id": "de3769db-d9f5-456c-94d8-3ad88d471e58",
   "metadata": {},
   "outputs": [],
   "source": [
    "P = mProductionEmissions.Production(tree=Tree, glob = glob) # initialize module from nesting tree and global settings\n",
    "aggregateDB.subset_db(db_IO0, Tree.db.get('s')) # goes through all symbols in db_IO and only keep the elements that are in the set 's' from Tree.db\n",
    "aggregateDB.subset_db(db_IO0, Tree.get('n')) # goes through all symbols in db_IO and only keep the elements that are in the set 'n' from Tree.db\n",
    "robust.robust_merge_dbs(P.s.db, db_IO0, priority = 'second') # Merge IO data into the database of the module; if a symbol is in both, prioritize records from the second database"
   ]
  },
  {
   "cell_type": "markdown",
   "id": "7c2ecf64-5699-4df3-9d59-78e17fa6bba8",
   "metadata": {},
   "source": [
    "Add value shares:"
   ]
  },
  {
   "cell_type": "code",
   "execution_count": 5,
   "id": "ff9efb3d-a34d-4378-a5c6-822b6c935ba8",
   "metadata": {},
   "outputs": [],
   "source": [
    "v = valueShares.valueShares(Tree, db_IO0)\n",
    "v.compile() # set up model structure, and make sure to initialize symbols if they are not yet defined in the database \n",
    "v.write(); # write GAMS code used for the model\n",
    "m = v.run(exportTo = d['work'],ws=ws) # solve the \"model\"."
   ]
  },
  {
   "cell_type": "markdown",
   "id": "631741c9-daae-478e-9942-5db255bfb02c",
   "metadata": {},
   "source": [
    "Use value shares to initialize variables:\n",
    "* Outputs and inputs are provided by IO data.\n",
    "* For intermediate goods, assume a price of 1 (default option in the class, so we don't have to do anything) and set value share = quantity.\n",
    "* Set share parameters to the ones identified by value share system."
   ]
  },
  {
   "cell_type": "code",
   "execution_count": 6,
   "id": "bf64f52d-0c40-4a2e-be0d-f7f6f32f1949",
   "metadata": {},
   "outputs": [],
   "source": [
    "gpyDB.GpyDBs_AOM_Second(P.s.db, gpy(adj.rc_pd(m.out_db.get('vD'), P.get('int')).rename('qD'))) # set intermediate goods levels\n",
    "gpyDB.GpyDBs_AOM_Second(P.s.db, gpy(m.out_db.get('mu').xs(P.get('t0')[0]).rename('mu'))) # set intermediate goods levels"
   ]
  },
  {
   "cell_type": "markdown",
   "id": "384a1270-98c3-4b8e-855b-87d9f6b7be10",
   "metadata": {},
   "source": [
    "### 3. Static calibration"
   ]
  },
  {
   "cell_type": "code",
   "execution_count": 7,
   "id": "d6451d1b-c132-414a-8602-0bdbb4d52b3a",
   "metadata": {},
   "outputs": [],
   "source": [
    "P.compile(initDB=True) # set up model structure, and make sure to initialize symbols if they are not yet defined in the database (initDB = True)\n",
    "P.s.setstate('C') # set to calibration state\n",
    "P.write(); # write GAMS code\n",
    "mStatic = P.run(exportTo = d['work'],ws=ws,**{'cns': 'CONOPT4'}) # solve the model using CONOPT4."
   ]
  },
  {
   "cell_type": "markdown",
   "id": "fe85b3ad-81cd-425f-b290-72bba201ac3b",
   "metadata": {},
   "source": [
    "### 4. Dynamic calibration"
   ]
  },
  {
   "cell_type": "markdown",
   "id": "50a7b7c9-7aa3-483c-b199-20213bef82a1",
   "metadata": {},
   "source": [
    "Initialize module with static calibration as data:"
   ]
  },
  {
   "cell_type": "code",
   "execution_count": 8,
   "id": "3ea2f347-76c4-497c-99d2-bd1beda79f1e",
   "metadata": {},
   "outputs": [],
   "source": [
    "P = mProductionEmissions.Production_ExoMu(tree = Tree, glob = glob)\n",
    "robust.robust_merge_dbs(P.s.db, mStatic.out_db.getTypes(['variable','scalar_variable']), priority = 'second')"
   ]
  },
  {
   "cell_type": "markdown",
   "id": "fe571310-517f-40fc-a90b-4b06801d15f3",
   "metadata": {},
   "source": [
    "Add durables and remove ```MData``` (includes years that are not used in the model):"
   ]
  },
  {
   "cell_type": "code",
   "execution_count": 9,
   "id": "21cfb036-dd4d-42af-92e2-62d2921eac68",
   "metadata": {},
   "outputs": [],
   "source": [
    "P.s.db['MData'] = adj.rc_pd(P.get('MData'),P.get('t'))\n",
    "aggregateDB.readSets(P.s.db) # this makes sure that all necessary sets are defined in the database\n",
    "P.addDurables(dur = db_IO1.get('dur_p'), dur2inv = db_IO1.get('dur2inv'), f = 'sqrAdjCosts')\n",
    "P.initDurables() # adjust to steady state-like model\n",
    "P.compile(initDB=True) # set up model structure\n",
    "P.write(); # write GAMS code\n",
    "# mBaseline = P.run(exportTo = d['work'],ws=ws,**{'cns': 'CONOPT4'}) # solve the model using CONOPT4; baselinea"
   ]
  },
  {
   "cell_type": "markdown",
   "id": "2e0a8a7e-4496-468f-a117-f9dee9174f87",
   "metadata": {},
   "source": [
    "Solve dynamic calibration:"
   ]
  },
  {
   "cell_type": "code",
   "execution_count": 10,
   "id": "cc2cd92f-22af-4278-8f3f-065ffc922944",
   "metadata": {},
   "outputs": [],
   "source": [
    "aggregateDB.subset_db(db_IO1, P.get('t0')) # Only keep IO data on baseline year\n",
    "mCalib, cp = P.sneakyCalib(db_IO1, exportTo = d['work'],ws=ws, loop_kwargs = {'n': 20}, **{'cns': 'CONOPT4'})"
   ]
  },
  {
   "cell_type": "markdown",
   "id": "b7990726-4cd0-41ca-a530-d07818e82148",
   "metadata": {},
   "source": [
    "### 5. Export "
   ]
  },
  {
   "cell_type": "code",
   "execution_count": 11,
   "id": "3b8586da-c126-4b4e-ad68-af23225eb50e",
   "metadata": {},
   "outputs": [],
   "source": [
    "robust.robust_merge_dbs(P.s.db, mCalib.out_db.getTypes(['variable','scalar_variable']), priority = 'second')\n",
    "P.s.setstate('B')"
   ]
  },
  {
   "cell_type": "markdown",
   "id": "06a58534-da8b-424d-ae54-ea1b5c75e9b7",
   "metadata": {},
   "source": [
    "Look at durables:"
   ]
  },
  {
   "cell_type": "code",
   "execution_count": 12,
   "id": "4667f8e1-b267-40b0-98a4-5348a7bdd9ab",
   "metadata": {},
   "outputs": [],
   "source": [
    "# adj.rc_pd(P.get('qD'), P.get('dur')).groupby(['t','s']).sum().unstack('s').plot();"
   ]
  },
  {
   "cell_type": "markdown",
   "id": "08bcc651-bcdb-4729-966e-f485ff71023a",
   "metadata": {},
   "source": [
    "Export:"
   ]
  },
  {
   "cell_type": "code",
   "execution_count": 13,
   "id": "cfab565b-b70f-4090-b22c-b8a2b87d808a",
   "metadata": {},
   "outputs": [],
   "source": [
    "with open(os.path.join(d['modules'], P.name), \"wb\") as file:\n",
    "    pickle.dump(P,file)"
   ]
  }
 ],
 "metadata": {
  "kernelspec": {
   "display_name": "Python 3 (ipykernel)",
   "language": "python",
   "name": "python3"
  },
  "language_info": {
   "codemirror_mode": {
    "name": "ipython",
    "version": 3
   },
   "file_extension": ".py",
   "mimetype": "text/x-python",
   "name": "python",
   "nbconvert_exporter": "python",
   "pygments_lexer": "ipython3",
   "version": "3.9.7"
  }
 },
 "nbformat": 4,
 "nbformat_minor": 5
}
