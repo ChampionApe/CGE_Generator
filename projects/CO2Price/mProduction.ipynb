{
 "cells": [
  {
   "cell_type": "code",
   "execution_count": 1,
   "id": "bc2b3af8-090e-4c3d-a881-9f90c6ae437d",
   "metadata": {},
   "outputs": [
    {
     "name": "stdout",
     "output_type": "stream",
     "text": [
      "The file _gams_py_gdb2.gdx is still active and was not deleted.\n",
      "The file _gams_py_gdb3.gdx is still active and was not deleted.\n"
     ]
    }
   ],
   "source": [
    "clean_up = True\n",
    "%run stdPackages.ipynb\n",
    "ws = gams.GamsWorkspace(working_directory=d['work']) # specify where you want to run the GAMS models from (here the repository referred to in d['work'])"
   ]
  },
  {
   "cell_type": "markdown",
   "id": "c3d4f9d3-7bef-4752-8384-fad7a295f285",
   "metadata": {},
   "source": [
    "# Production"
   ]
  },
  {
   "cell_type": "markdown",
   "id": "e40bd097-28b1-46c5-95df-6b095ea8e89b",
   "metadata": {},
   "source": [
    "## 1. Data/settings"
   ]
  },
  {
   "cell_type": "markdown",
   "id": "24da0d4c-2791-4242-91bf-43df9673c1f6",
   "metadata": {},
   "source": [
    "Load data, settings:"
   ]
  },
  {
   "cell_type": "code",
   "execution_count": 2,
   "id": "c3e6ba28-e63b-4e16-b831-e7f4680c7e1d",
   "metadata": {},
   "outputs": [],
   "source": [
    "t = 2018\n",
    "name = 'm'\n",
    "module = name+'_P' # name of module\n",
    "db_IO = GpyDB(pickle_path = os.path.join(d['data'], f'{name}_{t}')) # load IO database named IO_name\n",
    "with open(f\"{d['data']}\\\\glob_{t}\",\"rb\") as file: # load global settings anmed glob_name\n",
    "    glob=pickle.load(file)"
   ]
  },
  {
   "cell_type": "markdown",
   "id": "d9445971-c038-45d0-89be-a67e474c3563",
   "metadata": {},
   "source": [
    "Add time index to the IO data:"
   ]
  },
  {
   "cell_type": "code",
   "execution_count": 3,
   "id": "e87fcc0d-9a02-443b-b216-fc08a6cec2f2",
   "metadata": {},
   "outputs": [],
   "source": [
    "def addT(symbol, t):\n",
    "    return adjMultiIndex.bc(symbol, t).reorder_levels(['t']+symbol.index.names if 't' not in symbol.index.names else symbol.index.names)\n",
    "[db_IO.__setitem__(k, addT(db_IO.get(k), glob.db['t'].vals)) for k in db_IO.getTypes(['variable','scalar_variable'])];"
   ]
  },
  {
   "cell_type": "markdown",
   "id": "18ecddcd-9933-4f43-8afd-bf08fc53694a",
   "metadata": {},
   "source": [
    "Make a copy for later:"
   ]
  },
  {
   "cell_type": "code",
   "execution_count": 4,
   "id": "257d5805-c281-4615-95d3-738fd2014968",
   "metadata": {},
   "outputs": [],
   "source": [
    "db_IO0 = db_IO.copy() # we are going to adjust data along the way; this keeps a copy of the original data"
   ]
  },
  {
   "cell_type": "markdown",
   "id": "6a8fc3bf-44c8-48fb-9f44-dec8f52a1274",
   "metadata": {},
   "source": [
    "Add durable prices (for now, to solve static calibration):"
   ]
  },
  {
   "cell_type": "code",
   "execution_count": 5,
   "id": "8c43420c-5858-4e80-a1f7-aaec90d30a36",
   "metadata": {},
   "outputs": [],
   "source": [
    "db_IO['pD'] = db_IO.get('pD_dur').combine_first(db_IO.get('pD'))\n",
    "db_IO['p'] = db_IO.get('pD_dur').groupby(['t','n']).mean().combine_first(db_IO.get('p'))"
   ]
  },
  {
   "cell_type": "markdown",
   "id": "a59cb1c1-bb3e-41c6-bf80-c9214214c85f",
   "metadata": {},
   "source": [
    "## 2. Initial values"
   ]
  },
  {
   "cell_type": "markdown",
   "id": "b21b7818-cfda-41de-befd-3e07f961f53d",
   "metadata": {},
   "source": [
    "Set up nesting tree using the nesting structure:"
   ]
  },
  {
   "cell_type": "code",
   "execution_count": 6,
   "id": "5b9c107c-5d99-4c17-901b-2ac3b0c67f21",
   "metadata": {},
   "outputs": [],
   "source": [
    "tree = nestingTree.tree(name = f'{module}_ces', tree = db_IO.get('nestProduction').to_list()) # individual tree\n",
    "Tree = nestingTree.aggTree(name = module, trees = {tree.name: tree})(namespace = {str(n)+'_input': n for n in db_IO.get('n')})"
   ]
  },
  {
   "cell_type": "markdown",
   "id": "dbd29297-f281-4fb9-8b1f-386446783152",
   "metadata": {},
   "source": [
    "Initialize production module, without any durables at first:"
   ]
  },
  {
   "cell_type": "code",
   "execution_count": 7,
   "id": "de3769db-d9f5-456c-94d8-3ad88d471e58",
   "metadata": {},
   "outputs": [],
   "source": [
    "P = mProduction.Production(tree=Tree, glob = glob) # initialize module from nesting tree and global settings\n",
    "aggregateDB.subset_db(db_IO, Tree.db.get('s')) # goes through all symbols in db_IO and only keep the elements that are in the set 's' from Tree.db\n",
    "aggregateDB.subset_db(db_IO, Tree.get('n')) # goes through all symbols in db_IO and only keep the elements that are in the set 'n' from Tree.db\n",
    "robust.robust_merge_dbs(P.s.db, db_IO, priority = 'second') # Merge IO data into the database of the module; if a symbol is in both, prioritize records from the second database"
   ]
  },
  {
   "cell_type": "markdown",
   "id": "7c2ecf64-5699-4df3-9d59-78e17fa6bba8",
   "metadata": {},
   "source": [
    "Add value shares:"
   ]
  },
  {
   "cell_type": "code",
   "execution_count": 8,
   "id": "ff9efb3d-a34d-4378-a5c6-822b6c935ba8",
   "metadata": {},
   "outputs": [],
   "source": [
    "v = valueShares.valueShares(Tree, db_IO.copy())\n",
    "v.compile() # set up model structure, and make sure to initialize symbols if they are not yet defined in the database \n",
    "v.write(); # write GAMS code used for the model\n",
    "m = v.run(exportTo = d['work'],ws=ws) # solve the \"model\"."
   ]
  },
  {
   "cell_type": "markdown",
   "id": "631741c9-daae-478e-9942-5db255bfb02c",
   "metadata": {},
   "source": [
    "Use value shares to initialize variables:\n",
    "* Outputs and inputs are provided by IO data.\n",
    "* For intermediate goods, assume a price of 1 (default option in the class, so we don't have to do anything) and set value share = quantity.\n",
    "* Set share parameters to the ones identified by value share system."
   ]
  },
  {
   "cell_type": "code",
   "execution_count": 9,
   "id": "bf64f52d-0c40-4a2e-be0d-f7f6f32f1949",
   "metadata": {},
   "outputs": [],
   "source": [
    "gpyDB.GpyDBs_AOM_Second(P.s.db, gpy(adj.rc_pd(m.out_db.get('vD'), P.get('int')).rename('qD'))) # set intermediate goods levels\n",
    "gpyDB.GpyDBs_AOM_Second(P.s.db, gpy(m.out_db.get('mu').xs(P.get('t0')[0]).rename('mu'))) # set intermediate goods levels"
   ]
  },
  {
   "cell_type": "markdown",
   "id": "85eee235-e985-4f89-9be5-a8af90696432",
   "metadata": {},
   "source": [
    "Set tax rate to fit revenue collected in baseline year:"
   ]
  },
  {
   "cell_type": "code",
   "execution_count": 10,
   "id": "604efc83-9c86-4292-98d7-8280c6e07a7d",
   "metadata": {},
   "outputs": [],
   "source": [
    "# P.s.db['tauLump'] = db_IO.get('TotalTax').rename('tauLump')\n",
    "P.s.db['tauS'] = adjMultiIndex.applyMult(db_IO.get('TotalTax'), P.get('output')) / P.get('qS')"
   ]
  },
  {
   "cell_type": "markdown",
   "id": "384a1270-98c3-4b8e-855b-87d9f6b7be10",
   "metadata": {},
   "source": [
    "### 3. Static calibration"
   ]
  },
  {
   "cell_type": "code",
   "execution_count": 11,
   "id": "d6451d1b-c132-414a-8602-0bdbb4d52b3a",
   "metadata": {},
   "outputs": [],
   "source": [
    "P.compile(initDB=True) # set up model structure, and make sure to initialize symbols if they are not yet defined in the database (initDB = True)\n",
    "P.s.setstate('C') # set to calibration state\n",
    "P.write(); # write GAMS code\n",
    "mStatic = P.run(exportTo = d['work'],ws=ws,**{'cns': 'CONOPT4'}) # solve the model using CONOPT4."
   ]
  },
  {
   "cell_type": "markdown",
   "id": "fe85b3ad-81cd-425f-b290-72bba201ac3b",
   "metadata": {},
   "source": [
    "### 4. Dynamic calibration"
   ]
  },
  {
   "cell_type": "markdown",
   "id": "50a7b7c9-7aa3-483c-b199-20213bef82a1",
   "metadata": {},
   "source": [
    "Initialize module with static calibration as data:"
   ]
  },
  {
   "cell_type": "code",
   "execution_count": 12,
   "id": "3ea2f347-76c4-497c-99d2-bd1beda79f1e",
   "metadata": {},
   "outputs": [],
   "source": [
    "P = mProduction.Production_ExoMu(tree = Tree, glob = glob)\n",
    "robust.robust_merge_dbs(P.s.db, mStatic.out_db.getTypes(['variable','scalar_variable']), priority = 'second')"
   ]
  },
  {
   "cell_type": "markdown",
   "id": "fe571310-517f-40fc-a90b-4b06801d15f3",
   "metadata": {},
   "source": [
    "Add durables:"
   ]
  },
  {
   "cell_type": "code",
   "execution_count": 13,
   "id": "19ee11f7-c8c2-425c-b7b1-074eb1e02f34",
   "metadata": {},
   "outputs": [],
   "source": [
    "aggregateDB.readSets(P.s.db) # this makes sure that all necessary sets are defined in the database"
   ]
  },
  {
   "cell_type": "code",
   "execution_count": 14,
   "id": "6da911e2-3607-49ff-9e3b-c686ea135b09",
   "metadata": {},
   "outputs": [],
   "source": [
    "P.addDurables(dur = db_IO0.get('dur_p'), dur2inv = db_IO0.get('dur2inv'), f = 'sqrAdjCosts')\n",
    "P.initDurables() # adjust to steady state-like model\n",
    "P.compile(initDB=True) # set up model structure\n",
    "P.write(); # write GAMS code\n",
    "# mBaseline = P.run(exportTo = d['work'],ws=ws,**{'cns': 'CONOPT4'}) # solve the model using CONOPT4; baselinea"
   ]
  },
  {
   "cell_type": "markdown",
   "id": "2e0a8a7e-4496-468f-a117-f9dee9174f87",
   "metadata": {},
   "source": [
    "Solve dynamic calibration:"
   ]
  },
  {
   "cell_type": "code",
   "execution_count": 15,
   "id": "cc2cd92f-22af-4278-8f3f-065ffc922944",
   "metadata": {},
   "outputs": [],
   "source": [
    "aggregateDB.subset_db(db_IO0, P.get('t0')) # Only keep IO data on baseline year\n",
    "mCalib, cp = P.sneakyCalib(db_IO0, exportTo = d['work'],ws=ws, loop_kwargs = {'n': 10}, **{'cns': 'CONOPT4'})"
   ]
  },
  {
   "cell_type": "markdown",
   "id": "b7990726-4cd0-41ca-a530-d07818e82148",
   "metadata": {},
   "source": [
    "### 5. Export "
   ]
  },
  {
   "cell_type": "code",
   "execution_count": 16,
   "id": "3b8586da-c126-4b4e-ad68-af23225eb50e",
   "metadata": {},
   "outputs": [],
   "source": [
    "robust.robust_merge_dbs(P.s.db, mCalib.out_db.getTypes(['variable','scalar_variable']), priority = 'second')\n",
    "P.s.setstate('B')"
   ]
  },
  {
   "cell_type": "markdown",
   "id": "06a58534-da8b-424d-ae54-ea1b5c75e9b7",
   "metadata": {},
   "source": [
    "Look at durables:"
   ]
  },
  {
   "cell_type": "code",
   "execution_count": 17,
   "id": "4667f8e1-b267-40b0-98a4-5348a7bdd9ab",
   "metadata": {},
   "outputs": [
    {
     "data": {
      "image/png": "[encoded data removed]",
      "text/plain": [
       "<Figure size 576x396 with 1 Axes>"
      ]
     },
     "metadata": {},
     "output_type": "display_data"
    }
   ],
   "source": [
    "adj.rc_pd(P.get('qD'), P.get('dur')).groupby(['t','s']).sum().unstack('s').plot();"
   ]
  },
  {
   "cell_type": "markdown",
   "id": "08bcc651-bcdb-4729-966e-f485ff71023a",
   "metadata": {},
   "source": [
    "Export:"
   ]
  },
  {
   "cell_type": "code",
   "execution_count": 18,
   "id": "cfab565b-b70f-4090-b22c-b8a2b87d808a",
   "metadata": {},
   "outputs": [],
   "source": [
    "with open(os.path.join(d['data'], P.name), \"wb\") as file:\n",
    "    pickle.dump(P,file)"
   ]
  }
 ],
 "metadata": {
  "kernelspec": {
   "display_name": "Python 3 (ipykernel)",
   "language": "python",
   "name": "python3"
  },
  "language_info": {
   "codemirror_mode": {
    "name": "ipython",
    "version": 3
   },
   "file_extension": ".py",
   "mimetype": "text/x-python",
   "name": "python",
   "nbconvert_exporter": "python",
   "pygments_lexer": "ipython3",
   "version": "3.9.7"
  }
 },
 "nbformat": 4,
 "nbformat_minor": 5
}
