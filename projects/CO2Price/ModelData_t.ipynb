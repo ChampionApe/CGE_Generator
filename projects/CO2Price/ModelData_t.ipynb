{
 "cells": [
  {
   "cell_type": "markdown",
   "id": "8345c1d0-9329-4ad5-8ef0-3e58cb433055",
   "metadata": {},
   "source": [
    "# Model data"
   ]
  },
  {
   "cell_type": "markdown",
   "id": "103f3534-04df-41ac-babc-831956ee134d",
   "metadata": {},
   "source": [
    "*If a local variable 't' has not been defined, this runs the notebook locally; otherwise, it is assumed to be run from ModelData.ipynb.*"
   ]
  },
  {
   "cell_type": "code",
   "execution_count": 1,
   "id": "f709f239-27ef-4bee-91f8-3239f1dd2178",
   "metadata": {},
   "outputs": [
    {
     "name": "stdout",
     "output_type": "stream",
     "text": [
      "The file grids.gdx is still active and was not deleted.\n",
      "The file rname.gdx is still active and was not deleted.\n",
      "The file _gams_py_gdb0.gdx is still active and was not deleted.\n",
      "The file _gams_py_gdb1.gdx is still active and was not deleted.\n",
      "The file _gams_py_gdb13.gdx is still active and was not deleted.\n",
      "The file _gams_py_gdb16.gdx is still active and was not deleted.\n",
      "The file _gams_py_gdb17.gdx is still active and was not deleted.\n",
      "The file _gams_py_gdb18.gdx is still active and was not deleted.\n",
      "The file _gams_py_gdb3.gdx is still active and was not deleted.\n",
      "The file _gams_py_gdb4.gdx is still active and was not deleted.\n"
     ]
    }
   ],
   "source": [
    "try:\n",
    "    t = t\n",
    "except NameError:\n",
    "    clean_up = True\n",
    "    %run StdPackages.ipynb\n",
    "    t = 2018\n",
    "    name = 'm'\n",
    "error = 1e-7"
   ]
  },
  {
   "cell_type": "markdown",
   "id": "98f4aa82-a8e8-42c4-bb6a-5062dc88963c",
   "metadata": {},
   "source": [
    "Load data:"
   ]
  },
  {
   "cell_type": "code",
   "execution_count": 2,
   "id": "8afa48ad-cd55-44d5-b931-b7b1651401f9",
   "metadata": {},
   "outputs": [],
   "source": [
    "db = GpyDB(pickle_path = os.path.join(d['processedData'], f'IO{t}'))\n",
    "db.name = f'{name}_{t}'\n",
    "with open(os.path.join(d['processedData'],f'glob_{t}'), \"rb\") as file:\n",
    "    glob = pickle.load(file)"
   ]
  },
  {
   "cell_type": "markdown",
   "id": "bf42913b-7f02-42f6-bad3-ba9626cd1f81",
   "metadata": {},
   "source": [
    "Add real interest rate (the time dimension is added later):"
   ]
  },
  {
   "cell_type": "code",
   "execution_count": 3,
   "id": "8828f4db-7258-44eb-8d41-6f0730efb98f",
   "metadata": {},
   "outputs": [],
   "source": [
    "db['Rrate'] = glob.db['R_LR'].vals"
   ]
  },
  {
   "cell_type": "markdown",
   "id": "e47a9a7c-b5b1-4c8a-a1b2-c936393b80dd",
   "metadata": {},
   "source": [
    "Next, run through the various modules and create relevant symbols used throughout:"
   ]
  },
  {
   "cell_type": "markdown",
   "id": "c73e0443-cd62-4325-a522-0dd529dff1ed",
   "metadata": {},
   "source": [
    "## 1. Production module"
   ]
  },
  {
   "cell_type": "markdown",
   "id": "4fc2c5ae-4003-431f-ac63-d344ca110d5e",
   "metadata": {},
   "source": [
    "### 1.1. Nesting structure"
   ]
  },
  {
   "cell_type": "markdown",
   "id": "5c9f025d-4e68-4b6f-8067-562eb3272179",
   "metadata": {},
   "source": [
    "Energy inputs:"
   ]
  },
  {
   "cell_type": "code",
   "execution_count": 4,
   "id": "fe61afa0-b350-4fc6-a22b-c34020ce1e1a",
   "metadata": {},
   "outputs": [],
   "source": [
    "E= '35000_'\n",
    "E_F = E+'_F'"
   ]
  },
  {
   "cell_type": "markdown",
   "id": "731e4712-ac36-4538-94c9-75e5107b1dd9",
   "metadata": {},
   "source": [
    "Specify a general mapping that we'll apply to (most) production sectors:"
   ]
  },
  {
   "cell_type": "code",
   "execution_count": 5,
   "id": "32660ecb-6cdf-4093-a2f0-811a1d0d995c",
   "metadata": {},
   "outputs": [],
   "source": [
    "mFull = pd.MultiIndex.from_tuples([('KELBM', 'RxE'), ('KELBM', 'KELB'), ('KELB', 'iB'), ('KELB','KEL'), ('KEL','L'), ('KEL','KE'), ('KE','iM'), ('KE','E'), ('E', f'{E}_input'), ('E',f'{E_F}')], names = ['n','nn'])"
   ]
  },
  {
   "cell_type": "markdown",
   "id": "156b6bf8-9e05-4f79-8110-11b7b60acb64",
   "metadata": {},
   "source": [
    "If a sector does not demand either E or E_F, remove the KE nest:"
   ]
  },
  {
   "cell_type": "code",
   "execution_count": 6,
   "id": "9f7225ac-1c3c-47f0-8c16-ac3d8098cea3",
   "metadata": {},
   "outputs": [],
   "source": [
    "s_E = adj.rc_pd(db.get('vD'), pd.Index([E], name = 'n')).droplevel('n').index.unique()\n",
    "s_EF= adj.rc_pd(db.get('vD'), pd.Index([E_F], name = 'n')).droplevel('n').index.unique()\n",
    "m_noE = pd.MultiIndex.from_tuples([('KELBM', 'RxE'), ('KELBM', 'KELB'), ('KELB', 'iB'), ('KELB','KEL'), ('KEL','L'), ('KEL','iM')], names = ['n','nn'])\n",
    "s_noE = adj.rc_pd(db.get('s_p'), ('not', s_E.union(s_EF)))\n",
    "m = pyDatabases.cartesianProductIndex([s_noE, m_noE])"
   ]
  },
  {
   "cell_type": "markdown",
   "id": "50b1922f-f321-4880-bf9f-0a3e4d343b1e",
   "metadata": {},
   "source": [
    "If a sector only demands E, and not E_F replace the lower nest with:"
   ]
  },
  {
   "cell_type": "code",
   "execution_count": 7,
   "id": "28ec7b3e-21c0-49e3-af75-714e3241ec6d",
   "metadata": {},
   "outputs": [],
   "source": [
    "m_noEF = pd.MultiIndex.from_tuples([('KELBM', 'RxE'), ('KELBM', 'KELB'), ('KELB', 'iB'), ('KELB','KEL'), ('KEL','L'), ('KEL','KE'), ('KE','iM'), ('KE',f'{E}_input')], names = ['n','nn'])\n",
    "s_noEF = adj.rc_pd(db.get('s_p'), s_E.difference(s_EF))\n",
    "m = m.union(pyDatabases.cartesianProductIndex([s_noEF, m_noEF]))"
   ]
  },
  {
   "cell_type": "markdown",
   "id": "60e6970e-e175-4a36-a2f3-d38dc55e10dc",
   "metadata": {},
   "source": [
    "If a sector only demands EF and not E:"
   ]
  },
  {
   "cell_type": "code",
   "execution_count": 8,
   "id": "6bcc032a-efd6-4c64-aa14-26a370adc036",
   "metadata": {},
   "outputs": [],
   "source": [
    "m_noEdom = pd.MultiIndex.from_tuples([('KELBM', 'RxE'), ('KELBM', 'KELB'), ('KELB', 'iB'), ('KELB','KEL'), ('KEL','L'), ('KEL','KE'), ('KE','iM'), ('KE',E_F)], names = ['n','nn'])\n",
    "s_noEdom = adj.rc_pd(db.get('s_p'), s_EF.difference(s_E))\n",
    "m = m.union(pyDatabases.cartesianProductIndex([s_noEF, m_noEF]))"
   ]
  },
  {
   "cell_type": "markdown",
   "id": "58d6345f-e498-495c-aff9-d4a0cadc8fca",
   "metadata": {},
   "source": [
    "All sectors use both ```iB``` and ```iM``` - so, we finally check for whether all sectors demand labor:"
   ]
  },
  {
   "cell_type": "code",
   "execution_count": 9,
   "id": "58a07708-7cd8-4d05-9788-c32a6767b819",
   "metadata": {},
   "outputs": [],
   "source": [
    "m_noL = pd.MultiIndex.from_tuples([('KELBM', 'RxE'), ('KELBM', 'KELB'), ('KELB', 'iB'), ('KELB','KE'), ('KE','iM'), ('KE','E'), ('E', f'{E}_input'), ('E',f'{E_F}')], names = ['n','nn'])\n",
    "s_noL = adj.rc_pd(db.get('s_p'), ('not', db.get('vD').xs('L',level='n')))\n",
    "m = m.union(pyDatabases.cartesianProductIndex([s_noL, m_noL]))"
   ]
  },
  {
   "cell_type": "markdown",
   "id": "ed213baa-17ec-4a5a-96d6-686856e98cdc",
   "metadata": {},
   "source": [
    "For all other sectors, use the full nesting structure:"
   ]
  },
  {
   "cell_type": "code",
   "execution_count": 10,
   "id": "6e9ab1cc-244b-44df-9979-480ea37167f5",
   "metadata": {},
   "outputs": [],
   "source": [
    "sFull = adj.rc_pd(db.get('s_p'), ('not', ('or', [s_noE, s_noEF, s_noEdom, s_noL])))\n",
    "m = m.union(pyDatabases.cartesianProductIndex([sFull, mFull]))"
   ]
  },
  {
   "cell_type": "markdown",
   "id": "2a6aed33-4259-49ef-bb37-7bf951712ad9",
   "metadata": {},
   "source": [
    "Replace the upper-most level (KELBM) with the name of the sector:"
   ]
  },
  {
   "cell_type": "code",
   "execution_count": 11,
   "id": "103608d7-dcac-4450-9189-e9460b4454f3",
   "metadata": {},
   "outputs": [],
   "source": [
    "df = m.to_frame(index=False)\n",
    "df.loc[df.n == 'KELBM','n'] = df.loc[df.n == 'KELBM', 's']\n",
    "m = pd.MultiIndex.from_frame(df)"
   ]
  },
  {
   "cell_type": "markdown",
   "id": "a5349ff0-81c7-4f52-929f-4db0707c7974",
   "metadata": {},
   "source": [
    "**Materials nest**"
   ]
  },
  {
   "cell_type": "markdown",
   "id": "b8b0f0df-050b-47ee-b4ef-9231f9d15786",
   "metadata": {},
   "source": [
    "The materials nest is slightly different depending on whether or not a given sector demands both the domestic and foreign version of a material. We split into three categories:\n",
    "* For [s,n] in ```dImport[s,n,nn]```, we define a mapping from ```RxE``` to an intermediate good ```RxEym_x``` that is again an aggregate of the domestic/foreign goods ```x,x_F```. \n",
    "* For [s,n] in ```dImport_dom[s,n]```, we define a mapping from ```RxE``` to each of the domestic goods in ```n```; these are the sectors that only demand the domestic type of the good.\n",
    "* For [s,n] in ```dImport_for[s,n]```, we define a mapping from ```RxE``` to each of the foreign good types in ```n```; these are the sectors that only demand the foreign type of the good."
   ]
  },
  {
   "cell_type": "markdown",
   "id": "73acd8b0-0960-4fcf-875a-aff9ab6b3d42",
   "metadata": {},
   "source": [
    "*Remove energy nest - this is included elsewhere in the nesting structure:*"
   ]
  },
  {
   "cell_type": "code",
   "execution_count": 12,
   "id": "8d231cbb-ee3a-433c-8504-33cf85f6cdb4",
   "metadata": {},
   "outputs": [],
   "source": [
    "dImport = adj.rc_pd(db.get('dImport'), ('not', pd.Index([E], name = 'n')))\n",
    "dImport_dom = adj.rc_pd(db.get('dImport_dom'), ('not', pd.Index([E], name = 'n')))\n",
    "dImport_for = adj.rc_pd(db.get('dImport_for'), ('not', pd.Index([E_F], name = 'n')))"
   ]
  },
  {
   "cell_type": "markdown",
   "id": "aa006502-2111-4d81-a6d4-cc0b36380dd1",
   "metadata": {},
   "source": [
    "*Add mappings:*"
   ]
  },
  {
   "cell_type": "code",
   "execution_count": 13,
   "id": "6977f6a3-5124-4969-b43a-98e212d99719",
   "metadata": {},
   "outputs": [],
   "source": [
    "df = adj.rc_pd(dImport, db.get('s_p')).to_frame(index=False).assign(m= lambda x: 'RxEym_'+x['n'].astype(str), u = 'RxE', n = lambda x: x['n'].astype(str)+'_input')\n",
    "m = m.union(pd.MultiIndex.from_frame(df[['s','u','m']]).rename(['s','n','nn']))\n",
    "m = m.union(pd.MultiIndex.from_frame(df[['s','m','n']]).rename(['s','n','nn']))\n",
    "m = m.union(pd.MultiIndex.from_frame(df[['s','m','nn']]).rename(['s','n','nn']))"
   ]
  },
  {
   "cell_type": "markdown",
   "id": "104ecae3-8638-45cb-a4e4-52e44eda6c87",
   "metadata": {},
   "source": [
    "*Domestic only*"
   ]
  },
  {
   "cell_type": "code",
   "execution_count": 14,
   "id": "1103726f-4978-418b-9e20-aa97802ef902",
   "metadata": {},
   "outputs": [],
   "source": [
    "df = adj.rc_pd(dImport_dom, db.get('s_p')).to_frame(index=False).assign(u = 'RxE', n = lambda x: x['n'].astype(str)+'_input')\n",
    "m = m.union(pd.MultiIndex.from_frame(df[['s','u','n']]).rename(['s','n','nn']))"
   ]
  },
  {
   "cell_type": "markdown",
   "id": "a096af32-a91e-415c-af00-53cfd55398a9",
   "metadata": {},
   "source": [
    "*Foreign goods only:*"
   ]
  },
  {
   "cell_type": "code",
   "execution_count": 15,
   "id": "c2e3b3a0-5b29-43fe-8020-103910e469b6",
   "metadata": {},
   "outputs": [],
   "source": [
    "df = adj.rc_pd(dImport_for, db.get('s_p')).to_frame(index=False).assign(u = 'RxE')\n",
    "m = m.union(pd.MultiIndex.from_frame(df[['s','u','n']]).rename(['s','n','nn']))"
   ]
  },
  {
   "cell_type": "markdown",
   "id": "f43edfef-9c4c-4524-a0a7-a10c4b9ba194",
   "metadata": {},
   "source": [
    "Map de stachio:"
   ]
  },
  {
   "cell_type": "code",
   "execution_count": 16,
   "id": "25b3e645-7447-4926-b38c-64ea9e835376",
   "metadata": {},
   "outputs": [],
   "source": [
    "db['nestProduction'] = m"
   ]
  },
  {
   "cell_type": "markdown",
   "id": "a558f544-f089-4ab8-8281-4cda66ad5501",
   "metadata": {},
   "source": [
    "### 1.2. Elasticities"
   ]
  },
  {
   "cell_type": "markdown",
   "id": "7ce06db1-9b50-4302-a966-994c6c8d983f",
   "metadata": {},
   "source": [
    "Elasticity of substitution between materials and ```qKELB```"
   ]
  },
  {
   "cell_type": "code",
   "execution_count": 17,
   "id": "34ee3f47-8be0-4e96-a406-fdabf53a9d58",
   "metadata": {},
   "outputs": [],
   "source": [
    "sigmaOut = pd.Series(0.5, index = m[m.get_level_values('s')==m.get_level_values('n')].droplevel('nn').unique(), name = 'sigma')"
   ]
  },
  {
   "cell_type": "markdown",
   "id": "7e8a1dab-897c-45b8-8384-99809c3f4ae1",
   "metadata": {},
   "source": [
    "Elasticity of substitution ```KELB``` nest:"
   ]
  },
  {
   "cell_type": "code",
   "execution_count": 18,
   "id": "0446bc7d-2c26-4203-8bba-d8f223d55ece",
   "metadata": {},
   "outputs": [],
   "source": [
    "sigmaKELB = pd.Series(0.5, index  = m[m.get_level_values('n')=='KELB'].droplevel('nn').unique(), name = 'sigma')"
   ]
  },
  {
   "cell_type": "markdown",
   "id": "86b3ea31-e677-4e91-9668-9723619c782d",
   "metadata": {},
   "source": [
    "Elasticity of substitution ```KEL``` nest:"
   ]
  },
  {
   "cell_type": "code",
   "execution_count": 19,
   "id": "907a8bc6-66ff-476c-b6d3-f030403e7fb4",
   "metadata": {},
   "outputs": [],
   "source": [
    "sigmaKEL = pd.Series(0.6, index  = m[m.get_level_values('n')=='KEL'].droplevel('nn').unique(), name = 'sigma')"
   ]
  },
  {
   "cell_type": "markdown",
   "id": "5c3d7ef3-29f7-4665-b20e-0c26224b0e9b",
   "metadata": {},
   "source": [
    "Elasticity of substitution ```KE``` nest:"
   ]
  },
  {
   "cell_type": "code",
   "execution_count": 20,
   "id": "5dd8f0a9-f88f-4fdd-8526-ca32b7ba6bc7",
   "metadata": {},
   "outputs": [],
   "source": [
    "sigmaKE = pd.Series(0.5, index  = m[m.get_level_values('n')=='KE'].droplevel('nn').unique(), name = 'sigma')"
   ]
  },
  {
   "cell_type": "markdown",
   "id": "6b14dd9e-43ed-4bde-98a6-e374642a8fb2",
   "metadata": {},
   "source": [
    "Elasticity of substitution ```E``` nest (import/domestic):"
   ]
  },
  {
   "cell_type": "code",
   "execution_count": 21,
   "id": "14074a8c-b337-4e79-9d02-f223cf2fc2ca",
   "metadata": {},
   "outputs": [],
   "source": [
    "sigmaE = pd.Series(2, index  = m[m.get_level_values('n')=='E'].droplevel('nn').unique(), name = 'sigma')"
   ]
  },
  {
   "cell_type": "markdown",
   "id": "aab97b7d-6bba-4e10-95fb-bbe1346e61e4",
   "metadata": {},
   "source": [
    "Elasticity of substitution between materials:"
   ]
  },
  {
   "cell_type": "code",
   "execution_count": 22,
   "id": "b1d40784-7911-44d5-9fab-ddfc8a829714",
   "metadata": {},
   "outputs": [],
   "source": [
    "sigmaRxE = pd.Series(0.5, index = m[m.get_level_values('n')=='RxE'].droplevel('nn').unique(), name = 'sigma')"
   ]
  },
  {
   "cell_type": "markdown",
   "id": "0200b36d-bc1e-4a3b-bf54-25fd7d870776",
   "metadata": {},
   "source": [
    "Elasticity of substitution import/domestic types:"
   ]
  },
  {
   "cell_type": "code",
   "execution_count": 23,
   "id": "ccf23bf7-a896-43ed-ba30-4fe49f6538b1",
   "metadata": {},
   "outputs": [],
   "source": [
    "sigmaRxEym = pd.Series(2, index = m[m.get_level_values('n').str.contains('RxEy')].droplevel('nn').unique(), name = 'sigma')"
   ]
  },
  {
   "cell_type": "markdown",
   "id": "f39f3423-e3ee-41ba-809d-025dec7784a1",
   "metadata": {},
   "source": [
    "Add to database:"
   ]
  },
  {
   "cell_type": "code",
   "execution_count": 24,
   "id": "feb7f305-aee6-4a50-88b1-275675af5cca",
   "metadata": {},
   "outputs": [],
   "source": [
    "sigma = pd.concat([sigmaOut, sigmaKELB, sigmaKEL, sigmaKE, sigmaE, sigmaRxE, sigmaRxEym], axis = 0 )\n",
    "gpyDB.add_or_merge_vals(db, sigma, name = 'sigma')"
   ]
  },
  {
   "cell_type": "markdown",
   "id": "73ca763c-2670-4a0e-a0a9-cee245cdcc55",
   "metadata": {},
   "source": [
    "### 1.2. Regulation and emissions"
   ]
  },
  {
   "cell_type": "markdown",
   "id": "5f0344b9-5847-4e24-a6f0-43afc3273661",
   "metadata": {},
   "source": [
    "Define relevant sector outputs and output shares (relevant if sectors have multiple outputs):"
   ]
  },
  {
   "cell_type": "code",
   "execution_count": 25,
   "id": "d4b4991e-21ff-4ec8-a79c-4aca533871ed",
   "metadata": {},
   "outputs": [],
   "source": [
    "output = adj.rc_pd(db['qS'], db['s_p']) # output\n",
    "inputs = adj.rc_pd(db['qD'], db['s_p']) # inputs\n",
    "outShares = output/pyDatabases.pdSum(output, 'n') # output shares\n",
    "db['qCO2'] = db.get('qCO2') * outShares # overwrite qCO2 to be split into potentially multiple outputs from each sector"
   ]
  },
  {
   "cell_type": "markdown",
   "id": "0aeb9a40-0b4a-4038-80b6-eb909926cbf9",
   "metadata": {},
   "source": [
    "Redefine emissions as a share of the aggregate 1990 level:"
   ]
  },
  {
   "cell_type": "code",
   "execution_count": 26,
   "id": "c69d1613-3ed8-44e4-85dc-01cbd8fd67e5",
   "metadata": {},
   "outputs": [],
   "source": [
    "db['qCO2'] = db.get('qCO2') / glob.db['M1990'].vals"
   ]
  },
  {
   "cell_type": "markdown",
   "id": "f7dacb3d-e90b-4087-8c2f-767f1b16b784",
   "metadata": {},
   "source": [
    "Define implicit tax rate. With normalized emissions to 1990 level, the tax rate now defines the cost of increasing emissions by 1 unit of 1990 emissions (that's a lot). As we do not have emission tax data for $t<1995$, we use the year $1995$ to do this:"
   ]
  },
  {
   "cell_type": "code",
   "execution_count": 27,
   "id": "d1420512-9cf4-43a7-877a-e33b8dee0f96",
   "metadata": {},
   "outputs": [],
   "source": [
    "if t>=1995:\n",
    "    db['tauCO2'] = adjMultiIndex.applyMult((db.get('vTax').xs('Emissions',level='taxTypes') / db.get('qCO2')).fillna(0),\n",
    "                                       output.index)\n",
    "else:\n",
    "    db1995 = GpyDB(pickle_path = os.path.join(d['processedData'], f'{name}_1995'))\n",
    "    db['tauCO2'] = db1995['tauCO2']\n",
    "    # add the CO2 tax to the variable vTax:\n",
    "    os.chdir(d['py'])\n",
    "    from loadIO import addLevelToMultiIndex\n",
    "    os.chdir(d['curr'])\n",
    "    gpyDB.add_or_merge_vals(db, \n",
    "                            addLevelToMultiIndex( pyDatabases.pdSum((db.get('qCO2') * db.get('tauCO2')).dropna(), 'n'), \n",
    "                                                 'taxTypes','Emissions').reorder_levels(['s','taxTypes'])\n",
    "                            , name = 'vTax')"
   ]
  },
  {
   "cell_type": "markdown",
   "id": "03cd3172-eac8-4e0c-b08a-c4d8de90f911",
   "metadata": {},
   "source": [
    "Create a few dummies:"
   ]
  },
  {
   "cell_type": "code",
   "execution_count": 28,
   "id": "1c5c5b7c-145d-4a2c-b957-288d49e2218e",
   "metadata": {},
   "outputs": [],
   "source": [
    "db['dtauCO2'] = db.get('tauCO2').index\n",
    "db['dqCO2'] = db.get('qCO2').index"
   ]
  },
  {
   "cell_type": "markdown",
   "id": "bf19e42d-98e3-4964-ad7e-c323413df12b",
   "metadata": {},
   "source": [
    "Add the rest of the regulation:\n",
    "* Zero lump-sum taxes, zero taxes on inputs.\n",
    "* Environmental taxes as per IO emisssions data,\n",
    "* non-environmental output taxes adjusted to target total taxes"
   ]
  },
  {
   "cell_type": "code",
   "execution_count": 29,
   "id": "0a92cbea-3eb9-4e80-88c8-06db7fcf7ed9",
   "metadata": {},
   "outputs": [],
   "source": [
    "gpyDB.add_or_merge_vals(db, adjMultiIndex.applyMult(db.get('TotalTax'), output.index) / output, name = 'tauS') # tauS\n",
    "gpyDB.add_or_merge_vals(db, pd.Series(0, index = inputs.index), name = 'tauD') # tauD\n",
    "gpyDB.add_or_merge_vals(db, pd.Series(0, index = db.get('s_p'), name = 'tauLump'), name = 'tauLump') # tauLump\n",
    "gpyDB.add_or_merge_vals(db, adj.rc_pd(db.get('tauS'), output)-db.get('vTax').xs('Emissions',level='taxTypes') / output, name = 'tauNonEnv')\n",
    "gpyDB.add_or_merge_vals(db, adj.rc_pd(db.get('tauS'), output)-db.get('vTax').xs('Emissions',level='taxTypes') / output, name = 'tauNonEnv0')"
   ]
  },
  {
   "cell_type": "markdown",
   "id": "83538044-6dbc-4bc0-98f9-f82b3f84a48d",
   "metadata": {},
   "source": [
    "Define emission targets:"
   ]
  },
  {
   "cell_type": "code",
   "execution_count": 30,
   "id": "455539cc-a4f6-4dba-8724-65d8115f229c",
   "metadata": {},
   "outputs": [],
   "source": [
    "tE= glob.db['tE'].vals[0]\n",
    "os_v1 = glob.db['qOS_V1'].vals/glob.db['M1990'].vals\n",
    "os_v2 = glob.db['qOS_V2'].vals/glob.db['M1990'].vals\n",
    "Mnorm = glob.db['MData'].vals / glob.db['M1990'].vals\n",
    "if t<2005:\n",
    "    target_FP = pd.Series(0.8, index = pd.Index(range(2005, tE+1), name = 't'))\n",
    "    target_V1 = pd.Series(np.linspace(1, 0, 76), index = pd.Index(range(1990, 2066), name = 't'))\n",
    "    target_V2 = target_V1\n",
    "elif t<2011:\n",
    "    target_FP = pd.Series(0.79, index = pd.Index(range(2011, tE+1), name = 't'))\n",
    "    target_V1 = pd.concat([pd.Series(np.linspace(0.8, 0.79, 7), index = pd.Index(range(2005, 2012), name = 't')).iloc[0:-1],\n",
    "                           pd.Series(np.linspace(0.79, 0.79-0.59 * 20/15, 60), index = pd.Index(range(2011, 2071), name = 't')),\n",
    "                           pd.Series(0, index = pd.Index([2071], name = 't'))],\n",
    "                          axis = 0)\n",
    "    target_V2 = pd.concat([pd.Series(np.linspace(Mnorm.xs(2005), 0.79, 7), index = pd.Index(range(2005, 2012), name = 't')).iloc[0:-1],\n",
    "                           pd.Series(np.linspace(0.79, 0.79-0.59 * 20/15, 60), index = pd.Index(range(2011, 2071), name = 't')),\n",
    "                           pd.Series(0, index = pd.Index([2071], name = 't'))],\n",
    "                          axis = 0)\n",
    "elif t<2020:\n",
    "    target_FP = pd.Series(0.6, index = pd.Index(range(2020, tE+1), name = 't'))\n",
    "    target_V1 = pd.concat([pd.Series(np.linspace(0.79, 0.6, 10), index = pd.Index(range(2011,2021), name = 't')).iloc[0:-1], \n",
    "                           pd.Series(np.linspace(0.6, 0, 46), index = pd.Index(range(2020, 2066), name = 't'))],\n",
    "                          axis = 0)\n",
    "    target_V2 = pd.concat([pd.Series(np.linspace(Mnorm.xs(2011), 0.6, 10), index = pd.Index(range(2011,2021), name = 't')).iloc[0:-1], \n",
    "                           pd.Series(np.linspace(0.6, 0, 46), index = pd.Index(range(2020, 2066), name = 't'))],\n",
    "                          axis = 0)\n",
    "else:\n",
    "    target_FP = pd.concat([pd.Series([0.3, 0], index = pd.Index([2030, 2045], name = 't')),\n",
    "                           pd.Series(-.1, index = pd.Index(range(2050, tE+1), name = 't'))], \n",
    "                          axis = 0)\n",
    "    target_V1 = pd.concat([pd.Series(np.linspace(0.6, 0.3, 11), index = pd.Index(range(2020, 2031), name = 't')).iloc[0:-1],\n",
    "                           pd.Series(np.linspace(0.3, 0, 16), index = pd.Index(range(2030, 2046), name = 't')).iloc[0:-1],\n",
    "                           pd.Series(np.linspace(0, -0.1, 6), index = pd.Index(range(2045, 2051), name = 't'))],\n",
    "                          axis = 0)\n",
    "    target_V2 = pd.concat([pd.Series(np.linspace(Mnorm.xs(2020), 0.3, 11), index = pd.Index(range(2020, 2031), name = 't')).iloc[0:-1],\n",
    "                           pd.Series(np.linspace(0.3, 0, 16), index = pd.Index(range(2030, 2046), name = 't')).iloc[0:-1],\n",
    "                           pd.Series(np.linspace(0, -0.1, 6), index = pd.Index(range(2045, 2051), name = 't'))],\n",
    "                          axis = 0)\n",
    "nTransitory = target_V2.index.max()-t-1\n",
    "# targetOS_V1 = target_V1.loc[t+1:].add(-pd.Series(os_v1/22, index = pd.Index(range(t+1,t+23), name = 't')), fill_value=0) # linear elimination in 22 years\n",
    "targetOS_V1 = auxiliary.eliminateOvershoot(target_V1.loc[t+23], t, 22, target_V1, os_v1).combine_first(target_V1.loc[t+1:])\n",
    "targetOS_V2 = auxiliary.eliminateOvershoot(target_V2.iloc[-1], t, nTransitory, target_V2, os_v2)\n",
    "db['MTarget_FP'] = target_FP\n",
    "db['MTarget_NO_V1'] = auxiliary.extrapolateUpper(target_V1.loc[t:], tE)\n",
    "db['MTarget_NO_V2'] = auxiliary.extrapolateUpper(target_V2.loc[t:], tE)\n",
    "db['MTarget_V1'] = auxiliary.extrapolateUpper(targetOS_V1, tE)\n",
    "db['MTarget_V2'] = auxiliary.extrapolateUpper(targetOS_V2, tE)"
   ]
  },
  {
   "cell_type": "markdown",
   "id": "a409a9a2-3e49-4818-a21b-a7696d08ad7d",
   "metadata": {},
   "source": [
    "Define sector-specific prices given regulation:"
   ]
  },
  {
   "cell_type": "code",
   "execution_count": 31,
   "id": "6c8d8f45-fd65-4906-a967-949ad7a77cb0",
   "metadata": {},
   "outputs": [],
   "source": [
    "gpyDB.add_or_merge_vals(db, adj.rc_pd(db.get('p'), inputs)+adj.rc_pd(db.get('tauD'), inputs), name = 'pD')"
   ]
  },
  {
   "cell_type": "markdown",
   "id": "4967d049-567e-4568-9a96-1d6130743a58",
   "metadata": {
    "tags": []
   },
   "source": [
    "## 2. Investment module"
   ]
  },
  {
   "cell_type": "markdown",
   "id": "e1b856ee-dac8-4727-a432-d073b5c6637b",
   "metadata": {},
   "source": [
    "### 2.1. Nesting structure"
   ]
  },
  {
   "cell_type": "markdown",
   "id": "c4a8601c-c2c0-4294-a940-32ac359a7882",
   "metadata": {},
   "source": [
    "The investment module consists only of the materials nest (including energy). Thus, it proceeds along the same lines:"
   ]
  },
  {
   "cell_type": "code",
   "execution_count": 32,
   "id": "6fb189ce-b9e2-43cd-ad5f-2e004f1998a3",
   "metadata": {},
   "outputs": [],
   "source": [
    "dImport = adj.rc_pd(db.get('dImport'), db.get('s_i'))\n",
    "dImport_dom = adj.rc_pd(db.get('dImport_dom'), db.get('s_i'))\n",
    "dImport_for = adj.rc_pd(db.get('dImport_for'), db.get('s_i'))"
   ]
  },
  {
   "cell_type": "markdown",
   "id": "8642a543-efa2-415d-b21d-d06e1abd59ab",
   "metadata": {},
   "source": [
    "*Add mappings:*"
   ]
  },
  {
   "cell_type": "code",
   "execution_count": 33,
   "id": "9e24157c-74c4-4d24-9f84-730a711460a5",
   "metadata": {},
   "outputs": [],
   "source": [
    "df = dImport.to_frame(index=False).assign(m = lambda x: 'Materials_'+x['n'].astype(str), u = 'Materials')\n",
    "m = pd.MultiIndex.from_frame(df[['s','u','m']]).rename(['s','n','nn']) # mapping from materials to materials_x\n",
    "m = m.union(pd.MultiIndex.from_frame(df[['s','m','n']]).rename(['s','n','nn'])) # mapping from materials_x to x\n",
    "m = m.union(pd.MultiIndex.from_frame(df[['s','m','nn']]).rename(['s','n','nn'])) # mapping from materials_x to x_F"
   ]
  },
  {
   "cell_type": "markdown",
   "id": "db91ee9f-a8a8-4c6f-80f7-fce24ffea90a",
   "metadata": {},
   "source": [
    "*Domestic only*"
   ]
  },
  {
   "cell_type": "code",
   "execution_count": 34,
   "id": "d8c87e71-aec9-46b0-9c1f-8c637e2345e0",
   "metadata": {},
   "outputs": [],
   "source": [
    "df = dImport_dom.to_frame(index=False).assign(u = 'Materials')\n",
    "m = m.union(pd.MultiIndex.from_frame(df[['s','u','n']]).rename(['s','n','nn'])) # mapping from materials to input"
   ]
  },
  {
   "cell_type": "markdown",
   "id": "ac37e5e6-711c-45a0-9702-30b3be59d58d",
   "metadata": {},
   "source": [
    "Foreign only:"
   ]
  },
  {
   "cell_type": "code",
   "execution_count": 35,
   "id": "17a584e9-b5a2-4f04-96c3-2152a6c9d6c8",
   "metadata": {},
   "outputs": [],
   "source": [
    "df = dImport_for.to_frame(index=False).assign(u = 'Materials')\n",
    "m = m.union(pd.MultiIndex.from_frame(df[['s','u','n']]).rename(['s','n','nn'])) # mapping from materials to input"
   ]
  },
  {
   "cell_type": "markdown",
   "id": "26e6cd3f-5b69-4cb7-97d9-5016975f4ea7",
   "metadata": {},
   "source": [
    "Replace the upper-most level (KELBM) with the name of the sector:"
   ]
  },
  {
   "cell_type": "code",
   "execution_count": 36,
   "id": "4d834311-2871-400d-8ead-1be5b2601817",
   "metadata": {},
   "outputs": [],
   "source": [
    "df = m.to_frame(index=False)\n",
    "df.loc[df.n == 'Materials','n'] = df.loc[df.n == 'Materials', 's']\n",
    "m = pd.MultiIndex.from_frame(df)"
   ]
  },
  {
   "cell_type": "markdown",
   "id": "3a41a608-5fe3-4292-971a-4f514d54e685",
   "metadata": {},
   "source": [
    "*Add nesting structure:*"
   ]
  },
  {
   "cell_type": "code",
   "execution_count": 37,
   "id": "3f365a1c-b853-4e0f-908a-ee349f7579a5",
   "metadata": {},
   "outputs": [],
   "source": [
    "db['nestInvestment'] = m"
   ]
  },
  {
   "cell_type": "markdown",
   "id": "a51949b0-3b51-4f55-8fe4-480d5b217064",
   "metadata": {},
   "source": [
    "### 2.2: Elasticities:"
   ]
  },
  {
   "cell_type": "code",
   "execution_count": 38,
   "id": "d122a461-6b48-434b-866e-300f62a2f12a",
   "metadata": {},
   "outputs": [],
   "source": [
    "sigmaI = pd.Series(0, index = m.droplevel('nn').unique(), name = 'sigma')\n",
    "gpyDB.add_or_merge_vals(db, sigmaI, name = 'sigma')"
   ]
  },
  {
   "cell_type": "markdown",
   "id": "9206da91-3f84-4847-8a2c-a38949aa68ec",
   "metadata": {},
   "source": [
    "### 2.2. Regulation:"
   ]
  },
  {
   "cell_type": "markdown",
   "id": "78ace4ef-c484-4062-9ef1-a09956057357",
   "metadata": {},
   "source": [
    "The investment sector does not itself emit emissions; however, investments are still tied to emissions through this sectors' reliance on inputs from other sectors (that are emission intensive). The emission regulation is filled in as a \"production module\" as above (but with zero emissions), in order to rely on a similar code."
   ]
  },
  {
   "cell_type": "code",
   "execution_count": 39,
   "id": "576d59cc-93ce-40d6-b3e6-77a2670867ed",
   "metadata": {},
   "outputs": [],
   "source": [
    "output = adj.rc_pd(db['qS'], db['s_i']) # output\n",
    "inputs = adj.rc_pd(db['qD'], db['s_i']) # inputs\n",
    "outShares = output/pyDatabases.pdSum(output, 'n') # output shares\n",
    "gpyDB.add_or_merge_vals(db, (adj.rc_pd(db.get('qCO2'), db['s_i']) * outShares).fillna(0), name = 'qCO2')\n",
    "gpyDB.add_or_merge_vals(db, pd.Series(0, index = output.index, name = 'tauCO2'), name = 'tauCO2')"
   ]
  },
  {
   "cell_type": "markdown",
   "id": "8a906c53-e1af-46ef-93cd-1852359a6794",
   "metadata": {},
   "source": [
    "Rest of the regulation part:"
   ]
  },
  {
   "cell_type": "code",
   "execution_count": 40,
   "id": "34420176-ed3c-4199-82e2-67e5ec4458fe",
   "metadata": {},
   "outputs": [],
   "source": [
    "gpyDB.add_or_merge_vals(db, adjMultiIndex.applyMult(db.get('TotalTax'), output.index) / output, name = 'tauS') # tauS\n",
    "gpyDB.add_or_merge_vals(db, pd.Series(0, index = inputs.index), name = 'tauD') # tauD\n",
    "gpyDB.add_or_merge_vals(db, pd.Series(0, index = db.get('s_p'), name = 'tauLump'), name = 'tauLump') # tauLump\n",
    "gpyDB.add_or_merge_vals(db, adj.rc_pd(db.get('tauS'), output)-db.get('vTax').xs('Emissions',level='taxTypes') / output, name = 'tauNonEnv')\n",
    "gpyDB.add_or_merge_vals(db, adj.rc_pd(db.get('tauS'), output)-db.get('vTax').xs('Emissions',level='taxTypes') / output, name = 'tauNonEnv0')"
   ]
  },
  {
   "cell_type": "markdown",
   "id": "e26b39da-cb11-478a-962d-6240492ef666",
   "metadata": {},
   "source": [
    "Define sector-specific prices given regulation:"
   ]
  },
  {
   "cell_type": "code",
   "execution_count": 41,
   "id": "770b9048-7432-4a40-9544-406c35999027",
   "metadata": {},
   "outputs": [],
   "source": [
    "gpyDB.add_or_merge_vals(db, adj.rc_pd(db.get('p'), inputs)+adj.rc_pd(db.get('tauD'), inputs), name = 'pD')"
   ]
  },
  {
   "cell_type": "markdown",
   "id": "1951400d-d7c7-42d1-b161-04fd517b7bda",
   "metadata": {},
   "source": [
    "## 3. Households"
   ]
  },
  {
   "cell_type": "markdown",
   "id": "b1f02ab6-0856-4204-aaea-51f174b62460",
   "metadata": {},
   "source": [
    "### 3.1. Nesting structure"
   ]
  },
  {
   "cell_type": "markdown",
   "id": "61cdbf8e-f470-46d4-9fc8-2fa9eb643915",
   "metadata": {},
   "source": [
    "The household consumption nesting structure is somewhat similar to the investment sectors, with the exception that the top nest is a consumption aggregate that captures intertemporal preferences for consumption smoothing."
   ]
  },
  {
   "cell_type": "code",
   "execution_count": 42,
   "id": "de70e328-ea57-4573-9117-11cf2599f64f",
   "metadata": {},
   "outputs": [],
   "source": [
    "dImport = adj.rc_pd(db.get('dImport'), db.get('s_HH'))\n",
    "dImport_dom = adj.rc_pd(db.get('dImport_dom'), db.get('s_HH'))\n",
    "dImport_for = adj.rc_pd(db.get('dImport_for'), db.get('s_HH'))"
   ]
  },
  {
   "cell_type": "markdown",
   "id": "dfa7c6a8-7ad1-43d9-a98e-0e0ef26bda72",
   "metadata": {},
   "source": [
    "*Add mappings:*"
   ]
  },
  {
   "cell_type": "code",
   "execution_count": 43,
   "id": "7549663c-7a5a-4845-9cb9-1ce3d6d2b0ef",
   "metadata": {},
   "outputs": [],
   "source": [
    "df = dImport.to_frame(index=False).assign(m = lambda x: 'C_'+x['n'].astype(str), u = 'C')\n",
    "m = pd.MultiIndex.from_frame(df[['s','u','m']]).rename(['s','n','nn']) # mapping from materials to materials_x\n",
    "m = m.union(pd.MultiIndex.from_frame(df[['s','m','n']]).rename(['s','n','nn'])) # mapping from materials_x to x\n",
    "m = m.union(pd.MultiIndex.from_frame(df[['s','m','nn']]).rename(['s','n','nn'])) # mapping from materials_x to x_F"
   ]
  },
  {
   "cell_type": "markdown",
   "id": "d7b07091-011e-4165-ab33-9c88b2c07318",
   "metadata": {},
   "source": [
    "*Domestic only*"
   ]
  },
  {
   "cell_type": "code",
   "execution_count": 44,
   "id": "8c3528de-192e-4140-b3ee-b4c7ee439317",
   "metadata": {},
   "outputs": [],
   "source": [
    "df = dImport_dom.to_frame(index=False).assign(u = 'C')\n",
    "m = m.union(pd.MultiIndex.from_frame(df[['s','u','n']]).rename(['s','n','nn'])) # mapping from materials to input"
   ]
  },
  {
   "cell_type": "markdown",
   "id": "1d6a3d8d-9546-49bb-82d1-d45f5e8d4137",
   "metadata": {},
   "source": [
    "Foreign only:"
   ]
  },
  {
   "cell_type": "code",
   "execution_count": 45,
   "id": "1f5d0f8e-66ff-4e33-b311-129d9937acd9",
   "metadata": {},
   "outputs": [],
   "source": [
    "df = dImport_for.to_frame(index=False).assign(u = 'C')\n",
    "m = m.union(pd.MultiIndex.from_frame(df[['s','u','n']]).rename(['s','n','nn'])) # mapping from materials to input"
   ]
  },
  {
   "cell_type": "markdown",
   "id": "7d682a6f-7160-4313-a1b8-8316ebce5022",
   "metadata": {},
   "source": [
    "Replace the upper-most level with the name of the household consumption aggregate:"
   ]
  },
  {
   "cell_type": "code",
   "execution_count": 46,
   "id": "09a9b9c5-d4de-42cb-bcf8-d8746bbc249a",
   "metadata": {},
   "outputs": [],
   "source": [
    "df = m.to_frame(index=False)\n",
    "df.loc[df.n == 'C','n'] = 'C_'+df.loc[df.n == 'C', 's']\n",
    "m = pd.MultiIndex.from_frame(df)"
   ]
  },
  {
   "cell_type": "markdown",
   "id": "2a60341e-4303-4bad-b2a5-52fd5eb5085b",
   "metadata": {},
   "source": [
    "*Add nesting structure:*"
   ]
  },
  {
   "cell_type": "code",
   "execution_count": 47,
   "id": "7ceb73ef-4fe0-49bb-9977-0de301193c4e",
   "metadata": {},
   "outputs": [],
   "source": [
    "db['nestHH'] = m"
   ]
  },
  {
   "cell_type": "markdown",
   "id": "a824a755-54c8-4788-9c9c-5fddb48be740",
   "metadata": {},
   "source": [
    "Add mapping from consumption aggregate to labor:"
   ]
  },
  {
   "cell_type": "code",
   "execution_count": 48,
   "id": "7563d514-aaa2-4e91-8b9d-f0fe8dfb670d",
   "metadata": {},
   "outputs": [],
   "source": [
    "db['L2C'] = pd.MultiIndex.from_arrays([db.get('s_HH'), pd.Index(['L']*len(db.get('s_HH')), name = 'n'), ('C_'+db.get('s_HH')).rename('nn')])"
   ]
  },
  {
   "cell_type": "markdown",
   "id": "92539b0b-6c85-4c9f-9774-1dfd0f502b71",
   "metadata": {},
   "source": [
    "### 3.2. Elasticities:"
   ]
  },
  {
   "cell_type": "markdown",
   "id": "340b8cfb-da25-4211-ac74-51ac1c02569c",
   "metadata": {},
   "source": [
    "Upper level nest:"
   ]
  },
  {
   "cell_type": "code",
   "execution_count": 49,
   "id": "63532cd0-7d5f-4e75-b914-e37c51f0c8e8",
   "metadata": {},
   "outputs": [],
   "source": [
    "sigma_HH_upper = pd.Series(0.3, index = m[m.get_level_values('n') == 'C_HH'].droplevel('nn').unique(), name = 'sigma')"
   ]
  },
  {
   "cell_type": "markdown",
   "id": "6f407bca-cc4b-443d-8cb1-abb1daa656c5",
   "metadata": {},
   "source": [
    "Lower-level (import/domestic competition):"
   ]
  },
  {
   "cell_type": "code",
   "execution_count": 50,
   "id": "5dcadeb9-4b96-4b25-9167-f418ab4fe7d0",
   "metadata": {},
   "outputs": [],
   "source": [
    "sigma_HH_Import = pd.Series(2, index = m[m.get_level_values('n') != 'C_HH'].droplevel('nn').unique(), name = 'sigma')"
   ]
  },
  {
   "cell_type": "markdown",
   "id": "d2b4c2be-1061-4156-b39f-2c184ebc6ae6",
   "metadata": {},
   "source": [
    "Add to database:"
   ]
  },
  {
   "cell_type": "code",
   "execution_count": 51,
   "id": "336aeac6-be8a-49a6-98e7-cbdb9b1ebad0",
   "metadata": {},
   "outputs": [],
   "source": [
    "sigma_HH = pd.concat([sigma_HH_upper, sigma_HH_Import], axis = 0) \n",
    "gpyDB.add_or_merge_vals(db, sigma_HH, name = 'sigma')"
   ]
  },
  {
   "cell_type": "markdown",
   "id": "09f754ef-cdb0-47d6-be03-cf2ea1bf5196",
   "metadata": {},
   "source": [
    "### 3.2. Regulation:"
   ]
  },
  {
   "cell_type": "markdown",
   "id": "18097122-197b-4a50-9e69-e8b8313561c2",
   "metadata": {},
   "source": [
    "Households do not directly emit anything (it all happens in the production process, at the moment). Currently, we use a very simple type of regulation here:\n",
    "* Households pay VAT (the size of which is included in the IO data); we impose this as a flat rate on all inputs.\n",
    "* Set the labor income tax rate at 0.47 (roughly the average for 2018 data).\n",
    "* We set the level of lump sum transfers at 40\\% of labor income (roughly the case for 2018 data).\n",
    "* Finally, *for now/temporarily*, adjust the value of *TotalTax* to ensure that the consumer has a balanced budget. If we used detailed data on regulation on households, we could drop this assumption."
   ]
  },
  {
   "cell_type": "code",
   "execution_count": 52,
   "id": "3899306e-419a-49ff-ab8c-da8d8a711272",
   "metadata": {},
   "outputs": [],
   "source": [
    "output = adj.rc_pd(db.get('qS'), db['s_HH'])\n",
    "inputs = adj.rc_pd(db.get('qD'), db['s_HH'])\n",
    "rTransfer = 0.4004\n",
    "rLaborTax = 0.478\n",
    "rVAT = adj.rc_pd(db.get('vTax').xs('VAT',level='taxTypes'), db['s_HH']) / pyDatabases.pdSum(inputs, 'n')\n",
    "gpyDB.add_or_merge_vals(db, adjMultiIndex.applyMult(rVAT,inputs.index), name = 'tauD') # add flat rate VAT on all demand\n",
    "gpyDB.add_or_merge_vals(db, pd.Series(rLaborTax, index = output.index, name = 'tauS'), name = 'tauS') # add a flat labor tax rate\n",
    "gpyDB.add_or_merge_vals(db, pyDatabases.pdSum(-output * rTransfer, 'n').rename('tauLump'), name = 'tauLump') # Adjust lump sum tax\n",
    "gpyDB.add_or_merge_vals(db, pyDatabases.pdSum(rVAT * inputs, 'n')+pyDatabases.pdSum(output, 'n') * (rLaborTax-rTransfer), name = 'TotalTax') # adhoc adjustment of 'TotalTax'"
   ]
  },
  {
   "cell_type": "markdown",
   "id": "b2e7a7cf-79fc-48f6-81d0-a3486e473e99",
   "metadata": {},
   "source": [
    "## 4. Government"
   ]
  },
  {
   "cell_type": "markdown",
   "id": "2621bbeb-42df-435c-9b5b-819756ee7fe8",
   "metadata": {},
   "source": [
    "### 4.1. Nesting structure"
   ]
  },
  {
   "cell_type": "markdown",
   "id": "47f1b560-9dfe-496e-b76e-62cb9cc78e8d",
   "metadata": {},
   "source": [
    "Government consumption is nested in a similar way as household consumption - and uses the same elasticities:"
   ]
  },
  {
   "cell_type": "code",
   "execution_count": 53,
   "id": "7ea585db-97bd-4024-96a0-3a91be674238",
   "metadata": {},
   "outputs": [],
   "source": [
    "dImport = adj.rc_pd(db.get('dImport'), db.get('s_G'))\n",
    "dImport_dom = adj.rc_pd(db.get('dImport_dom'), db.get('s_G'))\n",
    "dImport_for = adj.rc_pd(db.get('dImport_for'), db.get('s_G'))"
   ]
  },
  {
   "cell_type": "markdown",
   "id": "ff83ba63-dab5-4043-86db-14031fce07ff",
   "metadata": {},
   "source": [
    "*Add mappings:*"
   ]
  },
  {
   "cell_type": "code",
   "execution_count": 54,
   "id": "d548b234-0e59-496e-9fcf-078ecfbe63b2",
   "metadata": {},
   "outputs": [],
   "source": [
    "df = dImport.to_frame(index=False).assign(m = lambda x: 'GC_'+x['n'].astype(str), u = 'GC')\n",
    "m = pd.MultiIndex.from_frame(df[['s','u','m']]).rename(['s','n','nn']) # mapping from materials to materials_x\n",
    "m = m.union(pd.MultiIndex.from_frame(df[['s','m','n']]).rename(['s','n','nn'])) # mapping from materials_x to x\n",
    "m = m.union(pd.MultiIndex.from_frame(df[['s','m','nn']]).rename(['s','n','nn'])) # mapping from materials_x to x_F"
   ]
  },
  {
   "cell_type": "markdown",
   "id": "4a5ae872-7271-4c5f-9f51-9cca4666f566",
   "metadata": {},
   "source": [
    "*Domestic only*"
   ]
  },
  {
   "cell_type": "code",
   "execution_count": 55,
   "id": "31db36e8-076f-4b39-bc62-db2c3db64d5a",
   "metadata": {},
   "outputs": [],
   "source": [
    "df = dImport_dom.to_frame(index=False).assign(u = 'GC')\n",
    "m = m.union(pd.MultiIndex.from_frame(df[['s','u','n']]).rename(['s','n','nn'])) # mapping from materials to input"
   ]
  },
  {
   "cell_type": "markdown",
   "id": "bdfc6afc-3fec-4f61-ae16-1a742a053926",
   "metadata": {},
   "source": [
    "Foreign only:"
   ]
  },
  {
   "cell_type": "code",
   "execution_count": 56,
   "id": "aa4bbb96-3012-4651-a8e5-ecc60cb4cc04",
   "metadata": {},
   "outputs": [],
   "source": [
    "df = dImport_for.to_frame(index=False).assign(u = 'GC')\n",
    "m = m.union(pd.MultiIndex.from_frame(df[['s','u','n']]).rename(['s','n','nn'])) # mapping from materials to input"
   ]
  },
  {
   "cell_type": "markdown",
   "id": "1f07a0f9-ea3d-42d2-ba03-e5ca4ff11be1",
   "metadata": {},
   "source": [
    "Replace the upper-most level with the name of the household consumption aggregate:"
   ]
  },
  {
   "cell_type": "code",
   "execution_count": 57,
   "id": "0452bac0-fd86-491a-abdd-80d7b0407479",
   "metadata": {},
   "outputs": [],
   "source": [
    "df = m.to_frame(index=False)\n",
    "df.loc[df.n == 'GC','n'] = 'GC_'+df.loc[df.n == 'GC', 's']\n",
    "m = pd.MultiIndex.from_frame(df)"
   ]
  },
  {
   "cell_type": "markdown",
   "id": "cfe9fd63-7408-4324-9c58-80125bdd478f",
   "metadata": {},
   "source": [
    "*Add nesting structure:*"
   ]
  },
  {
   "cell_type": "code",
   "execution_count": 58,
   "id": "41e0f79d-96dc-4d40-9303-3e7681bd59fd",
   "metadata": {},
   "outputs": [],
   "source": [
    "db['nestG'] = m"
   ]
  },
  {
   "cell_type": "markdown",
   "id": "6b726ca5-e949-4bf5-8660-ba0d6dad2c2b",
   "metadata": {},
   "source": [
    "### 4.2. Elasticities"
   ]
  },
  {
   "cell_type": "markdown",
   "id": "69a9434b-9bcf-4406-af5f-303311702789",
   "metadata": {},
   "source": [
    "Upper level nest:"
   ]
  },
  {
   "cell_type": "code",
   "execution_count": 59,
   "id": "fce17020-d21b-4660-9871-46a43c1406bb",
   "metadata": {},
   "outputs": [],
   "source": [
    "sigma_G_upper = pd.Series(0.3, index = m[m.get_level_values('n') == 'GC_G'].droplevel('nn').unique(), name = 'sigma')"
   ]
  },
  {
   "cell_type": "markdown",
   "id": "6955359f-a166-483e-81e2-15c422a9ef31",
   "metadata": {},
   "source": [
    "Lower-level (import/domestic competition):"
   ]
  },
  {
   "cell_type": "code",
   "execution_count": 60,
   "id": "25eebbe1-2a5a-43b0-85e2-2b597c869492",
   "metadata": {},
   "outputs": [],
   "source": [
    "sigma_G_Import = pd.Series(2, index = m[m.get_level_values('n') != 'GC_G'].droplevel('nn').unique(), name = 'sigma')"
   ]
  },
  {
   "cell_type": "markdown",
   "id": "057e6aa2-8c49-4170-908d-14d16dcc9be0",
   "metadata": {},
   "source": [
    "Add to database:"
   ]
  },
  {
   "cell_type": "code",
   "execution_count": 61,
   "id": "79ff155a-5a90-40ca-9cab-97cbf855ff3d",
   "metadata": {},
   "outputs": [],
   "source": [
    "sigma_G = pd.concat([sigma_G_upper, sigma_G_Import], axis = 0) \n",
    "gpyDB.add_or_merge_vals(db, sigma_G, name = 'sigma')"
   ]
  },
  {
   "cell_type": "markdown",
   "id": "a70ad422-6a73-4878-8693-8b9c28526ca5",
   "metadata": {},
   "source": [
    "### 4.2. Regulation"
   ]
  },
  {
   "cell_type": "markdown",
   "id": "e4734ab2-9fb3-42e4-a987-4b8a8ecf32d1",
   "metadata": {},
   "source": [
    "The government regulates itself (because data says so). Because we use incomplete data on taxes, we make some adhoc adjustments here, though. More specifically, we go through the steps:\n",
    "* Remove taxes on inventory (because the \"inventory sector\" is only used for completeness of the IO system).\n",
    "* Set flat VAT tax rate on government consumption to target taxes from government sector."
   ]
  },
  {
   "cell_type": "code",
   "execution_count": 62,
   "id": "dde97984-822d-4b52-9d37-82819faca4bb",
   "metadata": {},
   "outputs": [],
   "source": [
    "inputs = adj.rc_pd(db.get('qD'), db.get('s_G'))\n",
    "db['TotalTax'] = adj.rc_pd(db.get('TotalTax'), ('not', pd.Index(['itory'],name='s'))) # remove inventory taxes\n",
    "db['d_TotalTax'] = db['TotalTax'].index # what sectors pay taxes\n",
    "rVAT = adj.rc_pd(db.get('TotalTax'), db.get('s_G')) / pyDatabases.pdSum(inputs,'n') # define VAT rate of taxes\n",
    "gpyDB.add_or_merge_vals(db, adjMultiIndex.applyMult(rVAT,inputs.index), name = 'tauD') # add flat rate VAT on all demand"
   ]
  },
  {
   "cell_type": "markdown",
   "id": "308f1bde-236d-4101-bb63-5015e0aa90d7",
   "metadata": {},
   "source": [
    "## Export"
   ]
  },
  {
   "cell_type": "code",
   "execution_count": 63,
   "id": "d24bfa7a-b8d2-4039-bf58-43bb2fee1793",
   "metadata": {},
   "outputs": [],
   "source": [
    "db.export(repo=d['processedData'])"
   ]
  }
 ],
 "metadata": {
  "kernelspec": {
   "display_name": "Python 3 (ipykernel)",
   "language": "python",
   "name": "python3"
  },
  "language_info": {
   "codemirror_mode": {
    "name": "ipython",
    "version": 3
   },
   "file_extension": ".py",
   "mimetype": "text/x-python",
   "name": "python",
   "nbconvert_exporter": "python",
   "pygments_lexer": "ipython3",
   "version": "3.9.7"
  }
 },
 "nbformat": 4,
 "nbformat_minor": 5
}
