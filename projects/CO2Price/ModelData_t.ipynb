{
 "cells": [
  {
   "cell_type": "code",
   "execution_count": 1,
   "id": "f709f239-27ef-4bee-91f8-3239f1dd2178",
   "metadata": {},
   "outputs": [
    {
     "name": "stdout",
     "output_type": "stream",
     "text": [
      "The file _gams_py_gdb2.gdx is still active and was not deleted.\n",
      "The file _gams_py_gdb3.gdx is still active and was not deleted.\n"
     ]
    }
   ],
   "source": [
    "clean_up = True\n",
    "%run StdPackages.ipynb"
   ]
  },
  {
   "cell_type": "markdown",
   "id": "3de010dd-7056-47b4-9f2e-901472004e99",
   "metadata": {
    "tags": []
   },
   "source": [
    "# Model data"
   ]
  },
  {
   "cell_type": "code",
   "execution_count": 2,
   "id": "5222bee4-e47f-48af-9162-bddc52daeb79",
   "metadata": {},
   "outputs": [],
   "source": [
    "t = 2018\n",
    "error = 1e-7"
   ]
  },
  {
   "cell_type": "markdown",
   "id": "715f51f2-0bbf-4640-b93c-70d896e8d9cc",
   "metadata": {},
   "source": [
    "## 1. Data"
   ]
  },
  {
   "cell_type": "code",
   "execution_count": 3,
   "id": "2314ef79-aac0-49ad-8ad5-dce0afc5fa9d",
   "metadata": {},
   "outputs": [],
   "source": [
    "db = GpyDB(pickle_path = os.path.join(d['data'], f'IO{t}'))\n",
    "db.name = f'm_{t}'\n",
    "with open(os.path.join(d['data'],f'glob_{t}'), \"rb\") as file:\n",
    "    glob = pickle.load(file)"
   ]
  },
  {
   "cell_type": "markdown",
   "id": "c73e0443-cd62-4325-a522-0dd529dff1ed",
   "metadata": {},
   "source": [
    "## 2. Production module"
   ]
  },
  {
   "cell_type": "markdown",
   "id": "a621983e-ca31-4207-b30c-f123b8f0d826",
   "metadata": {},
   "source": [
    "### 2.1. Non-materials nest"
   ]
  },
  {
   "cell_type": "markdown",
   "id": "5c9f025d-4e68-4b6f-8067-562eb3272179",
   "metadata": {},
   "source": [
    "Energy inputs:"
   ]
  },
  {
   "cell_type": "code",
   "execution_count": 4,
   "id": "fe61afa0-b350-4fc6-a22b-c34020ce1e1a",
   "metadata": {},
   "outputs": [],
   "source": [
    "E= '35000_'\n",
    "E_F = E+'_F'"
   ]
  },
  {
   "cell_type": "markdown",
   "id": "731e4712-ac36-4538-94c9-75e5107b1dd9",
   "metadata": {},
   "source": [
    "Specify a general mapping that we'll apply to (most) production sectors:"
   ]
  },
  {
   "cell_type": "code",
   "execution_count": 5,
   "id": "32660ecb-6cdf-4093-a2f0-811a1d0d995c",
   "metadata": {},
   "outputs": [],
   "source": [
    "mFull = pd.MultiIndex.from_tuples([('KELBM', 'RxE'), ('KELBM', 'KELB'), ('KELB', 'iB'), ('KELB','KEL'), ('KEL','L'), ('KEL','KE'), ('KE','iM'), ('KE','E'), ('E', f'{E}_input'), ('E',f'{E_F}')], names = ['n','nn'])"
   ]
  },
  {
   "cell_type": "markdown",
   "id": "156b6bf8-9e05-4f79-8110-11b7b60acb64",
   "metadata": {},
   "source": [
    "If a sector does not demand either E or E_F, remove the KE nest:"
   ]
  },
  {
   "cell_type": "code",
   "execution_count": 6,
   "id": "9f7225ac-1c3c-47f0-8c16-ac3d8098cea3",
   "metadata": {},
   "outputs": [],
   "source": [
    "s_E = adj.rc_pd(db.get('vD'), pd.Index([E], name = 'n')).droplevel('n').index.unique()\n",
    "s_EF= adj.rc_pd(db.get('vD'), pd.Index([E_F], name = 'n')).droplevel('n').index.unique()\n",
    "m_noE = pd.MultiIndex.from_tuples([('KELBM', 'RxE'), ('KELBM', 'KELB'), ('KELB', 'iB'), ('KELB','KEL'), ('KEL','L'), ('KEL','iM')], names = ['n','nn'])\n",
    "s_noE = adj.rc_pd(db.get('s_p'), ('not', s_E.union(s_EF)))\n",
    "m = pyDatabases.cartesianProductIndex([s_noE, m_noE])"
   ]
  },
  {
   "cell_type": "markdown",
   "id": "50b1922f-f321-4880-bf9f-0a3e4d343b1e",
   "metadata": {},
   "source": [
    "If a sector only demands E, and not E_F replace the lower nest with:"
   ]
  },
  {
   "cell_type": "code",
   "execution_count": 7,
   "id": "28ec7b3e-21c0-49e3-af75-714e3241ec6d",
   "metadata": {},
   "outputs": [],
   "source": [
    "m_noEF = pd.MultiIndex.from_tuples([('KELBM', 'RxE'), ('KELBM', 'KELB'), ('KELB', 'iB'), ('KELB','KEL'), ('KEL','L'), ('KEL','KE'), ('KE','iM'), ('KE',f'{E}_input')], names = ['n','nn'])\n",
    "s_noEF = adj.rc_pd(db.get('s_p'), s_E.difference(s_EF))\n",
    "m = m.union(pyDatabases.cartesianProductIndex([s_noEF, m_noEF]))"
   ]
  },
  {
   "cell_type": "markdown",
   "id": "60e6970e-e175-4a36-a2f3-d38dc55e10dc",
   "metadata": {},
   "source": [
    "If a sector only demands EF and not E:"
   ]
  },
  {
   "cell_type": "code",
   "execution_count": 8,
   "id": "6bcc032a-efd6-4c64-aa14-26a370adc036",
   "metadata": {},
   "outputs": [],
   "source": [
    "m_noEdom = pd.MultiIndex.from_tuples([('KELBM', 'RxE'), ('KELBM', 'KELB'), ('KELB', 'iB'), ('KELB','KEL'), ('KEL','L'), ('KEL','KE'), ('KE','iM'), ('KE',E_F)], names = ['n','nn'])\n",
    "s_noEdom = adj.rc_pd(db.get('s_p'), s_EF.difference(s_E))\n",
    "m = m.union(pyDatabases.cartesianProductIndex([s_noEF, m_noEF]))"
   ]
  },
  {
   "cell_type": "markdown",
   "id": "58d6345f-e498-495c-aff9-d4a0cadc8fca",
   "metadata": {},
   "source": [
    "All sectors use both ```iB``` and ```iM``` - so, we finally check for whether all sectors demand labor:"
   ]
  },
  {
   "cell_type": "code",
   "execution_count": 9,
   "id": "58a07708-7cd8-4d05-9788-c32a6767b819",
   "metadata": {},
   "outputs": [],
   "source": [
    "m_noL = pd.MultiIndex.from_tuples([('KELBM', 'RxE'), ('KELBM', 'KELB'), ('KELB', 'iB'), ('KELB','KE'), ('KE','iM'), ('KE','E'), ('E', f'{E}_input'), ('E',f'{E_F}')], names = ['n','nn'])\n",
    "s_noL = adj.rc_pd(db.get('s_p'), ('not', db.get('vD').xs('L',level='n')))\n",
    "m = m.union(pyDatabases.cartesianProductIndex([s_noL, m_noL]))"
   ]
  },
  {
   "cell_type": "markdown",
   "id": "ed213baa-17ec-4a5a-96d6-686856e98cdc",
   "metadata": {},
   "source": [
    "For all other sectors, use the full nesting structure:"
   ]
  },
  {
   "cell_type": "code",
   "execution_count": 10,
   "id": "6e9ab1cc-244b-44df-9979-480ea37167f5",
   "metadata": {},
   "outputs": [],
   "source": [
    "sFull = adj.rc_pd(db.get('s_p'), ('not', ('or', [s_noE, s_noEF, s_noEdom, s_noL])))\n",
    "m = m.union(pyDatabases.cartesianProductIndex([sFull, mFull]))"
   ]
  },
  {
   "cell_type": "markdown",
   "id": "2a6aed33-4259-49ef-bb37-7bf951712ad9",
   "metadata": {},
   "source": [
    "Replace the upper-most level (KELBM) with the name of the sector:"
   ]
  },
  {
   "cell_type": "code",
   "execution_count": 11,
   "id": "103608d7-dcac-4450-9189-e9460b4454f3",
   "metadata": {},
   "outputs": [],
   "source": [
    "df = m.to_frame(index=False)\n",
    "df.loc[df.n == 'KELBM','n'] = df.loc[df.n == 'KELBM', 's']\n",
    "m = pd.MultiIndex.from_frame(df)"
   ]
  },
  {
   "cell_type": "markdown",
   "id": "a5349ff0-81c7-4f52-929f-4db0707c7974",
   "metadata": {},
   "source": [
    "### 2.2. Materials nest"
   ]
  },
  {
   "cell_type": "markdown",
   "id": "b8b0f0df-050b-47ee-b4ef-9231f9d15786",
   "metadata": {},
   "source": [
    "The materials nest is slightly different depending on whether or not a given sector demands both the domestic and foreign version of a material. We split into three categories:\n",
    "* For [s,n] in ```dImport[s,n,nn]```, we define a mapping from ```RxE``` to an intermediate good ```RxEym_x``` that is again an aggregate of the domestic/foreign goods ```x,x_F```. \n",
    "* For [s,n] in ```dImport_dom[s,n]```, we define a mapping from ```RxE``` to each of the domestic goods in ```n```; these are the sectors that only demand the domestic type of the good.\n",
    "* For [s,n] in ```dImport_for[s,n]```, we define a mapping from ```RxE``` to each of the foreign good types in ```n```; these are the sectors that only demand the foreign type of the good."
   ]
  },
  {
   "cell_type": "markdown",
   "id": "73acd8b0-0960-4fcf-875a-aff9ab6b3d42",
   "metadata": {},
   "source": [
    "*Remove energy nest - this is included elsewhere in the nesting structure:*"
   ]
  },
  {
   "cell_type": "code",
   "execution_count": 12,
   "id": "8d231cbb-ee3a-433c-8504-33cf85f6cdb4",
   "metadata": {},
   "outputs": [],
   "source": [
    "dImport = adj.rc_pd(db.get('dImport'), ('not', pd.Index([E], name = 'n')))\n",
    "dImport_dom = adj.rc_pd(db.get('dImport_dom'), ('not', pd.Index([E], name = 'n')))\n",
    "dImport_for = adj.rc_pd(db.get('dImport_for'), ('not', pd.Index([E_F], name = 'n')))"
   ]
  },
  {
   "cell_type": "markdown",
   "id": "aa006502-2111-4d81-a6d4-cc0b36380dd1",
   "metadata": {},
   "source": [
    "*Add mappings:*"
   ]
  },
  {
   "cell_type": "code",
   "execution_count": 13,
   "id": "6977f6a3-5124-4969-b43a-98e212d99719",
   "metadata": {},
   "outputs": [],
   "source": [
    "df = adj.rc_pd(dImport, db.get('s_p')).to_frame(index=False).assign(m= lambda x: 'RxEym_'+x['n'].astype(str), u = 'RxE', n = lambda x: x['n'].astype(str)+'_input')\n",
    "m = m.union(pd.MultiIndex.from_frame(df[['s','u','m']]).rename(['s','n','nn']))\n",
    "m = m.union(pd.MultiIndex.from_frame(df[['s','m','n']]).rename(['s','n','nn']))\n",
    "m = m.union(pd.MultiIndex.from_frame(df[['s','m','nn']]).rename(['s','n','nn']))"
   ]
  },
  {
   "cell_type": "markdown",
   "id": "104ecae3-8638-45cb-a4e4-52e44eda6c87",
   "metadata": {},
   "source": [
    "*Domestic only*"
   ]
  },
  {
   "cell_type": "code",
   "execution_count": 14,
   "id": "1103726f-4978-418b-9e20-aa97802ef902",
   "metadata": {},
   "outputs": [],
   "source": [
    "df = adj.rc_pd(dImport_dom, db.get('s_p')).to_frame(index=False).assign(u = 'RxE', n = lambda x: x['n'].astype(str)+'_input')\n",
    "m = m.union(pd.MultiIndex.from_frame(df[['s','u','n']]).rename(['s','n','nn']))"
   ]
  },
  {
   "cell_type": "markdown",
   "id": "a096af32-a91e-415c-af00-53cfd55398a9",
   "metadata": {},
   "source": [
    "*Foreign goods only:*"
   ]
  },
  {
   "cell_type": "code",
   "execution_count": 15,
   "id": "c2e3b3a0-5b29-43fe-8020-103910e469b6",
   "metadata": {},
   "outputs": [],
   "source": [
    "df = adj.rc_pd(dImport_for, db.get('s_p')).to_frame(index=False).assign(u = 'RxE')\n",
    "m = m.union(pd.MultiIndex.from_frame(df[['s','u','n']]).rename(['s','n','nn']))"
   ]
  },
  {
   "cell_type": "markdown",
   "id": "f43edfef-9c4c-4524-a0a7-a10c4b9ba194",
   "metadata": {},
   "source": [
    "Map de stachio:"
   ]
  },
  {
   "cell_type": "code",
   "execution_count": 16,
   "id": "25b3e645-7447-4926-b38c-64ea9e835376",
   "metadata": {},
   "outputs": [],
   "source": [
    "db['nestProduction'] = m"
   ]
  },
  {
   "cell_type": "markdown",
   "id": "4967d049-567e-4568-9a96-1d6130743a58",
   "metadata": {},
   "source": [
    "## 3. Investment module"
   ]
  },
  {
   "cell_type": "markdown",
   "id": "c4a8601c-c2c0-4294-a940-32ac359a7882",
   "metadata": {},
   "source": [
    "The investment module consists only of the materials nest (including energy). Thus, it proceeds along the same lines:"
   ]
  },
  {
   "cell_type": "code",
   "execution_count": 17,
   "id": "6fb189ce-b9e2-43cd-ad5f-2e004f1998a3",
   "metadata": {},
   "outputs": [],
   "source": [
    "dImport = adj.rc_pd(db.get('dImport'), db.get('s_i'))\n",
    "dImport_dom = adj.rc_pd(db.get('dImport_dom'), db.get('s_i'))\n",
    "dImport_for = adj.rc_pd(db.get('dImport_for'), db.get('s_i'))"
   ]
  },
  {
   "cell_type": "markdown",
   "id": "8642a543-efa2-415d-b21d-d06e1abd59ab",
   "metadata": {},
   "source": [
    "*Add mappings:*"
   ]
  },
  {
   "cell_type": "code",
   "execution_count": 18,
   "id": "9e24157c-74c4-4d24-9f84-730a711460a5",
   "metadata": {},
   "outputs": [],
   "source": [
    "df = dImport.to_frame(index=False).assign(m = lambda x: 'Materials_'+x['n'].astype(str), u = 'Materials')\n",
    "m = pd.MultiIndex.from_frame(df[['s','u','m']]).rename(['s','n','nn']) # mapping from materials to materials_x\n",
    "m = m.union(pd.MultiIndex.from_frame(df[['s','m','n']]).rename(['s','n','nn'])) # mapping from materials_x to x\n",
    "m = m.union(pd.MultiIndex.from_frame(df[['s','m','nn']]).rename(['s','n','nn'])) # mapping from materials_x to x_F"
   ]
  },
  {
   "cell_type": "markdown",
   "id": "db91ee9f-a8a8-4c6f-80f7-fce24ffea90a",
   "metadata": {},
   "source": [
    "*Domestic only*"
   ]
  },
  {
   "cell_type": "code",
   "execution_count": 19,
   "id": "d8c87e71-aec9-46b0-9c1f-8c637e2345e0",
   "metadata": {},
   "outputs": [],
   "source": [
    "df = dImport_dom.to_frame(index=False).assign(u = 'Materials')\n",
    "m = m.union(pd.MultiIndex.from_frame(df[['s','u','n']]).rename(['s','n','nn'])) # mapping from materials to input"
   ]
  },
  {
   "cell_type": "markdown",
   "id": "ac37e5e6-711c-45a0-9702-30b3be59d58d",
   "metadata": {},
   "source": [
    "Foreign only:"
   ]
  },
  {
   "cell_type": "code",
   "execution_count": 20,
   "id": "17a584e9-b5a2-4f04-96c3-2152a6c9d6c8",
   "metadata": {},
   "outputs": [],
   "source": [
    "df = dImport_for.to_frame(index=False).assign(u = 'Materials')\n",
    "m = m.union(pd.MultiIndex.from_frame(df[['s','u','n']]).rename(['s','n','nn'])) # mapping from materials to input"
   ]
  },
  {
   "cell_type": "markdown",
   "id": "26e6cd3f-5b69-4cb7-97d9-5016975f4ea7",
   "metadata": {},
   "source": [
    "Replace the upper-most level (KELBM) with the name of the sector:"
   ]
  },
  {
   "cell_type": "code",
   "execution_count": 21,
   "id": "4d834311-2871-400d-8ead-1be5b2601817",
   "metadata": {},
   "outputs": [],
   "source": [
    "df = m.to_frame(index=False)\n",
    "df.loc[df.n == 'Materials','n'] = df.loc[df.n == 'Materials', 's']\n",
    "m = pd.MultiIndex.from_frame(df)"
   ]
  },
  {
   "cell_type": "markdown",
   "id": "3a41a608-5fe3-4292-971a-4f514d54e685",
   "metadata": {},
   "source": [
    "*Add nesting structure:*"
   ]
  },
  {
   "cell_type": "code",
   "execution_count": 22,
   "id": "3f365a1c-b853-4e0f-908a-ee349f7579a5",
   "metadata": {},
   "outputs": [],
   "source": [
    "db['nestInvestment'] = m"
   ]
  },
  {
   "cell_type": "markdown",
   "id": "1951400d-d7c7-42d1-b161-04fd517b7bda",
   "metadata": {},
   "source": [
    "## 4. Households"
   ]
  },
  {
   "cell_type": "markdown",
   "id": "61cdbf8e-f470-46d4-9fc8-2fa9eb643915",
   "metadata": {},
   "source": [
    "The household consumption nesting structure is somewhat similar to the investment sectors, with the exception that the top nest is a consumption aggregate that captures intertemporal preferences for consumption smoothing."
   ]
  },
  {
   "cell_type": "code",
   "execution_count": 23,
   "id": "de70e328-ea57-4573-9117-11cf2599f64f",
   "metadata": {},
   "outputs": [],
   "source": [
    "dImport = adj.rc_pd(db.get('dImport'), db.get('s_HH'))\n",
    "dImport_dom = adj.rc_pd(db.get('dImport_dom'), db.get('s_HH'))\n",
    "dImport_for = adj.rc_pd(db.get('dImport_for'), db.get('s_HH'))"
   ]
  },
  {
   "cell_type": "markdown",
   "id": "dfa7c6a8-7ad1-43d9-a98e-0e0ef26bda72",
   "metadata": {},
   "source": [
    "*Add mappings:*"
   ]
  },
  {
   "cell_type": "code",
   "execution_count": 24,
   "id": "7549663c-7a5a-4845-9cb9-1ce3d6d2b0ef",
   "metadata": {},
   "outputs": [],
   "source": [
    "df = dImport.to_frame(index=False).assign(m = lambda x: 'C_'+x['n'].astype(str), u = 'C')\n",
    "m = pd.MultiIndex.from_frame(df[['s','u','m']]).rename(['s','n','nn']) # mapping from materials to materials_x\n",
    "m = m.union(pd.MultiIndex.from_frame(df[['s','m','n']]).rename(['s','n','nn'])) # mapping from materials_x to x\n",
    "m = m.union(pd.MultiIndex.from_frame(df[['s','m','nn']]).rename(['s','n','nn'])) # mapping from materials_x to x_F"
   ]
  },
  {
   "cell_type": "markdown",
   "id": "d7b07091-011e-4165-ab33-9c88b2c07318",
   "metadata": {},
   "source": [
    "*Domestic only*"
   ]
  },
  {
   "cell_type": "code",
   "execution_count": 25,
   "id": "8c3528de-192e-4140-b3ee-b4c7ee439317",
   "metadata": {},
   "outputs": [],
   "source": [
    "df = dImport_dom.to_frame(index=False).assign(u = 'C')\n",
    "m = m.union(pd.MultiIndex.from_frame(df[['s','u','n']]).rename(['s','n','nn'])) # mapping from materials to input"
   ]
  },
  {
   "cell_type": "markdown",
   "id": "1d6a3d8d-9546-49bb-82d1-d45f5e8d4137",
   "metadata": {},
   "source": [
    "Foreign only:"
   ]
  },
  {
   "cell_type": "code",
   "execution_count": 26,
   "id": "1f5d0f8e-66ff-4e33-b311-129d9937acd9",
   "metadata": {},
   "outputs": [],
   "source": [
    "df = dImport_for.to_frame(index=False).assign(u = 'C')\n",
    "m = m.union(pd.MultiIndex.from_frame(df[['s','u','n']]).rename(['s','n','nn'])) # mapping from materials to input"
   ]
  },
  {
   "cell_type": "markdown",
   "id": "7d682a6f-7160-4313-a1b8-8316ebce5022",
   "metadata": {},
   "source": [
    "Replace the upper-most level with the name of the household consumption aggregate:"
   ]
  },
  {
   "cell_type": "code",
   "execution_count": 27,
   "id": "09a9b9c5-d4de-42cb-bcf8-d8746bbc249a",
   "metadata": {},
   "outputs": [],
   "source": [
    "df = m.to_frame(index=False)\n",
    "df.loc[df.n == 'C','n'] = 'C_'+df.loc[df.n == 'C', 's']\n",
    "m = pd.MultiIndex.from_frame(df)"
   ]
  },
  {
   "cell_type": "markdown",
   "id": "2a60341e-4303-4bad-b2a5-52fd5eb5085b",
   "metadata": {},
   "source": [
    "*Add nesting structure:*"
   ]
  },
  {
   "cell_type": "code",
   "execution_count": 28,
   "id": "7ceb73ef-4fe0-49bb-9977-0de301193c4e",
   "metadata": {},
   "outputs": [],
   "source": [
    "db['nestHH'] = m"
   ]
  },
  {
   "cell_type": "markdown",
   "id": "a824a755-54c8-4788-9c9c-5fddb48be740",
   "metadata": {},
   "source": [
    "Add mapping from consumption aggregate to labor:"
   ]
  },
  {
   "cell_type": "code",
   "execution_count": 29,
   "id": "7563d514-aaa2-4e91-8b9d-f0fe8dfb670d",
   "metadata": {},
   "outputs": [],
   "source": [
    "db['L2C'] = pd.MultiIndex.from_arrays([db.get('s_HH'), pd.Index(['L']*len(db.get('s_HH')), name = 'n'), ('C_'+db.get('s_HH')).rename('nn')])"
   ]
  },
  {
   "cell_type": "markdown",
   "id": "b2e7a7cf-79fc-48f6-81d0-a3486e473e99",
   "metadata": {},
   "source": [
    "## 5. Government"
   ]
  },
  {
   "cell_type": "markdown",
   "id": "47f1b560-9dfe-496e-b76e-62cb9cc78e8d",
   "metadata": {},
   "source": [
    "Government consumption is nested in a similar way as household consumption."
   ]
  },
  {
   "cell_type": "code",
   "execution_count": 30,
   "id": "7ea585db-97bd-4024-96a0-3a91be674238",
   "metadata": {},
   "outputs": [],
   "source": [
    "dImport = adj.rc_pd(db.get('dImport'), db.get('s_G'))\n",
    "dImport_dom = adj.rc_pd(db.get('dImport_dom'), db.get('s_G'))\n",
    "dImport_for = adj.rc_pd(db.get('dImport_for'), db.get('s_G'))"
   ]
  },
  {
   "cell_type": "markdown",
   "id": "ff83ba63-dab5-4043-86db-14031fce07ff",
   "metadata": {},
   "source": [
    "*Add mappings:*"
   ]
  },
  {
   "cell_type": "code",
   "execution_count": 31,
   "id": "d548b234-0e59-496e-9fcf-078ecfbe63b2",
   "metadata": {},
   "outputs": [],
   "source": [
    "df = dImport.to_frame(index=False).assign(m = lambda x: 'GC_'+x['n'].astype(str), u = 'GC')\n",
    "m = pd.MultiIndex.from_frame(df[['s','u','m']]).rename(['s','n','nn']) # mapping from materials to materials_x\n",
    "m = m.union(pd.MultiIndex.from_frame(df[['s','m','n']]).rename(['s','n','nn'])) # mapping from materials_x to x\n",
    "m = m.union(pd.MultiIndex.from_frame(df[['s','m','nn']]).rename(['s','n','nn'])) # mapping from materials_x to x_F"
   ]
  },
  {
   "cell_type": "markdown",
   "id": "4a5ae872-7271-4c5f-9f51-9cca4666f566",
   "metadata": {},
   "source": [
    "*Domestic only*"
   ]
  },
  {
   "cell_type": "code",
   "execution_count": 32,
   "id": "31db36e8-076f-4b39-bc62-db2c3db64d5a",
   "metadata": {},
   "outputs": [],
   "source": [
    "df = dImport_dom.to_frame(index=False).assign(u = 'GC')\n",
    "m = m.union(pd.MultiIndex.from_frame(df[['s','u','n']]).rename(['s','n','nn'])) # mapping from materials to input"
   ]
  },
  {
   "cell_type": "markdown",
   "id": "bdfc6afc-3fec-4f61-ae16-1a742a053926",
   "metadata": {},
   "source": [
    "Foreign only:"
   ]
  },
  {
   "cell_type": "code",
   "execution_count": 33,
   "id": "aa4bbb96-3012-4651-a8e5-ecc60cb4cc04",
   "metadata": {},
   "outputs": [],
   "source": [
    "df = dImport_for.to_frame(index=False).assign(u = 'GC')\n",
    "m = m.union(pd.MultiIndex.from_frame(df[['s','u','n']]).rename(['s','n','nn'])) # mapping from materials to input"
   ]
  },
  {
   "cell_type": "markdown",
   "id": "1f07a0f9-ea3d-42d2-ba03-e5ca4ff11be1",
   "metadata": {},
   "source": [
    "Replace the upper-most level with the name of the household consumption aggregate:"
   ]
  },
  {
   "cell_type": "code",
   "execution_count": 34,
   "id": "0452bac0-fd86-491a-abdd-80d7b0407479",
   "metadata": {},
   "outputs": [],
   "source": [
    "df = m.to_frame(index=False)\n",
    "df.loc[df.n == 'GC','n'] = 'GC_'+df.loc[df.n == 'GC', 's']\n",
    "m = pd.MultiIndex.from_frame(df)"
   ]
  },
  {
   "cell_type": "markdown",
   "id": "cfe9fd63-7408-4324-9c58-80125bdd478f",
   "metadata": {},
   "source": [
    "*Add nesting structure:*"
   ]
  },
  {
   "cell_type": "code",
   "execution_count": 35,
   "id": "41e0f79d-96dc-4d40-9303-3e7681bd59fd",
   "metadata": {},
   "outputs": [],
   "source": [
    "db['nestG'] = m"
   ]
  },
  {
   "cell_type": "markdown",
   "id": "308f1bde-236d-4101-bb63-5015e0aa90d7",
   "metadata": {},
   "source": [
    "## Export"
   ]
  },
  {
   "cell_type": "code",
   "execution_count": 36,
   "id": "d24bfa7a-b8d2-4039-bf58-43bb2fee1793",
   "metadata": {},
   "outputs": [],
   "source": [
    "db.export(repo=d['data'])"
   ]
  }
 ],
 "metadata": {
  "kernelspec": {
   "display_name": "Python 3 (ipykernel)",
   "language": "python",
   "name": "python3"
  },
  "language_info": {
   "codemirror_mode": {
    "name": "ipython",
    "version": 3
   },
   "file_extension": ".py",
   "mimetype": "text/x-python",
   "name": "python",
   "nbconvert_exporter": "python",
   "pygments_lexer": "ipython3",
   "version": "3.9.7"
  }
 },
 "nbformat": 4,
 "nbformat_minor": 5
}
