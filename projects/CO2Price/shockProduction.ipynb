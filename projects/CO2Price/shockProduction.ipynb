{
 "cells": [
  {
   "cell_type": "code",
   "execution_count": 1,
   "id": "994b4988-0818-4055-bfe4-46703f6bc5d1",
   "metadata": {},
   "outputs": [
    {
     "name": "stdout",
     "output_type": "stream",
     "text": [
      "The file _gams_py_gdb0.gdx is still active and was not deleted.\n",
      "The file _gams_py_gdb1.gdx is still active and was not deleted.\n",
      "The file _gams_py_gdb2.gdx is still active and was not deleted.\n",
      "The file _gams_py_gdb3.gdx is still active and was not deleted.\n",
      "The file _gams_py_gdb4.gdx is still active and was not deleted.\n"
     ]
    }
   ],
   "source": [
    "clean_up = True\n",
    "%run stdPackages.ipynb\n",
    "ws = gams.GamsWorkspace(working_directory=d['work']) # specify where you want to run the GAMS models from (here the repository referred to in d['work'])"
   ]
  },
  {
   "cell_type": "code",
   "execution_count": 2,
   "id": "88b89cb7-e5a8-4f2b-aed8-28d099f63715",
   "metadata": {},
   "outputs": [],
   "source": [
    "def adjustLabels(x, labels_, keepLoop):\n",
    "    return adj.rc_pd(adjMultiIndex.applyMult(x, labels_).droplevel('l1'), keepLoop).unstack(keepLoop.name)"
   ]
  },
  {
   "cell_type": "markdown",
   "id": "d1a82e4f-c4a6-4ae4-b982-860d600ad60d",
   "metadata": {},
   "source": [
    "Load model:"
   ]
  },
  {
   "cell_type": "code",
   "execution_count": 3,
   "id": "3bc6209b-f907-4638-867e-08247a1a4b17",
   "metadata": {},
   "outputs": [],
   "source": [
    "t = 2018\n",
    "P = mProduction.Production_ExoMu(f = os.path.join(d['data'],\"m_P\"))"
   ]
  },
  {
   "cell_type": "markdown",
   "id": "48f0a2b4-e007-4058-91ca-7de14bf348ac",
   "metadata": {},
   "source": [
    "### 1. Increase tax"
   ]
  },
  {
   "cell_type": "markdown",
   "id": "5963b495-204c-4e68-acf6-434e7fa02bf7",
   "metadata": {},
   "source": [
    "*i. Set up target database:*"
   ]
  },
  {
   "cell_type": "code",
   "execution_count": 4,
   "id": "5209070c-b92a-4253-92f3-b41852d6b236",
   "metadata": {},
   "outputs": [],
   "source": [
    "dbT = GpyDB(**{'name': 'TaxShock'})\n",
    "dbT['tauS'] = adj.rc_pd(P.get('tauS'), pd.Index(['35000_'],name='n')) + 1\n",
    "extractSol = {k:None for k in ('qS','qD','pD','p')}\n",
    "labels = pd.Index(np.round(np.linspace(0,1,26),3), name = \"\"\"$\\Delta \\\\tau^S_e$\"\"\")"
   ]
  },
  {
   "cell_type": "markdown",
   "id": "0073917e-f6fa-4762-9cc9-34519cceaf33",
   "metadata": {},
   "source": [
    "*ii. Solve:*"
   ]
  },
  {
   "cell_type": "code",
   "execution_count": 5,
   "id": "7a3d441f-2384-4d5f-92f8-1118d97fb180",
   "metadata": {},
   "outputs": [
    {
     "name": "stderr",
     "output_type": "stream",
     "text": [
      "C:\\Users\\sxj477\\Anaconda3\\lib\\site-packages\\gmsPython\\_mixedTools.py:44: FutureWarning:\n",
      "\n",
      "The default dtype for empty Series will be 'object' instead of 'float64' in a future version. Specify a dtype explicitly to silence this warning.\n",
      "\n",
      "C:\\Users\\sxj477\\Anaconda3\\lib\\site-packages\\gmsPython\\_mixedTools.py:44: FutureWarning:\n",
      "\n",
      "The default dtype for empty Series will be 'object' instead of 'float64' in a future version. Specify a dtype explicitly to silence this warning.\n",
      "\n",
      "C:\\Users\\sxj477\\Anaconda3\\lib\\site-packages\\gmsPython\\_mixedTools.py:44: FutureWarning:\n",
      "\n",
      "The default dtype for empty Series will be 'object' instead of 'float64' in a future version. Specify a dtype explicitly to silence this warning.\n",
      "\n",
      "C:\\Users\\sxj477\\Anaconda3\\lib\\site-packages\\gmsPython\\_mixedTools.py:44: FutureWarning:\n",
      "\n",
      "The default dtype for empty Series will be 'object' instead of 'float64' in a future version. Specify a dtype explicitly to silence this warning.\n",
      "\n"
     ]
    }
   ],
   "source": [
    "m_tax, cp_tax = P.sneakySolve(dbT, ws = ws, loop_kwargs = {'extractSol': extractSol, 'n': 26}, **{'cns': 'CONOPT4'})"
   ]
  },
  {
   "cell_type": "markdown",
   "id": "609cdc98-ac3d-4385-b5df-11997291e48e",
   "metadata": {},
   "source": [
    "*iii. What levels are we keeping:*"
   ]
  },
  {
   "cell_type": "code",
   "execution_count": 6,
   "id": "1c597258-ad78-43b7-a68c-9fa2b65a1e6c",
   "metadata": {},
   "outputs": [],
   "source": [
    "keepLoop = pd.Index([labels[0], labels[13], labels[25]], name = labels.name) # which labels in the loop are we plotting\n",
    "labels_ = pd.MultiIndex.from_arrays([m_tax.out_db.get('l1'), labels]) "
   ]
  },
  {
   "cell_type": "markdown",
   "id": "7459dca1-d42e-41fc-a7c8-e056e1a72637",
   "metadata": {},
   "source": [
    "*iv. Check some variable out: This selects durables in the energy sector*"
   ]
  },
  {
   "cell_type": "code",
   "execution_count": 7,
   "id": "413ab3f6-5871-4567-8024-d1b686bfe2c9",
   "metadata": {},
   "outputs": [],
   "source": [
    "qDur_Energy = pyDatabases.pdSum(adj.rc_pd(m_tax.out_db.get('sol_qD_shock'), P.get('dur')).xs('35000_', level = 's'), 'n')"
   ]
  },
  {
   "cell_type": "markdown",
   "id": "3f615a41-2a0c-4446-9755-31b17c81c4ca",
   "metadata": {},
   "source": [
    "How does the model respond to taxes on energy?"
   ]
  },
  {
   "cell_type": "code",
   "execution_count": 8,
   "id": "4e775c60-6878-4fb6-be47-90347515c764",
   "metadata": {},
   "outputs": [
    {
     "data": {
      "image/png": "[encoded data removed]",
      "text/plain": [
       "<Figure size 576x396 with 1 Axes>"
      ]
     },
     "metadata": {},
     "output_type": "display_data"
    }
   ],
   "source": [
    "adjustLabels(qDur_Energy, labels_, keepLoop).plot();"
   ]
  }
 ],
 "metadata": {
  "kernelspec": {
   "display_name": "Python 3 (ipykernel)",
   "language": "python",
   "name": "python3"
  },
  "language_info": {
   "codemirror_mode": {
    "name": "ipython",
    "version": 3
   },
   "file_extension": ".py",
   "mimetype": "text/x-python",
   "name": "python",
   "nbconvert_exporter": "python",
   "pygments_lexer": "ipython3",
   "version": "3.9.7"
  }
 },
 "nbformat": 4,
 "nbformat_minor": 5
}
