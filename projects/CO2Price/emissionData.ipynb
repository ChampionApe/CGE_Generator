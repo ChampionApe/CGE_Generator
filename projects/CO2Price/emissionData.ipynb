{
 "cells": [
  {
   "cell_type": "code",
   "execution_count": 1,
   "id": "6947d7f0-8142-4fa0-8b83-7cae745517d0",
   "metadata": {},
   "outputs": [],
   "source": [
    "clean_up=True\n",
    "%run StdPackages.ipynb"
   ]
  },
  {
   "cell_type": "markdown",
   "id": "8cb4a562-c05e-4cf4-9b47-c80c32bf6a14",
   "metadata": {},
   "source": [
    "# Emission data for 1990-2020"
   ]
  },
  {
   "cell_type": "markdown",
   "id": "4ae25c7a-6b5a-4a46-9edb-636f1de62e94",
   "metadata": {},
   "source": [
    "Load data:\n",
    "* MRU1 provides an account of emissions based on the 69 sector grouping that the rest of the IO data is defined over. It is split into a couple of emission types that needs to be adjusted to arrive at a simple total.\n",
    "* MRO2 is an aggregate account of emissions. This is used to scale the level of emissions from the 69 sector definition (emissions from Danish economic activities) proportionally to a level that is consistent with the UNFCC method that the climate targets are formulated in."
   ]
  },
  {
   "cell_type": "code",
   "execution_count": 2,
   "id": "cb3f1e7c-c0b4-47b5-a5d3-6691f7472f06",
   "metadata": {},
   "outputs": [],
   "source": [
    "rawData = read.simpleLoad(os.path.join(d['data'],'Emissions.xlsx'))\n",
    "MRU1 = pd.DataFrame(rawData['MRU1'].values)\n",
    "MRO2 = pd.DataFrame(rawData['MRO2'].values)\n",
    "namesVariablesMRU1 = {'Carbon dioxide (CO2) excl. from biomass, (1000 tonnes)': 'CO2',\n",
    "                      'Nitrous oxide (N2O), (tonnes)': 'N2O',\n",
    "                      'Methane (CH4), (tonnes)': 'CH4',\n",
    "                      'Sulphur hexafluoride (SF6), (tonnes CO2-equivalents)': 'SF6',\n",
    "                      'Perfluorocarbons (PFC), (tonnes CO2-equivalents)': 'PFC',\n",
    "                      'Hydrofluorocarbons (HFC), (tonnes CO2-equivalents)': 'HFC'\n",
    "                     }\n",
    "CO2Factors = pd.Series([1, 298/1000, 25/1000, 1/1000, 1/1000, 1/1000], index = pd.Index(['CO2','N2O','CH4','SF6','PFC','HFC'], name = 'EmissionType'))"
   ]
  },
  {
   "cell_type": "markdown",
   "id": "04c66dc9-c32e-4597-ac50-409faa6c3202",
   "metadata": {},
   "source": [
    "Use MRO2 to define scale of emissions from Danish UNFCCC accounting:"
   ]
  },
  {
   "cell_type": "code",
   "execution_count": 3,
   "id": "b531a60e-3c80-4dfd-909c-6d4c434fe917",
   "metadata": {},
   "outputs": [],
   "source": [
    "x = MRO2.iloc[2,2:]\n",
    "x.index = pd.Index(MRO2.iloc[0,2:], name='t')"
   ]
  },
  {
   "cell_type": "markdown",
   "id": "5aec8934-e5ed-4ff6-8bb5-21305d15b41a",
   "metadata": {},
   "source": [
    "Assign indices:\n",
    "* The first column identifies the variable. The category data is sparse in the sense that column contains ```None``` types for every cell after the first row that indicates a new variable.\n",
    "* The second column identifies the sector index. Here we simply strip the strings from the definition and only use codes."
   ]
  },
  {
   "cell_type": "markdown",
   "id": "18bc2bd9-455d-4339-9480-0765ab2e8e83",
   "metadata": {},
   "source": [
    "*Index 1 - variable name:*"
   ]
  },
  {
   "cell_type": "code",
   "execution_count": 4,
   "id": "ebaa9822-8b27-4991-9b4e-682872525bd8",
   "metadata": {},
   "outputs": [],
   "source": [
    "variableRows = MRU1[0].dropna()\n",
    "for i in range(len(variableRows)):\n",
    "    if i < len(variableRows)-1:\n",
    "        MRU1.iloc[variableRows.index[i]:variableRows.index[i+1], 0] = namesVariablesMRU1[variableRows.iloc[i]]\n",
    "    else:\n",
    "        MRU1.iloc[variableRows.index[i]:, 0] = namesVariablesMRU1[variableRows.iloc[i]]"
   ]
  },
  {
   "cell_type": "markdown",
   "id": "3e22da6a-b74c-4341-ae3a-355c0c00396b",
   "metadata": {},
   "source": [
    "*Index 2 - sector:*"
   ]
  },
  {
   "cell_type": "code",
   "execution_count": 5,
   "id": "1a9fcd39-34cb-4269-99ac-15f11bbe0bc2",
   "metadata": {},
   "outputs": [],
   "source": [
    "branchIndex = MRU1[1].dropna().str.split(' ').str[0]\n",
    "MRU1.iloc[branchIndex.index[0]:branchIndex.index[-1]+1,1] = branchIndex"
   ]
  },
  {
   "cell_type": "markdown",
   "id": "4d07237a-0730-4b75-a96c-77e66b803bcc",
   "metadata": {},
   "source": [
    "Set relevant rows/columns as indices - remove '..' with zeros:"
   ]
  },
  {
   "cell_type": "code",
   "execution_count": 6,
   "id": "b1ad8835-fd76-410f-85c7-f736eda536f4",
   "metadata": {},
   "outputs": [],
   "source": [
    "df = MRU1.iloc[1:,].set_index([0,1]).rename_axis(['EmissionType','s'])\n",
    "df.columns = pd.Index(MRU1.iloc[0,2:], name = 't')\n",
    "df = df.replace(\"..\",0)"
   ]
  },
  {
   "cell_type": "markdown",
   "id": "0f86e26e-13a6-4ea0-bf15-a39f5370662e",
   "metadata": {},
   "source": [
    "Aggregate emission types to CO2e:"
   ]
  },
  {
   "cell_type": "code",
   "execution_count": 7,
   "id": "7372466a-0db3-49ea-8819-5d73f41cc85a",
   "metadata": {},
   "outputs": [],
   "source": [
    "M0 = pyDatabases.pdSum(df.stack()*CO2Factors, 'EmissionType')"
   ]
  },
  {
   "cell_type": "markdown",
   "id": "c386d810-853e-457a-83a8-e71fd708563b",
   "metadata": {},
   "source": [
    "Scale emissions:"
   ]
  },
  {
   "cell_type": "code",
   "execution_count": 8,
   "id": "4ff8bff9-c503-48ca-8d08-93448cd8db7b",
   "metadata": {},
   "outputs": [],
   "source": [
    "M = M0 * x/ pyDatabases.pdSum(M0,'s')"
   ]
  }
 ],
 "metadata": {
  "kernelspec": {
   "display_name": "Python 3 (ipykernel)",
   "language": "python",
   "name": "python3"
  },
  "language_info": {
   "codemirror_mode": {
    "name": "ipython",
    "version": 3
   },
   "file_extension": ".py",
   "mimetype": "text/x-python",
   "name": "python",
   "nbconvert_exporter": "python",
   "pygments_lexer": "ipython3",
   "version": "3.9.7"
  }
 },
 "nbformat": 4,
 "nbformat_minor": 5
}
