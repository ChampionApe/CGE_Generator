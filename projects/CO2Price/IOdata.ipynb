{
 "cells": [
  {
   "cell_type": "code",
   "execution_count": 1,
   "id": "a05ab39f-49f3-4ed6-a897-e19344882a47",
   "metadata": {},
   "outputs": [],
   "source": [
    "clean_up=True\n",
    "%run StdPackages.ipynb"
   ]
  },
  {
   "cell_type": "markdown",
   "id": "756061f7-e75f-4481-9c41-69db40df12d5",
   "metadata": {},
   "source": [
    "## 1. Durables data"
   ]
  },
  {
   "cell_type": "markdown",
   "id": "f8f842f6-2027-430c-8ce6-9c6f8b6932e5",
   "metadata": {},
   "source": [
    "Load durables data with time dimension on the raw data:"
   ]
  },
  {
   "cell_type": "code",
   "execution_count": 2,
   "id": "bfba46a1-1f1e-467a-b2a4-b19b5f8fd541",
   "metadata": {},
   "outputs": [],
   "source": [
    "t0 = 2018\n",
    "tE = 2019 # final year available for all data sources\n",
    "file_k = os.path.join(d['data'], 'Durables.xlsx')\n",
    "file_mappings = os.path.join(d['data'], 'Mappings.xlsx')\n",
    "df = pd.DataFrame(read.simpleLoad(file_k)['NABK69'].values).iloc[:,1:]\n",
    "# mapping for names:\n",
    "namesToInv = {'Boliger': '5110', \n",
    "              'Andre bygninger': '5121',\n",
    "              'Anlæg': '5122',\n",
    "              'Transportmidler': '5131',\n",
    "              'ICT udstyr, andre maskiner og inventar samt våbensystemer': '513x',\n",
    "              'Stambesætninger mv.': '5150',\n",
    "              'Intellektuelle rettigheder': '517x'}\n",
    "namesInvVariables = {'AN.11 Faste aktiver, nettobeholdning, primo året': 'K',\n",
    "                     'P.51c Forbrug af fast realkapital': 'Depr1',\n",
    "                     'P.51g Faste bruttoinvesteringer': 'I',\n",
    "                     'K.3 Tab ved katastrofer': 'Depr2',\n",
    "                     'K.7 Nominelle kapitalgevinster og -tab': 'Depr3',\n",
    "                     'AN.11 Faste aktiver, nettobeholdning ultimo året': 'Kp1'}"
   ]
  },
  {
   "cell_type": "markdown",
   "id": "c78c665b-6c1a-4c93-8d48-6ceb70ef48c1",
   "metadata": {},
   "source": [
    "Global settings -- e.g. what are the time horizon:"
   ]
  },
  {
   "cell_type": "code",
   "execution_count": 3,
   "id": "61f27182-1096-4dd6-a7f5-21c7de178809",
   "metadata": {},
   "outputs": [],
   "source": [
    "glbls = {t: gmsPyGlobals.SmallOpen(kwargs_vals = {'t': range(t,t+3)}) for t in range(t0,tE+1)} # global settings used throughout; interest rates, long run growth rates, time index etc."
   ]
  },
  {
   "cell_type": "markdown",
   "id": "42f0eb0d-9e18-47de-b86b-93cb3ca28809",
   "metadata": {},
   "source": [
    "*Assign indices:* \n",
    "* The first index is the variable name. The name is only displayed in the first relevant cell; the subsequent cells are just ```na``` - so, we have to fill in the names accordingly.\n",
    "* The second index is the names for investment goods. Once again, we need to fill in ```na``` values with the latest available category.\n",
    "* The third index does not require filling in for ```na```; it only requires that we remove the strings from the codes (this depends on the name convention we are ultimately working with)"
   ]
  },
  {
   "cell_type": "markdown",
   "id": "b485fd82-be9c-4dd3-bd39-4f460a3f8d13",
   "metadata": {},
   "source": [
    "*Index 1 - variable name:*"
   ]
  },
  {
   "cell_type": "code",
   "execution_count": 4,
   "id": "7a5f5903-8096-48c4-aa4a-a7ab2c12737c",
   "metadata": {},
   "outputs": [],
   "source": [
    "variableRows = df[1].dropna()\n",
    "for i in range(len(variableRows)):\n",
    "    if i < len(variableRows)-1:\n",
    "        df.iloc[variableRows.index[i]:variableRows.index[i+1], 0] = namesInvVariables[variableRows.iloc[i]]\n",
    "    else:\n",
    "        df.iloc[variableRows.index[i]:, 0] = namesInvVariables[variableRows.iloc[i]]"
   ]
  },
  {
   "cell_type": "markdown",
   "id": "4e8737e8-a66b-4dd3-b048-6efe171856bc",
   "metadata": {},
   "source": [
    "*Index 2 - type of investment good:*"
   ]
  },
  {
   "cell_type": "code",
   "execution_count": 5,
   "id": "057ad151-210d-4484-9cb9-a30ecb691e8d",
   "metadata": {},
   "outputs": [],
   "source": [
    "catRows = df[2].dropna()\n",
    "for i in range(len(catRows)):\n",
    "    if i < len(catRows)-1:\n",
    "        df.iloc[catRows.index[i]:catRows.index[i+1],1] = namesToInv[catRows.iloc[i]]\n",
    "    else:\n",
    "        df.iloc[catRows.index[i]:, 1] = namesToInv[catRows.iloc[i]]"
   ]
  },
  {
   "cell_type": "markdown",
   "id": "a2904caa-c7e8-4fe0-b7ab-60469bf62fa2",
   "metadata": {},
   "source": [
    "*Index 3 - sector:*"
   ]
  },
  {
   "cell_type": "code",
   "execution_count": 6,
   "id": "1a9fcd39-34cb-4269-99ac-15f11bbe0bc2",
   "metadata": {},
   "outputs": [],
   "source": [
    "branchIndex = df[3].dropna().str.split(' ').str[0]\n",
    "df.iloc[branchIndex.index[0]:branchIndex.index[-1]+1,2] = branchIndex"
   ]
  },
  {
   "cell_type": "markdown",
   "id": "bfda9781-ebc2-4b46-9199-4a9fe7586265",
   "metadata": {},
   "source": [
    "Set relevant rows/columns as indices:"
   ]
  },
  {
   "cell_type": "code",
   "execution_count": 7,
   "id": "c62fb78a-c5bb-4a5b-a210-e00ecce01721",
   "metadata": {},
   "outputs": [],
   "source": [
    "df_ = df.dropna().set_index([1,2,3])\n",
    "df_.columns = pd.Index(df.iloc[2, df_.columns[0]-1:df_.columns[-1]], name = 't')\n",
    "df_k = df_.rename_axis(['var','n','s'],axis=0)"
   ]
  },
  {
   "cell_type": "markdown",
   "id": "c015408a-0872-4016-8f13-d44e1a0b14ae",
   "metadata": {},
   "source": [
    "Adjust data adhoc:\n",
    "* For the years after 1993, the terms $\\delta K_t$ can be backed out from $I_t+K_t-Kp1_t$. This measure of $\\delta K_t$ includes three posts: \n",
    "    1. Real depreciation (```Depr1```),\n",
    "    2. losses due to \"catastrophies\" (```Depr2```),\n",
    "    3. and nominal capital gains (```Depr3```).\n",
    "    \n",
    "    For long run estimates of $\\delta$ (measuring real depreciation), we should only use 1.\n",
    "* For the years 1990-1992, the investment term $I_t$ is not identified. In this case, identify $\\delta K_t$ using ```Depr1```.\n",
    "* Given $\\delta K_t$, we can now back out $I_t$ instead from $Kp1_t-K_t+\\delta K_t$ for the years 1990-1992 (we do not have an estimate of ```Depr3``` for the years 1990-1995, so this is 0 anyway)."
   ]
  },
  {
   "cell_type": "markdown",
   "id": "e2b44d2d-9982-4506-8a51-1e25ae8b25f6",
   "metadata": {},
   "source": [
    "*Replace \"..\" with zeros:*"
   ]
  },
  {
   "cell_type": "code",
   "execution_count": 8,
   "id": "7f6558ea-4bf2-4a95-b66b-02b2da2031ed",
   "metadata": {},
   "outputs": [],
   "source": [
    "df_k = df_k.replace(\"..\",0)"
   ]
  },
  {
   "cell_type": "markdown",
   "id": "74456c61-625a-4f56-a946-b234b9e54336",
   "metadata": {},
   "source": [
    "## 2. Full 69-sector IO data"
   ]
  },
  {
   "cell_type": "markdown",
   "id": "57b58da6-cc14-4fb3-a5bc-0f595bc9d26d",
   "metadata": {},
   "source": [
    "**Settings to load NR69 detailed dataset - in English:**"
   ]
  },
  {
   "cell_type": "code",
   "execution_count": 9,
   "id": "d8e5ca72-ebe9-4b3f-a8af-3afc21be18e3",
   "metadata": {},
   "outputs": [],
   "source": [
    "kwargs_v = {}\n",
    "kwargs_v['rowMarkers'] = {'P': {'ref': 'Danish production', 'offset': {}},\n",
    "                          'M': {'ref': 'Imports', 'offset': {}},\n",
    "                          'OT':{'ref': 'Other Foreign Transactions', 'offset': {}},\n",
    "                          'PI':{'ref': 'Primary Factors', 'offset':{}},\n",
    "                          'TI':{'ref': 'Input / final demand, purchasers prices', 'offset':{}},\n",
    "                          'PV':{'ref': 'Total Output', 'offset': {}}\n",
    "                         }\n",
    "kwargs_v['colMarkers'] = {'In': {'ref': 'Input in production (Transaction code 2000)', 'offset': {'colE':-7}},\n",
    "                          'C' : {'ref': 'GFCF', 'offset': {'col0': -5, 'colE': -5}},\n",
    "                          'G_NPISH': {'ref': 'GFCF', 'offset': {'col0': -4, 'colE': -4}},\n",
    "                          'G_MVPC':  {'ref': 'GFCF', 'offset': {'col0': -3, 'colE': -3}},\n",
    "                          'G_NMVPC': {'ref': 'GFCF', 'offset': {'col0': -2, 'colE': -2}},\n",
    "                          'G_CPC':   {'ref': 'GFCF', 'offset': {'col0': -1, 'colE': -1}},\n",
    "                          'I': {'ref': 'GFCF', 'offset':{}},\n",
    "                          'Other': {'ref': 'Other uses', 'offset': {}},\n",
    "                          'T': {'ref': 'Total'}}\n",
    "kwargs_v['category'] = {'taxCategories': ['Product taxes (excl. VAT)', 'VAT', 'Other production taxes'],\n",
    "                        'wageCategory' : 'Wages and Salaries',\n",
    "                        'residualIncomeCategory': 'Gross Surplus and mixed income',\n",
    "                        'itoryCategories': ['5300','5200'],\n",
    "                        'exportCategory': '6000'}\n",
    "kwargs_i = {}\n",
    "kwargs_i['rMarker'] = 'Total investment, purchase prices'\n",
    "kwargs_i['cMarkers'] = ['Investing industries', 'Total']"
   ]
  },
  {
   "cell_type": "markdown",
   "id": "bea64da6-195b-45a7-9f14-70d5a8edfae8",
   "metadata": {},
   "source": [
    "Loop through the years and store databases:"
   ]
  },
  {
   "cell_type": "code",
   "execution_count": 10,
   "id": "0818d289-17a8-4c5c-b3c2-f308853d58c9",
   "metadata": {},
   "outputs": [],
   "source": [
    "dbs = {}\n",
    "for t in range(t0, tE+1):\n",
    "    # Load data:\n",
    "    name = f'IO{t}'\n",
    "    file_v = os.path.join(d['data'], f'InputOutput_{t}.xlsx')\n",
    "    I = IOfunctions_withoutDurables.readIO(name = name, file_v = file_v, kwargs_v = kwargs_v)\n",
    "    I()\n",
    "    # Add durables: \n",
    "    I.db['vD_dur'] = df_k[str(t)].xs('K').rename('vD_dur')\n",
    "    if t<1993:\n",
    "        I.db['vD_depr']= df_k[str(t)].xs('Depr1').rename('vD_depr')\n",
    "        I.db['vD_inv'] = (df_k[str(t)].xs('Kp1')-df_k[str(t)].xs('K')+I.db.get('vD_depr')).rename('vD_inv')\n",
    "    else:\n",
    "        I.db['vD_inv'] = df_k[str(t)].xs('I').rename('vD_inv')\n",
    "        I.db['vD_depr']= df_k[str(t)].xs('Depr1').rename('vD_depr')\n",
    "        # I.db['vD_depr']= (I.db.get('vD_dur')+I.db.get('vD_inv')-df_k[str(t)].xs('Kp1')).rename('vD_depr')\n",
    "    # Add sets:\n",
    "    aggregateDB.readSets(I.db) # add sets\n",
    "    # Rescale variables\n",
    "    [I.db.__setitem__(k, I.db.get(k)/1000) for k in ('vTax','TotalTax','vD','vC','vC_tax')];\n",
    "    # Clean up other foreign transactions:\n",
    "    I.cleanOtherForeignTransactions()\n",
    "    # Clean up:\n",
    "    I.db['n'] = adj.rc_pd(I.db.get('n'), ('not', I.db.get('n_Fother')))\n",
    "    del(I.db.series['n_Fother'])\n",
    "    # Sort indices:\n",
    "    [I.db.__setitem__(k,IOfunctions.stdSort(v.vals)) for k,v in I.db.getTypes(['variable','parameter']).items()];\n",
    "    dbs[t] = I.db"
   ]
  },
  {
   "cell_type": "markdown",
   "id": "9867de7a-811e-4645-8f47-e1dbf10b08ce",
   "metadata": {},
   "source": [
    "## 3. Aggregation"
   ]
  },
  {
   "cell_type": "markdown",
   "id": "a9701815-5a16-461d-bd45-0c77b74df292",
   "metadata": {},
   "source": [
    "We aggregate from 7 types of durables to 2 (iB and iM). This means aggregation of the sector index ($s$) and the goods index ($n$). Note that we refer to the durables as ```iB,iM``` and the corresponding investment goods as ```I_iB, I_iM``` such that:\n",
    "$$\\begin{align}\n",
    "    iB_{t+1} = iB_t(1-\\delta)+I\\_iB_{t}\n",
    "\\end{align}$$"
   ]
  },
  {
   "cell_type": "markdown",
   "id": "6c0f338a-afae-42c9-9038-b3b4cfcdc673",
   "metadata": {},
   "source": [
    "*Load mapping from 7 to 2 investment types:*"
   ]
  },
  {
   "cell_type": "code",
   "execution_count": 11,
   "id": "47107bd1-9bab-4fb6-8289-47a19ab2df38",
   "metadata": {},
   "outputs": [],
   "source": [
    "wb_mappings = read.simpleLoad(file_mappings)\n",
    "auxMaps = read.maps(wb_mappings['AuxMaps'])\n",
    "mDur = auxMaps['inv7toinvGR'].vals\n",
    "mDur = mDur.set_levels(mDur.levels[0].astype(str), level = 0) # force first index level to string format\n",
    "# m = auxMaps['s69tosGR'].vals # real definition\n",
    "m = auxMaps['s69tosSmall'].vals # use 2-sector definition\n",
    "m = m.set_levels(m.levels[0].astype(str), level = 0) # force first index level to string format"
   ]
  },
  {
   "cell_type": "markdown",
   "id": "9ed59106-4574-4ac0-a9cd-73bed22f991f",
   "metadata": {},
   "source": [
    "*Create full sector and goods mappings:*"
   ]
  },
  {
   "cell_type": "code",
   "execution_count": 12,
   "id": "bf818dcd-7fab-4926-8bff-09cb01cb3b6f",
   "metadata": {},
   "outputs": [],
   "source": [
    "m_s = m.union(pd.MultiIndex.from_frame(mDur.to_frame(index=False).assign(temp = lambda x: 'I_'+x['nn'])[['n','temp']]).rename(['s','ss']))\n",
    "m_sector = m_s.union(pd.MultiIndex.from_arrays([adj.rc_pd(dbs[t].get('s'), ('not', m_s.levels[0])), \n",
    "                                                adj.rc_pd(dbs[t].get('s'), ('not', m_s.levels[0])).rename('ss')])) # for sectors not in the mapping --> use neutral mapping (x,x)\n",
    "m_goods = m.rename(['n','nn']).union(m.set_levels([level.astype(str)+'_F' for level in m.levels]).rename(['n','nn'])).union(mDur)\n",
    "m_goods = m_goods.union(pd.MultiIndex.from_arrays([adj.rc_pd(dbs[t].get('n'), ('not', m_goods.levels[0])),\n",
    "                                                   adj.rc_pd(dbs[t].get('n'), ('not', m_goods.levels[0])).rename('nn')])) # for goods not in the mapping --> use neutral mapping (x,x)"
   ]
  },
  {
   "cell_type": "markdown",
   "id": "4df3a8e9-7829-43b0-9370-4d565493ffba",
   "metadata": {},
   "source": [
    "*Apply aggregation to all databases*"
   ]
  },
  {
   "cell_type": "code",
   "execution_count": 13,
   "id": "4afa788c-b852-4761-bbc5-2c4a38c2897e",
   "metadata": {},
   "outputs": [],
   "source": [
    "for t in range(t0, tE+1):\n",
    "    aggregateDB.aggDB(dbs[t], m_sector)\n",
    "    aggregateDB.aggDB(dbs[t], m_goods)"
   ]
  },
  {
   "cell_type": "markdown",
   "id": "fe4fb9fa-9806-4b65-b4db-4eba6df8516e",
   "metadata": {},
   "source": [
    "## 4. Clean up taxes, government consumption, etc."
   ]
  },
  {
   "cell_type": "markdown",
   "id": "8d1aee00-1c99-4040-b58e-e184b92a3543",
   "metadata": {},
   "source": [
    "A wee bit of clean-up of the relevant data here:  We only use the total government consumption, and not the consumption split onto the many types ```gc```. This is already recorded in the ```vD``` variable. Thus, we remove the more detailed accounts (```vC```, ```vC_tax```, ```gc```)"
   ]
  },
  {
   "cell_type": "code",
   "execution_count": 14,
   "id": "67b4c753-c369-4dfe-a606-3146558afdd0",
   "metadata": {},
   "outputs": [],
   "source": [
    "for t in range(t0, tE+1):\n",
    "    for k in ('gc','vC','vC_tax'):\n",
    "        del(dbs[t].series[k])\n",
    "    # Remove zeros:\n",
    "    [dbs[t].__setitem__(k, dbs[t].get(k)[dbs[t].get(k)!=0]) for k in ('vD','vD_inv','vD_dur','vD_depr','vTax')];    "
   ]
  },
  {
   "cell_type": "markdown",
   "id": "5e568935-1881-467a-b8cb-2b3bef2e9833",
   "metadata": {},
   "source": [
    "## 5. Process data on durables, investments, and depreciation rates"
   ]
  },
  {
   "cell_type": "markdown",
   "id": "d4c9098a-21d9-4f8c-921e-40b567bc7223",
   "metadata": {},
   "source": [
    "* Depreciation of durables are translated to rates. \n",
    "* Distinguish between investment goods and durables: Define investment goods with syntax ```I_x``` for durable x.\n",
    "* Define the mapping dur2inv and relevant subsets (```dur_p``` and ```inv_p```)."
   ]
  },
  {
   "cell_type": "markdown",
   "id": "72c58e57-782c-4254-8b80-3e3bf3c7baa4",
   "metadata": {},
   "source": [
    "*NB: Only run this cell once.*"
   ]
  },
  {
   "cell_type": "code",
   "execution_count": 15,
   "id": "1edf361a-7040-423d-91f7-4661ea81676c",
   "metadata": {},
   "outputs": [],
   "source": [
    "for t in range(t0, tE+1):\n",
    "    db = dbs[t]\n",
    "    db['rDepr'] = db.get('vD_depr') / (db.get('vD_dur').replace(0,1))\n",
    "    db['dur2inv'] = pd.MultiIndex.from_frame(db.get('vD_dur').index.to_frame(index = False).assign(nn = lambda x: 'I_'+x['n'])).reorder_levels(['s','n','nn'])\n",
    "    db['dur_p'] = db.get('dur2inv').droplevel('nn').unique() # what variables are durables (K)\n",
    "    db['inv_p'] = db.get('dur2inv').droplevel('n').unique().rename({'nn':'n'}) # what variables are investment goods (I)\n",
    "    db.get('vD_inv').index = db.get('vD_inv').index.set_levels('I_'+db.get('vD_inv').index.levels[1], level=1)\n",
    "    db['vD'] = db.get('vD_inv').combine_first(db.get('vD')).combine_first(db.get('vD_dur'))"
   ]
  },
  {
   "cell_type": "markdown",
   "id": "cd31fdb4-5d86-4d31-945e-2d78d8855706",
   "metadata": {},
   "source": [
    "*Clean up data:*"
   ]
  },
  {
   "cell_type": "code",
   "execution_count": 16,
   "id": "53800c81-ef48-4a6b-bb7c-40d5f7166873",
   "metadata": {},
   "outputs": [],
   "source": [
    "# for k in ('vD_inv','vD_dur','vD_depr'):\n",
    "#     del(db.series[k])"
   ]
  },
  {
   "cell_type": "markdown",
   "id": "3e674d95-6f4d-4481-aac8-76a7d8989fbc",
   "metadata": {},
   "source": [
    "## 6. Eliminate small and negative values"
   ]
  },
  {
   "cell_type": "markdown",
   "id": "b0bf3cef-b7d7-48cc-9bef-225f21c7a308",
   "metadata": {},
   "source": [
    "We create RAS-like adjustments *within* a number of blocks. We keep the sub-totals fixed in the following blocks:\n",
    "* Block A and I: Input-output from/to domestic production sectors (```n_p,s_p```) and the domestic investment sectors.\n",
    "* Block B and J: Domestic production and investment sectors' demand for imported goods (```n_F, s_p, s_i```). For this block, we do not require row-sums to be the same before and after. The implication is that imports of a specific type $n^F_i$ may not be the same after the adjustment.\n",
    "\n",
    "We do not make any adjustments to consumption components (in particular because there are not sufficient with consumption categories to balance the blocks). This approach ensures that most totals are the same - e.g. total imports per sector - is the same."
   ]
  },
  {
   "cell_type": "code",
   "execution_count": 17,
   "id": "212c1bd5-0a4d-4dba-96aa-ab84eef3005f",
   "metadata": {},
   "outputs": [],
   "source": [
    "ws = gams.GamsWorkspace(working_directory=d['work']) # specify where you want to run the GAMS models from (here the repository referred to in d['work'])\n",
    "threshold = 1 # anything below 1 million is removed from the data\n",
    "for t in range(t0,tE+1):\n",
    "    db = dbs[t]\n",
    "    ras_settings = IOfunctions.standardCleanSettings(db, threshold)\n",
    "    # Run RAS adjustment:\n",
    "    vs, ms = {}, {}\n",
    "    for k,v in ras_settings.items():\n",
    "        vs[k] = RAS.shareRAS(v['v0'], v['vBar'], **v['kwargs']) # Initialize small gams model\n",
    "        vs[k].compile() # set up model\n",
    "        vs[k].write(); # write gams code\n",
    "        ms[k] = vs[k].run(exportTo = d['work'], ws = ws) # solve\n",
    "    gpyDB.add_or_merge_vals(db, pd.concat([ms[k].out_db.get('vD') for k in ms]+[ras_settings[k]['vBar'] for k in ras_settings],axis=0), name = 'vD') # add data to database\n",
    "    # Remove zero values and residual income category:\n",
    "    db['vD'] = adj.rc_pd(db.get('vD')[db.get('vD')!=0], ('not', pd.Index(['resIncome'], name = 'n')))\n",
    "    # Rescale values, divide by 10000 (measure in 10's of billions DKK):\n",
    "    [db.__setitem__(k, db.get(k)/10000) for k in [i for i in db.getTypes(['variable','parameter']) if i.startswith(('q','v'))]+['TotalTax']];"
   ]
  },
  {
   "cell_type": "markdown",
   "id": "7b38f321-8f12-4755-935f-c663424f0210",
   "metadata": {
    "tags": []
   },
   "source": [
    "## 7. Create variables"
   ]
  },
  {
   "cell_type": "markdown",
   "id": "25c5b9db-eb95-4a1e-8a92-004e21745d18",
   "metadata": {},
   "source": [
    "### 7.1. Value of supply"
   ]
  },
  {
   "cell_type": "markdown",
   "id": "18fc9895-5d13-4d08-8db8-56054f8e649e",
   "metadata": {},
   "source": [
    "At this stage, supply comes from (1) households supplying labor, (2) domestic production and investment sectors."
   ]
  },
  {
   "cell_type": "code",
   "execution_count": 18,
   "id": "5ae9d7fe-fd08-4992-9008-6d79d8a2e43a",
   "metadata": {},
   "outputs": [],
   "source": [
    "def repeatIndex(s, i1 = 'n', i2 = 's'):\n",
    "    return s.reset_index().assign(**{i2: s.index}).set_index([i2,i1]).iloc[:,0]"
   ]
  },
  {
   "cell_type": "code",
   "execution_count": 19,
   "id": "3a2f5e77-cad2-489a-b7dd-83383cde6474",
   "metadata": {},
   "outputs": [],
   "source": [
    "for t in range(t0,tE+1):\n",
    "    db = dbs[t]\n",
    "    vS = repeatIndex(adj.rc_pd(db.get('vD'), ('or', [db.get('n_p'), db.get('inv_p')])).groupby('n').sum()) # domestic production/investment supply\n",
    "    vS.loc[('HH','L')] = db.get('vD').xs('L',level='n').sum() # add value of household supply of labor\n",
    "    gpyDB.add_or_merge_vals(db, vS, name = 'vS') # add to database"
   ]
  },
  {
   "cell_type": "markdown",
   "id": "bf49db46-4b89-423b-8aa4-4828aa616b7f",
   "metadata": {},
   "source": [
    "### 7.2. Prices"
   ]
  },
  {
   "cell_type": "markdown",
   "id": "1410b171-0076-43a6-a3d7-f4635b191adb",
   "metadata": {},
   "source": [
    "If no prices have been loaded, set them all to 1:"
   ]
  },
  {
   "cell_type": "code",
   "execution_count": 20,
   "id": "7d0ffcec-9908-4297-96b8-f3d7b071eef1",
   "metadata": {},
   "outputs": [],
   "source": [
    "for t in range(t0,tE+1):\n",
    "    db = dbs[t]\n",
    "    if 'p' not in db.symbols:\n",
    "        db['p'] = pd.Series(1, index = db.get('vS').index.levels[-1].union(db.get('n_F')))"
   ]
  },
  {
   "cell_type": "markdown",
   "id": "df5c6146-624a-4500-a0f2-c29e72f73a9a",
   "metadata": {},
   "source": [
    "### 7.3 Durables"
   ]
  },
  {
   "cell_type": "markdown",
   "id": "c8f02bb3-1b60-4ed3-aab7-eac11d3f6bec",
   "metadata": {},
   "source": [
    "Set the quantity of durables at the value - and define the price ```pD_dur``` as the static user cost term:"
   ]
  },
  {
   "cell_type": "code",
   "execution_count": 21,
   "id": "d8380c74-5fff-4cde-bfe2-d4573f0ddcf9",
   "metadata": {},
   "outputs": [],
   "source": [
    "for t in range(t0,tE+1):\n",
    "    db = dbs[t]\n",
    "    db['qD'] = adj.rc_pd(db.get('vD'), db.get('dur_p')).rename('qD')\n",
    "    db['pD_dur'] = adjMultiIndex.applyMult(db.get('p').rename_axis(index = {'n':'nn'}), db.get('dur2inv')).dropna().droplevel('nn') * (glbls[t].db['R_LR'].vals/(1+glbls[t].db['infl_LR'].vals)+db.get('rDepr')-1)"
   ]
  },
  {
   "cell_type": "markdown",
   "id": "204c0d19-df02-467a-ac21-fdf2ef5ee619",
   "metadata": {
    "tags": []
   },
   "source": [
    "### 7.4. Quantities"
   ]
  },
  {
   "cell_type": "markdown",
   "id": "9f4e4fba-c752-49c4-810b-eeffc5bf772d",
   "metadata": {},
   "source": [
    "Back out quantities from values and prices: Don't keep residual income."
   ]
  },
  {
   "cell_type": "code",
   "execution_count": 22,
   "id": "4b0191e6-41f9-4470-9037-f1507b85ac18",
   "metadata": {},
   "outputs": [],
   "source": [
    "for t in range(t0,tE+1):\n",
    "    db = dbs[t]\n",
    "    db['qD'] = db.get('qD').combine_first( adj.rc_pd(db.get('vD'), ('not', db.get('dur_p'))) / db.get('p'))\n",
    "    db['qS'] = db['vS'].vals / db.get('p')"
   ]
  },
  {
   "cell_type": "markdown",
   "id": "5e86355a-098e-4111-b1b1-03fa555ded64",
   "metadata": {
    "tags": []
   },
   "source": [
    "### 7.5. Effective prices"
   ]
  },
  {
   "cell_type": "markdown",
   "id": "971fb03a-fb36-44c8-86e5-6c00bccac890",
   "metadata": {},
   "source": [
    "Initialize the prices ```pD``` and ```pS``` at the equilibrium prices:"
   ]
  },
  {
   "cell_type": "code",
   "execution_count": 23,
   "id": "d27db04d-e6aa-4bb3-bc3b-8841084e95ed",
   "metadata": {},
   "outputs": [],
   "source": [
    "for t in range(t0,tE+1):\n",
    "    db = dbs[t]\n",
    "    if 'pD' not in db.symbols:\n",
    "        db['pD'] = adjMultiIndex.bc(db.get('p'), adj.rc_pd(db.get('qD'), ('not', db.get('dur_p')))).reorder_levels(db['qD'].domains).rename('pD') # span the pure prices 'p' to fit entire qD domain\n",
    "    if 'pS' not in db.symbols:\n",
    "        db['pS'] = adjMultiIndex.bc(adj.rc_pd(db.get('p'), ('not', db.get('n_F'))), db.get('qS')).reorder_levels(db['qS'].domains).rename('qS') # span 'p' to fit domain of qS. Drop prices on foreign goods."
   ]
  },
  {
   "cell_type": "markdown",
   "id": "a3982b41-c75f-485b-ae42-e6ce8bca9e71",
   "metadata": {},
   "source": [
    "## 8. Create relevant subsets and mappings"
   ]
  },
  {
   "cell_type": "markdown",
   "id": "a32196d1-03ff-40f4-ba02-a21eb2deea38",
   "metadata": {
    "tags": []
   },
   "source": [
    "### 8.1. Domains for general equilibrium"
   ]
  },
  {
   "cell_type": "code",
   "execution_count": 24,
   "id": "c4c633ae-26d4-44c6-8d5d-8924e6745898",
   "metadata": {},
   "outputs": [],
   "source": [
    "for t in range(t0,tE+1):\n",
    "    db = dbs[t]\n",
    "    db['nEqui'] = db['vS'].index.levels[-1] # what levels do the model need to identify an equilibrium for.\n",
    "    db['d_qS']  = db['vS'].index # what (s,n) combinations does supply come from\n",
    "    db['d_qD'] = adj.rc_pd(db['vD'], db['nEqui']).index # what (s,n) combinations does demand come from\n",
    "    db['d_qSEqui'] = adj.rc_pd(db['d_qS'].vals, ('not', db['s_HH'])) # Going from partial to general equilibrium, what 'qS' values should be endogenized\n",
    "    db['d_pEqui']  = pd.Index(['L'], name = 'n') # Going from partial to general equilibrium, what 'p' values should be endogenized"
   ]
  },
  {
   "cell_type": "markdown",
   "id": "6b93e6a8-9849-4e6f-b82b-34d795d42fb1",
   "metadata": {},
   "source": [
    "### 8.2. Trade mappings"
   ]
  },
  {
   "cell_type": "markdown",
   "id": "f50edd08-211a-4699-a53c-404046161c1b",
   "metadata": {},
   "source": [
    "Define the mappings:\n",
    "* ```dom2for[n,nn]```: Mapping from domestic to the equivalent foreign goods (with syntax ```x,x_F```).\n",
    "* ```dExport[s,n]```: Foreign sectors' demand for domestic goods.\n",
    "* ```dImport[s,n,nn]```: sector, domestic good, foreign good combinations in data - i.e. where a sector demands both domestic and foreign type of product.\n",
    "* ```dImport_dom[s,n]```: sector, domestic good combination (s,n) where the sector only demands the domestic and not the corresponding foreign good.\n",
    "* ```dImport_for[s,n]```: sector, foreign good combinations (s,n) where the sector only demand the foreign and not the corresponding domestic good."
   ]
  },
  {
   "cell_type": "code",
   "execution_count": 25,
   "id": "553f4a32-5a8f-43e3-97a5-4c4352ee7ec8",
   "metadata": {},
   "outputs": [],
   "source": [
    "for t in range(t0,tE+1):\n",
    "    db = dbs[t]\n",
    "    db['dom2for'] = pd.MultiIndex.from_arrays([db.get('n_p').sort_values(), db.get('n_F').sort_values().rename('nn')])\n",
    "    db['dExport'] = adj.rc_pd(db.get('vD'), db.get('s_f')).index # foreign sectors' demand for domestic goods\n",
    "    vD_dom = adjMultiIndex.applyMult(adj.rc_pd(db.get('vD'), db.get('n_p')), db.get('dom2for')) # demand for domestic goods mapped to foreign goods types\n",
    "    vD_for = adj.rc_pd(db.get('vD'), db.get('n_F')).rename_axis(index={'n':'nn'}) # demand for foreign goods\n",
    "    db['dImport'] = adj.rc_pd(vD_dom, vD_for).reorder_levels(['s','n','nn']).index\n",
    "    db['dImport_dom'] = adj.rc_pd(vD_dom, ('not', vD_for)).droplevel('nn').reorder_levels(['s','n']).index\n",
    "    db['dImport_for'] = adj.rc_pd(vD_for, ('not', db['dImport'])).index.rename(['s','n']).reorder_levels(['s','n'])"
   ]
  },
  {
   "cell_type": "markdown",
   "id": "8988465a-9478-414f-94c6-9a3f1e179126",
   "metadata": {
    "tags": []
   },
   "source": [
    "## Export:"
   ]
  },
  {
   "cell_type": "code",
   "execution_count": 26,
   "id": "726167f0-b532-41a5-9965-9207108cb261",
   "metadata": {},
   "outputs": [],
   "source": [
    "for t in range(t0,tE+1):\n",
    "    db = dbs[t]\n",
    "    aggregateDB.readSets(db) # read sets from the symbols in data\n",
    "    db.export(repo = d['data'])\n",
    "    with open(f\"{d['data']}\\\\glob_{t}\", \"wb\") as file:\n",
    "        pickle.dump(glbls[t],file)"
   ]
  }
 ],
 "metadata": {
  "kernelspec": {
   "display_name": "Python 3 (ipykernel)",
   "language": "python",
   "name": "python3"
  },
  "language_info": {
   "codemirror_mode": {
    "name": "ipython",
    "version": 3
   },
   "file_extension": ".py",
   "mimetype": "text/x-python",
   "name": "python",
   "nbconvert_exporter": "python",
   "pygments_lexer": "ipython3",
   "version": "3.9.7"
  }
 },
 "nbformat": 4,
 "nbformat_minor": 5
}
