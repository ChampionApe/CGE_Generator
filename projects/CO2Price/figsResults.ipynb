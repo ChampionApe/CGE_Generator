{
 "cells": [
  {
   "cell_type": "code",
   "execution_count": 1,
   "id": "c4da5724-f7d6-42f4-a5c4-0284cdbe6163",
   "metadata": {},
   "outputs": [
    {
     "name": "stdout",
     "output_type": "stream",
     "text": [
      "The file _gams_py_gdb577.gdx is still active and was not deleted.\n",
      "The file _gams_py_gdb579.gdx is still active and was not deleted.\n",
      "The file _gams_py_gdb581.gdx is still active and was not deleted.\n",
      "The file _gams_py_gdb583.gdx is still active and was not deleted.\n",
      "The file _gams_py_gdb585.gdx is still active and was not deleted.\n",
      "The file _gams_py_gdb587.gdx is still active and was not deleted.\n",
      "The file _gams_py_gdb589.gdx is still active and was not deleted.\n",
      "The file _gams_py_gdb591.gdx is still active and was not deleted.\n",
      "The file _gams_py_gdb593.gdx is still active and was not deleted.\n",
      "The file _gams_py_gdb595.gdx is still active and was not deleted.\n",
      "The file _gams_py_gdb597.gdx is still active and was not deleted.\n",
      "The file _gams_py_gdb599.gdx is still active and was not deleted.\n",
      "The file _gams_py_gdb601.gdx is still active and was not deleted.\n"
     ]
    }
   ],
   "source": [
    "clean_up=True\n",
    "%run StdPackages.ipynb\n",
    "ws = gams.GamsWorkspace(working_directory=d['work']) # specify where you want to run the GAMS models from (here the repository referred to in d['work'])"
   ]
  },
  {
   "cell_type": "code",
   "execution_count": 2,
   "id": "3e9f29a7-cf18-4d9a-ba8e-e44ad0339fc9",
   "metadata": {},
   "outputs": [],
   "source": [
    "import warnings\n",
    "warnings.simplefilter(action='ignore', category=FutureWarning)"
   ]
  },
  {
   "cell_type": "markdown",
   "id": "e605dc0c-b995-4c4f-8c34-259b068f5cea",
   "metadata": {
    "tags": []
   },
   "source": [
    "## Print main results out:"
   ]
  },
  {
   "cell_type": "code",
   "execution_count": 3,
   "id": "1700cabc-fb76-45b1-84bd-db2685bcd123",
   "metadata": {},
   "outputs": [],
   "source": [
    "t0 = 1990 # initial year\n",
    "tE = 2019 # terminal year\n",
    "tData = pd.Index(range(t0,tE+1), name = 't')\n",
    "name = 'uniform' # model/scenario name\n",
    "ns = [22, 30, 'T'] # what type of time horizons for eliminating the climate debt are we using\n",
    "loadFrom = os.path.join(d['curr'], 'climateBudgets')"
   ]
  },
  {
   "cell_type": "markdown",
   "id": "7d746a5b-9225-4213-bcdd-f7ad5277bd04",
   "metadata": {},
   "source": [
    "Load all databases (this takes a bit of time, as we deal with a lot data here; roughly 360 different databases, each with millions of data):"
   ]
  },
  {
   "cell_type": "code",
   "execution_count": 4,
   "id": "f468a961-fc96-49c0-a652-6f9b57aac4fd",
   "metadata": {},
   "outputs": [],
   "source": [
    "regulationTypes = ['SY','IIa','IIb']+[f'III{x}{n}' for n in ns for x in ['a','b','c']]\n",
    "dbs = {(t, rt): GpyDB(pickle_path = os.path.join(loadFrom, f'{name}_{t}_{rt}')) for t in range(t0,tE+1) for rt in regulationTypes}"
   ]
  },
  {
   "cell_type": "markdown",
   "id": "8e0ed3e1-5daf-450a-bc71-6dcfa843db46",
   "metadata": {},
   "source": [
    "Extract time series for CO2 prices for regulation type:"
   ]
  },
  {
   "cell_type": "code",
   "execution_count": 5,
   "id": "c9230d91-6831-48f7-81ac-6dbb019bdb36",
   "metadata": {},
   "outputs": [],
   "source": [
    "dfs = {rt: pd.Series([dbs[(t, rt)].get('tauCO2agg').xs(t) for t in range(t0,tE+1)], index = pd.Index(range(t0, tE+1), name ='t')) for rt in regulationTypes}"
   ]
  },
  {
   "cell_type": "markdown",
   "id": "71da8329-b395-4de4-8ea9-1e6c080c9aec",
   "metadata": {},
   "source": [
    "## Print main results"
   ]
  },
  {
   "cell_type": "code",
   "execution_count": 6,
   "id": "313a80af-b567-4e75-a662-b64f41a0e602",
   "metadata": {},
   "outputs": [],
   "source": [
    "scale = 1e10 / (list(dbs.values())[0].get('M1990') * 1e6) # multiply this onto the tax level to get DKK/ton\n",
    "MData = list(dbs.values())[0].get('MData').loc[t0:tE]\n",
    "MData = (MData/MData.loc[1990]).rename('Emissions')"
   ]
  },
  {
   "cell_type": "markdown",
   "id": "5e964ad0-236f-4138-81bc-d77735f25316",
   "metadata": {},
   "source": [
    "### Path of CO2 prices:"
   ]
  },
  {
   "cell_type": "markdown",
   "id": "0306384a-3c50-40f9-b261-d3fda33805e1",
   "metadata": {},
   "source": [
    "#### 1. Single-year targets"
   ]
  },
  {
   "cell_type": "code",
   "execution_count": 7,
   "id": "feb3c4af-df9e-42a8-bca4-1aac196b5d96",
   "metadata": {},
   "outputs": [],
   "source": [
    "nextEffectiveTarget = pd.Series([dbs[(t, 'SY')].get('MTarget_SY').iloc[0] for t in range(t0,tE+1)], index = tData).rename('Next effective target')\n",
    "dfSY = pd.concat([(dfs['SY'] * scale).rename('CO2e price'), ((MData-nextEffectiveTarget) * 100).rename('Emissions gap')], axis =1)"
   ]
  },
  {
   "cell_type": "markdown",
   "id": "cdeb32ee-c033-42f7-970c-8ce296de11cd",
   "metadata": {},
   "source": [
    "*Plot the price against the \"emissions gap\" defined as the difference between emissions and the next relevant target:*"
   ]
  },
  {
   "cell_type": "code",
   "execution_count": 8,
   "id": "ede98535-f866-4e11-a8a7-b33e172278a1",
   "metadata": {},
   "outputs": [],
   "source": [
    "%%capture\n",
    "one_graph()\n",
    "fig, ax1 = plt.subplots(1,1, figsize = (14, 8));\n",
    "ax2 = ax1.twinx()\n",
    "seaborn.lineplot(data =dfSY['CO2e price'], ax = ax1, linewidth = 3);\n",
    "ngrid = 6\n",
    "ax1.set_yticks(np.linspace(0, 750, ngrid))\n",
    "ax1.set_ylim([-2, 750]);\n",
    "ax1.set_ylabel('CO2 price', labelpad=25);\n",
    "ax1.set_xlabel(None, labelpad=10);\n",
    "ax1.set_xlim([t0, tE]);\n",
    "\n",
    "\n",
    "seaborn.lineplot(data = dfSY['Emissions gap'], ax = ax2, linewidth=3, color = colors[1], linestyle = '--');\n",
    "ax2.set_yticks(np.linspace(0, 50, ngrid))\n",
    "ax2.set_ylim([-.5, 50]);\n",
    "ax2.set_ylabel('Emissions gap', labelpad=25);\n",
    "ax2.grid(None);\n",
    "ax2.set_xlim([t0, tE]);\n",
    "\n",
    "fig.legend(dfSY.columns,loc=9,ncol=3,frameon=True)\n",
    "ax1.axhline(y=0, linewidth = 1, color = 'k', alpha = 0.5);\n",
    "fig.tight_layout();\n",
    "fig.subplots_adjust(top=0.9);\n",
    "\n",
    "fig.savefig(f\"{d['figs']}\\\\{name}_main_SY.pdf\",edgecolor='k')"
   ]
  },
  {
   "cell_type": "markdown",
   "id": "94f53402-2fd0-4c34-b25d-00ca0338d843",
   "metadata": {},
   "source": [
    "*Emissions prices in left hand, data and targets in the right hand side:*"
   ]
  },
  {
   "cell_type": "code",
   "execution_count": 9,
   "id": "5b7a7502-1a23-44d6-adc8-dcbec0a1e194",
   "metadata": {},
   "outputs": [],
   "source": [
    "%%capture\n",
    "mult_graphs()\n",
    "fig, axes = plt.subplots(1, 2, figsize = (14, 6));\n",
    "#plot 1\n",
    "ax = plt.subplot(1, 2, 1);\n",
    "seaborn.lineplot(data = dfs['SY'] * scale, linewidth = '3');\n",
    "ax.axhline(y=0, linewidth = 1, color = 'k', alpha = 0.5);\n",
    "ax.set_xlim([t0, tE]);\n",
    "ax.set_xlabel(None, labelpad = 10);\n",
    "ax.set_ylabel('DKK/ton CO2e', labelpad =10);\n",
    "ax.set_title('Emission price');\n",
    "\n",
    "#plot 2\n",
    "ax = plt.subplot(1, 2, 2)\n",
    "# seaborn.lineplot(data = pd.concat([MData, nextEffectiveTarget], axis = 1) * 100, linewidth = 3, dashes = [(1,0), (4,1)]);\n",
    "seaborn.lineplot(data = pd.concat([MData, nextEffectiveTarget], axis = 1) * 100, linewidth = 3);\n",
    "ax.set_xlim([t0, tE]);\n",
    "ax.set_xlabel(None, labelpad = 10);\n",
    "ax.set_ylabel('Emissions', labelpad =10);\n",
    "ax.set_title('Emissions and targets')\n",
    "# ax.axhline(y=0, linewidth = 1, color = 'k', alpha = 0.5);\n",
    "\n",
    "fig.tight_layout();\n",
    "fig.savefig(f\"{d['figs']}\\\\{name}_SY_sideBySide.pdf\",edgecolor='k')"
   ]
  },
  {
   "cell_type": "markdown",
   "id": "92ee963d-a437-468e-a388-1bf45530674c",
   "metadata": {},
   "source": [
    "#### 2. Linear reduction targets"
   ]
  },
  {
   "cell_type": "code",
   "execution_count": 10,
   "id": "da1a882c-5b7b-4a4a-8d31-47fe67061fc6",
   "metadata": {},
   "outputs": [],
   "source": [
    "dfII = pd.concat([dfs['IIa'].rename('Type IIa'), dfs['IIb'].rename('Type IIb')], axis =1) * scale "
   ]
  },
  {
   "cell_type": "code",
   "execution_count": 11,
   "id": "188cbc41-8cad-4356-8ed1-0b918bf1bd5e",
   "metadata": {},
   "outputs": [],
   "source": [
    "%%capture\n",
    "one_graph()\n",
    "fig, ax = plt.subplots(1,1, figsize = (14, 8));\n",
    "seaborn.lineplot(data = dfII, ax = ax, linewidth = 3)\n",
    "ax.set_xlabel('', labelpad=10);\n",
    "ax.set_xlim([t0, tE]);\n",
    "ax.set_ylabel('CO2 price');\n",
    "ax.axhline(y=0, linewidth=1, color = 'k', alpha = 0.5);\n",
    "fig.tight_layout();\n",
    "fig.savefig(f\"{d['figs']}\\\\{name}_main_II.pdf\",edgecolor='k')"
   ]
  },
  {
   "cell_type": "markdown",
   "id": "899b74fd-e0d5-49d3-b23b-b068ce2dc908",
   "metadata": {},
   "source": [
    "#### 3. With Climate debt"
   ]
  },
  {
   "cell_type": "markdown",
   "id": "2f6f38e3-34ca-46f5-9111-9a02873696a7",
   "metadata": {},
   "source": [
    "*Part a:*"
   ]
  },
  {
   "cell_type": "code",
   "execution_count": 12,
   "id": "922734fb-5ab7-4cd7-b559-f875f1e00ddb",
   "metadata": {},
   "outputs": [],
   "source": [
    "dfIIIa = pd.concat([dfs['IIIa22'].rename('Elimination in 22 years'), dfs['IIIaT'].rename('Elimination in transitory phase')], axis =1) * scale"
   ]
  },
  {
   "cell_type": "code",
   "execution_count": 13,
   "id": "39faf4c4-05a1-4fff-a63f-1b77f3dc82c8",
   "metadata": {},
   "outputs": [],
   "source": [
    "%%capture\n",
    "one_graph()\n",
    "fig, ax = plt.subplots(1,1, figsize = (14, 8));\n",
    "seaborn.lineplot(data = dfIIIa, ax = ax, linewidth = 3)\n",
    "ax.set_xlabel('', labelpad=10);\n",
    "ax.set_xlim([t0, tE]);\n",
    "ax.set_ylabel('CO2 price');\n",
    "ax.axhline(y=0, linewidth=1, color = 'k', alpha = 0.5);\n",
    "fig.tight_layout();\n",
    "fig.savefig(f\"{d['figs']}\\\\{name}_main_IIIa.pdf\",edgecolor='k')"
   ]
  },
  {
   "cell_type": "markdown",
   "id": "b5a9d519-6ba2-4c3b-b474-0531adb67a97",
   "metadata": {},
   "source": [
    "Split into cost of levels versus debt:"
   ]
  },
  {
   "cell_type": "code",
   "execution_count": 60,
   "id": "fd67af63-2412-4790-9d5a-ec469aa4b5dc",
   "metadata": {},
   "outputs": [],
   "source": [
    "decomp = pd.concat([dfII['Type IIa'].rename('Level effect'),\n",
    "                    (dfIIIa['Elimination in transitory phase']-dfII['Type IIa']).rename('Debt Effect, T'),\n",
    "                    (dfIIIa['Elimination in 22 years']-dfIIIa['Elimination in transitory phase']).rename('Debt Effect, 22 y')], axis = 1)\n",
    "decompNeg = decomp[decomp<0][['Debt Effect, T', 'Debt Effect, 22 y']]"
   ]
  },
  {
   "cell_type": "code",
   "execution_count": 66,
   "id": "712acda7-b5bb-4c2a-883f-102d02f9fc19",
   "metadata": {},
   "outputs": [],
   "source": [
    "%%capture\n",
    "one_graph()\n",
    "fig, ax = plt.subplots(1,1, figsize = (14, 8));\n",
    "plt.stackplot(decomp.index, decomp[decomp>=0].values.T, alpha = .7, edgecolor = 'k', linewidth = 1, linestyle = 'dashed')\n",
    "plt.stackplot(decompNeg.index, decompNeg.values.T, alpha = .7, colors = [colors[1], colors[2]], edgecolor = 'k', linewidth = 1, linestyle = 'dashed')\n",
    "ax.set_xlabel('', labelpad=10);\n",
    "ax.set_xlim([t0, tE]);\n",
    "ax.set_ylabel('CO2 price');\n",
    "ax.axhline(y=0, linewidth=1, color = 'k', alpha = 0.5);\n",
    "\n",
    "fig.legend(decomp.columns,loc=9,ncol=3,frameon=True)\n",
    "fig.tight_layout();\n",
    "fig.subplots_adjust(top=0.9);\n",
    "fig.savefig(f\"{d['figs']}\\\\{name}_decomp_IIIa.pdf\",edgecolor='k')"
   ]
  },
  {
   "cell_type": "markdown",
   "id": "e6ff6575-79bd-4fcc-9ac4-bff304887c63",
   "metadata": {},
   "source": [
    "*Part b:*"
   ]
  },
  {
   "cell_type": "code",
   "execution_count": 16,
   "id": "32921f16-bae2-4ee0-91e8-68bdc38fffca",
   "metadata": {},
   "outputs": [],
   "source": [
    "dfIIIb = pd.concat([dfs['IIIb22'].rename('Elimination in 22 years'), dfs['IIIbT'].rename('Elimination in transitory phase')], axis =1) * scale"
   ]
  },
  {
   "cell_type": "code",
   "execution_count": 17,
   "id": "640f01d8-fc93-4bba-9f75-3df9f46a6856",
   "metadata": {},
   "outputs": [],
   "source": [
    "%%capture\n",
    "one_graph()\n",
    "fig, ax = plt.subplots(1,1, figsize = (14, 8));\n",
    "seaborn.lineplot(data = dfIIIb, ax = ax, linewidth = 3)\n",
    "ax.set_xlabel('', labelpad=10);\n",
    "ax.set_xlim([t0, tE]);\n",
    "ax.set_ylabel('CO2 price');\n",
    "ax.axhline(y=0, linewidth=1, color = 'k', alpha = 0.5);\n",
    "fig.tight_layout();\n",
    "fig.savefig(f\"{d['figs']}\\\\{name}_main_IIIb.pdf\",edgecolor='k')"
   ]
  },
  {
   "cell_type": "markdown",
   "id": "d035eec5-226d-4cb5-8316-387fa49816d3",
   "metadata": {},
   "source": [
    "Split into cost of levels versus debt:"
   ]
  },
  {
   "cell_type": "code",
   "execution_count": 67,
   "id": "53d268e3-cff9-4a52-9967-25fab8009311",
   "metadata": {},
   "outputs": [],
   "source": [
    "decomp = pd.concat([dfII['Type IIb'].rename('Level effect'),\n",
    "                    (dfIIIb['Elimination in transitory phase']-dfII['Type IIb']).rename('Debt Effect, T'),\n",
    "                    (dfIIIb['Elimination in 22 years']-dfIIIb['Elimination in transitory phase']).rename('Debt Effect, 22 y')], axis = 1)\n",
    "decompNeg = decomp[decomp<0][['Debt Effect, T', 'Debt Effect, 22 y']]"
   ]
  },
  {
   "cell_type": "code",
   "execution_count": 68,
   "id": "74670b2f-c97e-4aea-ac7e-83d968b9e81b",
   "metadata": {},
   "outputs": [],
   "source": [
    "%%capture\n",
    "one_graph()\n",
    "fig, ax = plt.subplots(1,1, figsize = (14, 8));\n",
    "plt.stackplot(decomp.index, decomp[decomp>=0].values.T, alpha = .7, edgecolor = 'k', linewidth = 1, linestyle = 'dashed')\n",
    "plt.stackplot(decompNeg.index, decompNeg.values.T, alpha = .7, colors = [colors[1], colors[2]], edgecolor = 'k', linewidth = 1, linestyle = 'dashed')\n",
    "ax.set_xlabel('', labelpad=10);\n",
    "ax.set_xlim([t0, tE]);\n",
    "ax.set_ylabel('CO2 price');\n",
    "ax.axhline(y=0, linewidth=1, color = 'k', alpha = 0.5);\n",
    "\n",
    "fig.legend(decomp.columns,loc=9,ncol=3,frameon=True)\n",
    "fig.tight_layout();\n",
    "fig.subplots_adjust(top=0.9);\n",
    "fig.savefig(f\"{d['figs']}\\\\{name}_decomp_IIIb.pdf\",edgecolor='k')"
   ]
  },
  {
   "cell_type": "markdown",
   "id": "e7b4f186-25e7-4d73-9c26-8609df0ab844",
   "metadata": {},
   "source": [
    "*Part c:*"
   ]
  },
  {
   "cell_type": "code",
   "execution_count": 20,
   "id": "e59fb008-f727-4fed-b834-5942fff51af9",
   "metadata": {},
   "outputs": [],
   "source": [
    "dfIIIc = pd.concat([dfs['IIIc22'].rename('Elimination in 22 years'), dfs['IIIcT'].rename('Elimination in transitory phase')], axis =1) * scale"
   ]
  },
  {
   "cell_type": "code",
   "execution_count": 21,
   "id": "8cf3840a-ac88-4928-969c-790092b6af97",
   "metadata": {},
   "outputs": [],
   "source": [
    "%%capture\n",
    "one_graph()\n",
    "fig, ax = plt.subplots(1,1, figsize = (14, 8));\n",
    "seaborn.lineplot(data = dfIIIc, ax = ax, linewidth = 3)\n",
    "ax.set_xlabel('', labelpad=10);\n",
    "ax.set_xlim([t0, tE]);\n",
    "ax.set_ylabel('CO2 price');\n",
    "ax.axhline(y=0, linewidth=1, color = 'k', alpha = 0.5);\n",
    "fig.tight_layout();\n",
    "fig.savefig(f\"{d['figs']}\\\\{name}_main_IIIc.pdf\",edgecolor='k')"
   ]
  },
  {
   "cell_type": "markdown",
   "id": "b9460267-5455-48cd-abd9-5f72b86889c4",
   "metadata": {},
   "source": [
    "Split into cost of levels versus debt:"
   ]
  },
  {
   "cell_type": "code",
   "execution_count": 69,
   "id": "308628e7-143f-4695-b769-e6d88e4fb1ad",
   "metadata": {},
   "outputs": [],
   "source": [
    "decomp = pd.concat([dfII['Type IIb'].rename('Level effect'),\n",
    "                    (dfIIIc['Elimination in transitory phase']-dfII['Type IIb']).rename('Debt Effect, T'),\n",
    "                    (dfIIIc['Elimination in 22 years']-dfIIIc['Elimination in transitory phase']).rename('Debt Effect, 22 y')], axis = 1)\n",
    "decompNeg = decomp[decomp<0][['Debt Effect, T', 'Debt Effect, 22 y']]"
   ]
  },
  {
   "cell_type": "code",
   "execution_count": 71,
   "id": "ae802d1d-1ad2-4001-8264-5df26245bf78",
   "metadata": {},
   "outputs": [],
   "source": [
    "%%capture\n",
    "one_graph()\n",
    "fig, ax = plt.subplots(1,1, figsize = (14, 8));\n",
    "plt.stackplot(decomp.index, decomp[decomp>=0].values.T, alpha = .7, edgecolor = 'k', linewidth = 1, linestyle = 'dashed')\n",
    "plt.stackplot(decompNeg.index, decompNeg.values.T, alpha = .7, colors = [colors[1], colors[2]], edgecolor = 'k', linewidth = 1, linestyle = 'dashed')\n",
    "ax.set_xlabel('', labelpad=10);\n",
    "ax.set_xlim([t0, tE]);\n",
    "ax.set_ylabel('CO2 price');\n",
    "ax.axhline(y=0, linewidth=1, color = 'k', alpha = 0.5);\n",
    "\n",
    "fig.legend(decomp.columns,loc=9,ncol=3,frameon=True)\n",
    "fig.tight_layout();\n",
    "fig.subplots_adjust(top=0.9);\n",
    "fig.savefig(f\"{d['figs']}\\\\{name}_decomp_IIIc.pdf\",edgecolor='k')"
   ]
  },
  {
   "cell_type": "markdown",
   "id": "21a27717-5c80-4a35-bb76-ee1107bad3c2",
   "metadata": {},
   "source": [
    "## MAC curves"
   ]
  },
  {
   "cell_type": "markdown",
   "id": "b6578b70-d263-4991-864d-da9bae448b72",
   "metadata": {},
   "source": [
    "Simulate the MAC curve with the following adjustments:\n",
    "1. Permanent shift in level\n",
    "2. Transitory (only today) shift in levels.\n",
    "3. Permanent shifts from $t+j$ (for $j = 1,...,5$).\n",
    "4. Apply a hotelling rule for a (smaller) grid of starting values of taxes today."
   ]
  },
  {
   "cell_type": "markdown",
   "id": "f740fc35-9b18-465f-9e99-32b899ac66ec",
   "metadata": {},
   "source": [
    "Pick out years to show for:"
   ]
  },
  {
   "cell_type": "code",
   "execution_count": 18,
   "id": "c511727e-332e-4dd4-8f10-04456f90282d",
   "metadata": {},
   "outputs": [],
   "source": [
    "ts = [1990, 2005, 2011, 2019]\n",
    "# ts = [2019]\n",
    "lags = range(1,6)"
   ]
  },
  {
   "cell_type": "markdown",
   "id": "5494942f-122e-48fd-8559-590e5377a20c",
   "metadata": {},
   "source": [
    "Load all general equilibrium modules:"
   ]
  },
  {
   "cell_type": "code",
   "execution_count": 19,
   "id": "e8e7cac9-7314-4e4e-9865-8c511af655fa",
   "metadata": {},
   "outputs": [],
   "source": [
    "def loadPickleFrom(name, repo = f\"{d['modules']}\"):\n",
    "    with open(os.path.join(repo, name), \"rb\") as file:\n",
    "        return pickle.load(file)"
   ]
  },
  {
   "cell_type": "markdown",
   "id": "6df97997-00f4-4d9f-91eb-05068ac0035c",
   "metadata": {},
   "source": [
    "Store them here:"
   ]
  },
  {
   "cell_type": "code",
   "execution_count": 20,
   "id": "da7b1239-2e98-43fa-a184-f5e0a0bc4fa8",
   "metadata": {},
   "outputs": [],
   "source": [
    "GEs = {t: loadPickleFrom(f\"{name}_GE_{t}\") for t in ts}"
   ]
  },
  {
   "cell_type": "markdown",
   "id": "8db1506b-33fa-446c-a25b-595f1ce05afa",
   "metadata": {},
   "source": [
    "Add uniform solutions:"
   ]
  },
  {
   "cell_type": "code",
   "execution_count": 21,
   "id": "2ee0869b-b011-44b6-99e8-e021be9fc1a4",
   "metadata": {},
   "outputs": [],
   "source": [
    "dbsU = {t: GpyDB(pickle_path = os.path.join(loadFrom, f'{name}_{t}_uniform')) for t in ts}"
   ]
  },
  {
   "cell_type": "markdown",
   "id": "21da87ba-c07d-4d84-a424-9bfc6abbaa35",
   "metadata": {},
   "source": [
    "Define the model tax level required to get to 2500 DKK/ton CO2"
   ]
  },
  {
   "cell_type": "code",
   "execution_count": 22,
   "id": "9f203275-1a55-4b07-ab0a-e8ce849d58f8",
   "metadata": {},
   "outputs": [],
   "source": [
    "maxTax = 2500\n",
    "maxTaxModel = maxTax/scale"
   ]
  },
  {
   "cell_type": "markdown",
   "id": "d8ce1e92-3dee-48b5-9505-256798d324d3",
   "metadata": {},
   "source": [
    "Store solutions in:"
   ]
  },
  {
   "cell_type": "code",
   "execution_count": 23,
   "id": "f45a8bb4-bcbd-4659-8f35-ff98babe70c9",
   "metadata": {},
   "outputs": [],
   "source": [
    "extractSol = {k:None for k in ('qS','qD','pD','p','qCO2agg','qCO2')}\n",
    "ite = [(t,k) for t in ts for k in ('l','u')]\n",
    "msPermanent = dict.fromkeys(ite)\n",
    "msTransitory = msPermanent.copy()\n",
    "msHotelling = msPermanent.copy()\n",
    "msLagged = dict.fromkeys(ite, dict.fromkeys(lags))"
   ]
  },
  {
   "cell_type": "markdown",
   "id": "a19b7eaf-4eed-4991-ae0b-27b3db2053b8",
   "metadata": {},
   "source": [
    "Start from the uniform solution:msHotelling"
   ]
  },
  {
   "cell_type": "code",
   "execution_count": 24,
   "id": "b4283f6d-cdd7-4fd8-a095-cfc2ca437ed2",
   "metadata": {},
   "outputs": [],
   "source": [
    "[robust.robust_merge_dbs(GEs[t].s.db, dbsU[t].getTypes(['variable','scalar_variable']), priority = 'second') for t in ts];"
   ]
  },
  {
   "cell_type": "markdown",
   "id": "511fee79-c95e-4ca1-be86-90789017bbc0",
   "metadata": {},
   "source": [
    "#### 1. Permanent shifts"
   ]
  },
  {
   "cell_type": "code",
   "execution_count": 25,
   "id": "18add6c5-9ffa-4ab5-9fe1-58ea0cce4cdf",
   "metadata": {},
   "outputs": [],
   "source": [
    "lowVal = 1e-5 # gams automatically removes zeros from the solution database - we use this value instead of 0 in the tax"
   ]
  },
  {
   "cell_type": "markdown",
   "id": "8ddb8756-5bd6-47d8-ad8c-e97bd8c9f040",
   "metadata": {},
   "source": [
    "Define target databases:"
   ]
  },
  {
   "cell_type": "code",
   "execution_count": 26,
   "id": "304fa884-982a-4fac-8893-40d30e2fd441",
   "metadata": {},
   "outputs": [],
   "source": [
    "dbsPermanentUpper = {t: GpyDB(**{'name': f'permanentUpper_{t}'}) for t in ts}\n",
    "[dbsPermanentUpper[t].__setitem__('tauCO2agg', pd.Series(maxTaxModel, index = GEs[t].get('t'), name = 'tauCO2agg')) for t in ts];\n",
    "dbsPermanentLower = {t: GpyDB(**{'name': f'permanentLower_{t}'}) for t in ts}\n",
    "[dbsPermanentLower[t].__setitem__('tauCO2agg', pd.Series(lowVal, index = GEs[t].get('t'), name = 'tauCO2agg')) for t in ts];"
   ]
  },
  {
   "cell_type": "markdown",
   "id": "ebbc48b7-4415-4401-b933-e1b89c736950",
   "metadata": {},
   "source": [
    "Solve all models:"
   ]
  },
  {
   "cell_type": "code",
   "execution_count": 27,
   "id": "2c9d4b4a-a74a-47c8-8ac6-f1674744405a",
   "metadata": {},
   "outputs": [],
   "source": [
    "for t in ts:\n",
    "    msPermanent[(t,'l')], _ = GEs[t].sneakySolve(dbsPermanentLower[t], ws = ws, loop_kwargs = {'n': 10, 'extractSol': extractSol}, **{'cns':'CONOPT4'})\n",
    "    msPermanent[(t,'u')], _ = GEs[t].sneakySolve(dbsPermanentUpper[t], ws = ws, loop_kwargs = {'n': 50, 'extractSol': extractSol}, **{'cns':'CONOPT4'})"
   ]
  },
  {
   "cell_type": "markdown",
   "id": "f01e440d-1ea0-4698-9e1a-cc14cb715e82",
   "metadata": {},
   "source": [
    "#### 2. Transitory shift"
   ]
  },
  {
   "cell_type": "markdown",
   "id": "44445d49-be74-45b8-b7ee-e4b68f5d4af2",
   "metadata": {},
   "source": [
    "Define target databases:"
   ]
  },
  {
   "cell_type": "code",
   "execution_count": 28,
   "id": "8ce3b5aa-2be8-4713-a746-a527689f4ed8",
   "metadata": {},
   "outputs": [],
   "source": [
    "dbsTransitoryUpper = {t: GpyDB(**{'name': f'transitoryUpper_{t}'}) for t in ts}\n",
    "[dbsTransitoryUpper[t].__setitem__('tauCO2agg', pd.Series(maxTaxModel, index = GEs[t].get('t0'), name = 'tauCO2agg')) for t in ts];\n",
    "dbsTransitoryLower = {t: GpyDB(**{'name': f'transitoryLower_{t}'}) for t in ts}\n",
    "[dbsTransitoryLower[t].__setitem__('tauCO2agg', pd.Series(lowVal, index = GEs[t].get('t0'), name = 'tauCO2agg')) for t in ts];"
   ]
  },
  {
   "cell_type": "markdown",
   "id": "efc2d85a-11f3-408f-9a3a-f9f3b17a5b4e",
   "metadata": {},
   "source": [
    "Solve all models:"
   ]
  },
  {
   "cell_type": "code",
   "execution_count": 29,
   "id": "4567ae79-8117-485c-9747-731d8388ca6d",
   "metadata": {},
   "outputs": [],
   "source": [
    "for t in ts:\n",
    "    msTransitory[(t,'l')], _ = GEs[t].sneakySolve(dbsTransitoryLower[t], ws = ws, loop_kwargs = {'n': 10, 'extractSol': extractSol}, **{'cns':'CONOPT4'})\n",
    "    msTransitory[(t,'u')], _ = GEs[t].sneakySolve(dbsTransitoryUpper[t], ws = ws, loop_kwargs = {'n': 50, 'extractSol': extractSol}, **{'cns':'CONOPT4'})"
   ]
  },
  {
   "cell_type": "markdown",
   "id": "9a76a497-0312-4804-b11f-3a35068f5761",
   "metadata": {},
   "source": [
    "#### 3. Lagged, but permanent shifts"
   ]
  },
  {
   "cell_type": "markdown",
   "id": "5b4ffb21-540b-42ce-84ef-312a576fa33c",
   "metadata": {},
   "source": [
    "Define target databases:"
   ]
  },
  {
   "cell_type": "code",
   "execution_count": 30,
   "id": "55c9bc01-648b-49d6-be1c-a60e235dccc3",
   "metadata": {},
   "outputs": [],
   "source": [
    "dbsLaggedUpper = {(t, j): GpyDB(**{'name': f'laggedUpper_{t}_{j}'}) for t in ts for j in lags}\n",
    "[dbsLaggedUpper[(t,j)].__setitem__('tauCO2agg', pd.Series(maxTaxModel, index = GEs[t].get('t')[j:], name='tauCO2agg')) for t in ts for j in lags];\n",
    "dbsLaggedLower = {(t, j): GpyDB(**{'name': f'laggedLower_{t}_{j}'}) for t in ts for j in lags}\n",
    "[dbsLaggedLower[(t,j)].__setitem__('tauCO2agg', pd.Series(lowVal, index = GEs[t].get('t')[j:], name='tauCO2agg')) for t in ts for j in lags];"
   ]
  },
  {
   "cell_type": "markdown",
   "id": "01c1f2be-55c5-40ac-8e06-b69c6e92a067",
   "metadata": {},
   "source": [
    "Solve all models:"
   ]
  },
  {
   "cell_type": "code",
   "execution_count": 31,
   "id": "96ba1c24-b57a-47a5-9549-a73d6584db1a",
   "metadata": {},
   "outputs": [],
   "source": [
    "for t in ts:\n",
    "    for j in lags:\n",
    "        msLagged[(t,'l')][j], _ = GEs[t].sneakySolve(dbsLaggedUpper[(t,j)], ws = ws, loop_kwargs = {'n': 10, 'extractSol': extractSol}, **{'cns':'CONOPT4'})\n",
    "        msLagged[(t,'u')][j], _ = GEs[t].sneakySolve(dbsLaggedLower[(t,j)], ws = ws, loop_kwargs = {'n': 50, 'extractSol': extractSol}, **{'cns':'CONOPT4'})"
   ]
  },
  {
   "cell_type": "markdown",
   "id": "83c25969-9a33-4095-b84f-381187ad5a6f",
   "metadata": {
    "tags": []
   },
   "source": [
    "#### 4. Hotelling rule:\n",
    "\n",
    "*NB: As we still use the simple ```sneakySolve``` approach that uses linear interpolation, we only have approximate hotelling rules in the intermediate steps (only the \"corners\" are true hotelling ruels)* "
   ]
  },
  {
   "cell_type": "code",
   "execution_count": 32,
   "id": "44abdd55-74f4-4f1a-8da6-f8a0bf531a34",
   "metadata": {},
   "outputs": [],
   "source": [
    "maxTaxHotelling = 5\n",
    "hotellingFactor = np.power(1.03, range(0, len(GEs[t].get('t'))))"
   ]
  },
  {
   "cell_type": "markdown",
   "id": "9878a898-d3c2-4ed9-ab01-b72de4467a4b",
   "metadata": {},
   "source": [
    "Define target databases:"
   ]
  },
  {
   "cell_type": "code",
   "execution_count": 33,
   "id": "f5fd78e0-ab5e-4492-aa85-132efe1f37fa",
   "metadata": {},
   "outputs": [],
   "source": [
    "dbsHotellingUpper = {t: GpyDB(**{'name': f'hotellingUpper_{t}'}) for t in ts}\n",
    "[dbsHotellingUpper[t].__setitem__('tauCO2agg', pd.Series(maxTaxHotelling * hotellingFactor, index = GEs[t].get('t'), name = 'tauCO2agg')) for t in ts];\n",
    "dbsHotellingLower = {t: GpyDB(**{'name': f'hotellingLower_{t}'}) for t in ts}\n",
    "[dbsHotellingLower[t].__setitem__('tauCO2agg', pd.Series(lowVal , index = GEs[t].get('t'), name = 'tauCO2agg')) for t in ts];"
   ]
  },
  {
   "cell_type": "markdown",
   "id": "ea4801f7-0344-49cf-bdff-c84e28630c9d",
   "metadata": {},
   "source": [
    "Solve all models:"
   ]
  },
  {
   "cell_type": "code",
   "execution_count": 34,
   "id": "49f68876-851c-40c4-9eaa-486f2760b961",
   "metadata": {},
   "outputs": [],
   "source": [
    "for t in ts:\n",
    "    msHotelling[(t,'l')], _ = GEs[t].sneakySolve(dbsHotellingLower[t], ws = ws, loop_kwargs = {'n': 25, 'extractSol': extractSol}, **{'cns':'CONOPT4'})\n",
    "    msHotelling[(t,'u')], _ = GEs[t].sneakySolve(dbsHotellingUpper[t], ws = ws, loop_kwargs = {'n': 25, 'extractSol': extractSol}, **{'cns':'CONOPT4'})"
   ]
  },
  {
   "cell_type": "markdown",
   "id": "e5b22afa-1482-46b8-a81b-383042f2d6f5",
   "metadata": {},
   "source": [
    "### Plot MAC curves"
   ]
  },
  {
   "cell_type": "code",
   "execution_count": 35,
   "id": "813e7e6a-c522-4a48-a895-0f1f35da9b9d",
   "metadata": {},
   "outputs": [],
   "source": [
    "def adjustLabels(x, labels_, keepLoop, loopName = 'l1'):\n",
    "    return adj.rc_pd(adjMultiIndex.applyMult(x, labels_).droplevel(loopName), keepLoop)"
   ]
  },
  {
   "cell_type": "markdown",
   "id": "e87eda19-80c0-4424-a121-304e2f0bc2be",
   "metadata": {},
   "source": [
    "#### 1. Permanent"
   ]
  },
  {
   "cell_type": "code",
   "execution_count": 36,
   "id": "ffbe1385-4232-4756-b1a0-944d1192171f",
   "metadata": {},
   "outputs": [],
   "source": [
    "ts_ = [2030, 2040, 2050]"
   ]
  },
  {
   "cell_type": "markdown",
   "id": "8f66cdb2-be12-403e-8678-b4ee5cd83917",
   "metadata": {},
   "source": [
    "For each year, plot the MAC with the permanent change in taxes:"
   ]
  },
  {
   "cell_type": "code",
   "execution_count": 37,
   "id": "c054d4d1-c07a-4683-b748-c1ba332ccfc1",
   "metadata": {},
   "outputs": [],
   "source": [
    "qsPermanent = dict.fromkeys(ts)\n",
    "for t in ts:\n",
    "    ml, mu = msPermanent[(t,'l')], msPermanent[(t,'u')]\n",
    "    tax = ml.out_db.get('tauCO2agg_shock')\n",
    "    labels = pd.MultiIndex.from_frame((scale * tax.xs(t,level='t')).rename('DKK/ton CO2e').reset_index())\n",
    "    keepLabels = labels.levels[-1]\n",
    "    qLower = adjustLabels(ml.out_db.get('sol_qCO2agg_shock'), labels, keepLabels)\n",
    "\n",
    "    tax = mu.out_db.get('tauCO2agg_shock')\n",
    "    labels = pd.MultiIndex.from_frame((scale * tax.xs(t,level='t')).rename('DKK/ton CO2e').reset_index())\n",
    "    keepLabels = labels.levels[-1]\n",
    "    qUpper = adjustLabels(mu.out_db.get('sol_qCO2agg_shock'), labels, keepLabels)\n",
    "    \n",
    "    qsPermanent[t] = (qLower.combine_first(qUpper).rename('qCO2agg') * 100).rename('Emissions')"
   ]
  },
  {
   "cell_type": "markdown",
   "id": "80212ae2-21fe-4d5b-a31e-6644c3f2c4f2",
   "metadata": {},
   "source": [
    "*Print to pdf:*"
   ]
  },
  {
   "cell_type": "code",
   "execution_count": 38,
   "id": "c8a3fc01-8b67-4b7b-b247-b822196ea2dd",
   "metadata": {},
   "outputs": [],
   "source": [
    "%%capture\n",
    "for t in ts:\n",
    "    q = adj.rc_pd(qsPermanent[t], pd.Index([t]+ts_, name = 't'))\n",
    "    one_graph()\n",
    "    fig, ax = plt.subplots(1,1, figsize = (14,8));\n",
    "    seaborn.lineplot(data = q.unstack('t').rename_axis('',axis = 1), ax = ax, linewidth = 3);\n",
    "    ax.set_ylabel(q.name, labelpad=10);\n",
    "    ax.set_xlim([0, maxTax]);\n",
    "    # ax.set_ylim([-70, 100]);\n",
    "    ax.axhline(y=0, linewidth=1, color = 'k', alpha = 0.5);\n",
    "    fig.tight_layout();\n",
    "    fig.savefig(f\"{d['figs']}\\\\{name}_macPermanent_{t}.pdf\",edgecolor='k')"
   ]
  },
  {
   "cell_type": "markdown",
   "id": "37c0fcec-a69f-4a20-83fa-6e84e799f017",
   "metadata": {},
   "source": [
    "Print the four years in one graph. Add the baseline tax levels that the various years are calibrated against"
   ]
  },
  {
   "cell_type": "code",
   "execution_count": 39,
   "id": "397b84b1-c155-41d7-a728-94a1365e5123",
   "metadata": {},
   "outputs": [],
   "source": [
    "baselineTaxes = pd.Series([GEs[t].get('qCO2agg').xs(t) * 100 for t in ts], \n",
    "                          index = pd.MultiIndex.from_tuples([(t, scale*GEs[t].get('tauCO2agg').xs(t)) for t in ts], names = ['t', qsPermanent[t].xs(t).index.name]))"
   ]
  },
  {
   "cell_type": "code",
   "execution_count": 40,
   "id": "c4337e1a-59ca-42be-92cb-581454111f4d",
   "metadata": {},
   "outputs": [],
   "source": [
    "%%capture\n",
    "one_graph()\n",
    "fig, ax = plt.subplots(1,1, figsize = (14,8));\n",
    "for t in ts:\n",
    "    seaborn.lineplot(data = qsPermanent[t].xs(t), ax = ax, linewidth = 3, linestyle = next(linecycler));\n",
    "seaborn.scatterplot(data = baselineTaxes.unstack('t'), ax = ax, s = 200, markers = ['o']*len(ts));\n",
    "ax.set_ylabel(qsPermanent[t].name, labelpad=10);\n",
    "ax.set_xlim([0, maxTax]);\n",
    "ax.legend(ts, title = \"Baseline model year\");\n",
    "fig.tight_layout();\n",
    "fig.savefig(f\"{d['figs']}\\\\{name}_macPermanent.pdf\", edgecolor='k');"
   ]
  },
  {
   "cell_type": "markdown",
   "id": "06f8997a-b214-4b85-9eff-ffa4e5b43f72",
   "metadata": {},
   "source": [
    "#### 2. Transitory effect"
   ]
  }
 ],
 "metadata": {
  "kernelspec": {
   "display_name": "Python 3 (ipykernel)",
   "language": "python",
   "name": "python3"
  },
  "language_info": {
   "codemirror_mode": {
    "name": "ipython",
    "version": 3
   },
   "file_extension": ".py",
   "mimetype": "text/x-python",
   "name": "python",
   "nbconvert_exporter": "python",
   "pygments_lexer": "ipython3",
   "version": "3.9.7"
  }
 },
 "nbformat": 4,
 "nbformat_minor": 5
}
