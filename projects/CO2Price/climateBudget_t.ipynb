{
 "cells": [
  {
   "cell_type": "code",
   "execution_count": 1,
   "id": "2bb6b23c-4fd1-4816-b465-8b315eebaf81",
   "metadata": {},
   "outputs": [],
   "source": [
    "import warnings\n",
    "warnings.simplefilter(action='ignore', category=FutureWarning)"
   ]
  },
  {
   "cell_type": "code",
   "execution_count": 2,
   "id": "09770326-c67d-4612-ad99-85398ffbb2a7",
   "metadata": {},
   "outputs": [],
   "source": [
    "try:\n",
    "    t = t\n",
    "except NameError:\n",
    "    clean_up = True\n",
    "    %run StdPackages.ipynb\n",
    "    name, t = 'm', 2018\n",
    "    ws = gams.GamsWorkspace(working_directory=d['work']) # specify where you want to run the GAMS models from (here the repository referred to in d['work'])\n",
    "    # Load data/settings for the given year:\n",
    "    with open(f\"{d['processedData']}\\\\glob_{t}\",\"rb\") as file: # load global settings anmed glob_name\n",
    "        glob=pickle.load(file)\n",
    "    db_IO = GpyDB(pickle_path = os.path.join(d['processedData'], f'{name}_{t}')) # load IO database named IO_name\n",
    "    addTimeToDb(db_IO, glob.db['t'].vals, exceptions = ['sigma'])\n",
    "with open(f\"{d['modules']}\\\\{name}_GE_{t}\",\"rb\") as file:\n",
    "    GE = pickle.load(file)\n",
    "GE.write();"
   ]
  },
  {
   "cell_type": "markdown",
   "id": "2cd88ce4-b39b-4afa-9621-b80abbf006dc",
   "metadata": {},
   "source": [
    "Proceed by:\n",
    "1. Sneak up on the solution to the uniform CO2 tax.\n",
    "2. Solve for the \"frozen policy\" approach.\n",
    "3. Solve for the case with \"continued policy\", but without elimination of overshoot.\n",
    "4. Solve for the case with elimination in the entire transitory phase."
   ]
  },
  {
   "cell_type": "code",
   "execution_count": 3,
   "id": "9a628a79-3780-4210-800a-48b9a25deab9",
   "metadata": {},
   "outputs": [],
   "source": [
    "GE.s.db['qCO2Target'] = db_IO.get('MTarget_FP')\n",
    "mEmissions = GE.m[f'{name}_{t}_emissions']\n",
    "mEmissions.readTargetSubsets()"
   ]
  },
  {
   "cell_type": "markdown",
   "id": "92f98de6-eb4c-4124-9134-3464d746eec0",
   "metadata": {},
   "source": [
    "*1. Move ```tauDist``` to equal weights (uniform CO2 tax):*"
   ]
  },
  {
   "cell_type": "code",
   "execution_count": 4,
   "id": "b11e4442-0991-49b9-a6de-ec5ffc0b43c0",
   "metadata": {},
   "outputs": [],
   "source": [
    "dbUniform = GpyDB(**{'name': 'taudist'})\n",
    "dbUniform['tauDist'] = pd.Series(1, index = GE.get('tauDist').index, name = 'tauDist')\n",
    "m_uniform, cp_uniform = GE.sneakySolve(dbUniform, ws = ws, loop_kwargs = {'n': 10}, **{'cns': 'CONOPT4'})"
   ]
  },
  {
   "cell_type": "markdown",
   "id": "455ea378-6d8c-419b-afc4-8fcbc553a7a3",
   "metadata": {},
   "source": [
    "*2. Solve for the frozen policy approach:*"
   ]
  },
  {
   "cell_type": "code",
   "execution_count": 5,
   "id": "2601f91b-c05c-4d0f-bb2b-d0f07e04a2d7",
   "metadata": {},
   "outputs": [],
   "source": [
    "GE.s.setstate('Mbinding')\n",
    "GE.s.states['Mbinding']['text'] = {'Run': GE.s.writeSolveState('Mbinding')}\n",
    "m_fp = GE.run(ws = ws, options_add = {'checkpoint': cp_uniform}, **{'cns': 'CONOPT4'})"
   ]
  },
  {
   "cell_type": "markdown",
   "id": "f4ba15a0-0048-4386-9a4d-aad0c4308454",
   "metadata": {},
   "source": [
    "*3. Use the solution from the frozen policy scenario and restart with the new targets:*"
   ]
  },
  {
   "cell_type": "markdown",
   "id": "b7c435d1-557f-46b2-a56c-158eecd353b3",
   "metadata": {},
   "source": [
    "* Update solution\n",
    "* Start the target at the solution path from earlier.\n",
    "* Update relevant dummies (what subset of years include targets now).\n",
    "* Rewrite model-code to start execution over.\n",
    "* Create \"target database\" with the real targets that we gradually get close to. "
   ]
  },
  {
   "cell_type": "code",
   "execution_count": 8,
   "id": "2b0b1a86-994e-4c01-8c56-a5471fee49a0",
   "metadata": {},
   "outputs": [],
   "source": [
    "robust.robust_merge_dbs(GE.s.db, m_fp.out_db.getTypes(['variable','scalar_variable']), priority = 'second') # update solution\n",
    "GE.s.db['qCO2Target'] = adj.rc_pd(GE.get('qCO2agg'), db_IO.get('MTarget_V1')) # start targets from solution\n",
    "# GE.s.setstate('Mbinding')\n",
    "mEmissions.readTargetSubsets() # update the relevant dummies\n",
    "GE.write(); # reset text for the model\n",
    "dbCP = GpyDB(**{'name': 'CP'})\n",
    "dbCP['qCO2Target'] = adj.rc_pd(db_IO.get('MTarget_NO_V1'), db_IO.get('MTarget_V1'))\n",
    "m_cp, cp_cp = GE.sneakySolve(dbCP, ws = ws, loop_kwargs = {'n':10}, **{'cns':'CONOPT4'})"
   ]
  },
  {
   "cell_type": "markdown",
   "id": "645bc054-3571-4967-a28f-1548b357f5cf",
   "metadata": {},
   "source": [
    "*4. Continue from this solution. Solve for case with overshoot elimination:*"
   ]
  },
  {
   "cell_type": "code",
   "execution_count": 9,
   "id": "bd637a26-accf-4fea-b4e4-899892516796",
   "metadata": {},
   "outputs": [],
   "source": [
    "dbTypeII = GpyDB(**{'name': 'TypeII'})\n",
    "dbTypeII['qCO2Target'] = db_IO.get('MTarget_V2')\n",
    "GE.s['text'] = {'Run': f\"solve {GE.s['name']} using CNS;\"}\n",
    "m_typeII, cp_typeII = GE.sneakySolve(dbTypeII, ws = ws, loop_kwargs = {'n':10}, options_add = {'checkpoint': cp_cp}, **{'cns':'CONOPT4'})"
   ]
  },
  {
   "cell_type": "markdown",
   "id": "da8380f9-33d4-4c37-a188-16f40e73e3bb",
   "metadata": {},
   "source": [
    "*5. Continue from this solution. Solve for case with overshoot elimination, the other version*"
   ]
  },
  {
   "cell_type": "code",
   "execution_count": 10,
   "id": "42e1818a-dee7-441c-b673-5758ff7b9334",
   "metadata": {},
   "outputs": [
    {
     "ename": "GamsExceptionExecution",
     "evalue": "GAMS return code not 0 (3), check C:\\Users\\sxj477\\Documents\\GitHub\\CGE_Generator\\work_folder\\_gams_py_gjo8.lst for more details",
     "output_type": "error",
     "traceback": [
      "\u001b[1;31m---------------------------------------------------------------------------\u001b[0m",
      "\u001b[1;31mGamsExceptionExecution\u001b[0m                    Traceback (most recent call last)",
      "\u001b[1;32m~\\AppData\\Local\\Temp/ipykernel_9540/210409833.py\u001b[0m in \u001b[0;36m<module>\u001b[1;34m\u001b[0m\n\u001b[0;32m      1\u001b[0m \u001b[0mdbTypeIII\u001b[0m \u001b[1;33m=\u001b[0m \u001b[0mGpyDB\u001b[0m\u001b[1;33m(\u001b[0m\u001b[1;33m**\u001b[0m\u001b[1;33m{\u001b[0m\u001b[1;34m'name'\u001b[0m\u001b[1;33m:\u001b[0m \u001b[1;34m'TypeIII'\u001b[0m\u001b[1;33m}\u001b[0m\u001b[1;33m)\u001b[0m\u001b[1;33m\u001b[0m\u001b[1;33m\u001b[0m\u001b[0m\n\u001b[0;32m      2\u001b[0m \u001b[0mdbTypeIII\u001b[0m\u001b[1;33m[\u001b[0m\u001b[1;34m'qCO2Target'\u001b[0m\u001b[1;33m]\u001b[0m \u001b[1;33m=\u001b[0m \u001b[0mdb_IO\u001b[0m\u001b[1;33m.\u001b[0m\u001b[0mget\u001b[0m\u001b[1;33m(\u001b[0m\u001b[1;34m'MTarget_V1'\u001b[0m\u001b[1;33m)\u001b[0m\u001b[1;33m\u001b[0m\u001b[1;33m\u001b[0m\u001b[0m\n\u001b[1;32m----> 3\u001b[1;33m \u001b[0mm_typeIII\u001b[0m\u001b[1;33m,\u001b[0m \u001b[0mcp_typeIII\u001b[0m \u001b[1;33m=\u001b[0m \u001b[0mGE\u001b[0m\u001b[1;33m.\u001b[0m\u001b[0msneakySolve\u001b[0m\u001b[1;33m(\u001b[0m\u001b[0mdbTypeIII\u001b[0m\u001b[1;33m,\u001b[0m \u001b[0mws\u001b[0m \u001b[1;33m=\u001b[0m \u001b[0mws\u001b[0m\u001b[1;33m,\u001b[0m \u001b[0mloop_kwargs\u001b[0m \u001b[1;33m=\u001b[0m \u001b[1;33m{\u001b[0m\u001b[1;34m'n'\u001b[0m\u001b[1;33m:\u001b[0m\u001b[1;36m25\u001b[0m\u001b[1;33m}\u001b[0m\u001b[1;33m,\u001b[0m \u001b[0moptions_add\u001b[0m \u001b[1;33m=\u001b[0m \u001b[1;33m{\u001b[0m\u001b[1;34m'checkpoint'\u001b[0m\u001b[1;33m:\u001b[0m \u001b[0mcp_cp\u001b[0m\u001b[1;33m}\u001b[0m\u001b[1;33m,\u001b[0m \u001b[1;33m**\u001b[0m\u001b[1;33m{\u001b[0m\u001b[1;34m'cns'\u001b[0m\u001b[1;33m:\u001b[0m\u001b[1;34m'CONOPT4'\u001b[0m\u001b[1;33m}\u001b[0m\u001b[1;33m)\u001b[0m\u001b[1;33m\u001b[0m\u001b[1;33m\u001b[0m\u001b[0m\n\u001b[0m",
      "\u001b[1;32m~\\Anaconda3\\lib\\site-packages\\gmsPython\\gmsPyModels\\gmsPyModels.py\u001b[0m in \u001b[0;36msneakySolve\u001b[1;34m(self, dbTarget, model, db_str, exportdb, exportTo, ws, options, options_add, options_run, loop_kwargs, **kwargs)\u001b[0m\n\u001b[0;32m    137\u001b[0m                 \u001b[0mcp\u001b[0m \u001b[1;33m=\u001b[0m \u001b[0mmodel\u001b[0m\u001b[1;33m.\u001b[0m\u001b[0mws\u001b[0m\u001b[1;33m.\u001b[0m\u001b[0madd_checkpoint\u001b[0m\u001b[1;33m(\u001b[0m\u001b[1;33m)\u001b[0m\u001b[1;33m\u001b[0m\u001b[1;33m\u001b[0m\u001b[0m\n\u001b[0;32m    138\u001b[0m                 \u001b[0mmodel\u001b[0m\u001b[1;33m.\u001b[0m\u001b[0maddDB\u001b[0m\u001b[1;33m(\u001b[0m\u001b[0mdb\u001b[0m\u001b[1;33m)\u001b[0m\u001b[1;33m\u001b[0m\u001b[1;33m\u001b[0m\u001b[0m\n\u001b[1;32m--> 139\u001b[1;33m                 \u001b[0mmodel\u001b[0m\u001b[1;33m.\u001b[0m\u001b[0mrun\u001b[0m\u001b[1;33m(\u001b[0m\u001b[0mrun\u001b[0m\u001b[1;33m=\u001b[0m\u001b[0mtext\u001b[0m\u001b[1;33m,\u001b[0m \u001b[0moptions_add\u001b[0m \u001b[1;33m=\u001b[0m \u001b[1;33m{\u001b[0m\u001b[1;34m'checkpoint'\u001b[0m\u001b[1;33m:\u001b[0m\u001b[0moptions_run\u001b[0m\u001b[1;33m[\u001b[0m\u001b[1;34m'checkpoint'\u001b[0m\u001b[1;33m]\u001b[0m\u001b[1;33m}\u001b[0m\u001b[1;33m,\u001b[0m \u001b[0moptions_run\u001b[0m \u001b[1;33m=\u001b[0m \u001b[1;33m{\u001b[0m\u001b[1;34m'checkpoint'\u001b[0m\u001b[1;33m:\u001b[0m \u001b[0mcp\u001b[0m\u001b[1;33m}\u001b[0m\u001b[1;33m)\u001b[0m\u001b[1;33m\u001b[0m\u001b[1;33m\u001b[0m\u001b[0m\n\u001b[0m\u001b[0;32m    140\u001b[0m                 \u001b[1;32mreturn\u001b[0m \u001b[0mmodel\u001b[0m\u001b[1;33m,\u001b[0m \u001b[0mcp\u001b[0m\u001b[1;33m\u001b[0m\u001b[1;33m\u001b[0m\u001b[0m\n\u001b[0;32m    141\u001b[0m \u001b[1;33m\u001b[0m\u001b[0m\n",
      "\u001b[1;32m~\\Anaconda3\\lib\\site-packages\\gmsPython\\gmsPy\\gmsPy.py\u001b[0m in \u001b[0;36mrun\u001b[1;34m(self, run, runfile, options_add, options_run, db_as_gpy)\u001b[0m\n\u001b[0;32m    202\u001b[0m         \u001b[1;32mdef\u001b[0m \u001b[0mrun\u001b[0m\u001b[1;33m(\u001b[0m\u001b[0mself\u001b[0m\u001b[1;33m,\u001b[0m\u001b[0mrun\u001b[0m\u001b[1;33m=\u001b[0m\u001b[1;32mNone\u001b[0m\u001b[1;33m,\u001b[0m\u001b[0mrunfile\u001b[0m\u001b[1;33m=\u001b[0m\u001b[1;32mNone\u001b[0m\u001b[1;33m,\u001b[0m\u001b[0moptions_add\u001b[0m\u001b[1;33m=\u001b[0m\u001b[1;32mNone\u001b[0m\u001b[1;33m,\u001b[0m\u001b[0moptions_run\u001b[0m\u001b[1;33m=\u001b[0m\u001b[1;32mNone\u001b[0m\u001b[1;33m,\u001b[0m\u001b[0mdb_as_gpy\u001b[0m\u001b[1;33m=\u001b[0m\u001b[1;32mTrue\u001b[0m\u001b[1;33m)\u001b[0m\u001b[1;33m:\u001b[0m\u001b[1;33m\u001b[0m\u001b[1;33m\u001b[0m\u001b[0m\n\u001b[0;32m    203\u001b[0m                 \u001b[0mself\u001b[0m\u001b[1;33m.\u001b[0m\u001b[0madd_job\u001b[0m\u001b[1;33m(\u001b[0m\u001b[0mrun\u001b[0m\u001b[1;33m=\u001b[0m\u001b[0mrun\u001b[0m\u001b[1;33m,\u001b[0m\u001b[0mrunfile\u001b[0m\u001b[1;33m=\u001b[0m\u001b[0mrunfile\u001b[0m\u001b[1;33m,\u001b[0m\u001b[0moptions\u001b[0m\u001b[1;33m=\u001b[0m\u001b[0moptions_add\u001b[0m\u001b[1;33m)\u001b[0m\u001b[1;33m\u001b[0m\u001b[1;33m\u001b[0m\u001b[0m\n\u001b[1;32m--> 204\u001b[1;33m                 \u001b[0mself\u001b[0m\u001b[1;33m.\u001b[0m\u001b[0mrun_job\u001b[0m\u001b[1;33m(\u001b[0m\u001b[0moptions\u001b[0m\u001b[1;33m=\u001b[0m\u001b[0moptions_run\u001b[0m\u001b[1;33m)\u001b[0m\u001b[1;33m\u001b[0m\u001b[1;33m\u001b[0m\u001b[0m\n\u001b[0m\u001b[0;32m    205\u001b[0m                 \u001b[0mself\u001b[0m\u001b[1;33m.\u001b[0m\u001b[0mout_db\u001b[0m \u001b[1;33m=\u001b[0m \u001b[0mgpyDB\u001b[0m\u001b[1;33m.\u001b[0m\u001b[0mGpyDB\u001b[0m\u001b[1;33m(\u001b[0m\u001b[0mdb\u001b[0m\u001b[1;33m=\u001b[0m\u001b[0mself\u001b[0m\u001b[1;33m.\u001b[0m\u001b[0mjob\u001b[0m\u001b[1;33m.\u001b[0m\u001b[0mout_db\u001b[0m\u001b[1;33m,\u001b[0m\u001b[0mws\u001b[0m\u001b[1;33m=\u001b[0m\u001b[0mself\u001b[0m\u001b[1;33m.\u001b[0m\u001b[0mws\u001b[0m\u001b[1;33m)\u001b[0m \u001b[1;32mif\u001b[0m \u001b[0mdb_as_gpy\u001b[0m \u001b[1;32melse\u001b[0m \u001b[1;32mNone\u001b[0m\u001b[1;33m\u001b[0m\u001b[1;33m\u001b[0m\u001b[0m\n\u001b[0;32m    206\u001b[0m \u001b[1;33m\u001b[0m\u001b[0m\n",
      "\u001b[1;32m~\\Anaconda3\\lib\\site-packages\\gmsPython\\gmsPy\\gmsPy.py\u001b[0m in \u001b[0;36mrun_job\u001b[1;34m(self, options)\u001b[0m\n\u001b[0;32m    213\u001b[0m \u001b[1;33m\u001b[0m\u001b[0m\n\u001b[0;32m    214\u001b[0m         \u001b[1;32mdef\u001b[0m \u001b[0mrun_job\u001b[0m\u001b[1;33m(\u001b[0m\u001b[0mself\u001b[0m\u001b[1;33m,\u001b[0m\u001b[0moptions\u001b[0m\u001b[1;33m=\u001b[0m\u001b[1;32mNone\u001b[0m\u001b[1;33m)\u001b[0m\u001b[1;33m:\u001b[0m\u001b[1;33m\u001b[0m\u001b[1;33m\u001b[0m\u001b[0m\n\u001b[1;32m--> 215\u001b[1;33m                 \u001b[0mself\u001b[0m\u001b[1;33m.\u001b[0m\u001b[0mjob\u001b[0m\u001b[1;33m.\u001b[0m\u001b[0mrun\u001b[0m\u001b[1;33m(\u001b[0m\u001b[0mgams_options\u001b[0m\u001b[1;33m=\u001b[0m\u001b[0mself\u001b[0m\u001b[1;33m.\u001b[0m\u001b[0mopt\u001b[0m\u001b[1;33m,\u001b[0m\u001b[1;33m**\u001b[0m\u001b[0mpyDatabases\u001b[0m\u001b[1;33m.\u001b[0m\u001b[0mnoneInit\u001b[0m\u001b[1;33m(\u001b[0m\u001b[0moptions\u001b[0m\u001b[1;33m,\u001b[0m\u001b[1;33m{\u001b[0m\u001b[1;33m}\u001b[0m\u001b[1;33m)\u001b[0m\u001b[1;33m)\u001b[0m\u001b[1;33m\u001b[0m\u001b[1;33m\u001b[0m\u001b[0m\n\u001b[0m\u001b[0;32m    216\u001b[0m \u001b[1;33m\u001b[0m\u001b[0m\n\u001b[0;32m    217\u001b[0m         \u001b[1;32mdef\u001b[0m \u001b[0maddlocal\u001b[0m\u001b[1;33m(\u001b[0m\u001b[0mself\u001b[0m\u001b[1;33m,\u001b[0m\u001b[0mplaceholder\u001b[0m\u001b[1;33m,\u001b[0m\u001b[0mlocal\u001b[0m\u001b[1;33m)\u001b[0m\u001b[1;33m:\u001b[0m\u001b[1;33m\u001b[0m\u001b[1;33m\u001b[0m\u001b[0m\n",
      "\u001b[1;32m~\\Anaconda3\\lib\\site-packages\\gams\\execution.py\u001b[0m in \u001b[0;36mrun\u001b[1;34m(self, gams_options, checkpoint, output, create_out_db, databases)\u001b[0m\n\u001b[0;32m    905\u001b[0m                 \u001b[1;32mraise\u001b[0m \u001b[0mgams\u001b[0m\u001b[1;33m.\u001b[0m\u001b[0mworkspace\u001b[0m\u001b[1;33m.\u001b[0m\u001b[0mGamsExceptionExecution\u001b[0m\u001b[1;33m(\u001b[0m\u001b[1;34m\"GAMS return code not 0 (\"\u001b[0m \u001b[1;33m+\u001b[0m \u001b[0mstr\u001b[0m\u001b[1;33m(\u001b[0m\u001b[0mexitcode\u001b[0m\u001b[1;33m)\u001b[0m \u001b[1;33m+\u001b[0m \u001b[1;34m\"), set the debug flag of the GamsWorkspace constructor to DebugLevel.KeepFiles or higher or define a working_directory to receive a listing file with more details\"\u001b[0m\u001b[1;33m,\u001b[0m \u001b[0mexitcode\u001b[0m\u001b[1;33m)\u001b[0m\u001b[1;33m\u001b[0m\u001b[1;33m\u001b[0m\u001b[0m\n\u001b[0;32m    906\u001b[0m             \u001b[1;32melse\u001b[0m\u001b[1;33m:\u001b[0m\u001b[1;33m\u001b[0m\u001b[1;33m\u001b[0m\u001b[0m\n\u001b[1;32m--> 907\u001b[1;33m                 \u001b[1;32mraise\u001b[0m \u001b[0mgams\u001b[0m\u001b[1;33m.\u001b[0m\u001b[0mworkspace\u001b[0m\u001b[1;33m.\u001b[0m\u001b[0mGamsExceptionExecution\u001b[0m\u001b[1;33m(\u001b[0m\u001b[1;34m\"GAMS return code not 0 (\"\u001b[0m \u001b[1;33m+\u001b[0m \u001b[0mstr\u001b[0m\u001b[1;33m(\u001b[0m\u001b[0mexitcode\u001b[0m\u001b[1;33m)\u001b[0m \u001b[1;33m+\u001b[0m \u001b[1;34m\"), check \"\u001b[0m \u001b[1;33m+\u001b[0m \u001b[0mself\u001b[0m\u001b[1;33m.\u001b[0m\u001b[0m_workspace\u001b[0m\u001b[1;33m.\u001b[0m\u001b[0m_working_directory\u001b[0m \u001b[1;33m+\u001b[0m \u001b[0mos\u001b[0m\u001b[1;33m.\u001b[0m\u001b[0mpath\u001b[0m\u001b[1;33m.\u001b[0m\u001b[0msep\u001b[0m \u001b[1;33m+\u001b[0m \u001b[0mtmp_opt\u001b[0m\u001b[1;33m.\u001b[0m\u001b[0moutput\u001b[0m \u001b[1;33m+\u001b[0m \u001b[1;34m\" for more details\"\u001b[0m\u001b[1;33m,\u001b[0m \u001b[0mexitcode\u001b[0m\u001b[1;33m)\u001b[0m\u001b[1;33m\u001b[0m\u001b[1;33m\u001b[0m\u001b[0m\n\u001b[0m\u001b[0;32m    908\u001b[0m         \u001b[0mself\u001b[0m\u001b[1;33m.\u001b[0m\u001b[0m_p\u001b[0m \u001b[1;33m=\u001b[0m \u001b[1;32mNone\u001b[0m\u001b[1;33m\u001b[0m\u001b[1;33m\u001b[0m\u001b[0m\n\u001b[0;32m    909\u001b[0m \u001b[1;33m\u001b[0m\u001b[0m\n",
      "\u001b[1;31mGamsExceptionExecution\u001b[0m: GAMS return code not 0 (3), check C:\\Users\\sxj477\\Documents\\GitHub\\CGE_Generator\\work_folder\\_gams_py_gjo8.lst for more details"
     ]
    }
   ],
   "source": [
    "dbTypeIII = GpyDB(**{'name': 'TypeIII'})\n",
    "dbTypeIII['qCO2Target'] = db_IO.get('MTarget_V1')\n",
    "m_typeIII, cp_typeIII = GE.sneakySolve(dbTypeIII, ws = ws, loop_kwargs = {'n':25}, options_add = {'checkpoint': cp_cp}, **{'cns':'CONOPT4'})"
   ]
  },
  {
   "cell_type": "code",
   "execution_count": 13,
   "id": "99b588d9-3973-46c7-84b6-3c9ff63b7f91",
   "metadata": {},
   "outputs": [
    {
     "data": {
      "text/plain": [
       "<AxesSubplot:xlabel='t'>"
      ]
     },
     "execution_count": 13,
     "metadata": {},
     "output_type": "execute_result"
    },
    {
     "data": {
      "image/png": "[encoded data removed]",
      "text/plain": [
       "<Figure size 576x396 with 1 Axes>"
      ]
     },
     "metadata": {},
     "output_type": "display_data"
    }
   ],
   "source": [
    "m_typeII.out_db.get('tauCO2agg').plot()"
   ]
  },
  {
   "cell_type": "code",
   "execution_count": 14,
   "id": "d0011d3a-e9e0-418e-9f19-a0a00fdf45e1",
   "metadata": {},
   "outputs": [
    {
     "ename": "NameError",
     "evalue": "name 'm_typeIII' is not defined",
     "output_type": "error",
     "traceback": [
      "\u001b[1;31m---------------------------------------------------------------------------\u001b[0m",
      "\u001b[1;31mNameError\u001b[0m                                 Traceback (most recent call last)",
      "\u001b[1;32m~\\AppData\\Local\\Temp/ipykernel_9540/1865276498.py\u001b[0m in \u001b[0;36m<module>\u001b[1;34m\u001b[0m\n\u001b[1;32m----> 1\u001b[1;33m \u001b[0mm_typeIII\u001b[0m\u001b[1;33m.\u001b[0m\u001b[0mout_db\u001b[0m\u001b[1;33m.\u001b[0m\u001b[0mget\u001b[0m\u001b[1;33m(\u001b[0m\u001b[1;34m'tauCO2agg'\u001b[0m\u001b[1;33m)\u001b[0m\u001b[1;33m.\u001b[0m\u001b[0mplot\u001b[0m\u001b[1;33m(\u001b[0m\u001b[1;33m)\u001b[0m\u001b[1;33m\u001b[0m\u001b[1;33m\u001b[0m\u001b[0m\n\u001b[0m",
      "\u001b[1;31mNameError\u001b[0m: name 'm_typeIII' is not defined"
     ]
    }
   ],
   "source": [
    "m_typeIII.out_db.get('tauCO2agg').plot()"
   ]
  }
 ],
 "metadata": {
  "kernelspec": {
   "display_name": "Python 3 (ipykernel)",
   "language": "python",
   "name": "python3"
  },
  "language_info": {
   "codemirror_mode": {
    "name": "ipython",
    "version": 3
   },
   "file_extension": ".py",
   "mimetype": "text/x-python",
   "name": "python",
   "nbconvert_exporter": "python",
   "pygments_lexer": "ipython3",
   "version": "3.9.7"
  }
 },
 "nbformat": 4,
 "nbformat_minor": 5
}
