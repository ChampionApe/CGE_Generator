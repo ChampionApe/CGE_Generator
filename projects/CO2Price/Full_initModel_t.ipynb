{
 "cells": [
  {
   "cell_type": "markdown",
   "id": "11291f04-c8ab-45f1-8d91-17e8d9679c64",
   "metadata": {},
   "source": [
    "# Initialize model, one year"
   ]
  },
  {
   "cell_type": "markdown",
   "id": "ff08c13e-2123-46a6-ae2d-fa3862b305ba",
   "metadata": {},
   "source": [
    "## 1. Data/settings"
   ]
  },
  {
   "cell_type": "markdown",
   "id": "2e69dea0-253a-4503-aecf-a14b113b3998",
   "metadata": {},
   "source": [
    "If the local variable $t$ has been defined already, the notebook is running from another notebook. If this is not the case, a number of local routines have to be carried out before solving the model (e.g. setting up the relevant IO data set):"
   ]
  },
  {
   "cell_type": "code",
   "execution_count": 1,
   "id": "ab895bfb-ef9f-4743-b59c-291603486232",
   "metadata": {},
   "outputs": [
    {
     "name": "stdout",
     "output_type": "stream",
     "text": [
      "The file _gams_py_gdb0.gdx is still active and was not deleted.\n",
      "The file _gams_py_gdb2.gdx is still active and was not deleted.\n",
      "The file _gams_py_gdb3.gdx is still active and was not deleted.\n"
     ]
    }
   ],
   "source": [
    "try:\n",
    "    t = t\n",
    "except NameError:\n",
    "    clean_up = True\n",
    "    %run StdPackages.ipynb\n",
    "    name, t = 'full', 2019\n",
    "    ws = gams.GamsWorkspace(working_directory=d['work']) # specify where you want to run the GAMS models from (here the repository referred to in d['work'])\n",
    "    # Load data/settings for the given year:\n",
    "    with open(f\"{d['processedData']}\\\\glob_{t}\",\"rb\") as file: # load global settings anmed glob_name\n",
    "        glob=pickle.load(file)\n",
    "    db_IO = GpyDB(pickle_path = os.path.join(d['processedData'], f'{name}_{t}')) # load IO database named IO_name\n",
    "    addTimeToDb(db_IO, glob.db['t'].vals, exceptions = ['sigma'])\n",
    "modules = ['_'.join([name,str(t),k]) for k in ('G','HH','Invtry','I','P','Trade','emissions')]"
   ]
  },
  {
   "cell_type": "markdown",
   "id": "de23926a-5991-4f9b-bcf6-ca5d588de5e4",
   "metadata": {
    "tags": []
   },
   "source": [
    "## 2. Initialize and calibrate each module; combine in GE model"
   ]
  },
  {
   "cell_type": "code",
   "execution_count": 3,
   "id": "642c4755-6e3b-484b-8f55-0e42b798dad3",
   "metadata": {},
   "outputs": [],
   "source": [
    "%run mConsumer.ipynb\n",
    "%run mEmissions.ipynb\n",
    "%run mGovernment.ipynb\n",
    "%run mInventory.ipynb\n",
    "%run mInvestments.ipynb\n",
    "%run mProduction.ipynb\n",
    "%run mTrade.ipynb\n",
    "%run mGeneralEquilibrium.ipynb"
   ]
  }
 ],
 "metadata": {
  "kernelspec": {
   "display_name": "Python 3 (ipykernel)",
   "language": "python",
   "name": "python3"
  },
  "language_info": {
   "codemirror_mode": {
    "name": "ipython",
    "version": 3
   },
   "file_extension": ".py",
   "mimetype": "text/x-python",
   "name": "python",
   "nbconvert_exporter": "python",
   "pygments_lexer": "ipython3",
   "version": "3.9.7"
  }
 },
 "nbformat": 4,
 "nbformat_minor": 5
}
