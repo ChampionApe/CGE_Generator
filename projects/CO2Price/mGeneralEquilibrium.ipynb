{
 "cells": [
  {
   "cell_type": "code",
   "execution_count": 1,
   "id": "5021aaf6-2d52-441b-8fc4-c5e639bd34ff",
   "metadata": {},
   "outputs": [
    {
     "name": "stdout",
     "output_type": "stream",
     "text": [
      "The file _gams_py_gdb0.gdx is still active and was not deleted.\n",
      "The file _gams_py_gdb1.gdx is still active and was not deleted.\n",
      "The file _gams_py_gdb2.gdx is still active and was not deleted.\n",
      "The file _gams_py_gdb3.gdx is still active and was not deleted.\n",
      "The file _gams_py_gdb4.gdx is still active and was not deleted.\n"
     ]
    }
   ],
   "source": [
    "clean_up = True\n",
    "%run stdPackages.ipynb\n",
    "ws = gams.GamsWorkspace(working_directory=d['work']) # specify where you want to run the GAMS models from (here the repository referred to in d['work'])"
   ]
  },
  {
   "cell_type": "markdown",
   "id": "7368afb5-a3be-4f53-81b7-eb8362209107",
   "metadata": {},
   "source": [
    "\n",
    "## Settings/data"
   ]
  },
  {
   "cell_type": "code",
   "execution_count": 2,
   "id": "080bd1f2-176c-474d-a4c2-0b2e1e6bab7b",
   "metadata": {},
   "outputs": [],
   "source": [
    "t = 2018\n",
    "name = 'm'\n",
    "db_IO = GpyDB(pickle_path = os.path.join(d['data'], f'{name}_{t}')) # load IO database named IO_name\n",
    "with open(f\"{d['data']}\\\\glob_{t}\",\"rb\") as file: # load global settings anmed glob_name\n",
    "    glob=pickle.load(file)"
   ]
  },
  {
   "cell_type": "code",
   "execution_count": 3,
   "id": "687c7fcb-5b45-4988-979c-8ee6c2c745f1",
   "metadata": {},
   "outputs": [],
   "source": [
    "def loadFromPickle(x):\n",
    "    with open(os.path.join(d['data'],x), \"rb\") as file:\n",
    "        return pickle.load(file)"
   ]
  },
  {
   "cell_type": "markdown",
   "id": "8d03e70c-c94f-4566-a836-aec17bf12a5f",
   "metadata": {},
   "source": [
    "Add time index to the IO data - but only use the year $t_0$:"
   ]
  },
  {
   "cell_type": "code",
   "execution_count": 4,
   "id": "eea6916d-62dc-4387-978a-8fa005342be4",
   "metadata": {},
   "outputs": [],
   "source": [
    "def addT(symbol, t):\n",
    "    return adjMultiIndex.bc(symbol, t).reorder_levels(['t']+symbol.index.names if 't' not in symbol.index.names else symbol.index.names)\n",
    "[db_IO.__setitem__(k, addT(db_IO.get(k), glob.db['t0'].vals)) for k in db_IO.getTypes(['variable','scalar_variable'])];"
   ]
  },
  {
   "cell_type": "markdown",
   "id": "f5d606cc-42ff-47ff-8356-b4b632de0399",
   "metadata": {},
   "source": [
    "Load modules:"
   ]
  },
  {
   "cell_type": "code",
   "execution_count": 5,
   "id": "c18ea99f-cf18-4928-9851-edde339ce437",
   "metadata": {},
   "outputs": [],
   "source": [
    "modules = [f\"{name}_{k}\" for k in ('G','HH','itory','I','P','Trade')]\n",
    "GE = gmsPyModels.GmsPython(name = f\"{name}_GE_{t}\", glob=glob, m = [loadFromPickle(n) for n in modules], s_kwargs = {'ws': ws})\n",
    "robust.robust_merge_dbs(GE.s.db, db_IO, priority = 'first')"
   ]
  },
  {
   "cell_type": "markdown",
   "id": "9fa70adb-6ad2-4dd8-9917-0604788c7c54",
   "metadata": {},
   "source": [
    "### Calibrate model"
   ]
  },
  {
   "cell_type": "markdown",
   "id": "3b132431-cca6-4eac-8c95-c9a28cb52def",
   "metadata": {},
   "source": [
    "Add equilibrium module:"
   ]
  },
  {
   "cell_type": "code",
   "execution_count": 6,
   "id": "798839ad-e38d-4114-9bb4-00f4802daba1",
   "metadata": {},
   "outputs": [],
   "source": [
    "mEqui = mEquilibrium.Equilibrium(name = name, db_IO = db_IO, glob = glob)\n",
    "GE.addModule(mEqui, merge_s = True)"
   ]
  },
  {
   "cell_type": "markdown",
   "id": "30bf5b4b-2f0d-4574-a223-e2615fdd2b13",
   "metadata": {},
   "source": [
    "Set up model, write gams code, and calibrate model to IO data:"
   ]
  },
  {
   "cell_type": "code",
   "execution_count": 7,
   "id": "403dafdc-f53f-454f-90d7-83b553a22c78",
   "metadata": {},
   "outputs": [],
   "source": [
    "GE.compile()\n",
    "GE.write()\n",
    "mCalib, cp = GE.sneakyCalib(db_IO, ws = ws, loop_kwargs = {'n': 10}, **{'cns': 'CONOPT4'})"
   ]
  },
  {
   "cell_type": "markdown",
   "id": "ac8649f2-0465-4e7c-96cb-d7b4623bf383",
   "metadata": {},
   "source": [
    "Export solution:"
   ]
  },
  {
   "cell_type": "code",
   "execution_count": 8,
   "id": "aaec2a98-9280-4b62-8ad6-13b93d05b12b",
   "metadata": {},
   "outputs": [],
   "source": [
    "robust.robust_merge_dbs(GE.s.db, mCalib.out_db.getTypes(['variable','scalar_variable']), priority = 'second')\n",
    "GE.s.setstate('B')"
   ]
  },
  {
   "cell_type": "code",
   "execution_count": 9,
   "id": "5bcbeff5-7aa7-4bcb-9784-c407087fbb20",
   "metadata": {},
   "outputs": [],
   "source": [
    "with open(os.path.join(d['data'], GE.name), \"wb\") as file:\n",
    "    pickle.dump(GE,file)"
   ]
  }
 ],
 "metadata": {
  "kernelspec": {
   "display_name": "Python 3 (ipykernel)",
   "language": "python",
   "name": "python3"
  },
  "language_info": {
   "codemirror_mode": {
    "name": "ipython",
    "version": 3
   },
   "file_extension": ".py",
   "mimetype": "text/x-python",
   "name": "python",
   "nbconvert_exporter": "python",
   "pygments_lexer": "ipython3",
   "version": "3.9.7"
  }
 },
 "nbformat": 4,
 "nbformat_minor": 5
}
