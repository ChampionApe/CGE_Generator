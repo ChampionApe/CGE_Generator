{
 "cells": [
  {
   "cell_type": "markdown",
   "id": "3b03dda7-f61d-4526-8e00-a6d6d6c95b99",
   "metadata": {},
   "source": [
    "# Armington trade"
   ]
  },
  {
   "cell_type": "markdown",
   "id": "b592c792-101c-4ae7-bb91-c194526375c7",
   "metadata": {},
   "source": [
    "## 1. Data/settings"
   ]
  },
  {
   "cell_type": "markdown",
   "id": "0eea6af7-2162-4bce-a3e2-57aae346a78f",
   "metadata": {},
   "source": [
    "If the local variable $t$ has been defined already, the notebook is running from another notebook. If this is not the case, a number of \"local\" methods have to be carried out before solving the model (e.g. setting up the relevant IO data set):"
   ]
  },
  {
   "cell_type": "code",
   "execution_count": 1,
   "id": "cfdabce1-5326-45ed-a779-1d2d5a78054f",
   "metadata": {},
   "outputs": [
    {
     "name": "stdout",
     "output_type": "stream",
     "text": [
      "The file _gams_py_gdb0.gdx is still active and was not deleted.\n",
      "The file _gams_py_gdb1.gdx is still active and was not deleted.\n",
      "The file _gams_py_gdb2.gdx is still active and was not deleted.\n",
      "The file _gams_py_gdb3.gdx is still active and was not deleted.\n",
      "The file _gams_py_gdb4.gdx is still active and was not deleted.\n"
     ]
    }
   ],
   "source": [
    "try:\n",
    "    t = t\n",
    "except NameError:\n",
    "    clean_up = True\n",
    "    %run StdPackages.ipynb\n",
    "    name, t = 'full', 2019\n",
    "    ws = gams.GamsWorkspace(working_directory=d['work']) # specify where you want to run the GAMS models from (here the repository referred to in d['work'])\n",
    "    with open(f\"{d['processedData']}\\\\glob_{t}\",\"rb\") as file: # load global settings anmed glob_name\n",
    "        glob=pickle.load(file)\n",
    "    db_IO = GpyDB(pickle_path = os.path.join(d['processedData'], f'{name}_{t}')) # load IO database named IO_name\n",
    "    addTimeToDb(db_IO, glob.db['t'].vals, exceptions = ['sigma'])\n",
    "module = '_'.join([name,str(t),'Trade'])\n",
    "db_IO0 = db_IO.copy() # create copy"
   ]
  },
  {
   "cell_type": "code",
   "execution_count": 2,
   "id": "049ddb1d-9afb-409a-81e6-3129cd526b99",
   "metadata": {},
   "outputs": [],
   "source": [
    "aggregateDB.subset_db(db_IO0, db_IO0.get('s_f')) # Keep data on relevant sectors"
   ]
  },
  {
   "cell_type": "markdown",
   "id": "a3e05b7f-90bc-4bfa-a10a-158c4e7f2d9f",
   "metadata": {},
   "source": [
    "## 2. Initial values"
   ]
  },
  {
   "cell_type": "markdown",
   "id": "ffd7d0d4-6f7c-40a8-9996-fa617af5d8a4",
   "metadata": {},
   "source": [
    "Set up module, use IO database as input."
   ]
  },
  {
   "cell_type": "code",
   "execution_count": 3,
   "id": "5dc7e14c-dcfa-48af-816d-673f193351ae",
   "metadata": {},
   "outputs": [],
   "source": [
    "T = mTrade.armington(name = module, glob = glob, s_kwargs = {'db': db_IO0},  kwargs = {'dExport': db_IO0.get('dExport')})"
   ]
  },
  {
   "cell_type": "markdown",
   "id": "fb71110c-b909-467b-922e-c3b0a44848ce",
   "metadata": {},
   "source": [
    "Initialize, write, and solve:"
   ]
  },
  {
   "cell_type": "code",
   "execution_count": 4,
   "id": "4aa6696e-b677-475e-a07f-176a05263f4f",
   "metadata": {},
   "outputs": [],
   "source": [
    "T.compile(initDB=True);\n",
    "T.s.setstate('C')\n",
    "T.write();\n",
    "m = T.run(exportTo = d['work'],ws=ws) # solve the \"model\"."
   ]
  },
  {
   "cell_type": "markdown",
   "id": "5e18ead8-16c9-49ee-a46e-882ccfcd497d",
   "metadata": {},
   "source": [
    "Export:"
   ]
  },
  {
   "cell_type": "code",
   "execution_count": 5,
   "id": "31130a00-284d-4665-94be-d3e0d370da7a",
   "metadata": {},
   "outputs": [],
   "source": [
    "T.s.db = m.out_db\n",
    "T.s.setstate('B')\n",
    "# T.get('qD').xs('F',level='s').unstack('n').plot(subplots=True, backend = \"matplotlib\");"
   ]
  },
  {
   "cell_type": "code",
   "execution_count": 6,
   "id": "c2144748-3156-475b-a297-afb101f4eede",
   "metadata": {},
   "outputs": [],
   "source": [
    "with open(os.path.join(d['modules'], T.name), \"wb\") as file:\n",
    "    pickle.dump(T,file)"
   ]
  }
 ],
 "metadata": {
  "kernelspec": {
   "display_name": "Python 3 (ipykernel)",
   "language": "python",
   "name": "python3"
  },
  "language_info": {
   "codemirror_mode": {
    "name": "ipython",
    "version": 3
   },
   "file_extension": ".py",
   "mimetype": "text/x-python",
   "name": "python",
   "nbconvert_exporter": "python",
   "pygments_lexer": "ipython3",
   "version": "3.9.7"
  }
 },
 "nbformat": 4,
 "nbformat_minor": 5
}
