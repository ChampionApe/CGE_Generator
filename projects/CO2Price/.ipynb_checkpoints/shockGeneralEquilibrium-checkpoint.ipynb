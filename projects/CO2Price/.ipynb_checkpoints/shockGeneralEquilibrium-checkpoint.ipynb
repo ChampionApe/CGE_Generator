{
 "cells": [
  {
   "cell_type": "code",
   "execution_count": 1,
   "id": "f20e42e6-4654-4530-be7e-a7ca64192736",
   "metadata": {},
   "outputs": [],
   "source": [
    "clean_up = True\n",
    "%run stdPackages.ipynb\n",
    "ws = gams.GamsWorkspace(working_directory=d['work']) # specify where you want to run the GAMS models from (here the repository referred to in d['work'])"
   ]
  },
  {
   "cell_type": "markdown",
   "id": "d8b36c8f-54e9-4289-8b66-2874f190b801",
   "metadata": {},
   "source": [
    "# Simulations in general equilibrium"
   ]
  },
  {
   "cell_type": "code",
   "execution_count": 2,
   "id": "1424c953-9886-462b-a737-a5971665c997",
   "metadata": {},
   "outputs": [],
   "source": [
    "name = 'm'\n",
    "t = 2018\n",
    "ws = gams.GamsWorkspace(working_directory=d['work']) # specify where you want to run the GAMS models from (here the repository referred to in d['work'])\n",
    "with open(f\"{d['data']}\\\\{name}_GE_{t}\",\"rb\") as file:\n",
    "    GE = pickle.load(file)\n",
    "GE.write();"
   ]
  },
  {
   "cell_type": "code",
   "execution_count": 3,
   "id": "cee52302-1a1d-49ad-9087-c4bb81719215",
   "metadata": {},
   "outputs": [],
   "source": [
    "def adjustLabels(x, labels_, keepLoop):\n",
    "    return adj.rc_pd(adjMultiIndex.applyMult(x, labels_).droplevel('l1'), keepLoop).unstack(keepLoop.name)"
   ]
  },
  {
   "cell_type": "markdown",
   "id": "4b10270b-a794-48e3-9c59-253df4228151",
   "metadata": {},
   "source": [
    "### 1. Increase tax"
   ]
  },
  {
   "cell_type": "markdown",
   "id": "5e82c139-507b-4fc8-aecf-6762ed8c79db",
   "metadata": {},
   "source": [
    "Increase tax on energy by 10%:"
   ]
  },
  {
   "cell_type": "markdown",
   "id": "9d745e18-31cc-411d-94ac-696bf7d4a98b",
   "metadata": {},
   "source": [
    "*i. Set up target database:*"
   ]
  },
  {
   "cell_type": "code",
   "execution_count": 4,
   "id": "6d16af97-6312-4646-96f0-855f0a856580",
   "metadata": {},
   "outputs": [],
   "source": [
    "dbT = GpyDB(**{'name': 'TaxShock'})\n",
    "dbT['tauS'] = adj.rc_pd(GE.get('tauS'), pd.Index(['35000_'],name='n')) + 0.5\n",
    "extractSol = {k:None for k in ('qS','qD','pD','p')}\n",
    "labels = pd.Index(np.round(np.linspace(0,0.1,26),3), name = \"\"\"$\\Delta \\\\tau^S_e$\"\"\")"
   ]
  },
  {
   "cell_type": "markdown",
   "id": "437b75ab-bc03-4f7a-9210-3bc49f4e9db7",
   "metadata": {},
   "source": [
    "*ii. Solve:*"
   ]
  },
  {
   "cell_type": "code",
   "execution_count": 5,
   "id": "0e146e08-3912-403d-a62c-43dd8860e6d8",
   "metadata": {},
   "outputs": [
    {
     "name": "stderr",
     "output_type": "stream",
     "text": [
      "C:\\Users\\sxj477\\Anaconda3\\lib\\site-packages\\gmsPython\\_mixedTools.py:44: FutureWarning:\n",
      "\n",
      "The default dtype for empty Series will be 'object' instead of 'float64' in a future version. Specify a dtype explicitly to silence this warning.\n",
      "\n",
      "C:\\Users\\sxj477\\Anaconda3\\lib\\site-packages\\gmsPython\\_mixedTools.py:44: FutureWarning:\n",
      "\n",
      "The default dtype for empty Series will be 'object' instead of 'float64' in a future version. Specify a dtype explicitly to silence this warning.\n",
      "\n",
      "C:\\Users\\sxj477\\Anaconda3\\lib\\site-packages\\gmsPython\\_mixedTools.py:44: FutureWarning:\n",
      "\n",
      "The default dtype for empty Series will be 'object' instead of 'float64' in a future version. Specify a dtype explicitly to silence this warning.\n",
      "\n",
      "C:\\Users\\sxj477\\Anaconda3\\lib\\site-packages\\gmsPython\\_mixedTools.py:44: FutureWarning:\n",
      "\n",
      "The default dtype for empty Series will be 'object' instead of 'float64' in a future version. Specify a dtype explicitly to silence this warning.\n",
      "\n"
     ]
    }
   ],
   "source": [
    "m_tax, cp_tax = GE.sneakySolve(dbT, ws = ws, loop_kwargs = {'extractSol': extractSol, 'n': 26}, **{'cns': 'CONOPT4'})"
   ]
  },
  {
   "cell_type": "markdown",
   "id": "c82b6109-0d7a-479e-91a8-767b56f99c1a",
   "metadata": {},
   "source": [
    "What levels are we keeping:"
   ]
  },
  {
   "cell_type": "code",
   "execution_count": 6,
   "id": "f75535a1-b597-471d-be56-7c5fdedc5848",
   "metadata": {},
   "outputs": [],
   "source": [
    "keepLoop = pd.Index([labels[0], labels[13], labels[25]], name = labels.name) # which labels in the loop are we plotting\n",
    "labels_ = pd.MultiIndex.from_arrays([m_tax.out_db.get('l1'), labels]) "
   ]
  },
  {
   "cell_type": "markdown",
   "id": "8974af99-e41a-4d86-8752-d91b93785022",
   "metadata": {},
   "source": [
    "Check some variable out:"
   ]
  },
  {
   "cell_type": "code",
   "execution_count": 7,
   "id": "185cb4ae-b82e-4d4b-a380-0744974bd56e",
   "metadata": {},
   "outputs": [],
   "source": [
    "qS_energy = adj.rc_pd(m_tax.out_db.get('sol_qS_shock').xs(('35000_','35000_'),level=['s','n']), GE.get('txE'))"
   ]
  },
  {
   "cell_type": "markdown",
   "id": "be5873b1-9e1b-4c3a-baae-7b8fef1cf54c",
   "metadata": {},
   "source": [
    "Supply of energy:"
   ]
  },
  {
   "cell_type": "code",
   "execution_count": 8,
   "id": "639b131a-0fd7-4c89-81c6-0570c846dd5e",
   "metadata": {},
   "outputs": [
    {
     "data": {
      "image/png": "[encoded data removed]",
      "text/plain": [
       "<Figure size 576x396 with 1 Axes>"
      ]
     },
     "metadata": {},
     "output_type": "display_data"
    }
   ],
   "source": [
    "adjustLabels(qS_energy, labels_, keepLoop).plot();"
   ]
  }
 ],
 "metadata": {
  "kernelspec": {
   "display_name": "Python 3 (ipykernel)",
   "language": "python",
   "name": "python3"
  },
  "language_info": {
   "codemirror_mode": {
    "name": "ipython",
    "version": 3
   },
   "file_extension": ".py",
   "mimetype": "text/x-python",
   "name": "python",
   "nbconvert_exporter": "python",
   "pygments_lexer": "ipython3",
   "version": "3.9.7"
  }
 },
 "nbformat": 4,
 "nbformat_minor": 5
}
