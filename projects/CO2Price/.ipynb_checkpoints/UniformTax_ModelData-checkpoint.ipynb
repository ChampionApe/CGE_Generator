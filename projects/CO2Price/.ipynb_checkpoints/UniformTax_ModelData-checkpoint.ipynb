{
 "cells": [
  {
   "cell_type": "code",
   "execution_count": 1,
   "id": "8caff486-9b19-473a-a226-73d5734c94ad",
   "metadata": {},
   "outputs": [],
   "source": [
    "clean_up = True\n",
    "%run StdPackages.ipynb"
   ]
  },
  {
   "cell_type": "markdown",
   "id": "3e908e19-6330-4532-acc7-603e039ff1c5",
   "metadata": {
    "tags": []
   },
   "source": [
    "# Create Model Data for all relevant years"
   ]
  },
  {
   "cell_type": "code",
   "execution_count": 2,
   "id": "9a27a714-825c-469a-9865-6fa618891d82",
   "metadata": {},
   "outputs": [],
   "source": [
    "t0 = 1990 # initial year\n",
    "tE = 2019 # terminal year\n",
    "error = 1e-7\n",
    "name = 'uniform'"
   ]
  },
  {
   "cell_type": "markdown",
   "id": "3614ec41-b6a2-46b4-9445-85551f471647",
   "metadata": {},
   "source": [
    "Loop through ```ModelData_t```:"
   ]
  },
  {
   "cell_type": "code",
   "execution_count": 3,
   "id": "be14928a-5de7-44d7-bdfd-bd037cd19bfd",
   "metadata": {},
   "outputs": [],
   "source": [
    "for t in range(tE,t0-1,-1):\n",
    "    %run UniformTax_ModelData_t.ipynb"
   ]
  }
 ],
 "metadata": {
  "kernelspec": {
   "display_name": "Python 3 (ipykernel)",
   "language": "python",
   "name": "python3"
  },
  "language_info": {
   "codemirror_mode": {
    "name": "ipython",
    "version": 3
   },
   "file_extension": ".py",
   "mimetype": "text/x-python",
   "name": "python",
   "nbconvert_exporter": "python",
   "pygments_lexer": "ipython3",
   "version": "3.9.7"
  }
 },
 "nbformat": 4,
 "nbformat_minor": 5
}
