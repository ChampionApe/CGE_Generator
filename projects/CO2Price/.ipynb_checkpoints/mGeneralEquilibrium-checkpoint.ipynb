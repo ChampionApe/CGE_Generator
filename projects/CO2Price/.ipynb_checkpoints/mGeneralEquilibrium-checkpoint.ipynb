{
 "cells": [
  {
   "cell_type": "markdown",
   "id": "40d5dc58-7e76-44da-90db-c504149835dd",
   "metadata": {},
   "source": [
    "# General Equilibrium"
   ]
  },
  {
   "cell_type": "markdown",
   "id": "b89ed7b7-85ad-4d4b-8334-8ddaccc67b6d",
   "metadata": {},
   "source": [
    "## 1. Data/settings"
   ]
  },
  {
   "cell_type": "markdown",
   "id": "1cc60d76-0b1f-42f3-9774-4ddca8f29709",
   "metadata": {},
   "source": [
    "If the local variable $t$ has been defined already, the notebook is running from another notebook. If this is not the case, a number of \"local\" methods have to be carried out before solving the model (e.g. setting up the relevant IO data set):"
   ]
  },
  {
   "cell_type": "code",
   "execution_count": 1,
   "id": "c0a20792-a46f-4417-a447-791a455ff8b7",
   "metadata": {},
   "outputs": [],
   "source": [
    "try:\n",
    "    t = t\n",
    "except NameError:\n",
    "    clean_up = True\n",
    "    %run StdPackages.ipynb\n",
    "    name, t = 'full', 2019\n",
    "    ws = gams.GamsWorkspace(working_directory=d['work']) # specify where you want to run the GAMS models from (here the repository referred to in d['work'])\n",
    "    with open(f\"{d['processedData']}\\\\glob_{t}\",\"rb\") as file: # load global settings anmed glob_name\n",
    "        glob=pickle.load(file)\n",
    "    db_IO = GpyDB(pickle_path = os.path.join(d['processedData'], f'{name}_{t}')) # load IO database named IO_name\n",
    "    addTimeToDb(db_IO, glob.db['t'].vals, exceptions = ['sigma'])\n",
    "    modules = ['_'.join([name,str(t),k]) for k in ('G','HH','Invtry','I','P','Trade','emissions')]\n",
    "module = '_'.join([name, str(t)])"
   ]
  },
  {
   "cell_type": "markdown",
   "id": "f5d606cc-42ff-47ff-8356-b4b632de0399",
   "metadata": {},
   "source": [
    "Load modules:"
   ]
  },
  {
   "cell_type": "code",
   "execution_count": 2,
   "id": "c18ea99f-cf18-4928-9851-edde339ce437",
   "metadata": {},
   "outputs": [],
   "source": [
    "GE = gmsPyModels.GmsPython(name = f\"{name}_GE_{t}\", glob=glob, m = [loadFromPickle(n) for n in modules], s_kwargs = {'ws': ws})\n",
    "robust.robust_merge_dbs(GE.s.db, db_IO, priority = 'first')"
   ]
  },
  {
   "cell_type": "markdown",
   "id": "9fa70adb-6ad2-4dd8-9917-0604788c7c54",
   "metadata": {},
   "source": [
    "### Calibrate model"
   ]
  },
  {
   "cell_type": "markdown",
   "id": "3b132431-cca6-4eac-8c95-c9a28cb52def",
   "metadata": {},
   "source": [
    "Add equilibrium module:"
   ]
  },
  {
   "cell_type": "code",
   "execution_count": 3,
   "id": "798839ad-e38d-4114-9bb4-00f4802daba1",
   "metadata": {},
   "outputs": [],
   "source": [
    "mEqui = mEquilibrium.Equilibrium(name = module, db_IO = db_IO, glob = glob)\n",
    "GE.addModule(mEqui, merge_s = True)"
   ]
  },
  {
   "cell_type": "markdown",
   "id": "f86a5353-2fa1-4b6c-bbf7-8860696ce485",
   "metadata": {},
   "source": [
    "Add a frisch elasticity to the model:"
   ]
  },
  {
   "cell_type": "code",
   "execution_count": 4,
   "id": "973bc4a7-d925-4213-8acb-b7cc57340e38",
   "metadata": {},
   "outputs": [],
   "source": [
    "db_IO['frisch'] = pd.Series(0.25, index = GE.get('labor'), name = 'frisch')"
   ]
  },
  {
   "cell_type": "markdown",
   "id": "30bf5b4b-2f0d-4574-a223-e2615fdd2b13",
   "metadata": {},
   "source": [
    "Set up model, write gams code, and calibrate model to IO data:"
   ]
  },
  {
   "cell_type": "code",
   "execution_count": 5,
   "id": "403dafdc-f53f-454f-90d7-83b553a22c78",
   "metadata": {},
   "outputs": [],
   "source": [
    "GE.compile()\n",
    "GE.write();\n",
    "aggregateDB.subset_db(db_IO, db_IO.get('t0')) # only use t0 as target data\n",
    "mCalib, cp = GE.sneakyCalib(db_IO, ws = ws, loop_kwargs = {'n': 10}, **{'cns': 'CONOPT4'})"
   ]
  },
  {
   "cell_type": "markdown",
   "id": "ac8649f2-0465-4e7c-96cb-d7b4623bf383",
   "metadata": {},
   "source": [
    "Export solution:"
   ]
  },
  {
   "cell_type": "code",
   "execution_count": 6,
   "id": "aaec2a98-9280-4b62-8ad6-13b93d05b12b",
   "metadata": {},
   "outputs": [],
   "source": [
    "robust.robust_merge_dbs(GE.s.db, mCalib.out_db.getTypes(['variable','scalar_variable']), priority = 'second')\n",
    "GE.s.setstate('B')\n",
    "with open(os.path.join(d['modules'], GE.name), \"wb\") as file:\n",
    "    pickle.dump(GE,file)"
   ]
  }
 ],
 "metadata": {
  "kernelspec": {
   "display_name": "Python 3 (ipykernel)",
   "language": "python",
   "name": "python3"
  },
  "language_info": {
   "codemirror_mode": {
    "name": "ipython",
    "version": 3
   },
   "file_extension": ".py",
   "mimetype": "text/x-python",
   "name": "python",
   "nbconvert_exporter": "python",
   "pygments_lexer": "ipython3",
   "version": "3.9.7"
  }
 },
 "nbformat": 4,
 "nbformat_minor": 5
}
