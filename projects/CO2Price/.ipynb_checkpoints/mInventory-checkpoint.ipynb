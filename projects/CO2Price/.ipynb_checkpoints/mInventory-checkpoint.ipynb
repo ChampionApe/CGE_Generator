{
 "cells": [
  {
   "cell_type": "code",
   "execution_count": 1,
   "id": "fd13a66b-8bd4-4e3f-914f-e4839b4db5c1",
   "metadata": {},
   "outputs": [],
   "source": [
    "clean_up = True\n",
    "%run stdPackages.ipynb\n",
    "ws = gams.GamsWorkspace(working_directory=d['work']) # specify where you want to run the GAMS models from (here the repository referred to in d['work'])"
   ]
  },
  {
   "cell_type": "markdown",
   "id": "2719f181-c5b1-4bf1-a9bb-285057e8c694",
   "metadata": {},
   "source": [
    "## Inventory investments"
   ]
  },
  {
   "cell_type": "markdown",
   "id": "910a43d5-8fd6-465b-8e32-246edd2b8e16",
   "metadata": {},
   "source": [
    "Load data, settings:"
   ]
  },
  {
   "cell_type": "code",
   "execution_count": 2,
   "id": "5088426b-58f4-47a4-bbee-fb724fbfc765",
   "metadata": {},
   "outputs": [],
   "source": [
    "t = 2018\n",
    "name = 'm'\n",
    "module = name+'_Invtry' # name of module\n",
    "db_IO = GpyDB(pickle_path = os.path.join(d['data'], f'{name}_{t}')) # load IO database named IO_name\n",
    "with open(f\"{d['data']}\\\\glob_{t}\",\"rb\") as file: # load global settings anmed glob_name\n",
    "    glob=pickle.load(file)"
   ]
  },
  {
   "cell_type": "markdown",
   "id": "b08770ca-f494-4290-a2d7-56cd4520f622",
   "metadata": {},
   "source": [
    "Add time index to the IO data:"
   ]
  },
  {
   "cell_type": "code",
   "execution_count": 3,
   "id": "c52b75ca-0577-49b3-b14c-3559f63f6f7a",
   "metadata": {},
   "outputs": [],
   "source": [
    "def addT(symbol, t):\n",
    "    return adjMultiIndex.bc(symbol, t).reorder_levels(['t']+symbol.index.names if 't' not in symbol.index.names else symbol.index.names)\n",
    "[db_IO.__setitem__(k, addT(db_IO.get(k), glob.db['t'].vals)) for k in db_IO.getTypes(['variable','scalar_variable'])];"
   ]
  },
  {
   "cell_type": "markdown",
   "id": "958623cc-0e46-4dfa-bbd6-1e90c90c6a44",
   "metadata": {},
   "source": [
    "Inventory modelling only requires specifying: (1) What sectors are inventory sectors, (2) the speed of adjustment for the inventory (modelled as AR1 proces without stochasticity)."
   ]
  },
  {
   "cell_type": "code",
   "execution_count": 4,
   "id": "c938d15e-18e8-4a87-8e50-e3b2e09602c1",
   "metadata": {},
   "outputs": [],
   "source": [
    "itory = pd.Index(['itory'], name = 's')\n",
    "aggregateDB.subset_db(db_IO, itory) # goes through all symbols in db_IO and only keep the elements that are in the inventory set\n",
    "I = mProduction.Inventory(name = name, db_IO = db_IO, itory=itory, glob = glob) # initialize module from nesting tree and global settings\n",
    "I.compile(); \n",
    "I.write();\n",
    "m = I.run(exportTo=d['work'], ws =ws)"
   ]
  },
  {
   "cell_type": "markdown",
   "id": "37901165-2246-4ac9-8986-0f0105e17b75",
   "metadata": {},
   "source": [
    "Export:"
   ]
  },
  {
   "cell_type": "code",
   "execution_count": 5,
   "id": "6b25eae8-5f14-4c35-a45e-67b8b8b72cc3",
   "metadata": {},
   "outputs": [],
   "source": [
    "I.s.db = m.out_db"
   ]
  },
  {
   "cell_type": "markdown",
   "id": "35d45d15-6a2d-46f6-9b10-0747bd0fe067",
   "metadata": {},
   "source": [
    "Export:"
   ]
  },
  {
   "cell_type": "code",
   "execution_count": 6,
   "id": "b502e3e6-6a30-4c19-a249-fbf200103ec4",
   "metadata": {},
   "outputs": [],
   "source": [
    "with open(os.path.join(d['data'], I.name), \"wb\") as file:\n",
    "    pickle.dump(I,file)"
   ]
  }
 ],
 "metadata": {
  "kernelspec": {
   "display_name": "Python 3 (ipykernel)",
   "language": "python",
   "name": "python3"
  },
  "language_info": {
   "codemirror_mode": {
    "name": "ipython",
    "version": 3
   },
   "file_extension": ".py",
   "mimetype": "text/x-python",
   "name": "python",
   "nbconvert_exporter": "python",
   "pygments_lexer": "ipython3",
   "version": "3.9.7"
  }
 },
 "nbformat": 4,
 "nbformat_minor": 5
}
