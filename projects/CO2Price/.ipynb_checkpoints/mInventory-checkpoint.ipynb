{
 "cells": [
  {
   "cell_type": "markdown",
   "id": "9901d6b1-066e-49d0-bfdc-6e7d42a311d1",
   "metadata": {},
   "source": [
    "## Inventory investments"
   ]
  },
  {
   "cell_type": "markdown",
   "id": "49784438-8993-412d-ad15-8e597cae1a1c",
   "metadata": {},
   "source": [
    "## 1. Data/settings"
   ]
  },
  {
   "cell_type": "markdown",
   "id": "5745b9de-2990-4d6f-9207-e0f080ea6788",
   "metadata": {},
   "source": [
    "If the local variable $t$ has been defined already, the notebook is running from another notebook. If this is not the case, a number of \"local\" methods have to be carried out before solving the model (e.g. setting up the relevant IO data set):"
   ]
  },
  {
   "cell_type": "code",
   "execution_count": 1,
   "id": "3fcf995c-ec92-40e9-b50e-4d827a6c63d0",
   "metadata": {},
   "outputs": [
    {
     "name": "stdout",
     "output_type": "stream",
     "text": [
      "The file _gams_py_gdb0.gdx is still active and was not deleted.\n",
      "The file _gams_py_gdb13.gdx is still active and was not deleted.\n",
      "The file _gams_py_gdb16.gdx is still active and was not deleted.\n",
      "The file _gams_py_gdb17.gdx is still active and was not deleted.\n",
      "The file _gams_py_gdb18.gdx is still active and was not deleted.\n",
      "The file _gams_py_gdb3.gdx is still active and was not deleted.\n"
     ]
    }
   ],
   "source": [
    "try:\n",
    "    t = t\n",
    "except NameError:\n",
    "    clean_up = True\n",
    "    %run StdPackages.ipynb\n",
    "    name, t = 'm', 1990\n",
    "    ws = gams.GamsWorkspace(working_directory=d['work']) # specify where you want to run the GAMS models from (here the repository referred to in d['work'])\n",
    "    with open(f\"{d['processedData']}\\\\glob_{t}\",\"rb\") as file: # load global settings anmed glob_name\n",
    "        glob=pickle.load(file)\n",
    "    db_IO = GpyDB(pickle_path = os.path.join(d['processedData'], f'{name}_{t}')) # load IO database named IO_name\n",
    "    addTimeToDb(db_IO, glob.db['t'].vals, exceptions = ['sigma'])\n",
    "module = '_'.join([name,str(t),'Invtry'])\n",
    "db_IO0 = db_IO.copy() # create copy"
   ]
  },
  {
   "cell_type": "markdown",
   "id": "958623cc-0e46-4dfa-bbd6-1e90c90c6a44",
   "metadata": {},
   "source": [
    "Inventory modelling only requires specifying: (1) What sectors are inventory sectors, (2) the speed of adjustment for the inventory (modelled as AR1 proces)."
   ]
  },
  {
   "cell_type": "code",
   "execution_count": 2,
   "id": "c938d15e-18e8-4a87-8e50-e3b2e09602c1",
   "metadata": {},
   "outputs": [],
   "source": [
    "itory = pd.Index(['itory'], name = 's')\n",
    "aggregateDB.subset_db(db_IO0, itory) # goes through all symbols in db_IO and only keep the elements that are in the inventory set\n",
    "I = mProduction.Inventory(name = module, db_IO = db_IO0, itory=itory, glob = glob) # initialize module from nesting tree and global settings\n",
    "I.compile(); \n",
    "I.write();\n",
    "m = I.run(exportTo=d['work'], ws =ws)"
   ]
  },
  {
   "cell_type": "markdown",
   "id": "37901165-2246-4ac9-8986-0f0105e17b75",
   "metadata": {},
   "source": [
    "Export:"
   ]
  },
  {
   "cell_type": "code",
   "execution_count": 3,
   "id": "6b25eae8-5f14-4c35-a45e-67b8b8b72cc3",
   "metadata": {},
   "outputs": [],
   "source": [
    "I.s.db = m.out_db"
   ]
  },
  {
   "cell_type": "markdown",
   "id": "35d45d15-6a2d-46f6-9b10-0747bd0fe067",
   "metadata": {},
   "source": [
    "Export:"
   ]
  },
  {
   "cell_type": "code",
   "execution_count": 4,
   "id": "b51eb6e2-6bfb-424b-a6bf-d02158a947c6",
   "metadata": {},
   "outputs": [],
   "source": [
    "with open(os.path.join(d['modules'], I.name), \"wb\") as file:\n",
    "    pickle.dump(I,file)"
   ]
  }
 ],
 "metadata": {
  "kernelspec": {
   "display_name": "Python 3 (ipykernel)",
   "language": "python",
   "name": "python3"
  },
  "language_info": {
   "codemirror_mode": {
    "name": "ipython",
    "version": 3
   },
   "file_extension": ".py",
   "mimetype": "text/x-python",
   "name": "python",
   "nbconvert_exporter": "python",
   "pygments_lexer": "ipython3",
   "version": "3.9.7"
  }
 },
 "nbformat": 4,
 "nbformat_minor": 5
}
