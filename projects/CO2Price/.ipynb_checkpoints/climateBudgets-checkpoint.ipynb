{
 "cells": [
  {
   "cell_type": "code",
   "execution_count": 1,
   "id": "0d9c4596-2ab4-4fe3-af43-09bb42d025b0",
   "metadata": {},
   "outputs": [],
   "source": [
    "clean_up = True\n",
    "%run StdPackages.ipynb\n",
    "ws = gams.GamsWorkspace(working_directory=d['work']) # specify where you want to run the GAMS models from (here the repository referred to in d['work'])"
   ]
  },
  {
   "cell_type": "markdown",
   "id": "949304c4-26aa-4835-9d23-1fce0e8e74b6",
   "metadata": {
    "tags": []
   },
   "source": [
    "## Run various climate budget simulations for each year"
   ]
  },
  {
   "cell_type": "code",
   "execution_count": 2,
   "id": "7719653b-4be7-4039-b9f6-ead547c50db1",
   "metadata": {},
   "outputs": [],
   "source": [
    "t0 = 1990 # initial year\n",
    "tE = 2019 # terminal year\n",
    "name = 'uniform' # model/scenario name\n",
    "ns = [22, 30, 'T'] # what type of time horizons for eliminating the climate debt are we using"
   ]
  },
  {
   "cell_type": "markdown",
   "id": "ed640cef-4eb1-4b83-b583-b910ab6dd055",
   "metadata": {},
   "source": [
    "Define standard computational settings (these are options that are passed to the solvers in ```climateBudget_t```):"
   ]
  },
  {
   "cell_type": "code",
   "execution_count": 3,
   "id": "57cc448f-7591-440e-9f40-2bef4fbb975f",
   "metadata": {},
   "outputs": [],
   "source": [
    "kwargs_SY = {'name': 'SY', 'loop': 'l_SY', 'n': 10}\n",
    "kwargs_IIa= {'name': 'IIa', 'loop': 'l_IIa', 'n': 10}\n",
    "kwargs_IIb= {'name': 'IIb', 'loop': 'l_IIb', 'n': 3}\n",
    "kwargs_IIIa = {ns[0]: {'name': f'IIIa_{ns[0]}', 'loop': f'l_IIIa_{ns[0]}', 'n': 10}}\n",
    "[kwargs_IIIa.__setitem__(n, {'name': f'IIIa_{n}', 'loop': f'l_IIIa_{n}', 'n': 3}) for n in ns[1:]];\n",
    "kwargs_IIIb = {ns[0]: {'name': f'IIIb_{ns[0]}', 'loop': f'l_IIIb_{ns[0]}', 'n': 10}}\n",
    "[kwargs_IIIb.__setitem__(n, {'name': f'IIIb_{n}', 'loop': f'l_IIIb_{n}', 'n': 3}) for n in ns[1:]];\n",
    "kwargs_IIIc = {ns[0]: {'name': f'IIIc_{ns[0]}', 'loop': f'l_IIIc_{ns[0]}', 'n': 10}}\n",
    "[kwargs_IIIc.__setitem__(n, {'name': f'IIIc_{n}', 'loop': f'l_IIIc_{n}', 'n': 3}) for n in ns[1:]];"
   ]
  },
  {
   "cell_type": "markdown",
   "id": "f15b8e3a-07fd-46d1-92f5-9ec97eb984d2",
   "metadata": {},
   "source": [
    "The main thing that we adjust is the number of iterations used to solve for the \"Single Year\" (SY) policy. This turns out to be quite tricky for the early years; thus, we pass separate options for these as follows:"
   ]
  },
  {
   "cell_type": "code",
   "execution_count": 4,
   "id": "c06186bd-5559-4ad1-b61a-74517795aed2",
   "metadata": {},
   "outputs": [],
   "source": [
    "SY_n = {n: 10 for n in range(t0,tE+1)} # use 10 as default, except if something else is specified here\n",
    "SY_n.update({1990: 200,\n",
    "             1991: 400,\n",
    "             1992: 400,\n",
    "             1993: 400,\n",
    "             1994: 400,\n",
    "             1995: 400,\n",
    "             1996: 400,\n",
    "             1997: 400,\n",
    "             1998: 400,\n",
    "             1999: 200,\n",
    "             2000: 200,\n",
    "             2001: 200,\n",
    "             2002: 200,\n",
    "             2003: 200,\n",
    "             2014: 10,\n",
    "             # 2015: 5, # include this in the 'm' model\n",
    "             2015: 10,\n",
    "             2016: 10,\n",
    "             2017: 10,\n",
    "             2018: 10,\n",
    "             2019: 15}) # set 2019 = 10 for the 'm' model"
   ]
  },
  {
   "cell_type": "markdown",
   "id": "edc52ab1-ce09-4ca5-8ce4-45fa50f2537e",
   "metadata": {},
   "source": [
    "Now, loop through setup for each year. For each year, this runs through 9-10 modules (parts of the general equilibrium model), combines them, and calibrates the model in general equilibrium. For 30 years, this takes quite a lot of time to run."
   ]
  },
  {
   "cell_type": "code",
   "execution_count": 5,
   "id": "d422a92c-886a-48ce-9316-936588452ed0",
   "metadata": {},
   "outputs": [],
   "source": [
    "for t in range(t0,tE+1):\n",
    "    kwargs_SY['n'] = SY_n[t]\n",
    "    %run climateBudget_t.ipynb"
   ]
  }
 ],
 "metadata": {
  "kernelspec": {
   "display_name": "Python 3 (ipykernel)",
   "language": "python",
   "name": "python3"
  },
  "language_info": {
   "codemirror_mode": {
    "name": "ipython",
    "version": 3
   },
   "file_extension": ".py",
   "mimetype": "text/x-python",
   "name": "python",
   "nbconvert_exporter": "python",
   "pygments_lexer": "ipython3",
   "version": "3.9.7"
  }
 },
 "nbformat": 4,
 "nbformat_minor": 5
}
