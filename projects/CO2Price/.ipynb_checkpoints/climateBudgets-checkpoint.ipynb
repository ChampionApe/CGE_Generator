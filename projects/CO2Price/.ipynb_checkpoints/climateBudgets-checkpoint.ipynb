{
 "cells": [
  {
   "cell_type": "code",
   "execution_count": 1,
   "id": "0d9c4596-2ab4-4fe3-af43-09bb42d025b0",
   "metadata": {},
   "outputs": [],
   "source": [
    "clean_up = True\n",
    "%run StdPackages.ipynb\n",
    "ws = gams.GamsWorkspace(working_directory=d['work']) # specify where you want to run the GAMS models from (here the repository referred to in d['work'])"
   ]
  },
  {
   "cell_type": "markdown",
   "id": "949304c4-26aa-4835-9d23-1fce0e8e74b6",
   "metadata": {
    "tags": []
   },
   "source": [
    "## Initialize model for each year"
   ]
  },
  {
   "cell_type": "code",
   "execution_count": 2,
   "id": "7719653b-4be7-4039-b9f6-ead547c50db1",
   "metadata": {},
   "outputs": [],
   "source": [
    "t0 = 1990 # initial year\n",
    "tE = 2019 # terminal year\n",
    "name = 'm' # model/scenario name"
   ]
  },
  {
   "cell_type": "markdown",
   "id": "edc52ab1-ce09-4ca5-8ce4-45fa50f2537e",
   "metadata": {},
   "source": [
    "Loop through setup for each year. For each year, this runs through 9-10 modules (parts of the general equilibrium model), combines them, and calibrates the model in general equilibrium. For 30 years, this takes quite a lot of time to run."
   ]
  },
  {
   "cell_type": "code",
   "execution_count": 3,
   "id": "d422a92c-886a-48ce-9316-936588452ed0",
   "metadata": {},
   "outputs": [],
   "source": [
    "for t in range(t0,tE+1):\n",
    "    with open(f\"{d['processedData']}\\\\glob_{t}\",\"rb\") as file: # load global settings anmed glob_name\n",
    "        glob=pickle.load(file)\n",
    "    db_IO = GpyDB(pickle_path = os.path.join(d['processedData'], f'{name}_{t}')) # load IO database named IO_name\n",
    "    addTimeToDb(db_IO, glob.db['t'].vals,exceptions = ['sigma'])\n",
    "    %run initModel_t.ipynb"
   ]
  }
 ],
 "metadata": {
  "kernelspec": {
   "display_name": "Python 3 (ipykernel)",
   "language": "python",
   "name": "python3"
  },
  "language_info": {
   "codemirror_mode": {
    "name": "ipython",
    "version": 3
   },
   "file_extension": ".py",
   "mimetype": "text/x-python",
   "name": "python",
   "nbconvert_exporter": "python",
   "pygments_lexer": "ipython3",
   "version": "3.9.7"
  }
 },
 "nbformat": 4,
 "nbformat_minor": 5
}
