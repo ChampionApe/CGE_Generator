{
 "cells": [
  {
   "cell_type": "code",
   "execution_count": 1,
   "id": "99e9d161-3b27-48eb-aa1e-de01e27a377d",
   "metadata": {},
   "outputs": [
    {
     "name": "stdout",
     "output_type": "stream",
     "text": [
      "The file _gams_py_gdb58.gdx is still active and was not deleted.\n",
      "The file _gams_py_gdb59.gdx is still active and was not deleted.\n"
     ]
    }
   ],
   "source": [
    "clean_up = True\n",
    "%run StdPackages.ipynb\n",
    "ws = gams.GamsWorkspace(working_directory=d['work']) # specify where you want to run the GAMS models from (here the repository referred to in d['work'])"
   ]
  },
  {
   "cell_type": "markdown",
   "id": "4d506658-2f59-4a47-a429-ebee41e4bc8c",
   "metadata": {
    "tags": []
   },
   "source": [
    "## Initialize model for each year"
   ]
  },
  {
   "cell_type": "code",
   "execution_count": 2,
   "id": "a7ecd5c7-2481-4cdf-98ee-5f7c3a8ef7c1",
   "metadata": {},
   "outputs": [],
   "source": [
    "t0 = 1990 # initial year\n",
    "tE = 2019 # terminal year\n",
    "name = 'full'"
   ]
  },
  {
   "cell_type": "markdown",
   "id": "f63b2969-9547-4b16-8cad-12e40850b5c2",
   "metadata": {},
   "source": [
    "Loop through setup for each year. For each year, this runs through 9-10 modules (parts of the general equilibrium model), combines them, and calibrates the model in general equilibrium. For 30 years, this takes quite a lot of time to run."
   ]
  },
  {
   "cell_type": "code",
   "execution_count": 3,
   "id": "428e6cf7-9ebb-43e8-b8d4-e141ba3b2a8c",
   "metadata": {},
   "outputs": [],
   "source": [
    "for t in range(t0,tE+1):\n",
    "    with open(f\"{d['processedData']}\\\\glob_{t}\",\"rb\") as file: # load global settings anmed glob_name\n",
    "        glob=pickle.load(file)\n",
    "    db_IO = GpyDB(pickle_path = os.path.join(d['processedData'], f'{name}_{t}')) # load IO database named IO_name\n",
    "    addTimeToDb(db_IO, glob.db['t'].vals,exceptions = ['sigma'])\n",
    "    %run Full_initModel_t.ipynb"
   ]
  }
 ],
 "metadata": {
  "kernelspec": {
   "display_name": "Python 3 (ipykernel)",
   "language": "python",
   "name": "python3"
  },
  "language_info": {
   "codemirror_mode": {
    "name": "ipython",
    "version": 3
   },
   "file_extension": ".py",
   "mimetype": "text/x-python",
   "name": "python",
   "nbconvert_exporter": "python",
   "pygments_lexer": "ipython3",
   "version": "3.9.7"
  }
 },
 "nbformat": 4,
 "nbformat_minor": 5
}
