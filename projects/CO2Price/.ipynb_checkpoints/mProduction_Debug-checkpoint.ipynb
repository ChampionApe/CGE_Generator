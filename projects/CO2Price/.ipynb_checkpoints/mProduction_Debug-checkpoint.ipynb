{
 "cells": [
  {
   "cell_type": "code",
   "execution_count": 1,
   "id": "25aed02b-e32c-43f8-b876-62cc518cfc00",
   "metadata": {},
   "outputs": [
    {
     "name": "stdout",
     "output_type": "stream",
     "text": [
      "The file _gams_py_gdb0.gdx is still active and was not deleted.\n",
      "The file _gams_py_gdb1.gdx is still active and was not deleted.\n",
      "The file _gams_py_gdb2.gdx is still active and was not deleted.\n",
      "The file _gams_py_gdb3.gdx is still active and was not deleted.\n"
     ]
    }
   ],
   "source": [
    "clean_up = True\n",
    "%run stdPackages.ipynb\n",
    "ws = gams.GamsWorkspace(working_directory=d['work']) # specify where you want to run the GAMS models from (here the repository referred to in d['work'])"
   ]
  },
  {
   "cell_type": "markdown",
   "id": "bcf6c7ba-bf57-4888-bee2-7e4ba606fede",
   "metadata": {},
   "source": [
    "## 1. Data/settings"
   ]
  },
  {
   "cell_type": "markdown",
   "id": "af383475-43df-46b7-b418-e9761f1b020a",
   "metadata": {},
   "source": [
    "Load data, settings:"
   ]
  },
  {
   "cell_type": "code",
   "execution_count": 2,
   "id": "242e66af-7997-43ce-93fb-dc01b57112c5",
   "metadata": {},
   "outputs": [],
   "source": [
    "t = 2018\n",
    "name = 'm'\n",
    "module = name+'_P' # name of module\n",
    "db_IO = GpyDB(pickle_path = os.path.join(d['data'], f'{name}_{t}')) # load IO database named IO_name\n",
    "with open(f\"{d['data']}\\\\glob_{t}\",\"rb\") as file: # load global settings anmed glob_name\n",
    "    glob=pickle.load(file)"
   ]
  },
  {
   "cell_type": "markdown",
   "id": "9e9ea5c9-e6e3-445b-920f-0b870e8f6b28",
   "metadata": {},
   "source": [
    "Add time index to the IO data:"
   ]
  },
  {
   "cell_type": "code",
   "execution_count": 3,
   "id": "0935ee32-5ac6-4995-b777-c990a41c9e86",
   "metadata": {},
   "outputs": [],
   "source": [
    "aggregateDB.subset_db(db_IO, db_IO.get('s_p')[0:1])\n",
    "addTimeToDb(db_IO, glob.db['t'].vals)"
   ]
  },
  {
   "cell_type": "markdown",
   "id": "50429946-d17a-422b-b7c0-44900f05a230",
   "metadata": {},
   "source": [
    "Make a copy for later:"
   ]
  },
  {
   "cell_type": "code",
   "execution_count": 5,
   "id": "e799fcae-bba7-49e2-bb8c-5f4a159e707c",
   "metadata": {},
   "outputs": [],
   "source": [
    "db_IO0 = db_IO.copy() # we are going to adjust data along the way; this keeps a copy of the original data\n",
    "aggregateDB.subset_db(db_IO0, glob.db['t0'].vals) # Only keep IO data on baseline year"
   ]
  },
  {
   "cell_type": "markdown",
   "id": "2516d165-34f4-4536-8584-3c031c12f5e7",
   "metadata": {},
   "source": [
    "Add durable prices (for now, to solve static calibration):"
   ]
  },
  {
   "cell_type": "code",
   "execution_count": 6,
   "id": "e5e1a64b-0371-4b9d-80a3-40965d2c20a9",
   "metadata": {},
   "outputs": [],
   "source": [
    "db_IO['pD'] = db_IO.get('pD_dur').combine_first(db_IO.get('pD'))\n",
    "db_IO['p'] = db_IO.get('pD_dur').groupby(['t','n']).mean().combine_first(db_IO.get('p'))"
   ]
  },
  {
   "cell_type": "markdown",
   "id": "a040eb0b-a5ca-46ea-8d91-a10adfbf093e",
   "metadata": {},
   "source": [
    "## 2. Initial values"
   ]
  },
  {
   "cell_type": "markdown",
   "id": "3f1696b7-4857-4811-bf2a-c3837ecdfb55",
   "metadata": {},
   "source": [
    "Set up nesting tree using the nesting structure:"
   ]
  },
  {
   "cell_type": "code",
   "execution_count": 7,
   "id": "23c82f35-31e3-4533-8e9f-7b7de107565e",
   "metadata": {},
   "outputs": [],
   "source": [
    "tree = nestingTree.tree(name = f'{module}_ces', tree = db_IO.get('nestProduction').to_list()) # individual tree\n",
    "Tree = nestingTree.aggTree(name = module, trees = {tree.name: tree})(namespace = {str(n)+'_input': n for n in db_IO.get('n')})"
   ]
  },
  {
   "cell_type": "markdown",
   "id": "be61b326-fb18-4b1d-9427-b6b6dcc95f0c",
   "metadata": {},
   "source": [
    "Initialize production module, without any durables at first:"
   ]
  },
  {
   "cell_type": "code",
   "execution_count": 8,
   "id": "02a68d67-bddc-4e9b-b70f-0389c19f6f3f",
   "metadata": {},
   "outputs": [],
   "source": [
    "P = mProduction.Production(tree=Tree, glob = glob) # initialize module from nesting tree and global settings\n",
    "aggregateDB.subset_db(db_IO, Tree.db.get('s')) # goes through all symbols in db_IO and only keep the elements that are in the set 's' from Tree.db\n",
    "aggregateDB.subset_db(db_IO, Tree.get('n')) # goes through all symbols in db_IO and only keep the elements that are in the set 'n' from Tree.db\n",
    "robust.robust_merge_dbs(P.s.db, db_IO, priority = 'second') # Merge IO data into the database of the module; if a symbol is in both, prioritize records from the second database"
   ]
  },
  {
   "cell_type": "markdown",
   "id": "334ac0c3-227b-45e3-8e25-ed06f54805c4",
   "metadata": {},
   "source": [
    "Add value shares:"
   ]
  },
  {
   "cell_type": "code",
   "execution_count": 9,
   "id": "083e8c4d-6060-4619-96c4-cf5f406f6bbf",
   "metadata": {},
   "outputs": [],
   "source": [
    "v = valueShares.valueShares(Tree, db_IO.copy())\n",
    "v.compile() # set up model structure, and make sure to initialize symbols if they are not yet defined in the database \n",
    "v.write(); # write GAMS code used for the model\n",
    "m = v.run(exportTo = d['work'],ws=ws) # solve the \"model\"."
   ]
  },
  {
   "cell_type": "markdown",
   "id": "18f218dc-e019-4b02-9517-67d2e820dfcb",
   "metadata": {},
   "source": [
    "Use value shares to initialize variables:\n",
    "* Outputs and inputs are provided by IO data.\n",
    "* For intermediate goods, assume a price of 1 (default option in the class, so we don't have to do anything) and set value share = quantity.\n",
    "* Set share parameters to the ones identified by value share system."
   ]
  },
  {
   "cell_type": "code",
   "execution_count": 10,
   "id": "f572c230-80df-457c-bc9d-c6703fb1d967",
   "metadata": {},
   "outputs": [],
   "source": [
    "gpyDB.GpyDBs_AOM_Second(P.s.db, gpy(adj.rc_pd(m.out_db.get('vD'), P.get('int')).rename('qD'))) # set intermediate goods levels\n",
    "gpyDB.GpyDBs_AOM_Second(P.s.db, gpy(m.out_db.get('mu').xs(P.get('t0')[0]).rename('mu'))) # set intermediate goods levels"
   ]
  },
  {
   "cell_type": "markdown",
   "id": "bec428df-f5b3-4773-8dbd-901026367ed1",
   "metadata": {},
   "source": [
    "Set tax rate to fit revenue collected in baseline year:"
   ]
  },
  {
   "cell_type": "code",
   "execution_count": 11,
   "id": "801406ea-6f3e-4265-9e41-fa57fe7f6dfa",
   "metadata": {},
   "outputs": [],
   "source": [
    "# P.s.db['tauLump'] = db_IO.get('TotalTax').rename('tauLump')\n",
    "P.s.db['tauS'] = adjMultiIndex.applyMult(db_IO.get('TotalTax'), P.get('output')) / P.get('qS')"
   ]
  },
  {
   "cell_type": "markdown",
   "id": "a8d398e0-8c22-4fa7-84d2-20a0c40a998a",
   "metadata": {},
   "source": [
    "### 3. Static calibration"
   ]
  },
  {
   "cell_type": "code",
   "execution_count": 12,
   "id": "1cedfbce-73c6-4161-8291-a2ec86672bea",
   "metadata": {},
   "outputs": [],
   "source": [
    "P.compile(initDB=True) # set up model structure, and make sure to initialize symbols if they are not yet defined in the database (initDB = True)\n",
    "P.s.setstate('C') # set to calibration state\n",
    "P.write(); # write GAMS code\n",
    "mStatic = P.run(exportTo = d['work'],ws=ws,**{'cns': 'CONOPT4'}) # solve the model using CONOPT4."
   ]
  },
  {
   "cell_type": "markdown",
   "id": "8b380019-6376-49b2-980c-35bd2e42c2cd",
   "metadata": {},
   "source": [
    "### 4. Dynamic calibration"
   ]
  },
  {
   "cell_type": "markdown",
   "id": "235aa6d3-bca3-4ab9-9fbe-71f47ba162e9",
   "metadata": {},
   "source": [
    "Initialize module with static calibration as data:"
   ]
  },
  {
   "cell_type": "code",
   "execution_count": 13,
   "id": "0ee5596d-6695-4a89-ba6d-f36d0ef51f44",
   "metadata": {},
   "outputs": [],
   "source": [
    "P = mProduction.Production_ExoMu(tree = Tree, glob = glob)\n",
    "robust.robust_merge_dbs(P.s.db, mStatic.out_db.getTypes(['variable','scalar_variable']), priority = 'second')"
   ]
  },
  {
   "cell_type": "markdown",
   "id": "37232220-f438-4fd8-aff7-4b7b5217b157",
   "metadata": {},
   "source": [
    "Add durables:"
   ]
  },
  {
   "cell_type": "code",
   "execution_count": 14,
   "id": "59ada79e-959d-41df-874a-a3810289f0fb",
   "metadata": {},
   "outputs": [],
   "source": [
    "aggregateDB.readSets(P.s.db) # this makes sure that all necessary sets are defined in the database"
   ]
  },
  {
   "cell_type": "code",
   "execution_count": 15,
   "id": "434a9097-b231-4ecc-b717-caacef7c70ca",
   "metadata": {},
   "outputs": [],
   "source": [
    "P.addDurables(dur = db_IO0.get('dur_p'), dur2inv = db_IO0.get('dur2inv'), f = 'sqrAdjCosts')\n",
    "P.initDurables() # adjust to steady state-like model\n",
    "P.compile(initDB=True) # set up model structure\n",
    "P.write(); # write GAMS code\n",
    "mBaseline = P.run(exportTo = d['work'],ws=ws,**{'cns': 'CONOPT4'}) # solve the model using CONOPT4; baselinea"
   ]
  },
  {
   "cell_type": "markdown",
   "id": "35f96941-e2c1-4178-9e6e-c38b6361f776",
   "metadata": {},
   "source": [
    "Solve dynamic calibration:"
   ]
  },
  {
   "cell_type": "code",
   "execution_count": 16,
   "id": "7fbec5b4-cf88-4e04-9afd-8b4b91168c9a",
   "metadata": {},
   "outputs": [],
   "source": [
    "aggregateDB.subset_db(db_IO0, P.get('t0')) # Only keep IO data on baseline year\n",
    "mCalib, cp = P.sneakyCalib(db_IO0, exportTo = d['work'],ws=ws, loop_kwargs = {'n': 10}, **{'cns': 'CONOPT4'})"
   ]
  },
  {
   "cell_type": "markdown",
   "id": "87e7f4d6-9f36-4d34-a8b5-2ac052857e2a",
   "metadata": {},
   "source": [
    "### Sector-by-sector solution"
   ]
  },
  {
   "cell_type": "markdown",
   "id": "80d96046-fe4c-43a9-b826-824940203ea5",
   "metadata": {},
   "source": [
    "Try to run one sector at a time:"
   ]
  },
  {
   "cell_type": "code",
   "execution_count": 7,
   "id": "8611fdf5-8ee8-4bf2-be4c-9b49127a9724",
   "metadata": {},
   "outputs": [
    {
     "ename": "GamsExceptionExecution",
     "evalue": "GAMS return code not 0 (3), check C:\\Users\\sxj477\\Documents\\GitHub\\CGE_Generator\\work_folder\\_gams_py_gjo3.lst for more details",
     "output_type": "error",
     "traceback": [
      "\u001b[1;31m---------------------------------------------------------------------------\u001b[0m",
      "\u001b[1;31mGamsExceptionExecution\u001b[0m                    Traceback (most recent call last)",
      "\u001b[1;32m~\\AppData\\Local\\Temp/ipykernel_4124/3992146032.py\u001b[0m in \u001b[0;36m<module>\u001b[1;34m\u001b[0m\n\u001b[0;32m     31\u001b[0m     \u001b[0mP\u001b[0m\u001b[1;33m.\u001b[0m\u001b[0mcompile\u001b[0m\u001b[1;33m(\u001b[0m\u001b[0minitDB\u001b[0m\u001b[1;33m=\u001b[0m\u001b[1;32mTrue\u001b[0m\u001b[1;33m)\u001b[0m \u001b[1;31m# set up model structure\u001b[0m\u001b[1;33m\u001b[0m\u001b[1;33m\u001b[0m\u001b[0m\n\u001b[0;32m     32\u001b[0m     \u001b[0mP\u001b[0m\u001b[1;33m.\u001b[0m\u001b[0mwrite\u001b[0m\u001b[1;33m(\u001b[0m\u001b[1;33m)\u001b[0m\u001b[1;33m;\u001b[0m \u001b[1;31m# write GAMS code\u001b[0m\u001b[1;33m\u001b[0m\u001b[1;33m\u001b[0m\u001b[0m\n\u001b[1;32m---> 33\u001b[1;33m     \u001b[0mmCalib\u001b[0m\u001b[1;33m,\u001b[0m \u001b[0mcp\u001b[0m \u001b[1;33m=\u001b[0m \u001b[0mP\u001b[0m\u001b[1;33m.\u001b[0m\u001b[0msneakyCalib\u001b[0m\u001b[1;33m(\u001b[0m\u001b[0mdb_IO0\u001b[0m\u001b[1;33m,\u001b[0m \u001b[0mexportTo\u001b[0m \u001b[1;33m=\u001b[0m \u001b[0md\u001b[0m\u001b[1;33m[\u001b[0m\u001b[1;34m'work'\u001b[0m\u001b[1;33m]\u001b[0m\u001b[1;33m,\u001b[0m\u001b[0mws\u001b[0m\u001b[1;33m=\u001b[0m\u001b[0mws\u001b[0m\u001b[1;33m,\u001b[0m \u001b[0mloop_kwargs\u001b[0m \u001b[1;33m=\u001b[0m \u001b[1;33m{\u001b[0m\u001b[1;34m'n'\u001b[0m\u001b[1;33m:\u001b[0m \u001b[1;36m10\u001b[0m\u001b[1;33m}\u001b[0m\u001b[1;33m,\u001b[0m \u001b[1;33m**\u001b[0m\u001b[1;33m{\u001b[0m\u001b[1;34m'cns'\u001b[0m\u001b[1;33m:\u001b[0m \u001b[1;34m'CONOPT4'\u001b[0m\u001b[1;33m}\u001b[0m\u001b[1;33m)\u001b[0m\u001b[1;33m\u001b[0m\u001b[1;33m\u001b[0m\u001b[0m\n\u001b[0m",
      "\u001b[1;32m~\\Anaconda3\\lib\\site-packages\\gmsPython\\gmsPyModels\\gmsPyModels.py\u001b[0m in \u001b[0;36msneakyCalib\u001b[1;34m(self, dbTarget, cState, model, db_str, exportdb, exportTo, ws, options, options_add, options_run, loop_kwargs, **kwargs)\u001b[0m\n\u001b[0;32m    121\u001b[0m                 \u001b[0mself\u001b[0m\u001b[1;33m.\u001b[0m\u001b[0mrun\u001b[0m\u001b[1;33m(\u001b[0m\u001b[0mmodel\u001b[0m \u001b[1;33m=\u001b[0m \u001b[0mmodel\u001b[0m\u001b[1;33m,\u001b[0m \u001b[0mdb_str\u001b[0m \u001b[1;33m=\u001b[0m \u001b[0mdb_str\u001b[0m\u001b[1;33m,\u001b[0m \u001b[0mexportdb\u001b[0m \u001b[1;33m=\u001b[0m \u001b[0mexportdb\u001b[0m\u001b[1;33m,\u001b[0m \u001b[0mexportTo\u001b[0m \u001b[1;33m=\u001b[0m \u001b[0mexportTo\u001b[0m\u001b[1;33m,\u001b[0m \u001b[0moptions_add\u001b[0m\u001b[1;33m=\u001b[0m\u001b[0moptions_add\u001b[0m\u001b[1;33m,\u001b[0m \u001b[0moptions_run\u001b[0m\u001b[1;33m=\u001b[0m\u001b[0moptions_run\u001b[0m\u001b[1;33m)\u001b[0m \u001b[1;31m# solve baseline, add checkpoint\u001b[0m\u001b[1;33m\u001b[0m\u001b[1;33m\u001b[0m\u001b[0m\n\u001b[0;32m    122\u001b[0m                 \u001b[0mcp\u001b[0m \u001b[1;33m=\u001b[0m \u001b[0mmodel\u001b[0m\u001b[1;33m.\u001b[0m\u001b[0mws\u001b[0m\u001b[1;33m.\u001b[0m\u001b[0madd_checkpoint\u001b[0m\u001b[1;33m(\u001b[0m\u001b[1;33m)\u001b[0m\u001b[1;33m\u001b[0m\u001b[1;33m\u001b[0m\u001b[0m\n\u001b[1;32m--> 123\u001b[1;33m                 \u001b[0mmodel\u001b[0m\u001b[1;33m.\u001b[0m\u001b[0mrun\u001b[0m\u001b[1;33m(\u001b[0m\u001b[0mrun\u001b[0m \u001b[1;33m=\u001b[0m \u001b[0mself\u001b[0m\u001b[1;33m.\u001b[0m\u001b[0ms\u001b[0m\u001b[1;33m.\u001b[0m\u001b[0mwriteSolveState\u001b[0m\u001b[1;33m(\u001b[0m\u001b[0mcState\u001b[0m\u001b[1;33m)\u001b[0m\u001b[1;33m,\u001b[0m \u001b[0moptions_add\u001b[0m \u001b[1;33m=\u001b[0m \u001b[1;33m{\u001b[0m\u001b[1;34m'checkpoint'\u001b[0m\u001b[1;33m:\u001b[0m \u001b[0moptions_run\u001b[0m\u001b[1;33m[\u001b[0m\u001b[1;34m'checkpoint'\u001b[0m\u001b[1;33m]\u001b[0m\u001b[1;33m}\u001b[0m\u001b[1;33m,\u001b[0m \u001b[0moptions_run\u001b[0m \u001b[1;33m=\u001b[0m \u001b[1;33m{\u001b[0m\u001b[1;34m'checkpoint'\u001b[0m\u001b[1;33m:\u001b[0m \u001b[0mcp\u001b[0m\u001b[1;33m}\u001b[0m\u001b[1;33m)\u001b[0m \u001b[1;31m# switch to calibration state, run from checkpoint, add new checkpint\u001b[0m\u001b[1;33m\u001b[0m\u001b[1;33m\u001b[0m\u001b[0m\n\u001b[0m\u001b[0;32m    124\u001b[0m                 \u001b[0mtext\u001b[0m\u001b[1;33m,\u001b[0m \u001b[0mdb\u001b[0m \u001b[1;33m=\u001b[0m \u001b[0mgmsWrite\u001b[0m\u001b[1;33m.\u001b[0m\u001b[0mSolveLoop\u001b[0m\u001b[1;33m(\u001b[0m\u001b[0mself\u001b[0m\u001b[1;33m.\u001b[0m\u001b[0ms\u001b[0m\u001b[1;33m,\u001b[0m \u001b[0mdbTarget\u001b[0m\u001b[1;33m,\u001b[0m \u001b[0mdb0\u001b[0m \u001b[1;33m=\u001b[0m \u001b[0mmodel\u001b[0m\u001b[1;33m.\u001b[0m\u001b[0mout_db\u001b[0m\u001b[1;33m,\u001b[0m \u001b[1;33m**\u001b[0m\u001b[0mpyDatabases\u001b[0m\u001b[1;33m.\u001b[0m\u001b[0mnoneInit\u001b[0m\u001b[1;33m(\u001b[0m\u001b[0mloop_kwargs\u001b[0m\u001b[1;33m,\u001b[0m \u001b[1;33m{\u001b[0m\u001b[1;33m}\u001b[0m\u001b[1;33m)\u001b[0m\u001b[1;33m)\u001b[0m \u001b[1;31m# run loop with exogenous variables gradually adjusted towards solution\u001b[0m\u001b[1;33m\u001b[0m\u001b[1;33m\u001b[0m\u001b[0m\n\u001b[0;32m    125\u001b[0m                 \u001b[0mcp2\u001b[0m \u001b[1;33m=\u001b[0m \u001b[0mmodel\u001b[0m\u001b[1;33m.\u001b[0m\u001b[0mws\u001b[0m\u001b[1;33m.\u001b[0m\u001b[0madd_checkpoint\u001b[0m\u001b[1;33m(\u001b[0m\u001b[1;33m)\u001b[0m\u001b[1;33m\u001b[0m\u001b[1;33m\u001b[0m\u001b[0m\n",
      "\u001b[1;32m~\\Anaconda3\\lib\\site-packages\\gmsPython\\gmsPy\\gmsPy.py\u001b[0m in \u001b[0;36mrun\u001b[1;34m(self, run, runfile, options_add, options_run, db_as_gpy)\u001b[0m\n\u001b[0;32m    200\u001b[0m         \u001b[1;32mdef\u001b[0m \u001b[0mrun\u001b[0m\u001b[1;33m(\u001b[0m\u001b[0mself\u001b[0m\u001b[1;33m,\u001b[0m\u001b[0mrun\u001b[0m\u001b[1;33m=\u001b[0m\u001b[1;32mNone\u001b[0m\u001b[1;33m,\u001b[0m\u001b[0mrunfile\u001b[0m\u001b[1;33m=\u001b[0m\u001b[1;32mNone\u001b[0m\u001b[1;33m,\u001b[0m\u001b[0moptions_add\u001b[0m\u001b[1;33m=\u001b[0m\u001b[1;32mNone\u001b[0m\u001b[1;33m,\u001b[0m\u001b[0moptions_run\u001b[0m\u001b[1;33m=\u001b[0m\u001b[1;32mNone\u001b[0m\u001b[1;33m,\u001b[0m\u001b[0mdb_as_gpy\u001b[0m\u001b[1;33m=\u001b[0m\u001b[1;32mTrue\u001b[0m\u001b[1;33m)\u001b[0m\u001b[1;33m:\u001b[0m\u001b[1;33m\u001b[0m\u001b[1;33m\u001b[0m\u001b[0m\n\u001b[0;32m    201\u001b[0m                 \u001b[0mself\u001b[0m\u001b[1;33m.\u001b[0m\u001b[0madd_job\u001b[0m\u001b[1;33m(\u001b[0m\u001b[0mrun\u001b[0m\u001b[1;33m=\u001b[0m\u001b[0mrun\u001b[0m\u001b[1;33m,\u001b[0m\u001b[0mrunfile\u001b[0m\u001b[1;33m=\u001b[0m\u001b[0mrunfile\u001b[0m\u001b[1;33m,\u001b[0m\u001b[0moptions\u001b[0m\u001b[1;33m=\u001b[0m\u001b[0moptions_add\u001b[0m\u001b[1;33m)\u001b[0m\u001b[1;33m\u001b[0m\u001b[1;33m\u001b[0m\u001b[0m\n\u001b[1;32m--> 202\u001b[1;33m                 \u001b[0mself\u001b[0m\u001b[1;33m.\u001b[0m\u001b[0mrun_job\u001b[0m\u001b[1;33m(\u001b[0m\u001b[0moptions\u001b[0m\u001b[1;33m=\u001b[0m\u001b[0moptions_run\u001b[0m\u001b[1;33m)\u001b[0m\u001b[1;33m\u001b[0m\u001b[1;33m\u001b[0m\u001b[0m\n\u001b[0m\u001b[0;32m    203\u001b[0m                 \u001b[0mself\u001b[0m\u001b[1;33m.\u001b[0m\u001b[0mout_db\u001b[0m \u001b[1;33m=\u001b[0m \u001b[0mgpyDB\u001b[0m\u001b[1;33m.\u001b[0m\u001b[0mGpyDB\u001b[0m\u001b[1;33m(\u001b[0m\u001b[0mdb\u001b[0m\u001b[1;33m=\u001b[0m\u001b[0mself\u001b[0m\u001b[1;33m.\u001b[0m\u001b[0mjob\u001b[0m\u001b[1;33m.\u001b[0m\u001b[0mout_db\u001b[0m\u001b[1;33m,\u001b[0m\u001b[0mws\u001b[0m\u001b[1;33m=\u001b[0m\u001b[0mself\u001b[0m\u001b[1;33m.\u001b[0m\u001b[0mws\u001b[0m\u001b[1;33m)\u001b[0m \u001b[1;32mif\u001b[0m \u001b[0mdb_as_gpy\u001b[0m \u001b[1;32melse\u001b[0m \u001b[1;32mNone\u001b[0m\u001b[1;33m\u001b[0m\u001b[1;33m\u001b[0m\u001b[0m\n\u001b[0;32m    204\u001b[0m \u001b[1;33m\u001b[0m\u001b[0m\n",
      "\u001b[1;32m~\\Anaconda3\\lib\\site-packages\\gmsPython\\gmsPy\\gmsPy.py\u001b[0m in \u001b[0;36mrun_job\u001b[1;34m(self, options)\u001b[0m\n\u001b[0;32m    211\u001b[0m \u001b[1;33m\u001b[0m\u001b[0m\n\u001b[0;32m    212\u001b[0m         \u001b[1;32mdef\u001b[0m \u001b[0mrun_job\u001b[0m\u001b[1;33m(\u001b[0m\u001b[0mself\u001b[0m\u001b[1;33m,\u001b[0m\u001b[0moptions\u001b[0m\u001b[1;33m=\u001b[0m\u001b[1;32mNone\u001b[0m\u001b[1;33m)\u001b[0m\u001b[1;33m:\u001b[0m\u001b[1;33m\u001b[0m\u001b[1;33m\u001b[0m\u001b[0m\n\u001b[1;32m--> 213\u001b[1;33m                 \u001b[0mself\u001b[0m\u001b[1;33m.\u001b[0m\u001b[0mjob\u001b[0m\u001b[1;33m.\u001b[0m\u001b[0mrun\u001b[0m\u001b[1;33m(\u001b[0m\u001b[0mgams_options\u001b[0m\u001b[1;33m=\u001b[0m\u001b[0mself\u001b[0m\u001b[1;33m.\u001b[0m\u001b[0mopt\u001b[0m\u001b[1;33m,\u001b[0m\u001b[1;33m**\u001b[0m\u001b[0mpyDatabases\u001b[0m\u001b[1;33m.\u001b[0m\u001b[0mnoneInit\u001b[0m\u001b[1;33m(\u001b[0m\u001b[0moptions\u001b[0m\u001b[1;33m,\u001b[0m\u001b[1;33m{\u001b[0m\u001b[1;33m}\u001b[0m\u001b[1;33m)\u001b[0m\u001b[1;33m)\u001b[0m\u001b[1;33m\u001b[0m\u001b[1;33m\u001b[0m\u001b[0m\n\u001b[0m\u001b[0;32m    214\u001b[0m \u001b[1;33m\u001b[0m\u001b[0m\n\u001b[0;32m    215\u001b[0m         \u001b[1;32mdef\u001b[0m \u001b[0maddlocal\u001b[0m\u001b[1;33m(\u001b[0m\u001b[0mself\u001b[0m\u001b[1;33m,\u001b[0m\u001b[0mplaceholder\u001b[0m\u001b[1;33m,\u001b[0m\u001b[0mlocal\u001b[0m\u001b[1;33m)\u001b[0m\u001b[1;33m:\u001b[0m\u001b[1;33m\u001b[0m\u001b[1;33m\u001b[0m\u001b[0m\n",
      "\u001b[1;32m~\\Anaconda3\\lib\\site-packages\\gams\\execution.py\u001b[0m in \u001b[0;36mrun\u001b[1;34m(self, gams_options, checkpoint, output, create_out_db, databases)\u001b[0m\n\u001b[0;32m    905\u001b[0m                 \u001b[1;32mraise\u001b[0m \u001b[0mgams\u001b[0m\u001b[1;33m.\u001b[0m\u001b[0mworkspace\u001b[0m\u001b[1;33m.\u001b[0m\u001b[0mGamsExceptionExecution\u001b[0m\u001b[1;33m(\u001b[0m\u001b[1;34m\"GAMS return code not 0 (\"\u001b[0m \u001b[1;33m+\u001b[0m \u001b[0mstr\u001b[0m\u001b[1;33m(\u001b[0m\u001b[0mexitcode\u001b[0m\u001b[1;33m)\u001b[0m \u001b[1;33m+\u001b[0m \u001b[1;34m\"), set the debug flag of the GamsWorkspace constructor to DebugLevel.KeepFiles or higher or define a working_directory to receive a listing file with more details\"\u001b[0m\u001b[1;33m,\u001b[0m \u001b[0mexitcode\u001b[0m\u001b[1;33m)\u001b[0m\u001b[1;33m\u001b[0m\u001b[1;33m\u001b[0m\u001b[0m\n\u001b[0;32m    906\u001b[0m             \u001b[1;32melse\u001b[0m\u001b[1;33m:\u001b[0m\u001b[1;33m\u001b[0m\u001b[1;33m\u001b[0m\u001b[0m\n\u001b[1;32m--> 907\u001b[1;33m                 \u001b[1;32mraise\u001b[0m \u001b[0mgams\u001b[0m\u001b[1;33m.\u001b[0m\u001b[0mworkspace\u001b[0m\u001b[1;33m.\u001b[0m\u001b[0mGamsExceptionExecution\u001b[0m\u001b[1;33m(\u001b[0m\u001b[1;34m\"GAMS return code not 0 (\"\u001b[0m \u001b[1;33m+\u001b[0m \u001b[0mstr\u001b[0m\u001b[1;33m(\u001b[0m\u001b[0mexitcode\u001b[0m\u001b[1;33m)\u001b[0m \u001b[1;33m+\u001b[0m \u001b[1;34m\"), check \"\u001b[0m \u001b[1;33m+\u001b[0m \u001b[0mself\u001b[0m\u001b[1;33m.\u001b[0m\u001b[0m_workspace\u001b[0m\u001b[1;33m.\u001b[0m\u001b[0m_working_directory\u001b[0m \u001b[1;33m+\u001b[0m \u001b[0mos\u001b[0m\u001b[1;33m.\u001b[0m\u001b[0mpath\u001b[0m\u001b[1;33m.\u001b[0m\u001b[0msep\u001b[0m \u001b[1;33m+\u001b[0m \u001b[0mtmp_opt\u001b[0m\u001b[1;33m.\u001b[0m\u001b[0moutput\u001b[0m \u001b[1;33m+\u001b[0m \u001b[1;34m\" for more details\"\u001b[0m\u001b[1;33m,\u001b[0m \u001b[0mexitcode\u001b[0m\u001b[1;33m)\u001b[0m\u001b[1;33m\u001b[0m\u001b[1;33m\u001b[0m\u001b[0m\n\u001b[0m\u001b[0;32m    908\u001b[0m         \u001b[0mself\u001b[0m\u001b[1;33m.\u001b[0m\u001b[0m_p\u001b[0m \u001b[1;33m=\u001b[0m \u001b[1;32mNone\u001b[0m\u001b[1;33m\u001b[0m\u001b[1;33m\u001b[0m\u001b[0m\n\u001b[0;32m    909\u001b[0m \u001b[1;33m\u001b[0m\u001b[0m\n",
      "\u001b[1;31mGamsExceptionExecution\u001b[0m: GAMS return code not 0 (3), check C:\\Users\\sxj477\\Documents\\GitHub\\CGE_Generator\\work_folder\\_gams_py_gjo3.lst for more details"
     ]
    }
   ],
   "source": [
    "for s in db_IO.get('s_p')[0:1]:\n",
    "# for s in db_IO.get('s_p'):\n",
    "    sector = pd.Index([s], name = 's')\n",
    "    # subset data:\n",
    "    nest = adj.rc_pd(db_IO['nestProduction'], sector)\n",
    "    db_s = db_IO.copy()\n",
    "    aggregateDB.subset_db(db_s, sector)\n",
    "    tree = nestingTree.tree(name = 'CESnest', tree = nest.to_list()) # individual tree\n",
    "    Tree = nestingTree.aggTree(name = 'stdProduction', trees = {tree.name: tree})(namespace = {n+'_input': n for n in db_s.get('n')})\n",
    "    P = mProduction.Production(tree=Tree, glob = glob) # initialize module from nesting tree and global settings\n",
    "    aggregateDB.subset_db(db_s, Tree.get('n')) # goes through all symbols in db_IO and only keep the elements that are in the set 'n' from Tree.db\n",
    "    robust.robust_merge_dbs(P.s.db, db_s, priority = 'second') # Merge IO data into the database of the module; if a symbol is in both, prioritize records from the second database\n",
    "    v = valueShares.valueShares(Tree, db_s)\n",
    "    v.compile() # set up model structure, and make sure to initialize symbols if they are not yet defined in the database \n",
    "    v.write(); # write GAMS code used for the model\n",
    "    m = v.run(exportTo = d['work'],ws=ws) # solve the \"model\".\n",
    "    m.out_db.get('vD').index = m.out_db.get('vD').index.set_levels(m.out_db.get('vD').index.levels[1].astype(str), level = 's')\n",
    "    m.out_db.get('mu').index = m.out_db.get('mu').index.set_levels(m.out_db.get('mu').index.levels[1].astype(str), level = 's')\n",
    "    gpyDB.GpyDBs_AOM_Second(P.s.db, gpy(adj.rc_pd(m.out_db.get('vD'), P.get('int')).rename('qD'))) # set intermediate goods levels\n",
    "    gpyDB.GpyDBs_AOM_Second(P.s.db, gpy(m.out_db.get('mu').xs(P.get('t0')[0]).rename('mu'))) # set intermediate goods levels\n",
    "    P.s.db['tauS'] = adjMultiIndex.applyMult(db_s.get('TotalTax'), P.get('output')) / P.get('qS')\n",
    "    P.compile(initDB=True) # set up model structure, and make sure to initialize symbols if they are not yet defined in the database (initDB = True)\n",
    "    P.s.setstate('C') # set to calibration state\n",
    "    P.write(); # write GAMS code\n",
    "    mStatic = P.run(exportTo = d['work'],ws=ws,**{'cns': 'CONOPT4'}) # solve the model using CONOPT4.\n",
    "    P = mProduction.Production_ExoMu(tree = Tree, glob = glob)\n",
    "    robust.robust_merge_dbs(P.s.db, mStatic.out_db.getTypes(['variable','scalar_variable']), priority = 'second')\n",
    "    aggregateDB.readSets(P.s.db) # this makes sure that all necessary sets are defined in the database\n",
    "    P.addDurables(dur = db_IO0.get('dur_p'), dur2inv = db_IO0.get('dur2inv'), f = 'sqrAdjCosts')\n",
    "    P.initDurables() # adjust to steady state-like model\n",
    "    P.compile(initDB=True) # set up model structure\n",
    "    P.write(); # write GAMS code\n",
    "    mCalib, cp = P.sneakyCalib(db_IO0, exportTo = d['work'],ws=ws, loop_kwargs = {'n': 10}, **{'cns': 'CONOPT4'})"
   ]
  }
 ],
 "metadata": {
  "kernelspec": {
   "display_name": "Python 3 (ipykernel)",
   "language": "python",
   "name": "python3"
  },
  "language_info": {
   "codemirror_mode": {
    "name": "ipython",
    "version": 3
   },
   "file_extension": ".py",
   "mimetype": "text/x-python",
   "name": "python",
   "nbconvert_exporter": "python",
   "pygments_lexer": "ipython3",
   "version": "3.9.7"
  }
 },
 "nbformat": 4,
 "nbformat_minor": 5
}
