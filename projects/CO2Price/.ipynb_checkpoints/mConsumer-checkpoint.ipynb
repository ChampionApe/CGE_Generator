{
 "cells": [
  {
   "cell_type": "code",
   "execution_count": 1,
   "id": "0cca71d0-8955-4f49-9fdd-9a5e7f591eaf",
   "metadata": {},
   "outputs": [
    {
     "name": "stdout",
     "output_type": "stream",
     "text": [
      "The file _gams_py_gdb0.gdx is still active and was not deleted.\n",
      "The file _gams_py_gdb1.gdx is still active and was not deleted.\n",
      "The file _gams_py_gdb2.gdx is still active and was not deleted.\n",
      "The file _gams_py_gdb3.gdx is still active and was not deleted.\n",
      "The file _gams_py_gdb4.gdx is still active and was not deleted.\n"
     ]
    }
   ],
   "source": [
    "clean_up = True\n",
    "%run stdPackages.ipynb\n",
    "ws = gams.GamsWorkspace(working_directory=d['work']) # specify where you want to run the GAMS models from (here the repository referred to in d['work'])"
   ]
  },
  {
   "cell_type": "markdown",
   "id": "9be6c37e-f771-49c2-b9b3-f31d4bc4f2d5",
   "metadata": {},
   "source": [
    "# Household"
   ]
  },
  {
   "cell_type": "markdown",
   "id": "1dd09355-8813-4455-84d7-32565160780e",
   "metadata": {},
   "source": [
    "## 1. Data/settings"
   ]
  },
  {
   "cell_type": "markdown",
   "id": "04119749-db09-478c-9bba-e658126f961c",
   "metadata": {},
   "source": [
    "Load data, settings:"
   ]
  },
  {
   "cell_type": "code",
   "execution_count": 2,
   "id": "492f4a7b-44d1-4502-ad99-0d65ad13096b",
   "metadata": {},
   "outputs": [],
   "source": [
    "t = 2018\n",
    "name = 'm'\n",
    "module = name+'_HH' # name of module\n",
    "db_IO = GpyDB(pickle_path = os.path.join(d['data'], f'{name}_{t}')) # load IO database named IO_name\n",
    "with open(f\"{d['data']}\\\\glob_{t}\",\"rb\") as file: # load global settings anmed glob_name\n",
    "    glob=pickle.load(file)"
   ]
  },
  {
   "cell_type": "markdown",
   "id": "d848ded3-7129-4dc7-85c6-edafce085ac5",
   "metadata": {},
   "source": [
    "## 2. Initial values"
   ]
  },
  {
   "cell_type": "markdown",
   "id": "ddb24b13-863a-44a7-9894-9fbc81ead550",
   "metadata": {},
   "source": [
    "Set up nesting tree using the nesting structure:"
   ]
  },
  {
   "cell_type": "code",
   "execution_count": 3,
   "id": "b3964480-7c2a-4068-af69-e27d2cbc6c5b",
   "metadata": {},
   "outputs": [],
   "source": [
    "tree = nestingTree.tree(name = f'{module}_ces', tree = db_IO.get('nestHH').to_list()) # individual tree\n",
    "Tree = nestingTree.aggTree(name = module, trees = {tree.name: tree})(namespace = {str(n)+'_input': n for n in db_IO.get('n')})"
   ]
  },
  {
   "cell_type": "markdown",
   "id": "b8d297e5-e927-4cdc-9e73-c7da6052b862",
   "metadata": {},
   "source": [
    "*This should be adjusted when we get regulation data. For now:*\n",
    "* VAT data is included in the IO data, so this part is ok.\n",
    "* We set the labor tax rate to 0.47 (roughly the average for 2018 data). **This should be adjusted**.\n",
    "* We set the level of lump sum transfers at 40\\% of labor income (roughly the case for 2018 data). **This should be adjusted.**\n",
    "* We adjust the TotalTax from the households as well:"
   ]
  },
  {
   "cell_type": "code",
   "execution_count": 4,
   "id": "e6c8d174-0afd-4d9e-98ce-6f555526edd7",
   "metadata": {},
   "outputs": [],
   "source": [
    "transferRate = 0.4004\n",
    "labortaxRate = 0.478"
   ]
  },
  {
   "cell_type": "code",
   "execution_count": 5,
   "id": "1b065865-5b11-4f46-b211-efe9d3d0f6bd",
   "metadata": {},
   "outputs": [],
   "source": [
    "gpyDB.add_or_merge_vals(db_IO, pd.Series(labortaxRate, index = pd.MultiIndex.from_tuples([('HH','L')], names = ['s','n'])), 'tauS') # add labor tax\n",
    "gpyDB.add_or_merge_vals(db_IO, pd.Series(db_IO.get('vTax').xs(('HH','VAT'))/(db_IO.get('qD').xs('HH').sum()), index = adj.rc_pd(db_IO.get('qD'), Tree.get('s')).index, name = 'tauD'), 'tauD') # add VAT on the demand side\n",
    "gpyDB.add_or_merge_vals(db_IO, - db_IO.get('qS').xs('L',level='n') * transferRate, 'tauLump')"
   ]
  },
  {
   "cell_type": "markdown",
   "id": "22c04451-4f36-411f-8936-4eab955bc6be",
   "metadata": {},
   "source": [
    "Adjust the ```TotalTax``` from the household sector based on this new way:"
   ]
  },
  {
   "cell_type": "code",
   "execution_count": 6,
   "id": "0c3b568c-758a-42a3-bad1-2463f2878e98",
   "metadata": {},
   "outputs": [],
   "source": [
    "adhocTaxes = (labortaxRate - transferRate)*db_IO.get('qS').xs('L',level='n')\n",
    "gpyDB.add_or_merge_vals(db_IO, adj.rc_pd(db_IO.get('vTax'), db_IO.get('s_HH')).xs('VAT',level='taxTypes')+adhocTaxes, 'TotalTax')"
   ]
  },
  {
   "cell_type": "markdown",
   "id": "9f47b652-12a0-466f-9e7d-8a73cbf9f234",
   "metadata": {},
   "source": [
    "Export adjusted IO data again:"
   ]
  },
  {
   "cell_type": "code",
   "execution_count": 7,
   "id": "5e1dfe4e-f04c-4d37-9d06-cf57b08eab6b",
   "metadata": {},
   "outputs": [],
   "source": [
    "db_IO.export(repo=d['data'])"
   ]
  },
  {
   "cell_type": "markdown",
   "id": "86dc95a9-511b-4561-900b-1e2b9681a8f1",
   "metadata": {},
   "source": [
    "Add time index to the IO data:"
   ]
  },
  {
   "cell_type": "code",
   "execution_count": 8,
   "id": "ec869fb8-cb80-43f5-90f2-0dbab656c04b",
   "metadata": {},
   "outputs": [],
   "source": [
    "def addT(symbol, t):\n",
    "    return adjMultiIndex.bc(symbol, t).reorder_levels(['t']+symbol.index.names if 't' not in symbol.index.names else symbol.index.names)\n",
    "[db_IO.__setitem__(k, addT(db_IO.get(k), glob.db['t'].vals)) for k in db_IO.getTypes(['variable','scalar_variable'])];"
   ]
  },
  {
   "cell_type": "markdown",
   "id": "71f77d4e-ad41-42ae-aab2-54841437c42f",
   "metadata": {},
   "source": [
    "Make a copy for later:"
   ]
  },
  {
   "cell_type": "code",
   "execution_count": 9,
   "id": "f62847fd-8c98-4cfa-909b-d6c52bc76938",
   "metadata": {},
   "outputs": [],
   "source": [
    "db_IO0 = db_IO.copy() # we are going to adjust data along the way; this keeps a copy of the original data"
   ]
  },
  {
   "cell_type": "markdown",
   "id": "ea42a773-394d-4962-9231-203c9123793c",
   "metadata": {},
   "source": [
    "## 3. Run module"
   ]
  },
  {
   "cell_type": "markdown",
   "id": "f52d31bd-0d6a-41e5-b6ea-afe9d5a08876",
   "metadata": {},
   "source": [
    "Initialize production module, without any durables at first:"
   ]
  },
  {
   "cell_type": "code",
   "execution_count": 10,
   "id": "4982e5c5-cbb2-476a-bb52-9cb328f2757c",
   "metadata": {},
   "outputs": [],
   "source": [
    "H = mHouseholds.staticConsumer(tree = Tree, glob = glob, kwargs = {'L2C': db_IO.get('L2C')})\n",
    "aggregateDB.subset_db(db_IO, H.get('s')) # goes through all symbols in db_IO and only keep the elements that are in the set 's' from Tree.db\n",
    "aggregateDB.subset_db(db_IO, H.get('n')) # goes through all symbols in db_IO and only keep the elements that are in the set 'n' from Tree.db\n",
    "# robust.robust_merge_dbs(H.s.db, db_IO, priority = 'second')"
   ]
  },
  {
   "cell_type": "markdown",
   "id": "2e496987-8f82-40aa-b059-e77d0266a9aa",
   "metadata": {},
   "source": [
    "Add value shares:"
   ]
  },
  {
   "cell_type": "markdown",
   "id": "b3fed66c-ec33-442a-b229-b90503b82aed",
   "metadata": {},
   "source": [
    "*Value shares for nesting part:*"
   ]
  },
  {
   "cell_type": "code",
   "execution_count": 11,
   "id": "1da21a18-75f6-4b47-810a-115fb62980ea",
   "metadata": {},
   "outputs": [],
   "source": [
    "v = valueShares.SimpleRamsey(Tree, db_IO.copy())\n",
    "v.compile() # set up model structure, and make sure to initialize symbols if they are not yet defined in the database \n",
    "v.write(); # write GAMS code used for the model\n",
    "m = v.run(exportTo = d['work'],ws=ws) # solve the \"model\"."
   ]
  },
  {
   "cell_type": "markdown",
   "id": "fdeadd8c-2888-4a6d-a348-7da8c95c9105",
   "metadata": {},
   "source": [
    "Use value shares to initialize variables:\n",
    "* Outputs and inputs are provided by IO data.\n",
    "* For intermediate goods, assume a price of 1 (default option in the class, so we don't have to do anything) and set value share = quantity.\n",
    "* Set share parameters to the ones identified by value share system."
   ]
  },
  {
   "cell_type": "code",
   "execution_count": 12,
   "id": "cf2dc71e-1688-48bb-be7c-222d270daf84",
   "metadata": {},
   "outputs": [],
   "source": [
    "gpyDB.GpyDBs_AOM_Second(H.s.db, gpy(adj.rc_pd(m.out_db.get('vD'), H.get('int')).rename('qD'))) # set intermediate goods levels\n",
    "gpyDB.GpyDBs_AOM_Second(H.s.db, gpy(m.out_db.get('mu').xs(H.get('t0')[0]).rename('mu'))) # set share parameters"
   ]
  },
  {
   "cell_type": "markdown",
   "id": "b0d469ee-f905-4c54-99cb-4028fc29a7e8",
   "metadata": {},
   "source": [
    "Add the frisch parameter as a target in the IO database if we want to have an intensive margin labor elasticity in there:"
   ]
  },
  {
   "cell_type": "code",
   "execution_count": 13,
   "id": "eaeb559c-1bf0-4026-b509-638dda6fb2ae",
   "metadata": {},
   "outputs": [],
   "source": [
    "db_IO['frisch'] = pd.Series(0.25, index = H.get('labor'), name = 'frisch')"
   ]
  },
  {
   "cell_type": "markdown",
   "id": "f3c317ba-3299-490a-a781-3dbb4c5fcfc8",
   "metadata": {},
   "source": [
    "Use sneaky calibration method to solve and calibrate:"
   ]
  },
  {
   "cell_type": "code",
   "execution_count": 14,
   "id": "afdc8946-09d4-4817-8de9-2447c1395771",
   "metadata": {},
   "outputs": [],
   "source": [
    "H.compile(initDB=True)\n",
    "H.write();\n",
    "mCalib, cp = H.sneakyCalib(db_IO, ws = ws, loop_kwargs = {'n': 25}, **{'cns': 'CONOPT4'})"
   ]
  },
  {
   "cell_type": "markdown",
   "id": "660d1103-07e5-4314-aa3d-6e190398a80e",
   "metadata": {},
   "source": [
    "### 4. Export "
   ]
  },
  {
   "cell_type": "markdown",
   "id": "f5da80e9-46c2-4306-86c2-e4a22403ab16",
   "metadata": {},
   "source": [
    "*Use data from the calibration step in the main database. The ```sneakyCalib``` method defines some new, auxiliary symbols - these are not used.*"
   ]
  },
  {
   "cell_type": "code",
   "execution_count": 15,
   "id": "85208245-b2e5-48c7-a903-0afcc06c4c2e",
   "metadata": {},
   "outputs": [],
   "source": [
    "[gpyDB.GpyDBs_AOM_Second(H.s.db, mCalib.out_db[k]) for k in H.s.db.symbols];\n",
    "H.s.setstate('B')"
   ]
  },
  {
   "cell_type": "markdown",
   "id": "5e0e1c76-f6ed-4648-b609-c6ccd88a0a7b",
   "metadata": {},
   "source": [
    "Export:"
   ]
  },
  {
   "cell_type": "code",
   "execution_count": 16,
   "id": "1aba6fe2-5b33-4514-9ff6-5a0df23f7058",
   "metadata": {},
   "outputs": [],
   "source": [
    "with open(os.path.join(d['data'], H.name), \"wb\") as file:\n",
    "    pickle.dump(H,file)"
   ]
  }
 ],
 "metadata": {
  "kernelspec": {
   "display_name": "Python 3 (ipykernel)",
   "language": "python",
   "name": "python3"
  },
  "language_info": {
   "codemirror_mode": {
    "name": "ipython",
    "version": 3
   },
   "file_extension": ".py",
   "mimetype": "text/x-python",
   "name": "python",
   "nbconvert_exporter": "python",
   "pygments_lexer": "ipython3",
   "version": "3.9.7"
  }
 },
 "nbformat": 4,
 "nbformat_minor": 5
}
