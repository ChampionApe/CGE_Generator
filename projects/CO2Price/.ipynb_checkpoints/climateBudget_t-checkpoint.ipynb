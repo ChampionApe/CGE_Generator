{
 "cells": [
  {
   "cell_type": "code",
   "execution_count": 1,
   "id": "2bb6b23c-4fd1-4816-b465-8b315eebaf81",
   "metadata": {},
   "outputs": [],
   "source": [
    "import warnings\n",
    "warnings.simplefilter(action='ignore', category=FutureWarning)"
   ]
  },
  {
   "cell_type": "code",
   "execution_count": 2,
   "id": "09770326-c67d-4612-ad99-85398ffbb2a7",
   "metadata": {},
   "outputs": [],
   "source": [
    "try:\n",
    "    t = t\n",
    "except NameError:\n",
    "    clean_up = True\n",
    "    %run StdPackages.ipynb\n",
    "    name, t = 'uniform', 1990\n",
    "    ws = gams.GamsWorkspace(working_directory=d['work']) # specify where you want to run the GAMS models from (here the repository referred to in d['work'])\n",
    "    ns = [22, 30, 'T']\n",
    "    # what type of settings do we use to solve the various models:\n",
    "    kwargs_SY = {'name': 'SY', 'loop': 'l_SY', 'n': 10}\n",
    "    kwargs_IIa= {'name': 'IIa', 'loop': 'l_IIa', 'n': 10}\n",
    "    kwargs_IIb= {'name': 'IIb', 'loop': 'l_IIb', 'n': 3}\n",
    "    kwargs_IIIa = {ns[0]: {'name': f'IIIa_{ns[0]}', 'loop': f'l_IIIa_{ns[0]}', 'n': 10}}\n",
    "    [kwargs_IIIa.__setitem__(n, {'name': f'IIIa_{n}', 'loop': f'l_IIIa_{n}', 'n': 3}) for n in ns[1:]]\n",
    "    kwargs_IIIb = {ns[0]: {'name': f'IIIb_{ns[0]}', 'loop': f'l_IIIb_{ns[0]}', 'n': 10}}\n",
    "    [kwargs_IIIb.__setitem__(n, {'name': f'IIIb_{n}', 'loop': f'l_IIIb_{n}', 'n': 3}) for n in ns[1:]]\n",
    "    kwargs_IIIc = {ns[0]: {'name': f'IIIc_{ns[0]}', 'loop': f'l_IIIc_{ns[0]}', 'n': 10}}\n",
    "    [kwargs_IIIc.__setitem__(n, {'name': f'IIIc_{n}', 'loop': f'l_IIIc_{n}', 'n': 3}) for n in ns[1:]]\n",
    "    \n",
    "with open(f\"{d['processedData']}\\\\glob_{t}\",\"rb\") as file: # load global settings anmed glob_name\n",
    "    glob=pickle.load(file)\n",
    "db_IO = GpyDB(pickle_path = os.path.join(d['processedData'], f'{name}_{t}')) # load IO database named IO_name\n",
    "addTimeToDb(db_IO, glob.db['t'].vals, exceptions = ['sigma'])\n",
    "with open(f\"{d['modules']}\\\\{name}_GE_{t}\",\"rb\") as file:\n",
    "    GE = pickle.load(file)\n",
    "GE.s.db['softConstr'] = 0.005"
   ]
  },
  {
   "cell_type": "markdown",
   "id": "2cd88ce4-b39b-4afa-9621-b80abbf006dc",
   "metadata": {},
   "source": [
    "Proceed by:\n",
    "1. Sneak up on the solution to the uniform CO2 tax.\n",
    "2. Solve for the \"single year target\" (SY) approach.\n",
    "3. Solve for the case with \"continued policy\", but without elimination of overshoot.\n",
    "4. Solve for the case with elimination in the entire transitory phase."
   ]
  },
  {
   "cell_type": "code",
   "execution_count": 3,
   "id": "9a628a79-3780-4210-800a-48b9a25deab9",
   "metadata": {},
   "outputs": [],
   "source": [
    "GE.s.db['qCO2Target'] = adj.rc_pd(GE.get('qCO2agg'), db_IO.get('MTarget_SY'))\n",
    "mEmissions = GE.m[f'{name}_{t}_emissions']\n",
    "mEmissions.readTargetSubsets()"
   ]
  },
  {
   "cell_type": "markdown",
   "id": "92f98de6-eb4c-4124-9134-3464d746eec0",
   "metadata": {},
   "source": [
    "*1. Move ```tauDist``` to equal weights (uniform CO2 tax):*"
   ]
  },
  {
   "cell_type": "code",
   "execution_count": 4,
   "id": "b11e4442-0991-49b9-a6de-ec5ffc0b43c0",
   "metadata": {},
   "outputs": [],
   "source": [
    "dbUniform = GpyDB(**{'name': 'taudist'})\n",
    "dbUniform['tauDist'] = pd.Series(1, index = GE.get('tauDist')[GE.get('tauDist')!=0].index, name = 'tauDist')\n",
    "m_uniform, cp_uniform = GE.sneakySolve(dbUniform, ws = ws, loop_kwargs = {'n': 10}, **{'cns': 'CONOPT4'})"
   ]
  },
  {
   "cell_type": "markdown",
   "id": "455ea378-6d8c-419b-afc4-8fcbc553a7a3",
   "metadata": {},
   "source": [
    "*2. Solve for the singly-year approach:*"
   ]
  },
  {
   "cell_type": "code",
   "execution_count": 5,
   "id": "2601f91b-c05c-4d0f-bb2b-d0f07e04a2d7",
   "metadata": {},
   "outputs": [],
   "source": [
    "GE.s.setstate('Mbinding')\n",
    "GE.s.states['Mbinding']['text'] = {'Run': GE.s.writeSolveState('Mbinding')}\n",
    "dbSY = GpyDB(**{'name': 'SY'})\n",
    "dbSY['qCO2Target'] = db_IO.get('MTarget_SY')\n",
    "m_sy, cp_sy = GE.sneakySolve(dbSY, ws = ws, options_add = {'checkpoint': cp_uniform}, loop_kwargs = kwargs_SY, **{'cns':'CONOPT4'})"
   ]
  },
  {
   "cell_type": "markdown",
   "id": "f4ba15a0-0048-4386-9a4d-aad0c4308454",
   "metadata": {},
   "source": [
    "*3. Use the solution from the single-year scenario and restart with the new targets:*\n",
    "* Update solution\n",
    "* Start the target at the solution path from earlier.\n",
    "* Update relevant dummies (what subset of years include targets now).\n",
    "* Rewrite model-code to start execution over.\n",
    "* Create \"target database\" with the real targets that we gradually get close to. "
   ]
  },
  {
   "cell_type": "markdown",
   "id": "dec61783-8cc5-4adf-8b1f-c7aacbce5381",
   "metadata": {},
   "source": [
    "*Drop the current year's target?*"
   ]
  },
  {
   "cell_type": "code",
   "execution_count": 13,
   "id": "6a01871b-05df-493a-a3c3-bb42a809e6fb",
   "metadata": {},
   "outputs": [],
   "source": [
    "db_IO['MTarget_2A'] = db_IO.get('MTarget_2A').loc[t+1:]\n",
    "db_IO['MTarget_2B'] = db_IO.get('MTarget_2B').loc[t+1:]"
   ]
  },
  {
   "cell_type": "markdown",
   "id": "5eb6de55-9606-43f4-995f-ad1c4a015bc8",
   "metadata": {},
   "source": [
    "*Update data and subsets - define target database:*"
   ]
  },
  {
   "cell_type": "code",
   "execution_count": 14,
   "id": "520815ad-30c8-4345-b276-fc150bd1a6a9",
   "metadata": {},
   "outputs": [],
   "source": [
    "robust.robust_merge_dbs(GE.s.db, m_sy.out_db.getTypes(['variable','scalar_variable']), priority = 'second') # update solution\n",
    "GE.s.db['qCO2Target'] = adj.rc_pd(GE.get('qCO2agg'), db_IO.get('MTarget_2A')) # start targets from solution\n",
    "mEmissions.readTargetSubsets() # update the relevant dummies\n",
    "GE.write();\n",
    "db_IIa = GpyDB(**{'name': 'IIa'})\n",
    "db_IIa['qCO2Target'] = db_IO.get('MTarget_2A')"
   ]
  },
  {
   "cell_type": "markdown",
   "id": "b98e14de-cc1c-48d7-a73b-c1da1ba49abd",
   "metadata": {},
   "source": [
    "*Define function that tries to solve with binding constraints, and then relax the constraint if the shadow values are negative:*"
   ]
  },
  {
   "cell_type": "code",
   "execution_count": 15,
   "id": "8d86a34a-52dc-49de-8af5-f6ade44580f0",
   "metadata": {},
   "outputs": [],
   "source": [
    "def solveTrySoft(dbTarget, loop_kwargs, checkpoint = None, checkpointSoft = None, checkpointSoftText = None):\n",
    "    checkpoint = {'checkpoint': checkpoint} if checkpoint else None\n",
    "    m, cp = GE.sneakySolve(dbTarget, ws = ws, options_add = checkpoint, loop_kwargs = loop_kwargs, **{'cns':'CONOPT4'})\n",
    "    if m.out_db.get('tauCO2agg').xs(t)<0:\n",
    "        GE.s.setstate('MsoftConstr')\n",
    "        if checkpointSoft:\n",
    "            GE.s['text'] = {'Run': f\"\"\"solve {GE.s['name']} using CNS;\"\"\"} if checkpointSoftText is None else {'Run': checkpointSoftText}\n",
    "            m, cp_ = GE.sneakySolve(dbTarget, ws = ws, options_add = {'checkpoint': checkpointSoft}, \n",
    "                                    loop_kwargs = {'name': loop_kwargs['name']+'_soft', 'n': 10, 'loop': loop_kwargs['loop']+'_soft'}, **{'cns':'CONOPT4'})\n",
    "        else:\n",
    "            GE.write();\n",
    "            m, cp_ = GE.sneakySolve(dbTarget, ws = ws, loop_kwargs = {'name': loop_kwargs['name']+'_soft', 'n': 10, 'loop': loop_kwargs['loop']+'_soft'}, **{'cns':'CONOPT4'})\n",
    "    else:\n",
    "        cp_ = None\n",
    "    return m, cp, cp_"
   ]
  },
  {
   "cell_type": "markdown",
   "id": "235d4aef-973a-42c8-afed-a356295cdadd",
   "metadata": {},
   "source": [
    "*For IIa:*"
   ]
  },
  {
   "cell_type": "code",
   "execution_count": 16,
   "id": "7b5fc309-44eb-45ec-ae18-2168ad39e01f",
   "metadata": {},
   "outputs": [],
   "source": [
    "m_IIa, cp_IIa, cp_IIa_soft = solveTrySoft(db_IIa, kwargs_IIa)"
   ]
  },
  {
   "cell_type": "markdown",
   "id": "4ec89301-d422-4ba1-8ef3-5e5154dde1dd",
   "metadata": {},
   "source": [
    "*For IIb: Start solution from checkpoint IIa*"
   ]
  },
  {
   "cell_type": "code",
   "execution_count": 17,
   "id": "839eb38d-8cb3-4362-98b7-ef3dbc930d88",
   "metadata": {},
   "outputs": [],
   "source": [
    "GE.s.setstate('Mbinding') # reset state to Mbinding\n",
    "db_IIb = GpyDB(**{'name': 'IIb'})\n",
    "db_IIb['qCO2Target'] = db_IO.get('MTarget_2B')\n",
    "GE.s['text'] = {'Run': f\"\"\"solve {GE.s['name']} using CNS;\"\"\"}\n",
    "m_IIb, cp_IIb, cp_IIb_soft = solveTrySoft(db_IIb, kwargs_IIb, checkpoint = cp_IIa)"
   ]
  },
  {
   "cell_type": "markdown",
   "id": "3eb1fc75-0d03-4930-a15d-96890776f478",
   "metadata": {},
   "source": [
    "*Type III - target databases:*"
   ]
  },
  {
   "cell_type": "code",
   "execution_count": 18,
   "id": "76b049b1-07dc-4da8-b68d-3d5c781d0234",
   "metadata": {},
   "outputs": [],
   "source": [
    "def IIItarget(x, n):\n",
    "    db = GpyDB(**{'name': f'III{x}_{n}'})\n",
    "    db['qCO2Target'] = db_IO.get(f'MTarget_3{x}_n{n}')\n",
    "    return db\n",
    "dbs_IIIa = {n: IIItarget('A', n) for n in ns}\n",
    "dbs_IIIb = {n: IIItarget('B', n) for n in ns}\n",
    "dbs_IIIc = {n: IIItarget('C', n) for n in ns}"
   ]
  },
  {
   "cell_type": "markdown",
   "id": "d13f64ca-e140-4da1-8506-86f047be636f",
   "metadata": {},
   "source": [
    "*Run IIIa types and store:*"
   ]
  },
  {
   "cell_type": "code",
   "execution_count": 19,
   "id": "58980f46-c99a-428f-a714-54b330e649d9",
   "metadata": {},
   "outputs": [],
   "source": [
    "checkpointSoftText = f\"tTarget['{t}'] = no;\\n\"+GE.s.writeSolveState('MsoftConstr')\n",
    "GE.s.setstate('Mbinding') # reset state to Mbinding\n",
    "GE.s['text'] = {'Run': f\"tTarget['{t}'] = no;\\n\"+GE.s['text']['Run']}\n",
    "ms_IIIa = {n: None for n in ns}\n",
    "cps_IIIa = {n: None for n in ns}\n",
    "cps_IIIa_soft = {n: None for n in ns}\n",
    "ms_IIIa[ns[0]], cps_IIIa[ns[0]], cps_IIIa_soft[ns[0]] = solveTrySoft(dbs_IIIa[ns[0]], \n",
    "                                                                     kwargs_IIIa[ns[0]], \n",
    "                                                                     checkpoint = cp_IIa, \n",
    "                                                                     checkpointSoft = cp_IIa, \n",
    "                                                                     checkpointSoftText = checkpointSoftText)\n",
    "for n in ns[1:]:\n",
    "    GE.s.setstate('Mbinding') # reset state to Mbinding\n",
    "    ms_IIIa[n], cps_IIIa[n], cps_IIIa_soft[n] = solveTrySoft(dbs_IIIa[n], \n",
    "                                                             kwargs_IIIa[n], \n",
    "                                                             checkpoint = cps_IIIa[ns[ns.index(n)-1]],\n",
    "                                                             checkpointSoft = cp_IIa, \n",
    "                                                             checkpointSoftText = checkpointSoftText)"
   ]
  },
  {
   "cell_type": "markdown",
   "id": "65d0522b-718c-4e33-b83b-eb8dee5ff732",
   "metadata": {},
   "source": [
    "*Run IIIb types and store:*"
   ]
  },
  {
   "cell_type": "code",
   "execution_count": 12,
   "id": "c0e44c30-9362-4691-a2a6-97179599ecd7",
   "metadata": {},
   "outputs": [],
   "source": [
    "GE.s.setstate('Mbinding') # reset state to Mbinding\n",
    "ms_IIIb = {n: None for n in ns}\n",
    "cps_IIIb = {n: None for n in ns}\n",
    "cps_IIIb_soft = {n: None for n in ns}\n",
    "ms_IIIb[ns[0]], cps_IIIb[ns[0]], cps_IIIb_soft[ns[0]] = solveTrySoft(dbs_IIIb[ns[0]], \n",
    "                                                                     kwargs_IIIb[ns[0]], \n",
    "                                                                     checkpoint = cp_IIb, \n",
    "                                                                     checkpointSoft = cp_IIb, \n",
    "                                                                     checkpointSoftText = checkpointSoftText)\n",
    "for n in ns[1:]:\n",
    "    GE.s.setstate('Mbinding') # reset state to Mbinding\n",
    "    ms_IIIb[n], cps_IIIb[n], cps_IIIb_soft[n] = solveTrySoft(dbs_IIIb[n], \n",
    "                                                             kwargs_IIIb[n], \n",
    "                                                             checkpoint = cps_IIIb[ns[ns.index(n)-1]],\n",
    "                                                             checkpointSoft = cp_IIb, \n",
    "                                                             checkpointSoftText = checkpointSoftText)"
   ]
  },
  {
   "cell_type": "markdown",
   "id": "044b41c7-cc3e-498c-95a5-9d09cd0bf517",
   "metadata": {},
   "source": [
    "*Run IIIc types and store:*"
   ]
  },
  {
   "cell_type": "code",
   "execution_count": 13,
   "id": "327c6322-b3e4-4ded-9e76-e569141caa55",
   "metadata": {},
   "outputs": [],
   "source": [
    "GE.s.setstate('Mbinding') # reset state to Mbinding\n",
    "ms_IIIc = {n: None for n in ns}\n",
    "cps_IIIc = {n: None for n in ns}\n",
    "cps_IIIc_soft = {n: None for n in ns}\n",
    "ms_IIIc[ns[0]], cps_IIIc[ns[0]], cps_IIIc_soft[ns[0]] = solveTrySoft(dbs_IIIc[ns[0]], \n",
    "                                                                     kwargs_IIIc[ns[0]], \n",
    "                                                                     checkpoint = cp_IIb, \n",
    "                                                                     checkpointSoft = cp_IIb, \n",
    "                                                                     checkpointSoftText = checkpointSoftText)\n",
    "for n in ns[1:]:\n",
    "    GE.s.setstate('Mbinding') # reset state to Mbinding\n",
    "    ms_IIIc[n], cps_IIIc[n], cps_IIIc_soft[n] = solveTrySoft(dbs_IIIc[n], \n",
    "                                                             kwargs_IIIc[n], \n",
    "                                                             checkpoint = cps_IIIc[ns[ns.index(n)-1]],\n",
    "                                                             checkpointSoft = cp_IIb, \n",
    "                                                             checkpointSoftText = checkpointSoftText)"
   ]
  },
  {
   "cell_type": "markdown",
   "id": "91f392e7-ff72-441d-a9b6-4e9ae0214342",
   "metadata": {},
   "source": [
    "Export:"
   ]
  },
  {
   "cell_type": "code",
   "execution_count": 14,
   "id": "2de1191e-0b78-4a0d-9fa2-a8d02a76f26c",
   "metadata": {},
   "outputs": [],
   "source": [
    "exportTo = os.path.join(d['curr'], 'climateBudgets')\n",
    "m_uniform.out_db.export(repo = exportTo, name = f'{name}_{t}_uniform')\n",
    "m_sy.out_db.export(repo = exportTo, name = f'{name}_{t}_SY')\n",
    "m_IIa.out_db.export(repo = exportTo, name = f'{name}_{t}_IIa') \n",
    "m_IIb.out_db.export(repo = exportTo, name = f'{name}_{t}_IIb') \n",
    "[m.out_db.export(repo = exportTo, name = f'{name}_{t}_IIIa{n}') for n,m in ms_IIIa.items()];\n",
    "[m.out_db.export(repo = exportTo, name = f'{name}_{t}_IIIb{n}') for n,m in ms_IIIb.items()];\n",
    "[m.out_db.export(repo = exportTo, name = f'{name}_{t}_IIIc{n}') for n,m in ms_IIIc.items()];"
   ]
  }
 ],
 "metadata": {
  "kernelspec": {
   "display_name": "Python 3 (ipykernel)",
   "language": "python",
   "name": "python3"
  },
  "language_info": {
   "codemirror_mode": {
    "name": "ipython",
    "version": 3
   },
   "file_extension": ".py",
   "mimetype": "text/x-python",
   "name": "python",
   "nbconvert_exporter": "python",
   "pygments_lexer": "ipython3",
   "version": "3.9.7"
  }
 },
 "nbformat": 4,
 "nbformat_minor": 5
}
