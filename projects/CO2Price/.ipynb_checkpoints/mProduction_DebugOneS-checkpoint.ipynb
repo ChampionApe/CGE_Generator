{
 "cells": [
  {
   "cell_type": "code",
   "execution_count": 1,
   "id": "2af5b6d8-25f7-4134-b2e0-0687b693ad7f",
   "metadata": {},
   "outputs": [],
   "source": [
    "clean_up = True\n",
    "%run stdPackages.ipynb\n",
    "ws = gams.GamsWorkspace(working_directory=d['work']) # specify where you want to run the GAMS models from (here the repository referred to in d['work'])"
   ]
  },
  {
   "cell_type": "markdown",
   "id": "9ad9a3cd-1baf-4188-a2b3-cd279f176da2",
   "metadata": {},
   "source": [
    "## 1. Data/settings"
   ]
  },
  {
   "cell_type": "markdown",
   "id": "dfbd5930-9b7b-469c-91ab-14708fc056b7",
   "metadata": {},
   "source": [
    "Load data, settings:"
   ]
  },
  {
   "cell_type": "code",
   "execution_count": 2,
   "id": "cc548d57-285a-44ce-990d-3bc4567c057c",
   "metadata": {},
   "outputs": [],
   "source": [
    "t = 2018\n",
    "name = 'm'\n",
    "module = name+'_P' # name of module\n",
    "db_IO = GpyDB(pickle_path = os.path.join(d['data'], f'{name}_{t}')) # load IO database named IO_name\n",
    "with open(f\"{d['data']}\\\\glob_{t}\",\"rb\") as file: # load global settings anmed glob_name\n",
    "    glob=pickle.load(file)"
   ]
  },
  {
   "cell_type": "markdown",
   "id": "d8426425-c586-4fee-b1b6-9363a747e69c",
   "metadata": {},
   "source": [
    "Add time index to the IO data:"
   ]
  },
  {
   "cell_type": "code",
   "execution_count": 3,
   "id": "84e1d69e-0d15-48a6-ab1c-6e6fe88ba81f",
   "metadata": {},
   "outputs": [],
   "source": [
    "aggregateDB.subset_db(db_IO, db_IO.get('s_p')[0:1])"
   ]
  },
  {
   "cell_type": "code",
   "execution_count": 4,
   "id": "787ef2d2-3999-4b59-83f4-1a5ec3d9ee69",
   "metadata": {},
   "outputs": [],
   "source": [
    "def addT(symbol, t):\n",
    "    return adjMultiIndex.bc(symbol, t).reorder_levels(['t']+symbol.index.names if 't' not in symbol.index.names else symbol.index.names)\n",
    "[db_IO.__setitem__(k, addT(db_IO.get(k), glob.db['t'].vals)) for k in db_IO.getTypes(['variable','scalar_variable'])];"
   ]
  },
  {
   "cell_type": "markdown",
   "id": "424cc8f7-17da-4175-84b7-b76a4cba64e1",
   "metadata": {},
   "source": [
    "Make a copy for later:"
   ]
  },
  {
   "cell_type": "code",
   "execution_count": 5,
   "id": "e0c934fe-a3d9-40e6-b29b-304eee1eb867",
   "metadata": {},
   "outputs": [],
   "source": [
    "db_IO0 = db_IO.copy() # we are going to adjust data along the way; this keeps a copy of the original data\n",
    "aggregateDB.subset_db(db_IO0, glob.db['t0'].vals) # Only keep IO data on baseline year"
   ]
  },
  {
   "cell_type": "markdown",
   "id": "ee9dfb37-b59c-4d38-ab72-8d9aded1578b",
   "metadata": {},
   "source": [
    "Add durable prices (for now, to solve static calibration):"
   ]
  },
  {
   "cell_type": "code",
   "execution_count": 6,
   "id": "97e49e60-c365-49c1-bc62-113fc0cdb407",
   "metadata": {},
   "outputs": [],
   "source": [
    "db_IO['pD'] = db_IO.get('pD_dur').combine_first(db_IO.get('pD'))\n",
    "db_IO['p'] = db_IO.get('pD_dur').groupby(['t','n']).mean().combine_first(db_IO.get('p'))"
   ]
  },
  {
   "cell_type": "markdown",
   "id": "00e8a613-7722-40fb-a498-392d7f6e5d1c",
   "metadata": {},
   "source": [
    "## 2. Initial values"
   ]
  },
  {
   "cell_type": "markdown",
   "id": "35b81a48-bff4-47a3-b967-8d3f7e6ede14",
   "metadata": {},
   "source": [
    "Set up nesting tree using the nesting structure:"
   ]
  },
  {
   "cell_type": "code",
   "execution_count": 7,
   "id": "f2bd8f9f-dd23-4370-a440-af35b749df13",
   "metadata": {},
   "outputs": [],
   "source": [
    "tree = nestingTree.tree(name = f'{module}_ces', tree = db_IO.get('nestProduction').to_list()) # individual tree\n",
    "Tree = nestingTree.aggTree(name = module, trees = {tree.name: tree})(namespace = {str(n)+'_input': n for n in db_IO.get('n')})"
   ]
  },
  {
   "cell_type": "markdown",
   "id": "0bfe03cb-5ab8-4efd-a5d9-a480630ac59b",
   "metadata": {},
   "source": [
    "Initialize production module, without any durables at first:"
   ]
  },
  {
   "cell_type": "code",
   "execution_count": 8,
   "id": "95e4ab35-a312-4e86-acf6-85b95b21d8de",
   "metadata": {},
   "outputs": [],
   "source": [
    "P = mProduction.Production(tree=Tree, glob = glob) # initialize module from nesting tree and global settings\n",
    "aggregateDB.subset_db(db_IO, Tree.db.get('s')) # goes through all symbols in db_IO and only keep the elements that are in the set 's' from Tree.db\n",
    "aggregateDB.subset_db(db_IO, Tree.get('n')) # goes through all symbols in db_IO and only keep the elements that are in the set 'n' from Tree.db\n",
    "robust.robust_merge_dbs(P.s.db, db_IO, priority = 'second') # Merge IO data into the database of the module; if a symbol is in both, prioritize records from the second database"
   ]
  },
  {
   "cell_type": "markdown",
   "id": "ce6b7eea-042e-4199-90b9-ccc4e8900ec7",
   "metadata": {},
   "source": [
    "Add value shares:"
   ]
  },
  {
   "cell_type": "code",
   "execution_count": 9,
   "id": "8089ab55-183d-4510-b0da-a79774fbbb4e",
   "metadata": {},
   "outputs": [],
   "source": [
    "v = valueShares.valueShares(Tree, db_IO.copy())\n",
    "v.compile() # set up model structure, and make sure to initialize symbols if they are not yet defined in the database \n",
    "v.write(); # write GAMS code used for the model\n",
    "m = v.run(exportTo = d['work'],ws=ws) # solve the \"model\"."
   ]
  },
  {
   "cell_type": "markdown",
   "id": "e7c77d84-564f-4e55-b07b-561d413e6a44",
   "metadata": {},
   "source": [
    "Use value shares to initialize variables:\n",
    "* Outputs and inputs are provided by IO data.\n",
    "* For intermediate goods, assume a price of 1 (default option in the class, so we don't have to do anything) and set value share = quantity.\n",
    "* Set share parameters to the ones identified by value share system."
   ]
  },
  {
   "cell_type": "code",
   "execution_count": 10,
   "id": "e21c4f70-e6f7-43bb-8b8c-af6a8a4ce12f",
   "metadata": {},
   "outputs": [],
   "source": [
    "gpyDB.GpyDBs_AOM_Second(P.s.db, gpy(adj.rc_pd(m.out_db.get('vD'), P.get('int')).rename('qD'))) # set intermediate goods levels\n",
    "gpyDB.GpyDBs_AOM_Second(P.s.db, gpy(m.out_db.get('mu').xs(P.get('t0')[0]).rename('mu'))) # set intermediate goods levels"
   ]
  },
  {
   "cell_type": "markdown",
   "id": "dcb2d92a-faf7-4945-9bd3-12cbddfd0a1a",
   "metadata": {},
   "source": [
    "Set tax rate to fit revenue collected in baseline year:"
   ]
  },
  {
   "cell_type": "code",
   "execution_count": 11,
   "id": "407b9147-06da-46f0-95d9-8e17f6c3ec80",
   "metadata": {},
   "outputs": [],
   "source": [
    "# P.s.db['tauLump'] = db_IO.get('TotalTax').rename('tauLump')\n",
    "P.s.db['tauS'] = adjMultiIndex.applyMult(db_IO.get('TotalTax'), P.get('output')) / P.get('qS')"
   ]
  },
  {
   "cell_type": "markdown",
   "id": "542eb901-c652-4a0c-845b-32ffa6ff8e6c",
   "metadata": {},
   "source": [
    "### 3. Static calibration"
   ]
  },
  {
   "cell_type": "code",
   "execution_count": 12,
   "id": "618cf645-883a-4ca1-ba12-f2ecc0d97b9d",
   "metadata": {},
   "outputs": [],
   "source": [
    "P.compile(initDB=True) # set up model structure, and make sure to initialize symbols if they are not yet defined in the database (initDB = True)\n",
    "P.s.setstate('C') # set to calibration state\n",
    "P.write(); # write GAMS code\n",
    "mStatic = P.run(exportTo = d['work'],ws=ws,**{'cns': 'CONOPT4'}) # solve the model using CONOPT4."
   ]
  },
  {
   "cell_type": "markdown",
   "id": "8b84be06-15ba-4e96-9e79-3bb1610288f7",
   "metadata": {},
   "source": [
    "### 4. Dynamic calibration"
   ]
  },
  {
   "cell_type": "markdown",
   "id": "5954d3df-961b-4123-b7e1-acf11c93bca9",
   "metadata": {},
   "source": [
    "Initialize module with static calibration as data:"
   ]
  },
  {
   "cell_type": "code",
   "execution_count": 13,
   "id": "059adeb4-1e77-441b-99bf-d25d0443a626",
   "metadata": {},
   "outputs": [],
   "source": [
    "P = mProduction.Production_ExoMu(tree = Tree, glob = glob)\n",
    "robust.robust_merge_dbs(P.s.db, mStatic.out_db.getTypes(['variable','scalar_variable']), priority = 'second')"
   ]
  },
  {
   "cell_type": "markdown",
   "id": "a7687f54-4d46-449b-8ffe-39ddee187f15",
   "metadata": {},
   "source": [
    "Add durables:"
   ]
  },
  {
   "cell_type": "code",
   "execution_count": 14,
   "id": "3740c496-c319-4239-a515-46fc2d06b83d",
   "metadata": {},
   "outputs": [],
   "source": [
    "aggregateDB.readSets(P.s.db) # this makes sure that all necessary sets are defined in the database"
   ]
  },
  {
   "cell_type": "code",
   "execution_count": 15,
   "id": "a43afed3-a4d1-409e-ac25-90521f4e954b",
   "metadata": {},
   "outputs": [],
   "source": [
    "P.addDurables(dur = db_IO0.get('dur_p'), dur2inv = db_IO0.get('dur2inv'), f = 'sqrAdjCosts')\n",
    "P.initDurables() # adjust to steady state-like model\n",
    "P.compile(initDB=True) # set up model structure\n",
    "P.write(); # write GAMS code\n",
    "# mBaseline = P.run(exportTo = d['work'],ws=ws,**{'cns': 'CONOPT4'}) # solve the model using CONOPT4; baselinea"
   ]
  },
  {
   "cell_type": "code",
   "execution_count": 16,
   "id": "90ace39b-26c4-4c17-8a65-1121681f86fe",
   "metadata": {},
   "outputs": [],
   "source": [
    "aggregateDB.subset_db(db_IO0, P.get('t0')) # Only keep IO data on baseline year\n",
    "mCalib, cp = P.sneakyCalib(db_IO0, exportTo = d['work'],ws=ws, loop_kwargs = {'n': 10}, **{'cns': 'CONOPT4'})"
   ]
  }
 ],
 "metadata": {
  "kernelspec": {
   "display_name": "Python 3 (ipykernel)",
   "language": "python",
   "name": "python3"
  },
  "language_info": {
   "codemirror_mode": {
    "name": "ipython",
    "version": 3
   },
   "file_extension": ".py",
   "mimetype": "text/x-python",
   "name": "python",
   "nbconvert_exporter": "python",
   "pygments_lexer": "ipython3",
   "version": "3.9.7"
  }
 },
 "nbformat": 4,
 "nbformat_minor": 5
}
