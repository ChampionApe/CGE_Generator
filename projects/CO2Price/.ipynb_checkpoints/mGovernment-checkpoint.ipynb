{
 "cells": [
  {
   "cell_type": "markdown",
   "id": "b3680f05-337c-478e-afb7-1a8ac7d8d874",
   "metadata": {},
   "source": [
    "# Government sector, balanced budget"
   ]
  },
  {
   "cell_type": "markdown",
   "id": "1e1e7c61-e668-4f81-aecd-1a436a0722cc",
   "metadata": {},
   "source": [
    "The goverment sector finances public consumption by levying taxes on households, domestic, and foreign firms (even itself). Thus, the government sector behaves in some ways as the simple households, with the exceptions that (1) it does not supply labor and (2) it does not have any intertemporal prefernences. Instead, it balances its budget in each period. "
   ]
  },
  {
   "cell_type": "markdown",
   "id": "c74cb6c0-6485-4a24-9dcd-4870c874f229",
   "metadata": {},
   "source": [
    "In the small model here, we do not account for all taxes and subsidies. For simplicity, we add an adhoc adjustment term to the government budget that balances it in the initial period. This \"j\"-term is included permanently in the model. For all other time periods than this, a single tax instrument is devoted to balance the budget endogenously. The default instrument is the tax on labor income."
   ]
  },
  {
   "cell_type": "markdown",
   "id": "7b710054-4480-49d2-a445-cd1669b4b8ca",
   "metadata": {},
   "source": [
    "## 1. Data/settings"
   ]
  },
  {
   "cell_type": "markdown",
   "id": "17a1bbba-2d51-4041-9eae-783d81a9bad7",
   "metadata": {},
   "source": [
    "If the local variable $t$ has been defined already, the notebook is running from another notebook. If this is not the case, a number of \"local\" methods have to be carried out before solving the model (e.g. setting up the relevant IO data set):"
   ]
  },
  {
   "cell_type": "code",
   "execution_count": 1,
   "id": "28b85fb4-280b-4b78-85d8-d7e452b7e17b",
   "metadata": {},
   "outputs": [
    {
     "name": "stdout",
     "output_type": "stream",
     "text": [
      "The file grids.gdx is still active and was not deleted.\n",
      "The file _gams_py_gdb13.gdx is still active and was not deleted.\n",
      "The file _gams_py_gdb17.gdx is still active and was not deleted.\n",
      "The file _gams_py_gdb20.gdx is still active and was not deleted.\n"
     ]
    }
   ],
   "source": [
    "try:\n",
    "    t = t\n",
    "except NameError:\n",
    "    clean_up = True\n",
    "    %run StdPackages.ipynb\n",
    "    name, t = 'full', 2019\n",
    "    ws = gams.GamsWorkspace(working_directory=d['work']) # specify where you want to run the GAMS models from (here the repository referred to in d['work'])\n",
    "    with open(f\"{d['processedData']}\\\\glob_{t}\",\"rb\") as file: # load global settings anmed glob_name\n",
    "        glob=pickle.load(file)\n",
    "    db_IO = GpyDB(pickle_path = os.path.join(d['processedData'], f'{name}_{t}')) # load IO database named IO_name\n",
    "    addTimeToDb(db_IO, glob.db['t'].vals, exceptions = ['sigma'])\n",
    "module = '_'.join([name,str(t),'G'])\n",
    "db_IO0 = db_IO.copy() # create copy"
   ]
  },
  {
   "cell_type": "markdown",
   "id": "1326834f-f516-4a89-bc55-f5985cf56911",
   "metadata": {},
   "source": [
    "Beyond the standard IO data, we load relevant data for nesting structure on public consumption goods:"
   ]
  },
  {
   "cell_type": "code",
   "execution_count": 2,
   "id": "4540b832-7ea4-4ae8-9ab1-351854eaaa44",
   "metadata": {},
   "outputs": [],
   "source": [
    "tree = nestingTree.tree(name = f'{module}_ces', tree = db_IO.get('nestG').to_list()) # individual tree\n",
    "Tree = nestingTree.aggTree(name = module, trees = {tree.name: tree})()"
   ]
  },
  {
   "cell_type": "markdown",
   "id": "bee04847-a056-4f0e-956e-85e7893c8088",
   "metadata": {},
   "source": [
    "### Initialize module"
   ]
  },
  {
   "cell_type": "markdown",
   "id": "8275a796-bfbc-4c97-96ce-4c60a8c64889",
   "metadata": {},
   "source": [
    "*Initialize module without any savings first (static method):*"
   ]
  },
  {
   "cell_type": "code",
   "execution_count": 3,
   "id": "2412b24f-ccdc-4612-948b-0d9e1912237a",
   "metadata": {},
   "outputs": [],
   "source": [
    "G = mGovernment.balancedBudget(tree = Tree, glob = glob) # init module\n",
    "G.s.db.update_alias(db_IO.get('alias_'))\n",
    "G.s.db['labor'] = pd.MultiIndex.from_tuples([('HH','L')], names = ['s','n'])\n",
    "G.s.db['d_TotalTax'] = db_IO.get('d_TotalTax')\n",
    "G.s.db['tauD0'] = db_IO.get('tauD').rename('tauD0')\n",
    "G.s.db['tauD'] = db_IO.get('tauD').copy()\n",
    "G.s.db['TotalTax'] = db_IO.get('TotalTax').copy()"
   ]
  },
  {
   "cell_type": "markdown",
   "id": "daa53060-5926-4625-8ba0-cf6cd2d5ac65",
   "metadata": {},
   "source": [
    "*Value shares for nesting part:*"
   ]
  },
  {
   "cell_type": "code",
   "execution_count": 4,
   "id": "19632669-9a50-469b-a7b6-1650cfb8e806",
   "metadata": {},
   "outputs": [],
   "source": [
    "v = valueShares.SimpleRamsey(Tree, db_IO0)\n",
    "v.compile() # set up model structure, and make sure to initialize symbols if they are not yet defined in the database \n",
    "v.write(); # write GAMS code used for the model\n",
    "m = v.run(exportTo = d['work'],ws=ws) # solve the \"model\"."
   ]
  },
  {
   "cell_type": "markdown",
   "id": "feeed3f2-2cc4-41c4-8932-707f34aa7827",
   "metadata": {},
   "source": [
    "Use value shares to initialize variables:\n",
    "* Outputs and inputs are provided by IO data.\n",
    "* For intermediate goods, assume a price of 1 (default option in the class, so we don't have to do anything) and set value share = quantity.\n",
    "* Set share parameters to the ones identified by value share system."
   ]
  },
  {
   "cell_type": "code",
   "execution_count": 5,
   "id": "866bddf2-497c-47da-900c-6aeb5df1a3f1",
   "metadata": {
    "tags": []
   },
   "outputs": [],
   "source": [
    "gpyDB.GpyDBs_AOM_Second(G.s.db, gpy(adj.rc_pd(m.out_db.get('vD'), G.get('int').union(G.get('output'))).rename('qD'))) # set intermediate and output levels\n",
    "gpyDB.GpyDBs_AOM_Second(G.s.db, gpy(m.out_db.get('mu').xs(G.get('t0')[0]).rename('mu'))) # set share parameters"
   ]
  },
  {
   "cell_type": "markdown",
   "id": "ae26a502-eb46-46db-b293-a20c98e15af7",
   "metadata": {},
   "source": [
    "### Calibrate"
   ]
  },
  {
   "cell_type": "markdown",
   "id": "9b6b7451-dc3a-4ad0-a928-ea83135105a6",
   "metadata": {},
   "source": [
    "Use sneaky calibration method to solve and calibrate. Note that the government module is quite different, depending on the whether or not the module runs separately from the rest of the model or not (the government budget is balanced by changing taxation of other sectors). "
   ]
  },
  {
   "cell_type": "code",
   "execution_count": 6,
   "id": "1561e328-35ba-4b81-a583-8a0a7676c862",
   "metadata": {},
   "outputs": [],
   "source": [
    "G.compile(initDB=True)\n",
    "G.s.setstate('B_standAlone')\n",
    "G.write();\n",
    "# m_base = G.run(exportTo = d['work'],ws=ws) # solve the \"model\".\n",
    "# G.s['solve'] = f\"\"\"@SolveEmptyNLP({G.s['name']})\"\"\" # test run as NLP model\n",
    "# G.write();\n",
    "mCalib, cp = G.sneakyCalib(db_IO.copy(), cState = 'C_standAlone', ws = ws, loop_kwargs = {'n': 10}, **{'cns': 'CONOPT4'})"
   ]
  },
  {
   "cell_type": "markdown",
   "id": "02f225a5-ad52-419b-864f-0fccb2253852",
   "metadata": {
    "tags": []
   },
   "source": [
    "### Export "
   ]
  },
  {
   "cell_type": "markdown",
   "id": "ad56f219-21bd-43e8-ac62-49f3150b92ee",
   "metadata": {},
   "source": [
    "*Use data from the calibration step in the main database. The ```sneakyCalib``` method defines some new, auxiliary symbols - these are not used.*"
   ]
  },
  {
   "cell_type": "code",
   "execution_count": 7,
   "id": "85855696-b7c9-442c-852e-67a3eb98a325",
   "metadata": {},
   "outputs": [],
   "source": [
    "[gpyDB.GpyDBs_AOM_Second(G.s.db, mCalib.out_db[k]) for k in G.s.db.symbols];\n",
    "G.s.setstate('B')"
   ]
  },
  {
   "cell_type": "markdown",
   "id": "3831cb55-9bf8-4726-b8bc-616b168f4a63",
   "metadata": {},
   "source": [
    "Export:"
   ]
  },
  {
   "cell_type": "code",
   "execution_count": 8,
   "id": "bac841b1-cd23-4cee-9d3d-fd549a359d75",
   "metadata": {},
   "outputs": [],
   "source": [
    "with open(os.path.join(d['modules'], G.name), \"wb\") as file:\n",
    "    pickle.dump(G,file)"
   ]
  }
 ],
 "metadata": {
  "kernelspec": {
   "display_name": "Python 3 (ipykernel)",
   "language": "python",
   "name": "python3"
  },
  "language_info": {
   "codemirror_mode": {
    "name": "ipython",
    "version": 3
   },
   "file_extension": ".py",
   "mimetype": "text/x-python",
   "name": "python",
   "nbconvert_exporter": "python",
   "pygments_lexer": "ipython3",
   "version": "3.9.7"
  }
 },
 "nbformat": 4,
 "nbformat_minor": 5
}
