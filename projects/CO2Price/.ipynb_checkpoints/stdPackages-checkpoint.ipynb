{
 "cells": [
  {
   "cell_type": "code",
   "execution_count": 1,
   "id": "b748349d-8549-47b9-be60-57bdd50e586f",
   "metadata": {},
   "outputs": [
    {
     "name": "stdout",
     "output_type": "stream",
     "text": [
      "No clean-up of work-folder\n"
     ]
    }
   ],
   "source": [
    "import os\n",
    "repo = 'CGE_Generator'\n",
    "currProject = os.getcwd().rsplit('\\\\',1)[-1]\n",
    "main = f\"{os.getcwd().split(repo)[0]}{repo}\"\n",
    "os.chdir(main)\n",
    "%run StdPackages.ipynb\n",
    "os.chdir(d['py'])\n",
    "import valueShares, RAS, mEmissions\n",
    "os.chdir(d['curr'])\n",
    "d['figs'] = os.path.join(d['curr'], 'figs')\n",
    "d['modules'] = os.path.join(d['curr'], 'modules')\n",
    "d['rawData'] = os.path.join(d['data'],'rawData') # add\n",
    "d['processedData'] = os.path.join(d['data'],'processedData') # update to raw data folder"
   ]
  },
  {
   "cell_type": "code",
   "execution_count": 7,
   "id": "4c86c9ca-bece-46ab-9a11-15028bceffcf",
   "metadata": {},
   "outputs": [],
   "source": [
    "def addT(symbol, t):\n",
    "    if pyDatabases.is_iterable(symbol):\n",
    "        return adjMultiIndex.bc(symbol, t).reorder_levels(['t']+symbol.index.names if 't' not in symbol.index.names else symbol.index.names)\n",
    "    else:\n",
    "        return pd.Series(symbol, t)\n",
    "def loadFromPickle(x, repo = None):\n",
    "    with open(os.path.join(pyDatabases.noneInit(repo, d['modules']),x), \"rb\") as file:\n",
    "        return pickle.load(file)\n",
    "def addTimeToDb(db, tIndex, exceptions = None):\n",
    "    [db.__setitem__(k, addT(db.get(k), tIndex)) for k in db.getTypes(['variable','scalar_variable']) if k not in db.vardom('t')['t']+pyDatabases.noneInit(exceptions, [])];"
   ]
  }
 ],
 "metadata": {
  "kernelspec": {
   "display_name": "Python 3 (ipykernel)",
   "language": "python",
   "name": "python3"
  },
  "language_info": {
   "codemirror_mode": {
    "name": "ipython",
    "version": 3
   },
   "file_extension": ".py",
   "mimetype": "text/x-python",
   "name": "python",
   "nbconvert_exporter": "python",
   "pygments_lexer": "ipython3",
   "version": "3.9.7"
  }
 },
 "nbformat": 4,
 "nbformat_minor": 5
}
