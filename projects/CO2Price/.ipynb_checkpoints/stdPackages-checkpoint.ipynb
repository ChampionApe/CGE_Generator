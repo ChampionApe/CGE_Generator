{
 "cells": [
  {
   "cell_type": "code",
   "execution_count": 1,
   "id": "b748349d-8549-47b9-be60-57bdd50e586f",
   "metadata": {},
   "outputs": [
    {
     "name": "stdout",
     "output_type": "stream",
     "text": [
      "No clean-up of work-folder\n"
     ]
    }
   ],
   "source": [
    "import os\n",
    "repo = 'CGE_Generator'\n",
    "currProject = os.getcwd().rsplit('\\\\',1)[-1]\n",
    "main = f\"{os.getcwd().split(repo)[0]}{repo}\"\n",
    "os.chdir(main)\n",
    "%run StdPackages.ipynb\n",
    "os.chdir(d['py'])\n",
    "import valueShares, IOfunctions_withoutDurables, RAS\n",
    "os.chdir(d['curr'])\n",
    "d['figs'] = os.path.join(d['curr'], 'figs')"
   ]
  }
 ],
 "metadata": {
  "kernelspec": {
   "display_name": "Python 3 (ipykernel)",
   "language": "python",
   "name": "python3"
  },
  "language_info": {
   "codemirror_mode": {
    "name": "ipython",
    "version": 3
   },
   "file_extension": ".py",
   "mimetype": "text/x-python",
   "name": "python",
   "nbconvert_exporter": "python",
   "pygments_lexer": "ipython3",
   "version": "3.9.7"
  }
 },
 "nbformat": 4,
 "nbformat_minor": 5
}
