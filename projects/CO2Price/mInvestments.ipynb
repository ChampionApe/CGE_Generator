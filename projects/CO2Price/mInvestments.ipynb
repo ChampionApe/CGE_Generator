{
 "cells": [
  {
   "cell_type": "code",
   "execution_count": 1,
   "id": "16fd8c01-270b-46bd-a980-d7d3891b6f80",
   "metadata": {},
   "outputs": [
    {
     "name": "stdout",
     "output_type": "stream",
     "text": [
      "The file _gams_py_gdb0.gdx is still active and was not deleted.\n",
      "The file _gams_py_gdb1.gdx is still active and was not deleted.\n",
      "The file _gams_py_gdb2.gdx is still active and was not deleted.\n",
      "The file _gams_py_gdb3.gdx is still active and was not deleted.\n",
      "The file _gams_py_gdb4.gdx is still active and was not deleted.\n"
     ]
    }
   ],
   "source": [
    "clean_up = True\n",
    "%run stdPackages.ipynb\n",
    "ws = gams.GamsWorkspace(working_directory=d['work']) # specify where you want to run the GAMS models from (here the repository referred to in d['work'])"
   ]
  },
  {
   "cell_type": "markdown",
   "id": "1a0775fa-118d-4b40-8193-040ca28154f5",
   "metadata": {},
   "source": [
    "# Investment"
   ]
  },
  {
   "cell_type": "markdown",
   "id": "adb0d721-49be-43d2-b771-9fdb5ca6683a",
   "metadata": {},
   "source": [
    "## 1. Data/settings"
   ]
  },
  {
   "cell_type": "markdown",
   "id": "07029136-a027-4b1a-b6c9-df552975adc3",
   "metadata": {},
   "source": [
    "Load data, settings:"
   ]
  },
  {
   "cell_type": "code",
   "execution_count": 2,
   "id": "ad5376ce-2d2a-420b-b8a7-05db8fa5a392",
   "metadata": {},
   "outputs": [],
   "source": [
    "t = 2018\n",
    "name = 'm'\n",
    "module = name+'_I' # name of module\n",
    "db_IO = GpyDB(pickle_path = os.path.join(d['data'], f'{name}_{t}')) # load IO database named IO_name\n",
    "with open(f\"{d['data']}\\\\glob_{t}\",\"rb\") as file: # load global settings anmed glob_name\n",
    "    glob=pickle.load(file)"
   ]
  },
  {
   "cell_type": "markdown",
   "id": "9bcc8fb5-a40c-4f50-aab7-7cdd4f6bd4ba",
   "metadata": {},
   "source": [
    "Add time index to the IO data:"
   ]
  },
  {
   "cell_type": "code",
   "execution_count": 3,
   "id": "3d4de5fd-ba67-4657-bb21-af0413ceea57",
   "metadata": {},
   "outputs": [],
   "source": [
    "def addT(symbol, t):\n",
    "    return adjMultiIndex.bc(symbol, t).reorder_levels(['t']+symbol.index.names if 't' not in symbol.index.names else symbol.index.names)\n",
    "[db_IO.__setitem__(k, addT(db_IO.get(k), glob.db['t'].vals)) for k in db_IO.getTypes(['variable','scalar_variable'])];"
   ]
  },
  {
   "cell_type": "markdown",
   "id": "46ca746a-36eb-4953-add5-604612ae0ad4",
   "metadata": {},
   "source": [
    "Make a copy for later:"
   ]
  },
  {
   "cell_type": "code",
   "execution_count": 4,
   "id": "887a4f28-277a-48cf-8cc7-152810566dee",
   "metadata": {},
   "outputs": [],
   "source": [
    "db_IO0 = db_IO.copy() # we are going to adjust data along the way; this keeps a copy of the original data"
   ]
  },
  {
   "cell_type": "markdown",
   "id": "1fb76ce4-a1db-4810-91c9-13c6ca395902",
   "metadata": {},
   "source": [
    "## 2. Initial values"
   ]
  },
  {
   "cell_type": "markdown",
   "id": "34d15fbb-201e-43bc-97e9-0a8a31a31e93",
   "metadata": {},
   "source": [
    "Set up nesting tree using the nesting structure:"
   ]
  },
  {
   "cell_type": "code",
   "execution_count": 5,
   "id": "b6dae569-b220-4b91-a602-83188e32c149",
   "metadata": {},
   "outputs": [],
   "source": [
    "tree = nestingTree.tree(name = f'{module}_ces', tree = db_IO.get('nestInvestment').to_list()) # individual tree\n",
    "Tree = nestingTree.aggTree(name = module, trees = {tree.name: tree})(namespace = {str(n)+'_input': n for n in db_IO.get('n')})"
   ]
  },
  {
   "cell_type": "markdown",
   "id": "4e237788-443a-4771-99d0-df6515f3e95a",
   "metadata": {},
   "source": [
    "Initialize production module, without any durables at first:"
   ]
  },
  {
   "cell_type": "code",
   "execution_count": 6,
   "id": "753509e1-0b30-48a8-8b0c-d79242f85e21",
   "metadata": {},
   "outputs": [],
   "source": [
    "I = mProduction.Production(tree=Tree, glob = glob) # initialize module from nesting tree and global settings\n",
    "aggregateDB.subset_db(db_IO, Tree.db.get('s')) # goes through all symbols in db_IO and only keep the elements that are in the set 's' from Tree.db\n",
    "aggregateDB.subset_db(db_IO, Tree.get('n')) # goes through all symbols in db_IO and only keep the elements that are in the set 'n' from Tree.db\n",
    "robust.robust_merge_dbs(I.s.db, db_IO, priority = 'second') # Merge IO data into the database of the module; if a symbol is in both, prioritize records from the second database"
   ]
  },
  {
   "cell_type": "markdown",
   "id": "90774d4d-8de2-4130-8e2e-79fb0891592c",
   "metadata": {},
   "source": [
    "Add value shares:"
   ]
  },
  {
   "cell_type": "code",
   "execution_count": 7,
   "id": "ade7aad7-9a63-43a6-8339-6d56d67cc6a4",
   "metadata": {},
   "outputs": [],
   "source": [
    "v = valueShares.valueShares(Tree, db_IO.copy())\n",
    "v.compile() # set up model structure, and make sure to initialize symbols if they are not yet defined in the database \n",
    "v.write(); # write GAMS code used for the model\n",
    "m = v.run(exportTo = d['work'],ws=ws) # solve the \"model\"."
   ]
  },
  {
   "cell_type": "markdown",
   "id": "395df681-3821-41d2-adf1-7808748cdebe",
   "metadata": {},
   "source": [
    "Use value shares to initialize variables:\n",
    "* Outputs and inputs are provided by IO data.\n",
    "* For intermediate goods, assume a price of 1 (default option in the class, so we don't have to do anything) and set value share = quantity.\n",
    "* Set share parameters to the ones identified by value share system."
   ]
  },
  {
   "cell_type": "code",
   "execution_count": 8,
   "id": "63e6acc0-14a8-46ec-94fb-b522e52be4e4",
   "metadata": {},
   "outputs": [],
   "source": [
    "gpyDB.GpyDBs_AOM_Second(I.s.db, gpy(adj.rc_pd(m.out_db.get('vD'), I.get('int')).rename('qD'))) # set intermediate goods levels\n",
    "gpyDB.GpyDBs_AOM_Second(I.s.db, gpy(m.out_db.get('mu').xs(I.get('t0')[0]).rename('mu'))) # set intermediate goods levels"
   ]
  },
  {
   "cell_type": "markdown",
   "id": "83c9ea8e-c938-49c4-ad5e-277eb0100a86",
   "metadata": {},
   "source": [
    "Set tax rate to fit revenue collected in baseline year:"
   ]
  },
  {
   "cell_type": "code",
   "execution_count": 9,
   "id": "58318bc4-47d4-4d67-a248-9984b31cec60",
   "metadata": {},
   "outputs": [],
   "source": [
    "# I.s.db['tauLump'] = db_IO.get('TotalTax').rename('tauLump')\n",
    "I.s.db['tauS'] = adjMultiIndex.applyMult(db_IO.get('TotalTax'), I.get('output')) / I.get('qS')"
   ]
  },
  {
   "cell_type": "markdown",
   "id": "31927587-d1ec-47ba-9747-f3b87c0b8208",
   "metadata": {},
   "source": [
    "### 3. Static calibration"
   ]
  },
  {
   "cell_type": "code",
   "execution_count": 10,
   "id": "6ea28ed3-8bad-4151-852e-ba1d6f34f443",
   "metadata": {},
   "outputs": [],
   "source": [
    "I.compile(initDB=True) # set up model structure, and make sure to initialize symbols if they are not yet defined in the database (initDB = True)\n",
    "I.s.setstate('C') # set to calibration state\n",
    "I.write(); # write GAMS code\n",
    "mStatic = I.run(exportTo = d['work'],ws=ws,**{'cns': 'CONOPT4'}) # solve the model using CONOPT4."
   ]
  },
  {
   "cell_type": "markdown",
   "id": "207d04dc-33db-4fc7-b607-68491b5f42d1",
   "metadata": {},
   "source": [
    "### 4. Export "
   ]
  },
  {
   "cell_type": "code",
   "execution_count": 11,
   "id": "7a7eb3de-d0a4-4891-9684-3b6ae1d94363",
   "metadata": {},
   "outputs": [],
   "source": [
    "[gpyDB.GpyDBs_AOM_Second(I.s.db, mStatic.out_db[k]) for k in I.s.db.symbols];\n",
    "I.s.setstate('B')"
   ]
  },
  {
   "cell_type": "markdown",
   "id": "a0ebdb13-44f6-472c-8a38-9a0890d0fc4e",
   "metadata": {},
   "source": [
    "Export:"
   ]
  },
  {
   "cell_type": "code",
   "execution_count": 12,
   "id": "1702a670-6982-4d3a-b6a1-194d20d75f50",
   "metadata": {},
   "outputs": [],
   "source": [
    "with open(os.path.join(d['data'], I.name), \"wb\") as file:\n",
    "    pickle.dump(I,file)"
   ]
  }
 ],
 "metadata": {
  "kernelspec": {
   "display_name": "Python 3 (ipykernel)",
   "language": "python",
   "name": "python3"
  },
  "language_info": {
   "codemirror_mode": {
    "name": "ipython",
    "version": 3
   },
   "file_extension": ".py",
   "mimetype": "text/x-python",
   "name": "python",
   "nbconvert_exporter": "python",
   "pygments_lexer": "ipython3",
   "version": "3.9.7"
  }
 },
 "nbformat": 4,
 "nbformat_minor": 5
}
