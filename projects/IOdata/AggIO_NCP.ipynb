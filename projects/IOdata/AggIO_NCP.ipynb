{
 "cells": [
  {
   "cell_type": "code",
   "execution_count": 1,
   "id": "1bbdb466-66ba-4335-8471-cb40725b1170",
   "metadata": {},
   "outputs": [
    {
     "name": "stdout",
     "output_type": "stream",
     "text": [
      "No clean-up of work-folder\n"
     ]
    }
   ],
   "source": [
    "%run StdPackages.ipynb\n",
    "d['processedData'] = os.path.join(d['data'],'processedData') # update to raw data folder\n",
    "os.chdir(d['py'])\n",
    "from loadIO import *\n",
    "import RAS\n",
    "from scipy.cluster.vq import kmeans2"
   ]
  },
  {
   "cell_type": "markdown",
   "id": "4cb5123f-2b21-48df-b184-86017d80699f",
   "metadata": {},
   "source": [
    "# Aggregate IO data for NationalClimatePolicy project"
   ]
  },
  {
   "cell_type": "markdown",
   "id": "a8af6933-322f-4bba-b844-4719eefa9673",
   "metadata": {},
   "source": [
    "We aggregate in two steps: First, we outline specific sectors that the model draw on. This includes energy (sector code 35000). For other sectors, we define input shares and use KMeans to aggregate sectors into 3 residual sectors."
   ]
  },
  {
   "cell_type": "markdown",
   "id": "d8ddbce1-51a7-4fba-9bb9-69f186138b62",
   "metadata": {},
   "source": [
    "## 1. Aggregate IO data"
   ]
  },
  {
   "cell_type": "markdown",
   "id": "063def74-5292-45d9-b944-a27f9b7aef6b",
   "metadata": {},
   "source": [
    "*Load data:*"
   ]
  },
  {
   "cell_type": "code",
   "execution_count": 2,
   "id": "d147b84b-5a89-4599-aa80-e4b89faa877f",
   "metadata": {},
   "outputs": [],
   "source": [
    "t0 = 2019\n",
    "fullIO = os.path.join(d['processedData'], f'IO{t0}_s146_dur7')\n",
    "name = f'IO{t0}_NCP' # add new name for the database when exporting\n",
    "db = GpyDB(fullIO, name = name)\n",
    "sectorsKMeans = 3 "
   ]
  },
  {
   "cell_type": "markdown",
   "id": "c3f5e12d-5183-4a4d-adcd-4d47a63508f6",
   "metadata": {},
   "source": [
    "*Mappings:*"
   ]
  },
  {
   "cell_type": "code",
   "execution_count": 3,
   "id": "9f0a0175-3f02-4f49-ae20-463735b53d54",
   "metadata": {},
   "outputs": [],
   "source": [
    "mDur = pd.MultiIndex.from_tuples([(k, 'K') for k in db('s_i')], names = ['n','nn'])\n",
    "m = pd.MultiIndex.from_tuples([(k, 'Energy') for k in ('350011','350012','350020','350030')], names = ['s','ss'])"
   ]
  },
  {
   "cell_type": "markdown",
   "id": "50961a0f-94bd-47e5-9d5f-d2782561afb7",
   "metadata": {},
   "source": [
    "*Create input intensities to aggregate sectors using KMeans*"
   ]
  },
  {
   "cell_type": "code",
   "execution_count": 4,
   "id": "9ec07c88-f41b-4e9f-97cc-730e9a293c9d",
   "metadata": {},
   "outputs": [
    {
     "name": "stderr",
     "output_type": "stream",
     "text": [
      "C:\\Users\\sxj477\\AppData\\Local\\Temp\\ipykernel_2244\\2613269377.py:5: FutureWarning: Downcasting object dtype arrays on .fillna, .ffill, .bfill is deprecated and will change in a future version. Call result.infer_objects(copy=False) instead. To opt-in to the future behavior, set `pd.set_option('future.no_silent_downcasting', True)`\n",
      "  μ = adj.rc_pd(inpIntensity, ('not', m)).unstack('n').fillna(0)\n"
     ]
    }
   ],
   "source": [
    "vS = adj.rc_pd(pdSum(db('vD'), 's'), db('n_p')).rename_axis(index = {'n':'s'})\n",
    "vD = adj.rc_pd(db('vD'), db('s_p'))\n",
    "inpIntensity = vD / vS\n",
    "inpIntensity = inpIntensity / pdSum(inpIntensity, 'n')\n",
    "μ = adj.rc_pd(inpIntensity, ('not', m)).unstack('n').fillna(0)\n",
    "km = kmeans2(μ, sectorsKMeans)\n",
    "mKM = pd.MultiIndex.from_arrays([μ.index, 'agg'+pd.Index(km[1], name = 'ss').astype(str)])\n",
    "m = m.union(mKM)"
   ]
  },
  {
   "cell_type": "markdown",
   "id": "96ef2eba-c195-44a7-9046-e2c886ce4fac",
   "metadata": {},
   "source": [
    "*Create I_K (flow investment variable corresponding to durable stock $K$)*:"
   ]
  },
  {
   "cell_type": "code",
   "execution_count": 5,
   "id": "5815225b-38ea-4579-86a3-09af7fba8e99",
   "metadata": {},
   "outputs": [],
   "source": [
    "mDur_s = mDur.set_levels(mDur.levels[-1].map(lambda x: 'I_'+x), level = 1).rename(['s','ss'])"
   ]
  },
  {
   "cell_type": "markdown",
   "id": "2fc033d4-ebeb-46df-9050-7feea49a4cd5",
   "metadata": {},
   "source": [
    "*Full sector mapping:*"
   ]
  },
  {
   "cell_type": "code",
   "execution_count": 7,
   "id": "f5d9a879-d2a7-484d-be93-e690f3230b93",
   "metadata": {},
   "outputs": [],
   "source": [
    "ms = m.union(mDur_s)\n",
    "ms_neutral = pd.MultiIndex.from_arrays([db('s'), db('s').rename('ss')]) # neutral mapping from (x,x)\n",
    "m_sector = ms.union(adj.rc_pd(ms_neutral, ('not', ms.levels[0]))) # full mapping: Use specific mapping if this exists, otherwise default to neutral mapping."
   ]
  },
  {
   "cell_type": "markdown",
   "id": "d2709872-ff0d-4f74-b0a4-665c8dfcb4ca",
   "metadata": {},
   "source": [
    "*Apply mapping:*"
   ]
  },
  {
   "cell_type": "code",
   "execution_count": 8,
   "id": "43419569-a5e0-4c48-bfc4-0ef1d8d8adf5",
   "metadata": {},
   "outputs": [],
   "source": [
    "AggDB.aggDB(db, m_sector);"
   ]
  },
  {
   "cell_type": "markdown",
   "id": "88172443-de7d-4995-a351-e2115f6c8b34",
   "metadata": {},
   "source": [
    "*Adjust goods index:*"
   ]
  },
  {
   "cell_type": "code",
   "execution_count": 9,
   "id": "0b1c9094-8d58-4d99-a3e6-2c099ae7858a",
   "metadata": {},
   "outputs": [],
   "source": [
    "mn = m.union(m.set_levels([l+'_F' for l in m.levels])).rename(['n','nn']).union(mDur)\n",
    "mn_neutral = pd.MultiIndex.from_arrays([db('n'), db('n').rename('nn')])\n",
    "m_goods = mn.union(adj.rc_pd(mn_neutral, ('not', mn.levels[0])))"
   ]
  },
  {
   "cell_type": "markdown",
   "id": "967a5f49-a94c-4fa4-8a89-9f6233dcfeda",
   "metadata": {},
   "source": [
    "*Apply mapping:*"
   ]
  },
  {
   "cell_type": "code",
   "execution_count": 10,
   "id": "32777e38-e214-4f1a-be93-3a610e43bd03",
   "metadata": {},
   "outputs": [],
   "source": [
    "AggDB.aggDB(db, m_goods);"
   ]
  },
  {
   "cell_type": "markdown",
   "id": "1ce6911a-ee84-4df9-a484-296b06059b07",
   "metadata": {},
   "source": [
    "## 2. Model data"
   ]
  },
  {
   "cell_type": "markdown",
   "id": "e070391e-dfa8-4e58-be0b-f86a168fd587",
   "metadata": {},
   "source": [
    "*Clean up some data:*"
   ]
  },
  {
   "cell_type": "code",
   "execution_count": 13,
   "id": "b7ec766e-aca9-4891-b1eb-f6ea78035d52",
   "metadata": {},
   "outputs": [],
   "source": [
    "[db.series.database.pop(k) for k in ('gc','vC','vC_tax')];\n",
    "[db.__setitem__(k, db(k)[db(k)!=0]) for k in db.getTypes(['var'])];"
   ]
  },
  {
   "cell_type": "markdown",
   "id": "f5dbefe0-81ab-49b4-82a5-acd7c2807ac5",
   "metadata": {},
   "source": [
    "IO data is measured in mio DKK. Here, we rescale to billion DKK instead (*Note: This rescales all variables in the database, so it is assumed that everything is measured in absolute values (and not e.g. ratios)*)"
   ]
  },
  {
   "cell_type": "code",
   "execution_count": 14,
   "id": "4c98a896-f2a2-43a5-a4cd-822f91e8d6c6",
   "metadata": {},
   "outputs": [],
   "source": [
    "factor = 1000\n",
    "[db.__setitem__(k, db(k)/factor) for k in db.getTypes(['var']) if k not in ['qCO2', 'M1990']];\n",
    "db._scale = db._scale * factor"
   ]
  },
  {
   "cell_type": "markdown",
   "id": "09fa61db-fe99-4358-af12-49e25676dca2",
   "metadata": {},
   "source": [
    "*Note: The ```._scale``` attribute indicates the value of 1 unit in the database.*"
   ]
  },
  {
   "cell_type": "markdown",
   "id": "366380ea-b22c-4a4b-a03b-8788c7f28f5d",
   "metadata": {},
   "source": [
    "Translate depreciation of durables to rates, distinguish between investments and durables (flow, stock) with investment good syntax ```I_x``` for durable ```x```. Define mapping ```dur2inv``` and subsets ```dur_p, inv_p```. Add investments and value of durables to the vector ```vD```:"
   ]
  },
  {
   "cell_type": "code",
   "execution_count": 15,
   "id": "e1862604-4c48-496b-b5d3-744fe41be345",
   "metadata": {},
   "outputs": [],
   "source": [
    "db['rDepr'] = db('vD_depr')/db('vD_dur')\n",
    "db['dur_p'] = db('vD_dur').index.levels[db['vD_dur'].domains.index('n')]\n",
    "db['inv_p'] = db('dur_p').map(lambda x: f'I_{x}')\n",
    "db['dur2inv'] = pd.MultiIndex.from_arrays([db('dur_p'), db('inv_p').rename('nn')])\n",
    "db('vD_inv').index = db('vD_inv').index.set_levels(db('vD_inv').index.levels[db['vD_inv'].domains.index('n')].map(lambda x: f'I_{x}'), level = 'n')\n",
    "db['vD'] = db('vD_inv').combine_first(db('vD')).combine_first(db('vD_dur'))"
   ]
  },
  {
   "cell_type": "markdown",
   "id": "de84de91-f455-4d4d-be78-e55f5eca5c39",
   "metadata": {},
   "source": [
    "### RAS"
   ]
  },
  {
   "cell_type": "markdown",
   "id": "cd20f15c-baa1-4cc7-8a18-c7ce920f13b8",
   "metadata": {},
   "source": [
    "Simple RAS algorithm:"
   ]
  },
  {
   "cell_type": "code",
   "execution_count": 17,
   "id": "63b839c9-46e6-4cda-bc0f-eddc9ed4923b",
   "metadata": {},
   "outputs": [],
   "source": [
    "threshold = 0 # remove values less than 0 bio DKK\n",
    "v0 = adj.rc_pd(db('vD'), ('and', [('or', [db('n_p'), db('n_F')]),\n",
    "                                  ('or', [db('s_p'), db('s_i')])]))\n",
    "leaveCols = db('n_F') # are there any type of goods that we do not need to balance\n",
    "leaveRows = None # are there any type of sectors that we do not need to balance\n",
    "vBar = v0[v0<threshold] * 0"
   ]
  },
  {
   "cell_type": "markdown",
   "id": "5b6b92de-2eae-40d7-aaea-bdcd27f90691",
   "metadata": {},
   "source": [
    "*Get RAS adjustments:*"
   ]
  },
  {
   "cell_type": "code",
   "execution_count": 18,
   "id": "c665af95-b9c8-4503-9573-05c434689ed7",
   "metadata": {},
   "outputs": [
    {
     "name": "stdout",
     "output_type": "stream",
     "text": [
      "Largest deviation summing over n: 0.0\n",
      "Largest deviation summing over s: 0.0\n"
     ]
    }
   ],
   "source": [
    "vD = RAS.simpleRAS(v0, vBar, leaveCols = leaveCols, leaveRows = leaveRows, tol = 1e-8, iterMax = 1000)"
   ]
  },
  {
   "cell_type": "code",
   "execution_count": 19,
   "id": "7ed4546e-ec04-4c00-9acf-6cfd0a6c36d7",
   "metadata": {},
   "outputs": [
    {
     "data": {
      "text/plain": [
       "s       n       \n",
       "Energy  Energy        3.276949\n",
       "        Energy_F       0.28537\n",
       "        agg0          5.710723\n",
       "        agg0_F        3.687417\n",
       "        agg1          2.728461\n",
       "        agg1_F        2.120625\n",
       "        agg2          3.503238\n",
       "        agg2_F        0.267127\n",
       "I_K     Energy        0.884227\n",
       "        agg0        257.019096\n",
       "        agg0_F        69.50237\n",
       "        agg1          44.28125\n",
       "        agg1_F       13.507946\n",
       "        agg2         53.958902\n",
       "        agg2_F        0.426417\n",
       "agg0    Energy        9.191595\n",
       "        Energy_F      0.906473\n",
       "        agg0        520.298704\n",
       "        agg0_F      493.782328\n",
       "        agg1        111.779827\n",
       "        agg1_F       57.628301\n",
       "        agg2        133.154295\n",
       "        agg2_F       24.647824\n",
       "agg1    Energy        2.290931\n",
       "        Energy_F      0.201176\n",
       "        agg0         94.767016\n",
       "        agg0_F       28.063118\n",
       "        agg1         39.055617\n",
       "        agg1_F       21.290389\n",
       "        agg2          41.63241\n",
       "        agg2_F        4.506569\n",
       "agg2    Energy        6.027422\n",
       "        Energy_F      0.416991\n",
       "        agg0        130.171962\n",
       "        agg0_F       47.094736\n",
       "        agg1         65.408689\n",
       "        agg1_F       18.400192\n",
       "        agg2        102.433489\n",
       "        agg2_F       10.846704\n",
       "Name: 0, dtype: object"
      ]
     },
     "execution_count": 19,
     "metadata": {},
     "output_type": "execute_result"
    }
   ],
   "source": [
    "vD"
   ]
  },
  {
   "cell_type": "markdown",
   "id": "f12edd0a-18cb-427b-9b1d-2f62aa850794",
   "metadata": {},
   "source": [
    "*Merge things back up again:*"
   ]
  },
  {
   "cell_type": "code",
   "execution_count": 20,
   "id": "749ee0ae-acc8-4efd-a8e2-3519b794c961",
   "metadata": {},
   "outputs": [],
   "source": [
    "vD_full = vD.combine_first(db('vD'))\n",
    "vD_full = vD_full[vD_full!=0] # remove zero values again"
   ]
  },
  {
   "cell_type": "markdown",
   "id": "1cc4a115-0164-4ceb-bbb3-4d82f09ea516",
   "metadata": {},
   "source": [
    "*Remove residual income category (we don't currently use this in the model, this will enter the return on durables instead):*"
   ]
  },
  {
   "cell_type": "code",
   "execution_count": 21,
   "id": "cbde1757-e645-4c01-8184-502606439c1e",
   "metadata": {},
   "outputs": [],
   "source": [
    "db['vD'] = adj.rc_pd(vD_full, ('not', pd.Index(['resIncome'], name = 'n')))"
   ]
  },
  {
   "cell_type": "markdown",
   "id": "607d519c-6927-46b8-953d-e3af33ff0b14",
   "metadata": {},
   "source": [
    "### Create other variables"
   ]
  },
  {
   "cell_type": "code",
   "execution_count": 22,
   "id": "979e17c0-c752-4061-8b6c-ee487ca750ec",
   "metadata": {},
   "outputs": [],
   "source": [
    "db['R_LR'] = gpy(1.03, name = 'R_LR', type = 'par')\n",
    "db['infl_LR'] = gpy(0, name = 'infl_LR', type = 'par')\n",
    "db['g_LR'] = gpy(0, name = 'g_LR', type = 'par')\n",
    "model_vS(db)\n",
    "model_p(db)\n",
    "model_durables(db, db('R_LR'), db('infl_LR'))\n",
    "model_quantNonDurables(db) "
   ]
  },
  {
   "cell_type": "markdown",
   "id": "641bbcf6-1e39-4ee0-a8c2-4948562481e8",
   "metadata": {
    "tags": []
   },
   "source": [
    "### Create other subsets and mappings"
   ]
  },
  {
   "cell_type": "markdown",
   "id": "03f39eb0-f31f-44b0-bc10-a4491b90f302",
   "metadata": {},
   "source": [
    "Subsets of goods/sectors:"
   ]
  },
  {
   "cell_type": "code",
   "execution_count": 23,
   "id": "f036d0e5-f085-441b-a7f6-d557687535ed",
   "metadata": {},
   "outputs": [],
   "source": [
    "db['nEqui'] = db('vS').index.droplevel('s').unique() # what goods require an equilibrium condition\n",
    "db['d_qS'] = db['vS'].index \n",
    "db['d_qD'] = adj.rc_pd(db('vD'), db('nEqui')).index \n",
    "db['d_qSEqui'] = adj.rc_pd(db['d_qS'].vals, ('not', db('s_HH'))) # Subset of qS values to be endogenized in general equilibrium\n",
    "db['d_pEqui'] = pd.Index(['L'], name ='n') # Subset of prices to be endogenized in general equilibrium "
   ]
  },
  {
   "cell_type": "markdown",
   "id": "efba8dba-4c79-4be4-88ec-550a561e1316",
   "metadata": {},
   "source": [
    "####  Trade mappings"
   ]
  },
  {
   "cell_type": "markdown",
   "id": "2a21ea54-3ada-45dc-9fed-59fdf3cf9c3c",
   "metadata": {},
   "source": [
    "Define the mappings:\n",
    "* ```dom2for[n,nn]```: Mapping from domestic to the equivalent foreign goods (with syntax ```x,x_F```).\n",
    "* ```dExport[t,s,n]```: Foreign sectors' demand for domestic goods.\n",
    "* ```dImport[t,s,n,nn]```: sector, domestic good, foreign good combinations in data - i.e. where a sector demands both domestic and foreign type of product.\n",
    "* ```dImport_dom[t,s,n]```: sector, domestic good combination (s,n) where the sector only demands the domestic and not the corresponding foreign good.\n",
    "* ```dImport_for[t,s,n]```: sector, foreign good combinations (s,n) where the sector only demand the foreign and not the corresponding domestic good."
   ]
  },
  {
   "cell_type": "code",
   "execution_count": 24,
   "id": "86f54b7d-c46d-4c0e-98e9-5be8ea0fbf65",
   "metadata": {},
   "outputs": [],
   "source": [
    "db['dom2for'] = pd.MultiIndex.from_arrays([db('n_p').sort_values(), db('n_F').sort_values().rename('nn')])\n",
    "db['dExport'] = adj.rc_pd(db('vD'), db('s_f')).index\n",
    "vD_dom = stdSort(adjMultiIndex.applyMult(adj.rc_pd(db('vD'), db('n_p')), db('dom2for')))\n",
    "vD_for = adj.rc_pd(db('vD'), db('n_F')).rename_axis(index= {'n':'nn'})\n",
    "db['dImport'] = stdSort(adj.rc_pd(vD_dom, vD_for)).index\n",
    "db['dImport_dom'] = adj.rc_pd(vD_dom, ('not', vD_for)).droplevel('nn').index\n",
    "db['dImport_for'] = adj.rc_pd(vD_for, ('not', db('dImport'))).rename_axis(index = {'nn':'n'}).index"
   ]
  },
  {
   "cell_type": "markdown",
   "id": "6707b54a-6802-406f-966e-b668e8d2c54b",
   "metadata": {
    "tags": []
   },
   "source": [
    "### Export"
   ]
  },
  {
   "cell_type": "code",
   "execution_count": 25,
   "id": "dd78dfa0-e353-462a-a06b-15d81fa39b3b",
   "metadata": {},
   "outputs": [],
   "source": [
    "AggDB.updSetsFromSyms(db, types = ['var','par','map']) # define sets from variables/parameters defined throughout\n",
    "db.export()"
   ]
  }
 ],
 "metadata": {
  "kernelspec": {
   "display_name": "Python 3 (ipykernel)",
   "language": "python",
   "name": "python3"
  },
  "language_info": {
   "codemirror_mode": {
    "name": "ipython",
    "version": 3
   },
   "file_extension": ".py",
   "mimetype": "text/x-python",
   "name": "python",
   "nbconvert_exporter": "python",
   "pygments_lexer": "ipython3",
   "version": "3.11.8"
  }
 },
 "nbformat": 4,
 "nbformat_minor": 5
}
