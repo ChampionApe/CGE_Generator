{
 "cells": [
  {
   "cell_type": "code",
   "execution_count": 1,
   "id": "b869b2ff-30f8-4b82-a485-150a54637371",
   "metadata": {},
   "outputs": [
    {
     "name": "stdout",
     "output_type": "stream",
     "text": [
      "No clean-up of work-folder\n"
     ]
    }
   ],
   "source": [
    "%run StdPackages.ipynb\n",
    "d['processedData'] = os.path.join(d['data'],'processedData') # update to raw data folder\n",
    "os.chdir(d['py'])\n",
    "from loadIO import *\n",
    "import RAS"
   ]
  },
  {
   "cell_type": "markdown",
   "id": "bbb78595-3fac-4560-b3bf-386ea00aa3a2",
   "metadata": {},
   "source": [
    "# Aggregate IO data for OptimalTaxPolicy - SimpleCGE"
   ]
  },
  {
   "cell_type": "markdown",
   "id": "f1b5dac2-b4b8-485a-a59d-6217a788d689",
   "metadata": {},
   "source": [
    "Aggregate model to single domestic production firm with a single durable."
   ]
  },
  {
   "cell_type": "markdown",
   "id": "936fda3c-6e83-4b8b-9028-e0fb761e5729",
   "metadata": {},
   "source": [
    "### 1. Aggregate IO data"
   ]
  },
  {
   "cell_type": "markdown",
   "id": "291b95af-6508-4336-890e-b9fd38af3521",
   "metadata": {},
   "source": [
    "*Load data:*"
   ]
  },
  {
   "cell_type": "code",
   "execution_count": 2,
   "id": "4626cd65-d330-4689-b25e-ecef95243f4c",
   "metadata": {},
   "outputs": [],
   "source": [
    "t0 = 2019\n",
    "fullIO = os.path.join(d['processedData'], f'IO{t0}_s146_dur7')\n",
    "name = f'IO{t0}_OTP_Simple' # add new name for the database when exporting\n",
    "db = GpyDB(fullIO, name = name)"
   ]
  },
  {
   "cell_type": "markdown",
   "id": "f105fbd2-72dd-4b8d-a85c-63dc93254409",
   "metadata": {},
   "source": [
    "*Mappings:*"
   ]
  },
  {
   "cell_type": "code",
   "execution_count": 3,
   "id": "b88a9834-916c-4db9-93ee-6bdbecaaede1",
   "metadata": {},
   "outputs": [],
   "source": [
    "mDur = pd.MultiIndex.from_tuples([(k, 'K') for k in db('s_i')], names = ['n','nn'])\n",
    "m = pd.MultiIndex.from_product([db('s_p'), ['DomProdSec']], names = ['s','ss'])"
   ]
  },
  {
   "cell_type": "markdown",
   "id": "62eddaa1-6c55-4336-84d5-d0cdf54abc5a",
   "metadata": {},
   "source": [
    "*Create I_K (flow investment variable corresponding to durable stock $K$)*:"
   ]
  },
  {
   "cell_type": "code",
   "execution_count": 4,
   "id": "30135253-53e7-45a7-89f9-bbb462b9d407",
   "metadata": {},
   "outputs": [],
   "source": [
    "mDur_s = mDur.set_levels(mDur.levels[-1].map(lambda x: 'I_'+x), level = 1).rename(['s','ss'])"
   ]
  },
  {
   "cell_type": "markdown",
   "id": "6304df80-cb2d-4c25-a30e-e6f5925bcac1",
   "metadata": {},
   "source": [
    "*Full sector mapping:*"
   ]
  },
  {
   "cell_type": "code",
   "execution_count": 5,
   "id": "b6b95330-c613-4161-912e-c7ea246c4bc3",
   "metadata": {},
   "outputs": [],
   "source": [
    "ms = m.union(mDur_s)\n",
    "ms_neutral = pd.MultiIndex.from_arrays([db('s'), db('s').rename('ss')]) # neutral mapping from (x,x)\n",
    "m_sector = ms.union(adj.rc_pd(ms_neutral, ('not', ms.levels[0]))) # full mapping: Use specific mapping if this exists, otherwise default to neutral mapping."
   ]
  },
  {
   "cell_type": "markdown",
   "id": "69cb91d2-68f1-4d68-b556-356b710e116b",
   "metadata": {},
   "source": [
    "*Apply mapping:*"
   ]
  },
  {
   "cell_type": "code",
   "execution_count": 6,
   "id": "9baae73b-bea1-4a73-a028-37a730b64aeb",
   "metadata": {},
   "outputs": [],
   "source": [
    "AggDB.aggDB(db, m_sector);"
   ]
  },
  {
   "cell_type": "markdown",
   "id": "0393e2ab-69dc-456e-84b9-116407facfb1",
   "metadata": {},
   "source": [
    "*Adjust goods index:*"
   ]
  },
  {
   "cell_type": "code",
   "execution_count": 7,
   "id": "fa115633-12d2-4b02-8051-8056a347b7a9",
   "metadata": {},
   "outputs": [],
   "source": [
    "mn = m.union(m.set_levels([l+'_F' for l in m.levels])).rename(['n','nn']).union(mDur)\n",
    "mn_neutral = pd.MultiIndex.from_arrays([db('n'), db('n').rename('nn')])\n",
    "m_goods = mn.union(adj.rc_pd(mn_neutral, ('not', mn.levels[0])))"
   ]
  },
  {
   "cell_type": "markdown",
   "id": "1e163b57-b914-480c-9e21-c1d1c685d0bc",
   "metadata": {},
   "source": [
    "*Apply mapping:*"
   ]
  },
  {
   "cell_type": "code",
   "execution_count": 8,
   "id": "8def85bc-43d3-4314-975b-892d6f2a09a7",
   "metadata": {},
   "outputs": [],
   "source": [
    "AggDB.aggDB(db, m_goods);"
   ]
  },
  {
   "cell_type": "markdown",
   "id": "5fbbbba4-127c-4299-adfc-e14275d77d21",
   "metadata": {},
   "source": [
    "## 2. Model data"
   ]
  },
  {
   "cell_type": "markdown",
   "id": "94210ded-ce19-47f1-b611-ea09d8ec4a87",
   "metadata": {},
   "source": [
    "*Clean up some data:*"
   ]
  },
  {
   "cell_type": "code",
   "execution_count": 12,
   "id": "c9af5046-42b6-4835-a492-b05a0196e01c",
   "metadata": {},
   "outputs": [],
   "source": [
    "[db.series.database.pop(k) for k in ('gc','vC','vC_tax')];\n",
    "[db.__setitem__(k, db(k)[db(k)!=0]) for k in db.getTypes(['var'])];"
   ]
  },
  {
   "cell_type": "markdown",
   "id": "8e854334-8d72-43d4-85ef-49bd8e9cb8a8",
   "metadata": {},
   "source": [
    "IO data is measured in mio DKK. Here, we rescale to 1000 billion DKK instead (*Note: This rescales all variables in the database, so it is assumed that everything is measured in absolute values (and not e.g. ratios)*)"
   ]
  },
  {
   "cell_type": "code",
   "execution_count": 16,
   "id": "c497e1c0-3d20-448c-b4a2-39ed21f587f1",
   "metadata": {},
   "outputs": [],
   "source": [
    "factor = 1000000\n",
    "[db.__setitem__(k, db(k)/factor) for k in db.getTypes(['var']) if k not in ['qCO2', 'M1990']];\n",
    "db._scale = db._scale * factor"
   ]
  },
  {
   "cell_type": "markdown",
   "id": "70bd9a7b-c3c0-4bec-9959-3e37e0bceb75",
   "metadata": {},
   "source": [
    "*Note: The ```._scale``` attribute indicates the value of 1 unit in the database.*"
   ]
  },
  {
   "cell_type": "markdown",
   "id": "e587587a-a43a-4ad1-8596-f0527bb3a2c3",
   "metadata": {},
   "source": [
    "Translate depreciation of durables to rates, distinguish between investments and durables (flow, stock) with investment good syntax ```I_x``` for durable ```x```. Define mapping ```dur2inv``` and subsets ```dur_p, inv_p```. Add investments and value of durables to the vector ```vD```:"
   ]
  },
  {
   "cell_type": "code",
   "execution_count": 17,
   "id": "c8f6c4a8-a181-423a-a8d6-a9369ec73912",
   "metadata": {},
   "outputs": [],
   "source": [
    "db['rDepr'] = db('vD_depr')/db('vD_dur')\n",
    "db['dur_p'] = db('vD_dur').index.levels[db['vD_dur'].domains.index('n')]\n",
    "db['inv_p'] = db('dur_p').map(lambda x: f'I_{x}')\n",
    "db['dur2inv'] = pd.MultiIndex.from_arrays([db('dur_p'), db('inv_p').rename('nn')])\n",
    "db('vD_inv').index = db('vD_inv').index.set_levels(db('vD_inv').index.levels[db['vD_inv'].domains.index('n')].map(lambda x: f'I_{x}'), level = 'n')\n",
    "db['vD'] = db('vD_inv').combine_first(db('vD')).combine_first(db('vD_dur'))"
   ]
  },
  {
   "cell_type": "markdown",
   "id": "6c045245-97ee-498e-bb82-2e319aedc981",
   "metadata": {},
   "source": [
    "With a single domestic sector, we do not need RAS adjustments. We do, however, remove the category 'resIncome' adhoc here (we model a return on durables instead):"
   ]
  },
  {
   "cell_type": "code",
   "execution_count": 18,
   "id": "dfa66bd4-560a-4a84-93ef-b224c26b1a5a",
   "metadata": {},
   "outputs": [],
   "source": [
    "db['vD'] = adj.rc_pd(db('vD'), ('not', pd.Index(['resIncome'], name = 'n')))"
   ]
  },
  {
   "cell_type": "markdown",
   "id": "02a1bfaf-438d-4f31-a1e2-28b8a4a6c236",
   "metadata": {},
   "source": [
    "### Create other variables"
   ]
  },
  {
   "cell_type": "code",
   "execution_count": 19,
   "id": "d1430eef-0a26-451e-b875-66a90451a4a3",
   "metadata": {},
   "outputs": [],
   "source": [
    "db['R_LR'] = gpy(1.03, name = 'R_LR', type = 'par')\n",
    "db['infl_LR'] = gpy(0.0, name = 'infl_LR', type = 'par')\n",
    "db['g_LR'] = gpy(0.0, name = 'g_LR', type = 'par')\n",
    "model_vS(db)\n",
    "model_p(db)\n",
    "model_durables(db, db('R_LR'), db('infl_LR'))\n",
    "model_quantNonDurables(db) "
   ]
  },
  {
   "cell_type": "markdown",
   "id": "0a3a2cc2-0aec-45ec-a71a-06350fafc13c",
   "metadata": {
    "tags": []
   },
   "source": [
    "### Create other subsets and mappings"
   ]
  },
  {
   "cell_type": "markdown",
   "id": "adebc878-4ad8-4e76-a284-91bfc0a73ff9",
   "metadata": {},
   "source": [
    "Subsets of goods/sectors:"
   ]
  },
  {
   "cell_type": "code",
   "execution_count": 20,
   "id": "28065b6d-c5dd-410e-a8ce-2593678b1d10",
   "metadata": {},
   "outputs": [],
   "source": [
    "db['nEqui'] = db('vS').index.droplevel('s').unique() # what goods require an equilibrium condition\n",
    "db['d_qS'] = db['vS'].index \n",
    "db['d_qD'] = adj.rc_pd(db('vD'), db('nEqui')).index \n",
    "db['d_qSEqui'] = adj.rc_pd(db['d_qS'].vals, ('not', db('s_HH'))) # Subset of qS values to be endogenized in general equilibrium\n",
    "db['d_pEqui'] = pd.Index(['L'], name ='n') # Subset of prices to be endogenized in general equilibrium "
   ]
  },
  {
   "cell_type": "markdown",
   "id": "dc3133ba-712b-4d6a-959c-0ff51426309f",
   "metadata": {},
   "source": [
    "####  Trade mappings"
   ]
  },
  {
   "cell_type": "markdown",
   "id": "efbf5fe4-e6d0-4752-a6ae-9dc26720d38c",
   "metadata": {},
   "source": [
    "Define \"standard\" trade mappings:"
   ]
  },
  {
   "cell_type": "code",
   "execution_count": 21,
   "id": "b4a5d7fd-689c-4e9c-ba24-46d8fc6371b0",
   "metadata": {},
   "outputs": [],
   "source": [
    "db['dom2for'] = pd.MultiIndex.from_arrays([db('n_p').sort_values(), db('n_F').sort_values().rename('nn')])\n",
    "db['dExport'] = adj.rc_pd(db('vD'), db('s_f')).index\n",
    "vD_dom = stdSort(adjMultiIndex.applyMult(adj.rc_pd(db('vD'), db('n_p')), db('dom2for')))\n",
    "vD_for = adj.rc_pd(db('vD'), db('n_F')).rename_axis(index= {'n':'nn'})\n",
    "db['dImport'] = stdSort(adj.rc_pd(vD_dom, vD_for)).index\n",
    "db['dImport_dom'] = adj.rc_pd(vD_dom, ('not', vD_for)).droplevel('nn').index\n",
    "db['dImport_for'] = adj.rc_pd(vD_for, ('not', db('dImport'))).rename_axis(index = {'nn':'n'}).index"
   ]
  },
  {
   "cell_type": "markdown",
   "id": "1fea1598-3f94-4ada-94ff-0649d6a35f6a",
   "metadata": {
    "tags": []
   },
   "source": [
    "### Export"
   ]
  },
  {
   "cell_type": "code",
   "execution_count": 23,
   "id": "fd4cff89-a5b7-4656-9300-e8d8a8b09422",
   "metadata": {},
   "outputs": [],
   "source": [
    "AggDB.updSetsFromSyms(db, types = ['var','par','map']) # define sets from variables/parameters defined throughout\n",
    "db.export()"
   ]
  }
 ],
 "metadata": {
  "kernelspec": {
   "display_name": "Python 3 (ipykernel)",
   "language": "python",
   "name": "python3"
  },
  "language_info": {
   "codemirror_mode": {
    "name": "ipython",
    "version": 3
   },
   "file_extension": ".py",
   "mimetype": "text/x-python",
   "name": "python",
   "nbconvert_exporter": "python",
   "pygments_lexer": "ipython3",
   "version": "3.11.8"
  }
 },
 "nbformat": 4,
 "nbformat_minor": 5
}
