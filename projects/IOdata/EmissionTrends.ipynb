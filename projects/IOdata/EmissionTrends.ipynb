{
 "cells": [
  {
   "cell_type": "code",
   "execution_count": 1,
   "id": "72698505-b4a4-4a46-828c-062f8126f9be",
   "metadata": {},
   "outputs": [
    {
     "name": "stdout",
     "output_type": "stream",
     "text": [
      "No clean-up of work-folder\n"
     ]
    }
   ],
   "source": [
    "%run StdPackages.ipynb\n",
    "d['rawData'] = os.path.join(d['data'],'rawData69') # add\n",
    "d['processedData'] = os.path.join(d['data'],'processedData') # update to raw data folder\n",
    "os.chdir(d['py'])"
   ]
  },
  {
   "cell_type": "markdown",
   "id": "52e32172-a8b7-4178-8c98-7415a11931ae",
   "metadata": {},
   "source": [
    "# Emission trends "
   ]
  },
  {
   "cell_type": "markdown",
   "id": "cf36a111-7ec6-4caa-89bd-0b996b191fcd",
   "metadata": {},
   "source": [
    "We take emissions data using IO69 codes and look at how intensities have evolved between 1990 and some year $t$. We then define average growth rates and map them to other useful dimensions (e.g. 146 green reform codes)."
   ]
  },
  {
   "cell_type": "markdown",
   "id": "e8f4914d-64c4-4a01-a835-210d8a6985e0",
   "metadata": {},
   "source": [
    "Load data:"
   ]
  },
  {
   "cell_type": "code",
   "execution_count": 2,
   "id": "4e5efa5d-62b3-443a-8d1d-6309311c387a",
   "metadata": {},
   "outputs": [],
   "source": [
    "db = GpyDB(os.path.join(d['processedData'], 'IO69'))\n",
    "auxMaps = DbFromExcel.map(DbFromExcel.simpleLoad(os.path.join(d['data'], 'GR2019_mappings.xlsx'))['AuxMaps'])\n",
    "ws = db.ws\n",
    "t0 = db('t')[0] "
   ]
  },
  {
   "cell_type": "markdown",
   "id": "673591ce-a017-4b6b-aa09-3d89d62120d3",
   "metadata": {},
   "source": [
    "For production sectors, define value of output from summing over inputs:"
   ]
  },
  {
   "cell_type": "code",
   "execution_count": 3,
   "id": "ce7be654-0d99-414b-8353-e9148cdc2cb7",
   "metadata": {},
   "outputs": [],
   "source": [
    "valueOfOutput = adj.rc_pd(db('vD'), db('s_p')).groupby(['t','s']).sum()"
   ]
  },
  {
   "cell_type": "markdown",
   "id": "7351a845-bc12-4b73-87c4-40df513cadc0",
   "metadata": {},
   "source": [
    "Define CO2 intensity over time:"
   ]
  },
  {
   "cell_type": "code",
   "execution_count": 4,
   "id": "13909ab4-f2ba-41f5-8b20-1ffed4eed765",
   "metadata": {},
   "outputs": [],
   "source": [
    "μ = db('qCO2')/valueOfOutput"
   ]
  },
  {
   "cell_type": "markdown",
   "id": "bf053412-05b8-48a4-a893-73025525b560",
   "metadata": {},
   "source": [
    "Define average growth rates in intensity since 1990:"
   ]
  },
  {
   "cell_type": "code",
   "execution_count": 5,
   "id": "8f08c5b4-e733-4d6d-b35e-20440136ff5a",
   "metadata": {},
   "outputs": [],
   "source": [
    "g = ((μ/μ.xs(t0)).pow(1/(pd.Series(μ.index.get_level_values('t'), index = μ.index)-t0))-1).fillna(0)"
   ]
  },
  {
   "cell_type": "markdown",
   "id": "d295eaa1-81dc-4b13-9bd7-9461bbae2f79",
   "metadata": {},
   "source": [
    "Map to 146 levels:"
   ]
  },
  {
   "cell_type": "code",
   "execution_count": 6,
   "id": "d89f8047-23e9-4477-a49a-adbd2051dfe7",
   "metadata": {},
   "outputs": [],
   "source": [
    "m = auxMaps['s69tos146'].vals\n",
    "m = m.set_levels([l.astype(str) for l in m.levels]) # str definition of sectors\n",
    "μ146 = adjMultiIndex.applyMult(μ, m).droplevel('s').rename_axis(['t','s'])\n",
    "g146 = adjMultiIndex.applyMult(g, m).droplevel('s').rename_axis(['t','s'])"
   ]
  },
  {
   "cell_type": "markdown",
   "id": "263c5b05-3364-48ac-8d35-4c85213ebe84",
   "metadata": {},
   "source": [
    "Map to GR levels:"
   ]
  },
  {
   "cell_type": "code",
   "execution_count": 7,
   "id": "0b7aa0f8-709e-49ed-9ca8-78402da9c9ad",
   "metadata": {},
   "outputs": [],
   "source": [
    "m = auxMaps['s146tosGR'].vals\n",
    "m = m.set_levels([l.astype(str) for l in m.levels]) # str definition of sectors\n",
    "μGR = adjMultiIndex.applyMult(μ146, m).droplevel('s').rename_axis(['t','s'])\n",
    "gGR = adjMultiIndex.applyMult(g146, m).droplevel('s').rename_axis(['t','s'])"
   ]
  },
  {
   "cell_type": "markdown",
   "id": "15fa1063-3789-4cca-811a-cd53e5c421b6",
   "metadata": {},
   "source": [
    "Store data:"
   ]
  },
  {
   "cell_type": "code",
   "execution_count": 8,
   "id": "4b287d3a-4b2c-410b-8fa8-9617d59ac926",
   "metadata": {},
   "outputs": [],
   "source": [
    "dbOut = GpyDB(name = 'emissionTrends', data_folder = d['processedData'], ws = ws)\n",
    "dbOut['uCO2_s69'] = μ\n",
    "dbOut['uCO2_s146'] = μ146\n",
    "dbOut['uCO2_sGR'] = μGR\n",
    "dbOut['gCO2_s69'] = g\n",
    "dbOut['gCO2_s146'] = g146\n",
    "dbOut['gCO2_sGR'] = gGR\n",
    "dbOut.export()"
   ]
  }
 ],
 "metadata": {
  "kernelspec": {
   "display_name": "Python 3 (ipykernel)",
   "language": "python",
   "name": "python3"
  },
  "language_info": {
   "codemirror_mode": {
    "name": "ipython",
    "version": 3
   },
   "file_extension": ".py",
   "mimetype": "text/x-python",
   "name": "python",
   "nbconvert_exporter": "python",
   "pygments_lexer": "ipython3",
   "version": "3.11.8"
  }
 },
 "nbformat": 4,
 "nbformat_minor": 5
}
