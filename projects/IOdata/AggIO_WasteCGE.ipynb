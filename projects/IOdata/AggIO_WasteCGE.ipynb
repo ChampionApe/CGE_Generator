{
 "cells": [
  {
   "cell_type": "code",
   "execution_count": 1,
   "id": "a0278ac8-dc0b-459a-a11f-bc37aa9579ae",
   "metadata": {},
   "outputs": [
    {
     "name": "stdout",
     "output_type": "stream",
     "text": [
      "No clean-up of work-folder\n"
     ]
    }
   ],
   "source": [
    "%run StdPackages.ipynb\n",
    "d['rawData'] = os.path.join(d['data'],'rawData69') # add\n",
    "d['processedData'] = os.path.join(d['data'],'processedData') # update to raw data folder\n",
    "os.chdir(d['py'])\n",
    "from loadIO import *\n",
    "import RAS\n",
    "from scipy.cluster.vq import kmeans2"
   ]
  },
  {
   "cell_type": "markdown",
   "id": "4cb5123f-2b21-48df-b184-86017d80699f",
   "metadata": {},
   "source": [
    "# Aggregate IO data for WasteCGE"
   ]
  },
  {
   "cell_type": "markdown",
   "id": "711652b1-d58d-4df0-9f8d-06a25912883b",
   "metadata": {},
   "source": [
    "We base the aggregation on two things: First, we outline the specific sectors that we draw upon in the model. This includes energy (sector code 35000) and waste collection, treatment, disposal (sector code 37390). For every other sector, we define input shares and use KMeans to aggregate sectors into 2 residual sectors. This uses the same approach as in ```AggIO.ipynb``` and then ```modelDataFromIO.ipynb``` (which contains a bit more explanation along the way)."
   ]
  },
  {
   "cell_type": "markdown",
   "id": "d8ddbce1-51a7-4fba-9bb9-69f186138b62",
   "metadata": {},
   "source": [
    "## 1. Aggregate IO data"
   ]
  },
  {
   "cell_type": "markdown",
   "id": "5be96cf8-dc41-484d-b5cd-e11486e0fb0c",
   "metadata": {},
   "source": [
    "*Load full data:*"
   ]
  },
  {
   "cell_type": "code",
   "execution_count": 2,
   "id": "88d49f3f-1375-4c02-8cde-a3ca47719215",
   "metadata": {},
   "outputs": [],
   "source": [
    "fullIO = os.path.join(d['processedData'], 'IO69')\n",
    "t0 = 2019\n",
    "sectorsKMeans = 3 # beyond this we have energy and waste sectors\n",
    "name = 'IO_WCGE' # add new name for the database when exporting\n",
    "db = GpyDB(fullIO, name = name)"
   ]
  },
  {
   "cell_type": "markdown",
   "id": "c3f5e12d-5183-4a4d-adcd-4d47a63508f6",
   "metadata": {},
   "source": [
    "*Mappings:*"
   ]
  },
  {
   "cell_type": "code",
   "execution_count": 3,
   "id": "9f0a0175-3f02-4f49-ae20-463735b53d54",
   "metadata": {},
   "outputs": [],
   "source": [
    "mDur = pd.MultiIndex.from_tuples([(k, 'K') for k in db('s_i')], names = ['n','nn'])\n",
    "m = pd.MultiIndex.from_tuples([('35000', 'Energy'), ('37390', 'Waste')], names = ['s','ss'])"
   ]
  },
  {
   "cell_type": "markdown",
   "id": "50961a0f-94bd-47e5-9d5f-d2782561afb7",
   "metadata": {},
   "source": [
    "*Create input intensities to aggregate sectors using KMeans*"
   ]
  },
  {
   "cell_type": "code",
   "execution_count": 4,
   "id": "9ec07c88-f41b-4e9f-97cc-730e9a293c9d",
   "metadata": {},
   "outputs": [],
   "source": [
    "vS = adj.rc_pd(pdSum(db('vD'), 's'), db('n_p')).rename_axis(index = {'n':'s'})\n",
    "vD = adj.rc_pd(db('vD'), db('s_p'))\n",
    "inpIntensity = vD / vS\n",
    "inpIntensity = inpIntensity / pdSum(inpIntensity, 'n')\n",
    "μ = adj.rc_pd(inpIntensity, ('not', m)).xs(t0).unstack('n').fillna(0)\n",
    "km = kmeans2(μ, sectorsKMeans)\n",
    "mKM = pd.MultiIndex.from_arrays([μ.index, 'agg'+pd.Index(km[1], name = 'ss').astype(str)])\n",
    "m = m.union(mKM)"
   ]
  },
  {
   "cell_type": "markdown",
   "id": "96ef2eba-c195-44a7-9046-e2c886ce4fac",
   "metadata": {},
   "source": [
    "*Create I_K (flow investment variable corresponding to durable stock $K$)*:"
   ]
  },
  {
   "cell_type": "code",
   "execution_count": 5,
   "id": "5815225b-38ea-4579-86a3-09af7fba8e99",
   "metadata": {},
   "outputs": [],
   "source": [
    "mDur_s = mDur.set_levels(mDur.levels[-1].map(lambda x: 'I_'+x), level = 1).rename(['s','ss'])"
   ]
  },
  {
   "cell_type": "markdown",
   "id": "2fc033d4-ebeb-46df-9050-7feea49a4cd5",
   "metadata": {},
   "source": [
    "*Full sector mapping:*"
   ]
  },
  {
   "cell_type": "code",
   "execution_count": 6,
   "id": "f5d9a879-d2a7-484d-be93-e690f3230b93",
   "metadata": {},
   "outputs": [],
   "source": [
    "ms = m.union(mDur_s)\n",
    "ms_neutral = pd.MultiIndex.from_arrays([db('s'), db('s').rename('ss')]) # neutral mapping from (x,x)\n",
    "m_sector = ms.union(adj.rc_pd(ms_neutral, ('not', ms.levels[0]))) # full mapping: Use specific mapping if this exists, otherwise default to neutral mapping."
   ]
  },
  {
   "cell_type": "markdown",
   "id": "d2709872-ff0d-4f74-b0a4-665c8dfcb4ca",
   "metadata": {},
   "source": [
    "*Apply mapping:*"
   ]
  },
  {
   "cell_type": "code",
   "execution_count": 7,
   "id": "43419569-a5e0-4c48-bfc4-0ef1d8d8adf5",
   "metadata": {},
   "outputs": [],
   "source": [
    "AggDB.aggDB(db, m_sector);"
   ]
  },
  {
   "cell_type": "markdown",
   "id": "88172443-de7d-4995-a351-e2115f6c8b34",
   "metadata": {},
   "source": [
    "*Adjust goods index:*"
   ]
  },
  {
   "cell_type": "code",
   "execution_count": 8,
   "id": "0b1c9094-8d58-4d99-a3e6-2c099ae7858a",
   "metadata": {},
   "outputs": [],
   "source": [
    "mn = m.union(m.set_levels([l+'_F' for l in m.levels])).rename(['n','nn']).union(mDur)\n",
    "mn_neutral = pd.MultiIndex.from_arrays([db('n'), db('n').rename('nn')])\n",
    "m_goods = mn.union(adj.rc_pd(mn_neutral, ('not', mn.levels[0])))"
   ]
  },
  {
   "cell_type": "markdown",
   "id": "967a5f49-a94c-4fa4-8a89-9f6233dcfeda",
   "metadata": {},
   "source": [
    "*Apply mapping:*"
   ]
  },
  {
   "cell_type": "code",
   "execution_count": 9,
   "id": "32777e38-e214-4f1a-be93-3a610e43bd03",
   "metadata": {},
   "outputs": [],
   "source": [
    "AggDB.aggDB(db, m_goods);"
   ]
  },
  {
   "cell_type": "markdown",
   "id": "1ce6911a-ee84-4df9-a484-296b06059b07",
   "metadata": {},
   "source": [
    "## 2. Model data"
   ]
  },
  {
   "cell_type": "markdown",
   "id": "036250e2-158a-46a7-8759-fc3dd413402e",
   "metadata": {},
   "source": [
    "*Clean up some data:*"
   ]
  },
  {
   "cell_type": "code",
   "execution_count": 10,
   "id": "841eaab1-36b2-4707-90aa-cd78fa294df0",
   "metadata": {},
   "outputs": [],
   "source": [
    "[db.series.database.pop(k) for k in ('gc','vC','vC_tax')];\n",
    "[db.__setitem__(k, db(k)[db(k)!=0]) for k in db.getTypes(['var'])];"
   ]
  },
  {
   "cell_type": "markdown",
   "id": "aeb17a14-756b-4e95-bf8f-d466aed47b1e",
   "metadata": {},
   "source": [
    "IO data is measured in mio DKK. Here, we rescale to billion DKK instead (*Note: This rescales all variables in the database, so it is assumed that everything is measured in absolute values (and not e.g. ratios)*)"
   ]
  },
  {
   "cell_type": "code",
   "execution_count": 11,
   "id": "449e1261-309b-4868-b545-e476e0a2741d",
   "metadata": {},
   "outputs": [],
   "source": [
    "[db.__setitem__(k, db(k)/1000) for k in db.getTypes(['var'])];"
   ]
  },
  {
   "cell_type": "markdown",
   "id": "4f28b125-9ce4-4a66-be6d-cf4a451e5985",
   "metadata": {},
   "source": [
    "Translate depreciation of durables to rates, distinguish between investments and durables (flow, stock) with investment good syntax ```I_x``` for durable ```x```. Define mapping ```dur2inv``` and subsets ```dur_p, inv_p```. Add investments and value of durables to the vector ```vD```:"
   ]
  },
  {
   "cell_type": "code",
   "execution_count": 12,
   "id": "034aaa77-3ffe-4b6a-817a-554cc82855c1",
   "metadata": {},
   "outputs": [],
   "source": [
    "db['rDepr'] = db('vD_depr')/db('vD_dur')\n",
    "db['dur_p'] = db('vD_dur').index.levels[db['vD_dur'].domains.index('n')]\n",
    "db['inv_p'] = db('dur_p').map(lambda x: f'I_{x}')\n",
    "db['dur2inv'] = pd.MultiIndex.from_arrays([db('dur_p'), db('inv_p').rename('nn')])\n",
    "db('vD_inv').index = db('vD_inv').index.set_levels(db('vD_inv').index.levels[db['vD_inv'].domains.index('n')].map(lambda x: f'I_{x}'), level = 'n')\n",
    "db['vD'] = db('vD_inv').combine_first(db('vD')).combine_first(db('vD_dur'))"
   ]
  },
  {
   "cell_type": "markdown",
   "id": "7dc7ee6c-f8e7-4a94-9afa-6ddd5823d83e",
   "metadata": {},
   "source": [
    "IO data is measured in mio DKK. Here, we rescale to billion DKK instead:"
   ]
  },
  {
   "cell_type": "markdown",
   "id": "910fc4c9-58cb-4209-aca2-7a9256a6fa19",
   "metadata": {},
   "source": [
    "### RAS"
   ]
  },
  {
   "cell_type": "markdown",
   "id": "85346fe7-5c32-42da-b96a-fa8de5a28266",
   "metadata": {},
   "source": [
    "Simple RAS algorithm:"
   ]
  },
  {
   "cell_type": "code",
   "execution_count": 13,
   "id": "6d6b326a-0d3a-4462-b299-4cdcf165354d",
   "metadata": {},
   "outputs": [],
   "source": [
    "threshold = 1 # remove values less than billion\n",
    "v0 = adj.rc_pd(db('vD'), ('and', [('or', [db('n_p'), db('n_F')]),\n",
    "                                  ('or', [db('s_p'), db('s_i')])]))\n",
    "leaveCols = db('n_F') # are there any type of goods that we do not need to balance\n",
    "leaveRows = None # are there any type of sectors that we do not need to balance\n",
    "vBar = v0[v0<threshold] * 0"
   ]
  },
  {
   "cell_type": "markdown",
   "id": "4ec6637c-cc1e-4edc-ab52-4331bb500cd6",
   "metadata": {},
   "source": [
    "*Get RAS adjustments:*"
   ]
  },
  {
   "cell_type": "code",
   "execution_count": 14,
   "id": "c21fe24c-ee30-40ef-bef1-3c75f712ac81",
   "metadata": {},
   "outputs": [
    {
     "name": "stdout",
     "output_type": "stream",
     "text": [
      "Largest deviation summing over n: 7.99172994447872e-09\n",
      "Largest deviation summing over s: 2.2737367544323206e-13\n"
     ]
    }
   ],
   "source": [
    "vD = RAS.simpleRAS(v0, vBar, leaveCols = leaveCols, leaveRows = leaveRows, tol = 1e-8, iterMax = 1000)"
   ]
  },
  {
   "cell_type": "markdown",
   "id": "8de3b9b9-90c7-47aa-a363-fd3e0ff4f19f",
   "metadata": {},
   "source": [
    "*Merge things back up again:*"
   ]
  },
  {
   "cell_type": "code",
   "execution_count": 15,
   "id": "dad232c1-2500-49de-aef0-1e77bfacc060",
   "metadata": {},
   "outputs": [],
   "source": [
    "vD_full = vD.combine_first(db('vD'))\n",
    "vD_full = vD_full[vD_full!=0] # remove zero values again"
   ]
  },
  {
   "cell_type": "markdown",
   "id": "70afcb97-7302-4442-9769-dfbdfefe6253",
   "metadata": {},
   "source": [
    "*Remove residual income category (we don't currently use this in the model, this will enter the return on durables instead):*"
   ]
  },
  {
   "cell_type": "code",
   "execution_count": 16,
   "id": "a3ba300c-36aa-4f18-9f60-6f1f6492cce5",
   "metadata": {},
   "outputs": [],
   "source": [
    "db['vD'] = adj.rc_pd(vD_full, ('not', pd.Index(['resIncome'], name = 'n')))"
   ]
  },
  {
   "cell_type": "markdown",
   "id": "3d2e6523-1bb5-4684-90cb-83c87e49e205",
   "metadata": {},
   "source": [
    "### Create other variables"
   ]
  },
  {
   "cell_type": "code",
   "execution_count": 17,
   "id": "07050b44-5a33-4107-952a-3bfcf66afba1",
   "metadata": {},
   "outputs": [],
   "source": [
    "db['R_LR'] = gpy(1.03, name = 'R_LR', type = 'par')\n",
    "db['infl_LR'] = gpy(0.02, name = 'infl_LR', type = 'par')\n",
    "db['g_LR'] = gpy(0.02, name = 'g_LR', type = 'par')\n",
    "model_vS(db)\n",
    "model_p(db)\n",
    "model_durables(db, db('R_LR'), db('infl_LR'))\n",
    "model_quantNonDurables(db) "
   ]
  },
  {
   "cell_type": "markdown",
   "id": "9e2df64d-a23a-401a-8078-dead4b61face",
   "metadata": {
    "tags": []
   },
   "source": [
    "### Create other subsets and mappings"
   ]
  },
  {
   "cell_type": "markdown",
   "id": "b6d25dbf-2fff-4f45-b9d2-27fa5be73a3b",
   "metadata": {},
   "source": [
    "Subsets of goods/sectors:"
   ]
  },
  {
   "cell_type": "code",
   "execution_count": 18,
   "id": "c4b6985e-58d1-4125-8639-ffa5fce502e0",
   "metadata": {},
   "outputs": [],
   "source": [
    "db['nEqui'] = db('vS').index.droplevel('s').unique() # what goods require an equilibrium condition\n",
    "db['d_qS'] = db['vS'].index \n",
    "db['d_qD'] = adj.rc_pd(db('vD'), db('nEqui')).index \n",
    "db['d_qSEqui'] = adj.rc_pd(db['d_qS'].vals, ('not', db('s_HH'))) # Subset of qS values to be endogenized in general equilibrium\n",
    "db['d_pEqui'] = pd.Index(['L'], name ='n') # Subset of prices to be endogenized in general equilibrium "
   ]
  },
  {
   "cell_type": "markdown",
   "id": "694b8c80-6310-4974-b36f-7178fae30500",
   "metadata": {},
   "source": [
    "####  Trade mappings"
   ]
  },
  {
   "cell_type": "markdown",
   "id": "03cd553a-4105-4bb7-88ed-74f2e71bd363",
   "metadata": {},
   "source": [
    "Define the mappings:\n",
    "* ```dom2for[n,nn]```: Mapping from domestic to the equivalent foreign goods (with syntax ```x,x_F```).\n",
    "* ```dExport[t,s,n]```: Foreign sectors' demand for domestic goods.\n",
    "* ```dImport[t,s,n,nn]```: sector, domestic good, foreign good combinations in data - i.e. where a sector demands both domestic and foreign type of product.\n",
    "* ```dImport_dom[t,s,n]```: sector, domestic good combination (s,n) where the sector only demands the domestic and not the corresponding foreign good.\n",
    "* ```dImport_for[t,s,n]```: sector, foreign good combinations (s,n) where the sector only demand the foreign and not the corresponding domestic good."
   ]
  },
  {
   "cell_type": "code",
   "execution_count": 19,
   "id": "0310e4d3-8fd0-4a7e-9f6b-87b08fa9cf07",
   "metadata": {},
   "outputs": [],
   "source": [
    "db['dom2for'] = pd.MultiIndex.from_arrays([db('n_p').sort_values(), db('n_F').sort_values().rename('nn')])\n",
    "db['dExport'] = adj.rc_pd(db('vD'), db('s_f')).index\n",
    "vD_dom = stdSort(adjMultiIndex.applyMult(adj.rc_pd(db('vD'), db('n_p')), db('dom2for')))\n",
    "vD_for = adj.rc_pd(db('vD'), db('n_F')).rename_axis(index= {'n':'nn'})\n",
    "db['dImport'] = stdSort(adj.rc_pd(vD_dom, vD_for)).index\n",
    "db['dImport_dom'] = adj.rc_pd(vD_dom, ('not', vD_for)).droplevel('nn').index\n",
    "db['dImport_for'] = adj.rc_pd(vD_for, ('not', db('dImport'))).rename_axis(index = {'nn':'n'}).index"
   ]
  },
  {
   "cell_type": "markdown",
   "id": "401a820b-365b-4d08-b23f-6d34cb1d0497",
   "metadata": {
    "tags": []
   },
   "source": [
    "### Export"
   ]
  },
  {
   "cell_type": "code",
   "execution_count": 20,
   "id": "0f6aacc3-db0a-4c40-989b-f57eb8e2a895",
   "metadata": {},
   "outputs": [],
   "source": [
    "AggDB.updSetsFromSyms(db, types = ['var','par','map']) # define sets from variables/parameters defined throughout\n",
    "db.export()"
   ]
  }
 ],
 "metadata": {
  "kernelspec": {
   "display_name": "Python 3 (ipykernel)",
   "language": "python",
   "name": "python3"
  },
  "language_info": {
   "codemirror_mode": {
    "name": "ipython",
    "version": 3
   },
   "file_extension": ".py",
   "mimetype": "text/x-python",
   "name": "python",
   "nbconvert_exporter": "python",
   "pygments_lexer": "ipython3",
   "version": "3.11.8"
  }
 },
 "nbformat": 4,
 "nbformat_minor": 5
}
