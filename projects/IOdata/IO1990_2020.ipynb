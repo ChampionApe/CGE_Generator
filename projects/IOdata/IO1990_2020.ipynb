{
 "cells": [
  {
   "cell_type": "code",
   "execution_count": 1,
   "id": "c6c17887-2135-4e38-8b68-adf80529ccfd",
   "metadata": {},
   "outputs": [
    {
     "name": "stdout",
     "output_type": "stream",
     "text": [
      "No clean-up of work-folder\n"
     ]
    }
   ],
   "source": [
    "%run StdPackages.ipynb\n",
    "d['rawData'] = os.path.join(d['data'],'rawData69') # add\n",
    "d['processedData'] = os.path.join(d['data'],'processedData') # update to raw data folder\n",
    "os.chdir(d['py'])\n",
    "import IOfunctions_withoutDurables\n",
    "from loadIO import *"
   ]
  },
  {
   "cell_type": "markdown",
   "id": "ad6ba6bc-1a97-40fd-b549-7f57dcc283e9",
   "metadata": {},
   "source": [
    "# IO data for Danish Economy from 1990-2020"
   ]
  },
  {
   "cell_type": "markdown",
   "id": "b56b3dee-3c76-44ea-9122-047a95242bf3",
   "metadata": {},
   "source": [
    "This sets up balanced IO data for the Danish Economy from 1990-2020. We rely on the 69 sector split whereever possible, and use different imputations for the period 1990-1993 where data conventions were slightly different."
   ]
  },
  {
   "cell_type": "markdown",
   "id": "44360480-b312-4b44-8acc-b546d915ca75",
   "metadata": {},
   "source": [
    "*Basic settings:*"
   ]
  },
  {
   "cell_type": "code",
   "execution_count": 2,
   "id": "3b5f07ec-401b-44ca-a74b-3dc15489898b",
   "metadata": {},
   "outputs": [],
   "source": [
    "ws = GpyDB.initWs(d['work']) # initialize a workspace so we don't have to do this every time we create a database\n",
    "t0 = 1990 # initial year\n",
    "tE = 2019 # terminal year\n",
    "file_k = os.path.join(d['rawData'], 'Durables.xlsx') # xlsx file with data on durables\n",
    "file_m = os.path.join(d['rawData'], 'Emissions.xlsx') # xlsx file with data on emissions"
   ]
  },
  {
   "cell_type": "markdown",
   "id": "f7d2c7c5-9f40-46e6-b22c-64263eea8a02",
   "metadata": {},
   "source": [
    "### 1. Data on durables"
   ]
  },
  {
   "cell_type": "markdown",
   "id": "3e38ad7c-5703-4cb4-85e3-b9a166aed3e2",
   "metadata": {},
   "source": [
    "*Mapping of names:*"
   ]
  },
  {
   "cell_type": "code",
   "execution_count": 3,
   "id": "2374de16-8c7e-4b26-9e35-02fdc05e3d8f",
   "metadata": {},
   "outputs": [],
   "source": [
    "namesToInv = {'Boliger': '5110', \n",
    "              'Andre bygninger': '5121',\n",
    "              'Anlæg': '5122',\n",
    "              'Transportmidler': '5131',\n",
    "              'ICT udstyr, andre maskiner og inventar samt våbensystemer': '513x',\n",
    "              'Stambesætninger mv.': '5150',\n",
    "              'Intellektuelle rettigheder': '517x'}\n",
    "namesInvVariables = {'AN.11 Faste aktiver, nettobeholdning, primo året': 'K',\n",
    "                     'P.51c Forbrug af fast realkapital': 'Depr1',\n",
    "                     'P.51g Faste bruttoinvesteringer': 'I',\n",
    "                     'K.3 Tab ved katastrofer': 'Depr2',\n",
    "                     'K.7 Nominelle kapitalgevinster og -tab': 'Depr3',\n",
    "                     'AN.11 Faste aktiver, nettobeholdning ultimo året': 'Kp1'}"
   ]
  },
  {
   "cell_type": "markdown",
   "id": "ff49b552-f06f-42ec-83b9-cd257acd8f0d",
   "metadata": {},
   "source": [
    "Durables data:"
   ]
  },
  {
   "cell_type": "code",
   "execution_count": 4,
   "id": "0d979a2e-3226-4eb0-981a-0f19f39a2514",
   "metadata": {},
   "outputs": [],
   "source": [
    "dur = getDurables(file_k, 'NABK69', namesToInv, namesInvVariables)"
   ]
  },
  {
   "cell_type": "markdown",
   "id": "202f2fc7-af6c-4df7-8164-fa20d7272154",
   "metadata": {},
   "source": [
    "### 2. Read emissions data"
   ]
  },
  {
   "cell_type": "code",
   "execution_count": 5,
   "id": "11d5ec17-331d-4ff6-8503-ec84f3c5e5f2",
   "metadata": {},
   "outputs": [],
   "source": [
    "emissions = emissionsReadData(file_m) # NB: This rescales emission taxes to 1000 DKK - as this is the standard unit used for taxes in the main IO table"
   ]
  },
  {
   "cell_type": "markdown",
   "id": "2265900b-9257-430d-b26d-b555a76aaf55",
   "metadata": {},
   "source": [
    "Emissions on sectoral level is defined only for \"emissions from the Danish economy\" and includes things like international shipping and does not include the LULUCF sector. Also, we only include emissions from the production sectors (and not direct emissions e.g. from households). This scales emissions such that we follow the \"inclusive LULUCF\"-like measure that CO2 targets are formulated in terms of:"
   ]
  },
  {
   "cell_type": "code",
   "execution_count": 6,
   "id": "821eb28b-2c7c-4d37-927d-da003f3aea9e",
   "metadata": {},
   "outputs": [],
   "source": [
    "emissions['qCO2'] = emissions['qCO2'] * (emissions['totalEmissions'] / emissions['qCO2'].groupby('t').sum())"
   ]
  },
  {
   "cell_type": "markdown",
   "id": "de22c7fe-e605-4267-8bed-d1db0ecd21d8",
   "metadata": {},
   "source": [
    "### 3. IO data"
   ]
  },
  {
   "cell_type": "markdown",
   "id": "6a320386-dce0-49b2-8d92-c906960e728f",
   "metadata": {},
   "source": [
    "IO data is a bit more complicated, as they are not naturally arranged as time series (each year is a large matrix). As we already have IO data functions available that deals with the data year-by-year, we loop over the relevant years ad extract and adjust relevant data along the way.\n",
    "\n",
    "*Note: Data on durables uses units mio. DKK, whereas the rest of the IO data uses 1000 DKK. Here, we rescale to make everything in 100 mio DKK.*\n",
    "\n",
    "*The standard settings for doing this with NR69 detailed dataset in English:*"
   ]
  },
  {
   "cell_type": "code",
   "execution_count": 7,
   "id": "f197d763-ae74-4603-833a-b4b4cee07d55",
   "metadata": {},
   "outputs": [],
   "source": [
    "kwargs_v = {} \n",
    "kwargs_v['rowMarkers'] = {'P': {'ref': 'Danish production', 'offset': {}},\n",
    "                          'M': {'ref': 'Imports', 'offset': {}},\n",
    "                          'OT':{'ref': 'Other Foreign Transactions', 'offset': {}},\n",
    "                          'PI':{'ref': 'Primary Factors', 'offset':{}},\n",
    "                          'TI':{'ref': 'Input / final demand, purchasers prices', 'offset':{}},\n",
    "                          'PV':{'ref': 'Total Output', 'offset': {}}\n",
    "                         }\n",
    "kwargs_v['colMarkers'] = {'In': {'ref': 'Input in production (Transaction code 2000)', 'offset': {'colE':-7}},\n",
    "                          'C' : {'ref': 'GFCF', 'offset': {'col0': -5, 'colE': -5}},\n",
    "                          'G_NPISH': {'ref': 'GFCF', 'offset': {'col0': -4, 'colE': -4}},\n",
    "                          'G_MVPC':  {'ref': 'GFCF', 'offset': {'col0': -3, 'colE': -3}},\n",
    "                          'G_NMVPC': {'ref': 'GFCF', 'offset': {'col0': -2, 'colE': -2}},\n",
    "                          'G_CPC':   {'ref': 'GFCF', 'offset': {'col0': -1, 'colE': -1}},\n",
    "                          'I': {'ref': 'GFCF', 'offset':{}},\n",
    "                          'Other': {'ref': 'Other uses', 'offset': {}},\n",
    "                          'T': {'ref': 'Total'}}\n",
    "kwargs_v['category'] = {'taxCategories': ['Product taxes (excl. VAT)', 'VAT', 'Other production taxes'],\n",
    "                        'wageCategory' : 'Wages and Salaries',\n",
    "                        'residualIncomeCategory': 'Gross Surplus and mixed income',\n",
    "                        'itoryCategories': ['5300','5200'],\n",
    "                        'exportCategory': '6000'}\n",
    "kwargs_i = {}\n",
    "kwargs_i['rMarker'] = 'Total investment, purchase prices'\n",
    "kwargs_i['cMarkers'] = ['Investing industries', 'Total']"
   ]
  },
  {
   "cell_type": "markdown",
   "id": "4a730212-7fcc-4a59-95c8-fe449d052688",
   "metadata": {},
   "source": [
    "*Loop through years and collect data:*"
   ]
  },
  {
   "cell_type": "code",
   "execution_count": 8,
   "id": "d1afdd9a-7d0a-4739-b16c-8754f60dad66",
   "metadata": {},
   "outputs": [],
   "source": [
    "dbs = {}\n",
    "for t in range(t0, tE+1):\n",
    "    # Load data:\n",
    "    name = f'IO{t}_full'\n",
    "    file_v = os.path.join(d['rawData'], f'InputOutput_{t}.xlsx')\n",
    "    I = IOfunctions_withoutDurables.readIO(name = name, ws = ws, file_v = file_v, kwargs_v = kwargs_v)\n",
    "    I() # go through standard methods to extract and define data\n",
    "    addDurablesToDb(I.db, dur, t) # add durables data\n",
    "    addEmissionsToDb(I.db, emissions, t) # add emissions data\n",
    "    # investments and durables are measured in mio DKK, the other io data in 1000 DKK; this adjusts this:\n",
    "    [I.db.__setitem__(k, I.db(k)/1000) for k in ('vTax','TotalTax','vD','vC','vC_tax')];\n",
    "    I.cleanOtherForeignTransactions() # Clean up other foreign transactions\n",
    "    AggDB.readSets(I.db) # add sets\n",
    "    I.db['n'] = adj.rc_pd(I.db('n'), ('not', I.db('n_Fother'))) # Clean up\n",
    "    del(I.db.series['n_Fother'])\n",
    "    [I.db.__setitem__(k,stdSort(v.vals)) for k,v in I.db.getTypes(['var','par']).items()]; # Sort indices:\n",
    "    dbs[t] = I.db"
   ]
  },
  {
   "cell_type": "markdown",
   "id": "9e304c08-0eb8-4703-97da-956a6b573628",
   "metadata": {},
   "source": [
    "*Create aggregate database with $t$ index. Note: This operation assumes that definition of symbols remain constant over time. For instant:*\n",
    "* Set elements remain the same (for instance, sectors do not change names over time),\n",
    "* Subset and mappings remain the same over time: We do not add the time index to these, but instead assume that we can simply copy the symbols from the latest database.\n"
   ]
  },
  {
   "cell_type": "code",
   "execution_count": 9,
   "id": "5cc407e7-b80d-4aaf-8b70-bc95108d5a1b",
   "metadata": {},
   "outputs": [],
   "source": [
    "db = GpyDB(name = f'IO69', ws = ws, data_folder = d['processedData'], alias = [('n','nn'), ('n','nnn'), ('s','ss')]) # initialize agg database\n",
    "[db.__setitem__(var, concatVar(dbs, var)) for var in dbs[tE].getTypes(['var','par'])]; # concatenate variables\n",
    "[db.__setitem__(s, dbs[tE](s)) for s in dbs[tE].getTypes(['subset','map'])]; # copy subsets and mappings from the latest database\n",
    "AggDB.readSets(db) # read fundamental sets from the symbols in variables and parameters "
   ]
  },
  {
   "cell_type": "markdown",
   "id": "fcec24e6-030d-44c0-a34c-8097596b563d",
   "metadata": {},
   "source": [
    "Export database:"
   ]
  },
  {
   "cell_type": "code",
   "execution_count": 10,
   "id": "b527c6b8-efea-463d-9f93-64fac516eec7",
   "metadata": {},
   "outputs": [],
   "source": [
    "db.export()"
   ]
  }
 ],
 "metadata": {
  "kernelspec": {
   "display_name": "Python 3 (ipykernel)",
   "language": "python",
   "name": "python3"
  },
  "language_info": {
   "codemirror_mode": {
    "name": "ipython",
    "version": 3
   },
   "file_extension": ".py",
   "mimetype": "text/x-python",
   "name": "python",
   "nbconvert_exporter": "python",
   "pygments_lexer": "ipython3",
   "version": "3.11.8"
  }
 },
 "nbformat": 4,
 "nbformat_minor": 5
}
