{
 "cells": [
  {
   "cell_type": "code",
   "execution_count": 1,
   "id": "93aa1714-554f-4905-9f81-6ce7d90a1cae",
   "metadata": {},
   "outputs": [
    {
     "name": "stdout",
     "output_type": "stream",
     "text": [
      "No clean-up of work-folder\n"
     ]
    }
   ],
   "source": [
    "import os\n",
    "repo = 'CGE_Generator'\n",
    "currProject = os.getcwd().rsplit(os.sep,1)[-1]\n",
    "main = f\"{os.getcwd().split(repo)[0]}{repo}\"\n",
    "os.chdir(main)\n",
    "%run stdPackages.ipynb\n",
    "os.chdir(d['curr'])\n",
    "d['figs'] = os.path.join(d['curr'], 'figs')\n",
    "d['modules'] = os.path.join(d['curr'], 'modules')"
   ]
  }
 ],
 "metadata": {
  "kernelspec": {
   "display_name": "Python 3 (ipykernel)",
   "language": "python",
   "name": "python3"
  },
  "language_info": {
   "codemirror_mode": {
    "name": "ipython",
    "version": 3
   },
   "file_extension": ".py",
   "mimetype": "text/x-python",
   "name": "python",
   "nbconvert_exporter": "python",
   "pygments_lexer": "ipython3",
   "version": "3.11.8"
  }
 },
 "nbformat": 4,
 "nbformat_minor": 5
}
