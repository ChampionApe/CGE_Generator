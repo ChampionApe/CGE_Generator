{
 "cells": [
  {
   "cell_type": "code",
   "execution_count": 1,
   "id": "57e50b9c-fd24-4fc9-a6ab-14f3212f3149",
   "metadata": {},
   "outputs": [
    {
     "name": "stdout",
     "output_type": "stream",
     "text": [
      "No clean-up of work-folder\n"
     ]
    }
   ],
   "source": [
    "%run StdPackages.ipynb"
   ]
  },
  {
   "cell_type": "markdown",
   "id": "fdb8948c-a406-400d-848f-df70192f988c",
   "metadata": {},
   "source": [
    "### 1. Load data:"
   ]
  },
  {
   "cell_type": "markdown",
   "id": "a902ccd8-a18d-43d8-8ea7-eade6f3ed48a",
   "metadata": {},
   "source": [
    "*Specify raw data:*"
   ]
  },
  {
   "cell_type": "code",
   "execution_count": 2,
   "id": "087667c8-e57d-4e09-b88f-25981c479be4",
   "metadata": {},
   "outputs": [],
   "source": [
    "name = 'IO2018'\n",
    "file_v = os.path.join(d['data'], 'IO2018_v.xlsx')\n",
    "file_i = os.path.join(d['data'], 'IO2018_I.xlsx')\n",
    "file_k = os.path.join(d['data'], 'IO2018_K.xlsx')\n",
    "file_p = None # no specific price data\n",
    "file_mappings = os.path.join(d['data'], 'GR2018_mappings.xlsx')"
   ]
  },
  {
   "cell_type": "markdown",
   "id": "b21d09b7-1fce-4055-8dd0-3e7ac63e1e48",
   "metadata": {},
   "source": [
    "*Initialize class and process data:*"
   ]
  },
  {
   "cell_type": "code",
   "execution_count": 3,
   "id": "20660e47-12ee-4d10-895f-bfb54d2dce0b",
   "metadata": {},
   "outputs": [
    {
     "data": {
      "text/plain": [
       "<pyDatabases.gpyDB.gpyDB.GpyDB at 0x19a219093d0>"
      ]
     },
     "execution_count": 3,
     "metadata": {},
     "output_type": "execute_result"
    }
   ],
   "source": [
    "I = IOfunctions.readIO(name = name, file_v = file_v, file_i = file_i, file_k = file_k) # because of default options in the class, this is an equivalent statement\n",
    "I()"
   ]
  },
  {
   "cell_type": "markdown",
   "id": "439caeca-7224-4307-87b0-ecdddddaa13d",
   "metadata": {},
   "source": [
    "### 2. Align value, investment, and durables data"
   ]
  },
  {
   "cell_type": "markdown",
   "id": "547f8e30-7e43-4da1-93d3-6b73130450d3",
   "metadata": {},
   "source": [
    "#### 2.1. Align scales for the different datasets"
   ]
  },
  {
   "cell_type": "markdown",
   "id": "8fa2948c-9111-4830-b904-e3a94d7da92a",
   "metadata": {},
   "source": [
    "The value and investment data is measured in 1000 DKK - the durable data is on mio. DKK. Here we take all data that are not from the durables data and rescale to mio. DKK:"
   ]
  },
  {
   "cell_type": "code",
   "execution_count": 4,
   "id": "6a805df7-729b-4633-9de9-a4184c34ef54",
   "metadata": {},
   "outputs": [],
   "source": [
    "[I.db.__setitem__(k, I.db.get(k)/1000) for k in ('vTax','TotalTax','vD','vC','vC_tax','vD_inv')];"
   ]
  },
  {
   "cell_type": "markdown",
   "id": "260cbed7-e5f6-480d-869e-c5a6290db82e",
   "metadata": {},
   "source": [
    "#### 2.2. From 69 to 146 sectors "
   ]
  },
  {
   "cell_type": "markdown",
   "id": "ee917dcd-f24d-48a3-b392-499cf9f196d9",
   "metadata": {},
   "source": [
    "Investments and durables data are on 69 sector specification; the value data uses 146 sector. We employ the mapping from ```GR2018_mappings``` to split data to 146 sectors."
   ]
  },
  {
   "cell_type": "code",
   "execution_count": 5,
   "id": "a3110760-9cff-4e65-881b-502832f128f7",
   "metadata": {},
   "outputs": [],
   "source": [
    "wb_mappings = read.simpleLoad(file_mappings)\n",
    "auxMaps = read.maps(wb_mappings['AuxMaps'])\n",
    "m = auxMaps['s69tos146'].vals"
   ]
  },
  {
   "cell_type": "markdown",
   "id": "ae6df548-97c4-42d3-a284-5a094ebdd17d",
   "metadata": {},
   "source": [
    "*Force it to use strings in the mapping:*"
   ]
  },
  {
   "cell_type": "code",
   "execution_count": 6,
   "id": "5a8db99a-791c-4b27-bf05-a122f3a69af5",
   "metadata": {},
   "outputs": [],
   "source": [
    "m = m.set_levels([level.astype(str) for level in m.levels])"
   ]
  },
  {
   "cell_type": "markdown",
   "id": "0dd2e260-a29a-4728-bd7c-5f2e3f8c4340",
   "metadata": {},
   "source": [
    "*Create weights using the size the sectors:*"
   ]
  },
  {
   "cell_type": "code",
   "execution_count": 7,
   "id": "de97a380-0af3-4614-814e-375b0659db70",
   "metadata": {},
   "outputs": [],
   "source": [
    "sectorValue = adjMultiIndex.applyMult( adj.rc_pd(I.db.get('vD').groupby('s').sum()+I.db.get('TotalTax'), I.db.get('s_p')),\n",
    "                                      m.rename(['sAgg','s']))\n",
    "weights = sectorValue / (sectorValue.groupby('sAgg').sum())"
   ]
  },
  {
   "cell_type": "markdown",
   "id": "ac9ae5a8-8b3f-4f98-8dad-d67ad7a3ce8c",
   "metadata": {},
   "source": [
    "*Apply to ```vD_inv```, ```vD_dur``` and ```vD_depr``` - the only three variables defined over the smaller 69 index: (NB: Only run this cell once!)*"
   ]
  },
  {
   "cell_type": "code",
   "execution_count": 8,
   "id": "9d55b35b-6fb5-49c6-af10-e7e6271e5b4a",
   "metadata": {},
   "outputs": [],
   "source": [
    "dataCheck = {'vD_inv': sum(I.db.get('vD_inv')),\n",
    "             'vD_dur': sum(I.db.get('vD_dur')),\n",
    "             'vD_depr': sum(I.db.get('vD_depr'))}\n",
    "I.db['vD_inv'] = (I.db.get('vD_inv').rename_axis(index = {'s':'sAgg'}) * weights).droplevel('sAgg')\n",
    "I.db['vD_dur'] = (I.db.get('vD_dur').rename_axis(index = {'s':'sAgg'}) * weights).droplevel('sAgg')\n",
    "I.db['vD_depr']= (I.db.get('vD_depr').rename_axis(index = {'s':'sAgg'}) * weights).droplevel('sAgg')\n",
    "for k in dataCheck:\n",
    "    assert abs(dataCheck[k]-sum(I.db.get(k)))<1e-6, f\"Disaggregation from 69 to 146 sector changed the sum of {k}\""
   ]
  },
  {
   "cell_type": "markdown",
   "id": "ac80b2dc-14c9-4afd-abb6-fce13a1ae6c5",
   "metadata": {},
   "source": [
    "#### 2.3. From 12 to 7 durables"
   ]
  },
  {
   "cell_type": "markdown",
   "id": "22ed1488-e968-461d-8616-4418a5859385",
   "metadata": {},
   "source": [
    "*Use a specific syntax to detect mapping from 12 to 7-level aggregation:*"
   ]
  },
  {
   "cell_type": "code",
   "execution_count": 9,
   "id": "e3184e3d-989a-4eff-9983-fcd9741f8707",
   "metadata": {},
   "outputs": [],
   "source": [
    "nfull = I.db.get('s_i') # original set, lots of indices\n",
    "ni = I.db.get('vD_inv').index.levels[0] # new index - fewer, aggregated indices\n",
    "syntax = ni[ni.str.endswith('x')].str.rstrip('x') \n",
    "subset = nfull[nfull.str.startswith(tuple(syntax))]\n",
    "nfull2ni = {k: k  if not k.startswith(tuple(syntax)) else k[:-1]+'x' for k in nfull} # mapping from full set to more aggregated one"
   ]
  },
  {
   "cell_type": "markdown",
   "id": "61226903-c666-43c3-84b7-900dfac5e691",
   "metadata": {},
   "source": [
    "*Apply mapping to all symbols in the database:*"
   ]
  },
  {
   "cell_type": "code",
   "execution_count": 10,
   "id": "7107b90f-fa2e-4dc7-a940-a63af55d623f",
   "metadata": {},
   "outputs": [
    {
     "data": {
      "text/plain": [
       "<pyDatabases.gpyDB.gpyDB.GpyDB at 0x19a219093d0>"
      ]
     },
     "execution_count": 10,
     "metadata": {},
     "output_type": "execute_result"
    }
   ],
   "source": [
    "aggregateDB.readSets(I.db) # the aggDB method works through manipulations of sets s,n - this defines them by reading from other symbols in the database.\n",
    "m = pd.MultiIndex.from_tuples(nfull2ni.items(), names = ['s','sAgg']) # define mapping as multiindex\n",
    "m = m.union(adj.rc_pd(pd.MultiIndex.from_arrays([I.db.get('s'), I.db.get('s').rename('sAgg')]), ('not', m.droplevel('sAgg'))), sort = False) # all elements that are not in the mapping, fill in as a mapping on the form (x,x).\n",
    "aggregateDB.aggDB(I.db, m)"
   ]
  },
  {
   "cell_type": "markdown",
   "id": "87768309-ae7d-4a52-9c35-b2916f0ebbcf",
   "metadata": {},
   "source": [
    "#### 2.4. Clean up \"other foreign transactions\""
   ]
  },
  {
   "cell_type": "markdown",
   "id": "6baaa441-d5f2-41ce-a638-5413b25f6fae",
   "metadata": {},
   "source": [
    "*Map \"other foreign transactions\" to the standard import categories:*"
   ]
  },
  {
   "cell_type": "code",
   "execution_count": 11,
   "id": "9228c360-d10a-4484-b7c6-6c4bf1e471a8",
   "metadata": {},
   "outputs": [],
   "source": [
    "I.cleanOtherForeignTransactions()"
   ]
  },
  {
   "cell_type": "markdown",
   "id": "6311fb4c-6cd4-49b6-9750-e3d78f2287f7",
   "metadata": {},
   "source": [
    "*Here, we remove the ```n_Fother``` entirely from the database as well (not in automated clean up):*"
   ]
  },
  {
   "cell_type": "code",
   "execution_count": 12,
   "id": "3f528f4c-91eb-46c4-b606-3892f00de58f",
   "metadata": {},
   "outputs": [],
   "source": [
    "I.db['n'] = adj.rc_pd(I.db.get('n'), ('not', I.db.get('n_Fother')))\n",
    "del(I.db.series['n_Fother'])"
   ]
  },
  {
   "cell_type": "markdown",
   "id": "e4bde520-7c89-40f5-bead-50678ece5f58",
   "metadata": {},
   "source": [
    "### 3. Reorder sets"
   ]
  },
  {
   "cell_type": "code",
   "execution_count": 13,
   "id": "9224e74e-d1fe-4c20-b416-203fbe46fd7f",
   "metadata": {},
   "outputs": [],
   "source": [
    "[I.db.__setitem__(k,IOfunctions.stdSort(v.vals)) for k,v in I.db.getTypes(['variable','parameter']).items()];"
   ]
  },
  {
   "cell_type": "markdown",
   "id": "c07a3b65-d4d9-46b1-8db6-8f6ef236e12f",
   "metadata": {},
   "source": [
    "### 4. Add additional data/regulation"
   ]
  },
  {
   "cell_type": "markdown",
   "id": "fbf0a863-5d81-4d7a-a2cb-a10f46b70d0a",
   "metadata": {},
   "source": [
    "Add ```vAssets``` defined over sectors ```s``` and types of investment goods ```a``` - here just the totals for the households and the government sectors:"
   ]
  },
  {
   "cell_type": "code",
   "execution_count": 14,
   "id": "40816752-4007-44a9-8988-0bd7be84ab1a",
   "metadata": {},
   "outputs": [],
   "source": [
    "totalNetWealth = pd.Series([3520405.512, 25287], index = pd.MultiIndex.from_tuples([('HH','total'), ('G','total')], names = ['s','a']))\n",
    "gpyDB.add_or_merge_vals(I.db, totalNetWealth, 'vAssets')"
   ]
  },
  {
   "cell_type": "markdown",
   "id": "9e01f5ff-601a-401a-96f2-6b08dcfdaea0",
   "metadata": {},
   "source": [
    "### 5. Export full database"
   ]
  },
  {
   "cell_type": "code",
   "execution_count": 15,
   "id": "60536002-2a9d-4902-ac1a-e91a3ee9fb56",
   "metadata": {},
   "outputs": [],
   "source": [
    "I.db.export(repo = d['data'])"
   ]
  }
 ],
 "metadata": {
  "kernelspec": {
   "display_name": "Python 3 (ipykernel)",
   "language": "python",
   "name": "python3"
  },
  "language_info": {
   "codemirror_mode": {
    "name": "ipython",
    "version": 3
   },
   "file_extension": ".py",
   "mimetype": "text/x-python",
   "name": "python",
   "nbconvert_exporter": "python",
   "pygments_lexer": "ipython3",
   "version": "3.9.7"
  }
 },
 "nbformat": 4,
 "nbformat_minor": 5
}
