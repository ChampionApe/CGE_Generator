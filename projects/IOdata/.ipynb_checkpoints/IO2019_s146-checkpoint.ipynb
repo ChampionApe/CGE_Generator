{
 "cells": [
  {
   "cell_type": "code",
   "execution_count": 1,
   "id": "4321264e-0993-4869-ab40-3b375f10ccba",
   "metadata": {},
   "outputs": [
    {
     "name": "stdout",
     "output_type": "stream",
     "text": [
      "No clean-up of work-folder\n"
     ]
    }
   ],
   "source": [
    "%run StdPackages.ipynb\n",
    "d['processedData'] = os.path.join(d['data'],'processedData') # update to raw data folder\n",
    "os.chdir(d['py'])\n",
    "import IOfunctions_withoutDurables\n",
    "from loadIO import *\n",
    "os.chdir(d['curr'])"
   ]
  },
  {
   "cell_type": "markdown",
   "id": "b6debc54-5656-4790-87b9-a9cb5d549f4b",
   "metadata": {},
   "source": [
    "*Settings:*"
   ]
  },
  {
   "cell_type": "code",
   "execution_count": 2,
   "id": "39bb3fda-f9fd-4cf6-8cca-904fb04f7a60",
   "metadata": {},
   "outputs": [],
   "source": [
    "t = 2019\n",
    "ws = GpyDB.initWs(d['work']) # initialize a workspace so we don't have to do this every time we create a database\n",
    "name = f'IO{t}_s146_dur7'\n",
    "file_v = os.path.join(d['data'], f'IO{t}_v.xlsx')\n",
    "file_k = os.path.join(d['data'], 'rawData69', 'Durables.xlsx') # xlsx file with data on durables\n",
    "file_m = os.path.join(d['data'], 'rawData69', 'Emissions.xlsx') # xlsx file with data on emissions\n",
    "file_p = None # no specific price data\n",
    "file_mappings = os.path.join(d['data'], f'GR{t}_mappings.xlsx')"
   ]
  },
  {
   "cell_type": "markdown",
   "id": "d85366f4-3657-4631-8152-1f05d31fcbcf",
   "metadata": {},
   "source": [
    "### 1. Data on durables"
   ]
  },
  {
   "cell_type": "markdown",
   "id": "5baea313-4cc0-4535-888c-9c3f55d72334",
   "metadata": {},
   "source": [
    "*Mapping of names:*"
   ]
  },
  {
   "cell_type": "code",
   "execution_count": 3,
   "id": "22d125c7-707c-48e2-97c7-0b0aae485212",
   "metadata": {},
   "outputs": [],
   "source": [
    "namesToInv = {'Boliger': '5110', \n",
    "              'Andre bygninger': '5121',\n",
    "              'Anlæg': '5122',\n",
    "              'Transportmidler': '5131',\n",
    "              'ICT udstyr, andre maskiner og inventar samt våbensystemer': '513x',\n",
    "              'Stambesætninger mv.': '5150',\n",
    "              'Intellektuelle rettigheder': '517x'}\n",
    "namesInvVariables = {'AN.11 Faste aktiver, nettobeholdning, primo året': 'K',\n",
    "                     'P.51c Forbrug af fast realkapital': 'Depr1',\n",
    "                     'P.51g Faste bruttoinvesteringer': 'I',\n",
    "                     'K.3 Tab ved katastrofer': 'Depr2',\n",
    "                     'K.7 Nominelle kapitalgevinster og -tab': 'Depr3',\n",
    "                     'AN.11 Faste aktiver, nettobeholdning ultimo året': 'Kp1'}"
   ]
  },
  {
   "cell_type": "markdown",
   "id": "66a4c7ac-2e71-4e8e-b72c-dbd35aa9bb67",
   "metadata": {},
   "source": [
    "Durables data:"
   ]
  },
  {
   "cell_type": "code",
   "execution_count": 4,
   "id": "8b283f74-e443-4e45-b214-42599c32984f",
   "metadata": {},
   "outputs": [],
   "source": [
    "dur = getDurables(file_k, 'NABK69', namesToInv, namesInvVariables)"
   ]
  },
  {
   "cell_type": "markdown",
   "id": "a3c3183c-d4a9-4f1a-a10a-fe7b35f28a59",
   "metadata": {},
   "source": [
    "### 2. Read emissions data"
   ]
  },
  {
   "cell_type": "code",
   "execution_count": 5,
   "id": "e5ca03c8-35ec-408d-bf23-4a8c916e4666",
   "metadata": {},
   "outputs": [],
   "source": [
    "emissions = emissionsReadData(file_m) # NB: This rescales emission taxes to 1000 DKK - as this is the standard unit used for taxes in the main IO table"
   ]
  },
  {
   "cell_type": "markdown",
   "id": "74c7fa03-66f5-42be-bd2e-202828c20404",
   "metadata": {},
   "source": [
    "Emissions on sectoral level is defined only for \"emissions from the Danish economy\" and includes things like international shipping and does not include the LULUCF sector. Also, we only include emissions from the production sectors (and not direct emissions e.g. from households). This scales emissions such that we follow the \"inclusive LULUCF\"-like measure that CO2 targets are formulated in terms of:"
   ]
  },
  {
   "cell_type": "code",
   "execution_count": 6,
   "id": "08f90ccf-f6cf-4429-b40b-e114e6c1d210",
   "metadata": {},
   "outputs": [],
   "source": [
    "emissions['qCO2'] = emissions['qCO2'] * (emissions['totalEmissions'] / emissions['qCO2'].groupby('t').sum())"
   ]
  },
  {
   "cell_type": "markdown",
   "id": "1200b877-dc88-4361-b3d3-1e79ff40c9b9",
   "metadata": {},
   "source": [
    "Next, rescale emissions to be units of Danish 1990 emissions (the metric often used in climate policy):"
   ]
  },
  {
   "cell_type": "code",
   "execution_count": 7,
   "id": "de82d22e-a139-4aa8-85c1-7176957dd476",
   "metadata": {},
   "outputs": [],
   "source": [
    "emissions['M1990'] = emissions['qCO2'].xs('1990',level='t').sum()\n",
    "emissions['qCO2'] = emissions['qCO2'] / emissions['M1990']"
   ]
  },
  {
   "cell_type": "markdown",
   "id": "1f3ebfc6-a38b-4ed2-91d7-0d6258e7c8f3",
   "metadata": {},
   "source": [
    "### 3. IO data"
   ]
  },
  {
   "cell_type": "markdown",
   "id": "f7518653-1076-447a-975f-1fd8cbc785d9",
   "metadata": {},
   "source": [
    "Read IO data:"
   ]
  },
  {
   "cell_type": "code",
   "execution_count": 8,
   "id": "c2a7395d-3281-4317-90a5-33746c6741eb",
   "metadata": {},
   "outputs": [
    {
     "data": {
      "text/plain": [
       "<pyDatabases.gpyDB.gpyDB.GpyDB at 0x26a9eaee810>"
      ]
     },
     "execution_count": 8,
     "metadata": {},
     "output_type": "execute_result"
    }
   ],
   "source": [
    "I = IOfunctions_withoutDurables.readIO(name = name, ws = ws, file_v = file_v)\n",
    "I() # go through standard methods to extract and define data    "
   ]
  },
  {
   "cell_type": "markdown",
   "id": "eb4cd4e8-3c94-4d89-9443-cdbf1b40f7e3",
   "metadata": {},
   "source": [
    "The durable/investment data is generally defined with 7 types; the value data here includes 12 that we start by aggregating.\n",
    "\n",
    "We create the mapping to the more aggregated set using a specific syntax - that the more aggregated set has replaced the last integer with 'x':"
   ]
  },
  {
   "cell_type": "code",
   "execution_count": 9,
   "id": "b95ac894-b9ce-4561-bbed-654a5a9d5069",
   "metadata": {},
   "outputs": [],
   "source": [
    "nfull = I.db('s_i') # original set, lots of indices\n",
    "ni = dur['vD_inv'].index.levels[0] # new index - fewer, aggregated indices\n",
    "m = pd.MultiIndex.from_arrays([nfull, [k if k in ni else k[:-1]+'x' for k in nfull]], names = ['s','sAgg'])"
   ]
  },
  {
   "cell_type": "markdown",
   "id": "8d5cdd86-9fbe-47b5-9465-53fab542f18d",
   "metadata": {},
   "source": [
    "*Apply mapping to all symbols in the database:*"
   ]
  },
  {
   "cell_type": "code",
   "execution_count": 10,
   "id": "9a02c8a5-1692-4481-99d5-4e226f060002",
   "metadata": {},
   "outputs": [
    {
     "data": {
      "text/plain": [
       "<pyDatabases.gpyDB.gpyDB.GpyDB at 0x26a9eaee810>"
      ]
     },
     "execution_count": 10,
     "metadata": {},
     "output_type": "execute_result"
    }
   ],
   "source": [
    "AggDB.updSetsFromSyms(I.db, types = ['var','par']) # the aggDB method works through manipulations of sets s,n - this defines them by reading from other symbols in the database.\n",
    "m = m.union(adj.rc_pd(pd.MultiIndex.from_arrays([I.db('s'), I.db('s').rename('sAgg')]), ('not', m.droplevel('sAgg'))), sort = False) # all elements that are not in the mapping, fill in as a mapping on the form (x,x).\n",
    "AggDB.aggDB(I.db, m)"
   ]
  },
  {
   "cell_type": "markdown",
   "id": "713a3dc8-a8a7-468d-9046-9b52946f6db0",
   "metadata": {},
   "source": [
    "### 4. Combine data"
   ]
  },
  {
   "cell_type": "markdown",
   "id": "bb077290-aaba-447e-8ae6-72c27f04d7f5",
   "metadata": {},
   "source": [
    "#### 4.1. Map durable/investment data to 146"
   ]
  },
  {
   "cell_type": "markdown",
   "id": "8525d43b-dd57-4b1d-888a-17368ef888c6",
   "metadata": {},
   "source": [
    "Investment/durable data is only available on the s69 definition, the value data on 146 sectors. We map to 146 sectors using simple relative sizes of each sector."
   ]
  },
  {
   "cell_type": "code",
   "execution_count": 11,
   "id": "b9f30d89-0a13-43fb-9247-04e7319e8f76",
   "metadata": {},
   "outputs": [],
   "source": [
    "wb_mappings = DbFromExcel.simpleLoad(file_mappings)\n",
    "auxMaps = DbFromExcel.map(wb_mappings['AuxMaps'])\n",
    "m = auxMaps['s69tos146'].vals\n",
    "m = m.set_levels([l.astype(str) for l in m.levels]) # str definition of sectors"
   ]
  },
  {
   "cell_type": "markdown",
   "id": "48b671bf-2f66-4cde-9ff8-b46c44ddc126",
   "metadata": {},
   "source": [
    "Create weights using the size the sectors:"
   ]
  },
  {
   "cell_type": "code",
   "execution_count": 12,
   "id": "ac6cc1cc-2772-4990-bccc-73d937c075a7",
   "metadata": {},
   "outputs": [],
   "source": [
    "sectorValue = adjMultiIndex.applyMult( adj.rc_pd(I.db('vD').groupby('s').sum()+I.db('TotalTax'), I.db('s_p')),\n",
    "                                      m.rename(['sAgg','s']))\n",
    "weights = sectorValue / (sectorValue.groupby('sAgg').sum())"
   ]
  },
  {
   "cell_type": "markdown",
   "id": "f8202af6-0501-4cd4-8315-5b5b89ba98fe",
   "metadata": {},
   "source": [
    "Apply mapping:"
   ]
  },
  {
   "cell_type": "code",
   "execution_count": 13,
   "id": "4193aef6-c113-447b-addb-bba465e751ee",
   "metadata": {},
   "outputs": [],
   "source": [
    "dataCheck = {k: sum(dur[k]) for k in ('vD_inv','vD_dur','vD_depr')} | {k: sum(emissions[k]) for k in ('qCO2','τ')}\n",
    "for k in ('vD_inv','vD_dur','vD_depr'):\n",
    "    dur[k] = (dur[k].rename_axis(index={'s':'sAgg'}) * weights).droplevel('sAgg').reorder_levels(dur[k].index.names)\n",
    "for k in ('qCO2','τ'):\n",
    "    emissions[k] = (emissions[k].rename_axis(index={'s':'sAgg'}) * weights).droplevel('sAgg').reorder_levels(emissions[k].index.names)\n",
    "# for k in dataCheck:\n",
    "#     assert abs(dataCheck[k]-sum(dur[k]))<1e-5, f\"Disaggregation from 69 to 146 sector changed the sum of {k}\""
   ]
  },
  {
   "cell_type": "markdown",
   "id": "7a160935-fff4-46c4-a9ec-5c728b22353a",
   "metadata": {},
   "source": [
    "#### 4.2. Merge to one database"
   ]
  },
  {
   "cell_type": "markdown",
   "id": "6715f31d-de63-4e2b-91ee-a38c6ae66b7c",
   "metadata": {},
   "source": [
    "Merge durable, emissions, and IO data:"
   ]
  },
  {
   "cell_type": "code",
   "execution_count": 14,
   "id": "c80a69d1-60be-430d-8c18-dcf47a6edbbe",
   "metadata": {},
   "outputs": [],
   "source": [
    "addDurablesToDb(I.db, dur, t)\n",
    "addEmissionsToDb(I.db, emissions, t)"
   ]
  },
  {
   "cell_type": "markdown",
   "id": "1391441b-d09c-4995-976e-d222fdf1bc72",
   "metadata": {},
   "source": [
    "Small adjustments to the data, e.g. rescaling data from different sources (durable/investment data is defined in mio DKK, value data in 1000 DKK):"
   ]
  },
  {
   "cell_type": "code",
   "execution_count": 15,
   "id": "d83f8638-7945-4c98-a0b8-4ceb18ddc6f6",
   "metadata": {},
   "outputs": [],
   "source": [
    "[I.db.__setitem__(k, I.db(k)/1000) for k in ('vTax','TotalTax','vD','vC','vC_tax')];\n",
    "I.cleanOtherForeignTransactions() # Clean up other foreign transactions\n",
    "AggDB.readSets(I.db) # read sets from definition of other symbols in the database\n",
    "I.db['n'] = adj.rc_pd(I.db('n'), ('not', I.db('n_Fother'))) # Clean up\n",
    "del(I.db.series['n_Fother'])\n",
    "[I.db.__setitem__(k,stdSort(v.vals)) for k,v in I.db.getTypes(['var','par']).items()]; # Sort indices in standard order"
   ]
  },
  {
   "cell_type": "markdown",
   "id": "d94de7be-396a-45cb-8df3-7c6b123f2137",
   "metadata": {},
   "source": [
    "### 5. Export"
   ]
  },
  {
   "cell_type": "markdown",
   "id": "ce2d3a28-658f-4351-8cdc-2d3c27357f7b",
   "metadata": {},
   "source": [
    "Store level of emissions in 1990, add the unit used (generally at least, here mio DKK), and export database:"
   ]
  },
  {
   "cell_type": "code",
   "execution_count": 16,
   "id": "bddd6dee-64f0-43aa-9bd5-b67c4cb408e3",
   "metadata": {},
   "outputs": [],
   "source": [
    "I.db['M1990'] = emissions['M1990']\n",
    "I.db._scale = 1e6 \n",
    "I.db.data_folder = d['processedData']\n",
    "I.db.export()"
   ]
  }
 ],
 "metadata": {
  "kernelspec": {
   "display_name": "Python 3 (ipykernel)",
   "language": "python",
   "name": "python3"
  },
  "language_info": {
   "codemirror_mode": {
    "name": "ipython",
    "version": 3
   },
   "file_extension": ".py",
   "mimetype": "text/x-python",
   "name": "python",
   "nbconvert_exporter": "python",
   "pygments_lexer": "ipython3",
   "version": "3.11.8"
  }
 },
 "nbformat": 4,
 "nbformat_minor": 5
}
