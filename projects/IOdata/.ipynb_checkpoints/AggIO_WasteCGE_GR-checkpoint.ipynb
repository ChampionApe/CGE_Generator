{
 "cells": [
  {
   "cell_type": "code",
   "execution_count": 1,
   "id": "84734827-97f6-43a1-9b7d-86b5a04ccb54",
   "metadata": {},
   "outputs": [
    {
     "name": "stdout",
     "output_type": "stream",
     "text": [
      "No clean-up of work-folder\n"
     ]
    }
   ],
   "source": [
    "%run StdPackages.ipynb\n",
    "d['processedData'] = os.path.join(d['data'],'processedData') # update to raw data folder\n",
    "os.chdir(d['py'])\n",
    "from loadIO import *\n",
    "import RAS"
   ]
  },
  {
   "cell_type": "markdown",
   "id": "16cbf3b6-6d1e-4948-9681-a825cac675fd",
   "metadata": {},
   "source": [
    "# Aggregate IO data for WasteCGE"
   ]
  },
  {
   "cell_type": "markdown",
   "id": "64e528b3-46f5-45e1-af6b-ced39b80e58d",
   "metadata": {},
   "source": [
    "This aggregation uses the GreenREFORM aggregation of sectors. We map to a single durable type."
   ]
  },
  {
   "cell_type": "markdown",
   "id": "144a4220-087a-4f66-98b4-15ef7fd4cc79",
   "metadata": {},
   "source": [
    "## 1. Aggregate IO data"
   ]
  },
  {
   "cell_type": "markdown",
   "id": "067bf14b-dced-49a1-9ac2-0b4db62c83de",
   "metadata": {},
   "source": [
    "Load IO data:"
   ]
  },
  {
   "cell_type": "code",
   "execution_count": 2,
   "id": "8dc6f65b-3f0a-48b1-9e1a-5e19a4cde852",
   "metadata": {},
   "outputs": [],
   "source": [
    "t0 = 2019\n",
    "fullIO = os.path.join(d['processedData'], f'IO{t0}_s146_dur7')\n",
    "name = f'IO{t0}_WCGE_GR' # add new name for the database when exporting\n",
    "db = GpyDB(fullIO, name = name)"
   ]
  },
  {
   "cell_type": "markdown",
   "id": "38df5578-c204-407e-b318-fd721242e033",
   "metadata": {},
   "source": [
    "Load GR mapping:"
   ]
  },
  {
   "cell_type": "code",
   "execution_count": 3,
   "id": "aefc6bbd-667f-48d3-95f5-b0510baea171",
   "metadata": {},
   "outputs": [],
   "source": [
    "maps = DbFromExcel.dbFromWB(os.path.join(d['data'],f'GR{t0}_mappings.xlsx'), {'map': 'AuxMaps'})\n",
    "m = maps['s146tosGR'].vals\n",
    "m = m.set_levels([l.astype(str) for l in m.levels]) # str definition of sectors"
   ]
  },
  {
   "attachments": {},
   "cell_type": "markdown",
   "id": "af66b99e-eda0-4d5f-bba6-7f0d37521e5f",
   "metadata": {},
   "source": [
    "In the GreenREFORM mapping, we replace the sector 35011 with the name 'Energy' (this covers \"Electricity production\", \"Transmission, distribution, and trade in electricity\", and \"heat distribution\" (but not gas distribution)."
   ]
  },
  {
   "cell_type": "code",
   "execution_count": 4,
   "id": "12065f7f-86d4-4654-9027-b391000c0855",
   "metadata": {},
   "outputs": [],
   "source": [
    "mDur = pd.MultiIndex.from_tuples([(k, 'K') for k in db('s_i')], names = ['n','nn'])\n",
    "m = m.set_levels(m.levels[-1].str.replace('35011','Energy'), level = 'ss')"
   ]
  },
  {
   "cell_type": "markdown",
   "id": "0584e943-fe57-444d-a218-aa3580cb572d",
   "metadata": {},
   "source": [
    "Create I_K (flow investment variable corresponding to durable stock $K$):"
   ]
  },
  {
   "cell_type": "code",
   "execution_count": 5,
   "id": "27c7b492-7825-41fb-be45-8e6648e19c71",
   "metadata": {},
   "outputs": [],
   "source": [
    "mDur_s = mDur.set_levels(mDur.levels[-1].map(lambda x: 'I_'+x), level = 1).rename(['s','ss'])"
   ]
  },
  {
   "cell_type": "markdown",
   "id": "775ce8ee-93d3-4e54-8b24-7ba2571f0907",
   "metadata": {},
   "source": [
    "Create full sector mapping (if not covered by the GreenREFORM mapping, keep sector definition):"
   ]
  },
  {
   "cell_type": "code",
   "execution_count": 6,
   "id": "aaa41a66-f72a-435b-a43e-94dcbaa56a19",
   "metadata": {},
   "outputs": [],
   "source": [
    "ms = m.union(mDur_s)\n",
    "ms_neutral = pd.MultiIndex.from_arrays([db('s'), db('s').rename('ss')]) # neutral mapping from (x,x)\n",
    "m_sector = ms.union(adj.rc_pd(ms_neutral, ('not', ms.levels[0]))) # full mapping: Use specific mapping if this exists, otherwise default to neutral mapping."
   ]
  },
  {
   "cell_type": "markdown",
   "id": "e84ba9f4-b75b-443b-a6a9-a65a732a4a68",
   "metadata": {},
   "source": [
    "*Apply mapping:*"
   ]
  },
  {
   "cell_type": "code",
   "execution_count": 7,
   "id": "e489a794-bdb8-491c-858b-9714ee5c588b",
   "metadata": {},
   "outputs": [],
   "source": [
    "AggDB.aggDB(db, m_sector);"
   ]
  },
  {
   "cell_type": "markdown",
   "id": "db7ca329-6de7-43d2-9b58-4e6116a33cd5",
   "metadata": {},
   "source": [
    "*Adjust goods index:*"
   ]
  },
  {
   "cell_type": "code",
   "execution_count": 8,
   "id": "4d59be84-ba51-4f7b-8b95-c82e4d9efd73",
   "metadata": {},
   "outputs": [],
   "source": [
    "mn = m.union(m.set_levels([l+'_F' for l in m.levels])).rename(['n','nn']).union(mDur)\n",
    "mn_neutral = pd.MultiIndex.from_arrays([db('n'), db('n').rename('nn')])\n",
    "m_goods = mn.union(adj.rc_pd(mn_neutral, ('not', mn.levels[0])))"
   ]
  },
  {
   "cell_type": "markdown",
   "id": "1952d540-8ed2-4c6a-99d0-95a65bfc2b2b",
   "metadata": {},
   "source": [
    "*Apply mapping:*"
   ]
  },
  {
   "cell_type": "code",
   "execution_count": 9,
   "id": "dba32d57-ea9d-4695-900f-184e6a7fe8ec",
   "metadata": {},
   "outputs": [],
   "source": [
    "AggDB.aggDB(db, m_goods);"
   ]
  },
  {
   "cell_type": "markdown",
   "id": "66778ef7-4982-4852-a9b4-43cd26ad438a",
   "metadata": {},
   "source": [
    "A range of sectors represent different parts of waste collection/treatment. Here, we manually add this subset of sectors, so we can adjust the modelling of this part later:"
   ]
  },
  {
   "cell_type": "code",
   "execution_count": 10,
   "id": "239a38ef-f3f7-4d1b-8a9c-de2459f4f122",
   "metadata": {},
   "outputs": [],
   "source": [
    "db['s_Waste'] = pd.Index(['38391','38392','38393'], name = 's')"
   ]
  },
  {
   "cell_type": "markdown",
   "id": "caf73692-bf76-4bb2-a314-cd0d9e203717",
   "metadata": {},
   "source": [
    "## 2. Model data"
   ]
  },
  {
   "cell_type": "markdown",
   "id": "f3edc315-36c3-499c-bb66-8ab9a4f0b694",
   "metadata": {},
   "source": [
    "*Clean up some data:*"
   ]
  },
  {
   "cell_type": "code",
   "execution_count": 11,
   "id": "335a677a-d587-4d4f-bbef-96d1f733a567",
   "metadata": {},
   "outputs": [],
   "source": [
    "[db.series.database.pop(k) for k in ('gc','vC','vC_tax')];\n",
    "[db.__setitem__(k, db(k)[db(k)!=0]) for k in db.getTypes(['var'])];"
   ]
  },
  {
   "cell_type": "markdown",
   "id": "8741e5d4-a5ec-4a2c-b2bf-09b83cf75956",
   "metadata": {},
   "source": [
    "IO data is measured in mio DKK. Here, we rescale to billion DKK instead (*Note: This rescales all variables in the database, so it is assumed that everything is measured in absolute values (and not e.g. ratios)*)"
   ]
  },
  {
   "cell_type": "code",
   "execution_count": 12,
   "id": "360db416-1218-45b4-b658-1734e7782fae",
   "metadata": {},
   "outputs": [],
   "source": [
    "factor = 1000\n",
    "[db.__setitem__(k, db(k)/factor) for k in db.getTypes(['var']) if k not in ['qCO2', 'M1990']];\n",
    "db._scale = db._scale * factor"
   ]
  },
  {
   "cell_type": "markdown",
   "id": "cbae4b67-3b4c-4f02-841e-7b0226a2e08c",
   "metadata": {},
   "source": [
    "Translate depreciation of durables to rates, distinguish between investments and durables (flow, stock) with investment good syntax ```I_x``` for durable ```x```. Define mapping ```dur2inv``` and subsets ```dur_p, inv_p```. Add investments and value of durables to the vector ```vD```:"
   ]
  },
  {
   "cell_type": "code",
   "execution_count": 13,
   "id": "6ed414c7-5b8b-4324-be64-18264def18fb",
   "metadata": {},
   "outputs": [],
   "source": [
    "db['rDepr'] = db('vD_depr')/db('vD_dur')\n",
    "db['dur_p'] = db('vD_dur').index.levels[db['vD_dur'].domains.index('n')]\n",
    "db['inv_p'] = db('dur_p').map(lambda x: f'I_{x}')\n",
    "db['dur2inv'] = pd.MultiIndex.from_arrays([db('dur_p'), db('inv_p').rename('nn')])\n",
    "db('vD_inv').index = db('vD_inv').index.set_levels(db('vD_inv').index.levels[db['vD_inv'].domains.index('n')].map(lambda x: f'I_{x}'), level = 'n')\n",
    "db['vD'] = db('vD_inv').combine_first(db('vD')).combine_first(db('vD_dur'))"
   ]
  },
  {
   "cell_type": "markdown",
   "id": "cfa1ba8b-660c-4e9d-ac8b-f19482b42756",
   "metadata": {},
   "source": [
    "### RAS"
   ]
  },
  {
   "cell_type": "markdown",
   "id": "60de9641-e2db-4b96-b9e2-969a08d6efac",
   "metadata": {},
   "source": [
    "Simple RAS algorithm:"
   ]
  },
  {
   "cell_type": "code",
   "execution_count": 14,
   "id": "6bc89cf5-0d92-4869-9251-0c70523de2fe",
   "metadata": {},
   "outputs": [],
   "source": [
    "threshold = .01 # remove values less than 10 mio\n",
    "v0 = adj.rc_pd(db('vD'), ('and', [('or', [db('n_p'), db('n_F')]),\n",
    "                                  ('or', [db('s_p'), db('s_i')])]))\n",
    "leaveCols = db('n_F') # are there any type of goods that we do not need to balance\n",
    "leaveRows = None # are there any type of sectors that we do not need to balance\n",
    "vBar = v0[v0<threshold] * 0"
   ]
  },
  {
   "cell_type": "markdown",
   "id": "7b5057e7-7747-486a-b7b7-90b72801e2d9",
   "metadata": {},
   "source": [
    "*Get RAS adjustments:*"
   ]
  },
  {
   "cell_type": "code",
   "execution_count": 15,
   "id": "3f585958-c3fb-4452-bfd0-846bf4cf95be",
   "metadata": {},
   "outputs": [
    {
     "name": "stdout",
     "output_type": "stream",
     "text": [
      "Largest deviation summing over n: 8.526512829121202e-14\n",
      "Largest deviation summing over s: 9.369216513732681e-09\n"
     ]
    }
   ],
   "source": [
    "vD = RAS.simpleRAS(v0, vBar, leaveCols = leaveCols, leaveRows = leaveRows, tol = 1e-8, iterMax = 1000)"
   ]
  },
  {
   "cell_type": "markdown",
   "id": "d27212ac-e794-47cc-b782-43f57c255113",
   "metadata": {},
   "source": [
    "*Merge things back up again:*"
   ]
  },
  {
   "cell_type": "code",
   "execution_count": 16,
   "id": "2734290d-d1c7-47f4-8030-5ddb4423d1a3",
   "metadata": {},
   "outputs": [],
   "source": [
    "vD_full = vD.combine_first(db('vD'))\n",
    "vD_full = vD_full[vD_full!=0] # remove zero values again"
   ]
  },
  {
   "cell_type": "markdown",
   "id": "36a5db07-22f9-4e75-b548-1619f2147421",
   "metadata": {},
   "source": [
    "*Remove residual income category (we don't currently use this in the model, this will enter the return on durables instead):*"
   ]
  },
  {
   "cell_type": "code",
   "execution_count": 17,
   "id": "f78ef983-aadf-4591-aab6-9bd9b8a24b34",
   "metadata": {},
   "outputs": [],
   "source": [
    "db['vD'] = adj.rc_pd(vD_full, ('not', pd.Index(['resIncome'], name = 'n')))"
   ]
  },
  {
   "cell_type": "markdown",
   "id": "37f953cc-07b6-4fab-9b28-90afd48a47e6",
   "metadata": {},
   "source": [
    "### Create other variables"
   ]
  },
  {
   "cell_type": "code",
   "execution_count": 18,
   "id": "2419ce82-6f13-4f94-8762-e2dd52365307",
   "metadata": {},
   "outputs": [],
   "source": [
    "db['R_LR'] = gpy(1.03, name = 'R_LR', type = 'par')\n",
    "db['infl_LR'] = gpy(0, name = 'infl_LR', type = 'par')\n",
    "db['g_LR'] = gpy(0.02, name = 'g_LR', type = 'par')\n",
    "model_vS(db)\n",
    "model_p(db)\n",
    "model_durables(db, db('R_LR'), db('infl_LR'))\n",
    "model_quantNonDurables(db) "
   ]
  },
  {
   "cell_type": "markdown",
   "id": "8e7f3da9-b096-46b7-9faf-afe2e12d69a3",
   "metadata": {
    "tags": []
   },
   "source": [
    "### Create other subsets and mappings"
   ]
  },
  {
   "cell_type": "markdown",
   "id": "0617b7b6-a00e-45d7-87af-643437f65509",
   "metadata": {},
   "source": [
    "Subsets of goods/sectors:"
   ]
  },
  {
   "cell_type": "code",
   "execution_count": 19,
   "id": "1d459a07-b415-49c5-8f5d-e62bb81736d0",
   "metadata": {},
   "outputs": [],
   "source": [
    "db['nEqui'] = db('vS').index.droplevel('s').unique() # what goods require an equilibrium condition\n",
    "db['d_qS'] = db['vS'].index \n",
    "db['d_qD'] = adj.rc_pd(db('vD'), db('nEqui')).index \n",
    "db['d_qSEqui'] = adj.rc_pd(db['d_qS'].vals, ('not', db('s_HH'))) # Subset of qS values to be endogenized in general equilibrium\n",
    "db['d_pEqui'] = pd.Index(['L'], name ='n') # Subset of prices to be endogenized in general equilibrium "
   ]
  },
  {
   "cell_type": "markdown",
   "id": "aa34777e-0c22-442f-9f18-0cd8b46a481e",
   "metadata": {},
   "source": [
    "####  Trade mappings"
   ]
  },
  {
   "cell_type": "markdown",
   "id": "a1af89f8-8630-46f3-8c16-72474425b472",
   "metadata": {},
   "source": [
    "Define the mappings:\n",
    "* ```dom2for[n,nn]```: Mapping from domestic to the equivalent foreign goods (with syntax ```x,x_F```).\n",
    "* ```dExport[t,s,n]```: Foreign sectors' demand for domestic goods.\n",
    "* ```dImport[t,s,n,nn]```: sector, domestic good, foreign good combinations in data - i.e. where a sector demands both domestic and foreign type of product.\n",
    "* ```dImport_dom[t,s,n]```: sector, domestic good combination (s,n) where the sector only demands the domestic and not the corresponding foreign good.\n",
    "* ```dImport_for[t,s,n]```: sector, foreign good combinations (s,n) where the sector only demand the foreign and not the corresponding domestic good."
   ]
  },
  {
   "cell_type": "code",
   "execution_count": 20,
   "id": "9c6d3b9c-7b2a-45b9-9fdd-beb07b375f9b",
   "metadata": {},
   "outputs": [],
   "source": [
    "db['dom2for'] = pd.MultiIndex.from_arrays([db('n_p').sort_values(), db('n_F').sort_values().rename('nn')])\n",
    "db['dExport'] = adj.rc_pd(db('vD'), db('s_f')).index\n",
    "vD_dom = stdSort(adjMultiIndex.applyMult(adj.rc_pd(db('vD'), db('n_p')), db('dom2for')))\n",
    "vD_for = adj.rc_pd(db('vD'), db('n_F')).rename_axis(index= {'n':'nn'})\n",
    "db['dImport'] = stdSort(adj.rc_pd(vD_dom, vD_for)).index\n",
    "db['dImport_dom'] = adj.rc_pd(vD_dom, ('not', vD_for)).droplevel('nn').index\n",
    "db['dImport_for'] = adj.rc_pd(vD_for, ('not', db('dImport'))).rename_axis(index = {'nn':'n'}).index"
   ]
  },
  {
   "cell_type": "markdown",
   "id": "bd0e3808-fb51-4406-b9b0-ec5d6c25bc02",
   "metadata": {
    "tags": []
   },
   "source": [
    "### Export"
   ]
  },
  {
   "cell_type": "code",
   "execution_count": 21,
   "id": "dedf66d1-93bf-4500-ac77-9996c5120fd5",
   "metadata": {},
   "outputs": [],
   "source": [
    "AggDB.updSetsFromSyms(db, types = ['var','par','map']) # define sets from variables/parameters defined throughout\n",
    "db.export()"
   ]
  }
 ],
 "metadata": {
  "kernelspec": {
   "display_name": "Python 3 (ipykernel)",
   "language": "python",
   "name": "python3"
  },
  "language_info": {
   "codemirror_mode": {
    "name": "ipython",
    "version": 3
   },
   "file_extension": ".py",
   "mimetype": "text/x-python",
   "name": "python",
   "nbconvert_exporter": "python",
   "pygments_lexer": "ipython3",
   "version": "3.11.8"
  }
 },
 "nbformat": 4,
 "nbformat_minor": 5
}
