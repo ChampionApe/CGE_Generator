{
 "cells": [
  {
   "cell_type": "code",
   "execution_count": 1,
   "id": "1bbdb466-66ba-4335-8471-cb40725b1170",
   "metadata": {},
   "outputs": [
    {
     "name": "stdout",
     "output_type": "stream",
     "text": [
      "No clean-up of work-folder\n"
     ]
    }
   ],
   "source": [
    "%run StdPackages.ipynb\n",
    "d['processedData'] = os.path.join(d['data'],'processedData') # update to raw data folder\n",
    "os.chdir(d['py'])\n",
    "from loadIO import *\n",
    "import RAS\n",
    "from scipy.cluster.vq import kmeans2"
   ]
  },
  {
   "cell_type": "markdown",
   "id": "4cb5123f-2b21-48df-b184-86017d80699f",
   "metadata": {},
   "source": [
    "# Aggregate IO data for NationalClimatePolicy project"
   ]
  },
  {
   "cell_type": "markdown",
   "id": "f6989bfa-cb39-480c-ac7f-8e3b9157e40f",
   "metadata": {},
   "source": [
    "This aggregation uses the GreenREFORM aggregation of sectors. We map to a single durable type."
   ]
  },
  {
   "cell_type": "markdown",
   "id": "d8ddbce1-51a7-4fba-9bb9-69f186138b62",
   "metadata": {},
   "source": [
    "## 1. Aggregate IO data"
   ]
  },
  {
   "cell_type": "markdown",
   "id": "063def74-5292-45d9-b944-a27f9b7aef6b",
   "metadata": {},
   "source": [
    "*Load data:*"
   ]
  },
  {
   "cell_type": "code",
   "execution_count": 2,
   "id": "d147b84b-5a89-4599-aa80-e4b89faa877f",
   "metadata": {},
   "outputs": [],
   "source": [
    "t0 = 2019\n",
    "fullIO = os.path.join(d['processedData'], f'IO{t0}_s146_dur7')\n",
    "name = f'IO{t0}_NCPGR' # add new name for the database when exporting\n",
    "db = GpyDB(fullIO, name = name)"
   ]
  },
  {
   "cell_type": "markdown",
   "id": "5a30a944-8025-466c-a912-4ed5533c9e45",
   "metadata": {},
   "source": [
    "*Add emission trends on 146 levels:*"
   ]
  },
  {
   "cell_type": "code",
   "execution_count": 3,
   "id": "45ee75e6-cf76-4e63-94dc-9739a59594c7",
   "metadata": {},
   "outputs": [],
   "source": [
    "dbTrends = GpyDB(os.path.join(d['processedData'], 'emissionTrends'), name = 'temp', ws = db.ws)\n",
    "db['gCO2'] = dbTrends('gCO2_s146').xs(t0)"
   ]
  },
  {
   "cell_type": "markdown",
   "id": "c3f5e12d-5183-4a4d-adcd-4d47a63508f6",
   "metadata": {},
   "source": [
    "*Mappings:*"
   ]
  },
  {
   "cell_type": "code",
   "execution_count": 4,
   "id": "b5d112ec-1623-4487-a7d7-f462b2f55d61",
   "metadata": {},
   "outputs": [],
   "source": [
    "maps = DbFromExcel.dbFromWB(os.path.join(d['data'],f'GR{t0}_mappings.xlsx'), {'map': 'AuxMaps'})\n",
    "m = maps['s146tosGR'].vals\n",
    "m = m.set_levels([l.astype(str) for l in m.levels]) # str definition of sectors"
   ]
  },
  {
   "attachments": {},
   "cell_type": "markdown",
   "id": "7acee39c-72d3-4a0f-9426-cce16149678b",
   "metadata": {},
   "source": [
    "In the GreenREFORM mapping, we replace the sector 35011 with the name 'Energy' (this covers \"Electricity production\", \"Transmission, distribution, and trade in electricity\", and \"heat distribution\" (but not gas distribution)."
   ]
  },
  {
   "cell_type": "code",
   "execution_count": 5,
   "id": "74d8f959-d87a-4b62-8aa8-48112b3841aa",
   "metadata": {},
   "outputs": [],
   "source": [
    "mDur = pd.MultiIndex.from_tuples([(k, 'K') for k in db('s_i')], names = ['n','nn'])\n",
    "m = m.set_levels(m.levels[-1].str.replace('35011','Energy'), level = 'ss')"
   ]
  },
  {
   "cell_type": "markdown",
   "id": "20b9e31a-42c3-42c9-a9c7-5a286bffa048",
   "metadata": {},
   "source": [
    "Create I_K (flow investment variable corresponding to durable stock $K$):"
   ]
  },
  {
   "cell_type": "code",
   "execution_count": 6,
   "id": "df10991e-0e04-4319-848e-8b6d437427bb",
   "metadata": {},
   "outputs": [],
   "source": [
    "mDur_s = mDur.set_levels(mDur.levels[-1].map(lambda x: 'I_'+x), level = 1).rename(['s','ss'])"
   ]
  },
  {
   "cell_type": "markdown",
   "id": "845613bc-f0b9-43e2-8de8-68fa75e8ad8e",
   "metadata": {},
   "source": [
    "Create full sector mapping (if not covered by the GreenREFORM mapping, keep sector definition):"
   ]
  },
  {
   "cell_type": "code",
   "execution_count": 7,
   "id": "62d03d2e-8c5a-4510-b08c-df02ccbcd4e8",
   "metadata": {},
   "outputs": [],
   "source": [
    "ms = m.union(mDur_s)\n",
    "ms_neutral = pd.MultiIndex.from_arrays([db('s'), db('s').rename('ss')]) # neutral mapping from (x,x)\n",
    "m_sector = ms.union(adj.rc_pd(ms_neutral, ('not', ms.levels[0]))) # full mapping: Use specific mapping if this exists, otherwise default to neutral mapping."
   ]
  },
  {
   "cell_type": "code",
   "execution_count": 8,
   "id": "b6673b9e-e7a0-4a41-bc0c-09add0e457ef",
   "metadata": {},
   "outputs": [],
   "source": [
    "v = adjMultiIndex.applyMult(db('qCO2'), m)"
   ]
  },
  {
   "cell_type": "markdown",
   "id": "43f2b652-5649-499c-ac77-319a3f0911cb",
   "metadata": {},
   "source": [
    "*Note: The aggDB defaults to summing over indices when aggregating. Thus, before aggregating, we weigh growth rates by relative CO2 emissions:*"
   ]
  },
  {
   "cell_type": "code",
   "execution_count": 9,
   "id": "b63775b7-cc47-405a-8405-8ef7d34275d9",
   "metadata": {},
   "outputs": [
    {
     "data": {
      "text/plain": [
       "s\n",
       "010011   -0.039066\n",
       "010012   -0.039066\n",
       "010020   -0.039066\n",
       "010031   -0.039066\n",
       "010032   -0.039066\n",
       "            ...   \n",
       "930020   -0.053586\n",
       "940000   -0.047983\n",
       "950000   -0.052281\n",
       "960000   -0.065738\n",
       "970000    0.000000\n",
       "Length: 146, dtype: float64"
      ]
     },
     "execution_count": 9,
     "metadata": {},
     "output_type": "execute_result"
    }
   ],
   "source": [
    "db('gCO2')"
   ]
  },
  {
   "cell_type": "code",
   "execution_count": 10,
   "id": "e7ddf38f-6ceb-4aaf-a899-2ceec44ea5a0",
   "metadata": {},
   "outputs": [],
   "source": [
    "relativeSizes = v/(v.groupby('ss').sum().replace(0,1))"
   ]
  },
  {
   "cell_type": "markdown",
   "id": "447fc777-16c0-425b-b7e7-57d5425926c4",
   "metadata": {},
   "source": [
    "*Note: The aggDB defaults to summing over indices when aggregating. Thus, before aggregating, we weigh growth rates by relative CO2 emissions:*"
   ]
  },
  {
   "cell_type": "code",
   "execution_count": 11,
   "id": "45159db1-9208-4b1f-a88c-8d7077e6e657",
   "metadata": {},
   "outputs": [],
   "source": [
    "v = adjMultiIndex.applyMult(db('qCO2'), m)\n",
    "relativeSizes = v/(v.groupby('ss').sum().replace(0,1))\n",
    "gCO20 = db('gCO2').copy()\n",
    "db['gCO2'] = (db('gCO2') * relativeSizes).droplevel('ss')"
   ]
  },
  {
   "cell_type": "markdown",
   "id": "12fb6d10-16ac-4c9b-a57c-8696061a7aa3",
   "metadata": {},
   "source": [
    "*Apply mapping:*"
   ]
  },
  {
   "cell_type": "code",
   "execution_count": 12,
   "id": "c6cbb15c-f257-4527-b77b-b1c765a52ec6",
   "metadata": {},
   "outputs": [],
   "source": [
    "AggDB.aggDB(db, m_sector);"
   ]
  },
  {
   "cell_type": "markdown",
   "id": "64de8525-fc1f-46eb-914d-a835d4003cbd",
   "metadata": {},
   "source": [
    "*Adjust goods index:*"
   ]
  },
  {
   "cell_type": "code",
   "execution_count": 13,
   "id": "1b8d4c88-80f1-4227-97af-abffa14c6cef",
   "metadata": {},
   "outputs": [],
   "source": [
    "mn = m.union(m.set_levels([l+'_F' for l in m.levels])).rename(['n','nn']).union(mDur)\n",
    "mn_neutral = pd.MultiIndex.from_arrays([db('n'), db('n').rename('nn')])\n",
    "m_goods = mn.union(adj.rc_pd(mn_neutral, ('not', mn.levels[0])))"
   ]
  },
  {
   "cell_type": "markdown",
   "id": "f80fdf47-1459-47a5-8a55-318d3abe4254",
   "metadata": {},
   "source": [
    "*Apply mapping:*"
   ]
  },
  {
   "cell_type": "code",
   "execution_count": 14,
   "id": "871ff17b-427a-4fa4-a41b-9f837ea89a6b",
   "metadata": {},
   "outputs": [],
   "source": [
    "AggDB.aggDB(db, m_goods);"
   ]
  },
  {
   "cell_type": "markdown",
   "id": "1ce6911a-ee84-4df9-a484-296b06059b07",
   "metadata": {},
   "source": [
    "## 2. Model data"
   ]
  },
  {
   "cell_type": "markdown",
   "id": "e070391e-dfa8-4e58-be0b-f86a168fd587",
   "metadata": {},
   "source": [
    "*Clean up some data:*"
   ]
  },
  {
   "cell_type": "code",
   "execution_count": 15,
   "id": "b7ec766e-aca9-4891-b1eb-f6ea78035d52",
   "metadata": {},
   "outputs": [],
   "source": [
    "[db.series.database.pop(k) for k in ('gc','vC','vC_tax')];\n",
    "[db.__setitem__(k, db(k)[db(k)!=0]) for k in db.getTypes(['var'])];"
   ]
  },
  {
   "cell_type": "markdown",
   "id": "f5dbefe0-81ab-49b4-82a5-acd7c2807ac5",
   "metadata": {},
   "source": [
    "IO data is measured in mio DKK. Here, we rescale to billion DKK instead (*Note: This rescales all variables in the database, so it is assumed that everything is measured in absolute values (and not e.g. ratios)*)"
   ]
  },
  {
   "cell_type": "code",
   "execution_count": 16,
   "id": "4c98a896-f2a2-43a5-a4cd-822f91e8d6c6",
   "metadata": {},
   "outputs": [],
   "source": [
    "factor = 1000\n",
    "[db.__setitem__(k, db(k)/factor) for k in db.getTypes(['var']) if k not in ['qCO2', 'M1990','gCO2']];\n",
    "db._scale = db._scale * factor"
   ]
  },
  {
   "cell_type": "markdown",
   "id": "09fa61db-fe99-4358-af12-49e25676dca2",
   "metadata": {},
   "source": [
    "*Note: The ```._scale``` attribute indicates the value of 1 unit in the database.*"
   ]
  },
  {
   "cell_type": "markdown",
   "id": "366380ea-b22c-4a4b-a03b-8788c7f28f5d",
   "metadata": {},
   "source": [
    "Translate depreciation of durables to rates, distinguish between investments and durables (flow, stock) with investment good syntax ```I_x``` for durable ```x```. Define mapping ```dur2inv``` and subsets ```dur_p, inv_p```. Add investments and value of durables to the vector ```vD```:"
   ]
  },
  {
   "cell_type": "code",
   "execution_count": 17,
   "id": "e1862604-4c48-496b-b5d3-744fe41be345",
   "metadata": {},
   "outputs": [],
   "source": [
    "db['rDepr'] = db('vD_depr')/db('vD_dur')\n",
    "db['dur_p'] = db('vD_dur').index.levels[db['vD_dur'].domains.index('n')]\n",
    "db['inv_p'] = db('dur_p').map(lambda x: f'I_{x}')\n",
    "db['dur2inv'] = pd.MultiIndex.from_arrays([db('dur_p'), db('inv_p').rename('nn')])\n",
    "db('vD_inv').index = db('vD_inv').index.set_levels(db('vD_inv').index.levels[db['vD_inv'].domains.index('n')].map(lambda x: f'I_{x}'), level = 'n')\n",
    "db['vD'] = db('vD_inv').combine_first(db('vD')).combine_first(db('vD_dur'))"
   ]
  },
  {
   "cell_type": "markdown",
   "id": "de84de91-f455-4d4d-be78-e55f5eca5c39",
   "metadata": {},
   "source": [
    "### RAS"
   ]
  },
  {
   "cell_type": "markdown",
   "id": "cd20f15c-baa1-4cc7-8a18-c7ce920f13b8",
   "metadata": {},
   "source": [
    "Simple RAS algorithm:"
   ]
  },
  {
   "cell_type": "code",
   "execution_count": 18,
   "id": "e073ca30-8a04-47bb-9c82-9918dcb624bd",
   "metadata": {},
   "outputs": [],
   "source": [
    "threshold = .01 # remove values less than 10 mio\n",
    "v0 = adj.rc_pd(db('vD'), ('and', [('or', [db('n_p'), db('n_F')]),\n",
    "                                  ('or', [db('s_p'), db('s_i')])]))\n",
    "leaveCols = db('n_F') # are there any type of goods that we do not need to balance\n",
    "leaveRows = None # are there any type of sectors that we do not need to balance\n",
    "vBar = v0[v0<threshold] * 0"
   ]
  },
  {
   "cell_type": "markdown",
   "id": "5b6b92de-2eae-40d7-aaea-bdcd27f90691",
   "metadata": {},
   "source": [
    "*Get RAS adjustments:*"
   ]
  },
  {
   "cell_type": "code",
   "execution_count": 19,
   "id": "c665af95-b9c8-4503-9573-05c434689ed7",
   "metadata": {},
   "outputs": [
    {
     "name": "stdout",
     "output_type": "stream",
     "text": [
      "Largest deviation summing over n: 8.526512829121202e-14\n",
      "Largest deviation summing over s: 9.369216513732681e-09\n"
     ]
    }
   ],
   "source": [
    "vD = RAS.simpleRAS(v0, vBar, leaveCols = leaveCols, leaveRows = leaveRows, tol = 1e-8, iterMax = 1000)"
   ]
  },
  {
   "cell_type": "markdown",
   "id": "f12edd0a-18cb-427b-9b1d-2f62aa850794",
   "metadata": {},
   "source": [
    "*Merge things back up again:*"
   ]
  },
  {
   "cell_type": "code",
   "execution_count": 20,
   "id": "749ee0ae-acc8-4efd-a8e2-3519b794c961",
   "metadata": {},
   "outputs": [],
   "source": [
    "vD_full = vD.combine_first(db('vD'))\n",
    "vD_full = vD_full[vD_full!=0] # remove zero values again"
   ]
  },
  {
   "cell_type": "markdown",
   "id": "1cc4a115-0164-4ceb-bbb3-4d82f09ea516",
   "metadata": {},
   "source": [
    "*Remove residual income category (we don't currently use this in the model, this will enter the return on durables instead):*"
   ]
  },
  {
   "cell_type": "code",
   "execution_count": 21,
   "id": "cbde1757-e645-4c01-8184-502606439c1e",
   "metadata": {},
   "outputs": [],
   "source": [
    "db['vD'] = adj.rc_pd(vD_full, ('not', pd.Index(['resIncome'], name = 'n')))"
   ]
  },
  {
   "cell_type": "markdown",
   "id": "607d519c-6927-46b8-953d-e3af33ff0b14",
   "metadata": {},
   "source": [
    "### Create other variables"
   ]
  },
  {
   "cell_type": "code",
   "execution_count": 22,
   "id": "979e17c0-c752-4061-8b6c-ee487ca750ec",
   "metadata": {},
   "outputs": [],
   "source": [
    "db['R_LR'] = gpy(1.05, name = 'R_LR', type = 'par')\n",
    "db['infl_LR'] = gpy(0.0, name = 'infl_LR', type = 'par')\n",
    "db['g_LR'] = gpy(0.02, name = 'g_LR', type = 'par')\n",
    "model_vS(db)\n",
    "model_p(db)\n",
    "model_durables(db, db('R_LR'), db('infl_LR'))\n",
    "model_quantNonDurables(db) "
   ]
  },
  {
   "cell_type": "markdown",
   "id": "641bbcf6-1e39-4ee0-a8c2-4948562481e8",
   "metadata": {
    "tags": []
   },
   "source": [
    "### Create other subsets and mappings"
   ]
  },
  {
   "cell_type": "markdown",
   "id": "03f39eb0-f31f-44b0-bc10-a4491b90f302",
   "metadata": {},
   "source": [
    "Subsets of goods/sectors:"
   ]
  },
  {
   "cell_type": "code",
   "execution_count": 23,
   "id": "f036d0e5-f085-441b-a7f6-d557687535ed",
   "metadata": {},
   "outputs": [],
   "source": [
    "db['nEqui'] = db('vS').index.droplevel('s').unique() # what goods require an equilibrium condition\n",
    "db['d_qS'] = db['vS'].index \n",
    "db['d_qD'] = adj.rc_pd(db('vD'), db('nEqui')).index \n",
    "db['d_qSEqui'] = adj.rc_pd(db['d_qS'].vals, ('not', db('s_HH'))) # Subset of qS values to be endogenized in general equilibrium\n",
    "db['d_pEqui'] = pd.Index(['L'], name ='n') # Subset of prices to be endogenized in general equilibrium "
   ]
  },
  {
   "cell_type": "markdown",
   "id": "efba8dba-4c79-4be4-88ec-550a561e1316",
   "metadata": {},
   "source": [
    "####  Trade mappings"
   ]
  },
  {
   "cell_type": "markdown",
   "id": "2a21ea54-3ada-45dc-9fed-59fdf3cf9c3c",
   "metadata": {},
   "source": [
    "Define the mappings:\n",
    "* ```dom2for[n,nn]```: Mapping from domestic to the equivalent foreign goods (with syntax ```x,x_F```).\n",
    "* ```dExport[t,s,n]```: Foreign sectors' demand for domestic goods.\n",
    "* ```dImport[t,s,n,nn]```: sector, domestic good, foreign good combinations in data - i.e. where a sector demands both domestic and foreign type of product.\n",
    "* ```dImport_dom[t,s,n]```: sector, domestic good combination (s,n) where the sector only demands the domestic and not the corresponding foreign good.\n",
    "* ```dImport_for[t,s,n]```: sector, foreign good combinations (s,n) where the sector only demand the foreign and not the corresponding domestic good."
   ]
  },
  {
   "cell_type": "code",
   "execution_count": 24,
   "id": "86f54b7d-c46d-4c0e-98e9-5be8ea0fbf65",
   "metadata": {},
   "outputs": [],
   "source": [
    "db['dom2for'] = pd.MultiIndex.from_arrays([db('n_p').sort_values(), db('n_F').sort_values().rename('nn')])\n",
    "db['dExport'] = adj.rc_pd(db('vD'), db('s_f')).index\n",
    "vD_dom = stdSort(adjMultiIndex.applyMult(adj.rc_pd(db('vD'), db('n_p')), db('dom2for')))\n",
    "vD_for = adj.rc_pd(db('vD'), db('n_F')).rename_axis(index= {'n':'nn'})\n",
    "db['dImport'] = stdSort(adj.rc_pd(vD_dom, vD_for)).index\n",
    "db['dImport_dom'] = adj.rc_pd(vD_dom, ('not', vD_for)).droplevel('nn').index\n",
    "db['dImport_for'] = adj.rc_pd(vD_for, ('not', db('dImport'))).rename_axis(index = {'nn':'n'}).index"
   ]
  },
  {
   "cell_type": "markdown",
   "id": "6707b54a-6802-406f-966e-b668e8d2c54b",
   "metadata": {
    "tags": []
   },
   "source": [
    "### Export"
   ]
  },
  {
   "cell_type": "code",
   "execution_count": 25,
   "id": "dd78dfa0-e353-462a-a06b-15d81fa39b3b",
   "metadata": {},
   "outputs": [],
   "source": [
    "AggDB.updSetsFromSyms(db, types = ['var','par','map']) # define sets from variables/parameters defined throughout\n",
    "db.export()"
   ]
  }
 ],
 "metadata": {
  "kernelspec": {
   "display_name": "Python 3 (ipykernel)",
   "language": "python",
   "name": "python3"
  },
  "language_info": {
   "codemirror_mode": {
    "name": "ipython",
    "version": 3
   },
   "file_extension": ".py",
   "mimetype": "text/x-python",
   "name": "python",
   "nbconvert_exporter": "python",
   "pygments_lexer": "ipython3",
   "version": "3.11.8"
  }
 },
 "nbformat": 4,
 "nbformat_minor": 5
}
