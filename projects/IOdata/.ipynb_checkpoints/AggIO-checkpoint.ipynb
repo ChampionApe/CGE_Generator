{
 "cells": [
  {
   "cell_type": "code",
   "execution_count": 1,
   "id": "12d98a50-8a59-4118-8261-504dc2aca165",
   "metadata": {},
   "outputs": [
    {
     "name": "stdout",
     "output_type": "stream",
     "text": [
      "No clean-up of work-folder\n"
     ]
    }
   ],
   "source": [
    "%run StdPackages.ipynb\n",
    "d['rawData'] = os.path.join(d['data'],'rawData69') # add\n",
    "d['processedData'] = os.path.join(d['data'],'processedData') # update to raw data folder\n",
    "os.chdir(d['py'])\n",
    "from loadIO import *"
   ]
  },
  {
   "cell_type": "markdown",
   "id": "348343d7-dace-4188-8241-fd4315f45e5e",
   "metadata": {},
   "source": [
    "# Aggregate sector and durables set definitions"
   ]
  },
  {
   "cell_type": "markdown",
   "id": "4206d7fd-3382-422d-abd1-ebcd2321b023",
   "metadata": {},
   "source": [
    "*Basics:*"
   ]
  },
  {
   "cell_type": "code",
   "execution_count": 2,
   "id": "b3e7df83-e619-4edc-bb1f-ab21d855776f",
   "metadata": {},
   "outputs": [],
   "source": [
    "fullIO = os.path.join(d['processedData'], 'IO69')\n",
    "file_mappings = os.path.join(d['rawData'], 'Mappings.xlsx') # mappings for aggregation\n",
    "name = 'IO68_2dur' # add new name for the database when exporting"
   ]
  },
  {
   "cell_type": "markdown",
   "id": "ebc94ab8-9526-4c33-8754-88186bbef43c",
   "metadata": {},
   "source": [
    "This notebook shows by example how to aggregate IO data using a few simple mappings."
   ]
  },
  {
   "cell_type": "markdown",
   "id": "da3bfb3e-f93b-428e-b4f2-ca9c178bd97d",
   "metadata": {},
   "source": [
    "*Load full database:*"
   ]
  },
  {
   "cell_type": "code",
   "execution_count": 3,
   "id": "f6fdb382-ab6b-4b88-a270-fd82ad49a0fe",
   "metadata": {},
   "outputs": [],
   "source": [
    "db = GpyDB(fullIO, name = name)"
   ]
  },
  {
   "cell_type": "markdown",
   "id": "12dff6fe-acc5-4291-aba1-a280a66e92fb",
   "metadata": {},
   "source": [
    "We aggregate from 7 types of durables to 2 (iB and iM). This means aggregation of the sector index ($s$) and the goods index ($n$). Note that we refer to the durables as ```iB,iM``` and the corresponding investment goods as ```I_iB, I_iM``` such that:\n",
    "$$\\begin{align}\n",
    "    iB_{t+1} = iB_t(1-\\delta)+I\\_iB_{t}\n",
    "\\end{align}$$"
   ]
  },
  {
   "attachments": {},
   "cell_type": "markdown",
   "id": "2801258a-44d5-4ead-93db-9907eb174765",
   "metadata": {},
   "source": [
    "We aggregate from 69 to 68 production sectors. Specifically, we collect two sectors into one: \"Other personal service activities\" and \"Activities of households as employers of domestic personnel\". One reason is simply that the latter has zero entries almost everywhere, which makes it less than ideal to model with conventional CGE approach:"
   ]
  },
  {
   "cell_type": "markdown",
   "id": "91400a2c-36b5-48f3-9e43-cab6d3da0e0a",
   "metadata": {},
   "source": [
    "*Load mapping from 7 to 2 investment types and 69 to 68 sectors:*"
   ]
  },
  {
   "cell_type": "code",
   "execution_count": 5,
   "id": "622d4c0c-97d0-4767-840e-dfd06cb9f42b",
   "metadata": {},
   "outputs": [],
   "source": [
    "wb_mappings = DbFromExcel.simpleLoad(file_mappings) # load worksheet\n",
    "auxMaps = DbFromExcel.map(wb_mappings['AuxMaps']) # read mappings from sheet AuxMaps\n",
    "mDur = auxMaps['inv7toinvGR'].vals # Get the mapping for durables\n",
    "mDur = mDur.set_levels(mDur.levels[0].astype(str), level = 0) # force first index level to string format\n",
    "m = auxMaps['s69tosFull'].vals # \n",
    "m = m.set_levels(m.levels[0].astype(str), level = 0) # force first index level to string format"
   ]
  },
  {
   "cell_type": "markdown",
   "id": "847cd29b-977d-4244-9441-63579352edb7",
   "metadata": {},
   "source": [
    "Now, the ```mDur``` specifies the mapping (index ```n```) from old durable names to new ones (```iB, iM```). However, for each durable type, we also have a sector that produces the corresponding investment variable ```I_iB, I_iM```. The relevant mapping for sectors is then given by:"
   ]
  },
  {
   "cell_type": "code",
   "execution_count": 6,
   "id": "f8781206-58a7-4501-9a9e-2dcbb92a5b0b",
   "metadata": {},
   "outputs": [],
   "source": [
    "mDur_s = mDur.set_levels(mDur.levels[-1].map(lambda x: 'I_'+x), level = 1).rename(['s','ss'])"
   ]
  },
  {
   "cell_type": "markdown",
   "id": "a0e392a1-7e9b-4016-9e93-6edf89c3217d",
   "metadata": {},
   "source": [
    "The final sector mapping is then given by:"
   ]
  },
  {
   "cell_type": "code",
   "execution_count": 7,
   "id": "016fbb1e-84fb-481c-926a-22e826e1c0e9",
   "metadata": {},
   "outputs": [],
   "source": [
    "ms = m.union(mDur_s)\n",
    "ms_neutral = pd.MultiIndex.from_arrays([db('s'), db('s').rename('ss')]) # neutral mapping from (x,x)\n",
    "m_sector = ms.union(adj.rc_pd(ms_neutral, ('not', ms.levels[0]))) # full mapping: Use specific mapping if this exists, otherwise default to neutral mapping."
   ]
  },
  {
   "cell_type": "markdown",
   "id": "d858e456-babd-4559-8496-4ca3e272e646",
   "metadata": {},
   "source": [
    "Apply mapping:"
   ]
  },
  {
   "cell_type": "code",
   "execution_count": 8,
   "id": "477e43a4-5be2-4b1c-9b3d-173f11952c19",
   "metadata": {},
   "outputs": [],
   "source": [
    "AggDB.aggDB(db, m_sector);"
   ]
  },
  {
   "cell_type": "markdown",
   "id": "cf261cd0-848f-4225-ae36-e0878094096b",
   "metadata": {},
   "source": [
    "Similarly, we adjust the goods index ```n```:\n",
    "* In the simple structure we have here, each domestic production sector $s$ has one a corresponding output $n$. Thus, we apply the sector mapping to the $n$ index as well.\n",
    "* Similarly, for each good produced by domestic sectors, there is a corresponding foreign good (with syntax ```domestic_F```). Thus, the mapping for domestically produced goods is copied for foreign goods as well.\n",
    "* Add the aggregation of durables.\n",
    "* If there are any goods that are not yet covered here, apply neutral mapping (x,x) (don't do anything)."
   ]
  },
  {
   "cell_type": "code",
   "execution_count": 9,
   "id": "cc72d92d-e8c9-4d66-bb8c-ec7c1c259e4c",
   "metadata": {},
   "outputs": [],
   "source": [
    "mn = m.union(m.set_levels([l.astype(str)+'_F' for l in m.levels])).rename(['n','nn']).union(mDur) # this collects sector mapping, durable mapping, and adds that the sector mapping should also be used when handling goods produced by \n",
    "mn_neutral = pd.MultiIndex.from_arrays([db('n'), db('n').rename('nn')])\n",
    "m_goods = mn.union(adj.rc_pd(mn_neutral, ('not', mn.levels[0])))"
   ]
  },
  {
   "cell_type": "markdown",
   "id": "b4516987-db82-475e-ae56-bc7a0abdd960",
   "metadata": {},
   "source": [
    "Apply mapping:"
   ]
  },
  {
   "cell_type": "code",
   "execution_count": 10,
   "id": "defb5232-8880-4370-915d-4a1410fe6469",
   "metadata": {},
   "outputs": [],
   "source": [
    "AggDB.aggDB(db, m_goods);"
   ]
  },
  {
   "cell_type": "markdown",
   "id": "0a0adda6-bcb0-4564-a309-63d7cdc468ab",
   "metadata": {},
   "source": [
    "Export:"
   ]
  },
  {
   "cell_type": "code",
   "execution_count": 12,
   "id": "504b695e-4007-4fd2-8483-9106c457aec9",
   "metadata": {},
   "outputs": [],
   "source": [
    "db.export()"
   ]
  }
 ],
 "metadata": {
  "kernelspec": {
   "display_name": "Python 3 (ipykernel)",
   "language": "python",
   "name": "python3"
  },
  "language_info": {
   "codemirror_mode": {
    "name": "ipython",
    "version": 3
   },
   "file_extension": ".py",
   "mimetype": "text/x-python",
   "name": "python",
   "nbconvert_exporter": "python",
   "pygments_lexer": "ipython3",
   "version": "3.11.8"
  }
 },
 "nbformat": 4,
 "nbformat_minor": 5
}
