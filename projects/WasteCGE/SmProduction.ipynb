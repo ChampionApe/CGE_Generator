{
 "cells": [
  {
   "cell_type": "code",
   "execution_count": 1,
   "id": "3a8b0e59-4248-4e00-85e0-a0e7fff3d676",
   "metadata": {
    "scrolled": true
   },
   "outputs": [
    {
     "name": "stdout",
     "output_type": "stream",
     "text": [
      "The file _gams_py_gdb0.gdx is still active and was not deleted.\n"
     ]
    }
   ],
   "source": [
    "clean_up = True # if True, remove all gams related files from working folder before starting\n",
    "%run stdPackages.ipynb"
   ]
  },
  {
   "cell_type": "markdown",
   "id": "87ac3eee-8dcb-4ee7-becb-02694e0d77b5",
   "metadata": {},
   "source": [
    "*Load specific modules used here:*"
   ]
  },
  {
   "cell_type": "code",
   "execution_count": 2,
   "id": "21a22dcc-5b27-44f3-82a2-35e16e5702aa",
   "metadata": {},
   "outputs": [],
   "source": [
    "os.chdir(d['py'])\n",
    "import mProduction\n",
    "from gmsPython import nestingTree\n",
    "from valueShares import nestedShares"
   ]
  },
  {
   "cell_type": "markdown",
   "id": "1268b609-cfe6-4379-a986-c2497a115685",
   "metadata": {},
   "source": [
    "# Production modules"
   ]
  },
  {
   "cell_type": "markdown",
   "id": "957621dd-aabf-498c-8a10-261acc8bec1a",
   "metadata": {},
   "source": [
    "Load data:"
   ]
  },
  {
   "cell_type": "code",
   "execution_count": 3,
   "id": "d2c6697c-53ae-4120-8d62-6441647b568b",
   "metadata": {},
   "outputs": [],
   "source": [
    "t0 = 2019\n",
    "v = 'vSmall'\n",
    "db = GpyDB(os.path.join(d['data'], f'{v}{t0}_db'), name = f'{v}{t0}_db', ws = d['work'])\n",
    "ws = db.ws"
   ]
  },
  {
   "cell_type": "markdown",
   "id": "c9c28f90-3cce-440c-8469-c58dbebfa3f5",
   "metadata": {},
   "source": [
    "For variables that are defined over $t$, but where we do not yet have an initial value for all $t$, extrapolate from data:\n",
    "\n",
    "*Note: This forces extrapolation of all variables defined over $t$ - if it is important that some variables are not extrapolated, they should be removed from this statement.*"
   ]
  },
  {
   "cell_type": "code",
   "execution_count": 4,
   "id": "4f1172f7-baa8-4344-b7dc-56cd4386bcbe",
   "metadata": {},
   "outputs": [],
   "source": [
    "[symbol.__setattr__('vals', extrapolateUpper(symbol.vals, db('tE')[0])) for symbol in [db[k] for k in db.varDom('t')['t']]];"
   ]
  },
  {
   "cell_type": "markdown",
   "id": "36adec38-aac9-453e-aafb-5354aff190fe",
   "metadata": {},
   "source": [
    "Subset data to only include production sectors, but keep a full copy:"
   ]
  },
  {
   "cell_type": "code",
   "execution_count": 5,
   "id": "0d1a075d-02ef-403d-b15f-3f57b46c7e81",
   "metadata": {},
   "outputs": [
    {
     "data": {
      "text/plain": [
       "<pyDatabases.gpyDB.gpyDB.GpyDB at 0x1b1a3967d90>"
      ]
     },
     "execution_count": 5,
     "metadata": {},
     "output_type": "execute_result"
    }
   ],
   "source": [
    "db0 = db.copy()\n",
    "AggDB.subsetDB(db, db('s_p'))"
   ]
  },
  {
   "cell_type": "markdown",
   "id": "94bd9284-feaa-4a47-9f36-19c96e392b91",
   "metadata": {},
   "source": [
    "## 1. ```StaticNCES```"
   ]
  },
  {
   "cell_type": "markdown",
   "id": "f67bb887-191f-4673-9c1a-081f13d1bed3",
   "metadata": {},
   "source": [
    "### 1.1. Default implementation"
   ]
  },
  {
   "cell_type": "code",
   "execution_count": 6,
   "id": "206de906-29a5-4447-9f25-c02394841f93",
   "metadata": {},
   "outputs": [],
   "source": [
    "db_StaticNCES = db.copy()\n",
    "db_i = db_StaticNCES"
   ]
  },
  {
   "cell_type": "markdown",
   "id": "ff1ae83c-72c7-4890-bc54-4ec3e90a1cb4",
   "metadata": {},
   "source": [
    "Remove durables (and their value from supply side):"
   ]
  },
  {
   "cell_type": "code",
   "execution_count": 7,
   "id": "bf347c03-db7f-4ff7-a16c-37410f046e87",
   "metadata": {},
   "outputs": [],
   "source": [
    "db_i.aom(adj.rc_pd(db_i('qS'), db_i('n_p'))-(adj.rc_pd(db_i('qD'), db_i('dur_p')) * db_i('pD_dur')).groupby(['t','s']).sum(), name = 'qS', priority='second')\n",
    "db_i['qD'] = adj.rc_pd(db_i('qD'), ('not', db_i('dur_p')))\n",
    "db_i['nestProdInp'] = adj.rc_pd(db_i('nestProdInp'), ('not', db_i('dur_p').rename('nn')))"
   ]
  },
  {
   "cell_type": "markdown",
   "id": "e6df379a-9815-4713-98ba-5959273bb5ad",
   "metadata": {},
   "source": [
    "*Set up nesting structure from nesting tree:*"
   ]
  },
  {
   "cell_type": "code",
   "execution_count": 8,
   "id": "e10a0d48-448b-4f31-8fec-a49e21930f0d",
   "metadata": {},
   "outputs": [
    {
     "data": {
      "text/plain": [
       "<gmsPython.nestingTree.nestingTree.AggTree at 0x1b1a3a97090>"
      ]
     },
     "execution_count": 8,
     "metadata": {},
     "output_type": "execute_result"
    }
   ],
   "source": [
    "nestInp = nestingTree.Tree('Inp', tree = db_i('nestProdInp').to_list(), f = 'CES')\n",
    "nestAgg = nestingTree.AggTree(name = 'P', trees = {t.name: t for t in [nestInp]}, ws = ws)\n",
    "nestAgg(namespace = {str(n)+'_input':n for n in db('n')})"
   ]
  },
  {
   "cell_type": "markdown",
   "id": "c02f0951-8a38-4796-80d8-1ca80b70ff23",
   "metadata": {},
   "source": [
    "*Get starting values for $\\mu$ using value shares:*"
   ]
  },
  {
   "cell_type": "code",
   "execution_count": 9,
   "id": "41d676c9-1d58-41ff-b081-60487c95aca1",
   "metadata": {},
   "outputs": [],
   "source": [
    "v = nestedShares(nestAgg, ws = ws)\n",
    "db_p = v(db)"
   ]
  },
  {
   "cell_type": "markdown",
   "id": "3b40dd0b-8d8a-4aad-af25-b3d59250c1b9",
   "metadata": {},
   "source": [
    "Use share parameters and values to get initial values for intermediates:"
   ]
  },
  {
   "cell_type": "code",
   "execution_count": 10,
   "id": "61583e10-f252-4383-a3f6-8b474642344b",
   "metadata": {},
   "outputs": [],
   "source": [
    "db_i.aom(db_p('mu').xs(t0), name = 'mu')\n",
    "db_i.aom(adj.rc_pd(db_p('vD'), nestAgg.get('int')).rename('qD'), name = 'qD', priority = 'first') # specify intermediate goods levels"
   ]
  },
  {
   "cell_type": "markdown",
   "id": "08b4a1a3-fc61-4495-930e-06901f9cb0d5",
   "metadata": {},
   "source": [
    "Initialize model instance:"
   ]
  },
  {
   "cell_type": "code",
   "execution_count": 11,
   "id": "821eb0d2-14e5-404e-b817-8fef5aee3aa3",
   "metadata": {},
   "outputs": [],
   "source": [
    "m_StaticNCES = mProduction.getStaticNCES(nestAgg, partial = True, initFromGms = 'initFirmValueBlock')\n",
    "m_i = m_StaticNCES"
   ]
  },
  {
   "cell_type": "markdown",
   "id": "8649593d-a160-4c47-b77e-50b59df05578",
   "metadata": {},
   "source": [
    "Add data and initialize other stuff with default options:"
   ]
  },
  {
   "cell_type": "code",
   "execution_count": 12,
   "id": "4e925feb-fb4e-465b-a89a-5f243b23015f",
   "metadata": {},
   "outputs": [],
   "source": [
    "m_i.initStuff(db = db_i)"
   ]
  },
  {
   "cell_type": "markdown",
   "id": "e0b125bc-e33d-49d8-8e48-74320788d3b4",
   "metadata": {},
   "source": [
    "Solve calibration with robust relaxation method:"
   ]
  },
  {
   "cell_type": "code",
   "execution_count": 13,
   "id": "ccbb6ab5-d3f2-4007-9443-b1fba00817da",
   "metadata": {},
   "outputs": [],
   "source": [
    "solve_StaticNCES_Calib = m_i.jSolve(10, state = 'C')\n",
    "solve_i = solve_StaticNCES_Calib"
   ]
  },
  {
   "cell_type": "markdown",
   "id": "47ebb8f9-2950-4831-9994-4f0af9357acf",
   "metadata": {},
   "source": [
    "Add solution to main database, remove init methods (we want to use this solution as initial value):"
   ]
  },
  {
   "cell_type": "code",
   "execution_count": 14,
   "id": "44e27959-1115-42be-bc7a-2dc6dfbc8805",
   "metadata": {},
   "outputs": [],
   "source": [
    "[m_i.db.__setitem__(k, solve_i[k]) for k in m_i.db.getTypes(['var']) if k in solve_i.symbols]; # use solution database\n",
    "m_i.db.mergeInternal()\n",
    "m_i.initFromGms = None # no longer use gams code to initialize variables"
   ]
  },
  {
   "cell_type": "markdown",
   "id": "0cc18178-1aac-4a46-a107-9a8f66dc4811",
   "metadata": {},
   "source": [
    "Test baseline state:"
   ]
  },
  {
   "cell_type": "code",
   "execution_count": 15,
   "id": "fbd40646-b33d-417b-8d05-decb61136e07",
   "metadata": {},
   "outputs": [],
   "source": [
    "solve_StaticNCES = m_i.solve(state = 'B') # solve baseline state\n",
    "solve_i = solve_StaticNCES"
   ]
  },
  {
   "cell_type": "markdown",
   "id": "d00d2557-9470-4883-bb98-b6d9d347731a",
   "metadata": {},
   "source": [
    "### 1.2. Simple emission extension:"
   ]
  },
  {
   "cell_type": "markdown",
   "id": "d9390072-e207-45ad-b952-de2ff37ea110",
   "metadata": {},
   "source": [
    "Initialize emission extension:"
   ]
  },
  {
   "cell_type": "code",
   "execution_count": 16,
   "id": "5f8846fc-9116-4f77-ac98-328146c10423",
   "metadata": {},
   "outputs": [],
   "source": [
    "# m_StaticNCES_emission = mProduction.StaticNCES_emission(nestAgg, partial = True, abateCosts = False) # Initialize directly from extension class\n",
    "m_StaticNCES_emission = mProduction.getStaticNCES(nestAgg, extension = 'emission', partial = True, abateCosts = False) # ignore abatement costs\n",
    "m_i = m_StaticNCES_emission"
   ]
  },
  {
   "cell_type": "markdown",
   "id": "ca251121-7853-4141-994b-a990e80b9a9a",
   "metadata": {},
   "source": [
    "Test run this as well:"
   ]
  },
  {
   "cell_type": "code",
   "execution_count": 17,
   "id": "63016543-ca71-4f7c-a498-9cdea8c6dc7a",
   "metadata": {},
   "outputs": [],
   "source": [
    "m_i.initStuff(db = db_i) # don't need to add more data, we already rely on the solution from the basic model version here.\n",
    "solve_StaticNCES_emission = m_i.solve(state = 'C')"
   ]
  },
  {
   "cell_type": "markdown",
   "id": "5416450d-2982-44f8-b82e-4b92ea205406",
   "metadata": {},
   "source": [
    "Now, test run with some type of abatement costs:"
   ]
  },
  {
   "cell_type": "code",
   "execution_count": 18,
   "id": "8bda8f57-5574-47b1-9f95-b98ca49dd6ed",
   "metadata": {},
   "outputs": [],
   "source": [
    "m_i.addAbatementCosts(\"SqrAdjCosts\")\n",
    "m_i.initStuff() # update group definitions and such\n",
    "solve_StaticNCES_emissionWithAbate = m_i.solve(state = 'C')"
   ]
  },
  {
   "cell_type": "markdown",
   "id": "949f7123-fe65-43c6-bb2e-c87b50cf8090",
   "metadata": {},
   "source": [
    "## Dynamic  "
   ]
  },
  {
   "cell_type": "markdown",
   "id": "a3ab1bed-638a-4921-8a47-5bb2ac32c9be",
   "metadata": {},
   "source": [
    "The dynamic classes currently only contains the same extensions as the static models. Technically, extensions are caught by the parent class, thus both instances here are simple ```DynamicNCES_base```."
   ]
  },
  {
   "cell_type": "markdown",
   "id": "040c543c-b6a0-430a-b249-64cfb65c46ec",
   "metadata": {},
   "source": [
    "### 2.1. Without emissions (default)"
   ]
  },
  {
   "cell_type": "code",
   "execution_count": 19,
   "id": "1b1e205d-63bc-4e59-b3f8-ff5a51fd7c44",
   "metadata": {},
   "outputs": [],
   "source": [
    "db_DynamicNCES = db.copy()\n",
    "db_i = db_DynamicNCES"
   ]
  },
  {
   "cell_type": "markdown",
   "id": "4c3b7b6f-bba8-46ec-83a9-5c7d4b5d7d58",
   "metadata": {},
   "source": [
    "*Set up nesting structure from nesting tree:*"
   ]
  },
  {
   "cell_type": "code",
   "execution_count": 20,
   "id": "22dd6997-88d2-40d9-8c72-d0cb5a65b101",
   "metadata": {},
   "outputs": [
    {
     "data": {
      "text/plain": [
       "<gmsPython.nestingTree.nestingTree.AggTree at 0x1b1a3bdbf10>"
      ]
     },
     "execution_count": 20,
     "metadata": {},
     "output_type": "execute_result"
    }
   ],
   "source": [
    "nestInp = nestingTree.Tree('Inp', tree = db_i('nestProdInp').to_list(), f = 'CES')\n",
    "nestAgg = nestingTree.AggTree(name = 'P', trees = {t.name: t for t in [nestInp]}, ws = ws)\n",
    "nestAgg(namespace = {str(n)+'_input':n for n in db('n')})"
   ]
  },
  {
   "cell_type": "markdown",
   "id": "c0e0c9d2-65a0-42e3-b799-599551aa7523",
   "metadata": {},
   "source": [
    "*Get starting values for $\\mu$ using value shares:*"
   ]
  },
  {
   "cell_type": "code",
   "execution_count": 21,
   "id": "dad3697c-4841-4064-aacd-9a2fc750b9fa",
   "metadata": {},
   "outputs": [],
   "source": [
    "v = nestedShares(nestAgg, ws = ws)\n",
    "db_p = v(db)"
   ]
  },
  {
   "cell_type": "markdown",
   "id": "c32a51bd-71d8-4470-a1d0-bb771e93ea0c",
   "metadata": {},
   "source": [
    "Use share parameters and values to get initial values for intermediates:"
   ]
  },
  {
   "cell_type": "code",
   "execution_count": 22,
   "id": "4570742e-e621-49a8-9766-e5c5d6da841d",
   "metadata": {},
   "outputs": [],
   "source": [
    "db_i.aom(db_p('mu').xs(t0), name = 'mu')\n",
    "db_i.aom(adj.rc_pd(db_p('vD'), nestAgg.get('int')).rename('qD'), name = 'qD', priority = 'first') # specify intermediate goods levels"
   ]
  },
  {
   "cell_type": "markdown",
   "id": "99474704-c816-492c-8859-d5bfbc8ff2f5",
   "metadata": {},
   "source": [
    "Use static user cost as initial guess for price on durables (if no other has been provided):"
   ]
  },
  {
   "cell_type": "code",
   "execution_count": 23,
   "id": "05f8ee10-f02a-4eff-8008-bdcd3418fa1d",
   "metadata": {},
   "outputs": [],
   "source": [
    "db_i.aom(db('pD_dur'), name = 'pD', priority = 'first') # pD_dur includes an estimate of the long-run user-cost of capital"
   ]
  },
  {
   "cell_type": "markdown",
   "id": "f95d07c6-61ba-4ea2-a51f-f8a3b85ca2ad",
   "metadata": {},
   "source": [
    "Initialize model instance:"
   ]
  },
  {
   "cell_type": "code",
   "execution_count": 24,
   "id": "9257f3ad-a456-4fb2-b36d-92eeaed11f8a",
   "metadata": {},
   "outputs": [],
   "source": [
    "m_DynamicNCES = mProduction.getDynamicNCES(nestAgg, partial = True, initFromGms = 'initFirmValueBlock')\n",
    "m_i = m_DynamicNCES"
   ]
  },
  {
   "cell_type": "markdown",
   "id": "afa66db7-8caa-4226-9213-cddab545295f",
   "metadata": {},
   "source": [
    "Add data and initialize other stuff with default options:"
   ]
  },
  {
   "cell_type": "code",
   "execution_count": 25,
   "id": "e2eacfce-ff77-4f3f-8f58-62a27f7d2cfd",
   "metadata": {},
   "outputs": [],
   "source": [
    "m_i.initStuff(db = db_i)"
   ]
  },
  {
   "cell_type": "markdown",
   "id": "eea5896e-a010-43ff-8726-01132416500e",
   "metadata": {},
   "source": [
    "Solve calibration with robust relaxation method:"
   ]
  },
  {
   "cell_type": "code",
   "execution_count": 26,
   "id": "fd8afa98-286d-48f3-b972-e2efb7fe0376",
   "metadata": {},
   "outputs": [],
   "source": [
    "solve_DynamicNCES_Calib = m_i.jSolve(10, state = 'C')\n",
    "solve_i = solve_DynamicNCES_Calib"
   ]
  },
  {
   "cell_type": "markdown",
   "id": "76c6ba81-2037-4f95-a8d1-0c5830bc9c78",
   "metadata": {},
   "source": [
    "Add solution to main database, remove init methods (we want to use this solution as initial value):"
   ]
  },
  {
   "cell_type": "code",
   "execution_count": 27,
   "id": "06ef57b3-9cd5-4167-ae24-c719f622c6b5",
   "metadata": {},
   "outputs": [],
   "source": [
    "[m_i.db.__setitem__(k, solve_i[k]) for k in m_i.db.getTypes(['var']) if k in solve_i.symbols]; # use solution database\n",
    "m_i.db.mergeInternal()\n",
    "m_i.initFromGms = None # no longer use gams code to initialize variables"
   ]
  },
  {
   "cell_type": "markdown",
   "id": "c7573cfc-52e8-4703-82f3-bc192bfa490a",
   "metadata": {},
   "source": [
    "Test baseline state:"
   ]
  },
  {
   "cell_type": "code",
   "execution_count": 28,
   "id": "b9509e67-0831-4fea-8334-cbd023016e43",
   "metadata": {},
   "outputs": [],
   "source": [
    "solve_DynamicNCES = m_i.solve(state = 'B') # solve baseline state\n",
    "solve_i = solve_DynamicNCES"
   ]
  }
 ],
 "metadata": {
  "kernelspec": {
   "display_name": "Python 3 (ipykernel)",
   "language": "python",
   "name": "python3"
  },
  "language_info": {
   "codemirror_mode": {
    "name": "ipython",
    "version": 3
   },
   "file_extension": ".py",
   "mimetype": "text/x-python",
   "name": "python",
   "nbconvert_exporter": "python",
   "pygments_lexer": "ipython3",
   "version": "3.11.8"
  }
 },
 "nbformat": 4,
 "nbformat_minor": 5
}
