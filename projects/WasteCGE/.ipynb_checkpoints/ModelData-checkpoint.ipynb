{
 "cells": [
  {
   "cell_type": "code",
   "execution_count": 1,
   "id": "661063bc-e13a-4968-94b5-a3aae9bfbec3",
   "metadata": {},
   "outputs": [
    {
     "name": "stdout",
     "output_type": "stream",
     "text": [
      "No clean-up of work-folder\n"
     ]
    }
   ],
   "source": [
    "%run stdPackages.ipynb\n",
    "os.chdir(d['py'])\n",
    "from modelData import *\n",
    "from gmsPython import nestingTree"
   ]
  },
  {
   "cell_type": "markdown",
   "id": "861c8874-d020-4a8e-a2b3-8d1b69d9ab68",
   "metadata": {},
   "source": [
    "# Create Model Data"
   ]
  },
  {
   "cell_type": "markdown",
   "id": "1b915276-9bf7-4541-8664-144e483fad1b",
   "metadata": {},
   "source": [
    "## 0. Preliminaries"
   ]
  },
  {
   "cell_type": "markdown",
   "id": "f13a6f8c-96a3-48ce-a287-d8850465e841",
   "metadata": {},
   "source": [
    "*This creates a copy of the IO data from the ```IOdata``` project into the local data folder*"
   ]
  },
  {
   "cell_type": "code",
   "execution_count": 2,
   "id": "5adf21e9-4ddf-483a-af03-856be11ba72f",
   "metadata": {},
   "outputs": [
    {
     "data": {
      "text/plain": [
       "'C:\\\\Users\\\\sxj477\\\\Documents\\\\GitHub\\\\CGE_Generator - Copy\\\\projects\\\\WasteCGE\\\\data\\\\IO_WCGE'"
      ]
     },
     "execution_count": 2,
     "metadata": {},
     "output_type": "execute_result"
    }
   ],
   "source": [
    "f_IOdata = os.path.join(d['project'], 'IOdata','data','processedData', 'IO_WCGE')\n",
    "shutil.copy(f_IOdata, os.path.join(d['data'], 'IO_WCGE'))"
   ]
  },
  {
   "cell_type": "markdown",
   "id": "b59d6a58-777a-4e70-829d-a4e800ed54f1",
   "metadata": {},
   "source": [
    "*Define main settings:*"
   ]
  },
  {
   "cell_type": "code",
   "execution_count": 3,
   "id": "efdd00d9-7bab-4947-aa02-baae8afeef8a",
   "metadata": {},
   "outputs": [],
   "source": [
    "t0 = 2019 # baseline year for the model\n",
    "T  = t0 + 100 # set finite time horizon\n",
    "name = 'version_A' # Some global name that carries through all models/data to identify this version"
   ]
  },
  {
   "cell_type": "markdown",
   "id": "b083ef9c-739b-4c3d-9568-0e48c9a6ac64",
   "metadata": {},
   "source": [
    "*Load data:*"
   ]
  },
  {
   "cell_type": "code",
   "execution_count": 4,
   "id": "fc51afb7-515b-4fc5-aaa6-dc20f1b3b89f",
   "metadata": {},
   "outputs": [],
   "source": [
    "db = GpyDB(os.path.join(d['data'], 'IO_WCGE'), name = f'{name}_{t0}')"
   ]
  },
  {
   "cell_type": "markdown",
   "id": "5f87e272-68e3-4695-adc6-18230458ec83",
   "metadata": {},
   "source": [
    "*Clean up database - only include data for the baseline year $2019$:*"
   ]
  },
  {
   "cell_type": "code",
   "execution_count": 5,
   "id": "adb87399-46d0-489c-9ef8-b0ad093625b5",
   "metadata": {},
   "outputs": [],
   "source": [
    "AggDB.subsetDB(db, pd.Index([t0], name = 't'));"
   ]
  },
  {
   "cell_type": "markdown",
   "id": "78e9efa3-fd42-4bbd-bd6c-ab975ea4a483",
   "metadata": {},
   "source": [
    "*For mappings that identify nesting structure, we remove the time index entirely (we do not allow nesting structure to change over time here):*"
   ]
  },
  {
   "cell_type": "code",
   "execution_count": 6,
   "id": "fad52bb7-8e04-4df6-a018-c8c0a9ebb13a",
   "metadata": {},
   "outputs": [],
   "source": [
    "[db.__setitem__(k, db(k).droplevel('t').unique()) for k in ['nEqui','d_qS','d_qD','d_qSEqui','dExport','dImport','dImport_dom','dImport_for']];"
   ]
  },
  {
   "cell_type": "markdown",
   "id": "f5aa8984-ac24-486f-ac78-186f417bda62",
   "metadata": {},
   "source": [
    "*Add various time subsets that we'll rely on:*"
   ]
  },
  {
   "cell_type": "code",
   "execution_count": 7,
   "id": "4a45b7fe-51af-4b16-99b8-80061a7345de",
   "metadata": {},
   "outputs": [],
   "source": [
    "addTimeToDB(t0, T, db)"
   ]
  },
  {
   "cell_type": "markdown",
   "id": "dd38b73b-3cd0-4f7e-8ac8-860291f5050a",
   "metadata": {},
   "source": [
    "## 1. Production module"
   ]
  },
  {
   "cell_type": "markdown",
   "id": "fc0fd541-6d5e-4f2d-83bc-d6a2ab2ca272",
   "metadata": {},
   "source": [
    "### 1.1. Nesting structure"
   ]
  },
  {
   "cell_type": "markdown",
   "id": "96e7b6f0-aa58-4448-aa75-1b437093fde6",
   "metadata": {},
   "source": [
    "Generally, we consider the following nesting structure:"
   ]
  },
  {
   "cell_type": "code",
   "execution_count": 8,
   "id": "2d7c19c2-aeb4-4409-9416-c48d2fc618eb",
   "metadata": {},
   "outputs": [],
   "source": [
    "mFull = pd.MultiIndex.from_tuples([('KELM', 'RxE'), ('KELM','KEL'), \n",
    "                                                    ('KEL','L'), ('KEL','KE'), \n",
    "                                                    ('KE','K'), ('KE','E'),\n",
    "                                                    ('E','Energy_input'),('E','Energy_F')], names = ['n','nn'])"
   ]
  },
  {
   "cell_type": "markdown",
   "id": "29ad0170-c087-47b6-8ef8-41748e82dce8",
   "metadata": {},
   "source": [
    "The materials nest excluding energy (```RxE```) is a CES nest of different final goods that compete with similar foreign ones. We use the syntax ```RxEym_x``` to denote the intermediate good that consists of ```x``` and the relevant foreign good:"
   ]
  },
  {
   "cell_type": "code",
   "execution_count": 9,
   "id": "d2577f4b-83cd-4f95-adf1-5408c4a31553",
   "metadata": {},
   "outputs": [],
   "source": [
    "n_noEnergy = db('n_p').difference(['Energy']) \n",
    "nF_noEnergy= db('n_F').difference(['Energy_F'])\n",
    "RxE1 = pd.MultiIndex.from_product([['RxE'], 'RxEym_'+n_noEnergy], names = ['n','nn']) # mapping from RxE to intermediate goods\n",
    "RxE2 = pd.MultiIndex.from_arrays([RxE1.get_level_values('nn'), n_noEnergy+'_input'], names = ['n','nn']) # mapping from intermediate good to domestic one \n",
    "RxE3 = pd.MultiIndex.from_arrays([RxE1.get_level_values('nn'), nF_noEnergy], names = ['n','nn']) # mapping from intermediate good to foreign one\n",
    "mFull = reduce(pd.Index.union, [mFull, RxE1, RxE2, RxE3]) # Combine the four indices"
   ]
  },
  {
   "cell_type": "markdown",
   "id": "02d6d45b-6522-4697-bd05-cc5fe57c0568",
   "metadata": {},
   "source": [
    "If a sector uses inputs from all other sectors and foreign sectors, this is the mapping that describes its production structure. We allow for each sector to have a unique nesting structure by adding the sector index:"
   ]
  },
  {
   "cell_type": "code",
   "execution_count": 10,
   "id": "bff3da37-65d2-48c5-befd-8d0fb183de91",
   "metadata": {},
   "outputs": [],
   "source": [
    "m = pyDatabases.cartesianProductIndex([db('s_p'), mFull])"
   ]
  },
  {
   "cell_type": "markdown",
   "id": "19e3029b-38c2-4015-af0b-c5af48584942",
   "metadata": {},
   "source": [
    "Next, it may not be the case that all sectors rely on all types of inputs. In this case, we \"trim\" the nesting tree by eliminating the knots that are unused:"
   ]
  },
  {
   "cell_type": "code",
   "execution_count": 11,
   "id": "76e1cc61-176c-4d71-a659-876dc67ab0a6",
   "metadata": {},
   "outputs": [],
   "source": [
    "sparsity = adj.rc_pd(db('vD')[db('vD')!=0], db('s_p')).droplevel('t').index # what types of inputs do the sectors actually use in the data\n",
    "# recall that inputs are called '_input' for products from the domestic sectors. Map the sparsity index to these:\n",
    "mapNames = pd.Series(db('n_p')+'_input', index = db('n_p')).combine_first(\n",
    "            pd.Series(sparsity.levels[-1], index = sparsity.levels[-1]))\n",
    "sparsity = sparsity.set_levels(sparsity.levels[-1].map(mapNames), level = -1)\n",
    "\n",
    "m = nestingTree.trimNestingStructure(m, sparsity)"
   ]
  },
  {
   "cell_type": "markdown",
   "id": "08dcbb63-36d2-4f5b-a174-21e8f45a5766",
   "metadata": {},
   "source": [
    "Finally, we replace the upper-most level ```KELM``` with the name of the sector instead:"
   ]
  },
  {
   "cell_type": "code",
   "execution_count": 12,
   "id": "d15ed696-9486-40bb-a555-09c5b5fb3728",
   "metadata": {},
   "outputs": [],
   "source": [
    "df = m.to_frame(index=False)\n",
    "df.loc[df.n == 'KELM','n'] = df.loc[df.n == 'KELM', 's']\n",
    "m = pd.MultiIndex.from_frame(df)\n",
    "db['nestProduction'] = m"
   ]
  },
  {
   "cell_type": "markdown",
   "id": "17c19edd-4095-47fa-89ae-9994ee1837a0",
   "metadata": {},
   "source": [
    "### 1.2. Elasticities"
   ]
  },
  {
   "cell_type": "markdown",
   "id": "987aae01-f7ae-45e9-80a4-4f2d013da5bf",
   "metadata": {},
   "source": [
    "Elasticity of substitution between materials and ```qKEL```"
   ]
  },
  {
   "cell_type": "code",
   "execution_count": 13,
   "id": "829970e8-8723-4771-b036-aaea850a4c5f",
   "metadata": {},
   "outputs": [],
   "source": [
    "sigmaOut = pd.Series(0.5, index = m[m.get_level_values('s')==m.get_level_values('n')].droplevel('nn').unique(), name = 'sigma')"
   ]
  },
  {
   "cell_type": "markdown",
   "id": "364b24f5-b9ea-4db2-88a9-075b1e9dd4e8",
   "metadata": {},
   "source": [
    "Elasticity of substitution ```qKEL``` nest:"
   ]
  },
  {
   "cell_type": "code",
   "execution_count": 14,
   "id": "fcdce9fa-8dcc-4ff4-aa52-45f11bcc0e25",
   "metadata": {},
   "outputs": [],
   "source": [
    "sigmaKEL = pd.Series(0.5, index  = m[m.get_level_values('n')=='KEL'].droplevel('nn').unique(), name = 'sigma')"
   ]
  },
  {
   "cell_type": "markdown",
   "id": "a43f05df-6290-4778-8395-c0374d0f8c15",
   "metadata": {},
   "source": [
    "Elasticity of substitution ```KE``` nest:"
   ]
  },
  {
   "cell_type": "code",
   "execution_count": 15,
   "id": "7c92dfb0-ee41-4e2c-8920-8425c42cfe6b",
   "metadata": {},
   "outputs": [],
   "source": [
    "sigmaKE = pd.Series(0.6, index  = m[m.get_level_values('n')=='KE'].droplevel('nn').unique(), name = 'sigma')"
   ]
  },
  {
   "cell_type": "markdown",
   "id": "8370a3b8-da73-490d-8781-c74968a803ce",
   "metadata": {},
   "source": [
    "Elasticity of substitution ```E``` nest:"
   ]
  },
  {
   "cell_type": "code",
   "execution_count": 16,
   "id": "6a10e426-6481-4f7c-9ac4-68d4a93f10af",
   "metadata": {},
   "outputs": [],
   "source": [
    "sigmaE = pd.Series(0.5, index  = m[m.get_level_values('n')=='E'].droplevel('nn').unique(), name = 'sigma')"
   ]
  },
  {
   "cell_type": "markdown",
   "id": "64951fc8-337d-4e79-80b4-caa1f3ce576f",
   "metadata": {},
   "source": [
    "Elasticity of substitution between materials:"
   ]
  },
  {
   "cell_type": "code",
   "execution_count": 17,
   "id": "48a8d9dc-6f31-406a-9c12-a2db4b2ea92f",
   "metadata": {},
   "outputs": [],
   "source": [
    "sigmaRxE = pd.Series(0.1, index = m[m.get_level_values('n')=='RxE'].droplevel('nn').unique(), name = 'sigma')"
   ]
  },
  {
   "cell_type": "markdown",
   "id": "3f42cb17-68d6-4b7a-9876-6860f6144ab4",
   "metadata": {},
   "source": [
    "Elasticity of substitution import/domestic types:"
   ]
  },
  {
   "cell_type": "code",
   "execution_count": 18,
   "id": "327995db-f78f-46bb-931b-83c092106312",
   "metadata": {},
   "outputs": [],
   "source": [
    "sigmaRxEym = pd.Series(5, index = m[m.get_level_values('n').str.contains('RxEy')].droplevel('nn').unique(), name = 'sigma')"
   ]
  },
  {
   "cell_type": "markdown",
   "id": "84168ea2-d519-4959-88c7-1a97e2376ec2",
   "metadata": {},
   "source": [
    "Add to database:"
   ]
  },
  {
   "cell_type": "code",
   "execution_count": 19,
   "id": "7d12be5b-2068-4d76-9855-13ea63b2e8cf",
   "metadata": {
    "tags": []
   },
   "outputs": [],
   "source": [
    "sigma = pd.concat([sigmaOut, sigmaKEL, sigmaKE, sigmaE, sigmaRxE, sigmaRxEym], axis = 0 )\n",
    "db.aom(sigma, name = 'sigma')"
   ]
  },
  {
   "cell_type": "markdown",
   "id": "59a4714f-c4ec-47f1-96c2-b44afef4d33f",
   "metadata": {},
   "source": [
    "### 1.3. Regulation and emissions"
   ]
  },
  {
   "cell_type": "markdown",
   "id": "513a076a-8370-4fb0-9fd0-b7aafba054d7",
   "metadata": {},
   "source": [
    "Define relevant sector outputs and output shares (relevant if sectors have multiple outputs):"
   ]
  },
  {
   "cell_type": "code",
   "execution_count": 20,
   "id": "2cc7c409-0d3c-450c-b839-06937634b24e",
   "metadata": {},
   "outputs": [],
   "source": [
    "output = adj.rc_pd(db['qS'], db['s_p']) # output\n",
    "inputs = adj.rc_pd(db['qD'], ('and', [db['s_p'], ('not', db['dur_p'])])) # inputs\n",
    "outShares = output/pyDatabases.pdSum(output, 'n') # output shares\n",
    "db['qCO2'] = db('qCO2') * outShares # overwrite qCO2 to be split into potentially multiple outputs from each sector"
   ]
  },
  {
   "cell_type": "markdown",
   "id": "a5a1a80d-b26e-4b6e-8ca5-ed13de969243",
   "metadata": {},
   "source": [
    "Define implicit tax rate (this is a rough estimate of emission taxes, and its only available for $t\\geq 1995$):"
   ]
  },
  {
   "cell_type": "code",
   "execution_count": 21,
   "id": "525ba092-102e-4ea5-bb2e-7eec03d033fd",
   "metadata": {},
   "outputs": [],
   "source": [
    "db['tauCO2'] = adjMultiIndex.applyMult((db('vTax').xs('Emissions',level='taxTypes') / db('qCO2').replace(0,1)).fillna(0), output.index)\n",
    "db['dtauCO2']= db('tauCO2').index\n",
    "db['dqCO2']  = db('qCO2').index"
   ]
  },
  {
   "cell_type": "markdown",
   "id": "81257d27-cc1c-4da1-9ca5-23ff64d5711a",
   "metadata": {},
   "source": [
    "Add the rest of the regulation:\n",
    "* Zero lump-sum taxes, zero input taxes.\n",
    "* non-environmental output taxes adjusted to target total taxes"
   ]
  },
  {
   "cell_type": "code",
   "execution_count": 22,
   "id": "5c461846-2fd5-4c43-a5fa-c17a8e3f11c8",
   "metadata": {},
   "outputs": [],
   "source": [
    "db.aom(adjMultiIndex.applyMult(adj.rc_pd(db('TotalTax'), db['s_p']), output.index) / output, name = 'tauS') \n",
    "db.aom(pd.Series(0, index = inputs.index), name = 'tauD') \n",
    "db.aom(pd.Series(0, index = adj.rc_pd(db('TotalTax'), db('s_p')).index), name = 'tauLump')\n",
    "db.aom( (db('tauS')-db('vTax').xs('Emissions',level='taxTypes'))/output, name = 'tauNonEnv')\n",
    "db.aom(db('tauNonEnv').copy(), name = 'tauNonEnv0') # exogenous variable used for calibration"
   ]
  },
  {
   "cell_type": "markdown",
   "id": "1b336b32-ad39-4acb-822b-9f81900be3f1",
   "metadata": {},
   "source": [
    "Define sector-specific prices given regulation:"
   ]
  },
  {
   "cell_type": "code",
   "execution_count": 23,
   "id": "7ccf8f66-6d95-4de7-bc30-57710abd73f7",
   "metadata": {},
   "outputs": [],
   "source": [
    "db.aom(stdSort(adj.rc_pd((db('tauD')+db('p')).dropna(), inputs)), name = 'pD')"
   ]
  },
  {
   "cell_type": "markdown",
   "id": "f0bd8b2d-1be5-484f-a37a-e22f4980f345",
   "metadata": {},
   "source": [
    "## 2. Investment module"
   ]
  },
  {
   "cell_type": "markdown",
   "id": "45b5e24a-394f-40e0-a971-77bf08217825",
   "metadata": {},
   "source": [
    "### 2.1. Nesting structure"
   ]
  },
  {
   "cell_type": "markdown",
   "id": "638db98c-652f-4ba3-9c33-cf624f4c7c38",
   "metadata": {},
   "source": [
    "The investment module consists only of the materials nest, but includes energy:"
   ]
  },
  {
   "cell_type": "code",
   "execution_count": 24,
   "id": "1b46b2bd-76be-47cc-b41e-7cd2be9416a1",
   "metadata": {},
   "outputs": [],
   "source": [
    "dImport = adj.rc_pd(db('dImport'), db('s_i'))\n",
    "dImport_dom = adj.rc_pd(db('dImport_dom'), db('s_i'))\n",
    "dImport_for = adj.rc_pd(db('dImport_for'), db('s_i'))"
   ]
  },
  {
   "cell_type": "markdown",
   "id": "005c54ae-6082-4bb2-8b97-ec45dbb9f0ab",
   "metadata": {},
   "source": [
    "*Add mappings:*"
   ]
  },
  {
   "cell_type": "code",
   "execution_count": 25,
   "id": "5f486c06-5ba1-46db-82eb-11bb36c29318",
   "metadata": {},
   "outputs": [],
   "source": [
    "df = dImport.to_frame(index=False).assign(m = lambda x: 'Materials_'+x['n'].astype(str), u = 'Materials')\n",
    "m = pd.MultiIndex.from_frame(df[['s','u','m']]).rename(['s','n','nn']) # mapping from materials to materials_x\n",
    "m = m.union(pd.MultiIndex.from_frame(df[['s','m','n']]).rename(['s','n','nn'])) # mapping from materials_x to x\n",
    "m = m.union(pd.MultiIndex.from_frame(df[['s','m','nn']]).rename(['s','n','nn'])) # mapping from materials_x to x_F"
   ]
  },
  {
   "cell_type": "markdown",
   "id": "d541c8f4-bada-463c-af5b-f9cf0a486cef",
   "metadata": {},
   "source": [
    "*Domestic only*"
   ]
  },
  {
   "cell_type": "code",
   "execution_count": 26,
   "id": "48b52292-9f02-41d2-ae7a-a5a7f67fdcf3",
   "metadata": {},
   "outputs": [],
   "source": [
    "df = dImport_dom.to_frame(index=False).assign(u = 'Materials')\n",
    "m = m.union(pd.MultiIndex.from_frame(df[['s','u','n']]).rename(['s','n','nn'])) # mapping from materials to input"
   ]
  },
  {
   "cell_type": "markdown",
   "id": "92db6e48-b915-4efb-b379-730f73f11de2",
   "metadata": {},
   "source": [
    "Foreign only:"
   ]
  },
  {
   "cell_type": "code",
   "execution_count": 27,
   "id": "a76fbcca-bc15-4ab5-b79b-fa7f4cb61424",
   "metadata": {},
   "outputs": [],
   "source": [
    "df = dImport_for.to_frame(index=False).assign(u = 'Materials')\n",
    "m = m.union(pd.MultiIndex.from_frame(df[['s','u','n']]).rename(['s','n','nn'])) # mapping from materials to input"
   ]
  },
  {
   "cell_type": "markdown",
   "id": "31ca6a9c-5561-4e95-9dc1-eb0b7676f2a1",
   "metadata": {},
   "source": [
    "Replace the upper-most level (Materials) with the name of the sector:"
   ]
  },
  {
   "cell_type": "code",
   "execution_count": 28,
   "id": "612ed164-e6b1-4547-b2b1-66bde358f8c2",
   "metadata": {},
   "outputs": [],
   "source": [
    "df = m.to_frame(index=False)\n",
    "df.loc[df.n == 'Materials','n'] = df.loc[df.n == 'Materials', 's']\n",
    "m = pd.MultiIndex.from_frame(df)"
   ]
  },
  {
   "cell_type": "markdown",
   "id": "728d5351-691e-4ba2-9f09-12b170bbb820",
   "metadata": {},
   "source": [
    "*Add nesting structure:*"
   ]
  },
  {
   "cell_type": "code",
   "execution_count": 29,
   "id": "3d875673-399d-43e5-bb4d-ae0dd9003f93",
   "metadata": {},
   "outputs": [],
   "source": [
    "db['nestInvestment'] = m"
   ]
  },
  {
   "cell_type": "markdown",
   "id": "1538235a-2277-487b-87e5-8c85bd39ad15",
   "metadata": {},
   "source": [
    "### 2.2: Elasticities:"
   ]
  },
  {
   "cell_type": "code",
   "execution_count": 30,
   "id": "a0f2735f-6127-4231-87f2-10b9a78fb22a",
   "metadata": {},
   "outputs": [],
   "source": [
    "sigmaI = pd.Series(.5, index = m.droplevel('nn').unique(), name = 'sigma')\n",
    "db.aom(sigmaI, name = 'sigma')"
   ]
  },
  {
   "cell_type": "markdown",
   "id": "dc9422cb-f736-4f7c-9a0e-6268e0352514",
   "metadata": {},
   "source": [
    "### 2.3. Regulation:"
   ]
  },
  {
   "cell_type": "markdown",
   "id": "bb157a96-5896-4057-afa1-ebf054bc6bdf",
   "metadata": {},
   "source": [
    "The investment sector does not itself emit emissions; however, investments are still tied to emissions through this sectors' reliance on inputs from other sectors (that are emission intensive). The emission regulation is filled in as a \"production module\" as above (but with zero emissions), in order to rely on a similar code."
   ]
  },
  {
   "cell_type": "code",
   "execution_count": 31,
   "id": "355b30a7-a709-45b1-9b88-e084ddba9bb3",
   "metadata": {},
   "outputs": [],
   "source": [
    "output = adj.rc_pd(db['qS'], db['s_i']) # output\n",
    "inputs = adj.rc_pd(db['qD'], db['s_i']) # inputs\n",
    "outShares = output/pyDatabases.pdSum(output, 'n') # output shares\n",
    "db.aom((adj.rc_pd(db('qCO2'), db['s_i']) * outShares).fillna(0), name = 'qCO2')\n",
    "db.aom(pd.Series(0, index = output.index, name = 'tauCO2'), name = 'tauCO2')"
   ]
  },
  {
   "cell_type": "markdown",
   "id": "dac71fb7-f09e-44fe-8a30-98f21688da87",
   "metadata": {},
   "source": [
    "The rest of the regulation is standard: We assume that all taxes are paid as an output tax, there are no input/lump sum taxes:"
   ]
  },
  {
   "cell_type": "code",
   "execution_count": 32,
   "id": "0fda16b0-93ee-4150-af42-ae1a535d9025",
   "metadata": {},
   "outputs": [],
   "source": [
    "db.aom(adjMultiIndex.applyMult(adj.rc_pd(db('TotalTax'), db['s_i']), output.index) / output, name = 'tauS') # tauS\n",
    "db.aom(pd.Series(0, index = inputs.index), name = 'tauD')\n",
    "db.aom(pd.Series(0, index = adj.rc_pd(db('TotalTax'), db('s_i')).index), name = 'tauLump')\n",
    "db.aom(adj.rc_pd(db('tauS'), db('s_i')).copy(), name = 'tauNonEnv')\n",
    "db.aom(db('tauNonEnv').copy(), name = 'tauNonEnv0') # exogenous variable used for calibration"
   ]
  },
  {
   "cell_type": "markdown",
   "id": "ac77f27b-4641-4ba4-9781-7780bd45f076",
   "metadata": {},
   "source": [
    "Define sector-specific prices given regulation:"
   ]
  },
  {
   "cell_type": "code",
   "execution_count": 33,
   "id": "5833e479-f056-47c2-a38f-8251499b1377",
   "metadata": {},
   "outputs": [],
   "source": [
    "db.aom(stdSort(adj.rc_pd(db('tauD')+db('p'), inputs)), name = 'pD')"
   ]
  },
  {
   "cell_type": "markdown",
   "id": "8995faee-ada4-457e-b612-534674ea347a",
   "metadata": {},
   "source": [
    "## 3. Households"
   ]
  },
  {
   "cell_type": "markdown",
   "id": "2ad1d8aa-c782-4543-93cd-b576534007aa",
   "metadata": {},
   "source": [
    "### 3.1. Nesting structure"
   ]
  },
  {
   "cell_type": "markdown",
   "id": "85399f23-e2ae-4750-a776-97a8c0cccee3",
   "metadata": {},
   "source": [
    "The household consumption nesting structure is somewhat similar to the investment sectors, with the exception that the top nest is a consumption aggregate that captures intertemporal preferences for consumption smoothing."
   ]
  },
  {
   "cell_type": "code",
   "execution_count": 34,
   "id": "66239c12-fc4f-4ff8-85e2-58c853d8d19d",
   "metadata": {},
   "outputs": [],
   "source": [
    "dImport = adj.rc_pd(db('dImport'), db('s_HH'))\n",
    "dImport_dom = adj.rc_pd(db('dImport_dom'), db('s_HH'))\n",
    "dImport_for = adj.rc_pd(db('dImport_for'), db('s_HH'))"
   ]
  },
  {
   "cell_type": "markdown",
   "id": "f5b8de6a-bf35-4806-b3e6-595213c386b4",
   "metadata": {},
   "source": [
    "*Add mappings:*"
   ]
  },
  {
   "cell_type": "code",
   "execution_count": 35,
   "id": "6ca1c5cc-bd93-414c-8fc9-2645b346905d",
   "metadata": {},
   "outputs": [],
   "source": [
    "df = dImport.to_frame(index=False).assign(m = lambda x: 'C_'+x['n'].astype(str), u = 'C')\n",
    "m = pd.MultiIndex.from_frame(df[['s','u','m']]).rename(['s','n','nn']) # mapping from materials to materials_x\n",
    "m = m.union(pd.MultiIndex.from_frame(df[['s','m','n']]).rename(['s','n','nn'])) # mapping from materials_x to x\n",
    "m = m.union(pd.MultiIndex.from_frame(df[['s','m','nn']]).rename(['s','n','nn'])) # mapping from materials_x to x_F"
   ]
  },
  {
   "cell_type": "markdown",
   "id": "c673a0b0-2b68-492a-9835-7ac0ce442acc",
   "metadata": {},
   "source": [
    "*Domestic only*"
   ]
  },
  {
   "cell_type": "code",
   "execution_count": 36,
   "id": "dd139c0d-fff3-4da6-addf-b04dcb4d4028",
   "metadata": {},
   "outputs": [],
   "source": [
    "df = dImport_dom.to_frame(index=False).assign(u = 'C')\n",
    "m = m.union(pd.MultiIndex.from_frame(df[['s','u','n']]).rename(['s','n','nn'])) # mapping from materials to input"
   ]
  },
  {
   "cell_type": "markdown",
   "id": "12e12eac-331b-4548-bd23-f4f396ecd6a7",
   "metadata": {},
   "source": [
    "Foreign only:"
   ]
  },
  {
   "cell_type": "code",
   "execution_count": 37,
   "id": "e228ed02-15a6-4edb-9342-69bfb17f8db5",
   "metadata": {},
   "outputs": [],
   "source": [
    "df = dImport_for.to_frame(index=False).assign(u = 'C')\n",
    "m = m.union(pd.MultiIndex.from_frame(df[['s','u','n']]).rename(['s','n','nn'])) # mapping from materials to input"
   ]
  },
  {
   "cell_type": "markdown",
   "id": "b1ba828e-63d5-4cd4-acaf-2dfe676b6a15",
   "metadata": {},
   "source": [
    "Replace the upper-most level with the name of the household consumption aggregate:"
   ]
  },
  {
   "cell_type": "code",
   "execution_count": 38,
   "id": "d99f15d0-ad53-4a4b-92f4-df80abf0db12",
   "metadata": {},
   "outputs": [],
   "source": [
    "df = m.to_frame(index=False)\n",
    "df.loc[df.n == 'C','n'] = 'C_'+df.loc[df.n == 'C', 's']\n",
    "m = pd.MultiIndex.from_frame(df)"
   ]
  },
  {
   "cell_type": "markdown",
   "id": "714029a4-99d6-4b5d-8545-ee4e05e66b8d",
   "metadata": {},
   "source": [
    "*Add nesting structure:*"
   ]
  },
  {
   "cell_type": "code",
   "execution_count": 39,
   "id": "c5438fff-a84f-4a53-a952-0d9d4fd690b3",
   "metadata": {},
   "outputs": [],
   "source": [
    "db['nestHH'] = m"
   ]
  },
  {
   "cell_type": "markdown",
   "id": "9f2846ff-1af2-42c7-aab4-a30198d5b36a",
   "metadata": {},
   "source": [
    "Add mapping from consumption aggregate to labor:"
   ]
  },
  {
   "cell_type": "code",
   "execution_count": 40,
   "id": "c0e86eca-23ad-45e6-a40d-194c33ade313",
   "metadata": {},
   "outputs": [],
   "source": [
    "db['L2C'] = pd.MultiIndex.from_arrays([db('s_HH'), pd.Index(['L']*len(db('s_HH')), name = 'n'), ('C_'+db('s_HH')).rename('nn')])"
   ]
  },
  {
   "cell_type": "markdown",
   "id": "10b9df0c-d088-457e-8a15-8451674c4e16",
   "metadata": {},
   "source": [
    "### 3.2. Elasticities:"
   ]
  },
  {
   "cell_type": "markdown",
   "id": "986dba38-7049-4dc8-b981-d53b1ad32e44",
   "metadata": {},
   "source": [
    "Upper level nest:"
   ]
  },
  {
   "cell_type": "code",
   "execution_count": 41,
   "id": "bd52cbf9-ae24-46ae-b6c5-7f84b3090d06",
   "metadata": {},
   "outputs": [],
   "source": [
    "sigma_HH_upper = pd.Series(0.5, index = m[m.get_level_values('n') == 'C_HH'].droplevel('nn').unique(), name = 'sigma')"
   ]
  },
  {
   "cell_type": "markdown",
   "id": "bb9239a2-6ce9-47a7-b4dc-a616435a310f",
   "metadata": {},
   "source": [
    "Lower-level (import/domestic competition):"
   ]
  },
  {
   "cell_type": "code",
   "execution_count": 42,
   "id": "e0afb80b-2f49-43fb-a1f6-87e17fcfc45c",
   "metadata": {},
   "outputs": [],
   "source": [
    "sigma_HH_Import = pd.Series(2, index = m[m.get_level_values('n') != 'C_HH'].droplevel('nn').unique(), name = 'sigma')"
   ]
  },
  {
   "cell_type": "markdown",
   "id": "5697e932-dc40-4ad2-81c0-a1c1b3adaad8",
   "metadata": {},
   "source": [
    "Add to database:"
   ]
  },
  {
   "cell_type": "code",
   "execution_count": 43,
   "id": "a4216873-f7b3-4aee-8e80-150e166d1678",
   "metadata": {},
   "outputs": [],
   "source": [
    "sigma_HH = pd.concat([sigma_HH_upper, sigma_HH_Import], axis = 0) \n",
    "db.aom(sigma_HH, name = 'sigma')"
   ]
  },
  {
   "cell_type": "markdown",
   "id": "d830db66-9155-47ba-9f93-62f8ffa7024a",
   "metadata": {},
   "source": [
    "### 3.3. Regulation:"
   ]
  },
  {
   "cell_type": "markdown",
   "id": "cddd0717-7032-4e46-a0f6-005214a900b1",
   "metadata": {},
   "source": [
    "Households do not directly emit anything (it all happens in the production process). Currently, we use a very simple type of regulation here:\n",
    "* Households pay VAT (the size of which is included in the IO data); we impose this as a flat rate on all inputs.\n",
    "* Set the labor income tax rate at 0.47 (roughly the average for 2018 data).\n",
    "* We set the level of lump sum transfers at 40\\% of labor income (roughly the case for 2018 data).\n",
    "* Finally, *for now/temporarily*, adjust the value of *TotalTax* to ensure that the consumer has a balanced budget. If we used detailed data on regulation on households, we could drop this assumption."
   ]
  },
  {
   "cell_type": "code",
   "execution_count": 44,
   "id": "acb85166-13e7-4050-8c0a-5b1cab371957",
   "metadata": {},
   "outputs": [],
   "source": [
    "output = adj.rc_pd(db('qS'), db['s_HH'])\n",
    "inputs = adj.rc_pd(db('qD'), db['s_HH'])\n",
    "rTransfer = 0.4004\n",
    "rLaborTax = 0.478\n",
    "rVAT = adj.rc_pd(db('vTax').xs('VAT',level='taxTypes'), db['s_HH']) / pyDatabases.pdSum(inputs, 'n')\n",
    "db.aom(adjMultiIndex.applyMult(rVAT,inputs.index), name = 'tauD') # add flat rate VAT on all demand\n",
    "db.aom(pd.Series(rLaborTax, index = output.index), name = 'tauS') # add a flat labor tax rate\n",
    "db.aom(pyDatabases.pdSum(-output * rTransfer, 'n'), name = 'tauLump') # Adjust lump sum tax\n",
    "db.aom(pyDatabases.pdSum(rVAT * inputs, 'n')+pyDatabases.pdSum(output, 'n') * (rLaborTax-rTransfer), name = 'TotalTax') # adhoc adjustment of 'TotalTax'"
   ]
  },
  {
   "cell_type": "markdown",
   "id": "1b6e2bba-46b8-49e0-ac16-660e18500b54",
   "metadata": {},
   "source": [
    "## 4. Government"
   ]
  },
  {
   "cell_type": "markdown",
   "id": "d0ddee44-a1fc-4b1e-9145-900026265219",
   "metadata": {},
   "source": [
    "### 4.1. Nesting structure"
   ]
  },
  {
   "cell_type": "markdown",
   "id": "d71c4074-741e-428e-b792-fc56fe4a2643",
   "metadata": {},
   "source": [
    "Government consumption is nested in a similar way as household consumption - and uses the same elasticities:"
   ]
  },
  {
   "cell_type": "code",
   "execution_count": 45,
   "id": "a42d1bb3-5fbd-4d6a-8822-212876d0d3f6",
   "metadata": {},
   "outputs": [],
   "source": [
    "dImport = adj.rc_pd(db('dImport'), db('s_G'))\n",
    "dImport_dom = adj.rc_pd(db('dImport_dom'), db('s_G'))\n",
    "dImport_for = adj.rc_pd(db('dImport_for'), db('s_G'))"
   ]
  },
  {
   "cell_type": "markdown",
   "id": "93c2c0e7-1692-4733-b3b2-0b4c84134034",
   "metadata": {},
   "source": [
    "*Add mappings:*"
   ]
  },
  {
   "cell_type": "code",
   "execution_count": 46,
   "id": "d516e612-eabe-433c-9704-4eb2edb9a157",
   "metadata": {},
   "outputs": [],
   "source": [
    "df = dImport.to_frame(index=False).assign(m = lambda x: 'GC_'+x['n'].astype(str), u = 'GC')\n",
    "m = pd.MultiIndex.from_frame(df[['s','u','m']]).rename(['s','n','nn']) # mapping from materials to materials_x\n",
    "m = m.union(pd.MultiIndex.from_frame(df[['s','m','n']]).rename(['s','n','nn'])) # mapping from materials_x to x\n",
    "m = m.union(pd.MultiIndex.from_frame(df[['s','m','nn']]).rename(['s','n','nn'])) # mapping from materials_x to x_F"
   ]
  },
  {
   "cell_type": "markdown",
   "id": "c1cb55a6-b991-4f1e-bb91-839e55457702",
   "metadata": {},
   "source": [
    "*Domestic only*"
   ]
  },
  {
   "cell_type": "code",
   "execution_count": 47,
   "id": "d3b5f7a7-9b3f-4859-a5d2-ebe0a8ae86ef",
   "metadata": {},
   "outputs": [],
   "source": [
    "df = dImport_dom.to_frame(index=False).assign(u = 'GC')\n",
    "m = m.union(pd.MultiIndex.from_frame(df[['s','u','n']]).rename(['s','n','nn'])) # mapping from materials to input"
   ]
  },
  {
   "cell_type": "markdown",
   "id": "a38779fd-a89c-4d25-9d2b-6912586e39d5",
   "metadata": {},
   "source": [
    "Foreign only:"
   ]
  },
  {
   "cell_type": "code",
   "execution_count": 48,
   "id": "65ef12fb-514a-4627-84e8-0f06b4e73607",
   "metadata": {},
   "outputs": [],
   "source": [
    "df = dImport_for.to_frame(index=False).assign(u = 'GC')\n",
    "m = m.union(pd.MultiIndex.from_frame(df[['s','u','n']]).rename(['s','n','nn'])) # mapping from materials to input"
   ]
  },
  {
   "cell_type": "markdown",
   "id": "649949ab-1784-4e99-bd02-e0d4173d8068",
   "metadata": {},
   "source": [
    "Replace the upper-most level with the name of the household consumption aggregate:"
   ]
  },
  {
   "cell_type": "code",
   "execution_count": 49,
   "id": "887be62b-d08e-4e17-be21-82bf7cfa9d93",
   "metadata": {},
   "outputs": [],
   "source": [
    "df = m.to_frame(index=False)\n",
    "df.loc[df.n == 'GC','n'] = 'GC_'+df.loc[df.n == 'GC', 's']\n",
    "m = pd.MultiIndex.from_frame(df)"
   ]
  },
  {
   "cell_type": "markdown",
   "id": "0bb0b535-cff2-469f-9dce-cd6fc3e12bf9",
   "metadata": {},
   "source": [
    "*Add nesting structure:*"
   ]
  },
  {
   "cell_type": "code",
   "execution_count": 50,
   "id": "8e6781d1-f699-4512-a035-e426a2687ed8",
   "metadata": {},
   "outputs": [],
   "source": [
    "db['nestG'] = m"
   ]
  },
  {
   "cell_type": "markdown",
   "id": "d7aa8657-8d7b-4949-84a1-601182e03ac5",
   "metadata": {},
   "source": [
    "### 4.2. Elasticities"
   ]
  },
  {
   "cell_type": "markdown",
   "id": "eb260280-d5df-4637-b84f-8a74c32d96bb",
   "metadata": {},
   "source": [
    "Upper level nest:"
   ]
  },
  {
   "cell_type": "code",
   "execution_count": 51,
   "id": "c402a638-2d96-4a31-9653-298452c9e0d6",
   "metadata": {},
   "outputs": [],
   "source": [
    "sigma_G_upper = pd.Series(.9, index = m[m.get_level_values('n') == 'GC_G'].droplevel('nn').unique(), name = 'sigma')"
   ]
  },
  {
   "cell_type": "markdown",
   "id": "e191939b-7659-487d-8203-671fb107505b",
   "metadata": {},
   "source": [
    "Lower-level (import/domestic competition):"
   ]
  },
  {
   "cell_type": "code",
   "execution_count": 52,
   "id": "faf5cde6-4d7a-4e47-bd28-3cc416c3fcab",
   "metadata": {},
   "outputs": [],
   "source": [
    "sigma_G_Import = pd.Series(2, index = m[m.get_level_values('n') != 'GC_G'].droplevel('nn').unique(), name = 'sigma')"
   ]
  },
  {
   "cell_type": "markdown",
   "id": "760ba903-1ccf-4b3f-a194-ec8448404eeb",
   "metadata": {},
   "source": [
    "Add to database:"
   ]
  },
  {
   "cell_type": "code",
   "execution_count": 53,
   "id": "56bddc0c-4f95-4485-adca-edebff67f976",
   "metadata": {},
   "outputs": [],
   "source": [
    "sigma_G = pd.concat([sigma_G_upper, sigma_G_Import], axis = 0) \n",
    "db.aom(sigma_G, name = 'sigma')"
   ]
  },
  {
   "cell_type": "markdown",
   "id": "866c6b5c-890f-4cd8-bca9-fdef5ecd6167",
   "metadata": {},
   "source": [
    "### 4.2. Regulation"
   ]
  },
  {
   "cell_type": "markdown",
   "id": "430b0adf-9842-4c8f-9578-c3e84b8a5719",
   "metadata": {},
   "source": [
    "The government regulates/taxes itself (because data says so). Because we use incomplete data on taxes (especially on household taxes/transfers), we make some adhoc adjustments here:\n",
    "* Remove taxes on inventory (because the \"inventory sector\" is only used for completeness of the IO system).\n",
    "* Set flat VAT tax rate on government consumption to target taxes from government sector."
   ]
  },
  {
   "cell_type": "code",
   "execution_count": 54,
   "id": "7814cd3c-605f-4063-8990-8dadeafb78d1",
   "metadata": {},
   "outputs": [],
   "source": [
    "inputs = adj.rc_pd(db('qD'), db('s_G'))\n",
    "db['TotalTax'] = adj.rc_pd(db('TotalTax'), ('not', pd.Index(['itory'],name='s'))) # remove inventory taxes\n",
    "db['d_TotalTax'] = db['TotalTax'].index # what sectors pay taxes\n",
    "rVAT = adj.rc_pd(db('TotalTax'), db('s_G')) / pyDatabases.pdSum(inputs,'n') # define VAT rate of taxes\n",
    "db.aom(adjMultiIndex.applyMult(rVAT,inputs.index), name = 'tauD') # add flat rate VAT on all demand"
   ]
  },
  {
   "cell_type": "markdown",
   "id": "9d34797b-59fa-4fb1-affe-38869616e9c4",
   "metadata": {},
   "source": [
    "## 5. Trade"
   ]
  },
  {
   "cell_type": "markdown",
   "id": "ded36294-efb5-4ba6-bff8-40fc13e1b04a",
   "metadata": {},
   "source": [
    "Set export elasticity to 7.5:"
   ]
  },
  {
   "cell_type": "code",
   "execution_count": 55,
   "id": "a8782bb1-0033-4d06-aeca-4ff82518c8d6",
   "metadata": {},
   "outputs": [],
   "source": [
    "db.aom(pd.Series(7.5, index = db('dExport')), name='sigma')"
   ]
  },
  {
   "cell_type": "markdown",
   "id": "086fc2ef-2170-4e62-a370-4ce1b22c5dfe",
   "metadata": {},
   "source": [
    "## 6. Globals"
   ]
  },
  {
   "cell_type": "markdown",
   "id": "78c7462d-efc2-43d2-8ace-e75ccb20dbd7",
   "metadata": {},
   "source": [
    "Other parameters/variables used throughout:"
   ]
  },
  {
   "cell_type": "code",
   "execution_count": 56,
   "id": "849842c3-3c12-4ad8-a858-ea4350ce347e",
   "metadata": {},
   "outputs": [],
   "source": [
    "db.aom(pd.Series(db('R_LR'), index = db('t')), name = 'Rrate', priority = 'first') # fix interest rate path at long run level"
   ]
  },
  {
   "cell_type": "markdown",
   "id": "0911bd7a-0ab4-4f18-a0b7-a0ce1d8f1c6e",
   "metadata": {},
   "source": [
    "## Export"
   ]
  },
  {
   "cell_type": "code",
   "execution_count": 57,
   "id": "72dc6aa6-51d5-4358-a897-26d2d2c2e8ec",
   "metadata": {},
   "outputs": [],
   "source": [
    "db.export(repo=d['data'])"
   ]
  }
 ],
 "metadata": {
  "kernelspec": {
   "display_name": "Python 3 (ipykernel)",
   "language": "python",
   "name": "python3"
  },
  "language_info": {
   "codemirror_mode": {
    "name": "ipython",
    "version": 3
   },
   "file_extension": ".py",
   "mimetype": "text/x-python",
   "name": "python",
   "nbconvert_exporter": "python",
   "pygments_lexer": "ipython3",
   "version": "3.11.8"
  }
 },
 "nbformat": 4,
 "nbformat_minor": 5
}
