{
 "cells": [
  {
   "cell_type": "code",
   "execution_count": 1,
   "id": "38e3e271-61ef-4e67-942e-d0bdcd0db820",
   "metadata": {},
   "outputs": [
    {
     "name": "stdout",
     "output_type": "stream",
     "text": [
      "The file _gams_py_gdb0.gdx is still active and was not deleted.\n",
      "The file _gams_py_gdb1.gdx is still active and was not deleted.\n",
      "The file _gams_py_gdb4.gdx is still active and was not deleted.\n",
      "The file _gams_py_gdb5.gdx is still active and was not deleted.\n",
      "The file _gams_py_gdb6.gdx is still active and was not deleted.\n"
     ]
    }
   ],
   "source": [
    "clean_up = True # if True, remove all gams related files from working folder before starting\n",
    "%run stdPackages.ipynb"
   ]
  },
  {
   "cell_type": "markdown",
   "id": "05d1acdd-2c91-4f73-8d13-f65545c88c37",
   "metadata": {},
   "source": [
    "*Load specific modules used here:*"
   ]
  },
  {
   "cell_type": "code",
   "execution_count": 2,
   "id": "ea62aa95-d5d2-4bae-ba5b-45a75d3db4b7",
   "metadata": {},
   "outputs": [],
   "source": [
    "os.chdir(d['py'])\n",
    "import mCGE"
   ]
  },
  {
   "cell_type": "markdown",
   "id": "3c4e9d75-0bf3-477e-b840-7c3b7d7eb3c3",
   "metadata": {},
   "source": [
    "# Load calibrated model"
   ]
  },
  {
   "cell_type": "markdown",
   "id": "70ffa36a-1245-4bcc-8b53-e25136327781",
   "metadata": {},
   "source": [
    "We can use the calibrated in one of two ways: By loading the model instance itself or by loading data and GAMS code. "
   ]
  },
  {
   "cell_type": "markdown",
   "id": "e6d75d9d-2770-418b-8e2a-20428009b7a2",
   "metadata": {},
   "source": [
    "### Model instance"
   ]
  },
  {
   "cell_type": "markdown",
   "id": "c4362c41-56e6-4316-a037-4c9b97309d85",
   "metadata": {},
   "source": [
    "*Load model:*"
   ]
  },
  {
   "cell_type": "code",
   "execution_count": 3,
   "id": "637e4eee-61d0-44f4-987e-c5bc6b8491e3",
   "metadata": {},
   "outputs": [],
   "source": [
    "name = 'WasteCGE'\n",
    "M = mCGE.WasteCGE.load(os.path.join(d['data'], name)) # load model\n",
    "ws = M.ws \n",
    "db0 = M.db.copy() # initial solution"
   ]
  },
  {
   "cell_type": "markdown",
   "id": "a83bbfc8-b34f-4966-893d-36286e367ef4",
   "metadata": {},
   "source": [
    "We can now use the model \"as usual\". For instance, let us double the taxes on CO2 and solve using the relaxation method ```jSolve```: "
   ]
  },
  {
   "cell_type": "code",
   "execution_count": 4,
   "id": "9f563785-0aac-4ebb-ae29-7d3f8e5887ab",
   "metadata": {},
   "outputs": [],
   "source": [
    "M.db['tauCO2agg'] = M.db('tauCO2agg') * 2\n",
    "M.db.mergeInternal() # we do not store the gdx version of the file automatically, so we have to rewrite it here\n",
    "sol = M.jSolve(3, state = 'B') # solve the model in baseline state, use 3 linear steps to get close to the solution"
   ]
  },
  {
   "cell_type": "markdown",
   "id": "e0a8b282-732e-4350-ab5f-42fec86ade41",
   "metadata": {},
   "source": [
    "Look at aggregate emissions over time:"
   ]
  },
  {
   "cell_type": "code",
   "execution_count": 5,
   "id": "b5998cb5-2f38-40e9-a529-d6dc25b57456",
   "metadata": {},
   "outputs": [
    {
     "data": {
      "image/png": "[encoded data removed]",
      "text/plain": [
       "<Figure size 500x200 with 1 Axes>"
      ]
     },
     "metadata": {},
     "output_type": "display_data"
    }
   ],
   "source": [
    "tPlot = M.db('t')[0:25]\n",
    "adj.rc_pd(pd.DataFrame({'Base': db0('qCO2agg'), 'Shock': sol('qCO2agg')}), tPlot).plot(figsize=(5,2));"
   ]
  },
  {
   "cell_type": "markdown",
   "id": "d0a0d5ab-0750-403e-af3d-b265946d5e2d",
   "metadata": {},
   "source": [
    "### Load code"
   ]
  },
  {
   "cell_type": "markdown",
   "id": "4e6f0256-ac98-43f9-a314-276e20c46fcf",
   "metadata": {},
   "source": [
    "Move all relevant gams and gdx files to the work folder where we store temporary files:"
   ]
  },
  {
   "cell_type": "code",
   "execution_count": 6,
   "id": "6df5c6b3-8893-4f5b-a002-2c91a57ca26e",
   "metadata": {},
   "outputs": [],
   "source": [
    "gms = os.path.join(d['gams'], f'{M.name}.gms') # name of gms file\n",
    "gmy = os.path.join(d['gams'], f'{M.name}.gmy') # name of gmy file\n",
    "gdx = os.path.join(d['data'], f'{M.db.name}.gdx') # name of database file\n",
    "[shutil.copy(f, os.path.join(d['work'], os.path.basename(f))) for f in (gms,gmy,gdx)]; # create copies in work folder"
   ]
  },
  {
   "cell_type": "markdown",
   "id": "ab3132dd-0def-4580-bbdd-9c59e1f2155d",
   "metadata": {},
   "source": [
    "To run GAMS from Python, we need a ```GamsWorkspace```. As we already have one open from above (ws), we just use that here. Otherwise, the following cell opens initializes a new one that works in the designated work folder:"
   ]
  },
  {
   "cell_type": "code",
   "execution_count": 7,
   "id": "b0f6b73a-42c8-4a3d-b0fd-cd0686b326aa",
   "metadata": {},
   "outputs": [],
   "source": [
    "# ws = gams.GamsWorkspace(working_directory = d['work']"
   ]
  },
  {
   "cell_type": "markdown",
   "id": "7bf5964d-5cb4-4e13-8d45-a087e9ba90b1",
   "metadata": {},
   "source": [
    "Create ```GamsJob``` from file and run (this time, we haven't added any shocks to the data):"
   ]
  },
  {
   "cell_type": "code",
   "execution_count": 8,
   "id": "1a3a487e-44f3-4993-af26-1955fa4335cd",
   "metadata": {},
   "outputs": [],
   "source": [
    "job = ws.add_job_from_file(os.path.join(d['work'], os.path.basename(gms)))\n",
    "job.run() # run model"
   ]
  },
  {
   "cell_type": "markdown",
   "id": "d3798b0c-e90a-42dc-84ab-789ed4dd196c",
   "metadata": {},
   "source": [
    "We can extract solution using:"
   ]
  },
  {
   "cell_type": "code",
   "execution_count": 9,
   "id": "c34e2b25-ed8b-40da-a086-c2e7ef19c280",
   "metadata": {},
   "outputs": [],
   "source": [
    "soldb = GpyDB(job.out_db, ws = ws)"
   ]
  },
  {
   "cell_type": "markdown",
   "id": "24abd0ed-90d8-4d5b-ab80-ea624e53b0fc",
   "metadata": {},
   "source": [
    "Now, we can similarly access variables e.g. capital stock in the energy sector:"
   ]
  },
  {
   "cell_type": "code",
   "execution_count": 19,
   "id": "323bc00e-3e24-45b3-ba26-57c49cd8b3cb",
   "metadata": {},
   "outputs": [
    {
     "data": {
      "image/png": "[encoded data removed]",
      "text/plain": [
       "<Figure size 500x200 with 1 Axes>"
      ]
     },
     "metadata": {},
     "output_type": "display_data"
    }
   ],
   "source": [
    "soldb('qD').xs(('Energy','K'),level=('s','n')).plot(figsize=(5,2));"
   ]
  }
 ],
 "metadata": {
  "kernelspec": {
   "display_name": "Python 3 (ipykernel)",
   "language": "python",
   "name": "python3"
  },
  "language_info": {
   "codemirror_mode": {
    "name": "ipython",
    "version": 3
   },
   "file_extension": ".py",
   "mimetype": "text/x-python",
   "name": "python",
   "nbconvert_exporter": "python",
   "pygments_lexer": "ipython3",
   "version": "3.11.8"
  }
 },
 "nbformat": 4,
 "nbformat_minor": 5
}
