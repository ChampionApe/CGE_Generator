{
 "cells": [
  {
   "cell_type": "code",
   "execution_count": 1,
   "id": "f8284b51-ff65-4fa3-aedc-d608e9ff6bf4",
   "metadata": {},
   "outputs": [],
   "source": [
    "clean_up = True # if True, remove all gams related files from working folder before starting\n",
    "%run stdPackages.ipynb\n",
    "os.chdir(main)\n",
    "%run stdPlotting.ipynb\n",
    "os.chdir(d['py'])\n",
    "from gmsPython import nestingTree\n",
    "from valueShares import nestedShares\n",
    "from mProduction import NestedCES"
   ]
  },
  {
   "cell_type": "markdown",
   "id": "0b8117f6-f8e6-4d70-af0e-dc7ea967fbe6",
   "metadata": {},
   "source": [
    "# Production module"
   ]
  },
  {
   "cell_type": "markdown",
   "id": "9179acba-bb57-4046-96f6-01d7c7d61b32",
   "metadata": {},
   "source": [
    "Akin to ```mProduction.ipynb```, but with high-level functions:"
   ]
  },
  {
   "cell_type": "markdown",
   "id": "b64575fe-9834-4ec6-b8d1-81bffd5da608",
   "metadata": {},
   "source": [
    "*Load data:*"
   ]
  },
  {
   "cell_type": "code",
   "execution_count": 2,
   "id": "d5213505-9114-46bd-a47b-9de89e0e4b06",
   "metadata": {},
   "outputs": [],
   "source": [
    "t0 = 2019 # set baseline year\n",
    "name = 'vGR' # specify name of the CGE version we are currently working on\n",
    "db = GpyDB(os.path.join(d['data'], f'{name}_{t0}')) # Load \n",
    "ws = db.ws # run everything from the same ws"
   ]
  },
  {
   "cell_type": "markdown",
   "id": "4b8a030f-9877-44be-bcc3-d8147ae3af47",
   "metadata": {},
   "source": [
    "## 1. Define CES value shares"
   ]
  },
  {
   "cell_type": "markdown",
   "id": "52f828b0-6d14-4cc6-8a1c-ef3106ce7c5a",
   "metadata": {},
   "source": [
    "### 1.1. Nesting trees"
   ]
  },
  {
   "cell_type": "code",
   "execution_count": 3,
   "id": "75a55d8a-410e-4e6b-b8f5-be9fc91c7ef2",
   "metadata": {},
   "outputs": [],
   "source": [
    "wasteNest = adj.rc_pd(db('nestProduction'), db('s_Waste')) # the adj.rc_pd(s, c) adjusts the symbol 's' by matching with the condition 'c'. It operates by matching the indices.\n",
    "otherNest = db('nestProduction').difference(wasteNest) "
   ]
  },
  {
   "cell_type": "markdown",
   "id": "1c9b0bd6-a166-4adb-a101-b8160285f80a",
   "metadata": {},
   "source": [
    "Initialize trees:"
   ]
  },
  {
   "cell_type": "code",
   "execution_count": 4,
   "id": "769881c9-1f94-4cd6-8297-ed48db5d12de",
   "metadata": {},
   "outputs": [
    {
     "data": {
      "text/plain": [
       "<gmsPython.nestingTree.nestingTree.AggTree at 0x1742cd09e90>"
      ]
     },
     "execution_count": 4,
     "metadata": {},
     "output_type": "execute_result"
    }
   ],
   "source": [
    "waste = nestingTree.Tree('W', tree = wasteNest.to_list(), f = 'CES') \n",
    "other = nestingTree.Tree('O', tree = otherNest.to_list(), f = 'CES')\n",
    "nest = nestingTree.AggTree(name = 'P', trees = {t.name: t for t  in (waste, other)}, ws = ws)\n",
    "nest(namespace = {str(n)+'_input':n for n in db('n')}) # the __call__ method establishes relevant symbols to create the gams model"
   ]
  },
  {
   "cell_type": "markdown",
   "id": "4d44e5c4-af05-423f-8d71-19235dfc8eda",
   "metadata": {},
   "source": [
    "### 1.2. Create value shares to identify $\\mu$"
   ]
  },
  {
   "cell_type": "markdown",
   "id": "106938c0-acab-4d65-8a62-cda5f512b1da",
   "metadata": {},
   "source": [
    "The next step is to identify $\\mu$ parameters for the nested model. We base this on the value shares in the baseline year. For instance, if we know the value of energy and capital in baseline $vD(E), vD(K)$, a CES nest that combines the two will have $\\mu_E = vD(E)/(vD(E)+vD(K))$ and $\\mu_K = vD(K)/(vD(E)+vD(K))$. To do this with the more general nesting structure, we use a simple class ```nestedShares``` that ultimately writes a GAMS code and let GAMS solve it:"
   ]
  },
  {
   "cell_type": "code",
   "execution_count": 5,
   "id": "997a42a8-8b0b-4dc7-935c-e7e4172bb694",
   "metadata": {},
   "outputs": [],
   "source": [
    "v = nestedShares(nest, ws = ws)\n",
    "db_vs = v(db) # one-liner that returns solution database"
   ]
  },
  {
   "cell_type": "markdown",
   "id": "654a59e5-6d06-470f-a1ec-f7979960ffae",
   "metadata": {},
   "source": [
    "Use share parameters and values to get initial values for intermediates:"
   ]
  },
  {
   "cell_type": "code",
   "execution_count": 6,
   "id": "f7431eac-44f6-4730-adb0-f66e08cf62a8",
   "metadata": {},
   "outputs": [],
   "source": [
    "db['mu'] = db_vs('mu').xs(t0) \n",
    "db.aom(adj.rc_pd(db_vs('vD'), nest.get('int')).rename('qD'), name = 'qD', priority = 'first') # specify intermediate goods levels"
   ]
  },
  {
   "cell_type": "markdown",
   "id": "b4783cf0-f047-449f-9d6d-e68e15707eae",
   "metadata": {},
   "source": [
    "## 2. Partial Equilibirum Model"
   ]
  },
  {
   "cell_type": "code",
   "execution_count": 7,
   "id": "6cd187eb-f0b1-4733-8ab4-84d2de25a4f2",
   "metadata": {},
   "outputs": [
    {
     "data": {
      "text/plain": [
       "<pyDatabases.gpyDB.gpyDB.GpyDB at 0x17426d54ed0>"
      ]
     },
     "execution_count": 7,
     "metadata": {},
     "output_type": "execute_result"
    }
   ],
   "source": [
    "db.aom(db('pD_dur'), name = 'pD')\n",
    "AggDB.subsetDB(db, db('s_p'))"
   ]
  },
  {
   "cell_type": "markdown",
   "id": "3a0aefd1-6597-4b2e-bed6-569bc36a7470",
   "metadata": {},
   "source": [
    "Clean up database a bit (this is not necessary, but it removes some variables that are not ultimately used in the model):"
   ]
  },
  {
   "cell_type": "code",
   "execution_count": 8,
   "id": "b5a9dacc-dca4-4025-92f5-46524b8229c9",
   "metadata": {},
   "outputs": [],
   "source": [
    "[db.series.__delitem__(k) for k in ('vD','vTax', 'vD_dur','vD_depr','vD_inv', 'vS', 'pD_dur') if k in db.symbols];"
   ]
  },
  {
   "cell_type": "markdown",
   "id": "b8ec90a3-76bc-4d77-9f08-6d0d8b90ab28",
   "metadata": {},
   "source": [
    "For variables that are defined over $t$, but we do not yet have an initial value for all $t$, extrapolate:\n",
    "\n",
    "*Note: This forces extrapolation of all variables defined over $t$ - if it is important that some variables are not extrapolated, they should be removed from this statement.*"
   ]
  },
  {
   "cell_type": "code",
   "execution_count": 9,
   "id": "0fdd97f0-2749-4c9e-8cd7-3205ac7c5917",
   "metadata": {},
   "outputs": [],
   "source": [
    "[symbol.__setattr__('vals', extrapolateUpper(symbol.vals, db('tE')[0])) for symbol in [db[k] for k in db.varDom('t')['t']]];"
   ]
  },
  {
   "cell_type": "markdown",
   "id": "2b9cb90f-7380-4234-b676-26dda6fffd43",
   "metadata": {},
   "source": [
    "Next, we can now initialize the production module using from the nesting tree, we established earlier. "
   ]
  },
  {
   "cell_type": "code",
   "execution_count": 10,
   "id": "3567589f-b109-4f02-a550-578408017f3a",
   "metadata": {},
   "outputs": [],
   "source": [
    "m = NestedCES(nest, partial = True)\n",
    "m.initStuff(db = db)"
   ]
  },
  {
   "cell_type": "markdown",
   "id": "219ffdee-6edc-456b-978b-bb11a397a250",
   "metadata": {},
   "source": [
    "Use $j$-terms solution approach for calibration:"
   ]
  },
  {
   "cell_type": "code",
   "execution_count": 11,
   "id": "26217358-ad1a-4350-85d3-49f13543df2c",
   "metadata": {},
   "outputs": [],
   "source": [
    "soldb = m.jSolve(25, state = 'C', ϕ = .5) # solve calibration model with 10 steps and nonlinear grid (ϕ<1 means that adjustments to jTerms start large and then decrease)"
   ]
  },
  {
   "cell_type": "markdown",
   "id": "e1ae3b37-e915-4909-a46c-025f7e5957db",
   "metadata": {},
   "source": [
    "Overwrite solution:"
   ]
  },
  {
   "cell_type": "code",
   "execution_count": 12,
   "id": "07c092d2-3594-4744-895d-a3789caca055",
   "metadata": {},
   "outputs": [
    {
     "data": {
      "text/plain": [
       "<pyDatabases.gpyDB.gpyDB.GpyDB at 0x1742ceaf410>"
      ]
     },
     "execution_count": 12,
     "metadata": {},
     "output_type": "execute_result"
    }
   ],
   "source": [
    "[m.db.__setitem__(k, soldb[k]) for k in m.db.getTypes(['var']) if k in soldb.symbols]; # use solution database\n",
    "m.db.mergeInternal()\n",
    "m.solve(state = 'B') # test solve of baseline"
   ]
  }
 ],
 "metadata": {
  "kernelspec": {
   "display_name": "Python 3 (ipykernel)",
   "language": "python",
   "name": "python3"
  },
  "language_info": {
   "codemirror_mode": {
    "name": "ipython",
    "version": 3
   },
   "file_extension": ".py",
   "mimetype": "text/x-python",
   "name": "python",
   "nbconvert_exporter": "python",
   "pygments_lexer": "ipython3",
   "version": "3.11.8"
  }
 },
 "nbformat": 4,
 "nbformat_minor": 5
}
