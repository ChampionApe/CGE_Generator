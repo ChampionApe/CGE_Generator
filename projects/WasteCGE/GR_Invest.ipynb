{
 "cells": [
  {
   "cell_type": "code",
   "execution_count": 1,
   "id": "467594b2-c757-4785-b5d0-960be41b3ba9",
   "metadata": {},
   "outputs": [],
   "source": [
    "clean_up = True # if True, remove all gams related files from working folder before starting\n",
    "%run stdPackages.ipynb\n",
    "os.chdir(d['py'])\n",
    "from gmsPython import nestingTree\n",
    "from valueShares import nestedShares\n",
    "from mProduction import NestedCES"
   ]
  },
  {
   "cell_type": "markdown",
   "id": "f83ec55c-bdf0-4140-bb84-d50f640fd6c9",
   "metadata": {},
   "source": [
    "# Investment module"
   ]
  },
  {
   "cell_type": "markdown",
   "id": "701c9cc8-a838-4dc0-b1e7-f915d0736475",
   "metadata": {},
   "source": [
    "The investment module is constructed like the production module, but does not include any durables (which makes things a bit easier)."
   ]
  },
  {
   "cell_type": "markdown",
   "id": "40305706-327a-48c4-ae1e-6a632e421818",
   "metadata": {},
   "source": [
    "*Load data:*"
   ]
  },
  {
   "cell_type": "code",
   "execution_count": 2,
   "id": "bc260017-68a1-4f43-8d6e-5ff1b77a64b7",
   "metadata": {},
   "outputs": [],
   "source": [
    "t0 = 2019 # set baseline year\n",
    "name = 'vGR' # specify name of the CGE version we are currently working on\n",
    "db = GpyDB(os.path.join(d['data'], f'{name}_{t0}')) # Load \n",
    "ws = db.ws # run everything from the same ws"
   ]
  },
  {
   "cell_type": "markdown",
   "id": "34174050-3103-4c5d-9dee-5a946c13c3c1",
   "metadata": {},
   "source": [
    "*Set up nesting tree:*"
   ]
  },
  {
   "cell_type": "code",
   "execution_count": 3,
   "id": "1fc2b6c7-2a6a-4831-bbe6-4b67a747c28a",
   "metadata": {},
   "outputs": [
    {
     "data": {
      "text/plain": [
       "<gmsPython.nestingTree.nestingTree.AggTree at 0x23c911d1510>"
      ]
     },
     "execution_count": 3,
     "metadata": {},
     "output_type": "execute_result"
    }
   ],
   "source": [
    "nest = nestingTree.AggTree(name = 'I', trees = {'I': nestingTree.Tree('I', tree = db('nestInvestment').to_list(), f = 'CES')}, ws = ws)\n",
    "nest(namespace = {str(n)+'_input':n for n in db('n')})"
   ]
  },
  {
   "cell_type": "markdown",
   "id": "4f02bc30-84c3-4755-b40b-a4f8af77a20c",
   "metadata": {},
   "source": [
    "*Define share parameters:*"
   ]
  },
  {
   "cell_type": "code",
   "execution_count": 4,
   "id": "e6a5357d-dc55-403f-ae22-44b5eff155a2",
   "metadata": {},
   "outputs": [],
   "source": [
    "v = nestedShares(nest, ws = ws)\n",
    "db_vs = v(db) "
   ]
  },
  {
   "cell_type": "markdown",
   "id": "ec14d09e-27d9-4b9d-bc04-dfada32a5191",
   "metadata": {},
   "source": [
    "*Use share parameters and values to get initial values for intermediates:*"
   ]
  },
  {
   "cell_type": "code",
   "execution_count": 5,
   "id": "358fabbe-2a9d-4dc3-b212-40d11c084fa2",
   "metadata": {},
   "outputs": [],
   "source": [
    "db['mu'] = db_vs('mu').xs(t0) \n",
    "db.aom(adj.rc_pd(db_vs('vD'), nest.get('int')).rename('qD'), name = 'qD', priority = 'first') # specify intermediate goods levels"
   ]
  },
  {
   "cell_type": "markdown",
   "id": "f7c7d472-6d8c-4423-b42c-83cacd5a45ae",
   "metadata": {},
   "source": [
    "*Subset database to include investment sectors, extrapolate data:*"
   ]
  },
  {
   "cell_type": "code",
   "execution_count": 6,
   "id": "47c5ba0c-e1df-4a84-a655-d3686b91b765",
   "metadata": {},
   "outputs": [],
   "source": [
    "AggDB.subsetDB(db, db('s_i'))\n",
    "[db.series.__delitem__(k) for k in ('vD','vTax', 'vD_dur','vD_depr','vD_inv', 'vS', 'pD_dur') if k in db.symbols];\n",
    "[symbol.__setattr__('vals', extrapolateUpper(symbol.vals, db('tE')[0])) for symbol in [db[k] for k in db.varDom('t')['t']]];"
   ]
  },
  {
   "cell_type": "markdown",
   "id": "03f3022f-4e2b-4ef2-8576-3ae6859a816a",
   "metadata": {},
   "source": [
    "*Initialize and run:*"
   ]
  },
  {
   "cell_type": "code",
   "execution_count": 7,
   "id": "e64fe035-a413-4283-92b8-e763ac4b2cba",
   "metadata": {},
   "outputs": [],
   "source": [
    "m = NestedCES(nest, partial = True)\n",
    "m.initStuff(db = db)\n",
    "soldb = m.jSolve(5, state = 'C', ϕ = .5) # solve calibration with 5 steps and nonlinear grid"
   ]
  },
  {
   "cell_type": "markdown",
   "id": "7e7fa393-82b6-43ef-b973-2769dca3e754",
   "metadata": {},
   "source": [
    "*Overwrite solution:*"
   ]
  },
  {
   "cell_type": "code",
   "execution_count": 8,
   "id": "0e3f9f8c-6937-4d6c-b818-b8752f17bcb8",
   "metadata": {},
   "outputs": [
    {
     "data": {
      "text/plain": [
       "<pyDatabases.gpyDB.gpyDB.GpyDB at 0x23c91402850>"
      ]
     },
     "execution_count": 8,
     "metadata": {},
     "output_type": "execute_result"
    }
   ],
   "source": [
    "[m.db.__setitem__(k, soldb[k]) for k in m.db.getTypes(['var']) if k in soldb.symbols]; # use solution database\n",
    "m.db.mergeInternal()\n",
    "m.solve(state = 'B') # test solve of baseline"
   ]
  }
 ],
 "metadata": {
  "kernelspec": {
   "display_name": "Python 3 (ipykernel)",
   "language": "python",
   "name": "python3"
  },
  "language_info": {
   "codemirror_mode": {
    "name": "ipython",
    "version": 3
   },
   "file_extension": ".py",
   "mimetype": "text/x-python",
   "name": "python",
   "nbconvert_exporter": "python",
   "pygments_lexer": "ipython3",
   "version": "3.11.8"
  }
 },
 "nbformat": 4,
 "nbformat_minor": 5
}
