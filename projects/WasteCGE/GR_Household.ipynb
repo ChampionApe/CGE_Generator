{
 "cells": [
  {
   "cell_type": "code",
   "execution_count": 1,
   "id": "9ad938a5-49ee-462a-bedd-c29f067adab1",
   "metadata": {},
   "outputs": [
    {
     "name": "stdout",
     "output_type": "stream",
     "text": [
      "The file _gams_py_gdb0.gdx is still active and was not deleted.\n",
      "The file _gams_py_gdb1.gdx is still active and was not deleted.\n",
      "The file _gams_py_gdb2.gdx is still active and was not deleted.\n"
     ]
    }
   ],
   "source": [
    "clean_up = True # if True, remove all gams related files from working folder before starting\n",
    "%run stdPackages.ipynb\n",
    "os.chdir(d['py'])\n",
    "from gmsPython import nestingTree\n",
    "from valueShares import nestedShares_noOutputs\n",
    "from mHousehold import StaticConsumer"
   ]
  },
  {
   "cell_type": "markdown",
   "id": "27b9e082-ce57-4c0e-b5d2-1ec077ab3e33",
   "metadata": {},
   "source": [
    "# Household module"
   ]
  },
  {
   "cell_type": "markdown",
   "id": "dc5f44c4-77b8-4ea7-b020-8a8393a058e6",
   "metadata": {},
   "source": [
    "*Load data:*"
   ]
  },
  {
   "cell_type": "code",
   "execution_count": 2,
   "id": "d4a57dcb-46d4-4845-abc3-e5f36b0dbcc1",
   "metadata": {},
   "outputs": [],
   "source": [
    "t0 = 2019 # set baseline year\n",
    "name = 'vGR' # specify name of the CGE version we are currently working on\n",
    "db = GpyDB(os.path.join(d['data'], f'{name}_{t0}')) # Load \n",
    "ws = db.ws # run everything from the same ws"
   ]
  },
  {
   "cell_type": "markdown",
   "id": "84ced4c9-c7de-4fae-8b57-35434a6a8b0b",
   "metadata": {},
   "source": [
    "## 1. Nesting tree and value shares"
   ]
  },
  {
   "cell_type": "markdown",
   "id": "829307b2-6b54-4922-bb3a-4d2526917a4f",
   "metadata": {},
   "source": [
    "Nesting tree:"
   ]
  },
  {
   "cell_type": "code",
   "execution_count": 3,
   "id": "8c479f89-0e07-4b99-9b85-91507ec076f5",
   "metadata": {},
   "outputs": [
    {
     "data": {
      "text/plain": [
       "<gmsPython.nestingTree.nestingTree.AggTree at 0x1eb7b95bb50>"
      ]
     },
     "execution_count": 3,
     "metadata": {},
     "output_type": "execute_result"
    }
   ],
   "source": [
    "cesNest = nestingTree.Tree('HH', tree = db('nestHH').to_list(), f = 'CES')\n",
    "nest = nestingTree.AggTree(name = 'HH', trees = {t.name: t for t in [cesNest]}, ws = ws)\n",
    "nest(namespace = {str(n)+'_input': n for n in db('n')})"
   ]
  },
  {
   "cell_type": "markdown",
   "id": "f17bb0ef-3bd8-4249-bf81-a3ed30b4554b",
   "metadata": {},
   "source": [
    "Value shares:"
   ]
  },
  {
   "cell_type": "code",
   "execution_count": 4,
   "id": "6adf6af4-5dfe-40d9-a410-15959304a60d",
   "metadata": {},
   "outputs": [],
   "source": [
    "v = nestedShares_noOutputs(nest, ws = ws)\n",
    "db_vs = v(db) # one-liner that returns solution database"
   ]
  },
  {
   "cell_type": "markdown",
   "id": "cb933af2-3dca-416b-aaad-de2189c3eadf",
   "metadata": {},
   "source": [
    "We are particularly interested in the $\\mu$ variable and value of intermediate goods (to get better initial values):"
   ]
  },
  {
   "cell_type": "code",
   "execution_count": 5,
   "id": "194c06f1-96c9-4ad3-90d4-2898d8ed5d79",
   "metadata": {},
   "outputs": [],
   "source": [
    "db['mu'] = db_vs('mu').xs(t0) \n",
    "db.aom(adj.rc_pd(db_vs('vD'), nest.get('int').union(nest.get('output'))).rename('qD'), name = 'qD', priority = 'first') # specify intermediate goods levels"
   ]
  },
  {
   "cell_type": "markdown",
   "id": "73943d79-9432-45a8-b94a-fc76706f92d2",
   "metadata": {},
   "source": [
    "## 2. Partial Equilibirum Model"
   ]
  },
  {
   "cell_type": "markdown",
   "id": "3d7bae70-cb7d-4364-ab2f-c14913889742",
   "metadata": {},
   "source": [
    "Only keep household sectors, extrapolate data for initial values:"
   ]
  },
  {
   "cell_type": "code",
   "execution_count": 6,
   "id": "97e987e0-896b-406a-a13d-1180868e6142",
   "metadata": {},
   "outputs": [],
   "source": [
    "AggDB.subsetDB(db, db('s_HH'))\n",
    "[db.series.__delitem__(k) for k in ('vD','vTax', 'vD_dur','vD_depr','vD_inv', 'vS', 'pD_dur') if k in db.symbols];"
   ]
  },
  {
   "cell_type": "markdown",
   "id": "fc103f8f-0ef6-4032-94ed-97b8610c5b34",
   "metadata": {},
   "source": [
    "For variables that are defined over $t$, but we do not yet have an initial value for all $t$, extrapolate:\n",
    "\n",
    "*Note: This forces extrapolation of all variables defined over $t$ - if it is important that some variables are not extrapolated, they should be removed from this statement.*"
   ]
  },
  {
   "cell_type": "code",
   "execution_count": 7,
   "id": "6b86a444-b2ba-4bec-8bdc-f25452c7e946",
   "metadata": {},
   "outputs": [],
   "source": [
    "[symbol.__setattr__('vals', extrapolateUpper(symbol.vals, db('tE')[0])) for symbol in [db[k] for k in db.varDom('t')['t']]];"
   ]
  },
  {
   "cell_type": "markdown",
   "id": "63c7ddcd-df12-46cc-8dc8-c65df1a882ec",
   "metadata": {},
   "source": [
    "Initialize module from nesting tree and add the mapping from labor supply to the consumption aggregate:"
   ]
  },
  {
   "cell_type": "code",
   "execution_count": 8,
   "id": "21902794-d629-4c9b-8ec6-950a4e4a603f",
   "metadata": {},
   "outputs": [],
   "source": [
    "m = StaticConsumer(nest, partial = True, L2C = db('L2C'))\n",
    "m.initStuff(db = db)"
   ]
  },
  {
   "cell_type": "markdown",
   "id": "c0022cd8-de16-4c8c-995e-22e85a83e67c",
   "metadata": {},
   "source": [
    "Use $j$-terms solution approach for calibration:"
   ]
  },
  {
   "cell_type": "code",
   "execution_count": 9,
   "id": "6267694a-c547-470d-8ca4-347c441d7aa0",
   "metadata": {},
   "outputs": [],
   "source": [
    "soldb = m.jSolve(3, state = 'C', ϕ = .1) # solve calibration model with 5 steps and nonlinear grid (ϕ<1 means that adjustments to jTerms start large and then decrease)"
   ]
  },
  {
   "cell_type": "markdown",
   "id": "ff78281d-7633-48ea-bc2d-62c0884b5c61",
   "metadata": {},
   "source": [
    "Overwrite solution:"
   ]
  },
  {
   "cell_type": "code",
   "execution_count": 10,
   "id": "61b11891-9acf-446e-bb40-2e6f630deb76",
   "metadata": {},
   "outputs": [
    {
     "data": {
      "text/plain": [
       "<pyDatabases.gpyDB.gpyDB.GpyDB at 0x1eb7bb75610>"
      ]
     },
     "execution_count": 10,
     "metadata": {},
     "output_type": "execute_result"
    }
   ],
   "source": [
    "[m.db.__setitem__(k, soldb[k]) for k in m.db.getTypes(['var']) if k in soldb.symbols]; # use solution database\n",
    "m.db.mergeInternal()\n",
    "m.solve(state = 'B') # test solve of baseline"
   ]
  }
 ],
 "metadata": {
  "kernelspec": {
   "display_name": "Python 3 (ipykernel)",
   "language": "python",
   "name": "python3"
  },
  "language_info": {
   "codemirror_mode": {
    "name": "ipython",
    "version": 3
   },
   "file_extension": ".py",
   "mimetype": "text/x-python",
   "name": "python",
   "nbconvert_exporter": "python",
   "pygments_lexer": "ipython3",
   "version": "3.11.8"
  }
 },
 "nbformat": 4,
 "nbformat_minor": 5
}
