{
 "cells": [
  {
   "cell_type": "code",
   "execution_count": 1,
   "id": "33b31d21-4ec5-443c-a5df-17197c891164",
   "metadata": {},
   "outputs": [
    {
     "name": "stdout",
     "output_type": "stream",
     "text": [
      "The file _gams_py_gdb0.gdx is still active and was not deleted.\n",
      "The file _gams_py_gdb3.gdx is still active and was not deleted.\n",
      "The file _gams_py_gdb4.gdx is still active and was not deleted.\n"
     ]
    }
   ],
   "source": [
    "clean_up = True # if True, remove all gams related files from working folder before starting\n",
    "%run stdPackages.ipynb\n",
    "os.chdir(d['py'])\n",
    "from gmsPython import nestingTree\n",
    "from valueShares import nestedShares\n",
    "from mProduction import NestedCES"
   ]
  },
  {
   "cell_type": "markdown",
   "id": "dc24f16a-332b-4128-9992-b0ee24d7cf41",
   "metadata": {},
   "source": [
    "# Production module"
   ]
  },
  {
   "cell_type": "markdown",
   "id": "94d2df76-e0f4-4e51-8936-b419d63c67e1",
   "metadata": {},
   "source": [
    "This notebook serves as a bit of a tutorial for how the CGE model is generally build, solved, and calibrated. Instead of relying on \"high-level\" functions that take care of things in a single line of code, this goes through more steps and explains each part. The notebook ```mP.ipynb``` contains the high-level codes for doing this in a few lines of code. \n",
    "\n",
    "Throughout, we rely on classes  ```gmsWrite, nestingTree, gmsPy.Group, gmsPy.jTerms, gmsPyModels.Model``` (all from ```gmsPython``` package) and database functions from the ```pyDatabases``` package."
   ]
  },
  {
   "cell_type": "markdown",
   "id": "fa50e72e-862b-4480-bfe0-f1f6af30d256",
   "metadata": {},
   "source": [
    "*Load data:*"
   ]
  },
  {
   "cell_type": "code",
   "execution_count": 2,
   "id": "4214ce67-3f3e-4c09-9be8-599e43a5601b",
   "metadata": {},
   "outputs": [],
   "source": [
    "t0 = 2019 # set baseline year\n",
    "name = 'vA' # specify name of the CGE version we are currently working on\n",
    "db = GpyDB(os.path.join(d['data'], f'{name}_{t0}')) # Load \n",
    "ws = db.ws # run everything from the same ws"
   ]
  },
  {
   "cell_type": "markdown",
   "id": "888273cc-18a6-4bfc-a18c-6536aa50a777",
   "metadata": {},
   "source": [
    "### Overview \n",
    "\n",
    "The production module consists of four blocks of equations:\n",
    "1. nested CES functions,\n",
    "2. a block of equations that specify the adjustment costs and accumulation of durables,\n",
    "3. a block of equations that maps from regulation to effective prices, and\n",
    "4. a calibration block of equations that helps adjust the total amount of taxes that the government extracts from production sectors."
   ]
  },
  {
   "cell_type": "markdown",
   "id": "46f84deb-94ff-4d32-bcee-4d008f1d00f1",
   "metadata": {},
   "source": [
    "Beyond the blocks of equation, the module contains other relevant information and methods that we can apply. This includes:\n",
    "* *Data generating methods*: Most of the model data is produced in a previous step (```ModelData.ipynb```), but the production module contains methods to generate relevant subsets used e.g. for calibration purposes and produce initial values for variables used in the equations (that are not already defined by the IO data).\n",
    "* *Grouping of variables*: The variables of the model are divided into four groups (1) always exogenous, (2) always endogenous, (3) endogenous in baseline/exogenous in calibration, (4) exogenous in baseline/endogenous in calibration. These groups are defined using the ```gmsPython.gmsPy.Group``` class. The reason why we do this is that ```Group``` instances have automated writing methods.\n",
    "* *Specification of models:* The method ```self.models(state = 'B')``` collects the relevant block of equations required to run/solve the baseline ('B') and calibration ('C') models.\n",
    "* *Writing methods:* All of the methods used to specify groups and equations are ultimately used to automate writing the text for the model."
   ]
  },
  {
   "cell_type": "markdown",
   "id": "b309cadc-0f7b-49c4-98f1-af9b20c291eb",
   "metadata": {},
   "source": [
    "Before we get to the production module, however, we need to specify the nesting structure using the ```nestingTree``` class below."
   ]
  },
  {
   "cell_type": "markdown",
   "id": "bd99df11-f605-42a8-aa67-3d862d9a3c34",
   "metadata": {},
   "source": [
    "## 1. Define CES value shares"
   ]
  },
  {
   "cell_type": "markdown",
   "id": "d6f0e21b-d4a7-4b95-a9b6-4215f4fbe87f",
   "metadata": {},
   "source": [
    "To specify the nesting structure of the model, we use a small customized class from ```gmsPython.nestingTree```: We do not need to go into detail on how these works (they are very simple), except to note that we initialize them by adding the nesting structure as a list of tuples (we already have this in our database). These classes automatically produce a number of subsets that specify e.g. what are inputs, intermediate inputs, and outputs."
   ]
  },
  {
   "cell_type": "markdown",
   "id": "323cc673-dfe2-4e83-84f5-df3ba317a27b",
   "metadata": {},
   "source": [
    "### 1.1. Nesting trees"
   ]
  },
  {
   "cell_type": "markdown",
   "id": "8038ce04-b267-44f8-8aad-2202d504ba0d",
   "metadata": {},
   "source": [
    "As we ultimately want to be able to replace the 'Waste' sector with a more specialized module, we start by splitting up the nesting structure into two objects: One for the waste sector and one for other:"
   ]
  },
  {
   "cell_type": "code",
   "execution_count": 3,
   "id": "060bf1f7-7cdf-4211-a43e-bfa74e6d5cf8",
   "metadata": {},
   "outputs": [],
   "source": [
    "wasteNest = adj.rc_pd(db('nestProduction'), pd.Index(['Waste'], name = 's')) # the adj.rc_pd(s, c) adjusts the symbol 's' by matching with the condition 'c'. It operates by matching the indices.\n",
    "otherNest = db('nestProduction').difference(wasteNest) "
   ]
  },
  {
   "cell_type": "markdown",
   "id": "80c74675-795a-420d-a451-6f326b3bf7de",
   "metadata": {},
   "source": [
    "Next, we initialize the two nesting trees separately (and name them 'W' and 'O' respectively), and finally collect them in one \"aggregate\" nesting tree that we call \"P\" for production here:"
   ]
  },
  {
   "cell_type": "code",
   "execution_count": 4,
   "id": "b71a657a-6f0b-49ba-a1f4-9710436c8ec8",
   "metadata": {},
   "outputs": [
    {
     "data": {
      "text/plain": [
       "<gmsPython.nestingTree.nestingTree.AggTree at 0x1d5f4343890>"
      ]
     },
     "execution_count": 4,
     "metadata": {},
     "output_type": "execute_result"
    }
   ],
   "source": [
    "waste = nestingTree.Tree('W', tree = wasteNest.to_list(), f = 'CES') \n",
    "other = nestingTree.Tree('O', tree = otherNest.to_list(), f = 'CES')\n",
    "nest = nestingTree.AggTree(name = 'P', trees = {t.name: t for t  in (waste, other)}, ws = ws)\n",
    "nest(namespace = {str(n)+'_input':n for n in db('n')}) # the __call__ method establishes relevant symbols to create the gams model"
   ]
  },
  {
   "cell_type": "markdown",
   "id": "8ab0c432-15c6-42c6-a974-a8346bf415ae",
   "metadata": {},
   "source": [
    "*Note: The notebook ```nestingTree.ipynb``` under the gmsPython package details what this nesting tree class does in detail.*"
   ]
  },
  {
   "cell_type": "markdown",
   "id": "eac836bb-9bd1-4fa8-b618-ccf0f01788f3",
   "metadata": {},
   "source": [
    "The nesting tree class establishes symbols for the aggregate tree, but also for the 'individual' trees (waste, other). The names of the nesting trees are important here, because they are used as prefixes to the local symbol names. For instance, the mapping from the aggregate tree and the individual ones are stored as:"
   ]
  },
  {
   "cell_type": "code",
   "execution_count": 5,
   "id": "10b65fb6-7b13-4775-acde-b3f220b936fd",
   "metadata": {},
   "outputs": [],
   "source": [
    "nest.db('P_map'), nest.db('O_map'), nest.db('W_map'); # syntax to access the different symbols"
   ]
  },
  {
   "cell_type": "markdown",
   "id": "dbdadaee-6df5-409e-a242-0d326a1ca50c",
   "metadata": {},
   "source": [
    "We keep track of the symbol names using a simple namespace dictionary (```self.ns```) that maps from the global name (e.g. 'input') to the specific name (e.g. 'P_input'). The methods ```self.n``` and ```self.get``` allows us to access names and symbols using the global name syntax. For instance:"
   ]
  },
  {
   "cell_type": "code",
   "execution_count": 6,
   "id": "24bff2b0-7814-4f17-b82d-ab5ff14a05be",
   "metadata": {},
   "outputs": [
    {
     "data": {
      "text/plain": [
       "True"
      ]
     },
     "execution_count": 6,
     "metadata": {},
     "output_type": "execute_result"
    }
   ],
   "source": [
    "nest.get('map') is nest.db('P_map') # the get method accesses the P_map symbols"
   ]
  },
  {
   "cell_type": "code",
   "execution_count": 7,
   "id": "99e9f861-527c-4ee1-ba88-c8da022eeca1",
   "metadata": {},
   "outputs": [
    {
     "data": {
      "text/plain": [
       "True"
      ]
     },
     "execution_count": 7,
     "metadata": {},
     "output_type": "execute_result"
    }
   ],
   "source": [
    "nest.get('map', local = 'W') is nest.db('W_map') # if we specify local, we access symbols from the individual tree"
   ]
  },
  {
   "cell_type": "markdown",
   "id": "4ca6f408-427a-4a7d-a1d7-150d91c94a7c",
   "metadata": {},
   "source": [
    "*Note: The notebook ```nestingTree.ipynb``` under the gmsPython package details what this nesting tree class does in more detail.*"
   ]
  },
  {
   "cell_type": "markdown",
   "id": "473e0b20-39f7-4047-947c-35c5db24ba5f",
   "metadata": {},
   "source": [
    "### 1.2. Create value shares to identify $\\mu$"
   ]
  },
  {
   "cell_type": "markdown",
   "id": "5da38498-426f-4a7c-b89e-0ae6f14b83fc",
   "metadata": {},
   "source": [
    "The next step is to identify $\\mu$ parameters for the nested model. We base this on the value shares in the baseline year. For instance, if we know the value of energy and capital in baseline $vD(E), vD(K)$, a CES nest that combines the two will have $\\mu_E = vD(E)/(vD(E)+vD(K))$ and $\\mu_K = vD(K)/(vD(E)+vD(K))$. To do this with the more general nesting structure, we use a simple class ```nestedShares``` that ultimately writes a GAMS code and let GAMS solve it:"
   ]
  },
  {
   "cell_type": "markdown",
   "id": "a68d3ed3-13a5-4ab6-839f-118be2ae2e03",
   "metadata": {},
   "source": [
    "We initialize a ```nestedShares``` class using a nesting tree (note that, if possible, we also always use an existing gams workspace (ws) to start new databases/models from):"
   ]
  },
  {
   "cell_type": "code",
   "execution_count": 8,
   "id": "555c4a21-0c70-428a-abb3-1b869a0e1acf",
   "metadata": {},
   "outputs": [],
   "source": [
    "v = nestedShares(nest, ws = ws)"
   ]
  },
  {
   "cell_type": "markdown",
   "id": "29a6e5da-bc1a-46ba-8672-0fec3b7af5a1",
   "metadata": {},
   "source": [
    "*Note: The model is initialized and solve using the following one-liner. To explain what happens in a bit more detail, we have commented this out and replaced with text and low-level functions.*"
   ]
  },
  {
   "cell_type": "code",
   "execution_count": 9,
   "id": "acad7faa-dca0-4e4c-a6e2-c646eabcf351",
   "metadata": {},
   "outputs": [],
   "source": [
    "# db_vs = v(db) # one-liner that returns solution database"
   ]
  },
  {
   "cell_type": "markdown",
   "id": "b7f0c087-0100-4552-a61c-94818d35bb33",
   "metadata": {},
   "source": [
    "This simple class then runs through the following steps:\n",
    "* Initialize relevant data (this creates some subsets/mappings/initial values for the GAMS model) by drawing on the IO database.\n",
    "* Use ```mergeInternal``` method from the database to write a gdx file with relevant data (before doing this, we only have data in Python format).\n",
    "* Initialize group definitions (what symbols are endogenous, what symbols are exogenous).\n",
    "* Next, we call the ```self.text``` property which essentially writes the entire GAMS code. Below, we break down the different parts in a bit more detail here.\n",
    "* We run the text through the ```gmsPython.gamY.Precompiler``` and start a ```GamsJob```. We then extract the solution to Python again using the ```pyDatabases.GpyDB``` database format.\n",
    "\n",
    "*Note: All of these steps are carried out in one step using the ```self.__call__(db)``` method*."
   ]
  },
  {
   "cell_type": "code",
   "execution_count": 10,
   "id": "08c8db49-3595-481f-9def-73a76d3dbd12",
   "metadata": {},
   "outputs": [],
   "source": [
    "v.initData(db) # writes data to the v.db database\n",
    "v.db.mergeInternal() # writes gdx file with relevant data \n",
    "v.initGroups() # initialize grouping of variables"
   ]
  },
  {
   "cell_type": "markdown",
   "id": "04fb11ff-4c37-4917-9352-458318a554d7",
   "metadata": {},
   "source": [
    "Let us have a look at the groups that are added as an attribute as ```self.groups```. We add two simple groups 'endo' and 'exo':"
   ]
  },
  {
   "cell_type": "code",
   "execution_count": 11,
   "id": "98270fb6-8090-4fa9-92ed-f86a6a91b627",
   "metadata": {},
   "outputs": [
    {
     "data": {
      "text/plain": [
       "{'endo': <gmsPython.gmsPy.gmsPy.Group at 0x1d5f3f51850>,\n",
       " 'exo': <gmsPython.gmsPy.gmsPy.Group at 0x1d5f738a910>}"
      ]
     },
     "execution_count": 11,
     "metadata": {},
     "output_type": "execute_result"
    }
   ],
   "source": [
    "v.groups"
   ]
  },
  {
   "cell_type": "markdown",
   "id": "15b9bf4c-54fa-4d84-99f7-d5735ab0dc66",
   "metadata": {},
   "source": [
    "The group 'endo' contains shares $\\mu$ and values $vD$ for intermediate symbols in the nesting tree. We specify that it is only $vD$ for intermediate goods that are endogenous by adding a condition to the statement for $vD$:"
   ]
  },
  {
   "cell_type": "code",
   "execution_count": 12,
   "id": "7af50f17-98bc-4f97-9b40-e5d1f45f760a",
   "metadata": {},
   "outputs": [
    {
     "data": {
      "text/plain": [
       "{'mu': <pyDatabases.gpyDB.database.gpy at 0x1d5f738b790>,\n",
       " 'vD': <pyDatabases.gpyDB.database.gpy at 0x1d5f738b7d0>}"
      ]
     },
     "execution_count": 12,
     "metadata": {},
     "output_type": "execute_result"
    }
   ],
   "source": [
    "v.groups['endo'].conditions"
   ]
  },
  {
   "cell_type": "markdown",
   "id": "138d6675-1c29-4610-83ad-52819b193345",
   "metadata": {},
   "source": [
    "Note that the condition is actually a ```gpy``` symbol (the ones we use in our databases). We could also simply have written the text here, that is \"input[s,n]\". By referring to the ```gpy``` symbol instead, we can extract the relevant symbol in Python as well if need be:"
   ]
  },
  {
   "cell_type": "code",
   "execution_count": 13,
   "id": "5897db2c-4c83-401c-8644-211188327b98",
   "metadata": {},
   "outputs": [],
   "source": [
    "adj.rc_pd(v.db('vD'), v.db['input']); # this returns a pd.Series with vD only for the symbol."
   ]
  },
  {
   "cell_type": "markdown",
   "id": "527d06e0-d34f-4421-88f6-b085cd734386",
   "metadata": {},
   "source": [
    "The groups have buildin writing methods, so we can call e.g. the ```unfix``` method get the text required to make variables endogenous (or the ```fix``` method to make them exogenous):"
   ]
  },
  {
   "cell_type": "code",
   "execution_count": 14,
   "id": "8db9d83a-586d-4ad6-86ea-7a9119833155",
   "metadata": {},
   "outputs": [
    {
     "name": "stdout",
     "output_type": "stream",
     "text": [
      "mu.lo[t,s,n,nn]$(map[s,n,nn]) = -inf;\n",
      "mu.up[t,s,n,nn]$(map[s,n,nn]) = inf;\n",
      "vD.lo[t,s,n]$(int[s,n]) = -inf;\n",
      "vD.up[t,s,n]$(int[s,n]) = inf;\n"
     ]
    }
   ],
   "source": [
    "print(v.groups['endo'].unfix(db = v.db)) # return text to make sure that variables are endogenous (no bounds)"
   ]
  },
  {
   "cell_type": "markdown",
   "id": "8bfdd0eb-78d4-43ea-9fda-35f1236e735b",
   "metadata": {},
   "source": [
    "In this simple model, the gamY code consists of 7 steps:\n",
    "1. Root text (```gmsWrite.StdArgs.root(**options)```): Returns a text that declares some standard options.\n",
    "2. Declare functions and macros (```gmsWrite.StdArgs.funcs(**kwargs)```): Returns text that declares standard functions (gamY feature). I have not implemented adjustments to this yet.\n",
    "3. Declare symbols (```gmsWrite.FromDB.declare(db)```): Returns text declaring all symbols in a database.\n",
    "4. Load symbols (```gmsWrite.FromDB.load(db, gdx)```): Returns text that loads symbols from a database with name specified by argument ```gdx```.\n",
    "5. Define blocks of equations: No automated feature here.\n",
    "6. Fix/unfix relevant variables: This is automated by the ```gmsPython.Group``` instances above.\n",
    "7. Solve statement."
   ]
  },
  {
   "cell_type": "code",
   "execution_count": 15,
   "id": "5277b03d-a370-4688-ad2b-c540ab0c4b73",
   "metadata": {
    "scrolled": true
   },
   "outputs": [
    {
     "name": "stdout",
     "output_type": "stream",
     "text": [
      "\n",
      "\n",
      "$SETLOCAL qmark \";\n",
      "OPTION SYSOUT=OFF, SOLPRINT=OFF, LIMROW=0, LIMCOL=0, DECIMALS=6;\n",
      "\n",
      "\n",
      "# User defined functions:\n",
      "$FUNCTION SolveEmptyNLP({name})\n",
      "variable randomnameobj;  \n",
      "randomnameobj.L = 0;\n",
      "\n",
      "EQUATION E_EmptyNLPObj;\n",
      "E_EmptyNLPObj..    randomnameobj  =E=  0;\n",
      "\n",
      "Model M_SolveEmptyNLP /\n",
      "E_EmptyNLPObj, {name}\n",
      "/;\n",
      "solve M_SolveEmptyNLP using NLP min randomnameobj;\n",
      "$ENDFUNCTION\n",
      "\n",
      "sets\n",
      "\talias_set\n",
      "\talias_map2\n",
      "\ts\n",
      "\tn\n",
      "\tt\n",
      ";\n",
      "\n",
      "alias(n,nn);\n",
      "\n",
      "sets\n",
      "\talias_[alias_set,alias_map2]\n",
      "\tmapOut[s,n,nn]\n",
      "\tknotOutTree[s,n]\n",
      "\tbranchOut[s,n]\n",
      "\tbranchNOut[s,n]\n",
      "\tmapInp[s,n,nn]\n",
      "\tknotOut[s,n]\n",
      "\tknotNOut[s,n]\n",
      "\tbranch2Out[s,n]\n",
      "\tbranch2NOut[s,n]\n",
      "\tmap[s,n,nn]\n",
      "\toutput[s,n]\n",
      "\tinput[s,n]\n",
      "\tint[s,n]\n",
      ";\n",
      "\n",
      "variables\n",
      "\tmu[t,s,n,nn]\n",
      "\tvD[t,s,n]\n",
      "\tvS[t,s,n]\n",
      ";\n",
      "\n",
      "\n",
      "$GDXIN db\n",
      "$onMulti\n",
      "$load alias_set\n",
      "$load alias_map2\n",
      "$load s\n",
      "$load n\n",
      "$load t\n",
      "$load alias_\n",
      "$load mapOut\n",
      "$load knotOutTree\n",
      "$load branchOut\n",
      "$load branchNOut\n",
      "$load mapInp\n",
      "$load knotOut\n",
      "$load knotNOut\n",
      "$load branch2Out\n",
      "$load branch2NOut\n",
      "$load map\n",
      "$load output\n",
      "$load input\n",
      "$load int\n",
      "$GDXIN\n",
      "$offMulti;\n",
      "\n",
      "$GDXIN db\n",
      "$onMulti\n",
      "$load mu\n",
      "$load vD\n",
      "$load vS\n",
      "$GDXIN\n",
      "$offMulti;\n",
      "\n",
      "\n",
      "\n",
      "\n",
      "$BLOCK B_ValueShares\n",
      "\tE_Out_knot[t,s,n]$(knotOutTree[s,n])..\t\t\t\t\t\t\t\tvD[t,s,n]\t=E= sum(nn$(map[s,nn,n] and branchOut[s,nn]), vS[t,s,n])+sum(nn$(map[s,nn,n] and branchNOut[s,nn]), vD[t,s,n]);\n",
      "\tE_Out_shares_o[t,s,n,nn]$(mapOut[s,n,nn] and branchOut[s,n])..\t\tmu[t,s,n,nn]=E= vS[t,s,n]/vD[t,s,nn];\n",
      "\tE_Out_shares_no[t,s,n,nn]$(mapOut[s,n,nn] and branchNOut[s,n])..\tmu[t,s,n,nn]=E= vD[t,s,n]/vD[t,s,nn];\n",
      "\tE_Inp_knot_o[t,s,n]$(knotOut[s,n])..\t\t\t\t\t\t\t\tvS[t,s,n]\t=E= sum(nn$(map[s,n,nn]), vD[t,s,nn]);\n",
      "\tE_Inp_knot_no[t,s,n]$(knotNOut[s,n])..\t\t\t\t\t\t\t\tvD[t,s,n]\t=E= sum(nn$(map[s,n,nn]), vD[t,s,nn]);\n",
      "\tE_Inp_shares2o[t,s,n,nn]$(mapInp[s,n,nn] and branch2Out[s,nn])..\tmu[t,s,n,nn]=E= vD[t,s,nn]/vS[t,s,n];\n",
      "\tE_Inp_shares2no[t,s,n,nn]$(mapInp[s,n,nn] and branch2NOut[s,nn])..\tmu[t,s,n,nn]=E= vD[t,s,nn]/vD[t,s,n];\n",
      "$ENDBLOCK\n",
      "\n",
      "\n",
      "vD.fx[t,s,n]$(input[s,n]) = vD.l[t,s,n]$(input[s,n]);\n",
      "vS.fx[t,s,n]$(output[s,n]) = vS.l[t,s,n]$(output[s,n]);\n",
      "mu.lo[t,s,n,nn]$(map[s,n,nn]) = -inf;\n",
      "mu.up[t,s,n,nn]$(map[s,n,nn]) = inf;\n",
      "vD.lo[t,s,n]$(int[s,n]) = -inf;\n",
      "vD.up[t,s,n]$(int[s,n]) = inf;\n",
      "\n",
      "@SolveEmptyNLP(B_ValueShares);\n",
      "\n"
     ]
    }
   ],
   "source": [
    "print(v.text) # the GAMS model"
   ]
  },
  {
   "cell_type": "markdown",
   "id": "96ab1a0b-1240-4c95-9e37-8afb5082f4db",
   "metadata": {},
   "source": [
    "The gamY code is then translated to GAMS code by running it through the ```gmsPython.gamY.Precompiler``` that is attached to the ```nestedShares``` as an attribute:"
   ]
  },
  {
   "cell_type": "code",
   "execution_count": 16,
   "id": "76f8c7f2-5df7-4539-ba2b-db3d77452671",
   "metadata": {},
   "outputs": [],
   "source": [
    "GAMStext = v.compiler(v.text) # return GAMS code"
   ]
  },
  {
   "cell_type": "markdown",
   "id": "fe1dabe3-6f0e-4357-816c-636f3ab58db0",
   "metadata": {},
   "source": [
    "We execute GAMS code by initializing a GamsJob and running it as follows:"
   ]
  },
  {
   "cell_type": "code",
   "execution_count": 17,
   "id": "badab2aa-9402-4469-8f7f-00f102f5edf9",
   "metadata": {},
   "outputs": [],
   "source": [
    "v.job = v.ws.add_job_from_string(GAMStext)\n",
    "v.job.run(databases = v.db.database)\n",
    "db_vs = GpyDB(v.job.out_db, ws = v.ws) # extract solution"
   ]
  },
  {
   "cell_type": "markdown",
   "id": "624a79cf-7102-4db4-af40-ee9d23a5a4ee",
   "metadata": {},
   "source": [
    "Everything related to the GAMS code, gdx files, etc. are written to the work folder (specified at ```v.work_folder```). \n",
    "\n",
    "We are particularly interested in the $\\mu$ variable and value of intermediate goods (to get better initial values):"
   ]
  },
  {
   "cell_type": "code",
   "execution_count": 18,
   "id": "115cd337-5d36-440a-9fb1-a4677e559787",
   "metadata": {},
   "outputs": [],
   "source": [
    "db['mu'] = db_vs('mu').xs(t0) \n",
    "db.aom(adj.rc_pd(db_vs('vD'), nest.get('int')).rename('qD'), name = 'qD', priority = 'first') # specify intermediate goods levels"
   ]
  },
  {
   "cell_type": "markdown",
   "id": "956ca40d-79d9-41e4-9837-971707fe3388",
   "metadata": {},
   "source": [
    "With the share parameters in place, we can turn to the production module. We start by making a few small adjustments to the IO data, so we can use this as an outset for the module."
   ]
  },
  {
   "cell_type": "markdown",
   "id": "e1f3b2d4-27fe-4ca5-b6c7-1785e7a450d7",
   "metadata": {},
   "source": [
    "## 2. Partial Equilibirum Model"
   ]
  },
  {
   "cell_type": "code",
   "execution_count": 19,
   "id": "c3b373c4-b367-4396-bf49-3f7a3e4ff097",
   "metadata": {},
   "outputs": [
    {
     "data": {
      "text/plain": [
       "<pyDatabases.gpyDB.gpyDB.GpyDB at 0x1d5f6b94290>"
      ]
     },
     "execution_count": 19,
     "metadata": {},
     "output_type": "execute_result"
    }
   ],
   "source": [
    "db.aom(db('pD_dur'), name = 'pD')\n",
    "AggDB.subsetDB(db, db('s_p'))"
   ]
  },
  {
   "cell_type": "markdown",
   "id": "6cc75059-7c23-4d88-be86-722e3a0bbccf",
   "metadata": {},
   "source": [
    "Clean up database a bit (this is not necessary, but it removes some variables that are not ultimately used in the model):"
   ]
  },
  {
   "cell_type": "code",
   "execution_count": 20,
   "id": "166ea3e7-84de-4eaa-b1fc-fc7c41eb8994",
   "metadata": {},
   "outputs": [],
   "source": [
    "[db.series.__delitem__(k) for k in ('vD','vTax', 'vD_dur','vD_depr','vD_inv', 'vS', 'pD_dur') if k in db.symbols];"
   ]
  },
  {
   "cell_type": "markdown",
   "id": "032a58a2-5e54-4a55-b979-d5c08d2cac1d",
   "metadata": {},
   "source": [
    "For variables that are defined over $t$, but we do not yet have an initial value for all $t$, extrapolate:\n",
    "\n",
    "*Note: This forces extrapolation of all variables defined over $t$ - if it is important that some variables are not extrapolated, they should be removed from this statement.*"
   ]
  },
  {
   "cell_type": "code",
   "execution_count": 21,
   "id": "d73f70da-94f6-4557-beb7-9d73913c0ae1",
   "metadata": {},
   "outputs": [],
   "source": [
    "[symbol.__setattr__('vals', extrapolateUpper(symbol.vals, db('tE')[0])) for symbol in [db[k] for k in db.varDom('t')['t']]];"
   ]
  },
  {
   "cell_type": "markdown",
   "id": "c96fdcd3-a288-4095-ac33-b67cb0d0cf5f",
   "metadata": {},
   "source": [
    "Next, we can now initialize the production module using from the nesting tree, we established earlier. "
   ]
  },
  {
   "cell_type": "code",
   "execution_count": 22,
   "id": "bd0c6d30-7b04-453e-9626-d52fc2a38592",
   "metadata": {},
   "outputs": [],
   "source": [
    "m = NestedCES(nest, partial = True)"
   ]
  },
  {
   "cell_type": "markdown",
   "id": "e59bfeb4-eed7-4ff9-b4af-a33335264d90",
   "metadata": {},
   "source": [
    "Next, we initialize stuff (add data from IO, add specification durables, fill in initial values of data where we do not have any from the IO data, initialize grouping of variables):"
   ]
  },
  {
   "cell_type": "code",
   "execution_count": 23,
   "id": "ed1bb44e-9b7b-49ad-8e2d-77109f27ad4e",
   "metadata": {},
   "outputs": [],
   "source": [
    "m.initStuff(db = db)"
   ]
  },
  {
   "cell_type": "markdown",
   "id": "71c0ecff-c3ba-46fb-a228-c6e28ce73eca",
   "metadata": {},
   "source": [
    "The production module is, numerically, quite a challenging problem to solve. To solve and calibrate the model, we use a fairly robust solution method that solves a series of problems that converges on the true problem. Essentially, we do the following:\n",
    "1. Write GAMS model without solving it initially.\n",
    "2. Create a copy of the GAMS model, but add \"$j$-terms\" to every equation in the model (additive term that captures deviation from actual equilibrium).\n",
    "3. Fix the value of all variables *except* $j$-terms. \"Solve\" the adjusted model (solution where $j$-terms simply measure deviation from eq. in initial point).\n",
    "4. Now, fix all the $j$-terms (turn into parameters) and unfix the original endogenous variables in the model. The model is now solved in initial point as well.\n",
    "5. Define a series of $j$-terms that converges to $0$ (in which case the model coincides with original formulation again). The more \"numerically tricky\" the problem is, the slower convergence is required for the solver to work.\n",
    "6. Once the series of $j$-terms have converged to zero, we have a baseline solution to the model.\n",
    "   "
   ]
  },
  {
   "cell_type": "markdown",
   "id": "47eccf33-7b85-4eea-9696-1cf9ee08087f",
   "metadata": {},
   "source": [
    "The smart thing about this approach is that it is *generic*, i.e. independent of the type of problem that arises (as long as the problem stays feasible along the convering path). This means that we can easily automate this solution procedure and use not only for the production module, but all the other modules/models as well. This type of converging series of solutions is implemented through the class ```gmsPython.gmsPy.jTerms``` which is automatically attached to model instances like the production module:"
   ]
  },
  {
   "cell_type": "code",
   "execution_count": 24,
   "id": "5177b576-e7a5-4f50-ba33-a9304423c857",
   "metadata": {},
   "outputs": [],
   "source": [
    "soldb = m.jSolve(10, state = 'C', ϕ = .1) # solve calibration model with 10 steps and nonlinear grid (ϕ<1 means that adjustments to jTerms start large and then decrease)"
   ]
  },
  {
   "cell_type": "markdown",
   "id": "f6e00bae-30de-47a3-936f-904325b183db",
   "metadata": {},
   "source": [
    "Given this, the model should be solved in the initial point with the baseline model as well:"
   ]
  },
  {
   "cell_type": "code",
   "execution_count": 25,
   "id": "143b3ad5-28d8-4f50-b4ef-4265a585e094",
   "metadata": {},
   "outputs": [],
   "source": [
    "[m.db.__setitem__(k, soldb[k]) for k in m.db.getTypes(['var']) if k in soldb.symbols]; # use solution database\n",
    "m.db.mergeInternal()"
   ]
  },
  {
   "cell_type": "markdown",
   "id": "a6419ad5-2b7e-4109-b6af-c979e521c8a2",
   "metadata": {},
   "source": [
    "Baseline model text with fix/unfix and solve statements:"
   ]
  },
  {
   "cell_type": "code",
   "execution_count": 26,
   "id": "1d588037-b04e-46f7-a3ca-e19ca9535c20",
   "metadata": {},
   "outputs": [
    {
     "data": {
      "text/plain": [
       "<pyDatabases.gpyDB.gpyDB.GpyDB at 0x1d5f7801c50>"
      ]
     },
     "execution_count": 26,
     "metadata": {},
     "output_type": "execute_result"
    }
   ],
   "source": [
    "baselineText = m.write(state = 'B') # store text so we can export it for later\n",
    "text_gamY    = m.write_gamY(state = 'B') # store gamY text\n",
    "m.solve(text = baselineText)"
   ]
  },
  {
   "cell_type": "markdown",
   "id": "4ba6bb40-f4ad-4476-ac65-678829961e39",
   "metadata": {},
   "source": [
    "Export code and database:"
   ]
  },
  {
   "cell_type": "code",
   "execution_count": 27,
   "id": "4c412df2-b2e9-4050-8674-8ae7a56cf20a",
   "metadata": {},
   "outputs": [],
   "source": [
    "with open(os.path.join(d['gams'], f'{m.name}.gms'), \"w\") as file:\n",
    "    file.write(baselineText)\n",
    "with open(os.path.join(d['gams'], f'{m.name}.gmy'), \"w\") as file:\n",
    "    file.write(text_gamY)"
   ]
  },
  {
   "cell_type": "markdown",
   "id": "a099cb83-9a08-4c30-b602-09952021e4dc",
   "metadata": {},
   "source": [
    "Export gdx file:"
   ]
  },
  {
   "cell_type": "code",
   "execution_count": 28,
   "id": "34295c9b-a5d1-4aa1-8d2b-dfa29390f9d0",
   "metadata": {},
   "outputs": [],
   "source": [
    "m.db.database.export(os.path.join(d['data'], m.db.name))"
   ]
  }
 ],
 "metadata": {
  "kernelspec": {
   "display_name": "Python 3 (ipykernel)",
   "language": "python",
   "name": "python3"
  },
  "language_info": {
   "codemirror_mode": {
    "name": "ipython",
    "version": 3
   },
   "file_extension": ".py",
   "mimetype": "text/x-python",
   "name": "python",
   "nbconvert_exporter": "python",
   "pygments_lexer": "ipython3",
   "version": "3.11.8"
  }
 },
 "nbformat": 4,
 "nbformat_minor": 5
}
