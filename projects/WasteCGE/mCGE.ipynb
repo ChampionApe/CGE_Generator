{
 "cells": [
  {
   "cell_type": "code",
   "execution_count": 1,
   "id": "18705f4d-3902-4d46-823d-4622a3f3229e",
   "metadata": {},
   "outputs": [],
   "source": [
    "clean_up = True # if True, remove all gams related files from working folder before starting\n",
    "%run stdPackages.ipynb\n",
    "os.chdir(main)\n",
    "%run stdPlotting.ipynb\n",
    "os.chdir(d['py'])\n",
    "from gmsPython import nestingTree\n",
    "from valueShares import nestedShares_noOutputs, nestedShares\n",
    "from mCGE import CGE"
   ]
  },
  {
   "cell_type": "markdown",
   "id": "6a1e9a7a-416b-4788-bbda-bfe03ac02c2c",
   "metadata": {},
   "source": [
    "# CGE model"
   ]
  },
  {
   "cell_type": "markdown",
   "id": "963882c7-83b3-4ba1-8311-3ac299eb8133",
   "metadata": {},
   "source": [
    "*Load data:*"
   ]
  },
  {
   "cell_type": "code",
   "execution_count": 2,
   "id": "1c25cc14-2fea-4ed7-b961-e5434eb2d1f9",
   "metadata": {},
   "outputs": [],
   "source": [
    "t0 = 2019 # set baseline year\n",
    "name = 'vA' # specify name of the CGE version we are currently working on\n",
    "db = GpyDB(os.path.join(d['data'], f'{name}_{t0}'), name = '_'.join([name, str(t0), 'solDB'])) # load and rename database \n",
    "dbIO = db.copy() # create copy without adjustments made along the way\n",
    "ws = db.ws # run everything from the same ws"
   ]
  },
  {
   "cell_type": "markdown",
   "id": "63486705-8d6b-4a4a-b2a4-7a8a2421c285",
   "metadata": {},
   "source": [
    "Initialize model:"
   ]
  },
  {
   "cell_type": "code",
   "execution_count": 3,
   "id": "30e8b3f0-d33d-4170-9800-6ab740ae5911",
   "metadata": {},
   "outputs": [],
   "source": [
    "M = CGE('_'.join([name, str(t0), 'CGE']), database = db)\n",
    "# M.db['rDepr'] = M.steadyStateDepr() # use this to adjust depreciation rates to get steady state investments in baseline year"
   ]
  },
  {
   "cell_type": "markdown",
   "id": "737ed4d1-8f39-46fb-b228-78a2fe5401a0",
   "metadata": {},
   "source": [
    "## 1. Adding modules:"
   ]
  },
  {
   "cell_type": "markdown",
   "id": "b529cee5-d566-4dd8-8ffb-b279df1efdde",
   "metadata": {},
   "source": [
    "### 1.1. Production"
   ]
  },
  {
   "cell_type": "markdown",
   "id": "eb584962-1b2a-467b-9b22-0fbf53e96b6c",
   "metadata": {},
   "source": [
    "The production module is initialized with a nesting tree and value shares to identify the $\\mu$-share parameters of the nesting structure."
   ]
  },
  {
   "cell_type": "markdown",
   "id": "40c2f59f-269f-4cf3-b0a9-f79860813a85",
   "metadata": {},
   "source": [
    "Nesting structure:"
   ]
  },
  {
   "cell_type": "code",
   "execution_count": 4,
   "id": "83548b3f-4358-407a-8823-84f246140e4e",
   "metadata": {},
   "outputs": [],
   "source": [
    "wasteNest = adj.rc_pd(db('nestProduction'), pd.Index(['Waste'], name = 's')) # the adj.rc_pd(s, c) adjusts the symbol 's' by matching with the condition 'c'. It operates by matching the indices.\n",
    "otherNest = db('nestProduction').difference(wasteNest) "
   ]
  },
  {
   "cell_type": "markdown",
   "id": "d064c700-ebc9-43a7-8d61-aa175f9016d3",
   "metadata": {},
   "source": [
    "Initialize trees:"
   ]
  },
  {
   "cell_type": "code",
   "execution_count": 5,
   "id": "843071b0-94f8-410a-8dc7-5aa6d8704f43",
   "metadata": {},
   "outputs": [
    {
     "data": {
      "text/plain": [
       "<gmsPython.nestingTree.nestingTree.AggTree at 0x1bb260a2f90>"
      ]
     },
     "execution_count": 5,
     "metadata": {},
     "output_type": "execute_result"
    }
   ],
   "source": [
    "waste = nestingTree.Tree('W', tree = wasteNest.to_list(), f = 'CES') \n",
    "other = nestingTree.Tree('O', tree = otherNest.to_list(), f = 'CES')\n",
    "nest = nestingTree.AggTree(name = 'P', trees = {t.name: t for t  in (waste, other)}, ws = ws)\n",
    "nest(namespace = {str(n)+'_input':n for n in db('n')}) # the __call__ method establishes relevant symbols to create the gams model"
   ]
  },
  {
   "cell_type": "code",
   "execution_count": 6,
   "id": "d5335a5b-4b46-40a1-8115-32916e5b1937",
   "metadata": {},
   "outputs": [],
   "source": [
    "v = nestedShares(nest, ws = ws)\n",
    "db_vs = v(dbIO) # one-liner that returns solution database"
   ]
  },
  {
   "cell_type": "markdown",
   "id": "518b0ad0-a6a6-4397-81ac-856aa00a486c",
   "metadata": {},
   "source": [
    "Use share parameters and values to get initial values for intermediates:"
   ]
  },
  {
   "cell_type": "code",
   "execution_count": 7,
   "id": "3ff7964b-88ec-42d0-a8da-3990c9a6fcf1",
   "metadata": {},
   "outputs": [],
   "source": [
    "db.aom(db_vs('mu').xs(t0), name = 'mu') \n",
    "db.aom(adj.rc_pd(db_vs('vD'), nest.get('int')).rename('qD'), name = 'qD', priority = 'first') # specify intermediate goods levels"
   ]
  },
  {
   "cell_type": "markdown",
   "id": "cb8d2802-9798-41bb-86b1-4ae6fa09fbb6",
   "metadata": {},
   "source": [
    "Use static user cost as initial guess for price on durables (if no other has been provided):"
   ]
  },
  {
   "cell_type": "code",
   "execution_count": 8,
   "id": "967b1851-76ba-453d-adc4-69bca416c158",
   "metadata": {},
   "outputs": [],
   "source": [
    "db.aom(db('pD_dur'), name = 'pD', priority = 'first') # pD_dur includes an estimate of the long-run user-cost of capital"
   ]
  },
  {
   "cell_type": "markdown",
   "id": "62ad0b95-eae3-4857-9afb-2650e6c3d3af",
   "metadata": {},
   "source": [
    "Next, we initialize the production module:"
   ]
  },
  {
   "cell_type": "code",
   "execution_count": 10,
   "id": "a0c36ad4-c7b0-4b81-827b-99edbbd97b9b",
   "metadata": {},
   "outputs": [
    {
     "data": {
      "text/plain": [
       "<mProduction.DynamicNCES at 0x1bb2bd4dc90>"
      ]
     },
     "execution_count": 10,
     "metadata": {},
     "output_type": "execute_result"
    }
   ],
   "source": [
    "M.addDynamicProdModule(nest, partial = True, mtype = 'DynamicNCES', initFromGms = 'initFirmValue', taxInstr = 'tauLump',\n",
    "                      addEmissions = True, abateCosts = False, addAdjCosts = True)"
   ]
  },
  {
   "cell_type": "markdown",
   "id": "4291f336-7e24-4d68-baa0-a4d4afc689e3",
   "metadata": {},
   "source": [
    "### 1.2. Investment module"
   ]
  },
  {
   "cell_type": "markdown",
   "id": "42594271-5f23-40df-9610-7a08f04d225f",
   "metadata": {},
   "source": [
    "Similar to production module, but without accumulation of durables:"
   ]
  },
  {
   "cell_type": "code",
   "execution_count": 11,
   "id": "b7ada97f-66d7-4e12-889d-e9405c72386f",
   "metadata": {},
   "outputs": [
    {
     "data": {
      "text/plain": [
       "<gmsPython.nestingTree.nestingTree.AggTree at 0x1bb2c109690>"
      ]
     },
     "execution_count": 11,
     "metadata": {},
     "output_type": "execute_result"
    }
   ],
   "source": [
    "nest = nestingTree.AggTree(name = 'I', trees = {'I': nestingTree.Tree('I', tree = db('nestInvestment').to_list(), f = 'CES')}, ws = ws)\n",
    "nest(namespace = {str(n)+'_input':n for n in db('n')})"
   ]
  },
  {
   "cell_type": "markdown",
   "id": "41472bbb-025a-4595-ae43-e0f14d8e5b55",
   "metadata": {},
   "source": [
    "*Define share parameters:*"
   ]
  },
  {
   "cell_type": "code",
   "execution_count": 12,
   "id": "fe849deb-512e-473a-921a-42ed992455d4",
   "metadata": {},
   "outputs": [],
   "source": [
    "v = nestedShares(nest, ws = ws)\n",
    "db_vs = v(dbIO) "
   ]
  },
  {
   "cell_type": "markdown",
   "id": "95ba7583-b0c9-4ef2-b6c4-453e932a7792",
   "metadata": {},
   "source": [
    "*Use share parameters and values to get initial values for intermediates:*"
   ]
  },
  {
   "cell_type": "code",
   "execution_count": 13,
   "id": "92f36db1-08d8-45c8-984c-733b77864f85",
   "metadata": {},
   "outputs": [],
   "source": [
    "db.aom(db_vs('mu').xs(t0), name = 'mu') \n",
    "db.aom(adj.rc_pd(db_vs('vD'), nest.get('int')).rename('qD'), name = 'qD', priority = 'first') # specify intermediate goods levels"
   ]
  },
  {
   "cell_type": "markdown",
   "id": "fe013363-6142-4048-8961-0b489a0a9e2f",
   "metadata": {},
   "source": [
    "*Add module as production type to CGE:*"
   ]
  },
  {
   "cell_type": "code",
   "execution_count": 14,
   "id": "b71a4693-b314-46aa-894d-173a63eef002",
   "metadata": {
    "scrolled": true
   },
   "outputs": [
    {
     "data": {
      "text/plain": [
       "<mInvestment.NestedCES at 0x1bb2bf8bdd0>"
      ]
     },
     "execution_count": 14,
     "metadata": {},
     "output_type": "execute_result"
    }
   ],
   "source": [
    "M.addInvestmentModule(nest, partial = True, mtype = 'NestedCES')"
   ]
  },
  {
   "cell_type": "markdown",
   "id": "f5ad08ad-7b65-4eec-abe9-582eddf80c0e",
   "metadata": {},
   "source": [
    "### 1.3. Consumer module"
   ]
  },
  {
   "cell_type": "markdown",
   "id": "5d89f11d-2723-4428-8c4d-2438bf3b4a55",
   "metadata": {},
   "source": [
    "*Nesting tree:*"
   ]
  },
  {
   "cell_type": "code",
   "execution_count": 15,
   "id": "a880e7ff-e493-4373-a05b-3529e72a53a1",
   "metadata": {},
   "outputs": [
    {
     "data": {
      "text/plain": [
       "<gmsPython.nestingTree.nestingTree.AggTree at 0x1bb2c0ec690>"
      ]
     },
     "execution_count": 15,
     "metadata": {},
     "output_type": "execute_result"
    }
   ],
   "source": [
    "cesNest = nestingTree.Tree('HH', tree = db('nestHH').to_list(), f = 'CES')\n",
    "nest = nestingTree.AggTree(name = 'HH', trees = {t.name: t for t in [cesNest]}, ws = ws)\n",
    "nest(namespace = {str(n)+'_input': n for n in db('n')})"
   ]
  },
  {
   "cell_type": "markdown",
   "id": "2e8ca634-5596-4960-ba28-8dda73cad26c",
   "metadata": {},
   "source": [
    "Value shares:"
   ]
  },
  {
   "cell_type": "code",
   "execution_count": 16,
   "id": "67555e30-337d-4ac3-9dac-7bf6865f98e9",
   "metadata": {},
   "outputs": [],
   "source": [
    "v = nestedShares_noOutputs(nest, ws = ws)\n",
    "db_vs = v(dbIO) # one-liner that returns solution database"
   ]
  },
  {
   "cell_type": "markdown",
   "id": "45c05a76-a6c6-4a48-bf78-e0b7c3c516eb",
   "metadata": {},
   "source": [
    "Add to main database:"
   ]
  },
  {
   "cell_type": "code",
   "execution_count": 17,
   "id": "3059602d-1f6d-469a-aa68-5ab9066da974",
   "metadata": {},
   "outputs": [],
   "source": [
    "db.aom(db_vs('mu').xs(t0), name = 'mu') \n",
    "db.aom(adj.rc_pd(db_vs('vD'), nest.get('int').union(nest.get('output'))).rename('qD'), name = 'qD', priority = 'first') # specify intermediate goods levels"
   ]
  },
  {
   "cell_type": "markdown",
   "id": "f5617825-2042-4b32-9ba0-98a4daa2304c",
   "metadata": {},
   "source": [
    "Add as consumer module:"
   ]
  },
  {
   "cell_type": "code",
   "execution_count": 18,
   "id": "80966274-5a37-4417-851f-45f8a0128b94",
   "metadata": {},
   "outputs": [
    {
     "data": {
      "text/plain": [
       "<mHousehold.StaticConsumer at 0x1bb29f56450>"
      ]
     },
     "execution_count": 18,
     "metadata": {},
     "output_type": "execute_result"
    }
   ],
   "source": [
    "M.addConsumerModule(nest, L2C = db('L2C'), partial = True, mtype = 'StaticConsumer')"
   ]
  },
  {
   "cell_type": "markdown",
   "id": "6205aae9-114f-404d-82c7-a5c888b60b77",
   "metadata": {},
   "source": [
    "### 1.4. Government sector"
   ]
  },
  {
   "cell_type": "markdown",
   "id": "b5a75ea8-e866-45ab-ae64-d45bf3a20c3c",
   "metadata": {},
   "source": [
    "Nesting tree:"
   ]
  },
  {
   "cell_type": "code",
   "execution_count": 19,
   "id": "23ddc599-0aa2-4fe8-a115-df74c2bce71d",
   "metadata": {},
   "outputs": [
    {
     "data": {
      "text/plain": [
       "<gmsPython.nestingTree.nestingTree.AggTree at 0x1bb2c15bf10>"
      ]
     },
     "execution_count": 19,
     "metadata": {},
     "output_type": "execute_result"
    }
   ],
   "source": [
    "cesNest = nestingTree.Tree('G', tree = db('nestG').to_list(), f = 'CES')\n",
    "nest = nestingTree.AggTree(name = 'G', trees = {t.name: t for t in [cesNest]}, ws = ws)\n",
    "nest(namespace = {str(n)+'_input': n for n in db('n')})"
   ]
  },
  {
   "cell_type": "markdown",
   "id": "98806eaf-f232-4867-91b3-b5de985dbd49",
   "metadata": {},
   "source": [
    "Value shares:"
   ]
  },
  {
   "cell_type": "code",
   "execution_count": 20,
   "id": "e07a7b22-2881-455f-8184-1eff6f854842",
   "metadata": {},
   "outputs": [],
   "source": [
    "v = nestedShares_noOutputs(nest, ws = ws)\n",
    "db_vs = v(dbIO)"
   ]
  },
  {
   "cell_type": "markdown",
   "id": "4ed35685-f905-4b3c-aa54-49a93cc8b93b",
   "metadata": {},
   "source": [
    "Add to main database:"
   ]
  },
  {
   "cell_type": "code",
   "execution_count": 21,
   "id": "a207e121-aa6f-43aa-9201-1b60973de0e5",
   "metadata": {},
   "outputs": [],
   "source": [
    "db.aom(db_vs('mu').xs(t0), name = 'mu') \n",
    "db.aom(adj.rc_pd(db_vs('vD'), nest.get('int').union(nest.get('output'))).rename('qD'), name = 'qD', priority = 'first') # specify intermediate goods levels"
   ]
  },
  {
   "cell_type": "markdown",
   "id": "d3d181de-49bf-4767-8b7d-f63c4c106887",
   "metadata": {},
   "source": [
    "Add module:"
   ]
  },
  {
   "cell_type": "code",
   "execution_count": 22,
   "id": "2197dfc3-75c2-425d-a96b-908fbba42efc",
   "metadata": {
    "scrolled": true
   },
   "outputs": [
    {
     "data": {
      "text/plain": [
       "<mGovernment.BalancedBudget at 0x1bb2c510c10>"
      ]
     },
     "execution_count": 22,
     "metadata": {},
     "output_type": "execute_result"
    }
   ],
   "source": [
    "M.addGovernmentModule(nest, L = db('L2C').droplevel('nn').unique())"
   ]
  },
  {
   "cell_type": "markdown",
   "id": "db2aea30-611b-4aa6-a25b-6a826c3ea71a",
   "metadata": {},
   "source": [
    "### 1.5. Simple modules"
   ]
  },
  {
   "cell_type": "markdown",
   "id": "2c8473ce-91a7-41ec-94cd-f6d9544ec629",
   "metadata": {},
   "source": [
    "**Inventory investments** are added. Here, we use a simple AR(1) process (default parameter = 1) as we mostly include this for completeness:"
   ]
  },
  {
   "cell_type": "code",
   "execution_count": 23,
   "id": "2dc4aece-ab81-44ec-b538-7e2c03a1c8c0",
   "metadata": {},
   "outputs": [
    {
     "data": {
      "text/plain": [
       "<mInventory.AR at 0x1bb26093310>"
      ]
     },
     "execution_count": 23,
     "metadata": {},
     "output_type": "execute_result"
    }
   ],
   "source": [
    "M.addInventoryModule('Itory')"
   ]
  },
  {
   "cell_type": "markdown",
   "id": "615e1835-3872-4a53-9f8c-6178f9f21fe1",
   "metadata": {},
   "source": [
    "The **trade module** is a simple Armington module that only requires information already established in the IO database. Specifically, the module draws on the subset ```dExport[s,n]``` to establish what sector, goods combinations are covered by the trade module. If we want to only use this module to cover a subset of this (maybe trade should be modelled in a different way than Armington), we simply pass a new subset to the init method:"
   ]
  },
  {
   "cell_type": "code",
   "execution_count": 24,
   "id": "655535ed-0045-4437-bee7-ad3dbf6042f2",
   "metadata": {},
   "outputs": [
    {
     "data": {
      "text/plain": [
       "<mTrade.Armington at 0x1bb2c082d90>"
      ]
     },
     "execution_count": 24,
     "metadata": {},
     "output_type": "execute_result"
    }
   ],
   "source": [
    "M.addTradeModule('T', partial = True)\n",
    "# M.addTradeModule('T', dExport = db('dExport')[0:2]) # syntax used if we want to specify that the module should only cover part of the full trade IO"
   ]
  },
  {
   "cell_type": "markdown",
   "id": "ec470fd2-1031-429c-a86e-34d36d02b4b1",
   "metadata": {},
   "source": [
    "We use a simple **emissions module** that applies end-of-pipe abatement to each sector. Regulation is simply modelled with exogenous tax rates on CO2 emissions, we do not have any carbon budgets included at the moment:"
   ]
  },
  {
   "cell_type": "code",
   "execution_count": 25,
   "id": "b5bf9fc7-93f0-4fcf-b063-f8cee80e05af",
   "metadata": {},
   "outputs": [
    {
     "data": {
      "text/plain": [
       "<mEmissions.EOP_Simple at 0x1bb2c4bba50>"
      ]
     },
     "execution_count": 25,
     "metadata": {},
     "output_type": "execute_result"
    }
   ],
   "source": [
    "M.addEmissionsModule('M', partial = True)"
   ]
  },
  {
   "cell_type": "markdown",
   "id": "31ab4636-9b90-4efc-8d5d-2a18de898c56",
   "metadata": {},
   "source": [
    "Specify the distributional assumption for the EOP abatement:"
   ]
  },
  {
   "cell_type": "code",
   "execution_count": 26,
   "id": "d50e6b2f-2db1-4e6a-928f-b8cb763be2b1",
   "metadata": {},
   "outputs": [],
   "source": [
    "M.compiler.locals['techType'] = \"'normal'\""
   ]
  },
  {
   "cell_type": "markdown",
   "id": "3de8617d-9227-4696-aace-04c08a93d90d",
   "metadata": {},
   "source": [
    "*Note: We add the equilibrium module later, after we solve for some initial values without these constraints.*"
   ]
  },
  {
   "cell_type": "markdown",
   "id": "edd8a633-2c36-494d-9eba-da03f3b735af",
   "metadata": {},
   "source": [
    "## 2. Small stuff"
   ]
  },
  {
   "cell_type": "markdown",
   "id": "78c43d53-ea71-427b-ad80-2d39bb8fa172",
   "metadata": {},
   "source": [
    "*Clean up database a bit (this is not necessary, but it removes some variables that are not ultimately used in the model):*"
   ]
  },
  {
   "cell_type": "code",
   "execution_count": 27,
   "id": "6f6fc8a9-abcc-4270-923a-f201fab1f9ed",
   "metadata": {},
   "outputs": [],
   "source": [
    "[db.series.__delitem__(k) for k in ('vD','vTax', 'vD_dur','vD_depr','vD_inv', 'vS', 'pD_dur') if k in db.symbols];"
   ]
  },
  {
   "cell_type": "markdown",
   "id": "d259f917-98dc-4970-b192-5e8346a283b8",
   "metadata": {},
   "source": [
    "For variables that are defined over $t$, but where we do not yet have an initial value for all $t$, extrapolate from data:\n",
    "\n",
    "*Note: This forces extrapolation of all variables defined over $t$ - if it is important that some variables are not extrapolated, they should be removed from this statement.*"
   ]
  },
  {
   "cell_type": "code",
   "execution_count": 28,
   "id": "8d590471-bbbf-4f75-9a19-d4d550e2d12a",
   "metadata": {},
   "outputs": [],
   "source": [
    "[symbol.__setattr__('vals', extrapolateUpper(symbol.vals, db('tE')[0])) for symbol in [db[k] for k in db.varDom('t')['t']]];"
   ]
  },
  {
   "cell_type": "markdown",
   "id": "af8c85a0-4608-4d42-a25e-c1de9ff122e5",
   "metadata": {},
   "source": [
    "Merge internally, i.e. write a gdx file from the Python database:"
   ]
  },
  {
   "cell_type": "code",
   "execution_count": 29,
   "id": "cc52f863-0a5b-4eac-999f-9761e95fb127",
   "metadata": {},
   "outputs": [],
   "source": [
    "db.mergeInternal()"
   ]
  },
  {
   "cell_type": "markdown",
   "id": "48560996-ba25-44ee-9ef9-8a9e3ffd91dc",
   "metadata": {},
   "source": [
    "## 3. Solve"
   ]
  },
  {
   "cell_type": "markdown",
   "id": "e900eba4-a7d3-4946-b830-f83bcde9fb50",
   "metadata": {},
   "source": [
    "*Note: when we initialized (some of) the modules, we added  the condition ```partial = True```. This statement allows us to run the modules separately. For instance, the following cell would solve the production module by itself and add the solution to the main database. This can be used as a way of getting good initial values for the model or to run partial equilibrium experiments.*"
   ]
  },
  {
   "cell_type": "markdown",
   "id": "a1fabfb0-f018-45c3-bd90-2117de890f6a",
   "metadata": {},
   "source": [
    "*Example for how to run a module separately and store the result in the main database:*"
   ]
  },
  {
   "cell_type": "code",
   "execution_count": 29,
   "id": "d010fc0a-e52b-4a23-a6f4-c29728efeeab",
   "metadata": {},
   "outputs": [],
   "source": [
    "# m = M.m['P'] # select module to run \n",
    "# soldb = m.jSolve(10, state = 'C', ϕ = .1) # solve calibration model with 10 steps and nonlinear grid (ϕ<1 means that adjustments to jTerms start large and then decrease)\n",
    "# [m.db.aom(soldb[k], name = k) for k in m.groups[f'{m.name}_endo_C'].out]; # for all endogenous variables, add the solution to the main database again \n",
    "# m.db.mergeInternal() # update the gdx with the new solution"
   ]
  },
  {
   "cell_type": "markdown",
   "id": "9e3a07aa-d1b1-4bd1-869b-154ead8d1390",
   "metadata": {},
   "source": [
    "Calibrate the model without equilibrium constraints yet (the jSolve method automatically uses all the modules that we have added so far):"
   ]
  },
  {
   "cell_type": "code",
   "execution_count": 30,
   "id": "c41058bc-647d-487e-b2ab-492eece8831f",
   "metadata": {},
   "outputs": [],
   "source": [
    "soldb = M.jSolve(10, state = 'C', ϕ = .5) # solve calibration model with 10 steps and nonlinear grid (ϕ<1 means that adjustments to jTerms start large and then decrease)"
   ]
  },
  {
   "cell_type": "markdown",
   "id": "eab18184-26c5-4601-8a30-50573c371d7b",
   "metadata": {},
   "source": [
    "This illustrates how far off equilibrium the model is in a given year:"
   ]
  },
  {
   "cell_type": "code",
   "execution_count": 31,
   "id": "b6bf08bb-712b-4e9b-b9e1-00e4008d28ed",
   "metadata": {},
   "outputs": [
    {
     "data": {
      "image/png": "[encoded data removed]",
      "text/plain": [
       "<Figure size 500x300 with 1 Axes>"
      ]
     },
     "metadata": {},
     "output_type": "display_data"
    }
   ],
   "source": [
    "t = 2030\n",
    "supply = adj.rc_pd(soldb('qS'), soldb('d_qS')).groupby(['t','n']).sum()\n",
    "demand = adj.rc_pd(soldb('qD'), soldb('d_qD')).groupby(['t','n']).sum()\n",
    "pd.DataFrame({'Supply': supply.xs(t), 'Demand': demand.xs(t)}).plot.bar(figsize=(5,3));"
   ]
  },
  {
   "cell_type": "markdown",
   "id": "62f0c310-904d-4587-bd70-3cf7905c333c",
   "metadata": {},
   "source": [
    "Write solution to the main database again:"
   ]
  },
  {
   "cell_type": "code",
   "execution_count": 32,
   "id": "bf97671d-5e67-4bd5-8c17-9cb1cef9e662",
   "metadata": {},
   "outputs": [],
   "source": [
    "[M.db.__setitem__(k, soldb[k]) for k in M.db.getTypes(['var']) if k in soldb.symbols]; # use solution database\n",
    "M.db.mergeInternal()"
   ]
  },
  {
   "cell_type": "markdown",
   "id": "eb130485-750a-4aaf-90c6-1c5303993d71",
   "metadata": {},
   "source": [
    "Add equilibrium module and calibrate:"
   ]
  },
  {
   "cell_type": "code",
   "execution_count": 33,
   "id": "c3bdf4c7-fb32-447d-94fe-0e418b482716",
   "metadata": {},
   "outputs": [],
   "source": [
    "M.addEquilibriumModule('Equi')\n",
    "fullSol = M.solve(state = 'C')"
   ]
  },
  {
   "cell_type": "markdown",
   "id": "38a4ad0b-d136-412e-8556-2fd98204c904",
   "metadata": {},
   "source": [
    "Add full solution to baseline model database:"
   ]
  },
  {
   "cell_type": "code",
   "execution_count": 34,
   "id": "337abcc6-1483-40f3-ae9b-0732144b8403",
   "metadata": {},
   "outputs": [],
   "source": [
    "[M.db.__setitem__(k, fullSol[k]) for k in M.db.getTypes(['var']) if k in fullSol.symbols]; # use solution database\n",
    "M.db.mergeInternal()"
   ]
  },
  {
   "cell_type": "markdown",
   "id": "559c2685-12ef-4db4-9201-13ef3a52d5e0",
   "metadata": {},
   "source": [
    "## 4. Save/export"
   ]
  },
  {
   "cell_type": "code",
   "execution_count": 35,
   "id": "1bf76245-e195-4c50-8f60-94ba0c22e40b",
   "metadata": {},
   "outputs": [],
   "source": [
    "M.db.data_folder = d['data']"
   ]
  },
  {
   "cell_type": "markdown",
   "id": "e803d171-bbca-4db3-adb1-405cae822dc6",
   "metadata": {},
   "source": [
    "We can save/export the model in a few different ways:\n",
    "1. Save model instance: The model class ```Model``` (parent class of the CGE class) is pickleable, meaning that we can save/load the class with Python's ```pickle``` class.\n",
    "2. Store solution: It takes no time to re-initialize the ```Model``` class, so we can also simply store the solution database and - when needed - initialize the model class again.\n",
    "3. Store GAMS code and solution: This option allows us to remove the model from the python class ```Model``` and instead treat it as a conventional GAMS program."
   ]
  },
  {
   "cell_type": "markdown",
   "id": "882065d2-8524-4caa-adac-9b86823588fb",
   "metadata": {},
   "source": [
    "*Store model instance or database with pickle:*"
   ]
  },
  {
   "cell_type": "code",
   "execution_count": 36,
   "id": "136163ba-3b41-4532-8dda-b82589dd64cc",
   "metadata": {},
   "outputs": [],
   "source": [
    "M.export(repo = M.data_folder, name = M.name) # store the entire class - these are the default options by the way \n",
    "M.db.export(repo = M.db.data_folder, name = M.db.name) # store the solution database"
   ]
  },
  {
   "cell_type": "markdown",
   "id": "83550edc-1b9b-4884-943b-74c0ea6c947e",
   "metadata": {},
   "source": [
    "*Export gams code and accompanying gdx file:*"
   ]
  },
  {
   "cell_type": "code",
   "execution_count": 37,
   "id": "7230a207-75b7-49d7-87b8-ff0258ec2f64",
   "metadata": {},
   "outputs": [],
   "source": [
    "baselineText = M.write(state = 'B') # store text so we can export it for later\n",
    "text_gamY    = M.write_gamY(state = 'B') # store gamY text"
   ]
  },
  {
   "cell_type": "code",
   "execution_count": 38,
   "id": "a32f33b3-2d1c-4185-b30c-24e03ccbabec",
   "metadata": {},
   "outputs": [],
   "source": [
    "with open(os.path.join(d['gams'], f'{M.name}.gms'), \"w\") as file:\n",
    "    file.write(baselineText)\n",
    "with open(os.path.join(d['gams'], f'{M.name}.gmy'), \"w\") as file:\n",
    "    file.write(text_gamY)\n",
    "M.db.database.export(os.path.join(M.db.data_folder, M.db.name))"
   ]
  }
 ],
 "metadata": {
  "kernelspec": {
   "display_name": "Python 3 (ipykernel)",
   "language": "python",
   "name": "python3"
  },
  "language_info": {
   "codemirror_mode": {
    "name": "ipython",
    "version": 3
   },
   "file_extension": ".py",
   "mimetype": "text/x-python",
   "name": "python",
   "nbconvert_exporter": "python",
   "pygments_lexer": "ipython3",
   "version": "3.11.8"
  }
 },
 "nbformat": 4,
 "nbformat_minor": 5
}
