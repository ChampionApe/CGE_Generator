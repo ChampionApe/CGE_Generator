{
 "cells": [
  {
   "cell_type": "code",
   "execution_count": 1,
   "id": "519f0eb6-fbd4-4dcf-843d-e987135479dd",
   "metadata": {},
   "outputs": [
    {
     "name": "stdout",
     "output_type": "stream",
     "text": [
      "The file _gams_py_gdb0.gdx is still active and was not deleted.\n",
      "The file _gams_py_gdb1.gdx is still active and was not deleted.\n",
      "The file _gams_py_gdb2.gdx is still active and was not deleted.\n"
     ]
    }
   ],
   "source": [
    "clean_up = True # if True, remove all gams related files from working folder before starting\n",
    "%run stdPackages.ipynb\n",
    "os.chdir(d['py'])\n",
    "from gmsPython import nestingTree\n",
    "from valueShares import nestedShares_noOutputs\n",
    "from mGovernment import BalancedBudget"
   ]
  },
  {
   "cell_type": "markdown",
   "id": "1e5d9037-f3ad-41d2-adb4-b097b8d9025a",
   "metadata": {},
   "source": [
    "# Government module"
   ]
  },
  {
   "cell_type": "markdown",
   "id": "d5ce8614-f5b1-47fe-860f-d7701b560130",
   "metadata": {},
   "source": [
    "The government module consists of two parts: First, they produce government services by combining inputs from domestic and foreign domestic sectors. This part is described (almost) as a typical production with a CES nesting. Second, they manage the budget.\n",
    "\n",
    "In this version, we assume that the level of government services remain constant over time and that the budget is balanced every year by adjusting the tax on labor income. As the \n",
    "tax on labor income is defined in the household module, this does not work as a partial equilibrium model.\n",
    "\n",
    "Causality in balanced budget part:\n",
    "* The tax rate on labor income in the baseline year is *exogenous* when calibrating. Because of incomplete information about assets, debt - and because we only have a couple of tax instruments included in the model, we model a \"balanced budget\" by endogenizing a \"jTerm\" variable and let this be the target \"balance\" for each year.\n",
    "* The total tax revenue collected from the government sector is targeted like in the production sectors by adjusting all demand taxes up/down proportionally until we reach the correct level.\n",
    "* The demand for inputs from production sectors is matched by adjusting share parameters in CES nests."
   ]
  },
  {
   "cell_type": "markdown",
   "id": "70c9d56d-474e-46f3-8a19-cf5bd0ff8eac",
   "metadata": {},
   "source": [
    "*Load data:*"
   ]
  },
  {
   "cell_type": "code",
   "execution_count": 2,
   "id": "6b8e3001-a63b-4470-a2d0-15f2e48c12c2",
   "metadata": {},
   "outputs": [],
   "source": [
    "t0 = 2019 # set baseline year\n",
    "name = 'vA' # specify name of the CGE version we are currently working on\n",
    "db = GpyDB(os.path.join(d['data'], f'{name}_{t0}')) # Load \n",
    "ws = db.ws # run everything from the same ws"
   ]
  },
  {
   "cell_type": "markdown",
   "id": "65f911c4-8b7c-4f24-a1f3-70a4a3fe800f",
   "metadata": {},
   "source": [
    "## 1. Nesting tree and value shares"
   ]
  },
  {
   "cell_type": "markdown",
   "id": "4d432300-f741-4c03-a68a-bf7b034a8f80",
   "metadata": {},
   "source": [
    "Nesting tree:"
   ]
  },
  {
   "cell_type": "code",
   "execution_count": 3,
   "id": "98f479b2-cba1-43e3-ac3c-774daa0c41c6",
   "metadata": {},
   "outputs": [
    {
     "data": {
      "text/plain": [
       "<gmsPython.nestingTree.nestingTree.AggTree at 0x1ac835b09d0>"
      ]
     },
     "execution_count": 3,
     "metadata": {},
     "output_type": "execute_result"
    }
   ],
   "source": [
    "cesNest = nestingTree.Tree('G', tree = db('nestG').to_list(), f = 'CES')\n",
    "nest = nestingTree.AggTree(name = 'G', trees = {t.name: t for t in [cesNest]}, ws = ws)\n",
    "nest(namespace = {str(n)+'_input': n for n in db('n')})"
   ]
  },
  {
   "cell_type": "markdown",
   "id": "8bd2f681-cf00-4cca-a426-b4e0c1e7d6d9",
   "metadata": {},
   "source": [
    "Value shares:"
   ]
  },
  {
   "cell_type": "code",
   "execution_count": 4,
   "id": "6186c6e2-d573-44d9-85e5-e5b725cff75c",
   "metadata": {},
   "outputs": [],
   "source": [
    "v = nestedShares_noOutputs(nest, ws = ws)\n",
    "db_vs = v(db)"
   ]
  },
  {
   "cell_type": "markdown",
   "id": "8338644f-55ae-4330-8156-6f3a03fe224f",
   "metadata": {},
   "source": [
    "We are particularly interested in the $\\mu$ variable and value of intermediate goods (to get better initial values):"
   ]
  },
  {
   "cell_type": "code",
   "execution_count": 5,
   "id": "9fae69cb-1acb-454d-9801-c47fb76aa6ac",
   "metadata": {},
   "outputs": [],
   "source": [
    "db['mu'] = db_vs('mu').xs(t0) \n",
    "db.aom(adj.rc_pd(db_vs('vD'), nest.get('int').union(nest.get('output'))).rename('qD'), name = 'qD', priority = 'first') # specify intermediate goods levels"
   ]
  },
  {
   "cell_type": "markdown",
   "id": "02bd6c0b-611e-4a7e-8f36-6065423176cb",
   "metadata": {},
   "source": [
    "## 2. Partial Equilibirum Model"
   ]
  },
  {
   "cell_type": "markdown",
   "id": "180c7c8a-76c4-4fe5-9d81-b61542584a1e",
   "metadata": {},
   "source": [
    "Only keep household sectors, extrapolate data for initial values:"
   ]
  },
  {
   "cell_type": "markdown",
   "id": "ebe8707c-d3f2-468d-bafe-79d9fe767512",
   "metadata": {},
   "source": [
    "Initialize module from nesting tree and add the mapping from labor supply to the consumption aggregate:"
   ]
  },
  {
   "cell_type": "code",
   "execution_count": 7,
   "id": "69588a13-c6f4-4911-b0c3-629448094c8e",
   "metadata": {},
   "outputs": [],
   "source": [
    "m = BalancedBudget(nest, L = db('L2C').droplevel('nn').unique())\n",
    "# m.initStuff(db = db)"
   ]
  }
 ],
 "metadata": {
  "kernelspec": {
   "display_name": "Python 3 (ipykernel)",
   "language": "python",
   "name": "python3"
  },
  "language_info": {
   "codemirror_mode": {
    "name": "ipython",
    "version": 3
   },
   "file_extension": ".py",
   "mimetype": "text/x-python",
   "name": "python",
   "nbconvert_exporter": "python",
   "pygments_lexer": "ipython3",
   "version": "3.11.8"
  }
 },
 "nbformat": 4,
 "nbformat_minor": 5
}
