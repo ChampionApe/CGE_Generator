{
 "cells": [
  {
   "cell_type": "code",
   "execution_count": 1,
   "id": "51011270-a55f-4084-86eb-69e598172a03",
   "metadata": {
    "scrolled": true
   },
   "outputs": [
    {
     "name": "stdout",
     "output_type": "stream",
     "text": [
      "No clean-up of work-folder\n"
     ]
    }
   ],
   "source": [
    "%run stdPackages.ipynb\n",
    "os.chdir(d['py'])\n",
    "from modelData import *\n",
    "from gmsPython import nestingTree\n",
    "from adjustIO import AdjustIO, CreateIOTargets"
   ]
  },
  {
   "cell_type": "markdown",
   "id": "925c3c8c-5a4b-43bb-8576-d273c28ea33c",
   "metadata": {},
   "source": [
    "# Create Model Data"
   ]
  },
  {
   "cell_type": "markdown",
   "id": "1143f035-bb12-445d-b3c9-8b4d5692dd08",
   "metadata": {},
   "source": [
    "## 0. Preliminaries"
   ]
  },
  {
   "cell_type": "markdown",
   "id": "cbcc1f16-63c3-4852-8d72-dfee9a3a4320",
   "metadata": {},
   "source": [
    "*Define main settings:*"
   ]
  },
  {
   "cell_type": "code",
   "execution_count": 2,
   "id": "643846b6-a168-4d36-b53a-8cb924fdb359",
   "metadata": {},
   "outputs": [],
   "source": [
    "t0 = 2019\n",
    "T  = t0 + 100 # set finite time horizon\n",
    "name = 'vSmall' # Some global name that carries through all models/data to identify this version"
   ]
  },
  {
   "cell_type": "markdown",
   "id": "75a281fa-57f7-425e-bbce-f9f0f6a980d8",
   "metadata": {},
   "source": [
    "*This creates a copy of the IO data from the ```IOdata``` project into the local data folder*"
   ]
  },
  {
   "cell_type": "code",
   "execution_count": 3,
   "id": "cb9b2725-e98d-4027-a3d2-391b84ccecae",
   "metadata": {},
   "outputs": [
    {
     "data": {
      "text/plain": [
       "'C:\\\\Users\\\\sxj477\\\\Documents\\\\GitHub\\\\CGE_Generator\\\\projects\\\\WasteCGE\\\\data\\\\IO2019_WCGE'"
      ]
     },
     "execution_count": 3,
     "metadata": {},
     "output_type": "execute_result"
    }
   ],
   "source": [
    "ioName = f'IO{t0}_WCGE'\n",
    "f_IOdata = os.path.join(d['project'], 'IOdata','data','processedData', ioName)\n",
    "shutil.copy(f_IOdata, os.path.join(d['data'], ioName))"
   ]
  },
  {
   "cell_type": "markdown",
   "id": "9c1b4d60-602c-409b-8327-649a2c23345c",
   "metadata": {},
   "source": [
    "*Load data:*"
   ]
  },
  {
   "cell_type": "code",
   "execution_count": 4,
   "id": "4cc1c8a2-fd91-4668-b722-ee59de037504",
   "metadata": {},
   "outputs": [],
   "source": [
    "db = GpyDB(os.path.join(d['data'], ioName), name = f'{name}{t0}_db', ws = d['work'])"
   ]
  },
  {
   "cell_type": "markdown",
   "id": "b6f3ec25-6ff3-4a48-9053-edca8d1f96a1",
   "metadata": {},
   "source": [
    "*For relevant variables, add yearly index to data (this is currently all of them). Remove data prior to t0 as well:*"
   ]
  },
  {
   "cell_type": "code",
   "execution_count": 5,
   "id": "3b437f12-04b9-43a9-8e71-476c38bf31ec",
   "metadata": {},
   "outputs": [],
   "source": [
    "AggDB.subsetDB(db, db('t')[db('t')>=t0]) \n",
    "def add_t0(k):\n",
    "    k.index = stdSort(pd.MultiIndex.from_frame(k.index.to_frame(index=False).assign(t = t0)))\n",
    "[add_t0(db(k)) for k in db.getTypes(['var','par'])];"
   ]
  },
  {
   "cell_type": "markdown",
   "id": "9e8c97d5-1963-4b26-ab18-d8d3cfca40cb",
   "metadata": {},
   "source": [
    "*Add various time subsets that we'll rely on:*"
   ]
  },
  {
   "cell_type": "code",
   "execution_count": 6,
   "id": "b0dcad79-426b-42c2-856c-50f73d5e2749",
   "metadata": {},
   "outputs": [],
   "source": [
    "addTimeToDB(t0, T, db)"
   ]
  },
  {
   "cell_type": "markdown",
   "id": "53faf2c5-a63c-49a0-a9c8-eb69dad65fac",
   "metadata": {},
   "source": [
    "*Remove time index from some dummies:*"
   ]
  },
  {
   "cell_type": "code",
   "execution_count": 7,
   "id": "28453db3-24c2-42b6-ae65-dfb4780b20d3",
   "metadata": {},
   "outputs": [],
   "source": [
    "dummiesWithT = db.varDom('t', types = ['subset','map'])['t']\n",
    "[db.__setitem__(k, db(k).droplevel('t').unique()) for k in ('nEqui','d_qS','d_qD','d_qSEqui', 'dExport','dImport','dImport_dom','dImport_for') if k in dummiesWithT];"
   ]
  },
  {
   "cell_type": "markdown",
   "id": "207d3f09-18c2-4480-9793-0050df2bf78c",
   "metadata": {},
   "source": [
    "## 2. Production module"
   ]
  },
  {
   "cell_type": "markdown",
   "id": "175e21b1-93d1-4367-8873-759a2ffe3642",
   "metadata": {},
   "source": [
    "### 2.1. Nesting structure"
   ]
  },
  {
   "cell_type": "markdown",
   "id": "5c48190c-9c23-41fb-84aa-fcb073ddc068",
   "metadata": {},
   "source": [
    "General nesting (except materials split):"
   ]
  },
  {
   "cell_type": "code",
   "execution_count": 8,
   "id": "f95f89c3-c1c1-4cdf-89de-16aed57e3dd2",
   "metadata": {},
   "outputs": [],
   "source": [
    "mu = pd.MultiIndex.from_tuples([('KELM','RxE'),('KELM','KEL'),\n",
    "                                ('KEL','L'), ('KEL','KE'),\n",
    "                                ('KE','K'), ('KE','E'),\n",
    "                                ('E','Energy'),('E','Energy_F'),\n",
    "                                ('RxE', 'ZY')], names = ['n','nn'])"
   ]
  },
  {
   "cell_type": "markdown",
   "id": "43e66031-ec76-4562-b353-0d40e138266d",
   "metadata": {},
   "source": [
    "Sector materials ```ZY``` are then split into (potentially) combination of all IO sectors' outputs (except the energy sector). Each of these are then (potentially) split into foreign and domestic components:"
   ]
  },
  {
   "cell_type": "code",
   "execution_count": 9,
   "id": "e311a36f-3e13-4d68-9113-48f37cfb1493",
   "metadata": {},
   "outputs": [],
   "source": [
    "ns = db('n_p').difference(pd.Index(['Energy'], name = 'n'))\n",
    "mZY = pd.MultiIndex.from_product([['ZY'], 'RxE_'+ns], names = ['n','nn'])\n",
    "mZYD = pd.MultiIndex.from_arrays([mZY.levels[-1], ns], names = ['n','nn'])\n",
    "mZYF = pd.MultiIndex.from_arrays([mZY.levels[-1], ns+'_F'], names = ['n','nn'])"
   ]
  },
  {
   "cell_type": "markdown",
   "id": "5728007b-4ff3-45b7-bc6e-1ff8b6fa4f26",
   "metadata": {},
   "source": [
    "Collect in one map and add full sector index to begin with:"
   ]
  },
  {
   "cell_type": "code",
   "execution_count": 10,
   "id": "2dd6af4b-6c8d-482b-aed1-746ea88d4ad0",
   "metadata": {},
   "outputs": [],
   "source": [
    "mFull = reduce(pd.Index.union, [mu, mZY, mZYD, mZYF])\n",
    "m = pyDatabases.cartesianProductIndex([db('s_p'), mFull])"
   ]
  },
  {
   "cell_type": "markdown",
   "id": "fbd80acd-ae6f-41be-b92d-3cc8ffdc43d3",
   "metadata": {},
   "source": [
    "Next, we \"trim\" the nesting tree - i.e. we remove redundant nests. \n",
    "\n",
    "*NB: This only works with pure \"input trees\". Also, it does not remove redundant intermediate nests. We should add that if a knot only has one node, we should replace the knot with node in both n and nn.*"
   ]
  },
  {
   "cell_type": "code",
   "execution_count": 11,
   "id": "3969c89d-f561-408a-be3b-0e1f8161aaa7",
   "metadata": {},
   "outputs": [],
   "source": [
    "sparsity = adj.rc_pd(db('vD')[db('vD')!=0], db('s_p')).droplevel('t').index\n",
    "m = nestingTree.trimNestingStructure(m, sparsity)"
   ]
  },
  {
   "cell_type": "markdown",
   "id": "34bc9e0f-5866-4ea2-84ce-1d0cf4d87a6e",
   "metadata": {},
   "source": [
    "Now, identify the domestic goods that could potential also be part of the output structure and add a temporary '_input' to the names:"
   ]
  },
  {
   "cell_type": "code",
   "execution_count": 12,
   "id": "e72f3fb3-d9a5-4de4-9fd7-7e3c01bdc047",
   "metadata": {},
   "outputs": [],
   "source": [
    "n = db('n_p').rename('nn')\n",
    "mInp = pd.MultiIndex.from_arrays([n, (n+'_input').rename('ntemp')])\n",
    "m = adj.rc_pd(m, ('not', n)).union(adjMultiIndex.applyMult(m, mInp).droplevel('nn').rename(['s','n','nn']))"
   ]
  },
  {
   "cell_type": "markdown",
   "id": "9e675552-508b-4251-9153-efe7d0c1f056",
   "metadata": {},
   "source": [
    "Replace \"KELM\" with sector output:"
   ]
  },
  {
   "cell_type": "code",
   "execution_count": 13,
   "id": "7957e055-09be-4c3b-9ca7-ce8f842564cc",
   "metadata": {},
   "outputs": [],
   "source": [
    "df = m.to_frame(index=False)\n",
    "df.loc[df.n == 'KELM','n'] = df.loc[df.n == 'KELM', 's']\n",
    "m = pd.MultiIndex.from_frame(df)"
   ]
  },
  {
   "cell_type": "markdown",
   "id": "b0e2bb33-4334-491e-ac07-982bfb50be36",
   "metadata": {},
   "source": [
    "Save nesting tree:"
   ]
  },
  {
   "cell_type": "code",
   "execution_count": 14,
   "id": "558160a7-082e-4365-9bf3-fd7d1d9712cd",
   "metadata": {},
   "outputs": [],
   "source": [
    "db['nestProdInp'] = m"
   ]
  },
  {
   "cell_type": "markdown",
   "id": "10b3cf26-8407-41a6-b7f8-5fa2dfcd94ee",
   "metadata": {},
   "source": [
    "### 2.2. Elasticities"
   ]
  },
  {
   "cell_type": "markdown",
   "id": "2ba41653-a90e-42a4-a88f-02b8aeac59b6",
   "metadata": {},
   "source": [
    "Here, we assign generic elasticities depending on the placement in the nesting. Generally, we let elasticity of substitution be fairly high between domestic/foreign and waste/virgin materials. Across different types of materials, we use a fairly low elasticity."
   ]
  },
  {
   "cell_type": "markdown",
   "id": "2aacc753-3022-4ba8-8b43-73cbffa452e4",
   "metadata": {},
   "source": [
    "*CES elasticities, non-materials:*"
   ]
  },
  {
   "cell_type": "code",
   "execution_count": 15,
   "id": "2cf64c00-c87b-451c-8233-a931c68a6109",
   "metadata": {},
   "outputs": [],
   "source": [
    "sigmaKELM = pd.Series(0.5, index  = m[m.get_level_values('n')=='KELM'].droplevel('nn').unique(), name = 'sigma')\n",
    "sigmaKEL = pd.Series(0.5, index  = m[m.get_level_values('n')=='KEL'].droplevel('nn').unique(), name = 'sigma')\n",
    "sigmaKE = pd.Series(0.6, index = m[m.get_level_values('n') == 'KE'].droplevel('nn').unique(), name = 'sigma')\n",
    "sigmaE = pd.Series(2, index  = m[m.get_level_values('n')=='E'].droplevel('nn').unique(), name = 'sigma')"
   ]
  },
  {
   "cell_type": "markdown",
   "id": "2d8e9fe6-ddee-4059-8167-f7132f2eadac",
   "metadata": {},
   "source": [
    "*CES materials:*"
   ]
  },
  {
   "cell_type": "code",
   "execution_count": 16,
   "id": "81cd3f43-78cc-4a4b-9844-ffeedc56acdf",
   "metadata": {},
   "outputs": [],
   "source": [
    "sigmaRxE = pd.Series(0.1, index = m[m.get_level_values('n')=='RxE'].droplevel('nn').unique(), name = 'sigma')\n",
    "sigmaZY = pd.Series(0.1, index = m[m.get_level_values('n')=='ZY'].droplevel('nn').unique(), name = 'sigma')\n",
    "sigmaZYym = pd.Series(2, index = m[m.get_level_values('n').isin('RxE_'+ns)].droplevel('nn').unique(), name = 'sigma')"
   ]
  },
  {
   "cell_type": "markdown",
   "id": "adfefc7e-22df-4d7b-b536-df04b2354861",
   "metadata": {},
   "source": [
    "Add to database:"
   ]
  },
  {
   "cell_type": "code",
   "execution_count": 17,
   "id": "a11de9ac-5a2d-40c0-b914-aed8735c5a6d",
   "metadata": {
    "tags": []
   },
   "outputs": [],
   "source": [
    "sigma = pd.concat([sigmaKELM, sigmaKEL, sigmaKE, sigmaE, sigmaRxE, sigmaZY, sigmaZYym], axis = 0 )\n",
    "db.aom(sigma, name = 'sigma') # elasticity of substitution"
   ]
  },
  {
   "cell_type": "markdown",
   "id": "f0207955-e652-4c23-a9e0-62ef3f5306bf",
   "metadata": {},
   "source": [
    "### 2.3. Regulation and emissions"
   ]
  },
  {
   "cell_type": "markdown",
   "id": "be1d33b9-e727-4d24-b49a-c6bd57e46d4a",
   "metadata": {},
   "source": [
    "Define output and input shares in values. Map CO2 emissions to output shares:"
   ]
  },
  {
   "cell_type": "code",
   "execution_count": 18,
   "id": "cb7edbae-b406-409c-889f-0cc528b3558c",
   "metadata": {},
   "outputs": [],
   "source": [
    "output = adj.rc_pd(db('vS'), db('s_p'))\n",
    "inputs = adj.rc_pd(db('vD'), ('and', [db('s_p'), ('not', db('dur_p'))]))\n",
    "outShares = output/pyDatabases.pdSum(output, 'n') # output shares\n",
    "db['qCO2'] = db('qCO2') * outShares # overwrite qCO2 to be split into potentially multiple outputs from each sector"
   ]
  },
  {
   "cell_type": "markdown",
   "id": "785ad0f4-cf2b-4e83-9dcf-69546d9e6670",
   "metadata": {},
   "source": [
    "Define tax rate on emissions energy and environmental taxes. Broadcast sector-average rate onto all outputs with CO2 emissions:"
   ]
  },
  {
   "cell_type": "code",
   "execution_count": 19,
   "id": "41e566b9-d3eb-41dd-9127-333629b66995",
   "metadata": {},
   "outputs": [],
   "source": [
    "db['tauCO2'] = adjMultiIndex.bc(db('vTax').xs('Emissions',level='taxTypes') / pyDatabases.pdSum(db('qCO2'), 'n'), db('qCO2'))\n",
    "db['dtauCO2'] = db('tauCO2').index.droplevel('t').unique()\n",
    "db['dqCO2'] = db('qCO2').index.droplevel('t').unique()"
   ]
  },
  {
   "cell_type": "markdown",
   "id": "f43271e9-5229-4314-a712-14e11202931f",
   "metadata": {},
   "source": [
    "Add the rest of the taxes to a sector-specific lump sum tax and set VAT inputs/output taxes to zero:"
   ]
  },
  {
   "cell_type": "code",
   "execution_count": 20,
   "id": "6a2c13c8-7810-4faa-8f66-4a486cc9bcb3",
   "metadata": {},
   "outputs": [],
   "source": [
    "db.aom(adj.rc_pd(db('TotalTax'), db['s_p'])-db('vTax').xs('Emissions',level='taxTypes'), name = 'tauLump')\n",
    "db.aom(pd.Series(0, index = output.index), name = 'tauS')\n",
    "db.aom(pd.Series(0, index = inputs.index), name = 'tauD')"
   ]
  },
  {
   "cell_type": "markdown",
   "id": "b2c2d93c-5f5b-4278-a526-a1b993fdc6b8",
   "metadata": {},
   "source": [
    "Define sector-specific prices given regulation:"
   ]
  },
  {
   "cell_type": "code",
   "execution_count": 21,
   "id": "aac04feb-48bc-4ea4-8b8e-5a41f3e9db9d",
   "metadata": {},
   "outputs": [],
   "source": [
    "db.aom(stdSort(adj.rc_pd((1+db('tauD'))*db('p'), inputs)), name = 'pD')"
   ]
  },
  {
   "cell_type": "markdown",
   "id": "819a67b4-8f45-4a2f-88c7-d2c82de47a33",
   "metadata": {},
   "source": [
    "## 2. Investment module"
   ]
  },
  {
   "cell_type": "markdown",
   "id": "200bce49-a31b-4aae-8bd2-1d5672124d45",
   "metadata": {},
   "source": [
    "### 2.1. Nesting structure"
   ]
  },
  {
   "cell_type": "markdown",
   "id": "9e62b8f1-d55a-43e8-a500-0f2214de0268",
   "metadata": {},
   "source": [
    "The investment module currently only includes \"IO goods\" from production sectors. As with the production module, we construct this by setting up a \"full\" nesting tree and then trimming it afterwards:"
   ]
  },
  {
   "cell_type": "code",
   "execution_count": 22,
   "id": "fb86aeff-d8be-4e43-9feb-6142e34df625",
   "metadata": {},
   "outputs": [],
   "source": [
    "mIY = pd.MultiIndex.from_product([['Y'], 'M_'+db('n_p')], names = ['n','nn']) # from top nest to material aggregates\n",
    "mIYD = pd.MultiIndex.from_arrays([mIY.levels[-1], mIY.levels[-1].str.slice(2)], names = ['n','nn']) # from materials to domestic inputs \n",
    "mIYF = pd.MultiIndex.from_arrays([mIY.levels[-1], mIY.levels[-1].str.slice(2)+'_F'], names = ['n','nn']) # from materials to foreign inputs"
   ]
  },
  {
   "cell_type": "markdown",
   "id": "37831fdd-7e5a-4bca-b9c4-61f5a105c544",
   "metadata": {},
   "source": [
    "Collect in one map and add sector index:"
   ]
  },
  {
   "cell_type": "code",
   "execution_count": 23,
   "id": "f30f0d03-479a-4284-9eb7-3ae14c86be22",
   "metadata": {},
   "outputs": [],
   "source": [
    "mIFull = reduce(pd.Index.union, [mIY, mIYD, mIYF])\n",
    "mI = pyDatabases.cartesianProductIndex([db('s_i'), mIFull])"
   ]
  },
  {
   "cell_type": "markdown",
   "id": "ed8c8beb-788a-4831-bd6d-86efa047dce1",
   "metadata": {},
   "source": [
    "Replace \"Y\" with sector output:"
   ]
  },
  {
   "cell_type": "code",
   "execution_count": 24,
   "id": "9ed8f699-700a-4914-9d31-df435af67567",
   "metadata": {},
   "outputs": [],
   "source": [
    "df = mI.to_frame(index=False)\n",
    "df.loc[df.n == 'Y','n'] = df.loc[df.n == 'Y', 's']\n",
    "mI = pd.MultiIndex.from_frame(df)"
   ]
  },
  {
   "cell_type": "markdown",
   "id": "8d517511-94c7-499e-9702-a36be245b293",
   "metadata": {},
   "source": [
    "Trim nesting tree:"
   ]
  },
  {
   "cell_type": "code",
   "execution_count": 25,
   "id": "5d6b071b-faaf-4694-b796-96e1f1789167",
   "metadata": {},
   "outputs": [],
   "source": [
    "sparsity = adj.rc_pd(db('vD')[db('vD')!=0], db('s_i')).droplevel('t').index\n",
    "mI = nestingTree.trimNestingStructure(mI, sparsity)"
   ]
  },
  {
   "cell_type": "markdown",
   "id": "9b922f21-29a2-4d8d-879d-036545da8793",
   "metadata": {},
   "source": [
    "Add nesting structure:"
   ]
  },
  {
   "cell_type": "code",
   "execution_count": 26,
   "id": "048d7af9-bc46-4077-8952-bb219ab367ad",
   "metadata": {},
   "outputs": [],
   "source": [
    "db['nestInvestment'] = mI"
   ]
  },
  {
   "cell_type": "markdown",
   "id": "928ff56c-7c93-43ac-be4e-394e80a2e581",
   "metadata": {},
   "source": [
    "### 2.2: Elasticities:"
   ]
  },
  {
   "cell_type": "markdown",
   "id": "31cb7129-0e7b-4181-923b-c75cb2910e8c",
   "metadata": {},
   "source": [
    "Relative low elasticities between sector product types, more substitution between domestic/foreign splits:"
   ]
  },
  {
   "cell_type": "code",
   "execution_count": 27,
   "id": "9993dbb0-0a03-46fe-b6e7-723c65861eb0",
   "metadata": {},
   "outputs": [],
   "source": [
    "sigmaIY = pd.Series(0.5, index = mI[mI.get_level_values('n').isin(db('s_i').rename('n'))].droplevel('nn').unique(), name = 'sigma')\n",
    "sigmaIM = pd.Series(2, index = mI[mI.get_level_values('n').isin('M_'+db('n_p'))].droplevel('nn').unique(), name = 'sigma')\n",
    "sigmaI = pd.concat([sigmaIY, sigmaIM], axis = 0)\n",
    "db.aom(sigmaI, name = 'sigma')"
   ]
  },
  {
   "cell_type": "markdown",
   "id": "b5e29481-4e2c-44bb-a3d9-003a80d8e1ff",
   "metadata": {},
   "source": [
    "### 2.3. Regulation:"
   ]
  },
  {
   "cell_type": "markdown",
   "id": "8b2919d0-f17b-4a54-80ca-7dcf7152feee",
   "metadata": {},
   "source": [
    "The investment sector does not itself emit emissions; however, investments are still tied to emissions through this sectors' reliance on inputs from other sectors (that are emission intensive)."
   ]
  },
  {
   "cell_type": "code",
   "execution_count": 28,
   "id": "b518855d-e8d6-401d-bb52-2dc7ddf296bc",
   "metadata": {},
   "outputs": [],
   "source": [
    "output = adj.rc_pd(db['vS'], db['s_i']) # output\n",
    "inputs = adj.rc_pd(db['vD'], db['s_i']) # inputs\n",
    "outShares = output/pyDatabases.pdSum(output, 'n') # output shares"
   ]
  },
  {
   "cell_type": "markdown",
   "id": "0e8ea9de-aae4-4d19-a9ff-bf0a623639d7",
   "metadata": {},
   "source": [
    "The rest of the regulation is straightforward; we assume that all taxes are paid on output:"
   ]
  },
  {
   "cell_type": "code",
   "execution_count": 29,
   "id": "5e7a42e9-e3b6-4218-86f2-fbec3b39434c",
   "metadata": {},
   "outputs": [],
   "source": [
    "db.aom(outShares * adj.rc_pd(db('TotalTax'), db['s_i'])/output, name = 'tauS')\n",
    "db.aom(adj.rc_pd(db('TotalTax'), db['s_i'])*0, name = 'tauLump')\n",
    "db.aom(pd.Series(0, index = inputs.index), name = 'tauD')"
   ]
  },
  {
   "cell_type": "markdown",
   "id": "17a64f1a-5b5b-4f06-9fbc-df4c2ef65431",
   "metadata": {},
   "source": [
    "Define sector-specific prices given regulation:"
   ]
  },
  {
   "cell_type": "code",
   "execution_count": 30,
   "id": "a62e44fa-66c4-49d4-9f2c-a1600dfcf678",
   "metadata": {},
   "outputs": [],
   "source": [
    "db.aom(stdSort(adj.rc_pd((1+db('tauD'))*db('p'), inputs)), name = 'pD')"
   ]
  },
  {
   "cell_type": "markdown",
   "id": "c561e779-eb26-4dcf-a832-702584d0cece",
   "metadata": {},
   "source": [
    "## 3. Households"
   ]
  },
  {
   "cell_type": "markdown",
   "id": "80c562d0-7ad2-48a4-9021-1fba9d8b0eca",
   "metadata": {},
   "source": [
    "### 3.1. Nesting structure"
   ]
  },
  {
   "cell_type": "markdown",
   "id": "2ccd7a7a-717b-4d43-aa16-df669cc6bd5c",
   "metadata": {},
   "source": [
    "The investment module currently only includes \"IO goods\" from production sectors. As with the production module, we construct this by setting up a \"full\" nesting tree and then trimming it afterwards:"
   ]
  },
  {
   "cell_type": "code",
   "execution_count": 31,
   "id": "695d76b3-f501-4691-9374-96b722eaf463",
   "metadata": {},
   "outputs": [],
   "source": [
    "mCY = pd.MultiIndex.from_product([['C'], 'C_'+db('n_p')], names = ['n','nn']) # from top nest to material aggregates\n",
    "mCYD = pd.MultiIndex.from_arrays([mCY.levels[-1], mCY.levels[-1].str.slice(2)], names = ['n','nn']) # from materials to domestic inputs \n",
    "mCYF = pd.MultiIndex.from_arrays([mCY.levels[-1], mCY.levels[-1].str.slice(2)+'_F'], names = ['n','nn']) # from materials to foreign inputs"
   ]
  },
  {
   "cell_type": "markdown",
   "id": "23aabede-afc2-4e31-9b7c-bf60b17e3657",
   "metadata": {},
   "source": [
    "Collect in one map and add sector index:"
   ]
  },
  {
   "cell_type": "code",
   "execution_count": 32,
   "id": "297945b0-dfeb-4f11-b4eb-28b96dfa3d3c",
   "metadata": {},
   "outputs": [],
   "source": [
    "mCFull = reduce(pd.Index.union, [mCY, mCYD, mCYF])\n",
    "mC = pyDatabases.cartesianProductIndex([db('s_HH'), mCFull])"
   ]
  },
  {
   "cell_type": "markdown",
   "id": "04e81d7e-c653-4035-b204-b462468360c7",
   "metadata": {},
   "source": [
    "Trim nesting tree:"
   ]
  },
  {
   "cell_type": "code",
   "execution_count": 33,
   "id": "c8c66de3-c38d-435e-bf8a-0889eedd0fd2",
   "metadata": {},
   "outputs": [],
   "source": [
    "sparsity = adj.rc_pd(db('vD')[db('vD')!=0], db('s_HH')).droplevel('t').index\n",
    "mC = nestingTree.trimNestingStructure(mC, sparsity)"
   ]
  },
  {
   "cell_type": "markdown",
   "id": "b2dcd408-e682-461b-b23b-f0951ede21d7",
   "metadata": {},
   "source": [
    "Add nesting structure:"
   ]
  },
  {
   "cell_type": "code",
   "execution_count": 34,
   "id": "b50e373f-a37c-494a-aeb8-e4cc3de59dac",
   "metadata": {},
   "outputs": [],
   "source": [
    "db['nestHH'] = mC"
   ]
  },
  {
   "cell_type": "markdown",
   "id": "d2bb0c17-12ad-49c8-ab52-bc024493a209",
   "metadata": {},
   "source": [
    "Add mapping from consumption aggregate to labor:"
   ]
  },
  {
   "cell_type": "code",
   "execution_count": 35,
   "id": "b625b601-69d8-487a-83bd-f93ee7332287",
   "metadata": {},
   "outputs": [],
   "source": [
    "db['L2C'] = pd.MultiIndex.from_arrays([db('s_HH'), pd.Index(['L']*len(db('s_HH')), name = 'n'), pd.Index(['C']*len(db('s_HH')), name = 'nn')])"
   ]
  },
  {
   "cell_type": "markdown",
   "id": "5545a324-8b3f-4749-b321-169e17935093",
   "metadata": {},
   "source": [
    "### 3.2. Elasticities:"
   ]
  },
  {
   "cell_type": "markdown",
   "id": "91b024e5-ac98-47cc-b0ce-9fbaebd375e0",
   "metadata": {},
   "source": [
    "Relative low elasticities between sector product types, more substitution between domestic/foreign splits:"
   ]
  },
  {
   "cell_type": "code",
   "execution_count": 36,
   "id": "f7d6a696-d1c3-45f1-854e-6f555153c8e7",
   "metadata": {},
   "outputs": [],
   "source": [
    "sigmaCY = pd.Series(0.5, index = mC[mC.get_level_values('n')=='C'].droplevel('nn').unique(), name = 'sigma') # aggregate\n",
    "sigmaCM = pd.Series(2, index = mC[mC.get_level_values('n').isin('C_'+db('n_p'))].droplevel('nn').unique(), name = 'sigma')\n",
    "sigmaC = pd.concat([sigmaCY, sigmaCM], axis = 0)\n",
    "db.aom(sigmaC, name = 'sigma')"
   ]
  },
  {
   "cell_type": "markdown",
   "id": "0c12dfab-cc1e-4096-9c51-20bc160281ce",
   "metadata": {},
   "source": [
    "Frisch elasticity:"
   ]
  },
  {
   "cell_type": "code",
   "execution_count": 37,
   "id": "f4c0890e-7818-4ffa-b3ba-75b483e11fcf",
   "metadata": {},
   "outputs": [],
   "source": [
    "db.aom(pd.Series(.25, index = db('s_HH')), name = 'frisch')\n",
    "# db.aom(pd.Series(.25, index = db('L2C').droplevel('nn').unique()), name = 'frisch')"
   ]
  },
  {
   "cell_type": "markdown",
   "id": "b494c001-b05a-4ff1-a7e9-e8ce5477e758",
   "metadata": {},
   "source": [
    "### 3.3. Regulation:"
   ]
  },
  {
   "cell_type": "markdown",
   "id": "2f8a8f37-4975-4fb5-b78b-c32aa265cf72",
   "metadata": {},
   "source": [
    "Households do not directly emit anything (it all happens in the production process). Currently, we use a very simple type of regulation here:\n",
    "* Households pay VAT (the size of which is included in the IO data); we impose this as a flat rate on all inputs.\n",
    "* Set the labor income tax rate at 0.47 (roughly the average for 2018 data).\n",
    "* We set the level of lump sum transfers at 40\\% of labor income (roughly the case for 2018 data).\n",
    "* Finally, *for now/temporarily*, adjust the value of *TotalTax* to ensure that the consumer has a balanced budget. If we used detailed data on regulation on households, we could drop this assumption."
   ]
  },
  {
   "cell_type": "code",
   "execution_count": 38,
   "id": "bd835605-554b-44bd-8407-e433f120a160",
   "metadata": {},
   "outputs": [],
   "source": [
    "output = adj.rc_pd(db('vS'), db['s_HH'])\n",
    "inputs = adj.rc_pd(db('vD'), db['s_HH'])\n",
    "rTransfer = 0.4004\n",
    "rLaborTax = 0.478\n",
    "rVAT = adj.rc_pd(db('vTax').xs('VAT',level='taxTypes'), db['s_HH']) / pyDatabases.pdSum(inputs, 'n')\n",
    "db.aom(adjMultiIndex.applyMult(rVAT,inputs.index), name = 'tauD') # add flat rate VAT on all demand\n",
    "db.aom(pd.Series(rLaborTax, index = output.index), name = 'tauS') # add a flat labor tax rate\n",
    "db.aom(pyDatabases.pdSum(-output * rTransfer, 'n'), name = 'tauLump') # Adjust lump sum tax\n",
    "db.aom(pyDatabases.pdSum(rVAT * inputs, 'n')+pyDatabases.pdSum(output, 'n') * (rLaborTax-rTransfer), name = 'TotalTax') # adhoc adjustment of 'TotalTax'"
   ]
  },
  {
   "cell_type": "markdown",
   "id": "8460549a-a3ea-48b2-9bea-c72e64693676",
   "metadata": {},
   "source": [
    "Define sector-specific prices given regulation:"
   ]
  },
  {
   "cell_type": "code",
   "execution_count": 39,
   "id": "674e9a3f-b83a-4e92-a899-13be5b84c3c5",
   "metadata": {},
   "outputs": [],
   "source": [
    "db.aom(stdSort(adj.rc_pd((1+db('tauD'))*db('p'), inputs)), name = 'pD')"
   ]
  },
  {
   "cell_type": "markdown",
   "id": "c13fbe44-878c-43c6-ae68-57333270ee09",
   "metadata": {},
   "source": [
    "## 4. Government"
   ]
  },
  {
   "cell_type": "markdown",
   "id": "9dd585ab-1624-470e-87a3-d84d1ba8d3cd",
   "metadata": {},
   "source": [
    "### 4.1. Nesting structure"
   ]
  },
  {
   "cell_type": "markdown",
   "id": "a6d2ac5d-1a29-4bf7-af5f-1dde4c945b70",
   "metadata": {},
   "source": [
    "The investment module currently only includes \"IO goods\" from production sectors. As with the production module, we construct this by setting up a \"full\" nesting tree and then trimming it afterwards:"
   ]
  },
  {
   "cell_type": "code",
   "execution_count": 40,
   "id": "5a60b9fc-d03f-41fd-9e57-855b20d22f22",
   "metadata": {},
   "outputs": [],
   "source": [
    "mGY = pd.MultiIndex.from_product([['G'], 'G_'+db('n_p')], names = ['n','nn']) # from top nest to material aggregates\n",
    "mGYD = pd.MultiIndex.from_arrays([mGY.levels[-1], mGY.levels[-1].str.slice(2)], names = ['n','nn']) # from materials to domestic inputs \n",
    "mGYF = pd.MultiIndex.from_arrays([mGY.levels[-1], mGY.levels[-1].str.slice(2)+'_F'], names = ['n','nn']) # from materials to foreign inputs"
   ]
  },
  {
   "cell_type": "markdown",
   "id": "1a5cdfae-0357-49d2-92c2-1ebc6b6a1c7f",
   "metadata": {},
   "source": [
    "Collect in one map and add sector index:"
   ]
  },
  {
   "cell_type": "code",
   "execution_count": 41,
   "id": "956416e8-638e-4110-9b71-cf7feb42c5a8",
   "metadata": {},
   "outputs": [],
   "source": [
    "mGFull = reduce(pd.Index.union, [mGY, mGYD, mGYF])\n",
    "mG = pyDatabases.cartesianProductIndex([db('s_G'), mGFull])"
   ]
  },
  {
   "cell_type": "markdown",
   "id": "995dd2dc-265c-49c3-a111-a2ecddb82c84",
   "metadata": {},
   "source": [
    "Trim nesting tree:"
   ]
  },
  {
   "cell_type": "code",
   "execution_count": 42,
   "id": "8326f251-b47a-4a30-9c18-14ab6e1f20ad",
   "metadata": {},
   "outputs": [],
   "source": [
    "sparsity = adj.rc_pd(db('vD')[db('vD')!=0], db('s_G')).droplevel('t').index\n",
    "mG = nestingTree.trimNestingStructure(mG, sparsity)"
   ]
  },
  {
   "cell_type": "markdown",
   "id": "06cb73d7-4d2f-44d1-9a0f-90ddb3531df0",
   "metadata": {},
   "source": [
    "Add nesting structure:"
   ]
  },
  {
   "cell_type": "code",
   "execution_count": 43,
   "id": "8dc8d8ea-1f57-4d7b-8e20-62b37c140543",
   "metadata": {},
   "outputs": [],
   "source": [
    "db['nestG'] = mG"
   ]
  },
  {
   "cell_type": "markdown",
   "id": "5512a9b6-a8d0-4282-9558-5edcfac24b1f",
   "metadata": {},
   "source": [
    "### 4.2. Elasticities"
   ]
  },
  {
   "cell_type": "markdown",
   "id": "6f6dfbae-f4d4-4693-b474-84f3dab847d9",
   "metadata": {},
   "source": [
    "Relative low elasticities between sector product types, more substitution between domestic/foreign splits:"
   ]
  },
  {
   "cell_type": "code",
   "execution_count": 44,
   "id": "b381e554-1217-46f5-a553-1592b536d3d8",
   "metadata": {},
   "outputs": [],
   "source": [
    "sigmaGY = pd.Series(0.5, index = mG[mG.get_level_values('n')=='G'].droplevel('nn').unique(), name = 'sigma') # aggregate\n",
    "sigmaGM = pd.Series(2, index = mG[mG.get_level_values('n').isin('G_'+db('n_p'))].droplevel('nn').unique(), name = 'sigma')\n",
    "sigmaG = pd.concat([sigmaGY, sigmaGM], axis = 0)\n",
    "db.aom(sigmaG, name = 'sigma')"
   ]
  },
  {
   "cell_type": "markdown",
   "id": "3bbf0aea-9cf4-419b-8a81-aa0446e40362",
   "metadata": {},
   "source": [
    "### 4.3. Regulation"
   ]
  },
  {
   "cell_type": "markdown",
   "id": "226bd433-f737-4676-8e0b-44ae8f29cd9e",
   "metadata": {},
   "source": [
    "The government regulates/taxes itself (because data says so). Because we use incomplete data on taxes (especially on household taxes/transfers), we make some adhoc adjustments here:\n",
    "* Remove taxes on inventory (because the \"inventory sector\" is only used for completeness of the IO system).\n",
    "* Set flat VAT tax rate on government consumption to target taxes from government sector."
   ]
  },
  {
   "cell_type": "code",
   "execution_count": 45,
   "id": "ebfc493e-b710-4704-be9e-e94025eeb8c6",
   "metadata": {},
   "outputs": [],
   "source": [
    "inputs = adj.rc_pd(db('vD'), db('s_G'))\n",
    "db['TotalTax'] = adj.rc_pd(db('TotalTax'), ('not', pd.Index(['itory'],name='s'))) # remove inventory taxes\n",
    "db['d_TotalTax'] = db['TotalTax'].index.droplevel('t').unique() # what sectors pay taxes\n",
    "rVAT = adj.rc_pd(db('TotalTax'), db('s_G')) / pyDatabases.pdSum(inputs,'n') # define VAT rate of taxes\n",
    "db.aom(adjMultiIndex.applyMult(rVAT,inputs.index), name = 'tauD') # add flat rate VAT on all demand\n",
    "db.aom(stdSort(adj.rc_pd((1+db('tauD'))*db('p'), inputs)), name = 'pD')"
   ]
  },
  {
   "cell_type": "markdown",
   "id": "4501913c-9c70-469c-8bfe-b48ab41e2159",
   "metadata": {},
   "source": [
    "## 5. Trade"
   ]
  },
  {
   "cell_type": "markdown",
   "id": "a00530ce-dc8d-40e5-b2c4-825af5b653d0",
   "metadata": {},
   "source": [
    "Set export elasticity to 7.5:"
   ]
  },
  {
   "cell_type": "code",
   "execution_count": 46,
   "id": "a69d9864-4e54-4523-8218-9c33528ef38c",
   "metadata": {},
   "outputs": [],
   "source": [
    "db.aom(pd.Series(7.5, index = db('dExport')), name='sigma')"
   ]
  },
  {
   "cell_type": "markdown",
   "id": "5d489732-2c50-4118-9112-44144ec71b26",
   "metadata": {},
   "source": [
    "*Note: We should add some information on regulation on trade at some point. Here, just add flat tariff/subsidy on all exports:* "
   ]
  },
  {
   "cell_type": "code",
   "execution_count": 47,
   "id": "0c0ff175-23d7-4d2e-9df3-0dd6f5b06376",
   "metadata": {},
   "outputs": [],
   "source": [
    "avgTariffRate = adj.rc_pd(db('TotalTax'), db('s_f'))/pyDatabases.pdSum(adj.rc_pd(db('vD'), db('s_f')), 'n')\n",
    "TariffRate = stdSort(adjMultiIndex.applyMult(avgTariffRate, db('dExport')))\n",
    "db.aom(TariffRate, name = 'tauD')\n",
    "db.aom(pd.Series(0, index = adj.rc_pd(db('TotalTax'), db('s_f')).index), name = 'tauLump')\n",
    "db.aom(stdSort(adj.rc_pd(db('tauD')+db('p'), db('s_f'))), name = 'pD')"
   ]
  },
  {
   "cell_type": "markdown",
   "id": "dfdc4d86-39f2-462a-a3fe-458ed85bd11e",
   "metadata": {},
   "source": [
    "## 6. Emissions"
   ]
  },
  {
   "cell_type": "markdown",
   "id": "715ddf99-69e2-4fc3-ae52-d44cf9d95fa1",
   "metadata": {},
   "source": [
    "Define average CO2 tax, create ```tauDist``` that measures relative weight of CO2 in a specific sector:"
   ]
  },
  {
   "cell_type": "code",
   "execution_count": 48,
   "id": "f009b68e-307e-46d0-ae60-6b1b4e352f87",
   "metadata": {},
   "outputs": [],
   "source": [
    "db['uCO2'] = adj.rc_pd(db('qCO2'), db('s_p')) / adj.rc_pd(db('qS'), db('s_p')) # co2 share\n",
    "db['tauCO2agg'] = (db('tauCO2') * db('qCO2')).groupby('t').sum() / (db('qCO2').groupby('t').sum()) # average CO2 tax\n",
    "db['tauDist']   = db('tauCO2')/db('tauCO2agg')\n",
    "db['qCO2agg'] = db('qCO2').groupby('t').sum()"
   ]
  },
  {
   "cell_type": "markdown",
   "id": "373ec8a0-2d4c-4481-9836-eaab6c2009cf",
   "metadata": {},
   "source": [
    "For now, define the effective tax rate used in production modules as the copy of true tax:"
   ]
  },
  {
   "cell_type": "code",
   "execution_count": 49,
   "id": "9e88c1b1-83b1-4cfb-8154-d3315e85d036",
   "metadata": {},
   "outputs": [],
   "source": [
    "db['tauEffCO2'] = db('tauCO2').copy()"
   ]
  },
  {
   "cell_type": "markdown",
   "id": "cb04aca2-3409-4a51-9a12-bfe2a6637513",
   "metadata": {},
   "source": [
    "## 7. Globals"
   ]
  },
  {
   "cell_type": "markdown",
   "id": "5ce889dc-e956-4728-90b0-d044c5cac538",
   "metadata": {},
   "source": [
    "Other parameters/variables used throughout:"
   ]
  },
  {
   "cell_type": "code",
   "execution_count": 50,
   "id": "29f5e32f-8c1a-4eaf-9e43-458fc5093469",
   "metadata": {},
   "outputs": [],
   "source": [
    "db.aom(pd.Series(db('R_LR'), index = db('t')), name = 'Rrate', priority = 'first') # fix interest rate path at long run level"
   ]
  },
  {
   "cell_type": "markdown",
   "id": "5143e14f-cedd-4392-811d-9246e97d1830",
   "metadata": {},
   "source": [
    "## Export"
   ]
  },
  {
   "cell_type": "code",
   "execution_count": 51,
   "id": "f9117a4a-c948-4fd6-9d04-f4ec345b007f",
   "metadata": {},
   "outputs": [],
   "source": [
    "db.export(repo=d['data'])"
   ]
  }
 ],
 "metadata": {
  "kernelspec": {
   "display_name": "Python 3 (ipykernel)",
   "language": "python",
   "name": "python3"
  },
  "language_info": {
   "codemirror_mode": {
    "name": "ipython",
    "version": 3
   },
   "file_extension": ".py",
   "mimetype": "text/x-python",
   "name": "python",
   "nbconvert_exporter": "python",
   "pygments_lexer": "ipython3",
   "version": "3.11.8"
  }
 },
 "nbformat": 4,
 "nbformat_minor": 5
}
