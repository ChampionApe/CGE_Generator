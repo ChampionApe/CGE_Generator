{
 "cells": [
  {
   "cell_type": "code",
   "execution_count": 1,
   "id": "21bdcd4d-925b-4011-b7d1-52d86ae2ee5c",
   "metadata": {},
   "outputs": [
    {
     "name": "stdout",
     "output_type": "stream",
     "text": [
      "The file _gams_py_gdb3.gdx is still active and was not deleted.\n",
      "The file _gams_py_gdb4.gdx is still active and was not deleted.\n"
     ]
    }
   ],
   "source": [
    "clean_up = True # if True, remove all gams related files from working folder before starting\n",
    "%run stdPackages.ipynb\n",
    "os.chdir(d['py'])\n",
    "from gmsPython import nestingTree\n",
    "from valueShares import nestedShares\n",
    "from mProduction import NestedCES"
   ]
  },
  {
   "cell_type": "markdown",
   "id": "1271b625-6919-4679-86e5-1de38a7e0c1c",
   "metadata": {},
   "source": [
    "# Investment module"
   ]
  },
  {
   "cell_type": "markdown",
   "id": "df3e400e-6d47-4174-9212-f321bc3cde4b",
   "metadata": {},
   "source": [
    "The investment module is constructed like the production module, but does not include any durables (which makes things a bit easier)."
   ]
  },
  {
   "cell_type": "markdown",
   "id": "198816b0-3ecc-4680-825d-9b02c7c3c69a",
   "metadata": {},
   "source": [
    "*Load data:*"
   ]
  },
  {
   "cell_type": "code",
   "execution_count": 2,
   "id": "c3ddc418-1995-44e7-b1bf-d92dc40e4339",
   "metadata": {},
   "outputs": [],
   "source": [
    "t0 = 2019 # set baseline year\n",
    "name = 'vA' # specify name of the CGE version we are currently working on\n",
    "db = GpyDB(os.path.join(d['data'], f'{name}_{t0}')) # Load \n",
    "ws = db.ws # run everything from the same ws"
   ]
  },
  {
   "cell_type": "markdown",
   "id": "551838a8-fc7a-4de4-916b-21be3aa21615",
   "metadata": {},
   "source": [
    "*Set up nesting tree:*"
   ]
  },
  {
   "cell_type": "code",
   "execution_count": 3,
   "id": "e847ce5d-2b88-43e9-94b9-099aace08f3b",
   "metadata": {},
   "outputs": [
    {
     "data": {
      "text/plain": [
       "<gmsPython.nestingTree.nestingTree.AggTree at 0x1fa4b423750>"
      ]
     },
     "execution_count": 3,
     "metadata": {},
     "output_type": "execute_result"
    }
   ],
   "source": [
    "nest = nestingTree.AggTree(name = 'I', trees = {'I': nestingTree.Tree('I', tree = db('nestInvestment').to_list(), f = 'CES')}, ws = ws)\n",
    "nest(namespace = {str(n)+'_input':n for n in db('n')})"
   ]
  },
  {
   "cell_type": "markdown",
   "id": "8e9e4589-49a6-4ebb-9150-f220ad37afe1",
   "metadata": {},
   "source": [
    "*Define share parameters:*"
   ]
  },
  {
   "cell_type": "code",
   "execution_count": 4,
   "id": "921242c1-1f34-4d8c-a73d-0e40cebf21ab",
   "metadata": {},
   "outputs": [],
   "source": [
    "v = nestedShares(nest, ws = ws)\n",
    "db_vs = v(db) "
   ]
  },
  {
   "cell_type": "markdown",
   "id": "d435f201-d557-4867-9db5-a1c13cd0d553",
   "metadata": {},
   "source": [
    "*Use share parameters and values to get initial values for intermediates:*"
   ]
  },
  {
   "cell_type": "code",
   "execution_count": 5,
   "id": "42664d36-7fce-4384-a5a3-ec0bd17b7039",
   "metadata": {},
   "outputs": [],
   "source": [
    "db['mu'] = db_vs('mu').xs(t0) \n",
    "db.aom(adj.rc_pd(db_vs('vD'), nest.get('int')).rename('qD'), name = 'qD', priority = 'first') # specify intermediate goods levels"
   ]
  },
  {
   "cell_type": "markdown",
   "id": "05dc5d3d-9c68-4cf1-a3ea-4c5ba841b345",
   "metadata": {},
   "source": [
    "*Subset database to include investment sectors, extrapolate data:*"
   ]
  },
  {
   "cell_type": "code",
   "execution_count": 6,
   "id": "d2bbf149-c927-455c-b775-9d8f4e962717",
   "metadata": {},
   "outputs": [],
   "source": [
    "AggDB.subsetDB(db, db('s_i'))\n",
    "[db.series.__delitem__(k) for k in ('vD','vTax', 'vD_dur','vD_depr','vD_inv', 'vS', 'pD_dur') if k in db.symbols];\n",
    "[symbol.__setattr__('vals', extrapolateUpper(symbol.vals, db('tE')[0])) for symbol in [db[k] for k in db.varDom('t')['t']]];"
   ]
  },
  {
   "cell_type": "markdown",
   "id": "1a4cc7a4-631f-4590-a15a-4642d4a240ce",
   "metadata": {},
   "source": [
    "*Initialize and run:*"
   ]
  },
  {
   "cell_type": "code",
   "execution_count": 7,
   "id": "bfd64af2-a7a7-4b10-948c-e930d45d8cc4",
   "metadata": {},
   "outputs": [],
   "source": [
    "m = NestedCES(nest, partial = True)\n",
    "m.initStuff(db = db)\n",
    "soldb = m.jSolve(5, state = 'C', ϕ = .5) # solve calibration with 5 steps and nonlinear grid"
   ]
  },
  {
   "cell_type": "markdown",
   "id": "38686f01-899a-4161-b0db-7f8cd41dddd3",
   "metadata": {},
   "source": [
    "*Overwrite solution:*"
   ]
  },
  {
   "cell_type": "code",
   "execution_count": 8,
   "id": "0a3aaeef-88b5-4074-92ad-e3fa8369f887",
   "metadata": {},
   "outputs": [
    {
     "data": {
      "text/plain": [
       "<pyDatabases.gpyDB.gpyDB.GpyDB at 0x1fa4b48ab90>"
      ]
     },
     "execution_count": 8,
     "metadata": {},
     "output_type": "execute_result"
    }
   ],
   "source": [
    "[m.db.__setitem__(k, soldb[k]) for k in m.db.getTypes(['var']) if k in soldb.symbols]; # use solution database\n",
    "m.db.mergeInternal()\n",
    "m.solve(state = 'B') # test solve of baseline"
   ]
  },
  {
   "cell_type": "markdown",
   "id": "060d68b4-c124-4bb2-afe1-8c9f40c6d12e",
   "metadata": {},
   "source": [
    "**Export**"
   ]
  },
  {
   "cell_type": "markdown",
   "id": "1fcdc6eb-6eda-4b56-a10e-28cc2c1475bf",
   "metadata": {},
   "source": [
    "Baseline model text with fix/unfix and solve statements:"
   ]
  },
  {
   "cell_type": "code",
   "execution_count": 9,
   "id": "dd4d288a-b657-4c11-8a52-407f8f32c6fd",
   "metadata": {},
   "outputs": [],
   "source": [
    "baselineText = m.write(state = 'B') # store text so we can export it for later\n",
    "text_gamY    = m.write_gamY(state = 'B') # store gamY text"
   ]
  },
  {
   "cell_type": "markdown",
   "id": "2d7b518a-5380-407d-9748-70544f98929c",
   "metadata": {},
   "source": [
    "Export code and database:"
   ]
  },
  {
   "cell_type": "code",
   "execution_count": 10,
   "id": "c00b35da-c497-4aff-a353-a6b89471abaa",
   "metadata": {},
   "outputs": [],
   "source": [
    "with open(os.path.join(d['gams'], f'{m.name}.gms'), \"w\") as file:\n",
    "    file.write(baselineText)\n",
    "with open(os.path.join(d['gams'], f'{m.name}.gmy'), \"w\") as file:\n",
    "    file.write(text_gamY)"
   ]
  },
  {
   "cell_type": "markdown",
   "id": "0bbf2a5d-4bee-4c19-bff8-e46b5f231ed5",
   "metadata": {},
   "source": [
    "Export gdx file:"
   ]
  },
  {
   "cell_type": "code",
   "execution_count": 11,
   "id": "6eb453c0-686c-4d79-a286-ceaff36f691a",
   "metadata": {},
   "outputs": [],
   "source": [
    "m.db.database.export(os.path.join(d['data'], m.db.name))"
   ]
  }
 ],
 "metadata": {
  "kernelspec": {
   "display_name": "Python 3 (ipykernel)",
   "language": "python",
   "name": "python3"
  },
  "language_info": {
   "codemirror_mode": {
    "name": "ipython",
    "version": 3
   },
   "file_extension": ".py",
   "mimetype": "text/x-python",
   "name": "python",
   "nbconvert_exporter": "python",
   "pygments_lexer": "ipython3",
   "version": "3.11.8"
  }
 },
 "nbformat": 4,
 "nbformat_minor": 5
}
