{
 "cells": [
  {
   "cell_type": "code",
   "execution_count": 1,
   "id": "f80c3e0c-537f-49ed-85fa-98d9418b3ad9",
   "metadata": {},
   "outputs": [
    {
     "name": "stdout",
     "output_type": "stream",
     "text": [
      "The file _gams_py_gdb0.gdx is still active and was not deleted.\n",
      "The file _gams_py_gdb1.gdx is still active and was not deleted.\n",
      "The file _gams_py_gdb2.gdx is still active and was not deleted.\n",
      "The file _gams_py_gdb3.gdx is still active and was not deleted.\n",
      "The file _gams_py_gdb4.gdx is still active and was not deleted.\n"
     ]
    }
   ],
   "source": [
    "clean_up = True # if True, remove all gams related files from working folder before starting\n",
    "%run stdPackages.ipynb\n",
    "os.chdir(d['py'])\n",
    "from gmsPython import nestingTree\n",
    "from valueShares import nestedShares_noOutputs\n",
    "from mHousehold import StaticConsumer"
   ]
  },
  {
   "cell_type": "markdown",
   "id": "6aa14941-ae8c-45b8-8ef5-09ddda797cc1",
   "metadata": {},
   "source": [
    "# Household module"
   ]
  },
  {
   "cell_type": "markdown",
   "id": "4d532fcb-f4f6-471a-bd72-3cef64e6406f",
   "metadata": {},
   "source": [
    "*Load data:*"
   ]
  },
  {
   "cell_type": "code",
   "execution_count": 2,
   "id": "d4fefb51-4f63-458c-89c8-81f2a88c41d5",
   "metadata": {},
   "outputs": [],
   "source": [
    "t0 = 2019 # set baseline year\n",
    "name = 'vA' # specify name of the CGE version we are currently working on\n",
    "db = GpyDB(os.path.join(d['data'], f'{name}_{t0}')) # Load \n",
    "ws = db.ws # run everything from the same ws"
   ]
  },
  {
   "cell_type": "markdown",
   "id": "da702e12-3904-419a-82cc-d3f025891556",
   "metadata": {},
   "source": [
    "## 1. Nesting tree and value shares"
   ]
  },
  {
   "cell_type": "markdown",
   "id": "12e970ee-12ff-473a-b36e-64880447ce76",
   "metadata": {},
   "source": [
    "Nesting tree:"
   ]
  },
  {
   "cell_type": "code",
   "execution_count": 3,
   "id": "5fcb3257-c333-4b9f-b893-c0a48a6821fb",
   "metadata": {},
   "outputs": [
    {
     "data": {
      "text/plain": [
       "<gmsPython.nestingTree.nestingTree.AggTree at 0x2652cc59510>"
      ]
     },
     "execution_count": 3,
     "metadata": {},
     "output_type": "execute_result"
    }
   ],
   "source": [
    "cesNest = nestingTree.Tree('HH', tree = db('nestHH').to_list(), f = 'CES')\n",
    "nest = nestingTree.AggTree(name = 'HH', trees = {t.name: t for t in [cesNest]}, ws = ws)\n",
    "nest(namespace = {str(n)+'_input': n for n in db('n')})"
   ]
  },
  {
   "cell_type": "markdown",
   "id": "5ff95b1e-1389-41a8-966c-5ff01cb634a9",
   "metadata": {},
   "source": [
    "Value shares:"
   ]
  },
  {
   "cell_type": "code",
   "execution_count": 4,
   "id": "55832227-63d8-4123-ae01-a22af3aeb6f7",
   "metadata": {},
   "outputs": [],
   "source": [
    "v = nestedShares_noOutputs(nest, ws = ws)\n",
    "db_vs = v(db) # one-liner that returns solution database"
   ]
  },
  {
   "cell_type": "markdown",
   "id": "970cbb83-79b9-44cb-8e62-d27a45cdeed9",
   "metadata": {},
   "source": [
    "We are particularly interested in the $\\mu$ variable and value of intermediate goods (to get better initial values):"
   ]
  },
  {
   "cell_type": "code",
   "execution_count": 5,
   "id": "a4b770b7-56fa-47cf-a7ea-0956ac077774",
   "metadata": {},
   "outputs": [],
   "source": [
    "db['mu'] = db_vs('mu').xs(t0) \n",
    "db.aom(adj.rc_pd(db_vs('vD'), nest.get('int').union(nest.get('output'))).rename('qD'), name = 'qD', priority = 'first') # specify intermediate goods levels"
   ]
  },
  {
   "cell_type": "markdown",
   "id": "5184d6d0-a7df-4a5b-8342-135ea646e4f8",
   "metadata": {},
   "source": [
    "## 2. Partial Equilibirum Model"
   ]
  },
  {
   "cell_type": "markdown",
   "id": "98931548-52ea-489f-83ce-533dd6ec3abd",
   "metadata": {},
   "source": [
    "Only keep household sectors, extrapolate data for initial values:"
   ]
  },
  {
   "cell_type": "code",
   "execution_count": 6,
   "id": "03269acd-011a-4b50-a9a2-b70f1af9c78c",
   "metadata": {},
   "outputs": [],
   "source": [
    "AggDB.subsetDB(db, db('s_HH'))\n",
    "[db.series.__delitem__(k) for k in ('vD','vTax', 'vD_dur','vD_depr','vD_inv', 'vS', 'pD_dur') if k in db.symbols];"
   ]
  },
  {
   "cell_type": "markdown",
   "id": "9093bc80-2cd8-4194-b7c2-5d7963ab270c",
   "metadata": {},
   "source": [
    "For variables that are defined over $t$, but we do not yet have an initial value for all $t$, extrapolate:\n",
    "\n",
    "*Note: This forces extrapolation of all variables defined over $t$ - if it is important that some variables are not extrapolated, they should be removed from this statement.*"
   ]
  },
  {
   "cell_type": "code",
   "execution_count": 7,
   "id": "ad406573-8a72-40f0-bc70-40ac7c1e6e80",
   "metadata": {},
   "outputs": [],
   "source": [
    "[symbol.__setattr__('vals', extrapolateUpper(symbol.vals, db('tE')[0])) for symbol in [db[k] for k in db.varDom('t')['t']]];"
   ]
  },
  {
   "cell_type": "markdown",
   "id": "18a49380-51ae-4a89-b044-1b2b88161b8d",
   "metadata": {},
   "source": [
    "Initialize module from nesting tree and add the mapping from labor supply to the consumption aggregate:"
   ]
  },
  {
   "cell_type": "code",
   "execution_count": 8,
   "id": "80d73346-5df6-4974-9510-dac6f647fefb",
   "metadata": {},
   "outputs": [],
   "source": [
    "m = StaticConsumer(nest, partial = True, L2C = db('L2C'))\n",
    "m.initStuff(db = db)"
   ]
  },
  {
   "cell_type": "markdown",
   "id": "abc882a5-3c07-4745-9310-5e29d3fffef7",
   "metadata": {},
   "source": [
    "Use $j$-terms solution approach for calibration:"
   ]
  },
  {
   "cell_type": "code",
   "execution_count": 9,
   "id": "bda4895d-f395-4563-a2a6-3c5fa3b899f3",
   "metadata": {},
   "outputs": [],
   "source": [
    "soldb = m.jSolve(3, state = 'C', ϕ = .1) # solve calibration model with 5 steps and nonlinear grid (ϕ<1 means that adjustments to jTerms start large and then decrease)"
   ]
  },
  {
   "cell_type": "markdown",
   "id": "a7c537a0-0acd-46ff-b1f9-63ef2c2a50d1",
   "metadata": {},
   "source": [
    "Overwrite solution:"
   ]
  },
  {
   "cell_type": "code",
   "execution_count": 10,
   "id": "876d862d-8587-4c7c-b119-370ad067a2aa",
   "metadata": {},
   "outputs": [
    {
     "data": {
      "text/plain": [
       "<pyDatabases.gpyDB.gpyDB.GpyDB at 0x2652d156010>"
      ]
     },
     "execution_count": 10,
     "metadata": {},
     "output_type": "execute_result"
    }
   ],
   "source": [
    "[m.db.__setitem__(k, soldb[k]) for k in m.db.getTypes(['var']) if k in soldb.symbols]; # use solution database\n",
    "m.db.mergeInternal()\n",
    "m.solve(state = 'B') # test solve of baseline"
   ]
  },
  {
   "cell_type": "markdown",
   "id": "d67e07f7-37cd-443a-b5ce-96a3855ab5f3",
   "metadata": {},
   "source": [
    "## 3. Export"
   ]
  },
  {
   "cell_type": "markdown",
   "id": "463345df-475c-463d-bdd2-e681cc864ef1",
   "metadata": {},
   "source": [
    "Baseline model text with fix/unfix and solve statements:"
   ]
  },
  {
   "cell_type": "code",
   "execution_count": 11,
   "id": "b08dbc3a-cc49-41fb-979f-fd97f1fe29db",
   "metadata": {},
   "outputs": [],
   "source": [
    "baselineText = m.write(state = 'B') # store text so we can export it for later\n",
    "text_gamY    = m.write_gamY(state = 'B') # store gamY text"
   ]
  },
  {
   "cell_type": "markdown",
   "id": "3127173b-02b6-4a51-b64c-c89a7231d572",
   "metadata": {},
   "source": [
    "Export code and database:"
   ]
  },
  {
   "cell_type": "code",
   "execution_count": 12,
   "id": "ce0cb83c-3f31-4fb8-bb4a-8a80e2e393eb",
   "metadata": {},
   "outputs": [],
   "source": [
    "with open(os.path.join(d['gams'], f'{m.name}.gms'), \"w\") as file:\n",
    "    file.write(baselineText)\n",
    "with open(os.path.join(d['gams'], f'{m.name}.gmy'), \"w\") as file:\n",
    "    file.write(text_gamY)"
   ]
  },
  {
   "cell_type": "markdown",
   "id": "a5e45f4e-97d2-4c60-aa06-7cb56d19b9b2",
   "metadata": {},
   "source": [
    "Export gdx file:"
   ]
  },
  {
   "cell_type": "code",
   "execution_count": 13,
   "id": "5e79bf69-58b2-49de-911e-4e2a829502d6",
   "metadata": {},
   "outputs": [],
   "source": [
    "m.db.database.export(os.path.join(d['data'], m.db.name))"
   ]
  }
 ],
 "metadata": {
  "kernelspec": {
   "display_name": "Python 3 (ipykernel)",
   "language": "python",
   "name": "python3"
  },
  "language_info": {
   "codemirror_mode": {
    "name": "ipython",
    "version": 3
   },
   "file_extension": ".py",
   "mimetype": "text/x-python",
   "name": "python",
   "nbconvert_exporter": "python",
   "pygments_lexer": "ipython3",
   "version": "3.11.8"
  }
 },
 "nbformat": 4,
 "nbformat_minor": 5
}
