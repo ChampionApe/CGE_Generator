{
 "cells": [
  {
   "cell_type": "code",
   "execution_count": 1,
   "id": "51011270-a55f-4084-86eb-69e598172a03",
   "metadata": {},
   "outputs": [
    {
     "name": "stdout",
     "output_type": "stream",
     "text": [
      "No clean-up of work-folder\n"
     ]
    }
   ],
   "source": [
    "%run stdPackages.ipynb\n",
    "os.chdir(d['py'])\n",
    "from modelData import *\n",
    "from gmsPython import nestingTree"
   ]
  },
  {
   "cell_type": "markdown",
   "id": "925c3c8c-5a4b-43bb-8576-d273c28ea33c",
   "metadata": {},
   "source": [
    "# Create Model Data"
   ]
  },
  {
   "cell_type": "markdown",
   "id": "1143f035-bb12-445d-b3c9-8b4d5692dd08",
   "metadata": {},
   "source": [
    "## 0. Preliminaries"
   ]
  },
  {
   "cell_type": "markdown",
   "id": "cbcc1f16-63c3-4852-8d72-dfee9a3a4320",
   "metadata": {},
   "source": [
    "*Define main settings:*"
   ]
  },
  {
   "cell_type": "code",
   "execution_count": 2,
   "id": "643846b6-a168-4d36-b53a-8cb924fdb359",
   "metadata": {},
   "outputs": [],
   "source": [
    "t0 = 2019\n",
    "T  = t0 + 100 # set finite time horizon\n",
    "name = 'vGR' # Some global name that carries through all models/data to identify this version"
   ]
  },
  {
   "cell_type": "markdown",
   "id": "75a281fa-57f7-425e-bbce-f9f0f6a980d8",
   "metadata": {},
   "source": [
    "*This creates a copy of the IO data from the ```IOdata``` project into the local data folder*"
   ]
  },
  {
   "cell_type": "code",
   "execution_count": 3,
   "id": "cb9b2725-e98d-4027-a3d2-391b84ccecae",
   "metadata": {},
   "outputs": [
    {
     "data": {
      "text/plain": [
       "'C:\\\\Users\\\\sxj477\\\\Documents\\\\GitHub\\\\CGE_Generator\\\\projects\\\\WasteCGE\\\\data\\\\IO2019_WCGE_GR'"
      ]
     },
     "execution_count": 3,
     "metadata": {},
     "output_type": "execute_result"
    }
   ],
   "source": [
    "ioName = f'IO{t0}_WCGE_GR'\n",
    "f_IOdata = os.path.join(d['project'], 'IOdata','data','processedData', ioName)\n",
    "shutil.copy(f_IOdata, os.path.join(d['data'], ioName))"
   ]
  },
  {
   "cell_type": "markdown",
   "id": "9c1b4d60-602c-409b-8327-649a2c23345c",
   "metadata": {},
   "source": [
    "*Load data:*"
   ]
  },
  {
   "cell_type": "code",
   "execution_count": 4,
   "id": "4cc1c8a2-fd91-4668-b722-ee59de037504",
   "metadata": {},
   "outputs": [],
   "source": [
    "db = GpyDB(os.path.join(d['data'], ioName), name = f'{name}_{t0}', ws = d['work'])"
   ]
  },
  {
   "cell_type": "markdown",
   "id": "b6f3ec25-6ff3-4a48-9053-edca8d1f96a1",
   "metadata": {},
   "source": [
    "*For relevant variables, add yearly index to data (this is currently all of them)*"
   ]
  },
  {
   "cell_type": "code",
   "execution_count": 5,
   "id": "3b437f12-04b9-43a9-8e71-476c38bf31ec",
   "metadata": {},
   "outputs": [],
   "source": [
    "def add_t0(k):\n",
    "    k.index = stdSort(pd.MultiIndex.from_frame(k.index.to_frame(index=False).assign(t = t0)))\n",
    "[add_t0(db(k)) for k in db.getTypes(['var','par'])];"
   ]
  },
  {
   "cell_type": "markdown",
   "id": "9e8c97d5-1963-4b26-ab18-d8d3cfca40cb",
   "metadata": {},
   "source": [
    "*Add various time subsets that we'll rely on:*"
   ]
  },
  {
   "cell_type": "code",
   "execution_count": 6,
   "id": "b0dcad79-426b-42c2-856c-50f73d5e2749",
   "metadata": {},
   "outputs": [],
   "source": [
    "addTimeToDB(t0, T, db)"
   ]
  },
  {
   "cell_type": "markdown",
   "id": "207d3f09-18c2-4480-9793-0050df2bf78c",
   "metadata": {},
   "source": [
    "## 1. Production module"
   ]
  },
  {
   "cell_type": "markdown",
   "id": "52b1719a-9028-4c9c-8e8a-5ac0380c532f",
   "metadata": {},
   "source": [
    "### 1.1. Nesting structure"
   ]
  },
  {
   "cell_type": "markdown",
   "id": "caac54c1-5b83-464d-82a5-e2892bf32992",
   "metadata": {},
   "source": [
    "Generally, we consider the following nesting structure:"
   ]
  },
  {
   "cell_type": "code",
   "execution_count": 7,
   "id": "276b8e40-6f66-4087-8228-cca1783a3663",
   "metadata": {},
   "outputs": [],
   "source": [
    "mFull = pd.MultiIndex.from_tuples([('KELM', 'RxE'), ('KELM','KEL'), \n",
    "                                                    ('KEL','L'), ('KEL','KE'), \n",
    "                                                    ('KE','K'), ('KE','E'),\n",
    "                                                    ('E','Energy_input'),('E','Energy_F')], names = ['n','nn'])"
   ]
  },
  {
   "cell_type": "markdown",
   "id": "2f1c1b36-9972-495c-82c4-953147480e01",
   "metadata": {},
   "source": [
    "The materials nest excluding energy (```RxE```) is a CES nest of different final goods that compete with similar foreign ones. We use the syntax ```RxEym_x``` to denote the intermediate good that consists of ```x``` and the relevant foreign good:"
   ]
  },
  {
   "cell_type": "code",
   "execution_count": 8,
   "id": "bbc409a9-2f4a-40a9-93e5-740bf8b6446b",
   "metadata": {},
   "outputs": [],
   "source": [
    "nF_full = db('n_p')+'_F' # some of the set elements in the database may have been removed, because they are not used in a single sector\n",
    "n_noEnergy = db('n_p').difference(['Energy']) \n",
    "nF_noEnergy= nF_full.difference(['Energy_F'])\n",
    "RxE1 = pd.MultiIndex.from_product([['RxE'], 'RxEym_'+n_noEnergy], names = ['n','nn']) # mapping from RxE to intermediate goods\n",
    "RxE2 = pd.MultiIndex.from_arrays([RxE1.get_level_values('nn'), n_noEnergy+'_input'], names = ['n','nn']) # mapping from intermediate good to domestic one \n",
    "RxE3 = pd.MultiIndex.from_arrays([RxE1.get_level_values('nn'), nF_noEnergy], names = ['n','nn']) # mapping from intermediate good to foreign one\n",
    "mFull = reduce(pd.Index.union, [mFull, RxE1, RxE2, RxE3]) # Combine the four indices"
   ]
  },
  {
   "cell_type": "markdown",
   "id": "8432fafc-20b2-4984-9faa-3b39f309a348",
   "metadata": {},
   "source": [
    "If a sector uses inputs from all other sectors and foreign sectors, this is the mapping that describes its production structure. We allow for each sector to have a unique nesting structure by adding the sector index:"
   ]
  },
  {
   "cell_type": "code",
   "execution_count": 9,
   "id": "6bc2599d-083f-404a-a62a-4694bd6e2bbc",
   "metadata": {},
   "outputs": [],
   "source": [
    "m = pyDatabases.cartesianProductIndex([db('s_p'), mFull])"
   ]
  },
  {
   "cell_type": "markdown",
   "id": "a98d570a-93df-4d1a-a9e4-9251f40cfa12",
   "metadata": {},
   "source": [
    "Next, it may not be the case that all sectors rely on all types of inputs. In this case, we \"trim\" the nesting tree by eliminating the knots that are unused:"
   ]
  },
  {
   "cell_type": "code",
   "execution_count": 10,
   "id": "6bc3ca5c-7502-46a4-8cc0-0c782169b779",
   "metadata": {},
   "outputs": [],
   "source": [
    "sparsity = adj.rc_pd(db('vD')[db('vD')!=0], db('s_p')).droplevel('t').index # what types of inputs do the sectors actually use in the data\n",
    "# recall that inputs are called '_input' for products from the domestic sectors. Map the sparsity index to these:\n",
    "mapNames = pd.Series(db('n_p')+'_input', index = db('n_p')).combine_first(\n",
    "            pd.Series(sparsity.levels[-1], index = sparsity.levels[-1]))\n",
    "sparsity = sparsity.set_levels(sparsity.levels[-1].map(mapNames), level = -1)\n",
    "\n",
    "m = nestingTree.trimNestingStructure(m, sparsity)"
   ]
  },
  {
   "cell_type": "markdown",
   "id": "42daa737-2976-40d2-87f0-dbffa20baaa8",
   "metadata": {},
   "source": [
    "Finally, we replace the upper-most level ```KELM``` with the name of the sector instead:"
   ]
  },
  {
   "cell_type": "code",
   "execution_count": 11,
   "id": "85395bda-9a0a-443f-8f62-42225387c154",
   "metadata": {},
   "outputs": [],
   "source": [
    "df = m.to_frame(index=False)\n",
    "df.loc[df.n == 'KELM','n'] = df.loc[df.n == 'KELM', 's']\n",
    "m = pd.MultiIndex.from_frame(df)\n",
    "db['nestProduction'] = m"
   ]
  },
  {
   "cell_type": "markdown",
   "id": "0e7580e6-23e1-4d24-8519-4cebdd1506d7",
   "metadata": {},
   "source": [
    "### 1.2. Elasticities"
   ]
  },
  {
   "cell_type": "markdown",
   "id": "57428663-0dfa-43ff-af6c-4270d883f62a",
   "metadata": {},
   "source": [
    "Elasticity of substitution between materials and ```qKEL```"
   ]
  },
  {
   "cell_type": "code",
   "execution_count": 12,
   "id": "911f6457-586c-429a-8d76-1e9e018707b1",
   "metadata": {},
   "outputs": [],
   "source": [
    "sigmaOut = pd.Series(0.5, index = m[m.get_level_values('s')==m.get_level_values('n')].droplevel('nn').unique(), name = 'sigma')"
   ]
  },
  {
   "cell_type": "markdown",
   "id": "10610751-a5cf-40ea-bc79-618dcd79ea08",
   "metadata": {},
   "source": [
    "Elasticity of substitution ```qKEL``` nest:"
   ]
  },
  {
   "cell_type": "code",
   "execution_count": 13,
   "id": "0ed5dd31-509e-4040-a6bb-a3bd80a7a151",
   "metadata": {},
   "outputs": [],
   "source": [
    "sigmaKEL = pd.Series(0.5, index  = m[m.get_level_values('n')=='KEL'].droplevel('nn').unique(), name = 'sigma')"
   ]
  },
  {
   "cell_type": "markdown",
   "id": "552f0750-8677-4ec1-b287-73438510d5a1",
   "metadata": {},
   "source": [
    "Elasticity of substitution ```KE``` nest:"
   ]
  },
  {
   "cell_type": "code",
   "execution_count": 14,
   "id": "bf7a2559-bede-4e89-a35b-52ed4509fb0e",
   "metadata": {},
   "outputs": [],
   "source": [
    "sigmaKE = pd.Series(0.6, index  = m[m.get_level_values('n')=='KE'].droplevel('nn').unique(), name = 'sigma')"
   ]
  },
  {
   "cell_type": "markdown",
   "id": "993e3327-d85a-4a84-914c-3add774d2563",
   "metadata": {},
   "source": [
    "Elasticity of substitution ```E``` nest:"
   ]
  },
  {
   "cell_type": "code",
   "execution_count": 15,
   "id": "d75ade34-58e4-4874-a5f5-871349a73a9a",
   "metadata": {},
   "outputs": [],
   "source": [
    "sigmaE = pd.Series(0.5, index  = m[m.get_level_values('n')=='E'].droplevel('nn').unique(), name = 'sigma')"
   ]
  },
  {
   "cell_type": "markdown",
   "id": "1c0ee323-de78-4058-b60a-699ce4b6bebc",
   "metadata": {},
   "source": [
    "Elasticity of substitution between materials:"
   ]
  },
  {
   "cell_type": "code",
   "execution_count": 16,
   "id": "19da241c-e9e8-4e98-9bea-d988f09c438e",
   "metadata": {},
   "outputs": [],
   "source": [
    "sigmaRxE = pd.Series(0.1, index = m[m.get_level_values('n')=='RxE'].droplevel('nn').unique(), name = 'sigma')"
   ]
  },
  {
   "cell_type": "markdown",
   "id": "c1b7e627-7f0a-4066-87d0-0d9c99c38222",
   "metadata": {},
   "source": [
    "Elasticity of substitution import/domestic types:"
   ]
  },
  {
   "cell_type": "code",
   "execution_count": 17,
   "id": "a0da7c53-db97-422d-b9c8-018ab0687c1f",
   "metadata": {},
   "outputs": [],
   "source": [
    "sigmaRxEym = pd.Series(5, index = m[m.get_level_values('n').str.contains('RxEy')].droplevel('nn').unique(), name = 'sigma')"
   ]
  },
  {
   "cell_type": "markdown",
   "id": "adfefc7e-22df-4d7b-b536-df04b2354861",
   "metadata": {},
   "source": [
    "Add to database:"
   ]
  },
  {
   "cell_type": "code",
   "execution_count": 18,
   "id": "a11de9ac-5a2d-40c0-b914-aed8735c5a6d",
   "metadata": {
    "tags": []
   },
   "outputs": [],
   "source": [
    "sigma = pd.concat([sigmaOut, sigmaKEL, sigmaKE, sigmaE, sigmaRxE, sigmaRxEym], axis = 0 )\n",
    "db.aom(sigma, name = 'sigma')"
   ]
  },
  {
   "cell_type": "markdown",
   "id": "f0207955-e652-4c23-a9e0-62ef3f5306bf",
   "metadata": {},
   "source": [
    "### 1.3. Regulation and emissions"
   ]
  },
  {
   "cell_type": "markdown",
   "id": "0fe76c7f-ad46-4d90-b452-362b3e73ad2e",
   "metadata": {},
   "source": [
    "Define relevant sector outputs and output shares (relevant if sectors have multiple outputs):"
   ]
  },
  {
   "cell_type": "code",
   "execution_count": 19,
   "id": "1e0e612a-db64-4d5c-8f53-5d61548051e3",
   "metadata": {},
   "outputs": [],
   "source": [
    "output = adj.rc_pd(db['qS'], db['s_p']) # output\n",
    "inputs = adj.rc_pd(db['qD'], ('and', [db['s_p'], ('not', db['dur_p'])])) # inputs\n",
    "outShares = output/pyDatabases.pdSum(output, 'n') # output shares\n",
    "db['qCO2'] = db('qCO2') * outShares # overwrite qCO2 to be split into potentially multiple outputs from each sector"
   ]
  },
  {
   "cell_type": "markdown",
   "id": "834615c9-4fa5-48cd-8e02-d1a1c3bc2340",
   "metadata": {},
   "source": [
    "Define implicit tax rate (this is a rough estimate of emission taxes, and its only available for $t\\geq 1995$):"
   ]
  },
  {
   "cell_type": "code",
   "execution_count": 20,
   "id": "a6ebbd0f-1e25-4aa7-bd07-2833609a58d0",
   "metadata": {},
   "outputs": [],
   "source": [
    "db['tauCO2'] = adjMultiIndex.applyMult((db('vTax').xs('Emissions',level='taxTypes') / db('qCO2').replace(0,1)).fillna(0), output.index)\n",
    "db['dtauCO2']= db('tauCO2').index.droplevel('t').unique()\n",
    "db['dqCO2']  = db('qCO2').index.droplevel('t').unique()"
   ]
  },
  {
   "cell_type": "markdown",
   "id": "f43271e9-5229-4314-a712-14e11202931f",
   "metadata": {},
   "source": [
    "Define simple \"other\" regulation:"
   ]
  },
  {
   "cell_type": "code",
   "execution_count": 21,
   "id": "6a2c13c8-7810-4faa-8f66-4a486cc9bcb3",
   "metadata": {},
   "outputs": [],
   "source": [
    "db.aom(adj.rc_pd(db('TotalTax'), db['s_p'])-db('vTax').xs('Emissions',level='taxTypes'), name = 'tauLump')\n",
    "db.aom(pd.Series(0, index = output.index), name = 'tauS')\n",
    "db.aom(pd.Series(0, index = inputs.index), name = 'tauD')"
   ]
  },
  {
   "cell_type": "markdown",
   "id": "b2c2d93c-5f5b-4278-a526-a1b993fdc6b8",
   "metadata": {},
   "source": [
    "Define sector-specific prices given regulation:"
   ]
  },
  {
   "cell_type": "code",
   "execution_count": 22,
   "id": "81fe8c50-0aa5-4e50-912e-e2b9a3292a57",
   "metadata": {},
   "outputs": [],
   "source": [
    "db.aom(stdSort(adj.rc_pd((db('tauD')+db('p')).dropna(), inputs)), name = 'pD')"
   ]
  },
  {
   "cell_type": "markdown",
   "id": "819a67b4-8f45-4a2f-88c7-d2c82de47a33",
   "metadata": {},
   "source": [
    "## 2. Investment module"
   ]
  },
  {
   "cell_type": "markdown",
   "id": "200bce49-a31b-4aae-8bd2-1d5672124d45",
   "metadata": {},
   "source": [
    "### 2.1. Nesting structure"
   ]
  },
  {
   "cell_type": "markdown",
   "id": "04b442b7-a3de-482f-9e7e-8c5d23fb61eb",
   "metadata": {},
   "source": [
    "The investment module consists only of the materials nest, but includes energy:"
   ]
  },
  {
   "cell_type": "code",
   "execution_count": 23,
   "id": "b07fbfc6-9c97-46db-baf4-aa03ff147c93",
   "metadata": {},
   "outputs": [],
   "source": [
    "dImport = adj.rc_pd(db('dImport'), db('s_i'))\n",
    "dImport_dom = adj.rc_pd(db('dImport_dom'), db('s_i'))\n",
    "dImport_for = adj.rc_pd(db('dImport_for'), db('s_i'))"
   ]
  },
  {
   "cell_type": "markdown",
   "id": "5264b1c3-2311-46de-85c6-78d8d780b4eb",
   "metadata": {},
   "source": [
    "*Add mappings:*"
   ]
  },
  {
   "cell_type": "code",
   "execution_count": 24,
   "id": "38bf1af5-3d7b-4d04-9178-566d0fbcbf55",
   "metadata": {},
   "outputs": [],
   "source": [
    "df = dImport.to_frame(index=False).assign(m = lambda x: 'Materials_'+x['n'].astype(str), u = 'Materials')\n",
    "m = pd.MultiIndex.from_frame(df[['s','u','m']]).rename(['s','n','nn']) # mapping from materials to materials_x\n",
    "m = m.union(pd.MultiIndex.from_frame(df[['s','m','n']]).rename(['s','n','nn'])) # mapping from materials_x to x\n",
    "m = m.union(pd.MultiIndex.from_frame(df[['s','m','nn']]).rename(['s','n','nn'])) # mapping from materials_x to x_F"
   ]
  },
  {
   "cell_type": "markdown",
   "id": "83045608-258b-409b-ab79-7e2cdf4e0e5a",
   "metadata": {},
   "source": [
    "*Domestic only*"
   ]
  },
  {
   "cell_type": "code",
   "execution_count": 25,
   "id": "8b3a8470-180c-4ee0-b64b-cc9b15bef736",
   "metadata": {},
   "outputs": [],
   "source": [
    "df = dImport_dom.to_frame(index=False).assign(u = 'Materials')\n",
    "m = m.union(pd.MultiIndex.from_frame(df[['s','u','n']]).rename(['s','n','nn'])) # mapping from materials to input"
   ]
  },
  {
   "cell_type": "markdown",
   "id": "0030cf5d-0cc9-4c22-a85b-bdde087f2f67",
   "metadata": {},
   "source": [
    "Foreign only:"
   ]
  },
  {
   "cell_type": "code",
   "execution_count": 26,
   "id": "40be9493-4d73-432c-a559-4fd37194d42e",
   "metadata": {},
   "outputs": [],
   "source": [
    "df = dImport_for.to_frame(index=False).assign(u = 'Materials')\n",
    "m = m.union(pd.MultiIndex.from_frame(df[['s','u','n']]).rename(['s','n','nn'])) # mapping from materials to input"
   ]
  },
  {
   "cell_type": "markdown",
   "id": "2a4b0474-ba49-4cb3-92af-d52b950585c8",
   "metadata": {},
   "source": [
    "Replace the upper-most level (Materials) with the name of the sector:"
   ]
  },
  {
   "cell_type": "code",
   "execution_count": 27,
   "id": "c9554003-fe42-4249-9974-6d00f63f5d35",
   "metadata": {},
   "outputs": [],
   "source": [
    "df = m.to_frame(index=False)\n",
    "df.loc[df.n == 'Materials','n'] = df.loc[df.n == 'Materials', 's']\n",
    "m = pd.MultiIndex.from_frame(df)"
   ]
  },
  {
   "cell_type": "markdown",
   "id": "9b922f21-29a2-4d8d-879d-036545da8793",
   "metadata": {},
   "source": [
    "*Add nesting structure:*"
   ]
  },
  {
   "cell_type": "code",
   "execution_count": 28,
   "id": "048d7af9-bc46-4077-8952-bb219ab367ad",
   "metadata": {},
   "outputs": [],
   "source": [
    "db['nestInvestment'] = m"
   ]
  },
  {
   "cell_type": "markdown",
   "id": "928ff56c-7c93-43ac-be4e-394e80a2e581",
   "metadata": {},
   "source": [
    "### 2.2: Elasticities:"
   ]
  },
  {
   "cell_type": "code",
   "execution_count": 29,
   "id": "4eba19e4-6848-4625-922b-7b19406190e4",
   "metadata": {},
   "outputs": [],
   "source": [
    "sigmaI = pd.Series(.5, index = m.droplevel('nn').unique(), name = 'sigma')\n",
    "db.aom(sigmaI, name = 'sigma')"
   ]
  },
  {
   "cell_type": "markdown",
   "id": "b5e29481-4e2c-44bb-a3d9-003a80d8e1ff",
   "metadata": {},
   "source": [
    "### 2.3. Regulation:"
   ]
  },
  {
   "cell_type": "markdown",
   "id": "8b2919d0-f17b-4a54-80ca-7dcf7152feee",
   "metadata": {},
   "source": [
    "The investment sector does not itself emit emissions; however, investments are still tied to emissions through this sectors' reliance on inputs from other sectors (that are emission intensive)."
   ]
  },
  {
   "cell_type": "code",
   "execution_count": 30,
   "id": "b518855d-e8d6-401d-bb52-2dc7ddf296bc",
   "metadata": {},
   "outputs": [],
   "source": [
    "output = adj.rc_pd(db['qS'], db['s_i']) # output\n",
    "inputs = adj.rc_pd(db['qD'], db['s_i']) # inputs\n",
    "outShares = output/pyDatabases.pdSum(output, 'n') # output shares"
   ]
  },
  {
   "cell_type": "markdown",
   "id": "0e8ea9de-aae4-4d19-a9ff-bf0a623639d7",
   "metadata": {},
   "source": [
    "The rest of the regulation is straightforward; we assume that all taxes are paid lump sum"
   ]
  },
  {
   "cell_type": "code",
   "execution_count": 31,
   "id": "5e7a42e9-e3b6-4218-86f2-fbec3b39434c",
   "metadata": {},
   "outputs": [],
   "source": [
    "db.aom(adj.rc_pd(db('TotalTax'), db['s_i']), name = 'tauLump')\n",
    "db.aom(pd.Series(0, index = output.index), name = 'tauS')\n",
    "db.aom(pd.Series(0, index = inputs.index), name = 'tauD')"
   ]
  },
  {
   "cell_type": "markdown",
   "id": "17a64f1a-5b5b-4f06-9fbc-df4c2ef65431",
   "metadata": {},
   "source": [
    "Define sector-specific prices given regulation:"
   ]
  },
  {
   "cell_type": "code",
   "execution_count": 32,
   "id": "50d4822d-56b4-4b7b-b877-21c4128a3b58",
   "metadata": {},
   "outputs": [],
   "source": [
    "db.aom(stdSort(adj.rc_pd(db('tauD')+db('p'), inputs)), name = 'pD')"
   ]
  },
  {
   "cell_type": "markdown",
   "id": "c561e779-eb26-4dcf-a832-702584d0cece",
   "metadata": {},
   "source": [
    "## 3. Households"
   ]
  },
  {
   "cell_type": "markdown",
   "id": "80c562d0-7ad2-48a4-9021-1fba9d8b0eca",
   "metadata": {},
   "source": [
    "### 3.1. Nesting structure"
   ]
  },
  {
   "cell_type": "markdown",
   "id": "fe21f8e1-3456-4699-a60c-8e9768a949e7",
   "metadata": {},
   "source": [
    "The household consumption nesting structure is somewhat similar to the investment sectors, with the exception that the top nest is a consumption aggregate that captures intertemporal preferences for consumption smoothing."
   ]
  },
  {
   "cell_type": "code",
   "execution_count": 33,
   "id": "2e81ead3-8852-4fa4-ad8f-c98f14d7e995",
   "metadata": {},
   "outputs": [],
   "source": [
    "dImport = adj.rc_pd(db('dImport'), db('s_HH'))\n",
    "dImport_dom = adj.rc_pd(db('dImport_dom'), db('s_HH'))\n",
    "dImport_for = adj.rc_pd(db('dImport_for'), db('s_HH'))"
   ]
  },
  {
   "cell_type": "markdown",
   "id": "bdf77015-8abf-43f3-9574-a383b7a5ad9e",
   "metadata": {},
   "source": [
    "*Add mappings:*"
   ]
  },
  {
   "cell_type": "code",
   "execution_count": 34,
   "id": "4363b9c7-55de-439b-8308-3d82b49b1708",
   "metadata": {},
   "outputs": [],
   "source": [
    "df = dImport.to_frame(index=False).assign(m = lambda x: 'C_'+x['n'].astype(str), u = 'C')\n",
    "m = pd.MultiIndex.from_frame(df[['s','u','m']]).rename(['s','n','nn']) # mapping from materials to materials_x\n",
    "m = m.union(pd.MultiIndex.from_frame(df[['s','m','n']]).rename(['s','n','nn'])) # mapping from materials_x to x\n",
    "m = m.union(pd.MultiIndex.from_frame(df[['s','m','nn']]).rename(['s','n','nn'])) # mapping from materials_x to x_F"
   ]
  },
  {
   "cell_type": "markdown",
   "id": "e7b4d015-4788-4493-a7ee-7059ca6fbd54",
   "metadata": {},
   "source": [
    "*Domestic only*"
   ]
  },
  {
   "cell_type": "code",
   "execution_count": 35,
   "id": "a6b5eff7-5e2c-4278-9889-86951c892c04",
   "metadata": {},
   "outputs": [],
   "source": [
    "df = dImport_dom.to_frame(index=False).assign(u = 'C')\n",
    "m = m.union(pd.MultiIndex.from_frame(df[['s','u','n']]).rename(['s','n','nn'])) # mapping from materials to input"
   ]
  },
  {
   "cell_type": "markdown",
   "id": "4504bbda-8944-41c9-a0d3-a95887745d5f",
   "metadata": {},
   "source": [
    "Foreign only:"
   ]
  },
  {
   "cell_type": "code",
   "execution_count": 36,
   "id": "02c6cf65-6958-4d54-aab2-3bc32ad486d6",
   "metadata": {},
   "outputs": [],
   "source": [
    "df = dImport_for.to_frame(index=False).assign(u = 'C')\n",
    "m = m.union(pd.MultiIndex.from_frame(df[['s','u','n']]).rename(['s','n','nn'])) # mapping from materials to input"
   ]
  },
  {
   "cell_type": "markdown",
   "id": "60ef960f-1d33-4da3-88e0-91991b421f9a",
   "metadata": {},
   "source": [
    "Replace the upper-most level with the name of the household consumption aggregate:"
   ]
  },
  {
   "cell_type": "code",
   "execution_count": 37,
   "id": "fb5839e4-468d-4419-bcd7-cb3147012d74",
   "metadata": {},
   "outputs": [],
   "source": [
    "df = m.to_frame(index=False)\n",
    "df.loc[df.n == 'C','n'] = 'C_'+df.loc[df.n == 'C', 's']\n",
    "m = pd.MultiIndex.from_frame(df)"
   ]
  },
  {
   "cell_type": "markdown",
   "id": "70de6038-964e-480f-b459-c5249f980f8e",
   "metadata": {},
   "source": [
    "*Add nesting structure:*"
   ]
  },
  {
   "cell_type": "code",
   "execution_count": 38,
   "id": "09750f54-5f57-4ea7-b4a5-efdd098b15ab",
   "metadata": {},
   "outputs": [],
   "source": [
    "db['nestHH'] = m"
   ]
  },
  {
   "cell_type": "markdown",
   "id": "d2bb0c17-12ad-49c8-ab52-bc024493a209",
   "metadata": {},
   "source": [
    "Add mapping from consumption aggregate to labor:"
   ]
  },
  {
   "cell_type": "code",
   "execution_count": 39,
   "id": "b625b601-69d8-487a-83bd-f93ee7332287",
   "metadata": {},
   "outputs": [],
   "source": [
    "db['L2C'] = pd.MultiIndex.from_arrays([db('s_HH'), pd.Index(['L']*len(db('s_HH')), name = 'n'), ('C_'+db('s_HH')).rename('nn')])"
   ]
  },
  {
   "cell_type": "markdown",
   "id": "5545a324-8b3f-4749-b321-169e17935093",
   "metadata": {},
   "source": [
    "### 3.2. Elasticities:"
   ]
  },
  {
   "cell_type": "markdown",
   "id": "f83a859d-e7f9-4f4b-bdfe-2c5bb34e67e0",
   "metadata": {},
   "source": [
    "Upper level nest:"
   ]
  },
  {
   "cell_type": "code",
   "execution_count": 40,
   "id": "838da06c-a6e2-4627-930d-39edd457f99d",
   "metadata": {},
   "outputs": [],
   "source": [
    "sigma_HH_upper = pd.Series(0.5, index = m[m.get_level_values('n') == 'C_HH'].droplevel('nn').unique(), name = 'sigma')"
   ]
  },
  {
   "cell_type": "markdown",
   "id": "facf370b-bc99-4c76-8286-0d989185d314",
   "metadata": {},
   "source": [
    "Lower-level (import/domestic competition):"
   ]
  },
  {
   "cell_type": "code",
   "execution_count": 41,
   "id": "b542df96-6eba-405a-8487-4929aabb1bc6",
   "metadata": {},
   "outputs": [],
   "source": [
    "sigma_HH_Import = pd.Series(2, index = m[m.get_level_values('n') != 'C_HH'].droplevel('nn').unique(), name = 'sigma')"
   ]
  },
  {
   "cell_type": "markdown",
   "id": "122cc69d-5f4b-4f4b-bf60-85d337a066e0",
   "metadata": {},
   "source": [
    "Add to database:"
   ]
  },
  {
   "cell_type": "code",
   "execution_count": 42,
   "id": "3ee8561b-0e89-4982-adfa-20628e4b6be6",
   "metadata": {},
   "outputs": [],
   "source": [
    "sigma_HH = pd.concat([sigma_HH_upper, sigma_HH_Import], axis = 0) \n",
    "db.aom(sigma_HH, name = 'sigma')"
   ]
  },
  {
   "cell_type": "markdown",
   "id": "0c12dfab-cc1e-4096-9c51-20bc160281ce",
   "metadata": {},
   "source": [
    "Frisch elasticity:"
   ]
  },
  {
   "cell_type": "code",
   "execution_count": 43,
   "id": "f4c0890e-7818-4ffa-b3ba-75b483e11fcf",
   "metadata": {},
   "outputs": [],
   "source": [
    "db.aom(pd.Series(.25, index = db('s_HH')), name = 'frisch')\n",
    "# db.aom(pd.Series(.25, index = db('L2C').droplevel('nn').unique()), name = 'frisch')"
   ]
  },
  {
   "cell_type": "markdown",
   "id": "b494c001-b05a-4ff1-a7e9-e8ce5477e758",
   "metadata": {},
   "source": [
    "### 3.3. Regulation:"
   ]
  },
  {
   "cell_type": "markdown",
   "id": "2f8a8f37-4975-4fb5-b78b-c32aa265cf72",
   "metadata": {},
   "source": [
    "Households do not directly emit anything (it all happens in the production process). Currently, we use a very simple type of regulation here:\n",
    "* Households pay VAT (the size of which is included in the IO data); we impose this as a flat rate on all inputs.\n",
    "* Set the labor income tax rate at 0.47 (roughly the average for 2018 data).\n",
    "* We set the level of lump sum transfers at 40\\% of labor income (roughly the case for 2018 data).\n",
    "* Finally, *for now/temporarily*, adjust the value of *TotalTax* to ensure that the consumer has a balanced budget. If we used detailed data on regulation on households, we could drop this assumption."
   ]
  },
  {
   "cell_type": "code",
   "execution_count": 44,
   "id": "bd835605-554b-44bd-8407-e433f120a160",
   "metadata": {},
   "outputs": [],
   "source": [
    "output = adj.rc_pd(db('qS'), db['s_HH'])\n",
    "inputs = adj.rc_pd(db('qD'), db['s_HH'])\n",
    "rTransfer = 0.4004\n",
    "rLaborTax = 0.478\n",
    "rVAT = adj.rc_pd(db('vTax').xs('Moms',level='taxTypes'), db['s_HH']) / pyDatabases.pdSum(inputs, 'n')\n",
    "db.aom(adjMultiIndex.applyMult(rVAT,inputs.index), name = 'tauD') # add flat rate VAT on all demand\n",
    "db.aom(pd.Series(rLaborTax, index = output.index), name = 'tauS') # add a flat labor tax rate\n",
    "db.aom(pyDatabases.pdSum(-output * rTransfer, 'n'), name = 'tauLump') # Adjust lump sum tax\n",
    "db.aom(pyDatabases.pdSum(rVAT * inputs, 'n')+pyDatabases.pdSum(output, 'n') * (rLaborTax-rTransfer), name = 'TotalTax') # adhoc adjustment of 'TotalTax'"
   ]
  },
  {
   "cell_type": "markdown",
   "id": "aa9bb040-43ef-48b6-9d51-324bc844e160",
   "metadata": {},
   "source": [
    "Define sector-specific prices given regulation:"
   ]
  },
  {
   "cell_type": "code",
   "execution_count": 45,
   "id": "e1c95037-6331-4178-b0df-efbf32cc86a2",
   "metadata": {},
   "outputs": [],
   "source": [
    "db.aom(stdSort(adj.rc_pd(db('tauD')+db('p'), inputs)), name = 'pD')"
   ]
  },
  {
   "cell_type": "markdown",
   "id": "c13fbe44-878c-43c6-ae68-57333270ee09",
   "metadata": {},
   "source": [
    "## 4. Government"
   ]
  },
  {
   "cell_type": "markdown",
   "id": "9dd585ab-1624-470e-87a3-d84d1ba8d3cd",
   "metadata": {},
   "source": [
    "### 4.1. Nesting structure"
   ]
  },
  {
   "cell_type": "markdown",
   "id": "706641f4-0016-4a0a-8e6a-55b5b80132d7",
   "metadata": {},
   "source": [
    "Government consumption is nested in a similar way as household consumption - and uses the same elasticities:"
   ]
  },
  {
   "cell_type": "code",
   "execution_count": 46,
   "id": "b2624c57-d2be-4461-b7a1-fd12bfe24688",
   "metadata": {},
   "outputs": [],
   "source": [
    "dImport = adj.rc_pd(db('dImport'), db('s_G'))\n",
    "dImport_dom = adj.rc_pd(db('dImport_dom'), db('s_G'))\n",
    "dImport_for = adj.rc_pd(db('dImport_for'), db('s_G'))"
   ]
  },
  {
   "cell_type": "markdown",
   "id": "f672b1df-7b1b-4690-be7e-d0ec5c47a67d",
   "metadata": {},
   "source": [
    "*Add mappings:*"
   ]
  },
  {
   "cell_type": "code",
   "execution_count": 47,
   "id": "a4494ce5-c0c5-42ce-a5a5-fb279a4e541e",
   "metadata": {},
   "outputs": [],
   "source": [
    "df = dImport.to_frame(index=False).assign(m = lambda x: 'GC_'+x['n'].astype(str), u = 'GC')\n",
    "m = pd.MultiIndex.from_frame(df[['s','u','m']]).rename(['s','n','nn']) # mapping from materials to materials_x\n",
    "m = m.union(pd.MultiIndex.from_frame(df[['s','m','n']]).rename(['s','n','nn'])) # mapping from materials_x to x\n",
    "m = m.union(pd.MultiIndex.from_frame(df[['s','m','nn']]).rename(['s','n','nn'])) # mapping from materials_x to x_F"
   ]
  },
  {
   "cell_type": "markdown",
   "id": "9098e6e3-4785-4cec-928f-375314150904",
   "metadata": {},
   "source": [
    "*Domestic only*"
   ]
  },
  {
   "cell_type": "code",
   "execution_count": 48,
   "id": "da7ce028-d5a3-4f0b-8f62-b455d380b073",
   "metadata": {},
   "outputs": [],
   "source": [
    "df = dImport_dom.to_frame(index=False).assign(u = 'GC')\n",
    "m = m.union(pd.MultiIndex.from_frame(df[['s','u','n']]).rename(['s','n','nn'])) # mapping from materials to input"
   ]
  },
  {
   "cell_type": "markdown",
   "id": "dbf149d2-2aaa-43c7-a2dc-4d9d6a4b18fe",
   "metadata": {},
   "source": [
    "Foreign only:"
   ]
  },
  {
   "cell_type": "code",
   "execution_count": 49,
   "id": "216006d8-5ed9-4a44-8aec-58950c3d978d",
   "metadata": {},
   "outputs": [],
   "source": [
    "df = dImport_for.to_frame(index=False).assign(u = 'GC')\n",
    "m = m.union(pd.MultiIndex.from_frame(df[['s','u','n']]).rename(['s','n','nn'])) # mapping from materials to input"
   ]
  },
  {
   "cell_type": "markdown",
   "id": "36c2e6d4-532c-40e6-ae7d-9389825741c6",
   "metadata": {},
   "source": [
    "Replace the upper-most level with the name of the household consumption aggregate:"
   ]
  },
  {
   "cell_type": "code",
   "execution_count": 50,
   "id": "cb596fc0-4fdd-423e-b3d3-846f762d9ba1",
   "metadata": {},
   "outputs": [],
   "source": [
    "df = m.to_frame(index=False)\n",
    "df.loc[df.n == 'GC','n'] = 'GC_'+df.loc[df.n == 'GC', 's']\n",
    "m = pd.MultiIndex.from_frame(df)"
   ]
  },
  {
   "cell_type": "markdown",
   "id": "cd5194a2-9349-4230-995b-392a89a2256b",
   "metadata": {},
   "source": [
    "*Add nesting structure:*"
   ]
  },
  {
   "cell_type": "code",
   "execution_count": 51,
   "id": "46af3f75-eb5b-4165-a00a-ba9f0386673a",
   "metadata": {},
   "outputs": [],
   "source": [
    "db['nestG'] = m"
   ]
  },
  {
   "cell_type": "markdown",
   "id": "5512a9b6-a8d0-4282-9558-5edcfac24b1f",
   "metadata": {},
   "source": [
    "### 4.2. Elasticities"
   ]
  },
  {
   "cell_type": "markdown",
   "id": "a3291cab-d177-459c-aada-1064e21a7f79",
   "metadata": {},
   "source": [
    "Upper level nest:"
   ]
  },
  {
   "cell_type": "code",
   "execution_count": 52,
   "id": "4522a970-f8d4-4897-9b6b-37256fdac3c8",
   "metadata": {},
   "outputs": [],
   "source": [
    "sigma_G_upper = pd.Series(.9, index = m[m.get_level_values('n') == 'GC_G'].droplevel('nn').unique(), name = 'sigma')"
   ]
  },
  {
   "cell_type": "markdown",
   "id": "75fe051d-3a42-4852-a762-c5b0b07478b4",
   "metadata": {},
   "source": [
    "Lower-level (import/domestic competition):"
   ]
  },
  {
   "cell_type": "code",
   "execution_count": 53,
   "id": "dabdb3ad-49e2-4485-89e3-bc80dce1690d",
   "metadata": {},
   "outputs": [],
   "source": [
    "sigma_G_Import = pd.Series(2, index = m[m.get_level_values('n') != 'GC_G'].droplevel('nn').unique(), name = 'sigma')"
   ]
  },
  {
   "cell_type": "markdown",
   "id": "28d93704-5bd9-47dd-b8da-70472719499d",
   "metadata": {},
   "source": [
    "Add to database:"
   ]
  },
  {
   "cell_type": "code",
   "execution_count": 54,
   "id": "46b0c8ca-5c54-4374-8e09-fcd5c2ecb293",
   "metadata": {},
   "outputs": [],
   "source": [
    "sigma_G = pd.concat([sigma_G_upper, sigma_G_Import], axis = 0) \n",
    "db.aom(sigma_G, name = 'sigma')"
   ]
  },
  {
   "cell_type": "markdown",
   "id": "3bbf0aea-9cf4-419b-8a81-aa0446e40362",
   "metadata": {},
   "source": [
    "### 4.3. Regulation"
   ]
  },
  {
   "cell_type": "markdown",
   "id": "226bd433-f737-4676-8e0b-44ae8f29cd9e",
   "metadata": {},
   "source": [
    "The government regulates/taxes itself (because data says so). Because we use incomplete data on taxes (especially on household taxes/transfers), we make some adhoc adjustments here:\n",
    "* Remove taxes on inventory (because the \"inventory sector\" is only used for completeness of the IO system).\n",
    "* Set flat VAT tax rate on government consumption to target taxes from government sector."
   ]
  },
  {
   "cell_type": "code",
   "execution_count": 55,
   "id": "ebfc493e-b710-4704-be9e-e94025eeb8c6",
   "metadata": {},
   "outputs": [],
   "source": [
    "inputs = adj.rc_pd(db('qD'), db('s_G'))\n",
    "db['TotalTax'] = adj.rc_pd(db('TotalTax'), ('not', pd.Index(['itory'],name='s'))) # remove inventory taxes\n",
    "db['d_TotalTax'] = db['TotalTax'].index.droplevel('t').unique() # what sectors pay taxes\n",
    "rVAT = adj.rc_pd(db('TotalTax'), db('s_G')) / pyDatabases.pdSum(inputs,'n') # define VAT rate of taxes\n",
    "db.aom(adjMultiIndex.applyMult(rVAT,inputs.index), name = 'tauD') # add flat rate VAT on all demand\n",
    "db.aom(stdSort(adj.rc_pd(db('tauD')+db('p'), inputs)), name = 'pD')"
   ]
  },
  {
   "cell_type": "markdown",
   "id": "4501913c-9c70-469c-8bfe-b48ab41e2159",
   "metadata": {},
   "source": [
    "## 5. Trade"
   ]
  },
  {
   "cell_type": "markdown",
   "id": "a00530ce-dc8d-40e5-b2c4-825af5b653d0",
   "metadata": {},
   "source": [
    "Set export elasticity to 7.5:"
   ]
  },
  {
   "cell_type": "code",
   "execution_count": 56,
   "id": "a69d9864-4e54-4523-8218-9c33528ef38c",
   "metadata": {},
   "outputs": [],
   "source": [
    "db.aom(pd.Series(7.5, index = db('dExport')), name='sigma')"
   ]
  },
  {
   "cell_type": "markdown",
   "id": "5d489732-2c50-4118-9112-44144ec71b26",
   "metadata": {},
   "source": [
    "*Note: We should add some information on regulation on trade at some point. Here, just add flat tariff/subsidy on all exports:* "
   ]
  },
  {
   "cell_type": "code",
   "execution_count": 57,
   "id": "0c0ff175-23d7-4d2e-9df3-0dd6f5b06376",
   "metadata": {},
   "outputs": [],
   "source": [
    "avgTariffRate = adj.rc_pd(db('TotalTax'), db('s_f'))/pyDatabases.pdSum(adj.rc_pd(db('qD'), db('s_f')), 'n')\n",
    "TariffRate = stdSort(adjMultiIndex.applyMult(avgTariffRate, db('dExport')))\n",
    "db.aom(TariffRate, name = 'tauD')\n",
    "db.aom(pd.Series(0, index = adj.rc_pd(db('TotalTax'), db('s_f')).index), name = 'tauLump')\n",
    "db.aom(stdSort(adj.rc_pd(db('tauD')+db('p'), db('s_f'))), name = 'pD')"
   ]
  },
  {
   "cell_type": "markdown",
   "id": "dfdc4d86-39f2-462a-a3fe-458ed85bd11e",
   "metadata": {},
   "source": [
    "## 6. Emissions"
   ]
  },
  {
   "cell_type": "markdown",
   "id": "bdf45299-a6ae-47de-a2e4-b98c96601607",
   "metadata": {},
   "source": [
    "Load data on abatement technologies, remove data that are not relevant for the time horizon of the model, extrapolate if needed, and adjust unit cost of technology (tax rate measures billion DKK / M1990 levels in million ton whereas technology data measures DKK/ton CO2):"
   ]
  },
  {
   "cell_type": "code",
   "execution_count": 58,
   "id": "2715d4c1-e6d4-4c1c-8c78-c948dda65785",
   "metadata": {},
   "outputs": [
    {
     "data": {
      "text/plain": [
       "<pyDatabases.gpyDB.gpyDB.GpyDB at 0x29cacc59b10>"
      ]
     },
     "execution_count": 58,
     "metadata": {},
     "output_type": "execute_result"
    }
   ],
   "source": [
    "techData = DbFromExcel.dbFromWB(os.path.join(d['data'], 'abatementData.xlsx'), {'var': 'EOP'}) # read data\n",
    "[symbol.__setattr__('vals', adj.rc_pd(symbol, db('t'))) for symbol in techData.values()];\n",
    "[symbol.__setattr__('vals', extrapolateUpper(symbol.vals, db('tE')[0])) for symbol in techData.values()];\n",
    "techData['tech'] = gpy(techData['techCost'].index.levels[0]) # read set from cost data\n",
    "techData['techCost'].vals = techData['techCost'].vals * (db('M1990') * 1e6)/db._scale # adjust unit cost from DKK/ton to billion DKK per M1990 level\n",
    "techData['DACCost'].vals = techData['DACCost'].vals  * (db('M1990') * 1e6)/db._scale\n",
    "MergeDbs.merge(db, techData)"
   ]
  },
  {
   "cell_type": "markdown",
   "id": "715ddf99-69e2-4fc3-ae52-d44cf9d95fa1",
   "metadata": {},
   "source": [
    "Next, define average CO2 tax, create ```tauDist``` that measures relative weight of CO2 in a specific sector:"
   ]
  },
  {
   "cell_type": "code",
   "execution_count": 59,
   "id": "f009b68e-307e-46d0-ae60-6b1b4e352f87",
   "metadata": {},
   "outputs": [],
   "source": [
    "db['uCO2'] = adj.rc_pd(db('qCO2'), db('s_p')) / adj.rc_pd(db('qS'), db('s_p')) # co2 share\n",
    "db['tauCO2agg'] = (db('tauCO2') * db('qCO2')).groupby('t').sum() / (db('qCO2').groupby('t').sum()) # average CO2 tax\n",
    "db['tauDist']   = db('tauCO2')/db('tauCO2agg')\n",
    "db['qCO2agg'] = db('qCO2').groupby('t').sum()"
   ]
  },
  {
   "cell_type": "markdown",
   "id": "373ec8a0-2d4c-4481-9836-eaab6c2009cf",
   "metadata": {},
   "source": [
    "For now, define the effective tax rate used in production modules as the copy of true tax:"
   ]
  },
  {
   "cell_type": "code",
   "execution_count": 60,
   "id": "9e88c1b1-83b1-4cfb-8154-d3315e85d036",
   "metadata": {},
   "outputs": [],
   "source": [
    "db['tauEffCO2'] = db('tauCO2').copy()"
   ]
  },
  {
   "cell_type": "markdown",
   "id": "cb04aca2-3409-4a51-9a12-bfe2a6637513",
   "metadata": {},
   "source": [
    "## 7. Globals"
   ]
  },
  {
   "cell_type": "markdown",
   "id": "5ce889dc-e956-4728-90b0-d044c5cac538",
   "metadata": {},
   "source": [
    "Other parameters/variables used throughout:"
   ]
  },
  {
   "cell_type": "code",
   "execution_count": 61,
   "id": "29f5e32f-8c1a-4eaf-9e43-458fc5093469",
   "metadata": {},
   "outputs": [],
   "source": [
    "db.aom(pd.Series(db('R_LR'), index = db('t')), name = 'Rrate', priority = 'first') # fix interest rate path at long run level"
   ]
  },
  {
   "cell_type": "markdown",
   "id": "5143e14f-cedd-4392-811d-9246e97d1830",
   "metadata": {},
   "source": [
    "## Export"
   ]
  },
  {
   "cell_type": "code",
   "execution_count": 62,
   "id": "f9117a4a-c948-4fd6-9d04-f4ec345b007f",
   "metadata": {},
   "outputs": [],
   "source": [
    "db.export(repo=d['data'])"
   ]
  }
 ],
 "metadata": {
  "kernelspec": {
   "display_name": "Python 3 (ipykernel)",
   "language": "python",
   "name": "python3"
  },
  "language_info": {
   "codemirror_mode": {
    "name": "ipython",
    "version": 3
   },
   "file_extension": ".py",
   "mimetype": "text/x-python",
   "name": "python",
   "nbconvert_exporter": "python",
   "pygments_lexer": "ipython3",
   "version": "3.11.8"
  }
 },
 "nbformat": 4,
 "nbformat_minor": 5
}
