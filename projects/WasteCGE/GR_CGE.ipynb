{
 "cells": [
  {
   "cell_type": "code",
   "execution_count": 1,
   "id": "9eff000a-2fee-4e26-be65-4899e02426db",
   "metadata": {},
   "outputs": [],
   "source": [
    "clean_up = True # if True, remove all gams related files from working folder before starting\n",
    "%run stdPackages.ipynb\n",
    "os.chdir(main)\n",
    "%run stdPlotting.ipynb\n",
    "os.chdir(d['py'])\n",
    "from gmsPython import nestingTree\n",
    "from valueShares import nestedShares_noOutputs, nestedShares\n",
    "from mCGE import CGE"
   ]
  },
  {
   "cell_type": "markdown",
   "id": "eda21cd1-7dd8-4917-a9ad-515df66b82b8",
   "metadata": {},
   "source": [
    "# CGE model"
   ]
  },
  {
   "cell_type": "markdown",
   "id": "be925be7-aa36-4eae-a1aa-c5ee423a0a0c",
   "metadata": {},
   "source": [
    "*Load data:*"
   ]
  },
  {
   "cell_type": "code",
   "execution_count": 2,
   "id": "6f16bfad-3b83-49fc-89e3-d087135893e3",
   "metadata": {},
   "outputs": [],
   "source": [
    "t0 = 2019 # set baseline year\n",
    "name = 'vGR' # specify name of the CGE version we are currently working on\n",
    "db = GpyDB(os.path.join(d['data'], f'{name}_{t0}'), name = '_'.join([name, str(t0), 'solDB']), ws = d['work']) # load and rename database \n",
    "dbIO = db.copy() # create copy without adjustments made along the way\n",
    "ws = db.ws # run everything from the same ws"
   ]
  },
  {
   "cell_type": "markdown",
   "id": "c4a9a28c-faf0-4a00-8b5a-f67a97f50e60",
   "metadata": {},
   "source": [
    "Initialize model:"
   ]
  },
  {
   "cell_type": "code",
   "execution_count": 3,
   "id": "3d241603-e7ef-4828-9e7e-3152d8b583a7",
   "metadata": {},
   "outputs": [],
   "source": [
    "M = CGE('_'.join([name, str(t0), 'CGE']), database = db)\n",
    "# M.db['rDepr'] = M.steadyStateDepr() # use this to adjust depreciation rates to get steady state investments in baseline year"
   ]
  },
  {
   "cell_type": "markdown",
   "id": "98bd2193-c96f-4216-878f-45dc4f86066c",
   "metadata": {},
   "source": [
    "## 1. Adding modules:"
   ]
  },
  {
   "cell_type": "markdown",
   "id": "7991e93d-4e73-4c67-8d76-c20bb9dba885",
   "metadata": {},
   "source": [
    "### 1.1. Production"
   ]
  },
  {
   "cell_type": "markdown",
   "id": "65d78cfa-f932-419d-9a17-6392f36aa237",
   "metadata": {},
   "source": [
    "The production module is initialized with a nesting tree and value shares to identify the $\\mu$-share parameters of the nesting structure."
   ]
  },
  {
   "cell_type": "markdown",
   "id": "c03d984f-847d-4a16-a47d-68fac3d5a214",
   "metadata": {},
   "source": [
    "Nesting structure:"
   ]
  },
  {
   "cell_type": "code",
   "execution_count": 4,
   "id": "d51310b1-6c90-4bc6-947c-13e5a4f86230",
   "metadata": {},
   "outputs": [],
   "source": [
    "wasteNest = adj.rc_pd(db('nestProduction'), db('s_Waste')) # the adj.rc_pd(s, c) adjusts the symbol 's' by matching with the condition 'c'. It operates by matching the indices.\n",
    "otherNest = db('nestProduction').difference(wasteNest) "
   ]
  },
  {
   "cell_type": "markdown",
   "id": "e549a4cd-0f5f-4bd3-8005-19c19cfeeba0",
   "metadata": {},
   "source": [
    "Initialize trees:"
   ]
  },
  {
   "cell_type": "code",
   "execution_count": 5,
   "id": "2d47b97d-5ccd-4a78-be08-e45d495f216d",
   "metadata": {},
   "outputs": [
    {
     "data": {
      "text/plain": [
       "<gmsPython.nestingTree.nestingTree.AggTree at 0x1ca63c46e50>"
      ]
     },
     "execution_count": 5,
     "metadata": {},
     "output_type": "execute_result"
    }
   ],
   "source": [
    "waste = nestingTree.Tree('W', tree = wasteNest.to_list(), f = 'CES') \n",
    "other = nestingTree.Tree('O', tree = otherNest.to_list(), f = 'CES')\n",
    "nest_W = nestingTree.AggTree(name = 'W', trees = {t.name: t for t in [waste]}, ws = ws)\n",
    "nest_O = nestingTree.AggTree(name = 'O', trees = {t.name: t for t in [other]}, ws = ws)\n",
    "nest_W(namespace = {str(n)+'_input':n for n in db('n')})\n",
    "nest_O(namespace = {str(n)+'_input':n for n in db('n')})\n",
    "# nest(namespace = {str(n)+'_input':n for n in db('n')}) # the __call__ method establishes relevant symbols to create the gams model"
   ]
  },
  {
   "cell_type": "markdown",
   "id": "662a3f21-95de-48db-8efa-e7b0592c77ad",
   "metadata": {},
   "source": [
    "Get value shares:"
   ]
  },
  {
   "cell_type": "code",
   "execution_count": 6,
   "id": "442e9bd8-9a25-4d70-a133-f9e3e08f52a5",
   "metadata": {},
   "outputs": [],
   "source": [
    "v_W = nestedShares(nest_W, ws = ws)\n",
    "v_O = nestedShares(nest_O, ws = ws)\n",
    "db_W = v_W(dbIO) # one-liner that returns solution database\n",
    "db_O = v_O(dbIO)"
   ]
  },
  {
   "cell_type": "markdown",
   "id": "1ea948a1-377d-4220-86db-a29fa33784cc",
   "metadata": {},
   "source": [
    "Use share parameters and values to get initial values for intermediates:"
   ]
  },
  {
   "cell_type": "code",
   "execution_count": 7,
   "id": "07073a0d-d5b2-4dae-8e69-8ce2070b3017",
   "metadata": {},
   "outputs": [
    {
     "name": "stderr",
     "output_type": "stream",
     "text": [
      "C:\\Users\\sxj477\\Anaconda3\\envs\\GAMS46\\Lib\\site-packages\\pyDatabases\\gpyDB\\database.py:525: RuntimeWarning: The values in the array are unorderable. Pass `sort=False` to suppress this warning.\n",
      "  return ss.combine_first(s)\n"
     ]
    }
   ],
   "source": [
    "db.aom(db_W('mu').xs(t0), name = 'mu')\n",
    "db.aom(db_O('mu').xs(t0), name = 'mu')\n",
    "db.aom(adj.rc_pd(db_W('vD'), nest_W.get('int')).rename('qD'), name = 'qD', priority = 'first') # specify intermediate goods levels\n",
    "db.aom(adj.rc_pd(db_O('vD'), nest_O.get('int')).rename('qD'), name = 'qD', priority = 'first') # specify intermediate goods levels"
   ]
  },
  {
   "cell_type": "markdown",
   "id": "09afb8b4-4b51-41eb-b3e7-0c867fb450e6",
   "metadata": {},
   "source": [
    "Use static user cost as initial guess for price on durables (if no other has been provided):"
   ]
  },
  {
   "cell_type": "code",
   "execution_count": 8,
   "id": "38a70cdb-989a-40f4-a3bc-ad214ffc83ab",
   "metadata": {},
   "outputs": [],
   "source": [
    "db.aom(db('pD_dur'), name = 'pD', priority = 'first') # pD_dur includes an estimate of the long-run user-cost of capital"
   ]
  },
  {
   "cell_type": "markdown",
   "id": "12e4959b-b65d-4fb4-96f3-4668088e10a7",
   "metadata": {},
   "source": [
    "Next, we initialize the production module:"
   ]
  },
  {
   "cell_type": "code",
   "execution_count": 9,
   "id": "ce4f74fb-e1cb-4cb9-9878-ae79b4fed65a",
   "metadata": {
    "scrolled": true
   },
   "outputs": [
    {
     "data": {
      "text/plain": [
       "<mProduction.NestedCES at 0x1ca635cf950>"
      ]
     },
     "execution_count": 9,
     "metadata": {},
     "output_type": "execute_result"
    }
   ],
   "source": [
    "M.addProductionModule(nest_W, partial = True)\n",
    "M.addProductionModule(nest_O, partial = True)"
   ]
  },
  {
   "cell_type": "markdown",
   "id": "34ccf32f-8b52-411a-ac6f-4938f7d12465",
   "metadata": {},
   "source": [
    "### 1.2. Investment module"
   ]
  },
  {
   "cell_type": "markdown",
   "id": "a74a94e3-418b-48c5-b141-8c26a4a6f469",
   "metadata": {},
   "source": [
    "Similar to production module, but without accumulation of durables:"
   ]
  },
  {
   "cell_type": "code",
   "execution_count": 10,
   "id": "36fa4877-9a23-480f-8096-59ab363581ea",
   "metadata": {},
   "outputs": [
    {
     "data": {
      "text/plain": [
       "<gmsPython.nestingTree.nestingTree.AggTree at 0x1ca63cf9090>"
      ]
     },
     "execution_count": 10,
     "metadata": {},
     "output_type": "execute_result"
    }
   ],
   "source": [
    "nest = nestingTree.AggTree(name = 'I', trees = {'I': nestingTree.Tree('I', tree = db('nestInvestment').to_list(), f = 'CES')}, ws = ws)\n",
    "nest(namespace = {str(n)+'_input':n for n in db('n')})"
   ]
  },
  {
   "cell_type": "markdown",
   "id": "45ff2cb8-6dcf-4edb-8774-596ccd806320",
   "metadata": {},
   "source": [
    "*Define share parameters:*"
   ]
  },
  {
   "cell_type": "code",
   "execution_count": 11,
   "id": "52429886-0d17-414b-8d92-65dcb02660f6",
   "metadata": {},
   "outputs": [],
   "source": [
    "v = nestedShares(nest, ws = ws)\n",
    "db_vs = v(dbIO) "
   ]
  },
  {
   "cell_type": "markdown",
   "id": "2dc96cac-ad02-4013-a13a-f194a4a1fae3",
   "metadata": {},
   "source": [
    "*Use share parameters and values to get initial values for intermediates:*"
   ]
  },
  {
   "cell_type": "code",
   "execution_count": 12,
   "id": "aa30dc4c-fe35-4747-99fc-b6a973f7a0bb",
   "metadata": {},
   "outputs": [
    {
     "name": "stderr",
     "output_type": "stream",
     "text": [
      "C:\\Users\\sxj477\\Anaconda3\\envs\\GAMS46\\Lib\\site-packages\\pyDatabases\\gpyDB\\database.py:525: RuntimeWarning: The values in the array are unorderable. Pass `sort=False` to suppress this warning.\n",
      "  return ss.combine_first(s)\n"
     ]
    }
   ],
   "source": [
    "db.aom(db_vs('mu').xs(t0), name = 'mu') \n",
    "db.aom(adj.rc_pd(db_vs('vD'), nest.get('int')).rename('qD'), name = 'qD', priority = 'first') # specify intermediate goods levels"
   ]
  },
  {
   "cell_type": "markdown",
   "id": "6a0af66f-ac54-4d76-9207-cd856f62a314",
   "metadata": {},
   "source": [
    "*Add module as production type to CGE:*"
   ]
  },
  {
   "cell_type": "code",
   "execution_count": 13,
   "id": "7de78d37-d963-474c-a4f3-47dead04d477",
   "metadata": {},
   "outputs": [
    {
     "data": {
      "text/plain": [
       "<mProduction.NestedCES at 0x1ca641929d0>"
      ]
     },
     "execution_count": 13,
     "metadata": {},
     "output_type": "execute_result"
    }
   ],
   "source": [
    "M.addProductionModule(nest, partial = True)"
   ]
  },
  {
   "cell_type": "markdown",
   "id": "45009e66-f5cc-467f-9b67-6a58cf623d24",
   "metadata": {},
   "source": [
    "### 1.3. Consumer module"
   ]
  },
  {
   "cell_type": "markdown",
   "id": "5ac5db5c-7f07-4786-8a14-fdc3e0101315",
   "metadata": {},
   "source": [
    "*Nesting tree:*"
   ]
  },
  {
   "cell_type": "code",
   "execution_count": 14,
   "id": "04450f6a-fc2b-4ca7-b0eb-1d8ddaf376e1",
   "metadata": {},
   "outputs": [
    {
     "data": {
      "text/plain": [
       "<gmsPython.nestingTree.nestingTree.AggTree at 0x1ca64221090>"
      ]
     },
     "execution_count": 14,
     "metadata": {},
     "output_type": "execute_result"
    }
   ],
   "source": [
    "cesNest = nestingTree.Tree('HH', tree = db('nestHH').to_list(), f = 'CES')\n",
    "nest = nestingTree.AggTree(name = 'HH', trees = {t.name: t for t in [cesNest]}, ws = ws)\n",
    "nest(namespace = {str(n)+'_input': n for n in db('n')})"
   ]
  },
  {
   "cell_type": "markdown",
   "id": "e8dab491-1961-4a8d-9f6b-6c51a151344a",
   "metadata": {},
   "source": [
    "Value shares:"
   ]
  },
  {
   "cell_type": "code",
   "execution_count": 15,
   "id": "60351f37-13e2-4670-9222-41d9840ea0b7",
   "metadata": {},
   "outputs": [],
   "source": [
    "v = nestedShares_noOutputs(nest, ws = ws)\n",
    "db_vs = v(dbIO) # one-liner that returns solution database"
   ]
  },
  {
   "cell_type": "markdown",
   "id": "e1fad971-1d02-418c-a133-415ea3250142",
   "metadata": {},
   "source": [
    "Add to main database:"
   ]
  },
  {
   "cell_type": "code",
   "execution_count": 16,
   "id": "41b40122-cf61-47f0-833a-667456df9b09",
   "metadata": {},
   "outputs": [
    {
     "name": "stderr",
     "output_type": "stream",
     "text": [
      "C:\\Users\\sxj477\\Anaconda3\\envs\\GAMS46\\Lib\\site-packages\\pyDatabases\\gpyDB\\database.py:525: RuntimeWarning: The values in the array are unorderable. Pass `sort=False` to suppress this warning.\n",
      "  return ss.combine_first(s)\n"
     ]
    }
   ],
   "source": [
    "db.aom(db_vs('mu').xs(t0), name = 'mu') \n",
    "db.aom(adj.rc_pd(db_vs('vD'), nest.get('int').union(nest.get('output'))).rename('qD'), name = 'qD', priority = 'first') # specify intermediate goods levels"
   ]
  },
  {
   "cell_type": "markdown",
   "id": "434e1ad8-33ef-432f-a03f-8d5705378b8f",
   "metadata": {},
   "source": [
    "Add as consumer module:"
   ]
  },
  {
   "cell_type": "code",
   "execution_count": 17,
   "id": "c2aea362-4bf6-4cc2-971b-166a77413977",
   "metadata": {},
   "outputs": [
    {
     "data": {
      "text/plain": [
       "<mHousehold.StaticConsumer at 0x1ca63cf2b90>"
      ]
     },
     "execution_count": 17,
     "metadata": {},
     "output_type": "execute_result"
    }
   ],
   "source": [
    "M.addConsumerModule(nest, L2C = db('L2C'), partial = True)"
   ]
  },
  {
   "cell_type": "markdown",
   "id": "f4ab334a-e15e-4e5a-b9af-0189fcd43573",
   "metadata": {},
   "source": [
    "### 1.4. Government sector"
   ]
  },
  {
   "cell_type": "markdown",
   "id": "10587389-d5da-4f16-b156-6beb4882c0f7",
   "metadata": {},
   "source": [
    "Nesting tree:"
   ]
  },
  {
   "cell_type": "code",
   "execution_count": 18,
   "id": "dc45f9f2-75f5-4820-a1fe-9f2bcb5e50b5",
   "metadata": {},
   "outputs": [
    {
     "data": {
      "text/plain": [
       "<gmsPython.nestingTree.nestingTree.AggTree at 0x1ca64209090>"
      ]
     },
     "execution_count": 18,
     "metadata": {},
     "output_type": "execute_result"
    }
   ],
   "source": [
    "cesNest = nestingTree.Tree('G', tree = db('nestG').to_list(), f = 'CES')\n",
    "nest = nestingTree.AggTree(name = 'G', trees = {t.name: t for t in [cesNest]}, ws = ws)\n",
    "nest(namespace = {str(n)+'_input': n for n in db('n')})"
   ]
  },
  {
   "cell_type": "markdown",
   "id": "44b6bdce-d75a-42b7-91e2-b97648b6ea54",
   "metadata": {},
   "source": [
    "Value shares:"
   ]
  },
  {
   "cell_type": "code",
   "execution_count": 19,
   "id": "fbd0914f-f23a-4c4c-b183-5123f3d6e5b6",
   "metadata": {},
   "outputs": [],
   "source": [
    "v = nestedShares_noOutputs(nest, ws = ws)\n",
    "db_vs = v(dbIO)"
   ]
  },
  {
   "cell_type": "markdown",
   "id": "3f64d9f8-d50d-4362-bb2c-0d00d6837f99",
   "metadata": {},
   "source": [
    "Add to main database:"
   ]
  },
  {
   "cell_type": "code",
   "execution_count": 20,
   "id": "e186d185-4192-4c41-a32a-e1d3ab989b83",
   "metadata": {},
   "outputs": [
    {
     "name": "stderr",
     "output_type": "stream",
     "text": [
      "C:\\Users\\sxj477\\Anaconda3\\envs\\GAMS46\\Lib\\site-packages\\pyDatabases\\gpyDB\\database.py:525: RuntimeWarning: The values in the array are unorderable. Pass `sort=False` to suppress this warning.\n",
      "  return ss.combine_first(s)\n"
     ]
    }
   ],
   "source": [
    "db.aom(db_vs('mu').xs(t0), name = 'mu') \n",
    "db.aom(adj.rc_pd(db_vs('vD'), nest.get('int').union(nest.get('output'))).rename('qD'), name = 'qD', priority = 'first') # specify intermediate goods levels"
   ]
  },
  {
   "cell_type": "markdown",
   "id": "e2e3f67e-7b5d-46ee-b261-6b77b933bd92",
   "metadata": {},
   "source": [
    "Add module:"
   ]
  },
  {
   "cell_type": "code",
   "execution_count": 21,
   "id": "09201bc5-1fe9-44e4-b98b-a6b4b2b0b3ab",
   "metadata": {
    "scrolled": true
   },
   "outputs": [
    {
     "data": {
      "text/plain": [
       "<mGovernment.BalancedBudget at 0x1ca64398b90>"
      ]
     },
     "execution_count": 21,
     "metadata": {},
     "output_type": "execute_result"
    }
   ],
   "source": [
    "M.addGovernmentModule(nest, L = db('L2C').droplevel('nn').unique())"
   ]
  },
  {
   "cell_type": "markdown",
   "id": "e3a5f467-7d5f-4919-8eb7-e04fe8007fe7",
   "metadata": {},
   "source": [
    "### 1.5. Simple modules"
   ]
  },
  {
   "cell_type": "markdown",
   "id": "df616787-c4a6-4827-8311-d4f3b387ba9a",
   "metadata": {},
   "source": [
    "**Inventory investments** are added. Here, we use a simple AR(1) process (default parameter = 1) as we mostly include this for completeness:"
   ]
  },
  {
   "cell_type": "code",
   "execution_count": 22,
   "id": "2321a62e-dcc3-4b6e-94bc-bd6ffd0da2b0",
   "metadata": {},
   "outputs": [
    {
     "data": {
      "text/plain": [
       "<mInventory.AR at 0x1ca64399610>"
      ]
     },
     "execution_count": 22,
     "metadata": {},
     "output_type": "execute_result"
    }
   ],
   "source": [
    "M.addInventoryModule('Itory')"
   ]
  },
  {
   "cell_type": "markdown",
   "id": "a7a482a2-a87f-490c-a678-4d1c789133a8",
   "metadata": {},
   "source": [
    "The **trade module** is a simple Armington module that only requires information already established in the IO database. Specifically, the module draws on the subset ```dExport[s,n]``` to establish what sector, goods combinations are covered by the trade module. If we want to only use this module to cover a subset of this (maybe trade should be modelled in a different way than Armington), we simply pass a new subset to the init method:"
   ]
  },
  {
   "cell_type": "code",
   "execution_count": 23,
   "id": "ee8aa0da-8c72-4ef8-ba43-8981a12a2cc0",
   "metadata": {},
   "outputs": [
    {
     "data": {
      "text/plain": [
       "<mTrade.Armington at 0x1ca6439c4d0>"
      ]
     },
     "execution_count": 23,
     "metadata": {},
     "output_type": "execute_result"
    }
   ],
   "source": [
    "M.addTradeModule('T', partial = True)\n",
    "# M.addTradeModule('T', dExport = db('dExport')[0:2]) # syntax used if we want to specify that the module should only cover part of the full trade IO"
   ]
  },
  {
   "cell_type": "markdown",
   "id": "aa89f029-fa7f-4e52-9131-1919ab559df8",
   "metadata": {},
   "source": [
    "We use a simple **emissions module** that applies end-of-pipe abatement to each sector. Regulation is simply modelled with exogenous tax rates on CO2 emissions, we do not have any carbon budgets included at the moment:"
   ]
  },
  {
   "cell_type": "code",
   "execution_count": 24,
   "id": "ae43f123-440f-4586-8fd9-54c25af7c1f6",
   "metadata": {},
   "outputs": [
    {
     "data": {
      "text/plain": [
       "<mEmissions.EmissionEOP at 0x1ca64399910>"
      ]
     },
     "execution_count": 24,
     "metadata": {},
     "output_type": "execute_result"
    }
   ],
   "source": [
    "M.addEmissionsModule('M', partial = True)"
   ]
  },
  {
   "cell_type": "markdown",
   "id": "c0dadcba-0b91-48ea-91ac-c3ee3f42ee5b",
   "metadata": {},
   "source": [
    "*Note: We add the equilibrium module later, after we solve for some initial values without these constraints.*"
   ]
  },
  {
   "cell_type": "markdown",
   "id": "c1834b59-4263-46c2-848b-02a6f81b7808",
   "metadata": {},
   "source": [
    "## 2. Small stuff"
   ]
  },
  {
   "cell_type": "markdown",
   "id": "ec071c71-60cc-47bb-9740-4c454be55482",
   "metadata": {},
   "source": [
    "*Clean up database a bit (this is not necessary, but it removes some variables that are not ultimately used in the model):*"
   ]
  },
  {
   "cell_type": "code",
   "execution_count": 25,
   "id": "afa660b4-41cb-4174-848c-4062bfdca3e9",
   "metadata": {},
   "outputs": [],
   "source": [
    "[db.series.__delitem__(k) for k in ('vD','vTax', 'vD_dur','vD_depr','vD_inv', 'vS', 'pD_dur') if k in db.symbols];"
   ]
  },
  {
   "cell_type": "markdown",
   "id": "cc3380de-5407-4589-a51d-6d6be3cebce9",
   "metadata": {},
   "source": [
    "For variables that are defined over $t$, but where we do not yet have an initial value for all $t$, extrapolate from data:\n",
    "\n",
    "*Note: This forces extrapolation of all variables defined over $t$ - if it is important that some variables are not extrapolated, they should be removed from this statement.*"
   ]
  },
  {
   "cell_type": "code",
   "execution_count": 26,
   "id": "232c38a9-ba1b-460e-812a-5762d3b817ba",
   "metadata": {},
   "outputs": [],
   "source": [
    "[symbol.__setattr__('vals', extrapolateUpper(symbol.vals, db('tE')[0])) for symbol in [db[k] for k in db.varDom('t')['t']]];"
   ]
  },
  {
   "cell_type": "markdown",
   "id": "6957479d-3c76-4ced-bc19-c800174b4cdb",
   "metadata": {},
   "source": [
    "Merge internally, i.e. write a gdx file from the Python database:"
   ]
  },
  {
   "cell_type": "code",
   "execution_count": 27,
   "id": "03ec0ae2-7309-4b1d-b2c3-3b53a3bab0aa",
   "metadata": {},
   "outputs": [],
   "source": [
    "db.mergeInternal()"
   ]
  },
  {
   "cell_type": "markdown",
   "id": "58038da1-8f8c-4def-93fc-ccafe4ec9a85",
   "metadata": {},
   "source": [
    "## 3. Solve"
   ]
  },
  {
   "cell_type": "markdown",
   "id": "7d54383a-7811-4358-b839-078d01a0b8fe",
   "metadata": {},
   "source": [
    "*Note: when we initialized (some of) the modules, we added  the condition ```partial = True```. This statement allows us to run the modules separately. For instance, the following cell would solve the production module by itself and add the solution to the main database. This can be used as a way of getting good initial values for the model or to run partial equilibrium experiments.*"
   ]
  },
  {
   "cell_type": "markdown",
   "id": "3fb379ba-abf3-4a49-b609-1caf4e38527c",
   "metadata": {},
   "source": [
    "*Example for how to run a module separately and store the result in the main database:*"
   ]
  },
  {
   "cell_type": "code",
   "execution_count": 28,
   "id": "65efd4f1-b138-4240-a276-4e29a8a29ba1",
   "metadata": {},
   "outputs": [],
   "source": [
    "# m = M.m['P'] # select module to run \n",
    "# soldb = m.jSolve(10, state = 'C', ϕ = .1) # solve calibration model with 10 steps and nonlinear grid (ϕ<1 means that adjustments to jTerms start large and then decrease)\n",
    "# [m.db.aom(soldb[k], name = k) for k in m.groups[f'{m.name}_endo_C'].out]; # for all endogenous variables, add the solution to the main database again \n",
    "# m.db.mergeInternal() # update the gdx with the new solution"
   ]
  },
  {
   "cell_type": "markdown",
   "id": "29814562-0d2b-4bbf-bea4-0a20507f533b",
   "metadata": {},
   "source": [
    "Calibrate the model without equilibrium constraints yet (the jSolve method automatically uses all the modules that we have added so far):"
   ]
  },
  {
   "cell_type": "code",
   "execution_count": 29,
   "id": "daaf010a-52b6-4de4-a73a-700b5181a4d3",
   "metadata": {},
   "outputs": [],
   "source": [
    "soldb = M.jSolve(25, state = 'C', ϕ = .5) # solve calibration model with 10 steps and nonlinear grid (ϕ<1 means that adjustments to jTerms start large and then decrease)"
   ]
  },
  {
   "cell_type": "markdown",
   "id": "cbbff90a-bcff-4415-ac80-905eb2e92809",
   "metadata": {},
   "source": [
    "Write solution to the main database again:"
   ]
  },
  {
   "cell_type": "code",
   "execution_count": 30,
   "id": "f9c1c26e-e303-490a-96b9-04344bf79603",
   "metadata": {},
   "outputs": [],
   "source": [
    "[M.db.__setitem__(k, soldb[k]) for k in M.db.getTypes(['var']) if k in soldb.symbols]; # use solution database\n",
    "M.db.mergeInternal()"
   ]
  },
  {
   "cell_type": "markdown",
   "id": "911e4eaf-8ea9-4bdd-9207-0bec7b8efd2b",
   "metadata": {},
   "source": [
    "Add equilibrium module and calibrate:"
   ]
  },
  {
   "cell_type": "code",
   "execution_count": 31,
   "id": "6e138715-2c50-439f-9683-a8c457b66e0a",
   "metadata": {},
   "outputs": [
    {
     "name": "stderr",
     "output_type": "stream",
     "text": [
      "C:\\Users\\sxj477\\Anaconda3\\envs\\GAMS46\\Lib\\site-packages\\pyDatabases\\gpyDB\\database.py:525: FutureWarning: The behavior of array concatenation with empty entries is deprecated. In a future version, this will no longer exclude empty items when determining the result dtype. To retain the old behavior, exclude the empty entries before the concat operation.\n",
      "  return ss.combine_first(s)\n"
     ]
    }
   ],
   "source": [
    "M.addEquilibriumModule('Equi')\n",
    "fullSol = M.solve(state = 'C')"
   ]
  },
  {
   "cell_type": "markdown",
   "id": "d52a6338-9076-4618-889e-d8879971f0f5",
   "metadata": {},
   "source": [
    "Add full solution to baseline model database:"
   ]
  },
  {
   "cell_type": "code",
   "execution_count": 32,
   "id": "2ba8b3d0-a734-4b1d-94df-57a2ff83c71f",
   "metadata": {},
   "outputs": [],
   "source": [
    "[M.db.__setitem__(k, fullSol[k]) for k in M.db.getTypes(['var']) if k in fullSol.symbols]; # use solution database\n",
    "M.db.mergeInternal()"
   ]
  },
  {
   "cell_type": "markdown",
   "id": "03c3f5ca-a1d1-42cc-9a79-42cc0b749cf7",
   "metadata": {},
   "source": [
    "## 4. Save/export"
   ]
  },
  {
   "cell_type": "code",
   "execution_count": 33,
   "id": "e1120794-0d88-4054-b6b6-f947c2b506ac",
   "metadata": {},
   "outputs": [],
   "source": [
    "M.db.data_folder = d['data']"
   ]
  },
  {
   "cell_type": "markdown",
   "id": "34c94389-3d51-467a-b036-149c8decd3f0",
   "metadata": {},
   "source": [
    "We can save/export the model in a few different ways:\n",
    "1. Save model instance: The model class ```Model``` (parent class of the CGE class) is pickleable, meaning that we can save/load the class with Python's ```pickle``` class.\n",
    "2. Store solution: It takes no time to re-initialize the ```Model``` class, so we can also simply store the solution database and - when needed - initialize the model class again.\n",
    "3. Store GAMS code and solution: This option allows us to remove the model from the python class ```Model``` and instead treat it as a conventional GAMS program."
   ]
  },
  {
   "cell_type": "markdown",
   "id": "ccf8402f-7b83-4367-885b-fceed05030ee",
   "metadata": {},
   "source": [
    "*Store model instance or database with pickle:*"
   ]
  },
  {
   "cell_type": "code",
   "execution_count": 34,
   "id": "c478ef22-caa2-40a8-b211-cf5ef3049c66",
   "metadata": {},
   "outputs": [],
   "source": [
    "M.export(repo = M.data_folder, name = M.name) # store the entire class - these are the default options by the way \n",
    "M.db.export(repo = M.db.data_folder, name = M.db.name) # store the solution database"
   ]
  },
  {
   "cell_type": "markdown",
   "id": "04feb069-b6ba-4217-8c3e-ee4cf308d0ab",
   "metadata": {},
   "source": [
    "*Export gams code and accompanying gdx file:*"
   ]
  },
  {
   "cell_type": "code",
   "execution_count": 35,
   "id": "b373be46-f6f8-4d45-bc07-3f5a0473eb10",
   "metadata": {},
   "outputs": [],
   "source": [
    "for state in ('B','C'):\n",
    "    with open(os.path.join(d['gams'], f'{M.name}_{state}.gms'), \"w\") as file:\n",
    "        file.write(M.write(state=state))\n",
    "    with open(os.path.join(d['gams'], f'{M.name}_{state}.gmy'), \"w\") as file:\n",
    "        file.write(M.write_gamY(state=state))\n",
    "M.db.database.export(os.path.join(M.db.data_folder, M.db.name))"
   ]
  }
 ],
 "metadata": {
  "kernelspec": {
   "display_name": "Python 3 (ipykernel)",
   "language": "python",
   "name": "python3"
  },
  "language_info": {
   "codemirror_mode": {
    "name": "ipython",
    "version": 3
   },
   "file_extension": ".py",
   "mimetype": "text/x-python",
   "name": "python",
   "nbconvert_exporter": "python",
   "pygments_lexer": "ipython3",
   "version": "3.11.8"
  }
 },
 "nbformat": 4,
 "nbformat_minor": 5
}
