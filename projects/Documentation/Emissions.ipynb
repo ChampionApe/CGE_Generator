{
 "cells": [
  {
   "cell_type": "code",
   "execution_count": 1,
   "id": "8a98417c-fced-45d4-bd02-7615398d57e2",
   "metadata": {},
   "outputs": [],
   "source": [
    "clean_up = True # if True, remove all gams related files from working folder before starting\n",
    "%run stdPackages.ipynb"
   ]
  },
  {
   "cell_type": "markdown",
   "id": "96e8f81e-f9f7-4ed7-93fc-53ee2a756020",
   "metadata": {},
   "source": [
    "*Load specific modules used here:*"
   ]
  },
  {
   "cell_type": "code",
   "execution_count": 2,
   "id": "7183dda3-16c0-4880-b6a3-9c4475d1af6c",
   "metadata": {},
   "outputs": [],
   "source": [
    "os.chdir(main)\n",
    "%run stdPlotting.ipynb\n",
    "os.chdir(d['py'])\n",
    "import mEmissions"
   ]
  },
  {
   "cell_type": "markdown",
   "id": "e7972bbe-58aa-4a9b-89c5-168a8865adba",
   "metadata": {},
   "source": [
    "# Emission and abatement modules"
   ]
  },
  {
   "cell_type": "markdown",
   "id": "2a85af67-ae0c-47ed-ba1f-d304075cc622",
   "metadata": {},
   "source": [
    "*Load test data:*"
   ]
  },
  {
   "cell_type": "code",
   "execution_count": 3,
   "id": "0f380a67-e173-4c17-b4dd-1d9cf8f5d43e",
   "metadata": {},
   "outputs": [],
   "source": [
    "t0 = 2019 # set baseline year\n",
    "name = 'TestModelData' #\n",
    "db = GpyDB(os.path.join(d['data'], name), name = 'test', ws = d['work'])\n",
    "ws = db.ws"
   ]
  },
  {
   "cell_type": "markdown",
   "id": "d6bbd072-81c5-44d2-85c4-812125c00706",
   "metadata": {},
   "source": [
    "For variables that are defined over $t$, but where we do not yet have an initial value for all $t$, extrapolate from data:\n",
    "\n",
    "*Note: This forces extrapolation of all variables defined over $t$ - if it is important that some variables are not extrapolated, they should be removed from this statement.*"
   ]
  },
  {
   "cell_type": "code",
   "execution_count": 4,
   "id": "09a95933-e6b8-413b-b2db-e24bc5d0724c",
   "metadata": {},
   "outputs": [],
   "source": [
    "[symbol.__setattr__('vals', extrapolateUpper(symbol.vals, db('tE')[0])) for symbol in [db[k] for k in db.varDom('t')['t']]];"
   ]
  },
  {
   "cell_type": "markdown",
   "id": "2a667422-2a69-4747-81f1-78a454aab3a5",
   "metadata": {},
   "source": [
    "## 1. ```EmissionAccounts```"
   ]
  },
  {
   "cell_type": "markdown",
   "id": "8e768805-3a6e-47c3-986f-837afdbea5dd",
   "metadata": {},
   "source": [
    "The first class is very straightforward:"
   ]
  },
  {
   "cell_type": "code",
   "execution_count": 5,
   "id": "8043d3cc-0c0a-44b1-8eda-76ac9e14ff7b",
   "metadata": {},
   "outputs": [],
   "source": [
    "db_EA = db.copy()\n",
    "m_EA = mEmissions.EmissionAccounts('EA', partial = True, database = db_EA)\n",
    "m_i, db_i = m_EA, db_EA"
   ]
  },
  {
   "cell_type": "markdown",
   "id": "74bf690d-a995-481d-93b6-954bbe7c5ef9",
   "metadata": {},
   "source": [
    "Solve simple accounting model:"
   ]
  },
  {
   "cell_type": "code",
   "execution_count": 6,
   "id": "07519e88-26c3-4eb8-94ef-445abd6932df",
   "metadata": {},
   "outputs": [],
   "source": [
    "m_i.initStuff()\n",
    "solve_EA = m_i.solve()\n",
    "solve_i = solve_EA"
   ]
  },
  {
   "cell_type": "markdown",
   "id": "8e14498d-8b08-4d2c-b9c3-4514e3906646",
   "metadata": {},
   "source": [
    "## 2. ```EmissionTargets```"
   ]
  },
  {
   "cell_type": "markdown",
   "id": "2960add4-b632-4fa4-b476-d9543b070c07",
   "metadata": {},
   "source": [
    "Is not designed for \"partial\" solves. This can still run, but it essentially unfixes the quantity ```qCO2agg``` instead of using the tax instrument ```tauCO2agg``` to solve the problem. "
   ]
  },
  {
   "cell_type": "code",
   "execution_count": 7,
   "id": "5e968bc5-46bc-402e-97eb-13dfb29dddd7",
   "metadata": {},
   "outputs": [],
   "source": [
    "m_ET = mEmissions.EmissionTargets('ET', database = db_EA)\n",
    "m_ET.initStuff()\n",
    "m_ET = m_ET.solve()"
   ]
  },
  {
   "cell_type": "markdown",
   "id": "1397f348-83f7-446c-b844-3afa6f0ac21b",
   "metadata": {},
   "source": [
    "## 3. ```AbateSimple```"
   ]
  },
  {
   "cell_type": "markdown",
   "id": "3a415df6-dc64-487a-8f00-0e0e0f1d3107",
   "metadata": {},
   "source": [
    "Initialize simple abatement model:"
   ]
  },
  {
   "cell_type": "code",
   "execution_count": 8,
   "id": "74d3b51d-4d71-46c5-8727-5ba3950f255c",
   "metadata": {},
   "outputs": [],
   "source": [
    "db_AS = db.copy()\n",
    "m_AS = mEmissions.AbateSimple('AS', partial = True, database = db_AS)\n",
    "m_i, db_i = m_AS, db_AS"
   ]
  },
  {
   "cell_type": "markdown",
   "id": "f8f32cc3-d549-45bd-92db-048ee77d0dde",
   "metadata": {},
   "source": [
    "Add technology type to the compiler and test run:"
   ]
  },
  {
   "cell_type": "code",
   "execution_count": 9,
   "id": "7e3527f4-44ad-49d6-82fd-b5f37efe7c0e",
   "metadata": {},
   "outputs": [],
   "source": [
    "m_i.compiler.locals['techType'] = m_i.techType\n",
    "m_i.initStuff()\n",
    "solve_AS= m_i.solve()"
   ]
  },
  {
   "cell_type": "markdown",
   "id": "6d8f0f63-2a2d-45fb-bd47-dc60a0616621",
   "metadata": {},
   "source": [
    "## 4. ```AbateCapital```"
   ]
  },
  {
   "cell_type": "markdown",
   "id": "d3307de9-4ac6-4180-8c2b-d6600ed50d69",
   "metadata": {},
   "source": [
    "Solve model with abatement capital:"
   ]
  },
  {
   "cell_type": "code",
   "execution_count": 10,
   "id": "6cf36fde-6c1a-405e-9c99-6212702108d4",
   "metadata": {},
   "outputs": [],
   "source": [
    "db_AC = db.copy()\n",
    "m_AC = mEmissions.AbateCapital('AC', partial = True, database = db_AC, initFromGms = True, techType = \"'logNorm'\")\n",
    "m_i, db_i = m_AC, db_AC"
   ]
  },
  {
   "cell_type": "markdown",
   "id": "8099e881-fc74-4cbf-8080-d31f415acee5",
   "metadata": {},
   "source": [
    "Set technology type, initialize basic variables, scale smoothing parameters:"
   ]
  },
  {
   "cell_type": "code",
   "execution_count": 12,
   "id": "508c17ed-db5a-4560-95aa-63402a7cf03d",
   "metadata": {},
   "outputs": [],
   "source": [
    "m_i.compiler.locals['techType'] = m_i.techType\n",
    "# m_i.db['techSmooth'] = pd.Series(.1, index = m_i.db('techPot').index)\n",
    "m_i.initStuff()\n",
    "solve_AC = m_i.jSolve(10, state = 'C') # this is a tricky model with decreasing costs over time. "
   ]
  },
  {
   "cell_type": "markdown",
   "id": "02568b78-dfe4-40ed-b1f5-aeaae089f65f",
   "metadata": {},
   "source": [
    "Test baseline:"
   ]
  },
  {
   "cell_type": "code",
   "execution_count": 13,
   "id": "c04514e8-dee7-4fe7-8d95-5c566cce2602",
   "metadata": {},
   "outputs": [],
   "source": [
    "[m_i.db.__setitem__(k, solve_AC[k]) for k in m_i.db.getTypes(['var']) if k in solve_AC.symbols]; # use solution database\n",
    "m_i.db.mergeInternal()"
   ]
  },
  {
   "cell_type": "markdown",
   "id": "592bdc13-8f08-482c-8424-3e5d31db682e",
   "metadata": {},
   "source": [
    "Test da this:"
   ]
  },
  {
   "cell_type": "markdown",
   "id": "36adfc6e-895c-4a24-a0a4-123e7f88e123",
   "metadata": {},
   "source": [
    "## X: Some code for adjusting solve methods"
   ]
  },
  {
   "cell_type": "markdown",
   "id": "64dc0c8f-7469-4d28-ad64-28bb07bd91bd",
   "metadata": {},
   "source": [
    "**Run model without solve statement and save checkpoint:**"
   ]
  },
  {
   "cell_type": "code",
   "execution_count": null,
   "id": "7c605488-a1f5-43b8-b847-27fe1b597640",
   "metadata": {},
   "outputs": [],
   "source": [
    "import EmissionsFiles.gamsAbatement as gamsAbatement"
   ]
  },
  {
   "cell_type": "code",
   "execution_count": null,
   "id": "152a196e-4918-4df3-940b-5d6913401997",
   "metadata": {},
   "outputs": [],
   "source": [
    "def nosolve(**kwargs):\n",
    "    return f\"\"\n",
    "m_i.solveStatement = nosolve\n",
    "initText = m_i.write() # main text for model - now without solve statement.\n",
    "iteText  = gamsAbatement.EOPIte_PriceCalib+gamsAbatement.EOPIte_CapitalCalib\n",
    "cp = m_i.ws.add_checkpoint() # add empty checkpoint to restart model from.\n",
    "m_i.job = m_i.ws.add_job_from_string(m_i.write()) # add job\n",
    "m_i.job.run(databases = m_i.db.database, checkpoint = cp)\n",
    "db0 = GpyDB(m_i.job.out_db, ws = m_i.ws)"
   ]
  },
  {
   "cell_type": "markdown",
   "id": "8e071df7-eb13-4287-80de-8b65ad09862b",
   "metadata": {},
   "source": [
    "**Iterate from checkpoint:**"
   ]
  },
  {
   "cell_type": "code",
   "execution_count": null,
   "id": "09859aff-82cc-401a-b73e-5c08daf24ac0",
   "metadata": {},
   "outputs": [],
   "source": [
    "sols = {0: db0}\n",
    "for i in range(1, 100):\n",
    "    m_i.job = m_i.ws.add_job_from_string(m_i.compiler(iteText), checkpoint = cp)\n",
    "    m_i.job.run(checkpoint = cp)\n",
    "    sols[i] = GpyDB(m_i.job.out_db, ws = m_i.ws)"
   ]
  },
  {
   "cell_type": "markdown",
   "id": "741a5860-afdf-444b-8495-ffca1a1946c8",
   "metadata": {},
   "source": [
    "**Turn solve method into NLP (adds empty objective to minimize):**"
   ]
  },
  {
   "cell_type": "code",
   "execution_count": null,
   "id": "fbf88ebb-2650-4e94-9032-1187adda9153",
   "metadata": {},
   "outputs": [],
   "source": [
    "# def adhocSolve(**kwargs):\n",
    "#     return f\"\"\"@SolveEmptyNLP({m_i.modelName(**kwargs)})\"\"\"\n",
    "# m_i.solveStatement = adhocSolve\n",
    "# m_i.solve()"
   ]
  }
 ],
 "metadata": {
  "kernelspec": {
   "display_name": "Python 3 (ipykernel)",
   "language": "python",
   "name": "python3"
  },
  "language_info": {
   "codemirror_mode": {
    "name": "ipython",
    "version": 3
   },
   "file_extension": ".py",
   "mimetype": "text/x-python",
   "name": "python",
   "nbconvert_exporter": "python",
   "pygments_lexer": "ipython3",
   "version": "3.11.8"
  }
 },
 "nbformat": 4,
 "nbformat_minor": 5
}
