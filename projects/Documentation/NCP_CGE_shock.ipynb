{
 "cells": [
  {
   "cell_type": "code",
   "execution_count": 1,
   "id": "0275cd5c-ca93-4c47-8db1-b935bee005ad",
   "metadata": {},
   "outputs": [],
   "source": [
    "clean_up = True # if True, remove all gams related files from working folder before starting\n",
    "%run stdPackages.ipynb"
   ]
  },
  {
   "cell_type": "markdown",
   "id": "36189c3d-71c2-403e-b39e-d53134d0ed72",
   "metadata": {},
   "source": [
    "*Load specific modules used here:*"
   ]
  },
  {
   "cell_type": "code",
   "execution_count": 2,
   "id": "a19fbc35-1097-4695-b43e-6269e6ca5427",
   "metadata": {},
   "outputs": [],
   "source": [
    "os.chdir(main)\n",
    "%run stdPlotting.ipynb\n",
    "os.chdir(d['py'])\n",
    "import mCGE"
   ]
  },
  {
   "cell_type": "markdown",
   "id": "a10c017c-0be3-486f-a523-5016f59386cd",
   "metadata": {},
   "source": [
    "# NCP CGE - shock"
   ]
  },
  {
   "cell_type": "markdown",
   "id": "b62b7b89-99d1-4d92-9ae4-0a63978694c9",
   "metadata": {},
   "source": [
    "*Load model:*"
   ]
  },
  {
   "cell_type": "code",
   "execution_count": 3,
   "id": "36282848-4848-4b62-92cf-e78aacbeb509",
   "metadata": {},
   "outputs": [],
   "source": [
    "name = 'NCPcge'\n",
    "M = mCGE.NCP_CGE.load(os.path.join(d['data'], name))\n",
    "ws = M.ws\n",
    "db0 = M.db.copy() # initial solution"
   ]
  },
  {
   "cell_type": "markdown",
   "id": "579f9816-20d4-40d5-8c54-e05d6d73627e",
   "metadata": {},
   "source": [
    "## 1. Define optimal regulation absent emission targets"
   ]
  },
  {
   "cell_type": "markdown",
   "id": "f578ad48-c986-43a0-ac7d-e8928fbe50c8",
   "metadata": {},
   "source": [
    "It can be quite tricky to \"optimize\" the system of policies. Here, we optimize the system by iterating through years:"
   ]
  },
  {
   "cell_type": "code",
   "execution_count": 4,
   "id": "7321761b-b46e-42d0-8865-0b645853efa6",
   "metadata": {},
   "outputs": [],
   "source": [
    "# instruments = M.g('output', m = 'P') # production taxes\n",
    "# fullCondition = ('and', [instruments, M.g('t0')]) \n",
    "# M.welModule.policy = [('tauS', fullCondition)]\n",
    "# M.welModule.initGroups() # re-initialzie groups\n",
    "# M.opt = True # \n",
    "# M.db.mergeInternal()"
   ]
  },
  {
   "cell_type": "markdown",
   "id": "a0c8e9ab-6352-4073-9741-0a966b4b4d74",
   "metadata": {},
   "source": [
    "Solve for optimal taxes and store a checkpoint:"
   ]
  },
  {
   "cell_type": "code",
   "execution_count": 5,
   "id": "4b7956dd-7994-4905-b06b-057bd44f83e4",
   "metadata": {},
   "outputs": [],
   "source": [
    "# cp = ws.add_checkpoint()\n",
    "# M.job = M.ws.add_job_from_string(M.write())\n",
    "# M.job.run(databases = M.db.database, checkpoint = cp) # store checkoint"
   ]
  },
  {
   "cell_type": "markdown",
   "id": "0174e792-887e-454c-85a9-2ef1db7ad431",
   "metadata": {},
   "source": [
    "Write loop text that gradually opens up for additional policies. From 2075 and onwards "
   ]
  },
  {
   "cell_type": "code",
   "execution_count": 6,
   "id": "82404246-1d6e-4cc9-ae2d-f7f344719607",
   "metadata": {},
   "outputs": [],
   "source": [
    "# loopText = f\"\"\"\n",
    "# Scalar tempScalar;\n",
    "# for (tempScalar = 2020 to 2090,\n",
    "#     tauS.lo[t,s,n]$(({gmsPython.gmsWrite.Syms.point(instruments)}) and (t.val = tempScalar)) = -inf;\n",
    "#     tauS.up[t,s,n]$(({gmsPython.gmsWrite.Syms.point(instruments)}) and (t.val = tempScalar)) = inf;\n",
    "#     {M.solveStatement()}\n",
    "# );\n",
    "\n",
    "# # Sets tempSubseti[t], tempSubsetii[t];\n",
    "\n",
    "# # tempSubseti[t] = yes$(t.val > 2060);\n",
    "# # tempSubsetii[t]= yes$(t.val = 2060);\n",
    "\n",
    "\n",
    "# # tauS.lo[t,s,n]$(({gmsPython.gmsWrite.Syms.point(instruments)}) and (t.val>2059)) = -inf;\n",
    "# # tauS.up[t,s,n]$(({gmsPython.gmsWrite.Syms.point(instruments)}) and (t.val>2059)) = inf;\n",
    "\n",
    "# # equation E_temporary;\n",
    "# # E_temporary[t,s,n]$({gmsPython.gmsWrite.Syms.point(instruments)} and tempSubseti[t]).. tauS[t,s,n] =E= sum(tt$(tempSubsetii[tt]), tauS[tt,s,n]);\n",
    "\n",
    "# # Model M_temporary /\n",
    "# # {M.modelName()}, E_temporary\n",
    "# # /;\n",
    "\n",
    "# # {M.solveStatement().replace(M.modelName(), 'M_temporary')};\n",
    "\n",
    "# \"\"\""
   ]
  },
  {
   "cell_type": "markdown",
   "id": "00c519ba-988c-45d1-bcaf-ec2de0904e08",
   "metadata": {},
   "source": [
    "Run:"
   ]
  },
  {
   "cell_type": "code",
   "execution_count": 7,
   "id": "a5983c2c-36eb-43b7-8f9c-8ebc5277c80f",
   "metadata": {},
   "outputs": [],
   "source": [
    "# M.job = M.ws.add_job_from_string(loopText, checkpoint = cp)\n",
    "# M.job.run(checkpoint = cp)\n",
    "# optTaxes = GpyDB(M.job.out_db)"
   ]
  },
  {
   "cell_type": "markdown",
   "id": "c3192683-c7e4-4c20-a56c-320124c99b60",
   "metadata": {},
   "source": [
    "Inspect optimal taxes:"
   ]
  },
  {
   "cell_type": "code",
   "execution_count": 8,
   "id": "d907063c-efc6-4488-a603-fac24213ba3a",
   "metadata": {},
   "outputs": [],
   "source": [
    "# adj.rc_pd(optTaxes('tauS').droplevel('n'), db0('s_p')).unstack('s').plot(subplots=True, figsize=(8,4), layout = (2,2));"
   ]
  },
  {
   "cell_type": "markdown",
   "id": "28bbb352-134a-45d0-82a6-317f2819fd65",
   "metadata": {},
   "source": [
    "Update database:"
   ]
  },
  {
   "cell_type": "code",
   "execution_count": 9,
   "id": "94cb986e-ea6f-43e1-9803-61ba3d543dc4",
   "metadata": {},
   "outputs": [],
   "source": [
    "# MergeDbs.merge(M.db, optTaxes)"
   ]
  },
  {
   "cell_type": "markdown",
   "id": "2b17e979-dbf3-46b7-814a-5a719282cd8b",
   "metadata": {},
   "source": [
    "## 2. SYT regulation:"
   ]
  },
  {
   "cell_type": "markdown",
   "id": "558297ba-c2dd-41e0-abf9-49360d1f28ad",
   "metadata": {},
   "source": [
    "Update regulation and turn off welfare optimizing module: "
   ]
  },
  {
   "cell_type": "code",
   "execution_count": 15,
   "id": "e254fb87-a1d3-4c08-98a9-c5be0af84dd2",
   "metadata": {},
   "outputs": [],
   "source": [
    "# M.stdEmissionTargets('MT')\n",
    "# M.db.mergeInternal()\n",
    "# sol = M.jSolve(100, state = 'B', ϕ = 2)"
   ]
  },
  {
   "cell_type": "markdown",
   "id": "fa1108dc-5c01-443c-9e05-5b5d18d87e95",
   "metadata": {},
   "source": [
    "Solve:"
   ]
  },
  {
   "cell_type": "code",
   "execution_count": null,
   "id": "498e15e6-2bec-442d-a62d-72495f324603",
   "metadata": {},
   "outputs": [],
   "source": [
    "# M.opt = False\n",
    "# M.welModule.initGroups()\n",
    "# sol = M.jSolve(1000, state = 'B', ϕ = 2)"
   ]
  },
  {
   "cell_type": "markdown",
   "id": "d236a3d0-0887-445b-9ceb-00ff228ad2c4",
   "metadata": {},
   "source": [
    "Look at aggregate emissions over time:"
   ]
  },
  {
   "cell_type": "code",
   "execution_count": 7,
   "id": "6869d3b1-5df8-4bcf-b8ef-92b5f17a36ae",
   "metadata": {},
   "outputs": [
    {
     "data": {
      "image/png": "[encoded data removed]",
      "text/plain": [
       "<Figure size 500x300 with 1 Axes>"
      ]
     },
     "metadata": {},
     "output_type": "display_data"
    }
   ],
   "source": [
    "tPlot = M.db('t')[0:60]\n",
    "adj.rc_pd(pd.DataFrame({'Base': db0('qCO2agg'), 'Shock': sol('qCO2agg')}), tPlot).plot(figsize=(5,3));"
   ]
  },
  {
   "cell_type": "markdown",
   "id": "2d984e7b-11ff-4fab-8f43-83a87241dc2c",
   "metadata": {},
   "source": [
    "### SYT hotelling rule"
   ]
  },
  {
   "cell_type": "code",
   "execution_count": 8,
   "id": "aaf9af66-72f8-4285-a037-cba1b82920b3",
   "metadata": {},
   "outputs": [
    {
     "data": {
      "text/plain": [
       "<Axes: xlabel='t'>"
      ]
     },
     "execution_count": 8,
     "metadata": {},
     "output_type": "execute_result"
    },
    {
     "data": {
      "image/png": "[encoded data removed]",
      "text/plain": [
       "<Figure size 500x300 with 1 Axes>"
      ]
     },
     "metadata": {},
     "output_type": "display_data"
    }
   ],
   "source": [
    "M.updateRegulation('SYT_HR')\n",
    "solHR = M.jSolve(25, state='B')\n",
    "adj.rc_pd(solHR('tauCO2agg'), tPlot).plot(figsize=(5,3))"
   ]
  },
  {
   "cell_type": "markdown",
   "id": "8ebf2b7c-9e19-4b2e-9f01-47d8bf08e6ed",
   "metadata": {},
   "source": [
    "### Linear reduction path"
   ]
  },
  {
   "cell_type": "code",
   "execution_count": 9,
   "id": "20bdd679-8f3d-4bb5-8de4-9624c256f5f0",
   "metadata": {},
   "outputs": [
    {
     "data": {
      "image/png": "[encoded data removed]",
      "text/plain": [
       "<Figure size 500x300 with 1 Axes>"
      ]
     },
     "metadata": {},
     "output_type": "display_data"
    }
   ],
   "source": [
    "M.updateRegulation('LRP')\n",
    "solLRP = M.jSolve(25, state = 'B')\n",
    "adj.rc_pd(solLRP('tauCO2agg'), tPlot).plot(figsize=(5,3));"
   ]
  },
  {
   "cell_type": "markdown",
   "id": "d49262eb-17f8-4e65-a666-7d05a5e40099",
   "metadata": {},
   "source": [
    "### Emission budget with hotelling rule"
   ]
  },
  {
   "cell_type": "code",
   "execution_count": 10,
   "id": "5dfde025-71d9-4387-af05-8a36a091c740",
   "metadata": {},
   "outputs": [
    {
     "data": {
      "image/png": "[encoded data removed]",
      "text/plain": [
       "<Figure size 500x300 with 1 Axes>"
      ]
     },
     "metadata": {},
     "output_type": "display_data"
    }
   ],
   "source": [
    "M.updateRegulation('EB_HR')\n",
    "solEB = M.solve()\n",
    "adj.rc_pd(solEB('tauCO2agg'), tPlot).plot(figsize=(5,3));"
   ]
  },
  {
   "cell_type": "code",
   "execution_count": 11,
   "id": "caed3ff3-824e-4f9b-abcf-c38a772c5f51",
   "metadata": {},
   "outputs": [
    {
     "data": {
      "image/png": "[encoded data removed]",
      "text/plain": [
       "<Figure size 500x300 with 1 Axes>"
      ]
     },
     "metadata": {},
     "output_type": "display_data"
    }
   ],
   "source": [
    "adj.rc_pd(solEB('qCO2agg'), tPlot).plot(figsize=(5,3));"
   ]
  },
  {
   "cell_type": "markdown",
   "id": "80804f76-0b3f-4674-843c-39bc27fb6a8f",
   "metadata": {},
   "source": [
    "### SYT with \"OPT\" policy:"
   ]
  },
  {
   "cell_type": "markdown",
   "id": "be3f08d7-7dbb-47f8-87ba-183f26eed999",
   "metadata": {},
   "source": [
    "Start from SYT model:"
   ]
  },
  {
   "cell_type": "code",
   "execution_count": 12,
   "id": "98d9cebf-80c0-410c-a952-c56f9d08a4da",
   "metadata": {},
   "outputs": [],
   "source": [
    "[M.db.__setitem__(k, sol[k]) for k in M.db.getTypes(['var']) if k in sol.symbols]; # use solution database\n",
    "M.updateRegulation('SYT_OPT') # set to optimal"
   ]
  },
  {
   "cell_type": "markdown",
   "id": "be3ece43-0fc1-4d1b-90b5-a0149294f2a9",
   "metadata": {},
   "source": [
    "Solve (it works, but it is difficult, it seems):"
   ]
  },
  {
   "cell_type": "code",
   "execution_count": 14,
   "id": "c30c0f7b-7540-4536-8555-f5c7b813b56d",
   "metadata": {},
   "outputs": [],
   "source": [
    "solSYT_opt = M.solve()"
   ]
  },
  {
   "cell_type": "markdown",
   "id": "ce0a0dea-7c65-4541-8d37-b2a23969a043",
   "metadata": {},
   "source": [
    "### EB with \"OPT\" policy:"
   ]
  },
  {
   "cell_type": "markdown",
   "id": "cbbfbafa-09a6-470e-a16d-f57900724c4f",
   "metadata": {},
   "source": [
    "Start from EB model:"
   ]
  },
  {
   "cell_type": "code",
   "execution_count": 15,
   "id": "896f9a17-eb93-478d-80e6-0b5bcbdd45a5",
   "metadata": {},
   "outputs": [],
   "source": [
    "[M.db.__setitem__(k, solEB[k]) for k in M.db.getTypes(['var']) if k in solEB.symbols]; # use solution database\n",
    "M.updateRegulation('EB_OPT') # set to optimal"
   ]
  },
  {
   "cell_type": "code",
   "execution_count": 17,
   "id": "da54d6bd-1520-4812-be74-13ea4fab855b",
   "metadata": {},
   "outputs": [],
   "source": [
    "solEB_opt = M.solve()"
   ]
  }
 ],
 "metadata": {
  "kernelspec": {
   "display_name": "Python 3 (ipykernel)",
   "language": "python",
   "name": "python3"
  },
  "language_info": {
   "codemirror_mode": {
    "name": "ipython",
    "version": 3
   },
   "file_extension": ".py",
   "mimetype": "text/x-python",
   "name": "python",
   "nbconvert_exporter": "python",
   "pygments_lexer": "ipython3",
   "version": "3.11.8"
  }
 },
 "nbformat": 4,
 "nbformat_minor": 5
}
