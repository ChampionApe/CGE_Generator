{
 "cells": [
  {
   "cell_type": "code",
   "execution_count": 1,
   "id": "38e3e271-61ef-4e67-942e-d0bdcd0db820",
   "metadata": {},
   "outputs": [
    {
     "name": "stdout",
     "output_type": "stream",
     "text": [
      "The file _gams_py_gdb0.gdx is still active and was not deleted.\n",
      "The file _gams_py_gdb3.gdx is still active and was not deleted.\n",
      "The file _gams_py_gdb4.gdx is still active and was not deleted.\n",
      "The file _gams_py_gdb5.gdx is still active and was not deleted.\n"
     ]
    }
   ],
   "source": [
    "clean_up = True # if True, remove all gams related files from working folder before starting\n",
    "%run stdPackages.ipynb"
   ]
  },
  {
   "cell_type": "markdown",
   "id": "05d1acdd-2c91-4f73-8d13-f65545c88c37",
   "metadata": {},
   "source": [
    "*Load specific modules used here:*"
   ]
  },
  {
   "cell_type": "code",
   "execution_count": 2,
   "id": "ea62aa95-d5d2-4bae-ba5b-45a75d3db4b7",
   "metadata": {},
   "outputs": [],
   "source": [
    "os.chdir(main)\n",
    "%run stdPlotting.ipynb\n",
    "os.chdir(d['py'])\n",
    "import mCGE"
   ]
  },
  {
   "cell_type": "markdown",
   "id": "3c4e9d75-0bf3-477e-b840-7c3b7d7eb3c3",
   "metadata": {},
   "source": [
    "# MEEM - shock"
   ]
  },
  {
   "cell_type": "markdown",
   "id": "c4362c41-56e6-4316-a037-4c9b97309d85",
   "metadata": {},
   "source": [
    "*Load model:*"
   ]
  },
  {
   "cell_type": "code",
   "execution_count": 3,
   "id": "637e4eee-61d0-44f4-987e-c5bc6b8491e3",
   "metadata": {},
   "outputs": [],
   "source": [
    "name = 'MEEM_CGE'\n",
    "M = mCGE.WasteCGE.load(os.path.join(d['data'], name))\n",
    "ws = M.ws\n",
    "db0 = M.db.copy() # initial solution"
   ]
  },
  {
   "cell_type": "markdown",
   "id": "81761f60-3ab1-47d5-8d6d-31152ec82f3b",
   "metadata": {},
   "source": [
    "Assume the price on foreign materials increase by 25%:"
   ]
  },
  {
   "cell_type": "code",
   "execution_count": 4,
   "id": "4279b5eb-078d-4667-805f-f5cb93053382",
   "metadata": {},
   "outputs": [],
   "source": [
    "M.db.aom(adj.rc_pd(M.get('p'), M.get('nm_F')) * 1.25, name = 'p', priority = 'second')\n",
    "M.db.mergeInternal() # we do not store the gdx version of the file automatically, so we have to rewrite it here\n",
    "sol = M.jSolve(10, state = 'B')"
   ]
  },
  {
   "cell_type": "markdown",
   "id": "e0a8b282-732e-4350-ab5f-42fec86ade41",
   "metadata": {},
   "source": [
    "Look at effect on demand for foreign materials:"
   ]
  },
  {
   "cell_type": "code",
   "execution_count": 20,
   "id": "b5998cb5-2f38-40e9-a529-d6dc25b57456",
   "metadata": {},
   "outputs": [
    {
     "data": {
      "image/png": "[encoded data removed]",
      "text/plain": [
       "<Figure size 600x400 with 1 Axes>"
      ]
     },
     "metadata": {},
     "output_type": "display_data"
    }
   ],
   "source": [
    "tPlot = M.db('t')[0:25]\n",
    "adj.rc_pd(pd.DataFrame({'Base': adj.rc_pd(db0('qD'), db0('nm_F')).groupby(['t']).sum(), \n",
    "                        'Shock': adj.rc_pd(sol('qD'), db0('nm_F')).groupby(['t']).sum()}), tPlot).plot(figsize=(6,4));"
   ]
  }
 ],
 "metadata": {
  "kernelspec": {
   "display_name": "Python 3 (ipykernel)",
   "language": "python",
   "name": "python3"
  },
  "language_info": {
   "codemirror_mode": {
    "name": "ipython",
    "version": 3
   },
   "file_extension": ".py",
   "mimetype": "text/x-python",
   "name": "python",
   "nbconvert_exporter": "python",
   "pygments_lexer": "ipython3",
   "version": "3.11.8"
  }
 },
 "nbformat": 4,
 "nbformat_minor": 5
}
