{
 "cells": [
  {
   "cell_type": "code",
   "execution_count": 1,
   "id": "bfa39608-4f85-483b-9898-1ea9a06133df",
   "metadata": {},
   "outputs": [
    {
     "name": "stdout",
     "output_type": "stream",
     "text": [
      "The file _gams_py_gdb0.gdx is still active and was not deleted.\n",
      "The file _gams_py_gdb1.gdx is still active and was not deleted.\n",
      "The file _gams_py_gdb2.gdx is still active and was not deleted.\n",
      "The file _gams_py_gdb3.gdx is still active and was not deleted.\n",
      "The file _gams_py_gdb4.gdx is still active and was not deleted.\n",
      "The file _gams_py_gdb5.gdx is still active and was not deleted.\n",
      "The file _gams_py_gdb6.gdx is still active and was not deleted.\n"
     ]
    }
   ],
   "source": [
    "clean_up = True # if True, remove all gams related files from working folder before starting\n",
    "%run stdPackages.ipynb"
   ]
  },
  {
   "cell_type": "markdown",
   "id": "4a17d2fb-28ec-4900-b087-0c5c8d7a0da2",
   "metadata": {},
   "source": [
    "*Load specific modules used here:*"
   ]
  },
  {
   "cell_type": "code",
   "execution_count": 2,
   "id": "b101b4bb-2e29-4acf-b82c-44680511f1fd",
   "metadata": {},
   "outputs": [],
   "source": [
    "os.chdir(main)\n",
    "%run stdPlotting.ipynb\n",
    "os.chdir(d['py'])\n",
    "import mOther"
   ]
  },
  {
   "cell_type": "markdown",
   "id": "7205e40b-b788-45e7-9685-a2ad2d80c3b8",
   "metadata": {},
   "source": [
    "# Other modules"
   ]
  },
  {
   "cell_type": "markdown",
   "id": "418e1069-8d87-4cc2-ad4d-fec9e14f5617",
   "metadata": {},
   "source": [
    "Most of these modules cannot actually run partially. Thus, the following simply showcase a bit of syntax for initialization."
   ]
  },
  {
   "cell_type": "markdown",
   "id": "4a080f21-3bc3-4c00-bcbe-d349a257e56d",
   "metadata": {},
   "source": [
    "*Load test data:*"
   ]
  },
  {
   "cell_type": "code",
   "execution_count": 3,
   "id": "d38d3c77-e179-4f9d-b0cb-44652a48c570",
   "metadata": {},
   "outputs": [],
   "source": [
    "t0 = 2019\n",
    "name = 'TestModelData' #\n",
    "db = GpyDB(os.path.join(d['data'], name), name = 'test', ws = d['work'])\n",
    "ws = db.ws"
   ]
  },
  {
   "cell_type": "code",
   "execution_count": 4,
   "id": "40f3913a-fde4-42c1-b01b-06e1674fd705",
   "metadata": {},
   "outputs": [],
   "source": [
    "# AggDB.subsetDB(db, db('s_HH'))"
   ]
  },
  {
   "cell_type": "markdown",
   "id": "5d1f7952-1c5a-4016-b9db-bfc5b44e4ebb",
   "metadata": {},
   "source": [
    "For variables that are defined over $t$, but where we do not yet have an initial value for all $t$, extrapolate from data:\n",
    "\n",
    "*Note: This forces extrapolation of all variables defined over $t$ - if it is important that some variables are not extrapolated, they should be removed from this statement.*"
   ]
  },
  {
   "cell_type": "code",
   "execution_count": 5,
   "id": "0634db7c-b8e9-4b53-bc75-573df7ded2bd",
   "metadata": {},
   "outputs": [],
   "source": [
    "[symbol.__setattr__('vals', extrapolateUpper(symbol.vals, db('tE')[0])) for symbol in [db[k] for k in db.varDom('t')['t']]];"
   ]
  },
  {
   "cell_type": "markdown",
   "id": "ebefcc19-1af2-4a40-80c4-143df649f244",
   "metadata": {},
   "source": [
    "## 1. ```IndexFund```"
   ]
  },
  {
   "cell_type": "markdown",
   "id": "f406ce2c-b35b-450d-82d4-55f885cce79a",
   "metadata": {},
   "source": [
    "*This can be added to a model with production (and/or investment) modules that compute fundamental values.*"
   ]
  },
  {
   "cell_type": "code",
   "execution_count": 6,
   "id": "e4092f6c-d440-4a03-9d4c-a9dc9ae17ce0",
   "metadata": {},
   "outputs": [
    {
     "data": {
      "text/plain": [
       "<pyDatabases.gpyDB.gpyDB.GpyDB at 0x1cb3dc3f1d0>"
      ]
     },
     "execution_count": 6,
     "metadata": {},
     "output_type": "execute_result"
    }
   ],
   "source": [
    "db['sIndexFund'] = db('s_p').union(db('s_i')) # assume all production and investment sectors are included in the index fund.\n",
    "db_IDX = db.copy()\n",
    "db_i = db_IDX\n",
    "AggDB.subsetDB(db_IDX, db('sIndexFund'))"
   ]
  },
  {
   "cell_type": "markdown",
   "id": "a61355e0-0efd-47f0-a467-ba49c3e984ca",
   "metadata": {},
   "source": [
    "Initialize as such:"
   ]
  },
  {
   "cell_type": "code",
   "execution_count": 7,
   "id": "e8dc56ff-9351-4fc8-88d1-56d7e998ef53",
   "metadata": {},
   "outputs": [],
   "source": [
    "m_IdxFund = mOther.IndexFund('idxF', db_i, 'sIndexFund') # name of module, database, name of symbol that covers sectors included in the fund\n",
    "m_i = m_IdxFund\n",
    "m_i.initStuff()"
   ]
  },
  {
   "cell_type": "markdown",
   "id": "e81fb58b-1131-4df8-ae15-7ee204267db6",
   "metadata": {},
   "source": [
    "Test write methods:"
   ]
  },
  {
   "cell_type": "code",
   "execution_count": 8,
   "id": "e82c06c6-2852-4643-9b45-7668ea3cb394",
   "metadata": {},
   "outputs": [
    {
     "name": "stdout",
     "output_type": "stream",
     "text": [
      "\n",
      "$BLOCK B_idxF\n",
      "\tE_idxF[t]$(txE[t])..\tvIdxFund[t] =E= sum(s$(sIndexFund[s]), uPortfolio[t,s]*vA[t,s]);\n",
      "$ENDBLOCK\n",
      "\n"
     ]
    }
   ],
   "source": [
    "print(m_i.equationText)"
   ]
  },
  {
   "cell_type": "markdown",
   "id": "792f8971-2369-4167-998a-01ac107a33ae",
   "metadata": {},
   "source": [
    "## 2. ```InventoryAR```"
   ]
  },
  {
   "cell_type": "code",
   "execution_count": 9,
   "id": "8fbfa20b-4660-46fd-ae5c-838b3fcf91a8",
   "metadata": {},
   "outputs": [
    {
     "data": {
      "text/plain": [
       "<pyDatabases.gpyDB.gpyDB.GpyDB at 0x1cb3dd3dd90>"
      ]
     },
     "execution_count": 9,
     "metadata": {},
     "output_type": "execute_result"
    }
   ],
   "source": [
    "db['sInventory'] = pd.Index(['itory'], name = 's') # name of inventory investment sector\n",
    "db_Invt = db.copy()\n",
    "db_i = db_Invt\n",
    "AggDB.subsetDB(db_i, db('sInventory'))"
   ]
  },
  {
   "cell_type": "markdown",
   "id": "89fc9d35-a643-4bc5-aa03-038c4492799b",
   "metadata": {},
   "source": [
    "Initialize as such:"
   ]
  },
  {
   "cell_type": "code",
   "execution_count": 10,
   "id": "0d341b63-2107-46dd-af55-fec336b09335",
   "metadata": {},
   "outputs": [],
   "source": [
    "m_Invt = mOther.InventoryAR('InvtAR', db_i, 'sInventory') # name of module, database, name of symbol that covers sectors included in the fund\n",
    "m_i = m_Invt\n",
    "m_i.initStuff()"
   ]
  },
  {
   "cell_type": "markdown",
   "id": "98d19eb8-581f-4e2f-acf9-9b811aea64b6",
   "metadata": {},
   "source": [
    "Test write methods:"
   ]
  },
  {
   "cell_type": "code",
   "execution_count": 11,
   "id": "1f9d1e45-5709-4efd-91d2-869c82e32e9d",
   "metadata": {},
   "outputs": [
    {
     "name": "stdout",
     "output_type": "stream",
     "text": [
      "\n",
      "$BLOCK B_InvtAR\n",
      "\tE_InvtAR[t,s,n]$(dInventory[s,n] and tx0E[t])..\tqD[t,s,n] =E= inventoryAR[s,n] * qD[t-1,s,n]/(1+g_LR);\n",
      "$ENDBLOCK\n",
      "\n"
     ]
    }
   ],
   "source": [
    "print(m_i.equationText)"
   ]
  },
  {
   "cell_type": "markdown",
   "id": "74a9bc09-bb64-49aa-990f-e90bfd0047ac",
   "metadata": {},
   "source": [
    "This can actually run without any more fuss:"
   ]
  },
  {
   "cell_type": "code",
   "execution_count": 12,
   "id": "b0841f2c-8959-4b83-9dbd-5096ee27e6c1",
   "metadata": {},
   "outputs": [],
   "source": [
    "m_i.solve();"
   ]
  },
  {
   "cell_type": "markdown",
   "id": "57be0247-a90d-424f-be60-8da0cf7e8b5e",
   "metadata": {},
   "source": [
    "## 3. ```SmallOpenEq```"
   ]
  },
  {
   "cell_type": "markdown",
   "id": "9111f8ee-d53f-4ce5-ad90-afcdbbb5362f",
   "metadata": {},
   "source": [
    "Initialization:"
   ]
  },
  {
   "cell_type": "code",
   "execution_count": 13,
   "id": "0e62190b-dd43-43da-b35f-77c3d4c36f8a",
   "metadata": {},
   "outputs": [],
   "source": [
    "m_equi = mOther.SmallOpenEq('eq', db) # name of module, database\n",
    "m_i = m_equi\n",
    "m_i.initStuff()"
   ]
  },
  {
   "cell_type": "markdown",
   "id": "16c97620-91c3-4c8a-9d16-5912be039d29",
   "metadata": {},
   "source": [
    "Test write methods:"
   ]
  },
  {
   "cell_type": "code",
   "execution_count": 14,
   "id": "7ec138b2-2d66-4b12-b10c-a3ac399f294a",
   "metadata": {},
   "outputs": [
    {
     "name": "stdout",
     "output_type": "stream",
     "text": [
      "\n",
      "$BLOCK B_eq_baseline\n",
      "\tE_eq_equi[t,n]$(nEqui[n] and txE[t])..\t sum(s$(d_qS[s,n]), qS[t,s,n]) =E= sum(s$(d_qD[s,n]), qD[t,s,n]);\n",
      "$ENDBLOCK\n",
      "\n",
      "$BLOCK B_eq_calib\n",
      "\tE_eq_equi_tx0E[t,n]$(nEqui[n] and tx0E[t])..\t sum(s$(d_qS[s,n]), qS[t,s,n]) =E= sum(s$(d_qD[s,n]), qD[t,s,n]);\n",
      "$ENDBLOCK\n",
      "\n"
     ]
    }
   ],
   "source": [
    "print(m_i.equationText)"
   ]
  }
 ],
 "metadata": {
  "kernelspec": {
   "display_name": "Python 3 (ipykernel)",
   "language": "python",
   "name": "python3"
  },
  "language_info": {
   "codemirror_mode": {
    "name": "ipython",
    "version": 3
   },
   "file_extension": ".py",
   "mimetype": "text/x-python",
   "name": "python",
   "nbconvert_exporter": "python",
   "pygments_lexer": "ipython3",
   "version": "3.11.8"
  }
 },
 "nbformat": 4,
 "nbformat_minor": 5
}
