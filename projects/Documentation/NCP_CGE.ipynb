{
 "cells": [
  {
   "cell_type": "code",
   "execution_count": 1,
   "id": "8d10b792-18fd-43d6-b6a2-d0c775a0cd05",
   "metadata": {},
   "outputs": [
    {
     "name": "stdout",
     "output_type": "stream",
     "text": [
      "The file _gams_py_gdb0.gdx is still active and was not deleted.\n",
      "The file _gams_py_gdb1.gdx is still active and was not deleted.\n",
      "The file _gams_py_gdb4.gdx is still active and was not deleted.\n",
      "The file _gams_py_gdb5.gdx is still active and was not deleted.\n",
      "The file _gams_py_gdb6.gdx is still active and was not deleted.\n"
     ]
    }
   ],
   "source": [
    "clean_up = True # if True, remove all gams related files from working folder before starting\n",
    "%run stdPackages.ipynb"
   ]
  },
  {
   "cell_type": "markdown",
   "id": "e58a5130-5b29-4d72-a2f4-9f5424afc7ae",
   "metadata": {},
   "source": [
    "*Load specific modules used here:*"
   ]
  },
  {
   "cell_type": "code",
   "execution_count": 2,
   "id": "5e7d5d6e-8b5d-4464-b0ec-68c01c3a1bcd",
   "metadata": {},
   "outputs": [],
   "source": [
    "os.chdir(d['py'])\n",
    "import mCGE\n",
    "from gmsPython import nestingTree\n",
    "from valueShares import nestedShares, nestedShares_noOutputs"
   ]
  },
  {
   "cell_type": "markdown",
   "id": "dc8760a8-2515-45ff-9427-473a5f893eb0",
   "metadata": {},
   "source": [
    "# NCP "
   ]
  },
  {
   "cell_type": "markdown",
   "id": "1bee79f6-fc5c-48c9-9d63-f94ccdcebf08",
   "metadata": {},
   "source": [
    "*Load test data:*"
   ]
  },
  {
   "cell_type": "code",
   "execution_count": 3,
   "id": "8222a28f-32fb-41ee-ad3d-b6665838f2fc",
   "metadata": {},
   "outputs": [],
   "source": [
    "t0 = 2019 # baseline year\n",
    "name = 'TestModelData'\n",
    "db = GpyDB(os.path.join(d['data'], name), name = 'NCPdb', ws = d['work'])\n",
    "# AggDB.subsetDB(db, db('s_p').union(db('s_i')).union(db('s_HH')))\n",
    "dbIO = db.copy() # create copy without adjustments made along the way\n",
    "ws = db.ws # use this as the main workspace throughout"
   ]
  },
  {
   "cell_type": "markdown",
   "id": "ec76d78f-a708-42b1-a261-20b7fc8378d9",
   "metadata": {},
   "source": [
    "Initialize model:"
   ]
  },
  {
   "cell_type": "code",
   "execution_count": 4,
   "id": "832c8c36-8bd8-4ad2-b4e0-9d867643a84b",
   "metadata": {},
   "outputs": [],
   "source": [
    "M = mCGE.NCP_CGE('NCPcge', database = db)\n",
    "# M.db['rDepr'] = M.steadyStateDepr() # use this to adjust depreciation rates to get steady state investments in baseline year"
   ]
  },
  {
   "cell_type": "markdown",
   "id": "94893583-767c-4235-94f4-8f9077149ad4",
   "metadata": {},
   "source": [
    "## 1. Add modules"
   ]
  },
  {
   "cell_type": "markdown",
   "id": "25f1151f-4372-4d14-aa1d-8279a987982c",
   "metadata": {},
   "source": [
    "The class has prespecified methods for adding modules. The modules for this specific CGE are: Production, investment, consumer, government, trade, and emissions."
   ]
  },
  {
   "cell_type": "markdown",
   "id": "2e841be0-c51d-4a4a-be68-364b3a1878de",
   "metadata": {},
   "source": [
    "### 1.1. Production"
   ]
  },
  {
   "cell_type": "markdown",
   "id": "c3ec7263-3b2a-4cc5-8a77-e1e0a8523f59",
   "metadata": {},
   "source": [
    "Nesting tree:"
   ]
  },
  {
   "cell_type": "code",
   "execution_count": 5,
   "id": "1daa35b0-f56f-41da-b906-2098b8154d90",
   "metadata": {},
   "outputs": [
    {
     "data": {
      "text/plain": [
       "<gmsPython.nestingTree.nestingTree.AggTree at 0x2c36e9db3d0>"
      ]
     },
     "execution_count": 5,
     "metadata": {},
     "output_type": "execute_result"
    }
   ],
   "source": [
    "nest = nestingTree.AggTree(name = 'P', trees = {'P': nestingTree.Tree('P', tree = db('nestProduction').to_list(), f = 'CES')})\n",
    "nest(namespace = {str(n)+'_input': n for n in db('n')})"
   ]
  },
  {
   "cell_type": "markdown",
   "id": "d3f73fe7-e934-4aea-bd3e-ea76a7d50568",
   "metadata": {},
   "source": [
    "Initial guess for share parameters:"
   ]
  },
  {
   "cell_type": "code",
   "execution_count": 6,
   "id": "7ae7d0a6-3132-47dd-8b07-64c6e4b17618",
   "metadata": {},
   "outputs": [],
   "source": [
    "v_p = nestedShares(nest, ws = ws)\n",
    "db_p = v_p(dbIO)"
   ]
  },
  {
   "cell_type": "markdown",
   "id": "a34c633f-7979-4bce-bce6-b9577ec454e6",
   "metadata": {},
   "source": [
    "Add to database:"
   ]
  },
  {
   "cell_type": "code",
   "execution_count": 7,
   "id": "98c1dfdb-6875-4f7a-9f0a-a2a4f7a5079b",
   "metadata": {},
   "outputs": [],
   "source": [
    "db.aom(db_p('mu').xs(t0), name = 'mu')\n",
    "db.aom(adj.rc_pd(db_p('vD'), nest.get('int')).rename('qD'), name = 'qD', priority = 'first') # specify intermediate goods levels"
   ]
  },
  {
   "cell_type": "markdown",
   "id": "e2629b31-8a6b-4ceb-a7c1-f5d3295bac81",
   "metadata": {},
   "source": [
    "Use static user cost as initial guess for price on durables (if no other has been provided):"
   ]
  },
  {
   "cell_type": "code",
   "execution_count": 8,
   "id": "d4d8812e-7a9f-4d1c-ac69-3f38acab65d1",
   "metadata": {},
   "outputs": [],
   "source": [
    "db.aom(db('pD_dur'), name = 'pD', priority = 'first') # pD_dur includes an estimate of the long-run user-cost of capital"
   ]
  },
  {
   "cell_type": "markdown",
   "id": "4be0d1ae-fc98-4ebe-8c8f-b3f1eabda180",
   "metadata": {},
   "source": [
    "#### Add module"
   ]
  },
  {
   "cell_type": "markdown",
   "id": "9a7f024e-a94b-416f-8504-32a7a3bdddf2",
   "metadata": {},
   "source": [
    "The model class ```NCP_CGE``` contains the default specifications for the production modules:\n",
    "* Class: ```DynamicNCES``` with adjustment costs.\n",
    "* Extensions: Include emissions with related abatement costs.\n",
    "* Use the lump sum tax in calibration of tax transfers in the baseline year.\n",
    "* Initialize as a \"partial\" module: This allows us to first solve the model without general equilibrium conditions and then subsequently with (with a solution close to the \"true\").\n",
    "\n",
    "Thus, if we only add the nesting tree, the other options are build in:"
   ]
  },
  {
   "cell_type": "code",
   "execution_count": 9,
   "id": "70e56f02-b1ae-463d-8073-fa6988e3eafb",
   "metadata": {},
   "outputs": [],
   "source": [
    "[nest.db.__setitem__(k, M.db[k]) for k in ('txE', 'dqCO2')];\n",
    "M.stdProduction(nest);"
   ]
  },
  {
   "cell_type": "markdown",
   "id": "d02ba67e-69ac-489a-b62e-ce9c9dfed6f3",
   "metadata": {},
   "source": [
    "### 1.2. Investment"
   ]
  },
  {
   "cell_type": "markdown",
   "id": "c340027b-fa78-4f73-9420-1639aca7b677",
   "metadata": {},
   "source": [
    "Nesting tree"
   ]
  },
  {
   "cell_type": "code",
   "execution_count": 10,
   "id": "b1ecb8d3-ae33-445b-9219-8e47e16e3f41",
   "metadata": {},
   "outputs": [],
   "source": [
    "nest = nestingTree.AggTree(name = 'I', trees = {'I': nestingTree.Tree('I', tree = db('nestInvestment').to_list(), f = 'CES')}, ws = ws)\n",
    "nest(namespace = {str(n)+'_input':n for n in db('n')});"
   ]
  },
  {
   "cell_type": "markdown",
   "id": "7601ee85-7199-436b-becc-cba5c9ce5565",
   "metadata": {},
   "source": [
    "Define share parameters:"
   ]
  },
  {
   "cell_type": "code",
   "execution_count": 11,
   "id": "b2af701e-d447-4588-968f-a922517da0b2",
   "metadata": {},
   "outputs": [],
   "source": [
    "v = nestedShares(nest, ws = ws)\n",
    "db_i = v(dbIO) "
   ]
  },
  {
   "cell_type": "markdown",
   "id": "126e3c84-3a11-4e53-a718-e1b2be64f4f4",
   "metadata": {},
   "source": [
    "Use share parameters and values to get initial values for intermediates:"
   ]
  },
  {
   "cell_type": "code",
   "execution_count": 12,
   "id": "80a50965-50d6-4357-bb30-c91b1d2a17a7",
   "metadata": {
    "scrolled": true
   },
   "outputs": [],
   "source": [
    "db.aom(db_i('mu').xs(t0), name = 'mu') \n",
    "db.aom(adj.rc_pd(db_i('vD'), nest.get('int')).rename('qD'), name = 'qD', priority = 'first') # specify intermediate goods levels"
   ]
  },
  {
   "cell_type": "markdown",
   "id": "24da5fc0-23f0-4727-ba22-010b59b0d313",
   "metadata": {},
   "source": [
    "#### Add module"
   ]
  },
  {
   "cell_type": "markdown",
   "id": "847d959f-e75c-416f-9f39-eb2c0060a524",
   "metadata": {},
   "source": [
    "The production of investment goods follow a simple nested CES function as well. The model class here uses the following default options:\n",
    "* Class: ```StaticNECS``` without emissions.\n",
    "* Use the tax on outputs to calibrate total tax transfers in the baseline year.\n",
    "* Initialize as a \"partial\" module: This allows us to first solve the model without general equilibrium conditions and then subsequently with (with a solution close to the \"true\").\n",
    "\n",
    "Thus, if we only add the nesting tree, the other options are build in:"
   ]
  },
  {
   "cell_type": "code",
   "execution_count": 13,
   "id": "8e5af45c-d230-4033-a11d-d66919c648b6",
   "metadata": {},
   "outputs": [],
   "source": [
    "M.stdInvestment(nest);"
   ]
  },
  {
   "cell_type": "markdown",
   "id": "2bb6c512-5132-4d82-aa50-930f3beb8d5e",
   "metadata": {},
   "source": [
    "### 1.3. Consumer module"
   ]
  },
  {
   "cell_type": "markdown",
   "id": "4cb5f194-1795-4e7c-9692-4f0edc35283d",
   "metadata": {},
   "source": [
    "Nesting tree:"
   ]
  },
  {
   "cell_type": "code",
   "execution_count": 14,
   "id": "ac5b0497-4ac7-4407-b00a-17ebc7ecf654",
   "metadata": {},
   "outputs": [],
   "source": [
    "nest = nestingTree.AggTree(name = 'HH', trees = {'HH': nestingTree.Tree('HH', tree = db('nestHH').to_list(), f = 'CES')}, ws = ws)\n",
    "nest(namespace = {str(n)+'_input': n for n in db('n')});"
   ]
  },
  {
   "cell_type": "markdown",
   "id": "9466d897-b546-4514-bb13-5bed0cf31187",
   "metadata": {},
   "source": [
    "Value shares:"
   ]
  },
  {
   "cell_type": "code",
   "execution_count": 15,
   "id": "931c6baa-9662-4790-9467-0d8f268e20ea",
   "metadata": {},
   "outputs": [],
   "source": [
    "v = nestedShares_noOutputs(nest, ws = ws)\n",
    "db_vs = v(dbIO) # one-liner that returns solution database"
   ]
  },
  {
   "cell_type": "markdown",
   "id": "5c64cb5c-b951-4500-a934-04a9103481e4",
   "metadata": {},
   "source": [
    "Add to main database:"
   ]
  },
  {
   "cell_type": "code",
   "execution_count": 16,
   "id": "22b274e0-3965-472a-b2de-09fe94fea957",
   "metadata": {
    "scrolled": true
   },
   "outputs": [],
   "source": [
    "db.aom(db_vs('mu').xs(t0), name = 'mu') \n",
    "db.aom(adj.rc_pd(db_vs('vD'), nest.get('int').union(nest.get('output'))).rename('qD'), name = 'qD', priority = 'first') # specify intermediate goods levels"
   ]
  },
  {
   "cell_type": "markdown",
   "id": "1ab26e60-02b7-4e8b-962f-8c6bd4d3341f",
   "metadata": {},
   "source": [
    "#### Add module"
   ]
  },
  {
   "cell_type": "markdown",
   "id": "127087f7-2931-4aac-8648-b467f942890c",
   "metadata": {},
   "source": [
    "The consumer is modelled as a Ramsey consumer with endogenous labor supply (RamseyGHH). Furthermore, we assume that household assets are tied up in domestic firms. This is the \"index fund\" extension. The model class here uses the following default options:\n",
    "* Class: ```RamseyGHHIdxFund```.\n",
    "* It uses the lump-sum transfer to target total government transfers in the baseline year.\n",
    "* It adds a $j$-term to the budget in the initial period to match baseline spendings.\n",
    "* Initialize as a \"partial\" module: This allows us to first solve the model without general equilibrium conditions and then subsequently with (with a solution close to the \"true\").\n",
    "\n",
    "We need to add nesting tree + indication of labor-to-consumption aggregate:"
   ]
  },
  {
   "cell_type": "code",
   "execution_count": 17,
   "id": "2ba257c4-2c30-408e-8623-fc5884708e76",
   "metadata": {},
   "outputs": [
    {
     "data": {
      "text/plain": [
       "<HouseholdFiles.idxFundExt.RamseyGHHIdxFund at 0x2c36ead9d90>"
      ]
     },
     "execution_count": 17,
     "metadata": {},
     "output_type": "execute_result"
    }
   ],
   "source": [
    "nest.db['t0'] = db['t0'] # this is used in the initialization phase - before merging the databases\n",
    "M.stdHousehold(nest, db('L2C'))"
   ]
  },
  {
   "cell_type": "markdown",
   "id": "39999862-48ea-4ded-9318-7e8fa583e862",
   "metadata": {},
   "source": [
    "### 1.4. Government module"
   ]
  },
  {
   "cell_type": "markdown",
   "id": "cd5ee2db-4867-4710-88bb-de68b07d7cce",
   "metadata": {},
   "source": [
    "Nesting tree:"
   ]
  },
  {
   "cell_type": "code",
   "execution_count": 18,
   "id": "679fc4fa-9fc7-4ba5-9a44-1cff5c8639cd",
   "metadata": {},
   "outputs": [],
   "source": [
    "nest = nestingTree.AggTree(name = 'G', trees = {'G': nestingTree.Tree('G', tree = db('nestG').to_list(), f = 'CES')}, ws = ws)\n",
    "nest(namespace = {str(n)+'_input': n for n in db('n')});"
   ]
  },
  {
   "cell_type": "markdown",
   "id": "8bf54b21-c946-41b5-872a-60832ca7d307",
   "metadata": {},
   "source": [
    "Value shares:"
   ]
  },
  {
   "cell_type": "code",
   "execution_count": 19,
   "id": "e49cb992-0e9b-4c1e-958e-a7e19c954957",
   "metadata": {},
   "outputs": [],
   "source": [
    "v = nestedShares_noOutputs(nest, ws = ws)\n",
    "db_vs = v(dbIO)"
   ]
  },
  {
   "cell_type": "markdown",
   "id": "cd301f9f-3a77-436c-b954-e68332105372",
   "metadata": {},
   "source": [
    "Add to main database:"
   ]
  },
  {
   "cell_type": "code",
   "execution_count": 20,
   "id": "59871bdd-5e37-4f4a-87fa-268295e00a91",
   "metadata": {},
   "outputs": [],
   "source": [
    "db.aom(db_vs('mu').xs(t0), name = 'mu') \n",
    "db.aom(adj.rc_pd(db_vs('vD'), nest.get('int').union(nest.get('output'))).rename('qD'), name = 'qD', priority = 'first') # specify intermediate goods levels"
   ]
  },
  {
   "cell_type": "markdown",
   "id": "4d1f7d12-5aa0-48cd-8580-e1014123d448",
   "metadata": {},
   "source": [
    "#### Add module"
   ]
  },
  {
   "cell_type": "markdown",
   "id": "598cb070-251f-4aab-abb4-15d271124d74",
   "metadata": {},
   "source": [
    "The government sector is modelled with a nested CES function to determine demand from other sectors', and balances the budget using taxes on households. The model class here uses the following default options:\n",
    "* Class: ```StaticNECS```.\n",
    "* It uses the lump-sum tax to calibrate total tax transfers in the baseline year.\n",
    "* It uses the lump-sum tax on households to ensure a balanced budget in all years.\n",
    "* It uses intial level of assets to target total expenditures in the baseline year.\n",
    "* Initialize as a \"partial\" module: This allows us to first solve the model without general equilibrium conditions and then subsequently with (with a solution close to the \"true\").\n",
    "\n",
    "Simply specifying the nesting structure adopts the assumptions above as standard:"
   ]
  },
  {
   "cell_type": "code",
   "execution_count": 21,
   "id": "bc6fd7e4-64ac-4942-8220-e101171c6e2b",
   "metadata": {
    "scrolled": true
   },
   "outputs": [],
   "source": [
    "nest.db['t0'] = db['t0'] # this is used in the initialization phase - before merging the databases\n",
    "M.stdGovernment(nest);"
   ]
  },
  {
   "cell_type": "markdown",
   "id": "f00a9212-3927-4062-be56-bb5c3da3500e",
   "metadata": {},
   "source": [
    "### 1.5. Trade module"
   ]
  },
  {
   "cell_type": "markdown",
   "id": "8d43bf26-a634-42b3-9f04-06c91c494aad",
   "metadata": {},
   "source": [
    "The Armington trade module relies on two main specifications: Mapping from domestic to foreign types of goods (stored as ```dom2for``` in the database), and ```dExport``` that specifies the types of goods that the foreign sector demands. These symbols are already in the database, so we do not have to specify it here (but can be adjusted in case we need to treat trade with certain goods in a different way). The only thing we have to specify is the name of the module:"
   ]
  },
  {
   "cell_type": "code",
   "execution_count": 22,
   "id": "8f558bd3-83f6-42b6-adc4-cdf11d862f77",
   "metadata": {},
   "outputs": [],
   "source": [
    "M.stdTrade('T');"
   ]
  },
  {
   "cell_type": "markdown",
   "id": "66f0a2a5-88fc-4f4c-b7c1-d882d2cf3512",
   "metadata": {},
   "source": [
    "### 1.6. Inventory investments"
   ]
  },
  {
   "cell_type": "markdown",
   "id": "2ca2a3a3-b209-420d-a486-15219ee9f018",
   "metadata": {},
   "source": [
    "We include inventory investments for completeness, but simply keep them at an exogenous level for now. The default option uses the sector ``` s = 'itory'``` as the inventory investment sector:"
   ]
  },
  {
   "cell_type": "code",
   "execution_count": 23,
   "id": "f91157c1-26e1-4b32-a1c7-a489fc2a5ea5",
   "metadata": {},
   "outputs": [],
   "source": [
    "M.stdInventory('IVT');"
   ]
  },
  {
   "cell_type": "markdown",
   "id": "55f06210-3497-4a7b-bce5-b8460dc52411",
   "metadata": {},
   "source": [
    "### 1.7. Index fund extension:"
   ]
  },
  {
   "cell_type": "code",
   "execution_count": 24,
   "id": "ec015620-993f-4c58-90cd-335254bf9008",
   "metadata": {},
   "outputs": [
    {
     "data": {
      "text/plain": [
       "<OtherFiles.indexFund.IndexFund at 0x2c36eb12510>"
      ]
     },
     "execution_count": 24,
     "metadata": {},
     "output_type": "execute_result"
    }
   ],
   "source": [
    "M.stdIndexFund('IdxF')"
   ]
  },
  {
   "cell_type": "markdown",
   "id": "bf8a491f-0b09-4287-ae38-d8d0cd4de059",
   "metadata": {},
   "source": [
    "Welfare module:"
   ]
  },
  {
   "cell_type": "code",
   "execution_count": 25,
   "id": "eba70a49-b3a5-40bf-8c62-a941d6251e11",
   "metadata": {},
   "outputs": [
    {
     "data": {
      "text/plain": [
       "<OtherFiles.welfare.HouseholdWelfare at 0x2c36ebec290>"
      ]
     },
     "execution_count": 25,
     "metadata": {},
     "output_type": "execute_result"
    }
   ],
   "source": [
    "M.stdWelfare('W', active = False) # don't use NLP solver yet."
   ]
  },
  {
   "cell_type": "markdown",
   "id": "419f4c67-1f98-4c17-b0f3-b39764c235af",
   "metadata": {},
   "source": [
    "## 2. Small stuff"
   ]
  },
  {
   "cell_type": "markdown",
   "id": "bd4af99d-b15d-4958-8fb6-1407f58d2eba",
   "metadata": {},
   "source": [
    "*Clean up database a bit (this is not necessary, but it removes some variables that are not ultimately used in the model):*"
   ]
  },
  {
   "cell_type": "code",
   "execution_count": 26,
   "id": "77a8e2d9-b427-4c2c-ba81-58215fa211d2",
   "metadata": {},
   "outputs": [],
   "source": [
    "[db.series.__delitem__(k) for k in ('vD','vTax', 'vD_dur','vD_depr','vD_inv', 'vS', 'pD_dur') if k in db.symbols];"
   ]
  },
  {
   "cell_type": "markdown",
   "id": "7e6b2738-87b5-44a1-8ece-16f8044b7a9d",
   "metadata": {},
   "source": [
    "For variables that are defined over $t$, but where we do not yet have an initial value for all $t$, extrapolate from data:\n",
    "\n",
    "*Note: This forces extrapolation of all variables defined over $t$ - if it is important that some variables are not extrapolated, they should be removed from this statement.*"
   ]
  },
  {
   "cell_type": "code",
   "execution_count": 27,
   "id": "a8c4a4c3-0863-4ec4-8495-1953e358b130",
   "metadata": {},
   "outputs": [],
   "source": [
    "[symbol.__setattr__('vals', extrapolateUpper(symbol.vals, db('tE')[0])) for symbol in [db[k] for k in db.varDom('t')['t']]];"
   ]
  },
  {
   "cell_type": "markdown",
   "id": "37d5dcc4-d0af-4869-a7c5-c1c61d5cf66f",
   "metadata": {},
   "source": [
    "Merge internally, i.e. write a gdx file from the Python database:"
   ]
  },
  {
   "cell_type": "code",
   "execution_count": 28,
   "id": "33bd3d0c-9a3d-4358-b568-cf03aa5e7554",
   "metadata": {},
   "outputs": [],
   "source": [
    "db.mergeInternal()"
   ]
  },
  {
   "cell_type": "markdown",
   "id": "5fc79b6e-a6f4-467b-9624-aa33f94774de",
   "metadata": {},
   "source": [
    "## 3. Solve"
   ]
  },
  {
   "cell_type": "markdown",
   "id": "702e9c42-bbe1-4f30-8083-ca3984e8b423",
   "metadata": {},
   "source": [
    "*Note: when we initialized (some of) the modules, we added  the condition ```partial = True```. This statement allows us to run the modules separately. For instance, the following cell would solve the production module by itself and add the solution to the main database. This can be used as a way of getting good initial values for the model or to run partial equilibrium experiments.*"
   ]
  },
  {
   "cell_type": "markdown",
   "id": "361a4721-5672-43bf-8392-d65aefde4350",
   "metadata": {},
   "source": [
    "*Example for how to run a module separately and store the result in the main database:*"
   ]
  },
  {
   "cell_type": "code",
   "execution_count": 29,
   "id": "bf0a263c-48af-4e08-bba5-f9bc23c7aca4",
   "metadata": {},
   "outputs": [],
   "source": [
    "# m = M.m['P'] # select module to run \n",
    "# soldb = m.jSolve(10, state = 'C', ϕ = .1) # solve calibration model with 10 steps and nonlinear grid (ϕ<1 means that adjustments to jTerms start large and then decrease)\n",
    "# [m.db.aom(soldb[k], name = k) for k in m.groups[f'{m.name}_endo_C'].out]; # for all endogenous variables, add the solution to the main database again \n",
    "# m.db.mergeInternal() # update the gdx with the new solution"
   ]
  },
  {
   "cell_type": "markdown",
   "id": "18b0586a-0afc-4527-9869-0ec530a53d48",
   "metadata": {},
   "source": [
    "Calibrate the model without equilibrium constraints yet (the jSolve method automatically uses all the modules that we have added so far):"
   ]
  },
  {
   "cell_type": "code",
   "execution_count": 30,
   "id": "38cb534b-acca-4229-a88f-b648d1eb09cb",
   "metadata": {},
   "outputs": [],
   "source": [
    "soldb = M.jSolve(25, state = 'C', ϕ = .5) # solve calibration model with 10 steps and nonlinear grid (ϕ<1 means that adjustments to jTerms start large and then decrease)"
   ]
  },
  {
   "cell_type": "markdown",
   "id": "810de7c0-56aa-48dd-b821-ab34f30800e8",
   "metadata": {},
   "source": [
    "*Note: GAMS automatically makes objects sparse (and does not store zeros). In this case, the tax rates are removed (as they are zero in this baseline):*"
   ]
  },
  {
   "cell_type": "code",
   "execution_count": 31,
   "id": "21739ea0-9fa2-4435-94d9-41f6877331de",
   "metadata": {},
   "outputs": [],
   "source": [
    "soldb['tauCO2agg'] = soldb('tauCO2agg').combine_first(M.db('tauCO2agg'))"
   ]
  },
  {
   "cell_type": "markdown",
   "id": "faf070e2-442c-4e15-961a-d937bab4bdb1",
   "metadata": {},
   "source": [
    "Write solution to the main database again:"
   ]
  },
  {
   "cell_type": "code",
   "execution_count": 32,
   "id": "f4beeac8-3c33-46fb-b649-fa63dfcbc228",
   "metadata": {},
   "outputs": [],
   "source": [
    "[M.db.__setitem__(k, soldb[k]) for k in M.db.getTypes(['var']) if k in soldb.symbols]; # use solution database\n",
    "M.db.mergeInternal()"
   ]
  },
  {
   "cell_type": "markdown",
   "id": "6a294035-3626-44ea-9e50-fb4082e0a23d",
   "metadata": {},
   "source": [
    "Remove \"init\" methods and set state to general equilibrium (not partial):"
   ]
  },
  {
   "cell_type": "code",
   "execution_count": 33,
   "id": "e3455347-80eb-4013-bd17-13b17fbe5d64",
   "metadata": {},
   "outputs": [],
   "source": [
    "[m.__setattr__('initFromGms', None) for m in M.m.values() if hasattr(m, 'initFromGms')]; # remove the GAMS initialization part\n",
    "[m.__setattr__('partial', False) for m in M.m.values() if hasattr(m, 'partial')]; # remove partial eq. settings for now also."
   ]
  },
  {
   "cell_type": "markdown",
   "id": "c2d00e91-5381-4140-bbd5-452564032a6e",
   "metadata": {},
   "source": [
    "Now, add emissions and abatement module + equilibrium module. Calibrate in general equilibrium:"
   ]
  },
  {
   "cell_type": "code",
   "execution_count": 34,
   "id": "95760b12-391d-481f-a730-a78118c374a5",
   "metadata": {},
   "outputs": [],
   "source": [
    "M.stdEquilibrium('Equi')\n",
    "M.stdEmissions('M')\n",
    "fullSol = M.jSolve(25, state = 'C')"
   ]
  },
  {
   "cell_type": "markdown",
   "id": "2823faf2-0bc4-4b34-b350-16bed98f4885",
   "metadata": {},
   "source": [
    "Add full solution to baseline model database:"
   ]
  },
  {
   "cell_type": "code",
   "execution_count": 35,
   "id": "e7847092-9519-4bc4-a08e-7eb53edff670",
   "metadata": {},
   "outputs": [],
   "source": [
    "[M.db.__setitem__(k, fullSol[k]) for k in M.db.getTypes(['var']) if k in fullSol.symbols]; # use solution database\n",
    "[m.__setattr__('initFromGms', None) for m in M.m.values() if hasattr(m, 'initFromGms')]; # remove the GAMS initialization part"
   ]
  },
  {
   "cell_type": "markdown",
   "id": "56a8c9d2-4a76-4b55-a870-7841871c097f",
   "metadata": {},
   "source": [
    "## 4. Save/export"
   ]
  },
  {
   "cell_type": "code",
   "execution_count": 36,
   "id": "9c108e70-b863-4161-b47a-c8cb7a1f5020",
   "metadata": {},
   "outputs": [],
   "source": [
    "M.db.data_folder = d['data']"
   ]
  },
  {
   "cell_type": "markdown",
   "id": "28303119-d6cd-4513-a825-cea1e4399eec",
   "metadata": {},
   "source": [
    "We can save/export the model in a few different ways:\n",
    "1. Save model instance: ```Model``` (ultimate parent class for all the models) is pickleable, meaning that we can save/load the class with Python's ```pickle``` class.\n",
    "2. Store solution: It takes no virtually no time to re-compile the ```Model``` class, so we can also simply store the solution database and - when needed - initialize the model class again.\n",
    "3. Store GAMS code and solution: This option allows us to remove the model from the python class ```Model``` and instead treat it as a conventional GAMS program."
   ]
  },
  {
   "cell_type": "markdown",
   "id": "3904b3d8-3591-4e11-9ea4-5b508f7c5e39",
   "metadata": {},
   "source": [
    "*1. Store model instance or database with pickle:*"
   ]
  },
  {
   "cell_type": "code",
   "execution_count": 37,
   "id": "031e18a6-bcf2-464f-b36b-64b99d4b4ef8",
   "metadata": {},
   "outputs": [],
   "source": [
    "M.export(repo = M.data_folder, name = M.name) # store the entire class - these are the default options by the way "
   ]
  },
  {
   "cell_type": "markdown",
   "id": "24e89342-0f18-47cc-94ea-12686b475cce",
   "metadata": {},
   "source": [
    "*2. Store data:*"
   ]
  },
  {
   "cell_type": "code",
   "execution_count": 38,
   "id": "0bf540fb-ed4e-45a1-844c-ee6a046a75ad",
   "metadata": {},
   "outputs": [],
   "source": [
    "# M.db.export(repo = M.db.data_folder, name = M.db.name) # store the solution database  - these are the default options by the way "
   ]
  },
  {
   "cell_type": "markdown",
   "id": "f5358606-f030-4e2b-930a-37e32d121abc",
   "metadata": {},
   "source": [
    "*3. Export gams code and accompanying gdx file:*"
   ]
  },
  {
   "cell_type": "code",
   "execution_count": 39,
   "id": "32337ede-8421-4281-b38b-a487eabd341a",
   "metadata": {},
   "outputs": [],
   "source": [
    "# baselineText = M.write(state = 'B') # store text so we can export it for later\n",
    "# text_gamY    = M.write_gamY(state = 'B') # store gamY text"
   ]
  },
  {
   "cell_type": "markdown",
   "id": "e50b82bb-c25b-4006-a09d-44d1be937b0d",
   "metadata": {},
   "source": [
    "*Save text and accompanying gdx file:*"
   ]
  },
  {
   "cell_type": "code",
   "execution_count": 40,
   "id": "906cef6d-ed49-487c-83db-859f7addb3b6",
   "metadata": {},
   "outputs": [],
   "source": [
    "# with open(os.path.join(d['gams'], f'{M.name}.gms'), \"w\") as file:\n",
    "#     file.write(baselineText)\n",
    "# with open(os.path.join(d['gams'], f'{M.name}.gmy'), \"w\") as file:\n",
    "#     file.write(text_gamY)\n",
    "# M.db.database.export(os.path.join(M.db.data_folder, M.db.name))"
   ]
  }
 ],
 "metadata": {
  "kernelspec": {
   "display_name": "Python 3 (ipykernel)",
   "language": "python",
   "name": "python3"
  },
  "language_info": {
   "codemirror_mode": {
    "name": "ipython",
    "version": 3
   },
   "file_extension": ".py",
   "mimetype": "text/x-python",
   "name": "python",
   "nbconvert_exporter": "python",
   "pygments_lexer": "ipython3",
   "version": "3.11.8"
  }
 },
 "nbformat": 4,
 "nbformat_minor": 5
}
