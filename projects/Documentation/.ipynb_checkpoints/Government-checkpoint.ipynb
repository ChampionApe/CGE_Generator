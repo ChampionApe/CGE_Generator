{
 "cells": [
  {
   "cell_type": "code",
   "execution_count": 1,
   "id": "7de7fd31-8350-4a54-9d56-62d56fbcf550",
   "metadata": {},
   "outputs": [
    {
     "name": "stdout",
     "output_type": "stream",
     "text": [
      "The file _gams_py_gdb1.gdx is still active and was not deleted.\n",
      "The file _gams_py_gdb2.gdx is still active and was not deleted.\n",
      "The file _gams_py_gdb3.gdx is still active and was not deleted.\n",
      "The file _gams_py_gdb4.gdx is still active and was not deleted.\n",
      "The file _gams_py_gdb5.gdx is still active and was not deleted.\n",
      "The file _gams_py_gdb6.gdx is still active and was not deleted.\n"
     ]
    }
   ],
   "source": [
    "clean_up = True # if True, remove all gams related files from working folder before starting\n",
    "%run stdPackages.ipynb"
   ]
  },
  {
   "cell_type": "markdown",
   "id": "25ff2f66-8c5d-4e54-ba92-6f7efddf705f",
   "metadata": {},
   "source": [
    "*Load specific modules used here:*"
   ]
  },
  {
   "cell_type": "code",
   "execution_count": 2,
   "id": "d9b42641-9996-4e23-ae16-96c85a588f2f",
   "metadata": {},
   "outputs": [],
   "source": [
    "os.chdir(main)\n",
    "%run stdPlotting.ipynb\n",
    "os.chdir(d['py'])\n",
    "import mGovernment\n",
    "from gmsPython import nestingTree\n",
    "from valueShares import nestedShares_noOutputs"
   ]
  },
  {
   "cell_type": "markdown",
   "id": "0c956c7d-12ec-4f0e-9397-cf422a07160b",
   "metadata": {},
   "source": [
    "# Government modules"
   ]
  },
  {
   "cell_type": "markdown",
   "id": "abd78ecd-f561-4fad-a1d4-1db24fed5902",
   "metadata": {},
   "source": [
    "*Load test data:*"
   ]
  },
  {
   "cell_type": "code",
   "execution_count": 3,
   "id": "1de95e17-6c04-4e70-a523-55c9a589a18f",
   "metadata": {},
   "outputs": [],
   "source": [
    "t0 = 2019\n",
    "name = 'TestModelData' #\n",
    "db = GpyDB(os.path.join(d['data'], name), name = 'test', ws = d['work'])\n",
    "ws = db.ws"
   ]
  },
  {
   "cell_type": "markdown",
   "id": "a3d098d2-4087-4d4f-930c-700eda8d937c",
   "metadata": {},
   "source": [
    "Subset data to only include government sector:"
   ]
  },
  {
   "cell_type": "code",
   "execution_count": 4,
   "id": "d2c1aafd-d3f7-46ff-8517-f5e747c10042",
   "metadata": {},
   "outputs": [
    {
     "data": {
      "text/plain": [
       "<pyDatabases.gpyDB.gpyDB.GpyDB at 0x2ad98a703d0>"
      ]
     },
     "execution_count": 4,
     "metadata": {},
     "output_type": "execute_result"
    }
   ],
   "source": [
    "AggDB.subsetDB(db, db('s_G'))"
   ]
  },
  {
   "cell_type": "markdown",
   "id": "d22c66d2-1dbd-4095-9e7e-9bb602850a0f",
   "metadata": {},
   "source": [
    "Note: This also removes tax income from other sectors. This does not break with the basic models though, but we lose out on some part of the government revenue here."
   ]
  },
  {
   "cell_type": "markdown",
   "id": "3a42463c-e64d-4c75-ad31-9a0d11132def",
   "metadata": {},
   "source": [
    "For variables that are defined over $t$, but where we do not yet have an initial value for all $t$, extrapolate from data:\n",
    "\n",
    "*Note: This forces extrapolation of all variables defined over $t$ - if it is important that some variables are not extrapolated, they should be removed from this statement.*"
   ]
  },
  {
   "cell_type": "code",
   "execution_count": 5,
   "id": "be686446-ee60-4985-81d7-66710f7f86f2",
   "metadata": {},
   "outputs": [],
   "source": [
    "[symbol.__setattr__('vals', extrapolateUpper(symbol.vals, db('tE')[0])) for symbol in [db[k] for k in db.varDom('t')['t']]];"
   ]
  },
  {
   "cell_type": "markdown",
   "id": "ea4c2cea-b41b-4c1d-af6e-0b97c9f09b05",
   "metadata": {},
   "source": [
    "## 1. ```GovNCES```"
   ]
  },
  {
   "cell_type": "code",
   "execution_count": 6,
   "id": "f9acf546-5f4c-4d0a-97a5-05b988ce964f",
   "metadata": {},
   "outputs": [],
   "source": [
    "db_NCES = db.copy()\n",
    "db_i = db_NCES"
   ]
  },
  {
   "cell_type": "markdown",
   "id": "0a8c457a-5cef-447d-9713-992fd4c53e82",
   "metadata": {},
   "source": [
    "*Set up nesting structure from nesting tree:*"
   ]
  },
  {
   "cell_type": "code",
   "execution_count": 7,
   "id": "f473df76-1d10-42d5-b363-49767908db10",
   "metadata": {},
   "outputs": [
    {
     "data": {
      "text/plain": [
       "<gmsPython.nestingTree.nestingTree.AggTree at 0x2ad9e487810>"
      ]
     },
     "execution_count": 7,
     "metadata": {},
     "output_type": "execute_result"
    }
   ],
   "source": [
    "nest = nestingTree.Tree('G', tree = db_i('nestG').to_list(), f = 'CES')\n",
    "nestAgg = nestingTree.AggTree(name = 'G', trees = {t.name: t for t in [nest]}, ws = ws)\n",
    "nestAgg(namespace = {str(n)+'_input':n for n in db('n')})"
   ]
  },
  {
   "cell_type": "markdown",
   "id": "7f9110ba-96ab-47bb-b248-47a10fcf76a2",
   "metadata": {},
   "source": [
    "*Get starting values for $\\mu$ using value shares:*"
   ]
  },
  {
   "cell_type": "code",
   "execution_count": 8,
   "id": "50e4834f-7015-44b2-a703-d3037a1f22ad",
   "metadata": {},
   "outputs": [],
   "source": [
    "v = nestedShares_noOutputs(nestAgg, ws = ws)\n",
    "db_vs = v(db) # one-liner that returns solution database"
   ]
  },
  {
   "cell_type": "markdown",
   "id": "9be58ff0-de0b-435f-aef6-58a7448c229a",
   "metadata": {},
   "source": [
    "Use share parameters and values to get initial values for intermediates:"
   ]
  },
  {
   "cell_type": "code",
   "execution_count": 9,
   "id": "86ddf2f0-246d-4d54-887e-f4fd1625c1f0",
   "metadata": {},
   "outputs": [],
   "source": [
    "db_i.aom(db_vs('mu').xs(t0), name = 'mu')\n",
    "db_i.aom(adj.rc_pd(db_vs('vD'), nestAgg.get('int').union(nestAgg.get('output'))).rename('qD'), name = 'qD', priority = 'first') # specify intermediate goods levels"
   ]
  },
  {
   "cell_type": "markdown",
   "id": "abb27c71-2fff-4e41-ad84-2b6bd06566a5",
   "metadata": {},
   "source": [
    "Initialize model instance:\n",
    "* ```self.taxInstr```: Can be lumpsum tax (```lumpSum```) or input taxes (```tauD```). Specifies how total government transfers are targeted in calibration.\n",
    "* ```self.incInstr```: Can be $j$-term (```jTerm```) or initial assets (```vA0```).  Specifies how to ensure that law of motion for assets clears in initial period where all income streams are fixed. "
   ]
  },
  {
   "cell_type": "code",
   "execution_count": 10,
   "id": "35daf2fd-7606-4d69-8932-88240e1c993e",
   "metadata": {},
   "outputs": [],
   "source": [
    "m_NCES = mGovernment.GovNCES(nestAgg, partial = True, properties = {'taxInstr': 'tauLump', 'incInstr': 'jTerm'})\n",
    "m_i = m_NCES"
   ]
  },
  {
   "cell_type": "markdown",
   "id": "1ca3a415-fad3-402a-9185-7fc2189e0ec1",
   "metadata": {},
   "source": [
    "Add data and initialize other stuff with default options:"
   ]
  },
  {
   "cell_type": "code",
   "execution_count": 11,
   "id": "4a03fec7-ed5c-4482-9039-656cb7e02edf",
   "metadata": {},
   "outputs": [],
   "source": [
    "m_i.initStuff(db = db_i)"
   ]
  },
  {
   "cell_type": "markdown",
   "id": "4841f195-7479-4c15-8c5d-f561fc9fbf86",
   "metadata": {},
   "source": [
    "Set value of assets to zero (hand-to-mouth like behavior):"
   ]
  },
  {
   "cell_type": "code",
   "execution_count": 12,
   "id": "3286c13d-626a-4bb4-b96a-e972e64efbe0",
   "metadata": {},
   "outputs": [],
   "source": [
    "m_i.db['vA'] = m_i.db('vA')*0\n",
    "m_i.db.mergeInternal()"
   ]
  },
  {
   "cell_type": "markdown",
   "id": "3d155722-854a-4fdc-a9c8-9c91b7e4f4e2",
   "metadata": {},
   "source": [
    "Solve calibration:"
   ]
  },
  {
   "cell_type": "code",
   "execution_count": 14,
   "id": "fe92ae23-631f-4324-8906-011b4c469c83",
   "metadata": {},
   "outputs": [],
   "source": [
    "solve_NCES_Calib = m_i.solve(state = 'C')\n",
    "solve_i = solve_NCES_Calib"
   ]
  },
  {
   "cell_type": "markdown",
   "id": "ddb8a98b-bc86-414f-9a65-6643423e060f",
   "metadata": {},
   "source": [
    "Add solution to main database, remove init methods (we want to use this solution as initial value):"
   ]
  },
  {
   "cell_type": "code",
   "execution_count": 15,
   "id": "916ca4b5-4820-45ea-9c1d-f326be2e1f1b",
   "metadata": {},
   "outputs": [],
   "source": [
    "[m_i.db.__setitem__(k, solve_i[k]) for k in m_i.db.getTypes(['var']) if k in solve_i.symbols]; # use solution database\n",
    "m_i.db.mergeInternal()"
   ]
  },
  {
   "cell_type": "markdown",
   "id": "eb8a6a97-0f2a-4a61-bf6b-cd01e7f62ca1",
   "metadata": {},
   "source": [
    "Test baseline state:"
   ]
  },
  {
   "cell_type": "code",
   "execution_count": 16,
   "id": "d358d60a-0301-4338-8ebd-2107a9465561",
   "metadata": {},
   "outputs": [],
   "source": [
    "solve_NCES = m_i.solve(state = 'B') # solve baseline state\n",
    "solve_i = solve_NCES"
   ]
  }
 ],
 "metadata": {
  "kernelspec": {
   "display_name": "Python 3 (ipykernel)",
   "language": "python",
   "name": "python3"
  },
  "language_info": {
   "codemirror_mode": {
    "name": "ipython",
    "version": 3
   },
   "file_extension": ".py",
   "mimetype": "text/x-python",
   "name": "python",
   "nbconvert_exporter": "python",
   "pygments_lexer": "ipython3",
   "version": "3.11.8"
  }
 },
 "nbformat": 4,
 "nbformat_minor": 5
}
