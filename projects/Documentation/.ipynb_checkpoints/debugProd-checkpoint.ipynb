{
 "cells": [
  {
   "cell_type": "code",
   "execution_count": 1,
   "id": "d2a86fbd-a48f-40a0-999a-c4f1822e4974",
   "metadata": {},
   "outputs": [
    {
     "name": "stdout",
     "output_type": "stream",
     "text": [
      "The file _gams_py_gdb0.gdx is still active and was not deleted.\n",
      "The file _gams_py_gdb1.gdx is still active and was not deleted.\n",
      "The file _gams_py_gdb2.gdx is still active and was not deleted.\n",
      "The file _gams_py_gdb3.gdx is still active and was not deleted.\n",
      "The file _gams_py_gdb4.gdx is still active and was not deleted.\n"
     ]
    }
   ],
   "source": [
    "clean_up = True # if True, remove all gams related files from working folder before starting\n",
    "%run stdPackages.ipynb"
   ]
  },
  {
   "cell_type": "markdown",
   "id": "f5376b56-c4f4-4e91-bacc-29db71a1da26",
   "metadata": {},
   "source": [
    "*Load specific modules used here:*"
   ]
  },
  {
   "cell_type": "code",
   "execution_count": 2,
   "id": "f2eb417f-47a4-4bb6-833b-9a35784bbcb6",
   "metadata": {},
   "outputs": [],
   "source": [
    "os.chdir(d['py'])\n",
    "import mProduction, modelData\n",
    "from gmsPython import nestingTree\n",
    "from valueShares import nestedShares"
   ]
  },
  {
   "cell_type": "markdown",
   "id": "762e7f35-a156-49ea-a2ef-60011a0eb21c",
   "metadata": {},
   "source": [
    "*Load test data:*"
   ]
  },
  {
   "cell_type": "code",
   "execution_count": 3,
   "id": "7567af5c-74d0-416a-ba94-221aba3ed028",
   "metadata": {},
   "outputs": [],
   "source": [
    "t0 = 2019\n",
    "name = 'TestModelData' #\n",
    "db = GpyDB(os.path.join(d['data'], name), name = 'test', ws = d['work'])\n",
    "ws = db.ws"
   ]
  },
  {
   "cell_type": "markdown",
   "id": "a4c311d2-fc26-4a8a-8c27-638c8bb0deaa",
   "metadata": {},
   "source": [
    "Subset data to only include a specific production sector and two years:"
   ]
  },
  {
   "cell_type": "code",
   "execution_count": 4,
   "id": "8831cae4-c46d-4034-a4fe-5a1743e93e4d",
   "metadata": {},
   "outputs": [],
   "source": [
    "# AggDB.subsetDB(db, db('s_p'))\n",
    "AggDB.subsetDB(db, db('s_p')[1:2])\n",
    "AggDB.subsetDB(db, db('t')[0:2])\n",
    "modelData.addTimeToDB(t0, t0+1, db) # add a number of relevant time subsets \n",
    "db0 = db.copy()"
   ]
  },
  {
   "cell_type": "markdown",
   "id": "c4e289e4-8253-40a6-9cac-dec82b1dcfa8",
   "metadata": {},
   "source": [
    "Remove durables:"
   ]
  },
  {
   "cell_type": "code",
   "execution_count": 5,
   "id": "85df0672-1a8c-42f0-aa02-aa164e9e1e17",
   "metadata": {},
   "outputs": [],
   "source": [
    "db['qS'] = db('qS')-(adj.rc_pd(db('qD'), db('dur_p')) * db('pD_dur')).groupby(['t','s']).sum()\n",
    "db['qD'] = adj.rc_pd(db('qD'), ('not', db('dur_p')))\n",
    "db['nestProduction'] = adj.rc_pd(db('nestProduction'), ('not', db('dur_p').rename('nn')))"
   ]
  },
  {
   "cell_type": "markdown",
   "id": "2a83be65-910e-4f1d-b3ca-bcc5f4494410",
   "metadata": {},
   "source": [
    "*Set up nesting structure from nesting tree:*"
   ]
  },
  {
   "cell_type": "code",
   "execution_count": 6,
   "id": "695042df-209c-42c6-b7a2-0d2052e7f1ad",
   "metadata": {},
   "outputs": [
    {
     "data": {
      "text/plain": [
       "<gmsPython.nestingTree.nestingTree.AggTree at 0x2199b709610>"
      ]
     },
     "execution_count": 6,
     "metadata": {},
     "output_type": "execute_result"
    }
   ],
   "source": [
    "nest = nestingTree.Tree('P', tree = db('nestProduction').to_list(), f = 'CES')\n",
    "nestAgg = nestingTree.AggTree(name = 'P', trees = {t.name: t for t in [nest]}, ws = ws)\n",
    "nestAgg(namespace = {str(n)+'_input':n for n in db('n')})"
   ]
  },
  {
   "cell_type": "markdown",
   "id": "7f2f13c2-8793-434c-91de-6e34186d3414",
   "metadata": {},
   "source": [
    "*Get starting values for $\\mu$ using value shares:*"
   ]
  },
  {
   "cell_type": "code",
   "execution_count": 7,
   "id": "aed2534c-afb4-4660-a692-189314d8be17",
   "metadata": {},
   "outputs": [],
   "source": [
    "v = nestedShares(nestAgg, ws = ws)\n",
    "db_p = v(db)"
   ]
  },
  {
   "cell_type": "markdown",
   "id": "1fc91a2c-ec07-4ea0-9445-1436a258966e",
   "metadata": {},
   "source": [
    "Use share parameters and values to get initial values for intermediates:"
   ]
  },
  {
   "cell_type": "code",
   "execution_count": 8,
   "id": "03ad1ff8-e65f-4121-8838-cc729fd0948b",
   "metadata": {},
   "outputs": [],
   "source": [
    "db.aom(db_p('mu').xs(t0), name = 'mu')\n",
    "db.aom(adj.rc_pd(db_p('vD'), nestAgg.get('int')).rename('qD'), name = 'qD', priority = 'first') # specify intermediate goods levels"
   ]
  },
  {
   "cell_type": "markdown",
   "id": "a2f09204-b386-4619-b80f-770d29a42111",
   "metadata": {},
   "source": [
    "Initialize model instance:"
   ]
  },
  {
   "cell_type": "code",
   "execution_count": 9,
   "id": "f6fa423b-eab2-4fbd-b41b-737214c9954a",
   "metadata": {},
   "outputs": [],
   "source": [
    "m = mProduction.StaticNCES(nestAgg, partial = True, initFromGms = 'initFirmValueBlock')"
   ]
  },
  {
   "cell_type": "markdown",
   "id": "adeb39d4-8015-42cf-a6fa-27a4450e2625",
   "metadata": {},
   "source": [
    "Add data and initialize other stuff with default options:"
   ]
  },
  {
   "cell_type": "code",
   "execution_count": 10,
   "id": "e7332c49-9cf6-4581-aa70-15b5f4a74470",
   "metadata": {},
   "outputs": [],
   "source": [
    "m.initStuff(db = db)"
   ]
  },
  {
   "cell_type": "markdown",
   "id": "5eb2ecec-3671-4bb4-b6b8-970c98cd5f65",
   "metadata": {},
   "source": [
    "Solve:"
   ]
  },
  {
   "cell_type": "code",
   "execution_count": 11,
   "id": "92bb34e1-70be-4655-bbe1-22c13e0e366f",
   "metadata": {},
   "outputs": [],
   "source": [
    "dbsolve = m.solve(state = 'C')"
   ]
  }
 ],
 "metadata": {
  "kernelspec": {
   "display_name": "Python 3 (ipykernel)",
   "language": "python",
   "name": "python3"
  },
  "language_info": {
   "codemirror_mode": {
    "name": "ipython",
    "version": 3
   },
   "file_extension": ".py",
   "mimetype": "text/x-python",
   "name": "python",
   "nbconvert_exporter": "python",
   "pygments_lexer": "ipython3",
   "version": "3.11.8"
  }
 },
 "nbformat": 4,
 "nbformat_minor": 5
}
