{
 "cells": [
  {
   "cell_type": "code",
   "execution_count": 1,
   "id": "8f70b11f-16f4-4d87-a55a-fa1b16622311",
   "metadata": {
    "scrolled": true
   },
   "outputs": [
    {
     "name": "stdout",
     "output_type": "stream",
     "text": [
      "No clean-up of work-folder\n"
     ]
    }
   ],
   "source": [
    "%run stdPackages.ipynb\n",
    "os.chdir(d['py'])\n",
    "from modelData import *\n",
    "from gmsPython import nestingTree\n",
    "from multOutIO import AdjustIO, CreateIOTargets"
   ]
  },
  {
   "cell_type": "markdown",
   "id": "71c39f93-d352-400d-a37c-6a15e259c2e6",
   "metadata": {},
   "source": [
    "# Create Model Data"
   ]
  },
  {
   "cell_type": "markdown",
   "id": "003e56e9-cf5e-487a-847f-b4bf8cdec982",
   "metadata": {},
   "source": [
    "## 0. Preliminaries"
   ]
  },
  {
   "cell_type": "markdown",
   "id": "8defebb4-f5ce-4a86-b0c5-534ede53e02e",
   "metadata": {},
   "source": [
    "*Define main settings:*"
   ]
  },
  {
   "cell_type": "code",
   "execution_count": 2,
   "id": "ff781b60-8f21-4a95-962c-e81e7e743392",
   "metadata": {},
   "outputs": [],
   "source": [
    "t0 = 2019\n",
    "T  = t0 + 100 # set finite time horizon\n",
    "name = 'MEEM_db' # Some global name that carries through all models/data to identify this version\n",
    "ioName = f'IO{t0}_WCGE'\n",
    "f_IOdata = os.path.join(d['project'], 'IOdata','data','processedData', ioName)"
   ]
  },
  {
   "cell_type": "markdown",
   "id": "e233c6d8-74f5-46ff-b47e-ff5536747978",
   "metadata": {},
   "source": [
    "*Load data:*"
   ]
  },
  {
   "cell_type": "code",
   "execution_count": 3,
   "id": "26c3e8b9-cdfa-4818-871e-15537f2ccc32",
   "metadata": {},
   "outputs": [],
   "source": [
    "db = GpyDB(f_IOdata, name = name, ws = d['work'])"
   ]
  },
  {
   "cell_type": "markdown",
   "id": "c9e1424d-f6ba-492f-afb2-c9773a927b2c",
   "metadata": {},
   "source": [
    "*Load data on waste part as well:*"
   ]
  },
  {
   "cell_type": "code",
   "execution_count": 4,
   "id": "7161e639-edbc-465e-8d23-1fcdcecf2c61",
   "metadata": {},
   "outputs": [],
   "source": [
    "wasteData = DbFromExcel.simpleLoad(os.path.join(d['data'], 'WasteDataSmall.xlsx'))"
   ]
  },
  {
   "cell_type": "markdown",
   "id": "10c5bd57-7dcb-4177-be90-e4bd30aeb618",
   "metadata": {},
   "source": [
    "*For relevant variables, add yearly index to data (this is currently all of them). Remove data prior to t0 as well:*"
   ]
  },
  {
   "cell_type": "code",
   "execution_count": 5,
   "id": "1cb6e4fc-dfaa-49dd-87fb-e020a2be8a00",
   "metadata": {},
   "outputs": [],
   "source": [
    "AggDB.subsetDB(db, db('t')[db('t')>=t0]) \n",
    "def add_t0(k):\n",
    "    k.index = stdSort(pd.MultiIndex.from_frame(k.index.to_frame(index=False).assign(t = t0)))\n",
    "[add_t0(db(k)) for k in db.getTypes(['var','par'])];"
   ]
  },
  {
   "cell_type": "markdown",
   "id": "6133d293-a4d7-4fd8-962c-8de7a8e05e8c",
   "metadata": {},
   "source": [
    "*Add various time subsets that we'll rely on:*"
   ]
  },
  {
   "cell_type": "code",
   "execution_count": 6,
   "id": "638328a2-7c93-4380-b1e9-fae123c8e0fd",
   "metadata": {},
   "outputs": [],
   "source": [
    "addTimeToDB(t0, T, db)"
   ]
  },
  {
   "cell_type": "markdown",
   "id": "704197bd-0785-4a12-9d9b-04e45802a41c",
   "metadata": {},
   "source": [
    "*Remove time index from some dummies:*"
   ]
  },
  {
   "cell_type": "code",
   "execution_count": 7,
   "id": "5ddc862b-f27f-4540-b250-af23e42553c9",
   "metadata": {},
   "outputs": [],
   "source": [
    "dummiesWithT = db.varDom('t', types = ['subset','map'])['t']\n",
    "[db.__setitem__(k, db(k).droplevel('t').unique()) for k in ('nEqui','d_qS','d_qD','d_qSEqui', 'dExport','dImport','dImport_dom','dImport_for') if k in dummiesWithT];"
   ]
  },
  {
   "cell_type": "markdown",
   "id": "835bb17c-ddf3-4fe2-99a5-eee5bf7cd92d",
   "metadata": {},
   "source": [
    "## 1. Adjust demand and supply"
   ]
  },
  {
   "cell_type": "markdown",
   "id": "9520c165-dcdd-44c5-afa4-17c955fabdfd",
   "metadata": {},
   "source": [
    "### 1.1. General adjustments with introduction of non-IO goods"
   ]
  },
  {
   "cell_type": "markdown",
   "id": "2134148c-49ac-4f4b-b4c8-108f6a8c62c9",
   "metadata": {},
   "source": [
    "Specify IO inputs to use in rebalancing:"
   ]
  },
  {
   "cell_type": "code",
   "execution_count": 8,
   "id": "7af7946a-3b69-4544-9f8f-9f1fa611c7f7",
   "metadata": {},
   "outputs": [],
   "source": [
    "vD0 = adj.rc_pd(db('vD').xs(t0), ('and', [db('n_p').union(db('n_F')), db('s_p').union(db('s_f'))]))"
   ]
  },
  {
   "cell_type": "markdown",
   "id": "95caef27-7d5b-42ec-bbdb-c49c54447361",
   "metadata": {},
   "source": [
    "Load demand for materials:"
   ]
  },
  {
   "cell_type": "code",
   "execution_count": 9,
   "id": "bb122c1f-ed29-4789-b28d-6d19233ddffa",
   "metadata": {},
   "outputs": [],
   "source": [
    "df = pd.DataFrame(wasteData['demand'].values)\n",
    "vDnRaw = pd.DataFrame(df.iloc[1:].values, columns = df.iloc[0])\n",
    "vDnRaw['n'] = vDnRaw['a']+'_'+vDnRaw['vw']\n",
    "vDnRaw.loc[vDnRaw['df'] == 'F', 's'] = 'F'\n",
    "vDn = vDnRaw.set_index(['s','n'])['v']"
   ]
  },
  {
   "cell_type": "markdown",
   "id": "ddf1873c-54fb-443f-9cdd-8b4492794517",
   "metadata": {},
   "source": [
    "Load supply of materials:"
   ]
  },
  {
   "cell_type": "code",
   "execution_count": 10,
   "id": "5fa1e7db-273d-4b5a-aabe-2da5a97f3e42",
   "metadata": {},
   "outputs": [],
   "source": [
    "df = pd.DataFrame(wasteData['supply'].values)\n",
    "vSnRaw = pd.DataFrame(df.iloc[1:].values, columns = df.iloc[0])\n",
    "vSnRaw['n'] = vSnRaw['a']+'_'+vSnRaw['vw']\n",
    "vSnRaw.loc[vSnRaw['df'] == 'F', 's'] = 'F'\n",
    "vSn = vSnRaw.set_index(['s','n'])['v']"
   ]
  },
  {
   "cell_type": "markdown",
   "id": "5cf4f4ef-8e52-41fe-9850-d99e6db3ec04",
   "metadata": {},
   "source": [
    "Define types:"
   ]
  },
  {
   "cell_type": "code",
   "execution_count": 11,
   "id": "bd69eed8-3fa1-449e-a21a-95134628183e",
   "metadata": {},
   "outputs": [],
   "source": [
    "nmTypes = pd.Index(vSnRaw['a'].unique(), name = 'n')"
   ]
  },
  {
   "cell_type": "markdown",
   "id": "f4313fdb-49c0-40cc-9464-de41a5068847",
   "metadata": {},
   "source": [
    "Use a couple of big classes to do the actual adjustments: "
   ]
  },
  {
   "cell_type": "code",
   "execution_count": 12,
   "id": "024063da-ea0d-48c8-bef1-0a9e2bf140c9",
   "metadata": {},
   "outputs": [],
   "source": [
    "pd.set_option('future.no_silent_downcasting', True)\n",
    "targets = CreateIOTargets(db)(vD0, vDn, vSn)\n",
    "adjustedData = AdjustIO(ws = db.ws)(targets.db('vD0'), targets.db('vD'), targets.db('vDn'), \n",
    "                                    targets.db('vS0'), targets.db('vS'), targets.db('vSn'))"
   ]
  },
  {
   "cell_type": "markdown",
   "id": "e05c2570-c96a-4b4b-9fcb-1024e6171aa8",
   "metadata": {},
   "source": [
    "This produces new vectors for demand and supply of IO goods that is consistent with sectors now also producing several other material outputs. We now adjust model data in the following way:\n",
    "* Subsets: Let $n_m[n]$ denote materials and foreign/domestic splits defined by $n_{md}[n], n_{mf}[n]$ respectively. Extend foreign set $n_F$ to include materials as well.\n",
    "* Prices: For now add price of 1 for all materials (domestic and foreign).\n",
    "* Values:\n",
    "    * Replace demand vector with new one that is combination of materials and IO demand.\n",
    "    * Adjust IO supplies and add new vector of supplies with materials (note that we do not add supply from foreign sector).\n",
    "* Quantities: Back out new vectors from value/price ratios.\n",
    "* Dummies: Update basic dummies based on sparsity of demand/supply patterns."
   ]
  },
  {
   "cell_type": "markdown",
   "id": "e5d5f0f2-f2e4-481c-8533-b68eede945cb",
   "metadata": {},
   "source": [
    "*Subsets:*"
   ]
  },
  {
   "cell_type": "code",
   "execution_count": 13,
   "id": "17aa84cd-b943-4ee1-9b72-27809761dcf0",
   "metadata": {},
   "outputs": [],
   "source": [
    "db['nm'] = adjustedData('vSn').index.levels[-1] # materials\n",
    "db['nm_F'] = adjustedData('vSn').xs('F').index # foreign materials\n",
    "db['nm_D'] = db('nm').difference(db('nm_F')) # domestic materials\n",
    "db['ns_F'] = db('n_F').copy() # foreign IO materials\n",
    "db['n_F'] = db('ns_F').union(db('nm_F')) # foreign goods"
   ]
  },
  {
   "cell_type": "markdown",
   "id": "6d27b859-c413-4db7-9c93-b1503319630b",
   "metadata": {},
   "source": [
    "**Variables:**"
   ]
  },
  {
   "cell_type": "markdown",
   "id": "c58cb176-6eb1-4899-a879-8adb1695061e",
   "metadata": {},
   "source": [
    "*Prices:*"
   ]
  },
  {
   "cell_type": "code",
   "execution_count": 14,
   "id": "0b0c2dfc-22fa-4cdb-8f4b-9ed9fd3591b3",
   "metadata": {},
   "outputs": [],
   "source": [
    "pNewIdx = db('nm').union(adjustedData('vDn').xs('F').index+'_F') # add eq. prices to all new goods + foreign counterparts to new domestic goods that are exported (required for armington specification)\n",
    "db['p'] = db('p').combine_first(pd.Series(1, index = pd.MultiIndex.from_product([db('t0'), pNewIdx]))) # add prices of all materials"
   ]
  },
  {
   "cell_type": "markdown",
   "id": "00632fcb-9f8c-4aec-8207-b7530779169a",
   "metadata": {},
   "source": [
    "*Values:*"
   ]
  },
  {
   "cell_type": "code",
   "execution_count": 15,
   "id": "3510fafa-3d7c-4d50-bc80-fe1b9b5d181c",
   "metadata": {},
   "outputs": [],
   "source": [
    "db['vD'] = stdSort(adjMultiIndex.bc(adjustedData('vDn').combine_first(adjustedData('vDsolve')), db('t0'))).combine_first(db('vD')) # add demand components\n",
    "vSadjustments = stdSort(adjMultiIndex.bc(adj.rc_pd(adjustedData('vS0')-adjustedData('vSsolve'), ('not', db('s_f'))), db('t0')))\n",
    "vSio = adj.rc_pd(db('vS'), db('s_p')).add(-vSadjustments, fill_value = 0)\n",
    "vSn  = stdSort(adjMultiIndex.bc(adj.rc_pd(adjustedData('vSn'), ('not', db('s_f'))), db('t0')))\n",
    "db.aom(vSn.combine_first(vSio), name = 'vS', priority = 'second')"
   ]
  },
  {
   "cell_type": "markdown",
   "id": "6814ee8c-b133-49c8-9c20-4df3c1deae5b",
   "metadata": {},
   "source": [
    "*Quantities:*"
   ]
  },
  {
   "cell_type": "code",
   "execution_count": 16,
   "id": "763188f2-bcfe-4ad9-8bce-d33e05a63beb",
   "metadata": {},
   "outputs": [],
   "source": [
    "db.aom(db('vS').div(db('p')).dropna(), name = 'qS', priority = 'second') \n",
    "db.aom(db('vD').div(db('p')).dropna(), name = 'qD', priority = 'second')"
   ]
  },
  {
   "cell_type": "markdown",
   "id": "760b9aac-6acc-433d-b556-fb3f9cac98c4",
   "metadata": {},
   "source": [
    "*Dummies:*"
   ]
  },
  {
   "cell_type": "code",
   "execution_count": 17,
   "id": "651f24f6-0e83-4959-98a8-00f17604d86e",
   "metadata": {},
   "outputs": [],
   "source": [
    "[db.__setitem__(k, db(k)[db(k) != 0]) for k in ('vS','qS','vD','qD')]; # remove zero values\n",
    "db['nEqui'] = db('vS').xs(t0).index.droplevel('s').unique() # what goods require an equilibrium condition\n",
    "db['d_qS'] = db('vS').xs(t0).index \n",
    "db['d_qD'] = adj.rc_pd(db('vD').xs(t0), db('nEqui')).index\n",
    "db['d_pEqui'] = pd.Index(['L'], name ='n').union(db('nm_D')) # Subset of prices to be endogenized in general equilibrium. \n",
    "db['endo_qS'] = adj.rc_pd(db('d_qS'), db('nm_D')).unique() # quantities that are endogenous in baseline. "
   ]
  },
  {
   "cell_type": "markdown",
   "id": "e18d4007-26f2-49cd-bf4e-ae69706d5456",
   "metadata": {},
   "source": [
    "*Trade mappings:*"
   ]
  },
  {
   "cell_type": "code",
   "execution_count": 18,
   "id": "afa44bb6-85fa-4582-a92f-13c273b2e864",
   "metadata": {},
   "outputs": [],
   "source": [
    "db['dom2for'] = db('dom2for').union(pd.MultiIndex.from_arrays([db('nm_D'), (db('nm_D')+'_F').rename('nn')]))\n",
    "db['dExport'] = adj.rc_pd(db('vD'), db('s_f')).index.droplevel('t').unique()\n",
    "[db.series.__delitem__(k) for k in ('dImport', 'dImport_dom', 'dImport_for') if k in db.symbols];"
   ]
  },
  {
   "cell_type": "markdown",
   "id": "16897d33-5663-49b0-9c39-df86551fe054",
   "metadata": {},
   "source": [
    "## 2. Production module"
   ]
  },
  {
   "cell_type": "markdown",
   "id": "e7638682-1a6f-4516-9251-b15cf5365ca1",
   "metadata": {},
   "source": [
    "### 2.1. Nesting structure"
   ]
  },
  {
   "cell_type": "markdown",
   "id": "30c26670-b633-4c4c-963c-14925b3702fd",
   "metadata": {},
   "source": [
    "General nesting (except materials split):"
   ]
  },
  {
   "cell_type": "code",
   "execution_count": 19,
   "id": "c39d5136-cf83-42a3-a108-4d1716556fdc",
   "metadata": {},
   "outputs": [],
   "source": [
    "mu = pd.MultiIndex.from_tuples([('KELM','RxE'),('KELM','KEL'),\n",
    "                                ('KEL','L'), ('KEL','KE'),\n",
    "                                ('KE','K'), ('KE','E'),\n",
    "                                ('E','Energy'),('E','Energy_F'),\n",
    "                                ('RxE', 'ZY'), ('RxE', 'ZO')], names = ['n','nn'])"
   ]
  },
  {
   "cell_type": "markdown",
   "id": "aa1063f3-8c37-47be-b053-4eb8eccc40f6",
   "metadata": {},
   "source": [
    "Sector materials ```ZY``` are then split into (potentially) combination of all IO sectors' outputs (except the energy sector). Each of these are then (potentially) split into foreign and domestic components:"
   ]
  },
  {
   "cell_type": "code",
   "execution_count": 20,
   "id": "5c0533b3-db0a-488c-bcdf-c5bb17386414",
   "metadata": {},
   "outputs": [],
   "source": [
    "ns = db('n_p').difference(pd.Index(['Energy'], name = 'n'))\n",
    "mZY = pd.MultiIndex.from_product([['ZY'], 'RxE_'+ns], names = ['n','nn'])\n",
    "mZYD = pd.MultiIndex.from_arrays([mZY.levels[-1], ns], names = ['n','nn'])\n",
    "mZYF = pd.MultiIndex.from_arrays([mZY.levels[-1], ns+'_F'], names = ['n','nn'])"
   ]
  },
  {
   "cell_type": "markdown",
   "id": "92e9df4c-03ad-422c-9908-0a16e5eb4203",
   "metadata": {},
   "source": [
    "The nest with other materials is split into aggregates for each materials' type. Then, each type is split into virgin/waste. Finally, each of these are split into domestic/foreign origin:"
   ]
  },
  {
   "cell_type": "code",
   "execution_count": 21,
   "id": "0335153b-fa10-4851-9091-06e0266d5e04",
   "metadata": {},
   "outputs": [],
   "source": [
    "mZO = pd.MultiIndex.from_product([['ZO'], 'RxE_'+nmTypes], names = ['n','nn'])\n",
    "mZOV = pd.MultiIndex.from_arrays([mZO.levels[-1], mZO.levels[-1]+'_V'], names = ['n','nn'])\n",
    "mZOW = pd.MultiIndex.from_arrays([mZO.levels[-1], mZO.levels[-1]+'_W'], names = ['n','nn'])\n",
    "nmV = mZOV.levels[-1].str.slice(4) # remove RxE_\n",
    "nmW = mZOW.levels[-1].str.slice(4) # remove RxE_\n",
    "mZOVD = pd.MultiIndex.from_arrays([mZOV.levels[-1], nmV], names = ['n','nn'])\n",
    "mZOVF = pd.MultiIndex.from_arrays([mZOV.levels[-1], nmV+'_F'], names = ['n','nn'])\n",
    "mZOWD = pd.MultiIndex.from_arrays([mZOW.levels[-1], nmW], names = ['n','nn'])\n",
    "mZOWF = pd.MultiIndex.from_arrays([mZOW.levels[-1], nmW+'_F'], names = ['n','nn'])"
   ]
  },
  {
   "cell_type": "markdown",
   "id": "a86a4dac-4dd0-4cfd-813b-98467c0e7dd6",
   "metadata": {},
   "source": [
    "Collect in one map and add full sector index to begin with:"
   ]
  },
  {
   "cell_type": "code",
   "execution_count": 22,
   "id": "1150099f-bf15-47a0-98fd-22f7ac9dde21",
   "metadata": {},
   "outputs": [],
   "source": [
    "mFull = reduce(pd.Index.union, [mu, mZY, mZYD, mZYF, mZO, mZOV, mZOW, mZOVD, mZOVF, mZOWD, mZOWF])\n",
    "m = pyDatabases.cartesianProductIndex([db('s_p'), mFull])"
   ]
  },
  {
   "cell_type": "markdown",
   "id": "6cd6bc2e-ac76-4ca4-870d-7a4dd748ccab",
   "metadata": {},
   "source": [
    "Next, we \"trim\" the nesting tree - i.e. we remove redundant nests. \n",
    "\n",
    "*NB: This only works with pure \"input trees\". Also, it does not remove redundant intermediate nests. We should add that if a knot only has one node, we should replace the knot with node in both n and nn.*"
   ]
  },
  {
   "cell_type": "code",
   "execution_count": 23,
   "id": "6f9b1b07-bbd4-4053-990a-b96888a2135a",
   "metadata": {},
   "outputs": [],
   "source": [
    "sparsity = adj.rc_pd(db('vD')[db('vD')!=0], db('s_p')).droplevel('t').index\n",
    "m = nestingTree.trimNestingStructure(m, sparsity)"
   ]
  },
  {
   "cell_type": "markdown",
   "id": "f33f5b30-99c2-41f6-bf99-e6af91338853",
   "metadata": {},
   "source": [
    "Now, identify the domestic goods that could potential also be part of the output structure and add a temporary '_input' to the names:"
   ]
  },
  {
   "cell_type": "code",
   "execution_count": 24,
   "id": "28215656-1b47-49b0-af35-f9d0629f189b",
   "metadata": {},
   "outputs": [],
   "source": [
    "n = db('nm_D').union(db('n_p')).rename('nn')\n",
    "mInp = pd.MultiIndex.from_arrays([n, (n+'_input').rename('ntemp')])\n",
    "m = adj.rc_pd(m, ('not', n)).union(adjMultiIndex.applyMult(m, mInp).droplevel('nn').rename(['s','n','nn']))"
   ]
  },
  {
   "cell_type": "markdown",
   "id": "71f8bebf-054d-42ff-91c1-f936a2f4ae8f",
   "metadata": {},
   "source": [
    "For the output part, add a simple nest to the sector specific output + vector of materials outputs. Note that the nesting trees are always specified with (n,nn) indicating $n$ linking to a lower node $nn$. Thus, for output trees, (n,nn) maps from branches (n) knots (nn), while the reverse is true for input trees."
   ]
  },
  {
   "cell_type": "markdown",
   "id": "d276137f-c04b-48ea-b91c-e503824e6bc9",
   "metadata": {},
   "source": [
    "From KELM to sector outputs and materials:"
   ]
  },
  {
   "cell_type": "code",
   "execution_count": 25,
   "id": "fc11cecc-af19-40e6-b4e1-f2a7a7dffb89",
   "metadata": {},
   "outputs": [],
   "source": [
    "mns = pyDatabases.cartesianProductIndex([pd.MultiIndex.from_arrays([db('s_p'), db('s_p').rename('n')]), pd.Index(['KELM'], name = 'nn')])\n",
    "mnm = pyDatabases.cartesianProductIndex([adj.rc_pd(db('vS'), db('nm_D')).xs(t0).index, pd.Index(['KELM'], name = 'nn')])"
   ]
  },
  {
   "cell_type": "markdown",
   "id": "15ddef63-254e-40aa-be1a-636d8d7d6ac0",
   "metadata": {},
   "source": [
    "From KELM to material outputs:"
   ]
  },
  {
   "cell_type": "code",
   "execution_count": 26,
   "id": "3b131b60-8def-4ddc-a87f-127cc98764b4",
   "metadata": {},
   "outputs": [],
   "source": [
    "mnm = pyDatabases.cartesianProductIndex([adj.rc_pd(db('vS'), db('nm_D')).xs(t0).index, pd.Index(['KELM'], name = 'nn')])"
   ]
  },
  {
   "cell_type": "markdown",
   "id": "ef6a01d4-6802-46fa-b34a-ef5bb36cd5c1",
   "metadata": {},
   "source": [
    "Save nesting trees:"
   ]
  },
  {
   "cell_type": "code",
   "execution_count": 27,
   "id": "55547505-272c-42d1-a3a2-3faca3bd6b71",
   "metadata": {},
   "outputs": [],
   "source": [
    "db['nestProdInp'] = m\n",
    "db['nestProdOut'] = mns.union(mnm)"
   ]
  },
  {
   "cell_type": "markdown",
   "id": "0a4d4232-318a-4be3-8d4a-c36a6952e260",
   "metadata": {},
   "source": [
    "### 2.2. Elasticities"
   ]
  },
  {
   "cell_type": "markdown",
   "id": "dc82a29f-d6aa-4c1c-8174-e33a2505b6e9",
   "metadata": {},
   "source": [
    "Here, we assign generic elasticities depending on the placement in the nesting. Generally, we let elasticity of substitution be fairly high between domestic/foreign and waste/virgin materials. Across different types of materials, we use a fairly low elasticity."
   ]
  },
  {
   "cell_type": "markdown",
   "id": "336bccf2-0cc3-416f-9b1e-e0c212dcd8c1",
   "metadata": {},
   "source": [
    "*CET elasticity (absolute value)*"
   ]
  },
  {
   "cell_type": "code",
   "execution_count": 28,
   "id": "45286cd4-1e47-4d99-880f-441583c3c736",
   "metadata": {},
   "outputs": [],
   "source": [
    "etaOut = pd.Series(0.05, index = db('nestProdOut').droplevel('n').unique().rename(['s','n']))"
   ]
  },
  {
   "cell_type": "markdown",
   "id": "9aab0a6d-669b-4782-8d99-057776b39341",
   "metadata": {},
   "source": [
    "*CES elasticities, non-materials:*"
   ]
  },
  {
   "cell_type": "code",
   "execution_count": 29,
   "id": "aeb16983-28a6-4e0d-8fb9-ee7f63472358",
   "metadata": {},
   "outputs": [],
   "source": [
    "sigmaKELM = pd.Series(0.5, index  = m[m.get_level_values('n')=='KELM'].droplevel('nn').unique(), name = 'sigma')\n",
    "sigmaKEL = pd.Series(0.5, index  = m[m.get_level_values('n')=='KEL'].droplevel('nn').unique(), name = 'sigma')\n",
    "sigmaKE = pd.Series(0.6, index = m[m.get_level_values('n') == 'KE'].droplevel('nn').unique(), name = 'sigma')\n",
    "sigmaE = pd.Series(2, index  = m[m.get_level_values('n')=='E'].droplevel('nn').unique(), name = 'sigma')"
   ]
  },
  {
   "cell_type": "markdown",
   "id": "6fe6ab0c-b593-4f51-a986-0b70ab350916",
   "metadata": {},
   "source": [
    "*CES materials:*"
   ]
  },
  {
   "cell_type": "code",
   "execution_count": 30,
   "id": "8a64e900-56bf-47e4-93aa-8ceef50c8518",
   "metadata": {},
   "outputs": [],
   "source": [
    "sigmaRxE = pd.Series(0.1, index = m[m.get_level_values('n')=='RxE'].droplevel('nn').unique(), name = 'sigma')\n",
    "sigmaZY = pd.Series(0.1, index = m[m.get_level_values('n')=='ZY'].droplevel('nn').unique(), name = 'sigma')\n",
    "sigmaZYym = pd.Series(2, index = m[m.get_level_values('n').isin('RxE_'+ns)].droplevel('nn').unique(), name = 'sigma')\n",
    "sigmaZO = pd.Series(0.1, index = m[m.get_level_values('n')=='ZO'].droplevel('nn').unique(), name = 'sigma')\n",
    "sigmaZOnm = pd.Series(2, index = m[m.get_level_values('n').isin('RxE_'+nmTypes)].droplevel('nn').unique(), name = 'sigma')\n",
    "sigmaZOVW = pd.Series(5, index = m[m.get_level_values('n').isin(('RxE_'+nmTypes+'_V').union('RxE_'+nmTypes+'_W'))].droplevel('nn').unique(), name = 'sigma')"
   ]
  },
  {
   "cell_type": "markdown",
   "id": "53967718-e544-475e-b0a1-a7872a796c18",
   "metadata": {},
   "source": [
    "Add to database:"
   ]
  },
  {
   "cell_type": "code",
   "execution_count": 31,
   "id": "9680e619-ebbe-44e9-ba53-f6fd01fd141d",
   "metadata": {
    "tags": []
   },
   "outputs": [],
   "source": [
    "sigma = pd.concat([sigmaKELM, sigmaKEL, sigmaKE, sigmaE, sigmaRxE, sigmaZY, sigmaZYym, sigmaZO, sigmaZOnm, sigmaZOVW], axis = 0 )\n",
    "db.aom(sigma, name = 'sigma') # elasticity of substitution\n",
    "db.aom(etaOut, name = 'eta') # elasticity of transformation"
   ]
  },
  {
   "cell_type": "markdown",
   "id": "a5a28933-efae-4568-97f3-8f993738ef3d",
   "metadata": {},
   "source": [
    "### 2.3. Regulation and emissions"
   ]
  },
  {
   "cell_type": "markdown",
   "id": "d82234c6-1783-49ca-9017-60b95e8aa869",
   "metadata": {},
   "source": [
    "Define output and input shares in values. Map CO2 emissions to output shares:"
   ]
  },
  {
   "cell_type": "code",
   "execution_count": 32,
   "id": "59428b49-b784-4977-a318-95f1663f838a",
   "metadata": {},
   "outputs": [],
   "source": [
    "output = adj.rc_pd(db('vS'), db('s_p'))\n",
    "inputs = adj.rc_pd(db('vD'), ('and', [db('s_p'), ('not', db('dur_p'))]))\n",
    "outShares = output/pyDatabases.pdSum(output, 'n') # output shares\n",
    "db['qCO2'] = db('qCO2') * outShares # overwrite qCO2 to be split into potentially multiple outputs from each sector"
   ]
  },
  {
   "cell_type": "markdown",
   "id": "3b00cabd-77b2-4977-a1b1-6d774b4f8097",
   "metadata": {},
   "source": [
    "Define tax rate on emissions energy and environmental taxes. Broadcast sector-average rate onto all outputs with CO2 emissions:"
   ]
  },
  {
   "cell_type": "code",
   "execution_count": 33,
   "id": "6e727b12-e07e-42e2-b0e9-53e03ec0238d",
   "metadata": {},
   "outputs": [],
   "source": [
    "db['tauCO2'] = adjMultiIndex.bc(db('vTax').xs('Emissions',level='taxTypes') / pyDatabases.pdSum(db('qCO2'), 'n'), db('qCO2'))\n",
    "db['dtauCO2'] = db('tauCO2').index.droplevel('t').unique()\n",
    "db['dqCO2'] = db('qCO2').index.droplevel('t').unique()"
   ]
  },
  {
   "cell_type": "markdown",
   "id": "b0f6f7c6-f634-4469-8231-eac56e593846",
   "metadata": {},
   "source": [
    "Add the rest of the taxes to a sector-specific lump sum tax and set VAT inputs/output taxes to zero:"
   ]
  },
  {
   "cell_type": "code",
   "execution_count": 34,
   "id": "e3333ac1-07f0-4286-b8e1-f39d8ae26b7f",
   "metadata": {},
   "outputs": [],
   "source": [
    "db.aom(adj.rc_pd(db('TotalTax'), db['s_p'])-db('vTax').xs('Emissions',level='taxTypes'), name = 'tauLump')\n",
    "db.aom(pd.Series(0, index = output.index), name = 'tauS')\n",
    "db.aom(pd.Series(0, index = inputs.index), name = 'tauD')"
   ]
  },
  {
   "cell_type": "markdown",
   "id": "ccbba0a4-d755-4d83-b5b5-f35ae86ba2f1",
   "metadata": {},
   "source": [
    "Define sector-specific prices given regulation:"
   ]
  },
  {
   "cell_type": "code",
   "execution_count": 35,
   "id": "c174527f-fafd-4fee-a6dc-4b8efb5a2b73",
   "metadata": {},
   "outputs": [],
   "source": [
    "db.aom(stdSort(adj.rc_pd((1+db('tauD'))*db('p'), inputs)), name = 'pD')"
   ]
  },
  {
   "cell_type": "markdown",
   "id": "107299ab-0622-477b-9096-2e7f6bf81bff",
   "metadata": {},
   "source": [
    "## 3. Investment module"
   ]
  },
  {
   "cell_type": "markdown",
   "id": "0a505cfb-27bd-40f1-b957-f1e83b4191f7",
   "metadata": {},
   "source": [
    "### 3.1. Nesting structure"
   ]
  },
  {
   "cell_type": "markdown",
   "id": "8a7db798-24a4-4a40-a7dc-561f40169469",
   "metadata": {},
   "source": [
    "The investment module currently only includes \"IO goods\" from production sectors. As with the production module, we construct this by setting up a \"full\" nesting tree and then trimming it afterwards:"
   ]
  },
  {
   "cell_type": "code",
   "execution_count": 36,
   "id": "8ce13719-68a2-421d-874e-5ea512f641eb",
   "metadata": {},
   "outputs": [],
   "source": [
    "mIY = pd.MultiIndex.from_product([['Y'], 'M_'+db('n_p')], names = ['n','nn']) # from top nest to material aggregates\n",
    "mIYD = pd.MultiIndex.from_arrays([mIY.levels[-1], mIY.levels[-1].str.slice(2)], names = ['n','nn']) # from materials to domestic inputs \n",
    "mIYF = pd.MultiIndex.from_arrays([mIY.levels[-1], mIY.levels[-1].str.slice(2)+'_F'], names = ['n','nn']) # from materials to foreign inputs"
   ]
  },
  {
   "cell_type": "markdown",
   "id": "cbd09ca9-ea46-4ee0-a2b6-751c88f79eb5",
   "metadata": {},
   "source": [
    "Collect in one map and add sector index:"
   ]
  },
  {
   "cell_type": "code",
   "execution_count": 37,
   "id": "622002b3-6db4-4fbd-aa97-f9bafbbe2d96",
   "metadata": {},
   "outputs": [],
   "source": [
    "mIFull = reduce(pd.Index.union, [mIY, mIYD, mIYF])\n",
    "mI = pyDatabases.cartesianProductIndex([db('s_i'), mIFull])"
   ]
  },
  {
   "cell_type": "markdown",
   "id": "3c660e0d-1280-4673-af67-7b0d74309517",
   "metadata": {},
   "source": [
    "Replace \"Y\" with sector output:"
   ]
  },
  {
   "cell_type": "code",
   "execution_count": 38,
   "id": "ea23ccc7-d2c7-4d2c-b167-71e8efc67621",
   "metadata": {},
   "outputs": [],
   "source": [
    "df = mI.to_frame(index=False)\n",
    "df.loc[df.n == 'Y','n'] = df.loc[df.n == 'Y', 's']\n",
    "mI = pd.MultiIndex.from_frame(df)"
   ]
  },
  {
   "cell_type": "markdown",
   "id": "2e40f10d-5419-41f5-9079-9f28626c64ee",
   "metadata": {},
   "source": [
    "Trim nesting tree:"
   ]
  },
  {
   "cell_type": "code",
   "execution_count": 39,
   "id": "0d7eae89-6b1f-4656-9637-79cf1c0934b9",
   "metadata": {},
   "outputs": [],
   "source": [
    "sparsity = adj.rc_pd(db('vD')[db('vD')!=0], db('s_i')).droplevel('t').index\n",
    "mI = nestingTree.trimNestingStructure(mI, sparsity)"
   ]
  },
  {
   "cell_type": "markdown",
   "id": "b766c286-63aa-4b67-8df2-d65eb366a3b3",
   "metadata": {},
   "source": [
    "Add nesting structure:"
   ]
  },
  {
   "cell_type": "code",
   "execution_count": 40,
   "id": "a1154178-8761-47d9-89ae-5652ca3c9398",
   "metadata": {},
   "outputs": [],
   "source": [
    "db['nestInvestment'] = mI"
   ]
  },
  {
   "cell_type": "markdown",
   "id": "c375252b-cf79-49a0-b6f2-61cd68e5edf8",
   "metadata": {},
   "source": [
    "### 3.2: Elasticities:"
   ]
  },
  {
   "cell_type": "markdown",
   "id": "f04104d0-ece9-48b7-9c76-30ce5b5e96ce",
   "metadata": {},
   "source": [
    "Relative low elasticities between sector product types, more substitution between domestic/foreign splits:"
   ]
  },
  {
   "cell_type": "code",
   "execution_count": 41,
   "id": "ed2be320-d7a2-43aa-ac76-ff8362e35289",
   "metadata": {},
   "outputs": [],
   "source": [
    "sigmaIY = pd.Series(0.5, index = mI[mI.get_level_values('n').isin(db('s_i').rename('n'))].droplevel('nn').unique(), name = 'sigma')\n",
    "sigmaIM = pd.Series(2, index = mI[mI.get_level_values('n').isin('M_'+db('n_p'))].droplevel('nn').unique(), name = 'sigma')\n",
    "sigmaI = pd.concat([sigmaIY, sigmaIM], axis = 0)\n",
    "db.aom(sigmaI, name = 'sigma')"
   ]
  },
  {
   "cell_type": "markdown",
   "id": "9f15d7dd-0dbc-49fa-86c5-f0a07db087da",
   "metadata": {},
   "source": [
    "### 3.3. Regulation:"
   ]
  },
  {
   "cell_type": "markdown",
   "id": "23e94a6d-39d5-4d3b-8eba-a033ac8ff4e2",
   "metadata": {},
   "source": [
    "The investment sector does not itself emit emissions; however, investments are still tied to emissions through this sectors' reliance on inputs from other sectors (that are emission intensive)."
   ]
  },
  {
   "cell_type": "code",
   "execution_count": 42,
   "id": "c2d664ed-42d8-4ef1-82cb-0894afcaf69d",
   "metadata": {},
   "outputs": [],
   "source": [
    "output = adj.rc_pd(db['vS'], db['s_i']) # output\n",
    "inputs = adj.rc_pd(db['vD'], db['s_i']) # inputs\n",
    "outShares = output/pyDatabases.pdSum(output, 'n') # output shares"
   ]
  },
  {
   "cell_type": "markdown",
   "id": "8bfedbcd-2c44-4a4a-a2c6-cfdd8151f23b",
   "metadata": {},
   "source": [
    "The rest of the regulation is straightforward; we assume that all taxes are paid on output:"
   ]
  },
  {
   "cell_type": "code",
   "execution_count": 43,
   "id": "93f05416-68ac-41ec-9c7b-0bbdc25d72bd",
   "metadata": {},
   "outputs": [],
   "source": [
    "db.aom(outShares * adj.rc_pd(db('TotalTax'), db['s_i'])/output, name = 'tauS')\n",
    "db.aom(adj.rc_pd(db('TotalTax'), db['s_i'])*0, name = 'tauLump')\n",
    "db.aom(pd.Series(0, index = inputs.index), name = 'tauD')"
   ]
  },
  {
   "cell_type": "markdown",
   "id": "93378133-e5a1-400c-9a40-85de6143cfdd",
   "metadata": {},
   "source": [
    "Define sector-specific prices given regulation:"
   ]
  },
  {
   "cell_type": "code",
   "execution_count": 44,
   "id": "f5c9d22c-a119-41e4-971a-254389d3c5e0",
   "metadata": {},
   "outputs": [],
   "source": [
    "db.aom(stdSort(adj.rc_pd((1+db('tauD'))*db('p'), inputs)), name = 'pD')"
   ]
  },
  {
   "cell_type": "markdown",
   "id": "536d130b-ecb5-43d7-85f8-c7c3ac284ce0",
   "metadata": {},
   "source": [
    "## 4. Households"
   ]
  },
  {
   "cell_type": "markdown",
   "id": "c653cae2-3c22-40c9-94f5-286c82defbeb",
   "metadata": {},
   "source": [
    "### 4.1. Nesting structure"
   ]
  },
  {
   "cell_type": "markdown",
   "id": "0e9bbd57-3bcd-4621-a905-81629d9a6569",
   "metadata": {},
   "source": [
    "The investment module currently only includes \"IO goods\" from production sectors. As with the production module, we construct this by setting up a \"full\" nesting tree and then trimming it afterwards:"
   ]
  },
  {
   "cell_type": "code",
   "execution_count": 45,
   "id": "44ca874c-3c26-44d6-a9f4-cba42d3de046",
   "metadata": {},
   "outputs": [],
   "source": [
    "mCY = pd.MultiIndex.from_product([['C'], 'C_'+db('n_p')], names = ['n','nn']) # from top nest to material aggregates\n",
    "mCYD = pd.MultiIndex.from_arrays([mCY.levels[-1], mCY.levels[-1].str.slice(2)], names = ['n','nn']) # from materials to domestic inputs \n",
    "mCYF = pd.MultiIndex.from_arrays([mCY.levels[-1], mCY.levels[-1].str.slice(2)+'_F'], names = ['n','nn']) # from materials to foreign inputs"
   ]
  },
  {
   "cell_type": "markdown",
   "id": "7a397d0c-20b1-4615-bd4a-d748dff9da6c",
   "metadata": {},
   "source": [
    "Collect in one map and add sector index:"
   ]
  },
  {
   "cell_type": "code",
   "execution_count": 46,
   "id": "b11ad8e8-91c1-4512-8b3b-5cabe3576a0e",
   "metadata": {},
   "outputs": [],
   "source": [
    "mCFull = reduce(pd.Index.union, [mCY, mCYD, mCYF])\n",
    "mC = pyDatabases.cartesianProductIndex([db('s_HH'), mCFull])"
   ]
  },
  {
   "cell_type": "markdown",
   "id": "b3de359e-8f41-41f9-bb3a-43fa55f2f852",
   "metadata": {},
   "source": [
    "Trim nesting tree:"
   ]
  },
  {
   "cell_type": "code",
   "execution_count": 47,
   "id": "647be15d-da40-4152-87ba-5c89b465b654",
   "metadata": {},
   "outputs": [],
   "source": [
    "sparsity = adj.rc_pd(db('vD')[db('vD')!=0], db('s_HH')).droplevel('t').index\n",
    "mC = nestingTree.trimNestingStructure(mC, sparsity)"
   ]
  },
  {
   "cell_type": "markdown",
   "id": "9ae88433-68a8-4241-939a-72835cbe1b0a",
   "metadata": {},
   "source": [
    "Add nesting structure:"
   ]
  },
  {
   "cell_type": "code",
   "execution_count": 48,
   "id": "63060824-203d-42e7-8fa9-57b2ad0b6a55",
   "metadata": {},
   "outputs": [],
   "source": [
    "db['nestHH'] = mC"
   ]
  },
  {
   "cell_type": "markdown",
   "id": "bc6673d8-9b37-44b1-a2c8-c698dbfadbc6",
   "metadata": {},
   "source": [
    "Add mapping from consumption aggregate to labor:"
   ]
  },
  {
   "cell_type": "code",
   "execution_count": 49,
   "id": "9ab29d49-afd6-4771-a2c1-3dd787033498",
   "metadata": {},
   "outputs": [],
   "source": [
    "db['L2C'] = pd.MultiIndex.from_arrays([db('s_HH'), pd.Index(['L']*len(db('s_HH')), name = 'n'), pd.Index(['C']*len(db('s_HH')), name = 'nn')])"
   ]
  },
  {
   "cell_type": "markdown",
   "id": "8f37a207-c8e3-4f4d-ae93-bb7a47cfb020",
   "metadata": {},
   "source": [
    "### 4.2. Elasticities:"
   ]
  },
  {
   "cell_type": "markdown",
   "id": "1e6707a0-851e-4fc1-ba66-d8fb1ed8631f",
   "metadata": {},
   "source": [
    "Relative low elasticities between sector product types, more substitution between domestic/foreign splits:"
   ]
  },
  {
   "cell_type": "code",
   "execution_count": 50,
   "id": "7760f2a4-5fec-4a0d-8bf3-235a53a701f6",
   "metadata": {},
   "outputs": [],
   "source": [
    "sigmaCY = pd.Series(0.5, index = mC[mC.get_level_values('n')=='C'].droplevel('nn').unique(), name = 'sigma') # aggregate\n",
    "sigmaCM = pd.Series(2, index = mC[mC.get_level_values('n').isin('C_'+db('n_p'))].droplevel('nn').unique(), name = 'sigma')\n",
    "sigmaC = pd.concat([sigmaCY, sigmaCM], axis = 0)\n",
    "db.aom(sigmaC, name = 'sigma')"
   ]
  },
  {
   "cell_type": "markdown",
   "id": "f1bad715-69b0-4ba5-8fae-a7ac796cfced",
   "metadata": {},
   "source": [
    "Frisch elasticity:"
   ]
  },
  {
   "cell_type": "code",
   "execution_count": 51,
   "id": "59102967-b748-4b29-a6f5-a7ee5c7e8081",
   "metadata": {},
   "outputs": [],
   "source": [
    "db.aom(pd.Series(.25, index = db('s_HH')), name = 'frisch')\n",
    "# db.aom(pd.Series(.25, index = db('L2C').droplevel('nn').unique()), name = 'frisch')"
   ]
  },
  {
   "cell_type": "markdown",
   "id": "bbbc2f3d-d4c5-4055-91ae-a78565e6a1b5",
   "metadata": {},
   "source": [
    "### 4.3. Regulation:"
   ]
  },
  {
   "cell_type": "markdown",
   "id": "688a7fad-bba3-41ad-95ee-ce426ddff804",
   "metadata": {},
   "source": [
    "Households do not directly emit anything (it all happens in the production process). Currently, we use a very simple type of regulation here:\n",
    "* Households pay VAT (the size of which is included in the IO data); we impose this as a flat rate on all inputs.\n",
    "* Set the labor income tax rate at 0.47 (roughly the average for 2018 data).\n",
    "* We set the level of lump sum transfers at 40\\% of labor income (roughly the case for 2018 data).\n",
    "* Finally, *for now/temporarily*, adjust the value of *TotalTax* to ensure that the consumer has a balanced budget. If we used detailed data on regulation on households, we could drop this assumption."
   ]
  },
  {
   "cell_type": "code",
   "execution_count": 52,
   "id": "8755dced-7726-4f34-aac5-d7f7854c07a9",
   "metadata": {},
   "outputs": [],
   "source": [
    "output = adj.rc_pd(db('vS'), db['s_HH'])\n",
    "inputs = adj.rc_pd(db('vD'), db['s_HH'])\n",
    "rTransfer = 0.4004\n",
    "rLaborTax = 0.478\n",
    "rVAT = adj.rc_pd(db('vTax').xs('VAT',level='taxTypes'), db['s_HH']) / pyDatabases.pdSum(inputs, 'n')\n",
    "db.aom(adjMultiIndex.applyMult(rVAT,inputs.index), name = 'tauD') # add flat rate VAT on all demand\n",
    "db.aom(pd.Series(rLaborTax, index = output.index), name = 'tauS') # add a flat labor tax rate\n",
    "db.aom(pyDatabases.pdSum(-output * rTransfer, 'n'), name = 'tauLump') # Adjust lump sum tax\n",
    "db.aom(pyDatabases.pdSum(rVAT * inputs, 'n')+pyDatabases.pdSum(output, 'n') * (rLaborTax-rTransfer), name = 'TotalTax') # adhoc adjustment of 'TotalTax'"
   ]
  },
  {
   "cell_type": "markdown",
   "id": "8e0b3c8e-0d6c-4d25-a8de-fa142983ce74",
   "metadata": {},
   "source": [
    "Define sector-specific prices given regulation:"
   ]
  },
  {
   "cell_type": "code",
   "execution_count": 53,
   "id": "8ec0798b-e82f-4ad5-8d5d-88059c6655fe",
   "metadata": {},
   "outputs": [],
   "source": [
    "db.aom(stdSort(adj.rc_pd((1+db('tauD'))*db('p'), inputs)), name = 'pD')"
   ]
  },
  {
   "cell_type": "markdown",
   "id": "be1187e9-ad05-4a66-90df-7bd3913d1dde",
   "metadata": {},
   "source": [
    "## 5. Government"
   ]
  },
  {
   "cell_type": "markdown",
   "id": "7f8fd85a-9a6b-4a50-b245-b35827b6200a",
   "metadata": {},
   "source": [
    "### 5.1. Nesting structure"
   ]
  },
  {
   "cell_type": "markdown",
   "id": "d20efe3d-dc6f-4865-8201-99748833ba6d",
   "metadata": {},
   "source": [
    "The investment module currently only includes \"IO goods\" from production sectors. As with the production module, we construct this by setting up a \"full\" nesting tree and then trimming it afterwards:"
   ]
  },
  {
   "cell_type": "code",
   "execution_count": 54,
   "id": "4ca97d35-5751-47c3-816e-1740e3115342",
   "metadata": {},
   "outputs": [],
   "source": [
    "mGY = pd.MultiIndex.from_product([['G'], 'G_'+db('n_p')], names = ['n','nn']) # from top nest to material aggregates\n",
    "mGYD = pd.MultiIndex.from_arrays([mGY.levels[-1], mGY.levels[-1].str.slice(2)], names = ['n','nn']) # from materials to domestic inputs \n",
    "mGYF = pd.MultiIndex.from_arrays([mGY.levels[-1], mGY.levels[-1].str.slice(2)+'_F'], names = ['n','nn']) # from materials to foreign inputs"
   ]
  },
  {
   "cell_type": "markdown",
   "id": "8bad6f28-ea5c-4b5e-8d7f-b7a79b3eb725",
   "metadata": {},
   "source": [
    "Collect in one map and add sector index:"
   ]
  },
  {
   "cell_type": "code",
   "execution_count": 55,
   "id": "e70e28ea-6c91-4c92-aaf3-4fa86180d186",
   "metadata": {},
   "outputs": [],
   "source": [
    "mGFull = reduce(pd.Index.union, [mGY, mGYD, mGYF])\n",
    "mG = pyDatabases.cartesianProductIndex([db('s_G'), mGFull])"
   ]
  },
  {
   "cell_type": "markdown",
   "id": "47328522-dcae-4e78-bb1e-9081be618f2b",
   "metadata": {},
   "source": [
    "Trim nesting tree:"
   ]
  },
  {
   "cell_type": "code",
   "execution_count": 56,
   "id": "295a6c6c-df65-4ea0-8f50-5cc3f2597a14",
   "metadata": {},
   "outputs": [],
   "source": [
    "sparsity = adj.rc_pd(db('vD')[db('vD')!=0], db('s_G')).droplevel('t').index\n",
    "mG = nestingTree.trimNestingStructure(mG, sparsity)"
   ]
  },
  {
   "cell_type": "markdown",
   "id": "68f1d9c3-6d65-46c8-a0d0-e365d4637031",
   "metadata": {},
   "source": [
    "Add nesting structure:"
   ]
  },
  {
   "cell_type": "code",
   "execution_count": 57,
   "id": "83fca383-608a-4fae-b759-714bf393b1ba",
   "metadata": {},
   "outputs": [],
   "source": [
    "db['nestG'] = mG"
   ]
  },
  {
   "cell_type": "markdown",
   "id": "c166dbab-ba1d-458a-a757-7ca5888321d0",
   "metadata": {},
   "source": [
    "### 5.2. Elasticities"
   ]
  },
  {
   "cell_type": "markdown",
   "id": "c8f2638d-b58e-4b56-b035-f2fced9380a2",
   "metadata": {},
   "source": [
    "Relative low elasticities between sector product types, more substitution between domestic/foreign splits:"
   ]
  },
  {
   "cell_type": "code",
   "execution_count": 58,
   "id": "96469222-a21a-49ef-9f67-db3c89fcd34e",
   "metadata": {},
   "outputs": [],
   "source": [
    "sigmaGY = pd.Series(0.5, index = mG[mG.get_level_values('n')=='G'].droplevel('nn').unique(), name = 'sigma') # aggregate\n",
    "sigmaGM = pd.Series(2, index = mG[mG.get_level_values('n').isin('G_'+db('n_p'))].droplevel('nn').unique(), name = 'sigma')\n",
    "sigmaG = pd.concat([sigmaGY, sigmaGM], axis = 0)\n",
    "db.aom(sigmaG, name = 'sigma')"
   ]
  },
  {
   "cell_type": "markdown",
   "id": "3238941b-dca2-4192-bb55-78f581217264",
   "metadata": {},
   "source": [
    "### 5.3. Regulation"
   ]
  },
  {
   "cell_type": "markdown",
   "id": "aa7bbafb-9945-40c4-9406-ea48d34d8fec",
   "metadata": {
    "editable": true,
    "slideshow": {
     "slide_type": ""
    },
    "tags": []
   },
   "source": [
    "The government regulates/taxes itself (because data says so). Because we use incomplete data on taxes (especially on household taxes/transfers), we make some adhoc adjustments here:\n",
    "* Remove taxes on inventory (because the \"inventory sector\" is only used for completeness of the IO system).\n",
    "* Set flat VAT tax rate on government consumption to target taxes from government sector."
   ]
  },
  {
   "cell_type": "code",
   "execution_count": 59,
   "id": "7ba90677-1c4f-458e-9204-86f39cf504c1",
   "metadata": {},
   "outputs": [],
   "source": [
    "inputs = adj.rc_pd(db('vD'), db('s_G'))\n",
    "db['TotalTax'] = adj.rc_pd(db('TotalTax'), ('not', pd.Index(['itory'],name='s'))) # remove inventory taxes\n",
    "db['d_TotalTax'] = db['TotalTax'].index.droplevel('t').unique() # what sectors pay taxes\n",
    "rVAT = adj.rc_pd(db('TotalTax'), db('s_G')) / pyDatabases.pdSum(inputs,'n') # define VAT rate of taxes\n",
    "db.aom(adjMultiIndex.applyMult(rVAT,inputs.index), name = 'tauD') # add flat rate VAT on all demand\n",
    "db.aom(stdSort(adj.rc_pd((1+db('tauD'))*db('p'), inputs)), name = 'pD')"
   ]
  },
  {
   "cell_type": "markdown",
   "id": "ab74f716-8227-4676-8b2e-d90818e5d03b",
   "metadata": {},
   "source": [
    "## 6. Trade"
   ]
  },
  {
   "cell_type": "markdown",
   "id": "a0ecc60b-d0f3-4513-9feb-2a65d875d21c",
   "metadata": {},
   "source": [
    "Set export elasticity to 7.5:"
   ]
  },
  {
   "cell_type": "code",
   "execution_count": 60,
   "id": "f3602805-7106-41a2-b1a7-cae454287109",
   "metadata": {},
   "outputs": [],
   "source": [
    "db.aom(pd.Series(7.5, index = db('dExport')), name='sigma')"
   ]
  },
  {
   "cell_type": "markdown",
   "id": "1acc9d8a-a9e2-4ad3-abc7-312876b7327a",
   "metadata": {},
   "source": [
    "*Note: We should add some information on regulation on trade at some point. Here, just add flat tariff/subsidy on all exports:* "
   ]
  },
  {
   "cell_type": "code",
   "execution_count": 61,
   "id": "ab5aa0f2-d823-46e8-89a6-58d8d30ca5e7",
   "metadata": {},
   "outputs": [],
   "source": [
    "avgTariffRate = adj.rc_pd(db('TotalTax'), db('s_f'))/pyDatabases.pdSum(adj.rc_pd(db('vD'), db('s_f')), 'n')\n",
    "TariffRate = stdSort(adjMultiIndex.applyMult(avgTariffRate, db('dExport')))\n",
    "db.aom(TariffRate, name = 'tauD')\n",
    "db.aom(pd.Series(0, index = adj.rc_pd(db('TotalTax'), db('s_f')).index), name = 'tauLump')\n",
    "db.aom(stdSort(adj.rc_pd(db('tauD')+db('p'), db('s_f'))), name = 'pD')"
   ]
  },
  {
   "cell_type": "markdown",
   "id": "bd44f301-4ac5-42d9-8121-8fbcfd95b803",
   "metadata": {
    "editable": true,
    "slideshow": {
     "slide_type": ""
    },
    "tags": []
   },
   "source": [
    "## 7. Emissions"
   ]
  },
  {
   "cell_type": "markdown",
   "id": "3760cbea-8491-4351-a616-77a44247d985",
   "metadata": {},
   "source": [
    "Define average CO2 tax, create ```tauDist``` that measures relative weight of CO2 in a specific sector:"
   ]
  },
  {
   "cell_type": "code",
   "execution_count": 62,
   "id": "7ddb1e83-d7ac-4c77-b70b-7be065a5d29c",
   "metadata": {},
   "outputs": [],
   "source": [
    "db['uCO2'] = adj.rc_pd(db('qCO2'), db('s_p')) / adj.rc_pd(db('qS'), db('s_p')) # co2 share\n",
    "db['tauCO2agg'] = (db('tauCO2') * db('qCO2')).groupby('t').sum() / (db('qCO2').groupby('t').sum()) # average CO2 tax\n",
    "db['tauDist']   = db('tauCO2')/db('tauCO2agg')\n",
    "db['qCO2agg'] = db('qCO2').groupby('t').sum()"
   ]
  },
  {
   "cell_type": "markdown",
   "id": "28de3ea8-a9dd-4aa2-aa78-1c8610a0e5cf",
   "metadata": {},
   "source": [
    "For now, define the effective tax rate used in production modules as the copy of true tax:"
   ]
  },
  {
   "cell_type": "code",
   "execution_count": 63,
   "id": "696af4f1-f8e1-4b39-8dd5-7291d24ade40",
   "metadata": {},
   "outputs": [],
   "source": [
    "db['tauEffCO2'] = db('tauCO2').copy()"
   ]
  },
  {
   "cell_type": "markdown",
   "id": "01a33322-5f82-46db-99d7-40a33674e1fb",
   "metadata": {},
   "source": [
    "## 8. Globals"
   ]
  },
  {
   "cell_type": "markdown",
   "id": "fa5464b6-e8a8-4379-902d-f5227d1cf0e9",
   "metadata": {},
   "source": [
    "Other parameters/variables used throughout:"
   ]
  },
  {
   "cell_type": "code",
   "execution_count": 64,
   "id": "db6e8427-d053-4ba5-8ccd-3f2e61d87a3a",
   "metadata": {},
   "outputs": [],
   "source": [
    "db.aom(pd.Series(db('R_LR'), index = db('t')), name = 'Rrate', priority = 'first') # fix interest rate path at long run level"
   ]
  },
  {
   "cell_type": "markdown",
   "id": "5f363268-db5c-4fa7-accb-3fde9672bbce",
   "metadata": {},
   "source": [
    "## Export"
   ]
  },
  {
   "cell_type": "code",
   "execution_count": 65,
   "id": "be748094-3506-4237-a877-186dcaabf67e",
   "metadata": {},
   "outputs": [],
   "source": [
    "db.export(repo=d['data'])"
   ]
  }
 ],
 "metadata": {
  "kernelspec": {
   "display_name": "Python 3 (ipykernel)",
   "language": "python",
   "name": "python3"
  },
  "language_info": {
   "codemirror_mode": {
    "name": "ipython",
    "version": 3
   },
   "file_extension": ".py",
   "mimetype": "text/x-python",
   "name": "python",
   "nbconvert_exporter": "python",
   "pygments_lexer": "ipython3",
   "version": "3.11.8"
  }
 },
 "nbformat": 4,
 "nbformat_minor": 5
}
