{
 "cells": [
  {
   "cell_type": "code",
   "execution_count": 1,
   "id": "9018e741-a381-4d02-9062-5b16de5adf2b",
   "metadata": {
    "scrolled": true
   },
   "outputs": [
    {
     "name": "stdout",
     "output_type": "stream",
     "text": [
      "The file _gams_py_gdb0.gdx is still active and was not deleted.\n",
      "The file _gams_py_gdb1.gdx is still active and was not deleted.\n",
      "The file _gams_py_gdb2.gdx is still active and was not deleted.\n",
      "The file _gams_py_gdb3.gdx is still active and was not deleted.\n"
     ]
    }
   ],
   "source": [
    "clean_up = True # if True, remove all gams related files from working folder before starting\n",
    "%run stdPackages.ipynb"
   ]
  },
  {
   "cell_type": "markdown",
   "id": "b7169994-106d-4523-807f-084fcb83f03c",
   "metadata": {},
   "source": [
    "*Load specific modules used here:*"
   ]
  },
  {
   "cell_type": "code",
   "execution_count": 2,
   "id": "30695dfe-9071-4058-aef5-6588f9792493",
   "metadata": {},
   "outputs": [],
   "source": [
    "os.chdir(d['py'])\n",
    "import mProduction\n",
    "from gmsPython import nestingTree\n",
    "from valueShares import nestedShares"
   ]
  },
  {
   "cell_type": "markdown",
   "id": "819f0fc6-6e02-4f5c-be1f-f0a10dda0bbb",
   "metadata": {},
   "source": [
    "# Production modules"
   ]
  },
  {
   "cell_type": "markdown",
   "id": "8847dfe4-5ae5-4b5b-9de3-fd5d9c9a517d",
   "metadata": {},
   "source": [
    "*Load test data:*"
   ]
  },
  {
   "cell_type": "code",
   "execution_count": 3,
   "id": "4aef4bf8-4ddb-4bad-ab72-86cc9eeef2ed",
   "metadata": {},
   "outputs": [],
   "source": [
    "t0 = 2019\n",
    "name = 'TestModelData' #\n",
    "db = GpyDB(os.path.join(d['data'], name), name = 'test', ws = d['work'])\n",
    "ws = db.ws"
   ]
  },
  {
   "cell_type": "markdown",
   "id": "2a3d805a-9b5d-457c-b38d-d4f1888c9332",
   "metadata": {},
   "source": [
    "For variables that are defined over $t$, but where we do not yet have an initial value for all $t$, extrapolate from data:\n",
    "\n",
    "*Note: This forces extrapolation of all variables defined over $t$ - if it is important that some variables are not extrapolated, they should be removed from this statement.*"
   ]
  },
  {
   "cell_type": "code",
   "execution_count": 4,
   "id": "c6a0dcfc-14a5-46a7-887b-bf7dd7907325",
   "metadata": {},
   "outputs": [],
   "source": [
    "[symbol.__setattr__('vals', extrapolateUpper(symbol.vals, db('tE')[0])) for symbol in [db[k] for k in db.varDom('t')['t']]];"
   ]
  },
  {
   "cell_type": "markdown",
   "id": "a065e736-45a4-4cfd-9924-f4e4c1b1c193",
   "metadata": {},
   "source": [
    "Subset data to only include production sectors, but keep a full copy:"
   ]
  },
  {
   "cell_type": "code",
   "execution_count": 5,
   "id": "e235685b-e806-4768-a6e4-782179cf3b03",
   "metadata": {},
   "outputs": [
    {
     "data": {
      "text/plain": [
       "<pyDatabases.gpyDB.gpyDB.GpyDB at 0x1d57f3c2ed0>"
      ]
     },
     "execution_count": 5,
     "metadata": {},
     "output_type": "execute_result"
    }
   ],
   "source": [
    "db0 = db.copy()\n",
    "AggDB.subsetDB(db, db('s_p'))"
   ]
  },
  {
   "cell_type": "markdown",
   "id": "1fe01b7e-26ba-47b3-a539-3186e621e4f7",
   "metadata": {},
   "source": [
    "## 1. ```StaticNCES```"
   ]
  },
  {
   "cell_type": "markdown",
   "id": "0d436a9a-bea8-4c4a-827f-4325d0f58d7f",
   "metadata": {},
   "source": [
    "### 1.1. Default implementation"
   ]
  },
  {
   "cell_type": "code",
   "execution_count": 6,
   "id": "8dfb1106-125f-4a6a-b4f3-db1ff3eb80e1",
   "metadata": {},
   "outputs": [],
   "source": [
    "db_StaticNCES = db.copy()\n",
    "db_i = db_StaticNCES"
   ]
  },
  {
   "cell_type": "markdown",
   "id": "247953ed-55b9-443c-b291-3b3f4aa14f8e",
   "metadata": {},
   "source": [
    "Remove durables (and their value from supply side):"
   ]
  },
  {
   "cell_type": "code",
   "execution_count": 7,
   "id": "fe36a04e-6afd-4650-ac9e-84abb21e142d",
   "metadata": {},
   "outputs": [],
   "source": [
    "db_i['qS'] = db_i('qS')-(adj.rc_pd(db_i('qD'), db_i('dur_p')) * db_i('pD_dur')).groupby(['t','s']).sum()\n",
    "db_i['qD'] = adj.rc_pd(db_i('qD'), ('not', db_i('dur_p')))\n",
    "db_i['nestProduction'] = adj.rc_pd(db_i('nestProduction'), ('not', db_i('dur_p').rename('nn')))"
   ]
  },
  {
   "cell_type": "markdown",
   "id": "64123132-2381-4939-8dff-b4e68e18aa9e",
   "metadata": {},
   "source": [
    "*Set up nesting structure from nesting tree:*"
   ]
  },
  {
   "cell_type": "code",
   "execution_count": 8,
   "id": "fe4d0334-0d5a-4983-9071-314a9b88d0b3",
   "metadata": {},
   "outputs": [
    {
     "data": {
      "text/plain": [
       "<gmsPython.nestingTree.nestingTree.AggTree at 0x1d502692e10>"
      ]
     },
     "execution_count": 8,
     "metadata": {},
     "output_type": "execute_result"
    }
   ],
   "source": [
    "nest = nestingTree.Tree('P', tree = db_i('nestProduction').to_list(), f = 'CES')\n",
    "nestAgg = nestingTree.AggTree(name = 'P', trees = {t.name: t for t in [nest]}, ws = ws)\n",
    "nestAgg(namespace = {str(n)+'_input':n for n in db('n')})"
   ]
  },
  {
   "cell_type": "markdown",
   "id": "5c81209a-f2a5-4916-8756-456b36921177",
   "metadata": {},
   "source": [
    "*Get starting values for $\\mu$ using value shares:*"
   ]
  },
  {
   "cell_type": "code",
   "execution_count": 9,
   "id": "bfef3f2e-dcca-4563-90c6-2a3ecb4fcd6e",
   "metadata": {},
   "outputs": [],
   "source": [
    "v = nestedShares(nestAgg, ws = ws)\n",
    "db_p = v(db)"
   ]
  },
  {
   "cell_type": "markdown",
   "id": "e8ec1a71-f75b-41a8-b5c7-8a53dc430513",
   "metadata": {},
   "source": [
    "Use share parameters and values to get initial values for intermediates:"
   ]
  },
  {
   "cell_type": "code",
   "execution_count": 10,
   "id": "c68a68a9-ae47-4fe2-8b00-0def87a65954",
   "metadata": {},
   "outputs": [],
   "source": [
    "db_i.aom(db_p('mu').xs(t0), name = 'mu')\n",
    "db_i.aom(adj.rc_pd(db_p('vD'), nestAgg.get('int')).rename('qD'), name = 'qD', priority = 'first') # specify intermediate goods levels"
   ]
  },
  {
   "cell_type": "markdown",
   "id": "6ed56fec-f80a-473e-89ee-e2239d954228",
   "metadata": {},
   "source": [
    "Initialize model instance:"
   ]
  },
  {
   "cell_type": "code",
   "execution_count": 11,
   "id": "b8a67acb-c364-40ba-83cd-2d133a819ede",
   "metadata": {},
   "outputs": [],
   "source": [
    "m_StaticNCES = mProduction.getStaticNCES(nestAgg, partial = True, initFromGms = 'initFirmValueBlock')\n",
    "m_i = m_StaticNCES"
   ]
  },
  {
   "cell_type": "markdown",
   "id": "c60ea49b-f5df-44ce-b4ba-0a05e3f48e54",
   "metadata": {},
   "source": [
    "Add data and initialize other stuff with default options:"
   ]
  },
  {
   "cell_type": "code",
   "execution_count": 12,
   "id": "1ca1096f-b69c-4b11-81a1-f048312bb331",
   "metadata": {},
   "outputs": [],
   "source": [
    "m_i.initStuff(db = db_i)"
   ]
  },
  {
   "cell_type": "markdown",
   "id": "b7d3e1c0-2ec1-41fb-a1f4-e98294dab8ee",
   "metadata": {},
   "source": [
    "Compare the two sectors in baseline:"
   ]
  },
  {
   "cell_type": "markdown",
   "id": "f8dc0e84-0c30-4f97-8be4-8b2781efc8b2",
   "metadata": {},
   "source": [
    "Solve calibration with robust relaxation method:"
   ]
  },
  {
   "cell_type": "code",
   "execution_count": 13,
   "id": "3f0f99cc-05a7-4274-8685-8760a36a22cc",
   "metadata": {},
   "outputs": [],
   "source": [
    "solve_StaticNCES_Calib = m_i.jSolve(10, state = 'C')\n",
    "solve_i = solve_StaticNCES_Calib"
   ]
  },
  {
   "cell_type": "markdown",
   "id": "af4a8b55-0919-4d81-9a6a-6ce991d60a50",
   "metadata": {},
   "source": [
    "Add solution to main database, remove init methods (we want to use this solution as initial value):"
   ]
  },
  {
   "cell_type": "code",
   "execution_count": 14,
   "id": "93d478ae-a381-412c-9189-ce8b6aca1b59",
   "metadata": {},
   "outputs": [],
   "source": [
    "[m_i.db.__setitem__(k, solve_i[k]) for k in m_i.db.getTypes(['var']) if k in solve_i.symbols]; # use solution database\n",
    "m_i.db.mergeInternal()\n",
    "m_i.initFromGms = None # no longer use gams code to initialize variables"
   ]
  },
  {
   "cell_type": "markdown",
   "id": "eb65bcac-f962-451f-8690-43062e42319d",
   "metadata": {},
   "source": [
    "Test baseline state:"
   ]
  },
  {
   "cell_type": "code",
   "execution_count": 15,
   "id": "90bd0c9c-229d-4c05-9811-b32a3578efb1",
   "metadata": {},
   "outputs": [],
   "source": [
    "solve_StaticNCES = m_i.solve(state = 'B') # solve baseline state\n",
    "solve_i = solve_StaticNCES"
   ]
  },
  {
   "cell_type": "markdown",
   "id": "e4dbe0c3-9514-4e19-a42d-1cc5206ca615",
   "metadata": {},
   "source": [
    "### 1.2. Simple emission extension:"
   ]
  },
  {
   "cell_type": "markdown",
   "id": "ce070991-9925-4db0-b29a-f01b28d197e2",
   "metadata": {},
   "source": [
    "Initialize emission extension:"
   ]
  },
  {
   "cell_type": "code",
   "execution_count": 16,
   "id": "ac322a69-6732-401c-9070-3be736c4aedd",
   "metadata": {},
   "outputs": [],
   "source": [
    "# m_StaticNCES_emission = mProduction.StaticNCES_emission(nestAgg, partial = True, abateCosts = False) # Initialize directly from extension class\n",
    "m_StaticNCES_emission = mProduction.getStaticNCES(nestAgg, extension = 'emission', partial = True, abateCosts = False) # ignore abatement costs\n",
    "m_i = m_StaticNCES_emission"
   ]
  },
  {
   "cell_type": "markdown",
   "id": "6aa76e96-5ff0-4320-ac49-ef438f8d0884",
   "metadata": {},
   "source": [
    "Test run this as well:"
   ]
  },
  {
   "cell_type": "code",
   "execution_count": 17,
   "id": "3e5284ef-c80f-438a-a072-9b81d340806b",
   "metadata": {},
   "outputs": [],
   "source": [
    "m_i.initStuff(db = db_i) # don't need to add more data, we already rely on the solution from the basic model version here.\n",
    "solve_StaticNCES_emission = m_i.solve()"
   ]
  },
  {
   "cell_type": "markdown",
   "id": "05823e77-dd80-409e-96e7-fe6f98c55b24",
   "metadata": {},
   "source": [
    "Now, test run with some type of abatement costs:"
   ]
  },
  {
   "cell_type": "code",
   "execution_count": 18,
   "id": "421ea065-5c1a-4abd-b09f-8517ec8c8683",
   "metadata": {},
   "outputs": [],
   "source": [
    "m_i.addAbatementCosts(\"SqrAdjCosts\")\n",
    "m_i.initStuff() # update group definitions and such\n",
    "solve_StaticNCES_emissionWithAbate = m_i.solve()"
   ]
  },
  {
   "cell_type": "markdown",
   "id": "1c22db09-1f45-4c97-84c5-61709b114adc",
   "metadata": {},
   "source": [
    "### 1.3. Investment module:"
   ]
  },
  {
   "cell_type": "markdown",
   "id": "fd453d19-2ccb-4c4f-9853-b23b55c781a2",
   "metadata": {},
   "source": [
    "Return to full database and create a copy only with investment sectors:"
   ]
  },
  {
   "cell_type": "code",
   "execution_count": 19,
   "id": "acd277e5-626d-4c4b-a8cf-0f1b14c40577",
   "metadata": {},
   "outputs": [],
   "source": [
    "db_invest = db0.copy()\n",
    "AggDB.subsetDB(db_invest, db_invest('s_i'))\n",
    "db_i = db_invest"
   ]
  },
  {
   "cell_type": "markdown",
   "id": "60c8c50b-9200-4ad7-a680-afd5b412cd6b",
   "metadata": {},
   "source": [
    "*Set up nesting structure from nesting tree:*"
   ]
  },
  {
   "cell_type": "code",
   "execution_count": 20,
   "id": "26954946-fee6-41ed-b36a-086a4c3ea58d",
   "metadata": {},
   "outputs": [
    {
     "data": {
      "text/plain": [
       "<gmsPython.nestingTree.nestingTree.AggTree at 0x173cbe2d350>"
      ]
     },
     "execution_count": 20,
     "metadata": {},
     "output_type": "execute_result"
    }
   ],
   "source": [
    "nest = nestingTree.Tree('I', tree = db_i('nestInvestment').to_list(), f = 'CES')\n",
    "nestAgg = nestingTree.AggTree(name = 'I', trees = {t.name: t for t in [nest]}, ws = ws)\n",
    "nestAgg(namespace = {str(n)+'_input':n for n in db('n')})"
   ]
  },
  {
   "cell_type": "markdown",
   "id": "1a97da0d-91c0-4a22-be95-39d5f6a30ed4",
   "metadata": {},
   "source": [
    "*Get starting values for $\\mu$ using value shares:*"
   ]
  },
  {
   "cell_type": "code",
   "execution_count": 21,
   "id": "bd308e3b-622c-4e54-bdeb-7de5cd546a0c",
   "metadata": {},
   "outputs": [],
   "source": [
    "v = nestedShares(nestAgg, ws = ws)\n",
    "db_p = v(db_i)"
   ]
  },
  {
   "cell_type": "markdown",
   "id": "ca1d31f6-2825-441f-8775-eb323f6cebe4",
   "metadata": {},
   "source": [
    "Use share parameters and values to get initial values for intermediates:"
   ]
  },
  {
   "cell_type": "code",
   "execution_count": 22,
   "id": "c058f04f-3f53-4af6-b801-d640bab8082c",
   "metadata": {},
   "outputs": [],
   "source": [
    "db_i.aom(db_p('mu').xs(t0), name = 'mu')\n",
    "db_i.aom(adj.rc_pd(db_p('vD'), nestAgg.get('int')).rename('qD'), name = 'qD', priority = 'first') # specify intermediate goods levels"
   ]
  },
  {
   "cell_type": "markdown",
   "id": "331098d3-4da0-4a54-a4dd-327beb9b1844",
   "metadata": {},
   "source": [
    "Initialize model instance:"
   ]
  },
  {
   "cell_type": "code",
   "execution_count": 23,
   "id": "4c8c0caa-8bac-4464-b41f-e24e62746ae2",
   "metadata": {},
   "outputs": [],
   "source": [
    "m_invest = mProduction.InvestNCES(nestAgg, partial = True)\n",
    "m_i = m_invest"
   ]
  },
  {
   "cell_type": "markdown",
   "id": "a1203573-5745-480a-b1b5-b5ba811fbeb8",
   "metadata": {},
   "source": [
    "Add data and initialize other stuff with default options:"
   ]
  },
  {
   "cell_type": "code",
   "execution_count": 24,
   "id": "753a81e4-22a4-4160-9037-84f58ed75817",
   "metadata": {},
   "outputs": [],
   "source": [
    "m_i.initStuff(db = db_i)"
   ]
  },
  {
   "cell_type": "markdown",
   "id": "2c0f0f28-b67b-4549-8292-c699953783a3",
   "metadata": {},
   "source": [
    "Solve calibration with robust relaxation method:"
   ]
  },
  {
   "cell_type": "code",
   "execution_count": 25,
   "id": "f88cf40e-eea5-4c31-8732-2b0436a115bf",
   "metadata": {},
   "outputs": [],
   "source": [
    "solve_investCalib = m_i.jSolve(10, state = 'C')\n",
    "solve_i = solve_investCalib"
   ]
  },
  {
   "cell_type": "markdown",
   "id": "2ab82fb3-5959-4d88-85e4-0ff4ff677a24",
   "metadata": {},
   "source": [
    "## 2. ```DynamicNCES```"
   ]
  },
  {
   "cell_type": "markdown",
   "id": "e36b00a2-0a6c-4bea-8c32-6264c6f242a2",
   "metadata": {},
   "source": [
    "The dynamic classes currently only contains the same extensions as the static models. Technically, extensions are caught by the parent class, thus both instances here are simple ```DynamicNCES_base```."
   ]
  },
  {
   "cell_type": "markdown",
   "id": "4a254b1b-2988-4c2c-90eb-1ca95bb8a68e",
   "metadata": {},
   "source": [
    "### 2.1. Without emissions (default)"
   ]
  },
  {
   "cell_type": "code",
   "execution_count": 26,
   "id": "aa3c9d68-1a6a-4e79-a123-8adcfcf0cd38",
   "metadata": {},
   "outputs": [],
   "source": [
    "db_DynamicNCES = db.copy()\n",
    "db_i = db_DynamicNCES"
   ]
  },
  {
   "cell_type": "markdown",
   "id": "4a189817-c2c1-4d16-b0ee-3c6f8139a286",
   "metadata": {},
   "source": [
    "*Set up nesting structure from nesting tree:*"
   ]
  },
  {
   "cell_type": "code",
   "execution_count": 27,
   "id": "2c805836-f899-4ff5-8820-899b22a763c8",
   "metadata": {},
   "outputs": [
    {
     "data": {
      "text/plain": [
       "<gmsPython.nestingTree.nestingTree.AggTree at 0x173cbbc6950>"
      ]
     },
     "execution_count": 27,
     "metadata": {},
     "output_type": "execute_result"
    }
   ],
   "source": [
    "nest = nestingTree.Tree('P', tree = db_i('nestProduction').to_list(), f = 'CES')\n",
    "nestAgg = nestingTree.AggTree(name = 'P', trees = {t.name: t for t in [nest]}, ws = ws)\n",
    "nestAgg(namespace = {str(n)+'_input':n for n in db('n')})"
   ]
  },
  {
   "cell_type": "markdown",
   "id": "7070c16e-2998-464e-b8dc-1d86033357b1",
   "metadata": {},
   "source": [
    "*Get starting values for $\\mu$ using value shares:*"
   ]
  },
  {
   "cell_type": "code",
   "execution_count": 28,
   "id": "e339c38b-789f-44f1-b293-d66c4937b189",
   "metadata": {},
   "outputs": [],
   "source": [
    "v = nestedShares(nestAgg, ws = ws)\n",
    "db_p = v(db)"
   ]
  },
  {
   "cell_type": "markdown",
   "id": "f785e8d1-a1c0-48a0-bab1-1e5863c6e333",
   "metadata": {},
   "source": [
    "Use share parameters and values to get initial values for intermediates:"
   ]
  },
  {
   "cell_type": "code",
   "execution_count": 29,
   "id": "54862eda-bc79-426d-943e-fa0e2f0a8f89",
   "metadata": {},
   "outputs": [],
   "source": [
    "db_i.aom(db_p('mu').xs(t0), name = 'mu')\n",
    "db_i.aom(adj.rc_pd(db_p('vD'), nest.get('int')).rename('qD'), name = 'qD', priority = 'first') # specify intermediate goods levels"
   ]
  },
  {
   "cell_type": "markdown",
   "id": "49779fe7-c751-45e7-805a-795dfd70d492",
   "metadata": {},
   "source": [
    "Use static user cost as initial guess for price on durables (if no other has been provided):"
   ]
  },
  {
   "cell_type": "code",
   "execution_count": 30,
   "id": "025a1de5-8ffa-4867-ac19-79c1a79bf51c",
   "metadata": {},
   "outputs": [],
   "source": [
    "db_i.aom(db('pD_dur'), name = 'pD', priority = 'first') # pD_dur includes an estimate of the long-run user-cost of capital"
   ]
  },
  {
   "cell_type": "markdown",
   "id": "52a4ecef-5315-407f-9486-d7e4a43e4104",
   "metadata": {},
   "source": [
    "Initialize model instance:"
   ]
  },
  {
   "cell_type": "code",
   "execution_count": 31,
   "id": "d09d67d8-35fb-41c5-9928-7d95765162d1",
   "metadata": {},
   "outputs": [],
   "source": [
    "m_DynamicNCES = mProduction.getDynamicNCES(nestAgg, partial = True, initFromGms = 'initFirmValueBlock')\n",
    "m_i = m_DynamicNCES"
   ]
  },
  {
   "cell_type": "markdown",
   "id": "6d452c6d-dcf3-495a-a024-dfcba5167721",
   "metadata": {},
   "source": [
    "Add data and initialize other stuff with default options:"
   ]
  },
  {
   "cell_type": "code",
   "execution_count": 32,
   "id": "5a461316-6303-4b37-ac97-31a9149b7f0e",
   "metadata": {},
   "outputs": [],
   "source": [
    "m_i.initStuff(db = db_i)"
   ]
  },
  {
   "cell_type": "markdown",
   "id": "2ba860cf-ef22-463e-b1f0-0997a37532d3",
   "metadata": {},
   "source": [
    "Solve calibration with robust relaxation method:"
   ]
  },
  {
   "cell_type": "code",
   "execution_count": 33,
   "id": "4ee92e83-444b-4913-9654-68e36c99927c",
   "metadata": {},
   "outputs": [],
   "source": [
    "solve_DynamicNCES_Calib = m_i.jSolve(10, state = 'C')\n",
    "solve_i = solve_DynamicNCES_Calib"
   ]
  },
  {
   "cell_type": "markdown",
   "id": "ef537c13-e835-4619-b1b1-1cf99e2d948b",
   "metadata": {},
   "source": [
    "Add solution to main database, remove init methods (we want to use this solution as initial value):"
   ]
  },
  {
   "cell_type": "code",
   "execution_count": 34,
   "id": "a7b76316-4649-4901-8075-02bda1e8539d",
   "metadata": {},
   "outputs": [],
   "source": [
    "[m_i.db.__setitem__(k, solve_i[k]) for k in m_i.db.getTypes(['var']) if k in solve_i.symbols]; # use solution database\n",
    "m_i.db.mergeInternal()\n",
    "m_i.initFromGms = None # no longer use gams code to initialize variables"
   ]
  },
  {
   "cell_type": "markdown",
   "id": "abeb2da7-fd65-4948-9d18-36eb8f244224",
   "metadata": {},
   "source": [
    "Test baseline state:"
   ]
  },
  {
   "cell_type": "code",
   "execution_count": 35,
   "id": "d56efd7f-ea5c-4af0-9eb6-c63c087ecf48",
   "metadata": {},
   "outputs": [],
   "source": [
    "solve_DynamicNCES = m_i.solve(state = 'B') # solve baseline state\n",
    "solve_i = solve_DynamicNCES"
   ]
  },
  {
   "cell_type": "markdown",
   "id": "de12434e-f7cb-4a38-b23c-296e9cd508c9",
   "metadata": {},
   "source": [
    "### 2.2. Emissions"
   ]
  },
  {
   "cell_type": "markdown",
   "id": "2cac67da-269e-455c-a8b2-f507926fa8bc",
   "metadata": {},
   "source": [
    "With emissions, the module is the same, but we specify that the static version uses the extension 'emission':"
   ]
  },
  {
   "cell_type": "code",
   "execution_count": 37,
   "id": "fe22baa7-ab3d-45bd-8105-9ee29990d7f8",
   "metadata": {},
   "outputs": [],
   "source": [
    "m_DynamicNCES_emission = mProduction.getDynamicNCES(nestAgg, extension = 'emission', partial = True)\n",
    "m_i = m_DynamicNCES_emission"
   ]
  },
  {
   "cell_type": "markdown",
   "id": "323647b3-8d1e-4f6e-b56d-063eac51609e",
   "metadata": {},
   "source": [
    "Test run this as well:"
   ]
  },
  {
   "cell_type": "code",
   "execution_count": 38,
   "id": "2a367f56-6d0c-4e94-a1c6-9da003dd8e8e",
   "metadata": {},
   "outputs": [],
   "source": [
    "m_i.initStuff(db = db_i) # don't need to add more data, we already rely on the solution from the basic model version here.\n",
    "solve_DynamicNCES_emission = m_i.jSolve(10, state = 'C')"
   ]
  },
  {
   "cell_type": "markdown",
   "id": "790ec245-485d-468b-beb6-f49e8bb669a3",
   "metadata": {},
   "source": [
    "Now, test run with some type of abatement costs:"
   ]
  },
  {
   "cell_type": "code",
   "execution_count": 39,
   "id": "ac4c1ae3-5940-4609-ac49-7eda23bf3148",
   "metadata": {},
   "outputs": [],
   "source": [
    "m_i.addAbatementCosts(\"SqrAdjCosts\")\n",
    "m_i.initStuff() # update group definitions and such\n",
    "solve_StaticNCES_emissionWithAbate = m_i.jSolve(10, state = 'C')"
   ]
  }
 ],
 "metadata": {
  "kernelspec": {
   "display_name": "Python 3 (ipykernel)",
   "language": "python",
   "name": "python3"
  },
  "language_info": {
   "codemirror_mode": {
    "name": "ipython",
    "version": 3
   },
   "file_extension": ".py",
   "mimetype": "text/x-python",
   "name": "python",
   "nbconvert_exporter": "python",
   "pygments_lexer": "ipython3",
   "version": "3.11.8"
  }
 },
 "nbformat": 4,
 "nbformat_minor": 5
}
