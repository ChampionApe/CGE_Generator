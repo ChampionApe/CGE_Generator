{
 "cells": [
  {
   "cell_type": "code",
   "execution_count": 1,
   "id": "c982702d-d87a-4011-a34b-195905ae95ce",
   "metadata": {},
   "outputs": [],
   "source": [
    "clean_up = True # if True, remove all gams related files from working folder before starting\n",
    "%run stdPackages.ipynb"
   ]
  },
  {
   "cell_type": "markdown",
   "id": "18a10431-2e69-4d5b-99e7-2a61d0bed020",
   "metadata": {},
   "source": [
    "*Load specific modules used here:*"
   ]
  },
  {
   "cell_type": "code",
   "execution_count": 2,
   "id": "d6c28493-c72f-4bf8-a65f-8b3f993b795c",
   "metadata": {},
   "outputs": [],
   "source": [
    "os.chdir(main)\n",
    "%run stdPlotting.ipynb\n",
    "os.chdir(d['py'])\n",
    "import mHousehold\n",
    "from gmsPython import nestingTree\n",
    "from valueShares import nestedShares_noOutputs"
   ]
  },
  {
   "cell_type": "markdown",
   "id": "18e85b04-b80a-422e-b4b8-868b19fcaae6",
   "metadata": {},
   "source": [
    "# Consumption modules"
   ]
  },
  {
   "cell_type": "markdown",
   "id": "8673d696-c9c1-493a-857b-cccf679f71dd",
   "metadata": {},
   "source": [
    "*Load test data:*"
   ]
  },
  {
   "cell_type": "code",
   "execution_count": 3,
   "id": "3458447a-457a-424e-8f36-5e27d1852ef7",
   "metadata": {},
   "outputs": [],
   "source": [
    "t0 = 2019\n",
    "name = 'TestModelData' #\n",
    "db = GpyDB(os.path.join(d['data'], name), name = 'test', ws = d['work'])\n",
    "ws = db.ws"
   ]
  },
  {
   "cell_type": "markdown",
   "id": "2f8927d3-cf0a-40c8-80b6-2aab987e8bfd",
   "metadata": {},
   "source": [
    "Subset data to only include household sectors:"
   ]
  },
  {
   "cell_type": "code",
   "execution_count": 4,
   "id": "f28865e1-e69e-4f80-8351-9ed3ea6d4db3",
   "metadata": {},
   "outputs": [
    {
     "data": {
      "text/plain": [
       "<pyDatabases.gpyDB.gpyDB.GpyDB at 0x28eac4238d0>"
      ]
     },
     "execution_count": 4,
     "metadata": {},
     "output_type": "execute_result"
    }
   ],
   "source": [
    "AggDB.subsetDB(db, db('s_HH'))"
   ]
  },
  {
   "cell_type": "markdown",
   "id": "d716f39b-1c37-47ec-9619-204ab388c632",
   "metadata": {},
   "source": [
    "For variables that are defined over $t$, but where we do not yet have an initial value for all $t$, extrapolate from data:\n",
    "\n",
    "*Note: This forces extrapolation of all variables defined over $t$ - if it is important that some variables are not extrapolated, they should be removed from this statement.*"
   ]
  },
  {
   "cell_type": "code",
   "execution_count": 5,
   "id": "d350d948-447d-44ca-b2ac-a155f3163c37",
   "metadata": {},
   "outputs": [],
   "source": [
    "[symbol.__setattr__('vals', extrapolateUpper(symbol.vals, db('tE')[0])) for symbol in [db[k] for k in db.varDom('t')['t']]];"
   ]
  },
  {
   "cell_type": "markdown",
   "id": "9821c891-f258-4cd0-8260-9d602af74ece",
   "metadata": {},
   "source": [
    "## 1. ```StaticNCES```"
   ]
  },
  {
   "cell_type": "markdown",
   "id": "14f3559f-9495-4e0b-ae99-7c879d32d3f1",
   "metadata": {},
   "source": [
    "### 1.1. Default implementation"
   ]
  },
  {
   "cell_type": "code",
   "execution_count": 6,
   "id": "d0ba544d-9d18-4b48-846a-d7513fc06c41",
   "metadata": {},
   "outputs": [],
   "source": [
    "db_StaticNCES = db.copy()\n",
    "db_i = db_StaticNCES"
   ]
  },
  {
   "cell_type": "markdown",
   "id": "7e9c0bd1-e56c-4c69-bbdb-a4f4824c975b",
   "metadata": {},
   "source": [
    "*Set up nesting structure from nesting tree:*"
   ]
  },
  {
   "cell_type": "code",
   "execution_count": 7,
   "id": "feb30fbf-d784-44da-ba3c-7c0f76dcf213",
   "metadata": {},
   "outputs": [
    {
     "data": {
      "text/plain": [
       "<gmsPython.nestingTree.nestingTree.AggTree at 0x28eb1ff7810>"
      ]
     },
     "execution_count": 7,
     "metadata": {},
     "output_type": "execute_result"
    }
   ],
   "source": [
    "nest = nestingTree.Tree('C', tree = db_i('nestHH').to_list(), f = 'CES')\n",
    "nestAgg = nestingTree.AggTree(name = 'C', trees = {t.name: t for t in [nest]}, ws = ws)\n",
    "nestAgg(namespace = {str(n)+'_input':n for n in db('n')})"
   ]
  },
  {
   "cell_type": "markdown",
   "id": "b3d74f8c-6448-4771-9fc8-782e26b16396",
   "metadata": {},
   "source": [
    "*Get starting values for $\\mu$ using value shares:*"
   ]
  },
  {
   "cell_type": "code",
   "execution_count": 8,
   "id": "e508c1b0-3480-4adb-ad1b-bf6d66885975",
   "metadata": {},
   "outputs": [],
   "source": [
    "v = nestedShares_noOutputs(nestAgg, ws = ws)\n",
    "db_vs = v(db) # one-liner that returns solution database"
   ]
  },
  {
   "cell_type": "markdown",
   "id": "df8c2f13-1044-4563-ba80-b7491272d994",
   "metadata": {},
   "source": [
    "Use share parameters and values to get initial values for intermediates:"
   ]
  },
  {
   "cell_type": "code",
   "execution_count": 9,
   "id": "f72d8eb7-6ab9-4424-9508-393c3b027212",
   "metadata": {},
   "outputs": [],
   "source": [
    "db_i.aom(db_vs('mu').xs(t0), name = 'mu')\n",
    "db_i.aom(adj.rc_pd(db_vs('vD'), nestAgg.get('int').union(nestAgg.get('output'))).rename('qD'), name = 'qD', priority = 'first') # specify intermediate goods levels"
   ]
  },
  {
   "cell_type": "markdown",
   "id": "c7cf6d75-2f1e-4391-ba8e-57ccc188f06e",
   "metadata": {},
   "source": [
    "Initialize model instance:\n",
    "* ```self.taxInstr```: Can be lumpsum tax (```lumpSum```), input taxes (```tauD```), or labor taxes (```tauS```) . Specifies how total government transfers are targeted in calibration.\n",
    "* ```self.incInstr```: Can be $j$-term (```jTerm```) or initial assets (```vA0```).  Specifies how to ensure that law of motion for assets clears in initial period where all income streams are fixed. "
   ]
  },
  {
   "cell_type": "code",
   "execution_count": 10,
   "id": "73c34d39-9a33-48f3-bc1f-cbbac9af8edd",
   "metadata": {},
   "outputs": [],
   "source": [
    "m_StaticNCES = mHousehold.StaticNCES(nestAgg, L2C = db_i('L2C'), partial = True, properties = {'taxInstr': 'tauLump', 'incInstr': 'jTerm'}, initFromGms = 'init_vU')\n",
    "m_i = m_StaticNCES"
   ]
  },
  {
   "cell_type": "markdown",
   "id": "f07a0886-83d7-41c6-9aff-3060d3a53302",
   "metadata": {},
   "source": [
    "Add data and initialize other stuff with default options:"
   ]
  },
  {
   "cell_type": "code",
   "execution_count": 11,
   "id": "105a7c34-ccc0-4f5b-bac9-59adb5eee94b",
   "metadata": {},
   "outputs": [],
   "source": [
    "m_i.initStuff(db = db_i)"
   ]
  },
  {
   "cell_type": "markdown",
   "id": "c5132212-3801-4408-a56e-b9970f099c15",
   "metadata": {},
   "source": [
    "Set value of assets to zero (hand-to-mouth like behavior):"
   ]
  },
  {
   "cell_type": "code",
   "execution_count": 12,
   "id": "8dfb0f45-5746-451d-b196-ed54cc584718",
   "metadata": {},
   "outputs": [],
   "source": [
    "m_i.db['vA'] = m_i.db('vA')*0\n",
    "m_i.db.mergeInternal()"
   ]
  },
  {
   "cell_type": "markdown",
   "id": "52716580-1e69-43d2-9478-031b32b8dc7c",
   "metadata": {},
   "source": [
    "Solve calibration:"
   ]
  },
  {
   "cell_type": "code",
   "execution_count": 13,
   "id": "ed71aa4e-6d15-454a-a42b-f986395ae4b6",
   "metadata": {},
   "outputs": [],
   "source": [
    "solve_StaticNCES_Calib = m_i.solve(state = 'C')\n",
    "solve_i = solve_StaticNCES_Calib"
   ]
  },
  {
   "cell_type": "markdown",
   "id": "a891ae46-91d4-4c83-b240-8f6d2463bcb7",
   "metadata": {},
   "source": [
    "Add solution to main database, remove init methods (we want to use this solution as initial value):"
   ]
  },
  {
   "cell_type": "code",
   "execution_count": 14,
   "id": "dddc41d0-6d3a-4c0d-ba99-e28361c03a1f",
   "metadata": {},
   "outputs": [],
   "source": [
    "[m_i.db.__setitem__(k, solve_i[k]) for k in m_i.db.getTypes(['var']) if k in solve_i.symbols]; # use solution database\n",
    "m_i.db.mergeInternal()\n",
    "m_i.initFromGms = None # no longer use gams code to initialize variables"
   ]
  },
  {
   "cell_type": "markdown",
   "id": "3bc1a27d-c81b-498e-8e66-31785e7f2e6c",
   "metadata": {},
   "source": [
    "Test baseline state:"
   ]
  },
  {
   "cell_type": "code",
   "execution_count": 15,
   "id": "94755890-b138-454e-ba7e-3b1e233d7bc7",
   "metadata": {},
   "outputs": [],
   "source": [
    "solve_StaticNCES = m_i.solve(state = 'B') # solve baseline state\n",
    "solve_i = solve_StaticNCES"
   ]
  },
  {
   "cell_type": "markdown",
   "id": "90e45fc2-b82d-43ef-97e1-c6d228cfb297",
   "metadata": {},
   "source": [
    "## 2. ```StaticGHH```"
   ]
  },
  {
   "cell_type": "code",
   "execution_count": 16,
   "id": "8bb35bd2-0b24-4227-83a9-a8531bf681f0",
   "metadata": {},
   "outputs": [],
   "source": [
    "db_StaticGHH = db.copy()\n",
    "db_i = db_StaticGHH"
   ]
  },
  {
   "cell_type": "markdown",
   "id": "13203999-bd8d-42db-ba0b-21bd3ee9ac28",
   "metadata": {},
   "source": [
    "Initialize with the same nesting tree as above:"
   ]
  },
  {
   "cell_type": "code",
   "execution_count": 17,
   "id": "77114c1b-adaf-4dbf-a539-92c5ce2d8c12",
   "metadata": {},
   "outputs": [],
   "source": [
    "m_StaticGHH = mHousehold.StaticGHH(nestAgg, L2C = db_i('L2C'), partial = True, properties = {'taxInstr': 'tauLump', 'incInstr': 'jTerm'}, initFromGms = 'init_GHH_vU')\n",
    "m_i = m_StaticGHH"
   ]
  },
  {
   "cell_type": "markdown",
   "id": "8323669c-a692-41d9-b50d-331725b7a5a9",
   "metadata": {},
   "source": [
    "Add data and initialize other stuff with default options:"
   ]
  },
  {
   "cell_type": "code",
   "execution_count": 18,
   "id": "4737d38b-870e-4c76-9b73-328e9e7f5d65",
   "metadata": {},
   "outputs": [],
   "source": [
    "m_i.initStuff(db = db_i)"
   ]
  },
  {
   "cell_type": "markdown",
   "id": "9371c26d-e5c5-43aa-8aab-4b6c56f61074",
   "metadata": {},
   "source": [
    "Set value of assets to zero (hand-to-mouth like behavior):"
   ]
  },
  {
   "cell_type": "code",
   "execution_count": 19,
   "id": "8948667d-f1fa-4efe-bc90-87068d4ebe26",
   "metadata": {},
   "outputs": [],
   "source": [
    "m_i.db['vA'] = m_i.db('vA')*0\n",
    "m_i.db.mergeInternal()"
   ]
  },
  {
   "cell_type": "markdown",
   "id": "f403d438-5030-4fcd-b30f-cead6dc28b71",
   "metadata": {},
   "source": [
    "Solve calibration:"
   ]
  },
  {
   "cell_type": "code",
   "execution_count": 20,
   "id": "bae23375-694f-4961-8938-ac6fb495233b",
   "metadata": {},
   "outputs": [],
   "source": [
    "solve_StaticGHH_Calib = m_i.solve(state = 'C')\n",
    "solve_i = solve_StaticGHH_Calib"
   ]
  },
  {
   "cell_type": "markdown",
   "id": "d19e11a8-f99f-448b-96b1-8d26eb5e21ab",
   "metadata": {},
   "source": [
    "Add solution to main database, remove init methods (we want to use this solution as initial value):"
   ]
  },
  {
   "cell_type": "code",
   "execution_count": 21,
   "id": "034eb029-8028-4b45-89e0-ed0c0c7fddaa",
   "metadata": {},
   "outputs": [],
   "source": [
    "[m_i.db.__setitem__(k, solve_i[k]) for k in m_i.db.getTypes(['var']) if k in solve_i.symbols]; # use solution database\n",
    "m_i.db.mergeInternal()\n",
    "m_i.initFromGms = None # no longer use gams code to initialize variables"
   ]
  },
  {
   "cell_type": "markdown",
   "id": "b6d04c37-8804-43f2-9cd7-9a6f073122b0",
   "metadata": {},
   "source": [
    "Test baseline state:"
   ]
  },
  {
   "cell_type": "code",
   "execution_count": 22,
   "id": "8207222b-885d-4ccd-b6db-729c3edddb9e",
   "metadata": {},
   "outputs": [],
   "source": [
    "solve_StaticGHH = m_i.solve(state = 'B') # solve baseline state\n",
    "solve_i = solve_StaticGHH"
   ]
  },
  {
   "cell_type": "markdown",
   "id": "32375b27-0e0d-496a-aba5-b1d733b543df",
   "metadata": {},
   "source": [
    "## 3. ```Ramsey```"
   ]
  },
  {
   "cell_type": "code",
   "execution_count": 23,
   "id": "9d3a4c9d-d6e3-4d37-ba2c-9c403c6890b1",
   "metadata": {},
   "outputs": [],
   "source": [
    "db_Ramsey = db.copy()\n",
    "db_i = db_Ramsey"
   ]
  },
  {
   "cell_type": "markdown",
   "id": "ef2941d6-4998-43a2-899d-4442c89f5a18",
   "metadata": {},
   "source": [
    "Initialize model with same nesting tree as above:"
   ]
  },
  {
   "cell_type": "code",
   "execution_count": 24,
   "id": "216056e1-24b4-4bc1-9382-4b777089d986",
   "metadata": {},
   "outputs": [],
   "source": [
    "m_Ramsey = mHousehold.Ramsey(nestAgg, L2C = db_i('L2C'), partial = True, properties = {'taxInstr': 'tauLump', 'incInstr': 'jTerm0'}, initFromGms = 'init_vU')\n",
    "m_i = m_Ramsey"
   ]
  },
  {
   "cell_type": "markdown",
   "id": "b6d19100-afc2-45a0-bd5a-6fc2ce8496e4",
   "metadata": {},
   "source": [
    "Add data and initialize other stuff with default options:"
   ]
  },
  {
   "cell_type": "code",
   "execution_count": 25,
   "id": "ea082559-be6d-40b8-bdf5-50dfd6461184",
   "metadata": {},
   "outputs": [],
   "source": [
    "m_i.initStuff(db = db_i)"
   ]
  },
  {
   "cell_type": "markdown",
   "id": "a01d0457-7611-4103-b21b-00b07d8841a5",
   "metadata": {},
   "source": [
    "Set value of assets to some zero again for funsies:"
   ]
  },
  {
   "cell_type": "code",
   "execution_count": 26,
   "id": "249f1f7a-330d-463f-afb5-ec1d23760533",
   "metadata": {},
   "outputs": [],
   "source": [
    "m_i.db['vA'] = m_i.db('vA')*0\n",
    "m_i.db.mergeInternal()"
   ]
  },
  {
   "cell_type": "markdown",
   "id": "9ecd7ed1-4d03-49d7-843e-16fa22094805",
   "metadata": {},
   "source": [
    "Solve calibration:"
   ]
  },
  {
   "cell_type": "code",
   "execution_count": 27,
   "id": "258016db-5caa-4aa5-98b1-6fc77a2aab4f",
   "metadata": {},
   "outputs": [],
   "source": [
    "solve_Ramsey_Calib = m_i.jSolve(10, state = 'C')\n",
    "solve_i = solve_Ramsey_Calib"
   ]
  },
  {
   "cell_type": "markdown",
   "id": "7a121382-738a-48bb-b011-f4cc3544af55",
   "metadata": {},
   "source": [
    "Add solution to main database, remove init methods (we want to use this solution as initial value):"
   ]
  },
  {
   "cell_type": "code",
   "execution_count": 28,
   "id": "f6918734-1927-4b1a-b14e-4e5e38dab2d9",
   "metadata": {},
   "outputs": [],
   "source": [
    "[m_i.db.__setitem__(k, solve_i[k]) for k in m_i.db.getTypes(['var']) if k in solve_i.symbols]; # use solution database\n",
    "m_i.db.mergeInternal()\n",
    "m_i.initFromGms = None # no longer use gams code to initialize variables"
   ]
  },
  {
   "cell_type": "markdown",
   "id": "73b3d457-04f5-4dbe-ad9d-5ea2d322f55c",
   "metadata": {},
   "source": [
    "Test baseline state:"
   ]
  },
  {
   "cell_type": "code",
   "execution_count": 29,
   "id": "46d55dfc-99fa-4540-8300-020c2c3c1305",
   "metadata": {},
   "outputs": [],
   "source": [
    "solve_RamseyGHH = m_i.solve(state = 'B') # solve baseline state\n",
    "solve_i = solve_RamseyGHH"
   ]
  },
  {
   "cell_type": "markdown",
   "id": "477ec170-bab0-40b7-9d5d-9e277fa04723",
   "metadata": {},
   "source": [
    "## 4. ```RamseyGHH```"
   ]
  },
  {
   "cell_type": "code",
   "execution_count": 30,
   "id": "4879a702-2769-4ed4-9220-d5ad7d474de5",
   "metadata": {},
   "outputs": [],
   "source": [
    "db_RamseyGHH = db.copy()\n",
    "db_i = db_RamseyGHH"
   ]
  },
  {
   "cell_type": "markdown",
   "id": "0bb6f71b-13ff-4b00-83b8-c710736e22d1",
   "metadata": {},
   "source": [
    "Initialize model with same nesting tree as above:"
   ]
  },
  {
   "cell_type": "code",
   "execution_count": 31,
   "id": "499c2f28-5651-4983-8c86-a3f4a3542159",
   "metadata": {},
   "outputs": [],
   "source": [
    "m_RamseyGHH = mHousehold.RamseyGHH(nestAgg, L2C = db_i('L2C'), partial = True, properties = {'taxInstr': 'tauLump', 'incInstr': 'jTerm0'}, initFromGms = 'init_GHH_vU')\n",
    "m_i = m_RamseyGHH"
   ]
  },
  {
   "cell_type": "markdown",
   "id": "16d3a2f5-5c6f-444b-ac4e-609de35756d6",
   "metadata": {},
   "source": [
    "Add data and initialize other stuff with default options:"
   ]
  },
  {
   "cell_type": "code",
   "execution_count": 32,
   "id": "fc92d3cc-211b-4e9c-bdd6-f799b0244fa7",
   "metadata": {},
   "outputs": [],
   "source": [
    "m_i.initStuff(db = db_i)"
   ]
  },
  {
   "cell_type": "markdown",
   "id": "5a141653-54a7-4e4c-b8f6-f7901adeb0e1",
   "metadata": {},
   "source": [
    "Set value of assets to some zero again for funsies:"
   ]
  },
  {
   "cell_type": "code",
   "execution_count": 33,
   "id": "29aef732-8855-4740-991a-76096077a239",
   "metadata": {},
   "outputs": [],
   "source": [
    "m_i.db['vA'] = m_i.db('vA')*0\n",
    "m_i.db.mergeInternal()"
   ]
  },
  {
   "cell_type": "markdown",
   "id": "1de327c5-8830-4cae-90b5-2c7a946627a0",
   "metadata": {},
   "source": [
    "Solve calibration:"
   ]
  },
  {
   "cell_type": "code",
   "execution_count": 34,
   "id": "a54dd6c7-9dc0-4d66-b0d1-11b3f0d06cd6",
   "metadata": {},
   "outputs": [],
   "source": [
    "solve_RamseyGHH_Calib = m_i.jSolve(10, state = 'C')\n",
    "solve_i = solve_RamseyGHH_Calib"
   ]
  },
  {
   "cell_type": "markdown",
   "id": "5f5885a3-2b10-461a-80e7-cd02fd8de3c1",
   "metadata": {},
   "source": [
    "Add solution to main database, remove init methods (we want to use this solution as initial value):"
   ]
  },
  {
   "cell_type": "code",
   "execution_count": 35,
   "id": "59dc2d30-e08d-4e84-9117-976400343002",
   "metadata": {},
   "outputs": [],
   "source": [
    "[m_i.db.__setitem__(k, solve_i[k]) for k in m_i.db.getTypes(['var']) if k in solve_i.symbols]; # use solution database\n",
    "m_i.db.mergeInternal()\n",
    "m_i.initFromGms = None # no longer use gams code to initialize variables"
   ]
  },
  {
   "cell_type": "markdown",
   "id": "a4607cc6-45f0-4a47-806d-199f97518143",
   "metadata": {},
   "source": [
    "Test baseline state:"
   ]
  },
  {
   "cell_type": "code",
   "execution_count": 36,
   "id": "65e1738e-95a9-4e77-b806-6c4079e95ba3",
   "metadata": {},
   "outputs": [],
   "source": [
    "solve_RamseyGHH = m_i.solve(state = 'B') # solve baseline state\n",
    "solve_i = solve_RamseyGHH"
   ]
  },
  {
   "cell_type": "markdown",
   "id": "69d07e39-1921-46bf-8d3f-c89a7f07f9ab",
   "metadata": {},
   "source": [
    "## 5. ```RamseyIdxFund```"
   ]
  },
  {
   "cell_type": "markdown",
   "id": "8bc3d4b3-ced1-43d6-a003-af0f035658da",
   "metadata": {},
   "source": [
    "### 5.1 With Ramsey parent class"
   ]
  },
  {
   "cell_type": "code",
   "execution_count": 37,
   "id": "a23c66ac-32a9-4bf6-a46d-5780b4996211",
   "metadata": {},
   "outputs": [],
   "source": [
    "db_RamseyIdxFund = db.copy()\n",
    "db_i = db_RamseyIdxFund"
   ]
  },
  {
   "cell_type": "markdown",
   "id": "093c7d55-8f48-4a19-944e-00fdf1204022",
   "metadata": {},
   "source": [
    "Initialize model with same nesting tree as above:"
   ]
  },
  {
   "cell_type": "code",
   "execution_count": 38,
   "id": "2d4e8a0b-2d5f-4ee4-82f6-f7b2f16c66f6",
   "metadata": {},
   "outputs": [],
   "source": [
    "m_RamseyIdxFund = mHousehold.RamseyIdxFund(nestAgg, parent = 'Ramsey', L2C = db_i('L2C'), partial = True, properties = {'taxInstr': 'tauLump', 'incInstr': 'jTerm0'}, initFromGms = 'init_vU')\n",
    "m_i = m_RamseyIdxFund"
   ]
  },
  {
   "cell_type": "markdown",
   "id": "60bc7c91-3350-4a19-88d5-8a07783018da",
   "metadata": {},
   "source": [
    "Add data and initialize other stuff with default options:"
   ]
  },
  {
   "cell_type": "code",
   "execution_count": 39,
   "id": "5f144fa3-acb0-49a3-81f9-9b2ea1b55fd5",
   "metadata": {},
   "outputs": [],
   "source": [
    "m_i.initStuff(db = db_i)"
   ]
  },
  {
   "cell_type": "markdown",
   "id": "41fa98c2-e5b9-42d1-85e3-07686dc5a851",
   "metadata": {},
   "source": [
    "Set value of assets to some zero again for funsies:"
   ]
  },
  {
   "cell_type": "code",
   "execution_count": 40,
   "id": "adfa7277-b8ec-492d-8af1-882d11056c53",
   "metadata": {},
   "outputs": [],
   "source": [
    "m_i.db['vA'] = m_i.db('vA')*0\n",
    "m_i.db.mergeInternal()"
   ]
  },
  {
   "cell_type": "markdown",
   "id": "155ced53-64cc-4cd8-886e-3ada5af3a5cf",
   "metadata": {},
   "source": [
    "Solve calibration:"
   ]
  },
  {
   "cell_type": "code",
   "execution_count": 41,
   "id": "c251a818-2fd9-49e0-b6a0-ec6a9ee03a91",
   "metadata": {},
   "outputs": [],
   "source": [
    "solve_RamseyIdxFund = m_i.jSolve(10, state = 'C')\n",
    "solve_i = solve_RamseyIdxFund"
   ]
  },
  {
   "cell_type": "markdown",
   "id": "b3b9c964-866d-41f5-8d9c-66579c285384",
   "metadata": {},
   "source": [
    "Add solution to main database, remove init methods (we want to use this solution as initial value):"
   ]
  },
  {
   "cell_type": "code",
   "execution_count": 42,
   "id": "d517d06b-18be-490e-a497-eed6c54fa92f",
   "metadata": {},
   "outputs": [],
   "source": [
    "[m_i.db.__setitem__(k, solve_i[k]) for k in m_i.db.getTypes(['var']) if k in solve_i.symbols]; # use solution database\n",
    "m_i.db.mergeInternal()\n",
    "m_i.initFromGms = None # no longer use gams code to initialize variables"
   ]
  },
  {
   "cell_type": "markdown",
   "id": "6fd1849f-a61b-4af3-9eef-677b7f62af35",
   "metadata": {},
   "source": [
    "Test baseline state:"
   ]
  },
  {
   "cell_type": "code",
   "execution_count": 43,
   "id": "7086fb27-4b9b-44c1-9a05-548579674cea",
   "metadata": {},
   "outputs": [],
   "source": [
    "solve_RamseyIdxFund = m_i.solve(state = 'B') # solve baseline state\n",
    "solve_i = solve_RamseyIdxFund"
   ]
  },
  {
   "cell_type": "markdown",
   "id": "a3b76a6c-ec05-4ba3-8fd4-f3c3f7c376a9",
   "metadata": {},
   "source": [
    "### 5.2 With RamseyGHH parent class"
   ]
  },
  {
   "cell_type": "code",
   "execution_count": 44,
   "id": "6e6bb2d5-e7dc-4211-8c3b-fbb3c954abb2",
   "metadata": {},
   "outputs": [],
   "source": [
    "db_RamseyIdxFundGHH = db.copy()\n",
    "db_i = db_RamseyIdxFundGHH"
   ]
  },
  {
   "cell_type": "markdown",
   "id": "1785d971-27e6-4dc8-8734-e01940ae78b1",
   "metadata": {},
   "source": [
    "Initialize model with same nesting tree as above:"
   ]
  },
  {
   "cell_type": "code",
   "execution_count": 46,
   "id": "52469691-6bc3-449b-88b1-1e9c46e39345",
   "metadata": {},
   "outputs": [],
   "source": [
    "m_RamseyIdxFundGHH = mHousehold.RamseyIdxFund(nestAgg, parent = 'RamseyGHH', L2C = db_i('L2C'), partial = True, properties = {'taxInstr': 'tauLump', 'incInstr': 'jTerm0'}, initFromGms = 'init_GHH_vU')\n",
    "m_i = m_RamseyIdxFundGHH"
   ]
  },
  {
   "cell_type": "markdown",
   "id": "e67fd609-564d-416d-8903-bc1c541103b8",
   "metadata": {},
   "source": [
    "Add data and initialize other stuff with default options:"
   ]
  },
  {
   "cell_type": "code",
   "execution_count": 47,
   "id": "e5b414b0-848a-4334-a41d-a4a7f37199b4",
   "metadata": {},
   "outputs": [],
   "source": [
    "m_i.initStuff(db = db_i)"
   ]
  },
  {
   "cell_type": "markdown",
   "id": "ec9056b3-f83f-442d-9765-fa1512f3c368",
   "metadata": {},
   "source": [
    "Set value of assets to some zero again for funsies:"
   ]
  },
  {
   "cell_type": "code",
   "execution_count": 48,
   "id": "e9bc6fa6-ce84-4811-8617-1c26dcadef48",
   "metadata": {},
   "outputs": [],
   "source": [
    "m_i.db['vA'] = m_i.db('vA')*0\n",
    "m_i.db.mergeInternal()"
   ]
  },
  {
   "cell_type": "markdown",
   "id": "b75f3136-bc20-4a60-a438-d7dfe0c1d681",
   "metadata": {},
   "source": [
    "Solve calibration:"
   ]
  },
  {
   "cell_type": "code",
   "execution_count": 49,
   "id": "7cbf764b-82a0-4c90-9ab1-ee716bf3dd1a",
   "metadata": {},
   "outputs": [],
   "source": [
    "solve_RamseyIdxFundGHH = m_i.jSolve(10, state = 'C')\n",
    "solve_i = solve_RamseyIdxFundGHH"
   ]
  },
  {
   "cell_type": "markdown",
   "id": "bcec2cea-d72a-44a8-8ac6-498b128dbaed",
   "metadata": {},
   "source": [
    "Add solution to main database, remove init methods (we want to use this solution as initial value):"
   ]
  },
  {
   "cell_type": "code",
   "execution_count": 50,
   "id": "45e927ed-29b3-4a2f-8b17-5fc19df278cf",
   "metadata": {},
   "outputs": [],
   "source": [
    "[m_i.db.__setitem__(k, solve_i[k]) for k in m_i.db.getTypes(['var']) if k in solve_i.symbols]; # use solution database\n",
    "m_i.db.mergeInternal()\n",
    "m_i.initFromGms = None # no longer use gams code to initialize variables"
   ]
  },
  {
   "cell_type": "markdown",
   "id": "7f8646ac-e5e8-4eb2-a60c-5d736c5a711c",
   "metadata": {},
   "source": [
    "Test baseline state:"
   ]
  },
  {
   "cell_type": "code",
   "execution_count": 51,
   "id": "a54b90fa-1793-43ba-942e-ed3925b913fa",
   "metadata": {},
   "outputs": [],
   "source": [
    "solve_RamseyIdxFundGHH = m_i.solve(state = 'B') # solve baseline state\n",
    "solve_i = solve_RamseyIdxFundGHH"
   ]
  }
 ],
 "metadata": {
  "kernelspec": {
   "display_name": "Python 3 (ipykernel)",
   "language": "python",
   "name": "python3"
  },
  "language_info": {
   "codemirror_mode": {
    "name": "ipython",
    "version": 3
   },
   "file_extension": ".py",
   "mimetype": "text/x-python",
   "name": "python",
   "nbconvert_exporter": "python",
   "pygments_lexer": "ipython3",
   "version": "3.11.8"
  }
 },
 "nbformat": 4,
 "nbformat_minor": 5
}
