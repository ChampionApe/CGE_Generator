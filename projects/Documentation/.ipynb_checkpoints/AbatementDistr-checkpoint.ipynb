{
 "cells": [
  {
   "cell_type": "code",
   "execution_count": 1,
   "id": "523e5ae3-1ed0-48d2-986a-8fcfb33de759",
   "metadata": {},
   "outputs": [
    {
     "name": "stdout",
     "output_type": "stream",
     "text": [
      "No clean-up of work-folder\n"
     ]
    }
   ],
   "source": [
    "%run stdPackages.ipynb\n",
    "os.chdir(main)\n",
    "%run stdPlotting.ipynb"
   ]
  },
  {
   "cell_type": "markdown",
   "id": "cfbea1f3-c9fa-466f-bdfd-b778ece02e42",
   "metadata": {},
   "source": [
    "## Testing demand/supply functions for technology module:"
   ]
  },
  {
   "cell_type": "markdown",
   "id": "f43f6596-f39a-4bab-802a-e066ab1f4f08",
   "metadata": {},
   "source": [
    "*Inputs: The price vector is length T.*"
   ]
  },
  {
   "cell_type": "code",
   "execution_count": 19,
   "id": "4e4de20c-06da-4efe-bc57-035263901519",
   "metadata": {},
   "outputs": [],
   "source": [
    "t = pd.Index(range(100), name = 't')\n",
    "p0 = pd.Series(0.08, index = t)\n",
    "c0 = pd.Series(100, index = t)\n",
    "τu = 500\n",
    "u = τu/c0\n",
    "β = 1/(u-1)"
   ]
  },
  {
   "cell_type": "code",
   "execution_count": 29,
   "id": "975f5de3-6669-4f2b-90ab-772160160559",
   "metadata": {},
   "outputs": [],
   "source": [
    "def h(x, β, u):\n",
    "    return β*x**(β-1)/(u**β)\n",
    "def H(x, β, u):\n",
    "    return (x/u)**β\n",
    "def HCost(x, β, u):\n",
    "    return (β/(1+β))*x**(β+1)/(u**β)"
   ]
  },
  {
   "cell_type": "markdown",
   "id": "aa4a8999-9cbe-4198-93b9-a1e06415cf60",
   "metadata": {},
   "source": [
    "Check it out:"
   ]
  },
  {
   "cell_type": "code",
   "execution_count": 39,
   "id": "995f03a1-15b8-4a60-ab1e-20744cd92597",
   "metadata": {},
   "outputs": [],
   "source": [
    "x = np.linspace(0, u[0], 101)\n",
    "uAbateC = HCost(x, β[0], u[0])\n",
    "uAbate = H(x, β[0], u[0])"
   ]
  },
  {
   "cell_type": "markdown",
   "id": "d4bbe86f-350c-43d5-8df8-b9eccbf39aa6",
   "metadata": {},
   "source": [
    "### Truncated normal at zero"
   ]
  },
  {
   "cell_type": "markdown",
   "id": "24b97555-4067-47e1-b3a8-61c59708e549",
   "metadata": {},
   "source": []
  },
  {
   "cell_type": "markdown",
   "id": "bcd2efbf-a7a8-4f87-980f-b5dc40d9db33",
   "metadata": {},
   "source": [
    "## Custom made distributions"
   ]
  },
  {
   "cell_type": "markdown",
   "id": "80dfb329-cca9-4392-ba75-15bb9ffb6d60",
   "metadata": {},
   "source": [
    "Specify parameters:"
   ]
  },
  {
   "cell_type": "code",
   "execution_count": 2,
   "id": "e7ea4d82-1134-4dc4-b520-de381b51bfc9",
   "metadata": {},
   "outputs": [],
   "source": [
    "c = 45\n",
    "u = 100\n",
    "α3 = 1\n",
    "α4 = .75"
   ]
  },
  {
   "cell_type": "markdown",
   "id": "05495be3-7299-4e8d-95c6-e805e9021900",
   "metadata": {},
   "source": [
    "Define native functions:"
   ]
  },
  {
   "cell_type": "code",
   "execution_count": 3,
   "id": "e616f399-fcd9-4079-928d-73d471be01f3",
   "metadata": {},
   "outputs": [],
   "source": [
    "def f_α2(c):\n",
    "    return 2*c\n",
    "def f_α1(u,c,α3):\n",
    "    return (2*(u-c)/α3)**(2*α4)\n",
    "def f_kl(α2, α3, α4, ku):\n",
    "    return ku*(α3/(2*(2*α4+1)))*(α2/α3)**(2*α4+1)\n",
    "def f_ku(u,c,α1,α2, α3, α4):\n",
    "    return 1/((α3/(2*(2*α4+1)))*(α2/α3)**(2*α4+1)+α1*u-(α3/(2*(2*α4+1)))*(2*(u-c)/α3)**(2*α4+1))\n",
    "def getParams(c,u,α3, α4):\n",
    "    α2 = f_α2(c)\n",
    "    α1 = f_α1(u,c,α3)\n",
    "    ku = f_ku(u,c, α1, α2, α3, α4)\n",
    "    kl = f_kl(α2, α3, α4, ku)\n",
    "    return α1, α2, kl, ku\n",
    "def f(x, ku, α1, α2, α3, α4):\n",
    "    return ku*(α1-(((2*x-α2)/α3)**2)**(α4))\n",
    "def F(x, kl, ku, α1, α2, α3, α4):\n",
    "    return kl+ku*(α1*x-((α3/(2*(2*α4+1)))*(((2*x-α2)/α3)**2)**(α4+1/2)))"
   ]
  },
  {
   "cell_type": "code",
   "execution_count": 4,
   "id": "d2d79e86-c590-44fa-9b43-b229cccf1135",
   "metadata": {},
   "outputs": [],
   "source": [
    "def getParams(c,u,α3, α4):\n",
    "    α2 = f_α2(c)\n",
    "    α1 = f_α1(u,c,α3)\n",
    "    ku = f_ku(u,c, α1, α2, α3, α4)\n",
    "    kl = f_kl(α2, α3, α4, ku)\n",
    "    return α1, α2, kl, ku\n",
    "def f(x, ku, α1, α2, α3, α4):\n",
    "    return ku*(α1-(((2*x-α2)/α3)**2)**(α4))\n",
    "def F(x, kl, ku, α1, α2, α3, α4):\n",
    "    return kl+ku*(α1*x-((α3/(2*(2*α4+1)))*(((2*x-α2)/α3)**2)**(α4+1/2)))\n",
    "def ExpVal(c,u,ku,α1,α2,α3, α4):\n",
    "    return α1*ku*u**2/2+α3*ku*(α2/(8*(α4+1)*(2*α4+1)))*(α2/α3)**(2*α4+1)-α3*ku*((α2+4*α4*u+2*u)/(8*(α4+1)*(2*α4+1)))*((2*u-α2)/α3)**(2*α4+1)"
   ]
  },
  {
   "cell_type": "code",
   "execution_count": 5,
   "id": "aa1a7093-9eb9-46f2-b016-dbe22557c975",
   "metadata": {},
   "outputs": [
    {
     "data": {
      "text/plain": [
       "(146410000.0, 90, 0.04335150627928387, 7.341615654673893e-11)"
      ]
     },
     "execution_count": 5,
     "metadata": {},
     "output_type": "execute_result"
    }
   ],
   "source": [
    "α4 = 2\n",
    "α1, α2, kl, ku = getParams(c,u,α3, α4)\n",
    "α1, α2, kl, ku"
   ]
  },
  {
   "cell_type": "code",
   "execution_count": 6,
   "id": "c66339b9-5abe-46ce-b272-5b38b6ee11ec",
   "metadata": {},
   "outputs": [
    {
     "data": {
      "text/plain": [
       "43.32953160002682"
      ]
     },
     "execution_count": 6,
     "metadata": {},
     "output_type": "execute_result"
    }
   ],
   "source": [
    "ExpVal(c,u,ku,α1,α2,α3,α4)"
   ]
  },
  {
   "cell_type": "code",
   "execution_count": 7,
   "id": "40706474-e829-4d94-94f9-6ba0fd50e8ed",
   "metadata": {},
   "outputs": [
    {
     "data": {
      "text/plain": [
       "<Axes: >"
      ]
     },
     "execution_count": 7,
     "metadata": {},
     "output_type": "execute_result"
    },
    {
     "data": {
      "image/png": "[encoded data removed]",
      "text/plain": [
       "<Figure size 800x550 with 1 Axes>"
      ]
     },
     "metadata": {},
     "output_type": "display_data"
    }
   ],
   "source": [
    "x = np.linspace(0, 100, 101)\n",
    "pd.Series(f(x, ku,α1, α2, α3, α4), index = x).plot()"
   ]
  },
  {
   "cell_type": "code",
   "execution_count": 8,
   "id": "43fc0884-97c6-4e19-9e9c-837621393534",
   "metadata": {},
   "outputs": [
    {
     "data": {
      "text/plain": [
       "<Axes: >"
      ]
     },
     "execution_count": 8,
     "metadata": {},
     "output_type": "execute_result"
    },
    {
     "data": {
      "image/png": "[encoded data removed]",
      "text/plain": [
       "<Figure size 800x550 with 1 Axes>"
      ]
     },
     "metadata": {},
     "output_type": "display_data"
    }
   ],
   "source": [
    "pd.Series(F(x, kl, ku,α1, α2, α3, α4)).plot()"
   ]
  }
 ],
 "metadata": {
  "kernelspec": {
   "display_name": "Python 3 (ipykernel)",
   "language": "python",
   "name": "python3"
  },
  "language_info": {
   "codemirror_mode": {
    "name": "ipython",
    "version": 3
   },
   "file_extension": ".py",
   "mimetype": "text/x-python",
   "name": "python",
   "nbconvert_exporter": "python",
   "pygments_lexer": "ipython3",
   "version": "3.11.8"
  }
 },
 "nbformat": 4,
 "nbformat_minor": 5
}
